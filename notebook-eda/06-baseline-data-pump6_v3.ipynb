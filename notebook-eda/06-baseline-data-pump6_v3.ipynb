{
 "cells": [
  {
   "cell_type": "markdown",
   "metadata": {},
   "source": [
    "# Baselining Pressure Data: Pump 6"
   ]
  },
  {
   "cell_type": "markdown",
   "metadata": {},
   "source": [
    "## 1. Import required libraries"
   ]
  },
  {
   "cell_type": "code",
   "execution_count": 1,
   "metadata": {},
   "outputs": [],
   "source": [
    "%load_ext skip_kernel_extension"
   ]
  },
  {
   "cell_type": "code",
   "execution_count": 2,
   "metadata": {},
   "outputs": [
    {
     "data": {
      "text/html": [
       "        <script type=\"text/javascript\">\n",
       "        window.PlotlyConfig = {MathJaxConfig: 'local'};\n",
       "        if (window.MathJax) {MathJax.Hub.Config({SVG: {font: \"STIX-Web\"}});}\n",
       "        if (typeof require !== 'undefined') {\n",
       "        require.undef(\"plotly\");\n",
       "        requirejs.config({\n",
       "            paths: {\n",
       "                'plotly': ['https://cdn.plot.ly/plotly-latest.min']\n",
       "            }\n",
       "        });\n",
       "        require(['plotly'], function(Plotly) {\n",
       "            window._Plotly = Plotly;\n",
       "        });\n",
       "        }\n",
       "        </script>\n",
       "        "
      ]
     },
     "metadata": {},
     "output_type": "display_data"
    },
    {
     "data": {
      "text/html": [
       "        <script type=\"text/javascript\">\n",
       "        window.PlotlyConfig = {MathJaxConfig: 'local'};\n",
       "        if (window.MathJax) {MathJax.Hub.Config({SVG: {font: \"STIX-Web\"}});}\n",
       "        if (typeof require !== 'undefined') {\n",
       "        require.undef(\"plotly\");\n",
       "        requirejs.config({\n",
       "            paths: {\n",
       "                'plotly': ['https://cdn.plot.ly/plotly-latest.min']\n",
       "            }\n",
       "        });\n",
       "        require(['plotly'], function(Plotly) {\n",
       "            window._Plotly = Plotly;\n",
       "        });\n",
       "        }\n",
       "        </script>\n",
       "        "
      ]
     },
     "metadata": {},
     "output_type": "display_data"
    }
   ],
   "source": [
    "import pandas as pd, numpy as np\n",
    "import os, requests, datetime\n",
    "import plotly.express as px\n",
    "from plotly.offline import init_notebook_mode\n",
    "import plotly.io as pio\n",
    "init_notebook_mode(connected = True)\n",
    "pio.templates.default = \"simple_white\"\n",
    "\n",
    "from fn_data_ops_v3 import *"
   ]
  },
  {
   "cell_type": "markdown",
   "metadata": {},
   "source": [
    "## Inputs \n",
    "\n",
    "**Provide required inputs below-**"
   ]
  },
  {
   "cell_type": "markdown",
   "metadata": {},
   "source": [
    "`skip_baseline_save == False` <font color='red'>*>> To save baseline data to DB.</font> <br>\n",
    "`skip_baseline_save == True` <font color='red'>*>> To run the notebook for baseline week selection.</font>"
   ]
  },
  {
   "cell_type": "code",
   "execution_count": 3,
   "metadata": {},
   "outputs": [],
   "source": [
    "skip_baseline_save = False  # To skip baseline save, set it as True"
   ]
  },
  {
   "cell_type": "code",
   "execution_count": 4,
   "metadata": {},
   "outputs": [],
   "source": [
    "data_folder =  \"..\\Data\\\\Pressure-Data\\\\Pump6\\\\\"                        # Pressure data folder name\n",
    "asset_name = 'g-pump-6'                                                 # Asset Name\n",
    "asset_id = fn_get_asset_id(asset_name)                                  # Asset Id\n",
    "datestring_column_name = \"DateString\"                                   # Date column name in the data\n",
    "\n",
    "sensor_type = \"pressure\"                                                \n",
    "HOUSE_PRESSURE = \"HousePressure\"\n",
    "INLET_PRESSURE = \"InletPressure\"\n",
    "OUTLET_PRESSURE = \"OutletPressure\"\n",
    "measurement_type_housing = 'housing'\n",
    "measurement_type_inlet = 'inlet'\n",
    "measurement_type_outlet = 'outlet'"
   ]
  },
  {
   "cell_type": "code",
   "execution_count": 5,
   "metadata": {},
   "outputs": [],
   "source": [
    "# Azure API details \n",
    "dict_api = {'hourly_data_api': 'https://hpp-cm-npd-aps-001.azurewebsites.net/AssetHourlyData/',\n",
    "            'baseline_data_api' : 'https://hpp-cm-npd-aps-001.azurewebsites.net/AssetBaseline/'}"
   ]
  },
  {
   "cell_type": "code",
   "execution_count": 6,
   "metadata": {},
   "outputs": [
    {
     "name": "stdout",
     "output_type": "stream",
     "text": [
      "Hourly data filename:  aid-g-pump-6-azure-hourly-data.csv\n",
      "Baseline data filename:  aid-g-pump-6-azure-baseline-data.csv\n",
      "\n",
      "Current Working Directory:  C:\\Users\\kumar_mano\\OneDrive - HCL Technologies Ltd\\Projects\\Danfoss\\Dan-WD\\save_to_api\n"
     ]
    }
   ],
   "source": [
    "hourly_data_filename = \"{}-azure-hourly-data.csv\".format(asset_id)      # filename for hourly data\n",
    "baseline_data_filename = \"{}-azure-baseline-data.csv\".format(asset_id)  # filename for baselining data\n",
    "print('Hourly data filename: ',hourly_data_filename)                    \n",
    "print('Baseline data filename: ', baseline_data_filename)    \n",
    "print('\\nCurrent Working Directory: ', os.getcwd())"
   ]
  },
  {
   "cell_type": "markdown",
   "metadata": {},
   "source": [
    "**Pressure file names:**"
   ]
  },
  {
   "cell_type": "code",
   "execution_count": 7,
   "metadata": {},
   "outputs": [
    {
     "name": "stdout",
     "output_type": "stream",
     "text": [
      "..\\Data\\Pressure-Data\\Pump6\\OutletPressure.csv\n",
      "..\\Data\\Pressure-Data\\Pump6\\InletPressure.csv\n",
      "..\\Data\\Pressure-Data\\Pump6\\HousePressure.csv\n"
     ]
    }
   ],
   "source": [
    "for file_ in [OUTLET_PRESSURE, INLET_PRESSURE, HOUSE_PRESSURE]:\n",
    "    print(get_file_path(data_folder, file_))"
   ]
  },
  {
   "cell_type": "markdown",
   "metadata": {},
   "source": [
    "# Baselining Activity"
   ]
  },
  {
   "cell_type": "markdown",
   "metadata": {},
   "source": [
    "### Processing Hourly Data for Baselining Activity\n",
    "* Following dataset should be obtained from an API call"
   ]
  },
  {
   "cell_type": "markdown",
   "metadata": {},
   "source": [
    "### Get Hourly processed data \n",
    "* 3 Data Frames for Outlet, Housing and Inlet pressure each."
   ]
  },
  {
   "cell_type": "code",
   "execution_count": 8,
   "metadata": {},
   "outputs": [],
   "source": [
    "df_hourly_outletpressure_azure = get_hourly_data_for_azure(get_file_path(data_folder, OUTLET_PRESSURE), asset_id, asset_name, OUTLET_PRESSURE, measurement_type_outlet, datestring_column_name, sensor_type)\n",
    "df_hourly_inletpressure_azure = get_hourly_data_for_azure(get_file_path(data_folder, INLET_PRESSURE), asset_id, asset_name,  INLET_PRESSURE, measurement_type_inlet, datestring_column_name, sensor_type)\n",
    "df_hourly_housepressure_azure = get_hourly_data_for_azure(get_file_path(data_folder, HOUSE_PRESSURE),asset_id, asset_name,  HOUSE_PRESSURE, measurement_type_housing, datestring_column_name, sensor_type)"
   ]
  },
  {
   "cell_type": "code",
   "execution_count": 9,
   "metadata": {},
   "outputs": [],
   "source": [
    "# df_pump_azure_data = df_hourly_housepressure_azure.append(df_hourly_inletpressure_azure).append(df_hourly_outletpressure_azure)\n",
    "# df_pump_azure_data.reset_index(drop=True, inplace=True)\n",
    "# df_pump_azure_data.to_csv(hourly_data_filename, index = False)\n",
    "# df_pump_azure_data.head()\n",
    "# #df_pump4_azure_data.dtypes"
   ]
  },
  {
   "cell_type": "markdown",
   "metadata": {},
   "source": [
    "### Filter the Outliers in the Data"
   ]
  },
  {
   "cell_type": "markdown",
   "metadata": {},
   "source": [
    "##### Remove negative values from hourly pressure data for baselining"
   ]
  },
  {
   "cell_type": "code",
   "execution_count": 10,
   "metadata": {},
   "outputs": [
    {
     "name": "stdout",
     "output_type": "stream",
     "text": [
      "(2766, 9) (2766, 9) (2766, 9)\n",
      "(2766, 9) (2766, 9) (2766, 9)\n"
     ]
    }
   ],
   "source": [
    "print(df_hourly_outletpressure_azure.shape, df_hourly_inletpressure_azure.shape, df_hourly_housepressure_azure.shape)\n",
    "df_hourly_outletpressure_azure = fn_remove_negative_values(df_= df_hourly_outletpressure_azure)\n",
    "df_hourly_inletpressure_azure = fn_remove_negative_values(df_= df_hourly_inletpressure_azure)\n",
    "df_hourly_housepressure_azure = fn_remove_negative_values(df_= df_hourly_housepressure_azure)\n",
    "print(df_hourly_outletpressure_azure.shape, df_hourly_inletpressure_azure.shape, df_hourly_housepressure_azure.shape)"
   ]
  },
  {
   "cell_type": "markdown",
   "metadata": {},
   "source": [
    "***Filter values less than 5 and greater than 95 percentile from the AvgValue data.***"
   ]
  },
  {
   "cell_type": "code",
   "execution_count": 11,
   "metadata": {},
   "outputs": [
    {
     "name": "stdout",
     "output_type": "stream",
     "text": [
      "(2766, 9) (2766, 9) (2766, 9)\n",
      "(2718, 9) (2675, 9) (2675, 9)\n"
     ]
    }
   ],
   "source": [
    "print(df_hourly_outletpressure_azure.shape, df_hourly_inletpressure_azure.shape, df_hourly_housepressure_azure.shape)\n",
    "\n",
    "df_hourly_outletpressure_azure = fn_drop_outliers(df_hourly = df_hourly_outletpressure_azure)\n",
    "df_hourly_inletpressure_azure = fn_drop_outliers(df_hourly = df_hourly_inletpressure_azure)\n",
    "df_hourly_housepressure_azure = fn_drop_outliers(df_hourly = df_hourly_housepressure_azure)\n",
    "\n",
    "print(df_hourly_outletpressure_azure.shape, df_hourly_inletpressure_azure.shape, df_hourly_housepressure_azure.shape)"
   ]
  },
  {
   "cell_type": "code",
   "execution_count": 12,
   "metadata": {},
   "outputs": [],
   "source": [
    "df_pump_azure_data = df_hourly_housepressure_azure.append(df_hourly_inletpressure_azure).append(df_hourly_outletpressure_azure)\n",
    "df_pump_azure_data.reset_index(drop=True, inplace=True)\n",
    "df_data = add_date_components(df_pump_azure_data, \"datetime\")\n",
    "# df_data.dtypes"
   ]
  },
  {
   "cell_type": "code",
   "execution_count": 13,
   "metadata": {},
   "outputs": [
    {
     "data": {
      "text/html": [
       "<div>\n",
       "<style scoped>\n",
       "    .dataframe tbody tr th:only-of-type {\n",
       "        vertical-align: middle;\n",
       "    }\n",
       "\n",
       "    .dataframe tbody tr th {\n",
       "        vertical-align: top;\n",
       "    }\n",
       "\n",
       "    .dataframe thead th {\n",
       "        text-align: right;\n",
       "    }\n",
       "</style>\n",
       "<table border=\"1\" class=\"dataframe\">\n",
       "  <thead>\n",
       "    <tr style=\"text-align: right;\">\n",
       "      <th></th>\n",
       "      <th>asset_id</th>\n",
       "      <th>asset_name</th>\n",
       "      <th>sensor_type</th>\n",
       "      <th>measurement_type</th>\n",
       "      <th>feature_name</th>\n",
       "      <th>feature_value</th>\n",
       "      <th>feature_unit</th>\n",
       "      <th>sensor_info</th>\n",
       "      <th>datetime</th>\n",
       "      <th>d</th>\n",
       "      <th>dayofweek</th>\n",
       "      <th>year</th>\n",
       "      <th>month</th>\n",
       "      <th>hour</th>\n",
       "      <th>minute</th>\n",
       "      <th>second</th>\n",
       "      <th>week</th>\n",
       "    </tr>\n",
       "  </thead>\n",
       "  <tbody>\n",
       "    <tr>\n",
       "      <td>0</td>\n",
       "      <td>aid-g-pump-6</td>\n",
       "      <td>g-pump-6</td>\n",
       "      <td>pressure</td>\n",
       "      <td>housing</td>\n",
       "      <td>MinValue</td>\n",
       "      <td>2.384005</td>\n",
       "      <td>bar</td>\n",
       "      <td>HousePressure</td>\n",
       "      <td>2019-11-19 19:00:00</td>\n",
       "      <td>19</td>\n",
       "      <td>1</td>\n",
       "      <td>2019</td>\n",
       "      <td>11</td>\n",
       "      <td>19</td>\n",
       "      <td>0</td>\n",
       "      <td>0</td>\n",
       "      <td>47</td>\n",
       "    </tr>\n",
       "    <tr>\n",
       "      <td>1</td>\n",
       "      <td>aid-g-pump-6</td>\n",
       "      <td>g-pump-6</td>\n",
       "      <td>pressure</td>\n",
       "      <td>housing</td>\n",
       "      <td>MinValue</td>\n",
       "      <td>3.833944</td>\n",
       "      <td>bar</td>\n",
       "      <td>HousePressure</td>\n",
       "      <td>2019-11-20 08:00:00</td>\n",
       "      <td>20</td>\n",
       "      <td>2</td>\n",
       "      <td>2019</td>\n",
       "      <td>11</td>\n",
       "      <td>8</td>\n",
       "      <td>0</td>\n",
       "      <td>0</td>\n",
       "      <td>47</td>\n",
       "    </tr>\n",
       "  </tbody>\n",
       "</table>\n",
       "</div>"
      ],
      "text/plain": [
       "       asset_id asset_name sensor_type measurement_type feature_name  \\\n",
       "0  aid-g-pump-6   g-pump-6    pressure          housing     MinValue   \n",
       "1  aid-g-pump-6   g-pump-6    pressure          housing     MinValue   \n",
       "\n",
       "   feature_value feature_unit    sensor_info            datetime   d  \\\n",
       "0       2.384005          bar  HousePressure 2019-11-19 19:00:00  19   \n",
       "1       3.833944          bar  HousePressure 2019-11-20 08:00:00  20   \n",
       "\n",
       "   dayofweek  year  month  hour  minute  second  week  \n",
       "0          1  2019     11    19       0       0    47  \n",
       "1          2  2019     11     8       0       0    47  "
      ]
     },
     "execution_count": 13,
     "metadata": {},
     "output_type": "execute_result"
    }
   ],
   "source": [
    "df_data.head(2)"
   ]
  },
  {
   "cell_type": "code",
   "execution_count": 14,
   "metadata": {},
   "outputs": [
    {
     "name": "stdout",
     "output_type": "stream",
     "text": [
      "Number of weeks for InletPressure found:8\n",
      "Number of weeks for OutletPressure found:8\n",
      "Number of weeks for HousePressure found:8\n"
     ]
    }
   ],
   "source": [
    "get_number_of_weeks(df_data, variable_name = INLET_PRESSURE, asset_id = asset_id)\n",
    "get_number_of_weeks(df_data, variable_name = OUTLET_PRESSURE, asset_id = asset_id)\n",
    "get_number_of_weeks(df_data, variable_name = HOUSE_PRESSURE, asset_id = asset_id)"
   ]
  },
  {
   "cell_type": "markdown",
   "metadata": {},
   "source": [
    "## Take a close look at the probable weeks for baselining"
   ]
  },
  {
   "cell_type": "markdown",
   "metadata": {},
   "source": [
    "**Scatterplot**"
   ]
  },
  {
   "cell_type": "code",
   "execution_count": 15,
   "metadata": {},
   "outputs": [
    {
     "data": {
      "application/vnd.plotly.v1+json": {
       "config": {
        "plotlyServerURL": "https://plot.ly"
       },
       "data": [
        {
         "hoverlabel": {
          "namelength": 0
         },
         "hovertemplate": "week=%{x}<br>feature_value=%{y}",
         "legendgroup": "",
         "marker": {
          "color": "#1F77B4",
          "symbol": "circle"
         },
         "mode": "markers",
         "name": "",
         "showlegend": false,
         "type": "scatter",
         "x": [
          47,
          47,
          47,
          47,
          47,
          47,
          47,
          47,
          47,
          47,
          47,
          47,
          47,
          47,
          47,
          47,
          47,
          47,
          47,
          47,
          47,
          47,
          47,
          47,
          47,
          47,
          47,
          47,
          47,
          47,
          47,
          47,
          47,
          47,
          47,
          47,
          47,
          47,
          47,
          47,
          47,
          47,
          47,
          47,
          47,
          47,
          47,
          47,
          47,
          47,
          47,
          47,
          47,
          47,
          47,
          47,
          47,
          47,
          47,
          47,
          47,
          47,
          47,
          47,
          47,
          47,
          47,
          47,
          47,
          47,
          47,
          47,
          47,
          47,
          47,
          47,
          47,
          47,
          47,
          47,
          47,
          47,
          47,
          47,
          47,
          47,
          47,
          47,
          47,
          47,
          47,
          47,
          47,
          47,
          47,
          47,
          47,
          47,
          47,
          47,
          47,
          47,
          47,
          47,
          47,
          47,
          47,
          48,
          48,
          48,
          48,
          48,
          48,
          48,
          48,
          48,
          48,
          48,
          48,
          48,
          48,
          48,
          48,
          48,
          48,
          48,
          48,
          48,
          48,
          48,
          48,
          48,
          48,
          48,
          48,
          48,
          48,
          48,
          48,
          48,
          48,
          48,
          48,
          48,
          48,
          48,
          48,
          48,
          48,
          48,
          48,
          48,
          48,
          48,
          48,
          48,
          48,
          48,
          48,
          48,
          48,
          48,
          48,
          48,
          48,
          48,
          48,
          48,
          48,
          48,
          48,
          48,
          48,
          48,
          48,
          48,
          48,
          48,
          48,
          48,
          48,
          48,
          48,
          48,
          48,
          48,
          48,
          48,
          48,
          48,
          48,
          48,
          48,
          48,
          48,
          48,
          48,
          48,
          48,
          48,
          48,
          48,
          48,
          48,
          48,
          48,
          48,
          48,
          48,
          48,
          48,
          48,
          48,
          48,
          48,
          48,
          48,
          48,
          48,
          48,
          48,
          48,
          48,
          48,
          48,
          48,
          48,
          48,
          48,
          48,
          48,
          48,
          48,
          48,
          48,
          48,
          48,
          48,
          48,
          48,
          48,
          48,
          48,
          48,
          48,
          48,
          48,
          48,
          48,
          48,
          48,
          48,
          48,
          48,
          48,
          48,
          48,
          48,
          48,
          48,
          48,
          48,
          48,
          48,
          48,
          48,
          48,
          48,
          48,
          48,
          48,
          48,
          48,
          49,
          49,
          49,
          49,
          49,
          49,
          49,
          49,
          49,
          49,
          49,
          49,
          49,
          49,
          49,
          49,
          49,
          49,
          49,
          49,
          49,
          49,
          49,
          49,
          49,
          49,
          49,
          49,
          49,
          50,
          50,
          50,
          50,
          50,
          50,
          50,
          50,
          50,
          50,
          50,
          50,
          50,
          50,
          50,
          50,
          50,
          50,
          50,
          50,
          50,
          50,
          50,
          50,
          50,
          50,
          50,
          50,
          50,
          50,
          50,
          51,
          51,
          51,
          51,
          51,
          51,
          51,
          51,
          51,
          51,
          51,
          51,
          51,
          51,
          51,
          51,
          51,
          51,
          51,
          51,
          51,
          51,
          51,
          51,
          51,
          51,
          51,
          51,
          51,
          51,
          51,
          51,
          51,
          51,
          51,
          51,
          51,
          51,
          51,
          51,
          51,
          51,
          51,
          51,
          51,
          51,
          51,
          51,
          51,
          51,
          51,
          51,
          51,
          51,
          51,
          51,
          51,
          51,
          51,
          51,
          51,
          51,
          51,
          51,
          51,
          51,
          51,
          51,
          51,
          51,
          51,
          51,
          51,
          51,
          51,
          51,
          51,
          51,
          51,
          51,
          51,
          51,
          51,
          51,
          51,
          51,
          51,
          51,
          51,
          51,
          51,
          51,
          51,
          51,
          51,
          51,
          51,
          51,
          51,
          51,
          51,
          51,
          51,
          51,
          51,
          51,
          51,
          51,
          51,
          51,
          51,
          51,
          51,
          51,
          51,
          51,
          51,
          51,
          51,
          51,
          51,
          51,
          51,
          51,
          51,
          51,
          51,
          51,
          51,
          51,
          51,
          51,
          51,
          51,
          51,
          51,
          51,
          51,
          51,
          51,
          51,
          51,
          51,
          51,
          51,
          51,
          51,
          51,
          52,
          52,
          52,
          52,
          52,
          52,
          52,
          52,
          52,
          52,
          52,
          52,
          52,
          52,
          52,
          52,
          52,
          52,
          52,
          52,
          52,
          52,
          52,
          52,
          52,
          52,
          52,
          52,
          52,
          52,
          52,
          52,
          52,
          52,
          52,
          52,
          52,
          52,
          52,
          52,
          52,
          52,
          52,
          52,
          52,
          52,
          52,
          52,
          52,
          52,
          52,
          52,
          52,
          52,
          52,
          52,
          52,
          52,
          52,
          52,
          52,
          52,
          52,
          52,
          52,
          52,
          52,
          52,
          52,
          52,
          52,
          52,
          52,
          52,
          52,
          52,
          52,
          52,
          52,
          52,
          52,
          52,
          52,
          52,
          52,
          52,
          52,
          52,
          52,
          52,
          52,
          52,
          52,
          52,
          52,
          52,
          52,
          52,
          52,
          52,
          52,
          52,
          52,
          52,
          52,
          52,
          52,
          52,
          52,
          52,
          52,
          52,
          52,
          52,
          52,
          52,
          52,
          52,
          52,
          52,
          52,
          52,
          52,
          52,
          52,
          52,
          52,
          52,
          52,
          52,
          52,
          52,
          52,
          52,
          52,
          52,
          52,
          52,
          52,
          52,
          52,
          52,
          52,
          52,
          52,
          52,
          52,
          52,
          52,
          52,
          52,
          52,
          52,
          52,
          52,
          52,
          52,
          52,
          52,
          52,
          52,
          52,
          52,
          52,
          52,
          1,
          1,
          1,
          1,
          1,
          1,
          1,
          1,
          1,
          1,
          1,
          1,
          1,
          1,
          1,
          1,
          1,
          1,
          1,
          1,
          1,
          1,
          1,
          1,
          1,
          1,
          1,
          1,
          1,
          1,
          1,
          1,
          1,
          1,
          1,
          1,
          1,
          1,
          1,
          1,
          1,
          1,
          1,
          1,
          1,
          1,
          1,
          1,
          1,
          1,
          1,
          1,
          1,
          1,
          1,
          1,
          1,
          1,
          1,
          1,
          1,
          1,
          1,
          1,
          1,
          1,
          1,
          1,
          1,
          1,
          1,
          1,
          1,
          1,
          1,
          1,
          1,
          1,
          1,
          1,
          1,
          1,
          1,
          1,
          1,
          1,
          1,
          1,
          1,
          1,
          1,
          1,
          1,
          1,
          1,
          1,
          1,
          1,
          1,
          1,
          1,
          1,
          1,
          1,
          1,
          1,
          1,
          1,
          1,
          1,
          1,
          1,
          1,
          1,
          1,
          1,
          1,
          1,
          1,
          1,
          1,
          1,
          1,
          1,
          1,
          1,
          1,
          1,
          1,
          1,
          1,
          1,
          1,
          1,
          1,
          1,
          1,
          1,
          1,
          1,
          1,
          1,
          1,
          1,
          1,
          1,
          1,
          1,
          1,
          1,
          1,
          1,
          1,
          1,
          1,
          1,
          1,
          1,
          1,
          1,
          1,
          1,
          1,
          1,
          1,
          1,
          1,
          1,
          2,
          2,
          2,
          2,
          2,
          2,
          2,
          2,
          2,
          2,
          2,
          2,
          2,
          2,
          2,
          2,
          2
         ],
         "xaxis": "x",
         "y": [
          2.8266521693167608,
          2.8626155458066527,
          2.9121110371110386,
          2.8635658323158313,
          2.7992724867724874,
          2.8428342490842495,
          2.8549170736670724,
          2.908145095645096,
          2.8711334961334973,
          2.8055046805046797,
          2.790496540496541,
          2.8079212454212445,
          2.863947395197396,
          2.833740333740334,
          2.8279532967032956,
          2.7952024827024835,
          2.848239723239722,
          2.8555530118030124,
          2.9114519739519733,
          2.878955535205536,
          2.823565323565324,
          2.868462555962557,
          2.898054877221544,
          2.8229929792429793,
          2.8336131461131466,
          2.7996540496540496,
          2.8008623321123314,
          2.8883674196174183,
          2.8235653235653246,
          2.821593915343913,
          2.8687169312169307,
          2.778286528286529,
          2.84518722018722,
          2.812627187627186,
          2.816506410256411,
          2.844360500610501,
          2.81396265771266,
          2.8030881155881158,
          2.862039580789579,
          2.8006079568579563,
          2.822611416361413,
          2.807094525844525,
          2.8528820716320733,
          2.7788588726088714,
          2.7878256003256006,
          2.839972527472528,
          2.8475401912901908,
          2.8180326617826625,
          2.8279532967032956,
          2.907000407000405,
          2.8099562474562476,
          2.862929894179892,
          2.801243894993895,
          2.8381919006919,
          2.850020350020347,
          2.844042531542531,
          2.7993996743996745,
          2.8495115995115996,
          2.848939255189254,
          2.8067129629629632,
          2.837428774928773,
          2.8177782865282848,
          2.8345670533170524,
          2.7879527879527886,
          2.8057590557590566,
          2.795393264143265,
          2.7878256003255992,
          2.845568783068782,
          2.777141839641839,
          2.849511599511598,
          2.8161884411884404,
          2.7945029507529493,
          2.8228021978021984,
          2.82051282051282,
          2.871705840455841,
          2.817969067969066,
          2.837110805860806,
          2.821911884411884,
          2.8350122100122106,
          2.8519917582417578,
          2.825663919413918,
          2.883534289784288,
          2.8144078144078133,
          2.7868716931216913,
          2.8430886243386237,
          2.8023249898249882,
          2.843724562474563,
          2.8498295685795667,
          2.8418167480667478,
          2.8635022385022384,
          2.9103708791208778,
          2.82719017094017,
          2.798191391941391,
          2.7862993487993495,
          2.8367292429792434,
          2.8729777167277173,
          2.8090023402523414,
          2.8726597476597466,
          2.8724053724053724,
          2.8350758038258017,
          2.8077304639804623,
          2.8754578754578755,
          2.8409264346764345,
          2.8387642450142443,
          2.8705611518111502,
          2.8051867114367113,
          2.8499567562067543,
          2.808620777370777,
          2.829415954415955,
          2.829670329670328,
          2.930275742775743,
          2.824201261701262,
          2.781720594220594,
          2.8679538054538054,
          2.818795787545788,
          2.814153439153438,
          2.8439789377289366,
          2.842643467643468,
          2.8390822140822145,
          2.854917073667073,
          2.8782560032560025,
          2.8053774928774913,
          2.8206400081400074,
          2.7731354293854307,
          2.839845339845341,
          2.8150437525437524,
          2.9040114977614984,
          2.809002340252341,
          2.826299857549857,
          2.8610220797720802,
          2.8199404761904767,
          2.8556801994302,
          2.8954263329263337,
          2.815616096866098,
          2.857142857142858,
          2.796792328042327,
          2.7875076312576303,
          2.8202584452584443,
          2.855934574684575,
          2.7971102971102995,
          2.7992724867724874,
          2.8437881562881575,
          2.8451872201872184,
          2.9152040089540088,
          2.8957443019943017,
          2.8498295685795685,
          2.822102665852666,
          2.893772893772894,
          2.8462047212047197,
          2.8863960113960108,
          2.9120879120879124,
          2.880291005291006,
          2.807921245421245,
          2.8930097680097666,
          2.800671550671549,
          2.8140262515262524,
          2.9064916564916565,
          2.8498295685795694,
          2.9263329263329254,
          2.8635022385022384,
          2.8583511396011385,
          2.8030245217745224,
          2.8551078551078546,
          2.7808938746438727,
          2.8354573667073653,
          2.849384411884413,
          2.848176129426129,
          2.834312678062679,
          2.858859890109889,
          2.8098290598290596,
          2.842707061457062,
          2.875585063085062,
          2.822675010175008,
          2.8132631257631258,
          2.8382554945054945,
          2.862484737484737,
          2.806140618640619,
          2.8381283068783074,
          2.783374033374033,
          2.845568783068782,
          2.829352360602359,
          2.7873804436304432,
          2.8640745828245815,
          2.8359025234025226,
          2.7927859177859187,
          2.8147893772893773,
          2.841753154253153,
          2.8105921855921854,
          2.8809905372405367,
          2.810973748473749,
          2.8313873626373627,
          2.8537723850223866,
          2.894599613349614,
          2.8429614367114358,
          2.803342490842491,
          2.921944953194952,
          2.8300518925518925,
          2.889575702075702,
          2.9512617012617017,
          2.763087606837608,
          2.8513558201058196,
          2.8528820716320715,
          2.863184269434269,
          2.7662672975172975,
          2.827953296703296,
          2.8269993894993912,
          2.7941849816849804,
          2.8049323361823357,
          2.803278897028896,
          2.859940984940985,
          2.8456959706959712,
          2.752213064713065,
          2.8989239926739927,
          2.827889702889703,
          2.7480794668294677,
          2.8116732804232814,
          2.792595136345137,
          2.8180962555962563,
          2.7652497964997966,
          2.8420711233211233,
          2.8019434269434274,
          2.806204212454212,
          2.8689713064713067,
          2.8949811762311763,
          2.840735653235653,
          2.873232091982091,
          2.790750915750916,
          2.7585724460724452,
          2.8126907814407804,
          2.804042022792023,
          2.7892246642246636,
          2.8066493691493677,
          2.8067129629629632,
          2.871960215710216,
          2.8280168905168903,
          2.781275437525437,
          2.8476037851037845,
          2.8661095848595832,
          2.8698616198616196,
          2.801243894993894,
          2.801434676434676,
          2.8399725274725274,
          2.861912393162392,
          2.8519917582417573,
          2.810274216524215,
          2.8149165649165666,
          2.7987001424501408,
          2.8847425722425712,
          2.872405372405373,
          2.8291361416361416,
          2.8240104802604793,
          2.818223443223442,
          2.786553724053722,
          2.7759971509971506,
          2.804995929995931,
          2.8424526862026855,
          2.8075396825396823,
          2.7721815221815214,
          2.861530830280829,
          2.8504019129019116,
          2.85002035002035,
          2.850211131461131,
          2.8254095441595433,
          2.822738603988603,
          2.8656644281644272,
          2.7728174603174605,
          2.864392551892552,
          2.8013710826210834,
          2.8136446886446884,
          2.760543854293856,
          2.8302426739926747,
          2.8105921855921863,
          2.7781593406593394,
          2.8447420634920637,
          2.8038512413512415,
          2.8444876882376877,
          2.834439865689864,
          2.79482091982092,
          2.839718152218151,
          2.894853988603989,
          2.858287545787547,
          2.8437245624745615,
          2.796039801248133,
          2.7884615384615365,
          2.8208943833943825,
          2.8589234839234847,
          2.8602589540089536,
          2.8675086487586494,
          2.8331679894179893,
          2.935045278795279,
          2.9075091575091583,
          2.7776505901505892,
          2.884933353683353,
          2.8280168905168903,
          2.867763024013024,
          2.8418803418803407,
          2.867635836385835,
          2.8276989214489223,
          2.859432234432235,
          2.79901811151811,
          2.8746311558811564,
          2.874313186813186,
          2.827228327228326,
          2.895299145299146,
          2.963026556776559,
          2.9021672771672766,
          2.955140923890923,
          2.9698946886446893,
          2.9760632885632883,
          2.980514855514856,
          2.869988807488808,
          2.9058557183557183,
          2.9038843101343104,
          2.9581934269434265,
          2.9134869759869755,
          2.9932972120472123,
          2.93205636955637,
          2.9047110297110286,
          2.888876170126169,
          2.98477564102564,
          2.9161579161579163,
          2.9452202889702903,
          2.924997456247455,
          2.908335877085877,
          2.9216905779405784,
          2.927159645909646,
          2.966842185592185,
          2.9289402726902725,
          2.8930733618233617,
          2.988018925518926,
          2.8963166463166456,
          2.9884640822140813,
          3.0236950549450547,
          2.953105921855922,
          2.9261421448921454,
          2.9557132682132683,
          2.927986365486365,
          2.9398148148148144,
          2.9567307692307687,
          2.93122964997965,
          2.883788665038665,
          2.875076312576312,
          2.8561253561253577,
          2.942485754985755,
          2.9363171550671563,
          2.933391839641839,
          2.900132275132274,
          2.8884946072446085,
          2.8857600732600712,
          2.8298611111111107,
          2.92124542124542,
          2.8388278388278394,
          2.815806878306877,
          2.893645706145705,
          2.902866809116808,
          2.8887489824989827,
          2.8553622303622297,
          2.874885531135531,
          2.8626119251119246,
          2.8687805250305263,
          2.860958485958488,
          2.806776556776556,
          2.8387006512006505,
          2.8360933048433044,
          2.8617216117216113,
          2.8695436507936507,
          2.842961436711437,
          2.865473646723648,
          2.8514830077330076,
          2.8567612942612945,
          2.8513558201058196,
          2.8646469271469264,
          2.816252035002035,
          2.907699938949938,
          2.804868742368743,
          2.8650920838420824,
          2.8626755189255175,
          2.8932005494505475,
          2.8169515669515675,
          2.9952686202686194,
          2.880354599104599,
          3.0235042735042725,
          2.9358084045584047,
          2.954504985754985,
          2.926269332519331,
          2.962835775335775,
          2.9183201058201043,
          2.9653795278795285,
          2.954314204314203,
          2.963026556776558,
          2.973074379324378,
          2.9753637566137545,
          2.965188746438745,
          2.9744098494098483,
          2.895426332926333,
          2.918701668701669,
          2.9649343711843703,
          2.9832493894993894,
          3.000992063492062,
          2.934472934472933,
          2.9538690476190492,
          2.952469983719984,
          2.9692587505087507,
          3.024648962148962,
          3.0063975376475374,
          2.8774928774928785,
          2.8121820309320307,
          2.8813721001220984,
          2.8561889499389506,
          2.8761574074074097,
          2.8563161375661372,
          2.910180097680097,
          2.85402676027676,
          2.8734228734228733,
          2.974409849409851,
          2.8314509564509556,
          2.873613654863655,
          2.8939000814000813,
          2.8980972730972714,
          2.838955026455025,
          2.8964438339438345,
          2.899369149369148,
          2.8732956857956853,
          2.9103072853072853,
          2.86636396011396,
          2.881690069190069,
          2.8735500610500595,
          2.8192409442409434,
          2.9486543549043542,
          2.9754909442409443,
          2.8608312983312985,
          2.8690349002849,
          2.8574608262108274,
          2.9225172975172975,
          2.874631155881156,
          2.856952075702077,
          2.8893213268213267,
          2.88372507122507,
          2.8607041107041087,
          2.863057081807083,
          2.890974765974765,
          2.904711029711031,
          2.853072853072854,
          2.885632885632886,
          2.8240740740740744,
          2.896761803011804,
          2.831005799755802,
          2.86172161172161,
          2.8491300366300365,
          2.8361568986568977,
          2.9386701261701265,
          2.8522461334961307,
          2.8813085063085055,
          2.8462047212047223,
          2.9599104599104575,
          2.837428774928776,
          2.8308786121286134,
          2.881944444444444,
          2.8961258648758648,
          2.8401633089133083,
          2.843851750101752,
          2.8476673789173788,
          2.8383190883190887,
          2.842198310948312,
          2.896316646316645,
          2.865918803418803,
          2.861085673585673,
          2.8439789377289375,
          2.873232091982091,
          2.844360500610501,
          2.8427706552706553,
          2.874821937321936,
          2.9222629222629215,
          2.9240435490435495,
          2.8734228734228715,
          2.9615003052503055,
          2.8990511803011785,
          2.867190679690681,
          2.891992266992266,
          2.867190679690678,
          2.875712250712251,
          2.8954899267399257,
          2.913614163614165,
          2.826363451363452,
          2.8732956857956844,
          2.8999414936914945,
          2.860767704517704,
          2.827762515262515,
          2.9066824379324374,
          2.8735500610500595,
          2.9022944647944637,
          2.970530626780627,
          2.9211182336182335,
          2.9399420024420024,
          2.9253790191290165,
          2.8885582010581996,
          2.9146952584452595,
          2.890911172161171,
          2.8930097680097675,
          2.8873499185999187,
          2.8794006919006923,
          2.8381919006919003,
          2.897779304029303,
          2.853899572649574,
          2.8507834757834747,
          2.800671550671551,
          2.898478835978835,
          2.878383190883191,
          2.886777574277573,
          2.775234025234024,
          2.8794642857142847,
          2.910816035816035,
          2.9011497761497753,
          2.8400997150997145,
          2.8240104802604797,
          2.8793370980870985,
          2.8526276963776955,
          2.821530321530322,
          2.8765389702889714,
          2.8924374236874244,
          2.8514830077330084,
          2.872468966218966,
          2.8802910052910047,
          2.923789173789173,
          2.9522792022792026,
          2.895426332926333,
          2.8900844525844516,
          2.870624745624745,
          2.886396011396012,
          2.820131257631257,
          2.887858669108669,
          2.9276048026048023,
          2.867826617826619,
          2.8488756613756614,
          2.8699252136752134,
          2.878319597069597,
          2.847222222222222,
          2.8643925518925513,
          2.8497659747659747,
          2.9294490231990213,
          2.9318019943019937,
          2.9104344729344738,
          2.891419922669923,
          2.8512286324786342,
          2.92576058201058,
          2.8774928774928763,
          2.8486848799348805,
          2.887095543345543,
          2.919846357346357,
          2.8907839845339853,
          2.9067460317460316,
          2.8989239926739923,
          2.935426841676842,
          2.935236060236058,
          2.872532560032561,
          2.8657916157916152,
          2.926905270655269,
          2.9116427553927555,
          2.8538995726495724,
          2.865855209605209,
          2.859940984940985,
          2.9233440170940157,
          2.921054639804639,
          2.867763024013025,
          2.911579161579161,
          2.9129782254782257,
          2.823883292633292,
          2.9064280626780623,
          2.889321326821325,
          2.8521189458689467,
          2.91456807081807,
          2.910498066748067,
          2.841371591371592,
          2.9134233821733826,
          2.892501017501018,
          2.875712250712251,
          2.9036299348799357,
          2.93154761904762,
          2.8890033577533587,
          2.9163486975986976,
          2.9129146316646306,
          2.8567612942612928,
          2.9445843508343508,
          2.8845517908017904,
          2.8566341066341057,
          2.885632885632886,
          2.9085266585266596,
          2.9239799552299535,
          2.8812449124949127,
          2.82451923076923,
          2.8715786528286533,
          2.9422949735449744,
          2.9385429385429376,
          2.83965455840456,
          2.9792429792429798,
          2.895744301994302,
          2.843088624338625,
          2.850974257224257,
          2.8027701465201447,
          2.906046499796499,
          2.872468966218966,
          2.9139321326821315,
          2.8371743996744008,
          2.867763024013023,
          2.86521927146927,
          2.7939942002442,
          2.8734228734228733,
          2.802261396011397,
          2.8454415954415944,
          2.833803927553928,
          2.967859686609687,
          2.863502238502239,
          2.835139397639398,
          2.916221509971509,
          2.9145044770044746,
          2.825600325600325,
          2.8841066341066344,
          2.832532051282051,
          2.9608643671143677,
          2.9404507529507526,
          2.8070945258445246,
          2.865791615791616,
          2.8361568986568977,
          2.8813721001220998,
          2.868844118844119,
          2.920355107855109,
          2.902358058608059,
          2.8563161375661377,
          2.8900844525844533,
          2.896825396825397,
          2.8669363044363045,
          2.895235551485552,
          2.863883801383802,
          2.857270044770045,
          2.8892577330077334,
          2.814916564916564,
          2.9052197802197797,
          2.847985347985349,
          2.8690984940984943,
          2.865600834350834,
          2.8832163207163206,
          2.872532560032561,
          2.8722145909645924,
          2.8982244607244607,
          2.8782560032560034,
          2.841117216117215,
          2.8712606837606836,
          2.928240740740742,
          2.9263965201465214,
          2.9250610500610486,
          2.8881130443630454,
          2.7551383801383817,
          2.8383190883190874,
          2.918574481074483,
          2.82750814000814,
          2.8483669108669107,
          2.887604293854293,
          2.9315476190476186,
          2.838001119251118,
          2.9649343711843703,
          3.020769739519738,
          2.9915801790801795,
          2.867826617826617,
          2.910879629629628,
          2.943376068376068,
          2.850592694342693,
          2.8966982091982083,
          2.8763481888481874,
          2.8654736467236472,
          2.7621336996337003,
          2.9342821530321523,
          2.87971866096866,
          2.912660256410256,
          2.9185744810744816,
          2.840544871794872,
          2.8437245624745624,
          2.8431522181522166,
          2.940005596255595,
          2.800989519739519,
          2.830369861619861,
          2.8596230158730163,
          2.902167277167276,
          2.9461106023606014,
          2.941404660154659,
          2.939687627187627,
          2.9403871591371598,
          2.864265364265364,
          2.971738909238909,
          2.960673585673586,
          2.955204517704518,
          2.971357346357346,
          2.9860475172975183,
          2.9194647944647927,
          2.934854497354497,
          2.958320614570615,
          2.8861416361416357,
          2.9616274928774913,
          2.9338369963369964,
          2.901531339031339,
          2.89771571021571,
          2.9304665242165253,
          2.880545380545381,
          2.8896392958892965,
          2.862802706552707,
          2.977080789580788,
          2.9398148148148144,
          2.879146316646317,
          2.8739316239316235,
          2.936571530321531,
          2.87469474969475,
          2.892946174196174,
          2.895617114367115,
          2.897842897842897,
          2.8790191290191296,
          2.901785714285714,
          2.890402421652423,
          2.874058811558813,
          2.9101800976800978,
          2.869162087912089,
          2.917874949124949,
          2.9583842083842082,
          2.875648656898657,
          2.925124643874643,
          2.9492902930402933,
          2.9778439153439162,
          2.8869683557183543,
          2.8847425722425712,
          2.9763176638176634,
          2.9311660561660555,
          2.966333435083435,
          2.9278591778591774,
          2.8848697598697597,
          2.9970492470492474,
          2.965061558811558,
          2.881117724867724,
          2.876602564102564,
          2.913486975986976,
          2.86833536833537,
          2.885887260887261,
          2.936889499389498,
          2.8901480463980476,
          2.886777574277574,
          2.8573972323972328,
          2.899814306064307,
          2.8898300773300782,
          2.909289784289783,
          2.9097985347985342,
          2.923534798534799,
          2.929003866503867,
          2.9461106023606027,
          2.9110068172568186,
          2.923916361416362,
          2.978034696784697,
          2.950625763125762,
          2.922135734635733,
          2.891547110297109,
          2.806585775335775,
          2.8933913308913315,
          2.881435693935693,
          2.8653464590964592,
          2.9148224460724457,
          2.95774827024827,
          2.890466015466018,
          2.932437932437932,
          2.945856227106228,
          2.8785739723239736,
          2.879527879527878,
          2.8540267602767613,
          2.9367623117623105,
          2.887795075295075,
          2.9242343304843312,
          2.9146952584452577,
          2.977144383394382,
          2.862993487993487,
          2.9486543549043542,
          2.9227080789580775,
          2.855362230362229,
          2.96709656084656,
          2.914059320309319,
          2.8835342897842895,
          2.9781618844118847,
          2.8753306878306883,
          2.950498575498575,
          2.862866300366303,
          2.8923102360602364,
          2.9640440577940566,
          2.94191341066341,
          2.9046474358974357,
          2.8771749084249083,
          2.877174908424907,
          2.9391788766788776,
          2.9646164021164014,
          2.8860780423280445,
          2.98159595034595,
          2.9270324582824574,
          2.8704975579975582,
          2.940641534391535,
          2.9479548229548236,
          2.8997507122507127,
          2.946682946682946,
          2.874821937321937,
          2.9485907610907596,
          2.88302553927554,
          2.9318019943019937,
          2.9019764957264957,
          2.889130545380546,
          2.9586385836385847,
          2.9205458892958895,
          2.916984635734636,
          2.896189458689458,
          2.972374847374848,
          2.941722629222627,
          2.9583842083842096,
          2.9005774318274327,
          2.906873219373221,
          2.9715481277981297,
          2.9386701261701274,
          2.908844627594627,
          2.889003357753358,
          2.9080815018315023,
          2.9985754985754993,
          2.9683048433048422,
          2.9080815018315014,
          2.8837886650386637,
          2.9571123321123327,
          2.918765262515263,
          2.9444571632071628,
          2.8679538054538045,
          2.9201007326007336,
          2.9527879527879524,
          2.796347171347172
         ],
         "yaxis": "y"
        }
       ],
       "layout": {
        "legend": {
         "tracegroupgap": 0
        },
        "template": {
         "data": {
          "bar": [
           {
            "error_x": {
             "color": "rgb(36,36,36)"
            },
            "error_y": {
             "color": "rgb(36,36,36)"
            },
            "marker": {
             "line": {
              "color": "white",
              "width": 0.5
             }
            },
            "type": "bar"
           }
          ],
          "barpolar": [
           {
            "marker": {
             "line": {
              "color": "white",
              "width": 0.5
             }
            },
            "type": "barpolar"
           }
          ],
          "carpet": [
           {
            "aaxis": {
             "endlinecolor": "rgb(36,36,36)",
             "gridcolor": "white",
             "linecolor": "white",
             "minorgridcolor": "white",
             "startlinecolor": "rgb(36,36,36)"
            },
            "baxis": {
             "endlinecolor": "rgb(36,36,36)",
             "gridcolor": "white",
             "linecolor": "white",
             "minorgridcolor": "white",
             "startlinecolor": "rgb(36,36,36)"
            },
            "type": "carpet"
           }
          ],
          "choropleth": [
           {
            "colorbar": {
             "outlinewidth": 1,
             "tickcolor": "rgb(36,36,36)",
             "ticks": "outside"
            },
            "type": "choropleth"
           }
          ],
          "contour": [
           {
            "colorbar": {
             "outlinewidth": 1,
             "tickcolor": "rgb(36,36,36)",
             "ticks": "outside"
            },
            "colorscale": [
             [
              0,
              "#440154"
             ],
             [
              0.1111111111111111,
              "#482878"
             ],
             [
              0.2222222222222222,
              "#3e4989"
             ],
             [
              0.3333333333333333,
              "#31688e"
             ],
             [
              0.4444444444444444,
              "#26828e"
             ],
             [
              0.5555555555555556,
              "#1f9e89"
             ],
             [
              0.6666666666666666,
              "#35b779"
             ],
             [
              0.7777777777777778,
              "#6ece58"
             ],
             [
              0.8888888888888888,
              "#b5de2b"
             ],
             [
              1,
              "#fde725"
             ]
            ],
            "type": "contour"
           }
          ],
          "contourcarpet": [
           {
            "colorbar": {
             "outlinewidth": 1,
             "tickcolor": "rgb(36,36,36)",
             "ticks": "outside"
            },
            "type": "contourcarpet"
           }
          ],
          "heatmap": [
           {
            "colorbar": {
             "outlinewidth": 1,
             "tickcolor": "rgb(36,36,36)",
             "ticks": "outside"
            },
            "colorscale": [
             [
              0,
              "#440154"
             ],
             [
              0.1111111111111111,
              "#482878"
             ],
             [
              0.2222222222222222,
              "#3e4989"
             ],
             [
              0.3333333333333333,
              "#31688e"
             ],
             [
              0.4444444444444444,
              "#26828e"
             ],
             [
              0.5555555555555556,
              "#1f9e89"
             ],
             [
              0.6666666666666666,
              "#35b779"
             ],
             [
              0.7777777777777778,
              "#6ece58"
             ],
             [
              0.8888888888888888,
              "#b5de2b"
             ],
             [
              1,
              "#fde725"
             ]
            ],
            "type": "heatmap"
           }
          ],
          "heatmapgl": [
           {
            "colorbar": {
             "outlinewidth": 1,
             "tickcolor": "rgb(36,36,36)",
             "ticks": "outside"
            },
            "colorscale": [
             [
              0,
              "#440154"
             ],
             [
              0.1111111111111111,
              "#482878"
             ],
             [
              0.2222222222222222,
              "#3e4989"
             ],
             [
              0.3333333333333333,
              "#31688e"
             ],
             [
              0.4444444444444444,
              "#26828e"
             ],
             [
              0.5555555555555556,
              "#1f9e89"
             ],
             [
              0.6666666666666666,
              "#35b779"
             ],
             [
              0.7777777777777778,
              "#6ece58"
             ],
             [
              0.8888888888888888,
              "#b5de2b"
             ],
             [
              1,
              "#fde725"
             ]
            ],
            "type": "heatmapgl"
           }
          ],
          "histogram": [
           {
            "marker": {
             "line": {
              "color": "white",
              "width": 0.6
             }
            },
            "type": "histogram"
           }
          ],
          "histogram2d": [
           {
            "colorbar": {
             "outlinewidth": 1,
             "tickcolor": "rgb(36,36,36)",
             "ticks": "outside"
            },
            "colorscale": [
             [
              0,
              "#440154"
             ],
             [
              0.1111111111111111,
              "#482878"
             ],
             [
              0.2222222222222222,
              "#3e4989"
             ],
             [
              0.3333333333333333,
              "#31688e"
             ],
             [
              0.4444444444444444,
              "#26828e"
             ],
             [
              0.5555555555555556,
              "#1f9e89"
             ],
             [
              0.6666666666666666,
              "#35b779"
             ],
             [
              0.7777777777777778,
              "#6ece58"
             ],
             [
              0.8888888888888888,
              "#b5de2b"
             ],
             [
              1,
              "#fde725"
             ]
            ],
            "type": "histogram2d"
           }
          ],
          "histogram2dcontour": [
           {
            "colorbar": {
             "outlinewidth": 1,
             "tickcolor": "rgb(36,36,36)",
             "ticks": "outside"
            },
            "colorscale": [
             [
              0,
              "#440154"
             ],
             [
              0.1111111111111111,
              "#482878"
             ],
             [
              0.2222222222222222,
              "#3e4989"
             ],
             [
              0.3333333333333333,
              "#31688e"
             ],
             [
              0.4444444444444444,
              "#26828e"
             ],
             [
              0.5555555555555556,
              "#1f9e89"
             ],
             [
              0.6666666666666666,
              "#35b779"
             ],
             [
              0.7777777777777778,
              "#6ece58"
             ],
             [
              0.8888888888888888,
              "#b5de2b"
             ],
             [
              1,
              "#fde725"
             ]
            ],
            "type": "histogram2dcontour"
           }
          ],
          "mesh3d": [
           {
            "colorbar": {
             "outlinewidth": 1,
             "tickcolor": "rgb(36,36,36)",
             "ticks": "outside"
            },
            "type": "mesh3d"
           }
          ],
          "parcoords": [
           {
            "line": {
             "colorbar": {
              "outlinewidth": 1,
              "tickcolor": "rgb(36,36,36)",
              "ticks": "outside"
             }
            },
            "type": "parcoords"
           }
          ],
          "pie": [
           {
            "automargin": true,
            "type": "pie"
           }
          ],
          "scatter": [
           {
            "marker": {
             "colorbar": {
              "outlinewidth": 1,
              "tickcolor": "rgb(36,36,36)",
              "ticks": "outside"
             }
            },
            "type": "scatter"
           }
          ],
          "scatter3d": [
           {
            "line": {
             "colorbar": {
              "outlinewidth": 1,
              "tickcolor": "rgb(36,36,36)",
              "ticks": "outside"
             }
            },
            "marker": {
             "colorbar": {
              "outlinewidth": 1,
              "tickcolor": "rgb(36,36,36)",
              "ticks": "outside"
             }
            },
            "type": "scatter3d"
           }
          ],
          "scattercarpet": [
           {
            "marker": {
             "colorbar": {
              "outlinewidth": 1,
              "tickcolor": "rgb(36,36,36)",
              "ticks": "outside"
             }
            },
            "type": "scattercarpet"
           }
          ],
          "scattergeo": [
           {
            "marker": {
             "colorbar": {
              "outlinewidth": 1,
              "tickcolor": "rgb(36,36,36)",
              "ticks": "outside"
             }
            },
            "type": "scattergeo"
           }
          ],
          "scattergl": [
           {
            "marker": {
             "colorbar": {
              "outlinewidth": 1,
              "tickcolor": "rgb(36,36,36)",
              "ticks": "outside"
             }
            },
            "type": "scattergl"
           }
          ],
          "scattermapbox": [
           {
            "marker": {
             "colorbar": {
              "outlinewidth": 1,
              "tickcolor": "rgb(36,36,36)",
              "ticks": "outside"
             }
            },
            "type": "scattermapbox"
           }
          ],
          "scatterpolar": [
           {
            "marker": {
             "colorbar": {
              "outlinewidth": 1,
              "tickcolor": "rgb(36,36,36)",
              "ticks": "outside"
             }
            },
            "type": "scatterpolar"
           }
          ],
          "scatterpolargl": [
           {
            "marker": {
             "colorbar": {
              "outlinewidth": 1,
              "tickcolor": "rgb(36,36,36)",
              "ticks": "outside"
             }
            },
            "type": "scatterpolargl"
           }
          ],
          "scatterternary": [
           {
            "marker": {
             "colorbar": {
              "outlinewidth": 1,
              "tickcolor": "rgb(36,36,36)",
              "ticks": "outside"
             }
            },
            "type": "scatterternary"
           }
          ],
          "surface": [
           {
            "colorbar": {
             "outlinewidth": 1,
             "tickcolor": "rgb(36,36,36)",
             "ticks": "outside"
            },
            "colorscale": [
             [
              0,
              "#440154"
             ],
             [
              0.1111111111111111,
              "#482878"
             ],
             [
              0.2222222222222222,
              "#3e4989"
             ],
             [
              0.3333333333333333,
              "#31688e"
             ],
             [
              0.4444444444444444,
              "#26828e"
             ],
             [
              0.5555555555555556,
              "#1f9e89"
             ],
             [
              0.6666666666666666,
              "#35b779"
             ],
             [
              0.7777777777777778,
              "#6ece58"
             ],
             [
              0.8888888888888888,
              "#b5de2b"
             ],
             [
              1,
              "#fde725"
             ]
            ],
            "type": "surface"
           }
          ],
          "table": [
           {
            "cells": {
             "fill": {
              "color": "rgb(237,237,237)"
             },
             "line": {
              "color": "white"
             }
            },
            "header": {
             "fill": {
              "color": "rgb(217,217,217)"
             },
             "line": {
              "color": "white"
             }
            },
            "type": "table"
           }
          ]
         },
         "layout": {
          "annotationdefaults": {
           "arrowhead": 0,
           "arrowwidth": 1
          },
          "coloraxis": {
           "colorbar": {
            "outlinewidth": 1,
            "tickcolor": "rgb(36,36,36)",
            "ticks": "outside"
           }
          },
          "colorscale": {
           "diverging": [
            [
             0,
             "rgb(103,0,31)"
            ],
            [
             0.1,
             "rgb(178,24,43)"
            ],
            [
             0.2,
             "rgb(214,96,77)"
            ],
            [
             0.3,
             "rgb(244,165,130)"
            ],
            [
             0.4,
             "rgb(253,219,199)"
            ],
            [
             0.5,
             "rgb(247,247,247)"
            ],
            [
             0.6,
             "rgb(209,229,240)"
            ],
            [
             0.7,
             "rgb(146,197,222)"
            ],
            [
             0.8,
             "rgb(67,147,195)"
            ],
            [
             0.9,
             "rgb(33,102,172)"
            ],
            [
             1,
             "rgb(5,48,97)"
            ]
           ],
           "sequential": [
            [
             0,
             "#440154"
            ],
            [
             0.1111111111111111,
             "#482878"
            ],
            [
             0.2222222222222222,
             "#3e4989"
            ],
            [
             0.3333333333333333,
             "#31688e"
            ],
            [
             0.4444444444444444,
             "#26828e"
            ],
            [
             0.5555555555555556,
             "#1f9e89"
            ],
            [
             0.6666666666666666,
             "#35b779"
            ],
            [
             0.7777777777777778,
             "#6ece58"
            ],
            [
             0.8888888888888888,
             "#b5de2b"
            ],
            [
             1,
             "#fde725"
            ]
           ],
           "sequentialminus": [
            [
             0,
             "#440154"
            ],
            [
             0.1111111111111111,
             "#482878"
            ],
            [
             0.2222222222222222,
             "#3e4989"
            ],
            [
             0.3333333333333333,
             "#31688e"
            ],
            [
             0.4444444444444444,
             "#26828e"
            ],
            [
             0.5555555555555556,
             "#1f9e89"
            ],
            [
             0.6666666666666666,
             "#35b779"
            ],
            [
             0.7777777777777778,
             "#6ece58"
            ],
            [
             0.8888888888888888,
             "#b5de2b"
            ],
            [
             1,
             "#fde725"
            ]
           ]
          },
          "colorway": [
           "#1F77B4",
           "#FF7F0E",
           "#2CA02C",
           "#D62728",
           "#9467BD",
           "#8C564B",
           "#E377C2",
           "#7F7F7F",
           "#BCBD22",
           "#17BECF"
          ],
          "font": {
           "color": "rgb(36,36,36)"
          },
          "geo": {
           "bgcolor": "white",
           "lakecolor": "white",
           "landcolor": "white",
           "showlakes": true,
           "showland": true,
           "subunitcolor": "white"
          },
          "hoverlabel": {
           "align": "left"
          },
          "hovermode": "closest",
          "mapbox": {
           "style": "light"
          },
          "paper_bgcolor": "white",
          "plot_bgcolor": "white",
          "polar": {
           "angularaxis": {
            "gridcolor": "rgb(232,232,232)",
            "linecolor": "rgb(36,36,36)",
            "showgrid": false,
            "showline": true,
            "ticks": "outside"
           },
           "bgcolor": "white",
           "radialaxis": {
            "gridcolor": "rgb(232,232,232)",
            "linecolor": "rgb(36,36,36)",
            "showgrid": false,
            "showline": true,
            "ticks": "outside"
           }
          },
          "scene": {
           "xaxis": {
            "backgroundcolor": "white",
            "gridcolor": "rgb(232,232,232)",
            "gridwidth": 2,
            "linecolor": "rgb(36,36,36)",
            "showbackground": true,
            "showgrid": false,
            "showline": true,
            "ticks": "outside",
            "zeroline": false,
            "zerolinecolor": "rgb(36,36,36)"
           },
           "yaxis": {
            "backgroundcolor": "white",
            "gridcolor": "rgb(232,232,232)",
            "gridwidth": 2,
            "linecolor": "rgb(36,36,36)",
            "showbackground": true,
            "showgrid": false,
            "showline": true,
            "ticks": "outside",
            "zeroline": false,
            "zerolinecolor": "rgb(36,36,36)"
           },
           "zaxis": {
            "backgroundcolor": "white",
            "gridcolor": "rgb(232,232,232)",
            "gridwidth": 2,
            "linecolor": "rgb(36,36,36)",
            "showbackground": true,
            "showgrid": false,
            "showline": true,
            "ticks": "outside",
            "zeroline": false,
            "zerolinecolor": "rgb(36,36,36)"
           }
          },
          "shapedefaults": {
           "fillcolor": "black",
           "line": {
            "width": 0
           },
           "opacity": 0.3
          },
          "ternary": {
           "aaxis": {
            "gridcolor": "rgb(232,232,232)",
            "linecolor": "rgb(36,36,36)",
            "showgrid": false,
            "showline": true,
            "ticks": "outside"
           },
           "baxis": {
            "gridcolor": "rgb(232,232,232)",
            "linecolor": "rgb(36,36,36)",
            "showgrid": false,
            "showline": true,
            "ticks": "outside"
           },
           "bgcolor": "white",
           "caxis": {
            "gridcolor": "rgb(232,232,232)",
            "linecolor": "rgb(36,36,36)",
            "showgrid": false,
            "showline": true,
            "ticks": "outside"
           }
          },
          "title": {
           "x": 0.05
          },
          "xaxis": {
           "automargin": true,
           "gridcolor": "rgb(232,232,232)",
           "linecolor": "rgb(36,36,36)",
           "showgrid": false,
           "showline": true,
           "ticks": "outside",
           "title": {
            "standoff": 15
           },
           "zeroline": false,
           "zerolinecolor": "rgb(36,36,36)"
          },
          "yaxis": {
           "automargin": true,
           "gridcolor": "rgb(232,232,232)",
           "linecolor": "rgb(36,36,36)",
           "showgrid": false,
           "showline": true,
           "ticks": "outside",
           "title": {
            "standoff": 15
           },
           "zeroline": false,
           "zerolinecolor": "rgb(36,36,36)"
          }
         }
        },
        "title": {
         "text": "InletPressure g-pump-6 for all weeks "
        },
        "xaxis": {
         "anchor": "y",
         "domain": [
          0,
          1
         ],
         "title": {
          "text": "week"
         },
         "type": "category"
        },
        "yaxis": {
         "anchor": "x",
         "domain": [
          0,
          1
         ],
         "title": {
          "text": "feature_value"
         }
        }
       }
      },
      "text/html": [
       "<div>\n",
       "        \n",
       "        \n",
       "            <div id=\"143b4ebe-2a7d-4814-8119-31bf2d8f63dd\" class=\"plotly-graph-div\" style=\"height:525px; width:100%;\"></div>\n",
       "            <script type=\"text/javascript\">\n",
       "                require([\"plotly\"], function(Plotly) {\n",
       "                    window.PLOTLYENV=window.PLOTLYENV || {};\n",
       "                    \n",
       "                if (document.getElementById(\"143b4ebe-2a7d-4814-8119-31bf2d8f63dd\")) {\n",
       "                    Plotly.newPlot(\n",
       "                        '143b4ebe-2a7d-4814-8119-31bf2d8f63dd',\n",
       "                        [{\"hoverlabel\": {\"namelength\": 0}, \"hovertemplate\": \"week=%{x}<br>feature_value=%{y}\", \"legendgroup\": \"\", \"marker\": {\"color\": \"#1F77B4\", \"symbol\": \"circle\"}, \"mode\": \"markers\", \"name\": \"\", \"showlegend\": false, \"type\": \"scatter\", \"x\": [47, 47, 47, 47, 47, 47, 47, 47, 47, 47, 47, 47, 47, 47, 47, 47, 47, 47, 47, 47, 47, 47, 47, 47, 47, 47, 47, 47, 47, 47, 47, 47, 47, 47, 47, 47, 47, 47, 47, 47, 47, 47, 47, 47, 47, 47, 47, 47, 47, 47, 47, 47, 47, 47, 47, 47, 47, 47, 47, 47, 47, 47, 47, 47, 47, 47, 47, 47, 47, 47, 47, 47, 47, 47, 47, 47, 47, 47, 47, 47, 47, 47, 47, 47, 47, 47, 47, 47, 47, 47, 47, 47, 47, 47, 47, 47, 47, 47, 47, 47, 47, 47, 47, 47, 47, 47, 47, 48, 48, 48, 48, 48, 48, 48, 48, 48, 48, 48, 48, 48, 48, 48, 48, 48, 48, 48, 48, 48, 48, 48, 48, 48, 48, 48, 48, 48, 48, 48, 48, 48, 48, 48, 48, 48, 48, 48, 48, 48, 48, 48, 48, 48, 48, 48, 48, 48, 48, 48, 48, 48, 48, 48, 48, 48, 48, 48, 48, 48, 48, 48, 48, 48, 48, 48, 48, 48, 48, 48, 48, 48, 48, 48, 48, 48, 48, 48, 48, 48, 48, 48, 48, 48, 48, 48, 48, 48, 48, 48, 48, 48, 48, 48, 48, 48, 48, 48, 48, 48, 48, 48, 48, 48, 48, 48, 48, 48, 48, 48, 48, 48, 48, 48, 48, 48, 48, 48, 48, 48, 48, 48, 48, 48, 48, 48, 48, 48, 48, 48, 48, 48, 48, 48, 48, 48, 48, 48, 48, 48, 48, 48, 48, 48, 48, 48, 48, 48, 48, 48, 48, 48, 48, 48, 48, 48, 48, 48, 48, 48, 48, 48, 48, 48, 48, 49, 49, 49, 49, 49, 49, 49, 49, 49, 49, 49, 49, 49, 49, 49, 49, 49, 49, 49, 49, 49, 49, 49, 49, 49, 49, 49, 49, 49, 50, 50, 50, 50, 50, 50, 50, 50, 50, 50, 50, 50, 50, 50, 50, 50, 50, 50, 50, 50, 50, 50, 50, 50, 50, 50, 50, 50, 50, 50, 50, 51, 51, 51, 51, 51, 51, 51, 51, 51, 51, 51, 51, 51, 51, 51, 51, 51, 51, 51, 51, 51, 51, 51, 51, 51, 51, 51, 51, 51, 51, 51, 51, 51, 51, 51, 51, 51, 51, 51, 51, 51, 51, 51, 51, 51, 51, 51, 51, 51, 51, 51, 51, 51, 51, 51, 51, 51, 51, 51, 51, 51, 51, 51, 51, 51, 51, 51, 51, 51, 51, 51, 51, 51, 51, 51, 51, 51, 51, 51, 51, 51, 51, 51, 51, 51, 51, 51, 51, 51, 51, 51, 51, 51, 51, 51, 51, 51, 51, 51, 51, 51, 51, 51, 51, 51, 51, 51, 51, 51, 51, 51, 51, 51, 51, 51, 51, 51, 51, 51, 51, 51, 51, 51, 51, 51, 51, 51, 51, 51, 51, 51, 51, 51, 51, 51, 51, 51, 51, 51, 51, 51, 51, 51, 51, 51, 51, 51, 51, 52, 52, 52, 52, 52, 52, 52, 52, 52, 52, 52, 52, 52, 52, 52, 52, 52, 52, 52, 52, 52, 52, 52, 52, 52, 52, 52, 52, 52, 52, 52, 52, 52, 52, 52, 52, 52, 52, 52, 52, 52, 52, 52, 52, 52, 52, 52, 52, 52, 52, 52, 52, 52, 52, 52, 52, 52, 52, 52, 52, 52, 52, 52, 52, 52, 52, 52, 52, 52, 52, 52, 52, 52, 52, 52, 52, 52, 52, 52, 52, 52, 52, 52, 52, 52, 52, 52, 52, 52, 52, 52, 52, 52, 52, 52, 52, 52, 52, 52, 52, 52, 52, 52, 52, 52, 52, 52, 52, 52, 52, 52, 52, 52, 52, 52, 52, 52, 52, 52, 52, 52, 52, 52, 52, 52, 52, 52, 52, 52, 52, 52, 52, 52, 52, 52, 52, 52, 52, 52, 52, 52, 52, 52, 52, 52, 52, 52, 52, 52, 52, 52, 52, 52, 52, 52, 52, 52, 52, 52, 52, 52, 52, 52, 52, 52, 1, 1, 1, 1, 1, 1, 1, 1, 1, 1, 1, 1, 1, 1, 1, 1, 1, 1, 1, 1, 1, 1, 1, 1, 1, 1, 1, 1, 1, 1, 1, 1, 1, 1, 1, 1, 1, 1, 1, 1, 1, 1, 1, 1, 1, 1, 1, 1, 1, 1, 1, 1, 1, 1, 1, 1, 1, 1, 1, 1, 1, 1, 1, 1, 1, 1, 1, 1, 1, 1, 1, 1, 1, 1, 1, 1, 1, 1, 1, 1, 1, 1, 1, 1, 1, 1, 1, 1, 1, 1, 1, 1, 1, 1, 1, 1, 1, 1, 1, 1, 1, 1, 1, 1, 1, 1, 1, 1, 1, 1, 1, 1, 1, 1, 1, 1, 1, 1, 1, 1, 1, 1, 1, 1, 1, 1, 1, 1, 1, 1, 1, 1, 1, 1, 1, 1, 1, 1, 1, 1, 1, 1, 1, 1, 1, 1, 1, 1, 1, 1, 1, 1, 1, 1, 1, 1, 1, 1, 1, 1, 1, 1, 1, 1, 1, 1, 1, 1, 2, 2, 2, 2, 2, 2, 2, 2, 2, 2, 2, 2, 2, 2, 2, 2, 2], \"xaxis\": \"x\", \"y\": [2.8266521693167608, 2.8626155458066527, 2.9121110371110386, 2.8635658323158313, 2.7992724867724874, 2.8428342490842495, 2.8549170736670724, 2.908145095645096, 2.8711334961334973, 2.8055046805046797, 2.790496540496541, 2.8079212454212445, 2.863947395197396, 2.833740333740334, 2.8279532967032956, 2.7952024827024835, 2.848239723239722, 2.8555530118030124, 2.9114519739519733, 2.878955535205536, 2.823565323565324, 2.868462555962557, 2.898054877221544, 2.8229929792429793, 2.8336131461131466, 2.7996540496540496, 2.8008623321123314, 2.8883674196174183, 2.8235653235653246, 2.821593915343913, 2.8687169312169307, 2.778286528286529, 2.84518722018722, 2.812627187627186, 2.816506410256411, 2.844360500610501, 2.81396265771266, 2.8030881155881158, 2.862039580789579, 2.8006079568579563, 2.822611416361413, 2.807094525844525, 2.8528820716320733, 2.7788588726088714, 2.7878256003256006, 2.839972527472528, 2.8475401912901908, 2.8180326617826625, 2.8279532967032956, 2.907000407000405, 2.8099562474562476, 2.862929894179892, 2.801243894993895, 2.8381919006919, 2.850020350020347, 2.844042531542531, 2.7993996743996745, 2.8495115995115996, 2.848939255189254, 2.8067129629629632, 2.837428774928773, 2.8177782865282848, 2.8345670533170524, 2.7879527879527886, 2.8057590557590566, 2.795393264143265, 2.7878256003255992, 2.845568783068782, 2.777141839641839, 2.849511599511598, 2.8161884411884404, 2.7945029507529493, 2.8228021978021984, 2.82051282051282, 2.871705840455841, 2.817969067969066, 2.837110805860806, 2.821911884411884, 2.8350122100122106, 2.8519917582417578, 2.825663919413918, 2.883534289784288, 2.8144078144078133, 2.7868716931216913, 2.8430886243386237, 2.8023249898249882, 2.843724562474563, 2.8498295685795667, 2.8418167480667478, 2.8635022385022384, 2.9103708791208778, 2.82719017094017, 2.798191391941391, 2.7862993487993495, 2.8367292429792434, 2.8729777167277173, 2.8090023402523414, 2.8726597476597466, 2.8724053724053724, 2.8350758038258017, 2.8077304639804623, 2.8754578754578755, 2.8409264346764345, 2.8387642450142443, 2.8705611518111502, 2.8051867114367113, 2.8499567562067543, 2.808620777370777, 2.829415954415955, 2.829670329670328, 2.930275742775743, 2.824201261701262, 2.781720594220594, 2.8679538054538054, 2.818795787545788, 2.814153439153438, 2.8439789377289366, 2.842643467643468, 2.8390822140822145, 2.854917073667073, 2.8782560032560025, 2.8053774928774913, 2.8206400081400074, 2.7731354293854307, 2.839845339845341, 2.8150437525437524, 2.9040114977614984, 2.809002340252341, 2.826299857549857, 2.8610220797720802, 2.8199404761904767, 2.8556801994302, 2.8954263329263337, 2.815616096866098, 2.857142857142858, 2.796792328042327, 2.7875076312576303, 2.8202584452584443, 2.855934574684575, 2.7971102971102995, 2.7992724867724874, 2.8437881562881575, 2.8451872201872184, 2.9152040089540088, 2.8957443019943017, 2.8498295685795685, 2.822102665852666, 2.893772893772894, 2.8462047212047197, 2.8863960113960108, 2.9120879120879124, 2.880291005291006, 2.807921245421245, 2.8930097680097666, 2.800671550671549, 2.8140262515262524, 2.9064916564916565, 2.8498295685795694, 2.9263329263329254, 2.8635022385022384, 2.8583511396011385, 2.8030245217745224, 2.8551078551078546, 2.7808938746438727, 2.8354573667073653, 2.849384411884413, 2.848176129426129, 2.834312678062679, 2.858859890109889, 2.8098290598290596, 2.842707061457062, 2.875585063085062, 2.822675010175008, 2.8132631257631258, 2.8382554945054945, 2.862484737484737, 2.806140618640619, 2.8381283068783074, 2.783374033374033, 2.845568783068782, 2.829352360602359, 2.7873804436304432, 2.8640745828245815, 2.8359025234025226, 2.7927859177859187, 2.8147893772893773, 2.841753154253153, 2.8105921855921854, 2.8809905372405367, 2.810973748473749, 2.8313873626373627, 2.8537723850223866, 2.894599613349614, 2.8429614367114358, 2.803342490842491, 2.921944953194952, 2.8300518925518925, 2.889575702075702, 2.9512617012617017, 2.763087606837608, 2.8513558201058196, 2.8528820716320715, 2.863184269434269, 2.7662672975172975, 2.827953296703296, 2.8269993894993912, 2.7941849816849804, 2.8049323361823357, 2.803278897028896, 2.859940984940985, 2.8456959706959712, 2.752213064713065, 2.8989239926739927, 2.827889702889703, 2.7480794668294677, 2.8116732804232814, 2.792595136345137, 2.8180962555962563, 2.7652497964997966, 2.8420711233211233, 2.8019434269434274, 2.806204212454212, 2.8689713064713067, 2.8949811762311763, 2.840735653235653, 2.873232091982091, 2.790750915750916, 2.7585724460724452, 2.8126907814407804, 2.804042022792023, 2.7892246642246636, 2.8066493691493677, 2.8067129629629632, 2.871960215710216, 2.8280168905168903, 2.781275437525437, 2.8476037851037845, 2.8661095848595832, 2.8698616198616196, 2.801243894993894, 2.801434676434676, 2.8399725274725274, 2.861912393162392, 2.8519917582417573, 2.810274216524215, 2.8149165649165666, 2.7987001424501408, 2.8847425722425712, 2.872405372405373, 2.8291361416361416, 2.8240104802604793, 2.818223443223442, 2.786553724053722, 2.7759971509971506, 2.804995929995931, 2.8424526862026855, 2.8075396825396823, 2.7721815221815214, 2.861530830280829, 2.8504019129019116, 2.85002035002035, 2.850211131461131, 2.8254095441595433, 2.822738603988603, 2.8656644281644272, 2.7728174603174605, 2.864392551892552, 2.8013710826210834, 2.8136446886446884, 2.760543854293856, 2.8302426739926747, 2.8105921855921863, 2.7781593406593394, 2.8447420634920637, 2.8038512413512415, 2.8444876882376877, 2.834439865689864, 2.79482091982092, 2.839718152218151, 2.894853988603989, 2.858287545787547, 2.8437245624745615, 2.796039801248133, 2.7884615384615365, 2.8208943833943825, 2.8589234839234847, 2.8602589540089536, 2.8675086487586494, 2.8331679894179893, 2.935045278795279, 2.9075091575091583, 2.7776505901505892, 2.884933353683353, 2.8280168905168903, 2.867763024013024, 2.8418803418803407, 2.867635836385835, 2.8276989214489223, 2.859432234432235, 2.79901811151811, 2.8746311558811564, 2.874313186813186, 2.827228327228326, 2.895299145299146, 2.963026556776559, 2.9021672771672766, 2.955140923890923, 2.9698946886446893, 2.9760632885632883, 2.980514855514856, 2.869988807488808, 2.9058557183557183, 2.9038843101343104, 2.9581934269434265, 2.9134869759869755, 2.9932972120472123, 2.93205636955637, 2.9047110297110286, 2.888876170126169, 2.98477564102564, 2.9161579161579163, 2.9452202889702903, 2.924997456247455, 2.908335877085877, 2.9216905779405784, 2.927159645909646, 2.966842185592185, 2.9289402726902725, 2.8930733618233617, 2.988018925518926, 2.8963166463166456, 2.9884640822140813, 3.0236950549450547, 2.953105921855922, 2.9261421448921454, 2.9557132682132683, 2.927986365486365, 2.9398148148148144, 2.9567307692307687, 2.93122964997965, 2.883788665038665, 2.875076312576312, 2.8561253561253577, 2.942485754985755, 2.9363171550671563, 2.933391839641839, 2.900132275132274, 2.8884946072446085, 2.8857600732600712, 2.8298611111111107, 2.92124542124542, 2.8388278388278394, 2.815806878306877, 2.893645706145705, 2.902866809116808, 2.8887489824989827, 2.8553622303622297, 2.874885531135531, 2.8626119251119246, 2.8687805250305263, 2.860958485958488, 2.806776556776556, 2.8387006512006505, 2.8360933048433044, 2.8617216117216113, 2.8695436507936507, 2.842961436711437, 2.865473646723648, 2.8514830077330076, 2.8567612942612945, 2.8513558201058196, 2.8646469271469264, 2.816252035002035, 2.907699938949938, 2.804868742368743, 2.8650920838420824, 2.8626755189255175, 2.8932005494505475, 2.8169515669515675, 2.9952686202686194, 2.880354599104599, 3.0235042735042725, 2.9358084045584047, 2.954504985754985, 2.926269332519331, 2.962835775335775, 2.9183201058201043, 2.9653795278795285, 2.954314204314203, 2.963026556776558, 2.973074379324378, 2.9753637566137545, 2.965188746438745, 2.9744098494098483, 2.895426332926333, 2.918701668701669, 2.9649343711843703, 2.9832493894993894, 3.000992063492062, 2.934472934472933, 2.9538690476190492, 2.952469983719984, 2.9692587505087507, 3.024648962148962, 3.0063975376475374, 2.8774928774928785, 2.8121820309320307, 2.8813721001220984, 2.8561889499389506, 2.8761574074074097, 2.8563161375661372, 2.910180097680097, 2.85402676027676, 2.8734228734228733, 2.974409849409851, 2.8314509564509556, 2.873613654863655, 2.8939000814000813, 2.8980972730972714, 2.838955026455025, 2.8964438339438345, 2.899369149369148, 2.8732956857956853, 2.9103072853072853, 2.86636396011396, 2.881690069190069, 2.8735500610500595, 2.8192409442409434, 2.9486543549043542, 2.9754909442409443, 2.8608312983312985, 2.8690349002849, 2.8574608262108274, 2.9225172975172975, 2.874631155881156, 2.856952075702077, 2.8893213268213267, 2.88372507122507, 2.8607041107041087, 2.863057081807083, 2.890974765974765, 2.904711029711031, 2.853072853072854, 2.885632885632886, 2.8240740740740744, 2.896761803011804, 2.831005799755802, 2.86172161172161, 2.8491300366300365, 2.8361568986568977, 2.9386701261701265, 2.8522461334961307, 2.8813085063085055, 2.8462047212047223, 2.9599104599104575, 2.837428774928776, 2.8308786121286134, 2.881944444444444, 2.8961258648758648, 2.8401633089133083, 2.843851750101752, 2.8476673789173788, 2.8383190883190887, 2.842198310948312, 2.896316646316645, 2.865918803418803, 2.861085673585673, 2.8439789377289375, 2.873232091982091, 2.844360500610501, 2.8427706552706553, 2.874821937321936, 2.9222629222629215, 2.9240435490435495, 2.8734228734228715, 2.9615003052503055, 2.8990511803011785, 2.867190679690681, 2.891992266992266, 2.867190679690678, 2.875712250712251, 2.8954899267399257, 2.913614163614165, 2.826363451363452, 2.8732956857956844, 2.8999414936914945, 2.860767704517704, 2.827762515262515, 2.9066824379324374, 2.8735500610500595, 2.9022944647944637, 2.970530626780627, 2.9211182336182335, 2.9399420024420024, 2.9253790191290165, 2.8885582010581996, 2.9146952584452595, 2.890911172161171, 2.8930097680097675, 2.8873499185999187, 2.8794006919006923, 2.8381919006919003, 2.897779304029303, 2.853899572649574, 2.8507834757834747, 2.800671550671551, 2.898478835978835, 2.878383190883191, 2.886777574277573, 2.775234025234024, 2.8794642857142847, 2.910816035816035, 2.9011497761497753, 2.8400997150997145, 2.8240104802604797, 2.8793370980870985, 2.8526276963776955, 2.821530321530322, 2.8765389702889714, 2.8924374236874244, 2.8514830077330084, 2.872468966218966, 2.8802910052910047, 2.923789173789173, 2.9522792022792026, 2.895426332926333, 2.8900844525844516, 2.870624745624745, 2.886396011396012, 2.820131257631257, 2.887858669108669, 2.9276048026048023, 2.867826617826619, 2.8488756613756614, 2.8699252136752134, 2.878319597069597, 2.847222222222222, 2.8643925518925513, 2.8497659747659747, 2.9294490231990213, 2.9318019943019937, 2.9104344729344738, 2.891419922669923, 2.8512286324786342, 2.92576058201058, 2.8774928774928763, 2.8486848799348805, 2.887095543345543, 2.919846357346357, 2.8907839845339853, 2.9067460317460316, 2.8989239926739923, 2.935426841676842, 2.935236060236058, 2.872532560032561, 2.8657916157916152, 2.926905270655269, 2.9116427553927555, 2.8538995726495724, 2.865855209605209, 2.859940984940985, 2.9233440170940157, 2.921054639804639, 2.867763024013025, 2.911579161579161, 2.9129782254782257, 2.823883292633292, 2.9064280626780623, 2.889321326821325, 2.8521189458689467, 2.91456807081807, 2.910498066748067, 2.841371591371592, 2.9134233821733826, 2.892501017501018, 2.875712250712251, 2.9036299348799357, 2.93154761904762, 2.8890033577533587, 2.9163486975986976, 2.9129146316646306, 2.8567612942612928, 2.9445843508343508, 2.8845517908017904, 2.8566341066341057, 2.885632885632886, 2.9085266585266596, 2.9239799552299535, 2.8812449124949127, 2.82451923076923, 2.8715786528286533, 2.9422949735449744, 2.9385429385429376, 2.83965455840456, 2.9792429792429798, 2.895744301994302, 2.843088624338625, 2.850974257224257, 2.8027701465201447, 2.906046499796499, 2.872468966218966, 2.9139321326821315, 2.8371743996744008, 2.867763024013023, 2.86521927146927, 2.7939942002442, 2.8734228734228733, 2.802261396011397, 2.8454415954415944, 2.833803927553928, 2.967859686609687, 2.863502238502239, 2.835139397639398, 2.916221509971509, 2.9145044770044746, 2.825600325600325, 2.8841066341066344, 2.832532051282051, 2.9608643671143677, 2.9404507529507526, 2.8070945258445246, 2.865791615791616, 2.8361568986568977, 2.8813721001220998, 2.868844118844119, 2.920355107855109, 2.902358058608059, 2.8563161375661377, 2.8900844525844533, 2.896825396825397, 2.8669363044363045, 2.895235551485552, 2.863883801383802, 2.857270044770045, 2.8892577330077334, 2.814916564916564, 2.9052197802197797, 2.847985347985349, 2.8690984940984943, 2.865600834350834, 2.8832163207163206, 2.872532560032561, 2.8722145909645924, 2.8982244607244607, 2.8782560032560034, 2.841117216117215, 2.8712606837606836, 2.928240740740742, 2.9263965201465214, 2.9250610500610486, 2.8881130443630454, 2.7551383801383817, 2.8383190883190874, 2.918574481074483, 2.82750814000814, 2.8483669108669107, 2.887604293854293, 2.9315476190476186, 2.838001119251118, 2.9649343711843703, 3.020769739519738, 2.9915801790801795, 2.867826617826617, 2.910879629629628, 2.943376068376068, 2.850592694342693, 2.8966982091982083, 2.8763481888481874, 2.8654736467236472, 2.7621336996337003, 2.9342821530321523, 2.87971866096866, 2.912660256410256, 2.9185744810744816, 2.840544871794872, 2.8437245624745624, 2.8431522181522166, 2.940005596255595, 2.800989519739519, 2.830369861619861, 2.8596230158730163, 2.902167277167276, 2.9461106023606014, 2.941404660154659, 2.939687627187627, 2.9403871591371598, 2.864265364265364, 2.971738909238909, 2.960673585673586, 2.955204517704518, 2.971357346357346, 2.9860475172975183, 2.9194647944647927, 2.934854497354497, 2.958320614570615, 2.8861416361416357, 2.9616274928774913, 2.9338369963369964, 2.901531339031339, 2.89771571021571, 2.9304665242165253, 2.880545380545381, 2.8896392958892965, 2.862802706552707, 2.977080789580788, 2.9398148148148144, 2.879146316646317, 2.8739316239316235, 2.936571530321531, 2.87469474969475, 2.892946174196174, 2.895617114367115, 2.897842897842897, 2.8790191290191296, 2.901785714285714, 2.890402421652423, 2.874058811558813, 2.9101800976800978, 2.869162087912089, 2.917874949124949, 2.9583842083842082, 2.875648656898657, 2.925124643874643, 2.9492902930402933, 2.9778439153439162, 2.8869683557183543, 2.8847425722425712, 2.9763176638176634, 2.9311660561660555, 2.966333435083435, 2.9278591778591774, 2.8848697598697597, 2.9970492470492474, 2.965061558811558, 2.881117724867724, 2.876602564102564, 2.913486975986976, 2.86833536833537, 2.885887260887261, 2.936889499389498, 2.8901480463980476, 2.886777574277574, 2.8573972323972328, 2.899814306064307, 2.8898300773300782, 2.909289784289783, 2.9097985347985342, 2.923534798534799, 2.929003866503867, 2.9461106023606027, 2.9110068172568186, 2.923916361416362, 2.978034696784697, 2.950625763125762, 2.922135734635733, 2.891547110297109, 2.806585775335775, 2.8933913308913315, 2.881435693935693, 2.8653464590964592, 2.9148224460724457, 2.95774827024827, 2.890466015466018, 2.932437932437932, 2.945856227106228, 2.8785739723239736, 2.879527879527878, 2.8540267602767613, 2.9367623117623105, 2.887795075295075, 2.9242343304843312, 2.9146952584452577, 2.977144383394382, 2.862993487993487, 2.9486543549043542, 2.9227080789580775, 2.855362230362229, 2.96709656084656, 2.914059320309319, 2.8835342897842895, 2.9781618844118847, 2.8753306878306883, 2.950498575498575, 2.862866300366303, 2.8923102360602364, 2.9640440577940566, 2.94191341066341, 2.9046474358974357, 2.8771749084249083, 2.877174908424907, 2.9391788766788776, 2.9646164021164014, 2.8860780423280445, 2.98159595034595, 2.9270324582824574, 2.8704975579975582, 2.940641534391535, 2.9479548229548236, 2.8997507122507127, 2.946682946682946, 2.874821937321937, 2.9485907610907596, 2.88302553927554, 2.9318019943019937, 2.9019764957264957, 2.889130545380546, 2.9586385836385847, 2.9205458892958895, 2.916984635734636, 2.896189458689458, 2.972374847374848, 2.941722629222627, 2.9583842083842096, 2.9005774318274327, 2.906873219373221, 2.9715481277981297, 2.9386701261701274, 2.908844627594627, 2.889003357753358, 2.9080815018315023, 2.9985754985754993, 2.9683048433048422, 2.9080815018315014, 2.8837886650386637, 2.9571123321123327, 2.918765262515263, 2.9444571632071628, 2.8679538054538045, 2.9201007326007336, 2.9527879527879524, 2.796347171347172], \"yaxis\": \"y\"}],\n",
       "                        {\"legend\": {\"tracegroupgap\": 0}, \"template\": {\"data\": {\"bar\": [{\"error_x\": {\"color\": \"rgb(36,36,36)\"}, \"error_y\": {\"color\": \"rgb(36,36,36)\"}, \"marker\": {\"line\": {\"color\": \"white\", \"width\": 0.5}}, \"type\": \"bar\"}], \"barpolar\": [{\"marker\": {\"line\": {\"color\": \"white\", \"width\": 0.5}}, \"type\": \"barpolar\"}], \"carpet\": [{\"aaxis\": {\"endlinecolor\": \"rgb(36,36,36)\", \"gridcolor\": \"white\", \"linecolor\": \"white\", \"minorgridcolor\": \"white\", \"startlinecolor\": \"rgb(36,36,36)\"}, \"baxis\": {\"endlinecolor\": \"rgb(36,36,36)\", \"gridcolor\": \"white\", \"linecolor\": \"white\", \"minorgridcolor\": \"white\", \"startlinecolor\": \"rgb(36,36,36)\"}, \"type\": \"carpet\"}], \"choropleth\": [{\"colorbar\": {\"outlinewidth\": 1, \"tickcolor\": \"rgb(36,36,36)\", \"ticks\": \"outside\"}, \"type\": \"choropleth\"}], \"contour\": [{\"colorbar\": {\"outlinewidth\": 1, \"tickcolor\": \"rgb(36,36,36)\", \"ticks\": \"outside\"}, \"colorscale\": [[0.0, \"#440154\"], [0.1111111111111111, \"#482878\"], [0.2222222222222222, \"#3e4989\"], [0.3333333333333333, \"#31688e\"], [0.4444444444444444, \"#26828e\"], [0.5555555555555556, \"#1f9e89\"], [0.6666666666666666, \"#35b779\"], [0.7777777777777778, \"#6ece58\"], [0.8888888888888888, \"#b5de2b\"], [1.0, \"#fde725\"]], \"type\": \"contour\"}], \"contourcarpet\": [{\"colorbar\": {\"outlinewidth\": 1, \"tickcolor\": \"rgb(36,36,36)\", \"ticks\": \"outside\"}, \"type\": \"contourcarpet\"}], \"heatmap\": [{\"colorbar\": {\"outlinewidth\": 1, \"tickcolor\": \"rgb(36,36,36)\", \"ticks\": \"outside\"}, \"colorscale\": [[0.0, \"#440154\"], [0.1111111111111111, \"#482878\"], [0.2222222222222222, \"#3e4989\"], [0.3333333333333333, \"#31688e\"], [0.4444444444444444, \"#26828e\"], [0.5555555555555556, \"#1f9e89\"], [0.6666666666666666, \"#35b779\"], [0.7777777777777778, \"#6ece58\"], [0.8888888888888888, \"#b5de2b\"], [1.0, \"#fde725\"]], \"type\": \"heatmap\"}], \"heatmapgl\": [{\"colorbar\": {\"outlinewidth\": 1, \"tickcolor\": \"rgb(36,36,36)\", \"ticks\": \"outside\"}, \"colorscale\": [[0.0, \"#440154\"], [0.1111111111111111, \"#482878\"], [0.2222222222222222, \"#3e4989\"], [0.3333333333333333, \"#31688e\"], [0.4444444444444444, \"#26828e\"], [0.5555555555555556, \"#1f9e89\"], [0.6666666666666666, \"#35b779\"], [0.7777777777777778, \"#6ece58\"], [0.8888888888888888, \"#b5de2b\"], [1.0, \"#fde725\"]], \"type\": \"heatmapgl\"}], \"histogram\": [{\"marker\": {\"line\": {\"color\": \"white\", \"width\": 0.6}}, \"type\": \"histogram\"}], \"histogram2d\": [{\"colorbar\": {\"outlinewidth\": 1, \"tickcolor\": \"rgb(36,36,36)\", \"ticks\": \"outside\"}, \"colorscale\": [[0.0, \"#440154\"], [0.1111111111111111, \"#482878\"], [0.2222222222222222, \"#3e4989\"], [0.3333333333333333, \"#31688e\"], [0.4444444444444444, \"#26828e\"], [0.5555555555555556, \"#1f9e89\"], [0.6666666666666666, \"#35b779\"], [0.7777777777777778, \"#6ece58\"], [0.8888888888888888, \"#b5de2b\"], [1.0, \"#fde725\"]], \"type\": \"histogram2d\"}], \"histogram2dcontour\": [{\"colorbar\": {\"outlinewidth\": 1, \"tickcolor\": \"rgb(36,36,36)\", \"ticks\": \"outside\"}, \"colorscale\": [[0.0, \"#440154\"], [0.1111111111111111, \"#482878\"], [0.2222222222222222, \"#3e4989\"], [0.3333333333333333, \"#31688e\"], [0.4444444444444444, \"#26828e\"], [0.5555555555555556, \"#1f9e89\"], [0.6666666666666666, \"#35b779\"], [0.7777777777777778, \"#6ece58\"], [0.8888888888888888, \"#b5de2b\"], [1.0, \"#fde725\"]], \"type\": \"histogram2dcontour\"}], \"mesh3d\": [{\"colorbar\": {\"outlinewidth\": 1, \"tickcolor\": \"rgb(36,36,36)\", \"ticks\": \"outside\"}, \"type\": \"mesh3d\"}], \"parcoords\": [{\"line\": {\"colorbar\": {\"outlinewidth\": 1, \"tickcolor\": \"rgb(36,36,36)\", \"ticks\": \"outside\"}}, \"type\": \"parcoords\"}], \"pie\": [{\"automargin\": true, \"type\": \"pie\"}], \"scatter\": [{\"marker\": {\"colorbar\": {\"outlinewidth\": 1, \"tickcolor\": \"rgb(36,36,36)\", \"ticks\": \"outside\"}}, \"type\": \"scatter\"}], \"scatter3d\": [{\"line\": {\"colorbar\": {\"outlinewidth\": 1, \"tickcolor\": \"rgb(36,36,36)\", \"ticks\": \"outside\"}}, \"marker\": {\"colorbar\": {\"outlinewidth\": 1, \"tickcolor\": \"rgb(36,36,36)\", \"ticks\": \"outside\"}}, \"type\": \"scatter3d\"}], \"scattercarpet\": [{\"marker\": {\"colorbar\": {\"outlinewidth\": 1, \"tickcolor\": \"rgb(36,36,36)\", \"ticks\": \"outside\"}}, \"type\": \"scattercarpet\"}], \"scattergeo\": [{\"marker\": {\"colorbar\": {\"outlinewidth\": 1, \"tickcolor\": \"rgb(36,36,36)\", \"ticks\": \"outside\"}}, \"type\": \"scattergeo\"}], \"scattergl\": [{\"marker\": {\"colorbar\": {\"outlinewidth\": 1, \"tickcolor\": \"rgb(36,36,36)\", \"ticks\": \"outside\"}}, \"type\": \"scattergl\"}], \"scattermapbox\": [{\"marker\": {\"colorbar\": {\"outlinewidth\": 1, \"tickcolor\": \"rgb(36,36,36)\", \"ticks\": \"outside\"}}, \"type\": \"scattermapbox\"}], \"scatterpolar\": [{\"marker\": {\"colorbar\": {\"outlinewidth\": 1, \"tickcolor\": \"rgb(36,36,36)\", \"ticks\": \"outside\"}}, \"type\": \"scatterpolar\"}], \"scatterpolargl\": [{\"marker\": {\"colorbar\": {\"outlinewidth\": 1, \"tickcolor\": \"rgb(36,36,36)\", \"ticks\": \"outside\"}}, \"type\": \"scatterpolargl\"}], \"scatterternary\": [{\"marker\": {\"colorbar\": {\"outlinewidth\": 1, \"tickcolor\": \"rgb(36,36,36)\", \"ticks\": \"outside\"}}, \"type\": \"scatterternary\"}], \"surface\": [{\"colorbar\": {\"outlinewidth\": 1, \"tickcolor\": \"rgb(36,36,36)\", \"ticks\": \"outside\"}, \"colorscale\": [[0.0, \"#440154\"], [0.1111111111111111, \"#482878\"], [0.2222222222222222, \"#3e4989\"], [0.3333333333333333, \"#31688e\"], [0.4444444444444444, \"#26828e\"], [0.5555555555555556, \"#1f9e89\"], [0.6666666666666666, \"#35b779\"], [0.7777777777777778, \"#6ece58\"], [0.8888888888888888, \"#b5de2b\"], [1.0, \"#fde725\"]], \"type\": \"surface\"}], \"table\": [{\"cells\": {\"fill\": {\"color\": \"rgb(237,237,237)\"}, \"line\": {\"color\": \"white\"}}, \"header\": {\"fill\": {\"color\": \"rgb(217,217,217)\"}, \"line\": {\"color\": \"white\"}}, \"type\": \"table\"}]}, \"layout\": {\"annotationdefaults\": {\"arrowhead\": 0, \"arrowwidth\": 1}, \"coloraxis\": {\"colorbar\": {\"outlinewidth\": 1, \"tickcolor\": \"rgb(36,36,36)\", \"ticks\": \"outside\"}}, \"colorscale\": {\"diverging\": [[0.0, \"rgb(103,0,31)\"], [0.1, \"rgb(178,24,43)\"], [0.2, \"rgb(214,96,77)\"], [0.3, \"rgb(244,165,130)\"], [0.4, \"rgb(253,219,199)\"], [0.5, \"rgb(247,247,247)\"], [0.6, \"rgb(209,229,240)\"], [0.7, \"rgb(146,197,222)\"], [0.8, \"rgb(67,147,195)\"], [0.9, \"rgb(33,102,172)\"], [1.0, \"rgb(5,48,97)\"]], \"sequential\": [[0.0, \"#440154\"], [0.1111111111111111, \"#482878\"], [0.2222222222222222, \"#3e4989\"], [0.3333333333333333, \"#31688e\"], [0.4444444444444444, \"#26828e\"], [0.5555555555555556, \"#1f9e89\"], [0.6666666666666666, \"#35b779\"], [0.7777777777777778, \"#6ece58\"], [0.8888888888888888, \"#b5de2b\"], [1.0, \"#fde725\"]], \"sequentialminus\": [[0.0, \"#440154\"], [0.1111111111111111, \"#482878\"], [0.2222222222222222, \"#3e4989\"], [0.3333333333333333, \"#31688e\"], [0.4444444444444444, \"#26828e\"], [0.5555555555555556, \"#1f9e89\"], [0.6666666666666666, \"#35b779\"], [0.7777777777777778, \"#6ece58\"], [0.8888888888888888, \"#b5de2b\"], [1.0, \"#fde725\"]]}, \"colorway\": [\"#1F77B4\", \"#FF7F0E\", \"#2CA02C\", \"#D62728\", \"#9467BD\", \"#8C564B\", \"#E377C2\", \"#7F7F7F\", \"#BCBD22\", \"#17BECF\"], \"font\": {\"color\": \"rgb(36,36,36)\"}, \"geo\": {\"bgcolor\": \"white\", \"lakecolor\": \"white\", \"landcolor\": \"white\", \"showlakes\": true, \"showland\": true, \"subunitcolor\": \"white\"}, \"hoverlabel\": {\"align\": \"left\"}, \"hovermode\": \"closest\", \"mapbox\": {\"style\": \"light\"}, \"paper_bgcolor\": \"white\", \"plot_bgcolor\": \"white\", \"polar\": {\"angularaxis\": {\"gridcolor\": \"rgb(232,232,232)\", \"linecolor\": \"rgb(36,36,36)\", \"showgrid\": false, \"showline\": true, \"ticks\": \"outside\"}, \"bgcolor\": \"white\", \"radialaxis\": {\"gridcolor\": \"rgb(232,232,232)\", \"linecolor\": \"rgb(36,36,36)\", \"showgrid\": false, \"showline\": true, \"ticks\": \"outside\"}}, \"scene\": {\"xaxis\": {\"backgroundcolor\": \"white\", \"gridcolor\": \"rgb(232,232,232)\", \"gridwidth\": 2, \"linecolor\": \"rgb(36,36,36)\", \"showbackground\": true, \"showgrid\": false, \"showline\": true, \"ticks\": \"outside\", \"zeroline\": false, \"zerolinecolor\": \"rgb(36,36,36)\"}, \"yaxis\": {\"backgroundcolor\": \"white\", \"gridcolor\": \"rgb(232,232,232)\", \"gridwidth\": 2, \"linecolor\": \"rgb(36,36,36)\", \"showbackground\": true, \"showgrid\": false, \"showline\": true, \"ticks\": \"outside\", \"zeroline\": false, \"zerolinecolor\": \"rgb(36,36,36)\"}, \"zaxis\": {\"backgroundcolor\": \"white\", \"gridcolor\": \"rgb(232,232,232)\", \"gridwidth\": 2, \"linecolor\": \"rgb(36,36,36)\", \"showbackground\": true, \"showgrid\": false, \"showline\": true, \"ticks\": \"outside\", \"zeroline\": false, \"zerolinecolor\": \"rgb(36,36,36)\"}}, \"shapedefaults\": {\"fillcolor\": \"black\", \"line\": {\"width\": 0}, \"opacity\": 0.3}, \"ternary\": {\"aaxis\": {\"gridcolor\": \"rgb(232,232,232)\", \"linecolor\": \"rgb(36,36,36)\", \"showgrid\": false, \"showline\": true, \"ticks\": \"outside\"}, \"baxis\": {\"gridcolor\": \"rgb(232,232,232)\", \"linecolor\": \"rgb(36,36,36)\", \"showgrid\": false, \"showline\": true, \"ticks\": \"outside\"}, \"bgcolor\": \"white\", \"caxis\": {\"gridcolor\": \"rgb(232,232,232)\", \"linecolor\": \"rgb(36,36,36)\", \"showgrid\": false, \"showline\": true, \"ticks\": \"outside\"}}, \"title\": {\"x\": 0.05}, \"xaxis\": {\"automargin\": true, \"gridcolor\": \"rgb(232,232,232)\", \"linecolor\": \"rgb(36,36,36)\", \"showgrid\": false, \"showline\": true, \"ticks\": \"outside\", \"title\": {\"standoff\": 15}, \"zeroline\": false, \"zerolinecolor\": \"rgb(36,36,36)\"}, \"yaxis\": {\"automargin\": true, \"gridcolor\": \"rgb(232,232,232)\", \"linecolor\": \"rgb(36,36,36)\", \"showgrid\": false, \"showline\": true, \"ticks\": \"outside\", \"title\": {\"standoff\": 15}, \"zeroline\": false, \"zerolinecolor\": \"rgb(36,36,36)\"}}}, \"title\": {\"text\": \"InletPressure g-pump-6 for all weeks \"}, \"xaxis\": {\"anchor\": \"y\", \"domain\": [0.0, 1.0], \"title\": {\"text\": \"week\"}, \"type\": \"category\"}, \"yaxis\": {\"anchor\": \"x\", \"domain\": [0.0, 1.0], \"title\": {\"text\": \"feature_value\"}}},\n",
       "                        {\"responsive\": true}\n",
       "                    ).then(function(){\n",
       "                            \n",
       "var gd = document.getElementById('143b4ebe-2a7d-4814-8119-31bf2d8f63dd');\n",
       "var x = new MutationObserver(function (mutations, observer) {{\n",
       "        var display = window.getComputedStyle(gd).display;\n",
       "        if (!display || display === 'none') {{\n",
       "            console.log([gd, 'removed!']);\n",
       "            Plotly.purge(gd);\n",
       "            observer.disconnect();\n",
       "        }}\n",
       "}});\n",
       "\n",
       "// Listen for the removal of the full notebook cells\n",
       "var notebookContainer = gd.closest('#notebook-container');\n",
       "if (notebookContainer) {{\n",
       "    x.observe(notebookContainer, {childList: true});\n",
       "}}\n",
       "\n",
       "// Listen for the clearing of the current output cell\n",
       "var outputEl = gd.closest('.output');\n",
       "if (outputEl) {{\n",
       "    x.observe(outputEl, {childList: true});\n",
       "}}\n",
       "\n",
       "                        })\n",
       "                };\n",
       "                });\n",
       "            </script>\n",
       "        </div>"
      ]
     },
     "metadata": {},
     "output_type": "display_data"
    },
    {
     "data": {
      "application/vnd.plotly.v1+json": {
       "config": {
        "plotlyServerURL": "https://plot.ly"
       },
       "data": [
        {
         "hoverlabel": {
          "namelength": 0
         },
         "hovertemplate": "week=%{x}<br>feature_value=%{y}",
         "legendgroup": "",
         "marker": {
          "color": "#1F77B4",
          "symbol": "circle"
         },
         "mode": "markers",
         "name": "",
         "showlegend": false,
         "type": "scatter",
         "x": [
          47,
          47,
          47,
          47,
          47,
          47,
          47,
          47,
          47,
          47,
          47,
          47,
          47,
          47,
          47,
          47,
          47,
          47,
          47,
          47,
          47,
          47,
          47,
          47,
          47,
          47,
          47,
          47,
          47,
          47,
          47,
          47,
          47,
          47,
          47,
          47,
          47,
          47,
          47,
          47,
          47,
          47,
          47,
          47,
          47,
          47,
          47,
          47,
          47,
          47,
          47,
          47,
          47,
          47,
          47,
          47,
          47,
          47,
          47,
          47,
          47,
          47,
          47,
          47,
          47,
          47,
          47,
          47,
          47,
          47,
          47,
          47,
          47,
          47,
          47,
          47,
          47,
          47,
          47,
          47,
          47,
          47,
          47,
          47,
          47,
          47,
          47,
          47,
          47,
          47,
          47,
          47,
          47,
          47,
          47,
          47,
          47,
          47,
          47,
          47,
          47,
          47,
          47,
          47,
          47,
          47,
          47,
          47,
          48,
          48,
          48,
          48,
          48,
          48,
          48,
          48,
          48,
          48,
          48,
          48,
          48,
          48,
          48,
          48,
          48,
          48,
          48,
          48,
          48,
          48,
          48,
          48,
          48,
          48,
          48,
          48,
          48,
          48,
          48,
          48,
          48,
          48,
          48,
          48,
          48,
          48,
          48,
          48,
          48,
          48,
          48,
          48,
          48,
          48,
          48,
          48,
          48,
          48,
          48,
          48,
          48,
          48,
          48,
          48,
          48,
          48,
          48,
          48,
          48,
          48,
          48,
          48,
          48,
          48,
          48,
          48,
          48,
          48,
          48,
          48,
          48,
          48,
          48,
          48,
          48,
          48,
          48,
          48,
          48,
          48,
          48,
          48,
          48,
          48,
          48,
          48,
          48,
          48,
          48,
          48,
          48,
          48,
          48,
          48,
          48,
          48,
          48,
          48,
          48,
          48,
          48,
          48,
          48,
          48,
          48,
          48,
          48,
          48,
          48,
          48,
          48,
          48,
          48,
          48,
          48,
          48,
          48,
          48,
          48,
          48,
          48,
          48,
          48,
          48,
          48,
          48,
          48,
          48,
          48,
          48,
          48,
          48,
          48,
          48,
          48,
          48,
          48,
          48,
          48,
          48,
          48,
          48,
          48,
          48,
          48,
          48,
          48,
          48,
          48,
          48,
          48,
          48,
          48,
          48,
          48,
          48,
          48,
          48,
          48,
          48,
          48,
          48,
          48,
          48,
          49,
          49,
          49,
          49,
          49,
          49,
          49,
          49,
          49,
          49,
          49,
          49,
          49,
          49,
          49,
          49,
          49,
          49,
          49,
          49,
          49,
          49,
          49,
          49,
          49,
          49,
          49,
          49,
          50,
          50,
          50,
          50,
          50,
          50,
          50,
          50,
          50,
          50,
          50,
          50,
          50,
          50,
          50,
          50,
          50,
          50,
          50,
          50,
          50,
          50,
          50,
          50,
          50,
          50,
          50,
          50,
          50,
          50,
          50,
          50,
          50,
          50,
          50,
          50,
          50,
          50,
          50,
          50,
          50,
          50,
          50,
          50,
          50,
          50,
          50,
          50,
          50,
          50,
          50,
          50,
          50,
          50,
          50,
          50,
          50,
          50,
          50,
          50,
          50,
          50,
          51,
          51,
          51,
          51,
          51,
          51,
          51,
          51,
          51,
          51,
          51,
          51,
          51,
          51,
          51,
          51,
          51,
          51,
          51,
          51,
          51,
          51,
          51,
          51,
          51,
          51,
          51,
          51,
          51,
          51,
          51,
          51,
          51,
          51,
          51,
          51,
          51,
          51,
          51,
          51,
          51,
          51,
          51,
          51,
          51,
          51,
          51,
          51,
          51,
          51,
          51,
          51,
          51,
          51,
          51,
          51,
          51,
          51,
          51,
          51,
          51,
          51,
          51,
          51,
          51,
          51,
          51,
          51,
          51,
          51,
          51,
          51,
          51,
          51,
          51,
          51,
          51,
          51,
          51,
          51,
          51,
          51,
          51,
          51,
          51,
          51,
          51,
          51,
          51,
          51,
          51,
          51,
          51,
          51,
          51,
          51,
          51,
          51,
          51,
          51,
          51,
          51,
          51,
          51,
          51,
          51,
          51,
          51,
          51,
          51,
          51,
          51,
          51,
          51,
          51,
          51,
          51,
          51,
          51,
          51,
          51,
          51,
          51,
          51,
          51,
          51,
          51,
          51,
          51,
          51,
          51,
          51,
          51,
          51,
          51,
          51,
          51,
          51,
          51,
          51,
          51,
          51,
          51,
          51,
          51,
          51,
          51,
          51,
          51,
          51,
          51,
          51,
          51,
          51,
          51,
          51,
          51,
          51,
          51,
          51,
          51,
          51,
          51,
          51,
          51,
          51,
          51,
          52,
          52,
          52,
          52,
          52,
          52,
          52,
          52,
          52,
          52,
          52,
          52,
          52,
          52,
          52,
          52,
          52,
          52,
          52,
          52,
          52,
          52,
          52,
          52,
          52,
          52,
          52,
          52,
          52,
          52,
          52,
          52,
          52,
          52,
          52,
          52,
          52,
          52,
          52,
          52,
          52,
          52,
          52,
          52,
          52,
          52,
          52,
          52,
          52,
          52,
          52,
          52,
          52,
          52,
          52,
          52,
          52,
          52,
          52,
          52,
          52,
          52,
          52,
          52,
          52,
          52,
          52,
          52,
          52,
          52,
          52,
          52,
          52,
          52,
          52,
          52,
          52,
          52,
          52,
          52,
          52,
          52,
          52,
          52,
          52,
          52,
          52,
          52,
          52,
          52,
          52,
          52,
          52,
          52,
          52,
          52,
          52,
          52,
          52,
          52,
          52,
          52,
          52,
          52,
          52,
          52,
          52,
          52,
          52,
          52,
          52,
          52,
          52,
          52,
          52,
          52,
          52,
          52,
          52,
          52,
          52,
          52,
          52,
          52,
          52,
          52,
          52,
          52,
          52,
          52,
          52,
          52,
          52,
          52,
          52,
          52,
          52,
          52,
          52,
          52,
          52,
          52,
          52,
          52,
          52,
          52,
          52,
          52,
          52,
          52,
          52,
          52,
          52,
          52,
          52,
          52,
          52,
          52,
          52,
          52,
          52,
          52,
          52,
          52,
          52,
          52,
          52,
          52,
          1,
          1,
          1,
          1,
          1,
          1,
          1,
          1,
          1,
          1,
          1,
          1,
          1,
          1,
          1,
          1,
          1,
          1,
          1,
          1,
          1,
          1,
          1,
          1,
          1,
          1,
          1,
          1,
          1,
          1,
          1,
          1,
          1,
          1,
          1,
          1,
          1,
          1,
          1,
          1,
          1,
          1,
          1,
          1,
          1,
          1,
          1,
          1,
          1,
          1,
          1,
          1,
          1,
          1,
          1,
          1,
          1,
          1,
          1,
          1,
          1,
          1,
          1,
          1,
          1,
          1,
          1,
          1,
          1,
          1,
          1,
          1,
          1,
          1,
          1,
          1,
          1,
          1,
          1,
          1,
          1,
          1,
          1,
          1,
          1,
          1,
          1,
          1,
          1,
          1,
          1,
          1,
          1,
          1,
          1,
          1,
          1,
          1,
          1,
          1,
          1,
          1,
          1,
          1,
          1,
          1,
          1,
          1,
          1,
          1,
          1,
          1,
          1,
          1,
          1,
          1,
          1,
          1,
          1,
          1,
          1,
          1,
          1,
          1,
          1,
          1,
          1,
          1,
          1,
          1,
          1,
          1,
          1,
          1,
          1,
          1,
          1,
          1,
          1,
          1,
          1,
          1,
          1,
          1,
          1,
          1,
          1,
          1,
          1,
          1,
          1,
          1,
          1,
          1,
          1,
          1,
          1,
          1,
          1,
          1,
          1,
          1,
          1,
          1,
          2,
          2,
          2,
          2,
          2,
          2,
          2,
          2,
          2,
          2,
          2
         ],
         "xaxis": "x",
         "y": [
          56.53873182124854,
          55.776862026862,
          56.59785953313345,
          56.334059459059446,
          56.130443630443615,
          56.91264753764754,
          56.4922924297924,
          56.618844118844095,
          56.29896723646724,
          56.16414835164836,
          56.789275539275515,
          56.765109890109876,
          56.65572853072853,
          56.34475478225479,
          57.12950244200244,
          56.87003968253969,
          56.949531949531966,
          57.00104293854293,
          56.73585673585675,
          56.40516890516892,
          57.050010175010186,
          56.36383292633294,
          56.8000864875865,
          56.45911765703431,
          56.86622405372406,
          56.84968966218966,
          56.86050061050062,
          56.427426739926744,
          56.15715303215305,
          56.8503256003256,
          56.41661579161578,
          56.75048331298331,
          57.56003256003256,
          56.58513939763938,
          56.731405168905184,
          56.77019739519741,
          56.62265974765976,
          56.45985958485957,
          56.66335978835979,
          56.45985958485958,
          56.40071733821736,
          56.23346560846562,
          57.32982295482295,
          56.239824989825,
          56.671626984126995,
          56.532992470492474,
          56.95970695970695,
          56.339031339031344,
          56.49547212047212,
          57.08816646316646,
          55.5631868131868,
          57.163207163207154,
          56.314229751729755,
          56.06812169312172,
          56.49483618233618,
          56.563517501017515,
          55.863349613349605,
          56.458587708587714,
          55.90341371591372,
          56.33521571021572,
          57.01630545380545,
          56.581323768823744,
          56.677350427350426,
          56.53871591371591,
          56.793727106227124,
          56.877035002035,
          57.03601953601955,
          56.70342389092391,
          56.74221611721611,
          56.43315018315018,
          56.949531949531945,
          56.537444037444054,
          56.732041107041105,
          56.58959096459097,
          56.75175518925519,
          56.36764855514853,
          56.35492979242978,
          56.259539072039075,
          56.46939865689864,
          56.03441697191696,
          56.41725172975176,
          56.35556573056573,
          56.13298738298738,
          56.44332519332519,
          56.36319698819699,
          56.75429894179896,
          56.269078144078144,
          56.782280219780226,
          56.76828958078958,
          56.69706450956452,
          56.76065832315832,
          56.49674399674398,
          56.65064102564103,
          56.59849409849409,
          57.12250712250712,
          57.54031847781848,
          56.52218152218152,
          56.99468355718357,
          56.311050061050075,
          56.19912494912496,
          56.64682539682539,
          56.91010378510378,
          56.528540903540915,
          56.51645807895807,
          56.41725172975171,
          56.63219881969882,
          56.310414122914125,
          56.652548840048844,
          56.81662087912088,
          56.94635225885228,
          56.70596764346765,
          56.875127187627214,
          57.32473544973546,
          57.697395197395196,
          56.88593813593814,
          56.952711640211646,
          57.268772893772905,
          56.84905372405374,
          56.97115384615384,
          56.93872100122101,
          57.084350834350836,
          57.310108872608886,
          57.16638685388685,
          57.13649776149776,
          57.51996845746846,
          57.65669515669516,
          57.94159544159546,
          56.99468355718357,
          57.7641687016687,
          57.67195767195767,
          57.17401811151814,
          57.763532763532744,
          57.31392450142451,
          56.81089743589744,
          58.045253357753346,
          57.76671245421246,
          57.90725478225479,
          58.048433048433054,
          57.00740231990233,
          57.55430911680912,
          57.018849206349195,
          57.16956654456656,
          57.57147944647946,
          57.507249694749675,
          57.31456043956044,
          57.54477004477005,
          57.57147944647946,
          57.119327431827436,
          57.53841066341065,
          57.90598290598291,
          57.891356328856325,
          57.70311864061864,
          57.70375457875458,
          57.64334045584047,
          57.167658730158735,
          56.89865689865692,
          57.19564000814003,
          57.59946072446072,
          57.71520146520148,
          57.635073260073256,
          57.70820614570616,
          57.65478734228734,
          57.68213268213268,
          57.41440272690273,
          57.34953703703703,
          57.4474715099715,
          57.67704517704519,
          57.259869759869765,
          57.07989926739928,
          56.78863960113961,
          57.18101343101344,
          57.382605820105816,
          57.273224460724464,
          57.482448107448114,
          57.54985754985757,
          56.929817867317894,
          57.08816646316646,
          57.42839336589336,
          57.40359177859176,
          57.81250000000001,
          58.09676434676435,
          57.592465404965424,
          57.860831298331306,
          57.5256919006919,
          57.69357956857959,
          57.43984025234025,
          57.646520146520125,
          57.14285714285713,
          57.42839336589338,
          57.3635276760277,
          57.25859788359788,
          56.98896011396013,
          57.15430402930402,
          56.76956145706145,
          57.390873015873034,
          57.67259361009361,
          57.34444953194954,
          57.61790293040292,
          57.10470085470087,
          57.23570411070411,
          56.76447395197397,
          57.49643874643875,
          56.91900691900691,
          57.22234940984941,
          57.04619454619455,
          57.49834656084659,
          57.14031339031339,
          57.074175824175825,
          57.49961843711844,
          56.61184879934881,
          57.46782153032154,
          57.16511497761499,
          57.378790191290186,
          57.277676027676044,
          56.89674908424909,
          57.151124338624335,
          57.3056573056573,
          57.26686507936509,
          57.270044770044784,
          57.709478021978015,
          57.20072751322751,
          57.357804232804234,
          57.6020044770045,
          57.16129934879936,
          56.61884411884412,
          57.11233211233212,
          57.09452584452587,
          57.255418192918206,
          57.26304945054946,
          57.865282865282865,
          57.175289987789995,
          57.53650284900286,
          57.780067155067144,
          57.32409951159952,
          57.32855107855108,
          57.04365079365082,
          57.22044159544159,
          57.08053520553523,
          57.43284493284492,
          57.60200447700449,
          57.91170634920636,
          57.090710215710224,
          57.82013125763128,
          57.462734025234035,
          57.627442002441995,
          58.09867216117215,
          57.30565730565732,
          57.221713471713464,
          57.28339947089945,
          57.0353835978836,
          57.97313797313798,
          57.7959656084656,
          57.46019027269029,
          57.795329670329686,
          57.52378408628409,
          57.6859483109483,
          57.44810744810746,
          57.68149674399675,
          56.97115384615385,
          57.63570919820919,
          58.28118640618643,
          57.903439153439145,
          57.226800976801,
          58.20996133496135,
          58.050976800976805,
          57.69485144485143,
          57.66814204314203,
          57.60582010582011,
          56.79945054945054,
          57.474180911680925,
          57.81758750508754,
          57.1689306064306,
          57.66114672364673,
          57.67450142450142,
          57.093889906389904,
          57.86273911273911,
          57.31710419210421,
          57.41885429385428,
          57.797873422873444,
          57.38451363451364,
          57.394052706552706,
          57.44874338624339,
          57.48435592185592,
          57.65150166191833,
          57.16956654456656,
          57.35653235653237,
          57.170202482702486,
          57.66750610500612,
          57.37624643874643,
          57.164479039479026,
          56.89166157916157,
          57.025844525844526,
          56.960342897842885,
          57.52759971509972,
          57.34508547008548,
          56.74475986975988,
          56.92791005291005,
          57.137769637769644,
          56.43315018315017,
          57.9708485958486,
          57.866554741554744,
          57.02139295889296,
          56.70177045177047,
          57.163207163207176,
          56.688797313797316,
          57.112968050468034,
          57.16193528693529,
          57.36289173789172,
          57.11614774114775,
          56.988960113960125,
          57.318376068376075,
          56.387998575498564,
          56.55334249084248,
          57.32091982091982,
          56.86558811558811,
          57.68531237281237,
          57.846204721204735,
          56.98641636141637,
          57.764804639804645,
          56.8452380952381,
          56.93299755799754,
          56.91264753764753,
          57.05954924704926,
          57.572751322751316,
          56.751755189255185,
          57.22680097680097,
          56.945080382580365,
          56.72123015873017,
          57.196275946275954,
          56.64746133496132,
          57.78006715506715,
          57.45383089133089,
          57.362255799755815,
          57.084350834350836,
          56.716142653642656,
          56.72313797313797,
          56.856684981684985,
          57.17147435897434,
          57.32537138787138,
          56.746031746031754,
          56.74921143671144,
          56.594678469678485,
          57.35971204721204,
          56.95461945461946,
          56.69006919006919,
          56.64110195360195,
          56.825524013024,
          56.91646316646316,
          57.026480463980455,
          57.2070868945869,
          57.04365079365081,
          57.040471102971104,
          57.031567969067964,
          57.16129934879935,
          56.712327024827026,
          57.26559320309321,
          56.68307387057388,
          56.99213980463981,
          57.06209299959301,
          57.120599308099315,
          57.04301485551486,
          57.13077431827433,
          57.43475274725275,
          57.27576821326823,
          57.57783882783883,
          57.60264041514043,
          57.001042938542945,
          57.06145706145707,
          56.559065934065934,
          56.82298026048026,
          56.69134106634107,
          57.09261803011805,
          57.139041514041516,
          57.85637973137975,
          57.43093711843712,
          57.06972425722426,
          57.23443223443224,
          57.351444851444846,
          57.062092999593006,
          57.69548738298737,
          57.156211843711844,
          57.08625864875865,
          57.58674196174196,
          56.72568172568172,
          56.49102055352056,
          55.80547924297925,
          55.982905982905976,
          56.267170329670336,
          56.176867114367106,
          55.876704314204325,
          56.52472527472526,
          56.20866402116402,
          56.781008343508354,
          56.470670533170534,
          56.194673382173384,
          56.022970085470085,
          56.05540293040293,
          56.18449837199838,
          56.25254375254375,
          55.89514652014651,
          56.370192307692314,
          56.138074888074875,
          56.03632478632479,
          55.90722934472935,
          55.906593406593394,
          56.24491249491249,
          55.616605616605604,
          56.37909544159547,
          56.47893772893773,
          56.326948514448524,
          56.05222323972325,
          56.97560541310542,
          56.421703296703306,
          56.97878510378509,
          56.63410663410662,
          56.8236161986162,
          56.47893772893773,
          56.405168905168914,
          56.06176231176232,
          57.19691188441187,
          55.7431573056573,
          56.141890516890506,
          55.9180402930403,
          55.998168498168496,
          56.22392653642654,
          56.5501628001628,
          56.36828449328451,
          56.096102971102965,
          56.58386752136752,
          56.49483618233619,
          56.13934676434676,
          56.243004680504676,
          55.90722934472935,
          55.947929385429376,
          56.40771265771266,
          56.05095136345137,
          56.763202075702075,
          56.426790801790816,
          56.245548433048434,
          56.29324379324379,
          56.42615486365486,
          56.78418803418804,
          56.71041921041922,
          57.020757020757,
          56.508826821326814,
          56.51836589336591,
          56.82743182743184,
          57.01312576312574,
          56.767653642653634,
          56.91646316646319,
          56.82933964183965,
          56.379731379731375,
          56.81153337403338,
          56.78545991045991,
          56.337759462759465,
          56.71359890109891,
          56.85986467236469,
          56.87385531135532,
          56.503739316239326,
          56.81916463166464,
          56.5819597069597,
          56.75875050875052,
          56.65572853072853,
          56.45604395604396,
          56.3434829059829,
          56.78291615791617,
          56.65509259259258,
          56.832519332519325,
          56.520909645909654,
          56.65509259259259,
          56.28879222629223,
          56.44459706959707,
          56.4636752136752,
          57.37624643874644,
          56.81789275539277,
          56.67417073667074,
          57.28975885225886,
          57.21408221408223,
          57.33045889295891,
          56.99786324786326,
          57.29421041921043,
          56.86240842490843,
          57.43920431420432,
          57.207722832722844,
          56.99595543345543,
          56.750483312983306,
          57.07163207163208,
          56.74285205535207,
          57.40613553113553,
          56.96034289784291,
          56.875127187627186,
          56.882122507122496,
          56.86940374440377,
          57.12950244200244,
          57.1988196988197,
          57.18673687423688,
          56.93554131054132,
          57.04492266992266,
          57.09516178266179,
          57.41821835571836,
          56.92600223850224,
          57.269408831908834,
          57.35716829466832,
          57.401683964183974,
          56.83124745624746,
          56.46240333740334,
          57.066544566544586,
          56.96543040293043,
          56.926638176638185,
          56.60866910866912,
          56.884666259666254,
          57.06018518518518,
          57.101521164021186,
          57.422033984533975,
          56.898656898656895,
          57.05954924704924,
          56.967974155474145,
          57.04365079365079,
          56.956527269027276,
          56.98260073260072,
          57.092618030118025,
          56.94317256817258,
          56.55715811965812,
          57.20072751322751,
          57.52759971509972,
          56.88721001221001,
          57.132046194546206,
          57.502798127798144,
          56.91582722832723,
          57.023936711436725,
          57.04873829873829,
          57.1918243793244,
          57.30820105820107,
          57.075447700447704,
          57.472273097273096,
          57.77370777370779,
          57.22743691493692,
          56.8287037037037,
          57.00613044363046,
          57.52505596255596,
          56.79181929181929,
          57.46972934472935,
          56.81789275539276,
          57.11106023606024,
          56.95080382580385,
          57.37243080993081,
          57.06145706145705,
          57.7590811965812,
          57.37624643874643,
          56.874491249491264,
          57.224893162393165,
          57.216625966625976,
          57.33999796499797,
          57.22998066748067,
          56.66463166463168,
          56.63601444851445,
          57.32727920227921,
          56.70596764346764,
          56.099918599918595,
          57.29357448107448,
          57.17528998778999,
          56.877035002034994,
          56.513278388278394,
          56.775284900284895,
          57.17656186406186,
          56.96225071225074,
          57.28149165649168,
          57.04174297924297,
          57.56194037444038,
          56.71423483923485,
          57.1422212047212,
          56.72186609686608,
          57.13458994708994,
          57.244607244607266,
          56.95271164021164,
          57.04237891737892,
          56.90501628001629,
          56.860500610500615,
          57.28657916157916,
          57.30947293447293,
          57.078627391127405,
          56.43505799755798,
          56.98323667073665,
          56.767017704517706,
          56.57178469678471,
          56.981328856328865,
          56.84142246642247,
          57.34508547008546,
          57.00994607244608,
          57.140313390313395,
          57.50979344729345,
          56.80517399267401,
          56.98641636141637,
          57.451287138787144,
          57.03474765974769,
          57.30120573870574,
          56.801358363858384,
          57.18228530728529,
          57.49198717948718,
          57.054461741961745,
          57.36416361416364,
          56.45413614163615,
          56.93172568172569,
          56.72758954008956,
          57.055097680097674,
          56.38609076109075,
          56.58768315018315,
          56.76383801383802,
          57.14540089540089,
          57.04047110297111,
          56.56415343915345,
          56.64428164428164,
          56.83251933251932,
          57.08180708180709,
          56.85032560032561,
          56.89802096052097,
          57.432208994709015,
          56.57305657305657,
          57.246515059015074,
          57.29802604802605,
          57.222985347985365,
          57.12059930809931,
          57.16575091575091,
          57.200091575091584,
          57.21535409035409,
          56.758750508750495,
          57.05573361823363,
          56.79181929181929,
          56.98323667073666,
          57.39659645909645,
          57.100249287749286,
          56.83633496133498,
          57.01757733007731,
          57.32791514041515,
          57.18610093610095,
          57.207722832722844,
          57.31328856328857,
          56.80326617826618,
          57.178469678469675,
          56.929817867317865,
          56.56669719169721,
          57.04683048433049,
          57.154304029304036,
          57.43093711843712,
          57.60772792022794,
          56.91264753764753,
          57.01757733007734,
          56.98260073260073,
          56.83379120879122,
          57.25414631664631,
          57.22870879120878,
          57.2306166056166,
          57.343177655677636,
          56.88593813593814,
          57.001678876678874,
          57.61790293040293,
          57.03665547415548,
          56.996591371591364,
          57.04746642246642,
          57.64524827024827,
          57.32346357346358,
          57.256690069190064,
          57.388965201465204,
          57.447471509971514,
          56.7466676841677,
          56.910739723239736,
          57.07799145299146,
          57.31328856328859,
          57.36670736670738,
          57.051282051282065,
          57.22680097680098,
          56.3784595034595,
          57.16257122507121,
          57.41821835571835,
          56.51391432641433,
          57.15430402930403,
          57.74636243386243,
          57.429665242165235,
          57.60009666259666,
          57.974028286528274,
          57.46464183964184,
          57.44238400488398,
          57.144764957264954,
          56.801994301994306,
          56.805809930809914,
          57.61217948717947,
          57.45828245828247,
          57.32282763532763,
          57.72982804232803,
          57.008038258038255,
          57.264957264957246,
          57.87800162800162,
          57.643976393976395,
          57.28149165649165,
          57.25096662596661,
          57.841753154253155,
          56.593406593406606,
          57.378154253154264,
          57.20199938949937,
          56.997227309727315,
          57.128866503866504,
          57.46273402523403,
          57.53968253968254,
          57.588649776149786,
          57.44556369556372,
          57.111696174196176,
          57.569571632071636,
          57.21471815221816,
          57.32664326414326,
          57.44619963369964,
          57.28912291412291,
          57.55685286935286,
          57.79405779405781,
          57.50152625152626,
          57.16193528693528,
          57.75462962962962,
          58.0643315018315,
          57.82839845339844,
          58.394383394383404,
          57.879909442409456,
          57.70693426943427,
          58.10693935693936,
          58.29136141636144,
          57.608363858363866,
          57.61408730158729,
          57.92378917378917,
          57.19945563695564,
          58.130469067969074,
          58.01472832722834,
          57.990562678062695,
          57.69167175417177,
          58.60297110297111,
          57.951134513634535,
          57.95431420431422,
          57.19881969881968,
          57.24842287342289,
          57.623626373626365,
          57.74254680504681,
          57.844296906796906,
          57.365435490435495,
          57.83984533984534,
          58.15527065527066,
          57.26368538868539,
          57.38514957264957,
          57.069088319088316,
          57.121235246235265,
          56.75811457061456,
          56.85859279609281,
          56.96797415547416,
          57.549221611721606,
          57.41058709808712,
          56.970517908017904,
          57.603276353276364,
          57.23570411070412,
          57.926332926332925,
          57.55367317867317,
          57.245243182743195,
          57.81250000000001,
          57.3756105006105,
          58.05161273911273,
          56.98641636141637,
          57.52187627187629,
          57.397868335368365,
          57.69930301180304,
          57.26750101750102,
          57.23761192511193,
          57.34699328449329,
          57.35589641839642,
          57.90280321530321,
          57.585470085470085,
          57.474816849816875,
          58.48850223850224,
          57.66178266178267,
          57.366707366707374,
          57.50343406593407,
          57.97466422466423,
          57.243971306471316,
          57.83602971102971,
          57.68976393976394,
          58.27228327228326,
          57.00676638176639,
          57.53968253968254,
          57.88817663817665,
          57.53650284900286,
          57.37688237688237,
          57.75780932030931,
          57.631893569393576,
          58.24557387057386,
          57.82331094831094,
          57.77116402116403,
          58.41791310541311,
          57.76544057794059,
          58.5482804232804,
          57.81059218559219,
          58.148275335775345,
          58.63794770044769,
          58.286273911273916,
          58.63540394790396,
          58.136828449328455,
          57.638888888888886,
          58.54955229955231,
          58.36513024013024,
          57.8792735042735,
          58.17689255189254,
          57.720924908424905,
          57.66305453805455,
          57.77561558811559,
          58.51648351648351,
          58.421728734228736,
          58.51330382580384,
          58.4109177859178,
          58.09358465608466,
          58.606150793650784,
          58.49549755799759,
          58.09612840862841,
          58.49486161986161,
          58.45924908424908,
          58.737154049654045,
          58.37784900284902,
          57.93332824582826,
          58.41600529100531,
          58.31870675620676,
          58.37721306471307,
          57.643340455840466,
          58.117750305250325,
          58.08404558404559,
          58.214412901912915,
          58.675468050468055,
          58.09994403744404,
          58.31107549857549,
          58.230947293447315,
          58.39120370370372,
          58.47323972323972,
          57.864646927146936,
          58.508216320716336,
          58.39692714692715,
          58.054792429792435,
          58.40964590964592,
          58.26655982905982,
          58.38039275539277,
          58.154634717134705,
          57.943503256003254,
          58.47832722832724,
          57.79660154660154,
          57.85510785510786,
          57.94731888481888,
          58.40900997150999,
          58.487866300366306,
          58.28118640618641,
          58.274827024827026,
          58.11647842897843,
          58.11266280016283,
          58.332061457061464,
          58.280550468050485,
          58.405830280830294,
          58.368945868945865,
          57.94095950345951,
          58.4776912901913,
          58.44080687830688,
          57.61663105413107,
          57.972756410256416,
          58.013456450956475,
          58.30535205535205,
          58.47769129019131,
          58.46624440374439,
          58.694546194546184,
          58.07577838827837,
          58.536833536833534,
          58.35113960113961,
          58.52856634106636,
          58.71743996743998,
          58.2125050875051,
          58.46815221815223,
          58.631588319088316
         ],
         "yaxis": "y"
        }
       ],
       "layout": {
        "legend": {
         "tracegroupgap": 0
        },
        "template": {
         "data": {
          "bar": [
           {
            "error_x": {
             "color": "rgb(36,36,36)"
            },
            "error_y": {
             "color": "rgb(36,36,36)"
            },
            "marker": {
             "line": {
              "color": "white",
              "width": 0.5
             }
            },
            "type": "bar"
           }
          ],
          "barpolar": [
           {
            "marker": {
             "line": {
              "color": "white",
              "width": 0.5
             }
            },
            "type": "barpolar"
           }
          ],
          "carpet": [
           {
            "aaxis": {
             "endlinecolor": "rgb(36,36,36)",
             "gridcolor": "white",
             "linecolor": "white",
             "minorgridcolor": "white",
             "startlinecolor": "rgb(36,36,36)"
            },
            "baxis": {
             "endlinecolor": "rgb(36,36,36)",
             "gridcolor": "white",
             "linecolor": "white",
             "minorgridcolor": "white",
             "startlinecolor": "rgb(36,36,36)"
            },
            "type": "carpet"
           }
          ],
          "choropleth": [
           {
            "colorbar": {
             "outlinewidth": 1,
             "tickcolor": "rgb(36,36,36)",
             "ticks": "outside"
            },
            "type": "choropleth"
           }
          ],
          "contour": [
           {
            "colorbar": {
             "outlinewidth": 1,
             "tickcolor": "rgb(36,36,36)",
             "ticks": "outside"
            },
            "colorscale": [
             [
              0,
              "#440154"
             ],
             [
              0.1111111111111111,
              "#482878"
             ],
             [
              0.2222222222222222,
              "#3e4989"
             ],
             [
              0.3333333333333333,
              "#31688e"
             ],
             [
              0.4444444444444444,
              "#26828e"
             ],
             [
              0.5555555555555556,
              "#1f9e89"
             ],
             [
              0.6666666666666666,
              "#35b779"
             ],
             [
              0.7777777777777778,
              "#6ece58"
             ],
             [
              0.8888888888888888,
              "#b5de2b"
             ],
             [
              1,
              "#fde725"
             ]
            ],
            "type": "contour"
           }
          ],
          "contourcarpet": [
           {
            "colorbar": {
             "outlinewidth": 1,
             "tickcolor": "rgb(36,36,36)",
             "ticks": "outside"
            },
            "type": "contourcarpet"
           }
          ],
          "heatmap": [
           {
            "colorbar": {
             "outlinewidth": 1,
             "tickcolor": "rgb(36,36,36)",
             "ticks": "outside"
            },
            "colorscale": [
             [
              0,
              "#440154"
             ],
             [
              0.1111111111111111,
              "#482878"
             ],
             [
              0.2222222222222222,
              "#3e4989"
             ],
             [
              0.3333333333333333,
              "#31688e"
             ],
             [
              0.4444444444444444,
              "#26828e"
             ],
             [
              0.5555555555555556,
              "#1f9e89"
             ],
             [
              0.6666666666666666,
              "#35b779"
             ],
             [
              0.7777777777777778,
              "#6ece58"
             ],
             [
              0.8888888888888888,
              "#b5de2b"
             ],
             [
              1,
              "#fde725"
             ]
            ],
            "type": "heatmap"
           }
          ],
          "heatmapgl": [
           {
            "colorbar": {
             "outlinewidth": 1,
             "tickcolor": "rgb(36,36,36)",
             "ticks": "outside"
            },
            "colorscale": [
             [
              0,
              "#440154"
             ],
             [
              0.1111111111111111,
              "#482878"
             ],
             [
              0.2222222222222222,
              "#3e4989"
             ],
             [
              0.3333333333333333,
              "#31688e"
             ],
             [
              0.4444444444444444,
              "#26828e"
             ],
             [
              0.5555555555555556,
              "#1f9e89"
             ],
             [
              0.6666666666666666,
              "#35b779"
             ],
             [
              0.7777777777777778,
              "#6ece58"
             ],
             [
              0.8888888888888888,
              "#b5de2b"
             ],
             [
              1,
              "#fde725"
             ]
            ],
            "type": "heatmapgl"
           }
          ],
          "histogram": [
           {
            "marker": {
             "line": {
              "color": "white",
              "width": 0.6
             }
            },
            "type": "histogram"
           }
          ],
          "histogram2d": [
           {
            "colorbar": {
             "outlinewidth": 1,
             "tickcolor": "rgb(36,36,36)",
             "ticks": "outside"
            },
            "colorscale": [
             [
              0,
              "#440154"
             ],
             [
              0.1111111111111111,
              "#482878"
             ],
             [
              0.2222222222222222,
              "#3e4989"
             ],
             [
              0.3333333333333333,
              "#31688e"
             ],
             [
              0.4444444444444444,
              "#26828e"
             ],
             [
              0.5555555555555556,
              "#1f9e89"
             ],
             [
              0.6666666666666666,
              "#35b779"
             ],
             [
              0.7777777777777778,
              "#6ece58"
             ],
             [
              0.8888888888888888,
              "#b5de2b"
             ],
             [
              1,
              "#fde725"
             ]
            ],
            "type": "histogram2d"
           }
          ],
          "histogram2dcontour": [
           {
            "colorbar": {
             "outlinewidth": 1,
             "tickcolor": "rgb(36,36,36)",
             "ticks": "outside"
            },
            "colorscale": [
             [
              0,
              "#440154"
             ],
             [
              0.1111111111111111,
              "#482878"
             ],
             [
              0.2222222222222222,
              "#3e4989"
             ],
             [
              0.3333333333333333,
              "#31688e"
             ],
             [
              0.4444444444444444,
              "#26828e"
             ],
             [
              0.5555555555555556,
              "#1f9e89"
             ],
             [
              0.6666666666666666,
              "#35b779"
             ],
             [
              0.7777777777777778,
              "#6ece58"
             ],
             [
              0.8888888888888888,
              "#b5de2b"
             ],
             [
              1,
              "#fde725"
             ]
            ],
            "type": "histogram2dcontour"
           }
          ],
          "mesh3d": [
           {
            "colorbar": {
             "outlinewidth": 1,
             "tickcolor": "rgb(36,36,36)",
             "ticks": "outside"
            },
            "type": "mesh3d"
           }
          ],
          "parcoords": [
           {
            "line": {
             "colorbar": {
              "outlinewidth": 1,
              "tickcolor": "rgb(36,36,36)",
              "ticks": "outside"
             }
            },
            "type": "parcoords"
           }
          ],
          "pie": [
           {
            "automargin": true,
            "type": "pie"
           }
          ],
          "scatter": [
           {
            "marker": {
             "colorbar": {
              "outlinewidth": 1,
              "tickcolor": "rgb(36,36,36)",
              "ticks": "outside"
             }
            },
            "type": "scatter"
           }
          ],
          "scatter3d": [
           {
            "line": {
             "colorbar": {
              "outlinewidth": 1,
              "tickcolor": "rgb(36,36,36)",
              "ticks": "outside"
             }
            },
            "marker": {
             "colorbar": {
              "outlinewidth": 1,
              "tickcolor": "rgb(36,36,36)",
              "ticks": "outside"
             }
            },
            "type": "scatter3d"
           }
          ],
          "scattercarpet": [
           {
            "marker": {
             "colorbar": {
              "outlinewidth": 1,
              "tickcolor": "rgb(36,36,36)",
              "ticks": "outside"
             }
            },
            "type": "scattercarpet"
           }
          ],
          "scattergeo": [
           {
            "marker": {
             "colorbar": {
              "outlinewidth": 1,
              "tickcolor": "rgb(36,36,36)",
              "ticks": "outside"
             }
            },
            "type": "scattergeo"
           }
          ],
          "scattergl": [
           {
            "marker": {
             "colorbar": {
              "outlinewidth": 1,
              "tickcolor": "rgb(36,36,36)",
              "ticks": "outside"
             }
            },
            "type": "scattergl"
           }
          ],
          "scattermapbox": [
           {
            "marker": {
             "colorbar": {
              "outlinewidth": 1,
              "tickcolor": "rgb(36,36,36)",
              "ticks": "outside"
             }
            },
            "type": "scattermapbox"
           }
          ],
          "scatterpolar": [
           {
            "marker": {
             "colorbar": {
              "outlinewidth": 1,
              "tickcolor": "rgb(36,36,36)",
              "ticks": "outside"
             }
            },
            "type": "scatterpolar"
           }
          ],
          "scatterpolargl": [
           {
            "marker": {
             "colorbar": {
              "outlinewidth": 1,
              "tickcolor": "rgb(36,36,36)",
              "ticks": "outside"
             }
            },
            "type": "scatterpolargl"
           }
          ],
          "scatterternary": [
           {
            "marker": {
             "colorbar": {
              "outlinewidth": 1,
              "tickcolor": "rgb(36,36,36)",
              "ticks": "outside"
             }
            },
            "type": "scatterternary"
           }
          ],
          "surface": [
           {
            "colorbar": {
             "outlinewidth": 1,
             "tickcolor": "rgb(36,36,36)",
             "ticks": "outside"
            },
            "colorscale": [
             [
              0,
              "#440154"
             ],
             [
              0.1111111111111111,
              "#482878"
             ],
             [
              0.2222222222222222,
              "#3e4989"
             ],
             [
              0.3333333333333333,
              "#31688e"
             ],
             [
              0.4444444444444444,
              "#26828e"
             ],
             [
              0.5555555555555556,
              "#1f9e89"
             ],
             [
              0.6666666666666666,
              "#35b779"
             ],
             [
              0.7777777777777778,
              "#6ece58"
             ],
             [
              0.8888888888888888,
              "#b5de2b"
             ],
             [
              1,
              "#fde725"
             ]
            ],
            "type": "surface"
           }
          ],
          "table": [
           {
            "cells": {
             "fill": {
              "color": "rgb(237,237,237)"
             },
             "line": {
              "color": "white"
             }
            },
            "header": {
             "fill": {
              "color": "rgb(217,217,217)"
             },
             "line": {
              "color": "white"
             }
            },
            "type": "table"
           }
          ]
         },
         "layout": {
          "annotationdefaults": {
           "arrowhead": 0,
           "arrowwidth": 1
          },
          "coloraxis": {
           "colorbar": {
            "outlinewidth": 1,
            "tickcolor": "rgb(36,36,36)",
            "ticks": "outside"
           }
          },
          "colorscale": {
           "diverging": [
            [
             0,
             "rgb(103,0,31)"
            ],
            [
             0.1,
             "rgb(178,24,43)"
            ],
            [
             0.2,
             "rgb(214,96,77)"
            ],
            [
             0.3,
             "rgb(244,165,130)"
            ],
            [
             0.4,
             "rgb(253,219,199)"
            ],
            [
             0.5,
             "rgb(247,247,247)"
            ],
            [
             0.6,
             "rgb(209,229,240)"
            ],
            [
             0.7,
             "rgb(146,197,222)"
            ],
            [
             0.8,
             "rgb(67,147,195)"
            ],
            [
             0.9,
             "rgb(33,102,172)"
            ],
            [
             1,
             "rgb(5,48,97)"
            ]
           ],
           "sequential": [
            [
             0,
             "#440154"
            ],
            [
             0.1111111111111111,
             "#482878"
            ],
            [
             0.2222222222222222,
             "#3e4989"
            ],
            [
             0.3333333333333333,
             "#31688e"
            ],
            [
             0.4444444444444444,
             "#26828e"
            ],
            [
             0.5555555555555556,
             "#1f9e89"
            ],
            [
             0.6666666666666666,
             "#35b779"
            ],
            [
             0.7777777777777778,
             "#6ece58"
            ],
            [
             0.8888888888888888,
             "#b5de2b"
            ],
            [
             1,
             "#fde725"
            ]
           ],
           "sequentialminus": [
            [
             0,
             "#440154"
            ],
            [
             0.1111111111111111,
             "#482878"
            ],
            [
             0.2222222222222222,
             "#3e4989"
            ],
            [
             0.3333333333333333,
             "#31688e"
            ],
            [
             0.4444444444444444,
             "#26828e"
            ],
            [
             0.5555555555555556,
             "#1f9e89"
            ],
            [
             0.6666666666666666,
             "#35b779"
            ],
            [
             0.7777777777777778,
             "#6ece58"
            ],
            [
             0.8888888888888888,
             "#b5de2b"
            ],
            [
             1,
             "#fde725"
            ]
           ]
          },
          "colorway": [
           "#1F77B4",
           "#FF7F0E",
           "#2CA02C",
           "#D62728",
           "#9467BD",
           "#8C564B",
           "#E377C2",
           "#7F7F7F",
           "#BCBD22",
           "#17BECF"
          ],
          "font": {
           "color": "rgb(36,36,36)"
          },
          "geo": {
           "bgcolor": "white",
           "lakecolor": "white",
           "landcolor": "white",
           "showlakes": true,
           "showland": true,
           "subunitcolor": "white"
          },
          "hoverlabel": {
           "align": "left"
          },
          "hovermode": "closest",
          "mapbox": {
           "style": "light"
          },
          "paper_bgcolor": "white",
          "plot_bgcolor": "white",
          "polar": {
           "angularaxis": {
            "gridcolor": "rgb(232,232,232)",
            "linecolor": "rgb(36,36,36)",
            "showgrid": false,
            "showline": true,
            "ticks": "outside"
           },
           "bgcolor": "white",
           "radialaxis": {
            "gridcolor": "rgb(232,232,232)",
            "linecolor": "rgb(36,36,36)",
            "showgrid": false,
            "showline": true,
            "ticks": "outside"
           }
          },
          "scene": {
           "xaxis": {
            "backgroundcolor": "white",
            "gridcolor": "rgb(232,232,232)",
            "gridwidth": 2,
            "linecolor": "rgb(36,36,36)",
            "showbackground": true,
            "showgrid": false,
            "showline": true,
            "ticks": "outside",
            "zeroline": false,
            "zerolinecolor": "rgb(36,36,36)"
           },
           "yaxis": {
            "backgroundcolor": "white",
            "gridcolor": "rgb(232,232,232)",
            "gridwidth": 2,
            "linecolor": "rgb(36,36,36)",
            "showbackground": true,
            "showgrid": false,
            "showline": true,
            "ticks": "outside",
            "zeroline": false,
            "zerolinecolor": "rgb(36,36,36)"
           },
           "zaxis": {
            "backgroundcolor": "white",
            "gridcolor": "rgb(232,232,232)",
            "gridwidth": 2,
            "linecolor": "rgb(36,36,36)",
            "showbackground": true,
            "showgrid": false,
            "showline": true,
            "ticks": "outside",
            "zeroline": false,
            "zerolinecolor": "rgb(36,36,36)"
           }
          },
          "shapedefaults": {
           "fillcolor": "black",
           "line": {
            "width": 0
           },
           "opacity": 0.3
          },
          "ternary": {
           "aaxis": {
            "gridcolor": "rgb(232,232,232)",
            "linecolor": "rgb(36,36,36)",
            "showgrid": false,
            "showline": true,
            "ticks": "outside"
           },
           "baxis": {
            "gridcolor": "rgb(232,232,232)",
            "linecolor": "rgb(36,36,36)",
            "showgrid": false,
            "showline": true,
            "ticks": "outside"
           },
           "bgcolor": "white",
           "caxis": {
            "gridcolor": "rgb(232,232,232)",
            "linecolor": "rgb(36,36,36)",
            "showgrid": false,
            "showline": true,
            "ticks": "outside"
           }
          },
          "title": {
           "x": 0.05
          },
          "xaxis": {
           "automargin": true,
           "gridcolor": "rgb(232,232,232)",
           "linecolor": "rgb(36,36,36)",
           "showgrid": false,
           "showline": true,
           "ticks": "outside",
           "title": {
            "standoff": 15
           },
           "zeroline": false,
           "zerolinecolor": "rgb(36,36,36)"
          },
          "yaxis": {
           "automargin": true,
           "gridcolor": "rgb(232,232,232)",
           "linecolor": "rgb(36,36,36)",
           "showgrid": false,
           "showline": true,
           "ticks": "outside",
           "title": {
            "standoff": 15
           },
           "zeroline": false,
           "zerolinecolor": "rgb(36,36,36)"
          }
         }
        },
        "title": {
         "text": "OutletPressure g-pump-6 for all weeks "
        },
        "xaxis": {
         "anchor": "y",
         "domain": [
          0,
          1
         ],
         "title": {
          "text": "week"
         },
         "type": "category"
        },
        "yaxis": {
         "anchor": "x",
         "domain": [
          0,
          1
         ],
         "title": {
          "text": "feature_value"
         }
        }
       }
      },
      "text/html": [
       "<div>\n",
       "        \n",
       "        \n",
       "            <div id=\"1994d139-18eb-4e13-96a1-aa43cd9a641a\" class=\"plotly-graph-div\" style=\"height:525px; width:100%;\"></div>\n",
       "            <script type=\"text/javascript\">\n",
       "                require([\"plotly\"], function(Plotly) {\n",
       "                    window.PLOTLYENV=window.PLOTLYENV || {};\n",
       "                    \n",
       "                if (document.getElementById(\"1994d139-18eb-4e13-96a1-aa43cd9a641a\")) {\n",
       "                    Plotly.newPlot(\n",
       "                        '1994d139-18eb-4e13-96a1-aa43cd9a641a',\n",
       "                        [{\"hoverlabel\": {\"namelength\": 0}, \"hovertemplate\": \"week=%{x}<br>feature_value=%{y}\", \"legendgroup\": \"\", \"marker\": {\"color\": \"#1F77B4\", \"symbol\": \"circle\"}, \"mode\": \"markers\", \"name\": \"\", \"showlegend\": false, \"type\": \"scatter\", \"x\": [47, 47, 47, 47, 47, 47, 47, 47, 47, 47, 47, 47, 47, 47, 47, 47, 47, 47, 47, 47, 47, 47, 47, 47, 47, 47, 47, 47, 47, 47, 47, 47, 47, 47, 47, 47, 47, 47, 47, 47, 47, 47, 47, 47, 47, 47, 47, 47, 47, 47, 47, 47, 47, 47, 47, 47, 47, 47, 47, 47, 47, 47, 47, 47, 47, 47, 47, 47, 47, 47, 47, 47, 47, 47, 47, 47, 47, 47, 47, 47, 47, 47, 47, 47, 47, 47, 47, 47, 47, 47, 47, 47, 47, 47, 47, 47, 47, 47, 47, 47, 47, 47, 47, 47, 47, 47, 47, 47, 48, 48, 48, 48, 48, 48, 48, 48, 48, 48, 48, 48, 48, 48, 48, 48, 48, 48, 48, 48, 48, 48, 48, 48, 48, 48, 48, 48, 48, 48, 48, 48, 48, 48, 48, 48, 48, 48, 48, 48, 48, 48, 48, 48, 48, 48, 48, 48, 48, 48, 48, 48, 48, 48, 48, 48, 48, 48, 48, 48, 48, 48, 48, 48, 48, 48, 48, 48, 48, 48, 48, 48, 48, 48, 48, 48, 48, 48, 48, 48, 48, 48, 48, 48, 48, 48, 48, 48, 48, 48, 48, 48, 48, 48, 48, 48, 48, 48, 48, 48, 48, 48, 48, 48, 48, 48, 48, 48, 48, 48, 48, 48, 48, 48, 48, 48, 48, 48, 48, 48, 48, 48, 48, 48, 48, 48, 48, 48, 48, 48, 48, 48, 48, 48, 48, 48, 48, 48, 48, 48, 48, 48, 48, 48, 48, 48, 48, 48, 48, 48, 48, 48, 48, 48, 48, 48, 48, 48, 48, 48, 48, 48, 48, 48, 48, 48, 49, 49, 49, 49, 49, 49, 49, 49, 49, 49, 49, 49, 49, 49, 49, 49, 49, 49, 49, 49, 49, 49, 49, 49, 49, 49, 49, 49, 50, 50, 50, 50, 50, 50, 50, 50, 50, 50, 50, 50, 50, 50, 50, 50, 50, 50, 50, 50, 50, 50, 50, 50, 50, 50, 50, 50, 50, 50, 50, 50, 50, 50, 50, 50, 50, 50, 50, 50, 50, 50, 50, 50, 50, 50, 50, 50, 50, 50, 50, 50, 50, 50, 50, 50, 50, 50, 50, 50, 50, 50, 51, 51, 51, 51, 51, 51, 51, 51, 51, 51, 51, 51, 51, 51, 51, 51, 51, 51, 51, 51, 51, 51, 51, 51, 51, 51, 51, 51, 51, 51, 51, 51, 51, 51, 51, 51, 51, 51, 51, 51, 51, 51, 51, 51, 51, 51, 51, 51, 51, 51, 51, 51, 51, 51, 51, 51, 51, 51, 51, 51, 51, 51, 51, 51, 51, 51, 51, 51, 51, 51, 51, 51, 51, 51, 51, 51, 51, 51, 51, 51, 51, 51, 51, 51, 51, 51, 51, 51, 51, 51, 51, 51, 51, 51, 51, 51, 51, 51, 51, 51, 51, 51, 51, 51, 51, 51, 51, 51, 51, 51, 51, 51, 51, 51, 51, 51, 51, 51, 51, 51, 51, 51, 51, 51, 51, 51, 51, 51, 51, 51, 51, 51, 51, 51, 51, 51, 51, 51, 51, 51, 51, 51, 51, 51, 51, 51, 51, 51, 51, 51, 51, 51, 51, 51, 51, 51, 51, 51, 51, 51, 51, 51, 51, 51, 51, 51, 51, 52, 52, 52, 52, 52, 52, 52, 52, 52, 52, 52, 52, 52, 52, 52, 52, 52, 52, 52, 52, 52, 52, 52, 52, 52, 52, 52, 52, 52, 52, 52, 52, 52, 52, 52, 52, 52, 52, 52, 52, 52, 52, 52, 52, 52, 52, 52, 52, 52, 52, 52, 52, 52, 52, 52, 52, 52, 52, 52, 52, 52, 52, 52, 52, 52, 52, 52, 52, 52, 52, 52, 52, 52, 52, 52, 52, 52, 52, 52, 52, 52, 52, 52, 52, 52, 52, 52, 52, 52, 52, 52, 52, 52, 52, 52, 52, 52, 52, 52, 52, 52, 52, 52, 52, 52, 52, 52, 52, 52, 52, 52, 52, 52, 52, 52, 52, 52, 52, 52, 52, 52, 52, 52, 52, 52, 52, 52, 52, 52, 52, 52, 52, 52, 52, 52, 52, 52, 52, 52, 52, 52, 52, 52, 52, 52, 52, 52, 52, 52, 52, 52, 52, 52, 52, 52, 52, 52, 52, 52, 52, 52, 52, 52, 52, 52, 52, 52, 52, 1, 1, 1, 1, 1, 1, 1, 1, 1, 1, 1, 1, 1, 1, 1, 1, 1, 1, 1, 1, 1, 1, 1, 1, 1, 1, 1, 1, 1, 1, 1, 1, 1, 1, 1, 1, 1, 1, 1, 1, 1, 1, 1, 1, 1, 1, 1, 1, 1, 1, 1, 1, 1, 1, 1, 1, 1, 1, 1, 1, 1, 1, 1, 1, 1, 1, 1, 1, 1, 1, 1, 1, 1, 1, 1, 1, 1, 1, 1, 1, 1, 1, 1, 1, 1, 1, 1, 1, 1, 1, 1, 1, 1, 1, 1, 1, 1, 1, 1, 1, 1, 1, 1, 1, 1, 1, 1, 1, 1, 1, 1, 1, 1, 1, 1, 1, 1, 1, 1, 1, 1, 1, 1, 1, 1, 1, 1, 1, 1, 1, 1, 1, 1, 1, 1, 1, 1, 1, 1, 1, 1, 1, 1, 1, 1, 1, 1, 1, 1, 1, 1, 1, 1, 1, 1, 1, 1, 1, 1, 1, 1, 1, 1, 1, 2, 2, 2, 2, 2, 2, 2, 2, 2, 2, 2], \"xaxis\": \"x\", \"y\": [56.53873182124854, 55.776862026862, 56.59785953313345, 56.334059459059446, 56.130443630443615, 56.91264753764754, 56.4922924297924, 56.618844118844095, 56.29896723646724, 56.16414835164836, 56.789275539275515, 56.765109890109876, 56.65572853072853, 56.34475478225479, 57.12950244200244, 56.87003968253969, 56.949531949531966, 57.00104293854293, 56.73585673585675, 56.40516890516892, 57.050010175010186, 56.36383292633294, 56.8000864875865, 56.45911765703431, 56.86622405372406, 56.84968966218966, 56.86050061050062, 56.427426739926744, 56.15715303215305, 56.8503256003256, 56.41661579161578, 56.75048331298331, 57.56003256003256, 56.58513939763938, 56.731405168905184, 56.77019739519741, 56.62265974765976, 56.45985958485957, 56.66335978835979, 56.45985958485958, 56.40071733821736, 56.23346560846562, 57.32982295482295, 56.239824989825, 56.671626984126995, 56.532992470492474, 56.95970695970695, 56.339031339031344, 56.49547212047212, 57.08816646316646, 55.5631868131868, 57.163207163207154, 56.314229751729755, 56.06812169312172, 56.49483618233618, 56.563517501017515, 55.863349613349605, 56.458587708587714, 55.90341371591372, 56.33521571021572, 57.01630545380545, 56.581323768823744, 56.677350427350426, 56.53871591371591, 56.793727106227124, 56.877035002035, 57.03601953601955, 56.70342389092391, 56.74221611721611, 56.43315018315018, 56.949531949531945, 56.537444037444054, 56.732041107041105, 56.58959096459097, 56.75175518925519, 56.36764855514853, 56.35492979242978, 56.259539072039075, 56.46939865689864, 56.03441697191696, 56.41725172975176, 56.35556573056573, 56.13298738298738, 56.44332519332519, 56.36319698819699, 56.75429894179896, 56.269078144078144, 56.782280219780226, 56.76828958078958, 56.69706450956452, 56.76065832315832, 56.49674399674398, 56.65064102564103, 56.59849409849409, 57.12250712250712, 57.54031847781848, 56.52218152218152, 56.99468355718357, 56.311050061050075, 56.19912494912496, 56.64682539682539, 56.91010378510378, 56.528540903540915, 56.51645807895807, 56.41725172975171, 56.63219881969882, 56.310414122914125, 56.652548840048844, 56.81662087912088, 56.94635225885228, 56.70596764346765, 56.875127187627214, 57.32473544973546, 57.697395197395196, 56.88593813593814, 56.952711640211646, 57.268772893772905, 56.84905372405374, 56.97115384615384, 56.93872100122101, 57.084350834350836, 57.310108872608886, 57.16638685388685, 57.13649776149776, 57.51996845746846, 57.65669515669516, 57.94159544159546, 56.99468355718357, 57.7641687016687, 57.67195767195767, 57.17401811151814, 57.763532763532744, 57.31392450142451, 56.81089743589744, 58.045253357753346, 57.76671245421246, 57.90725478225479, 58.048433048433054, 57.00740231990233, 57.55430911680912, 57.018849206349195, 57.16956654456656, 57.57147944647946, 57.507249694749675, 57.31456043956044, 57.54477004477005, 57.57147944647946, 57.119327431827436, 57.53841066341065, 57.90598290598291, 57.891356328856325, 57.70311864061864, 57.70375457875458, 57.64334045584047, 57.167658730158735, 56.89865689865692, 57.19564000814003, 57.59946072446072, 57.71520146520148, 57.635073260073256, 57.70820614570616, 57.65478734228734, 57.68213268213268, 57.41440272690273, 57.34953703703703, 57.4474715099715, 57.67704517704519, 57.259869759869765, 57.07989926739928, 56.78863960113961, 57.18101343101344, 57.382605820105816, 57.273224460724464, 57.482448107448114, 57.54985754985757, 56.929817867317894, 57.08816646316646, 57.42839336589336, 57.40359177859176, 57.81250000000001, 58.09676434676435, 57.592465404965424, 57.860831298331306, 57.5256919006919, 57.69357956857959, 57.43984025234025, 57.646520146520125, 57.14285714285713, 57.42839336589338, 57.3635276760277, 57.25859788359788, 56.98896011396013, 57.15430402930402, 56.76956145706145, 57.390873015873034, 57.67259361009361, 57.34444953194954, 57.61790293040292, 57.10470085470087, 57.23570411070411, 56.76447395197397, 57.49643874643875, 56.91900691900691, 57.22234940984941, 57.04619454619455, 57.49834656084659, 57.14031339031339, 57.074175824175825, 57.49961843711844, 56.61184879934881, 57.46782153032154, 57.16511497761499, 57.378790191290186, 57.277676027676044, 56.89674908424909, 57.151124338624335, 57.3056573056573, 57.26686507936509, 57.270044770044784, 57.709478021978015, 57.20072751322751, 57.357804232804234, 57.6020044770045, 57.16129934879936, 56.61884411884412, 57.11233211233212, 57.09452584452587, 57.255418192918206, 57.26304945054946, 57.865282865282865, 57.175289987789995, 57.53650284900286, 57.780067155067144, 57.32409951159952, 57.32855107855108, 57.04365079365082, 57.22044159544159, 57.08053520553523, 57.43284493284492, 57.60200447700449, 57.91170634920636, 57.090710215710224, 57.82013125763128, 57.462734025234035, 57.627442002441995, 58.09867216117215, 57.30565730565732, 57.221713471713464, 57.28339947089945, 57.0353835978836, 57.97313797313798, 57.7959656084656, 57.46019027269029, 57.795329670329686, 57.52378408628409, 57.6859483109483, 57.44810744810746, 57.68149674399675, 56.97115384615385, 57.63570919820919, 58.28118640618643, 57.903439153439145, 57.226800976801, 58.20996133496135, 58.050976800976805, 57.69485144485143, 57.66814204314203, 57.60582010582011, 56.79945054945054, 57.474180911680925, 57.81758750508754, 57.1689306064306, 57.66114672364673, 57.67450142450142, 57.093889906389904, 57.86273911273911, 57.31710419210421, 57.41885429385428, 57.797873422873444, 57.38451363451364, 57.394052706552706, 57.44874338624339, 57.48435592185592, 57.65150166191833, 57.16956654456656, 57.35653235653237, 57.170202482702486, 57.66750610500612, 57.37624643874643, 57.164479039479026, 56.89166157916157, 57.025844525844526, 56.960342897842885, 57.52759971509972, 57.34508547008548, 56.74475986975988, 56.92791005291005, 57.137769637769644, 56.43315018315017, 57.9708485958486, 57.866554741554744, 57.02139295889296, 56.70177045177047, 57.163207163207176, 56.688797313797316, 57.112968050468034, 57.16193528693529, 57.36289173789172, 57.11614774114775, 56.988960113960125, 57.318376068376075, 56.387998575498564, 56.55334249084248, 57.32091982091982, 56.86558811558811, 57.68531237281237, 57.846204721204735, 56.98641636141637, 57.764804639804645, 56.8452380952381, 56.93299755799754, 56.91264753764753, 57.05954924704926, 57.572751322751316, 56.751755189255185, 57.22680097680097, 56.945080382580365, 56.72123015873017, 57.196275946275954, 56.64746133496132, 57.78006715506715, 57.45383089133089, 57.362255799755815, 57.084350834350836, 56.716142653642656, 56.72313797313797, 56.856684981684985, 57.17147435897434, 57.32537138787138, 56.746031746031754, 56.74921143671144, 56.594678469678485, 57.35971204721204, 56.95461945461946, 56.69006919006919, 56.64110195360195, 56.825524013024, 56.91646316646316, 57.026480463980455, 57.2070868945869, 57.04365079365081, 57.040471102971104, 57.031567969067964, 57.16129934879935, 56.712327024827026, 57.26559320309321, 56.68307387057388, 56.99213980463981, 57.06209299959301, 57.120599308099315, 57.04301485551486, 57.13077431827433, 57.43475274725275, 57.27576821326823, 57.57783882783883, 57.60264041514043, 57.001042938542945, 57.06145706145707, 56.559065934065934, 56.82298026048026, 56.69134106634107, 57.09261803011805, 57.139041514041516, 57.85637973137975, 57.43093711843712, 57.06972425722426, 57.23443223443224, 57.351444851444846, 57.062092999593006, 57.69548738298737, 57.156211843711844, 57.08625864875865, 57.58674196174196, 56.72568172568172, 56.49102055352056, 55.80547924297925, 55.982905982905976, 56.267170329670336, 56.176867114367106, 55.876704314204325, 56.52472527472526, 56.20866402116402, 56.781008343508354, 56.470670533170534, 56.194673382173384, 56.022970085470085, 56.05540293040293, 56.18449837199838, 56.25254375254375, 55.89514652014651, 56.370192307692314, 56.138074888074875, 56.03632478632479, 55.90722934472935, 55.906593406593394, 56.24491249491249, 55.616605616605604, 56.37909544159547, 56.47893772893773, 56.326948514448524, 56.05222323972325, 56.97560541310542, 56.421703296703306, 56.97878510378509, 56.63410663410662, 56.8236161986162, 56.47893772893773, 56.405168905168914, 56.06176231176232, 57.19691188441187, 55.7431573056573, 56.141890516890506, 55.9180402930403, 55.998168498168496, 56.22392653642654, 56.5501628001628, 56.36828449328451, 56.096102971102965, 56.58386752136752, 56.49483618233619, 56.13934676434676, 56.243004680504676, 55.90722934472935, 55.947929385429376, 56.40771265771266, 56.05095136345137, 56.763202075702075, 56.426790801790816, 56.245548433048434, 56.29324379324379, 56.42615486365486, 56.78418803418804, 56.71041921041922, 57.020757020757, 56.508826821326814, 56.51836589336591, 56.82743182743184, 57.01312576312574, 56.767653642653634, 56.91646316646319, 56.82933964183965, 56.379731379731375, 56.81153337403338, 56.78545991045991, 56.337759462759465, 56.71359890109891, 56.85986467236469, 56.87385531135532, 56.503739316239326, 56.81916463166464, 56.5819597069597, 56.75875050875052, 56.65572853072853, 56.45604395604396, 56.3434829059829, 56.78291615791617, 56.65509259259258, 56.832519332519325, 56.520909645909654, 56.65509259259259, 56.28879222629223, 56.44459706959707, 56.4636752136752, 57.37624643874644, 56.81789275539277, 56.67417073667074, 57.28975885225886, 57.21408221408223, 57.33045889295891, 56.99786324786326, 57.29421041921043, 56.86240842490843, 57.43920431420432, 57.207722832722844, 56.99595543345543, 56.750483312983306, 57.07163207163208, 56.74285205535207, 57.40613553113553, 56.96034289784291, 56.875127187627186, 56.882122507122496, 56.86940374440377, 57.12950244200244, 57.1988196988197, 57.18673687423688, 56.93554131054132, 57.04492266992266, 57.09516178266179, 57.41821835571836, 56.92600223850224, 57.269408831908834, 57.35716829466832, 57.401683964183974, 56.83124745624746, 56.46240333740334, 57.066544566544586, 56.96543040293043, 56.926638176638185, 56.60866910866912, 56.884666259666254, 57.06018518518518, 57.101521164021186, 57.422033984533975, 56.898656898656895, 57.05954924704924, 56.967974155474145, 57.04365079365079, 56.956527269027276, 56.98260073260072, 57.092618030118025, 56.94317256817258, 56.55715811965812, 57.20072751322751, 57.52759971509972, 56.88721001221001, 57.132046194546206, 57.502798127798144, 56.91582722832723, 57.023936711436725, 57.04873829873829, 57.1918243793244, 57.30820105820107, 57.075447700447704, 57.472273097273096, 57.77370777370779, 57.22743691493692, 56.8287037037037, 57.00613044363046, 57.52505596255596, 56.79181929181929, 57.46972934472935, 56.81789275539276, 57.11106023606024, 56.95080382580385, 57.37243080993081, 57.06145706145705, 57.7590811965812, 57.37624643874643, 56.874491249491264, 57.224893162393165, 57.216625966625976, 57.33999796499797, 57.22998066748067, 56.66463166463168, 56.63601444851445, 57.32727920227921, 56.70596764346764, 56.099918599918595, 57.29357448107448, 57.17528998778999, 56.877035002034994, 56.513278388278394, 56.775284900284895, 57.17656186406186, 56.96225071225074, 57.28149165649168, 57.04174297924297, 57.56194037444038, 56.71423483923485, 57.1422212047212, 56.72186609686608, 57.13458994708994, 57.244607244607266, 56.95271164021164, 57.04237891737892, 56.90501628001629, 56.860500610500615, 57.28657916157916, 57.30947293447293, 57.078627391127405, 56.43505799755798, 56.98323667073665, 56.767017704517706, 56.57178469678471, 56.981328856328865, 56.84142246642247, 57.34508547008546, 57.00994607244608, 57.140313390313395, 57.50979344729345, 56.80517399267401, 56.98641636141637, 57.451287138787144, 57.03474765974769, 57.30120573870574, 56.801358363858384, 57.18228530728529, 57.49198717948718, 57.054461741961745, 57.36416361416364, 56.45413614163615, 56.93172568172569, 56.72758954008956, 57.055097680097674, 56.38609076109075, 56.58768315018315, 56.76383801383802, 57.14540089540089, 57.04047110297111, 56.56415343915345, 56.64428164428164, 56.83251933251932, 57.08180708180709, 56.85032560032561, 56.89802096052097, 57.432208994709015, 56.57305657305657, 57.246515059015074, 57.29802604802605, 57.222985347985365, 57.12059930809931, 57.16575091575091, 57.200091575091584, 57.21535409035409, 56.758750508750495, 57.05573361823363, 56.79181929181929, 56.98323667073666, 57.39659645909645, 57.100249287749286, 56.83633496133498, 57.01757733007731, 57.32791514041515, 57.18610093610095, 57.207722832722844, 57.31328856328857, 56.80326617826618, 57.178469678469675, 56.929817867317865, 56.56669719169721, 57.04683048433049, 57.154304029304036, 57.43093711843712, 57.60772792022794, 56.91264753764753, 57.01757733007734, 56.98260073260073, 56.83379120879122, 57.25414631664631, 57.22870879120878, 57.2306166056166, 57.343177655677636, 56.88593813593814, 57.001678876678874, 57.61790293040293, 57.03665547415548, 56.996591371591364, 57.04746642246642, 57.64524827024827, 57.32346357346358, 57.256690069190064, 57.388965201465204, 57.447471509971514, 56.7466676841677, 56.910739723239736, 57.07799145299146, 57.31328856328859, 57.36670736670738, 57.051282051282065, 57.22680097680098, 56.3784595034595, 57.16257122507121, 57.41821835571835, 56.51391432641433, 57.15430402930403, 57.74636243386243, 57.429665242165235, 57.60009666259666, 57.974028286528274, 57.46464183964184, 57.44238400488398, 57.144764957264954, 56.801994301994306, 56.805809930809914, 57.61217948717947, 57.45828245828247, 57.32282763532763, 57.72982804232803, 57.008038258038255, 57.264957264957246, 57.87800162800162, 57.643976393976395, 57.28149165649165, 57.25096662596661, 57.841753154253155, 56.593406593406606, 57.378154253154264, 57.20199938949937, 56.997227309727315, 57.128866503866504, 57.46273402523403, 57.53968253968254, 57.588649776149786, 57.44556369556372, 57.111696174196176, 57.569571632071636, 57.21471815221816, 57.32664326414326, 57.44619963369964, 57.28912291412291, 57.55685286935286, 57.79405779405781, 57.50152625152626, 57.16193528693528, 57.75462962962962, 58.0643315018315, 57.82839845339844, 58.394383394383404, 57.879909442409456, 57.70693426943427, 58.10693935693936, 58.29136141636144, 57.608363858363866, 57.61408730158729, 57.92378917378917, 57.19945563695564, 58.130469067969074, 58.01472832722834, 57.990562678062695, 57.69167175417177, 58.60297110297111, 57.951134513634535, 57.95431420431422, 57.19881969881968, 57.24842287342289, 57.623626373626365, 57.74254680504681, 57.844296906796906, 57.365435490435495, 57.83984533984534, 58.15527065527066, 57.26368538868539, 57.38514957264957, 57.069088319088316, 57.121235246235265, 56.75811457061456, 56.85859279609281, 56.96797415547416, 57.549221611721606, 57.41058709808712, 56.970517908017904, 57.603276353276364, 57.23570411070412, 57.926332926332925, 57.55367317867317, 57.245243182743195, 57.81250000000001, 57.3756105006105, 58.05161273911273, 56.98641636141637, 57.52187627187629, 57.397868335368365, 57.69930301180304, 57.26750101750102, 57.23761192511193, 57.34699328449329, 57.35589641839642, 57.90280321530321, 57.585470085470085, 57.474816849816875, 58.48850223850224, 57.66178266178267, 57.366707366707374, 57.50343406593407, 57.97466422466423, 57.243971306471316, 57.83602971102971, 57.68976393976394, 58.27228327228326, 57.00676638176639, 57.53968253968254, 57.88817663817665, 57.53650284900286, 57.37688237688237, 57.75780932030931, 57.631893569393576, 58.24557387057386, 57.82331094831094, 57.77116402116403, 58.41791310541311, 57.76544057794059, 58.5482804232804, 57.81059218559219, 58.148275335775345, 58.63794770044769, 58.286273911273916, 58.63540394790396, 58.136828449328455, 57.638888888888886, 58.54955229955231, 58.36513024013024, 57.8792735042735, 58.17689255189254, 57.720924908424905, 57.66305453805455, 57.77561558811559, 58.51648351648351, 58.421728734228736, 58.51330382580384, 58.4109177859178, 58.09358465608466, 58.606150793650784, 58.49549755799759, 58.09612840862841, 58.49486161986161, 58.45924908424908, 58.737154049654045, 58.37784900284902, 57.93332824582826, 58.41600529100531, 58.31870675620676, 58.37721306471307, 57.643340455840466, 58.117750305250325, 58.08404558404559, 58.214412901912915, 58.675468050468055, 58.09994403744404, 58.31107549857549, 58.230947293447315, 58.39120370370372, 58.47323972323972, 57.864646927146936, 58.508216320716336, 58.39692714692715, 58.054792429792435, 58.40964590964592, 58.26655982905982, 58.38039275539277, 58.154634717134705, 57.943503256003254, 58.47832722832724, 57.79660154660154, 57.85510785510786, 57.94731888481888, 58.40900997150999, 58.487866300366306, 58.28118640618641, 58.274827024827026, 58.11647842897843, 58.11266280016283, 58.332061457061464, 58.280550468050485, 58.405830280830294, 58.368945868945865, 57.94095950345951, 58.4776912901913, 58.44080687830688, 57.61663105413107, 57.972756410256416, 58.013456450956475, 58.30535205535205, 58.47769129019131, 58.46624440374439, 58.694546194546184, 58.07577838827837, 58.536833536833534, 58.35113960113961, 58.52856634106636, 58.71743996743998, 58.2125050875051, 58.46815221815223, 58.631588319088316], \"yaxis\": \"y\"}],\n",
       "                        {\"legend\": {\"tracegroupgap\": 0}, \"template\": {\"data\": {\"bar\": [{\"error_x\": {\"color\": \"rgb(36,36,36)\"}, \"error_y\": {\"color\": \"rgb(36,36,36)\"}, \"marker\": {\"line\": {\"color\": \"white\", \"width\": 0.5}}, \"type\": \"bar\"}], \"barpolar\": [{\"marker\": {\"line\": {\"color\": \"white\", \"width\": 0.5}}, \"type\": \"barpolar\"}], \"carpet\": [{\"aaxis\": {\"endlinecolor\": \"rgb(36,36,36)\", \"gridcolor\": \"white\", \"linecolor\": \"white\", \"minorgridcolor\": \"white\", \"startlinecolor\": \"rgb(36,36,36)\"}, \"baxis\": {\"endlinecolor\": \"rgb(36,36,36)\", \"gridcolor\": \"white\", \"linecolor\": \"white\", \"minorgridcolor\": \"white\", \"startlinecolor\": \"rgb(36,36,36)\"}, \"type\": \"carpet\"}], \"choropleth\": [{\"colorbar\": {\"outlinewidth\": 1, \"tickcolor\": \"rgb(36,36,36)\", \"ticks\": \"outside\"}, \"type\": \"choropleth\"}], \"contour\": [{\"colorbar\": {\"outlinewidth\": 1, \"tickcolor\": \"rgb(36,36,36)\", \"ticks\": \"outside\"}, \"colorscale\": [[0.0, \"#440154\"], [0.1111111111111111, \"#482878\"], [0.2222222222222222, \"#3e4989\"], [0.3333333333333333, \"#31688e\"], [0.4444444444444444, \"#26828e\"], [0.5555555555555556, \"#1f9e89\"], [0.6666666666666666, \"#35b779\"], [0.7777777777777778, \"#6ece58\"], [0.8888888888888888, \"#b5de2b\"], [1.0, \"#fde725\"]], \"type\": \"contour\"}], \"contourcarpet\": [{\"colorbar\": {\"outlinewidth\": 1, \"tickcolor\": \"rgb(36,36,36)\", \"ticks\": \"outside\"}, \"type\": \"contourcarpet\"}], \"heatmap\": [{\"colorbar\": {\"outlinewidth\": 1, \"tickcolor\": \"rgb(36,36,36)\", \"ticks\": \"outside\"}, \"colorscale\": [[0.0, \"#440154\"], [0.1111111111111111, \"#482878\"], [0.2222222222222222, \"#3e4989\"], [0.3333333333333333, \"#31688e\"], [0.4444444444444444, \"#26828e\"], [0.5555555555555556, \"#1f9e89\"], [0.6666666666666666, \"#35b779\"], [0.7777777777777778, \"#6ece58\"], [0.8888888888888888, \"#b5de2b\"], [1.0, \"#fde725\"]], \"type\": \"heatmap\"}], \"heatmapgl\": [{\"colorbar\": {\"outlinewidth\": 1, \"tickcolor\": \"rgb(36,36,36)\", \"ticks\": \"outside\"}, \"colorscale\": [[0.0, \"#440154\"], [0.1111111111111111, \"#482878\"], [0.2222222222222222, \"#3e4989\"], [0.3333333333333333, \"#31688e\"], [0.4444444444444444, \"#26828e\"], [0.5555555555555556, \"#1f9e89\"], [0.6666666666666666, \"#35b779\"], [0.7777777777777778, \"#6ece58\"], [0.8888888888888888, \"#b5de2b\"], [1.0, \"#fde725\"]], \"type\": \"heatmapgl\"}], \"histogram\": [{\"marker\": {\"line\": {\"color\": \"white\", \"width\": 0.6}}, \"type\": \"histogram\"}], \"histogram2d\": [{\"colorbar\": {\"outlinewidth\": 1, \"tickcolor\": \"rgb(36,36,36)\", \"ticks\": \"outside\"}, \"colorscale\": [[0.0, \"#440154\"], [0.1111111111111111, \"#482878\"], [0.2222222222222222, \"#3e4989\"], [0.3333333333333333, \"#31688e\"], [0.4444444444444444, \"#26828e\"], [0.5555555555555556, \"#1f9e89\"], [0.6666666666666666, \"#35b779\"], [0.7777777777777778, \"#6ece58\"], [0.8888888888888888, \"#b5de2b\"], [1.0, \"#fde725\"]], \"type\": \"histogram2d\"}], \"histogram2dcontour\": [{\"colorbar\": {\"outlinewidth\": 1, \"tickcolor\": \"rgb(36,36,36)\", \"ticks\": \"outside\"}, \"colorscale\": [[0.0, \"#440154\"], [0.1111111111111111, \"#482878\"], [0.2222222222222222, \"#3e4989\"], [0.3333333333333333, \"#31688e\"], [0.4444444444444444, \"#26828e\"], [0.5555555555555556, \"#1f9e89\"], [0.6666666666666666, \"#35b779\"], [0.7777777777777778, \"#6ece58\"], [0.8888888888888888, \"#b5de2b\"], [1.0, \"#fde725\"]], \"type\": \"histogram2dcontour\"}], \"mesh3d\": [{\"colorbar\": {\"outlinewidth\": 1, \"tickcolor\": \"rgb(36,36,36)\", \"ticks\": \"outside\"}, \"type\": \"mesh3d\"}], \"parcoords\": [{\"line\": {\"colorbar\": {\"outlinewidth\": 1, \"tickcolor\": \"rgb(36,36,36)\", \"ticks\": \"outside\"}}, \"type\": \"parcoords\"}], \"pie\": [{\"automargin\": true, \"type\": \"pie\"}], \"scatter\": [{\"marker\": {\"colorbar\": {\"outlinewidth\": 1, \"tickcolor\": \"rgb(36,36,36)\", \"ticks\": \"outside\"}}, \"type\": \"scatter\"}], \"scatter3d\": [{\"line\": {\"colorbar\": {\"outlinewidth\": 1, \"tickcolor\": \"rgb(36,36,36)\", \"ticks\": \"outside\"}}, \"marker\": {\"colorbar\": {\"outlinewidth\": 1, \"tickcolor\": \"rgb(36,36,36)\", \"ticks\": \"outside\"}}, \"type\": \"scatter3d\"}], \"scattercarpet\": [{\"marker\": {\"colorbar\": {\"outlinewidth\": 1, \"tickcolor\": \"rgb(36,36,36)\", \"ticks\": \"outside\"}}, \"type\": \"scattercarpet\"}], \"scattergeo\": [{\"marker\": {\"colorbar\": {\"outlinewidth\": 1, \"tickcolor\": \"rgb(36,36,36)\", \"ticks\": \"outside\"}}, \"type\": \"scattergeo\"}], \"scattergl\": [{\"marker\": {\"colorbar\": {\"outlinewidth\": 1, \"tickcolor\": \"rgb(36,36,36)\", \"ticks\": \"outside\"}}, \"type\": \"scattergl\"}], \"scattermapbox\": [{\"marker\": {\"colorbar\": {\"outlinewidth\": 1, \"tickcolor\": \"rgb(36,36,36)\", \"ticks\": \"outside\"}}, \"type\": \"scattermapbox\"}], \"scatterpolar\": [{\"marker\": {\"colorbar\": {\"outlinewidth\": 1, \"tickcolor\": \"rgb(36,36,36)\", \"ticks\": \"outside\"}}, \"type\": \"scatterpolar\"}], \"scatterpolargl\": [{\"marker\": {\"colorbar\": {\"outlinewidth\": 1, \"tickcolor\": \"rgb(36,36,36)\", \"ticks\": \"outside\"}}, \"type\": \"scatterpolargl\"}], \"scatterternary\": [{\"marker\": {\"colorbar\": {\"outlinewidth\": 1, \"tickcolor\": \"rgb(36,36,36)\", \"ticks\": \"outside\"}}, \"type\": \"scatterternary\"}], \"surface\": [{\"colorbar\": {\"outlinewidth\": 1, \"tickcolor\": \"rgb(36,36,36)\", \"ticks\": \"outside\"}, \"colorscale\": [[0.0, \"#440154\"], [0.1111111111111111, \"#482878\"], [0.2222222222222222, \"#3e4989\"], [0.3333333333333333, \"#31688e\"], [0.4444444444444444, \"#26828e\"], [0.5555555555555556, \"#1f9e89\"], [0.6666666666666666, \"#35b779\"], [0.7777777777777778, \"#6ece58\"], [0.8888888888888888, \"#b5de2b\"], [1.0, \"#fde725\"]], \"type\": \"surface\"}], \"table\": [{\"cells\": {\"fill\": {\"color\": \"rgb(237,237,237)\"}, \"line\": {\"color\": \"white\"}}, \"header\": {\"fill\": {\"color\": \"rgb(217,217,217)\"}, \"line\": {\"color\": \"white\"}}, \"type\": \"table\"}]}, \"layout\": {\"annotationdefaults\": {\"arrowhead\": 0, \"arrowwidth\": 1}, \"coloraxis\": {\"colorbar\": {\"outlinewidth\": 1, \"tickcolor\": \"rgb(36,36,36)\", \"ticks\": \"outside\"}}, \"colorscale\": {\"diverging\": [[0.0, \"rgb(103,0,31)\"], [0.1, \"rgb(178,24,43)\"], [0.2, \"rgb(214,96,77)\"], [0.3, \"rgb(244,165,130)\"], [0.4, \"rgb(253,219,199)\"], [0.5, \"rgb(247,247,247)\"], [0.6, \"rgb(209,229,240)\"], [0.7, \"rgb(146,197,222)\"], [0.8, \"rgb(67,147,195)\"], [0.9, \"rgb(33,102,172)\"], [1.0, \"rgb(5,48,97)\"]], \"sequential\": [[0.0, \"#440154\"], [0.1111111111111111, \"#482878\"], [0.2222222222222222, \"#3e4989\"], [0.3333333333333333, \"#31688e\"], [0.4444444444444444, \"#26828e\"], [0.5555555555555556, \"#1f9e89\"], [0.6666666666666666, \"#35b779\"], [0.7777777777777778, \"#6ece58\"], [0.8888888888888888, \"#b5de2b\"], [1.0, \"#fde725\"]], \"sequentialminus\": [[0.0, \"#440154\"], [0.1111111111111111, \"#482878\"], [0.2222222222222222, \"#3e4989\"], [0.3333333333333333, \"#31688e\"], [0.4444444444444444, \"#26828e\"], [0.5555555555555556, \"#1f9e89\"], [0.6666666666666666, \"#35b779\"], [0.7777777777777778, \"#6ece58\"], [0.8888888888888888, \"#b5de2b\"], [1.0, \"#fde725\"]]}, \"colorway\": [\"#1F77B4\", \"#FF7F0E\", \"#2CA02C\", \"#D62728\", \"#9467BD\", \"#8C564B\", \"#E377C2\", \"#7F7F7F\", \"#BCBD22\", \"#17BECF\"], \"font\": {\"color\": \"rgb(36,36,36)\"}, \"geo\": {\"bgcolor\": \"white\", \"lakecolor\": \"white\", \"landcolor\": \"white\", \"showlakes\": true, \"showland\": true, \"subunitcolor\": \"white\"}, \"hoverlabel\": {\"align\": \"left\"}, \"hovermode\": \"closest\", \"mapbox\": {\"style\": \"light\"}, \"paper_bgcolor\": \"white\", \"plot_bgcolor\": \"white\", \"polar\": {\"angularaxis\": {\"gridcolor\": \"rgb(232,232,232)\", \"linecolor\": \"rgb(36,36,36)\", \"showgrid\": false, \"showline\": true, \"ticks\": \"outside\"}, \"bgcolor\": \"white\", \"radialaxis\": {\"gridcolor\": \"rgb(232,232,232)\", \"linecolor\": \"rgb(36,36,36)\", \"showgrid\": false, \"showline\": true, \"ticks\": \"outside\"}}, \"scene\": {\"xaxis\": {\"backgroundcolor\": \"white\", \"gridcolor\": \"rgb(232,232,232)\", \"gridwidth\": 2, \"linecolor\": \"rgb(36,36,36)\", \"showbackground\": true, \"showgrid\": false, \"showline\": true, \"ticks\": \"outside\", \"zeroline\": false, \"zerolinecolor\": \"rgb(36,36,36)\"}, \"yaxis\": {\"backgroundcolor\": \"white\", \"gridcolor\": \"rgb(232,232,232)\", \"gridwidth\": 2, \"linecolor\": \"rgb(36,36,36)\", \"showbackground\": true, \"showgrid\": false, \"showline\": true, \"ticks\": \"outside\", \"zeroline\": false, \"zerolinecolor\": \"rgb(36,36,36)\"}, \"zaxis\": {\"backgroundcolor\": \"white\", \"gridcolor\": \"rgb(232,232,232)\", \"gridwidth\": 2, \"linecolor\": \"rgb(36,36,36)\", \"showbackground\": true, \"showgrid\": false, \"showline\": true, \"ticks\": \"outside\", \"zeroline\": false, \"zerolinecolor\": \"rgb(36,36,36)\"}}, \"shapedefaults\": {\"fillcolor\": \"black\", \"line\": {\"width\": 0}, \"opacity\": 0.3}, \"ternary\": {\"aaxis\": {\"gridcolor\": \"rgb(232,232,232)\", \"linecolor\": \"rgb(36,36,36)\", \"showgrid\": false, \"showline\": true, \"ticks\": \"outside\"}, \"baxis\": {\"gridcolor\": \"rgb(232,232,232)\", \"linecolor\": \"rgb(36,36,36)\", \"showgrid\": false, \"showline\": true, \"ticks\": \"outside\"}, \"bgcolor\": \"white\", \"caxis\": {\"gridcolor\": \"rgb(232,232,232)\", \"linecolor\": \"rgb(36,36,36)\", \"showgrid\": false, \"showline\": true, \"ticks\": \"outside\"}}, \"title\": {\"x\": 0.05}, \"xaxis\": {\"automargin\": true, \"gridcolor\": \"rgb(232,232,232)\", \"linecolor\": \"rgb(36,36,36)\", \"showgrid\": false, \"showline\": true, \"ticks\": \"outside\", \"title\": {\"standoff\": 15}, \"zeroline\": false, \"zerolinecolor\": \"rgb(36,36,36)\"}, \"yaxis\": {\"automargin\": true, \"gridcolor\": \"rgb(232,232,232)\", \"linecolor\": \"rgb(36,36,36)\", \"showgrid\": false, \"showline\": true, \"ticks\": \"outside\", \"title\": {\"standoff\": 15}, \"zeroline\": false, \"zerolinecolor\": \"rgb(36,36,36)\"}}}, \"title\": {\"text\": \"OutletPressure g-pump-6 for all weeks \"}, \"xaxis\": {\"anchor\": \"y\", \"domain\": [0.0, 1.0], \"title\": {\"text\": \"week\"}, \"type\": \"category\"}, \"yaxis\": {\"anchor\": \"x\", \"domain\": [0.0, 1.0], \"title\": {\"text\": \"feature_value\"}}},\n",
       "                        {\"responsive\": true}\n",
       "                    ).then(function(){\n",
       "                            \n",
       "var gd = document.getElementById('1994d139-18eb-4e13-96a1-aa43cd9a641a');\n",
       "var x = new MutationObserver(function (mutations, observer) {{\n",
       "        var display = window.getComputedStyle(gd).display;\n",
       "        if (!display || display === 'none') {{\n",
       "            console.log([gd, 'removed!']);\n",
       "            Plotly.purge(gd);\n",
       "            observer.disconnect();\n",
       "        }}\n",
       "}});\n",
       "\n",
       "// Listen for the removal of the full notebook cells\n",
       "var notebookContainer = gd.closest('#notebook-container');\n",
       "if (notebookContainer) {{\n",
       "    x.observe(notebookContainer, {childList: true});\n",
       "}}\n",
       "\n",
       "// Listen for the clearing of the current output cell\n",
       "var outputEl = gd.closest('.output');\n",
       "if (outputEl) {{\n",
       "    x.observe(outputEl, {childList: true});\n",
       "}}\n",
       "\n",
       "                        })\n",
       "                };\n",
       "                });\n",
       "            </script>\n",
       "        </div>"
      ]
     },
     "metadata": {},
     "output_type": "display_data"
    },
    {
     "data": {
      "application/vnd.plotly.v1+json": {
       "config": {
        "plotlyServerURL": "https://plot.ly"
       },
       "data": [
        {
         "hoverlabel": {
          "namelength": 0
         },
         "hovertemplate": "week=%{x}<br>feature_value=%{y}",
         "legendgroup": "",
         "marker": {
          "color": "#1F77B4",
          "symbol": "circle"
         },
         "mode": "markers",
         "name": "",
         "showlegend": false,
         "type": "scatter",
         "x": [
          47,
          47,
          47,
          47,
          47,
          47,
          47,
          47,
          47,
          47,
          47,
          47,
          47,
          47,
          47,
          47,
          47,
          47,
          47,
          47,
          47,
          47,
          47,
          47,
          47,
          47,
          47,
          47,
          47,
          47,
          47,
          47,
          47,
          47,
          47,
          47,
          47,
          47,
          47,
          47,
          47,
          47,
          47,
          47,
          47,
          47,
          47,
          47,
          47,
          47,
          47,
          47,
          47,
          47,
          47,
          47,
          47,
          47,
          47,
          47,
          47,
          47,
          47,
          47,
          47,
          47,
          47,
          47,
          47,
          47,
          47,
          47,
          47,
          47,
          47,
          47,
          47,
          47,
          47,
          47,
          47,
          47,
          47,
          47,
          47,
          47,
          47,
          47,
          47,
          47,
          47,
          47,
          47,
          47,
          47,
          47,
          47,
          47,
          47,
          47,
          47,
          47,
          47,
          47,
          47,
          47,
          48,
          48,
          48,
          48,
          48,
          48,
          48,
          48,
          48,
          48,
          48,
          48,
          48,
          48,
          48,
          48,
          48,
          48,
          48,
          48,
          48,
          48,
          48,
          48,
          48,
          48,
          48,
          48,
          48,
          48,
          48,
          48,
          48,
          48,
          48,
          48,
          48,
          48,
          48,
          48,
          48,
          48,
          48,
          48,
          48,
          48,
          48,
          48,
          48,
          48,
          48,
          48,
          48,
          48,
          48,
          48,
          48,
          48,
          48,
          48,
          48,
          48,
          48,
          48,
          48,
          48,
          48,
          48,
          48,
          48,
          48,
          48,
          48,
          48,
          48,
          48,
          48,
          48,
          48,
          48,
          48,
          48,
          48,
          48,
          48,
          48,
          48,
          48,
          48,
          48,
          48,
          48,
          48,
          48,
          48,
          48,
          48,
          48,
          48,
          48,
          48,
          48,
          48,
          48,
          48,
          48,
          48,
          48,
          48,
          48,
          48,
          48,
          48,
          48,
          48,
          48,
          48,
          48,
          48,
          48,
          48,
          48,
          48,
          48,
          48,
          48,
          48,
          48,
          48,
          48,
          48,
          48,
          48,
          48,
          48,
          48,
          48,
          48,
          48,
          48,
          48,
          48,
          48,
          48,
          48,
          48,
          48,
          48,
          48,
          48,
          48,
          48,
          48,
          48,
          48,
          48,
          48,
          48,
          48,
          48,
          48,
          48,
          48,
          48,
          48,
          48,
          49,
          49,
          49,
          49,
          49,
          49,
          49,
          49,
          49,
          49,
          49,
          49,
          49,
          49,
          49,
          49,
          49,
          49,
          49,
          49,
          49,
          49,
          49,
          49,
          49,
          49,
          49,
          49,
          49,
          50,
          50,
          50,
          50,
          50,
          50,
          50,
          50,
          50,
          50,
          50,
          50,
          50,
          50,
          50,
          50,
          50,
          50,
          50,
          50,
          50,
          50,
          50,
          50,
          50,
          50,
          50,
          50,
          50,
          50,
          50,
          50,
          50,
          51,
          51,
          51,
          51,
          51,
          51,
          51,
          51,
          51,
          51,
          51,
          51,
          51,
          51,
          51,
          51,
          51,
          51,
          51,
          51,
          51,
          51,
          51,
          51,
          51,
          51,
          51,
          51,
          51,
          51,
          51,
          51,
          51,
          51,
          51,
          51,
          51,
          51,
          51,
          51,
          51,
          51,
          51,
          51,
          51,
          51,
          51,
          51,
          51,
          51,
          51,
          51,
          51,
          51,
          51,
          51,
          51,
          51,
          51,
          51,
          51,
          51,
          51,
          51,
          51,
          51,
          51,
          51,
          51,
          51,
          51,
          51,
          51,
          51,
          51,
          51,
          51,
          51,
          51,
          51,
          51,
          51,
          51,
          51,
          51,
          51,
          51,
          51,
          51,
          51,
          51,
          51,
          51,
          51,
          51,
          51,
          51,
          51,
          51,
          51,
          51,
          51,
          51,
          51,
          51,
          51,
          51,
          51,
          51,
          51,
          51,
          51,
          51,
          51,
          51,
          51,
          51,
          51,
          51,
          51,
          51,
          51,
          51,
          51,
          51,
          51,
          51,
          51,
          51,
          51,
          51,
          51,
          51,
          51,
          51,
          51,
          51,
          51,
          51,
          51,
          51,
          51,
          51,
          51,
          51,
          51,
          51,
          51,
          52,
          52,
          52,
          52,
          52,
          52,
          52,
          52,
          52,
          52,
          52,
          52,
          52,
          52,
          52,
          52,
          52,
          52,
          52,
          52,
          52,
          52,
          52,
          52,
          52,
          52,
          52,
          52,
          52,
          52,
          52,
          52,
          52,
          52,
          52,
          52,
          52,
          52,
          52,
          52,
          52,
          52,
          52,
          52,
          52,
          52,
          52,
          52,
          52,
          52,
          52,
          52,
          52,
          52,
          52,
          52,
          52,
          52,
          52,
          52,
          52,
          52,
          52,
          52,
          52,
          52,
          52,
          52,
          52,
          52,
          52,
          52,
          52,
          52,
          52,
          52,
          52,
          52,
          52,
          52,
          52,
          52,
          52,
          52,
          52,
          52,
          52,
          52,
          52,
          52,
          52,
          52,
          52,
          52,
          52,
          52,
          52,
          52,
          52,
          52,
          52,
          52,
          52,
          52,
          52,
          52,
          52,
          52,
          52,
          52,
          52,
          52,
          52,
          52,
          52,
          52,
          52,
          52,
          52,
          52,
          52,
          52,
          52,
          52,
          52,
          52,
          52,
          52,
          52,
          52,
          52,
          52,
          52,
          52,
          52,
          52,
          52,
          52,
          52,
          52,
          52,
          52,
          52,
          52,
          52,
          52,
          52,
          52,
          52,
          52,
          52,
          52,
          52,
          52,
          52,
          52,
          52,
          52,
          52,
          52,
          52,
          52,
          52,
          52,
          52,
          52,
          1,
          1,
          1,
          1,
          1,
          1,
          1,
          1,
          1,
          1,
          1,
          1,
          1,
          1,
          1,
          1,
          1,
          1,
          1,
          1,
          1,
          1,
          1,
          1,
          1,
          1,
          1,
          1,
          1,
          1,
          1,
          1,
          1,
          1,
          1,
          1,
          1,
          1,
          1,
          1,
          1,
          1,
          1,
          1,
          1,
          1,
          1,
          1,
          1,
          1,
          1,
          1,
          1,
          1,
          1,
          1,
          1,
          1,
          1,
          1,
          1,
          1,
          1,
          1,
          1,
          1,
          1,
          1,
          1,
          1,
          1,
          1,
          1,
          1,
          1,
          1,
          1,
          1,
          1,
          1,
          1,
          1,
          1,
          1,
          1,
          1,
          1,
          1,
          1,
          1,
          1,
          1,
          1,
          1,
          1,
          1,
          1,
          1,
          1,
          1,
          1,
          1,
          1,
          1,
          1,
          1,
          1,
          1,
          1,
          1,
          1,
          1,
          1,
          1,
          1,
          1,
          1,
          1,
          1,
          1,
          1,
          1,
          1,
          1,
          1,
          1,
          1,
          1,
          1,
          1,
          1,
          1,
          1,
          1,
          1,
          1,
          1,
          1,
          1,
          1,
          1,
          1,
          1,
          1,
          1,
          1,
          1,
          1,
          1,
          1,
          1,
          1,
          1,
          1,
          1,
          1,
          1,
          1,
          1,
          1,
          1,
          1,
          1,
          1,
          1,
          1,
          2,
          2,
          2,
          2,
          2,
          2,
          2,
          2,
          2,
          2,
          2,
          2,
          2,
          2,
          2,
          2,
          2
         ],
         "xaxis": "x",
         "y": [
          3.3604487238058556,
          3.419922573828401,
          3.4163637288637294,
          3.4233185795685794,
          3.339819902319901,
          3.296703296703296,
          3.354319291819292,
          3.3685643060643056,
          3.3978810541310547,
          3.4028413715913697,
          3.427706552706552,
          3.4516814204314206,
          3.4844958282458296,
          3.328818172568172,
          3.3588980463980467,
          3.4029049654049643,
          3.3632224257224252,
          3.4139702889702868,
          3.517501017501018,
          3.423127798127799,
          3.376767908017906,
          3.3824913512413524,
          3.4443787308370655,
          3.3187067562067565,
          3.34210927960928,
          3.4242724867724856,
          3.4755291005291014,
          3.4719042531542548,
          3.390567765567766,
          3.3852894790394785,
          3.3403286528286524,
          3.268849206349207,
          3.4319673382173383,
          3.3339692714692704,
          3.326846764346765,
          3.475020350020351,
          3.408692002442002,
          3.3382300569800596,
          3.402904965404966,
          3.383763227513228,
          3.3339056776556784,
          3.4465939153439162,
          3.379057285307283,
          3.327673483923485,
          3.371934778184777,
          3.4437321937321936,
          3.4348290598290583,
          3.329835673585674,
          3.3947649572649587,
          3.430822649572651,
          3.4177223239723236,
          3.381028693528693,
          3.4025234025234035,
          3.432030932030932,
          3.312029405779405,
          3.3540649165649157,
          3.270884208384208,
          3.3735246235246237,
          3.395273707773709,
          3.313682844932845,
          3.376004782254782,
          3.312728937728938,
          3.3672288359788367,
          3.3896774521774518,
          3.3856710419210416,
          3.4057666870166865,
          3.3859890109890096,
          3.40398606023606,
          3.341473341473341,
          3.3674832112332105,
          3.3547644485144477,
          3.4258623321123323,
          3.393874643874643,
          3.350440069190071,
          3.478708791208792,
          3.274127492877492,
          3.3626500814000813,
          3.3073870573870585,
          3.396418396418396,
          3.4303138990638984,
          3.4423331298331306,
          3.379120879120879,
          3.3748600936100925,
          3.3910129222629233,
          3.384526353276352,
          3.2755265567765566,
          3.3307895807895807,
          3.3990257427757435,
          3.3969907407407405,
          3.4478657916157895,
          3.4266890516890514,
          3.3747329059829068,
          3.327164733414732,
          3.3943833943833943,
          3.388087606837608,
          3.412062474562473,
          3.3224587912087915,
          3.400106837606836,
          3.343126780626781,
          3.3962912087912076,
          3.3045889295889306,
          3.317752849002849,
          3.349994912494912,
          3.4954975579975582,
          3.3194698819698836,
          3.356608669108668,
          3.381601037851038,
          3.3339056776556784,
          3.387324481074481,
          3.464781746031745,
          3.3744785307285294,
          3.273109991859991,
          3.3991529304029307,
          3.333842083842083,
          3.4493920431420437,
          3.361123829873829,
          3.353428978428978,
          3.473875661375661,
          3.26655982905983,
          3.3884691697191704,
          3.309740028490029,
          3.357562576312576,
          3.3357498982498988,
          3.4422695360195372,
          3.4273885836385833,
          3.387578856328855,
          3.3662113349613363,
          3.3662113349613354,
          3.4630011192511194,
          3.29276048026048,
          3.432285307285308,
          3.422619047619049,
          3.2839845339845333,
          3.4125076312576312,
          3.366020553520553,
          3.3215684778184786,
          3.502238502238501,
          3.480235042735042,
          3.332951770451771,
          3.379248066748067,
          3.370217745217744,
          3.3408374033374044,
          3.3363858363858374,
          3.4424603174603168,
          3.4413792226292226,
          3.377785409035407,
          3.4055759055759065,
          3.357181013431014,
          3.4936533374033374,
          3.5423661986161985,
          3.434829059829061,
          3.3150183150183143,
          3.378484940984942,
          3.3754324379324374,
          3.279342185592185,
          3.4297415547415544,
          3.408946377696377,
          3.4529532967032974,
          3.4670711233211233,
          3.42681623931624,
          3.24156746031746,
          3.4219195156695164,
          3.3135556573056584,
          3.37028133903134,
          3.3723163410663415,
          3.3555275742775734,
          3.334541615791616,
          3.3686278998779,
          3.333905677655679,
          3.3572446072446076,
          3.3718075905575926,
          3.3814102564102555,
          3.3544464794464783,
          3.3243666056166052,
          3.3493589743589745,
          3.3596611721611738,
          3.2818223443223444,
          3.384717134717134,
          3.378930097680099,
          3.402523402523403,
          3.380011192511193,
          3.2823310948310938,
          3.354764448514448,
          3.341854904354904,
          3.4319673382173375,
          3.3892322954822958,
          3.2794693732193725,
          3.414479039479039,
          3.341218966218966,
          3.314954721204721,
          3.4073565323565327,
          3.4253535816035825,
          3.3347323972323983,
          3.346560846560847,
          3.5547033984533982,
          3.290280321530323,
          3.4757198819698814,
          3.540458384208385,
          3.3755596255596267,
          3.276162494912495,
          3.253141534391535,
          3.3919668294668295,
          3.2483719983719985,
          3.403350122100122,
          3.342363654863655,
          3.4146698209198214,
          3.4035409035409057,
          3.2900259462759465,
          3.3912037037037037,
          3.3622685185185177,
          3.258864977614977,
          3.5040191290191305,
          3.4782000407000417,
          3.2705662393162402,
          3.3317434879934873,
          3.3653846153846145,
          3.402714183964184,
          3.3770858770858774,
          3.394383394383393,
          3.2615995115995116,
          3.329581298331299,
          3.4176587301587307,
          3.367546805046804,
          3.4666259666259656,
          3.434383903133904,
          3.539822446072446,
          3.374096967846967,
          3.3445258445258426,
          3.423890923890925,
          3.2620446682946684,
          3.3470060032560056,
          3.270375457875458,
          3.4361009361009374,
          3.310248778998778,
          3.3361314611314596,
          3.3882147944647945,
          3.3861161986161985,
          3.444749694749694,
          3.305606430606431,
          3.3412189662189675,
          3.377340252340254,
          3.4596942409442413,
          3.258992165242166,
          3.3959096459096467,
          3.2883725071225083,
          3.324620980870981,
          3.415178571428571,
          3.3512667887667895,
          3.363858363858364,
          3.3121565934065926,
          3.281631562881563,
          3.3459249084249065,
          3.359915547415547,
          3.3868793243793234,
          3.3513939763939757,
          3.3324430199430197,
          3.32411223036223,
          3.4293599918599917,
          3.3529838217338246,
          3.3609330484330484,
          3.3692002442002433,
          3.3247481684981683,
          3.3485958485958487,
          3.42630748880749,
          3.294350325600325,
          3.4816977004477008,
          3.3625228937728924,
          3.307577838827839,
          3.331234737484738,
          3.370090557590558,
          3.349549755799757,
          3.3288817663817656,
          3.3527930402930406,
          3.3692638380138393,
          3.337530525030525,
          3.392284798534799,
          3.325702075702075,
          3.3494861619861624,
          3.46382783882784,
          3.2969576719576725,
          3.381092287342287,
          3.3193002984669655,
          3.3583892958892974,
          3.4572140822140827,
          3.4385175010175035,
          3.381092287342287,
          3.4343203093203094,
          3.3526022588522593,
          3.460966117216119,
          3.4128256003255992,
          3.266687016687015,
          3.352983821733821,
          3.390758547008547,
          3.43419312169312,
          3.4014423076923084,
          3.4562601750101742,
          3.344843813593813,
          3.305987993487996,
          3.3587072649572653,
          3.486085673585674,
          3.4132071632071646,
          3.3898046398046398,
          3.4254807692307696,
          3.3642399267399283,
          3.5159747659747644,
          3.4922542735042743,
          3.4469754782254776,
          3.5126042938542934,
          3.5078983516483517,
          3.416704822954823,
          3.4279609279609295,
          3.446466727716729,
          3.497723341473341,
          3.3760683760683747,
          3.562398249898249,
          3.392857142857143,
          3.473303317053316,
          3.46618080993081,
          3.4410612535612537,
          3.508725071225071,
          3.5461182336182326,
          3.5786782661782657,
          3.455242673992674,
          3.4305046805046806,
          3.459439865689866,
          3.5091702279202277,
          3.4796626984126995,
          3.56506919006919,
          3.42484483109483,
          3.4781364468864475,
          3.5407763532763536,
          3.5931140618640622,
          3.6093304843304863,
          3.601508445258446,
          3.5958485958485955,
          3.5091066341066344,
          3.5313644688644685,
          3.4673254985754998,
          3.5156567969067987,
          3.474702380952379,
          3.432221713471714,
          3.5840201465201473,
          3.381919006919006,
          3.4708231583231597,
          3.466880341880343,
          3.4495828245828233,
          3.4692333129833117,
          3.495561151811152,
          3.359152421652423,
          3.3795024420024427,
          3.391712454212456,
          3.393047924297926,
          3.43533781033781,
          3.41199888074888,
          3.444622507122505,
          3.502620065120063,
          3.5202355514855515,
          3.485831298331298,
          3.4165776353276347,
          3.4258623321123323,
          3.46287393162393,
          3.3740333740333743,
          3.527548840048841,
          3.3422364672364666,
          3.438581094831095,
          3.433684371184373,
          3.440425315425316,
          3.3239850427350413,
          3.4335571835571823,
          3.4385810948310964,
          3.5036375661375665,
          3.3657025844525847,
          3.386688542938543,
          3.3826821326821332,
          3.3310439560439566,
          3.4353378103378094,
          3.291107041107041,
          3.4199481074481093,
          3.382173382173383,
          3.406784188034186,
          3.3475147537647536,
          3.507580382580381,
          3.374351343101343,
          3.503637566137567,
          3.4366732804232805,
          3.471777065527067,
          3.4913003663003663,
          3.528121184371185,
          3.5075167887667864,
          3.483223951973954,
          3.52653133903134,
          3.499567562067563,
          3.385416666666666,
          3.4289148351648358,
          3.531809625559625,
          3.4784544159544164,
          3.484432234432234,
          3.4623015873015883,
          3.4663715913715922,
          3.502492877492878,
          3.4787087912087906,
          3.4362917175417187,
          3.471904253154255,
          3.5441468253968247,
          3.4971509971509964,
          3.4899013024013015,
          3.4733033170533165,
          3.408564814814816,
          3.395909645909645,
          3.4537164224664223,
          3.269993894993895,
          3.4342567155067147,
          3.426307488807488,
          3.4207748270248275,
          3.3572446072446067,
          3.4126984126984135,
          3.4402345339845355,
          3.4444953194953203,
          3.3556547619047628,
          3.423064204314205,
          3.3240486365486377,
          3.4273885836385865,
          3.41117216117216,
          3.4512362637362632,
          3.3672924297924296,
          3.4626195563695563,
          3.423700142450142,
          3.4275157712657713,
          3.3798840048840044,
          3.4200117012617017,
          3.4745115995115996,
          3.4321581196581192,
          3.4266890516890527,
          3.2822675010175,
          3.4932081807081814,
          3.403095746845749,
          3.332760989010989,
          3.424018111518112,
          3.375050875050876,
          3.3653210215710216,
          3.444622507122507,
          3.4322217134717135,
          3.4364824989824982,
          3.395400895400894,
          3.4095823158323153,
          3.3571174196174187,
          3.3762591575091583,
          3.4257351444851434,
          3.3600427350427347,
          3.3775946275946276,
          3.4125712250712255,
          3.5718737281237285,
          3.3972451159951156,
          3.3640491452991452,
          3.3583257020757027,
          3.3846535409035425,
          3.372634310134309,
          3.431903744403744,
          3.359788359788359,
          3.401378713878714,
          3.4541615791615805,
          3.4232549857549857,
          3.4386446886446893,
          3.435910154660155,
          3.4310770248270255,
          3.4046219983719985,
          3.3904405779405784,
          3.3436355311355315,
          3.370281339031339,
          3.3832544770044763,
          3.335368335368335,
          3.4186126373626364,
          3.379438848188849,
          3.3676739926739923,
          3.524814306064305,
          3.4706323768823775,
          3.457277676027676,
          3.4995675620675613,
          3.3937474562474566,
          3.43101343101343,
          3.441188441188439,
          3.4872303622303615,
          3.5030652218152216,
          3.3626500814000817,
          3.4542251729751716,
          3.4306318681318673,
          3.3853530728530745,
          3.406784188034187,
          3.3361314611314614,
          3.4040496540496545,
          3.36977258852259,
          3.4645909645909647,
          3.509488196988197,
          3.4118080993081,
          3.4601393976393973,
          3.3753688441188454,
          3.345352564102565,
          3.4694876882376886,
          3.4930173992674,
          3.4749567562067543,
          3.5114596052096054,
          3.462873931623932,
          3.415941697191697,
          3.4489468864468873,
          3.420266076516077,
          3.391076516076517,
          3.310185185185185,
          3.3419184981684977,
          3.345988502238504,
          3.418421855921855,
          3.376895095645096,
          3.4272613960113962,
          3.4418879731379732,
          3.37912087912088,
          3.4334299959299948,
          3.3938746438746423,
          3.420647639397639,
          3.376068376068377,
          3.412316849816851,
          3.4310770248270255,
          3.4748931623931623,
          3.3990257427757427,
          3.3798204110704106,
          3.502302096052096,
          3.5014753764753768,
          3.4415064102564106,
          3.3324430199430193,
          3.4511090761090766,
          3.387706043956044,
          3.375305250305251,
          3.4947980260480267,
          3.3696454008954007,
          3.394256206756206,
          3.48048941798942,
          3.4099638787138793,
          3.336640211640212,
          3.4988044363044355,
          3.4009335571835564,
          3.4782000407000417,
          3.4052579365079367,
          3.4277065527065536,
          3.5040191290191296,
          3.4709503459503455,
          3.4767373829873844,
          3.3905041717541735,
          3.4788359788359813,
          3.392221204721205,
          3.4272613960113953,
          3.3737154049654063,
          3.468724562474563,
          3.4156873219373227,
          3.4277701465201456,
          3.3836996336996346,
          3.41365231990232,
          3.4186126373626387,
          3.398071835571835,
          3.415814509564509,
          3.4623651811151803,
          3.4560693935693934,
          3.4602665852665857,
          3.373588217338218,
          3.3399470899470898,
          3.3197242572242573,
          3.3717439967439966,
          3.357371794871795,
          3.343317562067561,
          3.44233312983313,
          3.374224155474156,
          3.348214285714285,
          3.467579873829876,
          3.448756105006105,
          3.446339540089541,
          3.497977716727716,
          3.4154965404965414,
          3.416068884818886,
          3.3782305657305662,
          3.405639499389499,
          3.4577228327228338,
          3.3885963573463562,
          3.34579772079772,
          3.488693019943019,
          3.528757122507123,
          3.371553215303216,
          3.5109508547008548,
          3.4232549857549865,
          3.3672924297924296,
          3.4010607448107453,
          3.3934294871794877,
          3.392729955229956,
          3.3702177452177455,
          3.3927299552299552,
          3.393811050061051,
          3.568821225071224,
          3.448183760683761,
          3.452762515262517,
          3.3189611314611303,
          3.3859254171754167,
          3.457404863654863,
          3.441506410256409,
          3.352983821733822,
          3.3118386243386255,
          3.4306954619454633,
          3.4802986365486355,
          3.411553724053725,
          3.4195029507529493,
          3.4004884004884013,
          3.4319673382173375,
          3.3157178469678468,
          3.3534289784289766,
          3.400106837606837,
          3.370344932844933,
          3.3735246235246223,
          3.531618844118846,
          3.4426510989011,
          3.4130799755799757,
          3.4196937321937315,
          3.4230006105006106,
          3.4653540903540914,
          3.3825549450549453,
          3.328055046805049,
          3.4035409035409034,
          3.4840506715506723,
          3.4121260683760677,
          3.4352742165242156,
          3.4438593813593825,
          3.3835088522588532,
          3.4032229344729354,
          3.367864774114775,
          3.440679690679692,
          3.425353581603583,
          3.4755926943426947,
          3.3804563492063497,
          3.403413715913715,
          3.4828423890923883,
          3.395082926332926,
          3.5440196377696402,
          3.439852971102971,
          3.3668472730972723,
          3.461538461538462,
          3.3994073056573053,
          3.423636548636549,
          3.3972451159951143,
          3.444240944240946,
          3.421537952787951,
          3.4726037851037854,
          3.3639219576719595,
          3.4538436100936103,
          3.4845594220594216,
          3.557247150997151,
          3.418167480667479,
          3.4160688848188845,
          3.3236034798534804,
          3.4451948514448527,
          3.343889906389908,
          3.4352742165242174,
          3.39711792836793,
          3.3967363654863654,
          3.321886446886447,
          3.4441137566137563,
          3.409773097273096,
          3.4404253154253155,
          3.4464031339031336,
          3.5279304029304015,
          3.4762922262922245,
          3.4781364468864475,
          3.5409671347171354,
          3.3823641636141644,
          3.3786757224257222,
          3.468406593406593,
          3.406211843711844,
          3.324875356125357,
          3.553813085063085,
          3.444177350427349,
          3.5178189865689866,
          3.333969271469273,
          3.3222680097680097,
          3.4070385632885625,
          3.508089133089134,
          3.4988044363044364,
          3.400361212861213,
          3.381855413105413,
          3.4043040293040296,
          3.4692333129833135,
          3.4352106227106227,
          3.4632554945054945,
          3.37613196988197,
          3.400679181929181,
          3.515402421652421,
          3.4879934879934864,
          3.4623651811151817,
          3.4754019129019142,
          3.527739621489624,
          3.453907203907205,
          3.513431013431013,
          3.4905372405372415,
          3.4685337810337824,
          3.493526149776151,
          3.4833511396011385,
          3.45002798127798,
          3.4432870370370368,
          3.440743284493284,
          3.457277676027676,
          3.4111085673585673,
          3.500585063085063,
          3.398326210826211,
          3.523415242165243,
          3.457977207977207,
          3.41568732193732,
          3.4974053724053733,
          3.487929894179894,
          3.415941697191696,
          3.4829695767195754,
          3.45199938949939,
          3.4258623321123323,
          3.367356023606023,
          3.4335571835571836,
          3.4508547008547015,
          3.4621743996744,
          3.4023962148962146,
          3.4642729955229945,
          3.536515567765567,
          3.459439865689865,
          3.448374542124542,
          3.5212530525030523,
          3.4926358363858365,
          3.4786451973951973,
          3.3942562067562054,
          3.4587403337403337,
          3.479217541717542,
          3.4263074888074896,
          3.4550518925518943,
          3.501602564102565,
          3.4797898860398866,
          3.4373092185592182,
          3.3645578958078963,
          3.4118080993081006,
          3.4122532560032575,
          3.4713319088319072,
          3.410027472527472,
          3.4177859177859187,
          3.3727614977614966,
          3.4099638787138793,
          3.40945512820513,
          3.4013787138787137,
          3.4648453398453416,
          3.3987077737077733,
          3.4266254578754576,
          3.456896113146113,
          3.409900284900285,
          3.496133496133496,
          3.461792836792838,
          3.40964590964591,
          3.4640822140822145,
          3.47985347985348,
          3.4474842287342287,
          3.461983618233619,
          3.4193757631257635,
          3.452190170940172,
          3.4521901709401717,
          3.345098188848189,
          3.4847502035002034,
          3.508470695970697,
          3.4038588726088723,
          3.3802655677655675,
          3.4684065934065944,
          3.3414097476597497,
          3.4836055148555154,
          3.419248575498576,
          3.5057361619861616,
          3.448501729751728,
          3.4149241961741947,
          3.459885022385022,
          3.425289987789988,
          3.410536223036224,
          3.5367063492063497,
          3.4883750508750526,
          3.4411884411884426,
          3.446848290598291,
          3.4767373829873836,
          3.494416463166464,
          3.5251958689458713,
          3.4088827838827847,
          3.476101444851446,
          3.3870701058201056,
          3.4304410866910864,
          3.4542251729751734,
          3.42579873829874,
          3.3828093203093204,
          3.5054181929181936,
          3.419248575498575,
          3.4427782865282874,
          3.4559422059422054,
          3.4501551689051695,
          3.4654176841676843,
          3.4230006105006106,
          3.395464489214488,
          3.442015160765161,
          3.4129527879527894,
          3.3715532153032157,
          3.417976699226699,
          3.478645197395199,
          3.4511090761090757,
          3.4098366910866917,
          3.501984126984127,
          3.456705331705331,
          3.460584554334554,
          3.443350630850631,
          3.354764448514448,
          3.4491376678876677,
          3.3956552706552703,
          3.4391534391534386,
          3.4018874643874653,
          3.4294235856735864,
          3.5417938542938554,
          3.414479039479039,
          3.4182946682946693,
          3.4310134310134326,
          3.4462123524623536,
          3.507071632071632,
          3.5010302197802203,
          3.5004578754578755,
          3.366338522588524,
          3.4378179690679684,
          3.447102665852666,
          3.427070614570615,
          3.5130494505494503,
          3.474448005698006,
          3.38230056980057,
          3.498104904354903,
          3.3800747863247884,
          3.4584859584859604
         ],
         "yaxis": "y"
        }
       ],
       "layout": {
        "legend": {
         "tracegroupgap": 0
        },
        "template": {
         "data": {
          "bar": [
           {
            "error_x": {
             "color": "rgb(36,36,36)"
            },
            "error_y": {
             "color": "rgb(36,36,36)"
            },
            "marker": {
             "line": {
              "color": "white",
              "width": 0.5
             }
            },
            "type": "bar"
           }
          ],
          "barpolar": [
           {
            "marker": {
             "line": {
              "color": "white",
              "width": 0.5
             }
            },
            "type": "barpolar"
           }
          ],
          "carpet": [
           {
            "aaxis": {
             "endlinecolor": "rgb(36,36,36)",
             "gridcolor": "white",
             "linecolor": "white",
             "minorgridcolor": "white",
             "startlinecolor": "rgb(36,36,36)"
            },
            "baxis": {
             "endlinecolor": "rgb(36,36,36)",
             "gridcolor": "white",
             "linecolor": "white",
             "minorgridcolor": "white",
             "startlinecolor": "rgb(36,36,36)"
            },
            "type": "carpet"
           }
          ],
          "choropleth": [
           {
            "colorbar": {
             "outlinewidth": 1,
             "tickcolor": "rgb(36,36,36)",
             "ticks": "outside"
            },
            "type": "choropleth"
           }
          ],
          "contour": [
           {
            "colorbar": {
             "outlinewidth": 1,
             "tickcolor": "rgb(36,36,36)",
             "ticks": "outside"
            },
            "colorscale": [
             [
              0,
              "#440154"
             ],
             [
              0.1111111111111111,
              "#482878"
             ],
             [
              0.2222222222222222,
              "#3e4989"
             ],
             [
              0.3333333333333333,
              "#31688e"
             ],
             [
              0.4444444444444444,
              "#26828e"
             ],
             [
              0.5555555555555556,
              "#1f9e89"
             ],
             [
              0.6666666666666666,
              "#35b779"
             ],
             [
              0.7777777777777778,
              "#6ece58"
             ],
             [
              0.8888888888888888,
              "#b5de2b"
             ],
             [
              1,
              "#fde725"
             ]
            ],
            "type": "contour"
           }
          ],
          "contourcarpet": [
           {
            "colorbar": {
             "outlinewidth": 1,
             "tickcolor": "rgb(36,36,36)",
             "ticks": "outside"
            },
            "type": "contourcarpet"
           }
          ],
          "heatmap": [
           {
            "colorbar": {
             "outlinewidth": 1,
             "tickcolor": "rgb(36,36,36)",
             "ticks": "outside"
            },
            "colorscale": [
             [
              0,
              "#440154"
             ],
             [
              0.1111111111111111,
              "#482878"
             ],
             [
              0.2222222222222222,
              "#3e4989"
             ],
             [
              0.3333333333333333,
              "#31688e"
             ],
             [
              0.4444444444444444,
              "#26828e"
             ],
             [
              0.5555555555555556,
              "#1f9e89"
             ],
             [
              0.6666666666666666,
              "#35b779"
             ],
             [
              0.7777777777777778,
              "#6ece58"
             ],
             [
              0.8888888888888888,
              "#b5de2b"
             ],
             [
              1,
              "#fde725"
             ]
            ],
            "type": "heatmap"
           }
          ],
          "heatmapgl": [
           {
            "colorbar": {
             "outlinewidth": 1,
             "tickcolor": "rgb(36,36,36)",
             "ticks": "outside"
            },
            "colorscale": [
             [
              0,
              "#440154"
             ],
             [
              0.1111111111111111,
              "#482878"
             ],
             [
              0.2222222222222222,
              "#3e4989"
             ],
             [
              0.3333333333333333,
              "#31688e"
             ],
             [
              0.4444444444444444,
              "#26828e"
             ],
             [
              0.5555555555555556,
              "#1f9e89"
             ],
             [
              0.6666666666666666,
              "#35b779"
             ],
             [
              0.7777777777777778,
              "#6ece58"
             ],
             [
              0.8888888888888888,
              "#b5de2b"
             ],
             [
              1,
              "#fde725"
             ]
            ],
            "type": "heatmapgl"
           }
          ],
          "histogram": [
           {
            "marker": {
             "line": {
              "color": "white",
              "width": 0.6
             }
            },
            "type": "histogram"
           }
          ],
          "histogram2d": [
           {
            "colorbar": {
             "outlinewidth": 1,
             "tickcolor": "rgb(36,36,36)",
             "ticks": "outside"
            },
            "colorscale": [
             [
              0,
              "#440154"
             ],
             [
              0.1111111111111111,
              "#482878"
             ],
             [
              0.2222222222222222,
              "#3e4989"
             ],
             [
              0.3333333333333333,
              "#31688e"
             ],
             [
              0.4444444444444444,
              "#26828e"
             ],
             [
              0.5555555555555556,
              "#1f9e89"
             ],
             [
              0.6666666666666666,
              "#35b779"
             ],
             [
              0.7777777777777778,
              "#6ece58"
             ],
             [
              0.8888888888888888,
              "#b5de2b"
             ],
             [
              1,
              "#fde725"
             ]
            ],
            "type": "histogram2d"
           }
          ],
          "histogram2dcontour": [
           {
            "colorbar": {
             "outlinewidth": 1,
             "tickcolor": "rgb(36,36,36)",
             "ticks": "outside"
            },
            "colorscale": [
             [
              0,
              "#440154"
             ],
             [
              0.1111111111111111,
              "#482878"
             ],
             [
              0.2222222222222222,
              "#3e4989"
             ],
             [
              0.3333333333333333,
              "#31688e"
             ],
             [
              0.4444444444444444,
              "#26828e"
             ],
             [
              0.5555555555555556,
              "#1f9e89"
             ],
             [
              0.6666666666666666,
              "#35b779"
             ],
             [
              0.7777777777777778,
              "#6ece58"
             ],
             [
              0.8888888888888888,
              "#b5de2b"
             ],
             [
              1,
              "#fde725"
             ]
            ],
            "type": "histogram2dcontour"
           }
          ],
          "mesh3d": [
           {
            "colorbar": {
             "outlinewidth": 1,
             "tickcolor": "rgb(36,36,36)",
             "ticks": "outside"
            },
            "type": "mesh3d"
           }
          ],
          "parcoords": [
           {
            "line": {
             "colorbar": {
              "outlinewidth": 1,
              "tickcolor": "rgb(36,36,36)",
              "ticks": "outside"
             }
            },
            "type": "parcoords"
           }
          ],
          "pie": [
           {
            "automargin": true,
            "type": "pie"
           }
          ],
          "scatter": [
           {
            "marker": {
             "colorbar": {
              "outlinewidth": 1,
              "tickcolor": "rgb(36,36,36)",
              "ticks": "outside"
             }
            },
            "type": "scatter"
           }
          ],
          "scatter3d": [
           {
            "line": {
             "colorbar": {
              "outlinewidth": 1,
              "tickcolor": "rgb(36,36,36)",
              "ticks": "outside"
             }
            },
            "marker": {
             "colorbar": {
              "outlinewidth": 1,
              "tickcolor": "rgb(36,36,36)",
              "ticks": "outside"
             }
            },
            "type": "scatter3d"
           }
          ],
          "scattercarpet": [
           {
            "marker": {
             "colorbar": {
              "outlinewidth": 1,
              "tickcolor": "rgb(36,36,36)",
              "ticks": "outside"
             }
            },
            "type": "scattercarpet"
           }
          ],
          "scattergeo": [
           {
            "marker": {
             "colorbar": {
              "outlinewidth": 1,
              "tickcolor": "rgb(36,36,36)",
              "ticks": "outside"
             }
            },
            "type": "scattergeo"
           }
          ],
          "scattergl": [
           {
            "marker": {
             "colorbar": {
              "outlinewidth": 1,
              "tickcolor": "rgb(36,36,36)",
              "ticks": "outside"
             }
            },
            "type": "scattergl"
           }
          ],
          "scattermapbox": [
           {
            "marker": {
             "colorbar": {
              "outlinewidth": 1,
              "tickcolor": "rgb(36,36,36)",
              "ticks": "outside"
             }
            },
            "type": "scattermapbox"
           }
          ],
          "scatterpolar": [
           {
            "marker": {
             "colorbar": {
              "outlinewidth": 1,
              "tickcolor": "rgb(36,36,36)",
              "ticks": "outside"
             }
            },
            "type": "scatterpolar"
           }
          ],
          "scatterpolargl": [
           {
            "marker": {
             "colorbar": {
              "outlinewidth": 1,
              "tickcolor": "rgb(36,36,36)",
              "ticks": "outside"
             }
            },
            "type": "scatterpolargl"
           }
          ],
          "scatterternary": [
           {
            "marker": {
             "colorbar": {
              "outlinewidth": 1,
              "tickcolor": "rgb(36,36,36)",
              "ticks": "outside"
             }
            },
            "type": "scatterternary"
           }
          ],
          "surface": [
           {
            "colorbar": {
             "outlinewidth": 1,
             "tickcolor": "rgb(36,36,36)",
             "ticks": "outside"
            },
            "colorscale": [
             [
              0,
              "#440154"
             ],
             [
              0.1111111111111111,
              "#482878"
             ],
             [
              0.2222222222222222,
              "#3e4989"
             ],
             [
              0.3333333333333333,
              "#31688e"
             ],
             [
              0.4444444444444444,
              "#26828e"
             ],
             [
              0.5555555555555556,
              "#1f9e89"
             ],
             [
              0.6666666666666666,
              "#35b779"
             ],
             [
              0.7777777777777778,
              "#6ece58"
             ],
             [
              0.8888888888888888,
              "#b5de2b"
             ],
             [
              1,
              "#fde725"
             ]
            ],
            "type": "surface"
           }
          ],
          "table": [
           {
            "cells": {
             "fill": {
              "color": "rgb(237,237,237)"
             },
             "line": {
              "color": "white"
             }
            },
            "header": {
             "fill": {
              "color": "rgb(217,217,217)"
             },
             "line": {
              "color": "white"
             }
            },
            "type": "table"
           }
          ]
         },
         "layout": {
          "annotationdefaults": {
           "arrowhead": 0,
           "arrowwidth": 1
          },
          "coloraxis": {
           "colorbar": {
            "outlinewidth": 1,
            "tickcolor": "rgb(36,36,36)",
            "ticks": "outside"
           }
          },
          "colorscale": {
           "diverging": [
            [
             0,
             "rgb(103,0,31)"
            ],
            [
             0.1,
             "rgb(178,24,43)"
            ],
            [
             0.2,
             "rgb(214,96,77)"
            ],
            [
             0.3,
             "rgb(244,165,130)"
            ],
            [
             0.4,
             "rgb(253,219,199)"
            ],
            [
             0.5,
             "rgb(247,247,247)"
            ],
            [
             0.6,
             "rgb(209,229,240)"
            ],
            [
             0.7,
             "rgb(146,197,222)"
            ],
            [
             0.8,
             "rgb(67,147,195)"
            ],
            [
             0.9,
             "rgb(33,102,172)"
            ],
            [
             1,
             "rgb(5,48,97)"
            ]
           ],
           "sequential": [
            [
             0,
             "#440154"
            ],
            [
             0.1111111111111111,
             "#482878"
            ],
            [
             0.2222222222222222,
             "#3e4989"
            ],
            [
             0.3333333333333333,
             "#31688e"
            ],
            [
             0.4444444444444444,
             "#26828e"
            ],
            [
             0.5555555555555556,
             "#1f9e89"
            ],
            [
             0.6666666666666666,
             "#35b779"
            ],
            [
             0.7777777777777778,
             "#6ece58"
            ],
            [
             0.8888888888888888,
             "#b5de2b"
            ],
            [
             1,
             "#fde725"
            ]
           ],
           "sequentialminus": [
            [
             0,
             "#440154"
            ],
            [
             0.1111111111111111,
             "#482878"
            ],
            [
             0.2222222222222222,
             "#3e4989"
            ],
            [
             0.3333333333333333,
             "#31688e"
            ],
            [
             0.4444444444444444,
             "#26828e"
            ],
            [
             0.5555555555555556,
             "#1f9e89"
            ],
            [
             0.6666666666666666,
             "#35b779"
            ],
            [
             0.7777777777777778,
             "#6ece58"
            ],
            [
             0.8888888888888888,
             "#b5de2b"
            ],
            [
             1,
             "#fde725"
            ]
           ]
          },
          "colorway": [
           "#1F77B4",
           "#FF7F0E",
           "#2CA02C",
           "#D62728",
           "#9467BD",
           "#8C564B",
           "#E377C2",
           "#7F7F7F",
           "#BCBD22",
           "#17BECF"
          ],
          "font": {
           "color": "rgb(36,36,36)"
          },
          "geo": {
           "bgcolor": "white",
           "lakecolor": "white",
           "landcolor": "white",
           "showlakes": true,
           "showland": true,
           "subunitcolor": "white"
          },
          "hoverlabel": {
           "align": "left"
          },
          "hovermode": "closest",
          "mapbox": {
           "style": "light"
          },
          "paper_bgcolor": "white",
          "plot_bgcolor": "white",
          "polar": {
           "angularaxis": {
            "gridcolor": "rgb(232,232,232)",
            "linecolor": "rgb(36,36,36)",
            "showgrid": false,
            "showline": true,
            "ticks": "outside"
           },
           "bgcolor": "white",
           "radialaxis": {
            "gridcolor": "rgb(232,232,232)",
            "linecolor": "rgb(36,36,36)",
            "showgrid": false,
            "showline": true,
            "ticks": "outside"
           }
          },
          "scene": {
           "xaxis": {
            "backgroundcolor": "white",
            "gridcolor": "rgb(232,232,232)",
            "gridwidth": 2,
            "linecolor": "rgb(36,36,36)",
            "showbackground": true,
            "showgrid": false,
            "showline": true,
            "ticks": "outside",
            "zeroline": false,
            "zerolinecolor": "rgb(36,36,36)"
           },
           "yaxis": {
            "backgroundcolor": "white",
            "gridcolor": "rgb(232,232,232)",
            "gridwidth": 2,
            "linecolor": "rgb(36,36,36)",
            "showbackground": true,
            "showgrid": false,
            "showline": true,
            "ticks": "outside",
            "zeroline": false,
            "zerolinecolor": "rgb(36,36,36)"
           },
           "zaxis": {
            "backgroundcolor": "white",
            "gridcolor": "rgb(232,232,232)",
            "gridwidth": 2,
            "linecolor": "rgb(36,36,36)",
            "showbackground": true,
            "showgrid": false,
            "showline": true,
            "ticks": "outside",
            "zeroline": false,
            "zerolinecolor": "rgb(36,36,36)"
           }
          },
          "shapedefaults": {
           "fillcolor": "black",
           "line": {
            "width": 0
           },
           "opacity": 0.3
          },
          "ternary": {
           "aaxis": {
            "gridcolor": "rgb(232,232,232)",
            "linecolor": "rgb(36,36,36)",
            "showgrid": false,
            "showline": true,
            "ticks": "outside"
           },
           "baxis": {
            "gridcolor": "rgb(232,232,232)",
            "linecolor": "rgb(36,36,36)",
            "showgrid": false,
            "showline": true,
            "ticks": "outside"
           },
           "bgcolor": "white",
           "caxis": {
            "gridcolor": "rgb(232,232,232)",
            "linecolor": "rgb(36,36,36)",
            "showgrid": false,
            "showline": true,
            "ticks": "outside"
           }
          },
          "title": {
           "x": 0.05
          },
          "xaxis": {
           "automargin": true,
           "gridcolor": "rgb(232,232,232)",
           "linecolor": "rgb(36,36,36)",
           "showgrid": false,
           "showline": true,
           "ticks": "outside",
           "title": {
            "standoff": 15
           },
           "zeroline": false,
           "zerolinecolor": "rgb(36,36,36)"
          },
          "yaxis": {
           "automargin": true,
           "gridcolor": "rgb(232,232,232)",
           "linecolor": "rgb(36,36,36)",
           "showgrid": false,
           "showline": true,
           "ticks": "outside",
           "title": {
            "standoff": 15
           },
           "zeroline": false,
           "zerolinecolor": "rgb(36,36,36)"
          }
         }
        },
        "title": {
         "text": "HousePressure g-pump-6 for all weeks "
        },
        "xaxis": {
         "anchor": "y",
         "domain": [
          0,
          1
         ],
         "title": {
          "text": "week"
         },
         "type": "category"
        },
        "yaxis": {
         "anchor": "x",
         "domain": [
          0,
          1
         ],
         "title": {
          "text": "feature_value"
         }
        }
       }
      },
      "text/html": [
       "<div>\n",
       "        \n",
       "        \n",
       "            <div id=\"1973f6e7-6c9c-40e2-8172-35fabf156554\" class=\"plotly-graph-div\" style=\"height:525px; width:100%;\"></div>\n",
       "            <script type=\"text/javascript\">\n",
       "                require([\"plotly\"], function(Plotly) {\n",
       "                    window.PLOTLYENV=window.PLOTLYENV || {};\n",
       "                    \n",
       "                if (document.getElementById(\"1973f6e7-6c9c-40e2-8172-35fabf156554\")) {\n",
       "                    Plotly.newPlot(\n",
       "                        '1973f6e7-6c9c-40e2-8172-35fabf156554',\n",
       "                        [{\"hoverlabel\": {\"namelength\": 0}, \"hovertemplate\": \"week=%{x}<br>feature_value=%{y}\", \"legendgroup\": \"\", \"marker\": {\"color\": \"#1F77B4\", \"symbol\": \"circle\"}, \"mode\": \"markers\", \"name\": \"\", \"showlegend\": false, \"type\": \"scatter\", \"x\": [47, 47, 47, 47, 47, 47, 47, 47, 47, 47, 47, 47, 47, 47, 47, 47, 47, 47, 47, 47, 47, 47, 47, 47, 47, 47, 47, 47, 47, 47, 47, 47, 47, 47, 47, 47, 47, 47, 47, 47, 47, 47, 47, 47, 47, 47, 47, 47, 47, 47, 47, 47, 47, 47, 47, 47, 47, 47, 47, 47, 47, 47, 47, 47, 47, 47, 47, 47, 47, 47, 47, 47, 47, 47, 47, 47, 47, 47, 47, 47, 47, 47, 47, 47, 47, 47, 47, 47, 47, 47, 47, 47, 47, 47, 47, 47, 47, 47, 47, 47, 47, 47, 47, 47, 47, 47, 48, 48, 48, 48, 48, 48, 48, 48, 48, 48, 48, 48, 48, 48, 48, 48, 48, 48, 48, 48, 48, 48, 48, 48, 48, 48, 48, 48, 48, 48, 48, 48, 48, 48, 48, 48, 48, 48, 48, 48, 48, 48, 48, 48, 48, 48, 48, 48, 48, 48, 48, 48, 48, 48, 48, 48, 48, 48, 48, 48, 48, 48, 48, 48, 48, 48, 48, 48, 48, 48, 48, 48, 48, 48, 48, 48, 48, 48, 48, 48, 48, 48, 48, 48, 48, 48, 48, 48, 48, 48, 48, 48, 48, 48, 48, 48, 48, 48, 48, 48, 48, 48, 48, 48, 48, 48, 48, 48, 48, 48, 48, 48, 48, 48, 48, 48, 48, 48, 48, 48, 48, 48, 48, 48, 48, 48, 48, 48, 48, 48, 48, 48, 48, 48, 48, 48, 48, 48, 48, 48, 48, 48, 48, 48, 48, 48, 48, 48, 48, 48, 48, 48, 48, 48, 48, 48, 48, 48, 48, 48, 48, 48, 48, 48, 48, 48, 49, 49, 49, 49, 49, 49, 49, 49, 49, 49, 49, 49, 49, 49, 49, 49, 49, 49, 49, 49, 49, 49, 49, 49, 49, 49, 49, 49, 49, 50, 50, 50, 50, 50, 50, 50, 50, 50, 50, 50, 50, 50, 50, 50, 50, 50, 50, 50, 50, 50, 50, 50, 50, 50, 50, 50, 50, 50, 50, 50, 50, 50, 51, 51, 51, 51, 51, 51, 51, 51, 51, 51, 51, 51, 51, 51, 51, 51, 51, 51, 51, 51, 51, 51, 51, 51, 51, 51, 51, 51, 51, 51, 51, 51, 51, 51, 51, 51, 51, 51, 51, 51, 51, 51, 51, 51, 51, 51, 51, 51, 51, 51, 51, 51, 51, 51, 51, 51, 51, 51, 51, 51, 51, 51, 51, 51, 51, 51, 51, 51, 51, 51, 51, 51, 51, 51, 51, 51, 51, 51, 51, 51, 51, 51, 51, 51, 51, 51, 51, 51, 51, 51, 51, 51, 51, 51, 51, 51, 51, 51, 51, 51, 51, 51, 51, 51, 51, 51, 51, 51, 51, 51, 51, 51, 51, 51, 51, 51, 51, 51, 51, 51, 51, 51, 51, 51, 51, 51, 51, 51, 51, 51, 51, 51, 51, 51, 51, 51, 51, 51, 51, 51, 51, 51, 51, 51, 51, 51, 51, 51, 52, 52, 52, 52, 52, 52, 52, 52, 52, 52, 52, 52, 52, 52, 52, 52, 52, 52, 52, 52, 52, 52, 52, 52, 52, 52, 52, 52, 52, 52, 52, 52, 52, 52, 52, 52, 52, 52, 52, 52, 52, 52, 52, 52, 52, 52, 52, 52, 52, 52, 52, 52, 52, 52, 52, 52, 52, 52, 52, 52, 52, 52, 52, 52, 52, 52, 52, 52, 52, 52, 52, 52, 52, 52, 52, 52, 52, 52, 52, 52, 52, 52, 52, 52, 52, 52, 52, 52, 52, 52, 52, 52, 52, 52, 52, 52, 52, 52, 52, 52, 52, 52, 52, 52, 52, 52, 52, 52, 52, 52, 52, 52, 52, 52, 52, 52, 52, 52, 52, 52, 52, 52, 52, 52, 52, 52, 52, 52, 52, 52, 52, 52, 52, 52, 52, 52, 52, 52, 52, 52, 52, 52, 52, 52, 52, 52, 52, 52, 52, 52, 52, 52, 52, 52, 52, 52, 52, 52, 52, 52, 52, 52, 52, 52, 52, 52, 1, 1, 1, 1, 1, 1, 1, 1, 1, 1, 1, 1, 1, 1, 1, 1, 1, 1, 1, 1, 1, 1, 1, 1, 1, 1, 1, 1, 1, 1, 1, 1, 1, 1, 1, 1, 1, 1, 1, 1, 1, 1, 1, 1, 1, 1, 1, 1, 1, 1, 1, 1, 1, 1, 1, 1, 1, 1, 1, 1, 1, 1, 1, 1, 1, 1, 1, 1, 1, 1, 1, 1, 1, 1, 1, 1, 1, 1, 1, 1, 1, 1, 1, 1, 1, 1, 1, 1, 1, 1, 1, 1, 1, 1, 1, 1, 1, 1, 1, 1, 1, 1, 1, 1, 1, 1, 1, 1, 1, 1, 1, 1, 1, 1, 1, 1, 1, 1, 1, 1, 1, 1, 1, 1, 1, 1, 1, 1, 1, 1, 1, 1, 1, 1, 1, 1, 1, 1, 1, 1, 1, 1, 1, 1, 1, 1, 1, 1, 1, 1, 1, 1, 1, 1, 1, 1, 1, 1, 1, 1, 1, 1, 1, 1, 1, 1, 2, 2, 2, 2, 2, 2, 2, 2, 2, 2, 2, 2, 2, 2, 2, 2, 2], \"xaxis\": \"x\", \"y\": [3.3604487238058556, 3.419922573828401, 3.4163637288637294, 3.4233185795685794, 3.339819902319901, 3.296703296703296, 3.354319291819292, 3.3685643060643056, 3.3978810541310547, 3.4028413715913697, 3.427706552706552, 3.4516814204314206, 3.4844958282458296, 3.328818172568172, 3.3588980463980467, 3.4029049654049643, 3.3632224257224252, 3.4139702889702868, 3.517501017501018, 3.423127798127799, 3.376767908017906, 3.3824913512413524, 3.4443787308370655, 3.3187067562067565, 3.34210927960928, 3.4242724867724856, 3.4755291005291014, 3.4719042531542548, 3.390567765567766, 3.3852894790394785, 3.3403286528286524, 3.268849206349207, 3.4319673382173383, 3.3339692714692704, 3.326846764346765, 3.475020350020351, 3.408692002442002, 3.3382300569800596, 3.402904965404966, 3.383763227513228, 3.3339056776556784, 3.4465939153439162, 3.379057285307283, 3.327673483923485, 3.371934778184777, 3.4437321937321936, 3.4348290598290583, 3.329835673585674, 3.3947649572649587, 3.430822649572651, 3.4177223239723236, 3.381028693528693, 3.4025234025234035, 3.432030932030932, 3.312029405779405, 3.3540649165649157, 3.270884208384208, 3.3735246235246237, 3.395273707773709, 3.313682844932845, 3.376004782254782, 3.312728937728938, 3.3672288359788367, 3.3896774521774518, 3.3856710419210416, 3.4057666870166865, 3.3859890109890096, 3.40398606023606, 3.341473341473341, 3.3674832112332105, 3.3547644485144477, 3.4258623321123323, 3.393874643874643, 3.350440069190071, 3.478708791208792, 3.274127492877492, 3.3626500814000813, 3.3073870573870585, 3.396418396418396, 3.4303138990638984, 3.4423331298331306, 3.379120879120879, 3.3748600936100925, 3.3910129222629233, 3.384526353276352, 3.2755265567765566, 3.3307895807895807, 3.3990257427757435, 3.3969907407407405, 3.4478657916157895, 3.4266890516890514, 3.3747329059829068, 3.327164733414732, 3.3943833943833943, 3.388087606837608, 3.412062474562473, 3.3224587912087915, 3.400106837606836, 3.343126780626781, 3.3962912087912076, 3.3045889295889306, 3.317752849002849, 3.349994912494912, 3.4954975579975582, 3.3194698819698836, 3.356608669108668, 3.381601037851038, 3.3339056776556784, 3.387324481074481, 3.464781746031745, 3.3744785307285294, 3.273109991859991, 3.3991529304029307, 3.333842083842083, 3.4493920431420437, 3.361123829873829, 3.353428978428978, 3.473875661375661, 3.26655982905983, 3.3884691697191704, 3.309740028490029, 3.357562576312576, 3.3357498982498988, 3.4422695360195372, 3.4273885836385833, 3.387578856328855, 3.3662113349613363, 3.3662113349613354, 3.4630011192511194, 3.29276048026048, 3.432285307285308, 3.422619047619049, 3.2839845339845333, 3.4125076312576312, 3.366020553520553, 3.3215684778184786, 3.502238502238501, 3.480235042735042, 3.332951770451771, 3.379248066748067, 3.370217745217744, 3.3408374033374044, 3.3363858363858374, 3.4424603174603168, 3.4413792226292226, 3.377785409035407, 3.4055759055759065, 3.357181013431014, 3.4936533374033374, 3.5423661986161985, 3.434829059829061, 3.3150183150183143, 3.378484940984942, 3.3754324379324374, 3.279342185592185, 3.4297415547415544, 3.408946377696377, 3.4529532967032974, 3.4670711233211233, 3.42681623931624, 3.24156746031746, 3.4219195156695164, 3.3135556573056584, 3.37028133903134, 3.3723163410663415, 3.3555275742775734, 3.334541615791616, 3.3686278998779, 3.333905677655679, 3.3572446072446076, 3.3718075905575926, 3.3814102564102555, 3.3544464794464783, 3.3243666056166052, 3.3493589743589745, 3.3596611721611738, 3.2818223443223444, 3.384717134717134, 3.378930097680099, 3.402523402523403, 3.380011192511193, 3.2823310948310938, 3.354764448514448, 3.341854904354904, 3.4319673382173375, 3.3892322954822958, 3.2794693732193725, 3.414479039479039, 3.341218966218966, 3.314954721204721, 3.4073565323565327, 3.4253535816035825, 3.3347323972323983, 3.346560846560847, 3.5547033984533982, 3.290280321530323, 3.4757198819698814, 3.540458384208385, 3.3755596255596267, 3.276162494912495, 3.253141534391535, 3.3919668294668295, 3.2483719983719985, 3.403350122100122, 3.342363654863655, 3.4146698209198214, 3.4035409035409057, 3.2900259462759465, 3.3912037037037037, 3.3622685185185177, 3.258864977614977, 3.5040191290191305, 3.4782000407000417, 3.2705662393162402, 3.3317434879934873, 3.3653846153846145, 3.402714183964184, 3.3770858770858774, 3.394383394383393, 3.2615995115995116, 3.329581298331299, 3.4176587301587307, 3.367546805046804, 3.4666259666259656, 3.434383903133904, 3.539822446072446, 3.374096967846967, 3.3445258445258426, 3.423890923890925, 3.2620446682946684, 3.3470060032560056, 3.270375457875458, 3.4361009361009374, 3.310248778998778, 3.3361314611314596, 3.3882147944647945, 3.3861161986161985, 3.444749694749694, 3.305606430606431, 3.3412189662189675, 3.377340252340254, 3.4596942409442413, 3.258992165242166, 3.3959096459096467, 3.2883725071225083, 3.324620980870981, 3.415178571428571, 3.3512667887667895, 3.363858363858364, 3.3121565934065926, 3.281631562881563, 3.3459249084249065, 3.359915547415547, 3.3868793243793234, 3.3513939763939757, 3.3324430199430197, 3.32411223036223, 3.4293599918599917, 3.3529838217338246, 3.3609330484330484, 3.3692002442002433, 3.3247481684981683, 3.3485958485958487, 3.42630748880749, 3.294350325600325, 3.4816977004477008, 3.3625228937728924, 3.307577838827839, 3.331234737484738, 3.370090557590558, 3.349549755799757, 3.3288817663817656, 3.3527930402930406, 3.3692638380138393, 3.337530525030525, 3.392284798534799, 3.325702075702075, 3.3494861619861624, 3.46382783882784, 3.2969576719576725, 3.381092287342287, 3.3193002984669655, 3.3583892958892974, 3.4572140822140827, 3.4385175010175035, 3.381092287342287, 3.4343203093203094, 3.3526022588522593, 3.460966117216119, 3.4128256003255992, 3.266687016687015, 3.352983821733821, 3.390758547008547, 3.43419312169312, 3.4014423076923084, 3.4562601750101742, 3.344843813593813, 3.305987993487996, 3.3587072649572653, 3.486085673585674, 3.4132071632071646, 3.3898046398046398, 3.4254807692307696, 3.3642399267399283, 3.5159747659747644, 3.4922542735042743, 3.4469754782254776, 3.5126042938542934, 3.5078983516483517, 3.416704822954823, 3.4279609279609295, 3.446466727716729, 3.497723341473341, 3.3760683760683747, 3.562398249898249, 3.392857142857143, 3.473303317053316, 3.46618080993081, 3.4410612535612537, 3.508725071225071, 3.5461182336182326, 3.5786782661782657, 3.455242673992674, 3.4305046805046806, 3.459439865689866, 3.5091702279202277, 3.4796626984126995, 3.56506919006919, 3.42484483109483, 3.4781364468864475, 3.5407763532763536, 3.5931140618640622, 3.6093304843304863, 3.601508445258446, 3.5958485958485955, 3.5091066341066344, 3.5313644688644685, 3.4673254985754998, 3.5156567969067987, 3.474702380952379, 3.432221713471714, 3.5840201465201473, 3.381919006919006, 3.4708231583231597, 3.466880341880343, 3.4495828245828233, 3.4692333129833117, 3.495561151811152, 3.359152421652423, 3.3795024420024427, 3.391712454212456, 3.393047924297926, 3.43533781033781, 3.41199888074888, 3.444622507122505, 3.502620065120063, 3.5202355514855515, 3.485831298331298, 3.4165776353276347, 3.4258623321123323, 3.46287393162393, 3.3740333740333743, 3.527548840048841, 3.3422364672364666, 3.438581094831095, 3.433684371184373, 3.440425315425316, 3.3239850427350413, 3.4335571835571823, 3.4385810948310964, 3.5036375661375665, 3.3657025844525847, 3.386688542938543, 3.3826821326821332, 3.3310439560439566, 3.4353378103378094, 3.291107041107041, 3.4199481074481093, 3.382173382173383, 3.406784188034186, 3.3475147537647536, 3.507580382580381, 3.374351343101343, 3.503637566137567, 3.4366732804232805, 3.471777065527067, 3.4913003663003663, 3.528121184371185, 3.5075167887667864, 3.483223951973954, 3.52653133903134, 3.499567562067563, 3.385416666666666, 3.4289148351648358, 3.531809625559625, 3.4784544159544164, 3.484432234432234, 3.4623015873015883, 3.4663715913715922, 3.502492877492878, 3.4787087912087906, 3.4362917175417187, 3.471904253154255, 3.5441468253968247, 3.4971509971509964, 3.4899013024013015, 3.4733033170533165, 3.408564814814816, 3.395909645909645, 3.4537164224664223, 3.269993894993895, 3.4342567155067147, 3.426307488807488, 3.4207748270248275, 3.3572446072446067, 3.4126984126984135, 3.4402345339845355, 3.4444953194953203, 3.3556547619047628, 3.423064204314205, 3.3240486365486377, 3.4273885836385865, 3.41117216117216, 3.4512362637362632, 3.3672924297924296, 3.4626195563695563, 3.423700142450142, 3.4275157712657713, 3.3798840048840044, 3.4200117012617017, 3.4745115995115996, 3.4321581196581192, 3.4266890516890527, 3.2822675010175, 3.4932081807081814, 3.403095746845749, 3.332760989010989, 3.424018111518112, 3.375050875050876, 3.3653210215710216, 3.444622507122507, 3.4322217134717135, 3.4364824989824982, 3.395400895400894, 3.4095823158323153, 3.3571174196174187, 3.3762591575091583, 3.4257351444851434, 3.3600427350427347, 3.3775946275946276, 3.4125712250712255, 3.5718737281237285, 3.3972451159951156, 3.3640491452991452, 3.3583257020757027, 3.3846535409035425, 3.372634310134309, 3.431903744403744, 3.359788359788359, 3.401378713878714, 3.4541615791615805, 3.4232549857549857, 3.4386446886446893, 3.435910154660155, 3.4310770248270255, 3.4046219983719985, 3.3904405779405784, 3.3436355311355315, 3.370281339031339, 3.3832544770044763, 3.335368335368335, 3.4186126373626364, 3.379438848188849, 3.3676739926739923, 3.524814306064305, 3.4706323768823775, 3.457277676027676, 3.4995675620675613, 3.3937474562474566, 3.43101343101343, 3.441188441188439, 3.4872303622303615, 3.5030652218152216, 3.3626500814000817, 3.4542251729751716, 3.4306318681318673, 3.3853530728530745, 3.406784188034187, 3.3361314611314614, 3.4040496540496545, 3.36977258852259, 3.4645909645909647, 3.509488196988197, 3.4118080993081, 3.4601393976393973, 3.3753688441188454, 3.345352564102565, 3.4694876882376886, 3.4930173992674, 3.4749567562067543, 3.5114596052096054, 3.462873931623932, 3.415941697191697, 3.4489468864468873, 3.420266076516077, 3.391076516076517, 3.310185185185185, 3.3419184981684977, 3.345988502238504, 3.418421855921855, 3.376895095645096, 3.4272613960113962, 3.4418879731379732, 3.37912087912088, 3.4334299959299948, 3.3938746438746423, 3.420647639397639, 3.376068376068377, 3.412316849816851, 3.4310770248270255, 3.4748931623931623, 3.3990257427757427, 3.3798204110704106, 3.502302096052096, 3.5014753764753768, 3.4415064102564106, 3.3324430199430193, 3.4511090761090766, 3.387706043956044, 3.375305250305251, 3.4947980260480267, 3.3696454008954007, 3.394256206756206, 3.48048941798942, 3.4099638787138793, 3.336640211640212, 3.4988044363044355, 3.4009335571835564, 3.4782000407000417, 3.4052579365079367, 3.4277065527065536, 3.5040191290191296, 3.4709503459503455, 3.4767373829873844, 3.3905041717541735, 3.4788359788359813, 3.392221204721205, 3.4272613960113953, 3.3737154049654063, 3.468724562474563, 3.4156873219373227, 3.4277701465201456, 3.3836996336996346, 3.41365231990232, 3.4186126373626387, 3.398071835571835, 3.415814509564509, 3.4623651811151803, 3.4560693935693934, 3.4602665852665857, 3.373588217338218, 3.3399470899470898, 3.3197242572242573, 3.3717439967439966, 3.357371794871795, 3.343317562067561, 3.44233312983313, 3.374224155474156, 3.348214285714285, 3.467579873829876, 3.448756105006105, 3.446339540089541, 3.497977716727716, 3.4154965404965414, 3.416068884818886, 3.3782305657305662, 3.405639499389499, 3.4577228327228338, 3.3885963573463562, 3.34579772079772, 3.488693019943019, 3.528757122507123, 3.371553215303216, 3.5109508547008548, 3.4232549857549865, 3.3672924297924296, 3.4010607448107453, 3.3934294871794877, 3.392729955229956, 3.3702177452177455, 3.3927299552299552, 3.393811050061051, 3.568821225071224, 3.448183760683761, 3.452762515262517, 3.3189611314611303, 3.3859254171754167, 3.457404863654863, 3.441506410256409, 3.352983821733822, 3.3118386243386255, 3.4306954619454633, 3.4802986365486355, 3.411553724053725, 3.4195029507529493, 3.4004884004884013, 3.4319673382173375, 3.3157178469678468, 3.3534289784289766, 3.400106837606837, 3.370344932844933, 3.3735246235246223, 3.531618844118846, 3.4426510989011, 3.4130799755799757, 3.4196937321937315, 3.4230006105006106, 3.4653540903540914, 3.3825549450549453, 3.328055046805049, 3.4035409035409034, 3.4840506715506723, 3.4121260683760677, 3.4352742165242156, 3.4438593813593825, 3.3835088522588532, 3.4032229344729354, 3.367864774114775, 3.440679690679692, 3.425353581603583, 3.4755926943426947, 3.3804563492063497, 3.403413715913715, 3.4828423890923883, 3.395082926332926, 3.5440196377696402, 3.439852971102971, 3.3668472730972723, 3.461538461538462, 3.3994073056573053, 3.423636548636549, 3.3972451159951143, 3.444240944240946, 3.421537952787951, 3.4726037851037854, 3.3639219576719595, 3.4538436100936103, 3.4845594220594216, 3.557247150997151, 3.418167480667479, 3.4160688848188845, 3.3236034798534804, 3.4451948514448527, 3.343889906389908, 3.4352742165242174, 3.39711792836793, 3.3967363654863654, 3.321886446886447, 3.4441137566137563, 3.409773097273096, 3.4404253154253155, 3.4464031339031336, 3.5279304029304015, 3.4762922262922245, 3.4781364468864475, 3.5409671347171354, 3.3823641636141644, 3.3786757224257222, 3.468406593406593, 3.406211843711844, 3.324875356125357, 3.553813085063085, 3.444177350427349, 3.5178189865689866, 3.333969271469273, 3.3222680097680097, 3.4070385632885625, 3.508089133089134, 3.4988044363044364, 3.400361212861213, 3.381855413105413, 3.4043040293040296, 3.4692333129833135, 3.4352106227106227, 3.4632554945054945, 3.37613196988197, 3.400679181929181, 3.515402421652421, 3.4879934879934864, 3.4623651811151817, 3.4754019129019142, 3.527739621489624, 3.453907203907205, 3.513431013431013, 3.4905372405372415, 3.4685337810337824, 3.493526149776151, 3.4833511396011385, 3.45002798127798, 3.4432870370370368, 3.440743284493284, 3.457277676027676, 3.4111085673585673, 3.500585063085063, 3.398326210826211, 3.523415242165243, 3.457977207977207, 3.41568732193732, 3.4974053724053733, 3.487929894179894, 3.415941697191696, 3.4829695767195754, 3.45199938949939, 3.4258623321123323, 3.367356023606023, 3.4335571835571836, 3.4508547008547015, 3.4621743996744, 3.4023962148962146, 3.4642729955229945, 3.536515567765567, 3.459439865689865, 3.448374542124542, 3.5212530525030523, 3.4926358363858365, 3.4786451973951973, 3.3942562067562054, 3.4587403337403337, 3.479217541717542, 3.4263074888074896, 3.4550518925518943, 3.501602564102565, 3.4797898860398866, 3.4373092185592182, 3.3645578958078963, 3.4118080993081006, 3.4122532560032575, 3.4713319088319072, 3.410027472527472, 3.4177859177859187, 3.3727614977614966, 3.4099638787138793, 3.40945512820513, 3.4013787138787137, 3.4648453398453416, 3.3987077737077733, 3.4266254578754576, 3.456896113146113, 3.409900284900285, 3.496133496133496, 3.461792836792838, 3.40964590964591, 3.4640822140822145, 3.47985347985348, 3.4474842287342287, 3.461983618233619, 3.4193757631257635, 3.452190170940172, 3.4521901709401717, 3.345098188848189, 3.4847502035002034, 3.508470695970697, 3.4038588726088723, 3.3802655677655675, 3.4684065934065944, 3.3414097476597497, 3.4836055148555154, 3.419248575498576, 3.5057361619861616, 3.448501729751728, 3.4149241961741947, 3.459885022385022, 3.425289987789988, 3.410536223036224, 3.5367063492063497, 3.4883750508750526, 3.4411884411884426, 3.446848290598291, 3.4767373829873836, 3.494416463166464, 3.5251958689458713, 3.4088827838827847, 3.476101444851446, 3.3870701058201056, 3.4304410866910864, 3.4542251729751734, 3.42579873829874, 3.3828093203093204, 3.5054181929181936, 3.419248575498575, 3.4427782865282874, 3.4559422059422054, 3.4501551689051695, 3.4654176841676843, 3.4230006105006106, 3.395464489214488, 3.442015160765161, 3.4129527879527894, 3.3715532153032157, 3.417976699226699, 3.478645197395199, 3.4511090761090757, 3.4098366910866917, 3.501984126984127, 3.456705331705331, 3.460584554334554, 3.443350630850631, 3.354764448514448, 3.4491376678876677, 3.3956552706552703, 3.4391534391534386, 3.4018874643874653, 3.4294235856735864, 3.5417938542938554, 3.414479039479039, 3.4182946682946693, 3.4310134310134326, 3.4462123524623536, 3.507071632071632, 3.5010302197802203, 3.5004578754578755, 3.366338522588524, 3.4378179690679684, 3.447102665852666, 3.427070614570615, 3.5130494505494503, 3.474448005698006, 3.38230056980057, 3.498104904354903, 3.3800747863247884, 3.4584859584859604], \"yaxis\": \"y\"}],\n",
       "                        {\"legend\": {\"tracegroupgap\": 0}, \"template\": {\"data\": {\"bar\": [{\"error_x\": {\"color\": \"rgb(36,36,36)\"}, \"error_y\": {\"color\": \"rgb(36,36,36)\"}, \"marker\": {\"line\": {\"color\": \"white\", \"width\": 0.5}}, \"type\": \"bar\"}], \"barpolar\": [{\"marker\": {\"line\": {\"color\": \"white\", \"width\": 0.5}}, \"type\": \"barpolar\"}], \"carpet\": [{\"aaxis\": {\"endlinecolor\": \"rgb(36,36,36)\", \"gridcolor\": \"white\", \"linecolor\": \"white\", \"minorgridcolor\": \"white\", \"startlinecolor\": \"rgb(36,36,36)\"}, \"baxis\": {\"endlinecolor\": \"rgb(36,36,36)\", \"gridcolor\": \"white\", \"linecolor\": \"white\", \"minorgridcolor\": \"white\", \"startlinecolor\": \"rgb(36,36,36)\"}, \"type\": \"carpet\"}], \"choropleth\": [{\"colorbar\": {\"outlinewidth\": 1, \"tickcolor\": \"rgb(36,36,36)\", \"ticks\": \"outside\"}, \"type\": \"choropleth\"}], \"contour\": [{\"colorbar\": {\"outlinewidth\": 1, \"tickcolor\": \"rgb(36,36,36)\", \"ticks\": \"outside\"}, \"colorscale\": [[0.0, \"#440154\"], [0.1111111111111111, \"#482878\"], [0.2222222222222222, \"#3e4989\"], [0.3333333333333333, \"#31688e\"], [0.4444444444444444, \"#26828e\"], [0.5555555555555556, \"#1f9e89\"], [0.6666666666666666, \"#35b779\"], [0.7777777777777778, \"#6ece58\"], [0.8888888888888888, \"#b5de2b\"], [1.0, \"#fde725\"]], \"type\": \"contour\"}], \"contourcarpet\": [{\"colorbar\": {\"outlinewidth\": 1, \"tickcolor\": \"rgb(36,36,36)\", \"ticks\": \"outside\"}, \"type\": \"contourcarpet\"}], \"heatmap\": [{\"colorbar\": {\"outlinewidth\": 1, \"tickcolor\": \"rgb(36,36,36)\", \"ticks\": \"outside\"}, \"colorscale\": [[0.0, \"#440154\"], [0.1111111111111111, \"#482878\"], [0.2222222222222222, \"#3e4989\"], [0.3333333333333333, \"#31688e\"], [0.4444444444444444, \"#26828e\"], [0.5555555555555556, \"#1f9e89\"], [0.6666666666666666, \"#35b779\"], [0.7777777777777778, \"#6ece58\"], [0.8888888888888888, \"#b5de2b\"], [1.0, \"#fde725\"]], \"type\": \"heatmap\"}], \"heatmapgl\": [{\"colorbar\": {\"outlinewidth\": 1, \"tickcolor\": \"rgb(36,36,36)\", \"ticks\": \"outside\"}, \"colorscale\": [[0.0, \"#440154\"], [0.1111111111111111, \"#482878\"], [0.2222222222222222, \"#3e4989\"], [0.3333333333333333, \"#31688e\"], [0.4444444444444444, \"#26828e\"], [0.5555555555555556, \"#1f9e89\"], [0.6666666666666666, \"#35b779\"], [0.7777777777777778, \"#6ece58\"], [0.8888888888888888, \"#b5de2b\"], [1.0, \"#fde725\"]], \"type\": \"heatmapgl\"}], \"histogram\": [{\"marker\": {\"line\": {\"color\": \"white\", \"width\": 0.6}}, \"type\": \"histogram\"}], \"histogram2d\": [{\"colorbar\": {\"outlinewidth\": 1, \"tickcolor\": \"rgb(36,36,36)\", \"ticks\": \"outside\"}, \"colorscale\": [[0.0, \"#440154\"], [0.1111111111111111, \"#482878\"], [0.2222222222222222, \"#3e4989\"], [0.3333333333333333, \"#31688e\"], [0.4444444444444444, \"#26828e\"], [0.5555555555555556, \"#1f9e89\"], [0.6666666666666666, \"#35b779\"], [0.7777777777777778, \"#6ece58\"], [0.8888888888888888, \"#b5de2b\"], [1.0, \"#fde725\"]], \"type\": \"histogram2d\"}], \"histogram2dcontour\": [{\"colorbar\": {\"outlinewidth\": 1, \"tickcolor\": \"rgb(36,36,36)\", \"ticks\": \"outside\"}, \"colorscale\": [[0.0, \"#440154\"], [0.1111111111111111, \"#482878\"], [0.2222222222222222, \"#3e4989\"], [0.3333333333333333, \"#31688e\"], [0.4444444444444444, \"#26828e\"], [0.5555555555555556, \"#1f9e89\"], [0.6666666666666666, \"#35b779\"], [0.7777777777777778, \"#6ece58\"], [0.8888888888888888, \"#b5de2b\"], [1.0, \"#fde725\"]], \"type\": \"histogram2dcontour\"}], \"mesh3d\": [{\"colorbar\": {\"outlinewidth\": 1, \"tickcolor\": \"rgb(36,36,36)\", \"ticks\": \"outside\"}, \"type\": \"mesh3d\"}], \"parcoords\": [{\"line\": {\"colorbar\": {\"outlinewidth\": 1, \"tickcolor\": \"rgb(36,36,36)\", \"ticks\": \"outside\"}}, \"type\": \"parcoords\"}], \"pie\": [{\"automargin\": true, \"type\": \"pie\"}], \"scatter\": [{\"marker\": {\"colorbar\": {\"outlinewidth\": 1, \"tickcolor\": \"rgb(36,36,36)\", \"ticks\": \"outside\"}}, \"type\": \"scatter\"}], \"scatter3d\": [{\"line\": {\"colorbar\": {\"outlinewidth\": 1, \"tickcolor\": \"rgb(36,36,36)\", \"ticks\": \"outside\"}}, \"marker\": {\"colorbar\": {\"outlinewidth\": 1, \"tickcolor\": \"rgb(36,36,36)\", \"ticks\": \"outside\"}}, \"type\": \"scatter3d\"}], \"scattercarpet\": [{\"marker\": {\"colorbar\": {\"outlinewidth\": 1, \"tickcolor\": \"rgb(36,36,36)\", \"ticks\": \"outside\"}}, \"type\": \"scattercarpet\"}], \"scattergeo\": [{\"marker\": {\"colorbar\": {\"outlinewidth\": 1, \"tickcolor\": \"rgb(36,36,36)\", \"ticks\": \"outside\"}}, \"type\": \"scattergeo\"}], \"scattergl\": [{\"marker\": {\"colorbar\": {\"outlinewidth\": 1, \"tickcolor\": \"rgb(36,36,36)\", \"ticks\": \"outside\"}}, \"type\": \"scattergl\"}], \"scattermapbox\": [{\"marker\": {\"colorbar\": {\"outlinewidth\": 1, \"tickcolor\": \"rgb(36,36,36)\", \"ticks\": \"outside\"}}, \"type\": \"scattermapbox\"}], \"scatterpolar\": [{\"marker\": {\"colorbar\": {\"outlinewidth\": 1, \"tickcolor\": \"rgb(36,36,36)\", \"ticks\": \"outside\"}}, \"type\": \"scatterpolar\"}], \"scatterpolargl\": [{\"marker\": {\"colorbar\": {\"outlinewidth\": 1, \"tickcolor\": \"rgb(36,36,36)\", \"ticks\": \"outside\"}}, \"type\": \"scatterpolargl\"}], \"scatterternary\": [{\"marker\": {\"colorbar\": {\"outlinewidth\": 1, \"tickcolor\": \"rgb(36,36,36)\", \"ticks\": \"outside\"}}, \"type\": \"scatterternary\"}], \"surface\": [{\"colorbar\": {\"outlinewidth\": 1, \"tickcolor\": \"rgb(36,36,36)\", \"ticks\": \"outside\"}, \"colorscale\": [[0.0, \"#440154\"], [0.1111111111111111, \"#482878\"], [0.2222222222222222, \"#3e4989\"], [0.3333333333333333, \"#31688e\"], [0.4444444444444444, \"#26828e\"], [0.5555555555555556, \"#1f9e89\"], [0.6666666666666666, \"#35b779\"], [0.7777777777777778, \"#6ece58\"], [0.8888888888888888, \"#b5de2b\"], [1.0, \"#fde725\"]], \"type\": \"surface\"}], \"table\": [{\"cells\": {\"fill\": {\"color\": \"rgb(237,237,237)\"}, \"line\": {\"color\": \"white\"}}, \"header\": {\"fill\": {\"color\": \"rgb(217,217,217)\"}, \"line\": {\"color\": \"white\"}}, \"type\": \"table\"}]}, \"layout\": {\"annotationdefaults\": {\"arrowhead\": 0, \"arrowwidth\": 1}, \"coloraxis\": {\"colorbar\": {\"outlinewidth\": 1, \"tickcolor\": \"rgb(36,36,36)\", \"ticks\": \"outside\"}}, \"colorscale\": {\"diverging\": [[0.0, \"rgb(103,0,31)\"], [0.1, \"rgb(178,24,43)\"], [0.2, \"rgb(214,96,77)\"], [0.3, \"rgb(244,165,130)\"], [0.4, \"rgb(253,219,199)\"], [0.5, \"rgb(247,247,247)\"], [0.6, \"rgb(209,229,240)\"], [0.7, \"rgb(146,197,222)\"], [0.8, \"rgb(67,147,195)\"], [0.9, \"rgb(33,102,172)\"], [1.0, \"rgb(5,48,97)\"]], \"sequential\": [[0.0, \"#440154\"], [0.1111111111111111, \"#482878\"], [0.2222222222222222, \"#3e4989\"], [0.3333333333333333, \"#31688e\"], [0.4444444444444444, \"#26828e\"], [0.5555555555555556, \"#1f9e89\"], [0.6666666666666666, \"#35b779\"], [0.7777777777777778, \"#6ece58\"], [0.8888888888888888, \"#b5de2b\"], [1.0, \"#fde725\"]], \"sequentialminus\": [[0.0, \"#440154\"], [0.1111111111111111, \"#482878\"], [0.2222222222222222, \"#3e4989\"], [0.3333333333333333, \"#31688e\"], [0.4444444444444444, \"#26828e\"], [0.5555555555555556, \"#1f9e89\"], [0.6666666666666666, \"#35b779\"], [0.7777777777777778, \"#6ece58\"], [0.8888888888888888, \"#b5de2b\"], [1.0, \"#fde725\"]]}, \"colorway\": [\"#1F77B4\", \"#FF7F0E\", \"#2CA02C\", \"#D62728\", \"#9467BD\", \"#8C564B\", \"#E377C2\", \"#7F7F7F\", \"#BCBD22\", \"#17BECF\"], \"font\": {\"color\": \"rgb(36,36,36)\"}, \"geo\": {\"bgcolor\": \"white\", \"lakecolor\": \"white\", \"landcolor\": \"white\", \"showlakes\": true, \"showland\": true, \"subunitcolor\": \"white\"}, \"hoverlabel\": {\"align\": \"left\"}, \"hovermode\": \"closest\", \"mapbox\": {\"style\": \"light\"}, \"paper_bgcolor\": \"white\", \"plot_bgcolor\": \"white\", \"polar\": {\"angularaxis\": {\"gridcolor\": \"rgb(232,232,232)\", \"linecolor\": \"rgb(36,36,36)\", \"showgrid\": false, \"showline\": true, \"ticks\": \"outside\"}, \"bgcolor\": \"white\", \"radialaxis\": {\"gridcolor\": \"rgb(232,232,232)\", \"linecolor\": \"rgb(36,36,36)\", \"showgrid\": false, \"showline\": true, \"ticks\": \"outside\"}}, \"scene\": {\"xaxis\": {\"backgroundcolor\": \"white\", \"gridcolor\": \"rgb(232,232,232)\", \"gridwidth\": 2, \"linecolor\": \"rgb(36,36,36)\", \"showbackground\": true, \"showgrid\": false, \"showline\": true, \"ticks\": \"outside\", \"zeroline\": false, \"zerolinecolor\": \"rgb(36,36,36)\"}, \"yaxis\": {\"backgroundcolor\": \"white\", \"gridcolor\": \"rgb(232,232,232)\", \"gridwidth\": 2, \"linecolor\": \"rgb(36,36,36)\", \"showbackground\": true, \"showgrid\": false, \"showline\": true, \"ticks\": \"outside\", \"zeroline\": false, \"zerolinecolor\": \"rgb(36,36,36)\"}, \"zaxis\": {\"backgroundcolor\": \"white\", \"gridcolor\": \"rgb(232,232,232)\", \"gridwidth\": 2, \"linecolor\": \"rgb(36,36,36)\", \"showbackground\": true, \"showgrid\": false, \"showline\": true, \"ticks\": \"outside\", \"zeroline\": false, \"zerolinecolor\": \"rgb(36,36,36)\"}}, \"shapedefaults\": {\"fillcolor\": \"black\", \"line\": {\"width\": 0}, \"opacity\": 0.3}, \"ternary\": {\"aaxis\": {\"gridcolor\": \"rgb(232,232,232)\", \"linecolor\": \"rgb(36,36,36)\", \"showgrid\": false, \"showline\": true, \"ticks\": \"outside\"}, \"baxis\": {\"gridcolor\": \"rgb(232,232,232)\", \"linecolor\": \"rgb(36,36,36)\", \"showgrid\": false, \"showline\": true, \"ticks\": \"outside\"}, \"bgcolor\": \"white\", \"caxis\": {\"gridcolor\": \"rgb(232,232,232)\", \"linecolor\": \"rgb(36,36,36)\", \"showgrid\": false, \"showline\": true, \"ticks\": \"outside\"}}, \"title\": {\"x\": 0.05}, \"xaxis\": {\"automargin\": true, \"gridcolor\": \"rgb(232,232,232)\", \"linecolor\": \"rgb(36,36,36)\", \"showgrid\": false, \"showline\": true, \"ticks\": \"outside\", \"title\": {\"standoff\": 15}, \"zeroline\": false, \"zerolinecolor\": \"rgb(36,36,36)\"}, \"yaxis\": {\"automargin\": true, \"gridcolor\": \"rgb(232,232,232)\", \"linecolor\": \"rgb(36,36,36)\", \"showgrid\": false, \"showline\": true, \"ticks\": \"outside\", \"title\": {\"standoff\": 15}, \"zeroline\": false, \"zerolinecolor\": \"rgb(36,36,36)\"}}}, \"title\": {\"text\": \"HousePressure g-pump-6 for all weeks \"}, \"xaxis\": {\"anchor\": \"y\", \"domain\": [0.0, 1.0], \"title\": {\"text\": \"week\"}, \"type\": \"category\"}, \"yaxis\": {\"anchor\": \"x\", \"domain\": [0.0, 1.0], \"title\": {\"text\": \"feature_value\"}}},\n",
       "                        {\"responsive\": true}\n",
       "                    ).then(function(){\n",
       "                            \n",
       "var gd = document.getElementById('1973f6e7-6c9c-40e2-8172-35fabf156554');\n",
       "var x = new MutationObserver(function (mutations, observer) {{\n",
       "        var display = window.getComputedStyle(gd).display;\n",
       "        if (!display || display === 'none') {{\n",
       "            console.log([gd, 'removed!']);\n",
       "            Plotly.purge(gd);\n",
       "            observer.disconnect();\n",
       "        }}\n",
       "}});\n",
       "\n",
       "// Listen for the removal of the full notebook cells\n",
       "var notebookContainer = gd.closest('#notebook-container');\n",
       "if (notebookContainer) {{\n",
       "    x.observe(notebookContainer, {childList: true});\n",
       "}}\n",
       "\n",
       "// Listen for the clearing of the current output cell\n",
       "var outputEl = gd.closest('.output');\n",
       "if (outputEl) {{\n",
       "    x.observe(outputEl, {childList: true});\n",
       "}}\n",
       "\n",
       "                        })\n",
       "                };\n",
       "                });\n",
       "            </script>\n",
       "        </div>"
      ]
     },
     "metadata": {},
     "output_type": "display_data"
    }
   ],
   "source": [
    "show_baselining_plot_azure(df_data, duration = \"all\", asset_name= asset_name, variable_name= INLET_PRESSURE,\n",
    "                           plot_type = \"scatter\")\n",
    "\n",
    "show_baselining_plot_azure(df_data, duration = \"all\", asset_name= asset_name, variable_name= OUTLET_PRESSURE,\n",
    "                          plot_type = \"scatter\")\n",
    "\n",
    "show_baselining_plot_azure(df_data, duration = \"all\", asset_name= asset_name, variable_name= HOUSE_PRESSURE,\n",
    "                          plot_type = \"scatter\")"
   ]
  },
  {
   "cell_type": "markdown",
   "metadata": {},
   "source": [
    "**Boxplot**"
   ]
  },
  {
   "cell_type": "code",
   "execution_count": 16,
   "metadata": {},
   "outputs": [
    {
     "data": {
      "application/vnd.plotly.v1+json": {
       "config": {
        "plotlyServerURL": "https://plot.ly"
       },
       "data": [
        {
         "alignmentgroup": "True",
         "hoverlabel": {
          "namelength": 0
         },
         "hovertemplate": "week=%{x}<br>feature_value=%{y}",
         "legendgroup": "",
         "marker": {
          "color": "#1F77B4"
         },
         "name": "",
         "notched": false,
         "offsetgroup": "",
         "orientation": "v",
         "showlegend": false,
         "type": "box",
         "x": [
          47,
          47,
          47,
          47,
          47,
          47,
          47,
          47,
          47,
          47,
          47,
          47,
          47,
          47,
          47,
          47,
          47,
          47,
          47,
          47,
          47,
          47,
          47,
          47,
          47,
          47,
          47,
          47,
          47,
          47,
          47,
          47,
          47,
          47,
          47,
          47,
          47,
          47,
          47,
          47,
          47,
          47,
          47,
          47,
          47,
          47,
          47,
          47,
          47,
          47,
          47,
          47,
          47,
          47,
          47,
          47,
          47,
          47,
          47,
          47,
          47,
          47,
          47,
          47,
          47,
          47,
          47,
          47,
          47,
          47,
          47,
          47,
          47,
          47,
          47,
          47,
          47,
          47,
          47,
          47,
          47,
          47,
          47,
          47,
          47,
          47,
          47,
          47,
          47,
          47,
          47,
          47,
          47,
          47,
          47,
          47,
          47,
          47,
          47,
          47,
          47,
          47,
          47,
          47,
          47,
          47,
          47,
          48,
          48,
          48,
          48,
          48,
          48,
          48,
          48,
          48,
          48,
          48,
          48,
          48,
          48,
          48,
          48,
          48,
          48,
          48,
          48,
          48,
          48,
          48,
          48,
          48,
          48,
          48,
          48,
          48,
          48,
          48,
          48,
          48,
          48,
          48,
          48,
          48,
          48,
          48,
          48,
          48,
          48,
          48,
          48,
          48,
          48,
          48,
          48,
          48,
          48,
          48,
          48,
          48,
          48,
          48,
          48,
          48,
          48,
          48,
          48,
          48,
          48,
          48,
          48,
          48,
          48,
          48,
          48,
          48,
          48,
          48,
          48,
          48,
          48,
          48,
          48,
          48,
          48,
          48,
          48,
          48,
          48,
          48,
          48,
          48,
          48,
          48,
          48,
          48,
          48,
          48,
          48,
          48,
          48,
          48,
          48,
          48,
          48,
          48,
          48,
          48,
          48,
          48,
          48,
          48,
          48,
          48,
          48,
          48,
          48,
          48,
          48,
          48,
          48,
          48,
          48,
          48,
          48,
          48,
          48,
          48,
          48,
          48,
          48,
          48,
          48,
          48,
          48,
          48,
          48,
          48,
          48,
          48,
          48,
          48,
          48,
          48,
          48,
          48,
          48,
          48,
          48,
          48,
          48,
          48,
          48,
          48,
          48,
          48,
          48,
          48,
          48,
          48,
          48,
          48,
          48,
          48,
          48,
          48,
          48,
          48,
          48,
          48,
          48,
          48,
          48,
          49,
          49,
          49,
          49,
          49,
          49,
          49,
          49,
          49,
          49,
          49,
          49,
          49,
          49,
          49,
          49,
          49,
          49,
          49,
          49,
          49,
          49,
          49,
          49,
          49,
          49,
          49,
          49,
          49,
          50,
          50,
          50,
          50,
          50,
          50,
          50,
          50,
          50,
          50,
          50,
          50,
          50,
          50,
          50,
          50,
          50,
          50,
          50,
          50,
          50,
          50,
          50,
          50,
          50,
          50,
          50,
          50,
          50,
          50,
          50,
          51,
          51,
          51,
          51,
          51,
          51,
          51,
          51,
          51,
          51,
          51,
          51,
          51,
          51,
          51,
          51,
          51,
          51,
          51,
          51,
          51,
          51,
          51,
          51,
          51,
          51,
          51,
          51,
          51,
          51,
          51,
          51,
          51,
          51,
          51,
          51,
          51,
          51,
          51,
          51,
          51,
          51,
          51,
          51,
          51,
          51,
          51,
          51,
          51,
          51,
          51,
          51,
          51,
          51,
          51,
          51,
          51,
          51,
          51,
          51,
          51,
          51,
          51,
          51,
          51,
          51,
          51,
          51,
          51,
          51,
          51,
          51,
          51,
          51,
          51,
          51,
          51,
          51,
          51,
          51,
          51,
          51,
          51,
          51,
          51,
          51,
          51,
          51,
          51,
          51,
          51,
          51,
          51,
          51,
          51,
          51,
          51,
          51,
          51,
          51,
          51,
          51,
          51,
          51,
          51,
          51,
          51,
          51,
          51,
          51,
          51,
          51,
          51,
          51,
          51,
          51,
          51,
          51,
          51,
          51,
          51,
          51,
          51,
          51,
          51,
          51,
          51,
          51,
          51,
          51,
          51,
          51,
          51,
          51,
          51,
          51,
          51,
          51,
          51,
          51,
          51,
          51,
          51,
          51,
          51,
          51,
          51,
          51,
          52,
          52,
          52,
          52,
          52,
          52,
          52,
          52,
          52,
          52,
          52,
          52,
          52,
          52,
          52,
          52,
          52,
          52,
          52,
          52,
          52,
          52,
          52,
          52,
          52,
          52,
          52,
          52,
          52,
          52,
          52,
          52,
          52,
          52,
          52,
          52,
          52,
          52,
          52,
          52,
          52,
          52,
          52,
          52,
          52,
          52,
          52,
          52,
          52,
          52,
          52,
          52,
          52,
          52,
          52,
          52,
          52,
          52,
          52,
          52,
          52,
          52,
          52,
          52,
          52,
          52,
          52,
          52,
          52,
          52,
          52,
          52,
          52,
          52,
          52,
          52,
          52,
          52,
          52,
          52,
          52,
          52,
          52,
          52,
          52,
          52,
          52,
          52,
          52,
          52,
          52,
          52,
          52,
          52,
          52,
          52,
          52,
          52,
          52,
          52,
          52,
          52,
          52,
          52,
          52,
          52,
          52,
          52,
          52,
          52,
          52,
          52,
          52,
          52,
          52,
          52,
          52,
          52,
          52,
          52,
          52,
          52,
          52,
          52,
          52,
          52,
          52,
          52,
          52,
          52,
          52,
          52,
          52,
          52,
          52,
          52,
          52,
          52,
          52,
          52,
          52,
          52,
          52,
          52,
          52,
          52,
          52,
          52,
          52,
          52,
          52,
          52,
          52,
          52,
          52,
          52,
          52,
          52,
          52,
          52,
          52,
          52,
          52,
          52,
          52,
          1,
          1,
          1,
          1,
          1,
          1,
          1,
          1,
          1,
          1,
          1,
          1,
          1,
          1,
          1,
          1,
          1,
          1,
          1,
          1,
          1,
          1,
          1,
          1,
          1,
          1,
          1,
          1,
          1,
          1,
          1,
          1,
          1,
          1,
          1,
          1,
          1,
          1,
          1,
          1,
          1,
          1,
          1,
          1,
          1,
          1,
          1,
          1,
          1,
          1,
          1,
          1,
          1,
          1,
          1,
          1,
          1,
          1,
          1,
          1,
          1,
          1,
          1,
          1,
          1,
          1,
          1,
          1,
          1,
          1,
          1,
          1,
          1,
          1,
          1,
          1,
          1,
          1,
          1,
          1,
          1,
          1,
          1,
          1,
          1,
          1,
          1,
          1,
          1,
          1,
          1,
          1,
          1,
          1,
          1,
          1,
          1,
          1,
          1,
          1,
          1,
          1,
          1,
          1,
          1,
          1,
          1,
          1,
          1,
          1,
          1,
          1,
          1,
          1,
          1,
          1,
          1,
          1,
          1,
          1,
          1,
          1,
          1,
          1,
          1,
          1,
          1,
          1,
          1,
          1,
          1,
          1,
          1,
          1,
          1,
          1,
          1,
          1,
          1,
          1,
          1,
          1,
          1,
          1,
          1,
          1,
          1,
          1,
          1,
          1,
          1,
          1,
          1,
          1,
          1,
          1,
          1,
          1,
          1,
          1,
          1,
          1,
          1,
          1,
          1,
          1,
          1,
          1,
          2,
          2,
          2,
          2,
          2,
          2,
          2,
          2,
          2,
          2,
          2,
          2,
          2,
          2,
          2,
          2,
          2
         ],
         "x0": " ",
         "xaxis": "x",
         "y": [
          2.8266521693167608,
          2.8626155458066527,
          2.9121110371110386,
          2.8635658323158313,
          2.7992724867724874,
          2.8428342490842495,
          2.8549170736670724,
          2.908145095645096,
          2.8711334961334973,
          2.8055046805046797,
          2.790496540496541,
          2.8079212454212445,
          2.863947395197396,
          2.833740333740334,
          2.8279532967032956,
          2.7952024827024835,
          2.848239723239722,
          2.8555530118030124,
          2.9114519739519733,
          2.878955535205536,
          2.823565323565324,
          2.868462555962557,
          2.898054877221544,
          2.8229929792429793,
          2.8336131461131466,
          2.7996540496540496,
          2.8008623321123314,
          2.8883674196174183,
          2.8235653235653246,
          2.821593915343913,
          2.8687169312169307,
          2.778286528286529,
          2.84518722018722,
          2.812627187627186,
          2.816506410256411,
          2.844360500610501,
          2.81396265771266,
          2.8030881155881158,
          2.862039580789579,
          2.8006079568579563,
          2.822611416361413,
          2.807094525844525,
          2.8528820716320733,
          2.7788588726088714,
          2.7878256003256006,
          2.839972527472528,
          2.8475401912901908,
          2.8180326617826625,
          2.8279532967032956,
          2.907000407000405,
          2.8099562474562476,
          2.862929894179892,
          2.801243894993895,
          2.8381919006919,
          2.850020350020347,
          2.844042531542531,
          2.7993996743996745,
          2.8495115995115996,
          2.848939255189254,
          2.8067129629629632,
          2.837428774928773,
          2.8177782865282848,
          2.8345670533170524,
          2.7879527879527886,
          2.8057590557590566,
          2.795393264143265,
          2.7878256003255992,
          2.845568783068782,
          2.777141839641839,
          2.849511599511598,
          2.8161884411884404,
          2.7945029507529493,
          2.8228021978021984,
          2.82051282051282,
          2.871705840455841,
          2.817969067969066,
          2.837110805860806,
          2.821911884411884,
          2.8350122100122106,
          2.8519917582417578,
          2.825663919413918,
          2.883534289784288,
          2.8144078144078133,
          2.7868716931216913,
          2.8430886243386237,
          2.8023249898249882,
          2.843724562474563,
          2.8498295685795667,
          2.8418167480667478,
          2.8635022385022384,
          2.9103708791208778,
          2.82719017094017,
          2.798191391941391,
          2.7862993487993495,
          2.8367292429792434,
          2.8729777167277173,
          2.8090023402523414,
          2.8726597476597466,
          2.8724053724053724,
          2.8350758038258017,
          2.8077304639804623,
          2.8754578754578755,
          2.8409264346764345,
          2.8387642450142443,
          2.8705611518111502,
          2.8051867114367113,
          2.8499567562067543,
          2.808620777370777,
          2.829415954415955,
          2.829670329670328,
          2.930275742775743,
          2.824201261701262,
          2.781720594220594,
          2.8679538054538054,
          2.818795787545788,
          2.814153439153438,
          2.8439789377289366,
          2.842643467643468,
          2.8390822140822145,
          2.854917073667073,
          2.8782560032560025,
          2.8053774928774913,
          2.8206400081400074,
          2.7731354293854307,
          2.839845339845341,
          2.8150437525437524,
          2.9040114977614984,
          2.809002340252341,
          2.826299857549857,
          2.8610220797720802,
          2.8199404761904767,
          2.8556801994302,
          2.8954263329263337,
          2.815616096866098,
          2.857142857142858,
          2.796792328042327,
          2.7875076312576303,
          2.8202584452584443,
          2.855934574684575,
          2.7971102971102995,
          2.7992724867724874,
          2.8437881562881575,
          2.8451872201872184,
          2.9152040089540088,
          2.8957443019943017,
          2.8498295685795685,
          2.822102665852666,
          2.893772893772894,
          2.8462047212047197,
          2.8863960113960108,
          2.9120879120879124,
          2.880291005291006,
          2.807921245421245,
          2.8930097680097666,
          2.800671550671549,
          2.8140262515262524,
          2.9064916564916565,
          2.8498295685795694,
          2.9263329263329254,
          2.8635022385022384,
          2.8583511396011385,
          2.8030245217745224,
          2.8551078551078546,
          2.7808938746438727,
          2.8354573667073653,
          2.849384411884413,
          2.848176129426129,
          2.834312678062679,
          2.858859890109889,
          2.8098290598290596,
          2.842707061457062,
          2.875585063085062,
          2.822675010175008,
          2.8132631257631258,
          2.8382554945054945,
          2.862484737484737,
          2.806140618640619,
          2.8381283068783074,
          2.783374033374033,
          2.845568783068782,
          2.829352360602359,
          2.7873804436304432,
          2.8640745828245815,
          2.8359025234025226,
          2.7927859177859187,
          2.8147893772893773,
          2.841753154253153,
          2.8105921855921854,
          2.8809905372405367,
          2.810973748473749,
          2.8313873626373627,
          2.8537723850223866,
          2.894599613349614,
          2.8429614367114358,
          2.803342490842491,
          2.921944953194952,
          2.8300518925518925,
          2.889575702075702,
          2.9512617012617017,
          2.763087606837608,
          2.8513558201058196,
          2.8528820716320715,
          2.863184269434269,
          2.7662672975172975,
          2.827953296703296,
          2.8269993894993912,
          2.7941849816849804,
          2.8049323361823357,
          2.803278897028896,
          2.859940984940985,
          2.8456959706959712,
          2.752213064713065,
          2.8989239926739927,
          2.827889702889703,
          2.7480794668294677,
          2.8116732804232814,
          2.792595136345137,
          2.8180962555962563,
          2.7652497964997966,
          2.8420711233211233,
          2.8019434269434274,
          2.806204212454212,
          2.8689713064713067,
          2.8949811762311763,
          2.840735653235653,
          2.873232091982091,
          2.790750915750916,
          2.7585724460724452,
          2.8126907814407804,
          2.804042022792023,
          2.7892246642246636,
          2.8066493691493677,
          2.8067129629629632,
          2.871960215710216,
          2.8280168905168903,
          2.781275437525437,
          2.8476037851037845,
          2.8661095848595832,
          2.8698616198616196,
          2.801243894993894,
          2.801434676434676,
          2.8399725274725274,
          2.861912393162392,
          2.8519917582417573,
          2.810274216524215,
          2.8149165649165666,
          2.7987001424501408,
          2.8847425722425712,
          2.872405372405373,
          2.8291361416361416,
          2.8240104802604793,
          2.818223443223442,
          2.786553724053722,
          2.7759971509971506,
          2.804995929995931,
          2.8424526862026855,
          2.8075396825396823,
          2.7721815221815214,
          2.861530830280829,
          2.8504019129019116,
          2.85002035002035,
          2.850211131461131,
          2.8254095441595433,
          2.822738603988603,
          2.8656644281644272,
          2.7728174603174605,
          2.864392551892552,
          2.8013710826210834,
          2.8136446886446884,
          2.760543854293856,
          2.8302426739926747,
          2.8105921855921863,
          2.7781593406593394,
          2.8447420634920637,
          2.8038512413512415,
          2.8444876882376877,
          2.834439865689864,
          2.79482091982092,
          2.839718152218151,
          2.894853988603989,
          2.858287545787547,
          2.8437245624745615,
          2.796039801248133,
          2.7884615384615365,
          2.8208943833943825,
          2.8589234839234847,
          2.8602589540089536,
          2.8675086487586494,
          2.8331679894179893,
          2.935045278795279,
          2.9075091575091583,
          2.7776505901505892,
          2.884933353683353,
          2.8280168905168903,
          2.867763024013024,
          2.8418803418803407,
          2.867635836385835,
          2.8276989214489223,
          2.859432234432235,
          2.79901811151811,
          2.8746311558811564,
          2.874313186813186,
          2.827228327228326,
          2.895299145299146,
          2.963026556776559,
          2.9021672771672766,
          2.955140923890923,
          2.9698946886446893,
          2.9760632885632883,
          2.980514855514856,
          2.869988807488808,
          2.9058557183557183,
          2.9038843101343104,
          2.9581934269434265,
          2.9134869759869755,
          2.9932972120472123,
          2.93205636955637,
          2.9047110297110286,
          2.888876170126169,
          2.98477564102564,
          2.9161579161579163,
          2.9452202889702903,
          2.924997456247455,
          2.908335877085877,
          2.9216905779405784,
          2.927159645909646,
          2.966842185592185,
          2.9289402726902725,
          2.8930733618233617,
          2.988018925518926,
          2.8963166463166456,
          2.9884640822140813,
          3.0236950549450547,
          2.953105921855922,
          2.9261421448921454,
          2.9557132682132683,
          2.927986365486365,
          2.9398148148148144,
          2.9567307692307687,
          2.93122964997965,
          2.883788665038665,
          2.875076312576312,
          2.8561253561253577,
          2.942485754985755,
          2.9363171550671563,
          2.933391839641839,
          2.900132275132274,
          2.8884946072446085,
          2.8857600732600712,
          2.8298611111111107,
          2.92124542124542,
          2.8388278388278394,
          2.815806878306877,
          2.893645706145705,
          2.902866809116808,
          2.8887489824989827,
          2.8553622303622297,
          2.874885531135531,
          2.8626119251119246,
          2.8687805250305263,
          2.860958485958488,
          2.806776556776556,
          2.8387006512006505,
          2.8360933048433044,
          2.8617216117216113,
          2.8695436507936507,
          2.842961436711437,
          2.865473646723648,
          2.8514830077330076,
          2.8567612942612945,
          2.8513558201058196,
          2.8646469271469264,
          2.816252035002035,
          2.907699938949938,
          2.804868742368743,
          2.8650920838420824,
          2.8626755189255175,
          2.8932005494505475,
          2.8169515669515675,
          2.9952686202686194,
          2.880354599104599,
          3.0235042735042725,
          2.9358084045584047,
          2.954504985754985,
          2.926269332519331,
          2.962835775335775,
          2.9183201058201043,
          2.9653795278795285,
          2.954314204314203,
          2.963026556776558,
          2.973074379324378,
          2.9753637566137545,
          2.965188746438745,
          2.9744098494098483,
          2.895426332926333,
          2.918701668701669,
          2.9649343711843703,
          2.9832493894993894,
          3.000992063492062,
          2.934472934472933,
          2.9538690476190492,
          2.952469983719984,
          2.9692587505087507,
          3.024648962148962,
          3.0063975376475374,
          2.8774928774928785,
          2.8121820309320307,
          2.8813721001220984,
          2.8561889499389506,
          2.8761574074074097,
          2.8563161375661372,
          2.910180097680097,
          2.85402676027676,
          2.8734228734228733,
          2.974409849409851,
          2.8314509564509556,
          2.873613654863655,
          2.8939000814000813,
          2.8980972730972714,
          2.838955026455025,
          2.8964438339438345,
          2.899369149369148,
          2.8732956857956853,
          2.9103072853072853,
          2.86636396011396,
          2.881690069190069,
          2.8735500610500595,
          2.8192409442409434,
          2.9486543549043542,
          2.9754909442409443,
          2.8608312983312985,
          2.8690349002849,
          2.8574608262108274,
          2.9225172975172975,
          2.874631155881156,
          2.856952075702077,
          2.8893213268213267,
          2.88372507122507,
          2.8607041107041087,
          2.863057081807083,
          2.890974765974765,
          2.904711029711031,
          2.853072853072854,
          2.885632885632886,
          2.8240740740740744,
          2.896761803011804,
          2.831005799755802,
          2.86172161172161,
          2.8491300366300365,
          2.8361568986568977,
          2.9386701261701265,
          2.8522461334961307,
          2.8813085063085055,
          2.8462047212047223,
          2.9599104599104575,
          2.837428774928776,
          2.8308786121286134,
          2.881944444444444,
          2.8961258648758648,
          2.8401633089133083,
          2.843851750101752,
          2.8476673789173788,
          2.8383190883190887,
          2.842198310948312,
          2.896316646316645,
          2.865918803418803,
          2.861085673585673,
          2.8439789377289375,
          2.873232091982091,
          2.844360500610501,
          2.8427706552706553,
          2.874821937321936,
          2.9222629222629215,
          2.9240435490435495,
          2.8734228734228715,
          2.9615003052503055,
          2.8990511803011785,
          2.867190679690681,
          2.891992266992266,
          2.867190679690678,
          2.875712250712251,
          2.8954899267399257,
          2.913614163614165,
          2.826363451363452,
          2.8732956857956844,
          2.8999414936914945,
          2.860767704517704,
          2.827762515262515,
          2.9066824379324374,
          2.8735500610500595,
          2.9022944647944637,
          2.970530626780627,
          2.9211182336182335,
          2.9399420024420024,
          2.9253790191290165,
          2.8885582010581996,
          2.9146952584452595,
          2.890911172161171,
          2.8930097680097675,
          2.8873499185999187,
          2.8794006919006923,
          2.8381919006919003,
          2.897779304029303,
          2.853899572649574,
          2.8507834757834747,
          2.800671550671551,
          2.898478835978835,
          2.878383190883191,
          2.886777574277573,
          2.775234025234024,
          2.8794642857142847,
          2.910816035816035,
          2.9011497761497753,
          2.8400997150997145,
          2.8240104802604797,
          2.8793370980870985,
          2.8526276963776955,
          2.821530321530322,
          2.8765389702889714,
          2.8924374236874244,
          2.8514830077330084,
          2.872468966218966,
          2.8802910052910047,
          2.923789173789173,
          2.9522792022792026,
          2.895426332926333,
          2.8900844525844516,
          2.870624745624745,
          2.886396011396012,
          2.820131257631257,
          2.887858669108669,
          2.9276048026048023,
          2.867826617826619,
          2.8488756613756614,
          2.8699252136752134,
          2.878319597069597,
          2.847222222222222,
          2.8643925518925513,
          2.8497659747659747,
          2.9294490231990213,
          2.9318019943019937,
          2.9104344729344738,
          2.891419922669923,
          2.8512286324786342,
          2.92576058201058,
          2.8774928774928763,
          2.8486848799348805,
          2.887095543345543,
          2.919846357346357,
          2.8907839845339853,
          2.9067460317460316,
          2.8989239926739923,
          2.935426841676842,
          2.935236060236058,
          2.872532560032561,
          2.8657916157916152,
          2.926905270655269,
          2.9116427553927555,
          2.8538995726495724,
          2.865855209605209,
          2.859940984940985,
          2.9233440170940157,
          2.921054639804639,
          2.867763024013025,
          2.911579161579161,
          2.9129782254782257,
          2.823883292633292,
          2.9064280626780623,
          2.889321326821325,
          2.8521189458689467,
          2.91456807081807,
          2.910498066748067,
          2.841371591371592,
          2.9134233821733826,
          2.892501017501018,
          2.875712250712251,
          2.9036299348799357,
          2.93154761904762,
          2.8890033577533587,
          2.9163486975986976,
          2.9129146316646306,
          2.8567612942612928,
          2.9445843508343508,
          2.8845517908017904,
          2.8566341066341057,
          2.885632885632886,
          2.9085266585266596,
          2.9239799552299535,
          2.8812449124949127,
          2.82451923076923,
          2.8715786528286533,
          2.9422949735449744,
          2.9385429385429376,
          2.83965455840456,
          2.9792429792429798,
          2.895744301994302,
          2.843088624338625,
          2.850974257224257,
          2.8027701465201447,
          2.906046499796499,
          2.872468966218966,
          2.9139321326821315,
          2.8371743996744008,
          2.867763024013023,
          2.86521927146927,
          2.7939942002442,
          2.8734228734228733,
          2.802261396011397,
          2.8454415954415944,
          2.833803927553928,
          2.967859686609687,
          2.863502238502239,
          2.835139397639398,
          2.916221509971509,
          2.9145044770044746,
          2.825600325600325,
          2.8841066341066344,
          2.832532051282051,
          2.9608643671143677,
          2.9404507529507526,
          2.8070945258445246,
          2.865791615791616,
          2.8361568986568977,
          2.8813721001220998,
          2.868844118844119,
          2.920355107855109,
          2.902358058608059,
          2.8563161375661377,
          2.8900844525844533,
          2.896825396825397,
          2.8669363044363045,
          2.895235551485552,
          2.863883801383802,
          2.857270044770045,
          2.8892577330077334,
          2.814916564916564,
          2.9052197802197797,
          2.847985347985349,
          2.8690984940984943,
          2.865600834350834,
          2.8832163207163206,
          2.872532560032561,
          2.8722145909645924,
          2.8982244607244607,
          2.8782560032560034,
          2.841117216117215,
          2.8712606837606836,
          2.928240740740742,
          2.9263965201465214,
          2.9250610500610486,
          2.8881130443630454,
          2.7551383801383817,
          2.8383190883190874,
          2.918574481074483,
          2.82750814000814,
          2.8483669108669107,
          2.887604293854293,
          2.9315476190476186,
          2.838001119251118,
          2.9649343711843703,
          3.020769739519738,
          2.9915801790801795,
          2.867826617826617,
          2.910879629629628,
          2.943376068376068,
          2.850592694342693,
          2.8966982091982083,
          2.8763481888481874,
          2.8654736467236472,
          2.7621336996337003,
          2.9342821530321523,
          2.87971866096866,
          2.912660256410256,
          2.9185744810744816,
          2.840544871794872,
          2.8437245624745624,
          2.8431522181522166,
          2.940005596255595,
          2.800989519739519,
          2.830369861619861,
          2.8596230158730163,
          2.902167277167276,
          2.9461106023606014,
          2.941404660154659,
          2.939687627187627,
          2.9403871591371598,
          2.864265364265364,
          2.971738909238909,
          2.960673585673586,
          2.955204517704518,
          2.971357346357346,
          2.9860475172975183,
          2.9194647944647927,
          2.934854497354497,
          2.958320614570615,
          2.8861416361416357,
          2.9616274928774913,
          2.9338369963369964,
          2.901531339031339,
          2.89771571021571,
          2.9304665242165253,
          2.880545380545381,
          2.8896392958892965,
          2.862802706552707,
          2.977080789580788,
          2.9398148148148144,
          2.879146316646317,
          2.8739316239316235,
          2.936571530321531,
          2.87469474969475,
          2.892946174196174,
          2.895617114367115,
          2.897842897842897,
          2.8790191290191296,
          2.901785714285714,
          2.890402421652423,
          2.874058811558813,
          2.9101800976800978,
          2.869162087912089,
          2.917874949124949,
          2.9583842083842082,
          2.875648656898657,
          2.925124643874643,
          2.9492902930402933,
          2.9778439153439162,
          2.8869683557183543,
          2.8847425722425712,
          2.9763176638176634,
          2.9311660561660555,
          2.966333435083435,
          2.9278591778591774,
          2.8848697598697597,
          2.9970492470492474,
          2.965061558811558,
          2.881117724867724,
          2.876602564102564,
          2.913486975986976,
          2.86833536833537,
          2.885887260887261,
          2.936889499389498,
          2.8901480463980476,
          2.886777574277574,
          2.8573972323972328,
          2.899814306064307,
          2.8898300773300782,
          2.909289784289783,
          2.9097985347985342,
          2.923534798534799,
          2.929003866503867,
          2.9461106023606027,
          2.9110068172568186,
          2.923916361416362,
          2.978034696784697,
          2.950625763125762,
          2.922135734635733,
          2.891547110297109,
          2.806585775335775,
          2.8933913308913315,
          2.881435693935693,
          2.8653464590964592,
          2.9148224460724457,
          2.95774827024827,
          2.890466015466018,
          2.932437932437932,
          2.945856227106228,
          2.8785739723239736,
          2.879527879527878,
          2.8540267602767613,
          2.9367623117623105,
          2.887795075295075,
          2.9242343304843312,
          2.9146952584452577,
          2.977144383394382,
          2.862993487993487,
          2.9486543549043542,
          2.9227080789580775,
          2.855362230362229,
          2.96709656084656,
          2.914059320309319,
          2.8835342897842895,
          2.9781618844118847,
          2.8753306878306883,
          2.950498575498575,
          2.862866300366303,
          2.8923102360602364,
          2.9640440577940566,
          2.94191341066341,
          2.9046474358974357,
          2.8771749084249083,
          2.877174908424907,
          2.9391788766788776,
          2.9646164021164014,
          2.8860780423280445,
          2.98159595034595,
          2.9270324582824574,
          2.8704975579975582,
          2.940641534391535,
          2.9479548229548236,
          2.8997507122507127,
          2.946682946682946,
          2.874821937321937,
          2.9485907610907596,
          2.88302553927554,
          2.9318019943019937,
          2.9019764957264957,
          2.889130545380546,
          2.9586385836385847,
          2.9205458892958895,
          2.916984635734636,
          2.896189458689458,
          2.972374847374848,
          2.941722629222627,
          2.9583842083842096,
          2.9005774318274327,
          2.906873219373221,
          2.9715481277981297,
          2.9386701261701274,
          2.908844627594627,
          2.889003357753358,
          2.9080815018315023,
          2.9985754985754993,
          2.9683048433048422,
          2.9080815018315014,
          2.8837886650386637,
          2.9571123321123327,
          2.918765262515263,
          2.9444571632071628,
          2.8679538054538045,
          2.9201007326007336,
          2.9527879527879524,
          2.796347171347172
         ],
         "y0": " ",
         "yaxis": "y"
        }
       ],
       "layout": {
        "boxmode": "group",
        "legend": {
         "tracegroupgap": 0
        },
        "template": {
         "data": {
          "bar": [
           {
            "error_x": {
             "color": "rgb(36,36,36)"
            },
            "error_y": {
             "color": "rgb(36,36,36)"
            },
            "marker": {
             "line": {
              "color": "white",
              "width": 0.5
             }
            },
            "type": "bar"
           }
          ],
          "barpolar": [
           {
            "marker": {
             "line": {
              "color": "white",
              "width": 0.5
             }
            },
            "type": "barpolar"
           }
          ],
          "carpet": [
           {
            "aaxis": {
             "endlinecolor": "rgb(36,36,36)",
             "gridcolor": "white",
             "linecolor": "white",
             "minorgridcolor": "white",
             "startlinecolor": "rgb(36,36,36)"
            },
            "baxis": {
             "endlinecolor": "rgb(36,36,36)",
             "gridcolor": "white",
             "linecolor": "white",
             "minorgridcolor": "white",
             "startlinecolor": "rgb(36,36,36)"
            },
            "type": "carpet"
           }
          ],
          "choropleth": [
           {
            "colorbar": {
             "outlinewidth": 1,
             "tickcolor": "rgb(36,36,36)",
             "ticks": "outside"
            },
            "type": "choropleth"
           }
          ],
          "contour": [
           {
            "colorbar": {
             "outlinewidth": 1,
             "tickcolor": "rgb(36,36,36)",
             "ticks": "outside"
            },
            "colorscale": [
             [
              0,
              "#440154"
             ],
             [
              0.1111111111111111,
              "#482878"
             ],
             [
              0.2222222222222222,
              "#3e4989"
             ],
             [
              0.3333333333333333,
              "#31688e"
             ],
             [
              0.4444444444444444,
              "#26828e"
             ],
             [
              0.5555555555555556,
              "#1f9e89"
             ],
             [
              0.6666666666666666,
              "#35b779"
             ],
             [
              0.7777777777777778,
              "#6ece58"
             ],
             [
              0.8888888888888888,
              "#b5de2b"
             ],
             [
              1,
              "#fde725"
             ]
            ],
            "type": "contour"
           }
          ],
          "contourcarpet": [
           {
            "colorbar": {
             "outlinewidth": 1,
             "tickcolor": "rgb(36,36,36)",
             "ticks": "outside"
            },
            "type": "contourcarpet"
           }
          ],
          "heatmap": [
           {
            "colorbar": {
             "outlinewidth": 1,
             "tickcolor": "rgb(36,36,36)",
             "ticks": "outside"
            },
            "colorscale": [
             [
              0,
              "#440154"
             ],
             [
              0.1111111111111111,
              "#482878"
             ],
             [
              0.2222222222222222,
              "#3e4989"
             ],
             [
              0.3333333333333333,
              "#31688e"
             ],
             [
              0.4444444444444444,
              "#26828e"
             ],
             [
              0.5555555555555556,
              "#1f9e89"
             ],
             [
              0.6666666666666666,
              "#35b779"
             ],
             [
              0.7777777777777778,
              "#6ece58"
             ],
             [
              0.8888888888888888,
              "#b5de2b"
             ],
             [
              1,
              "#fde725"
             ]
            ],
            "type": "heatmap"
           }
          ],
          "heatmapgl": [
           {
            "colorbar": {
             "outlinewidth": 1,
             "tickcolor": "rgb(36,36,36)",
             "ticks": "outside"
            },
            "colorscale": [
             [
              0,
              "#440154"
             ],
             [
              0.1111111111111111,
              "#482878"
             ],
             [
              0.2222222222222222,
              "#3e4989"
             ],
             [
              0.3333333333333333,
              "#31688e"
             ],
             [
              0.4444444444444444,
              "#26828e"
             ],
             [
              0.5555555555555556,
              "#1f9e89"
             ],
             [
              0.6666666666666666,
              "#35b779"
             ],
             [
              0.7777777777777778,
              "#6ece58"
             ],
             [
              0.8888888888888888,
              "#b5de2b"
             ],
             [
              1,
              "#fde725"
             ]
            ],
            "type": "heatmapgl"
           }
          ],
          "histogram": [
           {
            "marker": {
             "line": {
              "color": "white",
              "width": 0.6
             }
            },
            "type": "histogram"
           }
          ],
          "histogram2d": [
           {
            "colorbar": {
             "outlinewidth": 1,
             "tickcolor": "rgb(36,36,36)",
             "ticks": "outside"
            },
            "colorscale": [
             [
              0,
              "#440154"
             ],
             [
              0.1111111111111111,
              "#482878"
             ],
             [
              0.2222222222222222,
              "#3e4989"
             ],
             [
              0.3333333333333333,
              "#31688e"
             ],
             [
              0.4444444444444444,
              "#26828e"
             ],
             [
              0.5555555555555556,
              "#1f9e89"
             ],
             [
              0.6666666666666666,
              "#35b779"
             ],
             [
              0.7777777777777778,
              "#6ece58"
             ],
             [
              0.8888888888888888,
              "#b5de2b"
             ],
             [
              1,
              "#fde725"
             ]
            ],
            "type": "histogram2d"
           }
          ],
          "histogram2dcontour": [
           {
            "colorbar": {
             "outlinewidth": 1,
             "tickcolor": "rgb(36,36,36)",
             "ticks": "outside"
            },
            "colorscale": [
             [
              0,
              "#440154"
             ],
             [
              0.1111111111111111,
              "#482878"
             ],
             [
              0.2222222222222222,
              "#3e4989"
             ],
             [
              0.3333333333333333,
              "#31688e"
             ],
             [
              0.4444444444444444,
              "#26828e"
             ],
             [
              0.5555555555555556,
              "#1f9e89"
             ],
             [
              0.6666666666666666,
              "#35b779"
             ],
             [
              0.7777777777777778,
              "#6ece58"
             ],
             [
              0.8888888888888888,
              "#b5de2b"
             ],
             [
              1,
              "#fde725"
             ]
            ],
            "type": "histogram2dcontour"
           }
          ],
          "mesh3d": [
           {
            "colorbar": {
             "outlinewidth": 1,
             "tickcolor": "rgb(36,36,36)",
             "ticks": "outside"
            },
            "type": "mesh3d"
           }
          ],
          "parcoords": [
           {
            "line": {
             "colorbar": {
              "outlinewidth": 1,
              "tickcolor": "rgb(36,36,36)",
              "ticks": "outside"
             }
            },
            "type": "parcoords"
           }
          ],
          "pie": [
           {
            "automargin": true,
            "type": "pie"
           }
          ],
          "scatter": [
           {
            "marker": {
             "colorbar": {
              "outlinewidth": 1,
              "tickcolor": "rgb(36,36,36)",
              "ticks": "outside"
             }
            },
            "type": "scatter"
           }
          ],
          "scatter3d": [
           {
            "line": {
             "colorbar": {
              "outlinewidth": 1,
              "tickcolor": "rgb(36,36,36)",
              "ticks": "outside"
             }
            },
            "marker": {
             "colorbar": {
              "outlinewidth": 1,
              "tickcolor": "rgb(36,36,36)",
              "ticks": "outside"
             }
            },
            "type": "scatter3d"
           }
          ],
          "scattercarpet": [
           {
            "marker": {
             "colorbar": {
              "outlinewidth": 1,
              "tickcolor": "rgb(36,36,36)",
              "ticks": "outside"
             }
            },
            "type": "scattercarpet"
           }
          ],
          "scattergeo": [
           {
            "marker": {
             "colorbar": {
              "outlinewidth": 1,
              "tickcolor": "rgb(36,36,36)",
              "ticks": "outside"
             }
            },
            "type": "scattergeo"
           }
          ],
          "scattergl": [
           {
            "marker": {
             "colorbar": {
              "outlinewidth": 1,
              "tickcolor": "rgb(36,36,36)",
              "ticks": "outside"
             }
            },
            "type": "scattergl"
           }
          ],
          "scattermapbox": [
           {
            "marker": {
             "colorbar": {
              "outlinewidth": 1,
              "tickcolor": "rgb(36,36,36)",
              "ticks": "outside"
             }
            },
            "type": "scattermapbox"
           }
          ],
          "scatterpolar": [
           {
            "marker": {
             "colorbar": {
              "outlinewidth": 1,
              "tickcolor": "rgb(36,36,36)",
              "ticks": "outside"
             }
            },
            "type": "scatterpolar"
           }
          ],
          "scatterpolargl": [
           {
            "marker": {
             "colorbar": {
              "outlinewidth": 1,
              "tickcolor": "rgb(36,36,36)",
              "ticks": "outside"
             }
            },
            "type": "scatterpolargl"
           }
          ],
          "scatterternary": [
           {
            "marker": {
             "colorbar": {
              "outlinewidth": 1,
              "tickcolor": "rgb(36,36,36)",
              "ticks": "outside"
             }
            },
            "type": "scatterternary"
           }
          ],
          "surface": [
           {
            "colorbar": {
             "outlinewidth": 1,
             "tickcolor": "rgb(36,36,36)",
             "ticks": "outside"
            },
            "colorscale": [
             [
              0,
              "#440154"
             ],
             [
              0.1111111111111111,
              "#482878"
             ],
             [
              0.2222222222222222,
              "#3e4989"
             ],
             [
              0.3333333333333333,
              "#31688e"
             ],
             [
              0.4444444444444444,
              "#26828e"
             ],
             [
              0.5555555555555556,
              "#1f9e89"
             ],
             [
              0.6666666666666666,
              "#35b779"
             ],
             [
              0.7777777777777778,
              "#6ece58"
             ],
             [
              0.8888888888888888,
              "#b5de2b"
             ],
             [
              1,
              "#fde725"
             ]
            ],
            "type": "surface"
           }
          ],
          "table": [
           {
            "cells": {
             "fill": {
              "color": "rgb(237,237,237)"
             },
             "line": {
              "color": "white"
             }
            },
            "header": {
             "fill": {
              "color": "rgb(217,217,217)"
             },
             "line": {
              "color": "white"
             }
            },
            "type": "table"
           }
          ]
         },
         "layout": {
          "annotationdefaults": {
           "arrowhead": 0,
           "arrowwidth": 1
          },
          "coloraxis": {
           "colorbar": {
            "outlinewidth": 1,
            "tickcolor": "rgb(36,36,36)",
            "ticks": "outside"
           }
          },
          "colorscale": {
           "diverging": [
            [
             0,
             "rgb(103,0,31)"
            ],
            [
             0.1,
             "rgb(178,24,43)"
            ],
            [
             0.2,
             "rgb(214,96,77)"
            ],
            [
             0.3,
             "rgb(244,165,130)"
            ],
            [
             0.4,
             "rgb(253,219,199)"
            ],
            [
             0.5,
             "rgb(247,247,247)"
            ],
            [
             0.6,
             "rgb(209,229,240)"
            ],
            [
             0.7,
             "rgb(146,197,222)"
            ],
            [
             0.8,
             "rgb(67,147,195)"
            ],
            [
             0.9,
             "rgb(33,102,172)"
            ],
            [
             1,
             "rgb(5,48,97)"
            ]
           ],
           "sequential": [
            [
             0,
             "#440154"
            ],
            [
             0.1111111111111111,
             "#482878"
            ],
            [
             0.2222222222222222,
             "#3e4989"
            ],
            [
             0.3333333333333333,
             "#31688e"
            ],
            [
             0.4444444444444444,
             "#26828e"
            ],
            [
             0.5555555555555556,
             "#1f9e89"
            ],
            [
             0.6666666666666666,
             "#35b779"
            ],
            [
             0.7777777777777778,
             "#6ece58"
            ],
            [
             0.8888888888888888,
             "#b5de2b"
            ],
            [
             1,
             "#fde725"
            ]
           ],
           "sequentialminus": [
            [
             0,
             "#440154"
            ],
            [
             0.1111111111111111,
             "#482878"
            ],
            [
             0.2222222222222222,
             "#3e4989"
            ],
            [
             0.3333333333333333,
             "#31688e"
            ],
            [
             0.4444444444444444,
             "#26828e"
            ],
            [
             0.5555555555555556,
             "#1f9e89"
            ],
            [
             0.6666666666666666,
             "#35b779"
            ],
            [
             0.7777777777777778,
             "#6ece58"
            ],
            [
             0.8888888888888888,
             "#b5de2b"
            ],
            [
             1,
             "#fde725"
            ]
           ]
          },
          "colorway": [
           "#1F77B4",
           "#FF7F0E",
           "#2CA02C",
           "#D62728",
           "#9467BD",
           "#8C564B",
           "#E377C2",
           "#7F7F7F",
           "#BCBD22",
           "#17BECF"
          ],
          "font": {
           "color": "rgb(36,36,36)"
          },
          "geo": {
           "bgcolor": "white",
           "lakecolor": "white",
           "landcolor": "white",
           "showlakes": true,
           "showland": true,
           "subunitcolor": "white"
          },
          "hoverlabel": {
           "align": "left"
          },
          "hovermode": "closest",
          "mapbox": {
           "style": "light"
          },
          "paper_bgcolor": "white",
          "plot_bgcolor": "white",
          "polar": {
           "angularaxis": {
            "gridcolor": "rgb(232,232,232)",
            "linecolor": "rgb(36,36,36)",
            "showgrid": false,
            "showline": true,
            "ticks": "outside"
           },
           "bgcolor": "white",
           "radialaxis": {
            "gridcolor": "rgb(232,232,232)",
            "linecolor": "rgb(36,36,36)",
            "showgrid": false,
            "showline": true,
            "ticks": "outside"
           }
          },
          "scene": {
           "xaxis": {
            "backgroundcolor": "white",
            "gridcolor": "rgb(232,232,232)",
            "gridwidth": 2,
            "linecolor": "rgb(36,36,36)",
            "showbackground": true,
            "showgrid": false,
            "showline": true,
            "ticks": "outside",
            "zeroline": false,
            "zerolinecolor": "rgb(36,36,36)"
           },
           "yaxis": {
            "backgroundcolor": "white",
            "gridcolor": "rgb(232,232,232)",
            "gridwidth": 2,
            "linecolor": "rgb(36,36,36)",
            "showbackground": true,
            "showgrid": false,
            "showline": true,
            "ticks": "outside",
            "zeroline": false,
            "zerolinecolor": "rgb(36,36,36)"
           },
           "zaxis": {
            "backgroundcolor": "white",
            "gridcolor": "rgb(232,232,232)",
            "gridwidth": 2,
            "linecolor": "rgb(36,36,36)",
            "showbackground": true,
            "showgrid": false,
            "showline": true,
            "ticks": "outside",
            "zeroline": false,
            "zerolinecolor": "rgb(36,36,36)"
           }
          },
          "shapedefaults": {
           "fillcolor": "black",
           "line": {
            "width": 0
           },
           "opacity": 0.3
          },
          "ternary": {
           "aaxis": {
            "gridcolor": "rgb(232,232,232)",
            "linecolor": "rgb(36,36,36)",
            "showgrid": false,
            "showline": true,
            "ticks": "outside"
           },
           "baxis": {
            "gridcolor": "rgb(232,232,232)",
            "linecolor": "rgb(36,36,36)",
            "showgrid": false,
            "showline": true,
            "ticks": "outside"
           },
           "bgcolor": "white",
           "caxis": {
            "gridcolor": "rgb(232,232,232)",
            "linecolor": "rgb(36,36,36)",
            "showgrid": false,
            "showline": true,
            "ticks": "outside"
           }
          },
          "title": {
           "x": 0.05
          },
          "xaxis": {
           "automargin": true,
           "gridcolor": "rgb(232,232,232)",
           "linecolor": "rgb(36,36,36)",
           "showgrid": false,
           "showline": true,
           "ticks": "outside",
           "title": {
            "standoff": 15
           },
           "zeroline": false,
           "zerolinecolor": "rgb(36,36,36)"
          },
          "yaxis": {
           "automargin": true,
           "gridcolor": "rgb(232,232,232)",
           "linecolor": "rgb(36,36,36)",
           "showgrid": false,
           "showline": true,
           "ticks": "outside",
           "title": {
            "standoff": 15
           },
           "zeroline": false,
           "zerolinecolor": "rgb(36,36,36)"
          }
         }
        },
        "title": {
         "text": "InletPressure g-pump-6 for all weeks "
        },
        "xaxis": {
         "anchor": "y",
         "domain": [
          0,
          1
         ],
         "title": {
          "text": "week"
         },
         "type": "category"
        },
        "yaxis": {
         "anchor": "x",
         "domain": [
          0,
          1
         ],
         "title": {
          "text": "feature_value"
         }
        }
       }
      },
      "text/html": [
       "<div>\n",
       "        \n",
       "        \n",
       "            <div id=\"9ebe3e3c-0413-4d03-8070-77709d654ff8\" class=\"plotly-graph-div\" style=\"height:525px; width:100%;\"></div>\n",
       "            <script type=\"text/javascript\">\n",
       "                require([\"plotly\"], function(Plotly) {\n",
       "                    window.PLOTLYENV=window.PLOTLYENV || {};\n",
       "                    \n",
       "                if (document.getElementById(\"9ebe3e3c-0413-4d03-8070-77709d654ff8\")) {\n",
       "                    Plotly.newPlot(\n",
       "                        '9ebe3e3c-0413-4d03-8070-77709d654ff8',\n",
       "                        [{\"alignmentgroup\": \"True\", \"hoverlabel\": {\"namelength\": 0}, \"hovertemplate\": \"week=%{x}<br>feature_value=%{y}\", \"legendgroup\": \"\", \"marker\": {\"color\": \"#1F77B4\"}, \"name\": \"\", \"notched\": false, \"offsetgroup\": \"\", \"orientation\": \"v\", \"showlegend\": false, \"type\": \"box\", \"x\": [47, 47, 47, 47, 47, 47, 47, 47, 47, 47, 47, 47, 47, 47, 47, 47, 47, 47, 47, 47, 47, 47, 47, 47, 47, 47, 47, 47, 47, 47, 47, 47, 47, 47, 47, 47, 47, 47, 47, 47, 47, 47, 47, 47, 47, 47, 47, 47, 47, 47, 47, 47, 47, 47, 47, 47, 47, 47, 47, 47, 47, 47, 47, 47, 47, 47, 47, 47, 47, 47, 47, 47, 47, 47, 47, 47, 47, 47, 47, 47, 47, 47, 47, 47, 47, 47, 47, 47, 47, 47, 47, 47, 47, 47, 47, 47, 47, 47, 47, 47, 47, 47, 47, 47, 47, 47, 47, 48, 48, 48, 48, 48, 48, 48, 48, 48, 48, 48, 48, 48, 48, 48, 48, 48, 48, 48, 48, 48, 48, 48, 48, 48, 48, 48, 48, 48, 48, 48, 48, 48, 48, 48, 48, 48, 48, 48, 48, 48, 48, 48, 48, 48, 48, 48, 48, 48, 48, 48, 48, 48, 48, 48, 48, 48, 48, 48, 48, 48, 48, 48, 48, 48, 48, 48, 48, 48, 48, 48, 48, 48, 48, 48, 48, 48, 48, 48, 48, 48, 48, 48, 48, 48, 48, 48, 48, 48, 48, 48, 48, 48, 48, 48, 48, 48, 48, 48, 48, 48, 48, 48, 48, 48, 48, 48, 48, 48, 48, 48, 48, 48, 48, 48, 48, 48, 48, 48, 48, 48, 48, 48, 48, 48, 48, 48, 48, 48, 48, 48, 48, 48, 48, 48, 48, 48, 48, 48, 48, 48, 48, 48, 48, 48, 48, 48, 48, 48, 48, 48, 48, 48, 48, 48, 48, 48, 48, 48, 48, 48, 48, 48, 48, 48, 48, 49, 49, 49, 49, 49, 49, 49, 49, 49, 49, 49, 49, 49, 49, 49, 49, 49, 49, 49, 49, 49, 49, 49, 49, 49, 49, 49, 49, 49, 50, 50, 50, 50, 50, 50, 50, 50, 50, 50, 50, 50, 50, 50, 50, 50, 50, 50, 50, 50, 50, 50, 50, 50, 50, 50, 50, 50, 50, 50, 50, 51, 51, 51, 51, 51, 51, 51, 51, 51, 51, 51, 51, 51, 51, 51, 51, 51, 51, 51, 51, 51, 51, 51, 51, 51, 51, 51, 51, 51, 51, 51, 51, 51, 51, 51, 51, 51, 51, 51, 51, 51, 51, 51, 51, 51, 51, 51, 51, 51, 51, 51, 51, 51, 51, 51, 51, 51, 51, 51, 51, 51, 51, 51, 51, 51, 51, 51, 51, 51, 51, 51, 51, 51, 51, 51, 51, 51, 51, 51, 51, 51, 51, 51, 51, 51, 51, 51, 51, 51, 51, 51, 51, 51, 51, 51, 51, 51, 51, 51, 51, 51, 51, 51, 51, 51, 51, 51, 51, 51, 51, 51, 51, 51, 51, 51, 51, 51, 51, 51, 51, 51, 51, 51, 51, 51, 51, 51, 51, 51, 51, 51, 51, 51, 51, 51, 51, 51, 51, 51, 51, 51, 51, 51, 51, 51, 51, 51, 51, 52, 52, 52, 52, 52, 52, 52, 52, 52, 52, 52, 52, 52, 52, 52, 52, 52, 52, 52, 52, 52, 52, 52, 52, 52, 52, 52, 52, 52, 52, 52, 52, 52, 52, 52, 52, 52, 52, 52, 52, 52, 52, 52, 52, 52, 52, 52, 52, 52, 52, 52, 52, 52, 52, 52, 52, 52, 52, 52, 52, 52, 52, 52, 52, 52, 52, 52, 52, 52, 52, 52, 52, 52, 52, 52, 52, 52, 52, 52, 52, 52, 52, 52, 52, 52, 52, 52, 52, 52, 52, 52, 52, 52, 52, 52, 52, 52, 52, 52, 52, 52, 52, 52, 52, 52, 52, 52, 52, 52, 52, 52, 52, 52, 52, 52, 52, 52, 52, 52, 52, 52, 52, 52, 52, 52, 52, 52, 52, 52, 52, 52, 52, 52, 52, 52, 52, 52, 52, 52, 52, 52, 52, 52, 52, 52, 52, 52, 52, 52, 52, 52, 52, 52, 52, 52, 52, 52, 52, 52, 52, 52, 52, 52, 52, 52, 1, 1, 1, 1, 1, 1, 1, 1, 1, 1, 1, 1, 1, 1, 1, 1, 1, 1, 1, 1, 1, 1, 1, 1, 1, 1, 1, 1, 1, 1, 1, 1, 1, 1, 1, 1, 1, 1, 1, 1, 1, 1, 1, 1, 1, 1, 1, 1, 1, 1, 1, 1, 1, 1, 1, 1, 1, 1, 1, 1, 1, 1, 1, 1, 1, 1, 1, 1, 1, 1, 1, 1, 1, 1, 1, 1, 1, 1, 1, 1, 1, 1, 1, 1, 1, 1, 1, 1, 1, 1, 1, 1, 1, 1, 1, 1, 1, 1, 1, 1, 1, 1, 1, 1, 1, 1, 1, 1, 1, 1, 1, 1, 1, 1, 1, 1, 1, 1, 1, 1, 1, 1, 1, 1, 1, 1, 1, 1, 1, 1, 1, 1, 1, 1, 1, 1, 1, 1, 1, 1, 1, 1, 1, 1, 1, 1, 1, 1, 1, 1, 1, 1, 1, 1, 1, 1, 1, 1, 1, 1, 1, 1, 1, 1, 1, 1, 1, 1, 2, 2, 2, 2, 2, 2, 2, 2, 2, 2, 2, 2, 2, 2, 2, 2, 2], \"x0\": \" \", \"xaxis\": \"x\", \"y\": [2.8266521693167608, 2.8626155458066527, 2.9121110371110386, 2.8635658323158313, 2.7992724867724874, 2.8428342490842495, 2.8549170736670724, 2.908145095645096, 2.8711334961334973, 2.8055046805046797, 2.790496540496541, 2.8079212454212445, 2.863947395197396, 2.833740333740334, 2.8279532967032956, 2.7952024827024835, 2.848239723239722, 2.8555530118030124, 2.9114519739519733, 2.878955535205536, 2.823565323565324, 2.868462555962557, 2.898054877221544, 2.8229929792429793, 2.8336131461131466, 2.7996540496540496, 2.8008623321123314, 2.8883674196174183, 2.8235653235653246, 2.821593915343913, 2.8687169312169307, 2.778286528286529, 2.84518722018722, 2.812627187627186, 2.816506410256411, 2.844360500610501, 2.81396265771266, 2.8030881155881158, 2.862039580789579, 2.8006079568579563, 2.822611416361413, 2.807094525844525, 2.8528820716320733, 2.7788588726088714, 2.7878256003256006, 2.839972527472528, 2.8475401912901908, 2.8180326617826625, 2.8279532967032956, 2.907000407000405, 2.8099562474562476, 2.862929894179892, 2.801243894993895, 2.8381919006919, 2.850020350020347, 2.844042531542531, 2.7993996743996745, 2.8495115995115996, 2.848939255189254, 2.8067129629629632, 2.837428774928773, 2.8177782865282848, 2.8345670533170524, 2.7879527879527886, 2.8057590557590566, 2.795393264143265, 2.7878256003255992, 2.845568783068782, 2.777141839641839, 2.849511599511598, 2.8161884411884404, 2.7945029507529493, 2.8228021978021984, 2.82051282051282, 2.871705840455841, 2.817969067969066, 2.837110805860806, 2.821911884411884, 2.8350122100122106, 2.8519917582417578, 2.825663919413918, 2.883534289784288, 2.8144078144078133, 2.7868716931216913, 2.8430886243386237, 2.8023249898249882, 2.843724562474563, 2.8498295685795667, 2.8418167480667478, 2.8635022385022384, 2.9103708791208778, 2.82719017094017, 2.798191391941391, 2.7862993487993495, 2.8367292429792434, 2.8729777167277173, 2.8090023402523414, 2.8726597476597466, 2.8724053724053724, 2.8350758038258017, 2.8077304639804623, 2.8754578754578755, 2.8409264346764345, 2.8387642450142443, 2.8705611518111502, 2.8051867114367113, 2.8499567562067543, 2.808620777370777, 2.829415954415955, 2.829670329670328, 2.930275742775743, 2.824201261701262, 2.781720594220594, 2.8679538054538054, 2.818795787545788, 2.814153439153438, 2.8439789377289366, 2.842643467643468, 2.8390822140822145, 2.854917073667073, 2.8782560032560025, 2.8053774928774913, 2.8206400081400074, 2.7731354293854307, 2.839845339845341, 2.8150437525437524, 2.9040114977614984, 2.809002340252341, 2.826299857549857, 2.8610220797720802, 2.8199404761904767, 2.8556801994302, 2.8954263329263337, 2.815616096866098, 2.857142857142858, 2.796792328042327, 2.7875076312576303, 2.8202584452584443, 2.855934574684575, 2.7971102971102995, 2.7992724867724874, 2.8437881562881575, 2.8451872201872184, 2.9152040089540088, 2.8957443019943017, 2.8498295685795685, 2.822102665852666, 2.893772893772894, 2.8462047212047197, 2.8863960113960108, 2.9120879120879124, 2.880291005291006, 2.807921245421245, 2.8930097680097666, 2.800671550671549, 2.8140262515262524, 2.9064916564916565, 2.8498295685795694, 2.9263329263329254, 2.8635022385022384, 2.8583511396011385, 2.8030245217745224, 2.8551078551078546, 2.7808938746438727, 2.8354573667073653, 2.849384411884413, 2.848176129426129, 2.834312678062679, 2.858859890109889, 2.8098290598290596, 2.842707061457062, 2.875585063085062, 2.822675010175008, 2.8132631257631258, 2.8382554945054945, 2.862484737484737, 2.806140618640619, 2.8381283068783074, 2.783374033374033, 2.845568783068782, 2.829352360602359, 2.7873804436304432, 2.8640745828245815, 2.8359025234025226, 2.7927859177859187, 2.8147893772893773, 2.841753154253153, 2.8105921855921854, 2.8809905372405367, 2.810973748473749, 2.8313873626373627, 2.8537723850223866, 2.894599613349614, 2.8429614367114358, 2.803342490842491, 2.921944953194952, 2.8300518925518925, 2.889575702075702, 2.9512617012617017, 2.763087606837608, 2.8513558201058196, 2.8528820716320715, 2.863184269434269, 2.7662672975172975, 2.827953296703296, 2.8269993894993912, 2.7941849816849804, 2.8049323361823357, 2.803278897028896, 2.859940984940985, 2.8456959706959712, 2.752213064713065, 2.8989239926739927, 2.827889702889703, 2.7480794668294677, 2.8116732804232814, 2.792595136345137, 2.8180962555962563, 2.7652497964997966, 2.8420711233211233, 2.8019434269434274, 2.806204212454212, 2.8689713064713067, 2.8949811762311763, 2.840735653235653, 2.873232091982091, 2.790750915750916, 2.7585724460724452, 2.8126907814407804, 2.804042022792023, 2.7892246642246636, 2.8066493691493677, 2.8067129629629632, 2.871960215710216, 2.8280168905168903, 2.781275437525437, 2.8476037851037845, 2.8661095848595832, 2.8698616198616196, 2.801243894993894, 2.801434676434676, 2.8399725274725274, 2.861912393162392, 2.8519917582417573, 2.810274216524215, 2.8149165649165666, 2.7987001424501408, 2.8847425722425712, 2.872405372405373, 2.8291361416361416, 2.8240104802604793, 2.818223443223442, 2.786553724053722, 2.7759971509971506, 2.804995929995931, 2.8424526862026855, 2.8075396825396823, 2.7721815221815214, 2.861530830280829, 2.8504019129019116, 2.85002035002035, 2.850211131461131, 2.8254095441595433, 2.822738603988603, 2.8656644281644272, 2.7728174603174605, 2.864392551892552, 2.8013710826210834, 2.8136446886446884, 2.760543854293856, 2.8302426739926747, 2.8105921855921863, 2.7781593406593394, 2.8447420634920637, 2.8038512413512415, 2.8444876882376877, 2.834439865689864, 2.79482091982092, 2.839718152218151, 2.894853988603989, 2.858287545787547, 2.8437245624745615, 2.796039801248133, 2.7884615384615365, 2.8208943833943825, 2.8589234839234847, 2.8602589540089536, 2.8675086487586494, 2.8331679894179893, 2.935045278795279, 2.9075091575091583, 2.7776505901505892, 2.884933353683353, 2.8280168905168903, 2.867763024013024, 2.8418803418803407, 2.867635836385835, 2.8276989214489223, 2.859432234432235, 2.79901811151811, 2.8746311558811564, 2.874313186813186, 2.827228327228326, 2.895299145299146, 2.963026556776559, 2.9021672771672766, 2.955140923890923, 2.9698946886446893, 2.9760632885632883, 2.980514855514856, 2.869988807488808, 2.9058557183557183, 2.9038843101343104, 2.9581934269434265, 2.9134869759869755, 2.9932972120472123, 2.93205636955637, 2.9047110297110286, 2.888876170126169, 2.98477564102564, 2.9161579161579163, 2.9452202889702903, 2.924997456247455, 2.908335877085877, 2.9216905779405784, 2.927159645909646, 2.966842185592185, 2.9289402726902725, 2.8930733618233617, 2.988018925518926, 2.8963166463166456, 2.9884640822140813, 3.0236950549450547, 2.953105921855922, 2.9261421448921454, 2.9557132682132683, 2.927986365486365, 2.9398148148148144, 2.9567307692307687, 2.93122964997965, 2.883788665038665, 2.875076312576312, 2.8561253561253577, 2.942485754985755, 2.9363171550671563, 2.933391839641839, 2.900132275132274, 2.8884946072446085, 2.8857600732600712, 2.8298611111111107, 2.92124542124542, 2.8388278388278394, 2.815806878306877, 2.893645706145705, 2.902866809116808, 2.8887489824989827, 2.8553622303622297, 2.874885531135531, 2.8626119251119246, 2.8687805250305263, 2.860958485958488, 2.806776556776556, 2.8387006512006505, 2.8360933048433044, 2.8617216117216113, 2.8695436507936507, 2.842961436711437, 2.865473646723648, 2.8514830077330076, 2.8567612942612945, 2.8513558201058196, 2.8646469271469264, 2.816252035002035, 2.907699938949938, 2.804868742368743, 2.8650920838420824, 2.8626755189255175, 2.8932005494505475, 2.8169515669515675, 2.9952686202686194, 2.880354599104599, 3.0235042735042725, 2.9358084045584047, 2.954504985754985, 2.926269332519331, 2.962835775335775, 2.9183201058201043, 2.9653795278795285, 2.954314204314203, 2.963026556776558, 2.973074379324378, 2.9753637566137545, 2.965188746438745, 2.9744098494098483, 2.895426332926333, 2.918701668701669, 2.9649343711843703, 2.9832493894993894, 3.000992063492062, 2.934472934472933, 2.9538690476190492, 2.952469983719984, 2.9692587505087507, 3.024648962148962, 3.0063975376475374, 2.8774928774928785, 2.8121820309320307, 2.8813721001220984, 2.8561889499389506, 2.8761574074074097, 2.8563161375661372, 2.910180097680097, 2.85402676027676, 2.8734228734228733, 2.974409849409851, 2.8314509564509556, 2.873613654863655, 2.8939000814000813, 2.8980972730972714, 2.838955026455025, 2.8964438339438345, 2.899369149369148, 2.8732956857956853, 2.9103072853072853, 2.86636396011396, 2.881690069190069, 2.8735500610500595, 2.8192409442409434, 2.9486543549043542, 2.9754909442409443, 2.8608312983312985, 2.8690349002849, 2.8574608262108274, 2.9225172975172975, 2.874631155881156, 2.856952075702077, 2.8893213268213267, 2.88372507122507, 2.8607041107041087, 2.863057081807083, 2.890974765974765, 2.904711029711031, 2.853072853072854, 2.885632885632886, 2.8240740740740744, 2.896761803011804, 2.831005799755802, 2.86172161172161, 2.8491300366300365, 2.8361568986568977, 2.9386701261701265, 2.8522461334961307, 2.8813085063085055, 2.8462047212047223, 2.9599104599104575, 2.837428774928776, 2.8308786121286134, 2.881944444444444, 2.8961258648758648, 2.8401633089133083, 2.843851750101752, 2.8476673789173788, 2.8383190883190887, 2.842198310948312, 2.896316646316645, 2.865918803418803, 2.861085673585673, 2.8439789377289375, 2.873232091982091, 2.844360500610501, 2.8427706552706553, 2.874821937321936, 2.9222629222629215, 2.9240435490435495, 2.8734228734228715, 2.9615003052503055, 2.8990511803011785, 2.867190679690681, 2.891992266992266, 2.867190679690678, 2.875712250712251, 2.8954899267399257, 2.913614163614165, 2.826363451363452, 2.8732956857956844, 2.8999414936914945, 2.860767704517704, 2.827762515262515, 2.9066824379324374, 2.8735500610500595, 2.9022944647944637, 2.970530626780627, 2.9211182336182335, 2.9399420024420024, 2.9253790191290165, 2.8885582010581996, 2.9146952584452595, 2.890911172161171, 2.8930097680097675, 2.8873499185999187, 2.8794006919006923, 2.8381919006919003, 2.897779304029303, 2.853899572649574, 2.8507834757834747, 2.800671550671551, 2.898478835978835, 2.878383190883191, 2.886777574277573, 2.775234025234024, 2.8794642857142847, 2.910816035816035, 2.9011497761497753, 2.8400997150997145, 2.8240104802604797, 2.8793370980870985, 2.8526276963776955, 2.821530321530322, 2.8765389702889714, 2.8924374236874244, 2.8514830077330084, 2.872468966218966, 2.8802910052910047, 2.923789173789173, 2.9522792022792026, 2.895426332926333, 2.8900844525844516, 2.870624745624745, 2.886396011396012, 2.820131257631257, 2.887858669108669, 2.9276048026048023, 2.867826617826619, 2.8488756613756614, 2.8699252136752134, 2.878319597069597, 2.847222222222222, 2.8643925518925513, 2.8497659747659747, 2.9294490231990213, 2.9318019943019937, 2.9104344729344738, 2.891419922669923, 2.8512286324786342, 2.92576058201058, 2.8774928774928763, 2.8486848799348805, 2.887095543345543, 2.919846357346357, 2.8907839845339853, 2.9067460317460316, 2.8989239926739923, 2.935426841676842, 2.935236060236058, 2.872532560032561, 2.8657916157916152, 2.926905270655269, 2.9116427553927555, 2.8538995726495724, 2.865855209605209, 2.859940984940985, 2.9233440170940157, 2.921054639804639, 2.867763024013025, 2.911579161579161, 2.9129782254782257, 2.823883292633292, 2.9064280626780623, 2.889321326821325, 2.8521189458689467, 2.91456807081807, 2.910498066748067, 2.841371591371592, 2.9134233821733826, 2.892501017501018, 2.875712250712251, 2.9036299348799357, 2.93154761904762, 2.8890033577533587, 2.9163486975986976, 2.9129146316646306, 2.8567612942612928, 2.9445843508343508, 2.8845517908017904, 2.8566341066341057, 2.885632885632886, 2.9085266585266596, 2.9239799552299535, 2.8812449124949127, 2.82451923076923, 2.8715786528286533, 2.9422949735449744, 2.9385429385429376, 2.83965455840456, 2.9792429792429798, 2.895744301994302, 2.843088624338625, 2.850974257224257, 2.8027701465201447, 2.906046499796499, 2.872468966218966, 2.9139321326821315, 2.8371743996744008, 2.867763024013023, 2.86521927146927, 2.7939942002442, 2.8734228734228733, 2.802261396011397, 2.8454415954415944, 2.833803927553928, 2.967859686609687, 2.863502238502239, 2.835139397639398, 2.916221509971509, 2.9145044770044746, 2.825600325600325, 2.8841066341066344, 2.832532051282051, 2.9608643671143677, 2.9404507529507526, 2.8070945258445246, 2.865791615791616, 2.8361568986568977, 2.8813721001220998, 2.868844118844119, 2.920355107855109, 2.902358058608059, 2.8563161375661377, 2.8900844525844533, 2.896825396825397, 2.8669363044363045, 2.895235551485552, 2.863883801383802, 2.857270044770045, 2.8892577330077334, 2.814916564916564, 2.9052197802197797, 2.847985347985349, 2.8690984940984943, 2.865600834350834, 2.8832163207163206, 2.872532560032561, 2.8722145909645924, 2.8982244607244607, 2.8782560032560034, 2.841117216117215, 2.8712606837606836, 2.928240740740742, 2.9263965201465214, 2.9250610500610486, 2.8881130443630454, 2.7551383801383817, 2.8383190883190874, 2.918574481074483, 2.82750814000814, 2.8483669108669107, 2.887604293854293, 2.9315476190476186, 2.838001119251118, 2.9649343711843703, 3.020769739519738, 2.9915801790801795, 2.867826617826617, 2.910879629629628, 2.943376068376068, 2.850592694342693, 2.8966982091982083, 2.8763481888481874, 2.8654736467236472, 2.7621336996337003, 2.9342821530321523, 2.87971866096866, 2.912660256410256, 2.9185744810744816, 2.840544871794872, 2.8437245624745624, 2.8431522181522166, 2.940005596255595, 2.800989519739519, 2.830369861619861, 2.8596230158730163, 2.902167277167276, 2.9461106023606014, 2.941404660154659, 2.939687627187627, 2.9403871591371598, 2.864265364265364, 2.971738909238909, 2.960673585673586, 2.955204517704518, 2.971357346357346, 2.9860475172975183, 2.9194647944647927, 2.934854497354497, 2.958320614570615, 2.8861416361416357, 2.9616274928774913, 2.9338369963369964, 2.901531339031339, 2.89771571021571, 2.9304665242165253, 2.880545380545381, 2.8896392958892965, 2.862802706552707, 2.977080789580788, 2.9398148148148144, 2.879146316646317, 2.8739316239316235, 2.936571530321531, 2.87469474969475, 2.892946174196174, 2.895617114367115, 2.897842897842897, 2.8790191290191296, 2.901785714285714, 2.890402421652423, 2.874058811558813, 2.9101800976800978, 2.869162087912089, 2.917874949124949, 2.9583842083842082, 2.875648656898657, 2.925124643874643, 2.9492902930402933, 2.9778439153439162, 2.8869683557183543, 2.8847425722425712, 2.9763176638176634, 2.9311660561660555, 2.966333435083435, 2.9278591778591774, 2.8848697598697597, 2.9970492470492474, 2.965061558811558, 2.881117724867724, 2.876602564102564, 2.913486975986976, 2.86833536833537, 2.885887260887261, 2.936889499389498, 2.8901480463980476, 2.886777574277574, 2.8573972323972328, 2.899814306064307, 2.8898300773300782, 2.909289784289783, 2.9097985347985342, 2.923534798534799, 2.929003866503867, 2.9461106023606027, 2.9110068172568186, 2.923916361416362, 2.978034696784697, 2.950625763125762, 2.922135734635733, 2.891547110297109, 2.806585775335775, 2.8933913308913315, 2.881435693935693, 2.8653464590964592, 2.9148224460724457, 2.95774827024827, 2.890466015466018, 2.932437932437932, 2.945856227106228, 2.8785739723239736, 2.879527879527878, 2.8540267602767613, 2.9367623117623105, 2.887795075295075, 2.9242343304843312, 2.9146952584452577, 2.977144383394382, 2.862993487993487, 2.9486543549043542, 2.9227080789580775, 2.855362230362229, 2.96709656084656, 2.914059320309319, 2.8835342897842895, 2.9781618844118847, 2.8753306878306883, 2.950498575498575, 2.862866300366303, 2.8923102360602364, 2.9640440577940566, 2.94191341066341, 2.9046474358974357, 2.8771749084249083, 2.877174908424907, 2.9391788766788776, 2.9646164021164014, 2.8860780423280445, 2.98159595034595, 2.9270324582824574, 2.8704975579975582, 2.940641534391535, 2.9479548229548236, 2.8997507122507127, 2.946682946682946, 2.874821937321937, 2.9485907610907596, 2.88302553927554, 2.9318019943019937, 2.9019764957264957, 2.889130545380546, 2.9586385836385847, 2.9205458892958895, 2.916984635734636, 2.896189458689458, 2.972374847374848, 2.941722629222627, 2.9583842083842096, 2.9005774318274327, 2.906873219373221, 2.9715481277981297, 2.9386701261701274, 2.908844627594627, 2.889003357753358, 2.9080815018315023, 2.9985754985754993, 2.9683048433048422, 2.9080815018315014, 2.8837886650386637, 2.9571123321123327, 2.918765262515263, 2.9444571632071628, 2.8679538054538045, 2.9201007326007336, 2.9527879527879524, 2.796347171347172], \"y0\": \" \", \"yaxis\": \"y\"}],\n",
       "                        {\"boxmode\": \"group\", \"legend\": {\"tracegroupgap\": 0}, \"template\": {\"data\": {\"bar\": [{\"error_x\": {\"color\": \"rgb(36,36,36)\"}, \"error_y\": {\"color\": \"rgb(36,36,36)\"}, \"marker\": {\"line\": {\"color\": \"white\", \"width\": 0.5}}, \"type\": \"bar\"}], \"barpolar\": [{\"marker\": {\"line\": {\"color\": \"white\", \"width\": 0.5}}, \"type\": \"barpolar\"}], \"carpet\": [{\"aaxis\": {\"endlinecolor\": \"rgb(36,36,36)\", \"gridcolor\": \"white\", \"linecolor\": \"white\", \"minorgridcolor\": \"white\", \"startlinecolor\": \"rgb(36,36,36)\"}, \"baxis\": {\"endlinecolor\": \"rgb(36,36,36)\", \"gridcolor\": \"white\", \"linecolor\": \"white\", \"minorgridcolor\": \"white\", \"startlinecolor\": \"rgb(36,36,36)\"}, \"type\": \"carpet\"}], \"choropleth\": [{\"colorbar\": {\"outlinewidth\": 1, \"tickcolor\": \"rgb(36,36,36)\", \"ticks\": \"outside\"}, \"type\": \"choropleth\"}], \"contour\": [{\"colorbar\": {\"outlinewidth\": 1, \"tickcolor\": \"rgb(36,36,36)\", \"ticks\": \"outside\"}, \"colorscale\": [[0.0, \"#440154\"], [0.1111111111111111, \"#482878\"], [0.2222222222222222, \"#3e4989\"], [0.3333333333333333, \"#31688e\"], [0.4444444444444444, \"#26828e\"], [0.5555555555555556, \"#1f9e89\"], [0.6666666666666666, \"#35b779\"], [0.7777777777777778, \"#6ece58\"], [0.8888888888888888, \"#b5de2b\"], [1.0, \"#fde725\"]], \"type\": \"contour\"}], \"contourcarpet\": [{\"colorbar\": {\"outlinewidth\": 1, \"tickcolor\": \"rgb(36,36,36)\", \"ticks\": \"outside\"}, \"type\": \"contourcarpet\"}], \"heatmap\": [{\"colorbar\": {\"outlinewidth\": 1, \"tickcolor\": \"rgb(36,36,36)\", \"ticks\": \"outside\"}, \"colorscale\": [[0.0, \"#440154\"], [0.1111111111111111, \"#482878\"], [0.2222222222222222, \"#3e4989\"], [0.3333333333333333, \"#31688e\"], [0.4444444444444444, \"#26828e\"], [0.5555555555555556, \"#1f9e89\"], [0.6666666666666666, \"#35b779\"], [0.7777777777777778, \"#6ece58\"], [0.8888888888888888, \"#b5de2b\"], [1.0, \"#fde725\"]], \"type\": \"heatmap\"}], \"heatmapgl\": [{\"colorbar\": {\"outlinewidth\": 1, \"tickcolor\": \"rgb(36,36,36)\", \"ticks\": \"outside\"}, \"colorscale\": [[0.0, \"#440154\"], [0.1111111111111111, \"#482878\"], [0.2222222222222222, \"#3e4989\"], [0.3333333333333333, \"#31688e\"], [0.4444444444444444, \"#26828e\"], [0.5555555555555556, \"#1f9e89\"], [0.6666666666666666, \"#35b779\"], [0.7777777777777778, \"#6ece58\"], [0.8888888888888888, \"#b5de2b\"], [1.0, \"#fde725\"]], \"type\": \"heatmapgl\"}], \"histogram\": [{\"marker\": {\"line\": {\"color\": \"white\", \"width\": 0.6}}, \"type\": \"histogram\"}], \"histogram2d\": [{\"colorbar\": {\"outlinewidth\": 1, \"tickcolor\": \"rgb(36,36,36)\", \"ticks\": \"outside\"}, \"colorscale\": [[0.0, \"#440154\"], [0.1111111111111111, \"#482878\"], [0.2222222222222222, \"#3e4989\"], [0.3333333333333333, \"#31688e\"], [0.4444444444444444, \"#26828e\"], [0.5555555555555556, \"#1f9e89\"], [0.6666666666666666, \"#35b779\"], [0.7777777777777778, \"#6ece58\"], [0.8888888888888888, \"#b5de2b\"], [1.0, \"#fde725\"]], \"type\": \"histogram2d\"}], \"histogram2dcontour\": [{\"colorbar\": {\"outlinewidth\": 1, \"tickcolor\": \"rgb(36,36,36)\", \"ticks\": \"outside\"}, \"colorscale\": [[0.0, \"#440154\"], [0.1111111111111111, \"#482878\"], [0.2222222222222222, \"#3e4989\"], [0.3333333333333333, \"#31688e\"], [0.4444444444444444, \"#26828e\"], [0.5555555555555556, \"#1f9e89\"], [0.6666666666666666, \"#35b779\"], [0.7777777777777778, \"#6ece58\"], [0.8888888888888888, \"#b5de2b\"], [1.0, \"#fde725\"]], \"type\": \"histogram2dcontour\"}], \"mesh3d\": [{\"colorbar\": {\"outlinewidth\": 1, \"tickcolor\": \"rgb(36,36,36)\", \"ticks\": \"outside\"}, \"type\": \"mesh3d\"}], \"parcoords\": [{\"line\": {\"colorbar\": {\"outlinewidth\": 1, \"tickcolor\": \"rgb(36,36,36)\", \"ticks\": \"outside\"}}, \"type\": \"parcoords\"}], \"pie\": [{\"automargin\": true, \"type\": \"pie\"}], \"scatter\": [{\"marker\": {\"colorbar\": {\"outlinewidth\": 1, \"tickcolor\": \"rgb(36,36,36)\", \"ticks\": \"outside\"}}, \"type\": \"scatter\"}], \"scatter3d\": [{\"line\": {\"colorbar\": {\"outlinewidth\": 1, \"tickcolor\": \"rgb(36,36,36)\", \"ticks\": \"outside\"}}, \"marker\": {\"colorbar\": {\"outlinewidth\": 1, \"tickcolor\": \"rgb(36,36,36)\", \"ticks\": \"outside\"}}, \"type\": \"scatter3d\"}], \"scattercarpet\": [{\"marker\": {\"colorbar\": {\"outlinewidth\": 1, \"tickcolor\": \"rgb(36,36,36)\", \"ticks\": \"outside\"}}, \"type\": \"scattercarpet\"}], \"scattergeo\": [{\"marker\": {\"colorbar\": {\"outlinewidth\": 1, \"tickcolor\": \"rgb(36,36,36)\", \"ticks\": \"outside\"}}, \"type\": \"scattergeo\"}], \"scattergl\": [{\"marker\": {\"colorbar\": {\"outlinewidth\": 1, \"tickcolor\": \"rgb(36,36,36)\", \"ticks\": \"outside\"}}, \"type\": \"scattergl\"}], \"scattermapbox\": [{\"marker\": {\"colorbar\": {\"outlinewidth\": 1, \"tickcolor\": \"rgb(36,36,36)\", \"ticks\": \"outside\"}}, \"type\": \"scattermapbox\"}], \"scatterpolar\": [{\"marker\": {\"colorbar\": {\"outlinewidth\": 1, \"tickcolor\": \"rgb(36,36,36)\", \"ticks\": \"outside\"}}, \"type\": \"scatterpolar\"}], \"scatterpolargl\": [{\"marker\": {\"colorbar\": {\"outlinewidth\": 1, \"tickcolor\": \"rgb(36,36,36)\", \"ticks\": \"outside\"}}, \"type\": \"scatterpolargl\"}], \"scatterternary\": [{\"marker\": {\"colorbar\": {\"outlinewidth\": 1, \"tickcolor\": \"rgb(36,36,36)\", \"ticks\": \"outside\"}}, \"type\": \"scatterternary\"}], \"surface\": [{\"colorbar\": {\"outlinewidth\": 1, \"tickcolor\": \"rgb(36,36,36)\", \"ticks\": \"outside\"}, \"colorscale\": [[0.0, \"#440154\"], [0.1111111111111111, \"#482878\"], [0.2222222222222222, \"#3e4989\"], [0.3333333333333333, \"#31688e\"], [0.4444444444444444, \"#26828e\"], [0.5555555555555556, \"#1f9e89\"], [0.6666666666666666, \"#35b779\"], [0.7777777777777778, \"#6ece58\"], [0.8888888888888888, \"#b5de2b\"], [1.0, \"#fde725\"]], \"type\": \"surface\"}], \"table\": [{\"cells\": {\"fill\": {\"color\": \"rgb(237,237,237)\"}, \"line\": {\"color\": \"white\"}}, \"header\": {\"fill\": {\"color\": \"rgb(217,217,217)\"}, \"line\": {\"color\": \"white\"}}, \"type\": \"table\"}]}, \"layout\": {\"annotationdefaults\": {\"arrowhead\": 0, \"arrowwidth\": 1}, \"coloraxis\": {\"colorbar\": {\"outlinewidth\": 1, \"tickcolor\": \"rgb(36,36,36)\", \"ticks\": \"outside\"}}, \"colorscale\": {\"diverging\": [[0.0, \"rgb(103,0,31)\"], [0.1, \"rgb(178,24,43)\"], [0.2, \"rgb(214,96,77)\"], [0.3, \"rgb(244,165,130)\"], [0.4, \"rgb(253,219,199)\"], [0.5, \"rgb(247,247,247)\"], [0.6, \"rgb(209,229,240)\"], [0.7, \"rgb(146,197,222)\"], [0.8, \"rgb(67,147,195)\"], [0.9, \"rgb(33,102,172)\"], [1.0, \"rgb(5,48,97)\"]], \"sequential\": [[0.0, \"#440154\"], [0.1111111111111111, \"#482878\"], [0.2222222222222222, \"#3e4989\"], [0.3333333333333333, \"#31688e\"], [0.4444444444444444, \"#26828e\"], [0.5555555555555556, \"#1f9e89\"], [0.6666666666666666, \"#35b779\"], [0.7777777777777778, \"#6ece58\"], [0.8888888888888888, \"#b5de2b\"], [1.0, \"#fde725\"]], \"sequentialminus\": [[0.0, \"#440154\"], [0.1111111111111111, \"#482878\"], [0.2222222222222222, \"#3e4989\"], [0.3333333333333333, \"#31688e\"], [0.4444444444444444, \"#26828e\"], [0.5555555555555556, \"#1f9e89\"], [0.6666666666666666, \"#35b779\"], [0.7777777777777778, \"#6ece58\"], [0.8888888888888888, \"#b5de2b\"], [1.0, \"#fde725\"]]}, \"colorway\": [\"#1F77B4\", \"#FF7F0E\", \"#2CA02C\", \"#D62728\", \"#9467BD\", \"#8C564B\", \"#E377C2\", \"#7F7F7F\", \"#BCBD22\", \"#17BECF\"], \"font\": {\"color\": \"rgb(36,36,36)\"}, \"geo\": {\"bgcolor\": \"white\", \"lakecolor\": \"white\", \"landcolor\": \"white\", \"showlakes\": true, \"showland\": true, \"subunitcolor\": \"white\"}, \"hoverlabel\": {\"align\": \"left\"}, \"hovermode\": \"closest\", \"mapbox\": {\"style\": \"light\"}, \"paper_bgcolor\": \"white\", \"plot_bgcolor\": \"white\", \"polar\": {\"angularaxis\": {\"gridcolor\": \"rgb(232,232,232)\", \"linecolor\": \"rgb(36,36,36)\", \"showgrid\": false, \"showline\": true, \"ticks\": \"outside\"}, \"bgcolor\": \"white\", \"radialaxis\": {\"gridcolor\": \"rgb(232,232,232)\", \"linecolor\": \"rgb(36,36,36)\", \"showgrid\": false, \"showline\": true, \"ticks\": \"outside\"}}, \"scene\": {\"xaxis\": {\"backgroundcolor\": \"white\", \"gridcolor\": \"rgb(232,232,232)\", \"gridwidth\": 2, \"linecolor\": \"rgb(36,36,36)\", \"showbackground\": true, \"showgrid\": false, \"showline\": true, \"ticks\": \"outside\", \"zeroline\": false, \"zerolinecolor\": \"rgb(36,36,36)\"}, \"yaxis\": {\"backgroundcolor\": \"white\", \"gridcolor\": \"rgb(232,232,232)\", \"gridwidth\": 2, \"linecolor\": \"rgb(36,36,36)\", \"showbackground\": true, \"showgrid\": false, \"showline\": true, \"ticks\": \"outside\", \"zeroline\": false, \"zerolinecolor\": \"rgb(36,36,36)\"}, \"zaxis\": {\"backgroundcolor\": \"white\", \"gridcolor\": \"rgb(232,232,232)\", \"gridwidth\": 2, \"linecolor\": \"rgb(36,36,36)\", \"showbackground\": true, \"showgrid\": false, \"showline\": true, \"ticks\": \"outside\", \"zeroline\": false, \"zerolinecolor\": \"rgb(36,36,36)\"}}, \"shapedefaults\": {\"fillcolor\": \"black\", \"line\": {\"width\": 0}, \"opacity\": 0.3}, \"ternary\": {\"aaxis\": {\"gridcolor\": \"rgb(232,232,232)\", \"linecolor\": \"rgb(36,36,36)\", \"showgrid\": false, \"showline\": true, \"ticks\": \"outside\"}, \"baxis\": {\"gridcolor\": \"rgb(232,232,232)\", \"linecolor\": \"rgb(36,36,36)\", \"showgrid\": false, \"showline\": true, \"ticks\": \"outside\"}, \"bgcolor\": \"white\", \"caxis\": {\"gridcolor\": \"rgb(232,232,232)\", \"linecolor\": \"rgb(36,36,36)\", \"showgrid\": false, \"showline\": true, \"ticks\": \"outside\"}}, \"title\": {\"x\": 0.05}, \"xaxis\": {\"automargin\": true, \"gridcolor\": \"rgb(232,232,232)\", \"linecolor\": \"rgb(36,36,36)\", \"showgrid\": false, \"showline\": true, \"ticks\": \"outside\", \"title\": {\"standoff\": 15}, \"zeroline\": false, \"zerolinecolor\": \"rgb(36,36,36)\"}, \"yaxis\": {\"automargin\": true, \"gridcolor\": \"rgb(232,232,232)\", \"linecolor\": \"rgb(36,36,36)\", \"showgrid\": false, \"showline\": true, \"ticks\": \"outside\", \"title\": {\"standoff\": 15}, \"zeroline\": false, \"zerolinecolor\": \"rgb(36,36,36)\"}}}, \"title\": {\"text\": \"InletPressure g-pump-6 for all weeks \"}, \"xaxis\": {\"anchor\": \"y\", \"domain\": [0.0, 1.0], \"title\": {\"text\": \"week\"}, \"type\": \"category\"}, \"yaxis\": {\"anchor\": \"x\", \"domain\": [0.0, 1.0], \"title\": {\"text\": \"feature_value\"}}},\n",
       "                        {\"responsive\": true}\n",
       "                    ).then(function(){\n",
       "                            \n",
       "var gd = document.getElementById('9ebe3e3c-0413-4d03-8070-77709d654ff8');\n",
       "var x = new MutationObserver(function (mutations, observer) {{\n",
       "        var display = window.getComputedStyle(gd).display;\n",
       "        if (!display || display === 'none') {{\n",
       "            console.log([gd, 'removed!']);\n",
       "            Plotly.purge(gd);\n",
       "            observer.disconnect();\n",
       "        }}\n",
       "}});\n",
       "\n",
       "// Listen for the removal of the full notebook cells\n",
       "var notebookContainer = gd.closest('#notebook-container');\n",
       "if (notebookContainer) {{\n",
       "    x.observe(notebookContainer, {childList: true});\n",
       "}}\n",
       "\n",
       "// Listen for the clearing of the current output cell\n",
       "var outputEl = gd.closest('.output');\n",
       "if (outputEl) {{\n",
       "    x.observe(outputEl, {childList: true});\n",
       "}}\n",
       "\n",
       "                        })\n",
       "                };\n",
       "                });\n",
       "            </script>\n",
       "        </div>"
      ]
     },
     "metadata": {},
     "output_type": "display_data"
    },
    {
     "data": {
      "application/vnd.plotly.v1+json": {
       "config": {
        "plotlyServerURL": "https://plot.ly"
       },
       "data": [
        {
         "alignmentgroup": "True",
         "hoverlabel": {
          "namelength": 0
         },
         "hovertemplate": "week=%{x}<br>feature_value=%{y}",
         "legendgroup": "",
         "marker": {
          "color": "#1F77B4"
         },
         "name": "",
         "notched": false,
         "offsetgroup": "",
         "orientation": "v",
         "showlegend": false,
         "type": "box",
         "x": [
          47,
          47,
          47,
          47,
          47,
          47,
          47,
          47,
          47,
          47,
          47,
          47,
          47,
          47,
          47,
          47,
          47,
          47,
          47,
          47,
          47,
          47,
          47,
          47,
          47,
          47,
          47,
          47,
          47,
          47,
          47,
          47,
          47,
          47,
          47,
          47,
          47,
          47,
          47,
          47,
          47,
          47,
          47,
          47,
          47,
          47,
          47,
          47,
          47,
          47,
          47,
          47,
          47,
          47,
          47,
          47,
          47,
          47,
          47,
          47,
          47,
          47,
          47,
          47,
          47,
          47,
          47,
          47,
          47,
          47,
          47,
          47,
          47,
          47,
          47,
          47,
          47,
          47,
          47,
          47,
          47,
          47,
          47,
          47,
          47,
          47,
          47,
          47,
          47,
          47,
          47,
          47,
          47,
          47,
          47,
          47,
          47,
          47,
          47,
          47,
          47,
          47,
          47,
          47,
          47,
          47,
          47,
          47,
          48,
          48,
          48,
          48,
          48,
          48,
          48,
          48,
          48,
          48,
          48,
          48,
          48,
          48,
          48,
          48,
          48,
          48,
          48,
          48,
          48,
          48,
          48,
          48,
          48,
          48,
          48,
          48,
          48,
          48,
          48,
          48,
          48,
          48,
          48,
          48,
          48,
          48,
          48,
          48,
          48,
          48,
          48,
          48,
          48,
          48,
          48,
          48,
          48,
          48,
          48,
          48,
          48,
          48,
          48,
          48,
          48,
          48,
          48,
          48,
          48,
          48,
          48,
          48,
          48,
          48,
          48,
          48,
          48,
          48,
          48,
          48,
          48,
          48,
          48,
          48,
          48,
          48,
          48,
          48,
          48,
          48,
          48,
          48,
          48,
          48,
          48,
          48,
          48,
          48,
          48,
          48,
          48,
          48,
          48,
          48,
          48,
          48,
          48,
          48,
          48,
          48,
          48,
          48,
          48,
          48,
          48,
          48,
          48,
          48,
          48,
          48,
          48,
          48,
          48,
          48,
          48,
          48,
          48,
          48,
          48,
          48,
          48,
          48,
          48,
          48,
          48,
          48,
          48,
          48,
          48,
          48,
          48,
          48,
          48,
          48,
          48,
          48,
          48,
          48,
          48,
          48,
          48,
          48,
          48,
          48,
          48,
          48,
          48,
          48,
          48,
          48,
          48,
          48,
          48,
          48,
          48,
          48,
          48,
          48,
          48,
          48,
          48,
          48,
          48,
          48,
          49,
          49,
          49,
          49,
          49,
          49,
          49,
          49,
          49,
          49,
          49,
          49,
          49,
          49,
          49,
          49,
          49,
          49,
          49,
          49,
          49,
          49,
          49,
          49,
          49,
          49,
          49,
          49,
          50,
          50,
          50,
          50,
          50,
          50,
          50,
          50,
          50,
          50,
          50,
          50,
          50,
          50,
          50,
          50,
          50,
          50,
          50,
          50,
          50,
          50,
          50,
          50,
          50,
          50,
          50,
          50,
          50,
          50,
          50,
          50,
          50,
          50,
          50,
          50,
          50,
          50,
          50,
          50,
          50,
          50,
          50,
          50,
          50,
          50,
          50,
          50,
          50,
          50,
          50,
          50,
          50,
          50,
          50,
          50,
          50,
          50,
          50,
          50,
          50,
          50,
          51,
          51,
          51,
          51,
          51,
          51,
          51,
          51,
          51,
          51,
          51,
          51,
          51,
          51,
          51,
          51,
          51,
          51,
          51,
          51,
          51,
          51,
          51,
          51,
          51,
          51,
          51,
          51,
          51,
          51,
          51,
          51,
          51,
          51,
          51,
          51,
          51,
          51,
          51,
          51,
          51,
          51,
          51,
          51,
          51,
          51,
          51,
          51,
          51,
          51,
          51,
          51,
          51,
          51,
          51,
          51,
          51,
          51,
          51,
          51,
          51,
          51,
          51,
          51,
          51,
          51,
          51,
          51,
          51,
          51,
          51,
          51,
          51,
          51,
          51,
          51,
          51,
          51,
          51,
          51,
          51,
          51,
          51,
          51,
          51,
          51,
          51,
          51,
          51,
          51,
          51,
          51,
          51,
          51,
          51,
          51,
          51,
          51,
          51,
          51,
          51,
          51,
          51,
          51,
          51,
          51,
          51,
          51,
          51,
          51,
          51,
          51,
          51,
          51,
          51,
          51,
          51,
          51,
          51,
          51,
          51,
          51,
          51,
          51,
          51,
          51,
          51,
          51,
          51,
          51,
          51,
          51,
          51,
          51,
          51,
          51,
          51,
          51,
          51,
          51,
          51,
          51,
          51,
          51,
          51,
          51,
          51,
          51,
          51,
          51,
          51,
          51,
          51,
          51,
          51,
          51,
          51,
          51,
          51,
          51,
          51,
          51,
          51,
          51,
          51,
          51,
          51,
          52,
          52,
          52,
          52,
          52,
          52,
          52,
          52,
          52,
          52,
          52,
          52,
          52,
          52,
          52,
          52,
          52,
          52,
          52,
          52,
          52,
          52,
          52,
          52,
          52,
          52,
          52,
          52,
          52,
          52,
          52,
          52,
          52,
          52,
          52,
          52,
          52,
          52,
          52,
          52,
          52,
          52,
          52,
          52,
          52,
          52,
          52,
          52,
          52,
          52,
          52,
          52,
          52,
          52,
          52,
          52,
          52,
          52,
          52,
          52,
          52,
          52,
          52,
          52,
          52,
          52,
          52,
          52,
          52,
          52,
          52,
          52,
          52,
          52,
          52,
          52,
          52,
          52,
          52,
          52,
          52,
          52,
          52,
          52,
          52,
          52,
          52,
          52,
          52,
          52,
          52,
          52,
          52,
          52,
          52,
          52,
          52,
          52,
          52,
          52,
          52,
          52,
          52,
          52,
          52,
          52,
          52,
          52,
          52,
          52,
          52,
          52,
          52,
          52,
          52,
          52,
          52,
          52,
          52,
          52,
          52,
          52,
          52,
          52,
          52,
          52,
          52,
          52,
          52,
          52,
          52,
          52,
          52,
          52,
          52,
          52,
          52,
          52,
          52,
          52,
          52,
          52,
          52,
          52,
          52,
          52,
          52,
          52,
          52,
          52,
          52,
          52,
          52,
          52,
          52,
          52,
          52,
          52,
          52,
          52,
          52,
          52,
          52,
          52,
          52,
          52,
          52,
          52,
          1,
          1,
          1,
          1,
          1,
          1,
          1,
          1,
          1,
          1,
          1,
          1,
          1,
          1,
          1,
          1,
          1,
          1,
          1,
          1,
          1,
          1,
          1,
          1,
          1,
          1,
          1,
          1,
          1,
          1,
          1,
          1,
          1,
          1,
          1,
          1,
          1,
          1,
          1,
          1,
          1,
          1,
          1,
          1,
          1,
          1,
          1,
          1,
          1,
          1,
          1,
          1,
          1,
          1,
          1,
          1,
          1,
          1,
          1,
          1,
          1,
          1,
          1,
          1,
          1,
          1,
          1,
          1,
          1,
          1,
          1,
          1,
          1,
          1,
          1,
          1,
          1,
          1,
          1,
          1,
          1,
          1,
          1,
          1,
          1,
          1,
          1,
          1,
          1,
          1,
          1,
          1,
          1,
          1,
          1,
          1,
          1,
          1,
          1,
          1,
          1,
          1,
          1,
          1,
          1,
          1,
          1,
          1,
          1,
          1,
          1,
          1,
          1,
          1,
          1,
          1,
          1,
          1,
          1,
          1,
          1,
          1,
          1,
          1,
          1,
          1,
          1,
          1,
          1,
          1,
          1,
          1,
          1,
          1,
          1,
          1,
          1,
          1,
          1,
          1,
          1,
          1,
          1,
          1,
          1,
          1,
          1,
          1,
          1,
          1,
          1,
          1,
          1,
          1,
          1,
          1,
          1,
          1,
          1,
          1,
          1,
          1,
          1,
          1,
          2,
          2,
          2,
          2,
          2,
          2,
          2,
          2,
          2,
          2,
          2
         ],
         "x0": " ",
         "xaxis": "x",
         "y": [
          56.53873182124854,
          55.776862026862,
          56.59785953313345,
          56.334059459059446,
          56.130443630443615,
          56.91264753764754,
          56.4922924297924,
          56.618844118844095,
          56.29896723646724,
          56.16414835164836,
          56.789275539275515,
          56.765109890109876,
          56.65572853072853,
          56.34475478225479,
          57.12950244200244,
          56.87003968253969,
          56.949531949531966,
          57.00104293854293,
          56.73585673585675,
          56.40516890516892,
          57.050010175010186,
          56.36383292633294,
          56.8000864875865,
          56.45911765703431,
          56.86622405372406,
          56.84968966218966,
          56.86050061050062,
          56.427426739926744,
          56.15715303215305,
          56.8503256003256,
          56.41661579161578,
          56.75048331298331,
          57.56003256003256,
          56.58513939763938,
          56.731405168905184,
          56.77019739519741,
          56.62265974765976,
          56.45985958485957,
          56.66335978835979,
          56.45985958485958,
          56.40071733821736,
          56.23346560846562,
          57.32982295482295,
          56.239824989825,
          56.671626984126995,
          56.532992470492474,
          56.95970695970695,
          56.339031339031344,
          56.49547212047212,
          57.08816646316646,
          55.5631868131868,
          57.163207163207154,
          56.314229751729755,
          56.06812169312172,
          56.49483618233618,
          56.563517501017515,
          55.863349613349605,
          56.458587708587714,
          55.90341371591372,
          56.33521571021572,
          57.01630545380545,
          56.581323768823744,
          56.677350427350426,
          56.53871591371591,
          56.793727106227124,
          56.877035002035,
          57.03601953601955,
          56.70342389092391,
          56.74221611721611,
          56.43315018315018,
          56.949531949531945,
          56.537444037444054,
          56.732041107041105,
          56.58959096459097,
          56.75175518925519,
          56.36764855514853,
          56.35492979242978,
          56.259539072039075,
          56.46939865689864,
          56.03441697191696,
          56.41725172975176,
          56.35556573056573,
          56.13298738298738,
          56.44332519332519,
          56.36319698819699,
          56.75429894179896,
          56.269078144078144,
          56.782280219780226,
          56.76828958078958,
          56.69706450956452,
          56.76065832315832,
          56.49674399674398,
          56.65064102564103,
          56.59849409849409,
          57.12250712250712,
          57.54031847781848,
          56.52218152218152,
          56.99468355718357,
          56.311050061050075,
          56.19912494912496,
          56.64682539682539,
          56.91010378510378,
          56.528540903540915,
          56.51645807895807,
          56.41725172975171,
          56.63219881969882,
          56.310414122914125,
          56.652548840048844,
          56.81662087912088,
          56.94635225885228,
          56.70596764346765,
          56.875127187627214,
          57.32473544973546,
          57.697395197395196,
          56.88593813593814,
          56.952711640211646,
          57.268772893772905,
          56.84905372405374,
          56.97115384615384,
          56.93872100122101,
          57.084350834350836,
          57.310108872608886,
          57.16638685388685,
          57.13649776149776,
          57.51996845746846,
          57.65669515669516,
          57.94159544159546,
          56.99468355718357,
          57.7641687016687,
          57.67195767195767,
          57.17401811151814,
          57.763532763532744,
          57.31392450142451,
          56.81089743589744,
          58.045253357753346,
          57.76671245421246,
          57.90725478225479,
          58.048433048433054,
          57.00740231990233,
          57.55430911680912,
          57.018849206349195,
          57.16956654456656,
          57.57147944647946,
          57.507249694749675,
          57.31456043956044,
          57.54477004477005,
          57.57147944647946,
          57.119327431827436,
          57.53841066341065,
          57.90598290598291,
          57.891356328856325,
          57.70311864061864,
          57.70375457875458,
          57.64334045584047,
          57.167658730158735,
          56.89865689865692,
          57.19564000814003,
          57.59946072446072,
          57.71520146520148,
          57.635073260073256,
          57.70820614570616,
          57.65478734228734,
          57.68213268213268,
          57.41440272690273,
          57.34953703703703,
          57.4474715099715,
          57.67704517704519,
          57.259869759869765,
          57.07989926739928,
          56.78863960113961,
          57.18101343101344,
          57.382605820105816,
          57.273224460724464,
          57.482448107448114,
          57.54985754985757,
          56.929817867317894,
          57.08816646316646,
          57.42839336589336,
          57.40359177859176,
          57.81250000000001,
          58.09676434676435,
          57.592465404965424,
          57.860831298331306,
          57.5256919006919,
          57.69357956857959,
          57.43984025234025,
          57.646520146520125,
          57.14285714285713,
          57.42839336589338,
          57.3635276760277,
          57.25859788359788,
          56.98896011396013,
          57.15430402930402,
          56.76956145706145,
          57.390873015873034,
          57.67259361009361,
          57.34444953194954,
          57.61790293040292,
          57.10470085470087,
          57.23570411070411,
          56.76447395197397,
          57.49643874643875,
          56.91900691900691,
          57.22234940984941,
          57.04619454619455,
          57.49834656084659,
          57.14031339031339,
          57.074175824175825,
          57.49961843711844,
          56.61184879934881,
          57.46782153032154,
          57.16511497761499,
          57.378790191290186,
          57.277676027676044,
          56.89674908424909,
          57.151124338624335,
          57.3056573056573,
          57.26686507936509,
          57.270044770044784,
          57.709478021978015,
          57.20072751322751,
          57.357804232804234,
          57.6020044770045,
          57.16129934879936,
          56.61884411884412,
          57.11233211233212,
          57.09452584452587,
          57.255418192918206,
          57.26304945054946,
          57.865282865282865,
          57.175289987789995,
          57.53650284900286,
          57.780067155067144,
          57.32409951159952,
          57.32855107855108,
          57.04365079365082,
          57.22044159544159,
          57.08053520553523,
          57.43284493284492,
          57.60200447700449,
          57.91170634920636,
          57.090710215710224,
          57.82013125763128,
          57.462734025234035,
          57.627442002441995,
          58.09867216117215,
          57.30565730565732,
          57.221713471713464,
          57.28339947089945,
          57.0353835978836,
          57.97313797313798,
          57.7959656084656,
          57.46019027269029,
          57.795329670329686,
          57.52378408628409,
          57.6859483109483,
          57.44810744810746,
          57.68149674399675,
          56.97115384615385,
          57.63570919820919,
          58.28118640618643,
          57.903439153439145,
          57.226800976801,
          58.20996133496135,
          58.050976800976805,
          57.69485144485143,
          57.66814204314203,
          57.60582010582011,
          56.79945054945054,
          57.474180911680925,
          57.81758750508754,
          57.1689306064306,
          57.66114672364673,
          57.67450142450142,
          57.093889906389904,
          57.86273911273911,
          57.31710419210421,
          57.41885429385428,
          57.797873422873444,
          57.38451363451364,
          57.394052706552706,
          57.44874338624339,
          57.48435592185592,
          57.65150166191833,
          57.16956654456656,
          57.35653235653237,
          57.170202482702486,
          57.66750610500612,
          57.37624643874643,
          57.164479039479026,
          56.89166157916157,
          57.025844525844526,
          56.960342897842885,
          57.52759971509972,
          57.34508547008548,
          56.74475986975988,
          56.92791005291005,
          57.137769637769644,
          56.43315018315017,
          57.9708485958486,
          57.866554741554744,
          57.02139295889296,
          56.70177045177047,
          57.163207163207176,
          56.688797313797316,
          57.112968050468034,
          57.16193528693529,
          57.36289173789172,
          57.11614774114775,
          56.988960113960125,
          57.318376068376075,
          56.387998575498564,
          56.55334249084248,
          57.32091982091982,
          56.86558811558811,
          57.68531237281237,
          57.846204721204735,
          56.98641636141637,
          57.764804639804645,
          56.8452380952381,
          56.93299755799754,
          56.91264753764753,
          57.05954924704926,
          57.572751322751316,
          56.751755189255185,
          57.22680097680097,
          56.945080382580365,
          56.72123015873017,
          57.196275946275954,
          56.64746133496132,
          57.78006715506715,
          57.45383089133089,
          57.362255799755815,
          57.084350834350836,
          56.716142653642656,
          56.72313797313797,
          56.856684981684985,
          57.17147435897434,
          57.32537138787138,
          56.746031746031754,
          56.74921143671144,
          56.594678469678485,
          57.35971204721204,
          56.95461945461946,
          56.69006919006919,
          56.64110195360195,
          56.825524013024,
          56.91646316646316,
          57.026480463980455,
          57.2070868945869,
          57.04365079365081,
          57.040471102971104,
          57.031567969067964,
          57.16129934879935,
          56.712327024827026,
          57.26559320309321,
          56.68307387057388,
          56.99213980463981,
          57.06209299959301,
          57.120599308099315,
          57.04301485551486,
          57.13077431827433,
          57.43475274725275,
          57.27576821326823,
          57.57783882783883,
          57.60264041514043,
          57.001042938542945,
          57.06145706145707,
          56.559065934065934,
          56.82298026048026,
          56.69134106634107,
          57.09261803011805,
          57.139041514041516,
          57.85637973137975,
          57.43093711843712,
          57.06972425722426,
          57.23443223443224,
          57.351444851444846,
          57.062092999593006,
          57.69548738298737,
          57.156211843711844,
          57.08625864875865,
          57.58674196174196,
          56.72568172568172,
          56.49102055352056,
          55.80547924297925,
          55.982905982905976,
          56.267170329670336,
          56.176867114367106,
          55.876704314204325,
          56.52472527472526,
          56.20866402116402,
          56.781008343508354,
          56.470670533170534,
          56.194673382173384,
          56.022970085470085,
          56.05540293040293,
          56.18449837199838,
          56.25254375254375,
          55.89514652014651,
          56.370192307692314,
          56.138074888074875,
          56.03632478632479,
          55.90722934472935,
          55.906593406593394,
          56.24491249491249,
          55.616605616605604,
          56.37909544159547,
          56.47893772893773,
          56.326948514448524,
          56.05222323972325,
          56.97560541310542,
          56.421703296703306,
          56.97878510378509,
          56.63410663410662,
          56.8236161986162,
          56.47893772893773,
          56.405168905168914,
          56.06176231176232,
          57.19691188441187,
          55.7431573056573,
          56.141890516890506,
          55.9180402930403,
          55.998168498168496,
          56.22392653642654,
          56.5501628001628,
          56.36828449328451,
          56.096102971102965,
          56.58386752136752,
          56.49483618233619,
          56.13934676434676,
          56.243004680504676,
          55.90722934472935,
          55.947929385429376,
          56.40771265771266,
          56.05095136345137,
          56.763202075702075,
          56.426790801790816,
          56.245548433048434,
          56.29324379324379,
          56.42615486365486,
          56.78418803418804,
          56.71041921041922,
          57.020757020757,
          56.508826821326814,
          56.51836589336591,
          56.82743182743184,
          57.01312576312574,
          56.767653642653634,
          56.91646316646319,
          56.82933964183965,
          56.379731379731375,
          56.81153337403338,
          56.78545991045991,
          56.337759462759465,
          56.71359890109891,
          56.85986467236469,
          56.87385531135532,
          56.503739316239326,
          56.81916463166464,
          56.5819597069597,
          56.75875050875052,
          56.65572853072853,
          56.45604395604396,
          56.3434829059829,
          56.78291615791617,
          56.65509259259258,
          56.832519332519325,
          56.520909645909654,
          56.65509259259259,
          56.28879222629223,
          56.44459706959707,
          56.4636752136752,
          57.37624643874644,
          56.81789275539277,
          56.67417073667074,
          57.28975885225886,
          57.21408221408223,
          57.33045889295891,
          56.99786324786326,
          57.29421041921043,
          56.86240842490843,
          57.43920431420432,
          57.207722832722844,
          56.99595543345543,
          56.750483312983306,
          57.07163207163208,
          56.74285205535207,
          57.40613553113553,
          56.96034289784291,
          56.875127187627186,
          56.882122507122496,
          56.86940374440377,
          57.12950244200244,
          57.1988196988197,
          57.18673687423688,
          56.93554131054132,
          57.04492266992266,
          57.09516178266179,
          57.41821835571836,
          56.92600223850224,
          57.269408831908834,
          57.35716829466832,
          57.401683964183974,
          56.83124745624746,
          56.46240333740334,
          57.066544566544586,
          56.96543040293043,
          56.926638176638185,
          56.60866910866912,
          56.884666259666254,
          57.06018518518518,
          57.101521164021186,
          57.422033984533975,
          56.898656898656895,
          57.05954924704924,
          56.967974155474145,
          57.04365079365079,
          56.956527269027276,
          56.98260073260072,
          57.092618030118025,
          56.94317256817258,
          56.55715811965812,
          57.20072751322751,
          57.52759971509972,
          56.88721001221001,
          57.132046194546206,
          57.502798127798144,
          56.91582722832723,
          57.023936711436725,
          57.04873829873829,
          57.1918243793244,
          57.30820105820107,
          57.075447700447704,
          57.472273097273096,
          57.77370777370779,
          57.22743691493692,
          56.8287037037037,
          57.00613044363046,
          57.52505596255596,
          56.79181929181929,
          57.46972934472935,
          56.81789275539276,
          57.11106023606024,
          56.95080382580385,
          57.37243080993081,
          57.06145706145705,
          57.7590811965812,
          57.37624643874643,
          56.874491249491264,
          57.224893162393165,
          57.216625966625976,
          57.33999796499797,
          57.22998066748067,
          56.66463166463168,
          56.63601444851445,
          57.32727920227921,
          56.70596764346764,
          56.099918599918595,
          57.29357448107448,
          57.17528998778999,
          56.877035002034994,
          56.513278388278394,
          56.775284900284895,
          57.17656186406186,
          56.96225071225074,
          57.28149165649168,
          57.04174297924297,
          57.56194037444038,
          56.71423483923485,
          57.1422212047212,
          56.72186609686608,
          57.13458994708994,
          57.244607244607266,
          56.95271164021164,
          57.04237891737892,
          56.90501628001629,
          56.860500610500615,
          57.28657916157916,
          57.30947293447293,
          57.078627391127405,
          56.43505799755798,
          56.98323667073665,
          56.767017704517706,
          56.57178469678471,
          56.981328856328865,
          56.84142246642247,
          57.34508547008546,
          57.00994607244608,
          57.140313390313395,
          57.50979344729345,
          56.80517399267401,
          56.98641636141637,
          57.451287138787144,
          57.03474765974769,
          57.30120573870574,
          56.801358363858384,
          57.18228530728529,
          57.49198717948718,
          57.054461741961745,
          57.36416361416364,
          56.45413614163615,
          56.93172568172569,
          56.72758954008956,
          57.055097680097674,
          56.38609076109075,
          56.58768315018315,
          56.76383801383802,
          57.14540089540089,
          57.04047110297111,
          56.56415343915345,
          56.64428164428164,
          56.83251933251932,
          57.08180708180709,
          56.85032560032561,
          56.89802096052097,
          57.432208994709015,
          56.57305657305657,
          57.246515059015074,
          57.29802604802605,
          57.222985347985365,
          57.12059930809931,
          57.16575091575091,
          57.200091575091584,
          57.21535409035409,
          56.758750508750495,
          57.05573361823363,
          56.79181929181929,
          56.98323667073666,
          57.39659645909645,
          57.100249287749286,
          56.83633496133498,
          57.01757733007731,
          57.32791514041515,
          57.18610093610095,
          57.207722832722844,
          57.31328856328857,
          56.80326617826618,
          57.178469678469675,
          56.929817867317865,
          56.56669719169721,
          57.04683048433049,
          57.154304029304036,
          57.43093711843712,
          57.60772792022794,
          56.91264753764753,
          57.01757733007734,
          56.98260073260073,
          56.83379120879122,
          57.25414631664631,
          57.22870879120878,
          57.2306166056166,
          57.343177655677636,
          56.88593813593814,
          57.001678876678874,
          57.61790293040293,
          57.03665547415548,
          56.996591371591364,
          57.04746642246642,
          57.64524827024827,
          57.32346357346358,
          57.256690069190064,
          57.388965201465204,
          57.447471509971514,
          56.7466676841677,
          56.910739723239736,
          57.07799145299146,
          57.31328856328859,
          57.36670736670738,
          57.051282051282065,
          57.22680097680098,
          56.3784595034595,
          57.16257122507121,
          57.41821835571835,
          56.51391432641433,
          57.15430402930403,
          57.74636243386243,
          57.429665242165235,
          57.60009666259666,
          57.974028286528274,
          57.46464183964184,
          57.44238400488398,
          57.144764957264954,
          56.801994301994306,
          56.805809930809914,
          57.61217948717947,
          57.45828245828247,
          57.32282763532763,
          57.72982804232803,
          57.008038258038255,
          57.264957264957246,
          57.87800162800162,
          57.643976393976395,
          57.28149165649165,
          57.25096662596661,
          57.841753154253155,
          56.593406593406606,
          57.378154253154264,
          57.20199938949937,
          56.997227309727315,
          57.128866503866504,
          57.46273402523403,
          57.53968253968254,
          57.588649776149786,
          57.44556369556372,
          57.111696174196176,
          57.569571632071636,
          57.21471815221816,
          57.32664326414326,
          57.44619963369964,
          57.28912291412291,
          57.55685286935286,
          57.79405779405781,
          57.50152625152626,
          57.16193528693528,
          57.75462962962962,
          58.0643315018315,
          57.82839845339844,
          58.394383394383404,
          57.879909442409456,
          57.70693426943427,
          58.10693935693936,
          58.29136141636144,
          57.608363858363866,
          57.61408730158729,
          57.92378917378917,
          57.19945563695564,
          58.130469067969074,
          58.01472832722834,
          57.990562678062695,
          57.69167175417177,
          58.60297110297111,
          57.951134513634535,
          57.95431420431422,
          57.19881969881968,
          57.24842287342289,
          57.623626373626365,
          57.74254680504681,
          57.844296906796906,
          57.365435490435495,
          57.83984533984534,
          58.15527065527066,
          57.26368538868539,
          57.38514957264957,
          57.069088319088316,
          57.121235246235265,
          56.75811457061456,
          56.85859279609281,
          56.96797415547416,
          57.549221611721606,
          57.41058709808712,
          56.970517908017904,
          57.603276353276364,
          57.23570411070412,
          57.926332926332925,
          57.55367317867317,
          57.245243182743195,
          57.81250000000001,
          57.3756105006105,
          58.05161273911273,
          56.98641636141637,
          57.52187627187629,
          57.397868335368365,
          57.69930301180304,
          57.26750101750102,
          57.23761192511193,
          57.34699328449329,
          57.35589641839642,
          57.90280321530321,
          57.585470085470085,
          57.474816849816875,
          58.48850223850224,
          57.66178266178267,
          57.366707366707374,
          57.50343406593407,
          57.97466422466423,
          57.243971306471316,
          57.83602971102971,
          57.68976393976394,
          58.27228327228326,
          57.00676638176639,
          57.53968253968254,
          57.88817663817665,
          57.53650284900286,
          57.37688237688237,
          57.75780932030931,
          57.631893569393576,
          58.24557387057386,
          57.82331094831094,
          57.77116402116403,
          58.41791310541311,
          57.76544057794059,
          58.5482804232804,
          57.81059218559219,
          58.148275335775345,
          58.63794770044769,
          58.286273911273916,
          58.63540394790396,
          58.136828449328455,
          57.638888888888886,
          58.54955229955231,
          58.36513024013024,
          57.8792735042735,
          58.17689255189254,
          57.720924908424905,
          57.66305453805455,
          57.77561558811559,
          58.51648351648351,
          58.421728734228736,
          58.51330382580384,
          58.4109177859178,
          58.09358465608466,
          58.606150793650784,
          58.49549755799759,
          58.09612840862841,
          58.49486161986161,
          58.45924908424908,
          58.737154049654045,
          58.37784900284902,
          57.93332824582826,
          58.41600529100531,
          58.31870675620676,
          58.37721306471307,
          57.643340455840466,
          58.117750305250325,
          58.08404558404559,
          58.214412901912915,
          58.675468050468055,
          58.09994403744404,
          58.31107549857549,
          58.230947293447315,
          58.39120370370372,
          58.47323972323972,
          57.864646927146936,
          58.508216320716336,
          58.39692714692715,
          58.054792429792435,
          58.40964590964592,
          58.26655982905982,
          58.38039275539277,
          58.154634717134705,
          57.943503256003254,
          58.47832722832724,
          57.79660154660154,
          57.85510785510786,
          57.94731888481888,
          58.40900997150999,
          58.487866300366306,
          58.28118640618641,
          58.274827024827026,
          58.11647842897843,
          58.11266280016283,
          58.332061457061464,
          58.280550468050485,
          58.405830280830294,
          58.368945868945865,
          57.94095950345951,
          58.4776912901913,
          58.44080687830688,
          57.61663105413107,
          57.972756410256416,
          58.013456450956475,
          58.30535205535205,
          58.47769129019131,
          58.46624440374439,
          58.694546194546184,
          58.07577838827837,
          58.536833536833534,
          58.35113960113961,
          58.52856634106636,
          58.71743996743998,
          58.2125050875051,
          58.46815221815223,
          58.631588319088316
         ],
         "y0": " ",
         "yaxis": "y"
        }
       ],
       "layout": {
        "boxmode": "group",
        "legend": {
         "tracegroupgap": 0
        },
        "template": {
         "data": {
          "bar": [
           {
            "error_x": {
             "color": "rgb(36,36,36)"
            },
            "error_y": {
             "color": "rgb(36,36,36)"
            },
            "marker": {
             "line": {
              "color": "white",
              "width": 0.5
             }
            },
            "type": "bar"
           }
          ],
          "barpolar": [
           {
            "marker": {
             "line": {
              "color": "white",
              "width": 0.5
             }
            },
            "type": "barpolar"
           }
          ],
          "carpet": [
           {
            "aaxis": {
             "endlinecolor": "rgb(36,36,36)",
             "gridcolor": "white",
             "linecolor": "white",
             "minorgridcolor": "white",
             "startlinecolor": "rgb(36,36,36)"
            },
            "baxis": {
             "endlinecolor": "rgb(36,36,36)",
             "gridcolor": "white",
             "linecolor": "white",
             "minorgridcolor": "white",
             "startlinecolor": "rgb(36,36,36)"
            },
            "type": "carpet"
           }
          ],
          "choropleth": [
           {
            "colorbar": {
             "outlinewidth": 1,
             "tickcolor": "rgb(36,36,36)",
             "ticks": "outside"
            },
            "type": "choropleth"
           }
          ],
          "contour": [
           {
            "colorbar": {
             "outlinewidth": 1,
             "tickcolor": "rgb(36,36,36)",
             "ticks": "outside"
            },
            "colorscale": [
             [
              0,
              "#440154"
             ],
             [
              0.1111111111111111,
              "#482878"
             ],
             [
              0.2222222222222222,
              "#3e4989"
             ],
             [
              0.3333333333333333,
              "#31688e"
             ],
             [
              0.4444444444444444,
              "#26828e"
             ],
             [
              0.5555555555555556,
              "#1f9e89"
             ],
             [
              0.6666666666666666,
              "#35b779"
             ],
             [
              0.7777777777777778,
              "#6ece58"
             ],
             [
              0.8888888888888888,
              "#b5de2b"
             ],
             [
              1,
              "#fde725"
             ]
            ],
            "type": "contour"
           }
          ],
          "contourcarpet": [
           {
            "colorbar": {
             "outlinewidth": 1,
             "tickcolor": "rgb(36,36,36)",
             "ticks": "outside"
            },
            "type": "contourcarpet"
           }
          ],
          "heatmap": [
           {
            "colorbar": {
             "outlinewidth": 1,
             "tickcolor": "rgb(36,36,36)",
             "ticks": "outside"
            },
            "colorscale": [
             [
              0,
              "#440154"
             ],
             [
              0.1111111111111111,
              "#482878"
             ],
             [
              0.2222222222222222,
              "#3e4989"
             ],
             [
              0.3333333333333333,
              "#31688e"
             ],
             [
              0.4444444444444444,
              "#26828e"
             ],
             [
              0.5555555555555556,
              "#1f9e89"
             ],
             [
              0.6666666666666666,
              "#35b779"
             ],
             [
              0.7777777777777778,
              "#6ece58"
             ],
             [
              0.8888888888888888,
              "#b5de2b"
             ],
             [
              1,
              "#fde725"
             ]
            ],
            "type": "heatmap"
           }
          ],
          "heatmapgl": [
           {
            "colorbar": {
             "outlinewidth": 1,
             "tickcolor": "rgb(36,36,36)",
             "ticks": "outside"
            },
            "colorscale": [
             [
              0,
              "#440154"
             ],
             [
              0.1111111111111111,
              "#482878"
             ],
             [
              0.2222222222222222,
              "#3e4989"
             ],
             [
              0.3333333333333333,
              "#31688e"
             ],
             [
              0.4444444444444444,
              "#26828e"
             ],
             [
              0.5555555555555556,
              "#1f9e89"
             ],
             [
              0.6666666666666666,
              "#35b779"
             ],
             [
              0.7777777777777778,
              "#6ece58"
             ],
             [
              0.8888888888888888,
              "#b5de2b"
             ],
             [
              1,
              "#fde725"
             ]
            ],
            "type": "heatmapgl"
           }
          ],
          "histogram": [
           {
            "marker": {
             "line": {
              "color": "white",
              "width": 0.6
             }
            },
            "type": "histogram"
           }
          ],
          "histogram2d": [
           {
            "colorbar": {
             "outlinewidth": 1,
             "tickcolor": "rgb(36,36,36)",
             "ticks": "outside"
            },
            "colorscale": [
             [
              0,
              "#440154"
             ],
             [
              0.1111111111111111,
              "#482878"
             ],
             [
              0.2222222222222222,
              "#3e4989"
             ],
             [
              0.3333333333333333,
              "#31688e"
             ],
             [
              0.4444444444444444,
              "#26828e"
             ],
             [
              0.5555555555555556,
              "#1f9e89"
             ],
             [
              0.6666666666666666,
              "#35b779"
             ],
             [
              0.7777777777777778,
              "#6ece58"
             ],
             [
              0.8888888888888888,
              "#b5de2b"
             ],
             [
              1,
              "#fde725"
             ]
            ],
            "type": "histogram2d"
           }
          ],
          "histogram2dcontour": [
           {
            "colorbar": {
             "outlinewidth": 1,
             "tickcolor": "rgb(36,36,36)",
             "ticks": "outside"
            },
            "colorscale": [
             [
              0,
              "#440154"
             ],
             [
              0.1111111111111111,
              "#482878"
             ],
             [
              0.2222222222222222,
              "#3e4989"
             ],
             [
              0.3333333333333333,
              "#31688e"
             ],
             [
              0.4444444444444444,
              "#26828e"
             ],
             [
              0.5555555555555556,
              "#1f9e89"
             ],
             [
              0.6666666666666666,
              "#35b779"
             ],
             [
              0.7777777777777778,
              "#6ece58"
             ],
             [
              0.8888888888888888,
              "#b5de2b"
             ],
             [
              1,
              "#fde725"
             ]
            ],
            "type": "histogram2dcontour"
           }
          ],
          "mesh3d": [
           {
            "colorbar": {
             "outlinewidth": 1,
             "tickcolor": "rgb(36,36,36)",
             "ticks": "outside"
            },
            "type": "mesh3d"
           }
          ],
          "parcoords": [
           {
            "line": {
             "colorbar": {
              "outlinewidth": 1,
              "tickcolor": "rgb(36,36,36)",
              "ticks": "outside"
             }
            },
            "type": "parcoords"
           }
          ],
          "pie": [
           {
            "automargin": true,
            "type": "pie"
           }
          ],
          "scatter": [
           {
            "marker": {
             "colorbar": {
              "outlinewidth": 1,
              "tickcolor": "rgb(36,36,36)",
              "ticks": "outside"
             }
            },
            "type": "scatter"
           }
          ],
          "scatter3d": [
           {
            "line": {
             "colorbar": {
              "outlinewidth": 1,
              "tickcolor": "rgb(36,36,36)",
              "ticks": "outside"
             }
            },
            "marker": {
             "colorbar": {
              "outlinewidth": 1,
              "tickcolor": "rgb(36,36,36)",
              "ticks": "outside"
             }
            },
            "type": "scatter3d"
           }
          ],
          "scattercarpet": [
           {
            "marker": {
             "colorbar": {
              "outlinewidth": 1,
              "tickcolor": "rgb(36,36,36)",
              "ticks": "outside"
             }
            },
            "type": "scattercarpet"
           }
          ],
          "scattergeo": [
           {
            "marker": {
             "colorbar": {
              "outlinewidth": 1,
              "tickcolor": "rgb(36,36,36)",
              "ticks": "outside"
             }
            },
            "type": "scattergeo"
           }
          ],
          "scattergl": [
           {
            "marker": {
             "colorbar": {
              "outlinewidth": 1,
              "tickcolor": "rgb(36,36,36)",
              "ticks": "outside"
             }
            },
            "type": "scattergl"
           }
          ],
          "scattermapbox": [
           {
            "marker": {
             "colorbar": {
              "outlinewidth": 1,
              "tickcolor": "rgb(36,36,36)",
              "ticks": "outside"
             }
            },
            "type": "scattermapbox"
           }
          ],
          "scatterpolar": [
           {
            "marker": {
             "colorbar": {
              "outlinewidth": 1,
              "tickcolor": "rgb(36,36,36)",
              "ticks": "outside"
             }
            },
            "type": "scatterpolar"
           }
          ],
          "scatterpolargl": [
           {
            "marker": {
             "colorbar": {
              "outlinewidth": 1,
              "tickcolor": "rgb(36,36,36)",
              "ticks": "outside"
             }
            },
            "type": "scatterpolargl"
           }
          ],
          "scatterternary": [
           {
            "marker": {
             "colorbar": {
              "outlinewidth": 1,
              "tickcolor": "rgb(36,36,36)",
              "ticks": "outside"
             }
            },
            "type": "scatterternary"
           }
          ],
          "surface": [
           {
            "colorbar": {
             "outlinewidth": 1,
             "tickcolor": "rgb(36,36,36)",
             "ticks": "outside"
            },
            "colorscale": [
             [
              0,
              "#440154"
             ],
             [
              0.1111111111111111,
              "#482878"
             ],
             [
              0.2222222222222222,
              "#3e4989"
             ],
             [
              0.3333333333333333,
              "#31688e"
             ],
             [
              0.4444444444444444,
              "#26828e"
             ],
             [
              0.5555555555555556,
              "#1f9e89"
             ],
             [
              0.6666666666666666,
              "#35b779"
             ],
             [
              0.7777777777777778,
              "#6ece58"
             ],
             [
              0.8888888888888888,
              "#b5de2b"
             ],
             [
              1,
              "#fde725"
             ]
            ],
            "type": "surface"
           }
          ],
          "table": [
           {
            "cells": {
             "fill": {
              "color": "rgb(237,237,237)"
             },
             "line": {
              "color": "white"
             }
            },
            "header": {
             "fill": {
              "color": "rgb(217,217,217)"
             },
             "line": {
              "color": "white"
             }
            },
            "type": "table"
           }
          ]
         },
         "layout": {
          "annotationdefaults": {
           "arrowhead": 0,
           "arrowwidth": 1
          },
          "coloraxis": {
           "colorbar": {
            "outlinewidth": 1,
            "tickcolor": "rgb(36,36,36)",
            "ticks": "outside"
           }
          },
          "colorscale": {
           "diverging": [
            [
             0,
             "rgb(103,0,31)"
            ],
            [
             0.1,
             "rgb(178,24,43)"
            ],
            [
             0.2,
             "rgb(214,96,77)"
            ],
            [
             0.3,
             "rgb(244,165,130)"
            ],
            [
             0.4,
             "rgb(253,219,199)"
            ],
            [
             0.5,
             "rgb(247,247,247)"
            ],
            [
             0.6,
             "rgb(209,229,240)"
            ],
            [
             0.7,
             "rgb(146,197,222)"
            ],
            [
             0.8,
             "rgb(67,147,195)"
            ],
            [
             0.9,
             "rgb(33,102,172)"
            ],
            [
             1,
             "rgb(5,48,97)"
            ]
           ],
           "sequential": [
            [
             0,
             "#440154"
            ],
            [
             0.1111111111111111,
             "#482878"
            ],
            [
             0.2222222222222222,
             "#3e4989"
            ],
            [
             0.3333333333333333,
             "#31688e"
            ],
            [
             0.4444444444444444,
             "#26828e"
            ],
            [
             0.5555555555555556,
             "#1f9e89"
            ],
            [
             0.6666666666666666,
             "#35b779"
            ],
            [
             0.7777777777777778,
             "#6ece58"
            ],
            [
             0.8888888888888888,
             "#b5de2b"
            ],
            [
             1,
             "#fde725"
            ]
           ],
           "sequentialminus": [
            [
             0,
             "#440154"
            ],
            [
             0.1111111111111111,
             "#482878"
            ],
            [
             0.2222222222222222,
             "#3e4989"
            ],
            [
             0.3333333333333333,
             "#31688e"
            ],
            [
             0.4444444444444444,
             "#26828e"
            ],
            [
             0.5555555555555556,
             "#1f9e89"
            ],
            [
             0.6666666666666666,
             "#35b779"
            ],
            [
             0.7777777777777778,
             "#6ece58"
            ],
            [
             0.8888888888888888,
             "#b5de2b"
            ],
            [
             1,
             "#fde725"
            ]
           ]
          },
          "colorway": [
           "#1F77B4",
           "#FF7F0E",
           "#2CA02C",
           "#D62728",
           "#9467BD",
           "#8C564B",
           "#E377C2",
           "#7F7F7F",
           "#BCBD22",
           "#17BECF"
          ],
          "font": {
           "color": "rgb(36,36,36)"
          },
          "geo": {
           "bgcolor": "white",
           "lakecolor": "white",
           "landcolor": "white",
           "showlakes": true,
           "showland": true,
           "subunitcolor": "white"
          },
          "hoverlabel": {
           "align": "left"
          },
          "hovermode": "closest",
          "mapbox": {
           "style": "light"
          },
          "paper_bgcolor": "white",
          "plot_bgcolor": "white",
          "polar": {
           "angularaxis": {
            "gridcolor": "rgb(232,232,232)",
            "linecolor": "rgb(36,36,36)",
            "showgrid": false,
            "showline": true,
            "ticks": "outside"
           },
           "bgcolor": "white",
           "radialaxis": {
            "gridcolor": "rgb(232,232,232)",
            "linecolor": "rgb(36,36,36)",
            "showgrid": false,
            "showline": true,
            "ticks": "outside"
           }
          },
          "scene": {
           "xaxis": {
            "backgroundcolor": "white",
            "gridcolor": "rgb(232,232,232)",
            "gridwidth": 2,
            "linecolor": "rgb(36,36,36)",
            "showbackground": true,
            "showgrid": false,
            "showline": true,
            "ticks": "outside",
            "zeroline": false,
            "zerolinecolor": "rgb(36,36,36)"
           },
           "yaxis": {
            "backgroundcolor": "white",
            "gridcolor": "rgb(232,232,232)",
            "gridwidth": 2,
            "linecolor": "rgb(36,36,36)",
            "showbackground": true,
            "showgrid": false,
            "showline": true,
            "ticks": "outside",
            "zeroline": false,
            "zerolinecolor": "rgb(36,36,36)"
           },
           "zaxis": {
            "backgroundcolor": "white",
            "gridcolor": "rgb(232,232,232)",
            "gridwidth": 2,
            "linecolor": "rgb(36,36,36)",
            "showbackground": true,
            "showgrid": false,
            "showline": true,
            "ticks": "outside",
            "zeroline": false,
            "zerolinecolor": "rgb(36,36,36)"
           }
          },
          "shapedefaults": {
           "fillcolor": "black",
           "line": {
            "width": 0
           },
           "opacity": 0.3
          },
          "ternary": {
           "aaxis": {
            "gridcolor": "rgb(232,232,232)",
            "linecolor": "rgb(36,36,36)",
            "showgrid": false,
            "showline": true,
            "ticks": "outside"
           },
           "baxis": {
            "gridcolor": "rgb(232,232,232)",
            "linecolor": "rgb(36,36,36)",
            "showgrid": false,
            "showline": true,
            "ticks": "outside"
           },
           "bgcolor": "white",
           "caxis": {
            "gridcolor": "rgb(232,232,232)",
            "linecolor": "rgb(36,36,36)",
            "showgrid": false,
            "showline": true,
            "ticks": "outside"
           }
          },
          "title": {
           "x": 0.05
          },
          "xaxis": {
           "automargin": true,
           "gridcolor": "rgb(232,232,232)",
           "linecolor": "rgb(36,36,36)",
           "showgrid": false,
           "showline": true,
           "ticks": "outside",
           "title": {
            "standoff": 15
           },
           "zeroline": false,
           "zerolinecolor": "rgb(36,36,36)"
          },
          "yaxis": {
           "automargin": true,
           "gridcolor": "rgb(232,232,232)",
           "linecolor": "rgb(36,36,36)",
           "showgrid": false,
           "showline": true,
           "ticks": "outside",
           "title": {
            "standoff": 15
           },
           "zeroline": false,
           "zerolinecolor": "rgb(36,36,36)"
          }
         }
        },
        "title": {
         "text": "OutletPressure g-pump-6 for all weeks "
        },
        "xaxis": {
         "anchor": "y",
         "domain": [
          0,
          1
         ],
         "title": {
          "text": "week"
         },
         "type": "category"
        },
        "yaxis": {
         "anchor": "x",
         "domain": [
          0,
          1
         ],
         "title": {
          "text": "feature_value"
         }
        }
       }
      },
      "text/html": [
       "<div>\n",
       "        \n",
       "        \n",
       "            <div id=\"fca2deff-241c-4c5e-ac5a-868d13486d23\" class=\"plotly-graph-div\" style=\"height:525px; width:100%;\"></div>\n",
       "            <script type=\"text/javascript\">\n",
       "                require([\"plotly\"], function(Plotly) {\n",
       "                    window.PLOTLYENV=window.PLOTLYENV || {};\n",
       "                    \n",
       "                if (document.getElementById(\"fca2deff-241c-4c5e-ac5a-868d13486d23\")) {\n",
       "                    Plotly.newPlot(\n",
       "                        'fca2deff-241c-4c5e-ac5a-868d13486d23',\n",
       "                        [{\"alignmentgroup\": \"True\", \"hoverlabel\": {\"namelength\": 0}, \"hovertemplate\": \"week=%{x}<br>feature_value=%{y}\", \"legendgroup\": \"\", \"marker\": {\"color\": \"#1F77B4\"}, \"name\": \"\", \"notched\": false, \"offsetgroup\": \"\", \"orientation\": \"v\", \"showlegend\": false, \"type\": \"box\", \"x\": [47, 47, 47, 47, 47, 47, 47, 47, 47, 47, 47, 47, 47, 47, 47, 47, 47, 47, 47, 47, 47, 47, 47, 47, 47, 47, 47, 47, 47, 47, 47, 47, 47, 47, 47, 47, 47, 47, 47, 47, 47, 47, 47, 47, 47, 47, 47, 47, 47, 47, 47, 47, 47, 47, 47, 47, 47, 47, 47, 47, 47, 47, 47, 47, 47, 47, 47, 47, 47, 47, 47, 47, 47, 47, 47, 47, 47, 47, 47, 47, 47, 47, 47, 47, 47, 47, 47, 47, 47, 47, 47, 47, 47, 47, 47, 47, 47, 47, 47, 47, 47, 47, 47, 47, 47, 47, 47, 47, 48, 48, 48, 48, 48, 48, 48, 48, 48, 48, 48, 48, 48, 48, 48, 48, 48, 48, 48, 48, 48, 48, 48, 48, 48, 48, 48, 48, 48, 48, 48, 48, 48, 48, 48, 48, 48, 48, 48, 48, 48, 48, 48, 48, 48, 48, 48, 48, 48, 48, 48, 48, 48, 48, 48, 48, 48, 48, 48, 48, 48, 48, 48, 48, 48, 48, 48, 48, 48, 48, 48, 48, 48, 48, 48, 48, 48, 48, 48, 48, 48, 48, 48, 48, 48, 48, 48, 48, 48, 48, 48, 48, 48, 48, 48, 48, 48, 48, 48, 48, 48, 48, 48, 48, 48, 48, 48, 48, 48, 48, 48, 48, 48, 48, 48, 48, 48, 48, 48, 48, 48, 48, 48, 48, 48, 48, 48, 48, 48, 48, 48, 48, 48, 48, 48, 48, 48, 48, 48, 48, 48, 48, 48, 48, 48, 48, 48, 48, 48, 48, 48, 48, 48, 48, 48, 48, 48, 48, 48, 48, 48, 48, 48, 48, 48, 48, 49, 49, 49, 49, 49, 49, 49, 49, 49, 49, 49, 49, 49, 49, 49, 49, 49, 49, 49, 49, 49, 49, 49, 49, 49, 49, 49, 49, 50, 50, 50, 50, 50, 50, 50, 50, 50, 50, 50, 50, 50, 50, 50, 50, 50, 50, 50, 50, 50, 50, 50, 50, 50, 50, 50, 50, 50, 50, 50, 50, 50, 50, 50, 50, 50, 50, 50, 50, 50, 50, 50, 50, 50, 50, 50, 50, 50, 50, 50, 50, 50, 50, 50, 50, 50, 50, 50, 50, 50, 50, 51, 51, 51, 51, 51, 51, 51, 51, 51, 51, 51, 51, 51, 51, 51, 51, 51, 51, 51, 51, 51, 51, 51, 51, 51, 51, 51, 51, 51, 51, 51, 51, 51, 51, 51, 51, 51, 51, 51, 51, 51, 51, 51, 51, 51, 51, 51, 51, 51, 51, 51, 51, 51, 51, 51, 51, 51, 51, 51, 51, 51, 51, 51, 51, 51, 51, 51, 51, 51, 51, 51, 51, 51, 51, 51, 51, 51, 51, 51, 51, 51, 51, 51, 51, 51, 51, 51, 51, 51, 51, 51, 51, 51, 51, 51, 51, 51, 51, 51, 51, 51, 51, 51, 51, 51, 51, 51, 51, 51, 51, 51, 51, 51, 51, 51, 51, 51, 51, 51, 51, 51, 51, 51, 51, 51, 51, 51, 51, 51, 51, 51, 51, 51, 51, 51, 51, 51, 51, 51, 51, 51, 51, 51, 51, 51, 51, 51, 51, 51, 51, 51, 51, 51, 51, 51, 51, 51, 51, 51, 51, 51, 51, 51, 51, 51, 51, 51, 52, 52, 52, 52, 52, 52, 52, 52, 52, 52, 52, 52, 52, 52, 52, 52, 52, 52, 52, 52, 52, 52, 52, 52, 52, 52, 52, 52, 52, 52, 52, 52, 52, 52, 52, 52, 52, 52, 52, 52, 52, 52, 52, 52, 52, 52, 52, 52, 52, 52, 52, 52, 52, 52, 52, 52, 52, 52, 52, 52, 52, 52, 52, 52, 52, 52, 52, 52, 52, 52, 52, 52, 52, 52, 52, 52, 52, 52, 52, 52, 52, 52, 52, 52, 52, 52, 52, 52, 52, 52, 52, 52, 52, 52, 52, 52, 52, 52, 52, 52, 52, 52, 52, 52, 52, 52, 52, 52, 52, 52, 52, 52, 52, 52, 52, 52, 52, 52, 52, 52, 52, 52, 52, 52, 52, 52, 52, 52, 52, 52, 52, 52, 52, 52, 52, 52, 52, 52, 52, 52, 52, 52, 52, 52, 52, 52, 52, 52, 52, 52, 52, 52, 52, 52, 52, 52, 52, 52, 52, 52, 52, 52, 52, 52, 52, 52, 52, 52, 1, 1, 1, 1, 1, 1, 1, 1, 1, 1, 1, 1, 1, 1, 1, 1, 1, 1, 1, 1, 1, 1, 1, 1, 1, 1, 1, 1, 1, 1, 1, 1, 1, 1, 1, 1, 1, 1, 1, 1, 1, 1, 1, 1, 1, 1, 1, 1, 1, 1, 1, 1, 1, 1, 1, 1, 1, 1, 1, 1, 1, 1, 1, 1, 1, 1, 1, 1, 1, 1, 1, 1, 1, 1, 1, 1, 1, 1, 1, 1, 1, 1, 1, 1, 1, 1, 1, 1, 1, 1, 1, 1, 1, 1, 1, 1, 1, 1, 1, 1, 1, 1, 1, 1, 1, 1, 1, 1, 1, 1, 1, 1, 1, 1, 1, 1, 1, 1, 1, 1, 1, 1, 1, 1, 1, 1, 1, 1, 1, 1, 1, 1, 1, 1, 1, 1, 1, 1, 1, 1, 1, 1, 1, 1, 1, 1, 1, 1, 1, 1, 1, 1, 1, 1, 1, 1, 1, 1, 1, 1, 1, 1, 1, 1, 2, 2, 2, 2, 2, 2, 2, 2, 2, 2, 2], \"x0\": \" \", \"xaxis\": \"x\", \"y\": [56.53873182124854, 55.776862026862, 56.59785953313345, 56.334059459059446, 56.130443630443615, 56.91264753764754, 56.4922924297924, 56.618844118844095, 56.29896723646724, 56.16414835164836, 56.789275539275515, 56.765109890109876, 56.65572853072853, 56.34475478225479, 57.12950244200244, 56.87003968253969, 56.949531949531966, 57.00104293854293, 56.73585673585675, 56.40516890516892, 57.050010175010186, 56.36383292633294, 56.8000864875865, 56.45911765703431, 56.86622405372406, 56.84968966218966, 56.86050061050062, 56.427426739926744, 56.15715303215305, 56.8503256003256, 56.41661579161578, 56.75048331298331, 57.56003256003256, 56.58513939763938, 56.731405168905184, 56.77019739519741, 56.62265974765976, 56.45985958485957, 56.66335978835979, 56.45985958485958, 56.40071733821736, 56.23346560846562, 57.32982295482295, 56.239824989825, 56.671626984126995, 56.532992470492474, 56.95970695970695, 56.339031339031344, 56.49547212047212, 57.08816646316646, 55.5631868131868, 57.163207163207154, 56.314229751729755, 56.06812169312172, 56.49483618233618, 56.563517501017515, 55.863349613349605, 56.458587708587714, 55.90341371591372, 56.33521571021572, 57.01630545380545, 56.581323768823744, 56.677350427350426, 56.53871591371591, 56.793727106227124, 56.877035002035, 57.03601953601955, 56.70342389092391, 56.74221611721611, 56.43315018315018, 56.949531949531945, 56.537444037444054, 56.732041107041105, 56.58959096459097, 56.75175518925519, 56.36764855514853, 56.35492979242978, 56.259539072039075, 56.46939865689864, 56.03441697191696, 56.41725172975176, 56.35556573056573, 56.13298738298738, 56.44332519332519, 56.36319698819699, 56.75429894179896, 56.269078144078144, 56.782280219780226, 56.76828958078958, 56.69706450956452, 56.76065832315832, 56.49674399674398, 56.65064102564103, 56.59849409849409, 57.12250712250712, 57.54031847781848, 56.52218152218152, 56.99468355718357, 56.311050061050075, 56.19912494912496, 56.64682539682539, 56.91010378510378, 56.528540903540915, 56.51645807895807, 56.41725172975171, 56.63219881969882, 56.310414122914125, 56.652548840048844, 56.81662087912088, 56.94635225885228, 56.70596764346765, 56.875127187627214, 57.32473544973546, 57.697395197395196, 56.88593813593814, 56.952711640211646, 57.268772893772905, 56.84905372405374, 56.97115384615384, 56.93872100122101, 57.084350834350836, 57.310108872608886, 57.16638685388685, 57.13649776149776, 57.51996845746846, 57.65669515669516, 57.94159544159546, 56.99468355718357, 57.7641687016687, 57.67195767195767, 57.17401811151814, 57.763532763532744, 57.31392450142451, 56.81089743589744, 58.045253357753346, 57.76671245421246, 57.90725478225479, 58.048433048433054, 57.00740231990233, 57.55430911680912, 57.018849206349195, 57.16956654456656, 57.57147944647946, 57.507249694749675, 57.31456043956044, 57.54477004477005, 57.57147944647946, 57.119327431827436, 57.53841066341065, 57.90598290598291, 57.891356328856325, 57.70311864061864, 57.70375457875458, 57.64334045584047, 57.167658730158735, 56.89865689865692, 57.19564000814003, 57.59946072446072, 57.71520146520148, 57.635073260073256, 57.70820614570616, 57.65478734228734, 57.68213268213268, 57.41440272690273, 57.34953703703703, 57.4474715099715, 57.67704517704519, 57.259869759869765, 57.07989926739928, 56.78863960113961, 57.18101343101344, 57.382605820105816, 57.273224460724464, 57.482448107448114, 57.54985754985757, 56.929817867317894, 57.08816646316646, 57.42839336589336, 57.40359177859176, 57.81250000000001, 58.09676434676435, 57.592465404965424, 57.860831298331306, 57.5256919006919, 57.69357956857959, 57.43984025234025, 57.646520146520125, 57.14285714285713, 57.42839336589338, 57.3635276760277, 57.25859788359788, 56.98896011396013, 57.15430402930402, 56.76956145706145, 57.390873015873034, 57.67259361009361, 57.34444953194954, 57.61790293040292, 57.10470085470087, 57.23570411070411, 56.76447395197397, 57.49643874643875, 56.91900691900691, 57.22234940984941, 57.04619454619455, 57.49834656084659, 57.14031339031339, 57.074175824175825, 57.49961843711844, 56.61184879934881, 57.46782153032154, 57.16511497761499, 57.378790191290186, 57.277676027676044, 56.89674908424909, 57.151124338624335, 57.3056573056573, 57.26686507936509, 57.270044770044784, 57.709478021978015, 57.20072751322751, 57.357804232804234, 57.6020044770045, 57.16129934879936, 56.61884411884412, 57.11233211233212, 57.09452584452587, 57.255418192918206, 57.26304945054946, 57.865282865282865, 57.175289987789995, 57.53650284900286, 57.780067155067144, 57.32409951159952, 57.32855107855108, 57.04365079365082, 57.22044159544159, 57.08053520553523, 57.43284493284492, 57.60200447700449, 57.91170634920636, 57.090710215710224, 57.82013125763128, 57.462734025234035, 57.627442002441995, 58.09867216117215, 57.30565730565732, 57.221713471713464, 57.28339947089945, 57.0353835978836, 57.97313797313798, 57.7959656084656, 57.46019027269029, 57.795329670329686, 57.52378408628409, 57.6859483109483, 57.44810744810746, 57.68149674399675, 56.97115384615385, 57.63570919820919, 58.28118640618643, 57.903439153439145, 57.226800976801, 58.20996133496135, 58.050976800976805, 57.69485144485143, 57.66814204314203, 57.60582010582011, 56.79945054945054, 57.474180911680925, 57.81758750508754, 57.1689306064306, 57.66114672364673, 57.67450142450142, 57.093889906389904, 57.86273911273911, 57.31710419210421, 57.41885429385428, 57.797873422873444, 57.38451363451364, 57.394052706552706, 57.44874338624339, 57.48435592185592, 57.65150166191833, 57.16956654456656, 57.35653235653237, 57.170202482702486, 57.66750610500612, 57.37624643874643, 57.164479039479026, 56.89166157916157, 57.025844525844526, 56.960342897842885, 57.52759971509972, 57.34508547008548, 56.74475986975988, 56.92791005291005, 57.137769637769644, 56.43315018315017, 57.9708485958486, 57.866554741554744, 57.02139295889296, 56.70177045177047, 57.163207163207176, 56.688797313797316, 57.112968050468034, 57.16193528693529, 57.36289173789172, 57.11614774114775, 56.988960113960125, 57.318376068376075, 56.387998575498564, 56.55334249084248, 57.32091982091982, 56.86558811558811, 57.68531237281237, 57.846204721204735, 56.98641636141637, 57.764804639804645, 56.8452380952381, 56.93299755799754, 56.91264753764753, 57.05954924704926, 57.572751322751316, 56.751755189255185, 57.22680097680097, 56.945080382580365, 56.72123015873017, 57.196275946275954, 56.64746133496132, 57.78006715506715, 57.45383089133089, 57.362255799755815, 57.084350834350836, 56.716142653642656, 56.72313797313797, 56.856684981684985, 57.17147435897434, 57.32537138787138, 56.746031746031754, 56.74921143671144, 56.594678469678485, 57.35971204721204, 56.95461945461946, 56.69006919006919, 56.64110195360195, 56.825524013024, 56.91646316646316, 57.026480463980455, 57.2070868945869, 57.04365079365081, 57.040471102971104, 57.031567969067964, 57.16129934879935, 56.712327024827026, 57.26559320309321, 56.68307387057388, 56.99213980463981, 57.06209299959301, 57.120599308099315, 57.04301485551486, 57.13077431827433, 57.43475274725275, 57.27576821326823, 57.57783882783883, 57.60264041514043, 57.001042938542945, 57.06145706145707, 56.559065934065934, 56.82298026048026, 56.69134106634107, 57.09261803011805, 57.139041514041516, 57.85637973137975, 57.43093711843712, 57.06972425722426, 57.23443223443224, 57.351444851444846, 57.062092999593006, 57.69548738298737, 57.156211843711844, 57.08625864875865, 57.58674196174196, 56.72568172568172, 56.49102055352056, 55.80547924297925, 55.982905982905976, 56.267170329670336, 56.176867114367106, 55.876704314204325, 56.52472527472526, 56.20866402116402, 56.781008343508354, 56.470670533170534, 56.194673382173384, 56.022970085470085, 56.05540293040293, 56.18449837199838, 56.25254375254375, 55.89514652014651, 56.370192307692314, 56.138074888074875, 56.03632478632479, 55.90722934472935, 55.906593406593394, 56.24491249491249, 55.616605616605604, 56.37909544159547, 56.47893772893773, 56.326948514448524, 56.05222323972325, 56.97560541310542, 56.421703296703306, 56.97878510378509, 56.63410663410662, 56.8236161986162, 56.47893772893773, 56.405168905168914, 56.06176231176232, 57.19691188441187, 55.7431573056573, 56.141890516890506, 55.9180402930403, 55.998168498168496, 56.22392653642654, 56.5501628001628, 56.36828449328451, 56.096102971102965, 56.58386752136752, 56.49483618233619, 56.13934676434676, 56.243004680504676, 55.90722934472935, 55.947929385429376, 56.40771265771266, 56.05095136345137, 56.763202075702075, 56.426790801790816, 56.245548433048434, 56.29324379324379, 56.42615486365486, 56.78418803418804, 56.71041921041922, 57.020757020757, 56.508826821326814, 56.51836589336591, 56.82743182743184, 57.01312576312574, 56.767653642653634, 56.91646316646319, 56.82933964183965, 56.379731379731375, 56.81153337403338, 56.78545991045991, 56.337759462759465, 56.71359890109891, 56.85986467236469, 56.87385531135532, 56.503739316239326, 56.81916463166464, 56.5819597069597, 56.75875050875052, 56.65572853072853, 56.45604395604396, 56.3434829059829, 56.78291615791617, 56.65509259259258, 56.832519332519325, 56.520909645909654, 56.65509259259259, 56.28879222629223, 56.44459706959707, 56.4636752136752, 57.37624643874644, 56.81789275539277, 56.67417073667074, 57.28975885225886, 57.21408221408223, 57.33045889295891, 56.99786324786326, 57.29421041921043, 56.86240842490843, 57.43920431420432, 57.207722832722844, 56.99595543345543, 56.750483312983306, 57.07163207163208, 56.74285205535207, 57.40613553113553, 56.96034289784291, 56.875127187627186, 56.882122507122496, 56.86940374440377, 57.12950244200244, 57.1988196988197, 57.18673687423688, 56.93554131054132, 57.04492266992266, 57.09516178266179, 57.41821835571836, 56.92600223850224, 57.269408831908834, 57.35716829466832, 57.401683964183974, 56.83124745624746, 56.46240333740334, 57.066544566544586, 56.96543040293043, 56.926638176638185, 56.60866910866912, 56.884666259666254, 57.06018518518518, 57.101521164021186, 57.422033984533975, 56.898656898656895, 57.05954924704924, 56.967974155474145, 57.04365079365079, 56.956527269027276, 56.98260073260072, 57.092618030118025, 56.94317256817258, 56.55715811965812, 57.20072751322751, 57.52759971509972, 56.88721001221001, 57.132046194546206, 57.502798127798144, 56.91582722832723, 57.023936711436725, 57.04873829873829, 57.1918243793244, 57.30820105820107, 57.075447700447704, 57.472273097273096, 57.77370777370779, 57.22743691493692, 56.8287037037037, 57.00613044363046, 57.52505596255596, 56.79181929181929, 57.46972934472935, 56.81789275539276, 57.11106023606024, 56.95080382580385, 57.37243080993081, 57.06145706145705, 57.7590811965812, 57.37624643874643, 56.874491249491264, 57.224893162393165, 57.216625966625976, 57.33999796499797, 57.22998066748067, 56.66463166463168, 56.63601444851445, 57.32727920227921, 56.70596764346764, 56.099918599918595, 57.29357448107448, 57.17528998778999, 56.877035002034994, 56.513278388278394, 56.775284900284895, 57.17656186406186, 56.96225071225074, 57.28149165649168, 57.04174297924297, 57.56194037444038, 56.71423483923485, 57.1422212047212, 56.72186609686608, 57.13458994708994, 57.244607244607266, 56.95271164021164, 57.04237891737892, 56.90501628001629, 56.860500610500615, 57.28657916157916, 57.30947293447293, 57.078627391127405, 56.43505799755798, 56.98323667073665, 56.767017704517706, 56.57178469678471, 56.981328856328865, 56.84142246642247, 57.34508547008546, 57.00994607244608, 57.140313390313395, 57.50979344729345, 56.80517399267401, 56.98641636141637, 57.451287138787144, 57.03474765974769, 57.30120573870574, 56.801358363858384, 57.18228530728529, 57.49198717948718, 57.054461741961745, 57.36416361416364, 56.45413614163615, 56.93172568172569, 56.72758954008956, 57.055097680097674, 56.38609076109075, 56.58768315018315, 56.76383801383802, 57.14540089540089, 57.04047110297111, 56.56415343915345, 56.64428164428164, 56.83251933251932, 57.08180708180709, 56.85032560032561, 56.89802096052097, 57.432208994709015, 56.57305657305657, 57.246515059015074, 57.29802604802605, 57.222985347985365, 57.12059930809931, 57.16575091575091, 57.200091575091584, 57.21535409035409, 56.758750508750495, 57.05573361823363, 56.79181929181929, 56.98323667073666, 57.39659645909645, 57.100249287749286, 56.83633496133498, 57.01757733007731, 57.32791514041515, 57.18610093610095, 57.207722832722844, 57.31328856328857, 56.80326617826618, 57.178469678469675, 56.929817867317865, 56.56669719169721, 57.04683048433049, 57.154304029304036, 57.43093711843712, 57.60772792022794, 56.91264753764753, 57.01757733007734, 56.98260073260073, 56.83379120879122, 57.25414631664631, 57.22870879120878, 57.2306166056166, 57.343177655677636, 56.88593813593814, 57.001678876678874, 57.61790293040293, 57.03665547415548, 56.996591371591364, 57.04746642246642, 57.64524827024827, 57.32346357346358, 57.256690069190064, 57.388965201465204, 57.447471509971514, 56.7466676841677, 56.910739723239736, 57.07799145299146, 57.31328856328859, 57.36670736670738, 57.051282051282065, 57.22680097680098, 56.3784595034595, 57.16257122507121, 57.41821835571835, 56.51391432641433, 57.15430402930403, 57.74636243386243, 57.429665242165235, 57.60009666259666, 57.974028286528274, 57.46464183964184, 57.44238400488398, 57.144764957264954, 56.801994301994306, 56.805809930809914, 57.61217948717947, 57.45828245828247, 57.32282763532763, 57.72982804232803, 57.008038258038255, 57.264957264957246, 57.87800162800162, 57.643976393976395, 57.28149165649165, 57.25096662596661, 57.841753154253155, 56.593406593406606, 57.378154253154264, 57.20199938949937, 56.997227309727315, 57.128866503866504, 57.46273402523403, 57.53968253968254, 57.588649776149786, 57.44556369556372, 57.111696174196176, 57.569571632071636, 57.21471815221816, 57.32664326414326, 57.44619963369964, 57.28912291412291, 57.55685286935286, 57.79405779405781, 57.50152625152626, 57.16193528693528, 57.75462962962962, 58.0643315018315, 57.82839845339844, 58.394383394383404, 57.879909442409456, 57.70693426943427, 58.10693935693936, 58.29136141636144, 57.608363858363866, 57.61408730158729, 57.92378917378917, 57.19945563695564, 58.130469067969074, 58.01472832722834, 57.990562678062695, 57.69167175417177, 58.60297110297111, 57.951134513634535, 57.95431420431422, 57.19881969881968, 57.24842287342289, 57.623626373626365, 57.74254680504681, 57.844296906796906, 57.365435490435495, 57.83984533984534, 58.15527065527066, 57.26368538868539, 57.38514957264957, 57.069088319088316, 57.121235246235265, 56.75811457061456, 56.85859279609281, 56.96797415547416, 57.549221611721606, 57.41058709808712, 56.970517908017904, 57.603276353276364, 57.23570411070412, 57.926332926332925, 57.55367317867317, 57.245243182743195, 57.81250000000001, 57.3756105006105, 58.05161273911273, 56.98641636141637, 57.52187627187629, 57.397868335368365, 57.69930301180304, 57.26750101750102, 57.23761192511193, 57.34699328449329, 57.35589641839642, 57.90280321530321, 57.585470085470085, 57.474816849816875, 58.48850223850224, 57.66178266178267, 57.366707366707374, 57.50343406593407, 57.97466422466423, 57.243971306471316, 57.83602971102971, 57.68976393976394, 58.27228327228326, 57.00676638176639, 57.53968253968254, 57.88817663817665, 57.53650284900286, 57.37688237688237, 57.75780932030931, 57.631893569393576, 58.24557387057386, 57.82331094831094, 57.77116402116403, 58.41791310541311, 57.76544057794059, 58.5482804232804, 57.81059218559219, 58.148275335775345, 58.63794770044769, 58.286273911273916, 58.63540394790396, 58.136828449328455, 57.638888888888886, 58.54955229955231, 58.36513024013024, 57.8792735042735, 58.17689255189254, 57.720924908424905, 57.66305453805455, 57.77561558811559, 58.51648351648351, 58.421728734228736, 58.51330382580384, 58.4109177859178, 58.09358465608466, 58.606150793650784, 58.49549755799759, 58.09612840862841, 58.49486161986161, 58.45924908424908, 58.737154049654045, 58.37784900284902, 57.93332824582826, 58.41600529100531, 58.31870675620676, 58.37721306471307, 57.643340455840466, 58.117750305250325, 58.08404558404559, 58.214412901912915, 58.675468050468055, 58.09994403744404, 58.31107549857549, 58.230947293447315, 58.39120370370372, 58.47323972323972, 57.864646927146936, 58.508216320716336, 58.39692714692715, 58.054792429792435, 58.40964590964592, 58.26655982905982, 58.38039275539277, 58.154634717134705, 57.943503256003254, 58.47832722832724, 57.79660154660154, 57.85510785510786, 57.94731888481888, 58.40900997150999, 58.487866300366306, 58.28118640618641, 58.274827024827026, 58.11647842897843, 58.11266280016283, 58.332061457061464, 58.280550468050485, 58.405830280830294, 58.368945868945865, 57.94095950345951, 58.4776912901913, 58.44080687830688, 57.61663105413107, 57.972756410256416, 58.013456450956475, 58.30535205535205, 58.47769129019131, 58.46624440374439, 58.694546194546184, 58.07577838827837, 58.536833536833534, 58.35113960113961, 58.52856634106636, 58.71743996743998, 58.2125050875051, 58.46815221815223, 58.631588319088316], \"y0\": \" \", \"yaxis\": \"y\"}],\n",
       "                        {\"boxmode\": \"group\", \"legend\": {\"tracegroupgap\": 0}, \"template\": {\"data\": {\"bar\": [{\"error_x\": {\"color\": \"rgb(36,36,36)\"}, \"error_y\": {\"color\": \"rgb(36,36,36)\"}, \"marker\": {\"line\": {\"color\": \"white\", \"width\": 0.5}}, \"type\": \"bar\"}], \"barpolar\": [{\"marker\": {\"line\": {\"color\": \"white\", \"width\": 0.5}}, \"type\": \"barpolar\"}], \"carpet\": [{\"aaxis\": {\"endlinecolor\": \"rgb(36,36,36)\", \"gridcolor\": \"white\", \"linecolor\": \"white\", \"minorgridcolor\": \"white\", \"startlinecolor\": \"rgb(36,36,36)\"}, \"baxis\": {\"endlinecolor\": \"rgb(36,36,36)\", \"gridcolor\": \"white\", \"linecolor\": \"white\", \"minorgridcolor\": \"white\", \"startlinecolor\": \"rgb(36,36,36)\"}, \"type\": \"carpet\"}], \"choropleth\": [{\"colorbar\": {\"outlinewidth\": 1, \"tickcolor\": \"rgb(36,36,36)\", \"ticks\": \"outside\"}, \"type\": \"choropleth\"}], \"contour\": [{\"colorbar\": {\"outlinewidth\": 1, \"tickcolor\": \"rgb(36,36,36)\", \"ticks\": \"outside\"}, \"colorscale\": [[0.0, \"#440154\"], [0.1111111111111111, \"#482878\"], [0.2222222222222222, \"#3e4989\"], [0.3333333333333333, \"#31688e\"], [0.4444444444444444, \"#26828e\"], [0.5555555555555556, \"#1f9e89\"], [0.6666666666666666, \"#35b779\"], [0.7777777777777778, \"#6ece58\"], [0.8888888888888888, \"#b5de2b\"], [1.0, \"#fde725\"]], \"type\": \"contour\"}], \"contourcarpet\": [{\"colorbar\": {\"outlinewidth\": 1, \"tickcolor\": \"rgb(36,36,36)\", \"ticks\": \"outside\"}, \"type\": \"contourcarpet\"}], \"heatmap\": [{\"colorbar\": {\"outlinewidth\": 1, \"tickcolor\": \"rgb(36,36,36)\", \"ticks\": \"outside\"}, \"colorscale\": [[0.0, \"#440154\"], [0.1111111111111111, \"#482878\"], [0.2222222222222222, \"#3e4989\"], [0.3333333333333333, \"#31688e\"], [0.4444444444444444, \"#26828e\"], [0.5555555555555556, \"#1f9e89\"], [0.6666666666666666, \"#35b779\"], [0.7777777777777778, \"#6ece58\"], [0.8888888888888888, \"#b5de2b\"], [1.0, \"#fde725\"]], \"type\": \"heatmap\"}], \"heatmapgl\": [{\"colorbar\": {\"outlinewidth\": 1, \"tickcolor\": \"rgb(36,36,36)\", \"ticks\": \"outside\"}, \"colorscale\": [[0.0, \"#440154\"], [0.1111111111111111, \"#482878\"], [0.2222222222222222, \"#3e4989\"], [0.3333333333333333, \"#31688e\"], [0.4444444444444444, \"#26828e\"], [0.5555555555555556, \"#1f9e89\"], [0.6666666666666666, \"#35b779\"], [0.7777777777777778, \"#6ece58\"], [0.8888888888888888, \"#b5de2b\"], [1.0, \"#fde725\"]], \"type\": \"heatmapgl\"}], \"histogram\": [{\"marker\": {\"line\": {\"color\": \"white\", \"width\": 0.6}}, \"type\": \"histogram\"}], \"histogram2d\": [{\"colorbar\": {\"outlinewidth\": 1, \"tickcolor\": \"rgb(36,36,36)\", \"ticks\": \"outside\"}, \"colorscale\": [[0.0, \"#440154\"], [0.1111111111111111, \"#482878\"], [0.2222222222222222, \"#3e4989\"], [0.3333333333333333, \"#31688e\"], [0.4444444444444444, \"#26828e\"], [0.5555555555555556, \"#1f9e89\"], [0.6666666666666666, \"#35b779\"], [0.7777777777777778, \"#6ece58\"], [0.8888888888888888, \"#b5de2b\"], [1.0, \"#fde725\"]], \"type\": \"histogram2d\"}], \"histogram2dcontour\": [{\"colorbar\": {\"outlinewidth\": 1, \"tickcolor\": \"rgb(36,36,36)\", \"ticks\": \"outside\"}, \"colorscale\": [[0.0, \"#440154\"], [0.1111111111111111, \"#482878\"], [0.2222222222222222, \"#3e4989\"], [0.3333333333333333, \"#31688e\"], [0.4444444444444444, \"#26828e\"], [0.5555555555555556, \"#1f9e89\"], [0.6666666666666666, \"#35b779\"], [0.7777777777777778, \"#6ece58\"], [0.8888888888888888, \"#b5de2b\"], [1.0, \"#fde725\"]], \"type\": \"histogram2dcontour\"}], \"mesh3d\": [{\"colorbar\": {\"outlinewidth\": 1, \"tickcolor\": \"rgb(36,36,36)\", \"ticks\": \"outside\"}, \"type\": \"mesh3d\"}], \"parcoords\": [{\"line\": {\"colorbar\": {\"outlinewidth\": 1, \"tickcolor\": \"rgb(36,36,36)\", \"ticks\": \"outside\"}}, \"type\": \"parcoords\"}], \"pie\": [{\"automargin\": true, \"type\": \"pie\"}], \"scatter\": [{\"marker\": {\"colorbar\": {\"outlinewidth\": 1, \"tickcolor\": \"rgb(36,36,36)\", \"ticks\": \"outside\"}}, \"type\": \"scatter\"}], \"scatter3d\": [{\"line\": {\"colorbar\": {\"outlinewidth\": 1, \"tickcolor\": \"rgb(36,36,36)\", \"ticks\": \"outside\"}}, \"marker\": {\"colorbar\": {\"outlinewidth\": 1, \"tickcolor\": \"rgb(36,36,36)\", \"ticks\": \"outside\"}}, \"type\": \"scatter3d\"}], \"scattercarpet\": [{\"marker\": {\"colorbar\": {\"outlinewidth\": 1, \"tickcolor\": \"rgb(36,36,36)\", \"ticks\": \"outside\"}}, \"type\": \"scattercarpet\"}], \"scattergeo\": [{\"marker\": {\"colorbar\": {\"outlinewidth\": 1, \"tickcolor\": \"rgb(36,36,36)\", \"ticks\": \"outside\"}}, \"type\": \"scattergeo\"}], \"scattergl\": [{\"marker\": {\"colorbar\": {\"outlinewidth\": 1, \"tickcolor\": \"rgb(36,36,36)\", \"ticks\": \"outside\"}}, \"type\": \"scattergl\"}], \"scattermapbox\": [{\"marker\": {\"colorbar\": {\"outlinewidth\": 1, \"tickcolor\": \"rgb(36,36,36)\", \"ticks\": \"outside\"}}, \"type\": \"scattermapbox\"}], \"scatterpolar\": [{\"marker\": {\"colorbar\": {\"outlinewidth\": 1, \"tickcolor\": \"rgb(36,36,36)\", \"ticks\": \"outside\"}}, \"type\": \"scatterpolar\"}], \"scatterpolargl\": [{\"marker\": {\"colorbar\": {\"outlinewidth\": 1, \"tickcolor\": \"rgb(36,36,36)\", \"ticks\": \"outside\"}}, \"type\": \"scatterpolargl\"}], \"scatterternary\": [{\"marker\": {\"colorbar\": {\"outlinewidth\": 1, \"tickcolor\": \"rgb(36,36,36)\", \"ticks\": \"outside\"}}, \"type\": \"scatterternary\"}], \"surface\": [{\"colorbar\": {\"outlinewidth\": 1, \"tickcolor\": \"rgb(36,36,36)\", \"ticks\": \"outside\"}, \"colorscale\": [[0.0, \"#440154\"], [0.1111111111111111, \"#482878\"], [0.2222222222222222, \"#3e4989\"], [0.3333333333333333, \"#31688e\"], [0.4444444444444444, \"#26828e\"], [0.5555555555555556, \"#1f9e89\"], [0.6666666666666666, \"#35b779\"], [0.7777777777777778, \"#6ece58\"], [0.8888888888888888, \"#b5de2b\"], [1.0, \"#fde725\"]], \"type\": \"surface\"}], \"table\": [{\"cells\": {\"fill\": {\"color\": \"rgb(237,237,237)\"}, \"line\": {\"color\": \"white\"}}, \"header\": {\"fill\": {\"color\": \"rgb(217,217,217)\"}, \"line\": {\"color\": \"white\"}}, \"type\": \"table\"}]}, \"layout\": {\"annotationdefaults\": {\"arrowhead\": 0, \"arrowwidth\": 1}, \"coloraxis\": {\"colorbar\": {\"outlinewidth\": 1, \"tickcolor\": \"rgb(36,36,36)\", \"ticks\": \"outside\"}}, \"colorscale\": {\"diverging\": [[0.0, \"rgb(103,0,31)\"], [0.1, \"rgb(178,24,43)\"], [0.2, \"rgb(214,96,77)\"], [0.3, \"rgb(244,165,130)\"], [0.4, \"rgb(253,219,199)\"], [0.5, \"rgb(247,247,247)\"], [0.6, \"rgb(209,229,240)\"], [0.7, \"rgb(146,197,222)\"], [0.8, \"rgb(67,147,195)\"], [0.9, \"rgb(33,102,172)\"], [1.0, \"rgb(5,48,97)\"]], \"sequential\": [[0.0, \"#440154\"], [0.1111111111111111, \"#482878\"], [0.2222222222222222, \"#3e4989\"], [0.3333333333333333, \"#31688e\"], [0.4444444444444444, \"#26828e\"], [0.5555555555555556, \"#1f9e89\"], [0.6666666666666666, \"#35b779\"], [0.7777777777777778, \"#6ece58\"], [0.8888888888888888, \"#b5de2b\"], [1.0, \"#fde725\"]], \"sequentialminus\": [[0.0, \"#440154\"], [0.1111111111111111, \"#482878\"], [0.2222222222222222, \"#3e4989\"], [0.3333333333333333, \"#31688e\"], [0.4444444444444444, \"#26828e\"], [0.5555555555555556, \"#1f9e89\"], [0.6666666666666666, \"#35b779\"], [0.7777777777777778, \"#6ece58\"], [0.8888888888888888, \"#b5de2b\"], [1.0, \"#fde725\"]]}, \"colorway\": [\"#1F77B4\", \"#FF7F0E\", \"#2CA02C\", \"#D62728\", \"#9467BD\", \"#8C564B\", \"#E377C2\", \"#7F7F7F\", \"#BCBD22\", \"#17BECF\"], \"font\": {\"color\": \"rgb(36,36,36)\"}, \"geo\": {\"bgcolor\": \"white\", \"lakecolor\": \"white\", \"landcolor\": \"white\", \"showlakes\": true, \"showland\": true, \"subunitcolor\": \"white\"}, \"hoverlabel\": {\"align\": \"left\"}, \"hovermode\": \"closest\", \"mapbox\": {\"style\": \"light\"}, \"paper_bgcolor\": \"white\", \"plot_bgcolor\": \"white\", \"polar\": {\"angularaxis\": {\"gridcolor\": \"rgb(232,232,232)\", \"linecolor\": \"rgb(36,36,36)\", \"showgrid\": false, \"showline\": true, \"ticks\": \"outside\"}, \"bgcolor\": \"white\", \"radialaxis\": {\"gridcolor\": \"rgb(232,232,232)\", \"linecolor\": \"rgb(36,36,36)\", \"showgrid\": false, \"showline\": true, \"ticks\": \"outside\"}}, \"scene\": {\"xaxis\": {\"backgroundcolor\": \"white\", \"gridcolor\": \"rgb(232,232,232)\", \"gridwidth\": 2, \"linecolor\": \"rgb(36,36,36)\", \"showbackground\": true, \"showgrid\": false, \"showline\": true, \"ticks\": \"outside\", \"zeroline\": false, \"zerolinecolor\": \"rgb(36,36,36)\"}, \"yaxis\": {\"backgroundcolor\": \"white\", \"gridcolor\": \"rgb(232,232,232)\", \"gridwidth\": 2, \"linecolor\": \"rgb(36,36,36)\", \"showbackground\": true, \"showgrid\": false, \"showline\": true, \"ticks\": \"outside\", \"zeroline\": false, \"zerolinecolor\": \"rgb(36,36,36)\"}, \"zaxis\": {\"backgroundcolor\": \"white\", \"gridcolor\": \"rgb(232,232,232)\", \"gridwidth\": 2, \"linecolor\": \"rgb(36,36,36)\", \"showbackground\": true, \"showgrid\": false, \"showline\": true, \"ticks\": \"outside\", \"zeroline\": false, \"zerolinecolor\": \"rgb(36,36,36)\"}}, \"shapedefaults\": {\"fillcolor\": \"black\", \"line\": {\"width\": 0}, \"opacity\": 0.3}, \"ternary\": {\"aaxis\": {\"gridcolor\": \"rgb(232,232,232)\", \"linecolor\": \"rgb(36,36,36)\", \"showgrid\": false, \"showline\": true, \"ticks\": \"outside\"}, \"baxis\": {\"gridcolor\": \"rgb(232,232,232)\", \"linecolor\": \"rgb(36,36,36)\", \"showgrid\": false, \"showline\": true, \"ticks\": \"outside\"}, \"bgcolor\": \"white\", \"caxis\": {\"gridcolor\": \"rgb(232,232,232)\", \"linecolor\": \"rgb(36,36,36)\", \"showgrid\": false, \"showline\": true, \"ticks\": \"outside\"}}, \"title\": {\"x\": 0.05}, \"xaxis\": {\"automargin\": true, \"gridcolor\": \"rgb(232,232,232)\", \"linecolor\": \"rgb(36,36,36)\", \"showgrid\": false, \"showline\": true, \"ticks\": \"outside\", \"title\": {\"standoff\": 15}, \"zeroline\": false, \"zerolinecolor\": \"rgb(36,36,36)\"}, \"yaxis\": {\"automargin\": true, \"gridcolor\": \"rgb(232,232,232)\", \"linecolor\": \"rgb(36,36,36)\", \"showgrid\": false, \"showline\": true, \"ticks\": \"outside\", \"title\": {\"standoff\": 15}, \"zeroline\": false, \"zerolinecolor\": \"rgb(36,36,36)\"}}}, \"title\": {\"text\": \"OutletPressure g-pump-6 for all weeks \"}, \"xaxis\": {\"anchor\": \"y\", \"domain\": [0.0, 1.0], \"title\": {\"text\": \"week\"}, \"type\": \"category\"}, \"yaxis\": {\"anchor\": \"x\", \"domain\": [0.0, 1.0], \"title\": {\"text\": \"feature_value\"}}},\n",
       "                        {\"responsive\": true}\n",
       "                    ).then(function(){\n",
       "                            \n",
       "var gd = document.getElementById('fca2deff-241c-4c5e-ac5a-868d13486d23');\n",
       "var x = new MutationObserver(function (mutations, observer) {{\n",
       "        var display = window.getComputedStyle(gd).display;\n",
       "        if (!display || display === 'none') {{\n",
       "            console.log([gd, 'removed!']);\n",
       "            Plotly.purge(gd);\n",
       "            observer.disconnect();\n",
       "        }}\n",
       "}});\n",
       "\n",
       "// Listen for the removal of the full notebook cells\n",
       "var notebookContainer = gd.closest('#notebook-container');\n",
       "if (notebookContainer) {{\n",
       "    x.observe(notebookContainer, {childList: true});\n",
       "}}\n",
       "\n",
       "// Listen for the clearing of the current output cell\n",
       "var outputEl = gd.closest('.output');\n",
       "if (outputEl) {{\n",
       "    x.observe(outputEl, {childList: true});\n",
       "}}\n",
       "\n",
       "                        })\n",
       "                };\n",
       "                });\n",
       "            </script>\n",
       "        </div>"
      ]
     },
     "metadata": {},
     "output_type": "display_data"
    },
    {
     "data": {
      "application/vnd.plotly.v1+json": {
       "config": {
        "plotlyServerURL": "https://plot.ly"
       },
       "data": [
        {
         "alignmentgroup": "True",
         "hoverlabel": {
          "namelength": 0
         },
         "hovertemplate": "week=%{x}<br>feature_value=%{y}",
         "legendgroup": "",
         "marker": {
          "color": "#1F77B4"
         },
         "name": "",
         "notched": false,
         "offsetgroup": "",
         "orientation": "v",
         "showlegend": false,
         "type": "box",
         "x": [
          47,
          47,
          47,
          47,
          47,
          47,
          47,
          47,
          47,
          47,
          47,
          47,
          47,
          47,
          47,
          47,
          47,
          47,
          47,
          47,
          47,
          47,
          47,
          47,
          47,
          47,
          47,
          47,
          47,
          47,
          47,
          47,
          47,
          47,
          47,
          47,
          47,
          47,
          47,
          47,
          47,
          47,
          47,
          47,
          47,
          47,
          47,
          47,
          47,
          47,
          47,
          47,
          47,
          47,
          47,
          47,
          47,
          47,
          47,
          47,
          47,
          47,
          47,
          47,
          47,
          47,
          47,
          47,
          47,
          47,
          47,
          47,
          47,
          47,
          47,
          47,
          47,
          47,
          47,
          47,
          47,
          47,
          47,
          47,
          47,
          47,
          47,
          47,
          47,
          47,
          47,
          47,
          47,
          47,
          47,
          47,
          47,
          47,
          47,
          47,
          47,
          47,
          47,
          47,
          47,
          47,
          48,
          48,
          48,
          48,
          48,
          48,
          48,
          48,
          48,
          48,
          48,
          48,
          48,
          48,
          48,
          48,
          48,
          48,
          48,
          48,
          48,
          48,
          48,
          48,
          48,
          48,
          48,
          48,
          48,
          48,
          48,
          48,
          48,
          48,
          48,
          48,
          48,
          48,
          48,
          48,
          48,
          48,
          48,
          48,
          48,
          48,
          48,
          48,
          48,
          48,
          48,
          48,
          48,
          48,
          48,
          48,
          48,
          48,
          48,
          48,
          48,
          48,
          48,
          48,
          48,
          48,
          48,
          48,
          48,
          48,
          48,
          48,
          48,
          48,
          48,
          48,
          48,
          48,
          48,
          48,
          48,
          48,
          48,
          48,
          48,
          48,
          48,
          48,
          48,
          48,
          48,
          48,
          48,
          48,
          48,
          48,
          48,
          48,
          48,
          48,
          48,
          48,
          48,
          48,
          48,
          48,
          48,
          48,
          48,
          48,
          48,
          48,
          48,
          48,
          48,
          48,
          48,
          48,
          48,
          48,
          48,
          48,
          48,
          48,
          48,
          48,
          48,
          48,
          48,
          48,
          48,
          48,
          48,
          48,
          48,
          48,
          48,
          48,
          48,
          48,
          48,
          48,
          48,
          48,
          48,
          48,
          48,
          48,
          48,
          48,
          48,
          48,
          48,
          48,
          48,
          48,
          48,
          48,
          48,
          48,
          48,
          48,
          48,
          48,
          48,
          48,
          49,
          49,
          49,
          49,
          49,
          49,
          49,
          49,
          49,
          49,
          49,
          49,
          49,
          49,
          49,
          49,
          49,
          49,
          49,
          49,
          49,
          49,
          49,
          49,
          49,
          49,
          49,
          49,
          49,
          50,
          50,
          50,
          50,
          50,
          50,
          50,
          50,
          50,
          50,
          50,
          50,
          50,
          50,
          50,
          50,
          50,
          50,
          50,
          50,
          50,
          50,
          50,
          50,
          50,
          50,
          50,
          50,
          50,
          50,
          50,
          50,
          50,
          51,
          51,
          51,
          51,
          51,
          51,
          51,
          51,
          51,
          51,
          51,
          51,
          51,
          51,
          51,
          51,
          51,
          51,
          51,
          51,
          51,
          51,
          51,
          51,
          51,
          51,
          51,
          51,
          51,
          51,
          51,
          51,
          51,
          51,
          51,
          51,
          51,
          51,
          51,
          51,
          51,
          51,
          51,
          51,
          51,
          51,
          51,
          51,
          51,
          51,
          51,
          51,
          51,
          51,
          51,
          51,
          51,
          51,
          51,
          51,
          51,
          51,
          51,
          51,
          51,
          51,
          51,
          51,
          51,
          51,
          51,
          51,
          51,
          51,
          51,
          51,
          51,
          51,
          51,
          51,
          51,
          51,
          51,
          51,
          51,
          51,
          51,
          51,
          51,
          51,
          51,
          51,
          51,
          51,
          51,
          51,
          51,
          51,
          51,
          51,
          51,
          51,
          51,
          51,
          51,
          51,
          51,
          51,
          51,
          51,
          51,
          51,
          51,
          51,
          51,
          51,
          51,
          51,
          51,
          51,
          51,
          51,
          51,
          51,
          51,
          51,
          51,
          51,
          51,
          51,
          51,
          51,
          51,
          51,
          51,
          51,
          51,
          51,
          51,
          51,
          51,
          51,
          51,
          51,
          51,
          51,
          51,
          51,
          52,
          52,
          52,
          52,
          52,
          52,
          52,
          52,
          52,
          52,
          52,
          52,
          52,
          52,
          52,
          52,
          52,
          52,
          52,
          52,
          52,
          52,
          52,
          52,
          52,
          52,
          52,
          52,
          52,
          52,
          52,
          52,
          52,
          52,
          52,
          52,
          52,
          52,
          52,
          52,
          52,
          52,
          52,
          52,
          52,
          52,
          52,
          52,
          52,
          52,
          52,
          52,
          52,
          52,
          52,
          52,
          52,
          52,
          52,
          52,
          52,
          52,
          52,
          52,
          52,
          52,
          52,
          52,
          52,
          52,
          52,
          52,
          52,
          52,
          52,
          52,
          52,
          52,
          52,
          52,
          52,
          52,
          52,
          52,
          52,
          52,
          52,
          52,
          52,
          52,
          52,
          52,
          52,
          52,
          52,
          52,
          52,
          52,
          52,
          52,
          52,
          52,
          52,
          52,
          52,
          52,
          52,
          52,
          52,
          52,
          52,
          52,
          52,
          52,
          52,
          52,
          52,
          52,
          52,
          52,
          52,
          52,
          52,
          52,
          52,
          52,
          52,
          52,
          52,
          52,
          52,
          52,
          52,
          52,
          52,
          52,
          52,
          52,
          52,
          52,
          52,
          52,
          52,
          52,
          52,
          52,
          52,
          52,
          52,
          52,
          52,
          52,
          52,
          52,
          52,
          52,
          52,
          52,
          52,
          52,
          52,
          52,
          52,
          52,
          52,
          52,
          1,
          1,
          1,
          1,
          1,
          1,
          1,
          1,
          1,
          1,
          1,
          1,
          1,
          1,
          1,
          1,
          1,
          1,
          1,
          1,
          1,
          1,
          1,
          1,
          1,
          1,
          1,
          1,
          1,
          1,
          1,
          1,
          1,
          1,
          1,
          1,
          1,
          1,
          1,
          1,
          1,
          1,
          1,
          1,
          1,
          1,
          1,
          1,
          1,
          1,
          1,
          1,
          1,
          1,
          1,
          1,
          1,
          1,
          1,
          1,
          1,
          1,
          1,
          1,
          1,
          1,
          1,
          1,
          1,
          1,
          1,
          1,
          1,
          1,
          1,
          1,
          1,
          1,
          1,
          1,
          1,
          1,
          1,
          1,
          1,
          1,
          1,
          1,
          1,
          1,
          1,
          1,
          1,
          1,
          1,
          1,
          1,
          1,
          1,
          1,
          1,
          1,
          1,
          1,
          1,
          1,
          1,
          1,
          1,
          1,
          1,
          1,
          1,
          1,
          1,
          1,
          1,
          1,
          1,
          1,
          1,
          1,
          1,
          1,
          1,
          1,
          1,
          1,
          1,
          1,
          1,
          1,
          1,
          1,
          1,
          1,
          1,
          1,
          1,
          1,
          1,
          1,
          1,
          1,
          1,
          1,
          1,
          1,
          1,
          1,
          1,
          1,
          1,
          1,
          1,
          1,
          1,
          1,
          1,
          1,
          1,
          1,
          1,
          1,
          1,
          1,
          2,
          2,
          2,
          2,
          2,
          2,
          2,
          2,
          2,
          2,
          2,
          2,
          2,
          2,
          2,
          2,
          2
         ],
         "x0": " ",
         "xaxis": "x",
         "y": [
          3.3604487238058556,
          3.419922573828401,
          3.4163637288637294,
          3.4233185795685794,
          3.339819902319901,
          3.296703296703296,
          3.354319291819292,
          3.3685643060643056,
          3.3978810541310547,
          3.4028413715913697,
          3.427706552706552,
          3.4516814204314206,
          3.4844958282458296,
          3.328818172568172,
          3.3588980463980467,
          3.4029049654049643,
          3.3632224257224252,
          3.4139702889702868,
          3.517501017501018,
          3.423127798127799,
          3.376767908017906,
          3.3824913512413524,
          3.4443787308370655,
          3.3187067562067565,
          3.34210927960928,
          3.4242724867724856,
          3.4755291005291014,
          3.4719042531542548,
          3.390567765567766,
          3.3852894790394785,
          3.3403286528286524,
          3.268849206349207,
          3.4319673382173383,
          3.3339692714692704,
          3.326846764346765,
          3.475020350020351,
          3.408692002442002,
          3.3382300569800596,
          3.402904965404966,
          3.383763227513228,
          3.3339056776556784,
          3.4465939153439162,
          3.379057285307283,
          3.327673483923485,
          3.371934778184777,
          3.4437321937321936,
          3.4348290598290583,
          3.329835673585674,
          3.3947649572649587,
          3.430822649572651,
          3.4177223239723236,
          3.381028693528693,
          3.4025234025234035,
          3.432030932030932,
          3.312029405779405,
          3.3540649165649157,
          3.270884208384208,
          3.3735246235246237,
          3.395273707773709,
          3.313682844932845,
          3.376004782254782,
          3.312728937728938,
          3.3672288359788367,
          3.3896774521774518,
          3.3856710419210416,
          3.4057666870166865,
          3.3859890109890096,
          3.40398606023606,
          3.341473341473341,
          3.3674832112332105,
          3.3547644485144477,
          3.4258623321123323,
          3.393874643874643,
          3.350440069190071,
          3.478708791208792,
          3.274127492877492,
          3.3626500814000813,
          3.3073870573870585,
          3.396418396418396,
          3.4303138990638984,
          3.4423331298331306,
          3.379120879120879,
          3.3748600936100925,
          3.3910129222629233,
          3.384526353276352,
          3.2755265567765566,
          3.3307895807895807,
          3.3990257427757435,
          3.3969907407407405,
          3.4478657916157895,
          3.4266890516890514,
          3.3747329059829068,
          3.327164733414732,
          3.3943833943833943,
          3.388087606837608,
          3.412062474562473,
          3.3224587912087915,
          3.400106837606836,
          3.343126780626781,
          3.3962912087912076,
          3.3045889295889306,
          3.317752849002849,
          3.349994912494912,
          3.4954975579975582,
          3.3194698819698836,
          3.356608669108668,
          3.381601037851038,
          3.3339056776556784,
          3.387324481074481,
          3.464781746031745,
          3.3744785307285294,
          3.273109991859991,
          3.3991529304029307,
          3.333842083842083,
          3.4493920431420437,
          3.361123829873829,
          3.353428978428978,
          3.473875661375661,
          3.26655982905983,
          3.3884691697191704,
          3.309740028490029,
          3.357562576312576,
          3.3357498982498988,
          3.4422695360195372,
          3.4273885836385833,
          3.387578856328855,
          3.3662113349613363,
          3.3662113349613354,
          3.4630011192511194,
          3.29276048026048,
          3.432285307285308,
          3.422619047619049,
          3.2839845339845333,
          3.4125076312576312,
          3.366020553520553,
          3.3215684778184786,
          3.502238502238501,
          3.480235042735042,
          3.332951770451771,
          3.379248066748067,
          3.370217745217744,
          3.3408374033374044,
          3.3363858363858374,
          3.4424603174603168,
          3.4413792226292226,
          3.377785409035407,
          3.4055759055759065,
          3.357181013431014,
          3.4936533374033374,
          3.5423661986161985,
          3.434829059829061,
          3.3150183150183143,
          3.378484940984942,
          3.3754324379324374,
          3.279342185592185,
          3.4297415547415544,
          3.408946377696377,
          3.4529532967032974,
          3.4670711233211233,
          3.42681623931624,
          3.24156746031746,
          3.4219195156695164,
          3.3135556573056584,
          3.37028133903134,
          3.3723163410663415,
          3.3555275742775734,
          3.334541615791616,
          3.3686278998779,
          3.333905677655679,
          3.3572446072446076,
          3.3718075905575926,
          3.3814102564102555,
          3.3544464794464783,
          3.3243666056166052,
          3.3493589743589745,
          3.3596611721611738,
          3.2818223443223444,
          3.384717134717134,
          3.378930097680099,
          3.402523402523403,
          3.380011192511193,
          3.2823310948310938,
          3.354764448514448,
          3.341854904354904,
          3.4319673382173375,
          3.3892322954822958,
          3.2794693732193725,
          3.414479039479039,
          3.341218966218966,
          3.314954721204721,
          3.4073565323565327,
          3.4253535816035825,
          3.3347323972323983,
          3.346560846560847,
          3.5547033984533982,
          3.290280321530323,
          3.4757198819698814,
          3.540458384208385,
          3.3755596255596267,
          3.276162494912495,
          3.253141534391535,
          3.3919668294668295,
          3.2483719983719985,
          3.403350122100122,
          3.342363654863655,
          3.4146698209198214,
          3.4035409035409057,
          3.2900259462759465,
          3.3912037037037037,
          3.3622685185185177,
          3.258864977614977,
          3.5040191290191305,
          3.4782000407000417,
          3.2705662393162402,
          3.3317434879934873,
          3.3653846153846145,
          3.402714183964184,
          3.3770858770858774,
          3.394383394383393,
          3.2615995115995116,
          3.329581298331299,
          3.4176587301587307,
          3.367546805046804,
          3.4666259666259656,
          3.434383903133904,
          3.539822446072446,
          3.374096967846967,
          3.3445258445258426,
          3.423890923890925,
          3.2620446682946684,
          3.3470060032560056,
          3.270375457875458,
          3.4361009361009374,
          3.310248778998778,
          3.3361314611314596,
          3.3882147944647945,
          3.3861161986161985,
          3.444749694749694,
          3.305606430606431,
          3.3412189662189675,
          3.377340252340254,
          3.4596942409442413,
          3.258992165242166,
          3.3959096459096467,
          3.2883725071225083,
          3.324620980870981,
          3.415178571428571,
          3.3512667887667895,
          3.363858363858364,
          3.3121565934065926,
          3.281631562881563,
          3.3459249084249065,
          3.359915547415547,
          3.3868793243793234,
          3.3513939763939757,
          3.3324430199430197,
          3.32411223036223,
          3.4293599918599917,
          3.3529838217338246,
          3.3609330484330484,
          3.3692002442002433,
          3.3247481684981683,
          3.3485958485958487,
          3.42630748880749,
          3.294350325600325,
          3.4816977004477008,
          3.3625228937728924,
          3.307577838827839,
          3.331234737484738,
          3.370090557590558,
          3.349549755799757,
          3.3288817663817656,
          3.3527930402930406,
          3.3692638380138393,
          3.337530525030525,
          3.392284798534799,
          3.325702075702075,
          3.3494861619861624,
          3.46382783882784,
          3.2969576719576725,
          3.381092287342287,
          3.3193002984669655,
          3.3583892958892974,
          3.4572140822140827,
          3.4385175010175035,
          3.381092287342287,
          3.4343203093203094,
          3.3526022588522593,
          3.460966117216119,
          3.4128256003255992,
          3.266687016687015,
          3.352983821733821,
          3.390758547008547,
          3.43419312169312,
          3.4014423076923084,
          3.4562601750101742,
          3.344843813593813,
          3.305987993487996,
          3.3587072649572653,
          3.486085673585674,
          3.4132071632071646,
          3.3898046398046398,
          3.4254807692307696,
          3.3642399267399283,
          3.5159747659747644,
          3.4922542735042743,
          3.4469754782254776,
          3.5126042938542934,
          3.5078983516483517,
          3.416704822954823,
          3.4279609279609295,
          3.446466727716729,
          3.497723341473341,
          3.3760683760683747,
          3.562398249898249,
          3.392857142857143,
          3.473303317053316,
          3.46618080993081,
          3.4410612535612537,
          3.508725071225071,
          3.5461182336182326,
          3.5786782661782657,
          3.455242673992674,
          3.4305046805046806,
          3.459439865689866,
          3.5091702279202277,
          3.4796626984126995,
          3.56506919006919,
          3.42484483109483,
          3.4781364468864475,
          3.5407763532763536,
          3.5931140618640622,
          3.6093304843304863,
          3.601508445258446,
          3.5958485958485955,
          3.5091066341066344,
          3.5313644688644685,
          3.4673254985754998,
          3.5156567969067987,
          3.474702380952379,
          3.432221713471714,
          3.5840201465201473,
          3.381919006919006,
          3.4708231583231597,
          3.466880341880343,
          3.4495828245828233,
          3.4692333129833117,
          3.495561151811152,
          3.359152421652423,
          3.3795024420024427,
          3.391712454212456,
          3.393047924297926,
          3.43533781033781,
          3.41199888074888,
          3.444622507122505,
          3.502620065120063,
          3.5202355514855515,
          3.485831298331298,
          3.4165776353276347,
          3.4258623321123323,
          3.46287393162393,
          3.3740333740333743,
          3.527548840048841,
          3.3422364672364666,
          3.438581094831095,
          3.433684371184373,
          3.440425315425316,
          3.3239850427350413,
          3.4335571835571823,
          3.4385810948310964,
          3.5036375661375665,
          3.3657025844525847,
          3.386688542938543,
          3.3826821326821332,
          3.3310439560439566,
          3.4353378103378094,
          3.291107041107041,
          3.4199481074481093,
          3.382173382173383,
          3.406784188034186,
          3.3475147537647536,
          3.507580382580381,
          3.374351343101343,
          3.503637566137567,
          3.4366732804232805,
          3.471777065527067,
          3.4913003663003663,
          3.528121184371185,
          3.5075167887667864,
          3.483223951973954,
          3.52653133903134,
          3.499567562067563,
          3.385416666666666,
          3.4289148351648358,
          3.531809625559625,
          3.4784544159544164,
          3.484432234432234,
          3.4623015873015883,
          3.4663715913715922,
          3.502492877492878,
          3.4787087912087906,
          3.4362917175417187,
          3.471904253154255,
          3.5441468253968247,
          3.4971509971509964,
          3.4899013024013015,
          3.4733033170533165,
          3.408564814814816,
          3.395909645909645,
          3.4537164224664223,
          3.269993894993895,
          3.4342567155067147,
          3.426307488807488,
          3.4207748270248275,
          3.3572446072446067,
          3.4126984126984135,
          3.4402345339845355,
          3.4444953194953203,
          3.3556547619047628,
          3.423064204314205,
          3.3240486365486377,
          3.4273885836385865,
          3.41117216117216,
          3.4512362637362632,
          3.3672924297924296,
          3.4626195563695563,
          3.423700142450142,
          3.4275157712657713,
          3.3798840048840044,
          3.4200117012617017,
          3.4745115995115996,
          3.4321581196581192,
          3.4266890516890527,
          3.2822675010175,
          3.4932081807081814,
          3.403095746845749,
          3.332760989010989,
          3.424018111518112,
          3.375050875050876,
          3.3653210215710216,
          3.444622507122507,
          3.4322217134717135,
          3.4364824989824982,
          3.395400895400894,
          3.4095823158323153,
          3.3571174196174187,
          3.3762591575091583,
          3.4257351444851434,
          3.3600427350427347,
          3.3775946275946276,
          3.4125712250712255,
          3.5718737281237285,
          3.3972451159951156,
          3.3640491452991452,
          3.3583257020757027,
          3.3846535409035425,
          3.372634310134309,
          3.431903744403744,
          3.359788359788359,
          3.401378713878714,
          3.4541615791615805,
          3.4232549857549857,
          3.4386446886446893,
          3.435910154660155,
          3.4310770248270255,
          3.4046219983719985,
          3.3904405779405784,
          3.3436355311355315,
          3.370281339031339,
          3.3832544770044763,
          3.335368335368335,
          3.4186126373626364,
          3.379438848188849,
          3.3676739926739923,
          3.524814306064305,
          3.4706323768823775,
          3.457277676027676,
          3.4995675620675613,
          3.3937474562474566,
          3.43101343101343,
          3.441188441188439,
          3.4872303622303615,
          3.5030652218152216,
          3.3626500814000817,
          3.4542251729751716,
          3.4306318681318673,
          3.3853530728530745,
          3.406784188034187,
          3.3361314611314614,
          3.4040496540496545,
          3.36977258852259,
          3.4645909645909647,
          3.509488196988197,
          3.4118080993081,
          3.4601393976393973,
          3.3753688441188454,
          3.345352564102565,
          3.4694876882376886,
          3.4930173992674,
          3.4749567562067543,
          3.5114596052096054,
          3.462873931623932,
          3.415941697191697,
          3.4489468864468873,
          3.420266076516077,
          3.391076516076517,
          3.310185185185185,
          3.3419184981684977,
          3.345988502238504,
          3.418421855921855,
          3.376895095645096,
          3.4272613960113962,
          3.4418879731379732,
          3.37912087912088,
          3.4334299959299948,
          3.3938746438746423,
          3.420647639397639,
          3.376068376068377,
          3.412316849816851,
          3.4310770248270255,
          3.4748931623931623,
          3.3990257427757427,
          3.3798204110704106,
          3.502302096052096,
          3.5014753764753768,
          3.4415064102564106,
          3.3324430199430193,
          3.4511090761090766,
          3.387706043956044,
          3.375305250305251,
          3.4947980260480267,
          3.3696454008954007,
          3.394256206756206,
          3.48048941798942,
          3.4099638787138793,
          3.336640211640212,
          3.4988044363044355,
          3.4009335571835564,
          3.4782000407000417,
          3.4052579365079367,
          3.4277065527065536,
          3.5040191290191296,
          3.4709503459503455,
          3.4767373829873844,
          3.3905041717541735,
          3.4788359788359813,
          3.392221204721205,
          3.4272613960113953,
          3.3737154049654063,
          3.468724562474563,
          3.4156873219373227,
          3.4277701465201456,
          3.3836996336996346,
          3.41365231990232,
          3.4186126373626387,
          3.398071835571835,
          3.415814509564509,
          3.4623651811151803,
          3.4560693935693934,
          3.4602665852665857,
          3.373588217338218,
          3.3399470899470898,
          3.3197242572242573,
          3.3717439967439966,
          3.357371794871795,
          3.343317562067561,
          3.44233312983313,
          3.374224155474156,
          3.348214285714285,
          3.467579873829876,
          3.448756105006105,
          3.446339540089541,
          3.497977716727716,
          3.4154965404965414,
          3.416068884818886,
          3.3782305657305662,
          3.405639499389499,
          3.4577228327228338,
          3.3885963573463562,
          3.34579772079772,
          3.488693019943019,
          3.528757122507123,
          3.371553215303216,
          3.5109508547008548,
          3.4232549857549865,
          3.3672924297924296,
          3.4010607448107453,
          3.3934294871794877,
          3.392729955229956,
          3.3702177452177455,
          3.3927299552299552,
          3.393811050061051,
          3.568821225071224,
          3.448183760683761,
          3.452762515262517,
          3.3189611314611303,
          3.3859254171754167,
          3.457404863654863,
          3.441506410256409,
          3.352983821733822,
          3.3118386243386255,
          3.4306954619454633,
          3.4802986365486355,
          3.411553724053725,
          3.4195029507529493,
          3.4004884004884013,
          3.4319673382173375,
          3.3157178469678468,
          3.3534289784289766,
          3.400106837606837,
          3.370344932844933,
          3.3735246235246223,
          3.531618844118846,
          3.4426510989011,
          3.4130799755799757,
          3.4196937321937315,
          3.4230006105006106,
          3.4653540903540914,
          3.3825549450549453,
          3.328055046805049,
          3.4035409035409034,
          3.4840506715506723,
          3.4121260683760677,
          3.4352742165242156,
          3.4438593813593825,
          3.3835088522588532,
          3.4032229344729354,
          3.367864774114775,
          3.440679690679692,
          3.425353581603583,
          3.4755926943426947,
          3.3804563492063497,
          3.403413715913715,
          3.4828423890923883,
          3.395082926332926,
          3.5440196377696402,
          3.439852971102971,
          3.3668472730972723,
          3.461538461538462,
          3.3994073056573053,
          3.423636548636549,
          3.3972451159951143,
          3.444240944240946,
          3.421537952787951,
          3.4726037851037854,
          3.3639219576719595,
          3.4538436100936103,
          3.4845594220594216,
          3.557247150997151,
          3.418167480667479,
          3.4160688848188845,
          3.3236034798534804,
          3.4451948514448527,
          3.343889906389908,
          3.4352742165242174,
          3.39711792836793,
          3.3967363654863654,
          3.321886446886447,
          3.4441137566137563,
          3.409773097273096,
          3.4404253154253155,
          3.4464031339031336,
          3.5279304029304015,
          3.4762922262922245,
          3.4781364468864475,
          3.5409671347171354,
          3.3823641636141644,
          3.3786757224257222,
          3.468406593406593,
          3.406211843711844,
          3.324875356125357,
          3.553813085063085,
          3.444177350427349,
          3.5178189865689866,
          3.333969271469273,
          3.3222680097680097,
          3.4070385632885625,
          3.508089133089134,
          3.4988044363044364,
          3.400361212861213,
          3.381855413105413,
          3.4043040293040296,
          3.4692333129833135,
          3.4352106227106227,
          3.4632554945054945,
          3.37613196988197,
          3.400679181929181,
          3.515402421652421,
          3.4879934879934864,
          3.4623651811151817,
          3.4754019129019142,
          3.527739621489624,
          3.453907203907205,
          3.513431013431013,
          3.4905372405372415,
          3.4685337810337824,
          3.493526149776151,
          3.4833511396011385,
          3.45002798127798,
          3.4432870370370368,
          3.440743284493284,
          3.457277676027676,
          3.4111085673585673,
          3.500585063085063,
          3.398326210826211,
          3.523415242165243,
          3.457977207977207,
          3.41568732193732,
          3.4974053724053733,
          3.487929894179894,
          3.415941697191696,
          3.4829695767195754,
          3.45199938949939,
          3.4258623321123323,
          3.367356023606023,
          3.4335571835571836,
          3.4508547008547015,
          3.4621743996744,
          3.4023962148962146,
          3.4642729955229945,
          3.536515567765567,
          3.459439865689865,
          3.448374542124542,
          3.5212530525030523,
          3.4926358363858365,
          3.4786451973951973,
          3.3942562067562054,
          3.4587403337403337,
          3.479217541717542,
          3.4263074888074896,
          3.4550518925518943,
          3.501602564102565,
          3.4797898860398866,
          3.4373092185592182,
          3.3645578958078963,
          3.4118080993081006,
          3.4122532560032575,
          3.4713319088319072,
          3.410027472527472,
          3.4177859177859187,
          3.3727614977614966,
          3.4099638787138793,
          3.40945512820513,
          3.4013787138787137,
          3.4648453398453416,
          3.3987077737077733,
          3.4266254578754576,
          3.456896113146113,
          3.409900284900285,
          3.496133496133496,
          3.461792836792838,
          3.40964590964591,
          3.4640822140822145,
          3.47985347985348,
          3.4474842287342287,
          3.461983618233619,
          3.4193757631257635,
          3.452190170940172,
          3.4521901709401717,
          3.345098188848189,
          3.4847502035002034,
          3.508470695970697,
          3.4038588726088723,
          3.3802655677655675,
          3.4684065934065944,
          3.3414097476597497,
          3.4836055148555154,
          3.419248575498576,
          3.5057361619861616,
          3.448501729751728,
          3.4149241961741947,
          3.459885022385022,
          3.425289987789988,
          3.410536223036224,
          3.5367063492063497,
          3.4883750508750526,
          3.4411884411884426,
          3.446848290598291,
          3.4767373829873836,
          3.494416463166464,
          3.5251958689458713,
          3.4088827838827847,
          3.476101444851446,
          3.3870701058201056,
          3.4304410866910864,
          3.4542251729751734,
          3.42579873829874,
          3.3828093203093204,
          3.5054181929181936,
          3.419248575498575,
          3.4427782865282874,
          3.4559422059422054,
          3.4501551689051695,
          3.4654176841676843,
          3.4230006105006106,
          3.395464489214488,
          3.442015160765161,
          3.4129527879527894,
          3.3715532153032157,
          3.417976699226699,
          3.478645197395199,
          3.4511090761090757,
          3.4098366910866917,
          3.501984126984127,
          3.456705331705331,
          3.460584554334554,
          3.443350630850631,
          3.354764448514448,
          3.4491376678876677,
          3.3956552706552703,
          3.4391534391534386,
          3.4018874643874653,
          3.4294235856735864,
          3.5417938542938554,
          3.414479039479039,
          3.4182946682946693,
          3.4310134310134326,
          3.4462123524623536,
          3.507071632071632,
          3.5010302197802203,
          3.5004578754578755,
          3.366338522588524,
          3.4378179690679684,
          3.447102665852666,
          3.427070614570615,
          3.5130494505494503,
          3.474448005698006,
          3.38230056980057,
          3.498104904354903,
          3.3800747863247884,
          3.4584859584859604
         ],
         "y0": " ",
         "yaxis": "y"
        }
       ],
       "layout": {
        "boxmode": "group",
        "legend": {
         "tracegroupgap": 0
        },
        "template": {
         "data": {
          "bar": [
           {
            "error_x": {
             "color": "rgb(36,36,36)"
            },
            "error_y": {
             "color": "rgb(36,36,36)"
            },
            "marker": {
             "line": {
              "color": "white",
              "width": 0.5
             }
            },
            "type": "bar"
           }
          ],
          "barpolar": [
           {
            "marker": {
             "line": {
              "color": "white",
              "width": 0.5
             }
            },
            "type": "barpolar"
           }
          ],
          "carpet": [
           {
            "aaxis": {
             "endlinecolor": "rgb(36,36,36)",
             "gridcolor": "white",
             "linecolor": "white",
             "minorgridcolor": "white",
             "startlinecolor": "rgb(36,36,36)"
            },
            "baxis": {
             "endlinecolor": "rgb(36,36,36)",
             "gridcolor": "white",
             "linecolor": "white",
             "minorgridcolor": "white",
             "startlinecolor": "rgb(36,36,36)"
            },
            "type": "carpet"
           }
          ],
          "choropleth": [
           {
            "colorbar": {
             "outlinewidth": 1,
             "tickcolor": "rgb(36,36,36)",
             "ticks": "outside"
            },
            "type": "choropleth"
           }
          ],
          "contour": [
           {
            "colorbar": {
             "outlinewidth": 1,
             "tickcolor": "rgb(36,36,36)",
             "ticks": "outside"
            },
            "colorscale": [
             [
              0,
              "#440154"
             ],
             [
              0.1111111111111111,
              "#482878"
             ],
             [
              0.2222222222222222,
              "#3e4989"
             ],
             [
              0.3333333333333333,
              "#31688e"
             ],
             [
              0.4444444444444444,
              "#26828e"
             ],
             [
              0.5555555555555556,
              "#1f9e89"
             ],
             [
              0.6666666666666666,
              "#35b779"
             ],
             [
              0.7777777777777778,
              "#6ece58"
             ],
             [
              0.8888888888888888,
              "#b5de2b"
             ],
             [
              1,
              "#fde725"
             ]
            ],
            "type": "contour"
           }
          ],
          "contourcarpet": [
           {
            "colorbar": {
             "outlinewidth": 1,
             "tickcolor": "rgb(36,36,36)",
             "ticks": "outside"
            },
            "type": "contourcarpet"
           }
          ],
          "heatmap": [
           {
            "colorbar": {
             "outlinewidth": 1,
             "tickcolor": "rgb(36,36,36)",
             "ticks": "outside"
            },
            "colorscale": [
             [
              0,
              "#440154"
             ],
             [
              0.1111111111111111,
              "#482878"
             ],
             [
              0.2222222222222222,
              "#3e4989"
             ],
             [
              0.3333333333333333,
              "#31688e"
             ],
             [
              0.4444444444444444,
              "#26828e"
             ],
             [
              0.5555555555555556,
              "#1f9e89"
             ],
             [
              0.6666666666666666,
              "#35b779"
             ],
             [
              0.7777777777777778,
              "#6ece58"
             ],
             [
              0.8888888888888888,
              "#b5de2b"
             ],
             [
              1,
              "#fde725"
             ]
            ],
            "type": "heatmap"
           }
          ],
          "heatmapgl": [
           {
            "colorbar": {
             "outlinewidth": 1,
             "tickcolor": "rgb(36,36,36)",
             "ticks": "outside"
            },
            "colorscale": [
             [
              0,
              "#440154"
             ],
             [
              0.1111111111111111,
              "#482878"
             ],
             [
              0.2222222222222222,
              "#3e4989"
             ],
             [
              0.3333333333333333,
              "#31688e"
             ],
             [
              0.4444444444444444,
              "#26828e"
             ],
             [
              0.5555555555555556,
              "#1f9e89"
             ],
             [
              0.6666666666666666,
              "#35b779"
             ],
             [
              0.7777777777777778,
              "#6ece58"
             ],
             [
              0.8888888888888888,
              "#b5de2b"
             ],
             [
              1,
              "#fde725"
             ]
            ],
            "type": "heatmapgl"
           }
          ],
          "histogram": [
           {
            "marker": {
             "line": {
              "color": "white",
              "width": 0.6
             }
            },
            "type": "histogram"
           }
          ],
          "histogram2d": [
           {
            "colorbar": {
             "outlinewidth": 1,
             "tickcolor": "rgb(36,36,36)",
             "ticks": "outside"
            },
            "colorscale": [
             [
              0,
              "#440154"
             ],
             [
              0.1111111111111111,
              "#482878"
             ],
             [
              0.2222222222222222,
              "#3e4989"
             ],
             [
              0.3333333333333333,
              "#31688e"
             ],
             [
              0.4444444444444444,
              "#26828e"
             ],
             [
              0.5555555555555556,
              "#1f9e89"
             ],
             [
              0.6666666666666666,
              "#35b779"
             ],
             [
              0.7777777777777778,
              "#6ece58"
             ],
             [
              0.8888888888888888,
              "#b5de2b"
             ],
             [
              1,
              "#fde725"
             ]
            ],
            "type": "histogram2d"
           }
          ],
          "histogram2dcontour": [
           {
            "colorbar": {
             "outlinewidth": 1,
             "tickcolor": "rgb(36,36,36)",
             "ticks": "outside"
            },
            "colorscale": [
             [
              0,
              "#440154"
             ],
             [
              0.1111111111111111,
              "#482878"
             ],
             [
              0.2222222222222222,
              "#3e4989"
             ],
             [
              0.3333333333333333,
              "#31688e"
             ],
             [
              0.4444444444444444,
              "#26828e"
             ],
             [
              0.5555555555555556,
              "#1f9e89"
             ],
             [
              0.6666666666666666,
              "#35b779"
             ],
             [
              0.7777777777777778,
              "#6ece58"
             ],
             [
              0.8888888888888888,
              "#b5de2b"
             ],
             [
              1,
              "#fde725"
             ]
            ],
            "type": "histogram2dcontour"
           }
          ],
          "mesh3d": [
           {
            "colorbar": {
             "outlinewidth": 1,
             "tickcolor": "rgb(36,36,36)",
             "ticks": "outside"
            },
            "type": "mesh3d"
           }
          ],
          "parcoords": [
           {
            "line": {
             "colorbar": {
              "outlinewidth": 1,
              "tickcolor": "rgb(36,36,36)",
              "ticks": "outside"
             }
            },
            "type": "parcoords"
           }
          ],
          "pie": [
           {
            "automargin": true,
            "type": "pie"
           }
          ],
          "scatter": [
           {
            "marker": {
             "colorbar": {
              "outlinewidth": 1,
              "tickcolor": "rgb(36,36,36)",
              "ticks": "outside"
             }
            },
            "type": "scatter"
           }
          ],
          "scatter3d": [
           {
            "line": {
             "colorbar": {
              "outlinewidth": 1,
              "tickcolor": "rgb(36,36,36)",
              "ticks": "outside"
             }
            },
            "marker": {
             "colorbar": {
              "outlinewidth": 1,
              "tickcolor": "rgb(36,36,36)",
              "ticks": "outside"
             }
            },
            "type": "scatter3d"
           }
          ],
          "scattercarpet": [
           {
            "marker": {
             "colorbar": {
              "outlinewidth": 1,
              "tickcolor": "rgb(36,36,36)",
              "ticks": "outside"
             }
            },
            "type": "scattercarpet"
           }
          ],
          "scattergeo": [
           {
            "marker": {
             "colorbar": {
              "outlinewidth": 1,
              "tickcolor": "rgb(36,36,36)",
              "ticks": "outside"
             }
            },
            "type": "scattergeo"
           }
          ],
          "scattergl": [
           {
            "marker": {
             "colorbar": {
              "outlinewidth": 1,
              "tickcolor": "rgb(36,36,36)",
              "ticks": "outside"
             }
            },
            "type": "scattergl"
           }
          ],
          "scattermapbox": [
           {
            "marker": {
             "colorbar": {
              "outlinewidth": 1,
              "tickcolor": "rgb(36,36,36)",
              "ticks": "outside"
             }
            },
            "type": "scattermapbox"
           }
          ],
          "scatterpolar": [
           {
            "marker": {
             "colorbar": {
              "outlinewidth": 1,
              "tickcolor": "rgb(36,36,36)",
              "ticks": "outside"
             }
            },
            "type": "scatterpolar"
           }
          ],
          "scatterpolargl": [
           {
            "marker": {
             "colorbar": {
              "outlinewidth": 1,
              "tickcolor": "rgb(36,36,36)",
              "ticks": "outside"
             }
            },
            "type": "scatterpolargl"
           }
          ],
          "scatterternary": [
           {
            "marker": {
             "colorbar": {
              "outlinewidth": 1,
              "tickcolor": "rgb(36,36,36)",
              "ticks": "outside"
             }
            },
            "type": "scatterternary"
           }
          ],
          "surface": [
           {
            "colorbar": {
             "outlinewidth": 1,
             "tickcolor": "rgb(36,36,36)",
             "ticks": "outside"
            },
            "colorscale": [
             [
              0,
              "#440154"
             ],
             [
              0.1111111111111111,
              "#482878"
             ],
             [
              0.2222222222222222,
              "#3e4989"
             ],
             [
              0.3333333333333333,
              "#31688e"
             ],
             [
              0.4444444444444444,
              "#26828e"
             ],
             [
              0.5555555555555556,
              "#1f9e89"
             ],
             [
              0.6666666666666666,
              "#35b779"
             ],
             [
              0.7777777777777778,
              "#6ece58"
             ],
             [
              0.8888888888888888,
              "#b5de2b"
             ],
             [
              1,
              "#fde725"
             ]
            ],
            "type": "surface"
           }
          ],
          "table": [
           {
            "cells": {
             "fill": {
              "color": "rgb(237,237,237)"
             },
             "line": {
              "color": "white"
             }
            },
            "header": {
             "fill": {
              "color": "rgb(217,217,217)"
             },
             "line": {
              "color": "white"
             }
            },
            "type": "table"
           }
          ]
         },
         "layout": {
          "annotationdefaults": {
           "arrowhead": 0,
           "arrowwidth": 1
          },
          "coloraxis": {
           "colorbar": {
            "outlinewidth": 1,
            "tickcolor": "rgb(36,36,36)",
            "ticks": "outside"
           }
          },
          "colorscale": {
           "diverging": [
            [
             0,
             "rgb(103,0,31)"
            ],
            [
             0.1,
             "rgb(178,24,43)"
            ],
            [
             0.2,
             "rgb(214,96,77)"
            ],
            [
             0.3,
             "rgb(244,165,130)"
            ],
            [
             0.4,
             "rgb(253,219,199)"
            ],
            [
             0.5,
             "rgb(247,247,247)"
            ],
            [
             0.6,
             "rgb(209,229,240)"
            ],
            [
             0.7,
             "rgb(146,197,222)"
            ],
            [
             0.8,
             "rgb(67,147,195)"
            ],
            [
             0.9,
             "rgb(33,102,172)"
            ],
            [
             1,
             "rgb(5,48,97)"
            ]
           ],
           "sequential": [
            [
             0,
             "#440154"
            ],
            [
             0.1111111111111111,
             "#482878"
            ],
            [
             0.2222222222222222,
             "#3e4989"
            ],
            [
             0.3333333333333333,
             "#31688e"
            ],
            [
             0.4444444444444444,
             "#26828e"
            ],
            [
             0.5555555555555556,
             "#1f9e89"
            ],
            [
             0.6666666666666666,
             "#35b779"
            ],
            [
             0.7777777777777778,
             "#6ece58"
            ],
            [
             0.8888888888888888,
             "#b5de2b"
            ],
            [
             1,
             "#fde725"
            ]
           ],
           "sequentialminus": [
            [
             0,
             "#440154"
            ],
            [
             0.1111111111111111,
             "#482878"
            ],
            [
             0.2222222222222222,
             "#3e4989"
            ],
            [
             0.3333333333333333,
             "#31688e"
            ],
            [
             0.4444444444444444,
             "#26828e"
            ],
            [
             0.5555555555555556,
             "#1f9e89"
            ],
            [
             0.6666666666666666,
             "#35b779"
            ],
            [
             0.7777777777777778,
             "#6ece58"
            ],
            [
             0.8888888888888888,
             "#b5de2b"
            ],
            [
             1,
             "#fde725"
            ]
           ]
          },
          "colorway": [
           "#1F77B4",
           "#FF7F0E",
           "#2CA02C",
           "#D62728",
           "#9467BD",
           "#8C564B",
           "#E377C2",
           "#7F7F7F",
           "#BCBD22",
           "#17BECF"
          ],
          "font": {
           "color": "rgb(36,36,36)"
          },
          "geo": {
           "bgcolor": "white",
           "lakecolor": "white",
           "landcolor": "white",
           "showlakes": true,
           "showland": true,
           "subunitcolor": "white"
          },
          "hoverlabel": {
           "align": "left"
          },
          "hovermode": "closest",
          "mapbox": {
           "style": "light"
          },
          "paper_bgcolor": "white",
          "plot_bgcolor": "white",
          "polar": {
           "angularaxis": {
            "gridcolor": "rgb(232,232,232)",
            "linecolor": "rgb(36,36,36)",
            "showgrid": false,
            "showline": true,
            "ticks": "outside"
           },
           "bgcolor": "white",
           "radialaxis": {
            "gridcolor": "rgb(232,232,232)",
            "linecolor": "rgb(36,36,36)",
            "showgrid": false,
            "showline": true,
            "ticks": "outside"
           }
          },
          "scene": {
           "xaxis": {
            "backgroundcolor": "white",
            "gridcolor": "rgb(232,232,232)",
            "gridwidth": 2,
            "linecolor": "rgb(36,36,36)",
            "showbackground": true,
            "showgrid": false,
            "showline": true,
            "ticks": "outside",
            "zeroline": false,
            "zerolinecolor": "rgb(36,36,36)"
           },
           "yaxis": {
            "backgroundcolor": "white",
            "gridcolor": "rgb(232,232,232)",
            "gridwidth": 2,
            "linecolor": "rgb(36,36,36)",
            "showbackground": true,
            "showgrid": false,
            "showline": true,
            "ticks": "outside",
            "zeroline": false,
            "zerolinecolor": "rgb(36,36,36)"
           },
           "zaxis": {
            "backgroundcolor": "white",
            "gridcolor": "rgb(232,232,232)",
            "gridwidth": 2,
            "linecolor": "rgb(36,36,36)",
            "showbackground": true,
            "showgrid": false,
            "showline": true,
            "ticks": "outside",
            "zeroline": false,
            "zerolinecolor": "rgb(36,36,36)"
           }
          },
          "shapedefaults": {
           "fillcolor": "black",
           "line": {
            "width": 0
           },
           "opacity": 0.3
          },
          "ternary": {
           "aaxis": {
            "gridcolor": "rgb(232,232,232)",
            "linecolor": "rgb(36,36,36)",
            "showgrid": false,
            "showline": true,
            "ticks": "outside"
           },
           "baxis": {
            "gridcolor": "rgb(232,232,232)",
            "linecolor": "rgb(36,36,36)",
            "showgrid": false,
            "showline": true,
            "ticks": "outside"
           },
           "bgcolor": "white",
           "caxis": {
            "gridcolor": "rgb(232,232,232)",
            "linecolor": "rgb(36,36,36)",
            "showgrid": false,
            "showline": true,
            "ticks": "outside"
           }
          },
          "title": {
           "x": 0.05
          },
          "xaxis": {
           "automargin": true,
           "gridcolor": "rgb(232,232,232)",
           "linecolor": "rgb(36,36,36)",
           "showgrid": false,
           "showline": true,
           "ticks": "outside",
           "title": {
            "standoff": 15
           },
           "zeroline": false,
           "zerolinecolor": "rgb(36,36,36)"
          },
          "yaxis": {
           "automargin": true,
           "gridcolor": "rgb(232,232,232)",
           "linecolor": "rgb(36,36,36)",
           "showgrid": false,
           "showline": true,
           "ticks": "outside",
           "title": {
            "standoff": 15
           },
           "zeroline": false,
           "zerolinecolor": "rgb(36,36,36)"
          }
         }
        },
        "title": {
         "text": "HousePressure g-pump-6 for all weeks "
        },
        "xaxis": {
         "anchor": "y",
         "domain": [
          0,
          1
         ],
         "title": {
          "text": "week"
         },
         "type": "category"
        },
        "yaxis": {
         "anchor": "x",
         "domain": [
          0,
          1
         ],
         "title": {
          "text": "feature_value"
         }
        }
       }
      },
      "text/html": [
       "<div>\n",
       "        \n",
       "        \n",
       "            <div id=\"5601ca02-0d12-4724-91f3-a44a43c2a08c\" class=\"plotly-graph-div\" style=\"height:525px; width:100%;\"></div>\n",
       "            <script type=\"text/javascript\">\n",
       "                require([\"plotly\"], function(Plotly) {\n",
       "                    window.PLOTLYENV=window.PLOTLYENV || {};\n",
       "                    \n",
       "                if (document.getElementById(\"5601ca02-0d12-4724-91f3-a44a43c2a08c\")) {\n",
       "                    Plotly.newPlot(\n",
       "                        '5601ca02-0d12-4724-91f3-a44a43c2a08c',\n",
       "                        [{\"alignmentgroup\": \"True\", \"hoverlabel\": {\"namelength\": 0}, \"hovertemplate\": \"week=%{x}<br>feature_value=%{y}\", \"legendgroup\": \"\", \"marker\": {\"color\": \"#1F77B4\"}, \"name\": \"\", \"notched\": false, \"offsetgroup\": \"\", \"orientation\": \"v\", \"showlegend\": false, \"type\": \"box\", \"x\": [47, 47, 47, 47, 47, 47, 47, 47, 47, 47, 47, 47, 47, 47, 47, 47, 47, 47, 47, 47, 47, 47, 47, 47, 47, 47, 47, 47, 47, 47, 47, 47, 47, 47, 47, 47, 47, 47, 47, 47, 47, 47, 47, 47, 47, 47, 47, 47, 47, 47, 47, 47, 47, 47, 47, 47, 47, 47, 47, 47, 47, 47, 47, 47, 47, 47, 47, 47, 47, 47, 47, 47, 47, 47, 47, 47, 47, 47, 47, 47, 47, 47, 47, 47, 47, 47, 47, 47, 47, 47, 47, 47, 47, 47, 47, 47, 47, 47, 47, 47, 47, 47, 47, 47, 47, 47, 48, 48, 48, 48, 48, 48, 48, 48, 48, 48, 48, 48, 48, 48, 48, 48, 48, 48, 48, 48, 48, 48, 48, 48, 48, 48, 48, 48, 48, 48, 48, 48, 48, 48, 48, 48, 48, 48, 48, 48, 48, 48, 48, 48, 48, 48, 48, 48, 48, 48, 48, 48, 48, 48, 48, 48, 48, 48, 48, 48, 48, 48, 48, 48, 48, 48, 48, 48, 48, 48, 48, 48, 48, 48, 48, 48, 48, 48, 48, 48, 48, 48, 48, 48, 48, 48, 48, 48, 48, 48, 48, 48, 48, 48, 48, 48, 48, 48, 48, 48, 48, 48, 48, 48, 48, 48, 48, 48, 48, 48, 48, 48, 48, 48, 48, 48, 48, 48, 48, 48, 48, 48, 48, 48, 48, 48, 48, 48, 48, 48, 48, 48, 48, 48, 48, 48, 48, 48, 48, 48, 48, 48, 48, 48, 48, 48, 48, 48, 48, 48, 48, 48, 48, 48, 48, 48, 48, 48, 48, 48, 48, 48, 48, 48, 48, 48, 49, 49, 49, 49, 49, 49, 49, 49, 49, 49, 49, 49, 49, 49, 49, 49, 49, 49, 49, 49, 49, 49, 49, 49, 49, 49, 49, 49, 49, 50, 50, 50, 50, 50, 50, 50, 50, 50, 50, 50, 50, 50, 50, 50, 50, 50, 50, 50, 50, 50, 50, 50, 50, 50, 50, 50, 50, 50, 50, 50, 50, 50, 51, 51, 51, 51, 51, 51, 51, 51, 51, 51, 51, 51, 51, 51, 51, 51, 51, 51, 51, 51, 51, 51, 51, 51, 51, 51, 51, 51, 51, 51, 51, 51, 51, 51, 51, 51, 51, 51, 51, 51, 51, 51, 51, 51, 51, 51, 51, 51, 51, 51, 51, 51, 51, 51, 51, 51, 51, 51, 51, 51, 51, 51, 51, 51, 51, 51, 51, 51, 51, 51, 51, 51, 51, 51, 51, 51, 51, 51, 51, 51, 51, 51, 51, 51, 51, 51, 51, 51, 51, 51, 51, 51, 51, 51, 51, 51, 51, 51, 51, 51, 51, 51, 51, 51, 51, 51, 51, 51, 51, 51, 51, 51, 51, 51, 51, 51, 51, 51, 51, 51, 51, 51, 51, 51, 51, 51, 51, 51, 51, 51, 51, 51, 51, 51, 51, 51, 51, 51, 51, 51, 51, 51, 51, 51, 51, 51, 51, 51, 52, 52, 52, 52, 52, 52, 52, 52, 52, 52, 52, 52, 52, 52, 52, 52, 52, 52, 52, 52, 52, 52, 52, 52, 52, 52, 52, 52, 52, 52, 52, 52, 52, 52, 52, 52, 52, 52, 52, 52, 52, 52, 52, 52, 52, 52, 52, 52, 52, 52, 52, 52, 52, 52, 52, 52, 52, 52, 52, 52, 52, 52, 52, 52, 52, 52, 52, 52, 52, 52, 52, 52, 52, 52, 52, 52, 52, 52, 52, 52, 52, 52, 52, 52, 52, 52, 52, 52, 52, 52, 52, 52, 52, 52, 52, 52, 52, 52, 52, 52, 52, 52, 52, 52, 52, 52, 52, 52, 52, 52, 52, 52, 52, 52, 52, 52, 52, 52, 52, 52, 52, 52, 52, 52, 52, 52, 52, 52, 52, 52, 52, 52, 52, 52, 52, 52, 52, 52, 52, 52, 52, 52, 52, 52, 52, 52, 52, 52, 52, 52, 52, 52, 52, 52, 52, 52, 52, 52, 52, 52, 52, 52, 52, 52, 52, 52, 1, 1, 1, 1, 1, 1, 1, 1, 1, 1, 1, 1, 1, 1, 1, 1, 1, 1, 1, 1, 1, 1, 1, 1, 1, 1, 1, 1, 1, 1, 1, 1, 1, 1, 1, 1, 1, 1, 1, 1, 1, 1, 1, 1, 1, 1, 1, 1, 1, 1, 1, 1, 1, 1, 1, 1, 1, 1, 1, 1, 1, 1, 1, 1, 1, 1, 1, 1, 1, 1, 1, 1, 1, 1, 1, 1, 1, 1, 1, 1, 1, 1, 1, 1, 1, 1, 1, 1, 1, 1, 1, 1, 1, 1, 1, 1, 1, 1, 1, 1, 1, 1, 1, 1, 1, 1, 1, 1, 1, 1, 1, 1, 1, 1, 1, 1, 1, 1, 1, 1, 1, 1, 1, 1, 1, 1, 1, 1, 1, 1, 1, 1, 1, 1, 1, 1, 1, 1, 1, 1, 1, 1, 1, 1, 1, 1, 1, 1, 1, 1, 1, 1, 1, 1, 1, 1, 1, 1, 1, 1, 1, 1, 1, 1, 1, 1, 2, 2, 2, 2, 2, 2, 2, 2, 2, 2, 2, 2, 2, 2, 2, 2, 2], \"x0\": \" \", \"xaxis\": \"x\", \"y\": [3.3604487238058556, 3.419922573828401, 3.4163637288637294, 3.4233185795685794, 3.339819902319901, 3.296703296703296, 3.354319291819292, 3.3685643060643056, 3.3978810541310547, 3.4028413715913697, 3.427706552706552, 3.4516814204314206, 3.4844958282458296, 3.328818172568172, 3.3588980463980467, 3.4029049654049643, 3.3632224257224252, 3.4139702889702868, 3.517501017501018, 3.423127798127799, 3.376767908017906, 3.3824913512413524, 3.4443787308370655, 3.3187067562067565, 3.34210927960928, 3.4242724867724856, 3.4755291005291014, 3.4719042531542548, 3.390567765567766, 3.3852894790394785, 3.3403286528286524, 3.268849206349207, 3.4319673382173383, 3.3339692714692704, 3.326846764346765, 3.475020350020351, 3.408692002442002, 3.3382300569800596, 3.402904965404966, 3.383763227513228, 3.3339056776556784, 3.4465939153439162, 3.379057285307283, 3.327673483923485, 3.371934778184777, 3.4437321937321936, 3.4348290598290583, 3.329835673585674, 3.3947649572649587, 3.430822649572651, 3.4177223239723236, 3.381028693528693, 3.4025234025234035, 3.432030932030932, 3.312029405779405, 3.3540649165649157, 3.270884208384208, 3.3735246235246237, 3.395273707773709, 3.313682844932845, 3.376004782254782, 3.312728937728938, 3.3672288359788367, 3.3896774521774518, 3.3856710419210416, 3.4057666870166865, 3.3859890109890096, 3.40398606023606, 3.341473341473341, 3.3674832112332105, 3.3547644485144477, 3.4258623321123323, 3.393874643874643, 3.350440069190071, 3.478708791208792, 3.274127492877492, 3.3626500814000813, 3.3073870573870585, 3.396418396418396, 3.4303138990638984, 3.4423331298331306, 3.379120879120879, 3.3748600936100925, 3.3910129222629233, 3.384526353276352, 3.2755265567765566, 3.3307895807895807, 3.3990257427757435, 3.3969907407407405, 3.4478657916157895, 3.4266890516890514, 3.3747329059829068, 3.327164733414732, 3.3943833943833943, 3.388087606837608, 3.412062474562473, 3.3224587912087915, 3.400106837606836, 3.343126780626781, 3.3962912087912076, 3.3045889295889306, 3.317752849002849, 3.349994912494912, 3.4954975579975582, 3.3194698819698836, 3.356608669108668, 3.381601037851038, 3.3339056776556784, 3.387324481074481, 3.464781746031745, 3.3744785307285294, 3.273109991859991, 3.3991529304029307, 3.333842083842083, 3.4493920431420437, 3.361123829873829, 3.353428978428978, 3.473875661375661, 3.26655982905983, 3.3884691697191704, 3.309740028490029, 3.357562576312576, 3.3357498982498988, 3.4422695360195372, 3.4273885836385833, 3.387578856328855, 3.3662113349613363, 3.3662113349613354, 3.4630011192511194, 3.29276048026048, 3.432285307285308, 3.422619047619049, 3.2839845339845333, 3.4125076312576312, 3.366020553520553, 3.3215684778184786, 3.502238502238501, 3.480235042735042, 3.332951770451771, 3.379248066748067, 3.370217745217744, 3.3408374033374044, 3.3363858363858374, 3.4424603174603168, 3.4413792226292226, 3.377785409035407, 3.4055759055759065, 3.357181013431014, 3.4936533374033374, 3.5423661986161985, 3.434829059829061, 3.3150183150183143, 3.378484940984942, 3.3754324379324374, 3.279342185592185, 3.4297415547415544, 3.408946377696377, 3.4529532967032974, 3.4670711233211233, 3.42681623931624, 3.24156746031746, 3.4219195156695164, 3.3135556573056584, 3.37028133903134, 3.3723163410663415, 3.3555275742775734, 3.334541615791616, 3.3686278998779, 3.333905677655679, 3.3572446072446076, 3.3718075905575926, 3.3814102564102555, 3.3544464794464783, 3.3243666056166052, 3.3493589743589745, 3.3596611721611738, 3.2818223443223444, 3.384717134717134, 3.378930097680099, 3.402523402523403, 3.380011192511193, 3.2823310948310938, 3.354764448514448, 3.341854904354904, 3.4319673382173375, 3.3892322954822958, 3.2794693732193725, 3.414479039479039, 3.341218966218966, 3.314954721204721, 3.4073565323565327, 3.4253535816035825, 3.3347323972323983, 3.346560846560847, 3.5547033984533982, 3.290280321530323, 3.4757198819698814, 3.540458384208385, 3.3755596255596267, 3.276162494912495, 3.253141534391535, 3.3919668294668295, 3.2483719983719985, 3.403350122100122, 3.342363654863655, 3.4146698209198214, 3.4035409035409057, 3.2900259462759465, 3.3912037037037037, 3.3622685185185177, 3.258864977614977, 3.5040191290191305, 3.4782000407000417, 3.2705662393162402, 3.3317434879934873, 3.3653846153846145, 3.402714183964184, 3.3770858770858774, 3.394383394383393, 3.2615995115995116, 3.329581298331299, 3.4176587301587307, 3.367546805046804, 3.4666259666259656, 3.434383903133904, 3.539822446072446, 3.374096967846967, 3.3445258445258426, 3.423890923890925, 3.2620446682946684, 3.3470060032560056, 3.270375457875458, 3.4361009361009374, 3.310248778998778, 3.3361314611314596, 3.3882147944647945, 3.3861161986161985, 3.444749694749694, 3.305606430606431, 3.3412189662189675, 3.377340252340254, 3.4596942409442413, 3.258992165242166, 3.3959096459096467, 3.2883725071225083, 3.324620980870981, 3.415178571428571, 3.3512667887667895, 3.363858363858364, 3.3121565934065926, 3.281631562881563, 3.3459249084249065, 3.359915547415547, 3.3868793243793234, 3.3513939763939757, 3.3324430199430197, 3.32411223036223, 3.4293599918599917, 3.3529838217338246, 3.3609330484330484, 3.3692002442002433, 3.3247481684981683, 3.3485958485958487, 3.42630748880749, 3.294350325600325, 3.4816977004477008, 3.3625228937728924, 3.307577838827839, 3.331234737484738, 3.370090557590558, 3.349549755799757, 3.3288817663817656, 3.3527930402930406, 3.3692638380138393, 3.337530525030525, 3.392284798534799, 3.325702075702075, 3.3494861619861624, 3.46382783882784, 3.2969576719576725, 3.381092287342287, 3.3193002984669655, 3.3583892958892974, 3.4572140822140827, 3.4385175010175035, 3.381092287342287, 3.4343203093203094, 3.3526022588522593, 3.460966117216119, 3.4128256003255992, 3.266687016687015, 3.352983821733821, 3.390758547008547, 3.43419312169312, 3.4014423076923084, 3.4562601750101742, 3.344843813593813, 3.305987993487996, 3.3587072649572653, 3.486085673585674, 3.4132071632071646, 3.3898046398046398, 3.4254807692307696, 3.3642399267399283, 3.5159747659747644, 3.4922542735042743, 3.4469754782254776, 3.5126042938542934, 3.5078983516483517, 3.416704822954823, 3.4279609279609295, 3.446466727716729, 3.497723341473341, 3.3760683760683747, 3.562398249898249, 3.392857142857143, 3.473303317053316, 3.46618080993081, 3.4410612535612537, 3.508725071225071, 3.5461182336182326, 3.5786782661782657, 3.455242673992674, 3.4305046805046806, 3.459439865689866, 3.5091702279202277, 3.4796626984126995, 3.56506919006919, 3.42484483109483, 3.4781364468864475, 3.5407763532763536, 3.5931140618640622, 3.6093304843304863, 3.601508445258446, 3.5958485958485955, 3.5091066341066344, 3.5313644688644685, 3.4673254985754998, 3.5156567969067987, 3.474702380952379, 3.432221713471714, 3.5840201465201473, 3.381919006919006, 3.4708231583231597, 3.466880341880343, 3.4495828245828233, 3.4692333129833117, 3.495561151811152, 3.359152421652423, 3.3795024420024427, 3.391712454212456, 3.393047924297926, 3.43533781033781, 3.41199888074888, 3.444622507122505, 3.502620065120063, 3.5202355514855515, 3.485831298331298, 3.4165776353276347, 3.4258623321123323, 3.46287393162393, 3.3740333740333743, 3.527548840048841, 3.3422364672364666, 3.438581094831095, 3.433684371184373, 3.440425315425316, 3.3239850427350413, 3.4335571835571823, 3.4385810948310964, 3.5036375661375665, 3.3657025844525847, 3.386688542938543, 3.3826821326821332, 3.3310439560439566, 3.4353378103378094, 3.291107041107041, 3.4199481074481093, 3.382173382173383, 3.406784188034186, 3.3475147537647536, 3.507580382580381, 3.374351343101343, 3.503637566137567, 3.4366732804232805, 3.471777065527067, 3.4913003663003663, 3.528121184371185, 3.5075167887667864, 3.483223951973954, 3.52653133903134, 3.499567562067563, 3.385416666666666, 3.4289148351648358, 3.531809625559625, 3.4784544159544164, 3.484432234432234, 3.4623015873015883, 3.4663715913715922, 3.502492877492878, 3.4787087912087906, 3.4362917175417187, 3.471904253154255, 3.5441468253968247, 3.4971509971509964, 3.4899013024013015, 3.4733033170533165, 3.408564814814816, 3.395909645909645, 3.4537164224664223, 3.269993894993895, 3.4342567155067147, 3.426307488807488, 3.4207748270248275, 3.3572446072446067, 3.4126984126984135, 3.4402345339845355, 3.4444953194953203, 3.3556547619047628, 3.423064204314205, 3.3240486365486377, 3.4273885836385865, 3.41117216117216, 3.4512362637362632, 3.3672924297924296, 3.4626195563695563, 3.423700142450142, 3.4275157712657713, 3.3798840048840044, 3.4200117012617017, 3.4745115995115996, 3.4321581196581192, 3.4266890516890527, 3.2822675010175, 3.4932081807081814, 3.403095746845749, 3.332760989010989, 3.424018111518112, 3.375050875050876, 3.3653210215710216, 3.444622507122507, 3.4322217134717135, 3.4364824989824982, 3.395400895400894, 3.4095823158323153, 3.3571174196174187, 3.3762591575091583, 3.4257351444851434, 3.3600427350427347, 3.3775946275946276, 3.4125712250712255, 3.5718737281237285, 3.3972451159951156, 3.3640491452991452, 3.3583257020757027, 3.3846535409035425, 3.372634310134309, 3.431903744403744, 3.359788359788359, 3.401378713878714, 3.4541615791615805, 3.4232549857549857, 3.4386446886446893, 3.435910154660155, 3.4310770248270255, 3.4046219983719985, 3.3904405779405784, 3.3436355311355315, 3.370281339031339, 3.3832544770044763, 3.335368335368335, 3.4186126373626364, 3.379438848188849, 3.3676739926739923, 3.524814306064305, 3.4706323768823775, 3.457277676027676, 3.4995675620675613, 3.3937474562474566, 3.43101343101343, 3.441188441188439, 3.4872303622303615, 3.5030652218152216, 3.3626500814000817, 3.4542251729751716, 3.4306318681318673, 3.3853530728530745, 3.406784188034187, 3.3361314611314614, 3.4040496540496545, 3.36977258852259, 3.4645909645909647, 3.509488196988197, 3.4118080993081, 3.4601393976393973, 3.3753688441188454, 3.345352564102565, 3.4694876882376886, 3.4930173992674, 3.4749567562067543, 3.5114596052096054, 3.462873931623932, 3.415941697191697, 3.4489468864468873, 3.420266076516077, 3.391076516076517, 3.310185185185185, 3.3419184981684977, 3.345988502238504, 3.418421855921855, 3.376895095645096, 3.4272613960113962, 3.4418879731379732, 3.37912087912088, 3.4334299959299948, 3.3938746438746423, 3.420647639397639, 3.376068376068377, 3.412316849816851, 3.4310770248270255, 3.4748931623931623, 3.3990257427757427, 3.3798204110704106, 3.502302096052096, 3.5014753764753768, 3.4415064102564106, 3.3324430199430193, 3.4511090761090766, 3.387706043956044, 3.375305250305251, 3.4947980260480267, 3.3696454008954007, 3.394256206756206, 3.48048941798942, 3.4099638787138793, 3.336640211640212, 3.4988044363044355, 3.4009335571835564, 3.4782000407000417, 3.4052579365079367, 3.4277065527065536, 3.5040191290191296, 3.4709503459503455, 3.4767373829873844, 3.3905041717541735, 3.4788359788359813, 3.392221204721205, 3.4272613960113953, 3.3737154049654063, 3.468724562474563, 3.4156873219373227, 3.4277701465201456, 3.3836996336996346, 3.41365231990232, 3.4186126373626387, 3.398071835571835, 3.415814509564509, 3.4623651811151803, 3.4560693935693934, 3.4602665852665857, 3.373588217338218, 3.3399470899470898, 3.3197242572242573, 3.3717439967439966, 3.357371794871795, 3.343317562067561, 3.44233312983313, 3.374224155474156, 3.348214285714285, 3.467579873829876, 3.448756105006105, 3.446339540089541, 3.497977716727716, 3.4154965404965414, 3.416068884818886, 3.3782305657305662, 3.405639499389499, 3.4577228327228338, 3.3885963573463562, 3.34579772079772, 3.488693019943019, 3.528757122507123, 3.371553215303216, 3.5109508547008548, 3.4232549857549865, 3.3672924297924296, 3.4010607448107453, 3.3934294871794877, 3.392729955229956, 3.3702177452177455, 3.3927299552299552, 3.393811050061051, 3.568821225071224, 3.448183760683761, 3.452762515262517, 3.3189611314611303, 3.3859254171754167, 3.457404863654863, 3.441506410256409, 3.352983821733822, 3.3118386243386255, 3.4306954619454633, 3.4802986365486355, 3.411553724053725, 3.4195029507529493, 3.4004884004884013, 3.4319673382173375, 3.3157178469678468, 3.3534289784289766, 3.400106837606837, 3.370344932844933, 3.3735246235246223, 3.531618844118846, 3.4426510989011, 3.4130799755799757, 3.4196937321937315, 3.4230006105006106, 3.4653540903540914, 3.3825549450549453, 3.328055046805049, 3.4035409035409034, 3.4840506715506723, 3.4121260683760677, 3.4352742165242156, 3.4438593813593825, 3.3835088522588532, 3.4032229344729354, 3.367864774114775, 3.440679690679692, 3.425353581603583, 3.4755926943426947, 3.3804563492063497, 3.403413715913715, 3.4828423890923883, 3.395082926332926, 3.5440196377696402, 3.439852971102971, 3.3668472730972723, 3.461538461538462, 3.3994073056573053, 3.423636548636549, 3.3972451159951143, 3.444240944240946, 3.421537952787951, 3.4726037851037854, 3.3639219576719595, 3.4538436100936103, 3.4845594220594216, 3.557247150997151, 3.418167480667479, 3.4160688848188845, 3.3236034798534804, 3.4451948514448527, 3.343889906389908, 3.4352742165242174, 3.39711792836793, 3.3967363654863654, 3.321886446886447, 3.4441137566137563, 3.409773097273096, 3.4404253154253155, 3.4464031339031336, 3.5279304029304015, 3.4762922262922245, 3.4781364468864475, 3.5409671347171354, 3.3823641636141644, 3.3786757224257222, 3.468406593406593, 3.406211843711844, 3.324875356125357, 3.553813085063085, 3.444177350427349, 3.5178189865689866, 3.333969271469273, 3.3222680097680097, 3.4070385632885625, 3.508089133089134, 3.4988044363044364, 3.400361212861213, 3.381855413105413, 3.4043040293040296, 3.4692333129833135, 3.4352106227106227, 3.4632554945054945, 3.37613196988197, 3.400679181929181, 3.515402421652421, 3.4879934879934864, 3.4623651811151817, 3.4754019129019142, 3.527739621489624, 3.453907203907205, 3.513431013431013, 3.4905372405372415, 3.4685337810337824, 3.493526149776151, 3.4833511396011385, 3.45002798127798, 3.4432870370370368, 3.440743284493284, 3.457277676027676, 3.4111085673585673, 3.500585063085063, 3.398326210826211, 3.523415242165243, 3.457977207977207, 3.41568732193732, 3.4974053724053733, 3.487929894179894, 3.415941697191696, 3.4829695767195754, 3.45199938949939, 3.4258623321123323, 3.367356023606023, 3.4335571835571836, 3.4508547008547015, 3.4621743996744, 3.4023962148962146, 3.4642729955229945, 3.536515567765567, 3.459439865689865, 3.448374542124542, 3.5212530525030523, 3.4926358363858365, 3.4786451973951973, 3.3942562067562054, 3.4587403337403337, 3.479217541717542, 3.4263074888074896, 3.4550518925518943, 3.501602564102565, 3.4797898860398866, 3.4373092185592182, 3.3645578958078963, 3.4118080993081006, 3.4122532560032575, 3.4713319088319072, 3.410027472527472, 3.4177859177859187, 3.3727614977614966, 3.4099638787138793, 3.40945512820513, 3.4013787138787137, 3.4648453398453416, 3.3987077737077733, 3.4266254578754576, 3.456896113146113, 3.409900284900285, 3.496133496133496, 3.461792836792838, 3.40964590964591, 3.4640822140822145, 3.47985347985348, 3.4474842287342287, 3.461983618233619, 3.4193757631257635, 3.452190170940172, 3.4521901709401717, 3.345098188848189, 3.4847502035002034, 3.508470695970697, 3.4038588726088723, 3.3802655677655675, 3.4684065934065944, 3.3414097476597497, 3.4836055148555154, 3.419248575498576, 3.5057361619861616, 3.448501729751728, 3.4149241961741947, 3.459885022385022, 3.425289987789988, 3.410536223036224, 3.5367063492063497, 3.4883750508750526, 3.4411884411884426, 3.446848290598291, 3.4767373829873836, 3.494416463166464, 3.5251958689458713, 3.4088827838827847, 3.476101444851446, 3.3870701058201056, 3.4304410866910864, 3.4542251729751734, 3.42579873829874, 3.3828093203093204, 3.5054181929181936, 3.419248575498575, 3.4427782865282874, 3.4559422059422054, 3.4501551689051695, 3.4654176841676843, 3.4230006105006106, 3.395464489214488, 3.442015160765161, 3.4129527879527894, 3.3715532153032157, 3.417976699226699, 3.478645197395199, 3.4511090761090757, 3.4098366910866917, 3.501984126984127, 3.456705331705331, 3.460584554334554, 3.443350630850631, 3.354764448514448, 3.4491376678876677, 3.3956552706552703, 3.4391534391534386, 3.4018874643874653, 3.4294235856735864, 3.5417938542938554, 3.414479039479039, 3.4182946682946693, 3.4310134310134326, 3.4462123524623536, 3.507071632071632, 3.5010302197802203, 3.5004578754578755, 3.366338522588524, 3.4378179690679684, 3.447102665852666, 3.427070614570615, 3.5130494505494503, 3.474448005698006, 3.38230056980057, 3.498104904354903, 3.3800747863247884, 3.4584859584859604], \"y0\": \" \", \"yaxis\": \"y\"}],\n",
       "                        {\"boxmode\": \"group\", \"legend\": {\"tracegroupgap\": 0}, \"template\": {\"data\": {\"bar\": [{\"error_x\": {\"color\": \"rgb(36,36,36)\"}, \"error_y\": {\"color\": \"rgb(36,36,36)\"}, \"marker\": {\"line\": {\"color\": \"white\", \"width\": 0.5}}, \"type\": \"bar\"}], \"barpolar\": [{\"marker\": {\"line\": {\"color\": \"white\", \"width\": 0.5}}, \"type\": \"barpolar\"}], \"carpet\": [{\"aaxis\": {\"endlinecolor\": \"rgb(36,36,36)\", \"gridcolor\": \"white\", \"linecolor\": \"white\", \"minorgridcolor\": \"white\", \"startlinecolor\": \"rgb(36,36,36)\"}, \"baxis\": {\"endlinecolor\": \"rgb(36,36,36)\", \"gridcolor\": \"white\", \"linecolor\": \"white\", \"minorgridcolor\": \"white\", \"startlinecolor\": \"rgb(36,36,36)\"}, \"type\": \"carpet\"}], \"choropleth\": [{\"colorbar\": {\"outlinewidth\": 1, \"tickcolor\": \"rgb(36,36,36)\", \"ticks\": \"outside\"}, \"type\": \"choropleth\"}], \"contour\": [{\"colorbar\": {\"outlinewidth\": 1, \"tickcolor\": \"rgb(36,36,36)\", \"ticks\": \"outside\"}, \"colorscale\": [[0.0, \"#440154\"], [0.1111111111111111, \"#482878\"], [0.2222222222222222, \"#3e4989\"], [0.3333333333333333, \"#31688e\"], [0.4444444444444444, \"#26828e\"], [0.5555555555555556, \"#1f9e89\"], [0.6666666666666666, \"#35b779\"], [0.7777777777777778, \"#6ece58\"], [0.8888888888888888, \"#b5de2b\"], [1.0, \"#fde725\"]], \"type\": \"contour\"}], \"contourcarpet\": [{\"colorbar\": {\"outlinewidth\": 1, \"tickcolor\": \"rgb(36,36,36)\", \"ticks\": \"outside\"}, \"type\": \"contourcarpet\"}], \"heatmap\": [{\"colorbar\": {\"outlinewidth\": 1, \"tickcolor\": \"rgb(36,36,36)\", \"ticks\": \"outside\"}, \"colorscale\": [[0.0, \"#440154\"], [0.1111111111111111, \"#482878\"], [0.2222222222222222, \"#3e4989\"], [0.3333333333333333, \"#31688e\"], [0.4444444444444444, \"#26828e\"], [0.5555555555555556, \"#1f9e89\"], [0.6666666666666666, \"#35b779\"], [0.7777777777777778, \"#6ece58\"], [0.8888888888888888, \"#b5de2b\"], [1.0, \"#fde725\"]], \"type\": \"heatmap\"}], \"heatmapgl\": [{\"colorbar\": {\"outlinewidth\": 1, \"tickcolor\": \"rgb(36,36,36)\", \"ticks\": \"outside\"}, \"colorscale\": [[0.0, \"#440154\"], [0.1111111111111111, \"#482878\"], [0.2222222222222222, \"#3e4989\"], [0.3333333333333333, \"#31688e\"], [0.4444444444444444, \"#26828e\"], [0.5555555555555556, \"#1f9e89\"], [0.6666666666666666, \"#35b779\"], [0.7777777777777778, \"#6ece58\"], [0.8888888888888888, \"#b5de2b\"], [1.0, \"#fde725\"]], \"type\": \"heatmapgl\"}], \"histogram\": [{\"marker\": {\"line\": {\"color\": \"white\", \"width\": 0.6}}, \"type\": \"histogram\"}], \"histogram2d\": [{\"colorbar\": {\"outlinewidth\": 1, \"tickcolor\": \"rgb(36,36,36)\", \"ticks\": \"outside\"}, \"colorscale\": [[0.0, \"#440154\"], [0.1111111111111111, \"#482878\"], [0.2222222222222222, \"#3e4989\"], [0.3333333333333333, \"#31688e\"], [0.4444444444444444, \"#26828e\"], [0.5555555555555556, \"#1f9e89\"], [0.6666666666666666, \"#35b779\"], [0.7777777777777778, \"#6ece58\"], [0.8888888888888888, \"#b5de2b\"], [1.0, \"#fde725\"]], \"type\": \"histogram2d\"}], \"histogram2dcontour\": [{\"colorbar\": {\"outlinewidth\": 1, \"tickcolor\": \"rgb(36,36,36)\", \"ticks\": \"outside\"}, \"colorscale\": [[0.0, \"#440154\"], [0.1111111111111111, \"#482878\"], [0.2222222222222222, \"#3e4989\"], [0.3333333333333333, \"#31688e\"], [0.4444444444444444, \"#26828e\"], [0.5555555555555556, \"#1f9e89\"], [0.6666666666666666, \"#35b779\"], [0.7777777777777778, \"#6ece58\"], [0.8888888888888888, \"#b5de2b\"], [1.0, \"#fde725\"]], \"type\": \"histogram2dcontour\"}], \"mesh3d\": [{\"colorbar\": {\"outlinewidth\": 1, \"tickcolor\": \"rgb(36,36,36)\", \"ticks\": \"outside\"}, \"type\": \"mesh3d\"}], \"parcoords\": [{\"line\": {\"colorbar\": {\"outlinewidth\": 1, \"tickcolor\": \"rgb(36,36,36)\", \"ticks\": \"outside\"}}, \"type\": \"parcoords\"}], \"pie\": [{\"automargin\": true, \"type\": \"pie\"}], \"scatter\": [{\"marker\": {\"colorbar\": {\"outlinewidth\": 1, \"tickcolor\": \"rgb(36,36,36)\", \"ticks\": \"outside\"}}, \"type\": \"scatter\"}], \"scatter3d\": [{\"line\": {\"colorbar\": {\"outlinewidth\": 1, \"tickcolor\": \"rgb(36,36,36)\", \"ticks\": \"outside\"}}, \"marker\": {\"colorbar\": {\"outlinewidth\": 1, \"tickcolor\": \"rgb(36,36,36)\", \"ticks\": \"outside\"}}, \"type\": \"scatter3d\"}], \"scattercarpet\": [{\"marker\": {\"colorbar\": {\"outlinewidth\": 1, \"tickcolor\": \"rgb(36,36,36)\", \"ticks\": \"outside\"}}, \"type\": \"scattercarpet\"}], \"scattergeo\": [{\"marker\": {\"colorbar\": {\"outlinewidth\": 1, \"tickcolor\": \"rgb(36,36,36)\", \"ticks\": \"outside\"}}, \"type\": \"scattergeo\"}], \"scattergl\": [{\"marker\": {\"colorbar\": {\"outlinewidth\": 1, \"tickcolor\": \"rgb(36,36,36)\", \"ticks\": \"outside\"}}, \"type\": \"scattergl\"}], \"scattermapbox\": [{\"marker\": {\"colorbar\": {\"outlinewidth\": 1, \"tickcolor\": \"rgb(36,36,36)\", \"ticks\": \"outside\"}}, \"type\": \"scattermapbox\"}], \"scatterpolar\": [{\"marker\": {\"colorbar\": {\"outlinewidth\": 1, \"tickcolor\": \"rgb(36,36,36)\", \"ticks\": \"outside\"}}, \"type\": \"scatterpolar\"}], \"scatterpolargl\": [{\"marker\": {\"colorbar\": {\"outlinewidth\": 1, \"tickcolor\": \"rgb(36,36,36)\", \"ticks\": \"outside\"}}, \"type\": \"scatterpolargl\"}], \"scatterternary\": [{\"marker\": {\"colorbar\": {\"outlinewidth\": 1, \"tickcolor\": \"rgb(36,36,36)\", \"ticks\": \"outside\"}}, \"type\": \"scatterternary\"}], \"surface\": [{\"colorbar\": {\"outlinewidth\": 1, \"tickcolor\": \"rgb(36,36,36)\", \"ticks\": \"outside\"}, \"colorscale\": [[0.0, \"#440154\"], [0.1111111111111111, \"#482878\"], [0.2222222222222222, \"#3e4989\"], [0.3333333333333333, \"#31688e\"], [0.4444444444444444, \"#26828e\"], [0.5555555555555556, \"#1f9e89\"], [0.6666666666666666, \"#35b779\"], [0.7777777777777778, \"#6ece58\"], [0.8888888888888888, \"#b5de2b\"], [1.0, \"#fde725\"]], \"type\": \"surface\"}], \"table\": [{\"cells\": {\"fill\": {\"color\": \"rgb(237,237,237)\"}, \"line\": {\"color\": \"white\"}}, \"header\": {\"fill\": {\"color\": \"rgb(217,217,217)\"}, \"line\": {\"color\": \"white\"}}, \"type\": \"table\"}]}, \"layout\": {\"annotationdefaults\": {\"arrowhead\": 0, \"arrowwidth\": 1}, \"coloraxis\": {\"colorbar\": {\"outlinewidth\": 1, \"tickcolor\": \"rgb(36,36,36)\", \"ticks\": \"outside\"}}, \"colorscale\": {\"diverging\": [[0.0, \"rgb(103,0,31)\"], [0.1, \"rgb(178,24,43)\"], [0.2, \"rgb(214,96,77)\"], [0.3, \"rgb(244,165,130)\"], [0.4, \"rgb(253,219,199)\"], [0.5, \"rgb(247,247,247)\"], [0.6, \"rgb(209,229,240)\"], [0.7, \"rgb(146,197,222)\"], [0.8, \"rgb(67,147,195)\"], [0.9, \"rgb(33,102,172)\"], [1.0, \"rgb(5,48,97)\"]], \"sequential\": [[0.0, \"#440154\"], [0.1111111111111111, \"#482878\"], [0.2222222222222222, \"#3e4989\"], [0.3333333333333333, \"#31688e\"], [0.4444444444444444, \"#26828e\"], [0.5555555555555556, \"#1f9e89\"], [0.6666666666666666, \"#35b779\"], [0.7777777777777778, \"#6ece58\"], [0.8888888888888888, \"#b5de2b\"], [1.0, \"#fde725\"]], \"sequentialminus\": [[0.0, \"#440154\"], [0.1111111111111111, \"#482878\"], [0.2222222222222222, \"#3e4989\"], [0.3333333333333333, \"#31688e\"], [0.4444444444444444, \"#26828e\"], [0.5555555555555556, \"#1f9e89\"], [0.6666666666666666, \"#35b779\"], [0.7777777777777778, \"#6ece58\"], [0.8888888888888888, \"#b5de2b\"], [1.0, \"#fde725\"]]}, \"colorway\": [\"#1F77B4\", \"#FF7F0E\", \"#2CA02C\", \"#D62728\", \"#9467BD\", \"#8C564B\", \"#E377C2\", \"#7F7F7F\", \"#BCBD22\", \"#17BECF\"], \"font\": {\"color\": \"rgb(36,36,36)\"}, \"geo\": {\"bgcolor\": \"white\", \"lakecolor\": \"white\", \"landcolor\": \"white\", \"showlakes\": true, \"showland\": true, \"subunitcolor\": \"white\"}, \"hoverlabel\": {\"align\": \"left\"}, \"hovermode\": \"closest\", \"mapbox\": {\"style\": \"light\"}, \"paper_bgcolor\": \"white\", \"plot_bgcolor\": \"white\", \"polar\": {\"angularaxis\": {\"gridcolor\": \"rgb(232,232,232)\", \"linecolor\": \"rgb(36,36,36)\", \"showgrid\": false, \"showline\": true, \"ticks\": \"outside\"}, \"bgcolor\": \"white\", \"radialaxis\": {\"gridcolor\": \"rgb(232,232,232)\", \"linecolor\": \"rgb(36,36,36)\", \"showgrid\": false, \"showline\": true, \"ticks\": \"outside\"}}, \"scene\": {\"xaxis\": {\"backgroundcolor\": \"white\", \"gridcolor\": \"rgb(232,232,232)\", \"gridwidth\": 2, \"linecolor\": \"rgb(36,36,36)\", \"showbackground\": true, \"showgrid\": false, \"showline\": true, \"ticks\": \"outside\", \"zeroline\": false, \"zerolinecolor\": \"rgb(36,36,36)\"}, \"yaxis\": {\"backgroundcolor\": \"white\", \"gridcolor\": \"rgb(232,232,232)\", \"gridwidth\": 2, \"linecolor\": \"rgb(36,36,36)\", \"showbackground\": true, \"showgrid\": false, \"showline\": true, \"ticks\": \"outside\", \"zeroline\": false, \"zerolinecolor\": \"rgb(36,36,36)\"}, \"zaxis\": {\"backgroundcolor\": \"white\", \"gridcolor\": \"rgb(232,232,232)\", \"gridwidth\": 2, \"linecolor\": \"rgb(36,36,36)\", \"showbackground\": true, \"showgrid\": false, \"showline\": true, \"ticks\": \"outside\", \"zeroline\": false, \"zerolinecolor\": \"rgb(36,36,36)\"}}, \"shapedefaults\": {\"fillcolor\": \"black\", \"line\": {\"width\": 0}, \"opacity\": 0.3}, \"ternary\": {\"aaxis\": {\"gridcolor\": \"rgb(232,232,232)\", \"linecolor\": \"rgb(36,36,36)\", \"showgrid\": false, \"showline\": true, \"ticks\": \"outside\"}, \"baxis\": {\"gridcolor\": \"rgb(232,232,232)\", \"linecolor\": \"rgb(36,36,36)\", \"showgrid\": false, \"showline\": true, \"ticks\": \"outside\"}, \"bgcolor\": \"white\", \"caxis\": {\"gridcolor\": \"rgb(232,232,232)\", \"linecolor\": \"rgb(36,36,36)\", \"showgrid\": false, \"showline\": true, \"ticks\": \"outside\"}}, \"title\": {\"x\": 0.05}, \"xaxis\": {\"automargin\": true, \"gridcolor\": \"rgb(232,232,232)\", \"linecolor\": \"rgb(36,36,36)\", \"showgrid\": false, \"showline\": true, \"ticks\": \"outside\", \"title\": {\"standoff\": 15}, \"zeroline\": false, \"zerolinecolor\": \"rgb(36,36,36)\"}, \"yaxis\": {\"automargin\": true, \"gridcolor\": \"rgb(232,232,232)\", \"linecolor\": \"rgb(36,36,36)\", \"showgrid\": false, \"showline\": true, \"ticks\": \"outside\", \"title\": {\"standoff\": 15}, \"zeroline\": false, \"zerolinecolor\": \"rgb(36,36,36)\"}}}, \"title\": {\"text\": \"HousePressure g-pump-6 for all weeks \"}, \"xaxis\": {\"anchor\": \"y\", \"domain\": [0.0, 1.0], \"title\": {\"text\": \"week\"}, \"type\": \"category\"}, \"yaxis\": {\"anchor\": \"x\", \"domain\": [0.0, 1.0], \"title\": {\"text\": \"feature_value\"}}},\n",
       "                        {\"responsive\": true}\n",
       "                    ).then(function(){\n",
       "                            \n",
       "var gd = document.getElementById('5601ca02-0d12-4724-91f3-a44a43c2a08c');\n",
       "var x = new MutationObserver(function (mutations, observer) {{\n",
       "        var display = window.getComputedStyle(gd).display;\n",
       "        if (!display || display === 'none') {{\n",
       "            console.log([gd, 'removed!']);\n",
       "            Plotly.purge(gd);\n",
       "            observer.disconnect();\n",
       "        }}\n",
       "}});\n",
       "\n",
       "// Listen for the removal of the full notebook cells\n",
       "var notebookContainer = gd.closest('#notebook-container');\n",
       "if (notebookContainer) {{\n",
       "    x.observe(notebookContainer, {childList: true});\n",
       "}}\n",
       "\n",
       "// Listen for the clearing of the current output cell\n",
       "var outputEl = gd.closest('.output');\n",
       "if (outputEl) {{\n",
       "    x.observe(outputEl, {childList: true});\n",
       "}}\n",
       "\n",
       "                        })\n",
       "                };\n",
       "                });\n",
       "            </script>\n",
       "        </div>"
      ]
     },
     "metadata": {},
     "output_type": "display_data"
    }
   ],
   "source": [
    "show_baselining_plot_azure(df_data, duration = \"all\", asset_name= asset_name, variable_name= INLET_PRESSURE, plot_type = \"box\")\n",
    "\n",
    "show_baselining_plot_azure(df_data, duration = \"all\", asset_name= asset_name, variable_name= OUTLET_PRESSURE, plot_type = \"box\")\n",
    "\n",
    "show_baselining_plot_azure(df_data, duration = \"all\", asset_name= asset_name, variable_name= HOUSE_PRESSURE, plot_type = \"box\")"
   ]
  },
  {
   "cell_type": "markdown",
   "metadata": {},
   "source": [
    "*** \n",
    "*** "
   ]
  },
  {
   "cell_type": "markdown",
   "metadata": {},
   "source": [
    "*** "
   ]
  },
  {
   "cell_type": "markdown",
   "metadata": {},
   "source": [
    "*** \n",
    "*** "
   ]
  },
  {
   "cell_type": "markdown",
   "metadata": {},
   "source": [
    "# Baselining Week Inputs\n",
    "\n"
   ]
  },
  {
   "cell_type": "code",
   "execution_count": 17,
   "metadata": {},
   "outputs": [],
   "source": [
    "week_numbers_inletPressure = [51,52,1,2]\n",
    "week_numbers_outletPressure = [48,49,50,52]\n",
    "week_numbers_housePressure = [51,52,1,2]"
   ]
  },
  {
   "cell_type": "markdown",
   "metadata": {},
   "source": [
    "***"
   ]
  },
  {
   "cell_type": "markdown",
   "metadata": {},
   "source": [
    "## Inlet Pressure"
   ]
  },
  {
   "cell_type": "code",
   "execution_count": 18,
   "metadata": {},
   "outputs": [
    {
     "name": "stdout",
     "output_type": "stream",
     "text": [
      "2.8952507475976406 0.04520139828090357\n"
     ]
    },
    {
     "data": {
      "application/vnd.plotly.v1+json": {
       "config": {
        "plotlyServerURL": "https://plot.ly"
       },
       "data": [
        {
         "alignmentgroup": "True",
         "hoverlabel": {
          "namelength": 0
         },
         "hovertemplate": "week=%{x}<br>feature_value=%{y}",
         "legendgroup": "",
         "marker": {
          "color": "#1F77B4"
         },
         "name": "",
         "notched": false,
         "offsetgroup": "",
         "orientation": "v",
         "showlegend": false,
         "type": "box",
         "x": [
          51,
          51,
          51,
          51,
          51,
          51,
          51,
          51,
          51,
          51,
          51,
          51,
          51,
          51,
          51,
          51,
          51,
          51,
          51,
          51,
          51,
          51,
          51,
          51,
          51,
          51,
          51,
          51,
          51,
          51,
          51,
          51,
          51,
          51,
          51,
          51,
          51,
          51,
          51,
          51,
          51,
          51,
          51,
          51,
          51,
          51,
          51,
          51,
          51,
          51,
          51,
          51,
          51,
          51,
          51,
          51,
          51,
          51,
          51,
          51,
          51,
          51,
          51,
          51,
          51,
          51,
          51,
          51,
          51,
          51,
          51,
          51,
          51,
          51,
          51,
          51,
          51,
          51,
          51,
          51,
          51,
          51,
          51,
          51,
          51,
          51,
          51,
          51,
          51,
          51,
          51,
          51,
          51,
          51,
          51,
          51,
          51,
          51,
          51,
          51,
          51,
          51,
          51,
          51,
          51,
          51,
          51,
          51,
          51,
          51,
          51,
          51,
          51,
          51,
          51,
          51,
          51,
          51,
          51,
          51,
          51,
          51,
          51,
          51,
          51,
          51,
          51,
          51,
          51,
          51,
          51,
          51,
          51,
          51,
          51,
          51,
          51,
          51,
          51,
          51,
          51,
          51,
          51,
          51,
          51,
          51,
          51,
          51,
          52,
          52,
          52,
          52,
          52,
          52,
          52,
          52,
          52,
          52,
          52,
          52,
          52,
          52,
          52,
          52,
          52,
          52,
          52,
          52,
          52,
          52,
          52,
          52,
          52,
          52,
          52,
          52,
          52,
          52,
          52,
          52,
          52,
          52,
          52,
          52,
          52,
          52,
          52,
          52,
          52,
          52,
          52,
          52,
          52,
          52,
          52,
          52,
          52,
          52,
          52,
          52,
          52,
          52,
          52,
          52,
          52,
          52,
          52,
          52,
          52,
          52,
          52,
          52,
          52,
          52,
          52,
          52,
          52,
          52,
          52,
          52,
          52,
          52,
          52,
          52,
          52,
          52,
          52,
          52,
          52,
          52,
          52,
          52,
          52,
          52,
          52,
          52,
          52,
          52,
          52,
          52,
          52,
          52,
          52,
          52,
          52,
          52,
          52,
          52,
          52,
          52,
          52,
          52,
          52,
          52,
          52,
          52,
          52,
          52,
          52,
          52,
          52,
          52,
          52,
          52,
          52,
          52,
          52,
          52,
          52,
          52,
          52,
          52,
          52,
          52,
          52,
          52,
          52,
          52,
          52,
          52,
          52,
          52,
          52,
          52,
          52,
          52,
          52,
          52,
          52,
          52,
          52,
          52,
          52,
          52,
          52,
          52,
          52,
          52,
          52,
          52,
          52,
          52,
          52,
          52,
          52,
          52,
          52,
          52,
          52,
          52,
          52,
          52,
          52,
          1,
          1,
          1,
          1,
          1,
          1,
          1,
          1,
          1,
          1,
          1,
          1,
          1,
          1,
          1,
          1,
          1,
          1,
          1,
          1,
          1,
          1,
          1,
          1,
          1,
          1,
          1,
          1,
          1,
          1,
          1,
          1,
          1,
          1,
          1,
          1,
          1,
          1,
          1,
          1,
          1,
          1,
          1,
          1,
          1,
          1,
          1,
          1,
          1,
          1,
          1,
          1,
          1,
          1,
          1,
          1,
          1,
          1,
          1,
          1,
          1,
          1,
          1,
          1,
          1,
          1,
          1,
          1,
          1,
          1,
          1,
          1,
          1,
          1,
          1,
          1,
          1,
          1,
          1,
          1,
          1,
          1,
          1,
          1,
          1,
          1,
          1,
          1,
          1,
          1,
          1,
          1,
          1,
          1,
          1,
          1,
          1,
          1,
          1,
          1,
          1,
          1,
          1,
          1,
          1,
          1,
          1,
          1,
          1,
          1,
          1,
          1,
          1,
          1,
          1,
          1,
          1,
          1,
          1,
          1,
          1,
          1,
          1,
          1,
          1,
          1,
          1,
          1,
          1,
          1,
          1,
          1,
          1,
          1,
          1,
          1,
          1,
          1,
          1,
          1,
          1,
          1,
          1,
          1,
          1,
          1,
          1,
          1,
          1,
          1,
          1,
          1,
          1,
          1,
          1,
          1,
          1,
          1,
          1,
          1,
          1,
          1,
          1,
          1,
          1,
          1,
          1,
          1,
          2,
          2,
          2,
          2,
          2,
          2,
          2,
          2,
          2,
          2,
          2,
          2,
          2,
          2,
          2,
          2,
          2
         ],
         "x0": " ",
         "xaxis": "x",
         "y": [
          2.953105921855922,
          2.9261421448921454,
          2.9557132682132683,
          2.927986365486365,
          2.9398148148148144,
          2.9567307692307687,
          2.93122964997965,
          2.883788665038665,
          2.875076312576312,
          2.8561253561253577,
          2.942485754985755,
          2.9363171550671563,
          2.933391839641839,
          2.900132275132274,
          2.8884946072446085,
          2.8857600732600712,
          2.8298611111111107,
          2.92124542124542,
          2.8388278388278394,
          2.815806878306877,
          2.893645706145705,
          2.902866809116808,
          2.8887489824989827,
          2.8553622303622297,
          2.874885531135531,
          2.8626119251119246,
          2.8687805250305263,
          2.860958485958488,
          2.806776556776556,
          2.8387006512006505,
          2.8360933048433044,
          2.8617216117216113,
          2.8695436507936507,
          2.842961436711437,
          2.865473646723648,
          2.8514830077330076,
          2.8567612942612945,
          2.8513558201058196,
          2.8646469271469264,
          2.816252035002035,
          2.907699938949938,
          2.804868742368743,
          2.8650920838420824,
          2.8626755189255175,
          2.8932005494505475,
          2.8169515669515675,
          2.9952686202686194,
          2.880354599104599,
          3.0235042735042725,
          2.9358084045584047,
          2.954504985754985,
          2.926269332519331,
          2.962835775335775,
          2.9183201058201043,
          2.9653795278795285,
          2.954314204314203,
          2.963026556776558,
          2.973074379324378,
          2.9753637566137545,
          2.965188746438745,
          2.9744098494098483,
          2.895426332926333,
          2.918701668701669,
          2.9649343711843703,
          2.9832493894993894,
          3.000992063492062,
          2.934472934472933,
          2.9538690476190492,
          2.952469983719984,
          2.9692587505087507,
          3.024648962148962,
          3.0063975376475374,
          2.8774928774928785,
          2.8121820309320307,
          2.8813721001220984,
          2.8561889499389506,
          2.8761574074074097,
          2.8563161375661372,
          2.910180097680097,
          2.85402676027676,
          2.8734228734228733,
          2.974409849409851,
          2.8314509564509556,
          2.873613654863655,
          2.8939000814000813,
          2.8980972730972714,
          2.838955026455025,
          2.8964438339438345,
          2.899369149369148,
          2.8732956857956853,
          2.9103072853072853,
          2.86636396011396,
          2.881690069190069,
          2.8735500610500595,
          2.8192409442409434,
          2.9486543549043542,
          2.9754909442409443,
          2.8608312983312985,
          2.8690349002849,
          2.8574608262108274,
          2.9225172975172975,
          2.874631155881156,
          2.856952075702077,
          2.8893213268213267,
          2.88372507122507,
          2.8607041107041087,
          2.863057081807083,
          2.890974765974765,
          2.904711029711031,
          2.853072853072854,
          2.885632885632886,
          2.8240740740740744,
          2.896761803011804,
          2.831005799755802,
          2.86172161172161,
          2.8491300366300365,
          2.8361568986568977,
          2.9386701261701265,
          2.8522461334961307,
          2.8813085063085055,
          2.8462047212047223,
          2.9599104599104575,
          2.837428774928776,
          2.8308786121286134,
          2.881944444444444,
          2.8961258648758648,
          2.8401633089133083,
          2.843851750101752,
          2.8476673789173788,
          2.8383190883190887,
          2.842198310948312,
          2.896316646316645,
          2.865918803418803,
          2.861085673585673,
          2.8439789377289375,
          2.873232091982091,
          2.844360500610501,
          2.8427706552706553,
          2.874821937321936,
          2.9222629222629215,
          2.9240435490435495,
          2.8734228734228715,
          2.9615003052503055,
          2.8990511803011785,
          2.867190679690681,
          2.891992266992266,
          2.867190679690678,
          2.875712250712251,
          2.8954899267399257,
          2.913614163614165,
          2.826363451363452,
          2.8732956857956844,
          2.8999414936914945,
          2.860767704517704,
          2.827762515262515,
          2.9066824379324374,
          2.8735500610500595,
          2.9022944647944637,
          2.970530626780627,
          2.9211182336182335,
          2.9399420024420024,
          2.9253790191290165,
          2.8885582010581996,
          2.9146952584452595,
          2.890911172161171,
          2.8930097680097675,
          2.8873499185999187,
          2.8794006919006923,
          2.8381919006919003,
          2.897779304029303,
          2.853899572649574,
          2.8507834757834747,
          2.800671550671551,
          2.898478835978835,
          2.878383190883191,
          2.886777574277573,
          2.775234025234024,
          2.8794642857142847,
          2.910816035816035,
          2.9011497761497753,
          2.8400997150997145,
          2.8240104802604797,
          2.8793370980870985,
          2.8526276963776955,
          2.821530321530322,
          2.8765389702889714,
          2.8924374236874244,
          2.8514830077330084,
          2.872468966218966,
          2.8802910052910047,
          2.923789173789173,
          2.9522792022792026,
          2.895426332926333,
          2.8900844525844516,
          2.870624745624745,
          2.886396011396012,
          2.820131257631257,
          2.887858669108669,
          2.9276048026048023,
          2.867826617826619,
          2.8488756613756614,
          2.8699252136752134,
          2.878319597069597,
          2.847222222222222,
          2.8643925518925513,
          2.8497659747659747,
          2.9294490231990213,
          2.9318019943019937,
          2.9104344729344738,
          2.891419922669923,
          2.8512286324786342,
          2.92576058201058,
          2.8774928774928763,
          2.8486848799348805,
          2.887095543345543,
          2.919846357346357,
          2.8907839845339853,
          2.9067460317460316,
          2.8989239926739923,
          2.935426841676842,
          2.935236060236058,
          2.872532560032561,
          2.8657916157916152,
          2.926905270655269,
          2.9116427553927555,
          2.8538995726495724,
          2.865855209605209,
          2.859940984940985,
          2.9233440170940157,
          2.921054639804639,
          2.867763024013025,
          2.911579161579161,
          2.9129782254782257,
          2.823883292633292,
          2.9064280626780623,
          2.889321326821325,
          2.8521189458689467,
          2.91456807081807,
          2.910498066748067,
          2.841371591371592,
          2.9134233821733826,
          2.892501017501018,
          2.875712250712251,
          2.9036299348799357,
          2.93154761904762,
          2.8890033577533587,
          2.9163486975986976,
          2.9129146316646306,
          2.8567612942612928,
          2.9445843508343508,
          2.8845517908017904,
          2.8566341066341057,
          2.885632885632886,
          2.9085266585266596,
          2.9239799552299535,
          2.8812449124949127,
          2.82451923076923,
          2.8715786528286533,
          2.9422949735449744,
          2.9385429385429376,
          2.83965455840456,
          2.9792429792429798,
          2.895744301994302,
          2.843088624338625,
          2.850974257224257,
          2.8027701465201447,
          2.906046499796499,
          2.872468966218966,
          2.9139321326821315,
          2.8371743996744008,
          2.867763024013023,
          2.86521927146927,
          2.7939942002442,
          2.8734228734228733,
          2.802261396011397,
          2.8454415954415944,
          2.833803927553928,
          2.967859686609687,
          2.863502238502239,
          2.835139397639398,
          2.916221509971509,
          2.9145044770044746,
          2.825600325600325,
          2.8841066341066344,
          2.832532051282051,
          2.9608643671143677,
          2.9404507529507526,
          2.8070945258445246,
          2.865791615791616,
          2.8361568986568977,
          2.8813721001220998,
          2.868844118844119,
          2.920355107855109,
          2.902358058608059,
          2.8563161375661377,
          2.8900844525844533,
          2.896825396825397,
          2.8669363044363045,
          2.895235551485552,
          2.863883801383802,
          2.857270044770045,
          2.8892577330077334,
          2.814916564916564,
          2.9052197802197797,
          2.847985347985349,
          2.8690984940984943,
          2.865600834350834,
          2.8832163207163206,
          2.872532560032561,
          2.8722145909645924,
          2.8982244607244607,
          2.8782560032560034,
          2.841117216117215,
          2.8712606837606836,
          2.928240740740742,
          2.9263965201465214,
          2.9250610500610486,
          2.8881130443630454,
          2.7551383801383817,
          2.8383190883190874,
          2.918574481074483,
          2.82750814000814,
          2.8483669108669107,
          2.887604293854293,
          2.9315476190476186,
          2.838001119251118,
          2.9649343711843703,
          3.020769739519738,
          2.9915801790801795,
          2.867826617826617,
          2.910879629629628,
          2.943376068376068,
          2.850592694342693,
          2.8966982091982083,
          2.8763481888481874,
          2.8654736467236472,
          2.7621336996337003,
          2.9342821530321523,
          2.87971866096866,
          2.912660256410256,
          2.9185744810744816,
          2.840544871794872,
          2.8437245624745624,
          2.8431522181522166,
          2.940005596255595,
          2.800989519739519,
          2.830369861619861,
          2.8596230158730163,
          2.902167277167276,
          2.9461106023606014,
          2.941404660154659,
          2.939687627187627,
          2.9403871591371598,
          2.864265364265364,
          2.971738909238909,
          2.960673585673586,
          2.955204517704518,
          2.971357346357346,
          2.9860475172975183,
          2.9194647944647927,
          2.934854497354497,
          2.958320614570615,
          2.8861416361416357,
          2.9616274928774913,
          2.9338369963369964,
          2.901531339031339,
          2.89771571021571,
          2.9304665242165253,
          2.880545380545381,
          2.8896392958892965,
          2.862802706552707,
          2.977080789580788,
          2.9398148148148144,
          2.879146316646317,
          2.8739316239316235,
          2.936571530321531,
          2.87469474969475,
          2.892946174196174,
          2.895617114367115,
          2.897842897842897,
          2.8790191290191296,
          2.901785714285714,
          2.890402421652423,
          2.874058811558813,
          2.9101800976800978,
          2.869162087912089,
          2.917874949124949,
          2.9583842083842082,
          2.875648656898657,
          2.925124643874643,
          2.9492902930402933,
          2.9778439153439162,
          2.8869683557183543,
          2.8847425722425712,
          2.9763176638176634,
          2.9311660561660555,
          2.966333435083435,
          2.9278591778591774,
          2.8848697598697597,
          2.9970492470492474,
          2.965061558811558,
          2.881117724867724,
          2.876602564102564,
          2.913486975986976,
          2.86833536833537,
          2.885887260887261,
          2.936889499389498,
          2.8901480463980476,
          2.886777574277574,
          2.8573972323972328,
          2.899814306064307,
          2.8898300773300782,
          2.909289784289783,
          2.9097985347985342,
          2.923534798534799,
          2.929003866503867,
          2.9461106023606027,
          2.9110068172568186,
          2.923916361416362,
          2.978034696784697,
          2.950625763125762,
          2.922135734635733,
          2.891547110297109,
          2.806585775335775,
          2.8933913308913315,
          2.881435693935693,
          2.8653464590964592,
          2.9148224460724457,
          2.95774827024827,
          2.890466015466018,
          2.932437932437932,
          2.945856227106228,
          2.8785739723239736,
          2.879527879527878,
          2.8540267602767613,
          2.9367623117623105,
          2.887795075295075,
          2.9242343304843312,
          2.9146952584452577,
          2.977144383394382,
          2.862993487993487,
          2.9486543549043542,
          2.9227080789580775,
          2.855362230362229,
          2.96709656084656,
          2.914059320309319,
          2.8835342897842895,
          2.9781618844118847,
          2.8753306878306883,
          2.950498575498575,
          2.862866300366303,
          2.8923102360602364,
          2.9640440577940566,
          2.94191341066341,
          2.9046474358974357,
          2.8771749084249083,
          2.877174908424907,
          2.9391788766788776,
          2.9646164021164014,
          2.8860780423280445,
          2.98159595034595,
          2.9270324582824574,
          2.8704975579975582,
          2.940641534391535,
          2.9479548229548236,
          2.8997507122507127,
          2.946682946682946,
          2.874821937321937,
          2.9485907610907596,
          2.88302553927554,
          2.9318019943019937,
          2.9019764957264957,
          2.889130545380546,
          2.9586385836385847,
          2.9205458892958895,
          2.916984635734636,
          2.896189458689458,
          2.972374847374848,
          2.941722629222627,
          2.9583842083842096,
          2.9005774318274327,
          2.906873219373221,
          2.9715481277981297,
          2.9386701261701274,
          2.908844627594627,
          2.889003357753358,
          2.9080815018315023,
          2.9985754985754993,
          2.9683048433048422,
          2.9080815018315014,
          2.8837886650386637,
          2.9571123321123327,
          2.918765262515263,
          2.9444571632071628,
          2.8679538054538045,
          2.9201007326007336,
          2.9527879527879524,
          2.796347171347172
         ],
         "y0": " ",
         "yaxis": "y"
        }
       ],
       "layout": {
        "boxmode": "group",
        "legend": {
         "tracegroupgap": 0
        },
        "template": {
         "data": {
          "bar": [
           {
            "error_x": {
             "color": "rgb(36,36,36)"
            },
            "error_y": {
             "color": "rgb(36,36,36)"
            },
            "marker": {
             "line": {
              "color": "white",
              "width": 0.5
             }
            },
            "type": "bar"
           }
          ],
          "barpolar": [
           {
            "marker": {
             "line": {
              "color": "white",
              "width": 0.5
             }
            },
            "type": "barpolar"
           }
          ],
          "carpet": [
           {
            "aaxis": {
             "endlinecolor": "rgb(36,36,36)",
             "gridcolor": "white",
             "linecolor": "white",
             "minorgridcolor": "white",
             "startlinecolor": "rgb(36,36,36)"
            },
            "baxis": {
             "endlinecolor": "rgb(36,36,36)",
             "gridcolor": "white",
             "linecolor": "white",
             "minorgridcolor": "white",
             "startlinecolor": "rgb(36,36,36)"
            },
            "type": "carpet"
           }
          ],
          "choropleth": [
           {
            "colorbar": {
             "outlinewidth": 1,
             "tickcolor": "rgb(36,36,36)",
             "ticks": "outside"
            },
            "type": "choropleth"
           }
          ],
          "contour": [
           {
            "colorbar": {
             "outlinewidth": 1,
             "tickcolor": "rgb(36,36,36)",
             "ticks": "outside"
            },
            "colorscale": [
             [
              0,
              "#440154"
             ],
             [
              0.1111111111111111,
              "#482878"
             ],
             [
              0.2222222222222222,
              "#3e4989"
             ],
             [
              0.3333333333333333,
              "#31688e"
             ],
             [
              0.4444444444444444,
              "#26828e"
             ],
             [
              0.5555555555555556,
              "#1f9e89"
             ],
             [
              0.6666666666666666,
              "#35b779"
             ],
             [
              0.7777777777777778,
              "#6ece58"
             ],
             [
              0.8888888888888888,
              "#b5de2b"
             ],
             [
              1,
              "#fde725"
             ]
            ],
            "type": "contour"
           }
          ],
          "contourcarpet": [
           {
            "colorbar": {
             "outlinewidth": 1,
             "tickcolor": "rgb(36,36,36)",
             "ticks": "outside"
            },
            "type": "contourcarpet"
           }
          ],
          "heatmap": [
           {
            "colorbar": {
             "outlinewidth": 1,
             "tickcolor": "rgb(36,36,36)",
             "ticks": "outside"
            },
            "colorscale": [
             [
              0,
              "#440154"
             ],
             [
              0.1111111111111111,
              "#482878"
             ],
             [
              0.2222222222222222,
              "#3e4989"
             ],
             [
              0.3333333333333333,
              "#31688e"
             ],
             [
              0.4444444444444444,
              "#26828e"
             ],
             [
              0.5555555555555556,
              "#1f9e89"
             ],
             [
              0.6666666666666666,
              "#35b779"
             ],
             [
              0.7777777777777778,
              "#6ece58"
             ],
             [
              0.8888888888888888,
              "#b5de2b"
             ],
             [
              1,
              "#fde725"
             ]
            ],
            "type": "heatmap"
           }
          ],
          "heatmapgl": [
           {
            "colorbar": {
             "outlinewidth": 1,
             "tickcolor": "rgb(36,36,36)",
             "ticks": "outside"
            },
            "colorscale": [
             [
              0,
              "#440154"
             ],
             [
              0.1111111111111111,
              "#482878"
             ],
             [
              0.2222222222222222,
              "#3e4989"
             ],
             [
              0.3333333333333333,
              "#31688e"
             ],
             [
              0.4444444444444444,
              "#26828e"
             ],
             [
              0.5555555555555556,
              "#1f9e89"
             ],
             [
              0.6666666666666666,
              "#35b779"
             ],
             [
              0.7777777777777778,
              "#6ece58"
             ],
             [
              0.8888888888888888,
              "#b5de2b"
             ],
             [
              1,
              "#fde725"
             ]
            ],
            "type": "heatmapgl"
           }
          ],
          "histogram": [
           {
            "marker": {
             "line": {
              "color": "white",
              "width": 0.6
             }
            },
            "type": "histogram"
           }
          ],
          "histogram2d": [
           {
            "colorbar": {
             "outlinewidth": 1,
             "tickcolor": "rgb(36,36,36)",
             "ticks": "outside"
            },
            "colorscale": [
             [
              0,
              "#440154"
             ],
             [
              0.1111111111111111,
              "#482878"
             ],
             [
              0.2222222222222222,
              "#3e4989"
             ],
             [
              0.3333333333333333,
              "#31688e"
             ],
             [
              0.4444444444444444,
              "#26828e"
             ],
             [
              0.5555555555555556,
              "#1f9e89"
             ],
             [
              0.6666666666666666,
              "#35b779"
             ],
             [
              0.7777777777777778,
              "#6ece58"
             ],
             [
              0.8888888888888888,
              "#b5de2b"
             ],
             [
              1,
              "#fde725"
             ]
            ],
            "type": "histogram2d"
           }
          ],
          "histogram2dcontour": [
           {
            "colorbar": {
             "outlinewidth": 1,
             "tickcolor": "rgb(36,36,36)",
             "ticks": "outside"
            },
            "colorscale": [
             [
              0,
              "#440154"
             ],
             [
              0.1111111111111111,
              "#482878"
             ],
             [
              0.2222222222222222,
              "#3e4989"
             ],
             [
              0.3333333333333333,
              "#31688e"
             ],
             [
              0.4444444444444444,
              "#26828e"
             ],
             [
              0.5555555555555556,
              "#1f9e89"
             ],
             [
              0.6666666666666666,
              "#35b779"
             ],
             [
              0.7777777777777778,
              "#6ece58"
             ],
             [
              0.8888888888888888,
              "#b5de2b"
             ],
             [
              1,
              "#fde725"
             ]
            ],
            "type": "histogram2dcontour"
           }
          ],
          "mesh3d": [
           {
            "colorbar": {
             "outlinewidth": 1,
             "tickcolor": "rgb(36,36,36)",
             "ticks": "outside"
            },
            "type": "mesh3d"
           }
          ],
          "parcoords": [
           {
            "line": {
             "colorbar": {
              "outlinewidth": 1,
              "tickcolor": "rgb(36,36,36)",
              "ticks": "outside"
             }
            },
            "type": "parcoords"
           }
          ],
          "pie": [
           {
            "automargin": true,
            "type": "pie"
           }
          ],
          "scatter": [
           {
            "marker": {
             "colorbar": {
              "outlinewidth": 1,
              "tickcolor": "rgb(36,36,36)",
              "ticks": "outside"
             }
            },
            "type": "scatter"
           }
          ],
          "scatter3d": [
           {
            "line": {
             "colorbar": {
              "outlinewidth": 1,
              "tickcolor": "rgb(36,36,36)",
              "ticks": "outside"
             }
            },
            "marker": {
             "colorbar": {
              "outlinewidth": 1,
              "tickcolor": "rgb(36,36,36)",
              "ticks": "outside"
             }
            },
            "type": "scatter3d"
           }
          ],
          "scattercarpet": [
           {
            "marker": {
             "colorbar": {
              "outlinewidth": 1,
              "tickcolor": "rgb(36,36,36)",
              "ticks": "outside"
             }
            },
            "type": "scattercarpet"
           }
          ],
          "scattergeo": [
           {
            "marker": {
             "colorbar": {
              "outlinewidth": 1,
              "tickcolor": "rgb(36,36,36)",
              "ticks": "outside"
             }
            },
            "type": "scattergeo"
           }
          ],
          "scattergl": [
           {
            "marker": {
             "colorbar": {
              "outlinewidth": 1,
              "tickcolor": "rgb(36,36,36)",
              "ticks": "outside"
             }
            },
            "type": "scattergl"
           }
          ],
          "scattermapbox": [
           {
            "marker": {
             "colorbar": {
              "outlinewidth": 1,
              "tickcolor": "rgb(36,36,36)",
              "ticks": "outside"
             }
            },
            "type": "scattermapbox"
           }
          ],
          "scatterpolar": [
           {
            "marker": {
             "colorbar": {
              "outlinewidth": 1,
              "tickcolor": "rgb(36,36,36)",
              "ticks": "outside"
             }
            },
            "type": "scatterpolar"
           }
          ],
          "scatterpolargl": [
           {
            "marker": {
             "colorbar": {
              "outlinewidth": 1,
              "tickcolor": "rgb(36,36,36)",
              "ticks": "outside"
             }
            },
            "type": "scatterpolargl"
           }
          ],
          "scatterternary": [
           {
            "marker": {
             "colorbar": {
              "outlinewidth": 1,
              "tickcolor": "rgb(36,36,36)",
              "ticks": "outside"
             }
            },
            "type": "scatterternary"
           }
          ],
          "surface": [
           {
            "colorbar": {
             "outlinewidth": 1,
             "tickcolor": "rgb(36,36,36)",
             "ticks": "outside"
            },
            "colorscale": [
             [
              0,
              "#440154"
             ],
             [
              0.1111111111111111,
              "#482878"
             ],
             [
              0.2222222222222222,
              "#3e4989"
             ],
             [
              0.3333333333333333,
              "#31688e"
             ],
             [
              0.4444444444444444,
              "#26828e"
             ],
             [
              0.5555555555555556,
              "#1f9e89"
             ],
             [
              0.6666666666666666,
              "#35b779"
             ],
             [
              0.7777777777777778,
              "#6ece58"
             ],
             [
              0.8888888888888888,
              "#b5de2b"
             ],
             [
              1,
              "#fde725"
             ]
            ],
            "type": "surface"
           }
          ],
          "table": [
           {
            "cells": {
             "fill": {
              "color": "rgb(237,237,237)"
             },
             "line": {
              "color": "white"
             }
            },
            "header": {
             "fill": {
              "color": "rgb(217,217,217)"
             },
             "line": {
              "color": "white"
             }
            },
            "type": "table"
           }
          ]
         },
         "layout": {
          "annotationdefaults": {
           "arrowhead": 0,
           "arrowwidth": 1
          },
          "coloraxis": {
           "colorbar": {
            "outlinewidth": 1,
            "tickcolor": "rgb(36,36,36)",
            "ticks": "outside"
           }
          },
          "colorscale": {
           "diverging": [
            [
             0,
             "rgb(103,0,31)"
            ],
            [
             0.1,
             "rgb(178,24,43)"
            ],
            [
             0.2,
             "rgb(214,96,77)"
            ],
            [
             0.3,
             "rgb(244,165,130)"
            ],
            [
             0.4,
             "rgb(253,219,199)"
            ],
            [
             0.5,
             "rgb(247,247,247)"
            ],
            [
             0.6,
             "rgb(209,229,240)"
            ],
            [
             0.7,
             "rgb(146,197,222)"
            ],
            [
             0.8,
             "rgb(67,147,195)"
            ],
            [
             0.9,
             "rgb(33,102,172)"
            ],
            [
             1,
             "rgb(5,48,97)"
            ]
           ],
           "sequential": [
            [
             0,
             "#440154"
            ],
            [
             0.1111111111111111,
             "#482878"
            ],
            [
             0.2222222222222222,
             "#3e4989"
            ],
            [
             0.3333333333333333,
             "#31688e"
            ],
            [
             0.4444444444444444,
             "#26828e"
            ],
            [
             0.5555555555555556,
             "#1f9e89"
            ],
            [
             0.6666666666666666,
             "#35b779"
            ],
            [
             0.7777777777777778,
             "#6ece58"
            ],
            [
             0.8888888888888888,
             "#b5de2b"
            ],
            [
             1,
             "#fde725"
            ]
           ],
           "sequentialminus": [
            [
             0,
             "#440154"
            ],
            [
             0.1111111111111111,
             "#482878"
            ],
            [
             0.2222222222222222,
             "#3e4989"
            ],
            [
             0.3333333333333333,
             "#31688e"
            ],
            [
             0.4444444444444444,
             "#26828e"
            ],
            [
             0.5555555555555556,
             "#1f9e89"
            ],
            [
             0.6666666666666666,
             "#35b779"
            ],
            [
             0.7777777777777778,
             "#6ece58"
            ],
            [
             0.8888888888888888,
             "#b5de2b"
            ],
            [
             1,
             "#fde725"
            ]
           ]
          },
          "colorway": [
           "#1F77B4",
           "#FF7F0E",
           "#2CA02C",
           "#D62728",
           "#9467BD",
           "#8C564B",
           "#E377C2",
           "#7F7F7F",
           "#BCBD22",
           "#17BECF"
          ],
          "font": {
           "color": "rgb(36,36,36)"
          },
          "geo": {
           "bgcolor": "white",
           "lakecolor": "white",
           "landcolor": "white",
           "showlakes": true,
           "showland": true,
           "subunitcolor": "white"
          },
          "hoverlabel": {
           "align": "left"
          },
          "hovermode": "closest",
          "mapbox": {
           "style": "light"
          },
          "paper_bgcolor": "white",
          "plot_bgcolor": "white",
          "polar": {
           "angularaxis": {
            "gridcolor": "rgb(232,232,232)",
            "linecolor": "rgb(36,36,36)",
            "showgrid": false,
            "showline": true,
            "ticks": "outside"
           },
           "bgcolor": "white",
           "radialaxis": {
            "gridcolor": "rgb(232,232,232)",
            "linecolor": "rgb(36,36,36)",
            "showgrid": false,
            "showline": true,
            "ticks": "outside"
           }
          },
          "scene": {
           "xaxis": {
            "backgroundcolor": "white",
            "gridcolor": "rgb(232,232,232)",
            "gridwidth": 2,
            "linecolor": "rgb(36,36,36)",
            "showbackground": true,
            "showgrid": false,
            "showline": true,
            "ticks": "outside",
            "zeroline": false,
            "zerolinecolor": "rgb(36,36,36)"
           },
           "yaxis": {
            "backgroundcolor": "white",
            "gridcolor": "rgb(232,232,232)",
            "gridwidth": 2,
            "linecolor": "rgb(36,36,36)",
            "showbackground": true,
            "showgrid": false,
            "showline": true,
            "ticks": "outside",
            "zeroline": false,
            "zerolinecolor": "rgb(36,36,36)"
           },
           "zaxis": {
            "backgroundcolor": "white",
            "gridcolor": "rgb(232,232,232)",
            "gridwidth": 2,
            "linecolor": "rgb(36,36,36)",
            "showbackground": true,
            "showgrid": false,
            "showline": true,
            "ticks": "outside",
            "zeroline": false,
            "zerolinecolor": "rgb(36,36,36)"
           }
          },
          "shapedefaults": {
           "fillcolor": "black",
           "line": {
            "width": 0
           },
           "opacity": 0.3
          },
          "ternary": {
           "aaxis": {
            "gridcolor": "rgb(232,232,232)",
            "linecolor": "rgb(36,36,36)",
            "showgrid": false,
            "showline": true,
            "ticks": "outside"
           },
           "baxis": {
            "gridcolor": "rgb(232,232,232)",
            "linecolor": "rgb(36,36,36)",
            "showgrid": false,
            "showline": true,
            "ticks": "outside"
           },
           "bgcolor": "white",
           "caxis": {
            "gridcolor": "rgb(232,232,232)",
            "linecolor": "rgb(36,36,36)",
            "showgrid": false,
            "showline": true,
            "ticks": "outside"
           }
          },
          "title": {
           "x": 0.05
          },
          "xaxis": {
           "automargin": true,
           "gridcolor": "rgb(232,232,232)",
           "linecolor": "rgb(36,36,36)",
           "showgrid": false,
           "showline": true,
           "ticks": "outside",
           "title": {
            "standoff": 15
           },
           "zeroline": false,
           "zerolinecolor": "rgb(36,36,36)"
          },
          "yaxis": {
           "automargin": true,
           "gridcolor": "rgb(232,232,232)",
           "linecolor": "rgb(36,36,36)",
           "showgrid": false,
           "showline": true,
           "ticks": "outside",
           "title": {
            "standoff": 15
           },
           "zeroline": false,
           "zerolinecolor": "rgb(36,36,36)"
          }
         }
        },
        "title": {
         "text": "InletPressure g-pump-6 for 51, 52, 1, 2 weeks "
        },
        "xaxis": {
         "anchor": "y",
         "domain": [
          0,
          1
         ],
         "title": {
          "text": "week"
         },
         "type": "category"
        },
        "yaxis": {
         "anchor": "x",
         "domain": [
          0,
          1
         ],
         "title": {
          "text": "feature_value"
         }
        }
       }
      },
      "text/html": [
       "<div>\n",
       "        \n",
       "        \n",
       "            <div id=\"226139f0-9a67-461f-93ad-919d88a7b263\" class=\"plotly-graph-div\" style=\"height:525px; width:100%;\"></div>\n",
       "            <script type=\"text/javascript\">\n",
       "                require([\"plotly\"], function(Plotly) {\n",
       "                    window.PLOTLYENV=window.PLOTLYENV || {};\n",
       "                    \n",
       "                if (document.getElementById(\"226139f0-9a67-461f-93ad-919d88a7b263\")) {\n",
       "                    Plotly.newPlot(\n",
       "                        '226139f0-9a67-461f-93ad-919d88a7b263',\n",
       "                        [{\"alignmentgroup\": \"True\", \"hoverlabel\": {\"namelength\": 0}, \"hovertemplate\": \"week=%{x}<br>feature_value=%{y}\", \"legendgroup\": \"\", \"marker\": {\"color\": \"#1F77B4\"}, \"name\": \"\", \"notched\": false, \"offsetgroup\": \"\", \"orientation\": \"v\", \"showlegend\": false, \"type\": \"box\", \"x\": [51, 51, 51, 51, 51, 51, 51, 51, 51, 51, 51, 51, 51, 51, 51, 51, 51, 51, 51, 51, 51, 51, 51, 51, 51, 51, 51, 51, 51, 51, 51, 51, 51, 51, 51, 51, 51, 51, 51, 51, 51, 51, 51, 51, 51, 51, 51, 51, 51, 51, 51, 51, 51, 51, 51, 51, 51, 51, 51, 51, 51, 51, 51, 51, 51, 51, 51, 51, 51, 51, 51, 51, 51, 51, 51, 51, 51, 51, 51, 51, 51, 51, 51, 51, 51, 51, 51, 51, 51, 51, 51, 51, 51, 51, 51, 51, 51, 51, 51, 51, 51, 51, 51, 51, 51, 51, 51, 51, 51, 51, 51, 51, 51, 51, 51, 51, 51, 51, 51, 51, 51, 51, 51, 51, 51, 51, 51, 51, 51, 51, 51, 51, 51, 51, 51, 51, 51, 51, 51, 51, 51, 51, 51, 51, 51, 51, 51, 51, 52, 52, 52, 52, 52, 52, 52, 52, 52, 52, 52, 52, 52, 52, 52, 52, 52, 52, 52, 52, 52, 52, 52, 52, 52, 52, 52, 52, 52, 52, 52, 52, 52, 52, 52, 52, 52, 52, 52, 52, 52, 52, 52, 52, 52, 52, 52, 52, 52, 52, 52, 52, 52, 52, 52, 52, 52, 52, 52, 52, 52, 52, 52, 52, 52, 52, 52, 52, 52, 52, 52, 52, 52, 52, 52, 52, 52, 52, 52, 52, 52, 52, 52, 52, 52, 52, 52, 52, 52, 52, 52, 52, 52, 52, 52, 52, 52, 52, 52, 52, 52, 52, 52, 52, 52, 52, 52, 52, 52, 52, 52, 52, 52, 52, 52, 52, 52, 52, 52, 52, 52, 52, 52, 52, 52, 52, 52, 52, 52, 52, 52, 52, 52, 52, 52, 52, 52, 52, 52, 52, 52, 52, 52, 52, 52, 52, 52, 52, 52, 52, 52, 52, 52, 52, 52, 52, 52, 52, 52, 52, 52, 52, 52, 52, 52, 1, 1, 1, 1, 1, 1, 1, 1, 1, 1, 1, 1, 1, 1, 1, 1, 1, 1, 1, 1, 1, 1, 1, 1, 1, 1, 1, 1, 1, 1, 1, 1, 1, 1, 1, 1, 1, 1, 1, 1, 1, 1, 1, 1, 1, 1, 1, 1, 1, 1, 1, 1, 1, 1, 1, 1, 1, 1, 1, 1, 1, 1, 1, 1, 1, 1, 1, 1, 1, 1, 1, 1, 1, 1, 1, 1, 1, 1, 1, 1, 1, 1, 1, 1, 1, 1, 1, 1, 1, 1, 1, 1, 1, 1, 1, 1, 1, 1, 1, 1, 1, 1, 1, 1, 1, 1, 1, 1, 1, 1, 1, 1, 1, 1, 1, 1, 1, 1, 1, 1, 1, 1, 1, 1, 1, 1, 1, 1, 1, 1, 1, 1, 1, 1, 1, 1, 1, 1, 1, 1, 1, 1, 1, 1, 1, 1, 1, 1, 1, 1, 1, 1, 1, 1, 1, 1, 1, 1, 1, 1, 1, 1, 1, 1, 1, 1, 1, 1, 2, 2, 2, 2, 2, 2, 2, 2, 2, 2, 2, 2, 2, 2, 2, 2, 2], \"x0\": \" \", \"xaxis\": \"x\", \"y\": [2.953105921855922, 2.9261421448921454, 2.9557132682132683, 2.927986365486365, 2.9398148148148144, 2.9567307692307687, 2.93122964997965, 2.883788665038665, 2.875076312576312, 2.8561253561253577, 2.942485754985755, 2.9363171550671563, 2.933391839641839, 2.900132275132274, 2.8884946072446085, 2.8857600732600712, 2.8298611111111107, 2.92124542124542, 2.8388278388278394, 2.815806878306877, 2.893645706145705, 2.902866809116808, 2.8887489824989827, 2.8553622303622297, 2.874885531135531, 2.8626119251119246, 2.8687805250305263, 2.860958485958488, 2.806776556776556, 2.8387006512006505, 2.8360933048433044, 2.8617216117216113, 2.8695436507936507, 2.842961436711437, 2.865473646723648, 2.8514830077330076, 2.8567612942612945, 2.8513558201058196, 2.8646469271469264, 2.816252035002035, 2.907699938949938, 2.804868742368743, 2.8650920838420824, 2.8626755189255175, 2.8932005494505475, 2.8169515669515675, 2.9952686202686194, 2.880354599104599, 3.0235042735042725, 2.9358084045584047, 2.954504985754985, 2.926269332519331, 2.962835775335775, 2.9183201058201043, 2.9653795278795285, 2.954314204314203, 2.963026556776558, 2.973074379324378, 2.9753637566137545, 2.965188746438745, 2.9744098494098483, 2.895426332926333, 2.918701668701669, 2.9649343711843703, 2.9832493894993894, 3.000992063492062, 2.934472934472933, 2.9538690476190492, 2.952469983719984, 2.9692587505087507, 3.024648962148962, 3.0063975376475374, 2.8774928774928785, 2.8121820309320307, 2.8813721001220984, 2.8561889499389506, 2.8761574074074097, 2.8563161375661372, 2.910180097680097, 2.85402676027676, 2.8734228734228733, 2.974409849409851, 2.8314509564509556, 2.873613654863655, 2.8939000814000813, 2.8980972730972714, 2.838955026455025, 2.8964438339438345, 2.899369149369148, 2.8732956857956853, 2.9103072853072853, 2.86636396011396, 2.881690069190069, 2.8735500610500595, 2.8192409442409434, 2.9486543549043542, 2.9754909442409443, 2.8608312983312985, 2.8690349002849, 2.8574608262108274, 2.9225172975172975, 2.874631155881156, 2.856952075702077, 2.8893213268213267, 2.88372507122507, 2.8607041107041087, 2.863057081807083, 2.890974765974765, 2.904711029711031, 2.853072853072854, 2.885632885632886, 2.8240740740740744, 2.896761803011804, 2.831005799755802, 2.86172161172161, 2.8491300366300365, 2.8361568986568977, 2.9386701261701265, 2.8522461334961307, 2.8813085063085055, 2.8462047212047223, 2.9599104599104575, 2.837428774928776, 2.8308786121286134, 2.881944444444444, 2.8961258648758648, 2.8401633089133083, 2.843851750101752, 2.8476673789173788, 2.8383190883190887, 2.842198310948312, 2.896316646316645, 2.865918803418803, 2.861085673585673, 2.8439789377289375, 2.873232091982091, 2.844360500610501, 2.8427706552706553, 2.874821937321936, 2.9222629222629215, 2.9240435490435495, 2.8734228734228715, 2.9615003052503055, 2.8990511803011785, 2.867190679690681, 2.891992266992266, 2.867190679690678, 2.875712250712251, 2.8954899267399257, 2.913614163614165, 2.826363451363452, 2.8732956857956844, 2.8999414936914945, 2.860767704517704, 2.827762515262515, 2.9066824379324374, 2.8735500610500595, 2.9022944647944637, 2.970530626780627, 2.9211182336182335, 2.9399420024420024, 2.9253790191290165, 2.8885582010581996, 2.9146952584452595, 2.890911172161171, 2.8930097680097675, 2.8873499185999187, 2.8794006919006923, 2.8381919006919003, 2.897779304029303, 2.853899572649574, 2.8507834757834747, 2.800671550671551, 2.898478835978835, 2.878383190883191, 2.886777574277573, 2.775234025234024, 2.8794642857142847, 2.910816035816035, 2.9011497761497753, 2.8400997150997145, 2.8240104802604797, 2.8793370980870985, 2.8526276963776955, 2.821530321530322, 2.8765389702889714, 2.8924374236874244, 2.8514830077330084, 2.872468966218966, 2.8802910052910047, 2.923789173789173, 2.9522792022792026, 2.895426332926333, 2.8900844525844516, 2.870624745624745, 2.886396011396012, 2.820131257631257, 2.887858669108669, 2.9276048026048023, 2.867826617826619, 2.8488756613756614, 2.8699252136752134, 2.878319597069597, 2.847222222222222, 2.8643925518925513, 2.8497659747659747, 2.9294490231990213, 2.9318019943019937, 2.9104344729344738, 2.891419922669923, 2.8512286324786342, 2.92576058201058, 2.8774928774928763, 2.8486848799348805, 2.887095543345543, 2.919846357346357, 2.8907839845339853, 2.9067460317460316, 2.8989239926739923, 2.935426841676842, 2.935236060236058, 2.872532560032561, 2.8657916157916152, 2.926905270655269, 2.9116427553927555, 2.8538995726495724, 2.865855209605209, 2.859940984940985, 2.9233440170940157, 2.921054639804639, 2.867763024013025, 2.911579161579161, 2.9129782254782257, 2.823883292633292, 2.9064280626780623, 2.889321326821325, 2.8521189458689467, 2.91456807081807, 2.910498066748067, 2.841371591371592, 2.9134233821733826, 2.892501017501018, 2.875712250712251, 2.9036299348799357, 2.93154761904762, 2.8890033577533587, 2.9163486975986976, 2.9129146316646306, 2.8567612942612928, 2.9445843508343508, 2.8845517908017904, 2.8566341066341057, 2.885632885632886, 2.9085266585266596, 2.9239799552299535, 2.8812449124949127, 2.82451923076923, 2.8715786528286533, 2.9422949735449744, 2.9385429385429376, 2.83965455840456, 2.9792429792429798, 2.895744301994302, 2.843088624338625, 2.850974257224257, 2.8027701465201447, 2.906046499796499, 2.872468966218966, 2.9139321326821315, 2.8371743996744008, 2.867763024013023, 2.86521927146927, 2.7939942002442, 2.8734228734228733, 2.802261396011397, 2.8454415954415944, 2.833803927553928, 2.967859686609687, 2.863502238502239, 2.835139397639398, 2.916221509971509, 2.9145044770044746, 2.825600325600325, 2.8841066341066344, 2.832532051282051, 2.9608643671143677, 2.9404507529507526, 2.8070945258445246, 2.865791615791616, 2.8361568986568977, 2.8813721001220998, 2.868844118844119, 2.920355107855109, 2.902358058608059, 2.8563161375661377, 2.8900844525844533, 2.896825396825397, 2.8669363044363045, 2.895235551485552, 2.863883801383802, 2.857270044770045, 2.8892577330077334, 2.814916564916564, 2.9052197802197797, 2.847985347985349, 2.8690984940984943, 2.865600834350834, 2.8832163207163206, 2.872532560032561, 2.8722145909645924, 2.8982244607244607, 2.8782560032560034, 2.841117216117215, 2.8712606837606836, 2.928240740740742, 2.9263965201465214, 2.9250610500610486, 2.8881130443630454, 2.7551383801383817, 2.8383190883190874, 2.918574481074483, 2.82750814000814, 2.8483669108669107, 2.887604293854293, 2.9315476190476186, 2.838001119251118, 2.9649343711843703, 3.020769739519738, 2.9915801790801795, 2.867826617826617, 2.910879629629628, 2.943376068376068, 2.850592694342693, 2.8966982091982083, 2.8763481888481874, 2.8654736467236472, 2.7621336996337003, 2.9342821530321523, 2.87971866096866, 2.912660256410256, 2.9185744810744816, 2.840544871794872, 2.8437245624745624, 2.8431522181522166, 2.940005596255595, 2.800989519739519, 2.830369861619861, 2.8596230158730163, 2.902167277167276, 2.9461106023606014, 2.941404660154659, 2.939687627187627, 2.9403871591371598, 2.864265364265364, 2.971738909238909, 2.960673585673586, 2.955204517704518, 2.971357346357346, 2.9860475172975183, 2.9194647944647927, 2.934854497354497, 2.958320614570615, 2.8861416361416357, 2.9616274928774913, 2.9338369963369964, 2.901531339031339, 2.89771571021571, 2.9304665242165253, 2.880545380545381, 2.8896392958892965, 2.862802706552707, 2.977080789580788, 2.9398148148148144, 2.879146316646317, 2.8739316239316235, 2.936571530321531, 2.87469474969475, 2.892946174196174, 2.895617114367115, 2.897842897842897, 2.8790191290191296, 2.901785714285714, 2.890402421652423, 2.874058811558813, 2.9101800976800978, 2.869162087912089, 2.917874949124949, 2.9583842083842082, 2.875648656898657, 2.925124643874643, 2.9492902930402933, 2.9778439153439162, 2.8869683557183543, 2.8847425722425712, 2.9763176638176634, 2.9311660561660555, 2.966333435083435, 2.9278591778591774, 2.8848697598697597, 2.9970492470492474, 2.965061558811558, 2.881117724867724, 2.876602564102564, 2.913486975986976, 2.86833536833537, 2.885887260887261, 2.936889499389498, 2.8901480463980476, 2.886777574277574, 2.8573972323972328, 2.899814306064307, 2.8898300773300782, 2.909289784289783, 2.9097985347985342, 2.923534798534799, 2.929003866503867, 2.9461106023606027, 2.9110068172568186, 2.923916361416362, 2.978034696784697, 2.950625763125762, 2.922135734635733, 2.891547110297109, 2.806585775335775, 2.8933913308913315, 2.881435693935693, 2.8653464590964592, 2.9148224460724457, 2.95774827024827, 2.890466015466018, 2.932437932437932, 2.945856227106228, 2.8785739723239736, 2.879527879527878, 2.8540267602767613, 2.9367623117623105, 2.887795075295075, 2.9242343304843312, 2.9146952584452577, 2.977144383394382, 2.862993487993487, 2.9486543549043542, 2.9227080789580775, 2.855362230362229, 2.96709656084656, 2.914059320309319, 2.8835342897842895, 2.9781618844118847, 2.8753306878306883, 2.950498575498575, 2.862866300366303, 2.8923102360602364, 2.9640440577940566, 2.94191341066341, 2.9046474358974357, 2.8771749084249083, 2.877174908424907, 2.9391788766788776, 2.9646164021164014, 2.8860780423280445, 2.98159595034595, 2.9270324582824574, 2.8704975579975582, 2.940641534391535, 2.9479548229548236, 2.8997507122507127, 2.946682946682946, 2.874821937321937, 2.9485907610907596, 2.88302553927554, 2.9318019943019937, 2.9019764957264957, 2.889130545380546, 2.9586385836385847, 2.9205458892958895, 2.916984635734636, 2.896189458689458, 2.972374847374848, 2.941722629222627, 2.9583842083842096, 2.9005774318274327, 2.906873219373221, 2.9715481277981297, 2.9386701261701274, 2.908844627594627, 2.889003357753358, 2.9080815018315023, 2.9985754985754993, 2.9683048433048422, 2.9080815018315014, 2.8837886650386637, 2.9571123321123327, 2.918765262515263, 2.9444571632071628, 2.8679538054538045, 2.9201007326007336, 2.9527879527879524, 2.796347171347172], \"y0\": \" \", \"yaxis\": \"y\"}],\n",
       "                        {\"boxmode\": \"group\", \"legend\": {\"tracegroupgap\": 0}, \"template\": {\"data\": {\"bar\": [{\"error_x\": {\"color\": \"rgb(36,36,36)\"}, \"error_y\": {\"color\": \"rgb(36,36,36)\"}, \"marker\": {\"line\": {\"color\": \"white\", \"width\": 0.5}}, \"type\": \"bar\"}], \"barpolar\": [{\"marker\": {\"line\": {\"color\": \"white\", \"width\": 0.5}}, \"type\": \"barpolar\"}], \"carpet\": [{\"aaxis\": {\"endlinecolor\": \"rgb(36,36,36)\", \"gridcolor\": \"white\", \"linecolor\": \"white\", \"minorgridcolor\": \"white\", \"startlinecolor\": \"rgb(36,36,36)\"}, \"baxis\": {\"endlinecolor\": \"rgb(36,36,36)\", \"gridcolor\": \"white\", \"linecolor\": \"white\", \"minorgridcolor\": \"white\", \"startlinecolor\": \"rgb(36,36,36)\"}, \"type\": \"carpet\"}], \"choropleth\": [{\"colorbar\": {\"outlinewidth\": 1, \"tickcolor\": \"rgb(36,36,36)\", \"ticks\": \"outside\"}, \"type\": \"choropleth\"}], \"contour\": [{\"colorbar\": {\"outlinewidth\": 1, \"tickcolor\": \"rgb(36,36,36)\", \"ticks\": \"outside\"}, \"colorscale\": [[0.0, \"#440154\"], [0.1111111111111111, \"#482878\"], [0.2222222222222222, \"#3e4989\"], [0.3333333333333333, \"#31688e\"], [0.4444444444444444, \"#26828e\"], [0.5555555555555556, \"#1f9e89\"], [0.6666666666666666, \"#35b779\"], [0.7777777777777778, \"#6ece58\"], [0.8888888888888888, \"#b5de2b\"], [1.0, \"#fde725\"]], \"type\": \"contour\"}], \"contourcarpet\": [{\"colorbar\": {\"outlinewidth\": 1, \"tickcolor\": \"rgb(36,36,36)\", \"ticks\": \"outside\"}, \"type\": \"contourcarpet\"}], \"heatmap\": [{\"colorbar\": {\"outlinewidth\": 1, \"tickcolor\": \"rgb(36,36,36)\", \"ticks\": \"outside\"}, \"colorscale\": [[0.0, \"#440154\"], [0.1111111111111111, \"#482878\"], [0.2222222222222222, \"#3e4989\"], [0.3333333333333333, \"#31688e\"], [0.4444444444444444, \"#26828e\"], [0.5555555555555556, \"#1f9e89\"], [0.6666666666666666, \"#35b779\"], [0.7777777777777778, \"#6ece58\"], [0.8888888888888888, \"#b5de2b\"], [1.0, \"#fde725\"]], \"type\": \"heatmap\"}], \"heatmapgl\": [{\"colorbar\": {\"outlinewidth\": 1, \"tickcolor\": \"rgb(36,36,36)\", \"ticks\": \"outside\"}, \"colorscale\": [[0.0, \"#440154\"], [0.1111111111111111, \"#482878\"], [0.2222222222222222, \"#3e4989\"], [0.3333333333333333, \"#31688e\"], [0.4444444444444444, \"#26828e\"], [0.5555555555555556, \"#1f9e89\"], [0.6666666666666666, \"#35b779\"], [0.7777777777777778, \"#6ece58\"], [0.8888888888888888, \"#b5de2b\"], [1.0, \"#fde725\"]], \"type\": \"heatmapgl\"}], \"histogram\": [{\"marker\": {\"line\": {\"color\": \"white\", \"width\": 0.6}}, \"type\": \"histogram\"}], \"histogram2d\": [{\"colorbar\": {\"outlinewidth\": 1, \"tickcolor\": \"rgb(36,36,36)\", \"ticks\": \"outside\"}, \"colorscale\": [[0.0, \"#440154\"], [0.1111111111111111, \"#482878\"], [0.2222222222222222, \"#3e4989\"], [0.3333333333333333, \"#31688e\"], [0.4444444444444444, \"#26828e\"], [0.5555555555555556, \"#1f9e89\"], [0.6666666666666666, \"#35b779\"], [0.7777777777777778, \"#6ece58\"], [0.8888888888888888, \"#b5de2b\"], [1.0, \"#fde725\"]], \"type\": \"histogram2d\"}], \"histogram2dcontour\": [{\"colorbar\": {\"outlinewidth\": 1, \"tickcolor\": \"rgb(36,36,36)\", \"ticks\": \"outside\"}, \"colorscale\": [[0.0, \"#440154\"], [0.1111111111111111, \"#482878\"], [0.2222222222222222, \"#3e4989\"], [0.3333333333333333, \"#31688e\"], [0.4444444444444444, \"#26828e\"], [0.5555555555555556, \"#1f9e89\"], [0.6666666666666666, \"#35b779\"], [0.7777777777777778, \"#6ece58\"], [0.8888888888888888, \"#b5de2b\"], [1.0, \"#fde725\"]], \"type\": \"histogram2dcontour\"}], \"mesh3d\": [{\"colorbar\": {\"outlinewidth\": 1, \"tickcolor\": \"rgb(36,36,36)\", \"ticks\": \"outside\"}, \"type\": \"mesh3d\"}], \"parcoords\": [{\"line\": {\"colorbar\": {\"outlinewidth\": 1, \"tickcolor\": \"rgb(36,36,36)\", \"ticks\": \"outside\"}}, \"type\": \"parcoords\"}], \"pie\": [{\"automargin\": true, \"type\": \"pie\"}], \"scatter\": [{\"marker\": {\"colorbar\": {\"outlinewidth\": 1, \"tickcolor\": \"rgb(36,36,36)\", \"ticks\": \"outside\"}}, \"type\": \"scatter\"}], \"scatter3d\": [{\"line\": {\"colorbar\": {\"outlinewidth\": 1, \"tickcolor\": \"rgb(36,36,36)\", \"ticks\": \"outside\"}}, \"marker\": {\"colorbar\": {\"outlinewidth\": 1, \"tickcolor\": \"rgb(36,36,36)\", \"ticks\": \"outside\"}}, \"type\": \"scatter3d\"}], \"scattercarpet\": [{\"marker\": {\"colorbar\": {\"outlinewidth\": 1, \"tickcolor\": \"rgb(36,36,36)\", \"ticks\": \"outside\"}}, \"type\": \"scattercarpet\"}], \"scattergeo\": [{\"marker\": {\"colorbar\": {\"outlinewidth\": 1, \"tickcolor\": \"rgb(36,36,36)\", \"ticks\": \"outside\"}}, \"type\": \"scattergeo\"}], \"scattergl\": [{\"marker\": {\"colorbar\": {\"outlinewidth\": 1, \"tickcolor\": \"rgb(36,36,36)\", \"ticks\": \"outside\"}}, \"type\": \"scattergl\"}], \"scattermapbox\": [{\"marker\": {\"colorbar\": {\"outlinewidth\": 1, \"tickcolor\": \"rgb(36,36,36)\", \"ticks\": \"outside\"}}, \"type\": \"scattermapbox\"}], \"scatterpolar\": [{\"marker\": {\"colorbar\": {\"outlinewidth\": 1, \"tickcolor\": \"rgb(36,36,36)\", \"ticks\": \"outside\"}}, \"type\": \"scatterpolar\"}], \"scatterpolargl\": [{\"marker\": {\"colorbar\": {\"outlinewidth\": 1, \"tickcolor\": \"rgb(36,36,36)\", \"ticks\": \"outside\"}}, \"type\": \"scatterpolargl\"}], \"scatterternary\": [{\"marker\": {\"colorbar\": {\"outlinewidth\": 1, \"tickcolor\": \"rgb(36,36,36)\", \"ticks\": \"outside\"}}, \"type\": \"scatterternary\"}], \"surface\": [{\"colorbar\": {\"outlinewidth\": 1, \"tickcolor\": \"rgb(36,36,36)\", \"ticks\": \"outside\"}, \"colorscale\": [[0.0, \"#440154\"], [0.1111111111111111, \"#482878\"], [0.2222222222222222, \"#3e4989\"], [0.3333333333333333, \"#31688e\"], [0.4444444444444444, \"#26828e\"], [0.5555555555555556, \"#1f9e89\"], [0.6666666666666666, \"#35b779\"], [0.7777777777777778, \"#6ece58\"], [0.8888888888888888, \"#b5de2b\"], [1.0, \"#fde725\"]], \"type\": \"surface\"}], \"table\": [{\"cells\": {\"fill\": {\"color\": \"rgb(237,237,237)\"}, \"line\": {\"color\": \"white\"}}, \"header\": {\"fill\": {\"color\": \"rgb(217,217,217)\"}, \"line\": {\"color\": \"white\"}}, \"type\": \"table\"}]}, \"layout\": {\"annotationdefaults\": {\"arrowhead\": 0, \"arrowwidth\": 1}, \"coloraxis\": {\"colorbar\": {\"outlinewidth\": 1, \"tickcolor\": \"rgb(36,36,36)\", \"ticks\": \"outside\"}}, \"colorscale\": {\"diverging\": [[0.0, \"rgb(103,0,31)\"], [0.1, \"rgb(178,24,43)\"], [0.2, \"rgb(214,96,77)\"], [0.3, \"rgb(244,165,130)\"], [0.4, \"rgb(253,219,199)\"], [0.5, \"rgb(247,247,247)\"], [0.6, \"rgb(209,229,240)\"], [0.7, \"rgb(146,197,222)\"], [0.8, \"rgb(67,147,195)\"], [0.9, \"rgb(33,102,172)\"], [1.0, \"rgb(5,48,97)\"]], \"sequential\": [[0.0, \"#440154\"], [0.1111111111111111, \"#482878\"], [0.2222222222222222, \"#3e4989\"], [0.3333333333333333, \"#31688e\"], [0.4444444444444444, \"#26828e\"], [0.5555555555555556, \"#1f9e89\"], [0.6666666666666666, \"#35b779\"], [0.7777777777777778, \"#6ece58\"], [0.8888888888888888, \"#b5de2b\"], [1.0, \"#fde725\"]], \"sequentialminus\": [[0.0, \"#440154\"], [0.1111111111111111, \"#482878\"], [0.2222222222222222, \"#3e4989\"], [0.3333333333333333, \"#31688e\"], [0.4444444444444444, \"#26828e\"], [0.5555555555555556, \"#1f9e89\"], [0.6666666666666666, \"#35b779\"], [0.7777777777777778, \"#6ece58\"], [0.8888888888888888, \"#b5de2b\"], [1.0, \"#fde725\"]]}, \"colorway\": [\"#1F77B4\", \"#FF7F0E\", \"#2CA02C\", \"#D62728\", \"#9467BD\", \"#8C564B\", \"#E377C2\", \"#7F7F7F\", \"#BCBD22\", \"#17BECF\"], \"font\": {\"color\": \"rgb(36,36,36)\"}, \"geo\": {\"bgcolor\": \"white\", \"lakecolor\": \"white\", \"landcolor\": \"white\", \"showlakes\": true, \"showland\": true, \"subunitcolor\": \"white\"}, \"hoverlabel\": {\"align\": \"left\"}, \"hovermode\": \"closest\", \"mapbox\": {\"style\": \"light\"}, \"paper_bgcolor\": \"white\", \"plot_bgcolor\": \"white\", \"polar\": {\"angularaxis\": {\"gridcolor\": \"rgb(232,232,232)\", \"linecolor\": \"rgb(36,36,36)\", \"showgrid\": false, \"showline\": true, \"ticks\": \"outside\"}, \"bgcolor\": \"white\", \"radialaxis\": {\"gridcolor\": \"rgb(232,232,232)\", \"linecolor\": \"rgb(36,36,36)\", \"showgrid\": false, \"showline\": true, \"ticks\": \"outside\"}}, \"scene\": {\"xaxis\": {\"backgroundcolor\": \"white\", \"gridcolor\": \"rgb(232,232,232)\", \"gridwidth\": 2, \"linecolor\": \"rgb(36,36,36)\", \"showbackground\": true, \"showgrid\": false, \"showline\": true, \"ticks\": \"outside\", \"zeroline\": false, \"zerolinecolor\": \"rgb(36,36,36)\"}, \"yaxis\": {\"backgroundcolor\": \"white\", \"gridcolor\": \"rgb(232,232,232)\", \"gridwidth\": 2, \"linecolor\": \"rgb(36,36,36)\", \"showbackground\": true, \"showgrid\": false, \"showline\": true, \"ticks\": \"outside\", \"zeroline\": false, \"zerolinecolor\": \"rgb(36,36,36)\"}, \"zaxis\": {\"backgroundcolor\": \"white\", \"gridcolor\": \"rgb(232,232,232)\", \"gridwidth\": 2, \"linecolor\": \"rgb(36,36,36)\", \"showbackground\": true, \"showgrid\": false, \"showline\": true, \"ticks\": \"outside\", \"zeroline\": false, \"zerolinecolor\": \"rgb(36,36,36)\"}}, \"shapedefaults\": {\"fillcolor\": \"black\", \"line\": {\"width\": 0}, \"opacity\": 0.3}, \"ternary\": {\"aaxis\": {\"gridcolor\": \"rgb(232,232,232)\", \"linecolor\": \"rgb(36,36,36)\", \"showgrid\": false, \"showline\": true, \"ticks\": \"outside\"}, \"baxis\": {\"gridcolor\": \"rgb(232,232,232)\", \"linecolor\": \"rgb(36,36,36)\", \"showgrid\": false, \"showline\": true, \"ticks\": \"outside\"}, \"bgcolor\": \"white\", \"caxis\": {\"gridcolor\": \"rgb(232,232,232)\", \"linecolor\": \"rgb(36,36,36)\", \"showgrid\": false, \"showline\": true, \"ticks\": \"outside\"}}, \"title\": {\"x\": 0.05}, \"xaxis\": {\"automargin\": true, \"gridcolor\": \"rgb(232,232,232)\", \"linecolor\": \"rgb(36,36,36)\", \"showgrid\": false, \"showline\": true, \"ticks\": \"outside\", \"title\": {\"standoff\": 15}, \"zeroline\": false, \"zerolinecolor\": \"rgb(36,36,36)\"}, \"yaxis\": {\"automargin\": true, \"gridcolor\": \"rgb(232,232,232)\", \"linecolor\": \"rgb(36,36,36)\", \"showgrid\": false, \"showline\": true, \"ticks\": \"outside\", \"title\": {\"standoff\": 15}, \"zeroline\": false, \"zerolinecolor\": \"rgb(36,36,36)\"}}}, \"title\": {\"text\": \"InletPressure g-pump-6 for 51, 52, 1, 2 weeks \"}, \"xaxis\": {\"anchor\": \"y\", \"domain\": [0.0, 1.0], \"title\": {\"text\": \"week\"}, \"type\": \"category\"}, \"yaxis\": {\"anchor\": \"x\", \"domain\": [0.0, 1.0], \"title\": {\"text\": \"feature_value\"}}},\n",
       "                        {\"responsive\": true}\n",
       "                    ).then(function(){\n",
       "                            \n",
       "var gd = document.getElementById('226139f0-9a67-461f-93ad-919d88a7b263');\n",
       "var x = new MutationObserver(function (mutations, observer) {{\n",
       "        var display = window.getComputedStyle(gd).display;\n",
       "        if (!display || display === 'none') {{\n",
       "            console.log([gd, 'removed!']);\n",
       "            Plotly.purge(gd);\n",
       "            observer.disconnect();\n",
       "        }}\n",
       "}});\n",
       "\n",
       "// Listen for the removal of the full notebook cells\n",
       "var notebookContainer = gd.closest('#notebook-container');\n",
       "if (notebookContainer) {{\n",
       "    x.observe(notebookContainer, {childList: true});\n",
       "}}\n",
       "\n",
       "// Listen for the clearing of the current output cell\n",
       "var outputEl = gd.closest('.output');\n",
       "if (outputEl) {{\n",
       "    x.observe(outputEl, {childList: true});\n",
       "}}\n",
       "\n",
       "                        })\n",
       "                };\n",
       "                });\n",
       "            </script>\n",
       "        </div>"
      ]
     },
     "metadata": {},
     "output_type": "display_data"
    }
   ],
   "source": [
    "%%skip $skip_baseline_save\n",
    "week_numbers = week_numbers_inletPressure # Week numbers as List \n",
    "\n",
    "mu_inletpressure, sigma_inletpressure = get_baselining_variables_azure(df_data, variable_name = INLET_PRESSURE,\n",
    "                                                                       asset_id = asset_id,\n",
    "                                                                       lst_filter_values = week_numbers, \n",
    "                                                                       filter_column_name = \"week\",\n",
    "                                                                       select_column_name= 'feature_value',\n",
    "                                                                       filter_metric = \"AvgValue\")\n",
    "print(mu_inletpressure, sigma_inletpressure)\n",
    "\n",
    "show_baselining_plot_azure(df_data, duration = week_numbers, asset_name= asset_name, variable_name= INLET_PRESSURE,\n",
    "                           plot_type = \"box\")"
   ]
  },
  {
   "cell_type": "markdown",
   "metadata": {},
   "source": [
    "## Outlet Pressure"
   ]
  },
  {
   "cell_type": "code",
   "execution_count": 19,
   "metadata": {},
   "outputs": [
    {
     "name": "stdout",
     "output_type": "stream",
     "text": [
      "57.22511189111529 0.36401145317182976\n"
     ]
    },
    {
     "data": {
      "application/vnd.plotly.v1+json": {
       "config": {
        "plotlyServerURL": "https://plot.ly"
       },
       "data": [
        {
         "alignmentgroup": "True",
         "hoverlabel": {
          "namelength": 0
         },
         "hovertemplate": "week=%{x}<br>feature_value=%{y}",
         "legendgroup": "",
         "marker": {
          "color": "#1F77B4"
         },
         "name": "",
         "notched": false,
         "offsetgroup": "",
         "orientation": "v",
         "showlegend": false,
         "type": "box",
         "x": [
          48,
          48,
          48,
          48,
          48,
          48,
          48,
          48,
          48,
          48,
          48,
          48,
          48,
          48,
          48,
          48,
          48,
          48,
          48,
          48,
          48,
          48,
          48,
          48,
          48,
          48,
          48,
          48,
          48,
          48,
          48,
          48,
          48,
          48,
          48,
          48,
          48,
          48,
          48,
          48,
          48,
          48,
          48,
          48,
          48,
          48,
          48,
          48,
          48,
          48,
          48,
          48,
          48,
          48,
          48,
          48,
          48,
          48,
          48,
          48,
          48,
          48,
          48,
          48,
          48,
          48,
          48,
          48,
          48,
          48,
          48,
          48,
          48,
          48,
          48,
          48,
          48,
          48,
          48,
          48,
          48,
          48,
          48,
          48,
          48,
          48,
          48,
          48,
          48,
          48,
          48,
          48,
          48,
          48,
          48,
          48,
          48,
          48,
          48,
          48,
          48,
          48,
          48,
          48,
          48,
          48,
          48,
          48,
          48,
          48,
          48,
          48,
          48,
          48,
          48,
          48,
          48,
          48,
          48,
          48,
          48,
          48,
          48,
          48,
          48,
          48,
          48,
          48,
          48,
          48,
          48,
          48,
          48,
          48,
          48,
          48,
          48,
          48,
          48,
          48,
          48,
          48,
          48,
          48,
          48,
          48,
          48,
          48,
          48,
          48,
          48,
          48,
          48,
          48,
          48,
          48,
          48,
          48,
          48,
          48,
          48,
          48,
          48,
          48,
          48,
          48,
          49,
          49,
          49,
          49,
          49,
          49,
          49,
          49,
          49,
          49,
          49,
          49,
          49,
          49,
          49,
          49,
          49,
          49,
          49,
          49,
          49,
          49,
          49,
          49,
          49,
          49,
          49,
          49,
          50,
          50,
          50,
          50,
          50,
          50,
          50,
          50,
          50,
          50,
          50,
          50,
          50,
          50,
          50,
          50,
          50,
          50,
          50,
          50,
          50,
          50,
          50,
          50,
          50,
          50,
          50,
          50,
          50,
          50,
          50,
          50,
          50,
          50,
          50,
          50,
          50,
          50,
          50,
          50,
          50,
          50,
          50,
          50,
          50,
          50,
          50,
          50,
          50,
          50,
          50,
          50,
          50,
          50,
          50,
          50,
          50,
          50,
          50,
          50,
          50,
          50,
          52,
          52,
          52,
          52,
          52,
          52,
          52,
          52,
          52,
          52,
          52,
          52,
          52,
          52,
          52,
          52,
          52,
          52,
          52,
          52,
          52,
          52,
          52,
          52,
          52,
          52,
          52,
          52,
          52,
          52,
          52,
          52,
          52,
          52,
          52,
          52,
          52,
          52,
          52,
          52,
          52,
          52,
          52,
          52,
          52,
          52,
          52,
          52,
          52,
          52,
          52,
          52,
          52,
          52,
          52,
          52,
          52,
          52,
          52,
          52,
          52,
          52,
          52,
          52,
          52,
          52,
          52,
          52,
          52,
          52,
          52,
          52,
          52,
          52,
          52,
          52,
          52,
          52,
          52,
          52,
          52,
          52,
          52,
          52,
          52,
          52,
          52,
          52,
          52,
          52,
          52,
          52,
          52,
          52,
          52,
          52,
          52,
          52,
          52,
          52,
          52,
          52,
          52,
          52,
          52,
          52,
          52,
          52,
          52,
          52,
          52,
          52,
          52,
          52,
          52,
          52,
          52,
          52,
          52,
          52,
          52,
          52,
          52,
          52,
          52,
          52,
          52,
          52,
          52,
          52,
          52,
          52,
          52,
          52,
          52,
          52,
          52,
          52,
          52,
          52,
          52,
          52,
          52,
          52,
          52,
          52,
          52,
          52,
          52,
          52,
          52,
          52,
          52,
          52,
          52,
          52,
          52,
          52,
          52,
          52,
          52,
          52,
          52,
          52,
          52,
          52,
          52,
          52
         ],
         "x0": " ",
         "xaxis": "x",
         "y": [
          56.81662087912088,
          56.94635225885228,
          56.70596764346765,
          56.875127187627214,
          57.32473544973546,
          57.697395197395196,
          56.88593813593814,
          56.952711640211646,
          57.268772893772905,
          56.84905372405374,
          56.97115384615384,
          56.93872100122101,
          57.084350834350836,
          57.310108872608886,
          57.16638685388685,
          57.13649776149776,
          57.51996845746846,
          57.65669515669516,
          57.94159544159546,
          56.99468355718357,
          57.7641687016687,
          57.67195767195767,
          57.17401811151814,
          57.763532763532744,
          57.31392450142451,
          56.81089743589744,
          58.045253357753346,
          57.76671245421246,
          57.90725478225479,
          58.048433048433054,
          57.00740231990233,
          57.55430911680912,
          57.018849206349195,
          57.16956654456656,
          57.57147944647946,
          57.507249694749675,
          57.31456043956044,
          57.54477004477005,
          57.57147944647946,
          57.119327431827436,
          57.53841066341065,
          57.90598290598291,
          57.891356328856325,
          57.70311864061864,
          57.70375457875458,
          57.64334045584047,
          57.167658730158735,
          56.89865689865692,
          57.19564000814003,
          57.59946072446072,
          57.71520146520148,
          57.635073260073256,
          57.70820614570616,
          57.65478734228734,
          57.68213268213268,
          57.41440272690273,
          57.34953703703703,
          57.4474715099715,
          57.67704517704519,
          57.259869759869765,
          57.07989926739928,
          56.78863960113961,
          57.18101343101344,
          57.382605820105816,
          57.273224460724464,
          57.482448107448114,
          57.54985754985757,
          56.929817867317894,
          57.08816646316646,
          57.42839336589336,
          57.40359177859176,
          57.81250000000001,
          58.09676434676435,
          57.592465404965424,
          57.860831298331306,
          57.5256919006919,
          57.69357956857959,
          57.43984025234025,
          57.646520146520125,
          57.14285714285713,
          57.42839336589338,
          57.3635276760277,
          57.25859788359788,
          56.98896011396013,
          57.15430402930402,
          56.76956145706145,
          57.390873015873034,
          57.67259361009361,
          57.34444953194954,
          57.61790293040292,
          57.10470085470087,
          57.23570411070411,
          56.76447395197397,
          57.49643874643875,
          56.91900691900691,
          57.22234940984941,
          57.04619454619455,
          57.49834656084659,
          57.14031339031339,
          57.074175824175825,
          57.49961843711844,
          56.61184879934881,
          57.46782153032154,
          57.16511497761499,
          57.378790191290186,
          57.277676027676044,
          56.89674908424909,
          57.151124338624335,
          57.3056573056573,
          57.26686507936509,
          57.270044770044784,
          57.709478021978015,
          57.20072751322751,
          57.357804232804234,
          57.6020044770045,
          57.16129934879936,
          56.61884411884412,
          57.11233211233212,
          57.09452584452587,
          57.255418192918206,
          57.26304945054946,
          57.865282865282865,
          57.175289987789995,
          57.53650284900286,
          57.780067155067144,
          57.32409951159952,
          57.32855107855108,
          57.04365079365082,
          57.22044159544159,
          57.08053520553523,
          57.43284493284492,
          57.60200447700449,
          57.91170634920636,
          57.090710215710224,
          57.82013125763128,
          57.462734025234035,
          57.627442002441995,
          58.09867216117215,
          57.30565730565732,
          57.221713471713464,
          57.28339947089945,
          57.0353835978836,
          57.97313797313798,
          57.7959656084656,
          57.46019027269029,
          57.795329670329686,
          57.52378408628409,
          57.6859483109483,
          57.44810744810746,
          57.68149674399675,
          56.97115384615385,
          57.63570919820919,
          58.28118640618643,
          57.903439153439145,
          57.226800976801,
          58.20996133496135,
          58.050976800976805,
          57.69485144485143,
          57.66814204314203,
          57.60582010582011,
          56.79945054945054,
          57.474180911680925,
          57.81758750508754,
          57.1689306064306,
          57.66114672364673,
          57.67450142450142,
          57.093889906389904,
          57.86273911273911,
          57.31710419210421,
          57.41885429385428,
          57.797873422873444,
          57.38451363451364,
          57.394052706552706,
          57.44874338624339,
          57.48435592185592,
          57.65150166191833,
          57.16956654456656,
          57.35653235653237,
          57.170202482702486,
          57.66750610500612,
          57.37624643874643,
          57.164479039479026,
          56.89166157916157,
          57.025844525844526,
          56.960342897842885,
          57.52759971509972,
          57.34508547008548,
          56.74475986975988,
          56.92791005291005,
          57.137769637769644,
          56.43315018315017,
          57.9708485958486,
          57.866554741554744,
          57.02139295889296,
          56.70177045177047,
          57.163207163207176,
          56.688797313797316,
          57.112968050468034,
          57.16193528693529,
          57.36289173789172,
          57.11614774114775,
          56.988960113960125,
          57.318376068376075,
          56.387998575498564,
          56.55334249084248,
          57.32091982091982,
          56.86558811558811,
          57.68531237281237,
          57.846204721204735,
          56.98641636141637,
          57.764804639804645,
          56.8452380952381,
          56.93299755799754,
          56.91264753764753,
          57.05954924704926,
          57.572751322751316,
          56.751755189255185,
          57.22680097680097,
          56.945080382580365,
          56.72123015873017,
          57.196275946275954,
          56.64746133496132,
          57.78006715506715,
          57.45383089133089,
          57.362255799755815,
          57.084350834350836,
          56.716142653642656,
          56.72313797313797,
          56.856684981684985,
          57.17147435897434,
          57.32537138787138,
          56.746031746031754,
          56.74921143671144,
          56.594678469678485,
          57.35971204721204,
          56.95461945461946,
          56.69006919006919,
          56.64110195360195,
          56.825524013024,
          56.91646316646316,
          57.026480463980455,
          57.2070868945869,
          57.04365079365081,
          57.040471102971104,
          57.031567969067964,
          57.16129934879935,
          56.712327024827026,
          57.26559320309321,
          56.68307387057388,
          56.99213980463981,
          57.06209299959301,
          57.120599308099315,
          57.04301485551486,
          57.13077431827433,
          57.43475274725275,
          57.27576821326823,
          57.1918243793244,
          57.30820105820107,
          57.075447700447704,
          57.472273097273096,
          57.77370777370779,
          57.22743691493692,
          56.8287037037037,
          57.00613044363046,
          57.52505596255596,
          56.79181929181929,
          57.46972934472935,
          56.81789275539276,
          57.11106023606024,
          56.95080382580385,
          57.37243080993081,
          57.06145706145705,
          57.7590811965812,
          57.37624643874643,
          56.874491249491264,
          57.224893162393165,
          57.216625966625976,
          57.33999796499797,
          57.22998066748067,
          56.66463166463168,
          56.63601444851445,
          57.32727920227921,
          56.70596764346764,
          56.099918599918595,
          57.29357448107448,
          57.17528998778999,
          56.877035002034994,
          56.513278388278394,
          56.775284900284895,
          57.17656186406186,
          56.96225071225074,
          57.28149165649168,
          57.04174297924297,
          57.56194037444038,
          56.71423483923485,
          57.1422212047212,
          56.72186609686608,
          57.13458994708994,
          57.244607244607266,
          56.95271164021164,
          57.04237891737892,
          56.90501628001629,
          56.860500610500615,
          57.28657916157916,
          57.30947293447293,
          57.078627391127405,
          56.43505799755798,
          56.98323667073665,
          56.767017704517706,
          56.57178469678471,
          56.981328856328865,
          56.84142246642247,
          57.34508547008546,
          57.00994607244608,
          57.140313390313395,
          57.50979344729345,
          56.80517399267401,
          56.98641636141637,
          57.451287138787144,
          57.03474765974769,
          57.30120573870574,
          56.801358363858384,
          57.18228530728529,
          57.49198717948718,
          57.054461741961745,
          57.36416361416364,
          56.45413614163615,
          56.93172568172569,
          56.72758954008956,
          57.055097680097674,
          56.38609076109075,
          56.58768315018315,
          56.76383801383802,
          57.14540089540089,
          57.04047110297111,
          56.56415343915345,
          56.64428164428164,
          56.83251933251932,
          57.08180708180709,
          56.85032560032561,
          56.89802096052097,
          57.432208994709015,
          56.57305657305657,
          57.246515059015074,
          57.29802604802605,
          57.222985347985365,
          57.12059930809931,
          57.16575091575091,
          57.200091575091584,
          57.21535409035409,
          56.758750508750495,
          57.05573361823363,
          56.79181929181929,
          56.98323667073666,
          57.39659645909645,
          57.100249287749286,
          56.83633496133498,
          57.01757733007731,
          57.32791514041515,
          57.18610093610095,
          57.207722832722844,
          57.31328856328857,
          56.80326617826618,
          57.178469678469675,
          56.929817867317865,
          56.56669719169721,
          57.04683048433049,
          57.154304029304036,
          57.43093711843712,
          57.60772792022794,
          56.91264753764753,
          57.01757733007734,
          56.98260073260073,
          56.83379120879122,
          57.25414631664631,
          57.22870879120878,
          57.2306166056166,
          57.343177655677636,
          56.88593813593814,
          57.001678876678874,
          57.61790293040293,
          57.03665547415548,
          56.996591371591364,
          57.04746642246642,
          57.64524827024827,
          57.32346357346358,
          57.256690069190064,
          57.388965201465204,
          57.447471509971514,
          56.7466676841677,
          56.910739723239736,
          57.07799145299146,
          57.31328856328859,
          57.36670736670738,
          57.051282051282065,
          57.22680097680098,
          56.3784595034595,
          57.16257122507121,
          57.41821835571835,
          56.51391432641433,
          57.15430402930403,
          57.74636243386243,
          57.429665242165235,
          57.60009666259666,
          57.974028286528274,
          57.46464183964184,
          57.44238400488398,
          57.144764957264954,
          56.801994301994306,
          56.805809930809914,
          57.61217948717947,
          57.45828245828247,
          57.32282763532763,
          57.72982804232803,
          57.008038258038255,
          57.264957264957246,
          57.87800162800162,
          57.643976393976395,
          57.28149165649165,
          57.25096662596661,
          57.841753154253155,
          56.593406593406606,
          57.378154253154264,
          57.20199938949937
         ],
         "y0": " ",
         "yaxis": "y"
        }
       ],
       "layout": {
        "boxmode": "group",
        "legend": {
         "tracegroupgap": 0
        },
        "template": {
         "data": {
          "bar": [
           {
            "error_x": {
             "color": "rgb(36,36,36)"
            },
            "error_y": {
             "color": "rgb(36,36,36)"
            },
            "marker": {
             "line": {
              "color": "white",
              "width": 0.5
             }
            },
            "type": "bar"
           }
          ],
          "barpolar": [
           {
            "marker": {
             "line": {
              "color": "white",
              "width": 0.5
             }
            },
            "type": "barpolar"
           }
          ],
          "carpet": [
           {
            "aaxis": {
             "endlinecolor": "rgb(36,36,36)",
             "gridcolor": "white",
             "linecolor": "white",
             "minorgridcolor": "white",
             "startlinecolor": "rgb(36,36,36)"
            },
            "baxis": {
             "endlinecolor": "rgb(36,36,36)",
             "gridcolor": "white",
             "linecolor": "white",
             "minorgridcolor": "white",
             "startlinecolor": "rgb(36,36,36)"
            },
            "type": "carpet"
           }
          ],
          "choropleth": [
           {
            "colorbar": {
             "outlinewidth": 1,
             "tickcolor": "rgb(36,36,36)",
             "ticks": "outside"
            },
            "type": "choropleth"
           }
          ],
          "contour": [
           {
            "colorbar": {
             "outlinewidth": 1,
             "tickcolor": "rgb(36,36,36)",
             "ticks": "outside"
            },
            "colorscale": [
             [
              0,
              "#440154"
             ],
             [
              0.1111111111111111,
              "#482878"
             ],
             [
              0.2222222222222222,
              "#3e4989"
             ],
             [
              0.3333333333333333,
              "#31688e"
             ],
             [
              0.4444444444444444,
              "#26828e"
             ],
             [
              0.5555555555555556,
              "#1f9e89"
             ],
             [
              0.6666666666666666,
              "#35b779"
             ],
             [
              0.7777777777777778,
              "#6ece58"
             ],
             [
              0.8888888888888888,
              "#b5de2b"
             ],
             [
              1,
              "#fde725"
             ]
            ],
            "type": "contour"
           }
          ],
          "contourcarpet": [
           {
            "colorbar": {
             "outlinewidth": 1,
             "tickcolor": "rgb(36,36,36)",
             "ticks": "outside"
            },
            "type": "contourcarpet"
           }
          ],
          "heatmap": [
           {
            "colorbar": {
             "outlinewidth": 1,
             "tickcolor": "rgb(36,36,36)",
             "ticks": "outside"
            },
            "colorscale": [
             [
              0,
              "#440154"
             ],
             [
              0.1111111111111111,
              "#482878"
             ],
             [
              0.2222222222222222,
              "#3e4989"
             ],
             [
              0.3333333333333333,
              "#31688e"
             ],
             [
              0.4444444444444444,
              "#26828e"
             ],
             [
              0.5555555555555556,
              "#1f9e89"
             ],
             [
              0.6666666666666666,
              "#35b779"
             ],
             [
              0.7777777777777778,
              "#6ece58"
             ],
             [
              0.8888888888888888,
              "#b5de2b"
             ],
             [
              1,
              "#fde725"
             ]
            ],
            "type": "heatmap"
           }
          ],
          "heatmapgl": [
           {
            "colorbar": {
             "outlinewidth": 1,
             "tickcolor": "rgb(36,36,36)",
             "ticks": "outside"
            },
            "colorscale": [
             [
              0,
              "#440154"
             ],
             [
              0.1111111111111111,
              "#482878"
             ],
             [
              0.2222222222222222,
              "#3e4989"
             ],
             [
              0.3333333333333333,
              "#31688e"
             ],
             [
              0.4444444444444444,
              "#26828e"
             ],
             [
              0.5555555555555556,
              "#1f9e89"
             ],
             [
              0.6666666666666666,
              "#35b779"
             ],
             [
              0.7777777777777778,
              "#6ece58"
             ],
             [
              0.8888888888888888,
              "#b5de2b"
             ],
             [
              1,
              "#fde725"
             ]
            ],
            "type": "heatmapgl"
           }
          ],
          "histogram": [
           {
            "marker": {
             "line": {
              "color": "white",
              "width": 0.6
             }
            },
            "type": "histogram"
           }
          ],
          "histogram2d": [
           {
            "colorbar": {
             "outlinewidth": 1,
             "tickcolor": "rgb(36,36,36)",
             "ticks": "outside"
            },
            "colorscale": [
             [
              0,
              "#440154"
             ],
             [
              0.1111111111111111,
              "#482878"
             ],
             [
              0.2222222222222222,
              "#3e4989"
             ],
             [
              0.3333333333333333,
              "#31688e"
             ],
             [
              0.4444444444444444,
              "#26828e"
             ],
             [
              0.5555555555555556,
              "#1f9e89"
             ],
             [
              0.6666666666666666,
              "#35b779"
             ],
             [
              0.7777777777777778,
              "#6ece58"
             ],
             [
              0.8888888888888888,
              "#b5de2b"
             ],
             [
              1,
              "#fde725"
             ]
            ],
            "type": "histogram2d"
           }
          ],
          "histogram2dcontour": [
           {
            "colorbar": {
             "outlinewidth": 1,
             "tickcolor": "rgb(36,36,36)",
             "ticks": "outside"
            },
            "colorscale": [
             [
              0,
              "#440154"
             ],
             [
              0.1111111111111111,
              "#482878"
             ],
             [
              0.2222222222222222,
              "#3e4989"
             ],
             [
              0.3333333333333333,
              "#31688e"
             ],
             [
              0.4444444444444444,
              "#26828e"
             ],
             [
              0.5555555555555556,
              "#1f9e89"
             ],
             [
              0.6666666666666666,
              "#35b779"
             ],
             [
              0.7777777777777778,
              "#6ece58"
             ],
             [
              0.8888888888888888,
              "#b5de2b"
             ],
             [
              1,
              "#fde725"
             ]
            ],
            "type": "histogram2dcontour"
           }
          ],
          "mesh3d": [
           {
            "colorbar": {
             "outlinewidth": 1,
             "tickcolor": "rgb(36,36,36)",
             "ticks": "outside"
            },
            "type": "mesh3d"
           }
          ],
          "parcoords": [
           {
            "line": {
             "colorbar": {
              "outlinewidth": 1,
              "tickcolor": "rgb(36,36,36)",
              "ticks": "outside"
             }
            },
            "type": "parcoords"
           }
          ],
          "pie": [
           {
            "automargin": true,
            "type": "pie"
           }
          ],
          "scatter": [
           {
            "marker": {
             "colorbar": {
              "outlinewidth": 1,
              "tickcolor": "rgb(36,36,36)",
              "ticks": "outside"
             }
            },
            "type": "scatter"
           }
          ],
          "scatter3d": [
           {
            "line": {
             "colorbar": {
              "outlinewidth": 1,
              "tickcolor": "rgb(36,36,36)",
              "ticks": "outside"
             }
            },
            "marker": {
             "colorbar": {
              "outlinewidth": 1,
              "tickcolor": "rgb(36,36,36)",
              "ticks": "outside"
             }
            },
            "type": "scatter3d"
           }
          ],
          "scattercarpet": [
           {
            "marker": {
             "colorbar": {
              "outlinewidth": 1,
              "tickcolor": "rgb(36,36,36)",
              "ticks": "outside"
             }
            },
            "type": "scattercarpet"
           }
          ],
          "scattergeo": [
           {
            "marker": {
             "colorbar": {
              "outlinewidth": 1,
              "tickcolor": "rgb(36,36,36)",
              "ticks": "outside"
             }
            },
            "type": "scattergeo"
           }
          ],
          "scattergl": [
           {
            "marker": {
             "colorbar": {
              "outlinewidth": 1,
              "tickcolor": "rgb(36,36,36)",
              "ticks": "outside"
             }
            },
            "type": "scattergl"
           }
          ],
          "scattermapbox": [
           {
            "marker": {
             "colorbar": {
              "outlinewidth": 1,
              "tickcolor": "rgb(36,36,36)",
              "ticks": "outside"
             }
            },
            "type": "scattermapbox"
           }
          ],
          "scatterpolar": [
           {
            "marker": {
             "colorbar": {
              "outlinewidth": 1,
              "tickcolor": "rgb(36,36,36)",
              "ticks": "outside"
             }
            },
            "type": "scatterpolar"
           }
          ],
          "scatterpolargl": [
           {
            "marker": {
             "colorbar": {
              "outlinewidth": 1,
              "tickcolor": "rgb(36,36,36)",
              "ticks": "outside"
             }
            },
            "type": "scatterpolargl"
           }
          ],
          "scatterternary": [
           {
            "marker": {
             "colorbar": {
              "outlinewidth": 1,
              "tickcolor": "rgb(36,36,36)",
              "ticks": "outside"
             }
            },
            "type": "scatterternary"
           }
          ],
          "surface": [
           {
            "colorbar": {
             "outlinewidth": 1,
             "tickcolor": "rgb(36,36,36)",
             "ticks": "outside"
            },
            "colorscale": [
             [
              0,
              "#440154"
             ],
             [
              0.1111111111111111,
              "#482878"
             ],
             [
              0.2222222222222222,
              "#3e4989"
             ],
             [
              0.3333333333333333,
              "#31688e"
             ],
             [
              0.4444444444444444,
              "#26828e"
             ],
             [
              0.5555555555555556,
              "#1f9e89"
             ],
             [
              0.6666666666666666,
              "#35b779"
             ],
             [
              0.7777777777777778,
              "#6ece58"
             ],
             [
              0.8888888888888888,
              "#b5de2b"
             ],
             [
              1,
              "#fde725"
             ]
            ],
            "type": "surface"
           }
          ],
          "table": [
           {
            "cells": {
             "fill": {
              "color": "rgb(237,237,237)"
             },
             "line": {
              "color": "white"
             }
            },
            "header": {
             "fill": {
              "color": "rgb(217,217,217)"
             },
             "line": {
              "color": "white"
             }
            },
            "type": "table"
           }
          ]
         },
         "layout": {
          "annotationdefaults": {
           "arrowhead": 0,
           "arrowwidth": 1
          },
          "coloraxis": {
           "colorbar": {
            "outlinewidth": 1,
            "tickcolor": "rgb(36,36,36)",
            "ticks": "outside"
           }
          },
          "colorscale": {
           "diverging": [
            [
             0,
             "rgb(103,0,31)"
            ],
            [
             0.1,
             "rgb(178,24,43)"
            ],
            [
             0.2,
             "rgb(214,96,77)"
            ],
            [
             0.3,
             "rgb(244,165,130)"
            ],
            [
             0.4,
             "rgb(253,219,199)"
            ],
            [
             0.5,
             "rgb(247,247,247)"
            ],
            [
             0.6,
             "rgb(209,229,240)"
            ],
            [
             0.7,
             "rgb(146,197,222)"
            ],
            [
             0.8,
             "rgb(67,147,195)"
            ],
            [
             0.9,
             "rgb(33,102,172)"
            ],
            [
             1,
             "rgb(5,48,97)"
            ]
           ],
           "sequential": [
            [
             0,
             "#440154"
            ],
            [
             0.1111111111111111,
             "#482878"
            ],
            [
             0.2222222222222222,
             "#3e4989"
            ],
            [
             0.3333333333333333,
             "#31688e"
            ],
            [
             0.4444444444444444,
             "#26828e"
            ],
            [
             0.5555555555555556,
             "#1f9e89"
            ],
            [
             0.6666666666666666,
             "#35b779"
            ],
            [
             0.7777777777777778,
             "#6ece58"
            ],
            [
             0.8888888888888888,
             "#b5de2b"
            ],
            [
             1,
             "#fde725"
            ]
           ],
           "sequentialminus": [
            [
             0,
             "#440154"
            ],
            [
             0.1111111111111111,
             "#482878"
            ],
            [
             0.2222222222222222,
             "#3e4989"
            ],
            [
             0.3333333333333333,
             "#31688e"
            ],
            [
             0.4444444444444444,
             "#26828e"
            ],
            [
             0.5555555555555556,
             "#1f9e89"
            ],
            [
             0.6666666666666666,
             "#35b779"
            ],
            [
             0.7777777777777778,
             "#6ece58"
            ],
            [
             0.8888888888888888,
             "#b5de2b"
            ],
            [
             1,
             "#fde725"
            ]
           ]
          },
          "colorway": [
           "#1F77B4",
           "#FF7F0E",
           "#2CA02C",
           "#D62728",
           "#9467BD",
           "#8C564B",
           "#E377C2",
           "#7F7F7F",
           "#BCBD22",
           "#17BECF"
          ],
          "font": {
           "color": "rgb(36,36,36)"
          },
          "geo": {
           "bgcolor": "white",
           "lakecolor": "white",
           "landcolor": "white",
           "showlakes": true,
           "showland": true,
           "subunitcolor": "white"
          },
          "hoverlabel": {
           "align": "left"
          },
          "hovermode": "closest",
          "mapbox": {
           "style": "light"
          },
          "paper_bgcolor": "white",
          "plot_bgcolor": "white",
          "polar": {
           "angularaxis": {
            "gridcolor": "rgb(232,232,232)",
            "linecolor": "rgb(36,36,36)",
            "showgrid": false,
            "showline": true,
            "ticks": "outside"
           },
           "bgcolor": "white",
           "radialaxis": {
            "gridcolor": "rgb(232,232,232)",
            "linecolor": "rgb(36,36,36)",
            "showgrid": false,
            "showline": true,
            "ticks": "outside"
           }
          },
          "scene": {
           "xaxis": {
            "backgroundcolor": "white",
            "gridcolor": "rgb(232,232,232)",
            "gridwidth": 2,
            "linecolor": "rgb(36,36,36)",
            "showbackground": true,
            "showgrid": false,
            "showline": true,
            "ticks": "outside",
            "zeroline": false,
            "zerolinecolor": "rgb(36,36,36)"
           },
           "yaxis": {
            "backgroundcolor": "white",
            "gridcolor": "rgb(232,232,232)",
            "gridwidth": 2,
            "linecolor": "rgb(36,36,36)",
            "showbackground": true,
            "showgrid": false,
            "showline": true,
            "ticks": "outside",
            "zeroline": false,
            "zerolinecolor": "rgb(36,36,36)"
           },
           "zaxis": {
            "backgroundcolor": "white",
            "gridcolor": "rgb(232,232,232)",
            "gridwidth": 2,
            "linecolor": "rgb(36,36,36)",
            "showbackground": true,
            "showgrid": false,
            "showline": true,
            "ticks": "outside",
            "zeroline": false,
            "zerolinecolor": "rgb(36,36,36)"
           }
          },
          "shapedefaults": {
           "fillcolor": "black",
           "line": {
            "width": 0
           },
           "opacity": 0.3
          },
          "ternary": {
           "aaxis": {
            "gridcolor": "rgb(232,232,232)",
            "linecolor": "rgb(36,36,36)",
            "showgrid": false,
            "showline": true,
            "ticks": "outside"
           },
           "baxis": {
            "gridcolor": "rgb(232,232,232)",
            "linecolor": "rgb(36,36,36)",
            "showgrid": false,
            "showline": true,
            "ticks": "outside"
           },
           "bgcolor": "white",
           "caxis": {
            "gridcolor": "rgb(232,232,232)",
            "linecolor": "rgb(36,36,36)",
            "showgrid": false,
            "showline": true,
            "ticks": "outside"
           }
          },
          "title": {
           "x": 0.05
          },
          "xaxis": {
           "automargin": true,
           "gridcolor": "rgb(232,232,232)",
           "linecolor": "rgb(36,36,36)",
           "showgrid": false,
           "showline": true,
           "ticks": "outside",
           "title": {
            "standoff": 15
           },
           "zeroline": false,
           "zerolinecolor": "rgb(36,36,36)"
          },
          "yaxis": {
           "automargin": true,
           "gridcolor": "rgb(232,232,232)",
           "linecolor": "rgb(36,36,36)",
           "showgrid": false,
           "showline": true,
           "ticks": "outside",
           "title": {
            "standoff": 15
           },
           "zeroline": false,
           "zerolinecolor": "rgb(36,36,36)"
          }
         }
        },
        "title": {
         "text": "OutletPressure g-pump-6 for 48, 49, 50, 52 weeks "
        },
        "xaxis": {
         "anchor": "y",
         "domain": [
          0,
          1
         ],
         "title": {
          "text": "week"
         },
         "type": "category"
        },
        "yaxis": {
         "anchor": "x",
         "domain": [
          0,
          1
         ],
         "title": {
          "text": "feature_value"
         }
        }
       }
      },
      "text/html": [
       "<div>\n",
       "        \n",
       "        \n",
       "            <div id=\"6e14deba-befe-4d52-a8b2-c3b2174e102a\" class=\"plotly-graph-div\" style=\"height:525px; width:100%;\"></div>\n",
       "            <script type=\"text/javascript\">\n",
       "                require([\"plotly\"], function(Plotly) {\n",
       "                    window.PLOTLYENV=window.PLOTLYENV || {};\n",
       "                    \n",
       "                if (document.getElementById(\"6e14deba-befe-4d52-a8b2-c3b2174e102a\")) {\n",
       "                    Plotly.newPlot(\n",
       "                        '6e14deba-befe-4d52-a8b2-c3b2174e102a',\n",
       "                        [{\"alignmentgroup\": \"True\", \"hoverlabel\": {\"namelength\": 0}, \"hovertemplate\": \"week=%{x}<br>feature_value=%{y}\", \"legendgroup\": \"\", \"marker\": {\"color\": \"#1F77B4\"}, \"name\": \"\", \"notched\": false, \"offsetgroup\": \"\", \"orientation\": \"v\", \"showlegend\": false, \"type\": \"box\", \"x\": [48, 48, 48, 48, 48, 48, 48, 48, 48, 48, 48, 48, 48, 48, 48, 48, 48, 48, 48, 48, 48, 48, 48, 48, 48, 48, 48, 48, 48, 48, 48, 48, 48, 48, 48, 48, 48, 48, 48, 48, 48, 48, 48, 48, 48, 48, 48, 48, 48, 48, 48, 48, 48, 48, 48, 48, 48, 48, 48, 48, 48, 48, 48, 48, 48, 48, 48, 48, 48, 48, 48, 48, 48, 48, 48, 48, 48, 48, 48, 48, 48, 48, 48, 48, 48, 48, 48, 48, 48, 48, 48, 48, 48, 48, 48, 48, 48, 48, 48, 48, 48, 48, 48, 48, 48, 48, 48, 48, 48, 48, 48, 48, 48, 48, 48, 48, 48, 48, 48, 48, 48, 48, 48, 48, 48, 48, 48, 48, 48, 48, 48, 48, 48, 48, 48, 48, 48, 48, 48, 48, 48, 48, 48, 48, 48, 48, 48, 48, 48, 48, 48, 48, 48, 48, 48, 48, 48, 48, 48, 48, 48, 48, 48, 48, 48, 48, 49, 49, 49, 49, 49, 49, 49, 49, 49, 49, 49, 49, 49, 49, 49, 49, 49, 49, 49, 49, 49, 49, 49, 49, 49, 49, 49, 49, 50, 50, 50, 50, 50, 50, 50, 50, 50, 50, 50, 50, 50, 50, 50, 50, 50, 50, 50, 50, 50, 50, 50, 50, 50, 50, 50, 50, 50, 50, 50, 50, 50, 50, 50, 50, 50, 50, 50, 50, 50, 50, 50, 50, 50, 50, 50, 50, 50, 50, 50, 50, 50, 50, 50, 50, 50, 50, 50, 50, 50, 50, 52, 52, 52, 52, 52, 52, 52, 52, 52, 52, 52, 52, 52, 52, 52, 52, 52, 52, 52, 52, 52, 52, 52, 52, 52, 52, 52, 52, 52, 52, 52, 52, 52, 52, 52, 52, 52, 52, 52, 52, 52, 52, 52, 52, 52, 52, 52, 52, 52, 52, 52, 52, 52, 52, 52, 52, 52, 52, 52, 52, 52, 52, 52, 52, 52, 52, 52, 52, 52, 52, 52, 52, 52, 52, 52, 52, 52, 52, 52, 52, 52, 52, 52, 52, 52, 52, 52, 52, 52, 52, 52, 52, 52, 52, 52, 52, 52, 52, 52, 52, 52, 52, 52, 52, 52, 52, 52, 52, 52, 52, 52, 52, 52, 52, 52, 52, 52, 52, 52, 52, 52, 52, 52, 52, 52, 52, 52, 52, 52, 52, 52, 52, 52, 52, 52, 52, 52, 52, 52, 52, 52, 52, 52, 52, 52, 52, 52, 52, 52, 52, 52, 52, 52, 52, 52, 52, 52, 52, 52, 52, 52, 52, 52, 52, 52, 52, 52, 52], \"x0\": \" \", \"xaxis\": \"x\", \"y\": [56.81662087912088, 56.94635225885228, 56.70596764346765, 56.875127187627214, 57.32473544973546, 57.697395197395196, 56.88593813593814, 56.952711640211646, 57.268772893772905, 56.84905372405374, 56.97115384615384, 56.93872100122101, 57.084350834350836, 57.310108872608886, 57.16638685388685, 57.13649776149776, 57.51996845746846, 57.65669515669516, 57.94159544159546, 56.99468355718357, 57.7641687016687, 57.67195767195767, 57.17401811151814, 57.763532763532744, 57.31392450142451, 56.81089743589744, 58.045253357753346, 57.76671245421246, 57.90725478225479, 58.048433048433054, 57.00740231990233, 57.55430911680912, 57.018849206349195, 57.16956654456656, 57.57147944647946, 57.507249694749675, 57.31456043956044, 57.54477004477005, 57.57147944647946, 57.119327431827436, 57.53841066341065, 57.90598290598291, 57.891356328856325, 57.70311864061864, 57.70375457875458, 57.64334045584047, 57.167658730158735, 56.89865689865692, 57.19564000814003, 57.59946072446072, 57.71520146520148, 57.635073260073256, 57.70820614570616, 57.65478734228734, 57.68213268213268, 57.41440272690273, 57.34953703703703, 57.4474715099715, 57.67704517704519, 57.259869759869765, 57.07989926739928, 56.78863960113961, 57.18101343101344, 57.382605820105816, 57.273224460724464, 57.482448107448114, 57.54985754985757, 56.929817867317894, 57.08816646316646, 57.42839336589336, 57.40359177859176, 57.81250000000001, 58.09676434676435, 57.592465404965424, 57.860831298331306, 57.5256919006919, 57.69357956857959, 57.43984025234025, 57.646520146520125, 57.14285714285713, 57.42839336589338, 57.3635276760277, 57.25859788359788, 56.98896011396013, 57.15430402930402, 56.76956145706145, 57.390873015873034, 57.67259361009361, 57.34444953194954, 57.61790293040292, 57.10470085470087, 57.23570411070411, 56.76447395197397, 57.49643874643875, 56.91900691900691, 57.22234940984941, 57.04619454619455, 57.49834656084659, 57.14031339031339, 57.074175824175825, 57.49961843711844, 56.61184879934881, 57.46782153032154, 57.16511497761499, 57.378790191290186, 57.277676027676044, 56.89674908424909, 57.151124338624335, 57.3056573056573, 57.26686507936509, 57.270044770044784, 57.709478021978015, 57.20072751322751, 57.357804232804234, 57.6020044770045, 57.16129934879936, 56.61884411884412, 57.11233211233212, 57.09452584452587, 57.255418192918206, 57.26304945054946, 57.865282865282865, 57.175289987789995, 57.53650284900286, 57.780067155067144, 57.32409951159952, 57.32855107855108, 57.04365079365082, 57.22044159544159, 57.08053520553523, 57.43284493284492, 57.60200447700449, 57.91170634920636, 57.090710215710224, 57.82013125763128, 57.462734025234035, 57.627442002441995, 58.09867216117215, 57.30565730565732, 57.221713471713464, 57.28339947089945, 57.0353835978836, 57.97313797313798, 57.7959656084656, 57.46019027269029, 57.795329670329686, 57.52378408628409, 57.6859483109483, 57.44810744810746, 57.68149674399675, 56.97115384615385, 57.63570919820919, 58.28118640618643, 57.903439153439145, 57.226800976801, 58.20996133496135, 58.050976800976805, 57.69485144485143, 57.66814204314203, 57.60582010582011, 56.79945054945054, 57.474180911680925, 57.81758750508754, 57.1689306064306, 57.66114672364673, 57.67450142450142, 57.093889906389904, 57.86273911273911, 57.31710419210421, 57.41885429385428, 57.797873422873444, 57.38451363451364, 57.394052706552706, 57.44874338624339, 57.48435592185592, 57.65150166191833, 57.16956654456656, 57.35653235653237, 57.170202482702486, 57.66750610500612, 57.37624643874643, 57.164479039479026, 56.89166157916157, 57.025844525844526, 56.960342897842885, 57.52759971509972, 57.34508547008548, 56.74475986975988, 56.92791005291005, 57.137769637769644, 56.43315018315017, 57.9708485958486, 57.866554741554744, 57.02139295889296, 56.70177045177047, 57.163207163207176, 56.688797313797316, 57.112968050468034, 57.16193528693529, 57.36289173789172, 57.11614774114775, 56.988960113960125, 57.318376068376075, 56.387998575498564, 56.55334249084248, 57.32091982091982, 56.86558811558811, 57.68531237281237, 57.846204721204735, 56.98641636141637, 57.764804639804645, 56.8452380952381, 56.93299755799754, 56.91264753764753, 57.05954924704926, 57.572751322751316, 56.751755189255185, 57.22680097680097, 56.945080382580365, 56.72123015873017, 57.196275946275954, 56.64746133496132, 57.78006715506715, 57.45383089133089, 57.362255799755815, 57.084350834350836, 56.716142653642656, 56.72313797313797, 56.856684981684985, 57.17147435897434, 57.32537138787138, 56.746031746031754, 56.74921143671144, 56.594678469678485, 57.35971204721204, 56.95461945461946, 56.69006919006919, 56.64110195360195, 56.825524013024, 56.91646316646316, 57.026480463980455, 57.2070868945869, 57.04365079365081, 57.040471102971104, 57.031567969067964, 57.16129934879935, 56.712327024827026, 57.26559320309321, 56.68307387057388, 56.99213980463981, 57.06209299959301, 57.120599308099315, 57.04301485551486, 57.13077431827433, 57.43475274725275, 57.27576821326823, 57.1918243793244, 57.30820105820107, 57.075447700447704, 57.472273097273096, 57.77370777370779, 57.22743691493692, 56.8287037037037, 57.00613044363046, 57.52505596255596, 56.79181929181929, 57.46972934472935, 56.81789275539276, 57.11106023606024, 56.95080382580385, 57.37243080993081, 57.06145706145705, 57.7590811965812, 57.37624643874643, 56.874491249491264, 57.224893162393165, 57.216625966625976, 57.33999796499797, 57.22998066748067, 56.66463166463168, 56.63601444851445, 57.32727920227921, 56.70596764346764, 56.099918599918595, 57.29357448107448, 57.17528998778999, 56.877035002034994, 56.513278388278394, 56.775284900284895, 57.17656186406186, 56.96225071225074, 57.28149165649168, 57.04174297924297, 57.56194037444038, 56.71423483923485, 57.1422212047212, 56.72186609686608, 57.13458994708994, 57.244607244607266, 56.95271164021164, 57.04237891737892, 56.90501628001629, 56.860500610500615, 57.28657916157916, 57.30947293447293, 57.078627391127405, 56.43505799755798, 56.98323667073665, 56.767017704517706, 56.57178469678471, 56.981328856328865, 56.84142246642247, 57.34508547008546, 57.00994607244608, 57.140313390313395, 57.50979344729345, 56.80517399267401, 56.98641636141637, 57.451287138787144, 57.03474765974769, 57.30120573870574, 56.801358363858384, 57.18228530728529, 57.49198717948718, 57.054461741961745, 57.36416361416364, 56.45413614163615, 56.93172568172569, 56.72758954008956, 57.055097680097674, 56.38609076109075, 56.58768315018315, 56.76383801383802, 57.14540089540089, 57.04047110297111, 56.56415343915345, 56.64428164428164, 56.83251933251932, 57.08180708180709, 56.85032560032561, 56.89802096052097, 57.432208994709015, 56.57305657305657, 57.246515059015074, 57.29802604802605, 57.222985347985365, 57.12059930809931, 57.16575091575091, 57.200091575091584, 57.21535409035409, 56.758750508750495, 57.05573361823363, 56.79181929181929, 56.98323667073666, 57.39659645909645, 57.100249287749286, 56.83633496133498, 57.01757733007731, 57.32791514041515, 57.18610093610095, 57.207722832722844, 57.31328856328857, 56.80326617826618, 57.178469678469675, 56.929817867317865, 56.56669719169721, 57.04683048433049, 57.154304029304036, 57.43093711843712, 57.60772792022794, 56.91264753764753, 57.01757733007734, 56.98260073260073, 56.83379120879122, 57.25414631664631, 57.22870879120878, 57.2306166056166, 57.343177655677636, 56.88593813593814, 57.001678876678874, 57.61790293040293, 57.03665547415548, 56.996591371591364, 57.04746642246642, 57.64524827024827, 57.32346357346358, 57.256690069190064, 57.388965201465204, 57.447471509971514, 56.7466676841677, 56.910739723239736, 57.07799145299146, 57.31328856328859, 57.36670736670738, 57.051282051282065, 57.22680097680098, 56.3784595034595, 57.16257122507121, 57.41821835571835, 56.51391432641433, 57.15430402930403, 57.74636243386243, 57.429665242165235, 57.60009666259666, 57.974028286528274, 57.46464183964184, 57.44238400488398, 57.144764957264954, 56.801994301994306, 56.805809930809914, 57.61217948717947, 57.45828245828247, 57.32282763532763, 57.72982804232803, 57.008038258038255, 57.264957264957246, 57.87800162800162, 57.643976393976395, 57.28149165649165, 57.25096662596661, 57.841753154253155, 56.593406593406606, 57.378154253154264, 57.20199938949937], \"y0\": \" \", \"yaxis\": \"y\"}],\n",
       "                        {\"boxmode\": \"group\", \"legend\": {\"tracegroupgap\": 0}, \"template\": {\"data\": {\"bar\": [{\"error_x\": {\"color\": \"rgb(36,36,36)\"}, \"error_y\": {\"color\": \"rgb(36,36,36)\"}, \"marker\": {\"line\": {\"color\": \"white\", \"width\": 0.5}}, \"type\": \"bar\"}], \"barpolar\": [{\"marker\": {\"line\": {\"color\": \"white\", \"width\": 0.5}}, \"type\": \"barpolar\"}], \"carpet\": [{\"aaxis\": {\"endlinecolor\": \"rgb(36,36,36)\", \"gridcolor\": \"white\", \"linecolor\": \"white\", \"minorgridcolor\": \"white\", \"startlinecolor\": \"rgb(36,36,36)\"}, \"baxis\": {\"endlinecolor\": \"rgb(36,36,36)\", \"gridcolor\": \"white\", \"linecolor\": \"white\", \"minorgridcolor\": \"white\", \"startlinecolor\": \"rgb(36,36,36)\"}, \"type\": \"carpet\"}], \"choropleth\": [{\"colorbar\": {\"outlinewidth\": 1, \"tickcolor\": \"rgb(36,36,36)\", \"ticks\": \"outside\"}, \"type\": \"choropleth\"}], \"contour\": [{\"colorbar\": {\"outlinewidth\": 1, \"tickcolor\": \"rgb(36,36,36)\", \"ticks\": \"outside\"}, \"colorscale\": [[0.0, \"#440154\"], [0.1111111111111111, \"#482878\"], [0.2222222222222222, \"#3e4989\"], [0.3333333333333333, \"#31688e\"], [0.4444444444444444, \"#26828e\"], [0.5555555555555556, \"#1f9e89\"], [0.6666666666666666, \"#35b779\"], [0.7777777777777778, \"#6ece58\"], [0.8888888888888888, \"#b5de2b\"], [1.0, \"#fde725\"]], \"type\": \"contour\"}], \"contourcarpet\": [{\"colorbar\": {\"outlinewidth\": 1, \"tickcolor\": \"rgb(36,36,36)\", \"ticks\": \"outside\"}, \"type\": \"contourcarpet\"}], \"heatmap\": [{\"colorbar\": {\"outlinewidth\": 1, \"tickcolor\": \"rgb(36,36,36)\", \"ticks\": \"outside\"}, \"colorscale\": [[0.0, \"#440154\"], [0.1111111111111111, \"#482878\"], [0.2222222222222222, \"#3e4989\"], [0.3333333333333333, \"#31688e\"], [0.4444444444444444, \"#26828e\"], [0.5555555555555556, \"#1f9e89\"], [0.6666666666666666, \"#35b779\"], [0.7777777777777778, \"#6ece58\"], [0.8888888888888888, \"#b5de2b\"], [1.0, \"#fde725\"]], \"type\": \"heatmap\"}], \"heatmapgl\": [{\"colorbar\": {\"outlinewidth\": 1, \"tickcolor\": \"rgb(36,36,36)\", \"ticks\": \"outside\"}, \"colorscale\": [[0.0, \"#440154\"], [0.1111111111111111, \"#482878\"], [0.2222222222222222, \"#3e4989\"], [0.3333333333333333, \"#31688e\"], [0.4444444444444444, \"#26828e\"], [0.5555555555555556, \"#1f9e89\"], [0.6666666666666666, \"#35b779\"], [0.7777777777777778, \"#6ece58\"], [0.8888888888888888, \"#b5de2b\"], [1.0, \"#fde725\"]], \"type\": \"heatmapgl\"}], \"histogram\": [{\"marker\": {\"line\": {\"color\": \"white\", \"width\": 0.6}}, \"type\": \"histogram\"}], \"histogram2d\": [{\"colorbar\": {\"outlinewidth\": 1, \"tickcolor\": \"rgb(36,36,36)\", \"ticks\": \"outside\"}, \"colorscale\": [[0.0, \"#440154\"], [0.1111111111111111, \"#482878\"], [0.2222222222222222, \"#3e4989\"], [0.3333333333333333, \"#31688e\"], [0.4444444444444444, \"#26828e\"], [0.5555555555555556, \"#1f9e89\"], [0.6666666666666666, \"#35b779\"], [0.7777777777777778, \"#6ece58\"], [0.8888888888888888, \"#b5de2b\"], [1.0, \"#fde725\"]], \"type\": \"histogram2d\"}], \"histogram2dcontour\": [{\"colorbar\": {\"outlinewidth\": 1, \"tickcolor\": \"rgb(36,36,36)\", \"ticks\": \"outside\"}, \"colorscale\": [[0.0, \"#440154\"], [0.1111111111111111, \"#482878\"], [0.2222222222222222, \"#3e4989\"], [0.3333333333333333, \"#31688e\"], [0.4444444444444444, \"#26828e\"], [0.5555555555555556, \"#1f9e89\"], [0.6666666666666666, \"#35b779\"], [0.7777777777777778, \"#6ece58\"], [0.8888888888888888, \"#b5de2b\"], [1.0, \"#fde725\"]], \"type\": \"histogram2dcontour\"}], \"mesh3d\": [{\"colorbar\": {\"outlinewidth\": 1, \"tickcolor\": \"rgb(36,36,36)\", \"ticks\": \"outside\"}, \"type\": \"mesh3d\"}], \"parcoords\": [{\"line\": {\"colorbar\": {\"outlinewidth\": 1, \"tickcolor\": \"rgb(36,36,36)\", \"ticks\": \"outside\"}}, \"type\": \"parcoords\"}], \"pie\": [{\"automargin\": true, \"type\": \"pie\"}], \"scatter\": [{\"marker\": {\"colorbar\": {\"outlinewidth\": 1, \"tickcolor\": \"rgb(36,36,36)\", \"ticks\": \"outside\"}}, \"type\": \"scatter\"}], \"scatter3d\": [{\"line\": {\"colorbar\": {\"outlinewidth\": 1, \"tickcolor\": \"rgb(36,36,36)\", \"ticks\": \"outside\"}}, \"marker\": {\"colorbar\": {\"outlinewidth\": 1, \"tickcolor\": \"rgb(36,36,36)\", \"ticks\": \"outside\"}}, \"type\": \"scatter3d\"}], \"scattercarpet\": [{\"marker\": {\"colorbar\": {\"outlinewidth\": 1, \"tickcolor\": \"rgb(36,36,36)\", \"ticks\": \"outside\"}}, \"type\": \"scattercarpet\"}], \"scattergeo\": [{\"marker\": {\"colorbar\": {\"outlinewidth\": 1, \"tickcolor\": \"rgb(36,36,36)\", \"ticks\": \"outside\"}}, \"type\": \"scattergeo\"}], \"scattergl\": [{\"marker\": {\"colorbar\": {\"outlinewidth\": 1, \"tickcolor\": \"rgb(36,36,36)\", \"ticks\": \"outside\"}}, \"type\": \"scattergl\"}], \"scattermapbox\": [{\"marker\": {\"colorbar\": {\"outlinewidth\": 1, \"tickcolor\": \"rgb(36,36,36)\", \"ticks\": \"outside\"}}, \"type\": \"scattermapbox\"}], \"scatterpolar\": [{\"marker\": {\"colorbar\": {\"outlinewidth\": 1, \"tickcolor\": \"rgb(36,36,36)\", \"ticks\": \"outside\"}}, \"type\": \"scatterpolar\"}], \"scatterpolargl\": [{\"marker\": {\"colorbar\": {\"outlinewidth\": 1, \"tickcolor\": \"rgb(36,36,36)\", \"ticks\": \"outside\"}}, \"type\": \"scatterpolargl\"}], \"scatterternary\": [{\"marker\": {\"colorbar\": {\"outlinewidth\": 1, \"tickcolor\": \"rgb(36,36,36)\", \"ticks\": \"outside\"}}, \"type\": \"scatterternary\"}], \"surface\": [{\"colorbar\": {\"outlinewidth\": 1, \"tickcolor\": \"rgb(36,36,36)\", \"ticks\": \"outside\"}, \"colorscale\": [[0.0, \"#440154\"], [0.1111111111111111, \"#482878\"], [0.2222222222222222, \"#3e4989\"], [0.3333333333333333, \"#31688e\"], [0.4444444444444444, \"#26828e\"], [0.5555555555555556, \"#1f9e89\"], [0.6666666666666666, \"#35b779\"], [0.7777777777777778, \"#6ece58\"], [0.8888888888888888, \"#b5de2b\"], [1.0, \"#fde725\"]], \"type\": \"surface\"}], \"table\": [{\"cells\": {\"fill\": {\"color\": \"rgb(237,237,237)\"}, \"line\": {\"color\": \"white\"}}, \"header\": {\"fill\": {\"color\": \"rgb(217,217,217)\"}, \"line\": {\"color\": \"white\"}}, \"type\": \"table\"}]}, \"layout\": {\"annotationdefaults\": {\"arrowhead\": 0, \"arrowwidth\": 1}, \"coloraxis\": {\"colorbar\": {\"outlinewidth\": 1, \"tickcolor\": \"rgb(36,36,36)\", \"ticks\": \"outside\"}}, \"colorscale\": {\"diverging\": [[0.0, \"rgb(103,0,31)\"], [0.1, \"rgb(178,24,43)\"], [0.2, \"rgb(214,96,77)\"], [0.3, \"rgb(244,165,130)\"], [0.4, \"rgb(253,219,199)\"], [0.5, \"rgb(247,247,247)\"], [0.6, \"rgb(209,229,240)\"], [0.7, \"rgb(146,197,222)\"], [0.8, \"rgb(67,147,195)\"], [0.9, \"rgb(33,102,172)\"], [1.0, \"rgb(5,48,97)\"]], \"sequential\": [[0.0, \"#440154\"], [0.1111111111111111, \"#482878\"], [0.2222222222222222, \"#3e4989\"], [0.3333333333333333, \"#31688e\"], [0.4444444444444444, \"#26828e\"], [0.5555555555555556, \"#1f9e89\"], [0.6666666666666666, \"#35b779\"], [0.7777777777777778, \"#6ece58\"], [0.8888888888888888, \"#b5de2b\"], [1.0, \"#fde725\"]], \"sequentialminus\": [[0.0, \"#440154\"], [0.1111111111111111, \"#482878\"], [0.2222222222222222, \"#3e4989\"], [0.3333333333333333, \"#31688e\"], [0.4444444444444444, \"#26828e\"], [0.5555555555555556, \"#1f9e89\"], [0.6666666666666666, \"#35b779\"], [0.7777777777777778, \"#6ece58\"], [0.8888888888888888, \"#b5de2b\"], [1.0, \"#fde725\"]]}, \"colorway\": [\"#1F77B4\", \"#FF7F0E\", \"#2CA02C\", \"#D62728\", \"#9467BD\", \"#8C564B\", \"#E377C2\", \"#7F7F7F\", \"#BCBD22\", \"#17BECF\"], \"font\": {\"color\": \"rgb(36,36,36)\"}, \"geo\": {\"bgcolor\": \"white\", \"lakecolor\": \"white\", \"landcolor\": \"white\", \"showlakes\": true, \"showland\": true, \"subunitcolor\": \"white\"}, \"hoverlabel\": {\"align\": \"left\"}, \"hovermode\": \"closest\", \"mapbox\": {\"style\": \"light\"}, \"paper_bgcolor\": \"white\", \"plot_bgcolor\": \"white\", \"polar\": {\"angularaxis\": {\"gridcolor\": \"rgb(232,232,232)\", \"linecolor\": \"rgb(36,36,36)\", \"showgrid\": false, \"showline\": true, \"ticks\": \"outside\"}, \"bgcolor\": \"white\", \"radialaxis\": {\"gridcolor\": \"rgb(232,232,232)\", \"linecolor\": \"rgb(36,36,36)\", \"showgrid\": false, \"showline\": true, \"ticks\": \"outside\"}}, \"scene\": {\"xaxis\": {\"backgroundcolor\": \"white\", \"gridcolor\": \"rgb(232,232,232)\", \"gridwidth\": 2, \"linecolor\": \"rgb(36,36,36)\", \"showbackground\": true, \"showgrid\": false, \"showline\": true, \"ticks\": \"outside\", \"zeroline\": false, \"zerolinecolor\": \"rgb(36,36,36)\"}, \"yaxis\": {\"backgroundcolor\": \"white\", \"gridcolor\": \"rgb(232,232,232)\", \"gridwidth\": 2, \"linecolor\": \"rgb(36,36,36)\", \"showbackground\": true, \"showgrid\": false, \"showline\": true, \"ticks\": \"outside\", \"zeroline\": false, \"zerolinecolor\": \"rgb(36,36,36)\"}, \"zaxis\": {\"backgroundcolor\": \"white\", \"gridcolor\": \"rgb(232,232,232)\", \"gridwidth\": 2, \"linecolor\": \"rgb(36,36,36)\", \"showbackground\": true, \"showgrid\": false, \"showline\": true, \"ticks\": \"outside\", \"zeroline\": false, \"zerolinecolor\": \"rgb(36,36,36)\"}}, \"shapedefaults\": {\"fillcolor\": \"black\", \"line\": {\"width\": 0}, \"opacity\": 0.3}, \"ternary\": {\"aaxis\": {\"gridcolor\": \"rgb(232,232,232)\", \"linecolor\": \"rgb(36,36,36)\", \"showgrid\": false, \"showline\": true, \"ticks\": \"outside\"}, \"baxis\": {\"gridcolor\": \"rgb(232,232,232)\", \"linecolor\": \"rgb(36,36,36)\", \"showgrid\": false, \"showline\": true, \"ticks\": \"outside\"}, \"bgcolor\": \"white\", \"caxis\": {\"gridcolor\": \"rgb(232,232,232)\", \"linecolor\": \"rgb(36,36,36)\", \"showgrid\": false, \"showline\": true, \"ticks\": \"outside\"}}, \"title\": {\"x\": 0.05}, \"xaxis\": {\"automargin\": true, \"gridcolor\": \"rgb(232,232,232)\", \"linecolor\": \"rgb(36,36,36)\", \"showgrid\": false, \"showline\": true, \"ticks\": \"outside\", \"title\": {\"standoff\": 15}, \"zeroline\": false, \"zerolinecolor\": \"rgb(36,36,36)\"}, \"yaxis\": {\"automargin\": true, \"gridcolor\": \"rgb(232,232,232)\", \"linecolor\": \"rgb(36,36,36)\", \"showgrid\": false, \"showline\": true, \"ticks\": \"outside\", \"title\": {\"standoff\": 15}, \"zeroline\": false, \"zerolinecolor\": \"rgb(36,36,36)\"}}}, \"title\": {\"text\": \"OutletPressure g-pump-6 for 48, 49, 50, 52 weeks \"}, \"xaxis\": {\"anchor\": \"y\", \"domain\": [0.0, 1.0], \"title\": {\"text\": \"week\"}, \"type\": \"category\"}, \"yaxis\": {\"anchor\": \"x\", \"domain\": [0.0, 1.0], \"title\": {\"text\": \"feature_value\"}}},\n",
       "                        {\"responsive\": true}\n",
       "                    ).then(function(){\n",
       "                            \n",
       "var gd = document.getElementById('6e14deba-befe-4d52-a8b2-c3b2174e102a');\n",
       "var x = new MutationObserver(function (mutations, observer) {{\n",
       "        var display = window.getComputedStyle(gd).display;\n",
       "        if (!display || display === 'none') {{\n",
       "            console.log([gd, 'removed!']);\n",
       "            Plotly.purge(gd);\n",
       "            observer.disconnect();\n",
       "        }}\n",
       "}});\n",
       "\n",
       "// Listen for the removal of the full notebook cells\n",
       "var notebookContainer = gd.closest('#notebook-container');\n",
       "if (notebookContainer) {{\n",
       "    x.observe(notebookContainer, {childList: true});\n",
       "}}\n",
       "\n",
       "// Listen for the clearing of the current output cell\n",
       "var outputEl = gd.closest('.output');\n",
       "if (outputEl) {{\n",
       "    x.observe(outputEl, {childList: true});\n",
       "}}\n",
       "\n",
       "                        })\n",
       "                };\n",
       "                });\n",
       "            </script>\n",
       "        </div>"
      ]
     },
     "metadata": {},
     "output_type": "display_data"
    }
   ],
   "source": [
    "%%skip $skip_baseline_save\n",
    "week_numbers =  week_numbers_outletPressure # Week numbers as List \n",
    "\n",
    "mu_outletpressure, sigma_outletpressure = get_baselining_variables_azure(df_data, variable_name = OUTLET_PRESSURE,\n",
    "                                                                         asset_id = asset_id,\n",
    "                                                                         lst_filter_values = week_numbers, \n",
    "                                                                         filter_column_name = \"week\",\n",
    "                                                                         select_column_name= 'feature_value',\n",
    "                                                                         filter_metric = \"AvgValue\")\n",
    "print(mu_outletpressure, sigma_outletpressure)\n",
    "\n",
    "show_baselining_plot_azure(df_data, duration = week_numbers, asset_name= asset_name, variable_name= OUTLET_PRESSURE,\n",
    "                           plot_type = \"box\")"
   ]
  },
  {
   "cell_type": "markdown",
   "metadata": {},
   "source": [
    "## House Pressure"
   ]
  },
  {
   "cell_type": "code",
   "execution_count": 20,
   "metadata": {},
   "outputs": [
    {
     "name": "stdout",
     "output_type": "stream",
     "text": [
      "3.431196023311214 0.053982098983501994\n"
     ]
    },
    {
     "data": {
      "application/vnd.plotly.v1+json": {
       "config": {
        "plotlyServerURL": "https://plot.ly"
       },
       "data": [
        {
         "alignmentgroup": "True",
         "hoverlabel": {
          "namelength": 0
         },
         "hovertemplate": "week=%{x}<br>feature_value=%{y}",
         "legendgroup": "",
         "marker": {
          "color": "#1F77B4"
         },
         "name": "",
         "notched": false,
         "offsetgroup": "",
         "orientation": "v",
         "showlegend": false,
         "type": "box",
         "x": [
          51,
          51,
          51,
          51,
          51,
          51,
          51,
          51,
          51,
          51,
          51,
          51,
          51,
          51,
          51,
          51,
          51,
          51,
          51,
          51,
          51,
          51,
          51,
          51,
          51,
          51,
          51,
          51,
          51,
          51,
          51,
          51,
          51,
          51,
          51,
          51,
          51,
          51,
          51,
          51,
          51,
          51,
          51,
          51,
          51,
          51,
          51,
          51,
          51,
          51,
          51,
          51,
          51,
          51,
          51,
          51,
          51,
          51,
          51,
          51,
          51,
          51,
          51,
          51,
          51,
          51,
          51,
          51,
          51,
          51,
          51,
          51,
          51,
          51,
          51,
          51,
          51,
          51,
          51,
          51,
          51,
          51,
          51,
          51,
          51,
          51,
          51,
          51,
          51,
          51,
          51,
          51,
          51,
          51,
          51,
          51,
          51,
          51,
          51,
          51,
          51,
          51,
          51,
          51,
          51,
          51,
          51,
          51,
          51,
          51,
          51,
          51,
          51,
          51,
          51,
          51,
          51,
          51,
          51,
          51,
          51,
          51,
          51,
          51,
          51,
          51,
          51,
          51,
          51,
          51,
          51,
          51,
          51,
          51,
          51,
          51,
          51,
          51,
          51,
          51,
          51,
          51,
          51,
          51,
          51,
          51,
          51,
          51,
          52,
          52,
          52,
          52,
          52,
          52,
          52,
          52,
          52,
          52,
          52,
          52,
          52,
          52,
          52,
          52,
          52,
          52,
          52,
          52,
          52,
          52,
          52,
          52,
          52,
          52,
          52,
          52,
          52,
          52,
          52,
          52,
          52,
          52,
          52,
          52,
          52,
          52,
          52,
          52,
          52,
          52,
          52,
          52,
          52,
          52,
          52,
          52,
          52,
          52,
          52,
          52,
          52,
          52,
          52,
          52,
          52,
          52,
          52,
          52,
          52,
          52,
          52,
          52,
          52,
          52,
          52,
          52,
          52,
          52,
          52,
          52,
          52,
          52,
          52,
          52,
          52,
          52,
          52,
          52,
          52,
          52,
          52,
          52,
          52,
          52,
          52,
          52,
          52,
          52,
          52,
          52,
          52,
          52,
          52,
          52,
          52,
          52,
          52,
          52,
          52,
          52,
          52,
          52,
          52,
          52,
          52,
          52,
          52,
          52,
          52,
          52,
          52,
          52,
          52,
          52,
          52,
          52,
          52,
          52,
          52,
          52,
          52,
          52,
          52,
          52,
          52,
          52,
          52,
          52,
          52,
          52,
          52,
          52,
          52,
          52,
          52,
          52,
          52,
          52,
          52,
          52,
          52,
          52,
          52,
          52,
          52,
          52,
          52,
          52,
          52,
          52,
          52,
          52,
          52,
          52,
          52,
          52,
          52,
          52,
          52,
          52,
          52,
          52,
          52,
          52,
          1,
          1,
          1,
          1,
          1,
          1,
          1,
          1,
          1,
          1,
          1,
          1,
          1,
          1,
          1,
          1,
          1,
          1,
          1,
          1,
          1,
          1,
          1,
          1,
          1,
          1,
          1,
          1,
          1,
          1,
          1,
          1,
          1,
          1,
          1,
          1,
          1,
          1,
          1,
          1,
          1,
          1,
          1,
          1,
          1,
          1,
          1,
          1,
          1,
          1,
          1,
          1,
          1,
          1,
          1,
          1,
          1,
          1,
          1,
          1,
          1,
          1,
          1,
          1,
          1,
          1,
          1,
          1,
          1,
          1,
          1,
          1,
          1,
          1,
          1,
          1,
          1,
          1,
          1,
          1,
          1,
          1,
          1,
          1,
          1,
          1,
          1,
          1,
          1,
          1,
          1,
          1,
          1,
          1,
          1,
          1,
          1,
          1,
          1,
          1,
          1,
          1,
          1,
          1,
          1,
          1,
          1,
          1,
          1,
          1,
          1,
          1,
          1,
          1,
          1,
          1,
          1,
          1,
          1,
          1,
          1,
          1,
          1,
          1,
          1,
          1,
          1,
          1,
          1,
          1,
          1,
          1,
          1,
          1,
          1,
          1,
          1,
          1,
          1,
          1,
          1,
          1,
          1,
          1,
          1,
          1,
          1,
          1,
          1,
          1,
          1,
          1,
          1,
          1,
          1,
          1,
          1,
          1,
          1,
          1,
          1,
          1,
          1,
          1,
          1,
          1,
          2,
          2,
          2,
          2,
          2,
          2,
          2,
          2,
          2,
          2,
          2,
          2,
          2,
          2,
          2,
          2,
          2
         ],
         "x0": " ",
         "xaxis": "x",
         "y": [
          3.5958485958485955,
          3.5091066341066344,
          3.5313644688644685,
          3.4673254985754998,
          3.5156567969067987,
          3.474702380952379,
          3.432221713471714,
          3.5840201465201473,
          3.381919006919006,
          3.4708231583231597,
          3.466880341880343,
          3.4495828245828233,
          3.4692333129833117,
          3.495561151811152,
          3.359152421652423,
          3.3795024420024427,
          3.391712454212456,
          3.393047924297926,
          3.43533781033781,
          3.41199888074888,
          3.444622507122505,
          3.502620065120063,
          3.5202355514855515,
          3.485831298331298,
          3.4165776353276347,
          3.4258623321123323,
          3.46287393162393,
          3.3740333740333743,
          3.527548840048841,
          3.3422364672364666,
          3.438581094831095,
          3.433684371184373,
          3.440425315425316,
          3.3239850427350413,
          3.4335571835571823,
          3.4385810948310964,
          3.5036375661375665,
          3.3657025844525847,
          3.386688542938543,
          3.3826821326821332,
          3.3310439560439566,
          3.4353378103378094,
          3.291107041107041,
          3.4199481074481093,
          3.382173382173383,
          3.406784188034186,
          3.3475147537647536,
          3.507580382580381,
          3.374351343101343,
          3.503637566137567,
          3.4366732804232805,
          3.471777065527067,
          3.4913003663003663,
          3.528121184371185,
          3.5075167887667864,
          3.483223951973954,
          3.52653133903134,
          3.499567562067563,
          3.385416666666666,
          3.4289148351648358,
          3.531809625559625,
          3.4784544159544164,
          3.484432234432234,
          3.4623015873015883,
          3.4663715913715922,
          3.502492877492878,
          3.4787087912087906,
          3.4362917175417187,
          3.471904253154255,
          3.5441468253968247,
          3.4971509971509964,
          3.4899013024013015,
          3.4733033170533165,
          3.408564814814816,
          3.395909645909645,
          3.4537164224664223,
          3.269993894993895,
          3.4342567155067147,
          3.426307488807488,
          3.4207748270248275,
          3.3572446072446067,
          3.4126984126984135,
          3.4402345339845355,
          3.4444953194953203,
          3.3556547619047628,
          3.423064204314205,
          3.3240486365486377,
          3.4273885836385865,
          3.41117216117216,
          3.4512362637362632,
          3.3672924297924296,
          3.4626195563695563,
          3.423700142450142,
          3.4275157712657713,
          3.3798840048840044,
          3.4200117012617017,
          3.4745115995115996,
          3.4321581196581192,
          3.4266890516890527,
          3.2822675010175,
          3.4932081807081814,
          3.403095746845749,
          3.332760989010989,
          3.424018111518112,
          3.375050875050876,
          3.3653210215710216,
          3.444622507122507,
          3.4322217134717135,
          3.4364824989824982,
          3.395400895400894,
          3.4095823158323153,
          3.3571174196174187,
          3.3762591575091583,
          3.4257351444851434,
          3.3600427350427347,
          3.3775946275946276,
          3.4125712250712255,
          3.5718737281237285,
          3.3972451159951156,
          3.3640491452991452,
          3.3583257020757027,
          3.3846535409035425,
          3.372634310134309,
          3.431903744403744,
          3.359788359788359,
          3.401378713878714,
          3.4541615791615805,
          3.4232549857549857,
          3.4386446886446893,
          3.435910154660155,
          3.4310770248270255,
          3.4046219983719985,
          3.3904405779405784,
          3.3436355311355315,
          3.370281339031339,
          3.3832544770044763,
          3.335368335368335,
          3.4186126373626364,
          3.379438848188849,
          3.3676739926739923,
          3.524814306064305,
          3.4706323768823775,
          3.457277676027676,
          3.4995675620675613,
          3.3937474562474566,
          3.43101343101343,
          3.441188441188439,
          3.4872303622303615,
          3.5030652218152216,
          3.3626500814000817,
          3.4542251729751716,
          3.4306318681318673,
          3.3853530728530745,
          3.406784188034187,
          3.3361314611314614,
          3.4040496540496545,
          3.36977258852259,
          3.4645909645909647,
          3.509488196988197,
          3.4118080993081,
          3.4601393976393973,
          3.3753688441188454,
          3.345352564102565,
          3.4694876882376886,
          3.4930173992674,
          3.4749567562067543,
          3.5114596052096054,
          3.462873931623932,
          3.415941697191697,
          3.4489468864468873,
          3.420266076516077,
          3.391076516076517,
          3.310185185185185,
          3.3419184981684977,
          3.345988502238504,
          3.418421855921855,
          3.376895095645096,
          3.4272613960113962,
          3.4418879731379732,
          3.37912087912088,
          3.4334299959299948,
          3.3938746438746423,
          3.420647639397639,
          3.376068376068377,
          3.412316849816851,
          3.4310770248270255,
          3.4748931623931623,
          3.3990257427757427,
          3.3798204110704106,
          3.502302096052096,
          3.5014753764753768,
          3.4415064102564106,
          3.3324430199430193,
          3.4511090761090766,
          3.387706043956044,
          3.375305250305251,
          3.4947980260480267,
          3.3696454008954007,
          3.394256206756206,
          3.48048941798942,
          3.4099638787138793,
          3.336640211640212,
          3.4988044363044355,
          3.4009335571835564,
          3.4782000407000417,
          3.4052579365079367,
          3.4277065527065536,
          3.5040191290191296,
          3.4709503459503455,
          3.4767373829873844,
          3.3905041717541735,
          3.4788359788359813,
          3.392221204721205,
          3.4272613960113953,
          3.3737154049654063,
          3.468724562474563,
          3.4156873219373227,
          3.4277701465201456,
          3.3836996336996346,
          3.41365231990232,
          3.4186126373626387,
          3.398071835571835,
          3.415814509564509,
          3.4623651811151803,
          3.4560693935693934,
          3.4602665852665857,
          3.373588217338218,
          3.3399470899470898,
          3.3197242572242573,
          3.3717439967439966,
          3.357371794871795,
          3.343317562067561,
          3.44233312983313,
          3.374224155474156,
          3.348214285714285,
          3.467579873829876,
          3.448756105006105,
          3.446339540089541,
          3.497977716727716,
          3.4154965404965414,
          3.416068884818886,
          3.3782305657305662,
          3.405639499389499,
          3.4577228327228338,
          3.3885963573463562,
          3.34579772079772,
          3.488693019943019,
          3.528757122507123,
          3.371553215303216,
          3.5109508547008548,
          3.4232549857549865,
          3.3672924297924296,
          3.4010607448107453,
          3.3934294871794877,
          3.392729955229956,
          3.3702177452177455,
          3.3927299552299552,
          3.393811050061051,
          3.568821225071224,
          3.448183760683761,
          3.452762515262517,
          3.3189611314611303,
          3.3859254171754167,
          3.457404863654863,
          3.441506410256409,
          3.352983821733822,
          3.3118386243386255,
          3.4306954619454633,
          3.4802986365486355,
          3.411553724053725,
          3.4195029507529493,
          3.4004884004884013,
          3.4319673382173375,
          3.3157178469678468,
          3.3534289784289766,
          3.400106837606837,
          3.370344932844933,
          3.3735246235246223,
          3.531618844118846,
          3.4426510989011,
          3.4130799755799757,
          3.4196937321937315,
          3.4230006105006106,
          3.4653540903540914,
          3.3825549450549453,
          3.328055046805049,
          3.4035409035409034,
          3.4840506715506723,
          3.4121260683760677,
          3.4352742165242156,
          3.4438593813593825,
          3.3835088522588532,
          3.4032229344729354,
          3.367864774114775,
          3.440679690679692,
          3.425353581603583,
          3.4755926943426947,
          3.3804563492063497,
          3.403413715913715,
          3.4828423890923883,
          3.395082926332926,
          3.5440196377696402,
          3.439852971102971,
          3.3668472730972723,
          3.461538461538462,
          3.3994073056573053,
          3.423636548636549,
          3.3972451159951143,
          3.444240944240946,
          3.421537952787951,
          3.4726037851037854,
          3.3639219576719595,
          3.4538436100936103,
          3.4845594220594216,
          3.557247150997151,
          3.418167480667479,
          3.4160688848188845,
          3.3236034798534804,
          3.4451948514448527,
          3.343889906389908,
          3.4352742165242174,
          3.39711792836793,
          3.3967363654863654,
          3.321886446886447,
          3.4441137566137563,
          3.409773097273096,
          3.4404253154253155,
          3.4464031339031336,
          3.5279304029304015,
          3.4762922262922245,
          3.4781364468864475,
          3.5409671347171354,
          3.3823641636141644,
          3.3786757224257222,
          3.468406593406593,
          3.406211843711844,
          3.324875356125357,
          3.553813085063085,
          3.444177350427349,
          3.5178189865689866,
          3.333969271469273,
          3.3222680097680097,
          3.4070385632885625,
          3.508089133089134,
          3.4988044363044364,
          3.400361212861213,
          3.381855413105413,
          3.4043040293040296,
          3.4692333129833135,
          3.4352106227106227,
          3.4632554945054945,
          3.37613196988197,
          3.400679181929181,
          3.515402421652421,
          3.4879934879934864,
          3.4623651811151817,
          3.4754019129019142,
          3.527739621489624,
          3.453907203907205,
          3.513431013431013,
          3.4905372405372415,
          3.4685337810337824,
          3.493526149776151,
          3.4833511396011385,
          3.45002798127798,
          3.4432870370370368,
          3.440743284493284,
          3.457277676027676,
          3.4111085673585673,
          3.500585063085063,
          3.398326210826211,
          3.523415242165243,
          3.457977207977207,
          3.41568732193732,
          3.4974053724053733,
          3.487929894179894,
          3.415941697191696,
          3.4829695767195754,
          3.45199938949939,
          3.4258623321123323,
          3.367356023606023,
          3.4335571835571836,
          3.4508547008547015,
          3.4621743996744,
          3.4023962148962146,
          3.4642729955229945,
          3.536515567765567,
          3.459439865689865,
          3.448374542124542,
          3.5212530525030523,
          3.4926358363858365,
          3.4786451973951973,
          3.3942562067562054,
          3.4587403337403337,
          3.479217541717542,
          3.4263074888074896,
          3.4550518925518943,
          3.501602564102565,
          3.4797898860398866,
          3.4373092185592182,
          3.3645578958078963,
          3.4118080993081006,
          3.4122532560032575,
          3.4713319088319072,
          3.410027472527472,
          3.4177859177859187,
          3.3727614977614966,
          3.4099638787138793,
          3.40945512820513,
          3.4013787138787137,
          3.4648453398453416,
          3.3987077737077733,
          3.4266254578754576,
          3.456896113146113,
          3.409900284900285,
          3.496133496133496,
          3.461792836792838,
          3.40964590964591,
          3.4640822140822145,
          3.47985347985348,
          3.4474842287342287,
          3.461983618233619,
          3.4193757631257635,
          3.452190170940172,
          3.4521901709401717,
          3.345098188848189,
          3.4847502035002034,
          3.508470695970697,
          3.4038588726088723,
          3.3802655677655675,
          3.4684065934065944,
          3.3414097476597497,
          3.4836055148555154,
          3.419248575498576,
          3.5057361619861616,
          3.448501729751728,
          3.4149241961741947,
          3.459885022385022,
          3.425289987789988,
          3.410536223036224,
          3.5367063492063497,
          3.4883750508750526,
          3.4411884411884426,
          3.446848290598291,
          3.4767373829873836,
          3.494416463166464,
          3.5251958689458713,
          3.4088827838827847,
          3.476101444851446,
          3.3870701058201056,
          3.4304410866910864,
          3.4542251729751734,
          3.42579873829874,
          3.3828093203093204,
          3.5054181929181936,
          3.419248575498575,
          3.4427782865282874,
          3.4559422059422054,
          3.4501551689051695,
          3.4654176841676843,
          3.4230006105006106,
          3.395464489214488,
          3.442015160765161,
          3.4129527879527894,
          3.3715532153032157,
          3.417976699226699,
          3.478645197395199,
          3.4511090761090757,
          3.4098366910866917,
          3.501984126984127,
          3.456705331705331,
          3.460584554334554,
          3.443350630850631,
          3.354764448514448,
          3.4491376678876677,
          3.3956552706552703,
          3.4391534391534386,
          3.4018874643874653,
          3.4294235856735864,
          3.5417938542938554,
          3.414479039479039,
          3.4182946682946693,
          3.4310134310134326,
          3.4462123524623536,
          3.507071632071632,
          3.5010302197802203,
          3.5004578754578755,
          3.366338522588524,
          3.4378179690679684,
          3.447102665852666,
          3.427070614570615,
          3.5130494505494503,
          3.474448005698006,
          3.38230056980057,
          3.498104904354903,
          3.3800747863247884,
          3.4584859584859604
         ],
         "y0": " ",
         "yaxis": "y"
        }
       ],
       "layout": {
        "boxmode": "group",
        "legend": {
         "tracegroupgap": 0
        },
        "template": {
         "data": {
          "bar": [
           {
            "error_x": {
             "color": "rgb(36,36,36)"
            },
            "error_y": {
             "color": "rgb(36,36,36)"
            },
            "marker": {
             "line": {
              "color": "white",
              "width": 0.5
             }
            },
            "type": "bar"
           }
          ],
          "barpolar": [
           {
            "marker": {
             "line": {
              "color": "white",
              "width": 0.5
             }
            },
            "type": "barpolar"
           }
          ],
          "carpet": [
           {
            "aaxis": {
             "endlinecolor": "rgb(36,36,36)",
             "gridcolor": "white",
             "linecolor": "white",
             "minorgridcolor": "white",
             "startlinecolor": "rgb(36,36,36)"
            },
            "baxis": {
             "endlinecolor": "rgb(36,36,36)",
             "gridcolor": "white",
             "linecolor": "white",
             "minorgridcolor": "white",
             "startlinecolor": "rgb(36,36,36)"
            },
            "type": "carpet"
           }
          ],
          "choropleth": [
           {
            "colorbar": {
             "outlinewidth": 1,
             "tickcolor": "rgb(36,36,36)",
             "ticks": "outside"
            },
            "type": "choropleth"
           }
          ],
          "contour": [
           {
            "colorbar": {
             "outlinewidth": 1,
             "tickcolor": "rgb(36,36,36)",
             "ticks": "outside"
            },
            "colorscale": [
             [
              0,
              "#440154"
             ],
             [
              0.1111111111111111,
              "#482878"
             ],
             [
              0.2222222222222222,
              "#3e4989"
             ],
             [
              0.3333333333333333,
              "#31688e"
             ],
             [
              0.4444444444444444,
              "#26828e"
             ],
             [
              0.5555555555555556,
              "#1f9e89"
             ],
             [
              0.6666666666666666,
              "#35b779"
             ],
             [
              0.7777777777777778,
              "#6ece58"
             ],
             [
              0.8888888888888888,
              "#b5de2b"
             ],
             [
              1,
              "#fde725"
             ]
            ],
            "type": "contour"
           }
          ],
          "contourcarpet": [
           {
            "colorbar": {
             "outlinewidth": 1,
             "tickcolor": "rgb(36,36,36)",
             "ticks": "outside"
            },
            "type": "contourcarpet"
           }
          ],
          "heatmap": [
           {
            "colorbar": {
             "outlinewidth": 1,
             "tickcolor": "rgb(36,36,36)",
             "ticks": "outside"
            },
            "colorscale": [
             [
              0,
              "#440154"
             ],
             [
              0.1111111111111111,
              "#482878"
             ],
             [
              0.2222222222222222,
              "#3e4989"
             ],
             [
              0.3333333333333333,
              "#31688e"
             ],
             [
              0.4444444444444444,
              "#26828e"
             ],
             [
              0.5555555555555556,
              "#1f9e89"
             ],
             [
              0.6666666666666666,
              "#35b779"
             ],
             [
              0.7777777777777778,
              "#6ece58"
             ],
             [
              0.8888888888888888,
              "#b5de2b"
             ],
             [
              1,
              "#fde725"
             ]
            ],
            "type": "heatmap"
           }
          ],
          "heatmapgl": [
           {
            "colorbar": {
             "outlinewidth": 1,
             "tickcolor": "rgb(36,36,36)",
             "ticks": "outside"
            },
            "colorscale": [
             [
              0,
              "#440154"
             ],
             [
              0.1111111111111111,
              "#482878"
             ],
             [
              0.2222222222222222,
              "#3e4989"
             ],
             [
              0.3333333333333333,
              "#31688e"
             ],
             [
              0.4444444444444444,
              "#26828e"
             ],
             [
              0.5555555555555556,
              "#1f9e89"
             ],
             [
              0.6666666666666666,
              "#35b779"
             ],
             [
              0.7777777777777778,
              "#6ece58"
             ],
             [
              0.8888888888888888,
              "#b5de2b"
             ],
             [
              1,
              "#fde725"
             ]
            ],
            "type": "heatmapgl"
           }
          ],
          "histogram": [
           {
            "marker": {
             "line": {
              "color": "white",
              "width": 0.6
             }
            },
            "type": "histogram"
           }
          ],
          "histogram2d": [
           {
            "colorbar": {
             "outlinewidth": 1,
             "tickcolor": "rgb(36,36,36)",
             "ticks": "outside"
            },
            "colorscale": [
             [
              0,
              "#440154"
             ],
             [
              0.1111111111111111,
              "#482878"
             ],
             [
              0.2222222222222222,
              "#3e4989"
             ],
             [
              0.3333333333333333,
              "#31688e"
             ],
             [
              0.4444444444444444,
              "#26828e"
             ],
             [
              0.5555555555555556,
              "#1f9e89"
             ],
             [
              0.6666666666666666,
              "#35b779"
             ],
             [
              0.7777777777777778,
              "#6ece58"
             ],
             [
              0.8888888888888888,
              "#b5de2b"
             ],
             [
              1,
              "#fde725"
             ]
            ],
            "type": "histogram2d"
           }
          ],
          "histogram2dcontour": [
           {
            "colorbar": {
             "outlinewidth": 1,
             "tickcolor": "rgb(36,36,36)",
             "ticks": "outside"
            },
            "colorscale": [
             [
              0,
              "#440154"
             ],
             [
              0.1111111111111111,
              "#482878"
             ],
             [
              0.2222222222222222,
              "#3e4989"
             ],
             [
              0.3333333333333333,
              "#31688e"
             ],
             [
              0.4444444444444444,
              "#26828e"
             ],
             [
              0.5555555555555556,
              "#1f9e89"
             ],
             [
              0.6666666666666666,
              "#35b779"
             ],
             [
              0.7777777777777778,
              "#6ece58"
             ],
             [
              0.8888888888888888,
              "#b5de2b"
             ],
             [
              1,
              "#fde725"
             ]
            ],
            "type": "histogram2dcontour"
           }
          ],
          "mesh3d": [
           {
            "colorbar": {
             "outlinewidth": 1,
             "tickcolor": "rgb(36,36,36)",
             "ticks": "outside"
            },
            "type": "mesh3d"
           }
          ],
          "parcoords": [
           {
            "line": {
             "colorbar": {
              "outlinewidth": 1,
              "tickcolor": "rgb(36,36,36)",
              "ticks": "outside"
             }
            },
            "type": "parcoords"
           }
          ],
          "pie": [
           {
            "automargin": true,
            "type": "pie"
           }
          ],
          "scatter": [
           {
            "marker": {
             "colorbar": {
              "outlinewidth": 1,
              "tickcolor": "rgb(36,36,36)",
              "ticks": "outside"
             }
            },
            "type": "scatter"
           }
          ],
          "scatter3d": [
           {
            "line": {
             "colorbar": {
              "outlinewidth": 1,
              "tickcolor": "rgb(36,36,36)",
              "ticks": "outside"
             }
            },
            "marker": {
             "colorbar": {
              "outlinewidth": 1,
              "tickcolor": "rgb(36,36,36)",
              "ticks": "outside"
             }
            },
            "type": "scatter3d"
           }
          ],
          "scattercarpet": [
           {
            "marker": {
             "colorbar": {
              "outlinewidth": 1,
              "tickcolor": "rgb(36,36,36)",
              "ticks": "outside"
             }
            },
            "type": "scattercarpet"
           }
          ],
          "scattergeo": [
           {
            "marker": {
             "colorbar": {
              "outlinewidth": 1,
              "tickcolor": "rgb(36,36,36)",
              "ticks": "outside"
             }
            },
            "type": "scattergeo"
           }
          ],
          "scattergl": [
           {
            "marker": {
             "colorbar": {
              "outlinewidth": 1,
              "tickcolor": "rgb(36,36,36)",
              "ticks": "outside"
             }
            },
            "type": "scattergl"
           }
          ],
          "scattermapbox": [
           {
            "marker": {
             "colorbar": {
              "outlinewidth": 1,
              "tickcolor": "rgb(36,36,36)",
              "ticks": "outside"
             }
            },
            "type": "scattermapbox"
           }
          ],
          "scatterpolar": [
           {
            "marker": {
             "colorbar": {
              "outlinewidth": 1,
              "tickcolor": "rgb(36,36,36)",
              "ticks": "outside"
             }
            },
            "type": "scatterpolar"
           }
          ],
          "scatterpolargl": [
           {
            "marker": {
             "colorbar": {
              "outlinewidth": 1,
              "tickcolor": "rgb(36,36,36)",
              "ticks": "outside"
             }
            },
            "type": "scatterpolargl"
           }
          ],
          "scatterternary": [
           {
            "marker": {
             "colorbar": {
              "outlinewidth": 1,
              "tickcolor": "rgb(36,36,36)",
              "ticks": "outside"
             }
            },
            "type": "scatterternary"
           }
          ],
          "surface": [
           {
            "colorbar": {
             "outlinewidth": 1,
             "tickcolor": "rgb(36,36,36)",
             "ticks": "outside"
            },
            "colorscale": [
             [
              0,
              "#440154"
             ],
             [
              0.1111111111111111,
              "#482878"
             ],
             [
              0.2222222222222222,
              "#3e4989"
             ],
             [
              0.3333333333333333,
              "#31688e"
             ],
             [
              0.4444444444444444,
              "#26828e"
             ],
             [
              0.5555555555555556,
              "#1f9e89"
             ],
             [
              0.6666666666666666,
              "#35b779"
             ],
             [
              0.7777777777777778,
              "#6ece58"
             ],
             [
              0.8888888888888888,
              "#b5de2b"
             ],
             [
              1,
              "#fde725"
             ]
            ],
            "type": "surface"
           }
          ],
          "table": [
           {
            "cells": {
             "fill": {
              "color": "rgb(237,237,237)"
             },
             "line": {
              "color": "white"
             }
            },
            "header": {
             "fill": {
              "color": "rgb(217,217,217)"
             },
             "line": {
              "color": "white"
             }
            },
            "type": "table"
           }
          ]
         },
         "layout": {
          "annotationdefaults": {
           "arrowhead": 0,
           "arrowwidth": 1
          },
          "coloraxis": {
           "colorbar": {
            "outlinewidth": 1,
            "tickcolor": "rgb(36,36,36)",
            "ticks": "outside"
           }
          },
          "colorscale": {
           "diverging": [
            [
             0,
             "rgb(103,0,31)"
            ],
            [
             0.1,
             "rgb(178,24,43)"
            ],
            [
             0.2,
             "rgb(214,96,77)"
            ],
            [
             0.3,
             "rgb(244,165,130)"
            ],
            [
             0.4,
             "rgb(253,219,199)"
            ],
            [
             0.5,
             "rgb(247,247,247)"
            ],
            [
             0.6,
             "rgb(209,229,240)"
            ],
            [
             0.7,
             "rgb(146,197,222)"
            ],
            [
             0.8,
             "rgb(67,147,195)"
            ],
            [
             0.9,
             "rgb(33,102,172)"
            ],
            [
             1,
             "rgb(5,48,97)"
            ]
           ],
           "sequential": [
            [
             0,
             "#440154"
            ],
            [
             0.1111111111111111,
             "#482878"
            ],
            [
             0.2222222222222222,
             "#3e4989"
            ],
            [
             0.3333333333333333,
             "#31688e"
            ],
            [
             0.4444444444444444,
             "#26828e"
            ],
            [
             0.5555555555555556,
             "#1f9e89"
            ],
            [
             0.6666666666666666,
             "#35b779"
            ],
            [
             0.7777777777777778,
             "#6ece58"
            ],
            [
             0.8888888888888888,
             "#b5de2b"
            ],
            [
             1,
             "#fde725"
            ]
           ],
           "sequentialminus": [
            [
             0,
             "#440154"
            ],
            [
             0.1111111111111111,
             "#482878"
            ],
            [
             0.2222222222222222,
             "#3e4989"
            ],
            [
             0.3333333333333333,
             "#31688e"
            ],
            [
             0.4444444444444444,
             "#26828e"
            ],
            [
             0.5555555555555556,
             "#1f9e89"
            ],
            [
             0.6666666666666666,
             "#35b779"
            ],
            [
             0.7777777777777778,
             "#6ece58"
            ],
            [
             0.8888888888888888,
             "#b5de2b"
            ],
            [
             1,
             "#fde725"
            ]
           ]
          },
          "colorway": [
           "#1F77B4",
           "#FF7F0E",
           "#2CA02C",
           "#D62728",
           "#9467BD",
           "#8C564B",
           "#E377C2",
           "#7F7F7F",
           "#BCBD22",
           "#17BECF"
          ],
          "font": {
           "color": "rgb(36,36,36)"
          },
          "geo": {
           "bgcolor": "white",
           "lakecolor": "white",
           "landcolor": "white",
           "showlakes": true,
           "showland": true,
           "subunitcolor": "white"
          },
          "hoverlabel": {
           "align": "left"
          },
          "hovermode": "closest",
          "mapbox": {
           "style": "light"
          },
          "paper_bgcolor": "white",
          "plot_bgcolor": "white",
          "polar": {
           "angularaxis": {
            "gridcolor": "rgb(232,232,232)",
            "linecolor": "rgb(36,36,36)",
            "showgrid": false,
            "showline": true,
            "ticks": "outside"
           },
           "bgcolor": "white",
           "radialaxis": {
            "gridcolor": "rgb(232,232,232)",
            "linecolor": "rgb(36,36,36)",
            "showgrid": false,
            "showline": true,
            "ticks": "outside"
           }
          },
          "scene": {
           "xaxis": {
            "backgroundcolor": "white",
            "gridcolor": "rgb(232,232,232)",
            "gridwidth": 2,
            "linecolor": "rgb(36,36,36)",
            "showbackground": true,
            "showgrid": false,
            "showline": true,
            "ticks": "outside",
            "zeroline": false,
            "zerolinecolor": "rgb(36,36,36)"
           },
           "yaxis": {
            "backgroundcolor": "white",
            "gridcolor": "rgb(232,232,232)",
            "gridwidth": 2,
            "linecolor": "rgb(36,36,36)",
            "showbackground": true,
            "showgrid": false,
            "showline": true,
            "ticks": "outside",
            "zeroline": false,
            "zerolinecolor": "rgb(36,36,36)"
           },
           "zaxis": {
            "backgroundcolor": "white",
            "gridcolor": "rgb(232,232,232)",
            "gridwidth": 2,
            "linecolor": "rgb(36,36,36)",
            "showbackground": true,
            "showgrid": false,
            "showline": true,
            "ticks": "outside",
            "zeroline": false,
            "zerolinecolor": "rgb(36,36,36)"
           }
          },
          "shapedefaults": {
           "fillcolor": "black",
           "line": {
            "width": 0
           },
           "opacity": 0.3
          },
          "ternary": {
           "aaxis": {
            "gridcolor": "rgb(232,232,232)",
            "linecolor": "rgb(36,36,36)",
            "showgrid": false,
            "showline": true,
            "ticks": "outside"
           },
           "baxis": {
            "gridcolor": "rgb(232,232,232)",
            "linecolor": "rgb(36,36,36)",
            "showgrid": false,
            "showline": true,
            "ticks": "outside"
           },
           "bgcolor": "white",
           "caxis": {
            "gridcolor": "rgb(232,232,232)",
            "linecolor": "rgb(36,36,36)",
            "showgrid": false,
            "showline": true,
            "ticks": "outside"
           }
          },
          "title": {
           "x": 0.05
          },
          "xaxis": {
           "automargin": true,
           "gridcolor": "rgb(232,232,232)",
           "linecolor": "rgb(36,36,36)",
           "showgrid": false,
           "showline": true,
           "ticks": "outside",
           "title": {
            "standoff": 15
           },
           "zeroline": false,
           "zerolinecolor": "rgb(36,36,36)"
          },
          "yaxis": {
           "automargin": true,
           "gridcolor": "rgb(232,232,232)",
           "linecolor": "rgb(36,36,36)",
           "showgrid": false,
           "showline": true,
           "ticks": "outside",
           "title": {
            "standoff": 15
           },
           "zeroline": false,
           "zerolinecolor": "rgb(36,36,36)"
          }
         }
        },
        "title": {
         "text": "HousePressure g-pump-6 for 51, 52, 1, 2 weeks "
        },
        "xaxis": {
         "anchor": "y",
         "domain": [
          0,
          1
         ],
         "title": {
          "text": "week"
         },
         "type": "category"
        },
        "yaxis": {
         "anchor": "x",
         "domain": [
          0,
          1
         ],
         "title": {
          "text": "feature_value"
         }
        }
       }
      },
      "text/html": [
       "<div>\n",
       "        \n",
       "        \n",
       "            <div id=\"50e50ae4-b853-4fe0-91d1-7812371732c9\" class=\"plotly-graph-div\" style=\"height:525px; width:100%;\"></div>\n",
       "            <script type=\"text/javascript\">\n",
       "                require([\"plotly\"], function(Plotly) {\n",
       "                    window.PLOTLYENV=window.PLOTLYENV || {};\n",
       "                    \n",
       "                if (document.getElementById(\"50e50ae4-b853-4fe0-91d1-7812371732c9\")) {\n",
       "                    Plotly.newPlot(\n",
       "                        '50e50ae4-b853-4fe0-91d1-7812371732c9',\n",
       "                        [{\"alignmentgroup\": \"True\", \"hoverlabel\": {\"namelength\": 0}, \"hovertemplate\": \"week=%{x}<br>feature_value=%{y}\", \"legendgroup\": \"\", \"marker\": {\"color\": \"#1F77B4\"}, \"name\": \"\", \"notched\": false, \"offsetgroup\": \"\", \"orientation\": \"v\", \"showlegend\": false, \"type\": \"box\", \"x\": [51, 51, 51, 51, 51, 51, 51, 51, 51, 51, 51, 51, 51, 51, 51, 51, 51, 51, 51, 51, 51, 51, 51, 51, 51, 51, 51, 51, 51, 51, 51, 51, 51, 51, 51, 51, 51, 51, 51, 51, 51, 51, 51, 51, 51, 51, 51, 51, 51, 51, 51, 51, 51, 51, 51, 51, 51, 51, 51, 51, 51, 51, 51, 51, 51, 51, 51, 51, 51, 51, 51, 51, 51, 51, 51, 51, 51, 51, 51, 51, 51, 51, 51, 51, 51, 51, 51, 51, 51, 51, 51, 51, 51, 51, 51, 51, 51, 51, 51, 51, 51, 51, 51, 51, 51, 51, 51, 51, 51, 51, 51, 51, 51, 51, 51, 51, 51, 51, 51, 51, 51, 51, 51, 51, 51, 51, 51, 51, 51, 51, 51, 51, 51, 51, 51, 51, 51, 51, 51, 51, 51, 51, 51, 51, 51, 51, 51, 51, 52, 52, 52, 52, 52, 52, 52, 52, 52, 52, 52, 52, 52, 52, 52, 52, 52, 52, 52, 52, 52, 52, 52, 52, 52, 52, 52, 52, 52, 52, 52, 52, 52, 52, 52, 52, 52, 52, 52, 52, 52, 52, 52, 52, 52, 52, 52, 52, 52, 52, 52, 52, 52, 52, 52, 52, 52, 52, 52, 52, 52, 52, 52, 52, 52, 52, 52, 52, 52, 52, 52, 52, 52, 52, 52, 52, 52, 52, 52, 52, 52, 52, 52, 52, 52, 52, 52, 52, 52, 52, 52, 52, 52, 52, 52, 52, 52, 52, 52, 52, 52, 52, 52, 52, 52, 52, 52, 52, 52, 52, 52, 52, 52, 52, 52, 52, 52, 52, 52, 52, 52, 52, 52, 52, 52, 52, 52, 52, 52, 52, 52, 52, 52, 52, 52, 52, 52, 52, 52, 52, 52, 52, 52, 52, 52, 52, 52, 52, 52, 52, 52, 52, 52, 52, 52, 52, 52, 52, 52, 52, 52, 52, 52, 52, 52, 52, 1, 1, 1, 1, 1, 1, 1, 1, 1, 1, 1, 1, 1, 1, 1, 1, 1, 1, 1, 1, 1, 1, 1, 1, 1, 1, 1, 1, 1, 1, 1, 1, 1, 1, 1, 1, 1, 1, 1, 1, 1, 1, 1, 1, 1, 1, 1, 1, 1, 1, 1, 1, 1, 1, 1, 1, 1, 1, 1, 1, 1, 1, 1, 1, 1, 1, 1, 1, 1, 1, 1, 1, 1, 1, 1, 1, 1, 1, 1, 1, 1, 1, 1, 1, 1, 1, 1, 1, 1, 1, 1, 1, 1, 1, 1, 1, 1, 1, 1, 1, 1, 1, 1, 1, 1, 1, 1, 1, 1, 1, 1, 1, 1, 1, 1, 1, 1, 1, 1, 1, 1, 1, 1, 1, 1, 1, 1, 1, 1, 1, 1, 1, 1, 1, 1, 1, 1, 1, 1, 1, 1, 1, 1, 1, 1, 1, 1, 1, 1, 1, 1, 1, 1, 1, 1, 1, 1, 1, 1, 1, 1, 1, 1, 1, 1, 1, 2, 2, 2, 2, 2, 2, 2, 2, 2, 2, 2, 2, 2, 2, 2, 2, 2], \"x0\": \" \", \"xaxis\": \"x\", \"y\": [3.5958485958485955, 3.5091066341066344, 3.5313644688644685, 3.4673254985754998, 3.5156567969067987, 3.474702380952379, 3.432221713471714, 3.5840201465201473, 3.381919006919006, 3.4708231583231597, 3.466880341880343, 3.4495828245828233, 3.4692333129833117, 3.495561151811152, 3.359152421652423, 3.3795024420024427, 3.391712454212456, 3.393047924297926, 3.43533781033781, 3.41199888074888, 3.444622507122505, 3.502620065120063, 3.5202355514855515, 3.485831298331298, 3.4165776353276347, 3.4258623321123323, 3.46287393162393, 3.3740333740333743, 3.527548840048841, 3.3422364672364666, 3.438581094831095, 3.433684371184373, 3.440425315425316, 3.3239850427350413, 3.4335571835571823, 3.4385810948310964, 3.5036375661375665, 3.3657025844525847, 3.386688542938543, 3.3826821326821332, 3.3310439560439566, 3.4353378103378094, 3.291107041107041, 3.4199481074481093, 3.382173382173383, 3.406784188034186, 3.3475147537647536, 3.507580382580381, 3.374351343101343, 3.503637566137567, 3.4366732804232805, 3.471777065527067, 3.4913003663003663, 3.528121184371185, 3.5075167887667864, 3.483223951973954, 3.52653133903134, 3.499567562067563, 3.385416666666666, 3.4289148351648358, 3.531809625559625, 3.4784544159544164, 3.484432234432234, 3.4623015873015883, 3.4663715913715922, 3.502492877492878, 3.4787087912087906, 3.4362917175417187, 3.471904253154255, 3.5441468253968247, 3.4971509971509964, 3.4899013024013015, 3.4733033170533165, 3.408564814814816, 3.395909645909645, 3.4537164224664223, 3.269993894993895, 3.4342567155067147, 3.426307488807488, 3.4207748270248275, 3.3572446072446067, 3.4126984126984135, 3.4402345339845355, 3.4444953194953203, 3.3556547619047628, 3.423064204314205, 3.3240486365486377, 3.4273885836385865, 3.41117216117216, 3.4512362637362632, 3.3672924297924296, 3.4626195563695563, 3.423700142450142, 3.4275157712657713, 3.3798840048840044, 3.4200117012617017, 3.4745115995115996, 3.4321581196581192, 3.4266890516890527, 3.2822675010175, 3.4932081807081814, 3.403095746845749, 3.332760989010989, 3.424018111518112, 3.375050875050876, 3.3653210215710216, 3.444622507122507, 3.4322217134717135, 3.4364824989824982, 3.395400895400894, 3.4095823158323153, 3.3571174196174187, 3.3762591575091583, 3.4257351444851434, 3.3600427350427347, 3.3775946275946276, 3.4125712250712255, 3.5718737281237285, 3.3972451159951156, 3.3640491452991452, 3.3583257020757027, 3.3846535409035425, 3.372634310134309, 3.431903744403744, 3.359788359788359, 3.401378713878714, 3.4541615791615805, 3.4232549857549857, 3.4386446886446893, 3.435910154660155, 3.4310770248270255, 3.4046219983719985, 3.3904405779405784, 3.3436355311355315, 3.370281339031339, 3.3832544770044763, 3.335368335368335, 3.4186126373626364, 3.379438848188849, 3.3676739926739923, 3.524814306064305, 3.4706323768823775, 3.457277676027676, 3.4995675620675613, 3.3937474562474566, 3.43101343101343, 3.441188441188439, 3.4872303622303615, 3.5030652218152216, 3.3626500814000817, 3.4542251729751716, 3.4306318681318673, 3.3853530728530745, 3.406784188034187, 3.3361314611314614, 3.4040496540496545, 3.36977258852259, 3.4645909645909647, 3.509488196988197, 3.4118080993081, 3.4601393976393973, 3.3753688441188454, 3.345352564102565, 3.4694876882376886, 3.4930173992674, 3.4749567562067543, 3.5114596052096054, 3.462873931623932, 3.415941697191697, 3.4489468864468873, 3.420266076516077, 3.391076516076517, 3.310185185185185, 3.3419184981684977, 3.345988502238504, 3.418421855921855, 3.376895095645096, 3.4272613960113962, 3.4418879731379732, 3.37912087912088, 3.4334299959299948, 3.3938746438746423, 3.420647639397639, 3.376068376068377, 3.412316849816851, 3.4310770248270255, 3.4748931623931623, 3.3990257427757427, 3.3798204110704106, 3.502302096052096, 3.5014753764753768, 3.4415064102564106, 3.3324430199430193, 3.4511090761090766, 3.387706043956044, 3.375305250305251, 3.4947980260480267, 3.3696454008954007, 3.394256206756206, 3.48048941798942, 3.4099638787138793, 3.336640211640212, 3.4988044363044355, 3.4009335571835564, 3.4782000407000417, 3.4052579365079367, 3.4277065527065536, 3.5040191290191296, 3.4709503459503455, 3.4767373829873844, 3.3905041717541735, 3.4788359788359813, 3.392221204721205, 3.4272613960113953, 3.3737154049654063, 3.468724562474563, 3.4156873219373227, 3.4277701465201456, 3.3836996336996346, 3.41365231990232, 3.4186126373626387, 3.398071835571835, 3.415814509564509, 3.4623651811151803, 3.4560693935693934, 3.4602665852665857, 3.373588217338218, 3.3399470899470898, 3.3197242572242573, 3.3717439967439966, 3.357371794871795, 3.343317562067561, 3.44233312983313, 3.374224155474156, 3.348214285714285, 3.467579873829876, 3.448756105006105, 3.446339540089541, 3.497977716727716, 3.4154965404965414, 3.416068884818886, 3.3782305657305662, 3.405639499389499, 3.4577228327228338, 3.3885963573463562, 3.34579772079772, 3.488693019943019, 3.528757122507123, 3.371553215303216, 3.5109508547008548, 3.4232549857549865, 3.3672924297924296, 3.4010607448107453, 3.3934294871794877, 3.392729955229956, 3.3702177452177455, 3.3927299552299552, 3.393811050061051, 3.568821225071224, 3.448183760683761, 3.452762515262517, 3.3189611314611303, 3.3859254171754167, 3.457404863654863, 3.441506410256409, 3.352983821733822, 3.3118386243386255, 3.4306954619454633, 3.4802986365486355, 3.411553724053725, 3.4195029507529493, 3.4004884004884013, 3.4319673382173375, 3.3157178469678468, 3.3534289784289766, 3.400106837606837, 3.370344932844933, 3.3735246235246223, 3.531618844118846, 3.4426510989011, 3.4130799755799757, 3.4196937321937315, 3.4230006105006106, 3.4653540903540914, 3.3825549450549453, 3.328055046805049, 3.4035409035409034, 3.4840506715506723, 3.4121260683760677, 3.4352742165242156, 3.4438593813593825, 3.3835088522588532, 3.4032229344729354, 3.367864774114775, 3.440679690679692, 3.425353581603583, 3.4755926943426947, 3.3804563492063497, 3.403413715913715, 3.4828423890923883, 3.395082926332926, 3.5440196377696402, 3.439852971102971, 3.3668472730972723, 3.461538461538462, 3.3994073056573053, 3.423636548636549, 3.3972451159951143, 3.444240944240946, 3.421537952787951, 3.4726037851037854, 3.3639219576719595, 3.4538436100936103, 3.4845594220594216, 3.557247150997151, 3.418167480667479, 3.4160688848188845, 3.3236034798534804, 3.4451948514448527, 3.343889906389908, 3.4352742165242174, 3.39711792836793, 3.3967363654863654, 3.321886446886447, 3.4441137566137563, 3.409773097273096, 3.4404253154253155, 3.4464031339031336, 3.5279304029304015, 3.4762922262922245, 3.4781364468864475, 3.5409671347171354, 3.3823641636141644, 3.3786757224257222, 3.468406593406593, 3.406211843711844, 3.324875356125357, 3.553813085063085, 3.444177350427349, 3.5178189865689866, 3.333969271469273, 3.3222680097680097, 3.4070385632885625, 3.508089133089134, 3.4988044363044364, 3.400361212861213, 3.381855413105413, 3.4043040293040296, 3.4692333129833135, 3.4352106227106227, 3.4632554945054945, 3.37613196988197, 3.400679181929181, 3.515402421652421, 3.4879934879934864, 3.4623651811151817, 3.4754019129019142, 3.527739621489624, 3.453907203907205, 3.513431013431013, 3.4905372405372415, 3.4685337810337824, 3.493526149776151, 3.4833511396011385, 3.45002798127798, 3.4432870370370368, 3.440743284493284, 3.457277676027676, 3.4111085673585673, 3.500585063085063, 3.398326210826211, 3.523415242165243, 3.457977207977207, 3.41568732193732, 3.4974053724053733, 3.487929894179894, 3.415941697191696, 3.4829695767195754, 3.45199938949939, 3.4258623321123323, 3.367356023606023, 3.4335571835571836, 3.4508547008547015, 3.4621743996744, 3.4023962148962146, 3.4642729955229945, 3.536515567765567, 3.459439865689865, 3.448374542124542, 3.5212530525030523, 3.4926358363858365, 3.4786451973951973, 3.3942562067562054, 3.4587403337403337, 3.479217541717542, 3.4263074888074896, 3.4550518925518943, 3.501602564102565, 3.4797898860398866, 3.4373092185592182, 3.3645578958078963, 3.4118080993081006, 3.4122532560032575, 3.4713319088319072, 3.410027472527472, 3.4177859177859187, 3.3727614977614966, 3.4099638787138793, 3.40945512820513, 3.4013787138787137, 3.4648453398453416, 3.3987077737077733, 3.4266254578754576, 3.456896113146113, 3.409900284900285, 3.496133496133496, 3.461792836792838, 3.40964590964591, 3.4640822140822145, 3.47985347985348, 3.4474842287342287, 3.461983618233619, 3.4193757631257635, 3.452190170940172, 3.4521901709401717, 3.345098188848189, 3.4847502035002034, 3.508470695970697, 3.4038588726088723, 3.3802655677655675, 3.4684065934065944, 3.3414097476597497, 3.4836055148555154, 3.419248575498576, 3.5057361619861616, 3.448501729751728, 3.4149241961741947, 3.459885022385022, 3.425289987789988, 3.410536223036224, 3.5367063492063497, 3.4883750508750526, 3.4411884411884426, 3.446848290598291, 3.4767373829873836, 3.494416463166464, 3.5251958689458713, 3.4088827838827847, 3.476101444851446, 3.3870701058201056, 3.4304410866910864, 3.4542251729751734, 3.42579873829874, 3.3828093203093204, 3.5054181929181936, 3.419248575498575, 3.4427782865282874, 3.4559422059422054, 3.4501551689051695, 3.4654176841676843, 3.4230006105006106, 3.395464489214488, 3.442015160765161, 3.4129527879527894, 3.3715532153032157, 3.417976699226699, 3.478645197395199, 3.4511090761090757, 3.4098366910866917, 3.501984126984127, 3.456705331705331, 3.460584554334554, 3.443350630850631, 3.354764448514448, 3.4491376678876677, 3.3956552706552703, 3.4391534391534386, 3.4018874643874653, 3.4294235856735864, 3.5417938542938554, 3.414479039479039, 3.4182946682946693, 3.4310134310134326, 3.4462123524623536, 3.507071632071632, 3.5010302197802203, 3.5004578754578755, 3.366338522588524, 3.4378179690679684, 3.447102665852666, 3.427070614570615, 3.5130494505494503, 3.474448005698006, 3.38230056980057, 3.498104904354903, 3.3800747863247884, 3.4584859584859604], \"y0\": \" \", \"yaxis\": \"y\"}],\n",
       "                        {\"boxmode\": \"group\", \"legend\": {\"tracegroupgap\": 0}, \"template\": {\"data\": {\"bar\": [{\"error_x\": {\"color\": \"rgb(36,36,36)\"}, \"error_y\": {\"color\": \"rgb(36,36,36)\"}, \"marker\": {\"line\": {\"color\": \"white\", \"width\": 0.5}}, \"type\": \"bar\"}], \"barpolar\": [{\"marker\": {\"line\": {\"color\": \"white\", \"width\": 0.5}}, \"type\": \"barpolar\"}], \"carpet\": [{\"aaxis\": {\"endlinecolor\": \"rgb(36,36,36)\", \"gridcolor\": \"white\", \"linecolor\": \"white\", \"minorgridcolor\": \"white\", \"startlinecolor\": \"rgb(36,36,36)\"}, \"baxis\": {\"endlinecolor\": \"rgb(36,36,36)\", \"gridcolor\": \"white\", \"linecolor\": \"white\", \"minorgridcolor\": \"white\", \"startlinecolor\": \"rgb(36,36,36)\"}, \"type\": \"carpet\"}], \"choropleth\": [{\"colorbar\": {\"outlinewidth\": 1, \"tickcolor\": \"rgb(36,36,36)\", \"ticks\": \"outside\"}, \"type\": \"choropleth\"}], \"contour\": [{\"colorbar\": {\"outlinewidth\": 1, \"tickcolor\": \"rgb(36,36,36)\", \"ticks\": \"outside\"}, \"colorscale\": [[0.0, \"#440154\"], [0.1111111111111111, \"#482878\"], [0.2222222222222222, \"#3e4989\"], [0.3333333333333333, \"#31688e\"], [0.4444444444444444, \"#26828e\"], [0.5555555555555556, \"#1f9e89\"], [0.6666666666666666, \"#35b779\"], [0.7777777777777778, \"#6ece58\"], [0.8888888888888888, \"#b5de2b\"], [1.0, \"#fde725\"]], \"type\": \"contour\"}], \"contourcarpet\": [{\"colorbar\": {\"outlinewidth\": 1, \"tickcolor\": \"rgb(36,36,36)\", \"ticks\": \"outside\"}, \"type\": \"contourcarpet\"}], \"heatmap\": [{\"colorbar\": {\"outlinewidth\": 1, \"tickcolor\": \"rgb(36,36,36)\", \"ticks\": \"outside\"}, \"colorscale\": [[0.0, \"#440154\"], [0.1111111111111111, \"#482878\"], [0.2222222222222222, \"#3e4989\"], [0.3333333333333333, \"#31688e\"], [0.4444444444444444, \"#26828e\"], [0.5555555555555556, \"#1f9e89\"], [0.6666666666666666, \"#35b779\"], [0.7777777777777778, \"#6ece58\"], [0.8888888888888888, \"#b5de2b\"], [1.0, \"#fde725\"]], \"type\": \"heatmap\"}], \"heatmapgl\": [{\"colorbar\": {\"outlinewidth\": 1, \"tickcolor\": \"rgb(36,36,36)\", \"ticks\": \"outside\"}, \"colorscale\": [[0.0, \"#440154\"], [0.1111111111111111, \"#482878\"], [0.2222222222222222, \"#3e4989\"], [0.3333333333333333, \"#31688e\"], [0.4444444444444444, \"#26828e\"], [0.5555555555555556, \"#1f9e89\"], [0.6666666666666666, \"#35b779\"], [0.7777777777777778, \"#6ece58\"], [0.8888888888888888, \"#b5de2b\"], [1.0, \"#fde725\"]], \"type\": \"heatmapgl\"}], \"histogram\": [{\"marker\": {\"line\": {\"color\": \"white\", \"width\": 0.6}}, \"type\": \"histogram\"}], \"histogram2d\": [{\"colorbar\": {\"outlinewidth\": 1, \"tickcolor\": \"rgb(36,36,36)\", \"ticks\": \"outside\"}, \"colorscale\": [[0.0, \"#440154\"], [0.1111111111111111, \"#482878\"], [0.2222222222222222, \"#3e4989\"], [0.3333333333333333, \"#31688e\"], [0.4444444444444444, \"#26828e\"], [0.5555555555555556, \"#1f9e89\"], [0.6666666666666666, \"#35b779\"], [0.7777777777777778, \"#6ece58\"], [0.8888888888888888, \"#b5de2b\"], [1.0, \"#fde725\"]], \"type\": \"histogram2d\"}], \"histogram2dcontour\": [{\"colorbar\": {\"outlinewidth\": 1, \"tickcolor\": \"rgb(36,36,36)\", \"ticks\": \"outside\"}, \"colorscale\": [[0.0, \"#440154\"], [0.1111111111111111, \"#482878\"], [0.2222222222222222, \"#3e4989\"], [0.3333333333333333, \"#31688e\"], [0.4444444444444444, \"#26828e\"], [0.5555555555555556, \"#1f9e89\"], [0.6666666666666666, \"#35b779\"], [0.7777777777777778, \"#6ece58\"], [0.8888888888888888, \"#b5de2b\"], [1.0, \"#fde725\"]], \"type\": \"histogram2dcontour\"}], \"mesh3d\": [{\"colorbar\": {\"outlinewidth\": 1, \"tickcolor\": \"rgb(36,36,36)\", \"ticks\": \"outside\"}, \"type\": \"mesh3d\"}], \"parcoords\": [{\"line\": {\"colorbar\": {\"outlinewidth\": 1, \"tickcolor\": \"rgb(36,36,36)\", \"ticks\": \"outside\"}}, \"type\": \"parcoords\"}], \"pie\": [{\"automargin\": true, \"type\": \"pie\"}], \"scatter\": [{\"marker\": {\"colorbar\": {\"outlinewidth\": 1, \"tickcolor\": \"rgb(36,36,36)\", \"ticks\": \"outside\"}}, \"type\": \"scatter\"}], \"scatter3d\": [{\"line\": {\"colorbar\": {\"outlinewidth\": 1, \"tickcolor\": \"rgb(36,36,36)\", \"ticks\": \"outside\"}}, \"marker\": {\"colorbar\": {\"outlinewidth\": 1, \"tickcolor\": \"rgb(36,36,36)\", \"ticks\": \"outside\"}}, \"type\": \"scatter3d\"}], \"scattercarpet\": [{\"marker\": {\"colorbar\": {\"outlinewidth\": 1, \"tickcolor\": \"rgb(36,36,36)\", \"ticks\": \"outside\"}}, \"type\": \"scattercarpet\"}], \"scattergeo\": [{\"marker\": {\"colorbar\": {\"outlinewidth\": 1, \"tickcolor\": \"rgb(36,36,36)\", \"ticks\": \"outside\"}}, \"type\": \"scattergeo\"}], \"scattergl\": [{\"marker\": {\"colorbar\": {\"outlinewidth\": 1, \"tickcolor\": \"rgb(36,36,36)\", \"ticks\": \"outside\"}}, \"type\": \"scattergl\"}], \"scattermapbox\": [{\"marker\": {\"colorbar\": {\"outlinewidth\": 1, \"tickcolor\": \"rgb(36,36,36)\", \"ticks\": \"outside\"}}, \"type\": \"scattermapbox\"}], \"scatterpolar\": [{\"marker\": {\"colorbar\": {\"outlinewidth\": 1, \"tickcolor\": \"rgb(36,36,36)\", \"ticks\": \"outside\"}}, \"type\": \"scatterpolar\"}], \"scatterpolargl\": [{\"marker\": {\"colorbar\": {\"outlinewidth\": 1, \"tickcolor\": \"rgb(36,36,36)\", \"ticks\": \"outside\"}}, \"type\": \"scatterpolargl\"}], \"scatterternary\": [{\"marker\": {\"colorbar\": {\"outlinewidth\": 1, \"tickcolor\": \"rgb(36,36,36)\", \"ticks\": \"outside\"}}, \"type\": \"scatterternary\"}], \"surface\": [{\"colorbar\": {\"outlinewidth\": 1, \"tickcolor\": \"rgb(36,36,36)\", \"ticks\": \"outside\"}, \"colorscale\": [[0.0, \"#440154\"], [0.1111111111111111, \"#482878\"], [0.2222222222222222, \"#3e4989\"], [0.3333333333333333, \"#31688e\"], [0.4444444444444444, \"#26828e\"], [0.5555555555555556, \"#1f9e89\"], [0.6666666666666666, \"#35b779\"], [0.7777777777777778, \"#6ece58\"], [0.8888888888888888, \"#b5de2b\"], [1.0, \"#fde725\"]], \"type\": \"surface\"}], \"table\": [{\"cells\": {\"fill\": {\"color\": \"rgb(237,237,237)\"}, \"line\": {\"color\": \"white\"}}, \"header\": {\"fill\": {\"color\": \"rgb(217,217,217)\"}, \"line\": {\"color\": \"white\"}}, \"type\": \"table\"}]}, \"layout\": {\"annotationdefaults\": {\"arrowhead\": 0, \"arrowwidth\": 1}, \"coloraxis\": {\"colorbar\": {\"outlinewidth\": 1, \"tickcolor\": \"rgb(36,36,36)\", \"ticks\": \"outside\"}}, \"colorscale\": {\"diverging\": [[0.0, \"rgb(103,0,31)\"], [0.1, \"rgb(178,24,43)\"], [0.2, \"rgb(214,96,77)\"], [0.3, \"rgb(244,165,130)\"], [0.4, \"rgb(253,219,199)\"], [0.5, \"rgb(247,247,247)\"], [0.6, \"rgb(209,229,240)\"], [0.7, \"rgb(146,197,222)\"], [0.8, \"rgb(67,147,195)\"], [0.9, \"rgb(33,102,172)\"], [1.0, \"rgb(5,48,97)\"]], \"sequential\": [[0.0, \"#440154\"], [0.1111111111111111, \"#482878\"], [0.2222222222222222, \"#3e4989\"], [0.3333333333333333, \"#31688e\"], [0.4444444444444444, \"#26828e\"], [0.5555555555555556, \"#1f9e89\"], [0.6666666666666666, \"#35b779\"], [0.7777777777777778, \"#6ece58\"], [0.8888888888888888, \"#b5de2b\"], [1.0, \"#fde725\"]], \"sequentialminus\": [[0.0, \"#440154\"], [0.1111111111111111, \"#482878\"], [0.2222222222222222, \"#3e4989\"], [0.3333333333333333, \"#31688e\"], [0.4444444444444444, \"#26828e\"], [0.5555555555555556, \"#1f9e89\"], [0.6666666666666666, \"#35b779\"], [0.7777777777777778, \"#6ece58\"], [0.8888888888888888, \"#b5de2b\"], [1.0, \"#fde725\"]]}, \"colorway\": [\"#1F77B4\", \"#FF7F0E\", \"#2CA02C\", \"#D62728\", \"#9467BD\", \"#8C564B\", \"#E377C2\", \"#7F7F7F\", \"#BCBD22\", \"#17BECF\"], \"font\": {\"color\": \"rgb(36,36,36)\"}, \"geo\": {\"bgcolor\": \"white\", \"lakecolor\": \"white\", \"landcolor\": \"white\", \"showlakes\": true, \"showland\": true, \"subunitcolor\": \"white\"}, \"hoverlabel\": {\"align\": \"left\"}, \"hovermode\": \"closest\", \"mapbox\": {\"style\": \"light\"}, \"paper_bgcolor\": \"white\", \"plot_bgcolor\": \"white\", \"polar\": {\"angularaxis\": {\"gridcolor\": \"rgb(232,232,232)\", \"linecolor\": \"rgb(36,36,36)\", \"showgrid\": false, \"showline\": true, \"ticks\": \"outside\"}, \"bgcolor\": \"white\", \"radialaxis\": {\"gridcolor\": \"rgb(232,232,232)\", \"linecolor\": \"rgb(36,36,36)\", \"showgrid\": false, \"showline\": true, \"ticks\": \"outside\"}}, \"scene\": {\"xaxis\": {\"backgroundcolor\": \"white\", \"gridcolor\": \"rgb(232,232,232)\", \"gridwidth\": 2, \"linecolor\": \"rgb(36,36,36)\", \"showbackground\": true, \"showgrid\": false, \"showline\": true, \"ticks\": \"outside\", \"zeroline\": false, \"zerolinecolor\": \"rgb(36,36,36)\"}, \"yaxis\": {\"backgroundcolor\": \"white\", \"gridcolor\": \"rgb(232,232,232)\", \"gridwidth\": 2, \"linecolor\": \"rgb(36,36,36)\", \"showbackground\": true, \"showgrid\": false, \"showline\": true, \"ticks\": \"outside\", \"zeroline\": false, \"zerolinecolor\": \"rgb(36,36,36)\"}, \"zaxis\": {\"backgroundcolor\": \"white\", \"gridcolor\": \"rgb(232,232,232)\", \"gridwidth\": 2, \"linecolor\": \"rgb(36,36,36)\", \"showbackground\": true, \"showgrid\": false, \"showline\": true, \"ticks\": \"outside\", \"zeroline\": false, \"zerolinecolor\": \"rgb(36,36,36)\"}}, \"shapedefaults\": {\"fillcolor\": \"black\", \"line\": {\"width\": 0}, \"opacity\": 0.3}, \"ternary\": {\"aaxis\": {\"gridcolor\": \"rgb(232,232,232)\", \"linecolor\": \"rgb(36,36,36)\", \"showgrid\": false, \"showline\": true, \"ticks\": \"outside\"}, \"baxis\": {\"gridcolor\": \"rgb(232,232,232)\", \"linecolor\": \"rgb(36,36,36)\", \"showgrid\": false, \"showline\": true, \"ticks\": \"outside\"}, \"bgcolor\": \"white\", \"caxis\": {\"gridcolor\": \"rgb(232,232,232)\", \"linecolor\": \"rgb(36,36,36)\", \"showgrid\": false, \"showline\": true, \"ticks\": \"outside\"}}, \"title\": {\"x\": 0.05}, \"xaxis\": {\"automargin\": true, \"gridcolor\": \"rgb(232,232,232)\", \"linecolor\": \"rgb(36,36,36)\", \"showgrid\": false, \"showline\": true, \"ticks\": \"outside\", \"title\": {\"standoff\": 15}, \"zeroline\": false, \"zerolinecolor\": \"rgb(36,36,36)\"}, \"yaxis\": {\"automargin\": true, \"gridcolor\": \"rgb(232,232,232)\", \"linecolor\": \"rgb(36,36,36)\", \"showgrid\": false, \"showline\": true, \"ticks\": \"outside\", \"title\": {\"standoff\": 15}, \"zeroline\": false, \"zerolinecolor\": \"rgb(36,36,36)\"}}}, \"title\": {\"text\": \"HousePressure g-pump-6 for 51, 52, 1, 2 weeks \"}, \"xaxis\": {\"anchor\": \"y\", \"domain\": [0.0, 1.0], \"title\": {\"text\": \"week\"}, \"type\": \"category\"}, \"yaxis\": {\"anchor\": \"x\", \"domain\": [0.0, 1.0], \"title\": {\"text\": \"feature_value\"}}},\n",
       "                        {\"responsive\": true}\n",
       "                    ).then(function(){\n",
       "                            \n",
       "var gd = document.getElementById('50e50ae4-b853-4fe0-91d1-7812371732c9');\n",
       "var x = new MutationObserver(function (mutations, observer) {{\n",
       "        var display = window.getComputedStyle(gd).display;\n",
       "        if (!display || display === 'none') {{\n",
       "            console.log([gd, 'removed!']);\n",
       "            Plotly.purge(gd);\n",
       "            observer.disconnect();\n",
       "        }}\n",
       "}});\n",
       "\n",
       "// Listen for the removal of the full notebook cells\n",
       "var notebookContainer = gd.closest('#notebook-container');\n",
       "if (notebookContainer) {{\n",
       "    x.observe(notebookContainer, {childList: true});\n",
       "}}\n",
       "\n",
       "// Listen for the clearing of the current output cell\n",
       "var outputEl = gd.closest('.output');\n",
       "if (outputEl) {{\n",
       "    x.observe(outputEl, {childList: true});\n",
       "}}\n",
       "\n",
       "                        })\n",
       "                };\n",
       "                });\n",
       "            </script>\n",
       "        </div>"
      ]
     },
     "metadata": {},
     "output_type": "display_data"
    }
   ],
   "source": [
    "%%skip $skip_baseline_save\n",
    "week_numbers = week_numbers_housePressure # Week numbers as List \n",
    "\n",
    "mu_housepressure, sigma_housepressure = get_baselining_variables_azure(df_data, variable_name = HOUSE_PRESSURE,\n",
    "                                                                       asset_id = asset_id,\n",
    "                                                                       lst_filter_values = week_numbers, \n",
    "                                                                       filter_column_name = \"week\",\n",
    "                                                                       select_column_name= 'feature_value',\n",
    "                                                                       filter_metric = \"AvgValue\")\n",
    "print(mu_housepressure, sigma_housepressure)\n",
    "\n",
    "show_baselining_plot_azure(df_data, duration = week_numbers, asset_name= asset_name, variable_name= HOUSE_PRESSURE, \n",
    "                           plot_type = \"box\")"
   ]
  },
  {
   "cell_type": "markdown",
   "metadata": {},
   "source": [
    "***"
   ]
  },
  {
   "cell_type": "code",
   "execution_count": 21,
   "metadata": {},
   "outputs": [
    {
     "data": {
      "text/html": [
       "<div>\n",
       "<style scoped>\n",
       "    .dataframe tbody tr th:only-of-type {\n",
       "        vertical-align: middle;\n",
       "    }\n",
       "\n",
       "    .dataframe tbody tr th {\n",
       "        vertical-align: top;\n",
       "    }\n",
       "\n",
       "    .dataframe thead th {\n",
       "        text-align: right;\n",
       "    }\n",
       "</style>\n",
       "<table border=\"1\" class=\"dataframe\">\n",
       "  <thead>\n",
       "    <tr style=\"text-align: right;\">\n",
       "      <th></th>\n",
       "      <th>asset_id</th>\n",
       "      <th>asset_name</th>\n",
       "      <th>sensor_type</th>\n",
       "      <th>measurement_type</th>\n",
       "      <th>feature_name</th>\n",
       "      <th>feature_value</th>\n",
       "      <th>feature_unit</th>\n",
       "      <th>sensor_info</th>\n",
       "      <th>datetime</th>\n",
       "      <th>d</th>\n",
       "      <th>dayofweek</th>\n",
       "      <th>year</th>\n",
       "      <th>month</th>\n",
       "      <th>hour</th>\n",
       "      <th>minute</th>\n",
       "      <th>second</th>\n",
       "      <th>week</th>\n",
       "    </tr>\n",
       "  </thead>\n",
       "  <tbody>\n",
       "    <tr>\n",
       "      <td>0</td>\n",
       "      <td>aid-g-pump-6</td>\n",
       "      <td>g-pump-6</td>\n",
       "      <td>pressure</td>\n",
       "      <td>housing</td>\n",
       "      <td>MinValue</td>\n",
       "      <td>2.384005</td>\n",
       "      <td>bar</td>\n",
       "      <td>HousePressure</td>\n",
       "      <td>2019-11-19 19:00:00</td>\n",
       "      <td>19</td>\n",
       "      <td>1</td>\n",
       "      <td>2019</td>\n",
       "      <td>11</td>\n",
       "      <td>19</td>\n",
       "      <td>0</td>\n",
       "      <td>0</td>\n",
       "      <td>47</td>\n",
       "    </tr>\n",
       "    <tr>\n",
       "      <td>1</td>\n",
       "      <td>aid-g-pump-6</td>\n",
       "      <td>g-pump-6</td>\n",
       "      <td>pressure</td>\n",
       "      <td>housing</td>\n",
       "      <td>MinValue</td>\n",
       "      <td>3.833944</td>\n",
       "      <td>bar</td>\n",
       "      <td>HousePressure</td>\n",
       "      <td>2019-11-20 08:00:00</td>\n",
       "      <td>20</td>\n",
       "      <td>2</td>\n",
       "      <td>2019</td>\n",
       "      <td>11</td>\n",
       "      <td>8</td>\n",
       "      <td>0</td>\n",
       "      <td>0</td>\n",
       "      <td>47</td>\n",
       "    </tr>\n",
       "    <tr>\n",
       "      <td>2</td>\n",
       "      <td>aid-g-pump-6</td>\n",
       "      <td>g-pump-6</td>\n",
       "      <td>pressure</td>\n",
       "      <td>housing</td>\n",
       "      <td>MinValue</td>\n",
       "      <td>2.487027</td>\n",
       "      <td>bar</td>\n",
       "      <td>HousePressure</td>\n",
       "      <td>2019-11-20 14:00:00</td>\n",
       "      <td>20</td>\n",
       "      <td>2</td>\n",
       "      <td>2019</td>\n",
       "      <td>11</td>\n",
       "      <td>14</td>\n",
       "      <td>0</td>\n",
       "      <td>0</td>\n",
       "      <td>47</td>\n",
       "    </tr>\n",
       "    <tr>\n",
       "      <td>3</td>\n",
       "      <td>aid-g-pump-6</td>\n",
       "      <td>g-pump-6</td>\n",
       "      <td>pressure</td>\n",
       "      <td>housing</td>\n",
       "      <td>MinValue</td>\n",
       "      <td>2.673993</td>\n",
       "      <td>bar</td>\n",
       "      <td>HousePressure</td>\n",
       "      <td>2019-11-20 15:00:00</td>\n",
       "      <td>20</td>\n",
       "      <td>2</td>\n",
       "      <td>2019</td>\n",
       "      <td>11</td>\n",
       "      <td>15</td>\n",
       "      <td>0</td>\n",
       "      <td>0</td>\n",
       "      <td>47</td>\n",
       "    </tr>\n",
       "    <tr>\n",
       "      <td>4</td>\n",
       "      <td>aid-g-pump-6</td>\n",
       "      <td>g-pump-6</td>\n",
       "      <td>pressure</td>\n",
       "      <td>housing</td>\n",
       "      <td>MinValue</td>\n",
       "      <td>2.662546</td>\n",
       "      <td>bar</td>\n",
       "      <td>HousePressure</td>\n",
       "      <td>2019-11-20 16:00:00</td>\n",
       "      <td>20</td>\n",
       "      <td>2</td>\n",
       "      <td>2019</td>\n",
       "      <td>11</td>\n",
       "      <td>16</td>\n",
       "      <td>0</td>\n",
       "      <td>0</td>\n",
       "      <td>47</td>\n",
       "    </tr>\n",
       "  </tbody>\n",
       "</table>\n",
       "</div>"
      ],
      "text/plain": [
       "       asset_id asset_name sensor_type measurement_type feature_name  \\\n",
       "0  aid-g-pump-6   g-pump-6    pressure          housing     MinValue   \n",
       "1  aid-g-pump-6   g-pump-6    pressure          housing     MinValue   \n",
       "2  aid-g-pump-6   g-pump-6    pressure          housing     MinValue   \n",
       "3  aid-g-pump-6   g-pump-6    pressure          housing     MinValue   \n",
       "4  aid-g-pump-6   g-pump-6    pressure          housing     MinValue   \n",
       "\n",
       "   feature_value feature_unit    sensor_info            datetime   d  \\\n",
       "0       2.384005          bar  HousePressure 2019-11-19 19:00:00  19   \n",
       "1       3.833944          bar  HousePressure 2019-11-20 08:00:00  20   \n",
       "2       2.487027          bar  HousePressure 2019-11-20 14:00:00  20   \n",
       "3       2.673993          bar  HousePressure 2019-11-20 15:00:00  20   \n",
       "4       2.662546          bar  HousePressure 2019-11-20 16:00:00  20   \n",
       "\n",
       "   dayofweek  year  month  hour  minute  second  week  \n",
       "0          1  2019     11    19       0       0    47  \n",
       "1          2  2019     11     8       0       0    47  \n",
       "2          2  2019     11    14       0       0    47  \n",
       "3          2  2019     11    15       0       0    47  \n",
       "4          2  2019     11    16       0       0    47  "
      ]
     },
     "execution_count": 21,
     "metadata": {},
     "output_type": "execute_result"
    }
   ],
   "source": [
    "df_data.head()"
   ]
  },
  {
   "cell_type": "code",
   "execution_count": 22,
   "metadata": {},
   "outputs": [
    {
     "data": {
      "text/plain": [
       "array(['MinValue', 'AvgValue', 'MaxValue'], dtype=object)"
      ]
     },
     "execution_count": 22,
     "metadata": {},
     "output_type": "execute_result"
    }
   ],
   "source": [
    "df_data.feature_name.unique()"
   ]
  },
  {
   "cell_type": "code",
   "execution_count": 23,
   "metadata": {},
   "outputs": [],
   "source": [
    "%%skip $skip_baseline_save\n",
    "\n",
    "row_housepressure_mean = get_row_dict_baseline(asset_id = asset_id,\n",
    "                                               asset_name = asset_name,\n",
    "                                               sensor_type = sensor_type,\n",
    "                                               measurement_type = measurement_type_housing,\n",
    "                                               feature_name = 'AvgValue',\n",
    "                                               metric_name = 'mean',\n",
    "                                               metric_value = mu_housepressure,\n",
    "                                               feature_unit = \"bar\",\n",
    "                                               sensor_info = HOUSE_PRESSURE,\n",
    "                                               notes = None)\n",
    "\n",
    "\n",
    "row_outletpressure_mean = get_row_dict_baseline(asset_id = asset_id,\n",
    "                                                asset_name = asset_name,\n",
    "                                                sensor_type = sensor_type,\n",
    "                                                measurement_type = measurement_type_outlet,\n",
    "                                                feature_name = 'AvgValue',\n",
    "                                                metric_name = 'mean',\n",
    "                                                metric_value = mu_outletpressure,\n",
    "                                                feature_unit = \"bar\",\n",
    "                                                sensor_info = OUTLET_PRESSURE,\n",
    "                                                notes = None)\n",
    "\n",
    "row_inletpressure_mean = get_row_dict_baseline(asset_id = asset_id,\n",
    "                                                asset_name = asset_name,\n",
    "                                                sensor_type = sensor_type,\n",
    "                                                measurement_type = measurement_type_outlet,\n",
    "                                                feature_name = 'AvgValue',\n",
    "                                                metric_name = 'mean',\n",
    "                                                metric_value = mu_inletpressure,\n",
    "                                                feature_unit = \"bar\",\n",
    "                                                sensor_info = INLET_PRESSURE,\n",
    "                                                notes = None)"
   ]
  },
  {
   "cell_type": "code",
   "execution_count": 24,
   "metadata": {},
   "outputs": [],
   "source": [
    "%%skip $skip_baseline_save\n",
    "\n",
    "row_housepressure_sigma = get_row_dict_baseline(asset_id = asset_id,\n",
    "                                               asset_name = asset_name,\n",
    "                                               sensor_type = sensor_type,\n",
    "                                               measurement_type = measurement_type_housing,\n",
    "                                               feature_name = 'AvgValue',\n",
    "                                               metric_name = 'sd',\n",
    "                                               metric_value = sigma_housepressure,\n",
    "                                               feature_unit = \"bar\",\n",
    "                                               sensor_info = HOUSE_PRESSURE,\n",
    "                                               notes = None)\n",
    "\n",
    "\n",
    "row_outletpressure_sigma = get_row_dict_baseline(asset_id = asset_id,\n",
    "                                                asset_name = asset_name,\n",
    "                                                sensor_type = sensor_type,\n",
    "                                                measurement_type = measurement_type_outlet,\n",
    "                                                feature_name = 'AvgValue',\n",
    "                                                metric_name = 'sd',\n",
    "                                                metric_value = sigma_outletpressure,\n",
    "                                                feature_unit = \"bar\",\n",
    "                                                sensor_info = OUTLET_PRESSURE,\n",
    "                                                notes = None)\n",
    "\n",
    "row_inletpressure_sigma = get_row_dict_baseline(asset_id = asset_id,\n",
    "                                                asset_name = asset_name,\n",
    "                                                sensor_type = sensor_type,\n",
    "                                                measurement_type = measurement_type_outlet,\n",
    "                                                feature_name = 'AvgValue',\n",
    "                                                metric_name = 'sd',\n",
    "                                                metric_value = sigma_inletpressure,\n",
    "                                                feature_unit = \"bar\",\n",
    "                                                sensor_info = INLET_PRESSURE,\n",
    "                                                notes = None)"
   ]
  },
  {
   "cell_type": "code",
   "execution_count": 25,
   "metadata": {},
   "outputs": [
    {
     "name": "stdout",
     "output_type": "stream",
     "text": [
      "{'asset_id': 'aid-g-pump-6', 'asset_name': 'g-pump-6', 'sensor_type': 'pressure', 'measurement_type': 'outlet', 'feature_name': 'AvgValue', 'metric_name': 'sd', 'metric_value': 0.36401145317182976, 'feature_unit': 'bar', 'sensor_info': 'OutletPressure', 'baseline_datetime': '2020-03-18 16:36:16', 'baseline_validity_month': 3, 'notes': None}\n"
     ]
    }
   ],
   "source": [
    "%%skip $skip_baseline_save\n",
    "print(row_outletpressure_sigma)"
   ]
  },
  {
   "cell_type": "code",
   "execution_count": 26,
   "metadata": {},
   "outputs": [],
   "source": [
    "%%skip $skip_baseline_save\n",
    "df_baseline = pd.DataFrame(columns=['asset_id','asset_name','sensor_type', 'measurement_type', 'feature_name', 'metric_name',\n",
    "                                    'metric_value', 'feature_unit', 'sensor_info', 'baseline_datetime', \n",
    "                                    'baseline_validity_month', 'notes'])\n",
    "df_baseline = df_baseline.append(row_housepressure_mean, ignore_index=True)\n",
    "df_baseline = df_baseline.append(row_housepressure_sigma, ignore_index=True)\n",
    "df_baseline = df_baseline.append(row_outletpressure_mean, ignore_index=True)\n",
    "df_baseline = df_baseline.append(row_outletpressure_sigma, ignore_index=True)\n",
    "df_baseline = df_baseline.append(row_inletpressure_mean, ignore_index=True)\n",
    "df_baseline = df_baseline.append(row_inletpressure_sigma, ignore_index=True)\n",
    "#df_baseline['uuid'] = [uuid.uuid4() for _ in range(len(df_baseline.index))]\n",
    "#df_baseline.drop(['asset_name'], axis=1, inplace=True)\n",
    "df_baseline.to_csv(baseline_data_filename, index = False)"
   ]
  },
  {
   "cell_type": "code",
   "execution_count": 27,
   "metadata": {},
   "outputs": [
    {
     "name": "stdout",
     "output_type": "stream",
     "text": [
      "       asset_id asset_name sensor_type measurement_type feature_name  \\\n",
      "0  aid-g-pump-6   g-pump-6    pressure          housing     AvgValue   \n",
      "1  aid-g-pump-6   g-pump-6    pressure          housing     AvgValue   \n",
      "2  aid-g-pump-6   g-pump-6    pressure           outlet     AvgValue   \n",
      "3  aid-g-pump-6   g-pump-6    pressure           outlet     AvgValue   \n",
      "4  aid-g-pump-6   g-pump-6    pressure           outlet     AvgValue   \n",
      "5  aid-g-pump-6   g-pump-6    pressure           outlet     AvgValue   \n",
      "\n",
      "  metric_name  metric_value feature_unit     sensor_info    baseline_datetime  \\\n",
      "0        mean      3.431196          bar   HousePressure  2020-03-18 16:36:16   \n",
      "1          sd      0.053982          bar   HousePressure  2020-03-18 16:36:16   \n",
      "2        mean     57.225112          bar  OutletPressure  2020-03-18 16:36:16   \n",
      "3          sd      0.364011          bar  OutletPressure  2020-03-18 16:36:16   \n",
      "4        mean      2.895251          bar   InletPressure  2020-03-18 16:36:16   \n",
      "5          sd      0.045201          bar   InletPressure  2020-03-18 16:36:16   \n",
      "\n",
      "  baseline_validity_month notes  \n",
      "0                       3  None  \n",
      "1                       3  None  \n",
      "2                       3  None  \n",
      "3                       3  None  \n",
      "4                       3  None  \n",
      "5                       3  None  \n"
     ]
    }
   ],
   "source": [
    "%%skip $skip_baseline_save\n",
    "df_baseline.dropna(subset=['metric_value'], inplace=True)\n",
    "print(df_baseline.head(10))"
   ]
  },
  {
   "cell_type": "markdown",
   "metadata": {},
   "source": [
    "*** "
   ]
  },
  {
   "cell_type": "markdown",
   "metadata": {},
   "source": [
    "## Convert DataFrame to Json and Push to Azure API"
   ]
  },
  {
   "cell_type": "code",
   "execution_count": 28,
   "metadata": {},
   "outputs": [],
   "source": [
    "# json_object = convert_baseline_data_to_json(df_baseline)\n",
    "# json_object"
   ]
  },
  {
   "cell_type": "code",
   "execution_count": null,
   "metadata": {},
   "outputs": [],
   "source": [
    "%%skip $skip_baseline_save\n",
    "\n",
    "json_object = convert_baseline_data_to_json(df_baseline)\n",
    "status_code, reason = save_to_api(json_object, dict_api['baseline_data_api'])\n",
    "print(status_code, reason)"
   ]
  },
  {
   "cell_type": "markdown",
   "metadata": {},
   "source": [
    "***"
   ]
  }
 ],
 "metadata": {
  "kernelspec": {
   "display_name": "Python 3",
   "language": "python",
   "name": "python3"
  },
  "language_info": {
   "codemirror_mode": {
    "name": "ipython",
    "version": 3
   },
   "file_extension": ".py",
   "mimetype": "text/x-python",
   "name": "python",
   "nbconvert_exporter": "python",
   "pygments_lexer": "ipython3",
   "version": "3.7.4"
  }
 },
 "nbformat": 4,
 "nbformat_minor": 2
}
