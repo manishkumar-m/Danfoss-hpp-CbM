{
 "cells": [
  {
   "cell_type": "markdown",
   "metadata": {},
   "source": [
    "# Baselining Pressure Data: Pump 4"
   ]
  },
  {
   "cell_type": "markdown",
   "metadata": {},
   "source": [
    "## 1. Import required libraries"
   ]
  },
  {
   "cell_type": "code",
   "execution_count": 1,
   "metadata": {},
   "outputs": [],
   "source": [
    "%load_ext skip_kernel_extension"
   ]
  },
  {
   "cell_type": "code",
   "execution_count": 2,
   "metadata": {},
   "outputs": [
    {
     "data": {
      "text/html": [
       "        <script type=\"text/javascript\">\n",
       "        window.PlotlyConfig = {MathJaxConfig: 'local'};\n",
       "        if (window.MathJax) {MathJax.Hub.Config({SVG: {font: \"STIX-Web\"}});}\n",
       "        if (typeof require !== 'undefined') {\n",
       "        require.undef(\"plotly\");\n",
       "        requirejs.config({\n",
       "            paths: {\n",
       "                'plotly': ['https://cdn.plot.ly/plotly-latest.min']\n",
       "            }\n",
       "        });\n",
       "        require(['plotly'], function(Plotly) {\n",
       "            window._Plotly = Plotly;\n",
       "        });\n",
       "        }\n",
       "        </script>\n",
       "        "
      ]
     },
     "metadata": {},
     "output_type": "display_data"
    },
    {
     "data": {
      "text/html": [
       "        <script type=\"text/javascript\">\n",
       "        window.PlotlyConfig = {MathJaxConfig: 'local'};\n",
       "        if (window.MathJax) {MathJax.Hub.Config({SVG: {font: \"STIX-Web\"}});}\n",
       "        if (typeof require !== 'undefined') {\n",
       "        require.undef(\"plotly\");\n",
       "        requirejs.config({\n",
       "            paths: {\n",
       "                'plotly': ['https://cdn.plot.ly/plotly-latest.min']\n",
       "            }\n",
       "        });\n",
       "        require(['plotly'], function(Plotly) {\n",
       "            window._Plotly = Plotly;\n",
       "        });\n",
       "        }\n",
       "        </script>\n",
       "        "
      ]
     },
     "metadata": {},
     "output_type": "display_data"
    }
   ],
   "source": [
    "import pandas as pd, numpy as np\n",
    "import os, requests, datetime\n",
    "import plotly.express as px\n",
    "from plotly.offline import init_notebook_mode\n",
    "import plotly.io as pio\n",
    "init_notebook_mode(connected = True)\n",
    "pio.templates.default = \"simple_white\"\n",
    "\n",
    "from fn_data_ops_v3 import *"
   ]
  },
  {
   "cell_type": "markdown",
   "metadata": {},
   "source": [
    "## Inputs \n",
    "\n",
    "**Provide required inputs below-**"
   ]
  },
  {
   "cell_type": "markdown",
   "metadata": {},
   "source": [
    "`skip_baseline_save == False` <font color='red'>*>> To save baseline data to DB.</font> <br>\n",
    "`skip_baseline_save == True` <font color='red'>*>> To run the notebook for baseline week selection.</font>"
   ]
  },
  {
   "cell_type": "code",
   "execution_count": 3,
   "metadata": {},
   "outputs": [],
   "source": [
    "skip_baseline_save = False  # To skip baseline save, set it as True"
   ]
  },
  {
   "cell_type": "code",
   "execution_count": 4,
   "metadata": {},
   "outputs": [],
   "source": [
    "data_folder =  \"..\\Data\\\\Pressure-Data\\\\Pump4\\\\\"                        # Pressure data folder name\n",
    "asset_name = 'g-pump-4'                                                 # Asset Name\n",
    "asset_id = fn_get_asset_id(asset_name)                                  # Asset Id\n",
    "datestring_column_name = \"DateString\"                                   # Date column name in the data\n",
    "\n",
    "sensor_type = \"pressure\"                                                \n",
    "HOUSE_PRESSURE = \"HousePressure\"\n",
    "INLET_PRESSURE = \"InletPressure\"\n",
    "OUTLET_PRESSURE = \"OutletPressure\"\n",
    "measurement_type_housing = 'housing'\n",
    "measurement_type_inlet = 'inlet'\n",
    "measurement_type_outlet = 'outlet'"
   ]
  },
  {
   "cell_type": "code",
   "execution_count": 5,
   "metadata": {},
   "outputs": [],
   "source": [
    "# Azure API details \n",
    "dict_api = {'hourly_data_api': 'https://hpp-cm-npd-aps-001.azurewebsites.net/AssetHourlyData/',\n",
    "            'baseline_data_api' : 'https://hpp-cm-npd-aps-001.azurewebsites.net/AssetBaseline/'}"
   ]
  },
  {
   "cell_type": "code",
   "execution_count": 6,
   "metadata": {},
   "outputs": [
    {
     "name": "stdout",
     "output_type": "stream",
     "text": [
      "Hourly data filename:  aid-g-pump-4-azure-hourly-data.csv\n",
      "Baseline data filename:  aid-g-pump-4-azure-baseline-data.csv\n",
      "\n",
      "Current Working Directory:  C:\\Users\\kumar_mano\\OneDrive - HCL Technologies Ltd\\Projects\\Danfoss\\Dan-WD\\save_to_api\n"
     ]
    }
   ],
   "source": [
    "hourly_data_filename = \"{}-azure-hourly-data.csv\".format(asset_id)      # filename for hourly data\n",
    "baseline_data_filename = \"{}-azure-baseline-data.csv\".format(asset_id)  # filename for baselining data\n",
    "print('Hourly data filename: ',hourly_data_filename)                    \n",
    "print('Baseline data filename: ', baseline_data_filename)    \n",
    "print('\\nCurrent Working Directory: ', os.getcwd())"
   ]
  },
  {
   "cell_type": "markdown",
   "metadata": {},
   "source": [
    "**Pressure file names:**"
   ]
  },
  {
   "cell_type": "code",
   "execution_count": 7,
   "metadata": {},
   "outputs": [
    {
     "name": "stdout",
     "output_type": "stream",
     "text": [
      "..\\Data\\Pressure-Data\\Pump4\\OutletPressure.csv\n",
      "..\\Data\\Pressure-Data\\Pump4\\InletPressure.csv\n",
      "..\\Data\\Pressure-Data\\Pump4\\HousePressure.csv\n"
     ]
    }
   ],
   "source": [
    "for file_ in [OUTLET_PRESSURE, INLET_PRESSURE, HOUSE_PRESSURE]:\n",
    "    print(get_file_path(data_folder, file_))"
   ]
  },
  {
   "cell_type": "markdown",
   "metadata": {},
   "source": [
    "# Baselining Activity"
   ]
  },
  {
   "cell_type": "markdown",
   "metadata": {},
   "source": [
    "### Processing Hourly Data for Baselining Activity\n",
    "* Following dataset should be obtained from an API call"
   ]
  },
  {
   "cell_type": "markdown",
   "metadata": {},
   "source": [
    "### Get Hourly processed data \n",
    "* 3 Data Frames for Outlet, Housing and Inlet pressure each."
   ]
  },
  {
   "cell_type": "code",
   "execution_count": 8,
   "metadata": {},
   "outputs": [],
   "source": [
    "df_hourly_outletpressure_azure = get_hourly_data_for_azure(get_file_path(data_folder, OUTLET_PRESSURE), asset_id, asset_name, OUTLET_PRESSURE, measurement_type_outlet, datestring_column_name, sensor_type)\n",
    "df_hourly_inletpressure_azure = get_hourly_data_for_azure(get_file_path(data_folder, INLET_PRESSURE), asset_id, asset_name,  INLET_PRESSURE, measurement_type_inlet, datestring_column_name, sensor_type)\n",
    "df_hourly_housepressure_azure = get_hourly_data_for_azure(get_file_path(data_folder, HOUSE_PRESSURE),asset_id, asset_name,  HOUSE_PRESSURE, measurement_type_housing, datestring_column_name, sensor_type)"
   ]
  },
  {
   "cell_type": "code",
   "execution_count": 9,
   "metadata": {},
   "outputs": [],
   "source": [
    "# df_pump_azure_data = df_hourly_housepressure_azure.append(df_hourly_inletpressure_azure).append(df_hourly_outletpressure_azure)\n",
    "# df_pump_azure_data.reset_index(drop=True, inplace=True)\n",
    "# df_pump_azure_data.to_csv(hourly_data_filename, index = False)\n",
    "# df_pump_azure_data.head()\n",
    "# #df_pump4_azure_data.dtypes"
   ]
  },
  {
   "cell_type": "markdown",
   "metadata": {},
   "source": [
    "### Filter the Outliers in the Data"
   ]
  },
  {
   "cell_type": "markdown",
   "metadata": {},
   "source": [
    "##### Remove negative values from hourly pressure data for baselining"
   ]
  },
  {
   "cell_type": "code",
   "execution_count": 10,
   "metadata": {},
   "outputs": [
    {
     "name": "stdout",
     "output_type": "stream",
     "text": [
      "(2796, 9) (2793, 9) (2796, 9)\n",
      "(2796, 9) (0, 9) (2796, 9)\n"
     ]
    }
   ],
   "source": [
    "print(df_hourly_outletpressure_azure.shape, df_hourly_inletpressure_azure.shape, df_hourly_housepressure_azure.shape)\n",
    "df_hourly_outletpressure_azure = fn_remove_negative_values(df_= df_hourly_outletpressure_azure)\n",
    "df_hourly_inletpressure_azure = fn_remove_negative_values(df_= df_hourly_inletpressure_azure)\n",
    "df_hourly_housepressure_azure = fn_remove_negative_values(df_= df_hourly_housepressure_azure)\n",
    "print(df_hourly_outletpressure_azure.shape, df_hourly_inletpressure_azure.shape, df_hourly_housepressure_azure.shape)"
   ]
  },
  {
   "cell_type": "markdown",
   "metadata": {},
   "source": [
    "***Filter values less than 5 and greater than 95 percentile from the AvgValue data.***"
   ]
  },
  {
   "cell_type": "code",
   "execution_count": 11,
   "metadata": {},
   "outputs": [
    {
     "name": "stdout",
     "output_type": "stream",
     "text": [
      "(2796, 9) (0, 9) (2796, 9)\n",
      "(2731, 9) (0, 9) (2706, 9)\n"
     ]
    }
   ],
   "source": [
    "print(df_hourly_outletpressure_azure.shape, df_hourly_inletpressure_azure.shape, df_hourly_housepressure_azure.shape)\n",
    "\n",
    "df_hourly_outletpressure_azure = fn_drop_outliers(df_hourly = df_hourly_outletpressure_azure)\n",
    "df_hourly_inletpressure_azure = fn_drop_outliers(df_hourly = df_hourly_inletpressure_azure)\n",
    "df_hourly_housepressure_azure = fn_drop_outliers(df_hourly = df_hourly_housepressure_azure)\n",
    "\n",
    "print(df_hourly_outletpressure_azure.shape, df_hourly_inletpressure_azure.shape, df_hourly_housepressure_azure.shape)"
   ]
  },
  {
   "cell_type": "code",
   "execution_count": 12,
   "metadata": {},
   "outputs": [],
   "source": [
    "df_pump_azure_data = df_hourly_housepressure_azure.append(df_hourly_inletpressure_azure).append(df_hourly_outletpressure_azure)\n",
    "df_pump_azure_data.reset_index(drop=True, inplace=True)\n",
    "df_data = add_date_components(df_pump_azure_data, \"datetime\")\n",
    "# df_data.dtypes"
   ]
  },
  {
   "cell_type": "code",
   "execution_count": 13,
   "metadata": {},
   "outputs": [
    {
     "data": {
      "text/html": [
       "<div>\n",
       "<style scoped>\n",
       "    .dataframe tbody tr th:only-of-type {\n",
       "        vertical-align: middle;\n",
       "    }\n",
       "\n",
       "    .dataframe tbody tr th {\n",
       "        vertical-align: top;\n",
       "    }\n",
       "\n",
       "    .dataframe thead th {\n",
       "        text-align: right;\n",
       "    }\n",
       "</style>\n",
       "<table border=\"1\" class=\"dataframe\">\n",
       "  <thead>\n",
       "    <tr style=\"text-align: right;\">\n",
       "      <th></th>\n",
       "      <th>asset_id</th>\n",
       "      <th>asset_name</th>\n",
       "      <th>sensor_type</th>\n",
       "      <th>measurement_type</th>\n",
       "      <th>feature_name</th>\n",
       "      <th>feature_value</th>\n",
       "      <th>feature_unit</th>\n",
       "      <th>sensor_info</th>\n",
       "      <th>datetime</th>\n",
       "      <th>d</th>\n",
       "      <th>dayofweek</th>\n",
       "      <th>year</th>\n",
       "      <th>month</th>\n",
       "      <th>hour</th>\n",
       "      <th>minute</th>\n",
       "      <th>second</th>\n",
       "      <th>week</th>\n",
       "    </tr>\n",
       "  </thead>\n",
       "  <tbody>\n",
       "    <tr>\n",
       "      <td>0</td>\n",
       "      <td>aid-g-pump-4</td>\n",
       "      <td>g-pump-4</td>\n",
       "      <td>pressure</td>\n",
       "      <td>housing</td>\n",
       "      <td>MinValue</td>\n",
       "      <td>2.677808</td>\n",
       "      <td>bar</td>\n",
       "      <td>HousePressure</td>\n",
       "      <td>2019-11-19 18:00:00</td>\n",
       "      <td>19</td>\n",
       "      <td>1</td>\n",
       "      <td>2019</td>\n",
       "      <td>11</td>\n",
       "      <td>18</td>\n",
       "      <td>0</td>\n",
       "      <td>0</td>\n",
       "      <td>47</td>\n",
       "    </tr>\n",
       "    <tr>\n",
       "      <td>1</td>\n",
       "      <td>aid-g-pump-4</td>\n",
       "      <td>g-pump-4</td>\n",
       "      <td>pressure</td>\n",
       "      <td>housing</td>\n",
       "      <td>MinValue</td>\n",
       "      <td>3.170024</td>\n",
       "      <td>bar</td>\n",
       "      <td>HousePressure</td>\n",
       "      <td>2019-11-20 08:00:00</td>\n",
       "      <td>20</td>\n",
       "      <td>2</td>\n",
       "      <td>2019</td>\n",
       "      <td>11</td>\n",
       "      <td>8</td>\n",
       "      <td>0</td>\n",
       "      <td>0</td>\n",
       "      <td>47</td>\n",
       "    </tr>\n",
       "  </tbody>\n",
       "</table>\n",
       "</div>"
      ],
      "text/plain": [
       "       asset_id asset_name sensor_type measurement_type feature_name  \\\n",
       "0  aid-g-pump-4   g-pump-4    pressure          housing     MinValue   \n",
       "1  aid-g-pump-4   g-pump-4    pressure          housing     MinValue   \n",
       "\n",
       "   feature_value feature_unit    sensor_info            datetime   d  \\\n",
       "0       2.677808          bar  HousePressure 2019-11-19 18:00:00  19   \n",
       "1       3.170024          bar  HousePressure 2019-11-20 08:00:00  20   \n",
       "\n",
       "   dayofweek  year  month  hour  minute  second  week  \n",
       "0          1  2019     11    18       0       0    47  \n",
       "1          2  2019     11     8       0       0    47  "
      ]
     },
     "execution_count": 13,
     "metadata": {},
     "output_type": "execute_result"
    }
   ],
   "source": [
    "df_data.head(2)"
   ]
  },
  {
   "cell_type": "code",
   "execution_count": 14,
   "metadata": {},
   "outputs": [
    {
     "name": "stdout",
     "output_type": "stream",
     "text": [
      "Number of weeks for InletPressure found:0\n",
      "Number of weeks for OutletPressure found:8\n",
      "Number of weeks for HousePressure found:8\n"
     ]
    }
   ],
   "source": [
    "get_number_of_weeks(df_data, variable_name = INLET_PRESSURE, asset_id = asset_id)\n",
    "get_number_of_weeks(df_data, variable_name = OUTLET_PRESSURE, asset_id = asset_id)\n",
    "get_number_of_weeks(df_data, variable_name = HOUSE_PRESSURE, asset_id = asset_id)"
   ]
  },
  {
   "cell_type": "markdown",
   "metadata": {},
   "source": [
    "## Take a close look at the probable weeks for baselining"
   ]
  },
  {
   "cell_type": "markdown",
   "metadata": {},
   "source": [
    "**Scatterplot**"
   ]
  },
  {
   "cell_type": "code",
   "execution_count": 15,
   "metadata": {},
   "outputs": [
    {
     "data": {
      "application/vnd.plotly.v1+json": {
       "config": {
        "plotlyServerURL": "https://plot.ly"
       },
       "data": [],
       "layout": {
        "legend": {
         "tracegroupgap": 0
        },
        "template": {
         "data": {
          "bar": [
           {
            "error_x": {
             "color": "rgb(36,36,36)"
            },
            "error_y": {
             "color": "rgb(36,36,36)"
            },
            "marker": {
             "line": {
              "color": "white",
              "width": 0.5
             }
            },
            "type": "bar"
           }
          ],
          "barpolar": [
           {
            "marker": {
             "line": {
              "color": "white",
              "width": 0.5
             }
            },
            "type": "barpolar"
           }
          ],
          "carpet": [
           {
            "aaxis": {
             "endlinecolor": "rgb(36,36,36)",
             "gridcolor": "white",
             "linecolor": "white",
             "minorgridcolor": "white",
             "startlinecolor": "rgb(36,36,36)"
            },
            "baxis": {
             "endlinecolor": "rgb(36,36,36)",
             "gridcolor": "white",
             "linecolor": "white",
             "minorgridcolor": "white",
             "startlinecolor": "rgb(36,36,36)"
            },
            "type": "carpet"
           }
          ],
          "choropleth": [
           {
            "colorbar": {
             "outlinewidth": 1,
             "tickcolor": "rgb(36,36,36)",
             "ticks": "outside"
            },
            "type": "choropleth"
           }
          ],
          "contour": [
           {
            "colorbar": {
             "outlinewidth": 1,
             "tickcolor": "rgb(36,36,36)",
             "ticks": "outside"
            },
            "colorscale": [
             [
              0,
              "#440154"
             ],
             [
              0.1111111111111111,
              "#482878"
             ],
             [
              0.2222222222222222,
              "#3e4989"
             ],
             [
              0.3333333333333333,
              "#31688e"
             ],
             [
              0.4444444444444444,
              "#26828e"
             ],
             [
              0.5555555555555556,
              "#1f9e89"
             ],
             [
              0.6666666666666666,
              "#35b779"
             ],
             [
              0.7777777777777778,
              "#6ece58"
             ],
             [
              0.8888888888888888,
              "#b5de2b"
             ],
             [
              1,
              "#fde725"
             ]
            ],
            "type": "contour"
           }
          ],
          "contourcarpet": [
           {
            "colorbar": {
             "outlinewidth": 1,
             "tickcolor": "rgb(36,36,36)",
             "ticks": "outside"
            },
            "type": "contourcarpet"
           }
          ],
          "heatmap": [
           {
            "colorbar": {
             "outlinewidth": 1,
             "tickcolor": "rgb(36,36,36)",
             "ticks": "outside"
            },
            "colorscale": [
             [
              0,
              "#440154"
             ],
             [
              0.1111111111111111,
              "#482878"
             ],
             [
              0.2222222222222222,
              "#3e4989"
             ],
             [
              0.3333333333333333,
              "#31688e"
             ],
             [
              0.4444444444444444,
              "#26828e"
             ],
             [
              0.5555555555555556,
              "#1f9e89"
             ],
             [
              0.6666666666666666,
              "#35b779"
             ],
             [
              0.7777777777777778,
              "#6ece58"
             ],
             [
              0.8888888888888888,
              "#b5de2b"
             ],
             [
              1,
              "#fde725"
             ]
            ],
            "type": "heatmap"
           }
          ],
          "heatmapgl": [
           {
            "colorbar": {
             "outlinewidth": 1,
             "tickcolor": "rgb(36,36,36)",
             "ticks": "outside"
            },
            "colorscale": [
             [
              0,
              "#440154"
             ],
             [
              0.1111111111111111,
              "#482878"
             ],
             [
              0.2222222222222222,
              "#3e4989"
             ],
             [
              0.3333333333333333,
              "#31688e"
             ],
             [
              0.4444444444444444,
              "#26828e"
             ],
             [
              0.5555555555555556,
              "#1f9e89"
             ],
             [
              0.6666666666666666,
              "#35b779"
             ],
             [
              0.7777777777777778,
              "#6ece58"
             ],
             [
              0.8888888888888888,
              "#b5de2b"
             ],
             [
              1,
              "#fde725"
             ]
            ],
            "type": "heatmapgl"
           }
          ],
          "histogram": [
           {
            "marker": {
             "line": {
              "color": "white",
              "width": 0.6
             }
            },
            "type": "histogram"
           }
          ],
          "histogram2d": [
           {
            "colorbar": {
             "outlinewidth": 1,
             "tickcolor": "rgb(36,36,36)",
             "ticks": "outside"
            },
            "colorscale": [
             [
              0,
              "#440154"
             ],
             [
              0.1111111111111111,
              "#482878"
             ],
             [
              0.2222222222222222,
              "#3e4989"
             ],
             [
              0.3333333333333333,
              "#31688e"
             ],
             [
              0.4444444444444444,
              "#26828e"
             ],
             [
              0.5555555555555556,
              "#1f9e89"
             ],
             [
              0.6666666666666666,
              "#35b779"
             ],
             [
              0.7777777777777778,
              "#6ece58"
             ],
             [
              0.8888888888888888,
              "#b5de2b"
             ],
             [
              1,
              "#fde725"
             ]
            ],
            "type": "histogram2d"
           }
          ],
          "histogram2dcontour": [
           {
            "colorbar": {
             "outlinewidth": 1,
             "tickcolor": "rgb(36,36,36)",
             "ticks": "outside"
            },
            "colorscale": [
             [
              0,
              "#440154"
             ],
             [
              0.1111111111111111,
              "#482878"
             ],
             [
              0.2222222222222222,
              "#3e4989"
             ],
             [
              0.3333333333333333,
              "#31688e"
             ],
             [
              0.4444444444444444,
              "#26828e"
             ],
             [
              0.5555555555555556,
              "#1f9e89"
             ],
             [
              0.6666666666666666,
              "#35b779"
             ],
             [
              0.7777777777777778,
              "#6ece58"
             ],
             [
              0.8888888888888888,
              "#b5de2b"
             ],
             [
              1,
              "#fde725"
             ]
            ],
            "type": "histogram2dcontour"
           }
          ],
          "mesh3d": [
           {
            "colorbar": {
             "outlinewidth": 1,
             "tickcolor": "rgb(36,36,36)",
             "ticks": "outside"
            },
            "type": "mesh3d"
           }
          ],
          "parcoords": [
           {
            "line": {
             "colorbar": {
              "outlinewidth": 1,
              "tickcolor": "rgb(36,36,36)",
              "ticks": "outside"
             }
            },
            "type": "parcoords"
           }
          ],
          "pie": [
           {
            "automargin": true,
            "type": "pie"
           }
          ],
          "scatter": [
           {
            "marker": {
             "colorbar": {
              "outlinewidth": 1,
              "tickcolor": "rgb(36,36,36)",
              "ticks": "outside"
             }
            },
            "type": "scatter"
           }
          ],
          "scatter3d": [
           {
            "line": {
             "colorbar": {
              "outlinewidth": 1,
              "tickcolor": "rgb(36,36,36)",
              "ticks": "outside"
             }
            },
            "marker": {
             "colorbar": {
              "outlinewidth": 1,
              "tickcolor": "rgb(36,36,36)",
              "ticks": "outside"
             }
            },
            "type": "scatter3d"
           }
          ],
          "scattercarpet": [
           {
            "marker": {
             "colorbar": {
              "outlinewidth": 1,
              "tickcolor": "rgb(36,36,36)",
              "ticks": "outside"
             }
            },
            "type": "scattercarpet"
           }
          ],
          "scattergeo": [
           {
            "marker": {
             "colorbar": {
              "outlinewidth": 1,
              "tickcolor": "rgb(36,36,36)",
              "ticks": "outside"
             }
            },
            "type": "scattergeo"
           }
          ],
          "scattergl": [
           {
            "marker": {
             "colorbar": {
              "outlinewidth": 1,
              "tickcolor": "rgb(36,36,36)",
              "ticks": "outside"
             }
            },
            "type": "scattergl"
           }
          ],
          "scattermapbox": [
           {
            "marker": {
             "colorbar": {
              "outlinewidth": 1,
              "tickcolor": "rgb(36,36,36)",
              "ticks": "outside"
             }
            },
            "type": "scattermapbox"
           }
          ],
          "scatterpolar": [
           {
            "marker": {
             "colorbar": {
              "outlinewidth": 1,
              "tickcolor": "rgb(36,36,36)",
              "ticks": "outside"
             }
            },
            "type": "scatterpolar"
           }
          ],
          "scatterpolargl": [
           {
            "marker": {
             "colorbar": {
              "outlinewidth": 1,
              "tickcolor": "rgb(36,36,36)",
              "ticks": "outside"
             }
            },
            "type": "scatterpolargl"
           }
          ],
          "scatterternary": [
           {
            "marker": {
             "colorbar": {
              "outlinewidth": 1,
              "tickcolor": "rgb(36,36,36)",
              "ticks": "outside"
             }
            },
            "type": "scatterternary"
           }
          ],
          "surface": [
           {
            "colorbar": {
             "outlinewidth": 1,
             "tickcolor": "rgb(36,36,36)",
             "ticks": "outside"
            },
            "colorscale": [
             [
              0,
              "#440154"
             ],
             [
              0.1111111111111111,
              "#482878"
             ],
             [
              0.2222222222222222,
              "#3e4989"
             ],
             [
              0.3333333333333333,
              "#31688e"
             ],
             [
              0.4444444444444444,
              "#26828e"
             ],
             [
              0.5555555555555556,
              "#1f9e89"
             ],
             [
              0.6666666666666666,
              "#35b779"
             ],
             [
              0.7777777777777778,
              "#6ece58"
             ],
             [
              0.8888888888888888,
              "#b5de2b"
             ],
             [
              1,
              "#fde725"
             ]
            ],
            "type": "surface"
           }
          ],
          "table": [
           {
            "cells": {
             "fill": {
              "color": "rgb(237,237,237)"
             },
             "line": {
              "color": "white"
             }
            },
            "header": {
             "fill": {
              "color": "rgb(217,217,217)"
             },
             "line": {
              "color": "white"
             }
            },
            "type": "table"
           }
          ]
         },
         "layout": {
          "annotationdefaults": {
           "arrowhead": 0,
           "arrowwidth": 1
          },
          "coloraxis": {
           "colorbar": {
            "outlinewidth": 1,
            "tickcolor": "rgb(36,36,36)",
            "ticks": "outside"
           }
          },
          "colorscale": {
           "diverging": [
            [
             0,
             "rgb(103,0,31)"
            ],
            [
             0.1,
             "rgb(178,24,43)"
            ],
            [
             0.2,
             "rgb(214,96,77)"
            ],
            [
             0.3,
             "rgb(244,165,130)"
            ],
            [
             0.4,
             "rgb(253,219,199)"
            ],
            [
             0.5,
             "rgb(247,247,247)"
            ],
            [
             0.6,
             "rgb(209,229,240)"
            ],
            [
             0.7,
             "rgb(146,197,222)"
            ],
            [
             0.8,
             "rgb(67,147,195)"
            ],
            [
             0.9,
             "rgb(33,102,172)"
            ],
            [
             1,
             "rgb(5,48,97)"
            ]
           ],
           "sequential": [
            [
             0,
             "#440154"
            ],
            [
             0.1111111111111111,
             "#482878"
            ],
            [
             0.2222222222222222,
             "#3e4989"
            ],
            [
             0.3333333333333333,
             "#31688e"
            ],
            [
             0.4444444444444444,
             "#26828e"
            ],
            [
             0.5555555555555556,
             "#1f9e89"
            ],
            [
             0.6666666666666666,
             "#35b779"
            ],
            [
             0.7777777777777778,
             "#6ece58"
            ],
            [
             0.8888888888888888,
             "#b5de2b"
            ],
            [
             1,
             "#fde725"
            ]
           ],
           "sequentialminus": [
            [
             0,
             "#440154"
            ],
            [
             0.1111111111111111,
             "#482878"
            ],
            [
             0.2222222222222222,
             "#3e4989"
            ],
            [
             0.3333333333333333,
             "#31688e"
            ],
            [
             0.4444444444444444,
             "#26828e"
            ],
            [
             0.5555555555555556,
             "#1f9e89"
            ],
            [
             0.6666666666666666,
             "#35b779"
            ],
            [
             0.7777777777777778,
             "#6ece58"
            ],
            [
             0.8888888888888888,
             "#b5de2b"
            ],
            [
             1,
             "#fde725"
            ]
           ]
          },
          "colorway": [
           "#1F77B4",
           "#FF7F0E",
           "#2CA02C",
           "#D62728",
           "#9467BD",
           "#8C564B",
           "#E377C2",
           "#7F7F7F",
           "#BCBD22",
           "#17BECF"
          ],
          "font": {
           "color": "rgb(36,36,36)"
          },
          "geo": {
           "bgcolor": "white",
           "lakecolor": "white",
           "landcolor": "white",
           "showlakes": true,
           "showland": true,
           "subunitcolor": "white"
          },
          "hoverlabel": {
           "align": "left"
          },
          "hovermode": "closest",
          "mapbox": {
           "style": "light"
          },
          "paper_bgcolor": "white",
          "plot_bgcolor": "white",
          "polar": {
           "angularaxis": {
            "gridcolor": "rgb(232,232,232)",
            "linecolor": "rgb(36,36,36)",
            "showgrid": false,
            "showline": true,
            "ticks": "outside"
           },
           "bgcolor": "white",
           "radialaxis": {
            "gridcolor": "rgb(232,232,232)",
            "linecolor": "rgb(36,36,36)",
            "showgrid": false,
            "showline": true,
            "ticks": "outside"
           }
          },
          "scene": {
           "xaxis": {
            "backgroundcolor": "white",
            "gridcolor": "rgb(232,232,232)",
            "gridwidth": 2,
            "linecolor": "rgb(36,36,36)",
            "showbackground": true,
            "showgrid": false,
            "showline": true,
            "ticks": "outside",
            "zeroline": false,
            "zerolinecolor": "rgb(36,36,36)"
           },
           "yaxis": {
            "backgroundcolor": "white",
            "gridcolor": "rgb(232,232,232)",
            "gridwidth": 2,
            "linecolor": "rgb(36,36,36)",
            "showbackground": true,
            "showgrid": false,
            "showline": true,
            "ticks": "outside",
            "zeroline": false,
            "zerolinecolor": "rgb(36,36,36)"
           },
           "zaxis": {
            "backgroundcolor": "white",
            "gridcolor": "rgb(232,232,232)",
            "gridwidth": 2,
            "linecolor": "rgb(36,36,36)",
            "showbackground": true,
            "showgrid": false,
            "showline": true,
            "ticks": "outside",
            "zeroline": false,
            "zerolinecolor": "rgb(36,36,36)"
           }
          },
          "shapedefaults": {
           "fillcolor": "black",
           "line": {
            "width": 0
           },
           "opacity": 0.3
          },
          "ternary": {
           "aaxis": {
            "gridcolor": "rgb(232,232,232)",
            "linecolor": "rgb(36,36,36)",
            "showgrid": false,
            "showline": true,
            "ticks": "outside"
           },
           "baxis": {
            "gridcolor": "rgb(232,232,232)",
            "linecolor": "rgb(36,36,36)",
            "showgrid": false,
            "showline": true,
            "ticks": "outside"
           },
           "bgcolor": "white",
           "caxis": {
            "gridcolor": "rgb(232,232,232)",
            "linecolor": "rgb(36,36,36)",
            "showgrid": false,
            "showline": true,
            "ticks": "outside"
           }
          },
          "title": {
           "x": 0.05
          },
          "xaxis": {
           "automargin": true,
           "gridcolor": "rgb(232,232,232)",
           "linecolor": "rgb(36,36,36)",
           "showgrid": false,
           "showline": true,
           "ticks": "outside",
           "title": {
            "standoff": 15
           },
           "zeroline": false,
           "zerolinecolor": "rgb(36,36,36)"
          },
          "yaxis": {
           "automargin": true,
           "gridcolor": "rgb(232,232,232)",
           "linecolor": "rgb(36,36,36)",
           "showgrid": false,
           "showline": true,
           "ticks": "outside",
           "title": {
            "standoff": 15
           },
           "zeroline": false,
           "zerolinecolor": "rgb(36,36,36)"
          }
         }
        },
        "title": {
         "text": "InletPressure g-pump-4 for all weeks "
        },
        "xaxis": {
         "anchor": "y",
         "domain": [
          0,
          1
         ],
         "title": {
          "text": "week"
         },
         "type": "category"
        },
        "yaxis": {
         "anchor": "x",
         "domain": [
          0,
          1
         ],
         "title": {
          "text": "feature_value"
         }
        }
       }
      },
      "text/html": [
       "<div>\n",
       "        \n",
       "        \n",
       "            <div id=\"a7c2828d-0b49-4ccf-8c8c-1be1ac8a01b2\" class=\"plotly-graph-div\" style=\"height:525px; width:100%;\"></div>\n",
       "            <script type=\"text/javascript\">\n",
       "                require([\"plotly\"], function(Plotly) {\n",
       "                    window.PLOTLYENV=window.PLOTLYENV || {};\n",
       "                    \n",
       "                if (document.getElementById(\"a7c2828d-0b49-4ccf-8c8c-1be1ac8a01b2\")) {\n",
       "                    Plotly.newPlot(\n",
       "                        'a7c2828d-0b49-4ccf-8c8c-1be1ac8a01b2',\n",
       "                        [],\n",
       "                        {\"legend\": {\"tracegroupgap\": 0}, \"template\": {\"data\": {\"bar\": [{\"error_x\": {\"color\": \"rgb(36,36,36)\"}, \"error_y\": {\"color\": \"rgb(36,36,36)\"}, \"marker\": {\"line\": {\"color\": \"white\", \"width\": 0.5}}, \"type\": \"bar\"}], \"barpolar\": [{\"marker\": {\"line\": {\"color\": \"white\", \"width\": 0.5}}, \"type\": \"barpolar\"}], \"carpet\": [{\"aaxis\": {\"endlinecolor\": \"rgb(36,36,36)\", \"gridcolor\": \"white\", \"linecolor\": \"white\", \"minorgridcolor\": \"white\", \"startlinecolor\": \"rgb(36,36,36)\"}, \"baxis\": {\"endlinecolor\": \"rgb(36,36,36)\", \"gridcolor\": \"white\", \"linecolor\": \"white\", \"minorgridcolor\": \"white\", \"startlinecolor\": \"rgb(36,36,36)\"}, \"type\": \"carpet\"}], \"choropleth\": [{\"colorbar\": {\"outlinewidth\": 1, \"tickcolor\": \"rgb(36,36,36)\", \"ticks\": \"outside\"}, \"type\": \"choropleth\"}], \"contour\": [{\"colorbar\": {\"outlinewidth\": 1, \"tickcolor\": \"rgb(36,36,36)\", \"ticks\": \"outside\"}, \"colorscale\": [[0.0, \"#440154\"], [0.1111111111111111, \"#482878\"], [0.2222222222222222, \"#3e4989\"], [0.3333333333333333, \"#31688e\"], [0.4444444444444444, \"#26828e\"], [0.5555555555555556, \"#1f9e89\"], [0.6666666666666666, \"#35b779\"], [0.7777777777777778, \"#6ece58\"], [0.8888888888888888, \"#b5de2b\"], [1.0, \"#fde725\"]], \"type\": \"contour\"}], \"contourcarpet\": [{\"colorbar\": {\"outlinewidth\": 1, \"tickcolor\": \"rgb(36,36,36)\", \"ticks\": \"outside\"}, \"type\": \"contourcarpet\"}], \"heatmap\": [{\"colorbar\": {\"outlinewidth\": 1, \"tickcolor\": \"rgb(36,36,36)\", \"ticks\": \"outside\"}, \"colorscale\": [[0.0, \"#440154\"], [0.1111111111111111, \"#482878\"], [0.2222222222222222, \"#3e4989\"], [0.3333333333333333, \"#31688e\"], [0.4444444444444444, \"#26828e\"], [0.5555555555555556, \"#1f9e89\"], [0.6666666666666666, \"#35b779\"], [0.7777777777777778, \"#6ece58\"], [0.8888888888888888, \"#b5de2b\"], [1.0, \"#fde725\"]], \"type\": \"heatmap\"}], \"heatmapgl\": [{\"colorbar\": {\"outlinewidth\": 1, \"tickcolor\": \"rgb(36,36,36)\", \"ticks\": \"outside\"}, \"colorscale\": [[0.0, \"#440154\"], [0.1111111111111111, \"#482878\"], [0.2222222222222222, \"#3e4989\"], [0.3333333333333333, \"#31688e\"], [0.4444444444444444, \"#26828e\"], [0.5555555555555556, \"#1f9e89\"], [0.6666666666666666, \"#35b779\"], [0.7777777777777778, \"#6ece58\"], [0.8888888888888888, \"#b5de2b\"], [1.0, \"#fde725\"]], \"type\": \"heatmapgl\"}], \"histogram\": [{\"marker\": {\"line\": {\"color\": \"white\", \"width\": 0.6}}, \"type\": \"histogram\"}], \"histogram2d\": [{\"colorbar\": {\"outlinewidth\": 1, \"tickcolor\": \"rgb(36,36,36)\", \"ticks\": \"outside\"}, \"colorscale\": [[0.0, \"#440154\"], [0.1111111111111111, \"#482878\"], [0.2222222222222222, \"#3e4989\"], [0.3333333333333333, \"#31688e\"], [0.4444444444444444, \"#26828e\"], [0.5555555555555556, \"#1f9e89\"], [0.6666666666666666, \"#35b779\"], [0.7777777777777778, \"#6ece58\"], [0.8888888888888888, \"#b5de2b\"], [1.0, \"#fde725\"]], \"type\": \"histogram2d\"}], \"histogram2dcontour\": [{\"colorbar\": {\"outlinewidth\": 1, \"tickcolor\": \"rgb(36,36,36)\", \"ticks\": \"outside\"}, \"colorscale\": [[0.0, \"#440154\"], [0.1111111111111111, \"#482878\"], [0.2222222222222222, \"#3e4989\"], [0.3333333333333333, \"#31688e\"], [0.4444444444444444, \"#26828e\"], [0.5555555555555556, \"#1f9e89\"], [0.6666666666666666, \"#35b779\"], [0.7777777777777778, \"#6ece58\"], [0.8888888888888888, \"#b5de2b\"], [1.0, \"#fde725\"]], \"type\": \"histogram2dcontour\"}], \"mesh3d\": [{\"colorbar\": {\"outlinewidth\": 1, \"tickcolor\": \"rgb(36,36,36)\", \"ticks\": \"outside\"}, \"type\": \"mesh3d\"}], \"parcoords\": [{\"line\": {\"colorbar\": {\"outlinewidth\": 1, \"tickcolor\": \"rgb(36,36,36)\", \"ticks\": \"outside\"}}, \"type\": \"parcoords\"}], \"pie\": [{\"automargin\": true, \"type\": \"pie\"}], \"scatter\": [{\"marker\": {\"colorbar\": {\"outlinewidth\": 1, \"tickcolor\": \"rgb(36,36,36)\", \"ticks\": \"outside\"}}, \"type\": \"scatter\"}], \"scatter3d\": [{\"line\": {\"colorbar\": {\"outlinewidth\": 1, \"tickcolor\": \"rgb(36,36,36)\", \"ticks\": \"outside\"}}, \"marker\": {\"colorbar\": {\"outlinewidth\": 1, \"tickcolor\": \"rgb(36,36,36)\", \"ticks\": \"outside\"}}, \"type\": \"scatter3d\"}], \"scattercarpet\": [{\"marker\": {\"colorbar\": {\"outlinewidth\": 1, \"tickcolor\": \"rgb(36,36,36)\", \"ticks\": \"outside\"}}, \"type\": \"scattercarpet\"}], \"scattergeo\": [{\"marker\": {\"colorbar\": {\"outlinewidth\": 1, \"tickcolor\": \"rgb(36,36,36)\", \"ticks\": \"outside\"}}, \"type\": \"scattergeo\"}], \"scattergl\": [{\"marker\": {\"colorbar\": {\"outlinewidth\": 1, \"tickcolor\": \"rgb(36,36,36)\", \"ticks\": \"outside\"}}, \"type\": \"scattergl\"}], \"scattermapbox\": [{\"marker\": {\"colorbar\": {\"outlinewidth\": 1, \"tickcolor\": \"rgb(36,36,36)\", \"ticks\": \"outside\"}}, \"type\": \"scattermapbox\"}], \"scatterpolar\": [{\"marker\": {\"colorbar\": {\"outlinewidth\": 1, \"tickcolor\": \"rgb(36,36,36)\", \"ticks\": \"outside\"}}, \"type\": \"scatterpolar\"}], \"scatterpolargl\": [{\"marker\": {\"colorbar\": {\"outlinewidth\": 1, \"tickcolor\": \"rgb(36,36,36)\", \"ticks\": \"outside\"}}, \"type\": \"scatterpolargl\"}], \"scatterternary\": [{\"marker\": {\"colorbar\": {\"outlinewidth\": 1, \"tickcolor\": \"rgb(36,36,36)\", \"ticks\": \"outside\"}}, \"type\": \"scatterternary\"}], \"surface\": [{\"colorbar\": {\"outlinewidth\": 1, \"tickcolor\": \"rgb(36,36,36)\", \"ticks\": \"outside\"}, \"colorscale\": [[0.0, \"#440154\"], [0.1111111111111111, \"#482878\"], [0.2222222222222222, \"#3e4989\"], [0.3333333333333333, \"#31688e\"], [0.4444444444444444, \"#26828e\"], [0.5555555555555556, \"#1f9e89\"], [0.6666666666666666, \"#35b779\"], [0.7777777777777778, \"#6ece58\"], [0.8888888888888888, \"#b5de2b\"], [1.0, \"#fde725\"]], \"type\": \"surface\"}], \"table\": [{\"cells\": {\"fill\": {\"color\": \"rgb(237,237,237)\"}, \"line\": {\"color\": \"white\"}}, \"header\": {\"fill\": {\"color\": \"rgb(217,217,217)\"}, \"line\": {\"color\": \"white\"}}, \"type\": \"table\"}]}, \"layout\": {\"annotationdefaults\": {\"arrowhead\": 0, \"arrowwidth\": 1}, \"coloraxis\": {\"colorbar\": {\"outlinewidth\": 1, \"tickcolor\": \"rgb(36,36,36)\", \"ticks\": \"outside\"}}, \"colorscale\": {\"diverging\": [[0.0, \"rgb(103,0,31)\"], [0.1, \"rgb(178,24,43)\"], [0.2, \"rgb(214,96,77)\"], [0.3, \"rgb(244,165,130)\"], [0.4, \"rgb(253,219,199)\"], [0.5, \"rgb(247,247,247)\"], [0.6, \"rgb(209,229,240)\"], [0.7, \"rgb(146,197,222)\"], [0.8, \"rgb(67,147,195)\"], [0.9, \"rgb(33,102,172)\"], [1.0, \"rgb(5,48,97)\"]], \"sequential\": [[0.0, \"#440154\"], [0.1111111111111111, \"#482878\"], [0.2222222222222222, \"#3e4989\"], [0.3333333333333333, \"#31688e\"], [0.4444444444444444, \"#26828e\"], [0.5555555555555556, \"#1f9e89\"], [0.6666666666666666, \"#35b779\"], [0.7777777777777778, \"#6ece58\"], [0.8888888888888888, \"#b5de2b\"], [1.0, \"#fde725\"]], \"sequentialminus\": [[0.0, \"#440154\"], [0.1111111111111111, \"#482878\"], [0.2222222222222222, \"#3e4989\"], [0.3333333333333333, \"#31688e\"], [0.4444444444444444, \"#26828e\"], [0.5555555555555556, \"#1f9e89\"], [0.6666666666666666, \"#35b779\"], [0.7777777777777778, \"#6ece58\"], [0.8888888888888888, \"#b5de2b\"], [1.0, \"#fde725\"]]}, \"colorway\": [\"#1F77B4\", \"#FF7F0E\", \"#2CA02C\", \"#D62728\", \"#9467BD\", \"#8C564B\", \"#E377C2\", \"#7F7F7F\", \"#BCBD22\", \"#17BECF\"], \"font\": {\"color\": \"rgb(36,36,36)\"}, \"geo\": {\"bgcolor\": \"white\", \"lakecolor\": \"white\", \"landcolor\": \"white\", \"showlakes\": true, \"showland\": true, \"subunitcolor\": \"white\"}, \"hoverlabel\": {\"align\": \"left\"}, \"hovermode\": \"closest\", \"mapbox\": {\"style\": \"light\"}, \"paper_bgcolor\": \"white\", \"plot_bgcolor\": \"white\", \"polar\": {\"angularaxis\": {\"gridcolor\": \"rgb(232,232,232)\", \"linecolor\": \"rgb(36,36,36)\", \"showgrid\": false, \"showline\": true, \"ticks\": \"outside\"}, \"bgcolor\": \"white\", \"radialaxis\": {\"gridcolor\": \"rgb(232,232,232)\", \"linecolor\": \"rgb(36,36,36)\", \"showgrid\": false, \"showline\": true, \"ticks\": \"outside\"}}, \"scene\": {\"xaxis\": {\"backgroundcolor\": \"white\", \"gridcolor\": \"rgb(232,232,232)\", \"gridwidth\": 2, \"linecolor\": \"rgb(36,36,36)\", \"showbackground\": true, \"showgrid\": false, \"showline\": true, \"ticks\": \"outside\", \"zeroline\": false, \"zerolinecolor\": \"rgb(36,36,36)\"}, \"yaxis\": {\"backgroundcolor\": \"white\", \"gridcolor\": \"rgb(232,232,232)\", \"gridwidth\": 2, \"linecolor\": \"rgb(36,36,36)\", \"showbackground\": true, \"showgrid\": false, \"showline\": true, \"ticks\": \"outside\", \"zeroline\": false, \"zerolinecolor\": \"rgb(36,36,36)\"}, \"zaxis\": {\"backgroundcolor\": \"white\", \"gridcolor\": \"rgb(232,232,232)\", \"gridwidth\": 2, \"linecolor\": \"rgb(36,36,36)\", \"showbackground\": true, \"showgrid\": false, \"showline\": true, \"ticks\": \"outside\", \"zeroline\": false, \"zerolinecolor\": \"rgb(36,36,36)\"}}, \"shapedefaults\": {\"fillcolor\": \"black\", \"line\": {\"width\": 0}, \"opacity\": 0.3}, \"ternary\": {\"aaxis\": {\"gridcolor\": \"rgb(232,232,232)\", \"linecolor\": \"rgb(36,36,36)\", \"showgrid\": false, \"showline\": true, \"ticks\": \"outside\"}, \"baxis\": {\"gridcolor\": \"rgb(232,232,232)\", \"linecolor\": \"rgb(36,36,36)\", \"showgrid\": false, \"showline\": true, \"ticks\": \"outside\"}, \"bgcolor\": \"white\", \"caxis\": {\"gridcolor\": \"rgb(232,232,232)\", \"linecolor\": \"rgb(36,36,36)\", \"showgrid\": false, \"showline\": true, \"ticks\": \"outside\"}}, \"title\": {\"x\": 0.05}, \"xaxis\": {\"automargin\": true, \"gridcolor\": \"rgb(232,232,232)\", \"linecolor\": \"rgb(36,36,36)\", \"showgrid\": false, \"showline\": true, \"ticks\": \"outside\", \"title\": {\"standoff\": 15}, \"zeroline\": false, \"zerolinecolor\": \"rgb(36,36,36)\"}, \"yaxis\": {\"automargin\": true, \"gridcolor\": \"rgb(232,232,232)\", \"linecolor\": \"rgb(36,36,36)\", \"showgrid\": false, \"showline\": true, \"ticks\": \"outside\", \"title\": {\"standoff\": 15}, \"zeroline\": false, \"zerolinecolor\": \"rgb(36,36,36)\"}}}, \"title\": {\"text\": \"InletPressure g-pump-4 for all weeks \"}, \"xaxis\": {\"anchor\": \"y\", \"domain\": [0.0, 1.0], \"title\": {\"text\": \"week\"}, \"type\": \"category\"}, \"yaxis\": {\"anchor\": \"x\", \"domain\": [0.0, 1.0], \"title\": {\"text\": \"feature_value\"}}},\n",
       "                        {\"responsive\": true}\n",
       "                    ).then(function(){\n",
       "                            \n",
       "var gd = document.getElementById('a7c2828d-0b49-4ccf-8c8c-1be1ac8a01b2');\n",
       "var x = new MutationObserver(function (mutations, observer) {{\n",
       "        var display = window.getComputedStyle(gd).display;\n",
       "        if (!display || display === 'none') {{\n",
       "            console.log([gd, 'removed!']);\n",
       "            Plotly.purge(gd);\n",
       "            observer.disconnect();\n",
       "        }}\n",
       "}});\n",
       "\n",
       "// Listen for the removal of the full notebook cells\n",
       "var notebookContainer = gd.closest('#notebook-container');\n",
       "if (notebookContainer) {{\n",
       "    x.observe(notebookContainer, {childList: true});\n",
       "}}\n",
       "\n",
       "// Listen for the clearing of the current output cell\n",
       "var outputEl = gd.closest('.output');\n",
       "if (outputEl) {{\n",
       "    x.observe(outputEl, {childList: true});\n",
       "}}\n",
       "\n",
       "                        })\n",
       "                };\n",
       "                });\n",
       "            </script>\n",
       "        </div>"
      ]
     },
     "metadata": {},
     "output_type": "display_data"
    },
    {
     "data": {
      "application/vnd.plotly.v1+json": {
       "config": {
        "plotlyServerURL": "https://plot.ly"
       },
       "data": [
        {
         "hoverlabel": {
          "namelength": 0
         },
         "hovertemplate": "week=%{x}<br>feature_value=%{y}",
         "legendgroup": "",
         "marker": {
          "color": "#1F77B4",
          "symbol": "circle"
         },
         "mode": "markers",
         "name": "",
         "showlegend": false,
         "type": "scatter",
         "x": [
          47,
          47,
          47,
          47,
          47,
          47,
          47,
          47,
          47,
          47,
          47,
          47,
          47,
          47,
          47,
          47,
          47,
          47,
          47,
          47,
          47,
          47,
          47,
          47,
          47,
          47,
          47,
          47,
          47,
          47,
          47,
          47,
          47,
          47,
          47,
          47,
          47,
          47,
          47,
          47,
          47,
          47,
          47,
          47,
          47,
          47,
          47,
          47,
          47,
          47,
          47,
          47,
          47,
          47,
          47,
          47,
          47,
          47,
          47,
          47,
          47,
          47,
          47,
          47,
          47,
          47,
          47,
          47,
          47,
          47,
          47,
          47,
          47,
          47,
          47,
          47,
          47,
          47,
          47,
          47,
          47,
          47,
          47,
          47,
          47,
          47,
          47,
          47,
          47,
          47,
          47,
          47,
          47,
          47,
          47,
          47,
          47,
          47,
          47,
          47,
          47,
          47,
          47,
          47,
          47,
          47,
          47,
          47,
          48,
          48,
          48,
          48,
          48,
          48,
          48,
          48,
          48,
          48,
          48,
          48,
          48,
          48,
          48,
          48,
          48,
          48,
          48,
          48,
          48,
          48,
          48,
          48,
          48,
          48,
          48,
          48,
          48,
          48,
          48,
          48,
          48,
          48,
          48,
          48,
          48,
          48,
          48,
          48,
          48,
          48,
          48,
          48,
          48,
          48,
          48,
          48,
          48,
          48,
          48,
          48,
          48,
          48,
          48,
          48,
          48,
          48,
          48,
          48,
          48,
          48,
          48,
          48,
          48,
          48,
          48,
          48,
          48,
          48,
          48,
          48,
          48,
          48,
          48,
          48,
          48,
          48,
          48,
          48,
          48,
          48,
          48,
          48,
          48,
          48,
          48,
          48,
          48,
          48,
          48,
          48,
          48,
          48,
          48,
          48,
          48,
          48,
          48,
          48,
          48,
          48,
          48,
          48,
          48,
          48,
          48,
          48,
          48,
          48,
          48,
          48,
          48,
          48,
          48,
          48,
          48,
          48,
          48,
          48,
          48,
          48,
          48,
          48,
          48,
          48,
          48,
          48,
          48,
          48,
          48,
          48,
          48,
          48,
          48,
          48,
          48,
          48,
          48,
          48,
          48,
          48,
          48,
          48,
          48,
          48,
          48,
          48,
          48,
          48,
          48,
          48,
          48,
          48,
          48,
          48,
          48,
          48,
          48,
          48,
          48,
          48,
          48,
          48,
          48,
          48,
          49,
          49,
          49,
          49,
          49,
          49,
          49,
          49,
          49,
          49,
          49,
          49,
          49,
          49,
          49,
          49,
          49,
          49,
          49,
          49,
          49,
          49,
          49,
          49,
          49,
          49,
          49,
          49,
          50,
          50,
          50,
          50,
          50,
          50,
          50,
          50,
          50,
          50,
          50,
          50,
          50,
          50,
          50,
          50,
          50,
          50,
          50,
          50,
          50,
          50,
          50,
          50,
          50,
          50,
          50,
          50,
          50,
          50,
          50,
          50,
          50,
          50,
          50,
          50,
          50,
          50,
          50,
          50,
          50,
          50,
          50,
          50,
          50,
          50,
          50,
          50,
          50,
          50,
          50,
          50,
          50,
          50,
          50,
          50,
          50,
          50,
          50,
          50,
          50,
          50,
          50,
          50,
          50,
          50,
          50,
          50,
          50,
          50,
          50,
          50,
          51,
          51,
          51,
          51,
          51,
          51,
          51,
          51,
          51,
          51,
          51,
          51,
          51,
          51,
          51,
          51,
          51,
          51,
          51,
          51,
          51,
          51,
          51,
          51,
          51,
          51,
          51,
          51,
          51,
          51,
          51,
          51,
          51,
          51,
          51,
          51,
          51,
          51,
          51,
          51,
          51,
          51,
          51,
          51,
          51,
          51,
          51,
          51,
          51,
          51,
          51,
          51,
          51,
          51,
          51,
          51,
          51,
          51,
          51,
          51,
          51,
          51,
          51,
          51,
          51,
          51,
          51,
          51,
          51,
          51,
          51,
          51,
          51,
          51,
          51,
          51,
          51,
          51,
          51,
          51,
          51,
          51,
          51,
          51,
          51,
          51,
          51,
          51,
          51,
          51,
          51,
          51,
          51,
          51,
          51,
          51,
          51,
          51,
          51,
          51,
          51,
          51,
          51,
          51,
          51,
          51,
          51,
          51,
          51,
          51,
          51,
          51,
          51,
          51,
          51,
          51,
          51,
          51,
          51,
          51,
          51,
          51,
          51,
          51,
          51,
          51,
          51,
          51,
          51,
          51,
          51,
          51,
          51,
          51,
          51,
          51,
          51,
          51,
          51,
          51,
          51,
          51,
          51,
          51,
          51,
          51,
          51,
          51,
          51,
          51,
          51,
          51,
          51,
          51,
          51,
          51,
          51,
          51,
          51,
          51,
          51,
          51,
          51,
          51,
          51,
          51,
          51,
          52,
          52,
          52,
          52,
          52,
          52,
          52,
          52,
          52,
          52,
          52,
          52,
          52,
          52,
          52,
          52,
          52,
          52,
          52,
          52,
          52,
          52,
          52,
          52,
          52,
          52,
          52,
          52,
          52,
          52,
          52,
          52,
          52,
          52,
          52,
          52,
          52,
          52,
          52,
          52,
          52,
          52,
          52,
          52,
          52,
          52,
          52,
          52,
          52,
          52,
          52,
          52,
          52,
          52,
          52,
          52,
          52,
          52,
          52,
          52,
          52,
          52,
          52,
          52,
          52,
          52,
          52,
          52,
          52,
          52,
          52,
          52,
          52,
          52,
          52,
          52,
          52,
          52,
          52,
          52,
          52,
          52,
          52,
          52,
          52,
          52,
          52,
          52,
          52,
          52,
          52,
          52,
          52,
          52,
          52,
          52,
          52,
          52,
          52,
          52,
          52,
          52,
          52,
          52,
          52,
          52,
          52,
          52,
          52,
          52,
          52,
          52,
          52,
          52,
          52,
          52,
          52,
          52,
          52,
          52,
          52,
          52,
          52,
          52,
          52,
          52,
          52,
          52,
          52,
          52,
          52,
          52,
          52,
          52,
          52,
          52,
          52,
          52,
          52,
          52,
          52,
          52,
          52,
          52,
          52,
          52,
          52,
          52,
          52,
          52,
          52,
          52,
          52,
          52,
          52,
          52,
          52,
          52,
          52,
          52,
          52,
          52,
          52,
          52,
          52,
          52,
          52,
          52,
          1,
          1,
          1,
          1,
          1,
          1,
          1,
          1,
          1,
          1,
          1,
          1,
          1,
          1,
          1,
          1,
          1,
          1,
          1,
          1,
          1,
          1,
          1,
          1,
          1,
          1,
          1,
          1,
          1,
          1,
          1,
          1,
          1,
          1,
          1,
          1,
          1,
          1,
          1,
          1,
          1,
          1,
          1,
          1,
          1,
          1,
          1,
          1,
          1,
          1,
          1,
          1,
          1,
          1,
          1,
          1,
          1,
          1,
          1,
          1,
          1,
          1,
          1,
          1,
          1,
          1,
          1,
          1,
          1,
          1,
          1,
          1,
          1,
          1,
          1,
          1,
          1,
          1,
          1,
          1,
          1,
          1,
          1,
          1,
          1,
          1,
          1,
          1,
          1,
          1,
          1,
          1,
          1,
          1,
          1,
          1,
          1,
          1,
          1,
          1,
          1,
          1,
          1,
          1,
          1,
          1,
          1,
          1,
          1,
          1,
          1,
          1,
          1,
          1,
          1,
          1,
          1,
          1,
          1,
          1,
          1,
          1,
          1,
          1,
          1,
          1,
          1,
          1,
          1,
          1,
          1,
          1,
          1,
          1,
          1,
          1,
          1,
          1,
          1,
          1,
          1,
          1,
          1,
          1,
          1,
          1,
          1,
          1,
          1,
          1,
          1,
          1,
          1,
          1,
          1,
          2,
          2,
          2
         ],
         "xaxis": "x",
         "y": [
          57.05443674737828,
          56.807081807081794,
          56.3465050031873,
          57.10618471035138,
          57.2337962962963,
          56.95779914529914,
          56.97115384615385,
          57.01757733007735,
          56.97433353683354,
          57.0900742775743,
          57.162571225071225,
          56.9069819069819,
          57.05636955636956,
          57.17528998779,
          57.43666056166057,
          57.011853886853885,
          57.327279202279215,
          57.34317765567767,
          57.1619352869353,
          57.413130850630864,
          57.10152116402116,
          57.25923382173382,
          57.21916971916972,
          57.195004070004074,
          57.35844017094016,
          57.145400895400904,
          57.20454314204315,
          56.98768823768825,
          57.154304029304036,
          56.85795685795686,
          56.94380850630853,
          56.80517399267401,
          56.91582722832724,
          56.833155270655254,
          56.94380850630852,
          57.175289987789995,
          57.3489010989011,
          57.15684778184781,
          57.31456043956042,
          56.94380850630849,
          56.92791005291007,
          56.93681318681322,
          57.02393671143671,
          56.9304538054538,
          56.86622405372407,
          56.90946784696786,
          57.084986772486786,
          57.105972730972724,
          57.015033577533565,
          56.80135836385836,
          56.980056980056986,
          56.76956145706146,
          56.73394892144893,
          56.63029100529101,
          56.741580179080195,
          56.91582722832721,
          56.71932234432237,
          56.7269536019536,
          56.99404761904762,
          56.948260073260066,
          56.86876780626781,
          56.84650997150998,
          56.856684981684985,
          56.89293345543347,
          57.09198209198209,
          56.7549348799349,
          56.95843508343509,
          56.98896011396013,
          57.252238502238505,
          57.113603988604005,
          57.04492266992268,
          56.90438034188035,
          56.9622507122507,
          57.16193528693529,
          56.74539580789581,
          56.330764143264155,
          56.51645807895809,
          56.59213471713473,
          56.75938644688645,
          56.70978327228328,
          56.72568172568174,
          56.871947496947534,
          56.895477207977216,
          56.84078652828654,
          56.90501628001629,
          56.80326617826619,
          56.95207570207571,
          57.170838420838436,
          56.941900691900685,
          56.91010378510381,
          57.16956654456656,
          56.95843508343509,
          57.070996133496145,
          56.91391941391941,
          57.26750101750102,
          57.02838827838829,
          56.99977106227106,
          57.06400081400084,
          57.209630647130645,
          57.140313390313395,
          57.19754782254784,
          56.90819597069599,
          57.12759462759464,
          56.90756003256001,
          57.21853378103379,
          57.221077533577535,
          56.89992877492878,
          57.156211843711844,
          57.32219169719172,
          57.45065120065121,
          57.3635276760277,
          57.30883699633702,
          57.26559320309321,
          57.49135124135123,
          57.627442002441995,
          57.43093711843713,
          57.38705738705738,
          57.55558099308098,
          57.48626373626374,
          57.299297924297925,
          57.45383089133091,
          57.59818884818885,
          57.443019943019955,
          57.85892348392349,
          57.86782661782663,
          57.85955942205943,
          57.90979853479854,
          57.79214997964999,
          57.80868437118436,
          58.01409238909239,
          57.858287545787555,
          57.9307844932845,
          57.775615588115585,
          57.936507936507944,
          58.14827533577536,
          57.985475172975185,
          58.11647842897844,
          57.95940170940171,
          57.705026455026456,
          57.90280321530323,
          57.65605921855922,
          57.78070309320311,
          57.5167887667888,
          57.805504680504676,
          57.597552910052904,
          57.71520146520147,
          57.8442969067969,
          57.911706349206355,
          57.77688746438745,
          57.7559015059015,
          57.96639702889703,
          57.76925620675621,
          57.95240638990639,
          58.07832214082214,
          57.94859076109078,
          57.498982498982514,
          58.13810032560033,
          58.271011396011396,
          58.08404558404559,
          57.897715710215714,
          58.158450345950335,
          58.0344424094424,
          58.24557387057388,
          57.65860297110299,
          57.967668905168914,
          57.83602971102971,
          57.954314204314215,
          58.07514245014246,
          57.73936711436712,
          57.7571733821734,
          57.767348392348396,
          57.458918396418404,
          57.721560846560855,
          57.65860297110297,
          57.720924908424905,
          57.29039479039479,
          57.81631562881565,
          57.83030626780627,
          57.833485958485966,
          57.93841575091576,
          58.117750305250304,
          57.96830484330486,
          57.838573463573475,
          57.759717134717135,
          57.53777472527472,
          57.891992266992276,
          57.89962352462353,
          57.5288715913716,
          57.60645604395603,
          57.56257631257632,
          57.59310134310133,
          57.66114672364674,
          57.61981074481074,
          57.49516687016688,
          57.42584961334961,
          57.89453601953604,
          57.493894993895,
          57.555580993081,
          57.74000305250306,
          57.54922161172163,
          57.20136345136347,
          57.84238909238909,
          57.705026455026456,
          57.67831705331705,
          57.64397639397642,
          57.62871387871388,
          57.73491554741556,
          57.68976393976394,
          57.73745929995931,
          57.522512210012216,
          57.57338726088725,
          57.47736060236062,
          57.43793243793245,
          57.392780830280834,
          57.49135124135123,
          57.70184676434676,
          57.46591371591373,
          57.41567460317461,
          57.49707468457467,
          57.4023199023199,
          57.5256919006919,
          57.438568376068396,
          57.63634513634514,
          57.593101343101345,
          57.619810744810756,
          57.59182946682949,
          57.64079670329671,
          57.67132173382174,
          57.84620472120472,
          57.68340455840456,
          57.790878103378105,
          57.7673483923484,
          57.74636243386243,
          57.65287952787952,
          57.79342185592187,
          57.8856328856329,
          57.650335775335776,
          57.73364367114365,
          58.179436304436315,
          58.08086589336589,
          57.75653744403746,
          57.59882478632479,
          58.2144129019129,
          57.91297822547824,
          57.74445461945462,
          58.0573361823362,
          57.74699837199839,
          57.809320309320306,
          57.799145299145316,
          58.066875254375255,
          57.67170329670332,
          57.76035307285309,
          58.22140822140824,
          57.90661884411887,
          57.90916259666261,
          57.884996947496965,
          57.802324989824996,
          57.8608312983313,
          58.09104090354092,
          58.22013634513633,
          58.34350834350835,
          58.185795685795675,
          58.028083028083024,
          58.134920634920654,
          58.456069393569386,
          57.803596866096875,
          58.04334554334554,
          57.916793854293836,
          57.908526658526654,
          57.8989875864876,
          57.69930301180303,
          58.00328144078146,
          57.7272842897843,
          57.815679690679694,
          58.110754985754994,
          57.77434371184372,
          58.048433048433054,
          58.069419006919,
          58.00773300773304,
          57.60645604395606,
          57.780067155067144,
          57.89008445258446,
          57.81885938135938,
          57.70375457875458,
          57.54413410663411,
          57.38705738705739,
          57.60582010582012,
          57.57974664224667,
          57.66750610500612,
          57.70439051689053,
          57.547949735449755,
          57.8506562881563,
          57.749542124542124,
          57.61408730158731,
          57.52823565323566,
          57.57338726088727,
          57.76925620675622,
          57.691035816035814,
          57.288486975986984,
          57.69930301180301,
          57.95367826617825,
          57.87863756613758,
          57.318376068376075,
          57.29421041921043,
          57.48181216931216,
          57.277676027676044,
          57.69485144485145,
          57.667506105006105,
          57.727284289784286,
          57.65287952787954,
          57.342541717541714,
          57.65160765160766,
          57.65733109483108,
          57.61408730158731,
          57.47926841676844,
          57.25594814136482,
          57.705026455026484,
          57.563848188848176,
          57.43157305657306,
          57.207086894586894,
          57.42648555148557,
          57.23634004884005,
          57.3387260887261,
          57.35653235653234,
          57.75526556776558,
          57.52378408628408,
          57.65605921855922,
          57.522512210012216,
          57.46209808709809,
          57.29929792429794,
          57.483084045584036,
          57.23824786324786,
          57.271316646316656,
          57.44556369556371,
          57.32155575905576,
          57.31837606837607,
          57.286579161579176,
          57.513609076109105,
          57.533323158323164,
          57.08498677248679,
          57.5517653642654,
          57.39786833536832,
          57.51869658119659,
          57.275768213268236,
          57.43030118030119,
          57.306929181929185,
          57.296118233618245,
          57.372430809930826,
          57.425213675213676,
          57.60327635327638,
          57.58610602360602,
          57.4207621082621,
          57.41631054131056,
          57.32028388278388,
          57.35589641839641,
          57.32791514041514,
          57.152396214896214,
          57.41440272690273,
          57.43220899470899,
          57.22807285307287,
          57.47608872608873,
          57.5072496947497,
          57.529507529507526,
          57.43856837606838,
          57.288486975986984,
          57.233796296296305,
          57.14603683353685,
          57.18610093610095,
          57.27640415140416,
          57.32473544973546,
          57.30502136752137,
          57.392780830280834,
          57.56639194139194,
          57.51678876678877,
          57.802324989825,
          57.4404761904762,
          57.436660561660574,
          57.45828245828247,
          57.21789784289786,
          57.322827635327634,
          57.266229141229154,
          57.42313242313244,
          57.538410663410666,
          57.52569190069192,
          57.43220899470901,
          57.47672466422467,
          57.43602462352464,
          57.48562779812781,
          57.71265771265772,
          58.14636752136753,
          58.005189255189265,
          57.717109279609296,
          57.84048127798129,
          57.154939967439994,
          56.621387871387874,
          56.47385022385024,
          56.52599715099715,
          56.58641127391129,
          56.464947089947096,
          56.53490028490027,
          56.57178469678471,
          56.74666768416768,
          56.55079873829873,
          56.440145502645514,
          56.54761904761906,
          56.304054741554744,
          56.470034595034605,
          56.5120065120065,
          56.403897028897035,
          56.48656898656901,
          56.277981277981304,
          56.359381359381395,
          56.4719424094424,
          56.47575803825806,
          56.4115282865283,
          56.48148148148152,
          56.51518620268619,
          56.51772995522996,
          56.63983007733009,
          56.387998575498585,
          56.73712861212862,
          57.06145706145708,
          56.87385531135532,
          57.051917989417994,
          57.02966015466017,
          57.00231481481484,
          56.81089743589745,
          56.82488807488809,
          56.64682539682539,
          56.62329568579571,
          56.50246743996743,
          56.53871591371592,
          56.67289886039885,
          56.7803724053724,
          56.26780626780627,
          56.67862230362232,
          56.72949735449735,
          56.88148656898655,
          56.58259564509566,
          56.318681318681314,
          56.55779405779407,
          56.590862840862854,
          56.445868945868945,
          56.754934879934886,
          56.69833638583638,
          56.67544261294262,
          56.79563492063491,
          56.99977106227106,
          56.99849918599919,
          56.817256817256826,
          57.17401811151811,
          57.16511497761497,
          57.02457264957266,
          56.93999287749288,
          57.03792735042736,
          57.02648046398048,
          57.16511497761499,
          57.21281033781036,
          57.294846357346366,
          57.431573056573065,
          57.11932743182745,
          57.02520858770859,
          57.12823056573058,
          57.172746235246244,
          57.030932030932036,
          57.06018518518519,
          57.0582773707774,
          57.128230565730554,
          57.11423992673992,
          56.87767094017094,
          57.16829466829466,
          57.29421041921044,
          57.12759462759465,
          57.094525844525855,
          57.06463675213678,
          56.91391941391944,
          57.04428673178675,
          56.980692918192915,
          57.07163207163208,
          56.96670227920229,
          57.10788054538054,
          57.105972730972724,
          57.07290394790397,
          57.1371336996337,
          57.1155118030118,
          57.22807285307287,
          57.4156746031746,
          57.49325905575906,
          57.501526251526265,
          57.53586691086692,
          57.381333943833944,
          57.38324175824177,
          57.65542328042329,
          57.53014346764346,
          57.53968253968255,
          57.43030118030118,
          57.51806064306066,
          57.279583842083845,
          57.49007936507939,
          57.400412087912095,
          57.5772028897029,
          57.498346560846585,
          57.446835571835585,
          57.490715303215325,
          57.52124033374033,
          57.51424501424501,
          57.48435592185593,
          57.38260582010582,
          57.2585978835979,
          57.50407000407002,
          57.42966524216525,
          57.381969881969894,
          57.415038665038686,
          57.507249694749696,
          57.12695868945868,
          57.45001526251528,
          57.429665242165264,
          57.60582010582012,
          57.478632478632484,
          57.55367317867319,
          57.147308709808705,
          57.329822954822966,
          57.26304945054945,
          57.474816849816854,
          57.32982295482298,
          57.43793243793245,
          57.13077431827432,
          57.38451363451366,
          57.21217439967441,
          57.288486975986984,
          57.326643264143264,
          57.24015567765567,
          57.29675417175418,
          57.41122303622304,
          57.61345136345136,
          57.51996845746848,
          57.65733109483111,
          57.4557387057387,
          57.507249694749696,
          57.66877798127799,
          57.60518416768417,
          57.56512006512008,
          57.558124745624745,
          57.67068579568579,
          57.66178266178267,
          57.46972934472936,
          57.69930301180302,
          57.56766381766383,
          57.28594322344322,
          57.45573870573869,
          57.43856837606837,
          57.376882376882385,
          57.33936202686203,
          57.46082621082621,
          57.58610602360604,
          57.327279202279215,
          57.64906389906391,
          57.66877798127802,
          57.67640923890926,
          57.55748880748882,
          57.556216931216944,
          57.58101851851851,
          57.36607142857142,
          57.428393365893356,
          57.49198717948719,
          57.23570411070411,
          57.36607142857144,
          57.213446275946275,
          57.03729141229143,
          57.22807285307285,
          57.1918243793244,
          57.205179080179086,
          57.09325396825398,
          57.21153846153848,
          57.25478225478225,
          57.46146214896216,
          57.533959096459114,
          57.280855718355745,
          57.62934981684983,
          57.133954008954,
          57.29866198616199,
          57.41694647944649,
          57.63252950752951,
          57.70248270248268,
          57.59310134310135,
          57.51551689051689,
          57.23125254375253,
          57.350172975172995,
          57.25732600732601,
          57.19818376068377,
          57.425213675213676,
          57.17465404965407,
          57.38133394383394,
          57.28530728530729,
          57.11869149369152,
          57.217261904761905,
          57.210902523402524,
          57.14921652421652,
          57.03347578347581,
          57.498982498982514,
          57.59755291005292,
          57.49198717948719,
          57.31710419210419,
          57.33999796499797,
          57.48880748880748,
          57.359712047212064,
          57.50788563288564,
          57.478632478632484,
          57.33618233618236,
          57.42457773707775,
          57.54349816849818,
          57.44174806674806,
          57.36607142857144,
          57.317740130240146,
          57.2554181929182,
          57.2738603988604,
          57.26622914122913,
          57.05255392755395,
          57.430937118437136,
          57.13840557590559,
          57.301205738705754,
          57.26686507936508,
          57.29293854293855,
          57.455102767602774,
          57.4773606023606,
          57.240155677655686,
          57.62362637362639,
          57.49262311762314,
          57.47799654049655,
          57.52251221001219,
          57.49834656084658,
          57.49580280830281,
          57.51551689051689,
          57.37942612942612,
          57.58737789987791,
          57.42076210826212,
          57.49961843711845,
          57.4620980870981,
          57.53777472527475,
          57.420126170126174,
          57.081171143671156,
          57.343177655677664,
          57.45383089133086,
          57.57020757020755,
          57.41631054131056,
          57.31964794464795,
          57.45319495319495,
          57.55367317867319,
          57.467185592185594,
          57.43920431420432,
          57.415674603174615,
          57.67259361009362,
          57.564484126984134,
          57.499618437118436,
          57.5104293854294,
          57.59691697191698,
          57.502162189662194,
          57.36098392348393,
          57.49961843711844,
          57.39659645909648,
          57.37433862433863,
          57.293574481074494,
          57.66305453805455,
          57.46273402523402,
          57.42139804639806,
          57.404227716727725,
          57.55876068376069,
          57.42203398453399,
          57.476088726088726,
          57.685312372812376,
          57.59946072446073,
          57.43793243793245,
          57.64652014652015,
          57.64588420838422,
          57.39659645909646,
          57.25478225478225,
          57.70566239316239,
          57.66941391941393,
          57.589921652421644,
          57.60772792022792,
          57.51996845746848,
          57.42966524216524,
          57.57847476597477,
          57.61472323972325,
          57.58483414733416,
          57.564484126984134,
          57.56257631257632,
          57.647156084656096,
          57.783246845746866,
          58.005189255189265,
          57.60772792022794,
          57.558760683760674,
          57.52187627187629,
          57.62489824989828,
          57.753357753357754,
          58.0344424094424,
          57.801689051689074,
          57.749542124542124,
          57.70439051689052,
          57.8290343915344,
          57.61726699226703,
          57.92188135938136,
          57.75017806267808,
          57.822675010175026,
          57.90598290598292,
          57.73046398046399,
          57.904075091575095,
          57.753357753357754,
          57.89008445258446,
          57.75717338217339,
          57.760353072853086,
          57.912978225478234,
          57.64779202279203,
          57.7673483923484,
          57.753357753357754,
          57.864010989011,
          57.89898758648758,
          57.97275641025641,
          57.76925620675622,
          57.848112535612536,
          57.95304232804233,
          58.07832214082214,
          58.04843304843305,
          58.32633801383801,
          57.94541107041109,
          58.312983312983334,
          58.20296601546602,
          58.3791208791209,
          58.438899063899065,
          58.059879934879945,
          58.18833943833943,
          57.959401709401725,
          58.01600020350019,
          58.243666056166056,
          58.138736263736284,
          58.244301994302,
          58.14700345950347,
          57.95685795685798,
          58.029354904354896,
          57.96448921448922,
          57.99247049247051,
          57.896443833943856,
          58.23985042735044,
          57.87736568986569,
          58.08213776963777,
          57.81695156695158,
          57.73873117623119,
          57.96448921448922,
          57.93142043142043,
          58.15463471713471,
          57.91361416361417,
          57.8919922669923,
          57.83920940170941,
          57.935236060236065,
          57.698031135531146,
          57.60391229141231,
          57.68404049654051,
          57.53014346764346,
          57.81122812372812,
          57.62617012617013,
          57.861467236467256,
          57.73682336182336,
          57.9008954008954,
          58.04970492470493,
          58.24048636548637,
          58.09549247049248,
          58.131105006105,
          57.969576719576715,
          57.995014245014254,
          57.848112535612536,
          57.949862637362635,
          57.916793854293864,
          58.04525335775335,
          57.87482193732194,
          57.696759259259274,
          57.92887667887669,
          57.741910866910864,
          57.72792022792024,
          57.97911579161579,
          57.909162596662604,
          58.240486365486355,
          58.20805352055353,
          58.09294871794872,
          58.03889397639398,
          58.00010175010175,
          57.934600122100115,
          58.23349104599105,
          58.09676434676435,
          58.1692612942613,
          58.14191595441596,
          58.029990842490854,
          57.94668294668295,
          58.08213776963777,
          58.24175824175825,
          58.06814713064714,
          58.11647842897846,
          58.51330382580385,
          58.392475579975574,
          58.51457570207569,
          58.45288970288971,
          58.42872405372407,
          58.22204415954416,
          58.38738807488809,
          58.45670533170534,
          58.396291208791204,
          58.48023504273505,
          58.57626170126171,
          58.6614774114774,
          58.72825091575092,
          58.665293040293044,
          58.468788156288156,
          58.69708994708995,
          58.606150793650805,
          58.60360704110705,
          58.462428774928775,
          58.39056776556776,
          58.53619759869762,
          58.45543345543344,
          58.50758038258041,
          58.50440069190069,
          58.59216015466015,
          58.72825091575093,
          58.84208384208383,
          58.72061965811966,
          58.70726495726495,
          58.8331807081807,
          58.84081196581197,
          58.86497761497761,
          58.62077737077738,
          58.788665038665016,
          58.804563492063494,
          58.56926638176639,
          58.66274928774931,
          58.68246336996338,
          58.81791819291818,
          58.76895095645096,
          58.76767908017908,
          58.7295227920228,
          58.75941188441191,
          58.78421347171348,
          58.63667582417583,
          58.68500712250715,
          58.82046194546197,
          58.60360704110703,
          58.60233516483516,
          58.733338420838415,
          58.76577126577127,
          58.69200244200243,
          58.649394586894594,
          58.6277726902727,
          58.57753357753361,
          58.624592999593,
          58.796296296296305,
          58.63540394790397,
          58.594703907203915,
          58.65702584452583,
          58.770222832722844,
          58.70853683353684,
          58.83763227513228,
          58.71680402930402,
          58.814738502238505,
          58.703449328449324,
          58.727614977614984,
          58.73524623524623,
          58.79947598697597,
          58.79693223443223,
          58.83381664631664
         ],
         "yaxis": "y"
        }
       ],
       "layout": {
        "legend": {
         "tracegroupgap": 0
        },
        "template": {
         "data": {
          "bar": [
           {
            "error_x": {
             "color": "rgb(36,36,36)"
            },
            "error_y": {
             "color": "rgb(36,36,36)"
            },
            "marker": {
             "line": {
              "color": "white",
              "width": 0.5
             }
            },
            "type": "bar"
           }
          ],
          "barpolar": [
           {
            "marker": {
             "line": {
              "color": "white",
              "width": 0.5
             }
            },
            "type": "barpolar"
           }
          ],
          "carpet": [
           {
            "aaxis": {
             "endlinecolor": "rgb(36,36,36)",
             "gridcolor": "white",
             "linecolor": "white",
             "minorgridcolor": "white",
             "startlinecolor": "rgb(36,36,36)"
            },
            "baxis": {
             "endlinecolor": "rgb(36,36,36)",
             "gridcolor": "white",
             "linecolor": "white",
             "minorgridcolor": "white",
             "startlinecolor": "rgb(36,36,36)"
            },
            "type": "carpet"
           }
          ],
          "choropleth": [
           {
            "colorbar": {
             "outlinewidth": 1,
             "tickcolor": "rgb(36,36,36)",
             "ticks": "outside"
            },
            "type": "choropleth"
           }
          ],
          "contour": [
           {
            "colorbar": {
             "outlinewidth": 1,
             "tickcolor": "rgb(36,36,36)",
             "ticks": "outside"
            },
            "colorscale": [
             [
              0,
              "#440154"
             ],
             [
              0.1111111111111111,
              "#482878"
             ],
             [
              0.2222222222222222,
              "#3e4989"
             ],
             [
              0.3333333333333333,
              "#31688e"
             ],
             [
              0.4444444444444444,
              "#26828e"
             ],
             [
              0.5555555555555556,
              "#1f9e89"
             ],
             [
              0.6666666666666666,
              "#35b779"
             ],
             [
              0.7777777777777778,
              "#6ece58"
             ],
             [
              0.8888888888888888,
              "#b5de2b"
             ],
             [
              1,
              "#fde725"
             ]
            ],
            "type": "contour"
           }
          ],
          "contourcarpet": [
           {
            "colorbar": {
             "outlinewidth": 1,
             "tickcolor": "rgb(36,36,36)",
             "ticks": "outside"
            },
            "type": "contourcarpet"
           }
          ],
          "heatmap": [
           {
            "colorbar": {
             "outlinewidth": 1,
             "tickcolor": "rgb(36,36,36)",
             "ticks": "outside"
            },
            "colorscale": [
             [
              0,
              "#440154"
             ],
             [
              0.1111111111111111,
              "#482878"
             ],
             [
              0.2222222222222222,
              "#3e4989"
             ],
             [
              0.3333333333333333,
              "#31688e"
             ],
             [
              0.4444444444444444,
              "#26828e"
             ],
             [
              0.5555555555555556,
              "#1f9e89"
             ],
             [
              0.6666666666666666,
              "#35b779"
             ],
             [
              0.7777777777777778,
              "#6ece58"
             ],
             [
              0.8888888888888888,
              "#b5de2b"
             ],
             [
              1,
              "#fde725"
             ]
            ],
            "type": "heatmap"
           }
          ],
          "heatmapgl": [
           {
            "colorbar": {
             "outlinewidth": 1,
             "tickcolor": "rgb(36,36,36)",
             "ticks": "outside"
            },
            "colorscale": [
             [
              0,
              "#440154"
             ],
             [
              0.1111111111111111,
              "#482878"
             ],
             [
              0.2222222222222222,
              "#3e4989"
             ],
             [
              0.3333333333333333,
              "#31688e"
             ],
             [
              0.4444444444444444,
              "#26828e"
             ],
             [
              0.5555555555555556,
              "#1f9e89"
             ],
             [
              0.6666666666666666,
              "#35b779"
             ],
             [
              0.7777777777777778,
              "#6ece58"
             ],
             [
              0.8888888888888888,
              "#b5de2b"
             ],
             [
              1,
              "#fde725"
             ]
            ],
            "type": "heatmapgl"
           }
          ],
          "histogram": [
           {
            "marker": {
             "line": {
              "color": "white",
              "width": 0.6
             }
            },
            "type": "histogram"
           }
          ],
          "histogram2d": [
           {
            "colorbar": {
             "outlinewidth": 1,
             "tickcolor": "rgb(36,36,36)",
             "ticks": "outside"
            },
            "colorscale": [
             [
              0,
              "#440154"
             ],
             [
              0.1111111111111111,
              "#482878"
             ],
             [
              0.2222222222222222,
              "#3e4989"
             ],
             [
              0.3333333333333333,
              "#31688e"
             ],
             [
              0.4444444444444444,
              "#26828e"
             ],
             [
              0.5555555555555556,
              "#1f9e89"
             ],
             [
              0.6666666666666666,
              "#35b779"
             ],
             [
              0.7777777777777778,
              "#6ece58"
             ],
             [
              0.8888888888888888,
              "#b5de2b"
             ],
             [
              1,
              "#fde725"
             ]
            ],
            "type": "histogram2d"
           }
          ],
          "histogram2dcontour": [
           {
            "colorbar": {
             "outlinewidth": 1,
             "tickcolor": "rgb(36,36,36)",
             "ticks": "outside"
            },
            "colorscale": [
             [
              0,
              "#440154"
             ],
             [
              0.1111111111111111,
              "#482878"
             ],
             [
              0.2222222222222222,
              "#3e4989"
             ],
             [
              0.3333333333333333,
              "#31688e"
             ],
             [
              0.4444444444444444,
              "#26828e"
             ],
             [
              0.5555555555555556,
              "#1f9e89"
             ],
             [
              0.6666666666666666,
              "#35b779"
             ],
             [
              0.7777777777777778,
              "#6ece58"
             ],
             [
              0.8888888888888888,
              "#b5de2b"
             ],
             [
              1,
              "#fde725"
             ]
            ],
            "type": "histogram2dcontour"
           }
          ],
          "mesh3d": [
           {
            "colorbar": {
             "outlinewidth": 1,
             "tickcolor": "rgb(36,36,36)",
             "ticks": "outside"
            },
            "type": "mesh3d"
           }
          ],
          "parcoords": [
           {
            "line": {
             "colorbar": {
              "outlinewidth": 1,
              "tickcolor": "rgb(36,36,36)",
              "ticks": "outside"
             }
            },
            "type": "parcoords"
           }
          ],
          "pie": [
           {
            "automargin": true,
            "type": "pie"
           }
          ],
          "scatter": [
           {
            "marker": {
             "colorbar": {
              "outlinewidth": 1,
              "tickcolor": "rgb(36,36,36)",
              "ticks": "outside"
             }
            },
            "type": "scatter"
           }
          ],
          "scatter3d": [
           {
            "line": {
             "colorbar": {
              "outlinewidth": 1,
              "tickcolor": "rgb(36,36,36)",
              "ticks": "outside"
             }
            },
            "marker": {
             "colorbar": {
              "outlinewidth": 1,
              "tickcolor": "rgb(36,36,36)",
              "ticks": "outside"
             }
            },
            "type": "scatter3d"
           }
          ],
          "scattercarpet": [
           {
            "marker": {
             "colorbar": {
              "outlinewidth": 1,
              "tickcolor": "rgb(36,36,36)",
              "ticks": "outside"
             }
            },
            "type": "scattercarpet"
           }
          ],
          "scattergeo": [
           {
            "marker": {
             "colorbar": {
              "outlinewidth": 1,
              "tickcolor": "rgb(36,36,36)",
              "ticks": "outside"
             }
            },
            "type": "scattergeo"
           }
          ],
          "scattergl": [
           {
            "marker": {
             "colorbar": {
              "outlinewidth": 1,
              "tickcolor": "rgb(36,36,36)",
              "ticks": "outside"
             }
            },
            "type": "scattergl"
           }
          ],
          "scattermapbox": [
           {
            "marker": {
             "colorbar": {
              "outlinewidth": 1,
              "tickcolor": "rgb(36,36,36)",
              "ticks": "outside"
             }
            },
            "type": "scattermapbox"
           }
          ],
          "scatterpolar": [
           {
            "marker": {
             "colorbar": {
              "outlinewidth": 1,
              "tickcolor": "rgb(36,36,36)",
              "ticks": "outside"
             }
            },
            "type": "scatterpolar"
           }
          ],
          "scatterpolargl": [
           {
            "marker": {
             "colorbar": {
              "outlinewidth": 1,
              "tickcolor": "rgb(36,36,36)",
              "ticks": "outside"
             }
            },
            "type": "scatterpolargl"
           }
          ],
          "scatterternary": [
           {
            "marker": {
             "colorbar": {
              "outlinewidth": 1,
              "tickcolor": "rgb(36,36,36)",
              "ticks": "outside"
             }
            },
            "type": "scatterternary"
           }
          ],
          "surface": [
           {
            "colorbar": {
             "outlinewidth": 1,
             "tickcolor": "rgb(36,36,36)",
             "ticks": "outside"
            },
            "colorscale": [
             [
              0,
              "#440154"
             ],
             [
              0.1111111111111111,
              "#482878"
             ],
             [
              0.2222222222222222,
              "#3e4989"
             ],
             [
              0.3333333333333333,
              "#31688e"
             ],
             [
              0.4444444444444444,
              "#26828e"
             ],
             [
              0.5555555555555556,
              "#1f9e89"
             ],
             [
              0.6666666666666666,
              "#35b779"
             ],
             [
              0.7777777777777778,
              "#6ece58"
             ],
             [
              0.8888888888888888,
              "#b5de2b"
             ],
             [
              1,
              "#fde725"
             ]
            ],
            "type": "surface"
           }
          ],
          "table": [
           {
            "cells": {
             "fill": {
              "color": "rgb(237,237,237)"
             },
             "line": {
              "color": "white"
             }
            },
            "header": {
             "fill": {
              "color": "rgb(217,217,217)"
             },
             "line": {
              "color": "white"
             }
            },
            "type": "table"
           }
          ]
         },
         "layout": {
          "annotationdefaults": {
           "arrowhead": 0,
           "arrowwidth": 1
          },
          "coloraxis": {
           "colorbar": {
            "outlinewidth": 1,
            "tickcolor": "rgb(36,36,36)",
            "ticks": "outside"
           }
          },
          "colorscale": {
           "diverging": [
            [
             0,
             "rgb(103,0,31)"
            ],
            [
             0.1,
             "rgb(178,24,43)"
            ],
            [
             0.2,
             "rgb(214,96,77)"
            ],
            [
             0.3,
             "rgb(244,165,130)"
            ],
            [
             0.4,
             "rgb(253,219,199)"
            ],
            [
             0.5,
             "rgb(247,247,247)"
            ],
            [
             0.6,
             "rgb(209,229,240)"
            ],
            [
             0.7,
             "rgb(146,197,222)"
            ],
            [
             0.8,
             "rgb(67,147,195)"
            ],
            [
             0.9,
             "rgb(33,102,172)"
            ],
            [
             1,
             "rgb(5,48,97)"
            ]
           ],
           "sequential": [
            [
             0,
             "#440154"
            ],
            [
             0.1111111111111111,
             "#482878"
            ],
            [
             0.2222222222222222,
             "#3e4989"
            ],
            [
             0.3333333333333333,
             "#31688e"
            ],
            [
             0.4444444444444444,
             "#26828e"
            ],
            [
             0.5555555555555556,
             "#1f9e89"
            ],
            [
             0.6666666666666666,
             "#35b779"
            ],
            [
             0.7777777777777778,
             "#6ece58"
            ],
            [
             0.8888888888888888,
             "#b5de2b"
            ],
            [
             1,
             "#fde725"
            ]
           ],
           "sequentialminus": [
            [
             0,
             "#440154"
            ],
            [
             0.1111111111111111,
             "#482878"
            ],
            [
             0.2222222222222222,
             "#3e4989"
            ],
            [
             0.3333333333333333,
             "#31688e"
            ],
            [
             0.4444444444444444,
             "#26828e"
            ],
            [
             0.5555555555555556,
             "#1f9e89"
            ],
            [
             0.6666666666666666,
             "#35b779"
            ],
            [
             0.7777777777777778,
             "#6ece58"
            ],
            [
             0.8888888888888888,
             "#b5de2b"
            ],
            [
             1,
             "#fde725"
            ]
           ]
          },
          "colorway": [
           "#1F77B4",
           "#FF7F0E",
           "#2CA02C",
           "#D62728",
           "#9467BD",
           "#8C564B",
           "#E377C2",
           "#7F7F7F",
           "#BCBD22",
           "#17BECF"
          ],
          "font": {
           "color": "rgb(36,36,36)"
          },
          "geo": {
           "bgcolor": "white",
           "lakecolor": "white",
           "landcolor": "white",
           "showlakes": true,
           "showland": true,
           "subunitcolor": "white"
          },
          "hoverlabel": {
           "align": "left"
          },
          "hovermode": "closest",
          "mapbox": {
           "style": "light"
          },
          "paper_bgcolor": "white",
          "plot_bgcolor": "white",
          "polar": {
           "angularaxis": {
            "gridcolor": "rgb(232,232,232)",
            "linecolor": "rgb(36,36,36)",
            "showgrid": false,
            "showline": true,
            "ticks": "outside"
           },
           "bgcolor": "white",
           "radialaxis": {
            "gridcolor": "rgb(232,232,232)",
            "linecolor": "rgb(36,36,36)",
            "showgrid": false,
            "showline": true,
            "ticks": "outside"
           }
          },
          "scene": {
           "xaxis": {
            "backgroundcolor": "white",
            "gridcolor": "rgb(232,232,232)",
            "gridwidth": 2,
            "linecolor": "rgb(36,36,36)",
            "showbackground": true,
            "showgrid": false,
            "showline": true,
            "ticks": "outside",
            "zeroline": false,
            "zerolinecolor": "rgb(36,36,36)"
           },
           "yaxis": {
            "backgroundcolor": "white",
            "gridcolor": "rgb(232,232,232)",
            "gridwidth": 2,
            "linecolor": "rgb(36,36,36)",
            "showbackground": true,
            "showgrid": false,
            "showline": true,
            "ticks": "outside",
            "zeroline": false,
            "zerolinecolor": "rgb(36,36,36)"
           },
           "zaxis": {
            "backgroundcolor": "white",
            "gridcolor": "rgb(232,232,232)",
            "gridwidth": 2,
            "linecolor": "rgb(36,36,36)",
            "showbackground": true,
            "showgrid": false,
            "showline": true,
            "ticks": "outside",
            "zeroline": false,
            "zerolinecolor": "rgb(36,36,36)"
           }
          },
          "shapedefaults": {
           "fillcolor": "black",
           "line": {
            "width": 0
           },
           "opacity": 0.3
          },
          "ternary": {
           "aaxis": {
            "gridcolor": "rgb(232,232,232)",
            "linecolor": "rgb(36,36,36)",
            "showgrid": false,
            "showline": true,
            "ticks": "outside"
           },
           "baxis": {
            "gridcolor": "rgb(232,232,232)",
            "linecolor": "rgb(36,36,36)",
            "showgrid": false,
            "showline": true,
            "ticks": "outside"
           },
           "bgcolor": "white",
           "caxis": {
            "gridcolor": "rgb(232,232,232)",
            "linecolor": "rgb(36,36,36)",
            "showgrid": false,
            "showline": true,
            "ticks": "outside"
           }
          },
          "title": {
           "x": 0.05
          },
          "xaxis": {
           "automargin": true,
           "gridcolor": "rgb(232,232,232)",
           "linecolor": "rgb(36,36,36)",
           "showgrid": false,
           "showline": true,
           "ticks": "outside",
           "title": {
            "standoff": 15
           },
           "zeroline": false,
           "zerolinecolor": "rgb(36,36,36)"
          },
          "yaxis": {
           "automargin": true,
           "gridcolor": "rgb(232,232,232)",
           "linecolor": "rgb(36,36,36)",
           "showgrid": false,
           "showline": true,
           "ticks": "outside",
           "title": {
            "standoff": 15
           },
           "zeroline": false,
           "zerolinecolor": "rgb(36,36,36)"
          }
         }
        },
        "title": {
         "text": "OutletPressure g-pump-4 for all weeks "
        },
        "xaxis": {
         "anchor": "y",
         "domain": [
          0,
          1
         ],
         "title": {
          "text": "week"
         },
         "type": "category"
        },
        "yaxis": {
         "anchor": "x",
         "domain": [
          0,
          1
         ],
         "title": {
          "text": "feature_value"
         }
        }
       }
      },
      "text/html": [
       "<div>\n",
       "        \n",
       "        \n",
       "            <div id=\"84332a4a-abd7-4b01-91ce-2b47614f989b\" class=\"plotly-graph-div\" style=\"height:525px; width:100%;\"></div>\n",
       "            <script type=\"text/javascript\">\n",
       "                require([\"plotly\"], function(Plotly) {\n",
       "                    window.PLOTLYENV=window.PLOTLYENV || {};\n",
       "                    \n",
       "                if (document.getElementById(\"84332a4a-abd7-4b01-91ce-2b47614f989b\")) {\n",
       "                    Plotly.newPlot(\n",
       "                        '84332a4a-abd7-4b01-91ce-2b47614f989b',\n",
       "                        [{\"hoverlabel\": {\"namelength\": 0}, \"hovertemplate\": \"week=%{x}<br>feature_value=%{y}\", \"legendgroup\": \"\", \"marker\": {\"color\": \"#1F77B4\", \"symbol\": \"circle\"}, \"mode\": \"markers\", \"name\": \"\", \"showlegend\": false, \"type\": \"scatter\", \"x\": [47, 47, 47, 47, 47, 47, 47, 47, 47, 47, 47, 47, 47, 47, 47, 47, 47, 47, 47, 47, 47, 47, 47, 47, 47, 47, 47, 47, 47, 47, 47, 47, 47, 47, 47, 47, 47, 47, 47, 47, 47, 47, 47, 47, 47, 47, 47, 47, 47, 47, 47, 47, 47, 47, 47, 47, 47, 47, 47, 47, 47, 47, 47, 47, 47, 47, 47, 47, 47, 47, 47, 47, 47, 47, 47, 47, 47, 47, 47, 47, 47, 47, 47, 47, 47, 47, 47, 47, 47, 47, 47, 47, 47, 47, 47, 47, 47, 47, 47, 47, 47, 47, 47, 47, 47, 47, 47, 47, 48, 48, 48, 48, 48, 48, 48, 48, 48, 48, 48, 48, 48, 48, 48, 48, 48, 48, 48, 48, 48, 48, 48, 48, 48, 48, 48, 48, 48, 48, 48, 48, 48, 48, 48, 48, 48, 48, 48, 48, 48, 48, 48, 48, 48, 48, 48, 48, 48, 48, 48, 48, 48, 48, 48, 48, 48, 48, 48, 48, 48, 48, 48, 48, 48, 48, 48, 48, 48, 48, 48, 48, 48, 48, 48, 48, 48, 48, 48, 48, 48, 48, 48, 48, 48, 48, 48, 48, 48, 48, 48, 48, 48, 48, 48, 48, 48, 48, 48, 48, 48, 48, 48, 48, 48, 48, 48, 48, 48, 48, 48, 48, 48, 48, 48, 48, 48, 48, 48, 48, 48, 48, 48, 48, 48, 48, 48, 48, 48, 48, 48, 48, 48, 48, 48, 48, 48, 48, 48, 48, 48, 48, 48, 48, 48, 48, 48, 48, 48, 48, 48, 48, 48, 48, 48, 48, 48, 48, 48, 48, 48, 48, 48, 48, 48, 48, 49, 49, 49, 49, 49, 49, 49, 49, 49, 49, 49, 49, 49, 49, 49, 49, 49, 49, 49, 49, 49, 49, 49, 49, 49, 49, 49, 49, 50, 50, 50, 50, 50, 50, 50, 50, 50, 50, 50, 50, 50, 50, 50, 50, 50, 50, 50, 50, 50, 50, 50, 50, 50, 50, 50, 50, 50, 50, 50, 50, 50, 50, 50, 50, 50, 50, 50, 50, 50, 50, 50, 50, 50, 50, 50, 50, 50, 50, 50, 50, 50, 50, 50, 50, 50, 50, 50, 50, 50, 50, 50, 50, 50, 50, 50, 50, 50, 50, 50, 50, 51, 51, 51, 51, 51, 51, 51, 51, 51, 51, 51, 51, 51, 51, 51, 51, 51, 51, 51, 51, 51, 51, 51, 51, 51, 51, 51, 51, 51, 51, 51, 51, 51, 51, 51, 51, 51, 51, 51, 51, 51, 51, 51, 51, 51, 51, 51, 51, 51, 51, 51, 51, 51, 51, 51, 51, 51, 51, 51, 51, 51, 51, 51, 51, 51, 51, 51, 51, 51, 51, 51, 51, 51, 51, 51, 51, 51, 51, 51, 51, 51, 51, 51, 51, 51, 51, 51, 51, 51, 51, 51, 51, 51, 51, 51, 51, 51, 51, 51, 51, 51, 51, 51, 51, 51, 51, 51, 51, 51, 51, 51, 51, 51, 51, 51, 51, 51, 51, 51, 51, 51, 51, 51, 51, 51, 51, 51, 51, 51, 51, 51, 51, 51, 51, 51, 51, 51, 51, 51, 51, 51, 51, 51, 51, 51, 51, 51, 51, 51, 51, 51, 51, 51, 51, 51, 51, 51, 51, 51, 51, 51, 51, 51, 51, 51, 51, 51, 52, 52, 52, 52, 52, 52, 52, 52, 52, 52, 52, 52, 52, 52, 52, 52, 52, 52, 52, 52, 52, 52, 52, 52, 52, 52, 52, 52, 52, 52, 52, 52, 52, 52, 52, 52, 52, 52, 52, 52, 52, 52, 52, 52, 52, 52, 52, 52, 52, 52, 52, 52, 52, 52, 52, 52, 52, 52, 52, 52, 52, 52, 52, 52, 52, 52, 52, 52, 52, 52, 52, 52, 52, 52, 52, 52, 52, 52, 52, 52, 52, 52, 52, 52, 52, 52, 52, 52, 52, 52, 52, 52, 52, 52, 52, 52, 52, 52, 52, 52, 52, 52, 52, 52, 52, 52, 52, 52, 52, 52, 52, 52, 52, 52, 52, 52, 52, 52, 52, 52, 52, 52, 52, 52, 52, 52, 52, 52, 52, 52, 52, 52, 52, 52, 52, 52, 52, 52, 52, 52, 52, 52, 52, 52, 52, 52, 52, 52, 52, 52, 52, 52, 52, 52, 52, 52, 52, 52, 52, 52, 52, 52, 52, 52, 52, 52, 52, 52, 1, 1, 1, 1, 1, 1, 1, 1, 1, 1, 1, 1, 1, 1, 1, 1, 1, 1, 1, 1, 1, 1, 1, 1, 1, 1, 1, 1, 1, 1, 1, 1, 1, 1, 1, 1, 1, 1, 1, 1, 1, 1, 1, 1, 1, 1, 1, 1, 1, 1, 1, 1, 1, 1, 1, 1, 1, 1, 1, 1, 1, 1, 1, 1, 1, 1, 1, 1, 1, 1, 1, 1, 1, 1, 1, 1, 1, 1, 1, 1, 1, 1, 1, 1, 1, 1, 1, 1, 1, 1, 1, 1, 1, 1, 1, 1, 1, 1, 1, 1, 1, 1, 1, 1, 1, 1, 1, 1, 1, 1, 1, 1, 1, 1, 1, 1, 1, 1, 1, 1, 1, 1, 1, 1, 1, 1, 1, 1, 1, 1, 1, 1, 1, 1, 1, 1, 1, 1, 1, 1, 1, 1, 1, 1, 1, 1, 1, 1, 1, 1, 1, 1, 1, 1, 1, 2, 2, 2], \"xaxis\": \"x\", \"y\": [57.05443674737828, 56.807081807081794, 56.3465050031873, 57.10618471035138, 57.2337962962963, 56.95779914529914, 56.97115384615385, 57.01757733007735, 56.97433353683354, 57.0900742775743, 57.162571225071225, 56.9069819069819, 57.05636955636956, 57.17528998779, 57.43666056166057, 57.011853886853885, 57.327279202279215, 57.34317765567767, 57.1619352869353, 57.413130850630864, 57.10152116402116, 57.25923382173382, 57.21916971916972, 57.195004070004074, 57.35844017094016, 57.145400895400904, 57.20454314204315, 56.98768823768825, 57.154304029304036, 56.85795685795686, 56.94380850630853, 56.80517399267401, 56.91582722832724, 56.833155270655254, 56.94380850630852, 57.175289987789995, 57.3489010989011, 57.15684778184781, 57.31456043956042, 56.94380850630849, 56.92791005291007, 56.93681318681322, 57.02393671143671, 56.9304538054538, 56.86622405372407, 56.90946784696786, 57.084986772486786, 57.105972730972724, 57.015033577533565, 56.80135836385836, 56.980056980056986, 56.76956145706146, 56.73394892144893, 56.63029100529101, 56.741580179080195, 56.91582722832721, 56.71932234432237, 56.7269536019536, 56.99404761904762, 56.948260073260066, 56.86876780626781, 56.84650997150998, 56.856684981684985, 56.89293345543347, 57.09198209198209, 56.7549348799349, 56.95843508343509, 56.98896011396013, 57.252238502238505, 57.113603988604005, 57.04492266992268, 56.90438034188035, 56.9622507122507, 57.16193528693529, 56.74539580789581, 56.330764143264155, 56.51645807895809, 56.59213471713473, 56.75938644688645, 56.70978327228328, 56.72568172568174, 56.871947496947534, 56.895477207977216, 56.84078652828654, 56.90501628001629, 56.80326617826619, 56.95207570207571, 57.170838420838436, 56.941900691900685, 56.91010378510381, 57.16956654456656, 56.95843508343509, 57.070996133496145, 56.91391941391941, 57.26750101750102, 57.02838827838829, 56.99977106227106, 57.06400081400084, 57.209630647130645, 57.140313390313395, 57.19754782254784, 56.90819597069599, 57.12759462759464, 56.90756003256001, 57.21853378103379, 57.221077533577535, 56.89992877492878, 57.156211843711844, 57.32219169719172, 57.45065120065121, 57.3635276760277, 57.30883699633702, 57.26559320309321, 57.49135124135123, 57.627442002441995, 57.43093711843713, 57.38705738705738, 57.55558099308098, 57.48626373626374, 57.299297924297925, 57.45383089133091, 57.59818884818885, 57.443019943019955, 57.85892348392349, 57.86782661782663, 57.85955942205943, 57.90979853479854, 57.79214997964999, 57.80868437118436, 58.01409238909239, 57.858287545787555, 57.9307844932845, 57.775615588115585, 57.936507936507944, 58.14827533577536, 57.985475172975185, 58.11647842897844, 57.95940170940171, 57.705026455026456, 57.90280321530323, 57.65605921855922, 57.78070309320311, 57.5167887667888, 57.805504680504676, 57.597552910052904, 57.71520146520147, 57.8442969067969, 57.911706349206355, 57.77688746438745, 57.7559015059015, 57.96639702889703, 57.76925620675621, 57.95240638990639, 58.07832214082214, 57.94859076109078, 57.498982498982514, 58.13810032560033, 58.271011396011396, 58.08404558404559, 57.897715710215714, 58.158450345950335, 58.0344424094424, 58.24557387057388, 57.65860297110299, 57.967668905168914, 57.83602971102971, 57.954314204314215, 58.07514245014246, 57.73936711436712, 57.7571733821734, 57.767348392348396, 57.458918396418404, 57.721560846560855, 57.65860297110297, 57.720924908424905, 57.29039479039479, 57.81631562881565, 57.83030626780627, 57.833485958485966, 57.93841575091576, 58.117750305250304, 57.96830484330486, 57.838573463573475, 57.759717134717135, 57.53777472527472, 57.891992266992276, 57.89962352462353, 57.5288715913716, 57.60645604395603, 57.56257631257632, 57.59310134310133, 57.66114672364674, 57.61981074481074, 57.49516687016688, 57.42584961334961, 57.89453601953604, 57.493894993895, 57.555580993081, 57.74000305250306, 57.54922161172163, 57.20136345136347, 57.84238909238909, 57.705026455026456, 57.67831705331705, 57.64397639397642, 57.62871387871388, 57.73491554741556, 57.68976393976394, 57.73745929995931, 57.522512210012216, 57.57338726088725, 57.47736060236062, 57.43793243793245, 57.392780830280834, 57.49135124135123, 57.70184676434676, 57.46591371591373, 57.41567460317461, 57.49707468457467, 57.4023199023199, 57.5256919006919, 57.438568376068396, 57.63634513634514, 57.593101343101345, 57.619810744810756, 57.59182946682949, 57.64079670329671, 57.67132173382174, 57.84620472120472, 57.68340455840456, 57.790878103378105, 57.7673483923484, 57.74636243386243, 57.65287952787952, 57.79342185592187, 57.8856328856329, 57.650335775335776, 57.73364367114365, 58.179436304436315, 58.08086589336589, 57.75653744403746, 57.59882478632479, 58.2144129019129, 57.91297822547824, 57.74445461945462, 58.0573361823362, 57.74699837199839, 57.809320309320306, 57.799145299145316, 58.066875254375255, 57.67170329670332, 57.76035307285309, 58.22140822140824, 57.90661884411887, 57.90916259666261, 57.884996947496965, 57.802324989824996, 57.8608312983313, 58.09104090354092, 58.22013634513633, 58.34350834350835, 58.185795685795675, 58.028083028083024, 58.134920634920654, 58.456069393569386, 57.803596866096875, 58.04334554334554, 57.916793854293836, 57.908526658526654, 57.8989875864876, 57.69930301180303, 58.00328144078146, 57.7272842897843, 57.815679690679694, 58.110754985754994, 57.77434371184372, 58.048433048433054, 58.069419006919, 58.00773300773304, 57.60645604395606, 57.780067155067144, 57.89008445258446, 57.81885938135938, 57.70375457875458, 57.54413410663411, 57.38705738705739, 57.60582010582012, 57.57974664224667, 57.66750610500612, 57.70439051689053, 57.547949735449755, 57.8506562881563, 57.749542124542124, 57.61408730158731, 57.52823565323566, 57.57338726088727, 57.76925620675622, 57.691035816035814, 57.288486975986984, 57.69930301180301, 57.95367826617825, 57.87863756613758, 57.318376068376075, 57.29421041921043, 57.48181216931216, 57.277676027676044, 57.69485144485145, 57.667506105006105, 57.727284289784286, 57.65287952787954, 57.342541717541714, 57.65160765160766, 57.65733109483108, 57.61408730158731, 57.47926841676844, 57.25594814136482, 57.705026455026484, 57.563848188848176, 57.43157305657306, 57.207086894586894, 57.42648555148557, 57.23634004884005, 57.3387260887261, 57.35653235653234, 57.75526556776558, 57.52378408628408, 57.65605921855922, 57.522512210012216, 57.46209808709809, 57.29929792429794, 57.483084045584036, 57.23824786324786, 57.271316646316656, 57.44556369556371, 57.32155575905576, 57.31837606837607, 57.286579161579176, 57.513609076109105, 57.533323158323164, 57.08498677248679, 57.5517653642654, 57.39786833536832, 57.51869658119659, 57.275768213268236, 57.43030118030119, 57.306929181929185, 57.296118233618245, 57.372430809930826, 57.425213675213676, 57.60327635327638, 57.58610602360602, 57.4207621082621, 57.41631054131056, 57.32028388278388, 57.35589641839641, 57.32791514041514, 57.152396214896214, 57.41440272690273, 57.43220899470899, 57.22807285307287, 57.47608872608873, 57.5072496947497, 57.529507529507526, 57.43856837606838, 57.288486975986984, 57.233796296296305, 57.14603683353685, 57.18610093610095, 57.27640415140416, 57.32473544973546, 57.30502136752137, 57.392780830280834, 57.56639194139194, 57.51678876678877, 57.802324989825, 57.4404761904762, 57.436660561660574, 57.45828245828247, 57.21789784289786, 57.322827635327634, 57.266229141229154, 57.42313242313244, 57.538410663410666, 57.52569190069192, 57.43220899470901, 57.47672466422467, 57.43602462352464, 57.48562779812781, 57.71265771265772, 58.14636752136753, 58.005189255189265, 57.717109279609296, 57.84048127798129, 57.154939967439994, 56.621387871387874, 56.47385022385024, 56.52599715099715, 56.58641127391129, 56.464947089947096, 56.53490028490027, 56.57178469678471, 56.74666768416768, 56.55079873829873, 56.440145502645514, 56.54761904761906, 56.304054741554744, 56.470034595034605, 56.5120065120065, 56.403897028897035, 56.48656898656901, 56.277981277981304, 56.359381359381395, 56.4719424094424, 56.47575803825806, 56.4115282865283, 56.48148148148152, 56.51518620268619, 56.51772995522996, 56.63983007733009, 56.387998575498585, 56.73712861212862, 57.06145706145708, 56.87385531135532, 57.051917989417994, 57.02966015466017, 57.00231481481484, 56.81089743589745, 56.82488807488809, 56.64682539682539, 56.62329568579571, 56.50246743996743, 56.53871591371592, 56.67289886039885, 56.7803724053724, 56.26780626780627, 56.67862230362232, 56.72949735449735, 56.88148656898655, 56.58259564509566, 56.318681318681314, 56.55779405779407, 56.590862840862854, 56.445868945868945, 56.754934879934886, 56.69833638583638, 56.67544261294262, 56.79563492063491, 56.99977106227106, 56.99849918599919, 56.817256817256826, 57.17401811151811, 57.16511497761497, 57.02457264957266, 56.93999287749288, 57.03792735042736, 57.02648046398048, 57.16511497761499, 57.21281033781036, 57.294846357346366, 57.431573056573065, 57.11932743182745, 57.02520858770859, 57.12823056573058, 57.172746235246244, 57.030932030932036, 57.06018518518519, 57.0582773707774, 57.128230565730554, 57.11423992673992, 56.87767094017094, 57.16829466829466, 57.29421041921044, 57.12759462759465, 57.094525844525855, 57.06463675213678, 56.91391941391944, 57.04428673178675, 56.980692918192915, 57.07163207163208, 56.96670227920229, 57.10788054538054, 57.105972730972724, 57.07290394790397, 57.1371336996337, 57.1155118030118, 57.22807285307287, 57.4156746031746, 57.49325905575906, 57.501526251526265, 57.53586691086692, 57.381333943833944, 57.38324175824177, 57.65542328042329, 57.53014346764346, 57.53968253968255, 57.43030118030118, 57.51806064306066, 57.279583842083845, 57.49007936507939, 57.400412087912095, 57.5772028897029, 57.498346560846585, 57.446835571835585, 57.490715303215325, 57.52124033374033, 57.51424501424501, 57.48435592185593, 57.38260582010582, 57.2585978835979, 57.50407000407002, 57.42966524216525, 57.381969881969894, 57.415038665038686, 57.507249694749696, 57.12695868945868, 57.45001526251528, 57.429665242165264, 57.60582010582012, 57.478632478632484, 57.55367317867319, 57.147308709808705, 57.329822954822966, 57.26304945054945, 57.474816849816854, 57.32982295482298, 57.43793243793245, 57.13077431827432, 57.38451363451366, 57.21217439967441, 57.288486975986984, 57.326643264143264, 57.24015567765567, 57.29675417175418, 57.41122303622304, 57.61345136345136, 57.51996845746848, 57.65733109483111, 57.4557387057387, 57.507249694749696, 57.66877798127799, 57.60518416768417, 57.56512006512008, 57.558124745624745, 57.67068579568579, 57.66178266178267, 57.46972934472936, 57.69930301180302, 57.56766381766383, 57.28594322344322, 57.45573870573869, 57.43856837606837, 57.376882376882385, 57.33936202686203, 57.46082621082621, 57.58610602360604, 57.327279202279215, 57.64906389906391, 57.66877798127802, 57.67640923890926, 57.55748880748882, 57.556216931216944, 57.58101851851851, 57.36607142857142, 57.428393365893356, 57.49198717948719, 57.23570411070411, 57.36607142857144, 57.213446275946275, 57.03729141229143, 57.22807285307285, 57.1918243793244, 57.205179080179086, 57.09325396825398, 57.21153846153848, 57.25478225478225, 57.46146214896216, 57.533959096459114, 57.280855718355745, 57.62934981684983, 57.133954008954, 57.29866198616199, 57.41694647944649, 57.63252950752951, 57.70248270248268, 57.59310134310135, 57.51551689051689, 57.23125254375253, 57.350172975172995, 57.25732600732601, 57.19818376068377, 57.425213675213676, 57.17465404965407, 57.38133394383394, 57.28530728530729, 57.11869149369152, 57.217261904761905, 57.210902523402524, 57.14921652421652, 57.03347578347581, 57.498982498982514, 57.59755291005292, 57.49198717948719, 57.31710419210419, 57.33999796499797, 57.48880748880748, 57.359712047212064, 57.50788563288564, 57.478632478632484, 57.33618233618236, 57.42457773707775, 57.54349816849818, 57.44174806674806, 57.36607142857144, 57.317740130240146, 57.2554181929182, 57.2738603988604, 57.26622914122913, 57.05255392755395, 57.430937118437136, 57.13840557590559, 57.301205738705754, 57.26686507936508, 57.29293854293855, 57.455102767602774, 57.4773606023606, 57.240155677655686, 57.62362637362639, 57.49262311762314, 57.47799654049655, 57.52251221001219, 57.49834656084658, 57.49580280830281, 57.51551689051689, 57.37942612942612, 57.58737789987791, 57.42076210826212, 57.49961843711845, 57.4620980870981, 57.53777472527475, 57.420126170126174, 57.081171143671156, 57.343177655677664, 57.45383089133086, 57.57020757020755, 57.41631054131056, 57.31964794464795, 57.45319495319495, 57.55367317867319, 57.467185592185594, 57.43920431420432, 57.415674603174615, 57.67259361009362, 57.564484126984134, 57.499618437118436, 57.5104293854294, 57.59691697191698, 57.502162189662194, 57.36098392348393, 57.49961843711844, 57.39659645909648, 57.37433862433863, 57.293574481074494, 57.66305453805455, 57.46273402523402, 57.42139804639806, 57.404227716727725, 57.55876068376069, 57.42203398453399, 57.476088726088726, 57.685312372812376, 57.59946072446073, 57.43793243793245, 57.64652014652015, 57.64588420838422, 57.39659645909646, 57.25478225478225, 57.70566239316239, 57.66941391941393, 57.589921652421644, 57.60772792022792, 57.51996845746848, 57.42966524216524, 57.57847476597477, 57.61472323972325, 57.58483414733416, 57.564484126984134, 57.56257631257632, 57.647156084656096, 57.783246845746866, 58.005189255189265, 57.60772792022794, 57.558760683760674, 57.52187627187629, 57.62489824989828, 57.753357753357754, 58.0344424094424, 57.801689051689074, 57.749542124542124, 57.70439051689052, 57.8290343915344, 57.61726699226703, 57.92188135938136, 57.75017806267808, 57.822675010175026, 57.90598290598292, 57.73046398046399, 57.904075091575095, 57.753357753357754, 57.89008445258446, 57.75717338217339, 57.760353072853086, 57.912978225478234, 57.64779202279203, 57.7673483923484, 57.753357753357754, 57.864010989011, 57.89898758648758, 57.97275641025641, 57.76925620675622, 57.848112535612536, 57.95304232804233, 58.07832214082214, 58.04843304843305, 58.32633801383801, 57.94541107041109, 58.312983312983334, 58.20296601546602, 58.3791208791209, 58.438899063899065, 58.059879934879945, 58.18833943833943, 57.959401709401725, 58.01600020350019, 58.243666056166056, 58.138736263736284, 58.244301994302, 58.14700345950347, 57.95685795685798, 58.029354904354896, 57.96448921448922, 57.99247049247051, 57.896443833943856, 58.23985042735044, 57.87736568986569, 58.08213776963777, 57.81695156695158, 57.73873117623119, 57.96448921448922, 57.93142043142043, 58.15463471713471, 57.91361416361417, 57.8919922669923, 57.83920940170941, 57.935236060236065, 57.698031135531146, 57.60391229141231, 57.68404049654051, 57.53014346764346, 57.81122812372812, 57.62617012617013, 57.861467236467256, 57.73682336182336, 57.9008954008954, 58.04970492470493, 58.24048636548637, 58.09549247049248, 58.131105006105, 57.969576719576715, 57.995014245014254, 57.848112535612536, 57.949862637362635, 57.916793854293864, 58.04525335775335, 57.87482193732194, 57.696759259259274, 57.92887667887669, 57.741910866910864, 57.72792022792024, 57.97911579161579, 57.909162596662604, 58.240486365486355, 58.20805352055353, 58.09294871794872, 58.03889397639398, 58.00010175010175, 57.934600122100115, 58.23349104599105, 58.09676434676435, 58.1692612942613, 58.14191595441596, 58.029990842490854, 57.94668294668295, 58.08213776963777, 58.24175824175825, 58.06814713064714, 58.11647842897846, 58.51330382580385, 58.392475579975574, 58.51457570207569, 58.45288970288971, 58.42872405372407, 58.22204415954416, 58.38738807488809, 58.45670533170534, 58.396291208791204, 58.48023504273505, 58.57626170126171, 58.6614774114774, 58.72825091575092, 58.665293040293044, 58.468788156288156, 58.69708994708995, 58.606150793650805, 58.60360704110705, 58.462428774928775, 58.39056776556776, 58.53619759869762, 58.45543345543344, 58.50758038258041, 58.50440069190069, 58.59216015466015, 58.72825091575093, 58.84208384208383, 58.72061965811966, 58.70726495726495, 58.8331807081807, 58.84081196581197, 58.86497761497761, 58.62077737077738, 58.788665038665016, 58.804563492063494, 58.56926638176639, 58.66274928774931, 58.68246336996338, 58.81791819291818, 58.76895095645096, 58.76767908017908, 58.7295227920228, 58.75941188441191, 58.78421347171348, 58.63667582417583, 58.68500712250715, 58.82046194546197, 58.60360704110703, 58.60233516483516, 58.733338420838415, 58.76577126577127, 58.69200244200243, 58.649394586894594, 58.6277726902727, 58.57753357753361, 58.624592999593, 58.796296296296305, 58.63540394790397, 58.594703907203915, 58.65702584452583, 58.770222832722844, 58.70853683353684, 58.83763227513228, 58.71680402930402, 58.814738502238505, 58.703449328449324, 58.727614977614984, 58.73524623524623, 58.79947598697597, 58.79693223443223, 58.83381664631664], \"yaxis\": \"y\"}],\n",
       "                        {\"legend\": {\"tracegroupgap\": 0}, \"template\": {\"data\": {\"bar\": [{\"error_x\": {\"color\": \"rgb(36,36,36)\"}, \"error_y\": {\"color\": \"rgb(36,36,36)\"}, \"marker\": {\"line\": {\"color\": \"white\", \"width\": 0.5}}, \"type\": \"bar\"}], \"barpolar\": [{\"marker\": {\"line\": {\"color\": \"white\", \"width\": 0.5}}, \"type\": \"barpolar\"}], \"carpet\": [{\"aaxis\": {\"endlinecolor\": \"rgb(36,36,36)\", \"gridcolor\": \"white\", \"linecolor\": \"white\", \"minorgridcolor\": \"white\", \"startlinecolor\": \"rgb(36,36,36)\"}, \"baxis\": {\"endlinecolor\": \"rgb(36,36,36)\", \"gridcolor\": \"white\", \"linecolor\": \"white\", \"minorgridcolor\": \"white\", \"startlinecolor\": \"rgb(36,36,36)\"}, \"type\": \"carpet\"}], \"choropleth\": [{\"colorbar\": {\"outlinewidth\": 1, \"tickcolor\": \"rgb(36,36,36)\", \"ticks\": \"outside\"}, \"type\": \"choropleth\"}], \"contour\": [{\"colorbar\": {\"outlinewidth\": 1, \"tickcolor\": \"rgb(36,36,36)\", \"ticks\": \"outside\"}, \"colorscale\": [[0.0, \"#440154\"], [0.1111111111111111, \"#482878\"], [0.2222222222222222, \"#3e4989\"], [0.3333333333333333, \"#31688e\"], [0.4444444444444444, \"#26828e\"], [0.5555555555555556, \"#1f9e89\"], [0.6666666666666666, \"#35b779\"], [0.7777777777777778, \"#6ece58\"], [0.8888888888888888, \"#b5de2b\"], [1.0, \"#fde725\"]], \"type\": \"contour\"}], \"contourcarpet\": [{\"colorbar\": {\"outlinewidth\": 1, \"tickcolor\": \"rgb(36,36,36)\", \"ticks\": \"outside\"}, \"type\": \"contourcarpet\"}], \"heatmap\": [{\"colorbar\": {\"outlinewidth\": 1, \"tickcolor\": \"rgb(36,36,36)\", \"ticks\": \"outside\"}, \"colorscale\": [[0.0, \"#440154\"], [0.1111111111111111, \"#482878\"], [0.2222222222222222, \"#3e4989\"], [0.3333333333333333, \"#31688e\"], [0.4444444444444444, \"#26828e\"], [0.5555555555555556, \"#1f9e89\"], [0.6666666666666666, \"#35b779\"], [0.7777777777777778, \"#6ece58\"], [0.8888888888888888, \"#b5de2b\"], [1.0, \"#fde725\"]], \"type\": \"heatmap\"}], \"heatmapgl\": [{\"colorbar\": {\"outlinewidth\": 1, \"tickcolor\": \"rgb(36,36,36)\", \"ticks\": \"outside\"}, \"colorscale\": [[0.0, \"#440154\"], [0.1111111111111111, \"#482878\"], [0.2222222222222222, \"#3e4989\"], [0.3333333333333333, \"#31688e\"], [0.4444444444444444, \"#26828e\"], [0.5555555555555556, \"#1f9e89\"], [0.6666666666666666, \"#35b779\"], [0.7777777777777778, \"#6ece58\"], [0.8888888888888888, \"#b5de2b\"], [1.0, \"#fde725\"]], \"type\": \"heatmapgl\"}], \"histogram\": [{\"marker\": {\"line\": {\"color\": \"white\", \"width\": 0.6}}, \"type\": \"histogram\"}], \"histogram2d\": [{\"colorbar\": {\"outlinewidth\": 1, \"tickcolor\": \"rgb(36,36,36)\", \"ticks\": \"outside\"}, \"colorscale\": [[0.0, \"#440154\"], [0.1111111111111111, \"#482878\"], [0.2222222222222222, \"#3e4989\"], [0.3333333333333333, \"#31688e\"], [0.4444444444444444, \"#26828e\"], [0.5555555555555556, \"#1f9e89\"], [0.6666666666666666, \"#35b779\"], [0.7777777777777778, \"#6ece58\"], [0.8888888888888888, \"#b5de2b\"], [1.0, \"#fde725\"]], \"type\": \"histogram2d\"}], \"histogram2dcontour\": [{\"colorbar\": {\"outlinewidth\": 1, \"tickcolor\": \"rgb(36,36,36)\", \"ticks\": \"outside\"}, \"colorscale\": [[0.0, \"#440154\"], [0.1111111111111111, \"#482878\"], [0.2222222222222222, \"#3e4989\"], [0.3333333333333333, \"#31688e\"], [0.4444444444444444, \"#26828e\"], [0.5555555555555556, \"#1f9e89\"], [0.6666666666666666, \"#35b779\"], [0.7777777777777778, \"#6ece58\"], [0.8888888888888888, \"#b5de2b\"], [1.0, \"#fde725\"]], \"type\": \"histogram2dcontour\"}], \"mesh3d\": [{\"colorbar\": {\"outlinewidth\": 1, \"tickcolor\": \"rgb(36,36,36)\", \"ticks\": \"outside\"}, \"type\": \"mesh3d\"}], \"parcoords\": [{\"line\": {\"colorbar\": {\"outlinewidth\": 1, \"tickcolor\": \"rgb(36,36,36)\", \"ticks\": \"outside\"}}, \"type\": \"parcoords\"}], \"pie\": [{\"automargin\": true, \"type\": \"pie\"}], \"scatter\": [{\"marker\": {\"colorbar\": {\"outlinewidth\": 1, \"tickcolor\": \"rgb(36,36,36)\", \"ticks\": \"outside\"}}, \"type\": \"scatter\"}], \"scatter3d\": [{\"line\": {\"colorbar\": {\"outlinewidth\": 1, \"tickcolor\": \"rgb(36,36,36)\", \"ticks\": \"outside\"}}, \"marker\": {\"colorbar\": {\"outlinewidth\": 1, \"tickcolor\": \"rgb(36,36,36)\", \"ticks\": \"outside\"}}, \"type\": \"scatter3d\"}], \"scattercarpet\": [{\"marker\": {\"colorbar\": {\"outlinewidth\": 1, \"tickcolor\": \"rgb(36,36,36)\", \"ticks\": \"outside\"}}, \"type\": \"scattercarpet\"}], \"scattergeo\": [{\"marker\": {\"colorbar\": {\"outlinewidth\": 1, \"tickcolor\": \"rgb(36,36,36)\", \"ticks\": \"outside\"}}, \"type\": \"scattergeo\"}], \"scattergl\": [{\"marker\": {\"colorbar\": {\"outlinewidth\": 1, \"tickcolor\": \"rgb(36,36,36)\", \"ticks\": \"outside\"}}, \"type\": \"scattergl\"}], \"scattermapbox\": [{\"marker\": {\"colorbar\": {\"outlinewidth\": 1, \"tickcolor\": \"rgb(36,36,36)\", \"ticks\": \"outside\"}}, \"type\": \"scattermapbox\"}], \"scatterpolar\": [{\"marker\": {\"colorbar\": {\"outlinewidth\": 1, \"tickcolor\": \"rgb(36,36,36)\", \"ticks\": \"outside\"}}, \"type\": \"scatterpolar\"}], \"scatterpolargl\": [{\"marker\": {\"colorbar\": {\"outlinewidth\": 1, \"tickcolor\": \"rgb(36,36,36)\", \"ticks\": \"outside\"}}, \"type\": \"scatterpolargl\"}], \"scatterternary\": [{\"marker\": {\"colorbar\": {\"outlinewidth\": 1, \"tickcolor\": \"rgb(36,36,36)\", \"ticks\": \"outside\"}}, \"type\": \"scatterternary\"}], \"surface\": [{\"colorbar\": {\"outlinewidth\": 1, \"tickcolor\": \"rgb(36,36,36)\", \"ticks\": \"outside\"}, \"colorscale\": [[0.0, \"#440154\"], [0.1111111111111111, \"#482878\"], [0.2222222222222222, \"#3e4989\"], [0.3333333333333333, \"#31688e\"], [0.4444444444444444, \"#26828e\"], [0.5555555555555556, \"#1f9e89\"], [0.6666666666666666, \"#35b779\"], [0.7777777777777778, \"#6ece58\"], [0.8888888888888888, \"#b5de2b\"], [1.0, \"#fde725\"]], \"type\": \"surface\"}], \"table\": [{\"cells\": {\"fill\": {\"color\": \"rgb(237,237,237)\"}, \"line\": {\"color\": \"white\"}}, \"header\": {\"fill\": {\"color\": \"rgb(217,217,217)\"}, \"line\": {\"color\": \"white\"}}, \"type\": \"table\"}]}, \"layout\": {\"annotationdefaults\": {\"arrowhead\": 0, \"arrowwidth\": 1}, \"coloraxis\": {\"colorbar\": {\"outlinewidth\": 1, \"tickcolor\": \"rgb(36,36,36)\", \"ticks\": \"outside\"}}, \"colorscale\": {\"diverging\": [[0.0, \"rgb(103,0,31)\"], [0.1, \"rgb(178,24,43)\"], [0.2, \"rgb(214,96,77)\"], [0.3, \"rgb(244,165,130)\"], [0.4, \"rgb(253,219,199)\"], [0.5, \"rgb(247,247,247)\"], [0.6, \"rgb(209,229,240)\"], [0.7, \"rgb(146,197,222)\"], [0.8, \"rgb(67,147,195)\"], [0.9, \"rgb(33,102,172)\"], [1.0, \"rgb(5,48,97)\"]], \"sequential\": [[0.0, \"#440154\"], [0.1111111111111111, \"#482878\"], [0.2222222222222222, \"#3e4989\"], [0.3333333333333333, \"#31688e\"], [0.4444444444444444, \"#26828e\"], [0.5555555555555556, \"#1f9e89\"], [0.6666666666666666, \"#35b779\"], [0.7777777777777778, \"#6ece58\"], [0.8888888888888888, \"#b5de2b\"], [1.0, \"#fde725\"]], \"sequentialminus\": [[0.0, \"#440154\"], [0.1111111111111111, \"#482878\"], [0.2222222222222222, \"#3e4989\"], [0.3333333333333333, \"#31688e\"], [0.4444444444444444, \"#26828e\"], [0.5555555555555556, \"#1f9e89\"], [0.6666666666666666, \"#35b779\"], [0.7777777777777778, \"#6ece58\"], [0.8888888888888888, \"#b5de2b\"], [1.0, \"#fde725\"]]}, \"colorway\": [\"#1F77B4\", \"#FF7F0E\", \"#2CA02C\", \"#D62728\", \"#9467BD\", \"#8C564B\", \"#E377C2\", \"#7F7F7F\", \"#BCBD22\", \"#17BECF\"], \"font\": {\"color\": \"rgb(36,36,36)\"}, \"geo\": {\"bgcolor\": \"white\", \"lakecolor\": \"white\", \"landcolor\": \"white\", \"showlakes\": true, \"showland\": true, \"subunitcolor\": \"white\"}, \"hoverlabel\": {\"align\": \"left\"}, \"hovermode\": \"closest\", \"mapbox\": {\"style\": \"light\"}, \"paper_bgcolor\": \"white\", \"plot_bgcolor\": \"white\", \"polar\": {\"angularaxis\": {\"gridcolor\": \"rgb(232,232,232)\", \"linecolor\": \"rgb(36,36,36)\", \"showgrid\": false, \"showline\": true, \"ticks\": \"outside\"}, \"bgcolor\": \"white\", \"radialaxis\": {\"gridcolor\": \"rgb(232,232,232)\", \"linecolor\": \"rgb(36,36,36)\", \"showgrid\": false, \"showline\": true, \"ticks\": \"outside\"}}, \"scene\": {\"xaxis\": {\"backgroundcolor\": \"white\", \"gridcolor\": \"rgb(232,232,232)\", \"gridwidth\": 2, \"linecolor\": \"rgb(36,36,36)\", \"showbackground\": true, \"showgrid\": false, \"showline\": true, \"ticks\": \"outside\", \"zeroline\": false, \"zerolinecolor\": \"rgb(36,36,36)\"}, \"yaxis\": {\"backgroundcolor\": \"white\", \"gridcolor\": \"rgb(232,232,232)\", \"gridwidth\": 2, \"linecolor\": \"rgb(36,36,36)\", \"showbackground\": true, \"showgrid\": false, \"showline\": true, \"ticks\": \"outside\", \"zeroline\": false, \"zerolinecolor\": \"rgb(36,36,36)\"}, \"zaxis\": {\"backgroundcolor\": \"white\", \"gridcolor\": \"rgb(232,232,232)\", \"gridwidth\": 2, \"linecolor\": \"rgb(36,36,36)\", \"showbackground\": true, \"showgrid\": false, \"showline\": true, \"ticks\": \"outside\", \"zeroline\": false, \"zerolinecolor\": \"rgb(36,36,36)\"}}, \"shapedefaults\": {\"fillcolor\": \"black\", \"line\": {\"width\": 0}, \"opacity\": 0.3}, \"ternary\": {\"aaxis\": {\"gridcolor\": \"rgb(232,232,232)\", \"linecolor\": \"rgb(36,36,36)\", \"showgrid\": false, \"showline\": true, \"ticks\": \"outside\"}, \"baxis\": {\"gridcolor\": \"rgb(232,232,232)\", \"linecolor\": \"rgb(36,36,36)\", \"showgrid\": false, \"showline\": true, \"ticks\": \"outside\"}, \"bgcolor\": \"white\", \"caxis\": {\"gridcolor\": \"rgb(232,232,232)\", \"linecolor\": \"rgb(36,36,36)\", \"showgrid\": false, \"showline\": true, \"ticks\": \"outside\"}}, \"title\": {\"x\": 0.05}, \"xaxis\": {\"automargin\": true, \"gridcolor\": \"rgb(232,232,232)\", \"linecolor\": \"rgb(36,36,36)\", \"showgrid\": false, \"showline\": true, \"ticks\": \"outside\", \"title\": {\"standoff\": 15}, \"zeroline\": false, \"zerolinecolor\": \"rgb(36,36,36)\"}, \"yaxis\": {\"automargin\": true, \"gridcolor\": \"rgb(232,232,232)\", \"linecolor\": \"rgb(36,36,36)\", \"showgrid\": false, \"showline\": true, \"ticks\": \"outside\", \"title\": {\"standoff\": 15}, \"zeroline\": false, \"zerolinecolor\": \"rgb(36,36,36)\"}}}, \"title\": {\"text\": \"OutletPressure g-pump-4 for all weeks \"}, \"xaxis\": {\"anchor\": \"y\", \"domain\": [0.0, 1.0], \"title\": {\"text\": \"week\"}, \"type\": \"category\"}, \"yaxis\": {\"anchor\": \"x\", \"domain\": [0.0, 1.0], \"title\": {\"text\": \"feature_value\"}}},\n",
       "                        {\"responsive\": true}\n",
       "                    ).then(function(){\n",
       "                            \n",
       "var gd = document.getElementById('84332a4a-abd7-4b01-91ce-2b47614f989b');\n",
       "var x = new MutationObserver(function (mutations, observer) {{\n",
       "        var display = window.getComputedStyle(gd).display;\n",
       "        if (!display || display === 'none') {{\n",
       "            console.log([gd, 'removed!']);\n",
       "            Plotly.purge(gd);\n",
       "            observer.disconnect();\n",
       "        }}\n",
       "}});\n",
       "\n",
       "// Listen for the removal of the full notebook cells\n",
       "var notebookContainer = gd.closest('#notebook-container');\n",
       "if (notebookContainer) {{\n",
       "    x.observe(notebookContainer, {childList: true});\n",
       "}}\n",
       "\n",
       "// Listen for the clearing of the current output cell\n",
       "var outputEl = gd.closest('.output');\n",
       "if (outputEl) {{\n",
       "    x.observe(outputEl, {childList: true});\n",
       "}}\n",
       "\n",
       "                        })\n",
       "                };\n",
       "                });\n",
       "            </script>\n",
       "        </div>"
      ]
     },
     "metadata": {},
     "output_type": "display_data"
    },
    {
     "data": {
      "application/vnd.plotly.v1+json": {
       "config": {
        "plotlyServerURL": "https://plot.ly"
       },
       "data": [
        {
         "hoverlabel": {
          "namelength": 0
         },
         "hovertemplate": "week=%{x}<br>feature_value=%{y}",
         "legendgroup": "",
         "marker": {
          "color": "#1F77B4",
          "symbol": "circle"
         },
         "mode": "markers",
         "name": "",
         "showlegend": false,
         "type": "scatter",
         "x": [
          47,
          47,
          47,
          47,
          47,
          47,
          47,
          47,
          47,
          47,
          47,
          47,
          47,
          47,
          47,
          47,
          47,
          47,
          47,
          47,
          47,
          47,
          47,
          47,
          47,
          47,
          47,
          47,
          47,
          47,
          47,
          47,
          47,
          47,
          47,
          47,
          47,
          47,
          47,
          47,
          47,
          47,
          47,
          47,
          47,
          47,
          47,
          47,
          47,
          47,
          47,
          47,
          47,
          47,
          47,
          47,
          47,
          47,
          47,
          47,
          47,
          47,
          47,
          47,
          47,
          47,
          47,
          47,
          47,
          47,
          47,
          47,
          47,
          47,
          47,
          47,
          47,
          47,
          47,
          47,
          47,
          47,
          47,
          47,
          47,
          47,
          47,
          47,
          47,
          47,
          47,
          47,
          47,
          47,
          47,
          47,
          47,
          47,
          47,
          47,
          47,
          47,
          47,
          47,
          47,
          47,
          47,
          47,
          48,
          48,
          48,
          48,
          48,
          48,
          48,
          48,
          48,
          48,
          48,
          48,
          48,
          48,
          48,
          48,
          48,
          48,
          48,
          48,
          48,
          48,
          48,
          48,
          48,
          48,
          48,
          48,
          48,
          48,
          48,
          48,
          48,
          48,
          48,
          48,
          48,
          48,
          48,
          48,
          48,
          48,
          48,
          48,
          48,
          48,
          48,
          48,
          48,
          48,
          48,
          48,
          48,
          48,
          48,
          48,
          48,
          48,
          48,
          48,
          48,
          48,
          48,
          48,
          48,
          48,
          48,
          48,
          48,
          48,
          48,
          48,
          48,
          48,
          48,
          48,
          48,
          48,
          48,
          48,
          48,
          48,
          48,
          48,
          48,
          48,
          48,
          48,
          48,
          48,
          48,
          48,
          48,
          48,
          48,
          48,
          48,
          48,
          48,
          48,
          48,
          48,
          48,
          48,
          48,
          48,
          48,
          48,
          48,
          48,
          48,
          48,
          48,
          48,
          48,
          48,
          48,
          48,
          48,
          48,
          48,
          48,
          48,
          48,
          48,
          48,
          48,
          48,
          48,
          48,
          48,
          48,
          48,
          48,
          48,
          48,
          48,
          48,
          48,
          48,
          48,
          48,
          48,
          48,
          48,
          48,
          48,
          48,
          48,
          48,
          48,
          48,
          48,
          48,
          48,
          48,
          48,
          48,
          48,
          48,
          48,
          48,
          48,
          48,
          48,
          48,
          49,
          49,
          49,
          49,
          49,
          49,
          49,
          49,
          49,
          49,
          49,
          49,
          49,
          49,
          49,
          49,
          49,
          49,
          49,
          49,
          49,
          49,
          49,
          49,
          49,
          49,
          49,
          49,
          49,
          50,
          50,
          50,
          50,
          50,
          50,
          50,
          50,
          50,
          50,
          50,
          50,
          50,
          50,
          50,
          50,
          50,
          50,
          50,
          50,
          50,
          50,
          50,
          50,
          50,
          50,
          50,
          50,
          50,
          50,
          50,
          50,
          50,
          50,
          50,
          50,
          50,
          50,
          50,
          50,
          50,
          51,
          51,
          51,
          51,
          51,
          51,
          51,
          51,
          51,
          51,
          51,
          51,
          51,
          51,
          51,
          51,
          51,
          51,
          51,
          51,
          51,
          51,
          51,
          51,
          51,
          51,
          51,
          51,
          51,
          51,
          51,
          51,
          51,
          51,
          51,
          51,
          51,
          51,
          51,
          51,
          51,
          51,
          51,
          51,
          51,
          51,
          51,
          51,
          51,
          51,
          51,
          51,
          51,
          51,
          51,
          51,
          51,
          51,
          51,
          51,
          51,
          51,
          51,
          51,
          51,
          51,
          51,
          51,
          51,
          51,
          51,
          51,
          51,
          51,
          51,
          51,
          51,
          51,
          51,
          51,
          51,
          51,
          51,
          51,
          51,
          51,
          51,
          51,
          51,
          51,
          51,
          51,
          51,
          51,
          51,
          51,
          51,
          51,
          51,
          51,
          51,
          51,
          51,
          51,
          51,
          51,
          51,
          51,
          51,
          51,
          51,
          51,
          51,
          51,
          51,
          51,
          51,
          51,
          51,
          51,
          51,
          51,
          51,
          51,
          51,
          51,
          51,
          51,
          51,
          51,
          51,
          51,
          51,
          51,
          51,
          51,
          51,
          51,
          51,
          51,
          51,
          51,
          51,
          51,
          51,
          51,
          51,
          52,
          52,
          52,
          52,
          52,
          52,
          52,
          52,
          52,
          52,
          52,
          52,
          52,
          52,
          52,
          52,
          52,
          52,
          52,
          52,
          52,
          52,
          52,
          52,
          52,
          52,
          52,
          52,
          52,
          52,
          52,
          52,
          52,
          52,
          52,
          52,
          52,
          52,
          52,
          52,
          52,
          52,
          52,
          52,
          52,
          52,
          52,
          52,
          52,
          52,
          52,
          52,
          52,
          52,
          52,
          52,
          52,
          52,
          52,
          52,
          52,
          52,
          52,
          52,
          52,
          52,
          52,
          52,
          52,
          52,
          52,
          52,
          52,
          52,
          52,
          52,
          52,
          52,
          52,
          52,
          52,
          52,
          52,
          52,
          52,
          52,
          52,
          52,
          52,
          52,
          52,
          52,
          52,
          52,
          52,
          52,
          52,
          52,
          52,
          52,
          52,
          52,
          52,
          52,
          52,
          52,
          52,
          52,
          52,
          52,
          52,
          52,
          52,
          52,
          52,
          52,
          52,
          52,
          52,
          52,
          52,
          52,
          52,
          52,
          52,
          52,
          52,
          52,
          52,
          52,
          52,
          52,
          52,
          52,
          52,
          52,
          52,
          52,
          52,
          52,
          52,
          52,
          52,
          52,
          52,
          52,
          52,
          52,
          52,
          52,
          52,
          52,
          52,
          52,
          52,
          52,
          52,
          52,
          52,
          52,
          52,
          52,
          52,
          52,
          52,
          52,
          1,
          1,
          1,
          1,
          1,
          1,
          1,
          1,
          1,
          1,
          1,
          1,
          1,
          1,
          1,
          1,
          1,
          1,
          1,
          1,
          1,
          1,
          1,
          1,
          1,
          1,
          1,
          1,
          1,
          1,
          1,
          1,
          1,
          1,
          1,
          1,
          1,
          1,
          1,
          1,
          1,
          1,
          1,
          1,
          1,
          1,
          1,
          1,
          1,
          1,
          1,
          1,
          1,
          1,
          1,
          1,
          1,
          1,
          1,
          1,
          1,
          1,
          1,
          1,
          1,
          1,
          1,
          1,
          1,
          1,
          1,
          1,
          1,
          1,
          1,
          1,
          1,
          1,
          1,
          1,
          1,
          1,
          1,
          1,
          1,
          1,
          1,
          1,
          1,
          1,
          1,
          1,
          1,
          1,
          1,
          1,
          1,
          1,
          1,
          1,
          1,
          1,
          1,
          1,
          1,
          1,
          1,
          1,
          1,
          1,
          1,
          1,
          1,
          1,
          1,
          1,
          1,
          1,
          1,
          1,
          1,
          1,
          1,
          1,
          1,
          1,
          1,
          1,
          1,
          1,
          1,
          1,
          1,
          1,
          1,
          1,
          1,
          1,
          1,
          1,
          1,
          1,
          1,
          1,
          1,
          1,
          1,
          1,
          1,
          1,
          1,
          1,
          1,
          1,
          1,
          1,
          1,
          1,
          1,
          1,
          1,
          1,
          1,
          1,
          1,
          1,
          1,
          1,
          2,
          2,
          2,
          2,
          2,
          2,
          2,
          2,
          2,
          2,
          2,
          2,
          2,
          2,
          2,
          2,
          2
         ],
         "xaxis": "x",
         "y": [
          3.0444712487622954,
          3.17002442002442,
          3.05304231655487,
          3.083038681997016,
          3.119340150590151,
          3.105095136345136,
          3.120612026862027,
          3.0994988807488806,
          3.0812474562474557,
          3.058989621489621,
          3.0829008954008965,
          3.1001637251637253,
          3.086525742775741,
          3.084109177859179,
          3.0837276149776134,
          3.069673382173382,
          3.08646214896215,
          3.1036960724460734,
          3.09333028083028,
          3.052757427757427,
          3.045253357753358,
          3.077749796499796,
          3.0690374440374435,
          3.078322140822141,
          3.0596891534391517,
          3.0699913512413524,
          3.0829008954008956,
          3.090150590150588,
          3.059180402930402,
          3.067701973951974,
          3.0635683760683747,
          3.0699277574277577,
          3.0497049247049257,
          3.0564458689458687,
          3.0398478835978846,
          3.058926027676028,
          3.0762235449735456,
          3.0740613553113554,
          3.0830280830280845,
          3.085381054131055,
          3.0677019739519733,
          3.079466829466831,
          3.0909137159137168,
          3.1077024827024826,
          3.0939026251526247,
          3.077940577940579,
          3.1034416971916965,
          3.0708816646316657,
          3.1040776353276365,
          3.092249185999186,
          3.0785765160765166,
          3.0909137159137146,
          3.0829644892144894,
          3.0858898046398036,
          3.098036223036221,
          3.0725351037851047,
          3.1045227920227934,
          3.086271367521368,
          3.0652854090354094,
          3.0645222832722836,
          3.0830280830280823,
          3.062232905982905,
          3.0884335571835564,
          3.1107549857549848,
          3.104840761090762,
          3.09250356125356,
          3.090086996336995,
          3.0804843304843303,
          3.079085266585267,
          3.0631232193732187,
          3.07533323158323,
          3.0856990231990236,
          3.061533374033372,
          3.066175722425721,
          3.0694190069190093,
          3.077368233618232,
          3.0979090354090366,
          3.102424196174196,
          3.0866529304029307,
          3.0972095034595015,
          3.053011803011803,
          3.0793396418396415,
          3.1035052910052916,
          3.0893238705738697,
          3.072407916157916,
          3.0878612128612115,
          3.1185770248270246,
          3.078640109890109,
          3.082900895400897,
          3.0876068376068386,
          3.0635047822547814,
          3.0805479242979246,
          3.10884717134717,
          3.075778388278387,
          3.0825193325193325,
          3.0695461945461946,
          3.0979090354090353,
          3.0709452584452577,
          3.078322140822141,
          3.0820105820105828,
          3.0564458689458687,
          3.085190272690271,
          3.082455738705738,
          3.0673840048840053,
          3.0469067969067964,
          3.0772410459910446,
          3.0876704314204315,
          3.0699913512413524,
          3.076541514041514,
          3.0916768416768416,
          3.086843711843711,
          3.0787037037037037,
          3.0847451159951174,
          3.0812474562474566,
          3.0828373015873023,
          3.0895782458282466,
          3.0776862026862033,
          3.0432819495319507,
          3.1117088929588923,
          3.115397334147333,
          3.1096738909238897,
          3.043281949531949,
          3.0935846560846563,
          3.087797619047619,
          3.0787672975172975,
          3.108719983719983,
          3.0903413715913715,
          3.100389194139192,
          3.09848137973138,
          3.0718991656491657,
          3.06897385022385,
          3.073552604802605,
          3.075587606837606,
          3.0831552706552716,
          3.075142450142449,
          3.075969169719171,
          3.089133089133092,
          3.0809294871794872,
          3.088433557183558,
          3.0949837199837194,
          3.0610882173382166,
          3.1244912494912516,
          3.120039682539684,
          3.1397537647537654,
          3.132949226699226,
          3.134920634920635,
          3.1811533374033374,
          3.130405474155475,
          3.141280016280016,
          3.143187830687832,
          3.1370192307692313,
          3.141280016280016,
          3.113235144485143,
          3.134793447293448,
          3.086334961334961,
          3.0991173178673184,
          3.082455738705741,
          3.0812474562474566,
          3.076859483109484,
          3.133267195767194,
          3.0940934065934056,
          3.067701973951973,
          3.08862433862434,
          3.04576210826211,
          3.0777497964997966,
          3.0626144688644703,
          3.0905321530321537,
          3.081120268620268,
          3.0901505901505906,
          3.0803571428571423,
          3.058480870980871,
          3.1033145095645103,
          3.1006435693935672,
          3.101724664224665,
          3.089578245828246,
          3.0923763736263727,
          3.067574786324787,
          3.0514219576719586,
          3.0670660358160355,
          3.0693554131054115,
          3.0954924704924713,
          3.056255087505088,
          3.0788944851444846,
          3.0619785307285308,
          3.0519943019943,
          3.043281949531949,
          3.0536477411477425,
          3.0797847985347993,
          3.091676841676843,
          3.1058582621082618,
          3.0881791819291817,
          3.0960012210012207,
          3.094220594220594,
          3.1156517094017104,
          3.121820309320308,
          3.1257631257631266,
          3.1236645299145294,
          3.1306598494098474,
          3.1483389295889306,
          3.110437016687016,
          3.0528210215710225,
          3.091804029304029,
          3.091104497354498,
          3.0486874236874253,
          3.049577737077737,
          3.0893874643874635,
          3.1059854497354507,
          3.0971459096459086,
          3.056382275132276,
          3.0729166666666665,
          3.0592439967439966,
          3.0867165242165258,
          3.0909137159137168,
          3.09364824989825,
          3.10897435897436,
          3.0421372608872606,
          3.0456349206349227,
          3.094538563288564,
          3.0583536833536837,
          3.081374643874644,
          3.080675111925112,
          3.0863985551485555,
          3.0613425925925934,
          3.0872888685388684,
          3.1032509157509156,
          3.0926307488807487,
          3.102233414733416,
          3.0526302401302385,
          3.0720899470899483,
          3.071326821326821,
          3.0676383801383795,
          3.0775590150590157,
          3.0918676231176225,
          3.05695461945462,
          3.081120268620268,
          3.0750152625152616,
          3.0655397842897845,
          3.043091168091168,
          3.0701185388685377,
          3.081501831501832,
          3.101851851851851,
          3.090451215451216,
          3.0935846560846563,
          3.0592439967439966,
          3.091740435490435,
          3.1169235856735855,
          3.0695461945461937,
          3.08429995929996,
          3.094538563288564,
          3.063886345136344,
          3.0680708180708196,
          3.10115231990232,
          3.0746972934472936,
          3.0958104395604416,
          3.0683379120879137,
          3.0982905982905984,
          3.0591804029304037,
          3.0996896621896615,
          3.0719627594627585,
          3.1113273300773305,
          3.0493233618233604,
          3.065921347171347,
          3.0858898046398053,
          3.0517399267399266,
          3.084999491249492,
          3.0521850834350843,
          3.0708816646316652,
          3.1007707570207574,
          3.071708384208385,
          3.066811660561663,
          3.1322496947496945,
          3.0946021571021567,
          3.0836004273504263,
          3.0825829263329267,
          3.1042048229548236,
          3.058926027676027,
          3.1037596662596667,
          3.073616198616197,
          3.0668116605616604,
          3.0841091778591783,
          3.0841727716727725,
          3.1089107651607653,
          3.0807387057387063,
          3.070818070818072,
          3.0617241554741557,
          3.0982270044770046,
          3.09549247049247,
          3.059307590557591,
          3.1394357956857952,
          3.091422466422465,
          3.1185134310134344,
          3.064395095645096,
          3.096891534391535,
          3.0463344525844516,
          3.097209503459504,
          3.0823285510785516,
          3.120421245421245,
          3.087543243793244,
          3.0776862026862015,
          3.096764346764347,
          3.070245726495727,
          3.065857753357754,
          3.178037240537243,
          3.183760683760685,
          3.213331807081806,
          3.1564789377289393,
          3.20671805046805,
          3.216384310134311,
          3.217465404965404,
          3.2044922669922653,
          3.188339438339439,
          3.2034111721611715,
          3.15387159137159,
          3.1636650386650396,
          3.1930453805453802,
          3.19953194953195,
          3.186134852801521,
          3.2210266585266574,
          3.202202889702889,
          3.1840786528286524,
          3.2047466422466435,
          3.1932997557997553,
          3.2159391534391535,
          3.171741452991453,
          3.2371158933658926,
          3.184968966218966,
          3.1726953601953594,
          3.1913283475783483,
          3.1537444037444033,
          3.172250203500202,
          3.1976877289377286,
          3.2077355514855523,
          3.161057692307693,
          3.145922364672366,
          3.14083485958486,
          3.2084350834350848,
          3.1525361212861203,
          3.2342541717541717,
          3.213840557590558,
          3.1991503866503876,
          3.202330077330078,
          3.2167022792022806,
          3.1935541310541313,
          3.262934981684983,
          3.210851648351649,
          3.2147308709808695,
          3.213268213268213,
          3.176320207570208,
          3.2308836996336985,
          3.215557590557589,
          3.1425518925518916,
          3.148529711029711,
          3.124554843304843,
          3.135620166870167,
          3.148911273911276,
          3.1705331705331723,
          3.1252543752543747,
          3.1345390720390705,
          3.1445868945868956,
          3.1328220390720394,
          3.117623117623117,
          3.1642373829873836,
          3.201376170126172,
          3.141534391534392,
          3.1684981684981692,
          3.1307234432234434,
          3.1328856328856323,
          3.1281796906796906,
          3.1251907814407818,
          3.1336487586487607,
          3.1071937321937306,
          3.1269078144078155,
          3.1198489010989,
          3.1166692104192113,
          3.1290700040700035,
          3.1517729955229954,
          3.1381639194139197,
          3.120929995929996,
          3.087924806674806,
          3.1153973341473353,
          3.1058582621082604,
          3.1236009361009374,
          3.1400717338217343,
          3.1498651811151817,
          3.1195309320309312,
          3.089578245828246,
          3.168816137566136,
          3.1711691086691087,
          3.1194037444037424,
          3.096255596255595,
          3.2546041921041926,
          3.234826516076517,
          3.1404532967032974,
          3.1805173992674,
          3.2261777574277573,
          3.2213446275946276,
          3.1656364468864466,
          3.2391508954008947,
          3.2201999389499396,
          3.2012489824989827,
          3.210279304029303,
          3.1651276963776973,
          3.2252874440374444,
          3.156860500610502,
          3.221980565730568,
          3.166526760276758,
          3.213967745217745,
          3.141025641025639,
          3.2423305860805876,
          3.241313085063084,
          3.2189916564916565,
          3.236161986161987,
          3.2689763939763936,
          3.2415038665038676,
          3.2147308709808704,
          3.11317155067155,
          3.1524089336589345,
          3.143823768823769,
          3.1511370573870576,
          3.15800518925519,
          3.122265466015465,
          3.0943477818477807,
          3.128688441188442,
          3.1412164224664245,
          3.1559065934065935,
          3.14000814000814,
          3.1244912494912502,
          3.1277981277981275,
          3.110309829059828,
          3.130341880341879,
          3.1335215710215714,
          3.135302197802197,
          3.1400081400081397,
          3.124872812372813,
          3.0862713675213675,
          3.139054232804232,
          3.1337123524623522,
          3.14852971102971,
          3.141534391534393,
          3.0944113756613754,
          3.138927045177045,
          3.117114367114368,
          3.155143467643468,
          3.1452864265364266,
          3.1653184778184777,
          3.165445665445665,
          3.116478428978429,
          3.1403897028897045,
          3.1295787545787537,
          3.1396901709401717,
          3.1281160968660964,
          3.1651912901912893,
          3.11234483109483,
          3.1306598494098505,
          3.1430606430606427,
          3.1578780016280015,
          3.0930759055759065,
          3.1141254578754567,
          3.1387998575498592,
          3.1234101546601547,
          3.1698972323972328,
          3.1185770248270255,
          3.1493564306064297,
          3.124618437118438,
          3.1739672364672367,
          3.149865181115182,
          3.136892043142043,
          3.1127263939763945,
          3.0993716931216935,
          3.118259055759055,
          3.1303418803418808,
          3.110564204314203,
          3.1239189051689045,
          3.1365740740740744,
          3.170151607651608,
          3.0944113756613736,
          3.1477665852665826,
          3.113680301180302,
          3.14515923890924,
          3.113934676434677,
          3.1325040700040723,
          3.155016280016279,
          3.137655168905169,
          3.147003459503461,
          3.142424704924704,
          3.1220110907610916,
          3.1112637362637354,
          3.1204212454212445,
          3.1337123524623536,
          3.1511370573870576,
          3.1321225071225065,
          3.144714082214083,
          3.161121286121285,
          3.1128535816035794,
          3.11565170940171,
          3.1005163817663806,
          3.078894485144485,
          3.110246235246235,
          3.1493564306064292,
          3.110882173382173,
          3.1658272283272297,
          3.1621387871387867,
          3.0815654253154263,
          3.16735347985348,
          3.1403261090761085,
          3.1626475376475374,
          3.1386726699226686,
          3.1712327024827034,
          3.1477665852665857,
          3.1629019129019134,
          3.1567333129833126,
          3.1208028083028085,
          3.1061762311762315,
          3.145222832722833,
          3.0956196581196593,
          3.180580993080994,
          3.1101190476190492,
          3.1204212454212445,
          3.140771265771267,
          3.130596255596256,
          3.1512006512006514,
          3.1592134717134717,
          3.1546983109483127,
          3.116033272283271,
          3.1101826414326417,
          3.125,
          3.141915954415954,
          3.1369556369556375,
          3.1232829670329654,
          3.1414707977207974,
          3.1459223646723653,
          3.144586894586896,
          3.1522817460317465,
          3.1125992063492056,
          3.1276073463573457,
          3.1177503052503046,
          3.1347298534798544,
          3.1395629833129832,
          3.131232193732193,
          3.1644281644281644,
          3.127861721611721,
          3.146685490435491,
          3.174539580789581,
          3.151137057387057,
          3.172758954008954,
          3.1636014448514445,
          3.12550875050875,
          3.1686889499389497,
          3.162011599511601,
          3.1525361212861207,
          3.0945385632885642,
          3.1191493691493686,
          3.141280016280016,
          3.149038461538462,
          3.1502467439967443,
          3.1694520757020754,
          3.1205484330484325,
          3.1674806674806675,
          3.1484025234025235,
          3.148847680097681,
          3.1168599918599913,
          3.076096357346357,
          3.128370472120473,
          3.1587047212047206,
          3.1538715913715905,
          3.1396265771265774,
          3.134984228734229,
          3.1566697191697206,
          3.110691391941392,
          3.1018518518518525,
          3.1178774928774935,
          3.170660358160358,
          3.1684345746845737,
          3.114252645502646,
          3.157051282051281,
          3.1716778591778616,
          3.0925035612535616,
          3.1176867114367113,
          3.12449124949125,
          3.1681801994302004,
          3.159976597476597,
          3.1494836182336186,
          3.1505011192511208,
          3.1712327024827016,
          3.1514550264550265,
          3.190628815628816,
          3.135747354497354,
          3.139944546194545,
          3.1931725681725687,
          3.1679894179894172,
          3.155906593406593,
          3.1541259666259656,
          3.1381003256003264,
          3.120866402116402,
          3.114697802197803,
          3.161566442816444,
          3.139054232804234,
          3.174730362230362,
          3.1894205331705323,
          3.1198489010988992,
          3.137909544159544,
          3.28360297110297,
          3.157432844932846,
          3.1180682743182735,
          3.145222832722832,
          3.1625839438339445,
          3.1257631257631258,
          3.142615486365486,
          3.120802808302809,
          3.1842058404558404,
          3.131613756613756,
          3.172250203500204,
          3.157687220187221,
          3.174412393162394,
          3.1658908221408217,
          3.141343610093609,
          3.1216295278795285,
          3.131422975172976,
          3.1609305046805054,
          3.150310337810337,
          3.1514550264550274,
          3.1842058404558404,
          3.141788766788766,
          3.150246743996744,
          3.163092694342694,
          3.195016788766791,
          3.1497379934879945,
          3.174921143671144,
          3.155779405779406,
          3.2041107041107058,
          3.124872812372814,
          3.1634106634106627,
          3.1333307895807905,
          3.1672898860398857,
          3.1873219373219386,
          3.116732804232805,
          3.14217032967033,
          3.143569393569393,
          3.164300976800975,
          3.1276073463573453,
          3.1484025234025252,
          3.131804538054538,
          3.144332519332517,
          3.1496743996744008,
          3.184968966218966,
          3.1297695360195363,
          3.149610805860807,
          3.195970695970697,
          3.136065323565324,
          3.1851597476597475,
          3.1427426739926747,
          3.121565934065936,
          3.1202304639804628,
          3.1525361212861207,
          3.1408348595848588,
          3.1010887260887263,
          3.1403261090761094,
          3.143760175010174,
          3.1673534798534795,
          3.1817892755392756,
          3.1577508140008153,
          3.1615664428164423,
          3.139880952380953,
          3.1005163817663806,
          3.161057692307691,
          3.1005799755799757,
          3.146812678062678,
          3.1442053317053325,
          3.1555886243386233,
          3.2091346153846154,
          3.202648046398045,
          3.1814713064713067,
          3.2161935286935286,
          3.1794998982498988,
          3.22388838013838,
          3.1964794464794473,
          3.1660816035816044,
          3.1353021978021967,
          3.1339667277167265,
          3.1335851648351665,
          3.141025641025641,
          3.1520273707773705,
          3.127925315425316,
          3.142679080179081,
          3.143823768823769,
          3.1450320512820507,
          3.1414707977207983,
          3.122329059829062,
          3.168307387057387,
          3.1399445461945468,
          3.1392450142450143,
          3.1609305046805045,
          3.1450956450956444,
          3.186685999186,
          3.195779914529913,
          3.140262515262515,
          3.1547619047619033,
          3.1622659747659743,
          3.146621896621898,
          3.1538079975579962,
          3.1920278795278794,
          3.1737128612128616,
          3.165827228327227,
          3.2212174399674414,
          3.1603581603581627,
          3.1942536630036638,
          3.18802146927147,
          3.1759386446886446,
          3.1429334554334556,
          3.1765745828245824,
          3.1772741147741157,
          3.150183150183149,
          3.1269714082214084,
          3.1661451973951973,
          3.122392653642654,
          3.130596255596256,
          3.1616936304436307,
          3.162202380952381,
          3.1077660765160746,
          3.120039682539682,
          3.1615028490028485,
          3.1680530118030124,
          3.1857320919820915,
          3.116796398046399,
          3.1660180097680097,
          3.1665267602767595,
          3.118195461945461,
          3.1470034595034595,
          3.113553113553113,
          3.1362561050061033,
          3.1854141229141213,
          3.1722502035002034,
          3.1255087505087507,
          3.1146978021978016,
          3.1534264346764345,
          3.159658628408629,
          3.149865181115181,
          3.145540801790801,
          3.1276709401709404,
          3.175684269434269,
          3.1745395807895807,
          3.1812805250305263,
          3.153299247049246,
          3.1856049043549066,
          3.147448616198615,
          3.2213446275946285,
          3.185223341473341,
          3.1609940984940987,
          3.152726902726903,
          3.1898656898656896,
          3.1877670940170955,
          3.2137769637769646,
          3.162011599511598,
          3.184778184778184,
          3.1538715913715922,
          3.1683073870573892,
          3.150310337810337,
          3.168625356125356,
          3.199913512413513,
          3.1479573667073653,
          3.19170991045991,
          3.171423483923484,
          3.169388481888481,
          3.1620751933251925,
          3.1324404761904776,
          3.1928545991045993,
          3.169642857142858,
          3.185286935286935,
          3.179372710622712,
          3.1512642450142443,
          3.185096153846155,
          3.161566442816443,
          3.1499923687423688,
          3.2022028897028902,
          3.1328856328856336,
          3.146240333740334,
          3.1653184778184786,
          3.1892297517297528,
          3.161757224257224,
          3.1781008343508343,
          3.157878001628003,
          3.170596764346765,
          3.197051790801791,
          3.1637286324786325,
          3.178100834350833,
          3.182234432234431,
          3.169770044770045,
          3.1713598901098883,
          3.153553622303621,
          3.162965506715507,
          3.177592083842084,
          3.166145197395197,
          3.150691900691902,
          3.119721713471714,
          3.187067562067563,
          3.1833155270655276,
          3.188085063085063,
          3.1204212454212463,
          3.200931013431014,
          3.191455535205535,
          3.1966066341066344,
          3.1882758445258452,
          3.128243284493285,
          3.163219881969883,
          3.2095161782661807,
          3.161566442816443,
          3.1658908221408217,
          3.166908323158322,
          3.220963064713066,
          3.1862408424908417,
          3.12283781033781,
          3.1697700447700456,
          3.161312067562068,
          3.1668447293447297,
          3.179054741554742,
          3.1550798738298718,
          3.1466854904354897,
          3.1643009768009787,
          3.2081807081807088,
          3.166971916971917,
          3.1846509971509973,
          3.169134106634106,
          3.1690069190069203,
          3.171423483923484,
          3.1573692511192504,
          3.219373219373219,
          3.1853505291005297,
          3.166590354090354,
          3.143569393569394,
          3.141852360602362,
          3.1629019129019125,
          3.213649776149776,
          3.1842058404558404,
          3.1824252136752142,
          3.1966066341066353,
          3.2126958689458713,
          3.1953983516483504,
          3.168879731379731,
          3.180771774521776,
          3.198896011396012,
          3.1308506308506305,
          3.0907865282865283
         ],
         "yaxis": "y"
        }
       ],
       "layout": {
        "legend": {
         "tracegroupgap": 0
        },
        "template": {
         "data": {
          "bar": [
           {
            "error_x": {
             "color": "rgb(36,36,36)"
            },
            "error_y": {
             "color": "rgb(36,36,36)"
            },
            "marker": {
             "line": {
              "color": "white",
              "width": 0.5
             }
            },
            "type": "bar"
           }
          ],
          "barpolar": [
           {
            "marker": {
             "line": {
              "color": "white",
              "width": 0.5
             }
            },
            "type": "barpolar"
           }
          ],
          "carpet": [
           {
            "aaxis": {
             "endlinecolor": "rgb(36,36,36)",
             "gridcolor": "white",
             "linecolor": "white",
             "minorgridcolor": "white",
             "startlinecolor": "rgb(36,36,36)"
            },
            "baxis": {
             "endlinecolor": "rgb(36,36,36)",
             "gridcolor": "white",
             "linecolor": "white",
             "minorgridcolor": "white",
             "startlinecolor": "rgb(36,36,36)"
            },
            "type": "carpet"
           }
          ],
          "choropleth": [
           {
            "colorbar": {
             "outlinewidth": 1,
             "tickcolor": "rgb(36,36,36)",
             "ticks": "outside"
            },
            "type": "choropleth"
           }
          ],
          "contour": [
           {
            "colorbar": {
             "outlinewidth": 1,
             "tickcolor": "rgb(36,36,36)",
             "ticks": "outside"
            },
            "colorscale": [
             [
              0,
              "#440154"
             ],
             [
              0.1111111111111111,
              "#482878"
             ],
             [
              0.2222222222222222,
              "#3e4989"
             ],
             [
              0.3333333333333333,
              "#31688e"
             ],
             [
              0.4444444444444444,
              "#26828e"
             ],
             [
              0.5555555555555556,
              "#1f9e89"
             ],
             [
              0.6666666666666666,
              "#35b779"
             ],
             [
              0.7777777777777778,
              "#6ece58"
             ],
             [
              0.8888888888888888,
              "#b5de2b"
             ],
             [
              1,
              "#fde725"
             ]
            ],
            "type": "contour"
           }
          ],
          "contourcarpet": [
           {
            "colorbar": {
             "outlinewidth": 1,
             "tickcolor": "rgb(36,36,36)",
             "ticks": "outside"
            },
            "type": "contourcarpet"
           }
          ],
          "heatmap": [
           {
            "colorbar": {
             "outlinewidth": 1,
             "tickcolor": "rgb(36,36,36)",
             "ticks": "outside"
            },
            "colorscale": [
             [
              0,
              "#440154"
             ],
             [
              0.1111111111111111,
              "#482878"
             ],
             [
              0.2222222222222222,
              "#3e4989"
             ],
             [
              0.3333333333333333,
              "#31688e"
             ],
             [
              0.4444444444444444,
              "#26828e"
             ],
             [
              0.5555555555555556,
              "#1f9e89"
             ],
             [
              0.6666666666666666,
              "#35b779"
             ],
             [
              0.7777777777777778,
              "#6ece58"
             ],
             [
              0.8888888888888888,
              "#b5de2b"
             ],
             [
              1,
              "#fde725"
             ]
            ],
            "type": "heatmap"
           }
          ],
          "heatmapgl": [
           {
            "colorbar": {
             "outlinewidth": 1,
             "tickcolor": "rgb(36,36,36)",
             "ticks": "outside"
            },
            "colorscale": [
             [
              0,
              "#440154"
             ],
             [
              0.1111111111111111,
              "#482878"
             ],
             [
              0.2222222222222222,
              "#3e4989"
             ],
             [
              0.3333333333333333,
              "#31688e"
             ],
             [
              0.4444444444444444,
              "#26828e"
             ],
             [
              0.5555555555555556,
              "#1f9e89"
             ],
             [
              0.6666666666666666,
              "#35b779"
             ],
             [
              0.7777777777777778,
              "#6ece58"
             ],
             [
              0.8888888888888888,
              "#b5de2b"
             ],
             [
              1,
              "#fde725"
             ]
            ],
            "type": "heatmapgl"
           }
          ],
          "histogram": [
           {
            "marker": {
             "line": {
              "color": "white",
              "width": 0.6
             }
            },
            "type": "histogram"
           }
          ],
          "histogram2d": [
           {
            "colorbar": {
             "outlinewidth": 1,
             "tickcolor": "rgb(36,36,36)",
             "ticks": "outside"
            },
            "colorscale": [
             [
              0,
              "#440154"
             ],
             [
              0.1111111111111111,
              "#482878"
             ],
             [
              0.2222222222222222,
              "#3e4989"
             ],
             [
              0.3333333333333333,
              "#31688e"
             ],
             [
              0.4444444444444444,
              "#26828e"
             ],
             [
              0.5555555555555556,
              "#1f9e89"
             ],
             [
              0.6666666666666666,
              "#35b779"
             ],
             [
              0.7777777777777778,
              "#6ece58"
             ],
             [
              0.8888888888888888,
              "#b5de2b"
             ],
             [
              1,
              "#fde725"
             ]
            ],
            "type": "histogram2d"
           }
          ],
          "histogram2dcontour": [
           {
            "colorbar": {
             "outlinewidth": 1,
             "tickcolor": "rgb(36,36,36)",
             "ticks": "outside"
            },
            "colorscale": [
             [
              0,
              "#440154"
             ],
             [
              0.1111111111111111,
              "#482878"
             ],
             [
              0.2222222222222222,
              "#3e4989"
             ],
             [
              0.3333333333333333,
              "#31688e"
             ],
             [
              0.4444444444444444,
              "#26828e"
             ],
             [
              0.5555555555555556,
              "#1f9e89"
             ],
             [
              0.6666666666666666,
              "#35b779"
             ],
             [
              0.7777777777777778,
              "#6ece58"
             ],
             [
              0.8888888888888888,
              "#b5de2b"
             ],
             [
              1,
              "#fde725"
             ]
            ],
            "type": "histogram2dcontour"
           }
          ],
          "mesh3d": [
           {
            "colorbar": {
             "outlinewidth": 1,
             "tickcolor": "rgb(36,36,36)",
             "ticks": "outside"
            },
            "type": "mesh3d"
           }
          ],
          "parcoords": [
           {
            "line": {
             "colorbar": {
              "outlinewidth": 1,
              "tickcolor": "rgb(36,36,36)",
              "ticks": "outside"
             }
            },
            "type": "parcoords"
           }
          ],
          "pie": [
           {
            "automargin": true,
            "type": "pie"
           }
          ],
          "scatter": [
           {
            "marker": {
             "colorbar": {
              "outlinewidth": 1,
              "tickcolor": "rgb(36,36,36)",
              "ticks": "outside"
             }
            },
            "type": "scatter"
           }
          ],
          "scatter3d": [
           {
            "line": {
             "colorbar": {
              "outlinewidth": 1,
              "tickcolor": "rgb(36,36,36)",
              "ticks": "outside"
             }
            },
            "marker": {
             "colorbar": {
              "outlinewidth": 1,
              "tickcolor": "rgb(36,36,36)",
              "ticks": "outside"
             }
            },
            "type": "scatter3d"
           }
          ],
          "scattercarpet": [
           {
            "marker": {
             "colorbar": {
              "outlinewidth": 1,
              "tickcolor": "rgb(36,36,36)",
              "ticks": "outside"
             }
            },
            "type": "scattercarpet"
           }
          ],
          "scattergeo": [
           {
            "marker": {
             "colorbar": {
              "outlinewidth": 1,
              "tickcolor": "rgb(36,36,36)",
              "ticks": "outside"
             }
            },
            "type": "scattergeo"
           }
          ],
          "scattergl": [
           {
            "marker": {
             "colorbar": {
              "outlinewidth": 1,
              "tickcolor": "rgb(36,36,36)",
              "ticks": "outside"
             }
            },
            "type": "scattergl"
           }
          ],
          "scattermapbox": [
           {
            "marker": {
             "colorbar": {
              "outlinewidth": 1,
              "tickcolor": "rgb(36,36,36)",
              "ticks": "outside"
             }
            },
            "type": "scattermapbox"
           }
          ],
          "scatterpolar": [
           {
            "marker": {
             "colorbar": {
              "outlinewidth": 1,
              "tickcolor": "rgb(36,36,36)",
              "ticks": "outside"
             }
            },
            "type": "scatterpolar"
           }
          ],
          "scatterpolargl": [
           {
            "marker": {
             "colorbar": {
              "outlinewidth": 1,
              "tickcolor": "rgb(36,36,36)",
              "ticks": "outside"
             }
            },
            "type": "scatterpolargl"
           }
          ],
          "scatterternary": [
           {
            "marker": {
             "colorbar": {
              "outlinewidth": 1,
              "tickcolor": "rgb(36,36,36)",
              "ticks": "outside"
             }
            },
            "type": "scatterternary"
           }
          ],
          "surface": [
           {
            "colorbar": {
             "outlinewidth": 1,
             "tickcolor": "rgb(36,36,36)",
             "ticks": "outside"
            },
            "colorscale": [
             [
              0,
              "#440154"
             ],
             [
              0.1111111111111111,
              "#482878"
             ],
             [
              0.2222222222222222,
              "#3e4989"
             ],
             [
              0.3333333333333333,
              "#31688e"
             ],
             [
              0.4444444444444444,
              "#26828e"
             ],
             [
              0.5555555555555556,
              "#1f9e89"
             ],
             [
              0.6666666666666666,
              "#35b779"
             ],
             [
              0.7777777777777778,
              "#6ece58"
             ],
             [
              0.8888888888888888,
              "#b5de2b"
             ],
             [
              1,
              "#fde725"
             ]
            ],
            "type": "surface"
           }
          ],
          "table": [
           {
            "cells": {
             "fill": {
              "color": "rgb(237,237,237)"
             },
             "line": {
              "color": "white"
             }
            },
            "header": {
             "fill": {
              "color": "rgb(217,217,217)"
             },
             "line": {
              "color": "white"
             }
            },
            "type": "table"
           }
          ]
         },
         "layout": {
          "annotationdefaults": {
           "arrowhead": 0,
           "arrowwidth": 1
          },
          "coloraxis": {
           "colorbar": {
            "outlinewidth": 1,
            "tickcolor": "rgb(36,36,36)",
            "ticks": "outside"
           }
          },
          "colorscale": {
           "diverging": [
            [
             0,
             "rgb(103,0,31)"
            ],
            [
             0.1,
             "rgb(178,24,43)"
            ],
            [
             0.2,
             "rgb(214,96,77)"
            ],
            [
             0.3,
             "rgb(244,165,130)"
            ],
            [
             0.4,
             "rgb(253,219,199)"
            ],
            [
             0.5,
             "rgb(247,247,247)"
            ],
            [
             0.6,
             "rgb(209,229,240)"
            ],
            [
             0.7,
             "rgb(146,197,222)"
            ],
            [
             0.8,
             "rgb(67,147,195)"
            ],
            [
             0.9,
             "rgb(33,102,172)"
            ],
            [
             1,
             "rgb(5,48,97)"
            ]
           ],
           "sequential": [
            [
             0,
             "#440154"
            ],
            [
             0.1111111111111111,
             "#482878"
            ],
            [
             0.2222222222222222,
             "#3e4989"
            ],
            [
             0.3333333333333333,
             "#31688e"
            ],
            [
             0.4444444444444444,
             "#26828e"
            ],
            [
             0.5555555555555556,
             "#1f9e89"
            ],
            [
             0.6666666666666666,
             "#35b779"
            ],
            [
             0.7777777777777778,
             "#6ece58"
            ],
            [
             0.8888888888888888,
             "#b5de2b"
            ],
            [
             1,
             "#fde725"
            ]
           ],
           "sequentialminus": [
            [
             0,
             "#440154"
            ],
            [
             0.1111111111111111,
             "#482878"
            ],
            [
             0.2222222222222222,
             "#3e4989"
            ],
            [
             0.3333333333333333,
             "#31688e"
            ],
            [
             0.4444444444444444,
             "#26828e"
            ],
            [
             0.5555555555555556,
             "#1f9e89"
            ],
            [
             0.6666666666666666,
             "#35b779"
            ],
            [
             0.7777777777777778,
             "#6ece58"
            ],
            [
             0.8888888888888888,
             "#b5de2b"
            ],
            [
             1,
             "#fde725"
            ]
           ]
          },
          "colorway": [
           "#1F77B4",
           "#FF7F0E",
           "#2CA02C",
           "#D62728",
           "#9467BD",
           "#8C564B",
           "#E377C2",
           "#7F7F7F",
           "#BCBD22",
           "#17BECF"
          ],
          "font": {
           "color": "rgb(36,36,36)"
          },
          "geo": {
           "bgcolor": "white",
           "lakecolor": "white",
           "landcolor": "white",
           "showlakes": true,
           "showland": true,
           "subunitcolor": "white"
          },
          "hoverlabel": {
           "align": "left"
          },
          "hovermode": "closest",
          "mapbox": {
           "style": "light"
          },
          "paper_bgcolor": "white",
          "plot_bgcolor": "white",
          "polar": {
           "angularaxis": {
            "gridcolor": "rgb(232,232,232)",
            "linecolor": "rgb(36,36,36)",
            "showgrid": false,
            "showline": true,
            "ticks": "outside"
           },
           "bgcolor": "white",
           "radialaxis": {
            "gridcolor": "rgb(232,232,232)",
            "linecolor": "rgb(36,36,36)",
            "showgrid": false,
            "showline": true,
            "ticks": "outside"
           }
          },
          "scene": {
           "xaxis": {
            "backgroundcolor": "white",
            "gridcolor": "rgb(232,232,232)",
            "gridwidth": 2,
            "linecolor": "rgb(36,36,36)",
            "showbackground": true,
            "showgrid": false,
            "showline": true,
            "ticks": "outside",
            "zeroline": false,
            "zerolinecolor": "rgb(36,36,36)"
           },
           "yaxis": {
            "backgroundcolor": "white",
            "gridcolor": "rgb(232,232,232)",
            "gridwidth": 2,
            "linecolor": "rgb(36,36,36)",
            "showbackground": true,
            "showgrid": false,
            "showline": true,
            "ticks": "outside",
            "zeroline": false,
            "zerolinecolor": "rgb(36,36,36)"
           },
           "zaxis": {
            "backgroundcolor": "white",
            "gridcolor": "rgb(232,232,232)",
            "gridwidth": 2,
            "linecolor": "rgb(36,36,36)",
            "showbackground": true,
            "showgrid": false,
            "showline": true,
            "ticks": "outside",
            "zeroline": false,
            "zerolinecolor": "rgb(36,36,36)"
           }
          },
          "shapedefaults": {
           "fillcolor": "black",
           "line": {
            "width": 0
           },
           "opacity": 0.3
          },
          "ternary": {
           "aaxis": {
            "gridcolor": "rgb(232,232,232)",
            "linecolor": "rgb(36,36,36)",
            "showgrid": false,
            "showline": true,
            "ticks": "outside"
           },
           "baxis": {
            "gridcolor": "rgb(232,232,232)",
            "linecolor": "rgb(36,36,36)",
            "showgrid": false,
            "showline": true,
            "ticks": "outside"
           },
           "bgcolor": "white",
           "caxis": {
            "gridcolor": "rgb(232,232,232)",
            "linecolor": "rgb(36,36,36)",
            "showgrid": false,
            "showline": true,
            "ticks": "outside"
           }
          },
          "title": {
           "x": 0.05
          },
          "xaxis": {
           "automargin": true,
           "gridcolor": "rgb(232,232,232)",
           "linecolor": "rgb(36,36,36)",
           "showgrid": false,
           "showline": true,
           "ticks": "outside",
           "title": {
            "standoff": 15
           },
           "zeroline": false,
           "zerolinecolor": "rgb(36,36,36)"
          },
          "yaxis": {
           "automargin": true,
           "gridcolor": "rgb(232,232,232)",
           "linecolor": "rgb(36,36,36)",
           "showgrid": false,
           "showline": true,
           "ticks": "outside",
           "title": {
            "standoff": 15
           },
           "zeroline": false,
           "zerolinecolor": "rgb(36,36,36)"
          }
         }
        },
        "title": {
         "text": "HousePressure g-pump-4 for all weeks "
        },
        "xaxis": {
         "anchor": "y",
         "domain": [
          0,
          1
         ],
         "title": {
          "text": "week"
         },
         "type": "category"
        },
        "yaxis": {
         "anchor": "x",
         "domain": [
          0,
          1
         ],
         "title": {
          "text": "feature_value"
         }
        }
       }
      },
      "text/html": [
       "<div>\n",
       "        \n",
       "        \n",
       "            <div id=\"58863674-72b6-469a-84ac-7af2348723cd\" class=\"plotly-graph-div\" style=\"height:525px; width:100%;\"></div>\n",
       "            <script type=\"text/javascript\">\n",
       "                require([\"plotly\"], function(Plotly) {\n",
       "                    window.PLOTLYENV=window.PLOTLYENV || {};\n",
       "                    \n",
       "                if (document.getElementById(\"58863674-72b6-469a-84ac-7af2348723cd\")) {\n",
       "                    Plotly.newPlot(\n",
       "                        '58863674-72b6-469a-84ac-7af2348723cd',\n",
       "                        [{\"hoverlabel\": {\"namelength\": 0}, \"hovertemplate\": \"week=%{x}<br>feature_value=%{y}\", \"legendgroup\": \"\", \"marker\": {\"color\": \"#1F77B4\", \"symbol\": \"circle\"}, \"mode\": \"markers\", \"name\": \"\", \"showlegend\": false, \"type\": \"scatter\", \"x\": [47, 47, 47, 47, 47, 47, 47, 47, 47, 47, 47, 47, 47, 47, 47, 47, 47, 47, 47, 47, 47, 47, 47, 47, 47, 47, 47, 47, 47, 47, 47, 47, 47, 47, 47, 47, 47, 47, 47, 47, 47, 47, 47, 47, 47, 47, 47, 47, 47, 47, 47, 47, 47, 47, 47, 47, 47, 47, 47, 47, 47, 47, 47, 47, 47, 47, 47, 47, 47, 47, 47, 47, 47, 47, 47, 47, 47, 47, 47, 47, 47, 47, 47, 47, 47, 47, 47, 47, 47, 47, 47, 47, 47, 47, 47, 47, 47, 47, 47, 47, 47, 47, 47, 47, 47, 47, 47, 47, 48, 48, 48, 48, 48, 48, 48, 48, 48, 48, 48, 48, 48, 48, 48, 48, 48, 48, 48, 48, 48, 48, 48, 48, 48, 48, 48, 48, 48, 48, 48, 48, 48, 48, 48, 48, 48, 48, 48, 48, 48, 48, 48, 48, 48, 48, 48, 48, 48, 48, 48, 48, 48, 48, 48, 48, 48, 48, 48, 48, 48, 48, 48, 48, 48, 48, 48, 48, 48, 48, 48, 48, 48, 48, 48, 48, 48, 48, 48, 48, 48, 48, 48, 48, 48, 48, 48, 48, 48, 48, 48, 48, 48, 48, 48, 48, 48, 48, 48, 48, 48, 48, 48, 48, 48, 48, 48, 48, 48, 48, 48, 48, 48, 48, 48, 48, 48, 48, 48, 48, 48, 48, 48, 48, 48, 48, 48, 48, 48, 48, 48, 48, 48, 48, 48, 48, 48, 48, 48, 48, 48, 48, 48, 48, 48, 48, 48, 48, 48, 48, 48, 48, 48, 48, 48, 48, 48, 48, 48, 48, 48, 48, 48, 48, 48, 48, 49, 49, 49, 49, 49, 49, 49, 49, 49, 49, 49, 49, 49, 49, 49, 49, 49, 49, 49, 49, 49, 49, 49, 49, 49, 49, 49, 49, 49, 50, 50, 50, 50, 50, 50, 50, 50, 50, 50, 50, 50, 50, 50, 50, 50, 50, 50, 50, 50, 50, 50, 50, 50, 50, 50, 50, 50, 50, 50, 50, 50, 50, 50, 50, 50, 50, 50, 50, 50, 50, 51, 51, 51, 51, 51, 51, 51, 51, 51, 51, 51, 51, 51, 51, 51, 51, 51, 51, 51, 51, 51, 51, 51, 51, 51, 51, 51, 51, 51, 51, 51, 51, 51, 51, 51, 51, 51, 51, 51, 51, 51, 51, 51, 51, 51, 51, 51, 51, 51, 51, 51, 51, 51, 51, 51, 51, 51, 51, 51, 51, 51, 51, 51, 51, 51, 51, 51, 51, 51, 51, 51, 51, 51, 51, 51, 51, 51, 51, 51, 51, 51, 51, 51, 51, 51, 51, 51, 51, 51, 51, 51, 51, 51, 51, 51, 51, 51, 51, 51, 51, 51, 51, 51, 51, 51, 51, 51, 51, 51, 51, 51, 51, 51, 51, 51, 51, 51, 51, 51, 51, 51, 51, 51, 51, 51, 51, 51, 51, 51, 51, 51, 51, 51, 51, 51, 51, 51, 51, 51, 51, 51, 51, 51, 51, 51, 51, 51, 52, 52, 52, 52, 52, 52, 52, 52, 52, 52, 52, 52, 52, 52, 52, 52, 52, 52, 52, 52, 52, 52, 52, 52, 52, 52, 52, 52, 52, 52, 52, 52, 52, 52, 52, 52, 52, 52, 52, 52, 52, 52, 52, 52, 52, 52, 52, 52, 52, 52, 52, 52, 52, 52, 52, 52, 52, 52, 52, 52, 52, 52, 52, 52, 52, 52, 52, 52, 52, 52, 52, 52, 52, 52, 52, 52, 52, 52, 52, 52, 52, 52, 52, 52, 52, 52, 52, 52, 52, 52, 52, 52, 52, 52, 52, 52, 52, 52, 52, 52, 52, 52, 52, 52, 52, 52, 52, 52, 52, 52, 52, 52, 52, 52, 52, 52, 52, 52, 52, 52, 52, 52, 52, 52, 52, 52, 52, 52, 52, 52, 52, 52, 52, 52, 52, 52, 52, 52, 52, 52, 52, 52, 52, 52, 52, 52, 52, 52, 52, 52, 52, 52, 52, 52, 52, 52, 52, 52, 52, 52, 52, 52, 52, 52, 52, 52, 1, 1, 1, 1, 1, 1, 1, 1, 1, 1, 1, 1, 1, 1, 1, 1, 1, 1, 1, 1, 1, 1, 1, 1, 1, 1, 1, 1, 1, 1, 1, 1, 1, 1, 1, 1, 1, 1, 1, 1, 1, 1, 1, 1, 1, 1, 1, 1, 1, 1, 1, 1, 1, 1, 1, 1, 1, 1, 1, 1, 1, 1, 1, 1, 1, 1, 1, 1, 1, 1, 1, 1, 1, 1, 1, 1, 1, 1, 1, 1, 1, 1, 1, 1, 1, 1, 1, 1, 1, 1, 1, 1, 1, 1, 1, 1, 1, 1, 1, 1, 1, 1, 1, 1, 1, 1, 1, 1, 1, 1, 1, 1, 1, 1, 1, 1, 1, 1, 1, 1, 1, 1, 1, 1, 1, 1, 1, 1, 1, 1, 1, 1, 1, 1, 1, 1, 1, 1, 1, 1, 1, 1, 1, 1, 1, 1, 1, 1, 1, 1, 1, 1, 1, 1, 1, 1, 1, 1, 1, 1, 1, 1, 1, 1, 1, 1, 1, 1, 2, 2, 2, 2, 2, 2, 2, 2, 2, 2, 2, 2, 2, 2, 2, 2, 2], \"xaxis\": \"x\", \"y\": [3.0444712487622954, 3.17002442002442, 3.05304231655487, 3.083038681997016, 3.119340150590151, 3.105095136345136, 3.120612026862027, 3.0994988807488806, 3.0812474562474557, 3.058989621489621, 3.0829008954008965, 3.1001637251637253, 3.086525742775741, 3.084109177859179, 3.0837276149776134, 3.069673382173382, 3.08646214896215, 3.1036960724460734, 3.09333028083028, 3.052757427757427, 3.045253357753358, 3.077749796499796, 3.0690374440374435, 3.078322140822141, 3.0596891534391517, 3.0699913512413524, 3.0829008954008956, 3.090150590150588, 3.059180402930402, 3.067701973951974, 3.0635683760683747, 3.0699277574277577, 3.0497049247049257, 3.0564458689458687, 3.0398478835978846, 3.058926027676028, 3.0762235449735456, 3.0740613553113554, 3.0830280830280845, 3.085381054131055, 3.0677019739519733, 3.079466829466831, 3.0909137159137168, 3.1077024827024826, 3.0939026251526247, 3.077940577940579, 3.1034416971916965, 3.0708816646316657, 3.1040776353276365, 3.092249185999186, 3.0785765160765166, 3.0909137159137146, 3.0829644892144894, 3.0858898046398036, 3.098036223036221, 3.0725351037851047, 3.1045227920227934, 3.086271367521368, 3.0652854090354094, 3.0645222832722836, 3.0830280830280823, 3.062232905982905, 3.0884335571835564, 3.1107549857549848, 3.104840761090762, 3.09250356125356, 3.090086996336995, 3.0804843304843303, 3.079085266585267, 3.0631232193732187, 3.07533323158323, 3.0856990231990236, 3.061533374033372, 3.066175722425721, 3.0694190069190093, 3.077368233618232, 3.0979090354090366, 3.102424196174196, 3.0866529304029307, 3.0972095034595015, 3.053011803011803, 3.0793396418396415, 3.1035052910052916, 3.0893238705738697, 3.072407916157916, 3.0878612128612115, 3.1185770248270246, 3.078640109890109, 3.082900895400897, 3.0876068376068386, 3.0635047822547814, 3.0805479242979246, 3.10884717134717, 3.075778388278387, 3.0825193325193325, 3.0695461945461946, 3.0979090354090353, 3.0709452584452577, 3.078322140822141, 3.0820105820105828, 3.0564458689458687, 3.085190272690271, 3.082455738705738, 3.0673840048840053, 3.0469067969067964, 3.0772410459910446, 3.0876704314204315, 3.0699913512413524, 3.076541514041514, 3.0916768416768416, 3.086843711843711, 3.0787037037037037, 3.0847451159951174, 3.0812474562474566, 3.0828373015873023, 3.0895782458282466, 3.0776862026862033, 3.0432819495319507, 3.1117088929588923, 3.115397334147333, 3.1096738909238897, 3.043281949531949, 3.0935846560846563, 3.087797619047619, 3.0787672975172975, 3.108719983719983, 3.0903413715913715, 3.100389194139192, 3.09848137973138, 3.0718991656491657, 3.06897385022385, 3.073552604802605, 3.075587606837606, 3.0831552706552716, 3.075142450142449, 3.075969169719171, 3.089133089133092, 3.0809294871794872, 3.088433557183558, 3.0949837199837194, 3.0610882173382166, 3.1244912494912516, 3.120039682539684, 3.1397537647537654, 3.132949226699226, 3.134920634920635, 3.1811533374033374, 3.130405474155475, 3.141280016280016, 3.143187830687832, 3.1370192307692313, 3.141280016280016, 3.113235144485143, 3.134793447293448, 3.086334961334961, 3.0991173178673184, 3.082455738705741, 3.0812474562474566, 3.076859483109484, 3.133267195767194, 3.0940934065934056, 3.067701973951973, 3.08862433862434, 3.04576210826211, 3.0777497964997966, 3.0626144688644703, 3.0905321530321537, 3.081120268620268, 3.0901505901505906, 3.0803571428571423, 3.058480870980871, 3.1033145095645103, 3.1006435693935672, 3.101724664224665, 3.089578245828246, 3.0923763736263727, 3.067574786324787, 3.0514219576719586, 3.0670660358160355, 3.0693554131054115, 3.0954924704924713, 3.056255087505088, 3.0788944851444846, 3.0619785307285308, 3.0519943019943, 3.043281949531949, 3.0536477411477425, 3.0797847985347993, 3.091676841676843, 3.1058582621082618, 3.0881791819291817, 3.0960012210012207, 3.094220594220594, 3.1156517094017104, 3.121820309320308, 3.1257631257631266, 3.1236645299145294, 3.1306598494098474, 3.1483389295889306, 3.110437016687016, 3.0528210215710225, 3.091804029304029, 3.091104497354498, 3.0486874236874253, 3.049577737077737, 3.0893874643874635, 3.1059854497354507, 3.0971459096459086, 3.056382275132276, 3.0729166666666665, 3.0592439967439966, 3.0867165242165258, 3.0909137159137168, 3.09364824989825, 3.10897435897436, 3.0421372608872606, 3.0456349206349227, 3.094538563288564, 3.0583536833536837, 3.081374643874644, 3.080675111925112, 3.0863985551485555, 3.0613425925925934, 3.0872888685388684, 3.1032509157509156, 3.0926307488807487, 3.102233414733416, 3.0526302401302385, 3.0720899470899483, 3.071326821326821, 3.0676383801383795, 3.0775590150590157, 3.0918676231176225, 3.05695461945462, 3.081120268620268, 3.0750152625152616, 3.0655397842897845, 3.043091168091168, 3.0701185388685377, 3.081501831501832, 3.101851851851851, 3.090451215451216, 3.0935846560846563, 3.0592439967439966, 3.091740435490435, 3.1169235856735855, 3.0695461945461937, 3.08429995929996, 3.094538563288564, 3.063886345136344, 3.0680708180708196, 3.10115231990232, 3.0746972934472936, 3.0958104395604416, 3.0683379120879137, 3.0982905982905984, 3.0591804029304037, 3.0996896621896615, 3.0719627594627585, 3.1113273300773305, 3.0493233618233604, 3.065921347171347, 3.0858898046398053, 3.0517399267399266, 3.084999491249492, 3.0521850834350843, 3.0708816646316652, 3.1007707570207574, 3.071708384208385, 3.066811660561663, 3.1322496947496945, 3.0946021571021567, 3.0836004273504263, 3.0825829263329267, 3.1042048229548236, 3.058926027676027, 3.1037596662596667, 3.073616198616197, 3.0668116605616604, 3.0841091778591783, 3.0841727716727725, 3.1089107651607653, 3.0807387057387063, 3.070818070818072, 3.0617241554741557, 3.0982270044770046, 3.09549247049247, 3.059307590557591, 3.1394357956857952, 3.091422466422465, 3.1185134310134344, 3.064395095645096, 3.096891534391535, 3.0463344525844516, 3.097209503459504, 3.0823285510785516, 3.120421245421245, 3.087543243793244, 3.0776862026862015, 3.096764346764347, 3.070245726495727, 3.065857753357754, 3.178037240537243, 3.183760683760685, 3.213331807081806, 3.1564789377289393, 3.20671805046805, 3.216384310134311, 3.217465404965404, 3.2044922669922653, 3.188339438339439, 3.2034111721611715, 3.15387159137159, 3.1636650386650396, 3.1930453805453802, 3.19953194953195, 3.186134852801521, 3.2210266585266574, 3.202202889702889, 3.1840786528286524, 3.2047466422466435, 3.1932997557997553, 3.2159391534391535, 3.171741452991453, 3.2371158933658926, 3.184968966218966, 3.1726953601953594, 3.1913283475783483, 3.1537444037444033, 3.172250203500202, 3.1976877289377286, 3.2077355514855523, 3.161057692307693, 3.145922364672366, 3.14083485958486, 3.2084350834350848, 3.1525361212861203, 3.2342541717541717, 3.213840557590558, 3.1991503866503876, 3.202330077330078, 3.2167022792022806, 3.1935541310541313, 3.262934981684983, 3.210851648351649, 3.2147308709808695, 3.213268213268213, 3.176320207570208, 3.2308836996336985, 3.215557590557589, 3.1425518925518916, 3.148529711029711, 3.124554843304843, 3.135620166870167, 3.148911273911276, 3.1705331705331723, 3.1252543752543747, 3.1345390720390705, 3.1445868945868956, 3.1328220390720394, 3.117623117623117, 3.1642373829873836, 3.201376170126172, 3.141534391534392, 3.1684981684981692, 3.1307234432234434, 3.1328856328856323, 3.1281796906796906, 3.1251907814407818, 3.1336487586487607, 3.1071937321937306, 3.1269078144078155, 3.1198489010989, 3.1166692104192113, 3.1290700040700035, 3.1517729955229954, 3.1381639194139197, 3.120929995929996, 3.087924806674806, 3.1153973341473353, 3.1058582621082604, 3.1236009361009374, 3.1400717338217343, 3.1498651811151817, 3.1195309320309312, 3.089578245828246, 3.168816137566136, 3.1711691086691087, 3.1194037444037424, 3.096255596255595, 3.2546041921041926, 3.234826516076517, 3.1404532967032974, 3.1805173992674, 3.2261777574277573, 3.2213446275946276, 3.1656364468864466, 3.2391508954008947, 3.2201999389499396, 3.2012489824989827, 3.210279304029303, 3.1651276963776973, 3.2252874440374444, 3.156860500610502, 3.221980565730568, 3.166526760276758, 3.213967745217745, 3.141025641025639, 3.2423305860805876, 3.241313085063084, 3.2189916564916565, 3.236161986161987, 3.2689763939763936, 3.2415038665038676, 3.2147308709808704, 3.11317155067155, 3.1524089336589345, 3.143823768823769, 3.1511370573870576, 3.15800518925519, 3.122265466015465, 3.0943477818477807, 3.128688441188442, 3.1412164224664245, 3.1559065934065935, 3.14000814000814, 3.1244912494912502, 3.1277981277981275, 3.110309829059828, 3.130341880341879, 3.1335215710215714, 3.135302197802197, 3.1400081400081397, 3.124872812372813, 3.0862713675213675, 3.139054232804232, 3.1337123524623522, 3.14852971102971, 3.141534391534393, 3.0944113756613754, 3.138927045177045, 3.117114367114368, 3.155143467643468, 3.1452864265364266, 3.1653184778184777, 3.165445665445665, 3.116478428978429, 3.1403897028897045, 3.1295787545787537, 3.1396901709401717, 3.1281160968660964, 3.1651912901912893, 3.11234483109483, 3.1306598494098505, 3.1430606430606427, 3.1578780016280015, 3.0930759055759065, 3.1141254578754567, 3.1387998575498592, 3.1234101546601547, 3.1698972323972328, 3.1185770248270255, 3.1493564306064297, 3.124618437118438, 3.1739672364672367, 3.149865181115182, 3.136892043142043, 3.1127263939763945, 3.0993716931216935, 3.118259055759055, 3.1303418803418808, 3.110564204314203, 3.1239189051689045, 3.1365740740740744, 3.170151607651608, 3.0944113756613736, 3.1477665852665826, 3.113680301180302, 3.14515923890924, 3.113934676434677, 3.1325040700040723, 3.155016280016279, 3.137655168905169, 3.147003459503461, 3.142424704924704, 3.1220110907610916, 3.1112637362637354, 3.1204212454212445, 3.1337123524623536, 3.1511370573870576, 3.1321225071225065, 3.144714082214083, 3.161121286121285, 3.1128535816035794, 3.11565170940171, 3.1005163817663806, 3.078894485144485, 3.110246235246235, 3.1493564306064292, 3.110882173382173, 3.1658272283272297, 3.1621387871387867, 3.0815654253154263, 3.16735347985348, 3.1403261090761085, 3.1626475376475374, 3.1386726699226686, 3.1712327024827034, 3.1477665852665857, 3.1629019129019134, 3.1567333129833126, 3.1208028083028085, 3.1061762311762315, 3.145222832722833, 3.0956196581196593, 3.180580993080994, 3.1101190476190492, 3.1204212454212445, 3.140771265771267, 3.130596255596256, 3.1512006512006514, 3.1592134717134717, 3.1546983109483127, 3.116033272283271, 3.1101826414326417, 3.125, 3.141915954415954, 3.1369556369556375, 3.1232829670329654, 3.1414707977207974, 3.1459223646723653, 3.144586894586896, 3.1522817460317465, 3.1125992063492056, 3.1276073463573457, 3.1177503052503046, 3.1347298534798544, 3.1395629833129832, 3.131232193732193, 3.1644281644281644, 3.127861721611721, 3.146685490435491, 3.174539580789581, 3.151137057387057, 3.172758954008954, 3.1636014448514445, 3.12550875050875, 3.1686889499389497, 3.162011599511601, 3.1525361212861207, 3.0945385632885642, 3.1191493691493686, 3.141280016280016, 3.149038461538462, 3.1502467439967443, 3.1694520757020754, 3.1205484330484325, 3.1674806674806675, 3.1484025234025235, 3.148847680097681, 3.1168599918599913, 3.076096357346357, 3.128370472120473, 3.1587047212047206, 3.1538715913715905, 3.1396265771265774, 3.134984228734229, 3.1566697191697206, 3.110691391941392, 3.1018518518518525, 3.1178774928774935, 3.170660358160358, 3.1684345746845737, 3.114252645502646, 3.157051282051281, 3.1716778591778616, 3.0925035612535616, 3.1176867114367113, 3.12449124949125, 3.1681801994302004, 3.159976597476597, 3.1494836182336186, 3.1505011192511208, 3.1712327024827016, 3.1514550264550265, 3.190628815628816, 3.135747354497354, 3.139944546194545, 3.1931725681725687, 3.1679894179894172, 3.155906593406593, 3.1541259666259656, 3.1381003256003264, 3.120866402116402, 3.114697802197803, 3.161566442816444, 3.139054232804234, 3.174730362230362, 3.1894205331705323, 3.1198489010988992, 3.137909544159544, 3.28360297110297, 3.157432844932846, 3.1180682743182735, 3.145222832722832, 3.1625839438339445, 3.1257631257631258, 3.142615486365486, 3.120802808302809, 3.1842058404558404, 3.131613756613756, 3.172250203500204, 3.157687220187221, 3.174412393162394, 3.1658908221408217, 3.141343610093609, 3.1216295278795285, 3.131422975172976, 3.1609305046805054, 3.150310337810337, 3.1514550264550274, 3.1842058404558404, 3.141788766788766, 3.150246743996744, 3.163092694342694, 3.195016788766791, 3.1497379934879945, 3.174921143671144, 3.155779405779406, 3.2041107041107058, 3.124872812372814, 3.1634106634106627, 3.1333307895807905, 3.1672898860398857, 3.1873219373219386, 3.116732804232805, 3.14217032967033, 3.143569393569393, 3.164300976800975, 3.1276073463573453, 3.1484025234025252, 3.131804538054538, 3.144332519332517, 3.1496743996744008, 3.184968966218966, 3.1297695360195363, 3.149610805860807, 3.195970695970697, 3.136065323565324, 3.1851597476597475, 3.1427426739926747, 3.121565934065936, 3.1202304639804628, 3.1525361212861207, 3.1408348595848588, 3.1010887260887263, 3.1403261090761094, 3.143760175010174, 3.1673534798534795, 3.1817892755392756, 3.1577508140008153, 3.1615664428164423, 3.139880952380953, 3.1005163817663806, 3.161057692307691, 3.1005799755799757, 3.146812678062678, 3.1442053317053325, 3.1555886243386233, 3.2091346153846154, 3.202648046398045, 3.1814713064713067, 3.2161935286935286, 3.1794998982498988, 3.22388838013838, 3.1964794464794473, 3.1660816035816044, 3.1353021978021967, 3.1339667277167265, 3.1335851648351665, 3.141025641025641, 3.1520273707773705, 3.127925315425316, 3.142679080179081, 3.143823768823769, 3.1450320512820507, 3.1414707977207983, 3.122329059829062, 3.168307387057387, 3.1399445461945468, 3.1392450142450143, 3.1609305046805045, 3.1450956450956444, 3.186685999186, 3.195779914529913, 3.140262515262515, 3.1547619047619033, 3.1622659747659743, 3.146621896621898, 3.1538079975579962, 3.1920278795278794, 3.1737128612128616, 3.165827228327227, 3.2212174399674414, 3.1603581603581627, 3.1942536630036638, 3.18802146927147, 3.1759386446886446, 3.1429334554334556, 3.1765745828245824, 3.1772741147741157, 3.150183150183149, 3.1269714082214084, 3.1661451973951973, 3.122392653642654, 3.130596255596256, 3.1616936304436307, 3.162202380952381, 3.1077660765160746, 3.120039682539682, 3.1615028490028485, 3.1680530118030124, 3.1857320919820915, 3.116796398046399, 3.1660180097680097, 3.1665267602767595, 3.118195461945461, 3.1470034595034595, 3.113553113553113, 3.1362561050061033, 3.1854141229141213, 3.1722502035002034, 3.1255087505087507, 3.1146978021978016, 3.1534264346764345, 3.159658628408629, 3.149865181115181, 3.145540801790801, 3.1276709401709404, 3.175684269434269, 3.1745395807895807, 3.1812805250305263, 3.153299247049246, 3.1856049043549066, 3.147448616198615, 3.2213446275946285, 3.185223341473341, 3.1609940984940987, 3.152726902726903, 3.1898656898656896, 3.1877670940170955, 3.2137769637769646, 3.162011599511598, 3.184778184778184, 3.1538715913715922, 3.1683073870573892, 3.150310337810337, 3.168625356125356, 3.199913512413513, 3.1479573667073653, 3.19170991045991, 3.171423483923484, 3.169388481888481, 3.1620751933251925, 3.1324404761904776, 3.1928545991045993, 3.169642857142858, 3.185286935286935, 3.179372710622712, 3.1512642450142443, 3.185096153846155, 3.161566442816443, 3.1499923687423688, 3.2022028897028902, 3.1328856328856336, 3.146240333740334, 3.1653184778184786, 3.1892297517297528, 3.161757224257224, 3.1781008343508343, 3.157878001628003, 3.170596764346765, 3.197051790801791, 3.1637286324786325, 3.178100834350833, 3.182234432234431, 3.169770044770045, 3.1713598901098883, 3.153553622303621, 3.162965506715507, 3.177592083842084, 3.166145197395197, 3.150691900691902, 3.119721713471714, 3.187067562067563, 3.1833155270655276, 3.188085063085063, 3.1204212454212463, 3.200931013431014, 3.191455535205535, 3.1966066341066344, 3.1882758445258452, 3.128243284493285, 3.163219881969883, 3.2095161782661807, 3.161566442816443, 3.1658908221408217, 3.166908323158322, 3.220963064713066, 3.1862408424908417, 3.12283781033781, 3.1697700447700456, 3.161312067562068, 3.1668447293447297, 3.179054741554742, 3.1550798738298718, 3.1466854904354897, 3.1643009768009787, 3.2081807081807088, 3.166971916971917, 3.1846509971509973, 3.169134106634106, 3.1690069190069203, 3.171423483923484, 3.1573692511192504, 3.219373219373219, 3.1853505291005297, 3.166590354090354, 3.143569393569394, 3.141852360602362, 3.1629019129019125, 3.213649776149776, 3.1842058404558404, 3.1824252136752142, 3.1966066341066353, 3.2126958689458713, 3.1953983516483504, 3.168879731379731, 3.180771774521776, 3.198896011396012, 3.1308506308506305, 3.0907865282865283], \"yaxis\": \"y\"}],\n",
       "                        {\"legend\": {\"tracegroupgap\": 0}, \"template\": {\"data\": {\"bar\": [{\"error_x\": {\"color\": \"rgb(36,36,36)\"}, \"error_y\": {\"color\": \"rgb(36,36,36)\"}, \"marker\": {\"line\": {\"color\": \"white\", \"width\": 0.5}}, \"type\": \"bar\"}], \"barpolar\": [{\"marker\": {\"line\": {\"color\": \"white\", \"width\": 0.5}}, \"type\": \"barpolar\"}], \"carpet\": [{\"aaxis\": {\"endlinecolor\": \"rgb(36,36,36)\", \"gridcolor\": \"white\", \"linecolor\": \"white\", \"minorgridcolor\": \"white\", \"startlinecolor\": \"rgb(36,36,36)\"}, \"baxis\": {\"endlinecolor\": \"rgb(36,36,36)\", \"gridcolor\": \"white\", \"linecolor\": \"white\", \"minorgridcolor\": \"white\", \"startlinecolor\": \"rgb(36,36,36)\"}, \"type\": \"carpet\"}], \"choropleth\": [{\"colorbar\": {\"outlinewidth\": 1, \"tickcolor\": \"rgb(36,36,36)\", \"ticks\": \"outside\"}, \"type\": \"choropleth\"}], \"contour\": [{\"colorbar\": {\"outlinewidth\": 1, \"tickcolor\": \"rgb(36,36,36)\", \"ticks\": \"outside\"}, \"colorscale\": [[0.0, \"#440154\"], [0.1111111111111111, \"#482878\"], [0.2222222222222222, \"#3e4989\"], [0.3333333333333333, \"#31688e\"], [0.4444444444444444, \"#26828e\"], [0.5555555555555556, \"#1f9e89\"], [0.6666666666666666, \"#35b779\"], [0.7777777777777778, \"#6ece58\"], [0.8888888888888888, \"#b5de2b\"], [1.0, \"#fde725\"]], \"type\": \"contour\"}], \"contourcarpet\": [{\"colorbar\": {\"outlinewidth\": 1, \"tickcolor\": \"rgb(36,36,36)\", \"ticks\": \"outside\"}, \"type\": \"contourcarpet\"}], \"heatmap\": [{\"colorbar\": {\"outlinewidth\": 1, \"tickcolor\": \"rgb(36,36,36)\", \"ticks\": \"outside\"}, \"colorscale\": [[0.0, \"#440154\"], [0.1111111111111111, \"#482878\"], [0.2222222222222222, \"#3e4989\"], [0.3333333333333333, \"#31688e\"], [0.4444444444444444, \"#26828e\"], [0.5555555555555556, \"#1f9e89\"], [0.6666666666666666, \"#35b779\"], [0.7777777777777778, \"#6ece58\"], [0.8888888888888888, \"#b5de2b\"], [1.0, \"#fde725\"]], \"type\": \"heatmap\"}], \"heatmapgl\": [{\"colorbar\": {\"outlinewidth\": 1, \"tickcolor\": \"rgb(36,36,36)\", \"ticks\": \"outside\"}, \"colorscale\": [[0.0, \"#440154\"], [0.1111111111111111, \"#482878\"], [0.2222222222222222, \"#3e4989\"], [0.3333333333333333, \"#31688e\"], [0.4444444444444444, \"#26828e\"], [0.5555555555555556, \"#1f9e89\"], [0.6666666666666666, \"#35b779\"], [0.7777777777777778, \"#6ece58\"], [0.8888888888888888, \"#b5de2b\"], [1.0, \"#fde725\"]], \"type\": \"heatmapgl\"}], \"histogram\": [{\"marker\": {\"line\": {\"color\": \"white\", \"width\": 0.6}}, \"type\": \"histogram\"}], \"histogram2d\": [{\"colorbar\": {\"outlinewidth\": 1, \"tickcolor\": \"rgb(36,36,36)\", \"ticks\": \"outside\"}, \"colorscale\": [[0.0, \"#440154\"], [0.1111111111111111, \"#482878\"], [0.2222222222222222, \"#3e4989\"], [0.3333333333333333, \"#31688e\"], [0.4444444444444444, \"#26828e\"], [0.5555555555555556, \"#1f9e89\"], [0.6666666666666666, \"#35b779\"], [0.7777777777777778, \"#6ece58\"], [0.8888888888888888, \"#b5de2b\"], [1.0, \"#fde725\"]], \"type\": \"histogram2d\"}], \"histogram2dcontour\": [{\"colorbar\": {\"outlinewidth\": 1, \"tickcolor\": \"rgb(36,36,36)\", \"ticks\": \"outside\"}, \"colorscale\": [[0.0, \"#440154\"], [0.1111111111111111, \"#482878\"], [0.2222222222222222, \"#3e4989\"], [0.3333333333333333, \"#31688e\"], [0.4444444444444444, \"#26828e\"], [0.5555555555555556, \"#1f9e89\"], [0.6666666666666666, \"#35b779\"], [0.7777777777777778, \"#6ece58\"], [0.8888888888888888, \"#b5de2b\"], [1.0, \"#fde725\"]], \"type\": \"histogram2dcontour\"}], \"mesh3d\": [{\"colorbar\": {\"outlinewidth\": 1, \"tickcolor\": \"rgb(36,36,36)\", \"ticks\": \"outside\"}, \"type\": \"mesh3d\"}], \"parcoords\": [{\"line\": {\"colorbar\": {\"outlinewidth\": 1, \"tickcolor\": \"rgb(36,36,36)\", \"ticks\": \"outside\"}}, \"type\": \"parcoords\"}], \"pie\": [{\"automargin\": true, \"type\": \"pie\"}], \"scatter\": [{\"marker\": {\"colorbar\": {\"outlinewidth\": 1, \"tickcolor\": \"rgb(36,36,36)\", \"ticks\": \"outside\"}}, \"type\": \"scatter\"}], \"scatter3d\": [{\"line\": {\"colorbar\": {\"outlinewidth\": 1, \"tickcolor\": \"rgb(36,36,36)\", \"ticks\": \"outside\"}}, \"marker\": {\"colorbar\": {\"outlinewidth\": 1, \"tickcolor\": \"rgb(36,36,36)\", \"ticks\": \"outside\"}}, \"type\": \"scatter3d\"}], \"scattercarpet\": [{\"marker\": {\"colorbar\": {\"outlinewidth\": 1, \"tickcolor\": \"rgb(36,36,36)\", \"ticks\": \"outside\"}}, \"type\": \"scattercarpet\"}], \"scattergeo\": [{\"marker\": {\"colorbar\": {\"outlinewidth\": 1, \"tickcolor\": \"rgb(36,36,36)\", \"ticks\": \"outside\"}}, \"type\": \"scattergeo\"}], \"scattergl\": [{\"marker\": {\"colorbar\": {\"outlinewidth\": 1, \"tickcolor\": \"rgb(36,36,36)\", \"ticks\": \"outside\"}}, \"type\": \"scattergl\"}], \"scattermapbox\": [{\"marker\": {\"colorbar\": {\"outlinewidth\": 1, \"tickcolor\": \"rgb(36,36,36)\", \"ticks\": \"outside\"}}, \"type\": \"scattermapbox\"}], \"scatterpolar\": [{\"marker\": {\"colorbar\": {\"outlinewidth\": 1, \"tickcolor\": \"rgb(36,36,36)\", \"ticks\": \"outside\"}}, \"type\": \"scatterpolar\"}], \"scatterpolargl\": [{\"marker\": {\"colorbar\": {\"outlinewidth\": 1, \"tickcolor\": \"rgb(36,36,36)\", \"ticks\": \"outside\"}}, \"type\": \"scatterpolargl\"}], \"scatterternary\": [{\"marker\": {\"colorbar\": {\"outlinewidth\": 1, \"tickcolor\": \"rgb(36,36,36)\", \"ticks\": \"outside\"}}, \"type\": \"scatterternary\"}], \"surface\": [{\"colorbar\": {\"outlinewidth\": 1, \"tickcolor\": \"rgb(36,36,36)\", \"ticks\": \"outside\"}, \"colorscale\": [[0.0, \"#440154\"], [0.1111111111111111, \"#482878\"], [0.2222222222222222, \"#3e4989\"], [0.3333333333333333, \"#31688e\"], [0.4444444444444444, \"#26828e\"], [0.5555555555555556, \"#1f9e89\"], [0.6666666666666666, \"#35b779\"], [0.7777777777777778, \"#6ece58\"], [0.8888888888888888, \"#b5de2b\"], [1.0, \"#fde725\"]], \"type\": \"surface\"}], \"table\": [{\"cells\": {\"fill\": {\"color\": \"rgb(237,237,237)\"}, \"line\": {\"color\": \"white\"}}, \"header\": {\"fill\": {\"color\": \"rgb(217,217,217)\"}, \"line\": {\"color\": \"white\"}}, \"type\": \"table\"}]}, \"layout\": {\"annotationdefaults\": {\"arrowhead\": 0, \"arrowwidth\": 1}, \"coloraxis\": {\"colorbar\": {\"outlinewidth\": 1, \"tickcolor\": \"rgb(36,36,36)\", \"ticks\": \"outside\"}}, \"colorscale\": {\"diverging\": [[0.0, \"rgb(103,0,31)\"], [0.1, \"rgb(178,24,43)\"], [0.2, \"rgb(214,96,77)\"], [0.3, \"rgb(244,165,130)\"], [0.4, \"rgb(253,219,199)\"], [0.5, \"rgb(247,247,247)\"], [0.6, \"rgb(209,229,240)\"], [0.7, \"rgb(146,197,222)\"], [0.8, \"rgb(67,147,195)\"], [0.9, \"rgb(33,102,172)\"], [1.0, \"rgb(5,48,97)\"]], \"sequential\": [[0.0, \"#440154\"], [0.1111111111111111, \"#482878\"], [0.2222222222222222, \"#3e4989\"], [0.3333333333333333, \"#31688e\"], [0.4444444444444444, \"#26828e\"], [0.5555555555555556, \"#1f9e89\"], [0.6666666666666666, \"#35b779\"], [0.7777777777777778, \"#6ece58\"], [0.8888888888888888, \"#b5de2b\"], [1.0, \"#fde725\"]], \"sequentialminus\": [[0.0, \"#440154\"], [0.1111111111111111, \"#482878\"], [0.2222222222222222, \"#3e4989\"], [0.3333333333333333, \"#31688e\"], [0.4444444444444444, \"#26828e\"], [0.5555555555555556, \"#1f9e89\"], [0.6666666666666666, \"#35b779\"], [0.7777777777777778, \"#6ece58\"], [0.8888888888888888, \"#b5de2b\"], [1.0, \"#fde725\"]]}, \"colorway\": [\"#1F77B4\", \"#FF7F0E\", \"#2CA02C\", \"#D62728\", \"#9467BD\", \"#8C564B\", \"#E377C2\", \"#7F7F7F\", \"#BCBD22\", \"#17BECF\"], \"font\": {\"color\": \"rgb(36,36,36)\"}, \"geo\": {\"bgcolor\": \"white\", \"lakecolor\": \"white\", \"landcolor\": \"white\", \"showlakes\": true, \"showland\": true, \"subunitcolor\": \"white\"}, \"hoverlabel\": {\"align\": \"left\"}, \"hovermode\": \"closest\", \"mapbox\": {\"style\": \"light\"}, \"paper_bgcolor\": \"white\", \"plot_bgcolor\": \"white\", \"polar\": {\"angularaxis\": {\"gridcolor\": \"rgb(232,232,232)\", \"linecolor\": \"rgb(36,36,36)\", \"showgrid\": false, \"showline\": true, \"ticks\": \"outside\"}, \"bgcolor\": \"white\", \"radialaxis\": {\"gridcolor\": \"rgb(232,232,232)\", \"linecolor\": \"rgb(36,36,36)\", \"showgrid\": false, \"showline\": true, \"ticks\": \"outside\"}}, \"scene\": {\"xaxis\": {\"backgroundcolor\": \"white\", \"gridcolor\": \"rgb(232,232,232)\", \"gridwidth\": 2, \"linecolor\": \"rgb(36,36,36)\", \"showbackground\": true, \"showgrid\": false, \"showline\": true, \"ticks\": \"outside\", \"zeroline\": false, \"zerolinecolor\": \"rgb(36,36,36)\"}, \"yaxis\": {\"backgroundcolor\": \"white\", \"gridcolor\": \"rgb(232,232,232)\", \"gridwidth\": 2, \"linecolor\": \"rgb(36,36,36)\", \"showbackground\": true, \"showgrid\": false, \"showline\": true, \"ticks\": \"outside\", \"zeroline\": false, \"zerolinecolor\": \"rgb(36,36,36)\"}, \"zaxis\": {\"backgroundcolor\": \"white\", \"gridcolor\": \"rgb(232,232,232)\", \"gridwidth\": 2, \"linecolor\": \"rgb(36,36,36)\", \"showbackground\": true, \"showgrid\": false, \"showline\": true, \"ticks\": \"outside\", \"zeroline\": false, \"zerolinecolor\": \"rgb(36,36,36)\"}}, \"shapedefaults\": {\"fillcolor\": \"black\", \"line\": {\"width\": 0}, \"opacity\": 0.3}, \"ternary\": {\"aaxis\": {\"gridcolor\": \"rgb(232,232,232)\", \"linecolor\": \"rgb(36,36,36)\", \"showgrid\": false, \"showline\": true, \"ticks\": \"outside\"}, \"baxis\": {\"gridcolor\": \"rgb(232,232,232)\", \"linecolor\": \"rgb(36,36,36)\", \"showgrid\": false, \"showline\": true, \"ticks\": \"outside\"}, \"bgcolor\": \"white\", \"caxis\": {\"gridcolor\": \"rgb(232,232,232)\", \"linecolor\": \"rgb(36,36,36)\", \"showgrid\": false, \"showline\": true, \"ticks\": \"outside\"}}, \"title\": {\"x\": 0.05}, \"xaxis\": {\"automargin\": true, \"gridcolor\": \"rgb(232,232,232)\", \"linecolor\": \"rgb(36,36,36)\", \"showgrid\": false, \"showline\": true, \"ticks\": \"outside\", \"title\": {\"standoff\": 15}, \"zeroline\": false, \"zerolinecolor\": \"rgb(36,36,36)\"}, \"yaxis\": {\"automargin\": true, \"gridcolor\": \"rgb(232,232,232)\", \"linecolor\": \"rgb(36,36,36)\", \"showgrid\": false, \"showline\": true, \"ticks\": \"outside\", \"title\": {\"standoff\": 15}, \"zeroline\": false, \"zerolinecolor\": \"rgb(36,36,36)\"}}}, \"title\": {\"text\": \"HousePressure g-pump-4 for all weeks \"}, \"xaxis\": {\"anchor\": \"y\", \"domain\": [0.0, 1.0], \"title\": {\"text\": \"week\"}, \"type\": \"category\"}, \"yaxis\": {\"anchor\": \"x\", \"domain\": [0.0, 1.0], \"title\": {\"text\": \"feature_value\"}}},\n",
       "                        {\"responsive\": true}\n",
       "                    ).then(function(){\n",
       "                            \n",
       "var gd = document.getElementById('58863674-72b6-469a-84ac-7af2348723cd');\n",
       "var x = new MutationObserver(function (mutations, observer) {{\n",
       "        var display = window.getComputedStyle(gd).display;\n",
       "        if (!display || display === 'none') {{\n",
       "            console.log([gd, 'removed!']);\n",
       "            Plotly.purge(gd);\n",
       "            observer.disconnect();\n",
       "        }}\n",
       "}});\n",
       "\n",
       "// Listen for the removal of the full notebook cells\n",
       "var notebookContainer = gd.closest('#notebook-container');\n",
       "if (notebookContainer) {{\n",
       "    x.observe(notebookContainer, {childList: true});\n",
       "}}\n",
       "\n",
       "// Listen for the clearing of the current output cell\n",
       "var outputEl = gd.closest('.output');\n",
       "if (outputEl) {{\n",
       "    x.observe(outputEl, {childList: true});\n",
       "}}\n",
       "\n",
       "                        })\n",
       "                };\n",
       "                });\n",
       "            </script>\n",
       "        </div>"
      ]
     },
     "metadata": {},
     "output_type": "display_data"
    }
   ],
   "source": [
    "show_baselining_plot_azure(df_data, duration = \"all\", asset_name= asset_name, variable_name= INLET_PRESSURE,\n",
    "                           plot_type = \"scatter\")\n",
    "\n",
    "show_baselining_plot_azure(df_data, duration = \"all\", asset_name= asset_name, variable_name= OUTLET_PRESSURE,\n",
    "                          plot_type = \"scatter\")\n",
    "\n",
    "show_baselining_plot_azure(df_data, duration = \"all\", asset_name= asset_name, variable_name= HOUSE_PRESSURE,\n",
    "                          plot_type = \"scatter\")"
   ]
  },
  {
   "cell_type": "markdown",
   "metadata": {},
   "source": [
    "**Boxplot**"
   ]
  },
  {
   "cell_type": "code",
   "execution_count": 16,
   "metadata": {},
   "outputs": [
    {
     "data": {
      "application/vnd.plotly.v1+json": {
       "config": {
        "plotlyServerURL": "https://plot.ly"
       },
       "data": [],
       "layout": {
        "boxmode": "group",
        "legend": {
         "tracegroupgap": 0
        },
        "template": {
         "data": {
          "bar": [
           {
            "error_x": {
             "color": "rgb(36,36,36)"
            },
            "error_y": {
             "color": "rgb(36,36,36)"
            },
            "marker": {
             "line": {
              "color": "white",
              "width": 0.5
             }
            },
            "type": "bar"
           }
          ],
          "barpolar": [
           {
            "marker": {
             "line": {
              "color": "white",
              "width": 0.5
             }
            },
            "type": "barpolar"
           }
          ],
          "carpet": [
           {
            "aaxis": {
             "endlinecolor": "rgb(36,36,36)",
             "gridcolor": "white",
             "linecolor": "white",
             "minorgridcolor": "white",
             "startlinecolor": "rgb(36,36,36)"
            },
            "baxis": {
             "endlinecolor": "rgb(36,36,36)",
             "gridcolor": "white",
             "linecolor": "white",
             "minorgridcolor": "white",
             "startlinecolor": "rgb(36,36,36)"
            },
            "type": "carpet"
           }
          ],
          "choropleth": [
           {
            "colorbar": {
             "outlinewidth": 1,
             "tickcolor": "rgb(36,36,36)",
             "ticks": "outside"
            },
            "type": "choropleth"
           }
          ],
          "contour": [
           {
            "colorbar": {
             "outlinewidth": 1,
             "tickcolor": "rgb(36,36,36)",
             "ticks": "outside"
            },
            "colorscale": [
             [
              0,
              "#440154"
             ],
             [
              0.1111111111111111,
              "#482878"
             ],
             [
              0.2222222222222222,
              "#3e4989"
             ],
             [
              0.3333333333333333,
              "#31688e"
             ],
             [
              0.4444444444444444,
              "#26828e"
             ],
             [
              0.5555555555555556,
              "#1f9e89"
             ],
             [
              0.6666666666666666,
              "#35b779"
             ],
             [
              0.7777777777777778,
              "#6ece58"
             ],
             [
              0.8888888888888888,
              "#b5de2b"
             ],
             [
              1,
              "#fde725"
             ]
            ],
            "type": "contour"
           }
          ],
          "contourcarpet": [
           {
            "colorbar": {
             "outlinewidth": 1,
             "tickcolor": "rgb(36,36,36)",
             "ticks": "outside"
            },
            "type": "contourcarpet"
           }
          ],
          "heatmap": [
           {
            "colorbar": {
             "outlinewidth": 1,
             "tickcolor": "rgb(36,36,36)",
             "ticks": "outside"
            },
            "colorscale": [
             [
              0,
              "#440154"
             ],
             [
              0.1111111111111111,
              "#482878"
             ],
             [
              0.2222222222222222,
              "#3e4989"
             ],
             [
              0.3333333333333333,
              "#31688e"
             ],
             [
              0.4444444444444444,
              "#26828e"
             ],
             [
              0.5555555555555556,
              "#1f9e89"
             ],
             [
              0.6666666666666666,
              "#35b779"
             ],
             [
              0.7777777777777778,
              "#6ece58"
             ],
             [
              0.8888888888888888,
              "#b5de2b"
             ],
             [
              1,
              "#fde725"
             ]
            ],
            "type": "heatmap"
           }
          ],
          "heatmapgl": [
           {
            "colorbar": {
             "outlinewidth": 1,
             "tickcolor": "rgb(36,36,36)",
             "ticks": "outside"
            },
            "colorscale": [
             [
              0,
              "#440154"
             ],
             [
              0.1111111111111111,
              "#482878"
             ],
             [
              0.2222222222222222,
              "#3e4989"
             ],
             [
              0.3333333333333333,
              "#31688e"
             ],
             [
              0.4444444444444444,
              "#26828e"
             ],
             [
              0.5555555555555556,
              "#1f9e89"
             ],
             [
              0.6666666666666666,
              "#35b779"
             ],
             [
              0.7777777777777778,
              "#6ece58"
             ],
             [
              0.8888888888888888,
              "#b5de2b"
             ],
             [
              1,
              "#fde725"
             ]
            ],
            "type": "heatmapgl"
           }
          ],
          "histogram": [
           {
            "marker": {
             "line": {
              "color": "white",
              "width": 0.6
             }
            },
            "type": "histogram"
           }
          ],
          "histogram2d": [
           {
            "colorbar": {
             "outlinewidth": 1,
             "tickcolor": "rgb(36,36,36)",
             "ticks": "outside"
            },
            "colorscale": [
             [
              0,
              "#440154"
             ],
             [
              0.1111111111111111,
              "#482878"
             ],
             [
              0.2222222222222222,
              "#3e4989"
             ],
             [
              0.3333333333333333,
              "#31688e"
             ],
             [
              0.4444444444444444,
              "#26828e"
             ],
             [
              0.5555555555555556,
              "#1f9e89"
             ],
             [
              0.6666666666666666,
              "#35b779"
             ],
             [
              0.7777777777777778,
              "#6ece58"
             ],
             [
              0.8888888888888888,
              "#b5de2b"
             ],
             [
              1,
              "#fde725"
             ]
            ],
            "type": "histogram2d"
           }
          ],
          "histogram2dcontour": [
           {
            "colorbar": {
             "outlinewidth": 1,
             "tickcolor": "rgb(36,36,36)",
             "ticks": "outside"
            },
            "colorscale": [
             [
              0,
              "#440154"
             ],
             [
              0.1111111111111111,
              "#482878"
             ],
             [
              0.2222222222222222,
              "#3e4989"
             ],
             [
              0.3333333333333333,
              "#31688e"
             ],
             [
              0.4444444444444444,
              "#26828e"
             ],
             [
              0.5555555555555556,
              "#1f9e89"
             ],
             [
              0.6666666666666666,
              "#35b779"
             ],
             [
              0.7777777777777778,
              "#6ece58"
             ],
             [
              0.8888888888888888,
              "#b5de2b"
             ],
             [
              1,
              "#fde725"
             ]
            ],
            "type": "histogram2dcontour"
           }
          ],
          "mesh3d": [
           {
            "colorbar": {
             "outlinewidth": 1,
             "tickcolor": "rgb(36,36,36)",
             "ticks": "outside"
            },
            "type": "mesh3d"
           }
          ],
          "parcoords": [
           {
            "line": {
             "colorbar": {
              "outlinewidth": 1,
              "tickcolor": "rgb(36,36,36)",
              "ticks": "outside"
             }
            },
            "type": "parcoords"
           }
          ],
          "pie": [
           {
            "automargin": true,
            "type": "pie"
           }
          ],
          "scatter": [
           {
            "marker": {
             "colorbar": {
              "outlinewidth": 1,
              "tickcolor": "rgb(36,36,36)",
              "ticks": "outside"
             }
            },
            "type": "scatter"
           }
          ],
          "scatter3d": [
           {
            "line": {
             "colorbar": {
              "outlinewidth": 1,
              "tickcolor": "rgb(36,36,36)",
              "ticks": "outside"
             }
            },
            "marker": {
             "colorbar": {
              "outlinewidth": 1,
              "tickcolor": "rgb(36,36,36)",
              "ticks": "outside"
             }
            },
            "type": "scatter3d"
           }
          ],
          "scattercarpet": [
           {
            "marker": {
             "colorbar": {
              "outlinewidth": 1,
              "tickcolor": "rgb(36,36,36)",
              "ticks": "outside"
             }
            },
            "type": "scattercarpet"
           }
          ],
          "scattergeo": [
           {
            "marker": {
             "colorbar": {
              "outlinewidth": 1,
              "tickcolor": "rgb(36,36,36)",
              "ticks": "outside"
             }
            },
            "type": "scattergeo"
           }
          ],
          "scattergl": [
           {
            "marker": {
             "colorbar": {
              "outlinewidth": 1,
              "tickcolor": "rgb(36,36,36)",
              "ticks": "outside"
             }
            },
            "type": "scattergl"
           }
          ],
          "scattermapbox": [
           {
            "marker": {
             "colorbar": {
              "outlinewidth": 1,
              "tickcolor": "rgb(36,36,36)",
              "ticks": "outside"
             }
            },
            "type": "scattermapbox"
           }
          ],
          "scatterpolar": [
           {
            "marker": {
             "colorbar": {
              "outlinewidth": 1,
              "tickcolor": "rgb(36,36,36)",
              "ticks": "outside"
             }
            },
            "type": "scatterpolar"
           }
          ],
          "scatterpolargl": [
           {
            "marker": {
             "colorbar": {
              "outlinewidth": 1,
              "tickcolor": "rgb(36,36,36)",
              "ticks": "outside"
             }
            },
            "type": "scatterpolargl"
           }
          ],
          "scatterternary": [
           {
            "marker": {
             "colorbar": {
              "outlinewidth": 1,
              "tickcolor": "rgb(36,36,36)",
              "ticks": "outside"
             }
            },
            "type": "scatterternary"
           }
          ],
          "surface": [
           {
            "colorbar": {
             "outlinewidth": 1,
             "tickcolor": "rgb(36,36,36)",
             "ticks": "outside"
            },
            "colorscale": [
             [
              0,
              "#440154"
             ],
             [
              0.1111111111111111,
              "#482878"
             ],
             [
              0.2222222222222222,
              "#3e4989"
             ],
             [
              0.3333333333333333,
              "#31688e"
             ],
             [
              0.4444444444444444,
              "#26828e"
             ],
             [
              0.5555555555555556,
              "#1f9e89"
             ],
             [
              0.6666666666666666,
              "#35b779"
             ],
             [
              0.7777777777777778,
              "#6ece58"
             ],
             [
              0.8888888888888888,
              "#b5de2b"
             ],
             [
              1,
              "#fde725"
             ]
            ],
            "type": "surface"
           }
          ],
          "table": [
           {
            "cells": {
             "fill": {
              "color": "rgb(237,237,237)"
             },
             "line": {
              "color": "white"
             }
            },
            "header": {
             "fill": {
              "color": "rgb(217,217,217)"
             },
             "line": {
              "color": "white"
             }
            },
            "type": "table"
           }
          ]
         },
         "layout": {
          "annotationdefaults": {
           "arrowhead": 0,
           "arrowwidth": 1
          },
          "coloraxis": {
           "colorbar": {
            "outlinewidth": 1,
            "tickcolor": "rgb(36,36,36)",
            "ticks": "outside"
           }
          },
          "colorscale": {
           "diverging": [
            [
             0,
             "rgb(103,0,31)"
            ],
            [
             0.1,
             "rgb(178,24,43)"
            ],
            [
             0.2,
             "rgb(214,96,77)"
            ],
            [
             0.3,
             "rgb(244,165,130)"
            ],
            [
             0.4,
             "rgb(253,219,199)"
            ],
            [
             0.5,
             "rgb(247,247,247)"
            ],
            [
             0.6,
             "rgb(209,229,240)"
            ],
            [
             0.7,
             "rgb(146,197,222)"
            ],
            [
             0.8,
             "rgb(67,147,195)"
            ],
            [
             0.9,
             "rgb(33,102,172)"
            ],
            [
             1,
             "rgb(5,48,97)"
            ]
           ],
           "sequential": [
            [
             0,
             "#440154"
            ],
            [
             0.1111111111111111,
             "#482878"
            ],
            [
             0.2222222222222222,
             "#3e4989"
            ],
            [
             0.3333333333333333,
             "#31688e"
            ],
            [
             0.4444444444444444,
             "#26828e"
            ],
            [
             0.5555555555555556,
             "#1f9e89"
            ],
            [
             0.6666666666666666,
             "#35b779"
            ],
            [
             0.7777777777777778,
             "#6ece58"
            ],
            [
             0.8888888888888888,
             "#b5de2b"
            ],
            [
             1,
             "#fde725"
            ]
           ],
           "sequentialminus": [
            [
             0,
             "#440154"
            ],
            [
             0.1111111111111111,
             "#482878"
            ],
            [
             0.2222222222222222,
             "#3e4989"
            ],
            [
             0.3333333333333333,
             "#31688e"
            ],
            [
             0.4444444444444444,
             "#26828e"
            ],
            [
             0.5555555555555556,
             "#1f9e89"
            ],
            [
             0.6666666666666666,
             "#35b779"
            ],
            [
             0.7777777777777778,
             "#6ece58"
            ],
            [
             0.8888888888888888,
             "#b5de2b"
            ],
            [
             1,
             "#fde725"
            ]
           ]
          },
          "colorway": [
           "#1F77B4",
           "#FF7F0E",
           "#2CA02C",
           "#D62728",
           "#9467BD",
           "#8C564B",
           "#E377C2",
           "#7F7F7F",
           "#BCBD22",
           "#17BECF"
          ],
          "font": {
           "color": "rgb(36,36,36)"
          },
          "geo": {
           "bgcolor": "white",
           "lakecolor": "white",
           "landcolor": "white",
           "showlakes": true,
           "showland": true,
           "subunitcolor": "white"
          },
          "hoverlabel": {
           "align": "left"
          },
          "hovermode": "closest",
          "mapbox": {
           "style": "light"
          },
          "paper_bgcolor": "white",
          "plot_bgcolor": "white",
          "polar": {
           "angularaxis": {
            "gridcolor": "rgb(232,232,232)",
            "linecolor": "rgb(36,36,36)",
            "showgrid": false,
            "showline": true,
            "ticks": "outside"
           },
           "bgcolor": "white",
           "radialaxis": {
            "gridcolor": "rgb(232,232,232)",
            "linecolor": "rgb(36,36,36)",
            "showgrid": false,
            "showline": true,
            "ticks": "outside"
           }
          },
          "scene": {
           "xaxis": {
            "backgroundcolor": "white",
            "gridcolor": "rgb(232,232,232)",
            "gridwidth": 2,
            "linecolor": "rgb(36,36,36)",
            "showbackground": true,
            "showgrid": false,
            "showline": true,
            "ticks": "outside",
            "zeroline": false,
            "zerolinecolor": "rgb(36,36,36)"
           },
           "yaxis": {
            "backgroundcolor": "white",
            "gridcolor": "rgb(232,232,232)",
            "gridwidth": 2,
            "linecolor": "rgb(36,36,36)",
            "showbackground": true,
            "showgrid": false,
            "showline": true,
            "ticks": "outside",
            "zeroline": false,
            "zerolinecolor": "rgb(36,36,36)"
           },
           "zaxis": {
            "backgroundcolor": "white",
            "gridcolor": "rgb(232,232,232)",
            "gridwidth": 2,
            "linecolor": "rgb(36,36,36)",
            "showbackground": true,
            "showgrid": false,
            "showline": true,
            "ticks": "outside",
            "zeroline": false,
            "zerolinecolor": "rgb(36,36,36)"
           }
          },
          "shapedefaults": {
           "fillcolor": "black",
           "line": {
            "width": 0
           },
           "opacity": 0.3
          },
          "ternary": {
           "aaxis": {
            "gridcolor": "rgb(232,232,232)",
            "linecolor": "rgb(36,36,36)",
            "showgrid": false,
            "showline": true,
            "ticks": "outside"
           },
           "baxis": {
            "gridcolor": "rgb(232,232,232)",
            "linecolor": "rgb(36,36,36)",
            "showgrid": false,
            "showline": true,
            "ticks": "outside"
           },
           "bgcolor": "white",
           "caxis": {
            "gridcolor": "rgb(232,232,232)",
            "linecolor": "rgb(36,36,36)",
            "showgrid": false,
            "showline": true,
            "ticks": "outside"
           }
          },
          "title": {
           "x": 0.05
          },
          "xaxis": {
           "automargin": true,
           "gridcolor": "rgb(232,232,232)",
           "linecolor": "rgb(36,36,36)",
           "showgrid": false,
           "showline": true,
           "ticks": "outside",
           "title": {
            "standoff": 15
           },
           "zeroline": false,
           "zerolinecolor": "rgb(36,36,36)"
          },
          "yaxis": {
           "automargin": true,
           "gridcolor": "rgb(232,232,232)",
           "linecolor": "rgb(36,36,36)",
           "showgrid": false,
           "showline": true,
           "ticks": "outside",
           "title": {
            "standoff": 15
           },
           "zeroline": false,
           "zerolinecolor": "rgb(36,36,36)"
          }
         }
        },
        "title": {
         "text": "InletPressure g-pump-4 for all weeks "
        },
        "xaxis": {
         "anchor": "y",
         "domain": [
          0,
          1
         ],
         "title": {
          "text": "week"
         },
         "type": "category"
        },
        "yaxis": {
         "anchor": "x",
         "domain": [
          0,
          1
         ],
         "title": {
          "text": "feature_value"
         }
        }
       }
      },
      "text/html": [
       "<div>\n",
       "        \n",
       "        \n",
       "            <div id=\"4175581b-63e2-4de0-9de5-f73138f622ce\" class=\"plotly-graph-div\" style=\"height:525px; width:100%;\"></div>\n",
       "            <script type=\"text/javascript\">\n",
       "                require([\"plotly\"], function(Plotly) {\n",
       "                    window.PLOTLYENV=window.PLOTLYENV || {};\n",
       "                    \n",
       "                if (document.getElementById(\"4175581b-63e2-4de0-9de5-f73138f622ce\")) {\n",
       "                    Plotly.newPlot(\n",
       "                        '4175581b-63e2-4de0-9de5-f73138f622ce',\n",
       "                        [],\n",
       "                        {\"boxmode\": \"group\", \"legend\": {\"tracegroupgap\": 0}, \"template\": {\"data\": {\"bar\": [{\"error_x\": {\"color\": \"rgb(36,36,36)\"}, \"error_y\": {\"color\": \"rgb(36,36,36)\"}, \"marker\": {\"line\": {\"color\": \"white\", \"width\": 0.5}}, \"type\": \"bar\"}], \"barpolar\": [{\"marker\": {\"line\": {\"color\": \"white\", \"width\": 0.5}}, \"type\": \"barpolar\"}], \"carpet\": [{\"aaxis\": {\"endlinecolor\": \"rgb(36,36,36)\", \"gridcolor\": \"white\", \"linecolor\": \"white\", \"minorgridcolor\": \"white\", \"startlinecolor\": \"rgb(36,36,36)\"}, \"baxis\": {\"endlinecolor\": \"rgb(36,36,36)\", \"gridcolor\": \"white\", \"linecolor\": \"white\", \"minorgridcolor\": \"white\", \"startlinecolor\": \"rgb(36,36,36)\"}, \"type\": \"carpet\"}], \"choropleth\": [{\"colorbar\": {\"outlinewidth\": 1, \"tickcolor\": \"rgb(36,36,36)\", \"ticks\": \"outside\"}, \"type\": \"choropleth\"}], \"contour\": [{\"colorbar\": {\"outlinewidth\": 1, \"tickcolor\": \"rgb(36,36,36)\", \"ticks\": \"outside\"}, \"colorscale\": [[0.0, \"#440154\"], [0.1111111111111111, \"#482878\"], [0.2222222222222222, \"#3e4989\"], [0.3333333333333333, \"#31688e\"], [0.4444444444444444, \"#26828e\"], [0.5555555555555556, \"#1f9e89\"], [0.6666666666666666, \"#35b779\"], [0.7777777777777778, \"#6ece58\"], [0.8888888888888888, \"#b5de2b\"], [1.0, \"#fde725\"]], \"type\": \"contour\"}], \"contourcarpet\": [{\"colorbar\": {\"outlinewidth\": 1, \"tickcolor\": \"rgb(36,36,36)\", \"ticks\": \"outside\"}, \"type\": \"contourcarpet\"}], \"heatmap\": [{\"colorbar\": {\"outlinewidth\": 1, \"tickcolor\": \"rgb(36,36,36)\", \"ticks\": \"outside\"}, \"colorscale\": [[0.0, \"#440154\"], [0.1111111111111111, \"#482878\"], [0.2222222222222222, \"#3e4989\"], [0.3333333333333333, \"#31688e\"], [0.4444444444444444, \"#26828e\"], [0.5555555555555556, \"#1f9e89\"], [0.6666666666666666, \"#35b779\"], [0.7777777777777778, \"#6ece58\"], [0.8888888888888888, \"#b5de2b\"], [1.0, \"#fde725\"]], \"type\": \"heatmap\"}], \"heatmapgl\": [{\"colorbar\": {\"outlinewidth\": 1, \"tickcolor\": \"rgb(36,36,36)\", \"ticks\": \"outside\"}, \"colorscale\": [[0.0, \"#440154\"], [0.1111111111111111, \"#482878\"], [0.2222222222222222, \"#3e4989\"], [0.3333333333333333, \"#31688e\"], [0.4444444444444444, \"#26828e\"], [0.5555555555555556, \"#1f9e89\"], [0.6666666666666666, \"#35b779\"], [0.7777777777777778, \"#6ece58\"], [0.8888888888888888, \"#b5de2b\"], [1.0, \"#fde725\"]], \"type\": \"heatmapgl\"}], \"histogram\": [{\"marker\": {\"line\": {\"color\": \"white\", \"width\": 0.6}}, \"type\": \"histogram\"}], \"histogram2d\": [{\"colorbar\": {\"outlinewidth\": 1, \"tickcolor\": \"rgb(36,36,36)\", \"ticks\": \"outside\"}, \"colorscale\": [[0.0, \"#440154\"], [0.1111111111111111, \"#482878\"], [0.2222222222222222, \"#3e4989\"], [0.3333333333333333, \"#31688e\"], [0.4444444444444444, \"#26828e\"], [0.5555555555555556, \"#1f9e89\"], [0.6666666666666666, \"#35b779\"], [0.7777777777777778, \"#6ece58\"], [0.8888888888888888, \"#b5de2b\"], [1.0, \"#fde725\"]], \"type\": \"histogram2d\"}], \"histogram2dcontour\": [{\"colorbar\": {\"outlinewidth\": 1, \"tickcolor\": \"rgb(36,36,36)\", \"ticks\": \"outside\"}, \"colorscale\": [[0.0, \"#440154\"], [0.1111111111111111, \"#482878\"], [0.2222222222222222, \"#3e4989\"], [0.3333333333333333, \"#31688e\"], [0.4444444444444444, \"#26828e\"], [0.5555555555555556, \"#1f9e89\"], [0.6666666666666666, \"#35b779\"], [0.7777777777777778, \"#6ece58\"], [0.8888888888888888, \"#b5de2b\"], [1.0, \"#fde725\"]], \"type\": \"histogram2dcontour\"}], \"mesh3d\": [{\"colorbar\": {\"outlinewidth\": 1, \"tickcolor\": \"rgb(36,36,36)\", \"ticks\": \"outside\"}, \"type\": \"mesh3d\"}], \"parcoords\": [{\"line\": {\"colorbar\": {\"outlinewidth\": 1, \"tickcolor\": \"rgb(36,36,36)\", \"ticks\": \"outside\"}}, \"type\": \"parcoords\"}], \"pie\": [{\"automargin\": true, \"type\": \"pie\"}], \"scatter\": [{\"marker\": {\"colorbar\": {\"outlinewidth\": 1, \"tickcolor\": \"rgb(36,36,36)\", \"ticks\": \"outside\"}}, \"type\": \"scatter\"}], \"scatter3d\": [{\"line\": {\"colorbar\": {\"outlinewidth\": 1, \"tickcolor\": \"rgb(36,36,36)\", \"ticks\": \"outside\"}}, \"marker\": {\"colorbar\": {\"outlinewidth\": 1, \"tickcolor\": \"rgb(36,36,36)\", \"ticks\": \"outside\"}}, \"type\": \"scatter3d\"}], \"scattercarpet\": [{\"marker\": {\"colorbar\": {\"outlinewidth\": 1, \"tickcolor\": \"rgb(36,36,36)\", \"ticks\": \"outside\"}}, \"type\": \"scattercarpet\"}], \"scattergeo\": [{\"marker\": {\"colorbar\": {\"outlinewidth\": 1, \"tickcolor\": \"rgb(36,36,36)\", \"ticks\": \"outside\"}}, \"type\": \"scattergeo\"}], \"scattergl\": [{\"marker\": {\"colorbar\": {\"outlinewidth\": 1, \"tickcolor\": \"rgb(36,36,36)\", \"ticks\": \"outside\"}}, \"type\": \"scattergl\"}], \"scattermapbox\": [{\"marker\": {\"colorbar\": {\"outlinewidth\": 1, \"tickcolor\": \"rgb(36,36,36)\", \"ticks\": \"outside\"}}, \"type\": \"scattermapbox\"}], \"scatterpolar\": [{\"marker\": {\"colorbar\": {\"outlinewidth\": 1, \"tickcolor\": \"rgb(36,36,36)\", \"ticks\": \"outside\"}}, \"type\": \"scatterpolar\"}], \"scatterpolargl\": [{\"marker\": {\"colorbar\": {\"outlinewidth\": 1, \"tickcolor\": \"rgb(36,36,36)\", \"ticks\": \"outside\"}}, \"type\": \"scatterpolargl\"}], \"scatterternary\": [{\"marker\": {\"colorbar\": {\"outlinewidth\": 1, \"tickcolor\": \"rgb(36,36,36)\", \"ticks\": \"outside\"}}, \"type\": \"scatterternary\"}], \"surface\": [{\"colorbar\": {\"outlinewidth\": 1, \"tickcolor\": \"rgb(36,36,36)\", \"ticks\": \"outside\"}, \"colorscale\": [[0.0, \"#440154\"], [0.1111111111111111, \"#482878\"], [0.2222222222222222, \"#3e4989\"], [0.3333333333333333, \"#31688e\"], [0.4444444444444444, \"#26828e\"], [0.5555555555555556, \"#1f9e89\"], [0.6666666666666666, \"#35b779\"], [0.7777777777777778, \"#6ece58\"], [0.8888888888888888, \"#b5de2b\"], [1.0, \"#fde725\"]], \"type\": \"surface\"}], \"table\": [{\"cells\": {\"fill\": {\"color\": \"rgb(237,237,237)\"}, \"line\": {\"color\": \"white\"}}, \"header\": {\"fill\": {\"color\": \"rgb(217,217,217)\"}, \"line\": {\"color\": \"white\"}}, \"type\": \"table\"}]}, \"layout\": {\"annotationdefaults\": {\"arrowhead\": 0, \"arrowwidth\": 1}, \"coloraxis\": {\"colorbar\": {\"outlinewidth\": 1, \"tickcolor\": \"rgb(36,36,36)\", \"ticks\": \"outside\"}}, \"colorscale\": {\"diverging\": [[0.0, \"rgb(103,0,31)\"], [0.1, \"rgb(178,24,43)\"], [0.2, \"rgb(214,96,77)\"], [0.3, \"rgb(244,165,130)\"], [0.4, \"rgb(253,219,199)\"], [0.5, \"rgb(247,247,247)\"], [0.6, \"rgb(209,229,240)\"], [0.7, \"rgb(146,197,222)\"], [0.8, \"rgb(67,147,195)\"], [0.9, \"rgb(33,102,172)\"], [1.0, \"rgb(5,48,97)\"]], \"sequential\": [[0.0, \"#440154\"], [0.1111111111111111, \"#482878\"], [0.2222222222222222, \"#3e4989\"], [0.3333333333333333, \"#31688e\"], [0.4444444444444444, \"#26828e\"], [0.5555555555555556, \"#1f9e89\"], [0.6666666666666666, \"#35b779\"], [0.7777777777777778, \"#6ece58\"], [0.8888888888888888, \"#b5de2b\"], [1.0, \"#fde725\"]], \"sequentialminus\": [[0.0, \"#440154\"], [0.1111111111111111, \"#482878\"], [0.2222222222222222, \"#3e4989\"], [0.3333333333333333, \"#31688e\"], [0.4444444444444444, \"#26828e\"], [0.5555555555555556, \"#1f9e89\"], [0.6666666666666666, \"#35b779\"], [0.7777777777777778, \"#6ece58\"], [0.8888888888888888, \"#b5de2b\"], [1.0, \"#fde725\"]]}, \"colorway\": [\"#1F77B4\", \"#FF7F0E\", \"#2CA02C\", \"#D62728\", \"#9467BD\", \"#8C564B\", \"#E377C2\", \"#7F7F7F\", \"#BCBD22\", \"#17BECF\"], \"font\": {\"color\": \"rgb(36,36,36)\"}, \"geo\": {\"bgcolor\": \"white\", \"lakecolor\": \"white\", \"landcolor\": \"white\", \"showlakes\": true, \"showland\": true, \"subunitcolor\": \"white\"}, \"hoverlabel\": {\"align\": \"left\"}, \"hovermode\": \"closest\", \"mapbox\": {\"style\": \"light\"}, \"paper_bgcolor\": \"white\", \"plot_bgcolor\": \"white\", \"polar\": {\"angularaxis\": {\"gridcolor\": \"rgb(232,232,232)\", \"linecolor\": \"rgb(36,36,36)\", \"showgrid\": false, \"showline\": true, \"ticks\": \"outside\"}, \"bgcolor\": \"white\", \"radialaxis\": {\"gridcolor\": \"rgb(232,232,232)\", \"linecolor\": \"rgb(36,36,36)\", \"showgrid\": false, \"showline\": true, \"ticks\": \"outside\"}}, \"scene\": {\"xaxis\": {\"backgroundcolor\": \"white\", \"gridcolor\": \"rgb(232,232,232)\", \"gridwidth\": 2, \"linecolor\": \"rgb(36,36,36)\", \"showbackground\": true, \"showgrid\": false, \"showline\": true, \"ticks\": \"outside\", \"zeroline\": false, \"zerolinecolor\": \"rgb(36,36,36)\"}, \"yaxis\": {\"backgroundcolor\": \"white\", \"gridcolor\": \"rgb(232,232,232)\", \"gridwidth\": 2, \"linecolor\": \"rgb(36,36,36)\", \"showbackground\": true, \"showgrid\": false, \"showline\": true, \"ticks\": \"outside\", \"zeroline\": false, \"zerolinecolor\": \"rgb(36,36,36)\"}, \"zaxis\": {\"backgroundcolor\": \"white\", \"gridcolor\": \"rgb(232,232,232)\", \"gridwidth\": 2, \"linecolor\": \"rgb(36,36,36)\", \"showbackground\": true, \"showgrid\": false, \"showline\": true, \"ticks\": \"outside\", \"zeroline\": false, \"zerolinecolor\": \"rgb(36,36,36)\"}}, \"shapedefaults\": {\"fillcolor\": \"black\", \"line\": {\"width\": 0}, \"opacity\": 0.3}, \"ternary\": {\"aaxis\": {\"gridcolor\": \"rgb(232,232,232)\", \"linecolor\": \"rgb(36,36,36)\", \"showgrid\": false, \"showline\": true, \"ticks\": \"outside\"}, \"baxis\": {\"gridcolor\": \"rgb(232,232,232)\", \"linecolor\": \"rgb(36,36,36)\", \"showgrid\": false, \"showline\": true, \"ticks\": \"outside\"}, \"bgcolor\": \"white\", \"caxis\": {\"gridcolor\": \"rgb(232,232,232)\", \"linecolor\": \"rgb(36,36,36)\", \"showgrid\": false, \"showline\": true, \"ticks\": \"outside\"}}, \"title\": {\"x\": 0.05}, \"xaxis\": {\"automargin\": true, \"gridcolor\": \"rgb(232,232,232)\", \"linecolor\": \"rgb(36,36,36)\", \"showgrid\": false, \"showline\": true, \"ticks\": \"outside\", \"title\": {\"standoff\": 15}, \"zeroline\": false, \"zerolinecolor\": \"rgb(36,36,36)\"}, \"yaxis\": {\"automargin\": true, \"gridcolor\": \"rgb(232,232,232)\", \"linecolor\": \"rgb(36,36,36)\", \"showgrid\": false, \"showline\": true, \"ticks\": \"outside\", \"title\": {\"standoff\": 15}, \"zeroline\": false, \"zerolinecolor\": \"rgb(36,36,36)\"}}}, \"title\": {\"text\": \"InletPressure g-pump-4 for all weeks \"}, \"xaxis\": {\"anchor\": \"y\", \"domain\": [0.0, 1.0], \"title\": {\"text\": \"week\"}, \"type\": \"category\"}, \"yaxis\": {\"anchor\": \"x\", \"domain\": [0.0, 1.0], \"title\": {\"text\": \"feature_value\"}}},\n",
       "                        {\"responsive\": true}\n",
       "                    ).then(function(){\n",
       "                            \n",
       "var gd = document.getElementById('4175581b-63e2-4de0-9de5-f73138f622ce');\n",
       "var x = new MutationObserver(function (mutations, observer) {{\n",
       "        var display = window.getComputedStyle(gd).display;\n",
       "        if (!display || display === 'none') {{\n",
       "            console.log([gd, 'removed!']);\n",
       "            Plotly.purge(gd);\n",
       "            observer.disconnect();\n",
       "        }}\n",
       "}});\n",
       "\n",
       "// Listen for the removal of the full notebook cells\n",
       "var notebookContainer = gd.closest('#notebook-container');\n",
       "if (notebookContainer) {{\n",
       "    x.observe(notebookContainer, {childList: true});\n",
       "}}\n",
       "\n",
       "// Listen for the clearing of the current output cell\n",
       "var outputEl = gd.closest('.output');\n",
       "if (outputEl) {{\n",
       "    x.observe(outputEl, {childList: true});\n",
       "}}\n",
       "\n",
       "                        })\n",
       "                };\n",
       "                });\n",
       "            </script>\n",
       "        </div>"
      ]
     },
     "metadata": {},
     "output_type": "display_data"
    },
    {
     "data": {
      "application/vnd.plotly.v1+json": {
       "config": {
        "plotlyServerURL": "https://plot.ly"
       },
       "data": [
        {
         "alignmentgroup": "True",
         "hoverlabel": {
          "namelength": 0
         },
         "hovertemplate": "week=%{x}<br>feature_value=%{y}",
         "legendgroup": "",
         "marker": {
          "color": "#1F77B4"
         },
         "name": "",
         "notched": false,
         "offsetgroup": "",
         "orientation": "v",
         "showlegend": false,
         "type": "box",
         "x": [
          47,
          47,
          47,
          47,
          47,
          47,
          47,
          47,
          47,
          47,
          47,
          47,
          47,
          47,
          47,
          47,
          47,
          47,
          47,
          47,
          47,
          47,
          47,
          47,
          47,
          47,
          47,
          47,
          47,
          47,
          47,
          47,
          47,
          47,
          47,
          47,
          47,
          47,
          47,
          47,
          47,
          47,
          47,
          47,
          47,
          47,
          47,
          47,
          47,
          47,
          47,
          47,
          47,
          47,
          47,
          47,
          47,
          47,
          47,
          47,
          47,
          47,
          47,
          47,
          47,
          47,
          47,
          47,
          47,
          47,
          47,
          47,
          47,
          47,
          47,
          47,
          47,
          47,
          47,
          47,
          47,
          47,
          47,
          47,
          47,
          47,
          47,
          47,
          47,
          47,
          47,
          47,
          47,
          47,
          47,
          47,
          47,
          47,
          47,
          47,
          47,
          47,
          47,
          47,
          47,
          47,
          47,
          47,
          48,
          48,
          48,
          48,
          48,
          48,
          48,
          48,
          48,
          48,
          48,
          48,
          48,
          48,
          48,
          48,
          48,
          48,
          48,
          48,
          48,
          48,
          48,
          48,
          48,
          48,
          48,
          48,
          48,
          48,
          48,
          48,
          48,
          48,
          48,
          48,
          48,
          48,
          48,
          48,
          48,
          48,
          48,
          48,
          48,
          48,
          48,
          48,
          48,
          48,
          48,
          48,
          48,
          48,
          48,
          48,
          48,
          48,
          48,
          48,
          48,
          48,
          48,
          48,
          48,
          48,
          48,
          48,
          48,
          48,
          48,
          48,
          48,
          48,
          48,
          48,
          48,
          48,
          48,
          48,
          48,
          48,
          48,
          48,
          48,
          48,
          48,
          48,
          48,
          48,
          48,
          48,
          48,
          48,
          48,
          48,
          48,
          48,
          48,
          48,
          48,
          48,
          48,
          48,
          48,
          48,
          48,
          48,
          48,
          48,
          48,
          48,
          48,
          48,
          48,
          48,
          48,
          48,
          48,
          48,
          48,
          48,
          48,
          48,
          48,
          48,
          48,
          48,
          48,
          48,
          48,
          48,
          48,
          48,
          48,
          48,
          48,
          48,
          48,
          48,
          48,
          48,
          48,
          48,
          48,
          48,
          48,
          48,
          48,
          48,
          48,
          48,
          48,
          48,
          48,
          48,
          48,
          48,
          48,
          48,
          48,
          48,
          48,
          48,
          48,
          48,
          49,
          49,
          49,
          49,
          49,
          49,
          49,
          49,
          49,
          49,
          49,
          49,
          49,
          49,
          49,
          49,
          49,
          49,
          49,
          49,
          49,
          49,
          49,
          49,
          49,
          49,
          49,
          49,
          50,
          50,
          50,
          50,
          50,
          50,
          50,
          50,
          50,
          50,
          50,
          50,
          50,
          50,
          50,
          50,
          50,
          50,
          50,
          50,
          50,
          50,
          50,
          50,
          50,
          50,
          50,
          50,
          50,
          50,
          50,
          50,
          50,
          50,
          50,
          50,
          50,
          50,
          50,
          50,
          50,
          50,
          50,
          50,
          50,
          50,
          50,
          50,
          50,
          50,
          50,
          50,
          50,
          50,
          50,
          50,
          50,
          50,
          50,
          50,
          50,
          50,
          50,
          50,
          50,
          50,
          50,
          50,
          50,
          50,
          50,
          50,
          51,
          51,
          51,
          51,
          51,
          51,
          51,
          51,
          51,
          51,
          51,
          51,
          51,
          51,
          51,
          51,
          51,
          51,
          51,
          51,
          51,
          51,
          51,
          51,
          51,
          51,
          51,
          51,
          51,
          51,
          51,
          51,
          51,
          51,
          51,
          51,
          51,
          51,
          51,
          51,
          51,
          51,
          51,
          51,
          51,
          51,
          51,
          51,
          51,
          51,
          51,
          51,
          51,
          51,
          51,
          51,
          51,
          51,
          51,
          51,
          51,
          51,
          51,
          51,
          51,
          51,
          51,
          51,
          51,
          51,
          51,
          51,
          51,
          51,
          51,
          51,
          51,
          51,
          51,
          51,
          51,
          51,
          51,
          51,
          51,
          51,
          51,
          51,
          51,
          51,
          51,
          51,
          51,
          51,
          51,
          51,
          51,
          51,
          51,
          51,
          51,
          51,
          51,
          51,
          51,
          51,
          51,
          51,
          51,
          51,
          51,
          51,
          51,
          51,
          51,
          51,
          51,
          51,
          51,
          51,
          51,
          51,
          51,
          51,
          51,
          51,
          51,
          51,
          51,
          51,
          51,
          51,
          51,
          51,
          51,
          51,
          51,
          51,
          51,
          51,
          51,
          51,
          51,
          51,
          51,
          51,
          51,
          51,
          51,
          51,
          51,
          51,
          51,
          51,
          51,
          51,
          51,
          51,
          51,
          51,
          51,
          51,
          51,
          51,
          51,
          51,
          51,
          52,
          52,
          52,
          52,
          52,
          52,
          52,
          52,
          52,
          52,
          52,
          52,
          52,
          52,
          52,
          52,
          52,
          52,
          52,
          52,
          52,
          52,
          52,
          52,
          52,
          52,
          52,
          52,
          52,
          52,
          52,
          52,
          52,
          52,
          52,
          52,
          52,
          52,
          52,
          52,
          52,
          52,
          52,
          52,
          52,
          52,
          52,
          52,
          52,
          52,
          52,
          52,
          52,
          52,
          52,
          52,
          52,
          52,
          52,
          52,
          52,
          52,
          52,
          52,
          52,
          52,
          52,
          52,
          52,
          52,
          52,
          52,
          52,
          52,
          52,
          52,
          52,
          52,
          52,
          52,
          52,
          52,
          52,
          52,
          52,
          52,
          52,
          52,
          52,
          52,
          52,
          52,
          52,
          52,
          52,
          52,
          52,
          52,
          52,
          52,
          52,
          52,
          52,
          52,
          52,
          52,
          52,
          52,
          52,
          52,
          52,
          52,
          52,
          52,
          52,
          52,
          52,
          52,
          52,
          52,
          52,
          52,
          52,
          52,
          52,
          52,
          52,
          52,
          52,
          52,
          52,
          52,
          52,
          52,
          52,
          52,
          52,
          52,
          52,
          52,
          52,
          52,
          52,
          52,
          52,
          52,
          52,
          52,
          52,
          52,
          52,
          52,
          52,
          52,
          52,
          52,
          52,
          52,
          52,
          52,
          52,
          52,
          52,
          52,
          52,
          52,
          52,
          52,
          1,
          1,
          1,
          1,
          1,
          1,
          1,
          1,
          1,
          1,
          1,
          1,
          1,
          1,
          1,
          1,
          1,
          1,
          1,
          1,
          1,
          1,
          1,
          1,
          1,
          1,
          1,
          1,
          1,
          1,
          1,
          1,
          1,
          1,
          1,
          1,
          1,
          1,
          1,
          1,
          1,
          1,
          1,
          1,
          1,
          1,
          1,
          1,
          1,
          1,
          1,
          1,
          1,
          1,
          1,
          1,
          1,
          1,
          1,
          1,
          1,
          1,
          1,
          1,
          1,
          1,
          1,
          1,
          1,
          1,
          1,
          1,
          1,
          1,
          1,
          1,
          1,
          1,
          1,
          1,
          1,
          1,
          1,
          1,
          1,
          1,
          1,
          1,
          1,
          1,
          1,
          1,
          1,
          1,
          1,
          1,
          1,
          1,
          1,
          1,
          1,
          1,
          1,
          1,
          1,
          1,
          1,
          1,
          1,
          1,
          1,
          1,
          1,
          1,
          1,
          1,
          1,
          1,
          1,
          1,
          1,
          1,
          1,
          1,
          1,
          1,
          1,
          1,
          1,
          1,
          1,
          1,
          1,
          1,
          1,
          1,
          1,
          1,
          1,
          1,
          1,
          1,
          1,
          1,
          1,
          1,
          1,
          1,
          1,
          1,
          1,
          1,
          1,
          1,
          1,
          2,
          2,
          2
         ],
         "x0": " ",
         "xaxis": "x",
         "y": [
          57.05443674737828,
          56.807081807081794,
          56.3465050031873,
          57.10618471035138,
          57.2337962962963,
          56.95779914529914,
          56.97115384615385,
          57.01757733007735,
          56.97433353683354,
          57.0900742775743,
          57.162571225071225,
          56.9069819069819,
          57.05636955636956,
          57.17528998779,
          57.43666056166057,
          57.011853886853885,
          57.327279202279215,
          57.34317765567767,
          57.1619352869353,
          57.413130850630864,
          57.10152116402116,
          57.25923382173382,
          57.21916971916972,
          57.195004070004074,
          57.35844017094016,
          57.145400895400904,
          57.20454314204315,
          56.98768823768825,
          57.154304029304036,
          56.85795685795686,
          56.94380850630853,
          56.80517399267401,
          56.91582722832724,
          56.833155270655254,
          56.94380850630852,
          57.175289987789995,
          57.3489010989011,
          57.15684778184781,
          57.31456043956042,
          56.94380850630849,
          56.92791005291007,
          56.93681318681322,
          57.02393671143671,
          56.9304538054538,
          56.86622405372407,
          56.90946784696786,
          57.084986772486786,
          57.105972730972724,
          57.015033577533565,
          56.80135836385836,
          56.980056980056986,
          56.76956145706146,
          56.73394892144893,
          56.63029100529101,
          56.741580179080195,
          56.91582722832721,
          56.71932234432237,
          56.7269536019536,
          56.99404761904762,
          56.948260073260066,
          56.86876780626781,
          56.84650997150998,
          56.856684981684985,
          56.89293345543347,
          57.09198209198209,
          56.7549348799349,
          56.95843508343509,
          56.98896011396013,
          57.252238502238505,
          57.113603988604005,
          57.04492266992268,
          56.90438034188035,
          56.9622507122507,
          57.16193528693529,
          56.74539580789581,
          56.330764143264155,
          56.51645807895809,
          56.59213471713473,
          56.75938644688645,
          56.70978327228328,
          56.72568172568174,
          56.871947496947534,
          56.895477207977216,
          56.84078652828654,
          56.90501628001629,
          56.80326617826619,
          56.95207570207571,
          57.170838420838436,
          56.941900691900685,
          56.91010378510381,
          57.16956654456656,
          56.95843508343509,
          57.070996133496145,
          56.91391941391941,
          57.26750101750102,
          57.02838827838829,
          56.99977106227106,
          57.06400081400084,
          57.209630647130645,
          57.140313390313395,
          57.19754782254784,
          56.90819597069599,
          57.12759462759464,
          56.90756003256001,
          57.21853378103379,
          57.221077533577535,
          56.89992877492878,
          57.156211843711844,
          57.32219169719172,
          57.45065120065121,
          57.3635276760277,
          57.30883699633702,
          57.26559320309321,
          57.49135124135123,
          57.627442002441995,
          57.43093711843713,
          57.38705738705738,
          57.55558099308098,
          57.48626373626374,
          57.299297924297925,
          57.45383089133091,
          57.59818884818885,
          57.443019943019955,
          57.85892348392349,
          57.86782661782663,
          57.85955942205943,
          57.90979853479854,
          57.79214997964999,
          57.80868437118436,
          58.01409238909239,
          57.858287545787555,
          57.9307844932845,
          57.775615588115585,
          57.936507936507944,
          58.14827533577536,
          57.985475172975185,
          58.11647842897844,
          57.95940170940171,
          57.705026455026456,
          57.90280321530323,
          57.65605921855922,
          57.78070309320311,
          57.5167887667888,
          57.805504680504676,
          57.597552910052904,
          57.71520146520147,
          57.8442969067969,
          57.911706349206355,
          57.77688746438745,
          57.7559015059015,
          57.96639702889703,
          57.76925620675621,
          57.95240638990639,
          58.07832214082214,
          57.94859076109078,
          57.498982498982514,
          58.13810032560033,
          58.271011396011396,
          58.08404558404559,
          57.897715710215714,
          58.158450345950335,
          58.0344424094424,
          58.24557387057388,
          57.65860297110299,
          57.967668905168914,
          57.83602971102971,
          57.954314204314215,
          58.07514245014246,
          57.73936711436712,
          57.7571733821734,
          57.767348392348396,
          57.458918396418404,
          57.721560846560855,
          57.65860297110297,
          57.720924908424905,
          57.29039479039479,
          57.81631562881565,
          57.83030626780627,
          57.833485958485966,
          57.93841575091576,
          58.117750305250304,
          57.96830484330486,
          57.838573463573475,
          57.759717134717135,
          57.53777472527472,
          57.891992266992276,
          57.89962352462353,
          57.5288715913716,
          57.60645604395603,
          57.56257631257632,
          57.59310134310133,
          57.66114672364674,
          57.61981074481074,
          57.49516687016688,
          57.42584961334961,
          57.89453601953604,
          57.493894993895,
          57.555580993081,
          57.74000305250306,
          57.54922161172163,
          57.20136345136347,
          57.84238909238909,
          57.705026455026456,
          57.67831705331705,
          57.64397639397642,
          57.62871387871388,
          57.73491554741556,
          57.68976393976394,
          57.73745929995931,
          57.522512210012216,
          57.57338726088725,
          57.47736060236062,
          57.43793243793245,
          57.392780830280834,
          57.49135124135123,
          57.70184676434676,
          57.46591371591373,
          57.41567460317461,
          57.49707468457467,
          57.4023199023199,
          57.5256919006919,
          57.438568376068396,
          57.63634513634514,
          57.593101343101345,
          57.619810744810756,
          57.59182946682949,
          57.64079670329671,
          57.67132173382174,
          57.84620472120472,
          57.68340455840456,
          57.790878103378105,
          57.7673483923484,
          57.74636243386243,
          57.65287952787952,
          57.79342185592187,
          57.8856328856329,
          57.650335775335776,
          57.73364367114365,
          58.179436304436315,
          58.08086589336589,
          57.75653744403746,
          57.59882478632479,
          58.2144129019129,
          57.91297822547824,
          57.74445461945462,
          58.0573361823362,
          57.74699837199839,
          57.809320309320306,
          57.799145299145316,
          58.066875254375255,
          57.67170329670332,
          57.76035307285309,
          58.22140822140824,
          57.90661884411887,
          57.90916259666261,
          57.884996947496965,
          57.802324989824996,
          57.8608312983313,
          58.09104090354092,
          58.22013634513633,
          58.34350834350835,
          58.185795685795675,
          58.028083028083024,
          58.134920634920654,
          58.456069393569386,
          57.803596866096875,
          58.04334554334554,
          57.916793854293836,
          57.908526658526654,
          57.8989875864876,
          57.69930301180303,
          58.00328144078146,
          57.7272842897843,
          57.815679690679694,
          58.110754985754994,
          57.77434371184372,
          58.048433048433054,
          58.069419006919,
          58.00773300773304,
          57.60645604395606,
          57.780067155067144,
          57.89008445258446,
          57.81885938135938,
          57.70375457875458,
          57.54413410663411,
          57.38705738705739,
          57.60582010582012,
          57.57974664224667,
          57.66750610500612,
          57.70439051689053,
          57.547949735449755,
          57.8506562881563,
          57.749542124542124,
          57.61408730158731,
          57.52823565323566,
          57.57338726088727,
          57.76925620675622,
          57.691035816035814,
          57.288486975986984,
          57.69930301180301,
          57.95367826617825,
          57.87863756613758,
          57.318376068376075,
          57.29421041921043,
          57.48181216931216,
          57.277676027676044,
          57.69485144485145,
          57.667506105006105,
          57.727284289784286,
          57.65287952787954,
          57.342541717541714,
          57.65160765160766,
          57.65733109483108,
          57.61408730158731,
          57.47926841676844,
          57.25594814136482,
          57.705026455026484,
          57.563848188848176,
          57.43157305657306,
          57.207086894586894,
          57.42648555148557,
          57.23634004884005,
          57.3387260887261,
          57.35653235653234,
          57.75526556776558,
          57.52378408628408,
          57.65605921855922,
          57.522512210012216,
          57.46209808709809,
          57.29929792429794,
          57.483084045584036,
          57.23824786324786,
          57.271316646316656,
          57.44556369556371,
          57.32155575905576,
          57.31837606837607,
          57.286579161579176,
          57.513609076109105,
          57.533323158323164,
          57.08498677248679,
          57.5517653642654,
          57.39786833536832,
          57.51869658119659,
          57.275768213268236,
          57.43030118030119,
          57.306929181929185,
          57.296118233618245,
          57.372430809930826,
          57.425213675213676,
          57.60327635327638,
          57.58610602360602,
          57.4207621082621,
          57.41631054131056,
          57.32028388278388,
          57.35589641839641,
          57.32791514041514,
          57.152396214896214,
          57.41440272690273,
          57.43220899470899,
          57.22807285307287,
          57.47608872608873,
          57.5072496947497,
          57.529507529507526,
          57.43856837606838,
          57.288486975986984,
          57.233796296296305,
          57.14603683353685,
          57.18610093610095,
          57.27640415140416,
          57.32473544973546,
          57.30502136752137,
          57.392780830280834,
          57.56639194139194,
          57.51678876678877,
          57.802324989825,
          57.4404761904762,
          57.436660561660574,
          57.45828245828247,
          57.21789784289786,
          57.322827635327634,
          57.266229141229154,
          57.42313242313244,
          57.538410663410666,
          57.52569190069192,
          57.43220899470901,
          57.47672466422467,
          57.43602462352464,
          57.48562779812781,
          57.71265771265772,
          58.14636752136753,
          58.005189255189265,
          57.717109279609296,
          57.84048127798129,
          57.154939967439994,
          56.621387871387874,
          56.47385022385024,
          56.52599715099715,
          56.58641127391129,
          56.464947089947096,
          56.53490028490027,
          56.57178469678471,
          56.74666768416768,
          56.55079873829873,
          56.440145502645514,
          56.54761904761906,
          56.304054741554744,
          56.470034595034605,
          56.5120065120065,
          56.403897028897035,
          56.48656898656901,
          56.277981277981304,
          56.359381359381395,
          56.4719424094424,
          56.47575803825806,
          56.4115282865283,
          56.48148148148152,
          56.51518620268619,
          56.51772995522996,
          56.63983007733009,
          56.387998575498585,
          56.73712861212862,
          57.06145706145708,
          56.87385531135532,
          57.051917989417994,
          57.02966015466017,
          57.00231481481484,
          56.81089743589745,
          56.82488807488809,
          56.64682539682539,
          56.62329568579571,
          56.50246743996743,
          56.53871591371592,
          56.67289886039885,
          56.7803724053724,
          56.26780626780627,
          56.67862230362232,
          56.72949735449735,
          56.88148656898655,
          56.58259564509566,
          56.318681318681314,
          56.55779405779407,
          56.590862840862854,
          56.445868945868945,
          56.754934879934886,
          56.69833638583638,
          56.67544261294262,
          56.79563492063491,
          56.99977106227106,
          56.99849918599919,
          56.817256817256826,
          57.17401811151811,
          57.16511497761497,
          57.02457264957266,
          56.93999287749288,
          57.03792735042736,
          57.02648046398048,
          57.16511497761499,
          57.21281033781036,
          57.294846357346366,
          57.431573056573065,
          57.11932743182745,
          57.02520858770859,
          57.12823056573058,
          57.172746235246244,
          57.030932030932036,
          57.06018518518519,
          57.0582773707774,
          57.128230565730554,
          57.11423992673992,
          56.87767094017094,
          57.16829466829466,
          57.29421041921044,
          57.12759462759465,
          57.094525844525855,
          57.06463675213678,
          56.91391941391944,
          57.04428673178675,
          56.980692918192915,
          57.07163207163208,
          56.96670227920229,
          57.10788054538054,
          57.105972730972724,
          57.07290394790397,
          57.1371336996337,
          57.1155118030118,
          57.22807285307287,
          57.4156746031746,
          57.49325905575906,
          57.501526251526265,
          57.53586691086692,
          57.381333943833944,
          57.38324175824177,
          57.65542328042329,
          57.53014346764346,
          57.53968253968255,
          57.43030118030118,
          57.51806064306066,
          57.279583842083845,
          57.49007936507939,
          57.400412087912095,
          57.5772028897029,
          57.498346560846585,
          57.446835571835585,
          57.490715303215325,
          57.52124033374033,
          57.51424501424501,
          57.48435592185593,
          57.38260582010582,
          57.2585978835979,
          57.50407000407002,
          57.42966524216525,
          57.381969881969894,
          57.415038665038686,
          57.507249694749696,
          57.12695868945868,
          57.45001526251528,
          57.429665242165264,
          57.60582010582012,
          57.478632478632484,
          57.55367317867319,
          57.147308709808705,
          57.329822954822966,
          57.26304945054945,
          57.474816849816854,
          57.32982295482298,
          57.43793243793245,
          57.13077431827432,
          57.38451363451366,
          57.21217439967441,
          57.288486975986984,
          57.326643264143264,
          57.24015567765567,
          57.29675417175418,
          57.41122303622304,
          57.61345136345136,
          57.51996845746848,
          57.65733109483111,
          57.4557387057387,
          57.507249694749696,
          57.66877798127799,
          57.60518416768417,
          57.56512006512008,
          57.558124745624745,
          57.67068579568579,
          57.66178266178267,
          57.46972934472936,
          57.69930301180302,
          57.56766381766383,
          57.28594322344322,
          57.45573870573869,
          57.43856837606837,
          57.376882376882385,
          57.33936202686203,
          57.46082621082621,
          57.58610602360604,
          57.327279202279215,
          57.64906389906391,
          57.66877798127802,
          57.67640923890926,
          57.55748880748882,
          57.556216931216944,
          57.58101851851851,
          57.36607142857142,
          57.428393365893356,
          57.49198717948719,
          57.23570411070411,
          57.36607142857144,
          57.213446275946275,
          57.03729141229143,
          57.22807285307285,
          57.1918243793244,
          57.205179080179086,
          57.09325396825398,
          57.21153846153848,
          57.25478225478225,
          57.46146214896216,
          57.533959096459114,
          57.280855718355745,
          57.62934981684983,
          57.133954008954,
          57.29866198616199,
          57.41694647944649,
          57.63252950752951,
          57.70248270248268,
          57.59310134310135,
          57.51551689051689,
          57.23125254375253,
          57.350172975172995,
          57.25732600732601,
          57.19818376068377,
          57.425213675213676,
          57.17465404965407,
          57.38133394383394,
          57.28530728530729,
          57.11869149369152,
          57.217261904761905,
          57.210902523402524,
          57.14921652421652,
          57.03347578347581,
          57.498982498982514,
          57.59755291005292,
          57.49198717948719,
          57.31710419210419,
          57.33999796499797,
          57.48880748880748,
          57.359712047212064,
          57.50788563288564,
          57.478632478632484,
          57.33618233618236,
          57.42457773707775,
          57.54349816849818,
          57.44174806674806,
          57.36607142857144,
          57.317740130240146,
          57.2554181929182,
          57.2738603988604,
          57.26622914122913,
          57.05255392755395,
          57.430937118437136,
          57.13840557590559,
          57.301205738705754,
          57.26686507936508,
          57.29293854293855,
          57.455102767602774,
          57.4773606023606,
          57.240155677655686,
          57.62362637362639,
          57.49262311762314,
          57.47799654049655,
          57.52251221001219,
          57.49834656084658,
          57.49580280830281,
          57.51551689051689,
          57.37942612942612,
          57.58737789987791,
          57.42076210826212,
          57.49961843711845,
          57.4620980870981,
          57.53777472527475,
          57.420126170126174,
          57.081171143671156,
          57.343177655677664,
          57.45383089133086,
          57.57020757020755,
          57.41631054131056,
          57.31964794464795,
          57.45319495319495,
          57.55367317867319,
          57.467185592185594,
          57.43920431420432,
          57.415674603174615,
          57.67259361009362,
          57.564484126984134,
          57.499618437118436,
          57.5104293854294,
          57.59691697191698,
          57.502162189662194,
          57.36098392348393,
          57.49961843711844,
          57.39659645909648,
          57.37433862433863,
          57.293574481074494,
          57.66305453805455,
          57.46273402523402,
          57.42139804639806,
          57.404227716727725,
          57.55876068376069,
          57.42203398453399,
          57.476088726088726,
          57.685312372812376,
          57.59946072446073,
          57.43793243793245,
          57.64652014652015,
          57.64588420838422,
          57.39659645909646,
          57.25478225478225,
          57.70566239316239,
          57.66941391941393,
          57.589921652421644,
          57.60772792022792,
          57.51996845746848,
          57.42966524216524,
          57.57847476597477,
          57.61472323972325,
          57.58483414733416,
          57.564484126984134,
          57.56257631257632,
          57.647156084656096,
          57.783246845746866,
          58.005189255189265,
          57.60772792022794,
          57.558760683760674,
          57.52187627187629,
          57.62489824989828,
          57.753357753357754,
          58.0344424094424,
          57.801689051689074,
          57.749542124542124,
          57.70439051689052,
          57.8290343915344,
          57.61726699226703,
          57.92188135938136,
          57.75017806267808,
          57.822675010175026,
          57.90598290598292,
          57.73046398046399,
          57.904075091575095,
          57.753357753357754,
          57.89008445258446,
          57.75717338217339,
          57.760353072853086,
          57.912978225478234,
          57.64779202279203,
          57.7673483923484,
          57.753357753357754,
          57.864010989011,
          57.89898758648758,
          57.97275641025641,
          57.76925620675622,
          57.848112535612536,
          57.95304232804233,
          58.07832214082214,
          58.04843304843305,
          58.32633801383801,
          57.94541107041109,
          58.312983312983334,
          58.20296601546602,
          58.3791208791209,
          58.438899063899065,
          58.059879934879945,
          58.18833943833943,
          57.959401709401725,
          58.01600020350019,
          58.243666056166056,
          58.138736263736284,
          58.244301994302,
          58.14700345950347,
          57.95685795685798,
          58.029354904354896,
          57.96448921448922,
          57.99247049247051,
          57.896443833943856,
          58.23985042735044,
          57.87736568986569,
          58.08213776963777,
          57.81695156695158,
          57.73873117623119,
          57.96448921448922,
          57.93142043142043,
          58.15463471713471,
          57.91361416361417,
          57.8919922669923,
          57.83920940170941,
          57.935236060236065,
          57.698031135531146,
          57.60391229141231,
          57.68404049654051,
          57.53014346764346,
          57.81122812372812,
          57.62617012617013,
          57.861467236467256,
          57.73682336182336,
          57.9008954008954,
          58.04970492470493,
          58.24048636548637,
          58.09549247049248,
          58.131105006105,
          57.969576719576715,
          57.995014245014254,
          57.848112535612536,
          57.949862637362635,
          57.916793854293864,
          58.04525335775335,
          57.87482193732194,
          57.696759259259274,
          57.92887667887669,
          57.741910866910864,
          57.72792022792024,
          57.97911579161579,
          57.909162596662604,
          58.240486365486355,
          58.20805352055353,
          58.09294871794872,
          58.03889397639398,
          58.00010175010175,
          57.934600122100115,
          58.23349104599105,
          58.09676434676435,
          58.1692612942613,
          58.14191595441596,
          58.029990842490854,
          57.94668294668295,
          58.08213776963777,
          58.24175824175825,
          58.06814713064714,
          58.11647842897846,
          58.51330382580385,
          58.392475579975574,
          58.51457570207569,
          58.45288970288971,
          58.42872405372407,
          58.22204415954416,
          58.38738807488809,
          58.45670533170534,
          58.396291208791204,
          58.48023504273505,
          58.57626170126171,
          58.6614774114774,
          58.72825091575092,
          58.665293040293044,
          58.468788156288156,
          58.69708994708995,
          58.606150793650805,
          58.60360704110705,
          58.462428774928775,
          58.39056776556776,
          58.53619759869762,
          58.45543345543344,
          58.50758038258041,
          58.50440069190069,
          58.59216015466015,
          58.72825091575093,
          58.84208384208383,
          58.72061965811966,
          58.70726495726495,
          58.8331807081807,
          58.84081196581197,
          58.86497761497761,
          58.62077737077738,
          58.788665038665016,
          58.804563492063494,
          58.56926638176639,
          58.66274928774931,
          58.68246336996338,
          58.81791819291818,
          58.76895095645096,
          58.76767908017908,
          58.7295227920228,
          58.75941188441191,
          58.78421347171348,
          58.63667582417583,
          58.68500712250715,
          58.82046194546197,
          58.60360704110703,
          58.60233516483516,
          58.733338420838415,
          58.76577126577127,
          58.69200244200243,
          58.649394586894594,
          58.6277726902727,
          58.57753357753361,
          58.624592999593,
          58.796296296296305,
          58.63540394790397,
          58.594703907203915,
          58.65702584452583,
          58.770222832722844,
          58.70853683353684,
          58.83763227513228,
          58.71680402930402,
          58.814738502238505,
          58.703449328449324,
          58.727614977614984,
          58.73524623524623,
          58.79947598697597,
          58.79693223443223,
          58.83381664631664
         ],
         "y0": " ",
         "yaxis": "y"
        }
       ],
       "layout": {
        "boxmode": "group",
        "legend": {
         "tracegroupgap": 0
        },
        "template": {
         "data": {
          "bar": [
           {
            "error_x": {
             "color": "rgb(36,36,36)"
            },
            "error_y": {
             "color": "rgb(36,36,36)"
            },
            "marker": {
             "line": {
              "color": "white",
              "width": 0.5
             }
            },
            "type": "bar"
           }
          ],
          "barpolar": [
           {
            "marker": {
             "line": {
              "color": "white",
              "width": 0.5
             }
            },
            "type": "barpolar"
           }
          ],
          "carpet": [
           {
            "aaxis": {
             "endlinecolor": "rgb(36,36,36)",
             "gridcolor": "white",
             "linecolor": "white",
             "minorgridcolor": "white",
             "startlinecolor": "rgb(36,36,36)"
            },
            "baxis": {
             "endlinecolor": "rgb(36,36,36)",
             "gridcolor": "white",
             "linecolor": "white",
             "minorgridcolor": "white",
             "startlinecolor": "rgb(36,36,36)"
            },
            "type": "carpet"
           }
          ],
          "choropleth": [
           {
            "colorbar": {
             "outlinewidth": 1,
             "tickcolor": "rgb(36,36,36)",
             "ticks": "outside"
            },
            "type": "choropleth"
           }
          ],
          "contour": [
           {
            "colorbar": {
             "outlinewidth": 1,
             "tickcolor": "rgb(36,36,36)",
             "ticks": "outside"
            },
            "colorscale": [
             [
              0,
              "#440154"
             ],
             [
              0.1111111111111111,
              "#482878"
             ],
             [
              0.2222222222222222,
              "#3e4989"
             ],
             [
              0.3333333333333333,
              "#31688e"
             ],
             [
              0.4444444444444444,
              "#26828e"
             ],
             [
              0.5555555555555556,
              "#1f9e89"
             ],
             [
              0.6666666666666666,
              "#35b779"
             ],
             [
              0.7777777777777778,
              "#6ece58"
             ],
             [
              0.8888888888888888,
              "#b5de2b"
             ],
             [
              1,
              "#fde725"
             ]
            ],
            "type": "contour"
           }
          ],
          "contourcarpet": [
           {
            "colorbar": {
             "outlinewidth": 1,
             "tickcolor": "rgb(36,36,36)",
             "ticks": "outside"
            },
            "type": "contourcarpet"
           }
          ],
          "heatmap": [
           {
            "colorbar": {
             "outlinewidth": 1,
             "tickcolor": "rgb(36,36,36)",
             "ticks": "outside"
            },
            "colorscale": [
             [
              0,
              "#440154"
             ],
             [
              0.1111111111111111,
              "#482878"
             ],
             [
              0.2222222222222222,
              "#3e4989"
             ],
             [
              0.3333333333333333,
              "#31688e"
             ],
             [
              0.4444444444444444,
              "#26828e"
             ],
             [
              0.5555555555555556,
              "#1f9e89"
             ],
             [
              0.6666666666666666,
              "#35b779"
             ],
             [
              0.7777777777777778,
              "#6ece58"
             ],
             [
              0.8888888888888888,
              "#b5de2b"
             ],
             [
              1,
              "#fde725"
             ]
            ],
            "type": "heatmap"
           }
          ],
          "heatmapgl": [
           {
            "colorbar": {
             "outlinewidth": 1,
             "tickcolor": "rgb(36,36,36)",
             "ticks": "outside"
            },
            "colorscale": [
             [
              0,
              "#440154"
             ],
             [
              0.1111111111111111,
              "#482878"
             ],
             [
              0.2222222222222222,
              "#3e4989"
             ],
             [
              0.3333333333333333,
              "#31688e"
             ],
             [
              0.4444444444444444,
              "#26828e"
             ],
             [
              0.5555555555555556,
              "#1f9e89"
             ],
             [
              0.6666666666666666,
              "#35b779"
             ],
             [
              0.7777777777777778,
              "#6ece58"
             ],
             [
              0.8888888888888888,
              "#b5de2b"
             ],
             [
              1,
              "#fde725"
             ]
            ],
            "type": "heatmapgl"
           }
          ],
          "histogram": [
           {
            "marker": {
             "line": {
              "color": "white",
              "width": 0.6
             }
            },
            "type": "histogram"
           }
          ],
          "histogram2d": [
           {
            "colorbar": {
             "outlinewidth": 1,
             "tickcolor": "rgb(36,36,36)",
             "ticks": "outside"
            },
            "colorscale": [
             [
              0,
              "#440154"
             ],
             [
              0.1111111111111111,
              "#482878"
             ],
             [
              0.2222222222222222,
              "#3e4989"
             ],
             [
              0.3333333333333333,
              "#31688e"
             ],
             [
              0.4444444444444444,
              "#26828e"
             ],
             [
              0.5555555555555556,
              "#1f9e89"
             ],
             [
              0.6666666666666666,
              "#35b779"
             ],
             [
              0.7777777777777778,
              "#6ece58"
             ],
             [
              0.8888888888888888,
              "#b5de2b"
             ],
             [
              1,
              "#fde725"
             ]
            ],
            "type": "histogram2d"
           }
          ],
          "histogram2dcontour": [
           {
            "colorbar": {
             "outlinewidth": 1,
             "tickcolor": "rgb(36,36,36)",
             "ticks": "outside"
            },
            "colorscale": [
             [
              0,
              "#440154"
             ],
             [
              0.1111111111111111,
              "#482878"
             ],
             [
              0.2222222222222222,
              "#3e4989"
             ],
             [
              0.3333333333333333,
              "#31688e"
             ],
             [
              0.4444444444444444,
              "#26828e"
             ],
             [
              0.5555555555555556,
              "#1f9e89"
             ],
             [
              0.6666666666666666,
              "#35b779"
             ],
             [
              0.7777777777777778,
              "#6ece58"
             ],
             [
              0.8888888888888888,
              "#b5de2b"
             ],
             [
              1,
              "#fde725"
             ]
            ],
            "type": "histogram2dcontour"
           }
          ],
          "mesh3d": [
           {
            "colorbar": {
             "outlinewidth": 1,
             "tickcolor": "rgb(36,36,36)",
             "ticks": "outside"
            },
            "type": "mesh3d"
           }
          ],
          "parcoords": [
           {
            "line": {
             "colorbar": {
              "outlinewidth": 1,
              "tickcolor": "rgb(36,36,36)",
              "ticks": "outside"
             }
            },
            "type": "parcoords"
           }
          ],
          "pie": [
           {
            "automargin": true,
            "type": "pie"
           }
          ],
          "scatter": [
           {
            "marker": {
             "colorbar": {
              "outlinewidth": 1,
              "tickcolor": "rgb(36,36,36)",
              "ticks": "outside"
             }
            },
            "type": "scatter"
           }
          ],
          "scatter3d": [
           {
            "line": {
             "colorbar": {
              "outlinewidth": 1,
              "tickcolor": "rgb(36,36,36)",
              "ticks": "outside"
             }
            },
            "marker": {
             "colorbar": {
              "outlinewidth": 1,
              "tickcolor": "rgb(36,36,36)",
              "ticks": "outside"
             }
            },
            "type": "scatter3d"
           }
          ],
          "scattercarpet": [
           {
            "marker": {
             "colorbar": {
              "outlinewidth": 1,
              "tickcolor": "rgb(36,36,36)",
              "ticks": "outside"
             }
            },
            "type": "scattercarpet"
           }
          ],
          "scattergeo": [
           {
            "marker": {
             "colorbar": {
              "outlinewidth": 1,
              "tickcolor": "rgb(36,36,36)",
              "ticks": "outside"
             }
            },
            "type": "scattergeo"
           }
          ],
          "scattergl": [
           {
            "marker": {
             "colorbar": {
              "outlinewidth": 1,
              "tickcolor": "rgb(36,36,36)",
              "ticks": "outside"
             }
            },
            "type": "scattergl"
           }
          ],
          "scattermapbox": [
           {
            "marker": {
             "colorbar": {
              "outlinewidth": 1,
              "tickcolor": "rgb(36,36,36)",
              "ticks": "outside"
             }
            },
            "type": "scattermapbox"
           }
          ],
          "scatterpolar": [
           {
            "marker": {
             "colorbar": {
              "outlinewidth": 1,
              "tickcolor": "rgb(36,36,36)",
              "ticks": "outside"
             }
            },
            "type": "scatterpolar"
           }
          ],
          "scatterpolargl": [
           {
            "marker": {
             "colorbar": {
              "outlinewidth": 1,
              "tickcolor": "rgb(36,36,36)",
              "ticks": "outside"
             }
            },
            "type": "scatterpolargl"
           }
          ],
          "scatterternary": [
           {
            "marker": {
             "colorbar": {
              "outlinewidth": 1,
              "tickcolor": "rgb(36,36,36)",
              "ticks": "outside"
             }
            },
            "type": "scatterternary"
           }
          ],
          "surface": [
           {
            "colorbar": {
             "outlinewidth": 1,
             "tickcolor": "rgb(36,36,36)",
             "ticks": "outside"
            },
            "colorscale": [
             [
              0,
              "#440154"
             ],
             [
              0.1111111111111111,
              "#482878"
             ],
             [
              0.2222222222222222,
              "#3e4989"
             ],
             [
              0.3333333333333333,
              "#31688e"
             ],
             [
              0.4444444444444444,
              "#26828e"
             ],
             [
              0.5555555555555556,
              "#1f9e89"
             ],
             [
              0.6666666666666666,
              "#35b779"
             ],
             [
              0.7777777777777778,
              "#6ece58"
             ],
             [
              0.8888888888888888,
              "#b5de2b"
             ],
             [
              1,
              "#fde725"
             ]
            ],
            "type": "surface"
           }
          ],
          "table": [
           {
            "cells": {
             "fill": {
              "color": "rgb(237,237,237)"
             },
             "line": {
              "color": "white"
             }
            },
            "header": {
             "fill": {
              "color": "rgb(217,217,217)"
             },
             "line": {
              "color": "white"
             }
            },
            "type": "table"
           }
          ]
         },
         "layout": {
          "annotationdefaults": {
           "arrowhead": 0,
           "arrowwidth": 1
          },
          "coloraxis": {
           "colorbar": {
            "outlinewidth": 1,
            "tickcolor": "rgb(36,36,36)",
            "ticks": "outside"
           }
          },
          "colorscale": {
           "diverging": [
            [
             0,
             "rgb(103,0,31)"
            ],
            [
             0.1,
             "rgb(178,24,43)"
            ],
            [
             0.2,
             "rgb(214,96,77)"
            ],
            [
             0.3,
             "rgb(244,165,130)"
            ],
            [
             0.4,
             "rgb(253,219,199)"
            ],
            [
             0.5,
             "rgb(247,247,247)"
            ],
            [
             0.6,
             "rgb(209,229,240)"
            ],
            [
             0.7,
             "rgb(146,197,222)"
            ],
            [
             0.8,
             "rgb(67,147,195)"
            ],
            [
             0.9,
             "rgb(33,102,172)"
            ],
            [
             1,
             "rgb(5,48,97)"
            ]
           ],
           "sequential": [
            [
             0,
             "#440154"
            ],
            [
             0.1111111111111111,
             "#482878"
            ],
            [
             0.2222222222222222,
             "#3e4989"
            ],
            [
             0.3333333333333333,
             "#31688e"
            ],
            [
             0.4444444444444444,
             "#26828e"
            ],
            [
             0.5555555555555556,
             "#1f9e89"
            ],
            [
             0.6666666666666666,
             "#35b779"
            ],
            [
             0.7777777777777778,
             "#6ece58"
            ],
            [
             0.8888888888888888,
             "#b5de2b"
            ],
            [
             1,
             "#fde725"
            ]
           ],
           "sequentialminus": [
            [
             0,
             "#440154"
            ],
            [
             0.1111111111111111,
             "#482878"
            ],
            [
             0.2222222222222222,
             "#3e4989"
            ],
            [
             0.3333333333333333,
             "#31688e"
            ],
            [
             0.4444444444444444,
             "#26828e"
            ],
            [
             0.5555555555555556,
             "#1f9e89"
            ],
            [
             0.6666666666666666,
             "#35b779"
            ],
            [
             0.7777777777777778,
             "#6ece58"
            ],
            [
             0.8888888888888888,
             "#b5de2b"
            ],
            [
             1,
             "#fde725"
            ]
           ]
          },
          "colorway": [
           "#1F77B4",
           "#FF7F0E",
           "#2CA02C",
           "#D62728",
           "#9467BD",
           "#8C564B",
           "#E377C2",
           "#7F7F7F",
           "#BCBD22",
           "#17BECF"
          ],
          "font": {
           "color": "rgb(36,36,36)"
          },
          "geo": {
           "bgcolor": "white",
           "lakecolor": "white",
           "landcolor": "white",
           "showlakes": true,
           "showland": true,
           "subunitcolor": "white"
          },
          "hoverlabel": {
           "align": "left"
          },
          "hovermode": "closest",
          "mapbox": {
           "style": "light"
          },
          "paper_bgcolor": "white",
          "plot_bgcolor": "white",
          "polar": {
           "angularaxis": {
            "gridcolor": "rgb(232,232,232)",
            "linecolor": "rgb(36,36,36)",
            "showgrid": false,
            "showline": true,
            "ticks": "outside"
           },
           "bgcolor": "white",
           "radialaxis": {
            "gridcolor": "rgb(232,232,232)",
            "linecolor": "rgb(36,36,36)",
            "showgrid": false,
            "showline": true,
            "ticks": "outside"
           }
          },
          "scene": {
           "xaxis": {
            "backgroundcolor": "white",
            "gridcolor": "rgb(232,232,232)",
            "gridwidth": 2,
            "linecolor": "rgb(36,36,36)",
            "showbackground": true,
            "showgrid": false,
            "showline": true,
            "ticks": "outside",
            "zeroline": false,
            "zerolinecolor": "rgb(36,36,36)"
           },
           "yaxis": {
            "backgroundcolor": "white",
            "gridcolor": "rgb(232,232,232)",
            "gridwidth": 2,
            "linecolor": "rgb(36,36,36)",
            "showbackground": true,
            "showgrid": false,
            "showline": true,
            "ticks": "outside",
            "zeroline": false,
            "zerolinecolor": "rgb(36,36,36)"
           },
           "zaxis": {
            "backgroundcolor": "white",
            "gridcolor": "rgb(232,232,232)",
            "gridwidth": 2,
            "linecolor": "rgb(36,36,36)",
            "showbackground": true,
            "showgrid": false,
            "showline": true,
            "ticks": "outside",
            "zeroline": false,
            "zerolinecolor": "rgb(36,36,36)"
           }
          },
          "shapedefaults": {
           "fillcolor": "black",
           "line": {
            "width": 0
           },
           "opacity": 0.3
          },
          "ternary": {
           "aaxis": {
            "gridcolor": "rgb(232,232,232)",
            "linecolor": "rgb(36,36,36)",
            "showgrid": false,
            "showline": true,
            "ticks": "outside"
           },
           "baxis": {
            "gridcolor": "rgb(232,232,232)",
            "linecolor": "rgb(36,36,36)",
            "showgrid": false,
            "showline": true,
            "ticks": "outside"
           },
           "bgcolor": "white",
           "caxis": {
            "gridcolor": "rgb(232,232,232)",
            "linecolor": "rgb(36,36,36)",
            "showgrid": false,
            "showline": true,
            "ticks": "outside"
           }
          },
          "title": {
           "x": 0.05
          },
          "xaxis": {
           "automargin": true,
           "gridcolor": "rgb(232,232,232)",
           "linecolor": "rgb(36,36,36)",
           "showgrid": false,
           "showline": true,
           "ticks": "outside",
           "title": {
            "standoff": 15
           },
           "zeroline": false,
           "zerolinecolor": "rgb(36,36,36)"
          },
          "yaxis": {
           "automargin": true,
           "gridcolor": "rgb(232,232,232)",
           "linecolor": "rgb(36,36,36)",
           "showgrid": false,
           "showline": true,
           "ticks": "outside",
           "title": {
            "standoff": 15
           },
           "zeroline": false,
           "zerolinecolor": "rgb(36,36,36)"
          }
         }
        },
        "title": {
         "text": "OutletPressure g-pump-4 for all weeks "
        },
        "xaxis": {
         "anchor": "y",
         "domain": [
          0,
          1
         ],
         "title": {
          "text": "week"
         },
         "type": "category"
        },
        "yaxis": {
         "anchor": "x",
         "domain": [
          0,
          1
         ],
         "title": {
          "text": "feature_value"
         }
        }
       }
      },
      "text/html": [
       "<div>\n",
       "        \n",
       "        \n",
       "            <div id=\"974a77b8-00c0-4a0f-aa61-3cacf02943bb\" class=\"plotly-graph-div\" style=\"height:525px; width:100%;\"></div>\n",
       "            <script type=\"text/javascript\">\n",
       "                require([\"plotly\"], function(Plotly) {\n",
       "                    window.PLOTLYENV=window.PLOTLYENV || {};\n",
       "                    \n",
       "                if (document.getElementById(\"974a77b8-00c0-4a0f-aa61-3cacf02943bb\")) {\n",
       "                    Plotly.newPlot(\n",
       "                        '974a77b8-00c0-4a0f-aa61-3cacf02943bb',\n",
       "                        [{\"alignmentgroup\": \"True\", \"hoverlabel\": {\"namelength\": 0}, \"hovertemplate\": \"week=%{x}<br>feature_value=%{y}\", \"legendgroup\": \"\", \"marker\": {\"color\": \"#1F77B4\"}, \"name\": \"\", \"notched\": false, \"offsetgroup\": \"\", \"orientation\": \"v\", \"showlegend\": false, \"type\": \"box\", \"x\": [47, 47, 47, 47, 47, 47, 47, 47, 47, 47, 47, 47, 47, 47, 47, 47, 47, 47, 47, 47, 47, 47, 47, 47, 47, 47, 47, 47, 47, 47, 47, 47, 47, 47, 47, 47, 47, 47, 47, 47, 47, 47, 47, 47, 47, 47, 47, 47, 47, 47, 47, 47, 47, 47, 47, 47, 47, 47, 47, 47, 47, 47, 47, 47, 47, 47, 47, 47, 47, 47, 47, 47, 47, 47, 47, 47, 47, 47, 47, 47, 47, 47, 47, 47, 47, 47, 47, 47, 47, 47, 47, 47, 47, 47, 47, 47, 47, 47, 47, 47, 47, 47, 47, 47, 47, 47, 47, 47, 48, 48, 48, 48, 48, 48, 48, 48, 48, 48, 48, 48, 48, 48, 48, 48, 48, 48, 48, 48, 48, 48, 48, 48, 48, 48, 48, 48, 48, 48, 48, 48, 48, 48, 48, 48, 48, 48, 48, 48, 48, 48, 48, 48, 48, 48, 48, 48, 48, 48, 48, 48, 48, 48, 48, 48, 48, 48, 48, 48, 48, 48, 48, 48, 48, 48, 48, 48, 48, 48, 48, 48, 48, 48, 48, 48, 48, 48, 48, 48, 48, 48, 48, 48, 48, 48, 48, 48, 48, 48, 48, 48, 48, 48, 48, 48, 48, 48, 48, 48, 48, 48, 48, 48, 48, 48, 48, 48, 48, 48, 48, 48, 48, 48, 48, 48, 48, 48, 48, 48, 48, 48, 48, 48, 48, 48, 48, 48, 48, 48, 48, 48, 48, 48, 48, 48, 48, 48, 48, 48, 48, 48, 48, 48, 48, 48, 48, 48, 48, 48, 48, 48, 48, 48, 48, 48, 48, 48, 48, 48, 48, 48, 48, 48, 48, 48, 49, 49, 49, 49, 49, 49, 49, 49, 49, 49, 49, 49, 49, 49, 49, 49, 49, 49, 49, 49, 49, 49, 49, 49, 49, 49, 49, 49, 50, 50, 50, 50, 50, 50, 50, 50, 50, 50, 50, 50, 50, 50, 50, 50, 50, 50, 50, 50, 50, 50, 50, 50, 50, 50, 50, 50, 50, 50, 50, 50, 50, 50, 50, 50, 50, 50, 50, 50, 50, 50, 50, 50, 50, 50, 50, 50, 50, 50, 50, 50, 50, 50, 50, 50, 50, 50, 50, 50, 50, 50, 50, 50, 50, 50, 50, 50, 50, 50, 50, 50, 51, 51, 51, 51, 51, 51, 51, 51, 51, 51, 51, 51, 51, 51, 51, 51, 51, 51, 51, 51, 51, 51, 51, 51, 51, 51, 51, 51, 51, 51, 51, 51, 51, 51, 51, 51, 51, 51, 51, 51, 51, 51, 51, 51, 51, 51, 51, 51, 51, 51, 51, 51, 51, 51, 51, 51, 51, 51, 51, 51, 51, 51, 51, 51, 51, 51, 51, 51, 51, 51, 51, 51, 51, 51, 51, 51, 51, 51, 51, 51, 51, 51, 51, 51, 51, 51, 51, 51, 51, 51, 51, 51, 51, 51, 51, 51, 51, 51, 51, 51, 51, 51, 51, 51, 51, 51, 51, 51, 51, 51, 51, 51, 51, 51, 51, 51, 51, 51, 51, 51, 51, 51, 51, 51, 51, 51, 51, 51, 51, 51, 51, 51, 51, 51, 51, 51, 51, 51, 51, 51, 51, 51, 51, 51, 51, 51, 51, 51, 51, 51, 51, 51, 51, 51, 51, 51, 51, 51, 51, 51, 51, 51, 51, 51, 51, 51, 51, 52, 52, 52, 52, 52, 52, 52, 52, 52, 52, 52, 52, 52, 52, 52, 52, 52, 52, 52, 52, 52, 52, 52, 52, 52, 52, 52, 52, 52, 52, 52, 52, 52, 52, 52, 52, 52, 52, 52, 52, 52, 52, 52, 52, 52, 52, 52, 52, 52, 52, 52, 52, 52, 52, 52, 52, 52, 52, 52, 52, 52, 52, 52, 52, 52, 52, 52, 52, 52, 52, 52, 52, 52, 52, 52, 52, 52, 52, 52, 52, 52, 52, 52, 52, 52, 52, 52, 52, 52, 52, 52, 52, 52, 52, 52, 52, 52, 52, 52, 52, 52, 52, 52, 52, 52, 52, 52, 52, 52, 52, 52, 52, 52, 52, 52, 52, 52, 52, 52, 52, 52, 52, 52, 52, 52, 52, 52, 52, 52, 52, 52, 52, 52, 52, 52, 52, 52, 52, 52, 52, 52, 52, 52, 52, 52, 52, 52, 52, 52, 52, 52, 52, 52, 52, 52, 52, 52, 52, 52, 52, 52, 52, 52, 52, 52, 52, 52, 52, 1, 1, 1, 1, 1, 1, 1, 1, 1, 1, 1, 1, 1, 1, 1, 1, 1, 1, 1, 1, 1, 1, 1, 1, 1, 1, 1, 1, 1, 1, 1, 1, 1, 1, 1, 1, 1, 1, 1, 1, 1, 1, 1, 1, 1, 1, 1, 1, 1, 1, 1, 1, 1, 1, 1, 1, 1, 1, 1, 1, 1, 1, 1, 1, 1, 1, 1, 1, 1, 1, 1, 1, 1, 1, 1, 1, 1, 1, 1, 1, 1, 1, 1, 1, 1, 1, 1, 1, 1, 1, 1, 1, 1, 1, 1, 1, 1, 1, 1, 1, 1, 1, 1, 1, 1, 1, 1, 1, 1, 1, 1, 1, 1, 1, 1, 1, 1, 1, 1, 1, 1, 1, 1, 1, 1, 1, 1, 1, 1, 1, 1, 1, 1, 1, 1, 1, 1, 1, 1, 1, 1, 1, 1, 1, 1, 1, 1, 1, 1, 1, 1, 1, 1, 1, 1, 2, 2, 2], \"x0\": \" \", \"xaxis\": \"x\", \"y\": [57.05443674737828, 56.807081807081794, 56.3465050031873, 57.10618471035138, 57.2337962962963, 56.95779914529914, 56.97115384615385, 57.01757733007735, 56.97433353683354, 57.0900742775743, 57.162571225071225, 56.9069819069819, 57.05636955636956, 57.17528998779, 57.43666056166057, 57.011853886853885, 57.327279202279215, 57.34317765567767, 57.1619352869353, 57.413130850630864, 57.10152116402116, 57.25923382173382, 57.21916971916972, 57.195004070004074, 57.35844017094016, 57.145400895400904, 57.20454314204315, 56.98768823768825, 57.154304029304036, 56.85795685795686, 56.94380850630853, 56.80517399267401, 56.91582722832724, 56.833155270655254, 56.94380850630852, 57.175289987789995, 57.3489010989011, 57.15684778184781, 57.31456043956042, 56.94380850630849, 56.92791005291007, 56.93681318681322, 57.02393671143671, 56.9304538054538, 56.86622405372407, 56.90946784696786, 57.084986772486786, 57.105972730972724, 57.015033577533565, 56.80135836385836, 56.980056980056986, 56.76956145706146, 56.73394892144893, 56.63029100529101, 56.741580179080195, 56.91582722832721, 56.71932234432237, 56.7269536019536, 56.99404761904762, 56.948260073260066, 56.86876780626781, 56.84650997150998, 56.856684981684985, 56.89293345543347, 57.09198209198209, 56.7549348799349, 56.95843508343509, 56.98896011396013, 57.252238502238505, 57.113603988604005, 57.04492266992268, 56.90438034188035, 56.9622507122507, 57.16193528693529, 56.74539580789581, 56.330764143264155, 56.51645807895809, 56.59213471713473, 56.75938644688645, 56.70978327228328, 56.72568172568174, 56.871947496947534, 56.895477207977216, 56.84078652828654, 56.90501628001629, 56.80326617826619, 56.95207570207571, 57.170838420838436, 56.941900691900685, 56.91010378510381, 57.16956654456656, 56.95843508343509, 57.070996133496145, 56.91391941391941, 57.26750101750102, 57.02838827838829, 56.99977106227106, 57.06400081400084, 57.209630647130645, 57.140313390313395, 57.19754782254784, 56.90819597069599, 57.12759462759464, 56.90756003256001, 57.21853378103379, 57.221077533577535, 56.89992877492878, 57.156211843711844, 57.32219169719172, 57.45065120065121, 57.3635276760277, 57.30883699633702, 57.26559320309321, 57.49135124135123, 57.627442002441995, 57.43093711843713, 57.38705738705738, 57.55558099308098, 57.48626373626374, 57.299297924297925, 57.45383089133091, 57.59818884818885, 57.443019943019955, 57.85892348392349, 57.86782661782663, 57.85955942205943, 57.90979853479854, 57.79214997964999, 57.80868437118436, 58.01409238909239, 57.858287545787555, 57.9307844932845, 57.775615588115585, 57.936507936507944, 58.14827533577536, 57.985475172975185, 58.11647842897844, 57.95940170940171, 57.705026455026456, 57.90280321530323, 57.65605921855922, 57.78070309320311, 57.5167887667888, 57.805504680504676, 57.597552910052904, 57.71520146520147, 57.8442969067969, 57.911706349206355, 57.77688746438745, 57.7559015059015, 57.96639702889703, 57.76925620675621, 57.95240638990639, 58.07832214082214, 57.94859076109078, 57.498982498982514, 58.13810032560033, 58.271011396011396, 58.08404558404559, 57.897715710215714, 58.158450345950335, 58.0344424094424, 58.24557387057388, 57.65860297110299, 57.967668905168914, 57.83602971102971, 57.954314204314215, 58.07514245014246, 57.73936711436712, 57.7571733821734, 57.767348392348396, 57.458918396418404, 57.721560846560855, 57.65860297110297, 57.720924908424905, 57.29039479039479, 57.81631562881565, 57.83030626780627, 57.833485958485966, 57.93841575091576, 58.117750305250304, 57.96830484330486, 57.838573463573475, 57.759717134717135, 57.53777472527472, 57.891992266992276, 57.89962352462353, 57.5288715913716, 57.60645604395603, 57.56257631257632, 57.59310134310133, 57.66114672364674, 57.61981074481074, 57.49516687016688, 57.42584961334961, 57.89453601953604, 57.493894993895, 57.555580993081, 57.74000305250306, 57.54922161172163, 57.20136345136347, 57.84238909238909, 57.705026455026456, 57.67831705331705, 57.64397639397642, 57.62871387871388, 57.73491554741556, 57.68976393976394, 57.73745929995931, 57.522512210012216, 57.57338726088725, 57.47736060236062, 57.43793243793245, 57.392780830280834, 57.49135124135123, 57.70184676434676, 57.46591371591373, 57.41567460317461, 57.49707468457467, 57.4023199023199, 57.5256919006919, 57.438568376068396, 57.63634513634514, 57.593101343101345, 57.619810744810756, 57.59182946682949, 57.64079670329671, 57.67132173382174, 57.84620472120472, 57.68340455840456, 57.790878103378105, 57.7673483923484, 57.74636243386243, 57.65287952787952, 57.79342185592187, 57.8856328856329, 57.650335775335776, 57.73364367114365, 58.179436304436315, 58.08086589336589, 57.75653744403746, 57.59882478632479, 58.2144129019129, 57.91297822547824, 57.74445461945462, 58.0573361823362, 57.74699837199839, 57.809320309320306, 57.799145299145316, 58.066875254375255, 57.67170329670332, 57.76035307285309, 58.22140822140824, 57.90661884411887, 57.90916259666261, 57.884996947496965, 57.802324989824996, 57.8608312983313, 58.09104090354092, 58.22013634513633, 58.34350834350835, 58.185795685795675, 58.028083028083024, 58.134920634920654, 58.456069393569386, 57.803596866096875, 58.04334554334554, 57.916793854293836, 57.908526658526654, 57.8989875864876, 57.69930301180303, 58.00328144078146, 57.7272842897843, 57.815679690679694, 58.110754985754994, 57.77434371184372, 58.048433048433054, 58.069419006919, 58.00773300773304, 57.60645604395606, 57.780067155067144, 57.89008445258446, 57.81885938135938, 57.70375457875458, 57.54413410663411, 57.38705738705739, 57.60582010582012, 57.57974664224667, 57.66750610500612, 57.70439051689053, 57.547949735449755, 57.8506562881563, 57.749542124542124, 57.61408730158731, 57.52823565323566, 57.57338726088727, 57.76925620675622, 57.691035816035814, 57.288486975986984, 57.69930301180301, 57.95367826617825, 57.87863756613758, 57.318376068376075, 57.29421041921043, 57.48181216931216, 57.277676027676044, 57.69485144485145, 57.667506105006105, 57.727284289784286, 57.65287952787954, 57.342541717541714, 57.65160765160766, 57.65733109483108, 57.61408730158731, 57.47926841676844, 57.25594814136482, 57.705026455026484, 57.563848188848176, 57.43157305657306, 57.207086894586894, 57.42648555148557, 57.23634004884005, 57.3387260887261, 57.35653235653234, 57.75526556776558, 57.52378408628408, 57.65605921855922, 57.522512210012216, 57.46209808709809, 57.29929792429794, 57.483084045584036, 57.23824786324786, 57.271316646316656, 57.44556369556371, 57.32155575905576, 57.31837606837607, 57.286579161579176, 57.513609076109105, 57.533323158323164, 57.08498677248679, 57.5517653642654, 57.39786833536832, 57.51869658119659, 57.275768213268236, 57.43030118030119, 57.306929181929185, 57.296118233618245, 57.372430809930826, 57.425213675213676, 57.60327635327638, 57.58610602360602, 57.4207621082621, 57.41631054131056, 57.32028388278388, 57.35589641839641, 57.32791514041514, 57.152396214896214, 57.41440272690273, 57.43220899470899, 57.22807285307287, 57.47608872608873, 57.5072496947497, 57.529507529507526, 57.43856837606838, 57.288486975986984, 57.233796296296305, 57.14603683353685, 57.18610093610095, 57.27640415140416, 57.32473544973546, 57.30502136752137, 57.392780830280834, 57.56639194139194, 57.51678876678877, 57.802324989825, 57.4404761904762, 57.436660561660574, 57.45828245828247, 57.21789784289786, 57.322827635327634, 57.266229141229154, 57.42313242313244, 57.538410663410666, 57.52569190069192, 57.43220899470901, 57.47672466422467, 57.43602462352464, 57.48562779812781, 57.71265771265772, 58.14636752136753, 58.005189255189265, 57.717109279609296, 57.84048127798129, 57.154939967439994, 56.621387871387874, 56.47385022385024, 56.52599715099715, 56.58641127391129, 56.464947089947096, 56.53490028490027, 56.57178469678471, 56.74666768416768, 56.55079873829873, 56.440145502645514, 56.54761904761906, 56.304054741554744, 56.470034595034605, 56.5120065120065, 56.403897028897035, 56.48656898656901, 56.277981277981304, 56.359381359381395, 56.4719424094424, 56.47575803825806, 56.4115282865283, 56.48148148148152, 56.51518620268619, 56.51772995522996, 56.63983007733009, 56.387998575498585, 56.73712861212862, 57.06145706145708, 56.87385531135532, 57.051917989417994, 57.02966015466017, 57.00231481481484, 56.81089743589745, 56.82488807488809, 56.64682539682539, 56.62329568579571, 56.50246743996743, 56.53871591371592, 56.67289886039885, 56.7803724053724, 56.26780626780627, 56.67862230362232, 56.72949735449735, 56.88148656898655, 56.58259564509566, 56.318681318681314, 56.55779405779407, 56.590862840862854, 56.445868945868945, 56.754934879934886, 56.69833638583638, 56.67544261294262, 56.79563492063491, 56.99977106227106, 56.99849918599919, 56.817256817256826, 57.17401811151811, 57.16511497761497, 57.02457264957266, 56.93999287749288, 57.03792735042736, 57.02648046398048, 57.16511497761499, 57.21281033781036, 57.294846357346366, 57.431573056573065, 57.11932743182745, 57.02520858770859, 57.12823056573058, 57.172746235246244, 57.030932030932036, 57.06018518518519, 57.0582773707774, 57.128230565730554, 57.11423992673992, 56.87767094017094, 57.16829466829466, 57.29421041921044, 57.12759462759465, 57.094525844525855, 57.06463675213678, 56.91391941391944, 57.04428673178675, 56.980692918192915, 57.07163207163208, 56.96670227920229, 57.10788054538054, 57.105972730972724, 57.07290394790397, 57.1371336996337, 57.1155118030118, 57.22807285307287, 57.4156746031746, 57.49325905575906, 57.501526251526265, 57.53586691086692, 57.381333943833944, 57.38324175824177, 57.65542328042329, 57.53014346764346, 57.53968253968255, 57.43030118030118, 57.51806064306066, 57.279583842083845, 57.49007936507939, 57.400412087912095, 57.5772028897029, 57.498346560846585, 57.446835571835585, 57.490715303215325, 57.52124033374033, 57.51424501424501, 57.48435592185593, 57.38260582010582, 57.2585978835979, 57.50407000407002, 57.42966524216525, 57.381969881969894, 57.415038665038686, 57.507249694749696, 57.12695868945868, 57.45001526251528, 57.429665242165264, 57.60582010582012, 57.478632478632484, 57.55367317867319, 57.147308709808705, 57.329822954822966, 57.26304945054945, 57.474816849816854, 57.32982295482298, 57.43793243793245, 57.13077431827432, 57.38451363451366, 57.21217439967441, 57.288486975986984, 57.326643264143264, 57.24015567765567, 57.29675417175418, 57.41122303622304, 57.61345136345136, 57.51996845746848, 57.65733109483111, 57.4557387057387, 57.507249694749696, 57.66877798127799, 57.60518416768417, 57.56512006512008, 57.558124745624745, 57.67068579568579, 57.66178266178267, 57.46972934472936, 57.69930301180302, 57.56766381766383, 57.28594322344322, 57.45573870573869, 57.43856837606837, 57.376882376882385, 57.33936202686203, 57.46082621082621, 57.58610602360604, 57.327279202279215, 57.64906389906391, 57.66877798127802, 57.67640923890926, 57.55748880748882, 57.556216931216944, 57.58101851851851, 57.36607142857142, 57.428393365893356, 57.49198717948719, 57.23570411070411, 57.36607142857144, 57.213446275946275, 57.03729141229143, 57.22807285307285, 57.1918243793244, 57.205179080179086, 57.09325396825398, 57.21153846153848, 57.25478225478225, 57.46146214896216, 57.533959096459114, 57.280855718355745, 57.62934981684983, 57.133954008954, 57.29866198616199, 57.41694647944649, 57.63252950752951, 57.70248270248268, 57.59310134310135, 57.51551689051689, 57.23125254375253, 57.350172975172995, 57.25732600732601, 57.19818376068377, 57.425213675213676, 57.17465404965407, 57.38133394383394, 57.28530728530729, 57.11869149369152, 57.217261904761905, 57.210902523402524, 57.14921652421652, 57.03347578347581, 57.498982498982514, 57.59755291005292, 57.49198717948719, 57.31710419210419, 57.33999796499797, 57.48880748880748, 57.359712047212064, 57.50788563288564, 57.478632478632484, 57.33618233618236, 57.42457773707775, 57.54349816849818, 57.44174806674806, 57.36607142857144, 57.317740130240146, 57.2554181929182, 57.2738603988604, 57.26622914122913, 57.05255392755395, 57.430937118437136, 57.13840557590559, 57.301205738705754, 57.26686507936508, 57.29293854293855, 57.455102767602774, 57.4773606023606, 57.240155677655686, 57.62362637362639, 57.49262311762314, 57.47799654049655, 57.52251221001219, 57.49834656084658, 57.49580280830281, 57.51551689051689, 57.37942612942612, 57.58737789987791, 57.42076210826212, 57.49961843711845, 57.4620980870981, 57.53777472527475, 57.420126170126174, 57.081171143671156, 57.343177655677664, 57.45383089133086, 57.57020757020755, 57.41631054131056, 57.31964794464795, 57.45319495319495, 57.55367317867319, 57.467185592185594, 57.43920431420432, 57.415674603174615, 57.67259361009362, 57.564484126984134, 57.499618437118436, 57.5104293854294, 57.59691697191698, 57.502162189662194, 57.36098392348393, 57.49961843711844, 57.39659645909648, 57.37433862433863, 57.293574481074494, 57.66305453805455, 57.46273402523402, 57.42139804639806, 57.404227716727725, 57.55876068376069, 57.42203398453399, 57.476088726088726, 57.685312372812376, 57.59946072446073, 57.43793243793245, 57.64652014652015, 57.64588420838422, 57.39659645909646, 57.25478225478225, 57.70566239316239, 57.66941391941393, 57.589921652421644, 57.60772792022792, 57.51996845746848, 57.42966524216524, 57.57847476597477, 57.61472323972325, 57.58483414733416, 57.564484126984134, 57.56257631257632, 57.647156084656096, 57.783246845746866, 58.005189255189265, 57.60772792022794, 57.558760683760674, 57.52187627187629, 57.62489824989828, 57.753357753357754, 58.0344424094424, 57.801689051689074, 57.749542124542124, 57.70439051689052, 57.8290343915344, 57.61726699226703, 57.92188135938136, 57.75017806267808, 57.822675010175026, 57.90598290598292, 57.73046398046399, 57.904075091575095, 57.753357753357754, 57.89008445258446, 57.75717338217339, 57.760353072853086, 57.912978225478234, 57.64779202279203, 57.7673483923484, 57.753357753357754, 57.864010989011, 57.89898758648758, 57.97275641025641, 57.76925620675622, 57.848112535612536, 57.95304232804233, 58.07832214082214, 58.04843304843305, 58.32633801383801, 57.94541107041109, 58.312983312983334, 58.20296601546602, 58.3791208791209, 58.438899063899065, 58.059879934879945, 58.18833943833943, 57.959401709401725, 58.01600020350019, 58.243666056166056, 58.138736263736284, 58.244301994302, 58.14700345950347, 57.95685795685798, 58.029354904354896, 57.96448921448922, 57.99247049247051, 57.896443833943856, 58.23985042735044, 57.87736568986569, 58.08213776963777, 57.81695156695158, 57.73873117623119, 57.96448921448922, 57.93142043142043, 58.15463471713471, 57.91361416361417, 57.8919922669923, 57.83920940170941, 57.935236060236065, 57.698031135531146, 57.60391229141231, 57.68404049654051, 57.53014346764346, 57.81122812372812, 57.62617012617013, 57.861467236467256, 57.73682336182336, 57.9008954008954, 58.04970492470493, 58.24048636548637, 58.09549247049248, 58.131105006105, 57.969576719576715, 57.995014245014254, 57.848112535612536, 57.949862637362635, 57.916793854293864, 58.04525335775335, 57.87482193732194, 57.696759259259274, 57.92887667887669, 57.741910866910864, 57.72792022792024, 57.97911579161579, 57.909162596662604, 58.240486365486355, 58.20805352055353, 58.09294871794872, 58.03889397639398, 58.00010175010175, 57.934600122100115, 58.23349104599105, 58.09676434676435, 58.1692612942613, 58.14191595441596, 58.029990842490854, 57.94668294668295, 58.08213776963777, 58.24175824175825, 58.06814713064714, 58.11647842897846, 58.51330382580385, 58.392475579975574, 58.51457570207569, 58.45288970288971, 58.42872405372407, 58.22204415954416, 58.38738807488809, 58.45670533170534, 58.396291208791204, 58.48023504273505, 58.57626170126171, 58.6614774114774, 58.72825091575092, 58.665293040293044, 58.468788156288156, 58.69708994708995, 58.606150793650805, 58.60360704110705, 58.462428774928775, 58.39056776556776, 58.53619759869762, 58.45543345543344, 58.50758038258041, 58.50440069190069, 58.59216015466015, 58.72825091575093, 58.84208384208383, 58.72061965811966, 58.70726495726495, 58.8331807081807, 58.84081196581197, 58.86497761497761, 58.62077737077738, 58.788665038665016, 58.804563492063494, 58.56926638176639, 58.66274928774931, 58.68246336996338, 58.81791819291818, 58.76895095645096, 58.76767908017908, 58.7295227920228, 58.75941188441191, 58.78421347171348, 58.63667582417583, 58.68500712250715, 58.82046194546197, 58.60360704110703, 58.60233516483516, 58.733338420838415, 58.76577126577127, 58.69200244200243, 58.649394586894594, 58.6277726902727, 58.57753357753361, 58.624592999593, 58.796296296296305, 58.63540394790397, 58.594703907203915, 58.65702584452583, 58.770222832722844, 58.70853683353684, 58.83763227513228, 58.71680402930402, 58.814738502238505, 58.703449328449324, 58.727614977614984, 58.73524623524623, 58.79947598697597, 58.79693223443223, 58.83381664631664], \"y0\": \" \", \"yaxis\": \"y\"}],\n",
       "                        {\"boxmode\": \"group\", \"legend\": {\"tracegroupgap\": 0}, \"template\": {\"data\": {\"bar\": [{\"error_x\": {\"color\": \"rgb(36,36,36)\"}, \"error_y\": {\"color\": \"rgb(36,36,36)\"}, \"marker\": {\"line\": {\"color\": \"white\", \"width\": 0.5}}, \"type\": \"bar\"}], \"barpolar\": [{\"marker\": {\"line\": {\"color\": \"white\", \"width\": 0.5}}, \"type\": \"barpolar\"}], \"carpet\": [{\"aaxis\": {\"endlinecolor\": \"rgb(36,36,36)\", \"gridcolor\": \"white\", \"linecolor\": \"white\", \"minorgridcolor\": \"white\", \"startlinecolor\": \"rgb(36,36,36)\"}, \"baxis\": {\"endlinecolor\": \"rgb(36,36,36)\", \"gridcolor\": \"white\", \"linecolor\": \"white\", \"minorgridcolor\": \"white\", \"startlinecolor\": \"rgb(36,36,36)\"}, \"type\": \"carpet\"}], \"choropleth\": [{\"colorbar\": {\"outlinewidth\": 1, \"tickcolor\": \"rgb(36,36,36)\", \"ticks\": \"outside\"}, \"type\": \"choropleth\"}], \"contour\": [{\"colorbar\": {\"outlinewidth\": 1, \"tickcolor\": \"rgb(36,36,36)\", \"ticks\": \"outside\"}, \"colorscale\": [[0.0, \"#440154\"], [0.1111111111111111, \"#482878\"], [0.2222222222222222, \"#3e4989\"], [0.3333333333333333, \"#31688e\"], [0.4444444444444444, \"#26828e\"], [0.5555555555555556, \"#1f9e89\"], [0.6666666666666666, \"#35b779\"], [0.7777777777777778, \"#6ece58\"], [0.8888888888888888, \"#b5de2b\"], [1.0, \"#fde725\"]], \"type\": \"contour\"}], \"contourcarpet\": [{\"colorbar\": {\"outlinewidth\": 1, \"tickcolor\": \"rgb(36,36,36)\", \"ticks\": \"outside\"}, \"type\": \"contourcarpet\"}], \"heatmap\": [{\"colorbar\": {\"outlinewidth\": 1, \"tickcolor\": \"rgb(36,36,36)\", \"ticks\": \"outside\"}, \"colorscale\": [[0.0, \"#440154\"], [0.1111111111111111, \"#482878\"], [0.2222222222222222, \"#3e4989\"], [0.3333333333333333, \"#31688e\"], [0.4444444444444444, \"#26828e\"], [0.5555555555555556, \"#1f9e89\"], [0.6666666666666666, \"#35b779\"], [0.7777777777777778, \"#6ece58\"], [0.8888888888888888, \"#b5de2b\"], [1.0, \"#fde725\"]], \"type\": \"heatmap\"}], \"heatmapgl\": [{\"colorbar\": {\"outlinewidth\": 1, \"tickcolor\": \"rgb(36,36,36)\", \"ticks\": \"outside\"}, \"colorscale\": [[0.0, \"#440154\"], [0.1111111111111111, \"#482878\"], [0.2222222222222222, \"#3e4989\"], [0.3333333333333333, \"#31688e\"], [0.4444444444444444, \"#26828e\"], [0.5555555555555556, \"#1f9e89\"], [0.6666666666666666, \"#35b779\"], [0.7777777777777778, \"#6ece58\"], [0.8888888888888888, \"#b5de2b\"], [1.0, \"#fde725\"]], \"type\": \"heatmapgl\"}], \"histogram\": [{\"marker\": {\"line\": {\"color\": \"white\", \"width\": 0.6}}, \"type\": \"histogram\"}], \"histogram2d\": [{\"colorbar\": {\"outlinewidth\": 1, \"tickcolor\": \"rgb(36,36,36)\", \"ticks\": \"outside\"}, \"colorscale\": [[0.0, \"#440154\"], [0.1111111111111111, \"#482878\"], [0.2222222222222222, \"#3e4989\"], [0.3333333333333333, \"#31688e\"], [0.4444444444444444, \"#26828e\"], [0.5555555555555556, \"#1f9e89\"], [0.6666666666666666, \"#35b779\"], [0.7777777777777778, \"#6ece58\"], [0.8888888888888888, \"#b5de2b\"], [1.0, \"#fde725\"]], \"type\": \"histogram2d\"}], \"histogram2dcontour\": [{\"colorbar\": {\"outlinewidth\": 1, \"tickcolor\": \"rgb(36,36,36)\", \"ticks\": \"outside\"}, \"colorscale\": [[0.0, \"#440154\"], [0.1111111111111111, \"#482878\"], [0.2222222222222222, \"#3e4989\"], [0.3333333333333333, \"#31688e\"], [0.4444444444444444, \"#26828e\"], [0.5555555555555556, \"#1f9e89\"], [0.6666666666666666, \"#35b779\"], [0.7777777777777778, \"#6ece58\"], [0.8888888888888888, \"#b5de2b\"], [1.0, \"#fde725\"]], \"type\": \"histogram2dcontour\"}], \"mesh3d\": [{\"colorbar\": {\"outlinewidth\": 1, \"tickcolor\": \"rgb(36,36,36)\", \"ticks\": \"outside\"}, \"type\": \"mesh3d\"}], \"parcoords\": [{\"line\": {\"colorbar\": {\"outlinewidth\": 1, \"tickcolor\": \"rgb(36,36,36)\", \"ticks\": \"outside\"}}, \"type\": \"parcoords\"}], \"pie\": [{\"automargin\": true, \"type\": \"pie\"}], \"scatter\": [{\"marker\": {\"colorbar\": {\"outlinewidth\": 1, \"tickcolor\": \"rgb(36,36,36)\", \"ticks\": \"outside\"}}, \"type\": \"scatter\"}], \"scatter3d\": [{\"line\": {\"colorbar\": {\"outlinewidth\": 1, \"tickcolor\": \"rgb(36,36,36)\", \"ticks\": \"outside\"}}, \"marker\": {\"colorbar\": {\"outlinewidth\": 1, \"tickcolor\": \"rgb(36,36,36)\", \"ticks\": \"outside\"}}, \"type\": \"scatter3d\"}], \"scattercarpet\": [{\"marker\": {\"colorbar\": {\"outlinewidth\": 1, \"tickcolor\": \"rgb(36,36,36)\", \"ticks\": \"outside\"}}, \"type\": \"scattercarpet\"}], \"scattergeo\": [{\"marker\": {\"colorbar\": {\"outlinewidth\": 1, \"tickcolor\": \"rgb(36,36,36)\", \"ticks\": \"outside\"}}, \"type\": \"scattergeo\"}], \"scattergl\": [{\"marker\": {\"colorbar\": {\"outlinewidth\": 1, \"tickcolor\": \"rgb(36,36,36)\", \"ticks\": \"outside\"}}, \"type\": \"scattergl\"}], \"scattermapbox\": [{\"marker\": {\"colorbar\": {\"outlinewidth\": 1, \"tickcolor\": \"rgb(36,36,36)\", \"ticks\": \"outside\"}}, \"type\": \"scattermapbox\"}], \"scatterpolar\": [{\"marker\": {\"colorbar\": {\"outlinewidth\": 1, \"tickcolor\": \"rgb(36,36,36)\", \"ticks\": \"outside\"}}, \"type\": \"scatterpolar\"}], \"scatterpolargl\": [{\"marker\": {\"colorbar\": {\"outlinewidth\": 1, \"tickcolor\": \"rgb(36,36,36)\", \"ticks\": \"outside\"}}, \"type\": \"scatterpolargl\"}], \"scatterternary\": [{\"marker\": {\"colorbar\": {\"outlinewidth\": 1, \"tickcolor\": \"rgb(36,36,36)\", \"ticks\": \"outside\"}}, \"type\": \"scatterternary\"}], \"surface\": [{\"colorbar\": {\"outlinewidth\": 1, \"tickcolor\": \"rgb(36,36,36)\", \"ticks\": \"outside\"}, \"colorscale\": [[0.0, \"#440154\"], [0.1111111111111111, \"#482878\"], [0.2222222222222222, \"#3e4989\"], [0.3333333333333333, \"#31688e\"], [0.4444444444444444, \"#26828e\"], [0.5555555555555556, \"#1f9e89\"], [0.6666666666666666, \"#35b779\"], [0.7777777777777778, \"#6ece58\"], [0.8888888888888888, \"#b5de2b\"], [1.0, \"#fde725\"]], \"type\": \"surface\"}], \"table\": [{\"cells\": {\"fill\": {\"color\": \"rgb(237,237,237)\"}, \"line\": {\"color\": \"white\"}}, \"header\": {\"fill\": {\"color\": \"rgb(217,217,217)\"}, \"line\": {\"color\": \"white\"}}, \"type\": \"table\"}]}, \"layout\": {\"annotationdefaults\": {\"arrowhead\": 0, \"arrowwidth\": 1}, \"coloraxis\": {\"colorbar\": {\"outlinewidth\": 1, \"tickcolor\": \"rgb(36,36,36)\", \"ticks\": \"outside\"}}, \"colorscale\": {\"diverging\": [[0.0, \"rgb(103,0,31)\"], [0.1, \"rgb(178,24,43)\"], [0.2, \"rgb(214,96,77)\"], [0.3, \"rgb(244,165,130)\"], [0.4, \"rgb(253,219,199)\"], [0.5, \"rgb(247,247,247)\"], [0.6, \"rgb(209,229,240)\"], [0.7, \"rgb(146,197,222)\"], [0.8, \"rgb(67,147,195)\"], [0.9, \"rgb(33,102,172)\"], [1.0, \"rgb(5,48,97)\"]], \"sequential\": [[0.0, \"#440154\"], [0.1111111111111111, \"#482878\"], [0.2222222222222222, \"#3e4989\"], [0.3333333333333333, \"#31688e\"], [0.4444444444444444, \"#26828e\"], [0.5555555555555556, \"#1f9e89\"], [0.6666666666666666, \"#35b779\"], [0.7777777777777778, \"#6ece58\"], [0.8888888888888888, \"#b5de2b\"], [1.0, \"#fde725\"]], \"sequentialminus\": [[0.0, \"#440154\"], [0.1111111111111111, \"#482878\"], [0.2222222222222222, \"#3e4989\"], [0.3333333333333333, \"#31688e\"], [0.4444444444444444, \"#26828e\"], [0.5555555555555556, \"#1f9e89\"], [0.6666666666666666, \"#35b779\"], [0.7777777777777778, \"#6ece58\"], [0.8888888888888888, \"#b5de2b\"], [1.0, \"#fde725\"]]}, \"colorway\": [\"#1F77B4\", \"#FF7F0E\", \"#2CA02C\", \"#D62728\", \"#9467BD\", \"#8C564B\", \"#E377C2\", \"#7F7F7F\", \"#BCBD22\", \"#17BECF\"], \"font\": {\"color\": \"rgb(36,36,36)\"}, \"geo\": {\"bgcolor\": \"white\", \"lakecolor\": \"white\", \"landcolor\": \"white\", \"showlakes\": true, \"showland\": true, \"subunitcolor\": \"white\"}, \"hoverlabel\": {\"align\": \"left\"}, \"hovermode\": \"closest\", \"mapbox\": {\"style\": \"light\"}, \"paper_bgcolor\": \"white\", \"plot_bgcolor\": \"white\", \"polar\": {\"angularaxis\": {\"gridcolor\": \"rgb(232,232,232)\", \"linecolor\": \"rgb(36,36,36)\", \"showgrid\": false, \"showline\": true, \"ticks\": \"outside\"}, \"bgcolor\": \"white\", \"radialaxis\": {\"gridcolor\": \"rgb(232,232,232)\", \"linecolor\": \"rgb(36,36,36)\", \"showgrid\": false, \"showline\": true, \"ticks\": \"outside\"}}, \"scene\": {\"xaxis\": {\"backgroundcolor\": \"white\", \"gridcolor\": \"rgb(232,232,232)\", \"gridwidth\": 2, \"linecolor\": \"rgb(36,36,36)\", \"showbackground\": true, \"showgrid\": false, \"showline\": true, \"ticks\": \"outside\", \"zeroline\": false, \"zerolinecolor\": \"rgb(36,36,36)\"}, \"yaxis\": {\"backgroundcolor\": \"white\", \"gridcolor\": \"rgb(232,232,232)\", \"gridwidth\": 2, \"linecolor\": \"rgb(36,36,36)\", \"showbackground\": true, \"showgrid\": false, \"showline\": true, \"ticks\": \"outside\", \"zeroline\": false, \"zerolinecolor\": \"rgb(36,36,36)\"}, \"zaxis\": {\"backgroundcolor\": \"white\", \"gridcolor\": \"rgb(232,232,232)\", \"gridwidth\": 2, \"linecolor\": \"rgb(36,36,36)\", \"showbackground\": true, \"showgrid\": false, \"showline\": true, \"ticks\": \"outside\", \"zeroline\": false, \"zerolinecolor\": \"rgb(36,36,36)\"}}, \"shapedefaults\": {\"fillcolor\": \"black\", \"line\": {\"width\": 0}, \"opacity\": 0.3}, \"ternary\": {\"aaxis\": {\"gridcolor\": \"rgb(232,232,232)\", \"linecolor\": \"rgb(36,36,36)\", \"showgrid\": false, \"showline\": true, \"ticks\": \"outside\"}, \"baxis\": {\"gridcolor\": \"rgb(232,232,232)\", \"linecolor\": \"rgb(36,36,36)\", \"showgrid\": false, \"showline\": true, \"ticks\": \"outside\"}, \"bgcolor\": \"white\", \"caxis\": {\"gridcolor\": \"rgb(232,232,232)\", \"linecolor\": \"rgb(36,36,36)\", \"showgrid\": false, \"showline\": true, \"ticks\": \"outside\"}}, \"title\": {\"x\": 0.05}, \"xaxis\": {\"automargin\": true, \"gridcolor\": \"rgb(232,232,232)\", \"linecolor\": \"rgb(36,36,36)\", \"showgrid\": false, \"showline\": true, \"ticks\": \"outside\", \"title\": {\"standoff\": 15}, \"zeroline\": false, \"zerolinecolor\": \"rgb(36,36,36)\"}, \"yaxis\": {\"automargin\": true, \"gridcolor\": \"rgb(232,232,232)\", \"linecolor\": \"rgb(36,36,36)\", \"showgrid\": false, \"showline\": true, \"ticks\": \"outside\", \"title\": {\"standoff\": 15}, \"zeroline\": false, \"zerolinecolor\": \"rgb(36,36,36)\"}}}, \"title\": {\"text\": \"OutletPressure g-pump-4 for all weeks \"}, \"xaxis\": {\"anchor\": \"y\", \"domain\": [0.0, 1.0], \"title\": {\"text\": \"week\"}, \"type\": \"category\"}, \"yaxis\": {\"anchor\": \"x\", \"domain\": [0.0, 1.0], \"title\": {\"text\": \"feature_value\"}}},\n",
       "                        {\"responsive\": true}\n",
       "                    ).then(function(){\n",
       "                            \n",
       "var gd = document.getElementById('974a77b8-00c0-4a0f-aa61-3cacf02943bb');\n",
       "var x = new MutationObserver(function (mutations, observer) {{\n",
       "        var display = window.getComputedStyle(gd).display;\n",
       "        if (!display || display === 'none') {{\n",
       "            console.log([gd, 'removed!']);\n",
       "            Plotly.purge(gd);\n",
       "            observer.disconnect();\n",
       "        }}\n",
       "}});\n",
       "\n",
       "// Listen for the removal of the full notebook cells\n",
       "var notebookContainer = gd.closest('#notebook-container');\n",
       "if (notebookContainer) {{\n",
       "    x.observe(notebookContainer, {childList: true});\n",
       "}}\n",
       "\n",
       "// Listen for the clearing of the current output cell\n",
       "var outputEl = gd.closest('.output');\n",
       "if (outputEl) {{\n",
       "    x.observe(outputEl, {childList: true});\n",
       "}}\n",
       "\n",
       "                        })\n",
       "                };\n",
       "                });\n",
       "            </script>\n",
       "        </div>"
      ]
     },
     "metadata": {},
     "output_type": "display_data"
    },
    {
     "data": {
      "application/vnd.plotly.v1+json": {
       "config": {
        "plotlyServerURL": "https://plot.ly"
       },
       "data": [
        {
         "alignmentgroup": "True",
         "hoverlabel": {
          "namelength": 0
         },
         "hovertemplate": "week=%{x}<br>feature_value=%{y}",
         "legendgroup": "",
         "marker": {
          "color": "#1F77B4"
         },
         "name": "",
         "notched": false,
         "offsetgroup": "",
         "orientation": "v",
         "showlegend": false,
         "type": "box",
         "x": [
          47,
          47,
          47,
          47,
          47,
          47,
          47,
          47,
          47,
          47,
          47,
          47,
          47,
          47,
          47,
          47,
          47,
          47,
          47,
          47,
          47,
          47,
          47,
          47,
          47,
          47,
          47,
          47,
          47,
          47,
          47,
          47,
          47,
          47,
          47,
          47,
          47,
          47,
          47,
          47,
          47,
          47,
          47,
          47,
          47,
          47,
          47,
          47,
          47,
          47,
          47,
          47,
          47,
          47,
          47,
          47,
          47,
          47,
          47,
          47,
          47,
          47,
          47,
          47,
          47,
          47,
          47,
          47,
          47,
          47,
          47,
          47,
          47,
          47,
          47,
          47,
          47,
          47,
          47,
          47,
          47,
          47,
          47,
          47,
          47,
          47,
          47,
          47,
          47,
          47,
          47,
          47,
          47,
          47,
          47,
          47,
          47,
          47,
          47,
          47,
          47,
          47,
          47,
          47,
          47,
          47,
          47,
          47,
          48,
          48,
          48,
          48,
          48,
          48,
          48,
          48,
          48,
          48,
          48,
          48,
          48,
          48,
          48,
          48,
          48,
          48,
          48,
          48,
          48,
          48,
          48,
          48,
          48,
          48,
          48,
          48,
          48,
          48,
          48,
          48,
          48,
          48,
          48,
          48,
          48,
          48,
          48,
          48,
          48,
          48,
          48,
          48,
          48,
          48,
          48,
          48,
          48,
          48,
          48,
          48,
          48,
          48,
          48,
          48,
          48,
          48,
          48,
          48,
          48,
          48,
          48,
          48,
          48,
          48,
          48,
          48,
          48,
          48,
          48,
          48,
          48,
          48,
          48,
          48,
          48,
          48,
          48,
          48,
          48,
          48,
          48,
          48,
          48,
          48,
          48,
          48,
          48,
          48,
          48,
          48,
          48,
          48,
          48,
          48,
          48,
          48,
          48,
          48,
          48,
          48,
          48,
          48,
          48,
          48,
          48,
          48,
          48,
          48,
          48,
          48,
          48,
          48,
          48,
          48,
          48,
          48,
          48,
          48,
          48,
          48,
          48,
          48,
          48,
          48,
          48,
          48,
          48,
          48,
          48,
          48,
          48,
          48,
          48,
          48,
          48,
          48,
          48,
          48,
          48,
          48,
          48,
          48,
          48,
          48,
          48,
          48,
          48,
          48,
          48,
          48,
          48,
          48,
          48,
          48,
          48,
          48,
          48,
          48,
          48,
          48,
          48,
          48,
          48,
          48,
          49,
          49,
          49,
          49,
          49,
          49,
          49,
          49,
          49,
          49,
          49,
          49,
          49,
          49,
          49,
          49,
          49,
          49,
          49,
          49,
          49,
          49,
          49,
          49,
          49,
          49,
          49,
          49,
          49,
          50,
          50,
          50,
          50,
          50,
          50,
          50,
          50,
          50,
          50,
          50,
          50,
          50,
          50,
          50,
          50,
          50,
          50,
          50,
          50,
          50,
          50,
          50,
          50,
          50,
          50,
          50,
          50,
          50,
          50,
          50,
          50,
          50,
          50,
          50,
          50,
          50,
          50,
          50,
          50,
          50,
          51,
          51,
          51,
          51,
          51,
          51,
          51,
          51,
          51,
          51,
          51,
          51,
          51,
          51,
          51,
          51,
          51,
          51,
          51,
          51,
          51,
          51,
          51,
          51,
          51,
          51,
          51,
          51,
          51,
          51,
          51,
          51,
          51,
          51,
          51,
          51,
          51,
          51,
          51,
          51,
          51,
          51,
          51,
          51,
          51,
          51,
          51,
          51,
          51,
          51,
          51,
          51,
          51,
          51,
          51,
          51,
          51,
          51,
          51,
          51,
          51,
          51,
          51,
          51,
          51,
          51,
          51,
          51,
          51,
          51,
          51,
          51,
          51,
          51,
          51,
          51,
          51,
          51,
          51,
          51,
          51,
          51,
          51,
          51,
          51,
          51,
          51,
          51,
          51,
          51,
          51,
          51,
          51,
          51,
          51,
          51,
          51,
          51,
          51,
          51,
          51,
          51,
          51,
          51,
          51,
          51,
          51,
          51,
          51,
          51,
          51,
          51,
          51,
          51,
          51,
          51,
          51,
          51,
          51,
          51,
          51,
          51,
          51,
          51,
          51,
          51,
          51,
          51,
          51,
          51,
          51,
          51,
          51,
          51,
          51,
          51,
          51,
          51,
          51,
          51,
          51,
          51,
          51,
          51,
          51,
          51,
          51,
          52,
          52,
          52,
          52,
          52,
          52,
          52,
          52,
          52,
          52,
          52,
          52,
          52,
          52,
          52,
          52,
          52,
          52,
          52,
          52,
          52,
          52,
          52,
          52,
          52,
          52,
          52,
          52,
          52,
          52,
          52,
          52,
          52,
          52,
          52,
          52,
          52,
          52,
          52,
          52,
          52,
          52,
          52,
          52,
          52,
          52,
          52,
          52,
          52,
          52,
          52,
          52,
          52,
          52,
          52,
          52,
          52,
          52,
          52,
          52,
          52,
          52,
          52,
          52,
          52,
          52,
          52,
          52,
          52,
          52,
          52,
          52,
          52,
          52,
          52,
          52,
          52,
          52,
          52,
          52,
          52,
          52,
          52,
          52,
          52,
          52,
          52,
          52,
          52,
          52,
          52,
          52,
          52,
          52,
          52,
          52,
          52,
          52,
          52,
          52,
          52,
          52,
          52,
          52,
          52,
          52,
          52,
          52,
          52,
          52,
          52,
          52,
          52,
          52,
          52,
          52,
          52,
          52,
          52,
          52,
          52,
          52,
          52,
          52,
          52,
          52,
          52,
          52,
          52,
          52,
          52,
          52,
          52,
          52,
          52,
          52,
          52,
          52,
          52,
          52,
          52,
          52,
          52,
          52,
          52,
          52,
          52,
          52,
          52,
          52,
          52,
          52,
          52,
          52,
          52,
          52,
          52,
          52,
          52,
          52,
          52,
          52,
          52,
          52,
          52,
          52,
          1,
          1,
          1,
          1,
          1,
          1,
          1,
          1,
          1,
          1,
          1,
          1,
          1,
          1,
          1,
          1,
          1,
          1,
          1,
          1,
          1,
          1,
          1,
          1,
          1,
          1,
          1,
          1,
          1,
          1,
          1,
          1,
          1,
          1,
          1,
          1,
          1,
          1,
          1,
          1,
          1,
          1,
          1,
          1,
          1,
          1,
          1,
          1,
          1,
          1,
          1,
          1,
          1,
          1,
          1,
          1,
          1,
          1,
          1,
          1,
          1,
          1,
          1,
          1,
          1,
          1,
          1,
          1,
          1,
          1,
          1,
          1,
          1,
          1,
          1,
          1,
          1,
          1,
          1,
          1,
          1,
          1,
          1,
          1,
          1,
          1,
          1,
          1,
          1,
          1,
          1,
          1,
          1,
          1,
          1,
          1,
          1,
          1,
          1,
          1,
          1,
          1,
          1,
          1,
          1,
          1,
          1,
          1,
          1,
          1,
          1,
          1,
          1,
          1,
          1,
          1,
          1,
          1,
          1,
          1,
          1,
          1,
          1,
          1,
          1,
          1,
          1,
          1,
          1,
          1,
          1,
          1,
          1,
          1,
          1,
          1,
          1,
          1,
          1,
          1,
          1,
          1,
          1,
          1,
          1,
          1,
          1,
          1,
          1,
          1,
          1,
          1,
          1,
          1,
          1,
          1,
          1,
          1,
          1,
          1,
          1,
          1,
          1,
          1,
          1,
          1,
          1,
          1,
          2,
          2,
          2,
          2,
          2,
          2,
          2,
          2,
          2,
          2,
          2,
          2,
          2,
          2,
          2,
          2,
          2
         ],
         "x0": " ",
         "xaxis": "x",
         "y": [
          3.0444712487622954,
          3.17002442002442,
          3.05304231655487,
          3.083038681997016,
          3.119340150590151,
          3.105095136345136,
          3.120612026862027,
          3.0994988807488806,
          3.0812474562474557,
          3.058989621489621,
          3.0829008954008965,
          3.1001637251637253,
          3.086525742775741,
          3.084109177859179,
          3.0837276149776134,
          3.069673382173382,
          3.08646214896215,
          3.1036960724460734,
          3.09333028083028,
          3.052757427757427,
          3.045253357753358,
          3.077749796499796,
          3.0690374440374435,
          3.078322140822141,
          3.0596891534391517,
          3.0699913512413524,
          3.0829008954008956,
          3.090150590150588,
          3.059180402930402,
          3.067701973951974,
          3.0635683760683747,
          3.0699277574277577,
          3.0497049247049257,
          3.0564458689458687,
          3.0398478835978846,
          3.058926027676028,
          3.0762235449735456,
          3.0740613553113554,
          3.0830280830280845,
          3.085381054131055,
          3.0677019739519733,
          3.079466829466831,
          3.0909137159137168,
          3.1077024827024826,
          3.0939026251526247,
          3.077940577940579,
          3.1034416971916965,
          3.0708816646316657,
          3.1040776353276365,
          3.092249185999186,
          3.0785765160765166,
          3.0909137159137146,
          3.0829644892144894,
          3.0858898046398036,
          3.098036223036221,
          3.0725351037851047,
          3.1045227920227934,
          3.086271367521368,
          3.0652854090354094,
          3.0645222832722836,
          3.0830280830280823,
          3.062232905982905,
          3.0884335571835564,
          3.1107549857549848,
          3.104840761090762,
          3.09250356125356,
          3.090086996336995,
          3.0804843304843303,
          3.079085266585267,
          3.0631232193732187,
          3.07533323158323,
          3.0856990231990236,
          3.061533374033372,
          3.066175722425721,
          3.0694190069190093,
          3.077368233618232,
          3.0979090354090366,
          3.102424196174196,
          3.0866529304029307,
          3.0972095034595015,
          3.053011803011803,
          3.0793396418396415,
          3.1035052910052916,
          3.0893238705738697,
          3.072407916157916,
          3.0878612128612115,
          3.1185770248270246,
          3.078640109890109,
          3.082900895400897,
          3.0876068376068386,
          3.0635047822547814,
          3.0805479242979246,
          3.10884717134717,
          3.075778388278387,
          3.0825193325193325,
          3.0695461945461946,
          3.0979090354090353,
          3.0709452584452577,
          3.078322140822141,
          3.0820105820105828,
          3.0564458689458687,
          3.085190272690271,
          3.082455738705738,
          3.0673840048840053,
          3.0469067969067964,
          3.0772410459910446,
          3.0876704314204315,
          3.0699913512413524,
          3.076541514041514,
          3.0916768416768416,
          3.086843711843711,
          3.0787037037037037,
          3.0847451159951174,
          3.0812474562474566,
          3.0828373015873023,
          3.0895782458282466,
          3.0776862026862033,
          3.0432819495319507,
          3.1117088929588923,
          3.115397334147333,
          3.1096738909238897,
          3.043281949531949,
          3.0935846560846563,
          3.087797619047619,
          3.0787672975172975,
          3.108719983719983,
          3.0903413715913715,
          3.100389194139192,
          3.09848137973138,
          3.0718991656491657,
          3.06897385022385,
          3.073552604802605,
          3.075587606837606,
          3.0831552706552716,
          3.075142450142449,
          3.075969169719171,
          3.089133089133092,
          3.0809294871794872,
          3.088433557183558,
          3.0949837199837194,
          3.0610882173382166,
          3.1244912494912516,
          3.120039682539684,
          3.1397537647537654,
          3.132949226699226,
          3.134920634920635,
          3.1811533374033374,
          3.130405474155475,
          3.141280016280016,
          3.143187830687832,
          3.1370192307692313,
          3.141280016280016,
          3.113235144485143,
          3.134793447293448,
          3.086334961334961,
          3.0991173178673184,
          3.082455738705741,
          3.0812474562474566,
          3.076859483109484,
          3.133267195767194,
          3.0940934065934056,
          3.067701973951973,
          3.08862433862434,
          3.04576210826211,
          3.0777497964997966,
          3.0626144688644703,
          3.0905321530321537,
          3.081120268620268,
          3.0901505901505906,
          3.0803571428571423,
          3.058480870980871,
          3.1033145095645103,
          3.1006435693935672,
          3.101724664224665,
          3.089578245828246,
          3.0923763736263727,
          3.067574786324787,
          3.0514219576719586,
          3.0670660358160355,
          3.0693554131054115,
          3.0954924704924713,
          3.056255087505088,
          3.0788944851444846,
          3.0619785307285308,
          3.0519943019943,
          3.043281949531949,
          3.0536477411477425,
          3.0797847985347993,
          3.091676841676843,
          3.1058582621082618,
          3.0881791819291817,
          3.0960012210012207,
          3.094220594220594,
          3.1156517094017104,
          3.121820309320308,
          3.1257631257631266,
          3.1236645299145294,
          3.1306598494098474,
          3.1483389295889306,
          3.110437016687016,
          3.0528210215710225,
          3.091804029304029,
          3.091104497354498,
          3.0486874236874253,
          3.049577737077737,
          3.0893874643874635,
          3.1059854497354507,
          3.0971459096459086,
          3.056382275132276,
          3.0729166666666665,
          3.0592439967439966,
          3.0867165242165258,
          3.0909137159137168,
          3.09364824989825,
          3.10897435897436,
          3.0421372608872606,
          3.0456349206349227,
          3.094538563288564,
          3.0583536833536837,
          3.081374643874644,
          3.080675111925112,
          3.0863985551485555,
          3.0613425925925934,
          3.0872888685388684,
          3.1032509157509156,
          3.0926307488807487,
          3.102233414733416,
          3.0526302401302385,
          3.0720899470899483,
          3.071326821326821,
          3.0676383801383795,
          3.0775590150590157,
          3.0918676231176225,
          3.05695461945462,
          3.081120268620268,
          3.0750152625152616,
          3.0655397842897845,
          3.043091168091168,
          3.0701185388685377,
          3.081501831501832,
          3.101851851851851,
          3.090451215451216,
          3.0935846560846563,
          3.0592439967439966,
          3.091740435490435,
          3.1169235856735855,
          3.0695461945461937,
          3.08429995929996,
          3.094538563288564,
          3.063886345136344,
          3.0680708180708196,
          3.10115231990232,
          3.0746972934472936,
          3.0958104395604416,
          3.0683379120879137,
          3.0982905982905984,
          3.0591804029304037,
          3.0996896621896615,
          3.0719627594627585,
          3.1113273300773305,
          3.0493233618233604,
          3.065921347171347,
          3.0858898046398053,
          3.0517399267399266,
          3.084999491249492,
          3.0521850834350843,
          3.0708816646316652,
          3.1007707570207574,
          3.071708384208385,
          3.066811660561663,
          3.1322496947496945,
          3.0946021571021567,
          3.0836004273504263,
          3.0825829263329267,
          3.1042048229548236,
          3.058926027676027,
          3.1037596662596667,
          3.073616198616197,
          3.0668116605616604,
          3.0841091778591783,
          3.0841727716727725,
          3.1089107651607653,
          3.0807387057387063,
          3.070818070818072,
          3.0617241554741557,
          3.0982270044770046,
          3.09549247049247,
          3.059307590557591,
          3.1394357956857952,
          3.091422466422465,
          3.1185134310134344,
          3.064395095645096,
          3.096891534391535,
          3.0463344525844516,
          3.097209503459504,
          3.0823285510785516,
          3.120421245421245,
          3.087543243793244,
          3.0776862026862015,
          3.096764346764347,
          3.070245726495727,
          3.065857753357754,
          3.178037240537243,
          3.183760683760685,
          3.213331807081806,
          3.1564789377289393,
          3.20671805046805,
          3.216384310134311,
          3.217465404965404,
          3.2044922669922653,
          3.188339438339439,
          3.2034111721611715,
          3.15387159137159,
          3.1636650386650396,
          3.1930453805453802,
          3.19953194953195,
          3.186134852801521,
          3.2210266585266574,
          3.202202889702889,
          3.1840786528286524,
          3.2047466422466435,
          3.1932997557997553,
          3.2159391534391535,
          3.171741452991453,
          3.2371158933658926,
          3.184968966218966,
          3.1726953601953594,
          3.1913283475783483,
          3.1537444037444033,
          3.172250203500202,
          3.1976877289377286,
          3.2077355514855523,
          3.161057692307693,
          3.145922364672366,
          3.14083485958486,
          3.2084350834350848,
          3.1525361212861203,
          3.2342541717541717,
          3.213840557590558,
          3.1991503866503876,
          3.202330077330078,
          3.2167022792022806,
          3.1935541310541313,
          3.262934981684983,
          3.210851648351649,
          3.2147308709808695,
          3.213268213268213,
          3.176320207570208,
          3.2308836996336985,
          3.215557590557589,
          3.1425518925518916,
          3.148529711029711,
          3.124554843304843,
          3.135620166870167,
          3.148911273911276,
          3.1705331705331723,
          3.1252543752543747,
          3.1345390720390705,
          3.1445868945868956,
          3.1328220390720394,
          3.117623117623117,
          3.1642373829873836,
          3.201376170126172,
          3.141534391534392,
          3.1684981684981692,
          3.1307234432234434,
          3.1328856328856323,
          3.1281796906796906,
          3.1251907814407818,
          3.1336487586487607,
          3.1071937321937306,
          3.1269078144078155,
          3.1198489010989,
          3.1166692104192113,
          3.1290700040700035,
          3.1517729955229954,
          3.1381639194139197,
          3.120929995929996,
          3.087924806674806,
          3.1153973341473353,
          3.1058582621082604,
          3.1236009361009374,
          3.1400717338217343,
          3.1498651811151817,
          3.1195309320309312,
          3.089578245828246,
          3.168816137566136,
          3.1711691086691087,
          3.1194037444037424,
          3.096255596255595,
          3.2546041921041926,
          3.234826516076517,
          3.1404532967032974,
          3.1805173992674,
          3.2261777574277573,
          3.2213446275946276,
          3.1656364468864466,
          3.2391508954008947,
          3.2201999389499396,
          3.2012489824989827,
          3.210279304029303,
          3.1651276963776973,
          3.2252874440374444,
          3.156860500610502,
          3.221980565730568,
          3.166526760276758,
          3.213967745217745,
          3.141025641025639,
          3.2423305860805876,
          3.241313085063084,
          3.2189916564916565,
          3.236161986161987,
          3.2689763939763936,
          3.2415038665038676,
          3.2147308709808704,
          3.11317155067155,
          3.1524089336589345,
          3.143823768823769,
          3.1511370573870576,
          3.15800518925519,
          3.122265466015465,
          3.0943477818477807,
          3.128688441188442,
          3.1412164224664245,
          3.1559065934065935,
          3.14000814000814,
          3.1244912494912502,
          3.1277981277981275,
          3.110309829059828,
          3.130341880341879,
          3.1335215710215714,
          3.135302197802197,
          3.1400081400081397,
          3.124872812372813,
          3.0862713675213675,
          3.139054232804232,
          3.1337123524623522,
          3.14852971102971,
          3.141534391534393,
          3.0944113756613754,
          3.138927045177045,
          3.117114367114368,
          3.155143467643468,
          3.1452864265364266,
          3.1653184778184777,
          3.165445665445665,
          3.116478428978429,
          3.1403897028897045,
          3.1295787545787537,
          3.1396901709401717,
          3.1281160968660964,
          3.1651912901912893,
          3.11234483109483,
          3.1306598494098505,
          3.1430606430606427,
          3.1578780016280015,
          3.0930759055759065,
          3.1141254578754567,
          3.1387998575498592,
          3.1234101546601547,
          3.1698972323972328,
          3.1185770248270255,
          3.1493564306064297,
          3.124618437118438,
          3.1739672364672367,
          3.149865181115182,
          3.136892043142043,
          3.1127263939763945,
          3.0993716931216935,
          3.118259055759055,
          3.1303418803418808,
          3.110564204314203,
          3.1239189051689045,
          3.1365740740740744,
          3.170151607651608,
          3.0944113756613736,
          3.1477665852665826,
          3.113680301180302,
          3.14515923890924,
          3.113934676434677,
          3.1325040700040723,
          3.155016280016279,
          3.137655168905169,
          3.147003459503461,
          3.142424704924704,
          3.1220110907610916,
          3.1112637362637354,
          3.1204212454212445,
          3.1337123524623536,
          3.1511370573870576,
          3.1321225071225065,
          3.144714082214083,
          3.161121286121285,
          3.1128535816035794,
          3.11565170940171,
          3.1005163817663806,
          3.078894485144485,
          3.110246235246235,
          3.1493564306064292,
          3.110882173382173,
          3.1658272283272297,
          3.1621387871387867,
          3.0815654253154263,
          3.16735347985348,
          3.1403261090761085,
          3.1626475376475374,
          3.1386726699226686,
          3.1712327024827034,
          3.1477665852665857,
          3.1629019129019134,
          3.1567333129833126,
          3.1208028083028085,
          3.1061762311762315,
          3.145222832722833,
          3.0956196581196593,
          3.180580993080994,
          3.1101190476190492,
          3.1204212454212445,
          3.140771265771267,
          3.130596255596256,
          3.1512006512006514,
          3.1592134717134717,
          3.1546983109483127,
          3.116033272283271,
          3.1101826414326417,
          3.125,
          3.141915954415954,
          3.1369556369556375,
          3.1232829670329654,
          3.1414707977207974,
          3.1459223646723653,
          3.144586894586896,
          3.1522817460317465,
          3.1125992063492056,
          3.1276073463573457,
          3.1177503052503046,
          3.1347298534798544,
          3.1395629833129832,
          3.131232193732193,
          3.1644281644281644,
          3.127861721611721,
          3.146685490435491,
          3.174539580789581,
          3.151137057387057,
          3.172758954008954,
          3.1636014448514445,
          3.12550875050875,
          3.1686889499389497,
          3.162011599511601,
          3.1525361212861207,
          3.0945385632885642,
          3.1191493691493686,
          3.141280016280016,
          3.149038461538462,
          3.1502467439967443,
          3.1694520757020754,
          3.1205484330484325,
          3.1674806674806675,
          3.1484025234025235,
          3.148847680097681,
          3.1168599918599913,
          3.076096357346357,
          3.128370472120473,
          3.1587047212047206,
          3.1538715913715905,
          3.1396265771265774,
          3.134984228734229,
          3.1566697191697206,
          3.110691391941392,
          3.1018518518518525,
          3.1178774928774935,
          3.170660358160358,
          3.1684345746845737,
          3.114252645502646,
          3.157051282051281,
          3.1716778591778616,
          3.0925035612535616,
          3.1176867114367113,
          3.12449124949125,
          3.1681801994302004,
          3.159976597476597,
          3.1494836182336186,
          3.1505011192511208,
          3.1712327024827016,
          3.1514550264550265,
          3.190628815628816,
          3.135747354497354,
          3.139944546194545,
          3.1931725681725687,
          3.1679894179894172,
          3.155906593406593,
          3.1541259666259656,
          3.1381003256003264,
          3.120866402116402,
          3.114697802197803,
          3.161566442816444,
          3.139054232804234,
          3.174730362230362,
          3.1894205331705323,
          3.1198489010988992,
          3.137909544159544,
          3.28360297110297,
          3.157432844932846,
          3.1180682743182735,
          3.145222832722832,
          3.1625839438339445,
          3.1257631257631258,
          3.142615486365486,
          3.120802808302809,
          3.1842058404558404,
          3.131613756613756,
          3.172250203500204,
          3.157687220187221,
          3.174412393162394,
          3.1658908221408217,
          3.141343610093609,
          3.1216295278795285,
          3.131422975172976,
          3.1609305046805054,
          3.150310337810337,
          3.1514550264550274,
          3.1842058404558404,
          3.141788766788766,
          3.150246743996744,
          3.163092694342694,
          3.195016788766791,
          3.1497379934879945,
          3.174921143671144,
          3.155779405779406,
          3.2041107041107058,
          3.124872812372814,
          3.1634106634106627,
          3.1333307895807905,
          3.1672898860398857,
          3.1873219373219386,
          3.116732804232805,
          3.14217032967033,
          3.143569393569393,
          3.164300976800975,
          3.1276073463573453,
          3.1484025234025252,
          3.131804538054538,
          3.144332519332517,
          3.1496743996744008,
          3.184968966218966,
          3.1297695360195363,
          3.149610805860807,
          3.195970695970697,
          3.136065323565324,
          3.1851597476597475,
          3.1427426739926747,
          3.121565934065936,
          3.1202304639804628,
          3.1525361212861207,
          3.1408348595848588,
          3.1010887260887263,
          3.1403261090761094,
          3.143760175010174,
          3.1673534798534795,
          3.1817892755392756,
          3.1577508140008153,
          3.1615664428164423,
          3.139880952380953,
          3.1005163817663806,
          3.161057692307691,
          3.1005799755799757,
          3.146812678062678,
          3.1442053317053325,
          3.1555886243386233,
          3.2091346153846154,
          3.202648046398045,
          3.1814713064713067,
          3.2161935286935286,
          3.1794998982498988,
          3.22388838013838,
          3.1964794464794473,
          3.1660816035816044,
          3.1353021978021967,
          3.1339667277167265,
          3.1335851648351665,
          3.141025641025641,
          3.1520273707773705,
          3.127925315425316,
          3.142679080179081,
          3.143823768823769,
          3.1450320512820507,
          3.1414707977207983,
          3.122329059829062,
          3.168307387057387,
          3.1399445461945468,
          3.1392450142450143,
          3.1609305046805045,
          3.1450956450956444,
          3.186685999186,
          3.195779914529913,
          3.140262515262515,
          3.1547619047619033,
          3.1622659747659743,
          3.146621896621898,
          3.1538079975579962,
          3.1920278795278794,
          3.1737128612128616,
          3.165827228327227,
          3.2212174399674414,
          3.1603581603581627,
          3.1942536630036638,
          3.18802146927147,
          3.1759386446886446,
          3.1429334554334556,
          3.1765745828245824,
          3.1772741147741157,
          3.150183150183149,
          3.1269714082214084,
          3.1661451973951973,
          3.122392653642654,
          3.130596255596256,
          3.1616936304436307,
          3.162202380952381,
          3.1077660765160746,
          3.120039682539682,
          3.1615028490028485,
          3.1680530118030124,
          3.1857320919820915,
          3.116796398046399,
          3.1660180097680097,
          3.1665267602767595,
          3.118195461945461,
          3.1470034595034595,
          3.113553113553113,
          3.1362561050061033,
          3.1854141229141213,
          3.1722502035002034,
          3.1255087505087507,
          3.1146978021978016,
          3.1534264346764345,
          3.159658628408629,
          3.149865181115181,
          3.145540801790801,
          3.1276709401709404,
          3.175684269434269,
          3.1745395807895807,
          3.1812805250305263,
          3.153299247049246,
          3.1856049043549066,
          3.147448616198615,
          3.2213446275946285,
          3.185223341473341,
          3.1609940984940987,
          3.152726902726903,
          3.1898656898656896,
          3.1877670940170955,
          3.2137769637769646,
          3.162011599511598,
          3.184778184778184,
          3.1538715913715922,
          3.1683073870573892,
          3.150310337810337,
          3.168625356125356,
          3.199913512413513,
          3.1479573667073653,
          3.19170991045991,
          3.171423483923484,
          3.169388481888481,
          3.1620751933251925,
          3.1324404761904776,
          3.1928545991045993,
          3.169642857142858,
          3.185286935286935,
          3.179372710622712,
          3.1512642450142443,
          3.185096153846155,
          3.161566442816443,
          3.1499923687423688,
          3.2022028897028902,
          3.1328856328856336,
          3.146240333740334,
          3.1653184778184786,
          3.1892297517297528,
          3.161757224257224,
          3.1781008343508343,
          3.157878001628003,
          3.170596764346765,
          3.197051790801791,
          3.1637286324786325,
          3.178100834350833,
          3.182234432234431,
          3.169770044770045,
          3.1713598901098883,
          3.153553622303621,
          3.162965506715507,
          3.177592083842084,
          3.166145197395197,
          3.150691900691902,
          3.119721713471714,
          3.187067562067563,
          3.1833155270655276,
          3.188085063085063,
          3.1204212454212463,
          3.200931013431014,
          3.191455535205535,
          3.1966066341066344,
          3.1882758445258452,
          3.128243284493285,
          3.163219881969883,
          3.2095161782661807,
          3.161566442816443,
          3.1658908221408217,
          3.166908323158322,
          3.220963064713066,
          3.1862408424908417,
          3.12283781033781,
          3.1697700447700456,
          3.161312067562068,
          3.1668447293447297,
          3.179054741554742,
          3.1550798738298718,
          3.1466854904354897,
          3.1643009768009787,
          3.2081807081807088,
          3.166971916971917,
          3.1846509971509973,
          3.169134106634106,
          3.1690069190069203,
          3.171423483923484,
          3.1573692511192504,
          3.219373219373219,
          3.1853505291005297,
          3.166590354090354,
          3.143569393569394,
          3.141852360602362,
          3.1629019129019125,
          3.213649776149776,
          3.1842058404558404,
          3.1824252136752142,
          3.1966066341066353,
          3.2126958689458713,
          3.1953983516483504,
          3.168879731379731,
          3.180771774521776,
          3.198896011396012,
          3.1308506308506305,
          3.0907865282865283
         ],
         "y0": " ",
         "yaxis": "y"
        }
       ],
       "layout": {
        "boxmode": "group",
        "legend": {
         "tracegroupgap": 0
        },
        "template": {
         "data": {
          "bar": [
           {
            "error_x": {
             "color": "rgb(36,36,36)"
            },
            "error_y": {
             "color": "rgb(36,36,36)"
            },
            "marker": {
             "line": {
              "color": "white",
              "width": 0.5
             }
            },
            "type": "bar"
           }
          ],
          "barpolar": [
           {
            "marker": {
             "line": {
              "color": "white",
              "width": 0.5
             }
            },
            "type": "barpolar"
           }
          ],
          "carpet": [
           {
            "aaxis": {
             "endlinecolor": "rgb(36,36,36)",
             "gridcolor": "white",
             "linecolor": "white",
             "minorgridcolor": "white",
             "startlinecolor": "rgb(36,36,36)"
            },
            "baxis": {
             "endlinecolor": "rgb(36,36,36)",
             "gridcolor": "white",
             "linecolor": "white",
             "minorgridcolor": "white",
             "startlinecolor": "rgb(36,36,36)"
            },
            "type": "carpet"
           }
          ],
          "choropleth": [
           {
            "colorbar": {
             "outlinewidth": 1,
             "tickcolor": "rgb(36,36,36)",
             "ticks": "outside"
            },
            "type": "choropleth"
           }
          ],
          "contour": [
           {
            "colorbar": {
             "outlinewidth": 1,
             "tickcolor": "rgb(36,36,36)",
             "ticks": "outside"
            },
            "colorscale": [
             [
              0,
              "#440154"
             ],
             [
              0.1111111111111111,
              "#482878"
             ],
             [
              0.2222222222222222,
              "#3e4989"
             ],
             [
              0.3333333333333333,
              "#31688e"
             ],
             [
              0.4444444444444444,
              "#26828e"
             ],
             [
              0.5555555555555556,
              "#1f9e89"
             ],
             [
              0.6666666666666666,
              "#35b779"
             ],
             [
              0.7777777777777778,
              "#6ece58"
             ],
             [
              0.8888888888888888,
              "#b5de2b"
             ],
             [
              1,
              "#fde725"
             ]
            ],
            "type": "contour"
           }
          ],
          "contourcarpet": [
           {
            "colorbar": {
             "outlinewidth": 1,
             "tickcolor": "rgb(36,36,36)",
             "ticks": "outside"
            },
            "type": "contourcarpet"
           }
          ],
          "heatmap": [
           {
            "colorbar": {
             "outlinewidth": 1,
             "tickcolor": "rgb(36,36,36)",
             "ticks": "outside"
            },
            "colorscale": [
             [
              0,
              "#440154"
             ],
             [
              0.1111111111111111,
              "#482878"
             ],
             [
              0.2222222222222222,
              "#3e4989"
             ],
             [
              0.3333333333333333,
              "#31688e"
             ],
             [
              0.4444444444444444,
              "#26828e"
             ],
             [
              0.5555555555555556,
              "#1f9e89"
             ],
             [
              0.6666666666666666,
              "#35b779"
             ],
             [
              0.7777777777777778,
              "#6ece58"
             ],
             [
              0.8888888888888888,
              "#b5de2b"
             ],
             [
              1,
              "#fde725"
             ]
            ],
            "type": "heatmap"
           }
          ],
          "heatmapgl": [
           {
            "colorbar": {
             "outlinewidth": 1,
             "tickcolor": "rgb(36,36,36)",
             "ticks": "outside"
            },
            "colorscale": [
             [
              0,
              "#440154"
             ],
             [
              0.1111111111111111,
              "#482878"
             ],
             [
              0.2222222222222222,
              "#3e4989"
             ],
             [
              0.3333333333333333,
              "#31688e"
             ],
             [
              0.4444444444444444,
              "#26828e"
             ],
             [
              0.5555555555555556,
              "#1f9e89"
             ],
             [
              0.6666666666666666,
              "#35b779"
             ],
             [
              0.7777777777777778,
              "#6ece58"
             ],
             [
              0.8888888888888888,
              "#b5de2b"
             ],
             [
              1,
              "#fde725"
             ]
            ],
            "type": "heatmapgl"
           }
          ],
          "histogram": [
           {
            "marker": {
             "line": {
              "color": "white",
              "width": 0.6
             }
            },
            "type": "histogram"
           }
          ],
          "histogram2d": [
           {
            "colorbar": {
             "outlinewidth": 1,
             "tickcolor": "rgb(36,36,36)",
             "ticks": "outside"
            },
            "colorscale": [
             [
              0,
              "#440154"
             ],
             [
              0.1111111111111111,
              "#482878"
             ],
             [
              0.2222222222222222,
              "#3e4989"
             ],
             [
              0.3333333333333333,
              "#31688e"
             ],
             [
              0.4444444444444444,
              "#26828e"
             ],
             [
              0.5555555555555556,
              "#1f9e89"
             ],
             [
              0.6666666666666666,
              "#35b779"
             ],
             [
              0.7777777777777778,
              "#6ece58"
             ],
             [
              0.8888888888888888,
              "#b5de2b"
             ],
             [
              1,
              "#fde725"
             ]
            ],
            "type": "histogram2d"
           }
          ],
          "histogram2dcontour": [
           {
            "colorbar": {
             "outlinewidth": 1,
             "tickcolor": "rgb(36,36,36)",
             "ticks": "outside"
            },
            "colorscale": [
             [
              0,
              "#440154"
             ],
             [
              0.1111111111111111,
              "#482878"
             ],
             [
              0.2222222222222222,
              "#3e4989"
             ],
             [
              0.3333333333333333,
              "#31688e"
             ],
             [
              0.4444444444444444,
              "#26828e"
             ],
             [
              0.5555555555555556,
              "#1f9e89"
             ],
             [
              0.6666666666666666,
              "#35b779"
             ],
             [
              0.7777777777777778,
              "#6ece58"
             ],
             [
              0.8888888888888888,
              "#b5de2b"
             ],
             [
              1,
              "#fde725"
             ]
            ],
            "type": "histogram2dcontour"
           }
          ],
          "mesh3d": [
           {
            "colorbar": {
             "outlinewidth": 1,
             "tickcolor": "rgb(36,36,36)",
             "ticks": "outside"
            },
            "type": "mesh3d"
           }
          ],
          "parcoords": [
           {
            "line": {
             "colorbar": {
              "outlinewidth": 1,
              "tickcolor": "rgb(36,36,36)",
              "ticks": "outside"
             }
            },
            "type": "parcoords"
           }
          ],
          "pie": [
           {
            "automargin": true,
            "type": "pie"
           }
          ],
          "scatter": [
           {
            "marker": {
             "colorbar": {
              "outlinewidth": 1,
              "tickcolor": "rgb(36,36,36)",
              "ticks": "outside"
             }
            },
            "type": "scatter"
           }
          ],
          "scatter3d": [
           {
            "line": {
             "colorbar": {
              "outlinewidth": 1,
              "tickcolor": "rgb(36,36,36)",
              "ticks": "outside"
             }
            },
            "marker": {
             "colorbar": {
              "outlinewidth": 1,
              "tickcolor": "rgb(36,36,36)",
              "ticks": "outside"
             }
            },
            "type": "scatter3d"
           }
          ],
          "scattercarpet": [
           {
            "marker": {
             "colorbar": {
              "outlinewidth": 1,
              "tickcolor": "rgb(36,36,36)",
              "ticks": "outside"
             }
            },
            "type": "scattercarpet"
           }
          ],
          "scattergeo": [
           {
            "marker": {
             "colorbar": {
              "outlinewidth": 1,
              "tickcolor": "rgb(36,36,36)",
              "ticks": "outside"
             }
            },
            "type": "scattergeo"
           }
          ],
          "scattergl": [
           {
            "marker": {
             "colorbar": {
              "outlinewidth": 1,
              "tickcolor": "rgb(36,36,36)",
              "ticks": "outside"
             }
            },
            "type": "scattergl"
           }
          ],
          "scattermapbox": [
           {
            "marker": {
             "colorbar": {
              "outlinewidth": 1,
              "tickcolor": "rgb(36,36,36)",
              "ticks": "outside"
             }
            },
            "type": "scattermapbox"
           }
          ],
          "scatterpolar": [
           {
            "marker": {
             "colorbar": {
              "outlinewidth": 1,
              "tickcolor": "rgb(36,36,36)",
              "ticks": "outside"
             }
            },
            "type": "scatterpolar"
           }
          ],
          "scatterpolargl": [
           {
            "marker": {
             "colorbar": {
              "outlinewidth": 1,
              "tickcolor": "rgb(36,36,36)",
              "ticks": "outside"
             }
            },
            "type": "scatterpolargl"
           }
          ],
          "scatterternary": [
           {
            "marker": {
             "colorbar": {
              "outlinewidth": 1,
              "tickcolor": "rgb(36,36,36)",
              "ticks": "outside"
             }
            },
            "type": "scatterternary"
           }
          ],
          "surface": [
           {
            "colorbar": {
             "outlinewidth": 1,
             "tickcolor": "rgb(36,36,36)",
             "ticks": "outside"
            },
            "colorscale": [
             [
              0,
              "#440154"
             ],
             [
              0.1111111111111111,
              "#482878"
             ],
             [
              0.2222222222222222,
              "#3e4989"
             ],
             [
              0.3333333333333333,
              "#31688e"
             ],
             [
              0.4444444444444444,
              "#26828e"
             ],
             [
              0.5555555555555556,
              "#1f9e89"
             ],
             [
              0.6666666666666666,
              "#35b779"
             ],
             [
              0.7777777777777778,
              "#6ece58"
             ],
             [
              0.8888888888888888,
              "#b5de2b"
             ],
             [
              1,
              "#fde725"
             ]
            ],
            "type": "surface"
           }
          ],
          "table": [
           {
            "cells": {
             "fill": {
              "color": "rgb(237,237,237)"
             },
             "line": {
              "color": "white"
             }
            },
            "header": {
             "fill": {
              "color": "rgb(217,217,217)"
             },
             "line": {
              "color": "white"
             }
            },
            "type": "table"
           }
          ]
         },
         "layout": {
          "annotationdefaults": {
           "arrowhead": 0,
           "arrowwidth": 1
          },
          "coloraxis": {
           "colorbar": {
            "outlinewidth": 1,
            "tickcolor": "rgb(36,36,36)",
            "ticks": "outside"
           }
          },
          "colorscale": {
           "diverging": [
            [
             0,
             "rgb(103,0,31)"
            ],
            [
             0.1,
             "rgb(178,24,43)"
            ],
            [
             0.2,
             "rgb(214,96,77)"
            ],
            [
             0.3,
             "rgb(244,165,130)"
            ],
            [
             0.4,
             "rgb(253,219,199)"
            ],
            [
             0.5,
             "rgb(247,247,247)"
            ],
            [
             0.6,
             "rgb(209,229,240)"
            ],
            [
             0.7,
             "rgb(146,197,222)"
            ],
            [
             0.8,
             "rgb(67,147,195)"
            ],
            [
             0.9,
             "rgb(33,102,172)"
            ],
            [
             1,
             "rgb(5,48,97)"
            ]
           ],
           "sequential": [
            [
             0,
             "#440154"
            ],
            [
             0.1111111111111111,
             "#482878"
            ],
            [
             0.2222222222222222,
             "#3e4989"
            ],
            [
             0.3333333333333333,
             "#31688e"
            ],
            [
             0.4444444444444444,
             "#26828e"
            ],
            [
             0.5555555555555556,
             "#1f9e89"
            ],
            [
             0.6666666666666666,
             "#35b779"
            ],
            [
             0.7777777777777778,
             "#6ece58"
            ],
            [
             0.8888888888888888,
             "#b5de2b"
            ],
            [
             1,
             "#fde725"
            ]
           ],
           "sequentialminus": [
            [
             0,
             "#440154"
            ],
            [
             0.1111111111111111,
             "#482878"
            ],
            [
             0.2222222222222222,
             "#3e4989"
            ],
            [
             0.3333333333333333,
             "#31688e"
            ],
            [
             0.4444444444444444,
             "#26828e"
            ],
            [
             0.5555555555555556,
             "#1f9e89"
            ],
            [
             0.6666666666666666,
             "#35b779"
            ],
            [
             0.7777777777777778,
             "#6ece58"
            ],
            [
             0.8888888888888888,
             "#b5de2b"
            ],
            [
             1,
             "#fde725"
            ]
           ]
          },
          "colorway": [
           "#1F77B4",
           "#FF7F0E",
           "#2CA02C",
           "#D62728",
           "#9467BD",
           "#8C564B",
           "#E377C2",
           "#7F7F7F",
           "#BCBD22",
           "#17BECF"
          ],
          "font": {
           "color": "rgb(36,36,36)"
          },
          "geo": {
           "bgcolor": "white",
           "lakecolor": "white",
           "landcolor": "white",
           "showlakes": true,
           "showland": true,
           "subunitcolor": "white"
          },
          "hoverlabel": {
           "align": "left"
          },
          "hovermode": "closest",
          "mapbox": {
           "style": "light"
          },
          "paper_bgcolor": "white",
          "plot_bgcolor": "white",
          "polar": {
           "angularaxis": {
            "gridcolor": "rgb(232,232,232)",
            "linecolor": "rgb(36,36,36)",
            "showgrid": false,
            "showline": true,
            "ticks": "outside"
           },
           "bgcolor": "white",
           "radialaxis": {
            "gridcolor": "rgb(232,232,232)",
            "linecolor": "rgb(36,36,36)",
            "showgrid": false,
            "showline": true,
            "ticks": "outside"
           }
          },
          "scene": {
           "xaxis": {
            "backgroundcolor": "white",
            "gridcolor": "rgb(232,232,232)",
            "gridwidth": 2,
            "linecolor": "rgb(36,36,36)",
            "showbackground": true,
            "showgrid": false,
            "showline": true,
            "ticks": "outside",
            "zeroline": false,
            "zerolinecolor": "rgb(36,36,36)"
           },
           "yaxis": {
            "backgroundcolor": "white",
            "gridcolor": "rgb(232,232,232)",
            "gridwidth": 2,
            "linecolor": "rgb(36,36,36)",
            "showbackground": true,
            "showgrid": false,
            "showline": true,
            "ticks": "outside",
            "zeroline": false,
            "zerolinecolor": "rgb(36,36,36)"
           },
           "zaxis": {
            "backgroundcolor": "white",
            "gridcolor": "rgb(232,232,232)",
            "gridwidth": 2,
            "linecolor": "rgb(36,36,36)",
            "showbackground": true,
            "showgrid": false,
            "showline": true,
            "ticks": "outside",
            "zeroline": false,
            "zerolinecolor": "rgb(36,36,36)"
           }
          },
          "shapedefaults": {
           "fillcolor": "black",
           "line": {
            "width": 0
           },
           "opacity": 0.3
          },
          "ternary": {
           "aaxis": {
            "gridcolor": "rgb(232,232,232)",
            "linecolor": "rgb(36,36,36)",
            "showgrid": false,
            "showline": true,
            "ticks": "outside"
           },
           "baxis": {
            "gridcolor": "rgb(232,232,232)",
            "linecolor": "rgb(36,36,36)",
            "showgrid": false,
            "showline": true,
            "ticks": "outside"
           },
           "bgcolor": "white",
           "caxis": {
            "gridcolor": "rgb(232,232,232)",
            "linecolor": "rgb(36,36,36)",
            "showgrid": false,
            "showline": true,
            "ticks": "outside"
           }
          },
          "title": {
           "x": 0.05
          },
          "xaxis": {
           "automargin": true,
           "gridcolor": "rgb(232,232,232)",
           "linecolor": "rgb(36,36,36)",
           "showgrid": false,
           "showline": true,
           "ticks": "outside",
           "title": {
            "standoff": 15
           },
           "zeroline": false,
           "zerolinecolor": "rgb(36,36,36)"
          },
          "yaxis": {
           "automargin": true,
           "gridcolor": "rgb(232,232,232)",
           "linecolor": "rgb(36,36,36)",
           "showgrid": false,
           "showline": true,
           "ticks": "outside",
           "title": {
            "standoff": 15
           },
           "zeroline": false,
           "zerolinecolor": "rgb(36,36,36)"
          }
         }
        },
        "title": {
         "text": "HousePressure g-pump-4 for all weeks "
        },
        "xaxis": {
         "anchor": "y",
         "domain": [
          0,
          1
         ],
         "title": {
          "text": "week"
         },
         "type": "category"
        },
        "yaxis": {
         "anchor": "x",
         "domain": [
          0,
          1
         ],
         "title": {
          "text": "feature_value"
         }
        }
       }
      },
      "text/html": [
       "<div>\n",
       "        \n",
       "        \n",
       "            <div id=\"60556e70-29ab-48ae-8841-c55228c8cd63\" class=\"plotly-graph-div\" style=\"height:525px; width:100%;\"></div>\n",
       "            <script type=\"text/javascript\">\n",
       "                require([\"plotly\"], function(Plotly) {\n",
       "                    window.PLOTLYENV=window.PLOTLYENV || {};\n",
       "                    \n",
       "                if (document.getElementById(\"60556e70-29ab-48ae-8841-c55228c8cd63\")) {\n",
       "                    Plotly.newPlot(\n",
       "                        '60556e70-29ab-48ae-8841-c55228c8cd63',\n",
       "                        [{\"alignmentgroup\": \"True\", \"hoverlabel\": {\"namelength\": 0}, \"hovertemplate\": \"week=%{x}<br>feature_value=%{y}\", \"legendgroup\": \"\", \"marker\": {\"color\": \"#1F77B4\"}, \"name\": \"\", \"notched\": false, \"offsetgroup\": \"\", \"orientation\": \"v\", \"showlegend\": false, \"type\": \"box\", \"x\": [47, 47, 47, 47, 47, 47, 47, 47, 47, 47, 47, 47, 47, 47, 47, 47, 47, 47, 47, 47, 47, 47, 47, 47, 47, 47, 47, 47, 47, 47, 47, 47, 47, 47, 47, 47, 47, 47, 47, 47, 47, 47, 47, 47, 47, 47, 47, 47, 47, 47, 47, 47, 47, 47, 47, 47, 47, 47, 47, 47, 47, 47, 47, 47, 47, 47, 47, 47, 47, 47, 47, 47, 47, 47, 47, 47, 47, 47, 47, 47, 47, 47, 47, 47, 47, 47, 47, 47, 47, 47, 47, 47, 47, 47, 47, 47, 47, 47, 47, 47, 47, 47, 47, 47, 47, 47, 47, 47, 48, 48, 48, 48, 48, 48, 48, 48, 48, 48, 48, 48, 48, 48, 48, 48, 48, 48, 48, 48, 48, 48, 48, 48, 48, 48, 48, 48, 48, 48, 48, 48, 48, 48, 48, 48, 48, 48, 48, 48, 48, 48, 48, 48, 48, 48, 48, 48, 48, 48, 48, 48, 48, 48, 48, 48, 48, 48, 48, 48, 48, 48, 48, 48, 48, 48, 48, 48, 48, 48, 48, 48, 48, 48, 48, 48, 48, 48, 48, 48, 48, 48, 48, 48, 48, 48, 48, 48, 48, 48, 48, 48, 48, 48, 48, 48, 48, 48, 48, 48, 48, 48, 48, 48, 48, 48, 48, 48, 48, 48, 48, 48, 48, 48, 48, 48, 48, 48, 48, 48, 48, 48, 48, 48, 48, 48, 48, 48, 48, 48, 48, 48, 48, 48, 48, 48, 48, 48, 48, 48, 48, 48, 48, 48, 48, 48, 48, 48, 48, 48, 48, 48, 48, 48, 48, 48, 48, 48, 48, 48, 48, 48, 48, 48, 48, 48, 49, 49, 49, 49, 49, 49, 49, 49, 49, 49, 49, 49, 49, 49, 49, 49, 49, 49, 49, 49, 49, 49, 49, 49, 49, 49, 49, 49, 49, 50, 50, 50, 50, 50, 50, 50, 50, 50, 50, 50, 50, 50, 50, 50, 50, 50, 50, 50, 50, 50, 50, 50, 50, 50, 50, 50, 50, 50, 50, 50, 50, 50, 50, 50, 50, 50, 50, 50, 50, 50, 51, 51, 51, 51, 51, 51, 51, 51, 51, 51, 51, 51, 51, 51, 51, 51, 51, 51, 51, 51, 51, 51, 51, 51, 51, 51, 51, 51, 51, 51, 51, 51, 51, 51, 51, 51, 51, 51, 51, 51, 51, 51, 51, 51, 51, 51, 51, 51, 51, 51, 51, 51, 51, 51, 51, 51, 51, 51, 51, 51, 51, 51, 51, 51, 51, 51, 51, 51, 51, 51, 51, 51, 51, 51, 51, 51, 51, 51, 51, 51, 51, 51, 51, 51, 51, 51, 51, 51, 51, 51, 51, 51, 51, 51, 51, 51, 51, 51, 51, 51, 51, 51, 51, 51, 51, 51, 51, 51, 51, 51, 51, 51, 51, 51, 51, 51, 51, 51, 51, 51, 51, 51, 51, 51, 51, 51, 51, 51, 51, 51, 51, 51, 51, 51, 51, 51, 51, 51, 51, 51, 51, 51, 51, 51, 51, 51, 51, 52, 52, 52, 52, 52, 52, 52, 52, 52, 52, 52, 52, 52, 52, 52, 52, 52, 52, 52, 52, 52, 52, 52, 52, 52, 52, 52, 52, 52, 52, 52, 52, 52, 52, 52, 52, 52, 52, 52, 52, 52, 52, 52, 52, 52, 52, 52, 52, 52, 52, 52, 52, 52, 52, 52, 52, 52, 52, 52, 52, 52, 52, 52, 52, 52, 52, 52, 52, 52, 52, 52, 52, 52, 52, 52, 52, 52, 52, 52, 52, 52, 52, 52, 52, 52, 52, 52, 52, 52, 52, 52, 52, 52, 52, 52, 52, 52, 52, 52, 52, 52, 52, 52, 52, 52, 52, 52, 52, 52, 52, 52, 52, 52, 52, 52, 52, 52, 52, 52, 52, 52, 52, 52, 52, 52, 52, 52, 52, 52, 52, 52, 52, 52, 52, 52, 52, 52, 52, 52, 52, 52, 52, 52, 52, 52, 52, 52, 52, 52, 52, 52, 52, 52, 52, 52, 52, 52, 52, 52, 52, 52, 52, 52, 52, 52, 52, 1, 1, 1, 1, 1, 1, 1, 1, 1, 1, 1, 1, 1, 1, 1, 1, 1, 1, 1, 1, 1, 1, 1, 1, 1, 1, 1, 1, 1, 1, 1, 1, 1, 1, 1, 1, 1, 1, 1, 1, 1, 1, 1, 1, 1, 1, 1, 1, 1, 1, 1, 1, 1, 1, 1, 1, 1, 1, 1, 1, 1, 1, 1, 1, 1, 1, 1, 1, 1, 1, 1, 1, 1, 1, 1, 1, 1, 1, 1, 1, 1, 1, 1, 1, 1, 1, 1, 1, 1, 1, 1, 1, 1, 1, 1, 1, 1, 1, 1, 1, 1, 1, 1, 1, 1, 1, 1, 1, 1, 1, 1, 1, 1, 1, 1, 1, 1, 1, 1, 1, 1, 1, 1, 1, 1, 1, 1, 1, 1, 1, 1, 1, 1, 1, 1, 1, 1, 1, 1, 1, 1, 1, 1, 1, 1, 1, 1, 1, 1, 1, 1, 1, 1, 1, 1, 1, 1, 1, 1, 1, 1, 1, 1, 1, 1, 1, 1, 1, 2, 2, 2, 2, 2, 2, 2, 2, 2, 2, 2, 2, 2, 2, 2, 2, 2], \"x0\": \" \", \"xaxis\": \"x\", \"y\": [3.0444712487622954, 3.17002442002442, 3.05304231655487, 3.083038681997016, 3.119340150590151, 3.105095136345136, 3.120612026862027, 3.0994988807488806, 3.0812474562474557, 3.058989621489621, 3.0829008954008965, 3.1001637251637253, 3.086525742775741, 3.084109177859179, 3.0837276149776134, 3.069673382173382, 3.08646214896215, 3.1036960724460734, 3.09333028083028, 3.052757427757427, 3.045253357753358, 3.077749796499796, 3.0690374440374435, 3.078322140822141, 3.0596891534391517, 3.0699913512413524, 3.0829008954008956, 3.090150590150588, 3.059180402930402, 3.067701973951974, 3.0635683760683747, 3.0699277574277577, 3.0497049247049257, 3.0564458689458687, 3.0398478835978846, 3.058926027676028, 3.0762235449735456, 3.0740613553113554, 3.0830280830280845, 3.085381054131055, 3.0677019739519733, 3.079466829466831, 3.0909137159137168, 3.1077024827024826, 3.0939026251526247, 3.077940577940579, 3.1034416971916965, 3.0708816646316657, 3.1040776353276365, 3.092249185999186, 3.0785765160765166, 3.0909137159137146, 3.0829644892144894, 3.0858898046398036, 3.098036223036221, 3.0725351037851047, 3.1045227920227934, 3.086271367521368, 3.0652854090354094, 3.0645222832722836, 3.0830280830280823, 3.062232905982905, 3.0884335571835564, 3.1107549857549848, 3.104840761090762, 3.09250356125356, 3.090086996336995, 3.0804843304843303, 3.079085266585267, 3.0631232193732187, 3.07533323158323, 3.0856990231990236, 3.061533374033372, 3.066175722425721, 3.0694190069190093, 3.077368233618232, 3.0979090354090366, 3.102424196174196, 3.0866529304029307, 3.0972095034595015, 3.053011803011803, 3.0793396418396415, 3.1035052910052916, 3.0893238705738697, 3.072407916157916, 3.0878612128612115, 3.1185770248270246, 3.078640109890109, 3.082900895400897, 3.0876068376068386, 3.0635047822547814, 3.0805479242979246, 3.10884717134717, 3.075778388278387, 3.0825193325193325, 3.0695461945461946, 3.0979090354090353, 3.0709452584452577, 3.078322140822141, 3.0820105820105828, 3.0564458689458687, 3.085190272690271, 3.082455738705738, 3.0673840048840053, 3.0469067969067964, 3.0772410459910446, 3.0876704314204315, 3.0699913512413524, 3.076541514041514, 3.0916768416768416, 3.086843711843711, 3.0787037037037037, 3.0847451159951174, 3.0812474562474566, 3.0828373015873023, 3.0895782458282466, 3.0776862026862033, 3.0432819495319507, 3.1117088929588923, 3.115397334147333, 3.1096738909238897, 3.043281949531949, 3.0935846560846563, 3.087797619047619, 3.0787672975172975, 3.108719983719983, 3.0903413715913715, 3.100389194139192, 3.09848137973138, 3.0718991656491657, 3.06897385022385, 3.073552604802605, 3.075587606837606, 3.0831552706552716, 3.075142450142449, 3.075969169719171, 3.089133089133092, 3.0809294871794872, 3.088433557183558, 3.0949837199837194, 3.0610882173382166, 3.1244912494912516, 3.120039682539684, 3.1397537647537654, 3.132949226699226, 3.134920634920635, 3.1811533374033374, 3.130405474155475, 3.141280016280016, 3.143187830687832, 3.1370192307692313, 3.141280016280016, 3.113235144485143, 3.134793447293448, 3.086334961334961, 3.0991173178673184, 3.082455738705741, 3.0812474562474566, 3.076859483109484, 3.133267195767194, 3.0940934065934056, 3.067701973951973, 3.08862433862434, 3.04576210826211, 3.0777497964997966, 3.0626144688644703, 3.0905321530321537, 3.081120268620268, 3.0901505901505906, 3.0803571428571423, 3.058480870980871, 3.1033145095645103, 3.1006435693935672, 3.101724664224665, 3.089578245828246, 3.0923763736263727, 3.067574786324787, 3.0514219576719586, 3.0670660358160355, 3.0693554131054115, 3.0954924704924713, 3.056255087505088, 3.0788944851444846, 3.0619785307285308, 3.0519943019943, 3.043281949531949, 3.0536477411477425, 3.0797847985347993, 3.091676841676843, 3.1058582621082618, 3.0881791819291817, 3.0960012210012207, 3.094220594220594, 3.1156517094017104, 3.121820309320308, 3.1257631257631266, 3.1236645299145294, 3.1306598494098474, 3.1483389295889306, 3.110437016687016, 3.0528210215710225, 3.091804029304029, 3.091104497354498, 3.0486874236874253, 3.049577737077737, 3.0893874643874635, 3.1059854497354507, 3.0971459096459086, 3.056382275132276, 3.0729166666666665, 3.0592439967439966, 3.0867165242165258, 3.0909137159137168, 3.09364824989825, 3.10897435897436, 3.0421372608872606, 3.0456349206349227, 3.094538563288564, 3.0583536833536837, 3.081374643874644, 3.080675111925112, 3.0863985551485555, 3.0613425925925934, 3.0872888685388684, 3.1032509157509156, 3.0926307488807487, 3.102233414733416, 3.0526302401302385, 3.0720899470899483, 3.071326821326821, 3.0676383801383795, 3.0775590150590157, 3.0918676231176225, 3.05695461945462, 3.081120268620268, 3.0750152625152616, 3.0655397842897845, 3.043091168091168, 3.0701185388685377, 3.081501831501832, 3.101851851851851, 3.090451215451216, 3.0935846560846563, 3.0592439967439966, 3.091740435490435, 3.1169235856735855, 3.0695461945461937, 3.08429995929996, 3.094538563288564, 3.063886345136344, 3.0680708180708196, 3.10115231990232, 3.0746972934472936, 3.0958104395604416, 3.0683379120879137, 3.0982905982905984, 3.0591804029304037, 3.0996896621896615, 3.0719627594627585, 3.1113273300773305, 3.0493233618233604, 3.065921347171347, 3.0858898046398053, 3.0517399267399266, 3.084999491249492, 3.0521850834350843, 3.0708816646316652, 3.1007707570207574, 3.071708384208385, 3.066811660561663, 3.1322496947496945, 3.0946021571021567, 3.0836004273504263, 3.0825829263329267, 3.1042048229548236, 3.058926027676027, 3.1037596662596667, 3.073616198616197, 3.0668116605616604, 3.0841091778591783, 3.0841727716727725, 3.1089107651607653, 3.0807387057387063, 3.070818070818072, 3.0617241554741557, 3.0982270044770046, 3.09549247049247, 3.059307590557591, 3.1394357956857952, 3.091422466422465, 3.1185134310134344, 3.064395095645096, 3.096891534391535, 3.0463344525844516, 3.097209503459504, 3.0823285510785516, 3.120421245421245, 3.087543243793244, 3.0776862026862015, 3.096764346764347, 3.070245726495727, 3.065857753357754, 3.178037240537243, 3.183760683760685, 3.213331807081806, 3.1564789377289393, 3.20671805046805, 3.216384310134311, 3.217465404965404, 3.2044922669922653, 3.188339438339439, 3.2034111721611715, 3.15387159137159, 3.1636650386650396, 3.1930453805453802, 3.19953194953195, 3.186134852801521, 3.2210266585266574, 3.202202889702889, 3.1840786528286524, 3.2047466422466435, 3.1932997557997553, 3.2159391534391535, 3.171741452991453, 3.2371158933658926, 3.184968966218966, 3.1726953601953594, 3.1913283475783483, 3.1537444037444033, 3.172250203500202, 3.1976877289377286, 3.2077355514855523, 3.161057692307693, 3.145922364672366, 3.14083485958486, 3.2084350834350848, 3.1525361212861203, 3.2342541717541717, 3.213840557590558, 3.1991503866503876, 3.202330077330078, 3.2167022792022806, 3.1935541310541313, 3.262934981684983, 3.210851648351649, 3.2147308709808695, 3.213268213268213, 3.176320207570208, 3.2308836996336985, 3.215557590557589, 3.1425518925518916, 3.148529711029711, 3.124554843304843, 3.135620166870167, 3.148911273911276, 3.1705331705331723, 3.1252543752543747, 3.1345390720390705, 3.1445868945868956, 3.1328220390720394, 3.117623117623117, 3.1642373829873836, 3.201376170126172, 3.141534391534392, 3.1684981684981692, 3.1307234432234434, 3.1328856328856323, 3.1281796906796906, 3.1251907814407818, 3.1336487586487607, 3.1071937321937306, 3.1269078144078155, 3.1198489010989, 3.1166692104192113, 3.1290700040700035, 3.1517729955229954, 3.1381639194139197, 3.120929995929996, 3.087924806674806, 3.1153973341473353, 3.1058582621082604, 3.1236009361009374, 3.1400717338217343, 3.1498651811151817, 3.1195309320309312, 3.089578245828246, 3.168816137566136, 3.1711691086691087, 3.1194037444037424, 3.096255596255595, 3.2546041921041926, 3.234826516076517, 3.1404532967032974, 3.1805173992674, 3.2261777574277573, 3.2213446275946276, 3.1656364468864466, 3.2391508954008947, 3.2201999389499396, 3.2012489824989827, 3.210279304029303, 3.1651276963776973, 3.2252874440374444, 3.156860500610502, 3.221980565730568, 3.166526760276758, 3.213967745217745, 3.141025641025639, 3.2423305860805876, 3.241313085063084, 3.2189916564916565, 3.236161986161987, 3.2689763939763936, 3.2415038665038676, 3.2147308709808704, 3.11317155067155, 3.1524089336589345, 3.143823768823769, 3.1511370573870576, 3.15800518925519, 3.122265466015465, 3.0943477818477807, 3.128688441188442, 3.1412164224664245, 3.1559065934065935, 3.14000814000814, 3.1244912494912502, 3.1277981277981275, 3.110309829059828, 3.130341880341879, 3.1335215710215714, 3.135302197802197, 3.1400081400081397, 3.124872812372813, 3.0862713675213675, 3.139054232804232, 3.1337123524623522, 3.14852971102971, 3.141534391534393, 3.0944113756613754, 3.138927045177045, 3.117114367114368, 3.155143467643468, 3.1452864265364266, 3.1653184778184777, 3.165445665445665, 3.116478428978429, 3.1403897028897045, 3.1295787545787537, 3.1396901709401717, 3.1281160968660964, 3.1651912901912893, 3.11234483109483, 3.1306598494098505, 3.1430606430606427, 3.1578780016280015, 3.0930759055759065, 3.1141254578754567, 3.1387998575498592, 3.1234101546601547, 3.1698972323972328, 3.1185770248270255, 3.1493564306064297, 3.124618437118438, 3.1739672364672367, 3.149865181115182, 3.136892043142043, 3.1127263939763945, 3.0993716931216935, 3.118259055759055, 3.1303418803418808, 3.110564204314203, 3.1239189051689045, 3.1365740740740744, 3.170151607651608, 3.0944113756613736, 3.1477665852665826, 3.113680301180302, 3.14515923890924, 3.113934676434677, 3.1325040700040723, 3.155016280016279, 3.137655168905169, 3.147003459503461, 3.142424704924704, 3.1220110907610916, 3.1112637362637354, 3.1204212454212445, 3.1337123524623536, 3.1511370573870576, 3.1321225071225065, 3.144714082214083, 3.161121286121285, 3.1128535816035794, 3.11565170940171, 3.1005163817663806, 3.078894485144485, 3.110246235246235, 3.1493564306064292, 3.110882173382173, 3.1658272283272297, 3.1621387871387867, 3.0815654253154263, 3.16735347985348, 3.1403261090761085, 3.1626475376475374, 3.1386726699226686, 3.1712327024827034, 3.1477665852665857, 3.1629019129019134, 3.1567333129833126, 3.1208028083028085, 3.1061762311762315, 3.145222832722833, 3.0956196581196593, 3.180580993080994, 3.1101190476190492, 3.1204212454212445, 3.140771265771267, 3.130596255596256, 3.1512006512006514, 3.1592134717134717, 3.1546983109483127, 3.116033272283271, 3.1101826414326417, 3.125, 3.141915954415954, 3.1369556369556375, 3.1232829670329654, 3.1414707977207974, 3.1459223646723653, 3.144586894586896, 3.1522817460317465, 3.1125992063492056, 3.1276073463573457, 3.1177503052503046, 3.1347298534798544, 3.1395629833129832, 3.131232193732193, 3.1644281644281644, 3.127861721611721, 3.146685490435491, 3.174539580789581, 3.151137057387057, 3.172758954008954, 3.1636014448514445, 3.12550875050875, 3.1686889499389497, 3.162011599511601, 3.1525361212861207, 3.0945385632885642, 3.1191493691493686, 3.141280016280016, 3.149038461538462, 3.1502467439967443, 3.1694520757020754, 3.1205484330484325, 3.1674806674806675, 3.1484025234025235, 3.148847680097681, 3.1168599918599913, 3.076096357346357, 3.128370472120473, 3.1587047212047206, 3.1538715913715905, 3.1396265771265774, 3.134984228734229, 3.1566697191697206, 3.110691391941392, 3.1018518518518525, 3.1178774928774935, 3.170660358160358, 3.1684345746845737, 3.114252645502646, 3.157051282051281, 3.1716778591778616, 3.0925035612535616, 3.1176867114367113, 3.12449124949125, 3.1681801994302004, 3.159976597476597, 3.1494836182336186, 3.1505011192511208, 3.1712327024827016, 3.1514550264550265, 3.190628815628816, 3.135747354497354, 3.139944546194545, 3.1931725681725687, 3.1679894179894172, 3.155906593406593, 3.1541259666259656, 3.1381003256003264, 3.120866402116402, 3.114697802197803, 3.161566442816444, 3.139054232804234, 3.174730362230362, 3.1894205331705323, 3.1198489010988992, 3.137909544159544, 3.28360297110297, 3.157432844932846, 3.1180682743182735, 3.145222832722832, 3.1625839438339445, 3.1257631257631258, 3.142615486365486, 3.120802808302809, 3.1842058404558404, 3.131613756613756, 3.172250203500204, 3.157687220187221, 3.174412393162394, 3.1658908221408217, 3.141343610093609, 3.1216295278795285, 3.131422975172976, 3.1609305046805054, 3.150310337810337, 3.1514550264550274, 3.1842058404558404, 3.141788766788766, 3.150246743996744, 3.163092694342694, 3.195016788766791, 3.1497379934879945, 3.174921143671144, 3.155779405779406, 3.2041107041107058, 3.124872812372814, 3.1634106634106627, 3.1333307895807905, 3.1672898860398857, 3.1873219373219386, 3.116732804232805, 3.14217032967033, 3.143569393569393, 3.164300976800975, 3.1276073463573453, 3.1484025234025252, 3.131804538054538, 3.144332519332517, 3.1496743996744008, 3.184968966218966, 3.1297695360195363, 3.149610805860807, 3.195970695970697, 3.136065323565324, 3.1851597476597475, 3.1427426739926747, 3.121565934065936, 3.1202304639804628, 3.1525361212861207, 3.1408348595848588, 3.1010887260887263, 3.1403261090761094, 3.143760175010174, 3.1673534798534795, 3.1817892755392756, 3.1577508140008153, 3.1615664428164423, 3.139880952380953, 3.1005163817663806, 3.161057692307691, 3.1005799755799757, 3.146812678062678, 3.1442053317053325, 3.1555886243386233, 3.2091346153846154, 3.202648046398045, 3.1814713064713067, 3.2161935286935286, 3.1794998982498988, 3.22388838013838, 3.1964794464794473, 3.1660816035816044, 3.1353021978021967, 3.1339667277167265, 3.1335851648351665, 3.141025641025641, 3.1520273707773705, 3.127925315425316, 3.142679080179081, 3.143823768823769, 3.1450320512820507, 3.1414707977207983, 3.122329059829062, 3.168307387057387, 3.1399445461945468, 3.1392450142450143, 3.1609305046805045, 3.1450956450956444, 3.186685999186, 3.195779914529913, 3.140262515262515, 3.1547619047619033, 3.1622659747659743, 3.146621896621898, 3.1538079975579962, 3.1920278795278794, 3.1737128612128616, 3.165827228327227, 3.2212174399674414, 3.1603581603581627, 3.1942536630036638, 3.18802146927147, 3.1759386446886446, 3.1429334554334556, 3.1765745828245824, 3.1772741147741157, 3.150183150183149, 3.1269714082214084, 3.1661451973951973, 3.122392653642654, 3.130596255596256, 3.1616936304436307, 3.162202380952381, 3.1077660765160746, 3.120039682539682, 3.1615028490028485, 3.1680530118030124, 3.1857320919820915, 3.116796398046399, 3.1660180097680097, 3.1665267602767595, 3.118195461945461, 3.1470034595034595, 3.113553113553113, 3.1362561050061033, 3.1854141229141213, 3.1722502035002034, 3.1255087505087507, 3.1146978021978016, 3.1534264346764345, 3.159658628408629, 3.149865181115181, 3.145540801790801, 3.1276709401709404, 3.175684269434269, 3.1745395807895807, 3.1812805250305263, 3.153299247049246, 3.1856049043549066, 3.147448616198615, 3.2213446275946285, 3.185223341473341, 3.1609940984940987, 3.152726902726903, 3.1898656898656896, 3.1877670940170955, 3.2137769637769646, 3.162011599511598, 3.184778184778184, 3.1538715913715922, 3.1683073870573892, 3.150310337810337, 3.168625356125356, 3.199913512413513, 3.1479573667073653, 3.19170991045991, 3.171423483923484, 3.169388481888481, 3.1620751933251925, 3.1324404761904776, 3.1928545991045993, 3.169642857142858, 3.185286935286935, 3.179372710622712, 3.1512642450142443, 3.185096153846155, 3.161566442816443, 3.1499923687423688, 3.2022028897028902, 3.1328856328856336, 3.146240333740334, 3.1653184778184786, 3.1892297517297528, 3.161757224257224, 3.1781008343508343, 3.157878001628003, 3.170596764346765, 3.197051790801791, 3.1637286324786325, 3.178100834350833, 3.182234432234431, 3.169770044770045, 3.1713598901098883, 3.153553622303621, 3.162965506715507, 3.177592083842084, 3.166145197395197, 3.150691900691902, 3.119721713471714, 3.187067562067563, 3.1833155270655276, 3.188085063085063, 3.1204212454212463, 3.200931013431014, 3.191455535205535, 3.1966066341066344, 3.1882758445258452, 3.128243284493285, 3.163219881969883, 3.2095161782661807, 3.161566442816443, 3.1658908221408217, 3.166908323158322, 3.220963064713066, 3.1862408424908417, 3.12283781033781, 3.1697700447700456, 3.161312067562068, 3.1668447293447297, 3.179054741554742, 3.1550798738298718, 3.1466854904354897, 3.1643009768009787, 3.2081807081807088, 3.166971916971917, 3.1846509971509973, 3.169134106634106, 3.1690069190069203, 3.171423483923484, 3.1573692511192504, 3.219373219373219, 3.1853505291005297, 3.166590354090354, 3.143569393569394, 3.141852360602362, 3.1629019129019125, 3.213649776149776, 3.1842058404558404, 3.1824252136752142, 3.1966066341066353, 3.2126958689458713, 3.1953983516483504, 3.168879731379731, 3.180771774521776, 3.198896011396012, 3.1308506308506305, 3.0907865282865283], \"y0\": \" \", \"yaxis\": \"y\"}],\n",
       "                        {\"boxmode\": \"group\", \"legend\": {\"tracegroupgap\": 0}, \"template\": {\"data\": {\"bar\": [{\"error_x\": {\"color\": \"rgb(36,36,36)\"}, \"error_y\": {\"color\": \"rgb(36,36,36)\"}, \"marker\": {\"line\": {\"color\": \"white\", \"width\": 0.5}}, \"type\": \"bar\"}], \"barpolar\": [{\"marker\": {\"line\": {\"color\": \"white\", \"width\": 0.5}}, \"type\": \"barpolar\"}], \"carpet\": [{\"aaxis\": {\"endlinecolor\": \"rgb(36,36,36)\", \"gridcolor\": \"white\", \"linecolor\": \"white\", \"minorgridcolor\": \"white\", \"startlinecolor\": \"rgb(36,36,36)\"}, \"baxis\": {\"endlinecolor\": \"rgb(36,36,36)\", \"gridcolor\": \"white\", \"linecolor\": \"white\", \"minorgridcolor\": \"white\", \"startlinecolor\": \"rgb(36,36,36)\"}, \"type\": \"carpet\"}], \"choropleth\": [{\"colorbar\": {\"outlinewidth\": 1, \"tickcolor\": \"rgb(36,36,36)\", \"ticks\": \"outside\"}, \"type\": \"choropleth\"}], \"contour\": [{\"colorbar\": {\"outlinewidth\": 1, \"tickcolor\": \"rgb(36,36,36)\", \"ticks\": \"outside\"}, \"colorscale\": [[0.0, \"#440154\"], [0.1111111111111111, \"#482878\"], [0.2222222222222222, \"#3e4989\"], [0.3333333333333333, \"#31688e\"], [0.4444444444444444, \"#26828e\"], [0.5555555555555556, \"#1f9e89\"], [0.6666666666666666, \"#35b779\"], [0.7777777777777778, \"#6ece58\"], [0.8888888888888888, \"#b5de2b\"], [1.0, \"#fde725\"]], \"type\": \"contour\"}], \"contourcarpet\": [{\"colorbar\": {\"outlinewidth\": 1, \"tickcolor\": \"rgb(36,36,36)\", \"ticks\": \"outside\"}, \"type\": \"contourcarpet\"}], \"heatmap\": [{\"colorbar\": {\"outlinewidth\": 1, \"tickcolor\": \"rgb(36,36,36)\", \"ticks\": \"outside\"}, \"colorscale\": [[0.0, \"#440154\"], [0.1111111111111111, \"#482878\"], [0.2222222222222222, \"#3e4989\"], [0.3333333333333333, \"#31688e\"], [0.4444444444444444, \"#26828e\"], [0.5555555555555556, \"#1f9e89\"], [0.6666666666666666, \"#35b779\"], [0.7777777777777778, \"#6ece58\"], [0.8888888888888888, \"#b5de2b\"], [1.0, \"#fde725\"]], \"type\": \"heatmap\"}], \"heatmapgl\": [{\"colorbar\": {\"outlinewidth\": 1, \"tickcolor\": \"rgb(36,36,36)\", \"ticks\": \"outside\"}, \"colorscale\": [[0.0, \"#440154\"], [0.1111111111111111, \"#482878\"], [0.2222222222222222, \"#3e4989\"], [0.3333333333333333, \"#31688e\"], [0.4444444444444444, \"#26828e\"], [0.5555555555555556, \"#1f9e89\"], [0.6666666666666666, \"#35b779\"], [0.7777777777777778, \"#6ece58\"], [0.8888888888888888, \"#b5de2b\"], [1.0, \"#fde725\"]], \"type\": \"heatmapgl\"}], \"histogram\": [{\"marker\": {\"line\": {\"color\": \"white\", \"width\": 0.6}}, \"type\": \"histogram\"}], \"histogram2d\": [{\"colorbar\": {\"outlinewidth\": 1, \"tickcolor\": \"rgb(36,36,36)\", \"ticks\": \"outside\"}, \"colorscale\": [[0.0, \"#440154\"], [0.1111111111111111, \"#482878\"], [0.2222222222222222, \"#3e4989\"], [0.3333333333333333, \"#31688e\"], [0.4444444444444444, \"#26828e\"], [0.5555555555555556, \"#1f9e89\"], [0.6666666666666666, \"#35b779\"], [0.7777777777777778, \"#6ece58\"], [0.8888888888888888, \"#b5de2b\"], [1.0, \"#fde725\"]], \"type\": \"histogram2d\"}], \"histogram2dcontour\": [{\"colorbar\": {\"outlinewidth\": 1, \"tickcolor\": \"rgb(36,36,36)\", \"ticks\": \"outside\"}, \"colorscale\": [[0.0, \"#440154\"], [0.1111111111111111, \"#482878\"], [0.2222222222222222, \"#3e4989\"], [0.3333333333333333, \"#31688e\"], [0.4444444444444444, \"#26828e\"], [0.5555555555555556, \"#1f9e89\"], [0.6666666666666666, \"#35b779\"], [0.7777777777777778, \"#6ece58\"], [0.8888888888888888, \"#b5de2b\"], [1.0, \"#fde725\"]], \"type\": \"histogram2dcontour\"}], \"mesh3d\": [{\"colorbar\": {\"outlinewidth\": 1, \"tickcolor\": \"rgb(36,36,36)\", \"ticks\": \"outside\"}, \"type\": \"mesh3d\"}], \"parcoords\": [{\"line\": {\"colorbar\": {\"outlinewidth\": 1, \"tickcolor\": \"rgb(36,36,36)\", \"ticks\": \"outside\"}}, \"type\": \"parcoords\"}], \"pie\": [{\"automargin\": true, \"type\": \"pie\"}], \"scatter\": [{\"marker\": {\"colorbar\": {\"outlinewidth\": 1, \"tickcolor\": \"rgb(36,36,36)\", \"ticks\": \"outside\"}}, \"type\": \"scatter\"}], \"scatter3d\": [{\"line\": {\"colorbar\": {\"outlinewidth\": 1, \"tickcolor\": \"rgb(36,36,36)\", \"ticks\": \"outside\"}}, \"marker\": {\"colorbar\": {\"outlinewidth\": 1, \"tickcolor\": \"rgb(36,36,36)\", \"ticks\": \"outside\"}}, \"type\": \"scatter3d\"}], \"scattercarpet\": [{\"marker\": {\"colorbar\": {\"outlinewidth\": 1, \"tickcolor\": \"rgb(36,36,36)\", \"ticks\": \"outside\"}}, \"type\": \"scattercarpet\"}], \"scattergeo\": [{\"marker\": {\"colorbar\": {\"outlinewidth\": 1, \"tickcolor\": \"rgb(36,36,36)\", \"ticks\": \"outside\"}}, \"type\": \"scattergeo\"}], \"scattergl\": [{\"marker\": {\"colorbar\": {\"outlinewidth\": 1, \"tickcolor\": \"rgb(36,36,36)\", \"ticks\": \"outside\"}}, \"type\": \"scattergl\"}], \"scattermapbox\": [{\"marker\": {\"colorbar\": {\"outlinewidth\": 1, \"tickcolor\": \"rgb(36,36,36)\", \"ticks\": \"outside\"}}, \"type\": \"scattermapbox\"}], \"scatterpolar\": [{\"marker\": {\"colorbar\": {\"outlinewidth\": 1, \"tickcolor\": \"rgb(36,36,36)\", \"ticks\": \"outside\"}}, \"type\": \"scatterpolar\"}], \"scatterpolargl\": [{\"marker\": {\"colorbar\": {\"outlinewidth\": 1, \"tickcolor\": \"rgb(36,36,36)\", \"ticks\": \"outside\"}}, \"type\": \"scatterpolargl\"}], \"scatterternary\": [{\"marker\": {\"colorbar\": {\"outlinewidth\": 1, \"tickcolor\": \"rgb(36,36,36)\", \"ticks\": \"outside\"}}, \"type\": \"scatterternary\"}], \"surface\": [{\"colorbar\": {\"outlinewidth\": 1, \"tickcolor\": \"rgb(36,36,36)\", \"ticks\": \"outside\"}, \"colorscale\": [[0.0, \"#440154\"], [0.1111111111111111, \"#482878\"], [0.2222222222222222, \"#3e4989\"], [0.3333333333333333, \"#31688e\"], [0.4444444444444444, \"#26828e\"], [0.5555555555555556, \"#1f9e89\"], [0.6666666666666666, \"#35b779\"], [0.7777777777777778, \"#6ece58\"], [0.8888888888888888, \"#b5de2b\"], [1.0, \"#fde725\"]], \"type\": \"surface\"}], \"table\": [{\"cells\": {\"fill\": {\"color\": \"rgb(237,237,237)\"}, \"line\": {\"color\": \"white\"}}, \"header\": {\"fill\": {\"color\": \"rgb(217,217,217)\"}, \"line\": {\"color\": \"white\"}}, \"type\": \"table\"}]}, \"layout\": {\"annotationdefaults\": {\"arrowhead\": 0, \"arrowwidth\": 1}, \"coloraxis\": {\"colorbar\": {\"outlinewidth\": 1, \"tickcolor\": \"rgb(36,36,36)\", \"ticks\": \"outside\"}}, \"colorscale\": {\"diverging\": [[0.0, \"rgb(103,0,31)\"], [0.1, \"rgb(178,24,43)\"], [0.2, \"rgb(214,96,77)\"], [0.3, \"rgb(244,165,130)\"], [0.4, \"rgb(253,219,199)\"], [0.5, \"rgb(247,247,247)\"], [0.6, \"rgb(209,229,240)\"], [0.7, \"rgb(146,197,222)\"], [0.8, \"rgb(67,147,195)\"], [0.9, \"rgb(33,102,172)\"], [1.0, \"rgb(5,48,97)\"]], \"sequential\": [[0.0, \"#440154\"], [0.1111111111111111, \"#482878\"], [0.2222222222222222, \"#3e4989\"], [0.3333333333333333, \"#31688e\"], [0.4444444444444444, \"#26828e\"], [0.5555555555555556, \"#1f9e89\"], [0.6666666666666666, \"#35b779\"], [0.7777777777777778, \"#6ece58\"], [0.8888888888888888, \"#b5de2b\"], [1.0, \"#fde725\"]], \"sequentialminus\": [[0.0, \"#440154\"], [0.1111111111111111, \"#482878\"], [0.2222222222222222, \"#3e4989\"], [0.3333333333333333, \"#31688e\"], [0.4444444444444444, \"#26828e\"], [0.5555555555555556, \"#1f9e89\"], [0.6666666666666666, \"#35b779\"], [0.7777777777777778, \"#6ece58\"], [0.8888888888888888, \"#b5de2b\"], [1.0, \"#fde725\"]]}, \"colorway\": [\"#1F77B4\", \"#FF7F0E\", \"#2CA02C\", \"#D62728\", \"#9467BD\", \"#8C564B\", \"#E377C2\", \"#7F7F7F\", \"#BCBD22\", \"#17BECF\"], \"font\": {\"color\": \"rgb(36,36,36)\"}, \"geo\": {\"bgcolor\": \"white\", \"lakecolor\": \"white\", \"landcolor\": \"white\", \"showlakes\": true, \"showland\": true, \"subunitcolor\": \"white\"}, \"hoverlabel\": {\"align\": \"left\"}, \"hovermode\": \"closest\", \"mapbox\": {\"style\": \"light\"}, \"paper_bgcolor\": \"white\", \"plot_bgcolor\": \"white\", \"polar\": {\"angularaxis\": {\"gridcolor\": \"rgb(232,232,232)\", \"linecolor\": \"rgb(36,36,36)\", \"showgrid\": false, \"showline\": true, \"ticks\": \"outside\"}, \"bgcolor\": \"white\", \"radialaxis\": {\"gridcolor\": \"rgb(232,232,232)\", \"linecolor\": \"rgb(36,36,36)\", \"showgrid\": false, \"showline\": true, \"ticks\": \"outside\"}}, \"scene\": {\"xaxis\": {\"backgroundcolor\": \"white\", \"gridcolor\": \"rgb(232,232,232)\", \"gridwidth\": 2, \"linecolor\": \"rgb(36,36,36)\", \"showbackground\": true, \"showgrid\": false, \"showline\": true, \"ticks\": \"outside\", \"zeroline\": false, \"zerolinecolor\": \"rgb(36,36,36)\"}, \"yaxis\": {\"backgroundcolor\": \"white\", \"gridcolor\": \"rgb(232,232,232)\", \"gridwidth\": 2, \"linecolor\": \"rgb(36,36,36)\", \"showbackground\": true, \"showgrid\": false, \"showline\": true, \"ticks\": \"outside\", \"zeroline\": false, \"zerolinecolor\": \"rgb(36,36,36)\"}, \"zaxis\": {\"backgroundcolor\": \"white\", \"gridcolor\": \"rgb(232,232,232)\", \"gridwidth\": 2, \"linecolor\": \"rgb(36,36,36)\", \"showbackground\": true, \"showgrid\": false, \"showline\": true, \"ticks\": \"outside\", \"zeroline\": false, \"zerolinecolor\": \"rgb(36,36,36)\"}}, \"shapedefaults\": {\"fillcolor\": \"black\", \"line\": {\"width\": 0}, \"opacity\": 0.3}, \"ternary\": {\"aaxis\": {\"gridcolor\": \"rgb(232,232,232)\", \"linecolor\": \"rgb(36,36,36)\", \"showgrid\": false, \"showline\": true, \"ticks\": \"outside\"}, \"baxis\": {\"gridcolor\": \"rgb(232,232,232)\", \"linecolor\": \"rgb(36,36,36)\", \"showgrid\": false, \"showline\": true, \"ticks\": \"outside\"}, \"bgcolor\": \"white\", \"caxis\": {\"gridcolor\": \"rgb(232,232,232)\", \"linecolor\": \"rgb(36,36,36)\", \"showgrid\": false, \"showline\": true, \"ticks\": \"outside\"}}, \"title\": {\"x\": 0.05}, \"xaxis\": {\"automargin\": true, \"gridcolor\": \"rgb(232,232,232)\", \"linecolor\": \"rgb(36,36,36)\", \"showgrid\": false, \"showline\": true, \"ticks\": \"outside\", \"title\": {\"standoff\": 15}, \"zeroline\": false, \"zerolinecolor\": \"rgb(36,36,36)\"}, \"yaxis\": {\"automargin\": true, \"gridcolor\": \"rgb(232,232,232)\", \"linecolor\": \"rgb(36,36,36)\", \"showgrid\": false, \"showline\": true, \"ticks\": \"outside\", \"title\": {\"standoff\": 15}, \"zeroline\": false, \"zerolinecolor\": \"rgb(36,36,36)\"}}}, \"title\": {\"text\": \"HousePressure g-pump-4 for all weeks \"}, \"xaxis\": {\"anchor\": \"y\", \"domain\": [0.0, 1.0], \"title\": {\"text\": \"week\"}, \"type\": \"category\"}, \"yaxis\": {\"anchor\": \"x\", \"domain\": [0.0, 1.0], \"title\": {\"text\": \"feature_value\"}}},\n",
       "                        {\"responsive\": true}\n",
       "                    ).then(function(){\n",
       "                            \n",
       "var gd = document.getElementById('60556e70-29ab-48ae-8841-c55228c8cd63');\n",
       "var x = new MutationObserver(function (mutations, observer) {{\n",
       "        var display = window.getComputedStyle(gd).display;\n",
       "        if (!display || display === 'none') {{\n",
       "            console.log([gd, 'removed!']);\n",
       "            Plotly.purge(gd);\n",
       "            observer.disconnect();\n",
       "        }}\n",
       "}});\n",
       "\n",
       "// Listen for the removal of the full notebook cells\n",
       "var notebookContainer = gd.closest('#notebook-container');\n",
       "if (notebookContainer) {{\n",
       "    x.observe(notebookContainer, {childList: true});\n",
       "}}\n",
       "\n",
       "// Listen for the clearing of the current output cell\n",
       "var outputEl = gd.closest('.output');\n",
       "if (outputEl) {{\n",
       "    x.observe(outputEl, {childList: true});\n",
       "}}\n",
       "\n",
       "                        })\n",
       "                };\n",
       "                });\n",
       "            </script>\n",
       "        </div>"
      ]
     },
     "metadata": {},
     "output_type": "display_data"
    }
   ],
   "source": [
    "show_baselining_plot_azure(df_data, duration = \"all\", asset_name= asset_name, variable_name= INLET_PRESSURE, plot_type = \"box\")\n",
    "\n",
    "show_baselining_plot_azure(df_data, duration = \"all\", asset_name= asset_name, variable_name= OUTLET_PRESSURE, plot_type = \"box\")\n",
    "\n",
    "show_baselining_plot_azure(df_data, duration = \"all\", asset_name= asset_name, variable_name= HOUSE_PRESSURE, plot_type = \"box\")"
   ]
  },
  {
   "cell_type": "markdown",
   "metadata": {},
   "source": [
    "*** \n",
    "*** "
   ]
  },
  {
   "cell_type": "markdown",
   "metadata": {},
   "source": [
    "*** "
   ]
  },
  {
   "cell_type": "markdown",
   "metadata": {},
   "source": [
    "*** \n",
    "*** "
   ]
  },
  {
   "cell_type": "markdown",
   "metadata": {},
   "source": [
    "# Baselining Week Inputs\n",
    "\n"
   ]
  },
  {
   "cell_type": "code",
   "execution_count": 17,
   "metadata": {},
   "outputs": [],
   "source": [
    "week_numbers_inletPressure = [] \n",
    "week_numbers_outletPressure = [48,49,50,52]\n",
    "week_numbers_housePressure = [51,52,1,2]"
   ]
  },
  {
   "cell_type": "markdown",
   "metadata": {},
   "source": [
    "***"
   ]
  },
  {
   "cell_type": "markdown",
   "metadata": {},
   "source": [
    "## Inlet Pressure"
   ]
  },
  {
   "cell_type": "code",
   "execution_count": 18,
   "metadata": {},
   "outputs": [
    {
     "name": "stdout",
     "output_type": "stream",
     "text": [
      "nan nan\n"
     ]
    },
    {
     "data": {
      "application/vnd.plotly.v1+json": {
       "config": {
        "plotlyServerURL": "https://plot.ly"
       },
       "data": [],
       "layout": {
        "boxmode": "group",
        "legend": {
         "tracegroupgap": 0
        },
        "template": {
         "data": {
          "bar": [
           {
            "error_x": {
             "color": "rgb(36,36,36)"
            },
            "error_y": {
             "color": "rgb(36,36,36)"
            },
            "marker": {
             "line": {
              "color": "white",
              "width": 0.5
             }
            },
            "type": "bar"
           }
          ],
          "barpolar": [
           {
            "marker": {
             "line": {
              "color": "white",
              "width": 0.5
             }
            },
            "type": "barpolar"
           }
          ],
          "carpet": [
           {
            "aaxis": {
             "endlinecolor": "rgb(36,36,36)",
             "gridcolor": "white",
             "linecolor": "white",
             "minorgridcolor": "white",
             "startlinecolor": "rgb(36,36,36)"
            },
            "baxis": {
             "endlinecolor": "rgb(36,36,36)",
             "gridcolor": "white",
             "linecolor": "white",
             "minorgridcolor": "white",
             "startlinecolor": "rgb(36,36,36)"
            },
            "type": "carpet"
           }
          ],
          "choropleth": [
           {
            "colorbar": {
             "outlinewidth": 1,
             "tickcolor": "rgb(36,36,36)",
             "ticks": "outside"
            },
            "type": "choropleth"
           }
          ],
          "contour": [
           {
            "colorbar": {
             "outlinewidth": 1,
             "tickcolor": "rgb(36,36,36)",
             "ticks": "outside"
            },
            "colorscale": [
             [
              0,
              "#440154"
             ],
             [
              0.1111111111111111,
              "#482878"
             ],
             [
              0.2222222222222222,
              "#3e4989"
             ],
             [
              0.3333333333333333,
              "#31688e"
             ],
             [
              0.4444444444444444,
              "#26828e"
             ],
             [
              0.5555555555555556,
              "#1f9e89"
             ],
             [
              0.6666666666666666,
              "#35b779"
             ],
             [
              0.7777777777777778,
              "#6ece58"
             ],
             [
              0.8888888888888888,
              "#b5de2b"
             ],
             [
              1,
              "#fde725"
             ]
            ],
            "type": "contour"
           }
          ],
          "contourcarpet": [
           {
            "colorbar": {
             "outlinewidth": 1,
             "tickcolor": "rgb(36,36,36)",
             "ticks": "outside"
            },
            "type": "contourcarpet"
           }
          ],
          "heatmap": [
           {
            "colorbar": {
             "outlinewidth": 1,
             "tickcolor": "rgb(36,36,36)",
             "ticks": "outside"
            },
            "colorscale": [
             [
              0,
              "#440154"
             ],
             [
              0.1111111111111111,
              "#482878"
             ],
             [
              0.2222222222222222,
              "#3e4989"
             ],
             [
              0.3333333333333333,
              "#31688e"
             ],
             [
              0.4444444444444444,
              "#26828e"
             ],
             [
              0.5555555555555556,
              "#1f9e89"
             ],
             [
              0.6666666666666666,
              "#35b779"
             ],
             [
              0.7777777777777778,
              "#6ece58"
             ],
             [
              0.8888888888888888,
              "#b5de2b"
             ],
             [
              1,
              "#fde725"
             ]
            ],
            "type": "heatmap"
           }
          ],
          "heatmapgl": [
           {
            "colorbar": {
             "outlinewidth": 1,
             "tickcolor": "rgb(36,36,36)",
             "ticks": "outside"
            },
            "colorscale": [
             [
              0,
              "#440154"
             ],
             [
              0.1111111111111111,
              "#482878"
             ],
             [
              0.2222222222222222,
              "#3e4989"
             ],
             [
              0.3333333333333333,
              "#31688e"
             ],
             [
              0.4444444444444444,
              "#26828e"
             ],
             [
              0.5555555555555556,
              "#1f9e89"
             ],
             [
              0.6666666666666666,
              "#35b779"
             ],
             [
              0.7777777777777778,
              "#6ece58"
             ],
             [
              0.8888888888888888,
              "#b5de2b"
             ],
             [
              1,
              "#fde725"
             ]
            ],
            "type": "heatmapgl"
           }
          ],
          "histogram": [
           {
            "marker": {
             "line": {
              "color": "white",
              "width": 0.6
             }
            },
            "type": "histogram"
           }
          ],
          "histogram2d": [
           {
            "colorbar": {
             "outlinewidth": 1,
             "tickcolor": "rgb(36,36,36)",
             "ticks": "outside"
            },
            "colorscale": [
             [
              0,
              "#440154"
             ],
             [
              0.1111111111111111,
              "#482878"
             ],
             [
              0.2222222222222222,
              "#3e4989"
             ],
             [
              0.3333333333333333,
              "#31688e"
             ],
             [
              0.4444444444444444,
              "#26828e"
             ],
             [
              0.5555555555555556,
              "#1f9e89"
             ],
             [
              0.6666666666666666,
              "#35b779"
             ],
             [
              0.7777777777777778,
              "#6ece58"
             ],
             [
              0.8888888888888888,
              "#b5de2b"
             ],
             [
              1,
              "#fde725"
             ]
            ],
            "type": "histogram2d"
           }
          ],
          "histogram2dcontour": [
           {
            "colorbar": {
             "outlinewidth": 1,
             "tickcolor": "rgb(36,36,36)",
             "ticks": "outside"
            },
            "colorscale": [
             [
              0,
              "#440154"
             ],
             [
              0.1111111111111111,
              "#482878"
             ],
             [
              0.2222222222222222,
              "#3e4989"
             ],
             [
              0.3333333333333333,
              "#31688e"
             ],
             [
              0.4444444444444444,
              "#26828e"
             ],
             [
              0.5555555555555556,
              "#1f9e89"
             ],
             [
              0.6666666666666666,
              "#35b779"
             ],
             [
              0.7777777777777778,
              "#6ece58"
             ],
             [
              0.8888888888888888,
              "#b5de2b"
             ],
             [
              1,
              "#fde725"
             ]
            ],
            "type": "histogram2dcontour"
           }
          ],
          "mesh3d": [
           {
            "colorbar": {
             "outlinewidth": 1,
             "tickcolor": "rgb(36,36,36)",
             "ticks": "outside"
            },
            "type": "mesh3d"
           }
          ],
          "parcoords": [
           {
            "line": {
             "colorbar": {
              "outlinewidth": 1,
              "tickcolor": "rgb(36,36,36)",
              "ticks": "outside"
             }
            },
            "type": "parcoords"
           }
          ],
          "pie": [
           {
            "automargin": true,
            "type": "pie"
           }
          ],
          "scatter": [
           {
            "marker": {
             "colorbar": {
              "outlinewidth": 1,
              "tickcolor": "rgb(36,36,36)",
              "ticks": "outside"
             }
            },
            "type": "scatter"
           }
          ],
          "scatter3d": [
           {
            "line": {
             "colorbar": {
              "outlinewidth": 1,
              "tickcolor": "rgb(36,36,36)",
              "ticks": "outside"
             }
            },
            "marker": {
             "colorbar": {
              "outlinewidth": 1,
              "tickcolor": "rgb(36,36,36)",
              "ticks": "outside"
             }
            },
            "type": "scatter3d"
           }
          ],
          "scattercarpet": [
           {
            "marker": {
             "colorbar": {
              "outlinewidth": 1,
              "tickcolor": "rgb(36,36,36)",
              "ticks": "outside"
             }
            },
            "type": "scattercarpet"
           }
          ],
          "scattergeo": [
           {
            "marker": {
             "colorbar": {
              "outlinewidth": 1,
              "tickcolor": "rgb(36,36,36)",
              "ticks": "outside"
             }
            },
            "type": "scattergeo"
           }
          ],
          "scattergl": [
           {
            "marker": {
             "colorbar": {
              "outlinewidth": 1,
              "tickcolor": "rgb(36,36,36)",
              "ticks": "outside"
             }
            },
            "type": "scattergl"
           }
          ],
          "scattermapbox": [
           {
            "marker": {
             "colorbar": {
              "outlinewidth": 1,
              "tickcolor": "rgb(36,36,36)",
              "ticks": "outside"
             }
            },
            "type": "scattermapbox"
           }
          ],
          "scatterpolar": [
           {
            "marker": {
             "colorbar": {
              "outlinewidth": 1,
              "tickcolor": "rgb(36,36,36)",
              "ticks": "outside"
             }
            },
            "type": "scatterpolar"
           }
          ],
          "scatterpolargl": [
           {
            "marker": {
             "colorbar": {
              "outlinewidth": 1,
              "tickcolor": "rgb(36,36,36)",
              "ticks": "outside"
             }
            },
            "type": "scatterpolargl"
           }
          ],
          "scatterternary": [
           {
            "marker": {
             "colorbar": {
              "outlinewidth": 1,
              "tickcolor": "rgb(36,36,36)",
              "ticks": "outside"
             }
            },
            "type": "scatterternary"
           }
          ],
          "surface": [
           {
            "colorbar": {
             "outlinewidth": 1,
             "tickcolor": "rgb(36,36,36)",
             "ticks": "outside"
            },
            "colorscale": [
             [
              0,
              "#440154"
             ],
             [
              0.1111111111111111,
              "#482878"
             ],
             [
              0.2222222222222222,
              "#3e4989"
             ],
             [
              0.3333333333333333,
              "#31688e"
             ],
             [
              0.4444444444444444,
              "#26828e"
             ],
             [
              0.5555555555555556,
              "#1f9e89"
             ],
             [
              0.6666666666666666,
              "#35b779"
             ],
             [
              0.7777777777777778,
              "#6ece58"
             ],
             [
              0.8888888888888888,
              "#b5de2b"
             ],
             [
              1,
              "#fde725"
             ]
            ],
            "type": "surface"
           }
          ],
          "table": [
           {
            "cells": {
             "fill": {
              "color": "rgb(237,237,237)"
             },
             "line": {
              "color": "white"
             }
            },
            "header": {
             "fill": {
              "color": "rgb(217,217,217)"
             },
             "line": {
              "color": "white"
             }
            },
            "type": "table"
           }
          ]
         },
         "layout": {
          "annotationdefaults": {
           "arrowhead": 0,
           "arrowwidth": 1
          },
          "coloraxis": {
           "colorbar": {
            "outlinewidth": 1,
            "tickcolor": "rgb(36,36,36)",
            "ticks": "outside"
           }
          },
          "colorscale": {
           "diverging": [
            [
             0,
             "rgb(103,0,31)"
            ],
            [
             0.1,
             "rgb(178,24,43)"
            ],
            [
             0.2,
             "rgb(214,96,77)"
            ],
            [
             0.3,
             "rgb(244,165,130)"
            ],
            [
             0.4,
             "rgb(253,219,199)"
            ],
            [
             0.5,
             "rgb(247,247,247)"
            ],
            [
             0.6,
             "rgb(209,229,240)"
            ],
            [
             0.7,
             "rgb(146,197,222)"
            ],
            [
             0.8,
             "rgb(67,147,195)"
            ],
            [
             0.9,
             "rgb(33,102,172)"
            ],
            [
             1,
             "rgb(5,48,97)"
            ]
           ],
           "sequential": [
            [
             0,
             "#440154"
            ],
            [
             0.1111111111111111,
             "#482878"
            ],
            [
             0.2222222222222222,
             "#3e4989"
            ],
            [
             0.3333333333333333,
             "#31688e"
            ],
            [
             0.4444444444444444,
             "#26828e"
            ],
            [
             0.5555555555555556,
             "#1f9e89"
            ],
            [
             0.6666666666666666,
             "#35b779"
            ],
            [
             0.7777777777777778,
             "#6ece58"
            ],
            [
             0.8888888888888888,
             "#b5de2b"
            ],
            [
             1,
             "#fde725"
            ]
           ],
           "sequentialminus": [
            [
             0,
             "#440154"
            ],
            [
             0.1111111111111111,
             "#482878"
            ],
            [
             0.2222222222222222,
             "#3e4989"
            ],
            [
             0.3333333333333333,
             "#31688e"
            ],
            [
             0.4444444444444444,
             "#26828e"
            ],
            [
             0.5555555555555556,
             "#1f9e89"
            ],
            [
             0.6666666666666666,
             "#35b779"
            ],
            [
             0.7777777777777778,
             "#6ece58"
            ],
            [
             0.8888888888888888,
             "#b5de2b"
            ],
            [
             1,
             "#fde725"
            ]
           ]
          },
          "colorway": [
           "#1F77B4",
           "#FF7F0E",
           "#2CA02C",
           "#D62728",
           "#9467BD",
           "#8C564B",
           "#E377C2",
           "#7F7F7F",
           "#BCBD22",
           "#17BECF"
          ],
          "font": {
           "color": "rgb(36,36,36)"
          },
          "geo": {
           "bgcolor": "white",
           "lakecolor": "white",
           "landcolor": "white",
           "showlakes": true,
           "showland": true,
           "subunitcolor": "white"
          },
          "hoverlabel": {
           "align": "left"
          },
          "hovermode": "closest",
          "mapbox": {
           "style": "light"
          },
          "paper_bgcolor": "white",
          "plot_bgcolor": "white",
          "polar": {
           "angularaxis": {
            "gridcolor": "rgb(232,232,232)",
            "linecolor": "rgb(36,36,36)",
            "showgrid": false,
            "showline": true,
            "ticks": "outside"
           },
           "bgcolor": "white",
           "radialaxis": {
            "gridcolor": "rgb(232,232,232)",
            "linecolor": "rgb(36,36,36)",
            "showgrid": false,
            "showline": true,
            "ticks": "outside"
           }
          },
          "scene": {
           "xaxis": {
            "backgroundcolor": "white",
            "gridcolor": "rgb(232,232,232)",
            "gridwidth": 2,
            "linecolor": "rgb(36,36,36)",
            "showbackground": true,
            "showgrid": false,
            "showline": true,
            "ticks": "outside",
            "zeroline": false,
            "zerolinecolor": "rgb(36,36,36)"
           },
           "yaxis": {
            "backgroundcolor": "white",
            "gridcolor": "rgb(232,232,232)",
            "gridwidth": 2,
            "linecolor": "rgb(36,36,36)",
            "showbackground": true,
            "showgrid": false,
            "showline": true,
            "ticks": "outside",
            "zeroline": false,
            "zerolinecolor": "rgb(36,36,36)"
           },
           "zaxis": {
            "backgroundcolor": "white",
            "gridcolor": "rgb(232,232,232)",
            "gridwidth": 2,
            "linecolor": "rgb(36,36,36)",
            "showbackground": true,
            "showgrid": false,
            "showline": true,
            "ticks": "outside",
            "zeroline": false,
            "zerolinecolor": "rgb(36,36,36)"
           }
          },
          "shapedefaults": {
           "fillcolor": "black",
           "line": {
            "width": 0
           },
           "opacity": 0.3
          },
          "ternary": {
           "aaxis": {
            "gridcolor": "rgb(232,232,232)",
            "linecolor": "rgb(36,36,36)",
            "showgrid": false,
            "showline": true,
            "ticks": "outside"
           },
           "baxis": {
            "gridcolor": "rgb(232,232,232)",
            "linecolor": "rgb(36,36,36)",
            "showgrid": false,
            "showline": true,
            "ticks": "outside"
           },
           "bgcolor": "white",
           "caxis": {
            "gridcolor": "rgb(232,232,232)",
            "linecolor": "rgb(36,36,36)",
            "showgrid": false,
            "showline": true,
            "ticks": "outside"
           }
          },
          "title": {
           "x": 0.05
          },
          "xaxis": {
           "automargin": true,
           "gridcolor": "rgb(232,232,232)",
           "linecolor": "rgb(36,36,36)",
           "showgrid": false,
           "showline": true,
           "ticks": "outside",
           "title": {
            "standoff": 15
           },
           "zeroline": false,
           "zerolinecolor": "rgb(36,36,36)"
          },
          "yaxis": {
           "automargin": true,
           "gridcolor": "rgb(232,232,232)",
           "linecolor": "rgb(36,36,36)",
           "showgrid": false,
           "showline": true,
           "ticks": "outside",
           "title": {
            "standoff": 15
           },
           "zeroline": false,
           "zerolinecolor": "rgb(36,36,36)"
          }
         }
        },
        "title": {
         "text": "InletPressure g-pump-4 for  weeks "
        },
        "xaxis": {
         "anchor": "y",
         "domain": [
          0,
          1
         ],
         "title": {
          "text": "week"
         },
         "type": "category"
        },
        "yaxis": {
         "anchor": "x",
         "domain": [
          0,
          1
         ],
         "title": {
          "text": "feature_value"
         }
        }
       }
      },
      "text/html": [
       "<div>\n",
       "        \n",
       "        \n",
       "            <div id=\"4b56c049-4d88-4715-a107-3e6cb2333387\" class=\"plotly-graph-div\" style=\"height:525px; width:100%;\"></div>\n",
       "            <script type=\"text/javascript\">\n",
       "                require([\"plotly\"], function(Plotly) {\n",
       "                    window.PLOTLYENV=window.PLOTLYENV || {};\n",
       "                    \n",
       "                if (document.getElementById(\"4b56c049-4d88-4715-a107-3e6cb2333387\")) {\n",
       "                    Plotly.newPlot(\n",
       "                        '4b56c049-4d88-4715-a107-3e6cb2333387',\n",
       "                        [],\n",
       "                        {\"boxmode\": \"group\", \"legend\": {\"tracegroupgap\": 0}, \"template\": {\"data\": {\"bar\": [{\"error_x\": {\"color\": \"rgb(36,36,36)\"}, \"error_y\": {\"color\": \"rgb(36,36,36)\"}, \"marker\": {\"line\": {\"color\": \"white\", \"width\": 0.5}}, \"type\": \"bar\"}], \"barpolar\": [{\"marker\": {\"line\": {\"color\": \"white\", \"width\": 0.5}}, \"type\": \"barpolar\"}], \"carpet\": [{\"aaxis\": {\"endlinecolor\": \"rgb(36,36,36)\", \"gridcolor\": \"white\", \"linecolor\": \"white\", \"minorgridcolor\": \"white\", \"startlinecolor\": \"rgb(36,36,36)\"}, \"baxis\": {\"endlinecolor\": \"rgb(36,36,36)\", \"gridcolor\": \"white\", \"linecolor\": \"white\", \"minorgridcolor\": \"white\", \"startlinecolor\": \"rgb(36,36,36)\"}, \"type\": \"carpet\"}], \"choropleth\": [{\"colorbar\": {\"outlinewidth\": 1, \"tickcolor\": \"rgb(36,36,36)\", \"ticks\": \"outside\"}, \"type\": \"choropleth\"}], \"contour\": [{\"colorbar\": {\"outlinewidth\": 1, \"tickcolor\": \"rgb(36,36,36)\", \"ticks\": \"outside\"}, \"colorscale\": [[0.0, \"#440154\"], [0.1111111111111111, \"#482878\"], [0.2222222222222222, \"#3e4989\"], [0.3333333333333333, \"#31688e\"], [0.4444444444444444, \"#26828e\"], [0.5555555555555556, \"#1f9e89\"], [0.6666666666666666, \"#35b779\"], [0.7777777777777778, \"#6ece58\"], [0.8888888888888888, \"#b5de2b\"], [1.0, \"#fde725\"]], \"type\": \"contour\"}], \"contourcarpet\": [{\"colorbar\": {\"outlinewidth\": 1, \"tickcolor\": \"rgb(36,36,36)\", \"ticks\": \"outside\"}, \"type\": \"contourcarpet\"}], \"heatmap\": [{\"colorbar\": {\"outlinewidth\": 1, \"tickcolor\": \"rgb(36,36,36)\", \"ticks\": \"outside\"}, \"colorscale\": [[0.0, \"#440154\"], [0.1111111111111111, \"#482878\"], [0.2222222222222222, \"#3e4989\"], [0.3333333333333333, \"#31688e\"], [0.4444444444444444, \"#26828e\"], [0.5555555555555556, \"#1f9e89\"], [0.6666666666666666, \"#35b779\"], [0.7777777777777778, \"#6ece58\"], [0.8888888888888888, \"#b5de2b\"], [1.0, \"#fde725\"]], \"type\": \"heatmap\"}], \"heatmapgl\": [{\"colorbar\": {\"outlinewidth\": 1, \"tickcolor\": \"rgb(36,36,36)\", \"ticks\": \"outside\"}, \"colorscale\": [[0.0, \"#440154\"], [0.1111111111111111, \"#482878\"], [0.2222222222222222, \"#3e4989\"], [0.3333333333333333, \"#31688e\"], [0.4444444444444444, \"#26828e\"], [0.5555555555555556, \"#1f9e89\"], [0.6666666666666666, \"#35b779\"], [0.7777777777777778, \"#6ece58\"], [0.8888888888888888, \"#b5de2b\"], [1.0, \"#fde725\"]], \"type\": \"heatmapgl\"}], \"histogram\": [{\"marker\": {\"line\": {\"color\": \"white\", \"width\": 0.6}}, \"type\": \"histogram\"}], \"histogram2d\": [{\"colorbar\": {\"outlinewidth\": 1, \"tickcolor\": \"rgb(36,36,36)\", \"ticks\": \"outside\"}, \"colorscale\": [[0.0, \"#440154\"], [0.1111111111111111, \"#482878\"], [0.2222222222222222, \"#3e4989\"], [0.3333333333333333, \"#31688e\"], [0.4444444444444444, \"#26828e\"], [0.5555555555555556, \"#1f9e89\"], [0.6666666666666666, \"#35b779\"], [0.7777777777777778, \"#6ece58\"], [0.8888888888888888, \"#b5de2b\"], [1.0, \"#fde725\"]], \"type\": \"histogram2d\"}], \"histogram2dcontour\": [{\"colorbar\": {\"outlinewidth\": 1, \"tickcolor\": \"rgb(36,36,36)\", \"ticks\": \"outside\"}, \"colorscale\": [[0.0, \"#440154\"], [0.1111111111111111, \"#482878\"], [0.2222222222222222, \"#3e4989\"], [0.3333333333333333, \"#31688e\"], [0.4444444444444444, \"#26828e\"], [0.5555555555555556, \"#1f9e89\"], [0.6666666666666666, \"#35b779\"], [0.7777777777777778, \"#6ece58\"], [0.8888888888888888, \"#b5de2b\"], [1.0, \"#fde725\"]], \"type\": \"histogram2dcontour\"}], \"mesh3d\": [{\"colorbar\": {\"outlinewidth\": 1, \"tickcolor\": \"rgb(36,36,36)\", \"ticks\": \"outside\"}, \"type\": \"mesh3d\"}], \"parcoords\": [{\"line\": {\"colorbar\": {\"outlinewidth\": 1, \"tickcolor\": \"rgb(36,36,36)\", \"ticks\": \"outside\"}}, \"type\": \"parcoords\"}], \"pie\": [{\"automargin\": true, \"type\": \"pie\"}], \"scatter\": [{\"marker\": {\"colorbar\": {\"outlinewidth\": 1, \"tickcolor\": \"rgb(36,36,36)\", \"ticks\": \"outside\"}}, \"type\": \"scatter\"}], \"scatter3d\": [{\"line\": {\"colorbar\": {\"outlinewidth\": 1, \"tickcolor\": \"rgb(36,36,36)\", \"ticks\": \"outside\"}}, \"marker\": {\"colorbar\": {\"outlinewidth\": 1, \"tickcolor\": \"rgb(36,36,36)\", \"ticks\": \"outside\"}}, \"type\": \"scatter3d\"}], \"scattercarpet\": [{\"marker\": {\"colorbar\": {\"outlinewidth\": 1, \"tickcolor\": \"rgb(36,36,36)\", \"ticks\": \"outside\"}}, \"type\": \"scattercarpet\"}], \"scattergeo\": [{\"marker\": {\"colorbar\": {\"outlinewidth\": 1, \"tickcolor\": \"rgb(36,36,36)\", \"ticks\": \"outside\"}}, \"type\": \"scattergeo\"}], \"scattergl\": [{\"marker\": {\"colorbar\": {\"outlinewidth\": 1, \"tickcolor\": \"rgb(36,36,36)\", \"ticks\": \"outside\"}}, \"type\": \"scattergl\"}], \"scattermapbox\": [{\"marker\": {\"colorbar\": {\"outlinewidth\": 1, \"tickcolor\": \"rgb(36,36,36)\", \"ticks\": \"outside\"}}, \"type\": \"scattermapbox\"}], \"scatterpolar\": [{\"marker\": {\"colorbar\": {\"outlinewidth\": 1, \"tickcolor\": \"rgb(36,36,36)\", \"ticks\": \"outside\"}}, \"type\": \"scatterpolar\"}], \"scatterpolargl\": [{\"marker\": {\"colorbar\": {\"outlinewidth\": 1, \"tickcolor\": \"rgb(36,36,36)\", \"ticks\": \"outside\"}}, \"type\": \"scatterpolargl\"}], \"scatterternary\": [{\"marker\": {\"colorbar\": {\"outlinewidth\": 1, \"tickcolor\": \"rgb(36,36,36)\", \"ticks\": \"outside\"}}, \"type\": \"scatterternary\"}], \"surface\": [{\"colorbar\": {\"outlinewidth\": 1, \"tickcolor\": \"rgb(36,36,36)\", \"ticks\": \"outside\"}, \"colorscale\": [[0.0, \"#440154\"], [0.1111111111111111, \"#482878\"], [0.2222222222222222, \"#3e4989\"], [0.3333333333333333, \"#31688e\"], [0.4444444444444444, \"#26828e\"], [0.5555555555555556, \"#1f9e89\"], [0.6666666666666666, \"#35b779\"], [0.7777777777777778, \"#6ece58\"], [0.8888888888888888, \"#b5de2b\"], [1.0, \"#fde725\"]], \"type\": \"surface\"}], \"table\": [{\"cells\": {\"fill\": {\"color\": \"rgb(237,237,237)\"}, \"line\": {\"color\": \"white\"}}, \"header\": {\"fill\": {\"color\": \"rgb(217,217,217)\"}, \"line\": {\"color\": \"white\"}}, \"type\": \"table\"}]}, \"layout\": {\"annotationdefaults\": {\"arrowhead\": 0, \"arrowwidth\": 1}, \"coloraxis\": {\"colorbar\": {\"outlinewidth\": 1, \"tickcolor\": \"rgb(36,36,36)\", \"ticks\": \"outside\"}}, \"colorscale\": {\"diverging\": [[0.0, \"rgb(103,0,31)\"], [0.1, \"rgb(178,24,43)\"], [0.2, \"rgb(214,96,77)\"], [0.3, \"rgb(244,165,130)\"], [0.4, \"rgb(253,219,199)\"], [0.5, \"rgb(247,247,247)\"], [0.6, \"rgb(209,229,240)\"], [0.7, \"rgb(146,197,222)\"], [0.8, \"rgb(67,147,195)\"], [0.9, \"rgb(33,102,172)\"], [1.0, \"rgb(5,48,97)\"]], \"sequential\": [[0.0, \"#440154\"], [0.1111111111111111, \"#482878\"], [0.2222222222222222, \"#3e4989\"], [0.3333333333333333, \"#31688e\"], [0.4444444444444444, \"#26828e\"], [0.5555555555555556, \"#1f9e89\"], [0.6666666666666666, \"#35b779\"], [0.7777777777777778, \"#6ece58\"], [0.8888888888888888, \"#b5de2b\"], [1.0, \"#fde725\"]], \"sequentialminus\": [[0.0, \"#440154\"], [0.1111111111111111, \"#482878\"], [0.2222222222222222, \"#3e4989\"], [0.3333333333333333, \"#31688e\"], [0.4444444444444444, \"#26828e\"], [0.5555555555555556, \"#1f9e89\"], [0.6666666666666666, \"#35b779\"], [0.7777777777777778, \"#6ece58\"], [0.8888888888888888, \"#b5de2b\"], [1.0, \"#fde725\"]]}, \"colorway\": [\"#1F77B4\", \"#FF7F0E\", \"#2CA02C\", \"#D62728\", \"#9467BD\", \"#8C564B\", \"#E377C2\", \"#7F7F7F\", \"#BCBD22\", \"#17BECF\"], \"font\": {\"color\": \"rgb(36,36,36)\"}, \"geo\": {\"bgcolor\": \"white\", \"lakecolor\": \"white\", \"landcolor\": \"white\", \"showlakes\": true, \"showland\": true, \"subunitcolor\": \"white\"}, \"hoverlabel\": {\"align\": \"left\"}, \"hovermode\": \"closest\", \"mapbox\": {\"style\": \"light\"}, \"paper_bgcolor\": \"white\", \"plot_bgcolor\": \"white\", \"polar\": {\"angularaxis\": {\"gridcolor\": \"rgb(232,232,232)\", \"linecolor\": \"rgb(36,36,36)\", \"showgrid\": false, \"showline\": true, \"ticks\": \"outside\"}, \"bgcolor\": \"white\", \"radialaxis\": {\"gridcolor\": \"rgb(232,232,232)\", \"linecolor\": \"rgb(36,36,36)\", \"showgrid\": false, \"showline\": true, \"ticks\": \"outside\"}}, \"scene\": {\"xaxis\": {\"backgroundcolor\": \"white\", \"gridcolor\": \"rgb(232,232,232)\", \"gridwidth\": 2, \"linecolor\": \"rgb(36,36,36)\", \"showbackground\": true, \"showgrid\": false, \"showline\": true, \"ticks\": \"outside\", \"zeroline\": false, \"zerolinecolor\": \"rgb(36,36,36)\"}, \"yaxis\": {\"backgroundcolor\": \"white\", \"gridcolor\": \"rgb(232,232,232)\", \"gridwidth\": 2, \"linecolor\": \"rgb(36,36,36)\", \"showbackground\": true, \"showgrid\": false, \"showline\": true, \"ticks\": \"outside\", \"zeroline\": false, \"zerolinecolor\": \"rgb(36,36,36)\"}, \"zaxis\": {\"backgroundcolor\": \"white\", \"gridcolor\": \"rgb(232,232,232)\", \"gridwidth\": 2, \"linecolor\": \"rgb(36,36,36)\", \"showbackground\": true, \"showgrid\": false, \"showline\": true, \"ticks\": \"outside\", \"zeroline\": false, \"zerolinecolor\": \"rgb(36,36,36)\"}}, \"shapedefaults\": {\"fillcolor\": \"black\", \"line\": {\"width\": 0}, \"opacity\": 0.3}, \"ternary\": {\"aaxis\": {\"gridcolor\": \"rgb(232,232,232)\", \"linecolor\": \"rgb(36,36,36)\", \"showgrid\": false, \"showline\": true, \"ticks\": \"outside\"}, \"baxis\": {\"gridcolor\": \"rgb(232,232,232)\", \"linecolor\": \"rgb(36,36,36)\", \"showgrid\": false, \"showline\": true, \"ticks\": \"outside\"}, \"bgcolor\": \"white\", \"caxis\": {\"gridcolor\": \"rgb(232,232,232)\", \"linecolor\": \"rgb(36,36,36)\", \"showgrid\": false, \"showline\": true, \"ticks\": \"outside\"}}, \"title\": {\"x\": 0.05}, \"xaxis\": {\"automargin\": true, \"gridcolor\": \"rgb(232,232,232)\", \"linecolor\": \"rgb(36,36,36)\", \"showgrid\": false, \"showline\": true, \"ticks\": \"outside\", \"title\": {\"standoff\": 15}, \"zeroline\": false, \"zerolinecolor\": \"rgb(36,36,36)\"}, \"yaxis\": {\"automargin\": true, \"gridcolor\": \"rgb(232,232,232)\", \"linecolor\": \"rgb(36,36,36)\", \"showgrid\": false, \"showline\": true, \"ticks\": \"outside\", \"title\": {\"standoff\": 15}, \"zeroline\": false, \"zerolinecolor\": \"rgb(36,36,36)\"}}}, \"title\": {\"text\": \"InletPressure g-pump-4 for  weeks \"}, \"xaxis\": {\"anchor\": \"y\", \"domain\": [0.0, 1.0], \"title\": {\"text\": \"week\"}, \"type\": \"category\"}, \"yaxis\": {\"anchor\": \"x\", \"domain\": [0.0, 1.0], \"title\": {\"text\": \"feature_value\"}}},\n",
       "                        {\"responsive\": true}\n",
       "                    ).then(function(){\n",
       "                            \n",
       "var gd = document.getElementById('4b56c049-4d88-4715-a107-3e6cb2333387');\n",
       "var x = new MutationObserver(function (mutations, observer) {{\n",
       "        var display = window.getComputedStyle(gd).display;\n",
       "        if (!display || display === 'none') {{\n",
       "            console.log([gd, 'removed!']);\n",
       "            Plotly.purge(gd);\n",
       "            observer.disconnect();\n",
       "        }}\n",
       "}});\n",
       "\n",
       "// Listen for the removal of the full notebook cells\n",
       "var notebookContainer = gd.closest('#notebook-container');\n",
       "if (notebookContainer) {{\n",
       "    x.observe(notebookContainer, {childList: true});\n",
       "}}\n",
       "\n",
       "// Listen for the clearing of the current output cell\n",
       "var outputEl = gd.closest('.output');\n",
       "if (outputEl) {{\n",
       "    x.observe(outputEl, {childList: true});\n",
       "}}\n",
       "\n",
       "                        })\n",
       "                };\n",
       "                });\n",
       "            </script>\n",
       "        </div>"
      ]
     },
     "metadata": {},
     "output_type": "display_data"
    }
   ],
   "source": [
    "%%skip $skip_baseline_save\n",
    "week_numbers = week_numbers_inletPressure # Week numbers as List \n",
    "\n",
    "mu_inletpressure, sigma_inletpressure = get_baselining_variables_azure(df_data, variable_name = INLET_PRESSURE,\n",
    "                                                                       asset_id = asset_id,\n",
    "                                                                       lst_filter_values = week_numbers, \n",
    "                                                                       filter_column_name = \"week\",\n",
    "                                                                       select_column_name= 'feature_value',\n",
    "                                                                       filter_metric = \"AvgValue\")\n",
    "print(mu_inletpressure, sigma_inletpressure)\n",
    "\n",
    "show_baselining_plot_azure(df_data, duration = week_numbers, asset_name= asset_name, variable_name= INLET_PRESSURE,\n",
    "                           plot_type = \"box\")"
   ]
  },
  {
   "cell_type": "markdown",
   "metadata": {},
   "source": [
    "## Outlet Pressure"
   ]
  },
  {
   "cell_type": "code",
   "execution_count": 19,
   "metadata": {},
   "outputs": [
    {
     "name": "stdout",
     "output_type": "stream",
     "text": [
      "57.59266678537518 0.2560543388428312\n"
     ]
    },
    {
     "data": {
      "application/vnd.plotly.v1+json": {
       "config": {
        "plotlyServerURL": "https://plot.ly"
       },
       "data": [
        {
         "alignmentgroup": "True",
         "hoverlabel": {
          "namelength": 0
         },
         "hovertemplate": "week=%{x}<br>feature_value=%{y}",
         "legendgroup": "",
         "marker": {
          "color": "#1F77B4"
         },
         "name": "",
         "notched": false,
         "offsetgroup": "",
         "orientation": "v",
         "showlegend": false,
         "type": "box",
         "x": [
          48,
          48,
          48,
          48,
          48,
          48,
          48,
          48,
          48,
          48,
          48,
          48,
          48,
          48,
          48,
          48,
          48,
          48,
          48,
          48,
          48,
          48,
          48,
          48,
          48,
          48,
          48,
          48,
          48,
          48,
          48,
          48,
          48,
          48,
          48,
          48,
          48,
          48,
          48,
          48,
          48,
          48,
          48,
          48,
          48,
          48,
          48,
          48,
          48,
          48,
          48,
          48,
          48,
          48,
          48,
          48,
          48,
          48,
          48,
          48,
          48,
          48,
          48,
          48,
          48,
          48,
          48,
          48,
          48,
          48,
          48,
          48,
          48,
          48,
          48,
          48,
          48,
          48,
          48,
          48,
          48,
          48,
          48,
          48,
          48,
          48,
          48,
          48,
          48,
          48,
          48,
          48,
          48,
          48,
          48,
          48,
          48,
          48,
          48,
          48,
          48,
          48,
          48,
          48,
          48,
          48,
          48,
          48,
          48,
          48,
          48,
          48,
          48,
          48,
          48,
          48,
          48,
          48,
          48,
          48,
          48,
          48,
          48,
          48,
          48,
          48,
          48,
          48,
          48,
          48,
          48,
          48,
          48,
          48,
          48,
          48,
          48,
          48,
          48,
          48,
          48,
          48,
          48,
          48,
          48,
          48,
          48,
          48,
          48,
          48,
          48,
          48,
          48,
          48,
          48,
          48,
          48,
          48,
          48,
          48,
          48,
          48,
          48,
          48,
          48,
          48,
          49,
          49,
          49,
          49,
          49,
          49,
          49,
          49,
          49,
          49,
          49,
          49,
          49,
          49,
          49,
          49,
          49,
          49,
          49,
          49,
          49,
          49,
          49,
          49,
          49,
          49,
          49,
          49,
          50,
          50,
          50,
          50,
          50,
          50,
          50,
          50,
          50,
          50,
          50,
          50,
          50,
          50,
          50,
          50,
          50,
          50,
          50,
          50,
          50,
          50,
          50,
          50,
          50,
          50,
          50,
          50,
          50,
          50,
          50,
          50,
          50,
          50,
          50,
          50,
          50,
          50,
          50,
          50,
          50,
          50,
          50,
          50,
          50,
          50,
          50,
          50,
          50,
          50,
          50,
          50,
          50,
          50,
          50,
          50,
          50,
          50,
          50,
          50,
          50,
          50,
          50,
          50,
          50,
          50,
          50,
          50,
          50,
          50,
          50,
          50,
          52,
          52,
          52,
          52,
          52,
          52,
          52,
          52,
          52,
          52,
          52,
          52,
          52,
          52,
          52,
          52,
          52,
          52,
          52,
          52,
          52,
          52,
          52,
          52,
          52,
          52,
          52,
          52,
          52,
          52,
          52,
          52,
          52,
          52,
          52,
          52,
          52,
          52,
          52,
          52,
          52,
          52,
          52,
          52,
          52,
          52,
          52,
          52,
          52,
          52,
          52,
          52,
          52,
          52,
          52,
          52,
          52,
          52,
          52,
          52,
          52,
          52,
          52,
          52,
          52,
          52,
          52,
          52,
          52,
          52,
          52,
          52,
          52,
          52,
          52,
          52,
          52,
          52,
          52,
          52,
          52,
          52,
          52,
          52,
          52,
          52,
          52,
          52,
          52,
          52,
          52,
          52,
          52,
          52,
          52,
          52,
          52,
          52,
          52,
          52,
          52,
          52,
          52,
          52,
          52,
          52,
          52,
          52,
          52,
          52,
          52,
          52,
          52,
          52,
          52,
          52,
          52,
          52,
          52,
          52,
          52,
          52,
          52,
          52,
          52,
          52,
          52,
          52,
          52,
          52,
          52,
          52,
          52,
          52,
          52,
          52,
          52,
          52,
          52,
          52,
          52,
          52,
          52,
          52,
          52,
          52,
          52,
          52,
          52,
          52,
          52,
          52,
          52,
          52,
          52,
          52,
          52,
          52,
          52,
          52,
          52,
          52,
          52,
          52,
          52,
          52,
          52,
          52
         ],
         "x0": " ",
         "xaxis": "x",
         "y": [
          57.32219169719172,
          57.45065120065121,
          57.3635276760277,
          57.30883699633702,
          57.26559320309321,
          57.49135124135123,
          57.627442002441995,
          57.43093711843713,
          57.38705738705738,
          57.55558099308098,
          57.48626373626374,
          57.299297924297925,
          57.45383089133091,
          57.59818884818885,
          57.443019943019955,
          57.85892348392349,
          57.86782661782663,
          57.85955942205943,
          57.90979853479854,
          57.79214997964999,
          57.80868437118436,
          58.01409238909239,
          57.858287545787555,
          57.9307844932845,
          57.775615588115585,
          57.936507936507944,
          58.14827533577536,
          57.985475172975185,
          58.11647842897844,
          57.95940170940171,
          57.705026455026456,
          57.90280321530323,
          57.65605921855922,
          57.78070309320311,
          57.5167887667888,
          57.805504680504676,
          57.597552910052904,
          57.71520146520147,
          57.8442969067969,
          57.911706349206355,
          57.77688746438745,
          57.7559015059015,
          57.96639702889703,
          57.76925620675621,
          57.95240638990639,
          58.07832214082214,
          57.94859076109078,
          57.498982498982514,
          58.13810032560033,
          58.271011396011396,
          58.08404558404559,
          57.897715710215714,
          58.158450345950335,
          58.0344424094424,
          58.24557387057388,
          57.65860297110299,
          57.967668905168914,
          57.83602971102971,
          57.954314204314215,
          58.07514245014246,
          57.73936711436712,
          57.7571733821734,
          57.767348392348396,
          57.458918396418404,
          57.721560846560855,
          57.65860297110297,
          57.720924908424905,
          57.29039479039479,
          57.81631562881565,
          57.83030626780627,
          57.833485958485966,
          57.93841575091576,
          58.117750305250304,
          57.96830484330486,
          57.838573463573475,
          57.759717134717135,
          57.53777472527472,
          57.891992266992276,
          57.89962352462353,
          57.5288715913716,
          57.60645604395603,
          57.56257631257632,
          57.59310134310133,
          57.66114672364674,
          57.61981074481074,
          57.49516687016688,
          57.42584961334961,
          57.89453601953604,
          57.493894993895,
          57.555580993081,
          57.74000305250306,
          57.54922161172163,
          57.20136345136347,
          57.84238909238909,
          57.705026455026456,
          57.67831705331705,
          57.64397639397642,
          57.62871387871388,
          57.73491554741556,
          57.68976393976394,
          57.73745929995931,
          57.522512210012216,
          57.57338726088725,
          57.47736060236062,
          57.43793243793245,
          57.392780830280834,
          57.49135124135123,
          57.70184676434676,
          57.46591371591373,
          57.41567460317461,
          57.49707468457467,
          57.4023199023199,
          57.5256919006919,
          57.438568376068396,
          57.63634513634514,
          57.593101343101345,
          57.619810744810756,
          57.59182946682949,
          57.64079670329671,
          57.67132173382174,
          57.84620472120472,
          57.68340455840456,
          57.790878103378105,
          57.7673483923484,
          57.74636243386243,
          57.65287952787952,
          57.79342185592187,
          57.8856328856329,
          57.650335775335776,
          57.73364367114365,
          58.179436304436315,
          58.08086589336589,
          57.75653744403746,
          57.59882478632479,
          58.2144129019129,
          57.91297822547824,
          57.74445461945462,
          58.0573361823362,
          57.74699837199839,
          57.809320309320306,
          57.799145299145316,
          58.066875254375255,
          57.67170329670332,
          57.76035307285309,
          58.22140822140824,
          57.90661884411887,
          57.90916259666261,
          57.884996947496965,
          57.802324989824996,
          57.8608312983313,
          58.09104090354092,
          58.22013634513633,
          58.34350834350835,
          58.185795685795675,
          58.028083028083024,
          58.134920634920654,
          58.456069393569386,
          57.803596866096875,
          58.04334554334554,
          57.916793854293836,
          57.908526658526654,
          57.8989875864876,
          57.69930301180303,
          58.00328144078146,
          57.7272842897843,
          57.815679690679694,
          58.110754985754994,
          57.77434371184372,
          58.048433048433054,
          58.069419006919,
          58.00773300773304,
          57.60645604395606,
          57.780067155067144,
          57.89008445258446,
          57.81885938135938,
          57.70375457875458,
          57.54413410663411,
          57.38705738705739,
          57.60582010582012,
          57.57974664224667,
          57.66750610500612,
          57.70439051689053,
          57.547949735449755,
          57.8506562881563,
          57.749542124542124,
          57.61408730158731,
          57.52823565323566,
          57.57338726088727,
          57.76925620675622,
          57.691035816035814,
          57.288486975986984,
          57.69930301180301,
          57.95367826617825,
          57.87863756613758,
          57.318376068376075,
          57.29421041921043,
          57.48181216931216,
          57.277676027676044,
          57.69485144485145,
          57.667506105006105,
          57.727284289784286,
          57.65287952787954,
          57.342541717541714,
          57.65160765160766,
          57.65733109483108,
          57.61408730158731,
          57.47926841676844,
          57.25594814136482,
          57.705026455026484,
          57.563848188848176,
          57.43157305657306,
          57.207086894586894,
          57.42648555148557,
          57.23634004884005,
          57.3387260887261,
          57.35653235653234,
          57.75526556776558,
          57.52378408628408,
          57.65605921855922,
          57.522512210012216,
          57.46209808709809,
          57.29929792429794,
          57.483084045584036,
          57.23824786324786,
          57.271316646316656,
          57.44556369556371,
          57.32155575905576,
          57.31837606837607,
          57.286579161579176,
          57.513609076109105,
          57.533323158323164,
          57.08498677248679,
          57.5517653642654,
          57.39786833536832,
          57.51869658119659,
          57.275768213268236,
          57.43030118030119,
          57.306929181929185,
          57.296118233618245,
          57.372430809930826,
          57.425213675213676,
          57.60327635327638,
          57.58610602360602,
          57.4207621082621,
          57.41631054131056,
          57.32028388278388,
          57.35589641839641,
          57.32791514041514,
          57.152396214896214,
          57.41440272690273,
          57.43220899470899,
          57.22807285307287,
          57.47608872608873,
          57.5072496947497,
          57.529507529507526,
          57.43856837606838,
          57.288486975986984,
          57.233796296296305,
          57.14603683353685,
          57.18610093610095,
          57.27640415140416,
          57.32473544973546,
          57.30502136752137,
          57.392780830280834,
          57.56639194139194,
          57.51678876678877,
          57.56512006512008,
          57.558124745624745,
          57.67068579568579,
          57.66178266178267,
          57.46972934472936,
          57.69930301180302,
          57.56766381766383,
          57.28594322344322,
          57.45573870573869,
          57.43856837606837,
          57.376882376882385,
          57.33936202686203,
          57.46082621082621,
          57.58610602360604,
          57.327279202279215,
          57.64906389906391,
          57.66877798127802,
          57.67640923890926,
          57.55748880748882,
          57.556216931216944,
          57.58101851851851,
          57.36607142857142,
          57.428393365893356,
          57.49198717948719,
          57.23570411070411,
          57.36607142857144,
          57.213446275946275,
          57.03729141229143,
          57.22807285307285,
          57.1918243793244,
          57.205179080179086,
          57.09325396825398,
          57.21153846153848,
          57.25478225478225,
          57.46146214896216,
          57.533959096459114,
          57.280855718355745,
          57.62934981684983,
          57.133954008954,
          57.29866198616199,
          57.41694647944649,
          57.63252950752951,
          57.70248270248268,
          57.59310134310135,
          57.51551689051689,
          57.23125254375253,
          57.350172975172995,
          57.25732600732601,
          57.19818376068377,
          57.425213675213676,
          57.17465404965407,
          57.38133394383394,
          57.28530728530729,
          57.11869149369152,
          57.217261904761905,
          57.210902523402524,
          57.14921652421652,
          57.03347578347581,
          57.498982498982514,
          57.59755291005292,
          57.49198717948719,
          57.31710419210419,
          57.33999796499797,
          57.48880748880748,
          57.359712047212064,
          57.50788563288564,
          57.478632478632484,
          57.33618233618236,
          57.42457773707775,
          57.54349816849818,
          57.44174806674806,
          57.36607142857144,
          57.317740130240146,
          57.2554181929182,
          57.2738603988604,
          57.26622914122913,
          57.05255392755395,
          57.430937118437136,
          57.13840557590559,
          57.301205738705754,
          57.26686507936508,
          57.29293854293855,
          57.455102767602774,
          57.4773606023606,
          57.240155677655686,
          57.62362637362639,
          57.49262311762314,
          57.47799654049655,
          57.52251221001219,
          57.49834656084658,
          57.49580280830281,
          57.51551689051689,
          57.37942612942612,
          57.58737789987791,
          57.42076210826212,
          57.49961843711845,
          57.4620980870981,
          57.53777472527475,
          57.420126170126174,
          57.081171143671156,
          57.343177655677664,
          57.45383089133086,
          57.57020757020755,
          57.41631054131056,
          57.31964794464795,
          57.45319495319495,
          57.55367317867319,
          57.467185592185594,
          57.43920431420432,
          57.415674603174615,
          57.67259361009362,
          57.564484126984134,
          57.499618437118436,
          57.5104293854294,
          57.59691697191698,
          57.502162189662194,
          57.36098392348393,
          57.49961843711844,
          57.39659645909648,
          57.37433862433863,
          57.293574481074494,
          57.66305453805455,
          57.46273402523402,
          57.42139804639806,
          57.404227716727725,
          57.55876068376069,
          57.42203398453399,
          57.476088726088726,
          57.685312372812376,
          57.59946072446073,
          57.43793243793245,
          57.64652014652015,
          57.64588420838422,
          57.39659645909646,
          57.25478225478225,
          57.70566239316239,
          57.66941391941393,
          57.589921652421644,
          57.60772792022792,
          57.51996845746848,
          57.42966524216524,
          57.57847476597477,
          57.61472323972325,
          57.58483414733416,
          57.564484126984134,
          57.56257631257632,
          57.647156084656096,
          57.783246845746866,
          58.005189255189265,
          57.60772792022794,
          57.558760683760674,
          57.52187627187629,
          57.62489824989828,
          57.753357753357754,
          58.0344424094424,
          57.801689051689074,
          57.749542124542124,
          57.70439051689052,
          57.8290343915344,
          57.61726699226703,
          57.92188135938136,
          57.75017806267808,
          57.822675010175026,
          57.90598290598292,
          57.73046398046399,
          57.904075091575095,
          57.753357753357754,
          57.89008445258446
         ],
         "y0": " ",
         "yaxis": "y"
        }
       ],
       "layout": {
        "boxmode": "group",
        "legend": {
         "tracegroupgap": 0
        },
        "template": {
         "data": {
          "bar": [
           {
            "error_x": {
             "color": "rgb(36,36,36)"
            },
            "error_y": {
             "color": "rgb(36,36,36)"
            },
            "marker": {
             "line": {
              "color": "white",
              "width": 0.5
             }
            },
            "type": "bar"
           }
          ],
          "barpolar": [
           {
            "marker": {
             "line": {
              "color": "white",
              "width": 0.5
             }
            },
            "type": "barpolar"
           }
          ],
          "carpet": [
           {
            "aaxis": {
             "endlinecolor": "rgb(36,36,36)",
             "gridcolor": "white",
             "linecolor": "white",
             "minorgridcolor": "white",
             "startlinecolor": "rgb(36,36,36)"
            },
            "baxis": {
             "endlinecolor": "rgb(36,36,36)",
             "gridcolor": "white",
             "linecolor": "white",
             "minorgridcolor": "white",
             "startlinecolor": "rgb(36,36,36)"
            },
            "type": "carpet"
           }
          ],
          "choropleth": [
           {
            "colorbar": {
             "outlinewidth": 1,
             "tickcolor": "rgb(36,36,36)",
             "ticks": "outside"
            },
            "type": "choropleth"
           }
          ],
          "contour": [
           {
            "colorbar": {
             "outlinewidth": 1,
             "tickcolor": "rgb(36,36,36)",
             "ticks": "outside"
            },
            "colorscale": [
             [
              0,
              "#440154"
             ],
             [
              0.1111111111111111,
              "#482878"
             ],
             [
              0.2222222222222222,
              "#3e4989"
             ],
             [
              0.3333333333333333,
              "#31688e"
             ],
             [
              0.4444444444444444,
              "#26828e"
             ],
             [
              0.5555555555555556,
              "#1f9e89"
             ],
             [
              0.6666666666666666,
              "#35b779"
             ],
             [
              0.7777777777777778,
              "#6ece58"
             ],
             [
              0.8888888888888888,
              "#b5de2b"
             ],
             [
              1,
              "#fde725"
             ]
            ],
            "type": "contour"
           }
          ],
          "contourcarpet": [
           {
            "colorbar": {
             "outlinewidth": 1,
             "tickcolor": "rgb(36,36,36)",
             "ticks": "outside"
            },
            "type": "contourcarpet"
           }
          ],
          "heatmap": [
           {
            "colorbar": {
             "outlinewidth": 1,
             "tickcolor": "rgb(36,36,36)",
             "ticks": "outside"
            },
            "colorscale": [
             [
              0,
              "#440154"
             ],
             [
              0.1111111111111111,
              "#482878"
             ],
             [
              0.2222222222222222,
              "#3e4989"
             ],
             [
              0.3333333333333333,
              "#31688e"
             ],
             [
              0.4444444444444444,
              "#26828e"
             ],
             [
              0.5555555555555556,
              "#1f9e89"
             ],
             [
              0.6666666666666666,
              "#35b779"
             ],
             [
              0.7777777777777778,
              "#6ece58"
             ],
             [
              0.8888888888888888,
              "#b5de2b"
             ],
             [
              1,
              "#fde725"
             ]
            ],
            "type": "heatmap"
           }
          ],
          "heatmapgl": [
           {
            "colorbar": {
             "outlinewidth": 1,
             "tickcolor": "rgb(36,36,36)",
             "ticks": "outside"
            },
            "colorscale": [
             [
              0,
              "#440154"
             ],
             [
              0.1111111111111111,
              "#482878"
             ],
             [
              0.2222222222222222,
              "#3e4989"
             ],
             [
              0.3333333333333333,
              "#31688e"
             ],
             [
              0.4444444444444444,
              "#26828e"
             ],
             [
              0.5555555555555556,
              "#1f9e89"
             ],
             [
              0.6666666666666666,
              "#35b779"
             ],
             [
              0.7777777777777778,
              "#6ece58"
             ],
             [
              0.8888888888888888,
              "#b5de2b"
             ],
             [
              1,
              "#fde725"
             ]
            ],
            "type": "heatmapgl"
           }
          ],
          "histogram": [
           {
            "marker": {
             "line": {
              "color": "white",
              "width": 0.6
             }
            },
            "type": "histogram"
           }
          ],
          "histogram2d": [
           {
            "colorbar": {
             "outlinewidth": 1,
             "tickcolor": "rgb(36,36,36)",
             "ticks": "outside"
            },
            "colorscale": [
             [
              0,
              "#440154"
             ],
             [
              0.1111111111111111,
              "#482878"
             ],
             [
              0.2222222222222222,
              "#3e4989"
             ],
             [
              0.3333333333333333,
              "#31688e"
             ],
             [
              0.4444444444444444,
              "#26828e"
             ],
             [
              0.5555555555555556,
              "#1f9e89"
             ],
             [
              0.6666666666666666,
              "#35b779"
             ],
             [
              0.7777777777777778,
              "#6ece58"
             ],
             [
              0.8888888888888888,
              "#b5de2b"
             ],
             [
              1,
              "#fde725"
             ]
            ],
            "type": "histogram2d"
           }
          ],
          "histogram2dcontour": [
           {
            "colorbar": {
             "outlinewidth": 1,
             "tickcolor": "rgb(36,36,36)",
             "ticks": "outside"
            },
            "colorscale": [
             [
              0,
              "#440154"
             ],
             [
              0.1111111111111111,
              "#482878"
             ],
             [
              0.2222222222222222,
              "#3e4989"
             ],
             [
              0.3333333333333333,
              "#31688e"
             ],
             [
              0.4444444444444444,
              "#26828e"
             ],
             [
              0.5555555555555556,
              "#1f9e89"
             ],
             [
              0.6666666666666666,
              "#35b779"
             ],
             [
              0.7777777777777778,
              "#6ece58"
             ],
             [
              0.8888888888888888,
              "#b5de2b"
             ],
             [
              1,
              "#fde725"
             ]
            ],
            "type": "histogram2dcontour"
           }
          ],
          "mesh3d": [
           {
            "colorbar": {
             "outlinewidth": 1,
             "tickcolor": "rgb(36,36,36)",
             "ticks": "outside"
            },
            "type": "mesh3d"
           }
          ],
          "parcoords": [
           {
            "line": {
             "colorbar": {
              "outlinewidth": 1,
              "tickcolor": "rgb(36,36,36)",
              "ticks": "outside"
             }
            },
            "type": "parcoords"
           }
          ],
          "pie": [
           {
            "automargin": true,
            "type": "pie"
           }
          ],
          "scatter": [
           {
            "marker": {
             "colorbar": {
              "outlinewidth": 1,
              "tickcolor": "rgb(36,36,36)",
              "ticks": "outside"
             }
            },
            "type": "scatter"
           }
          ],
          "scatter3d": [
           {
            "line": {
             "colorbar": {
              "outlinewidth": 1,
              "tickcolor": "rgb(36,36,36)",
              "ticks": "outside"
             }
            },
            "marker": {
             "colorbar": {
              "outlinewidth": 1,
              "tickcolor": "rgb(36,36,36)",
              "ticks": "outside"
             }
            },
            "type": "scatter3d"
           }
          ],
          "scattercarpet": [
           {
            "marker": {
             "colorbar": {
              "outlinewidth": 1,
              "tickcolor": "rgb(36,36,36)",
              "ticks": "outside"
             }
            },
            "type": "scattercarpet"
           }
          ],
          "scattergeo": [
           {
            "marker": {
             "colorbar": {
              "outlinewidth": 1,
              "tickcolor": "rgb(36,36,36)",
              "ticks": "outside"
             }
            },
            "type": "scattergeo"
           }
          ],
          "scattergl": [
           {
            "marker": {
             "colorbar": {
              "outlinewidth": 1,
              "tickcolor": "rgb(36,36,36)",
              "ticks": "outside"
             }
            },
            "type": "scattergl"
           }
          ],
          "scattermapbox": [
           {
            "marker": {
             "colorbar": {
              "outlinewidth": 1,
              "tickcolor": "rgb(36,36,36)",
              "ticks": "outside"
             }
            },
            "type": "scattermapbox"
           }
          ],
          "scatterpolar": [
           {
            "marker": {
             "colorbar": {
              "outlinewidth": 1,
              "tickcolor": "rgb(36,36,36)",
              "ticks": "outside"
             }
            },
            "type": "scatterpolar"
           }
          ],
          "scatterpolargl": [
           {
            "marker": {
             "colorbar": {
              "outlinewidth": 1,
              "tickcolor": "rgb(36,36,36)",
              "ticks": "outside"
             }
            },
            "type": "scatterpolargl"
           }
          ],
          "scatterternary": [
           {
            "marker": {
             "colorbar": {
              "outlinewidth": 1,
              "tickcolor": "rgb(36,36,36)",
              "ticks": "outside"
             }
            },
            "type": "scatterternary"
           }
          ],
          "surface": [
           {
            "colorbar": {
             "outlinewidth": 1,
             "tickcolor": "rgb(36,36,36)",
             "ticks": "outside"
            },
            "colorscale": [
             [
              0,
              "#440154"
             ],
             [
              0.1111111111111111,
              "#482878"
             ],
             [
              0.2222222222222222,
              "#3e4989"
             ],
             [
              0.3333333333333333,
              "#31688e"
             ],
             [
              0.4444444444444444,
              "#26828e"
             ],
             [
              0.5555555555555556,
              "#1f9e89"
             ],
             [
              0.6666666666666666,
              "#35b779"
             ],
             [
              0.7777777777777778,
              "#6ece58"
             ],
             [
              0.8888888888888888,
              "#b5de2b"
             ],
             [
              1,
              "#fde725"
             ]
            ],
            "type": "surface"
           }
          ],
          "table": [
           {
            "cells": {
             "fill": {
              "color": "rgb(237,237,237)"
             },
             "line": {
              "color": "white"
             }
            },
            "header": {
             "fill": {
              "color": "rgb(217,217,217)"
             },
             "line": {
              "color": "white"
             }
            },
            "type": "table"
           }
          ]
         },
         "layout": {
          "annotationdefaults": {
           "arrowhead": 0,
           "arrowwidth": 1
          },
          "coloraxis": {
           "colorbar": {
            "outlinewidth": 1,
            "tickcolor": "rgb(36,36,36)",
            "ticks": "outside"
           }
          },
          "colorscale": {
           "diverging": [
            [
             0,
             "rgb(103,0,31)"
            ],
            [
             0.1,
             "rgb(178,24,43)"
            ],
            [
             0.2,
             "rgb(214,96,77)"
            ],
            [
             0.3,
             "rgb(244,165,130)"
            ],
            [
             0.4,
             "rgb(253,219,199)"
            ],
            [
             0.5,
             "rgb(247,247,247)"
            ],
            [
             0.6,
             "rgb(209,229,240)"
            ],
            [
             0.7,
             "rgb(146,197,222)"
            ],
            [
             0.8,
             "rgb(67,147,195)"
            ],
            [
             0.9,
             "rgb(33,102,172)"
            ],
            [
             1,
             "rgb(5,48,97)"
            ]
           ],
           "sequential": [
            [
             0,
             "#440154"
            ],
            [
             0.1111111111111111,
             "#482878"
            ],
            [
             0.2222222222222222,
             "#3e4989"
            ],
            [
             0.3333333333333333,
             "#31688e"
            ],
            [
             0.4444444444444444,
             "#26828e"
            ],
            [
             0.5555555555555556,
             "#1f9e89"
            ],
            [
             0.6666666666666666,
             "#35b779"
            ],
            [
             0.7777777777777778,
             "#6ece58"
            ],
            [
             0.8888888888888888,
             "#b5de2b"
            ],
            [
             1,
             "#fde725"
            ]
           ],
           "sequentialminus": [
            [
             0,
             "#440154"
            ],
            [
             0.1111111111111111,
             "#482878"
            ],
            [
             0.2222222222222222,
             "#3e4989"
            ],
            [
             0.3333333333333333,
             "#31688e"
            ],
            [
             0.4444444444444444,
             "#26828e"
            ],
            [
             0.5555555555555556,
             "#1f9e89"
            ],
            [
             0.6666666666666666,
             "#35b779"
            ],
            [
             0.7777777777777778,
             "#6ece58"
            ],
            [
             0.8888888888888888,
             "#b5de2b"
            ],
            [
             1,
             "#fde725"
            ]
           ]
          },
          "colorway": [
           "#1F77B4",
           "#FF7F0E",
           "#2CA02C",
           "#D62728",
           "#9467BD",
           "#8C564B",
           "#E377C2",
           "#7F7F7F",
           "#BCBD22",
           "#17BECF"
          ],
          "font": {
           "color": "rgb(36,36,36)"
          },
          "geo": {
           "bgcolor": "white",
           "lakecolor": "white",
           "landcolor": "white",
           "showlakes": true,
           "showland": true,
           "subunitcolor": "white"
          },
          "hoverlabel": {
           "align": "left"
          },
          "hovermode": "closest",
          "mapbox": {
           "style": "light"
          },
          "paper_bgcolor": "white",
          "plot_bgcolor": "white",
          "polar": {
           "angularaxis": {
            "gridcolor": "rgb(232,232,232)",
            "linecolor": "rgb(36,36,36)",
            "showgrid": false,
            "showline": true,
            "ticks": "outside"
           },
           "bgcolor": "white",
           "radialaxis": {
            "gridcolor": "rgb(232,232,232)",
            "linecolor": "rgb(36,36,36)",
            "showgrid": false,
            "showline": true,
            "ticks": "outside"
           }
          },
          "scene": {
           "xaxis": {
            "backgroundcolor": "white",
            "gridcolor": "rgb(232,232,232)",
            "gridwidth": 2,
            "linecolor": "rgb(36,36,36)",
            "showbackground": true,
            "showgrid": false,
            "showline": true,
            "ticks": "outside",
            "zeroline": false,
            "zerolinecolor": "rgb(36,36,36)"
           },
           "yaxis": {
            "backgroundcolor": "white",
            "gridcolor": "rgb(232,232,232)",
            "gridwidth": 2,
            "linecolor": "rgb(36,36,36)",
            "showbackground": true,
            "showgrid": false,
            "showline": true,
            "ticks": "outside",
            "zeroline": false,
            "zerolinecolor": "rgb(36,36,36)"
           },
           "zaxis": {
            "backgroundcolor": "white",
            "gridcolor": "rgb(232,232,232)",
            "gridwidth": 2,
            "linecolor": "rgb(36,36,36)",
            "showbackground": true,
            "showgrid": false,
            "showline": true,
            "ticks": "outside",
            "zeroline": false,
            "zerolinecolor": "rgb(36,36,36)"
           }
          },
          "shapedefaults": {
           "fillcolor": "black",
           "line": {
            "width": 0
           },
           "opacity": 0.3
          },
          "ternary": {
           "aaxis": {
            "gridcolor": "rgb(232,232,232)",
            "linecolor": "rgb(36,36,36)",
            "showgrid": false,
            "showline": true,
            "ticks": "outside"
           },
           "baxis": {
            "gridcolor": "rgb(232,232,232)",
            "linecolor": "rgb(36,36,36)",
            "showgrid": false,
            "showline": true,
            "ticks": "outside"
           },
           "bgcolor": "white",
           "caxis": {
            "gridcolor": "rgb(232,232,232)",
            "linecolor": "rgb(36,36,36)",
            "showgrid": false,
            "showline": true,
            "ticks": "outside"
           }
          },
          "title": {
           "x": 0.05
          },
          "xaxis": {
           "automargin": true,
           "gridcolor": "rgb(232,232,232)",
           "linecolor": "rgb(36,36,36)",
           "showgrid": false,
           "showline": true,
           "ticks": "outside",
           "title": {
            "standoff": 15
           },
           "zeroline": false,
           "zerolinecolor": "rgb(36,36,36)"
          },
          "yaxis": {
           "automargin": true,
           "gridcolor": "rgb(232,232,232)",
           "linecolor": "rgb(36,36,36)",
           "showgrid": false,
           "showline": true,
           "ticks": "outside",
           "title": {
            "standoff": 15
           },
           "zeroline": false,
           "zerolinecolor": "rgb(36,36,36)"
          }
         }
        },
        "title": {
         "text": "OutletPressure g-pump-4 for 48, 49, 50, 52 weeks "
        },
        "xaxis": {
         "anchor": "y",
         "domain": [
          0,
          1
         ],
         "title": {
          "text": "week"
         },
         "type": "category"
        },
        "yaxis": {
         "anchor": "x",
         "domain": [
          0,
          1
         ],
         "title": {
          "text": "feature_value"
         }
        }
       }
      },
      "text/html": [
       "<div>\n",
       "        \n",
       "        \n",
       "            <div id=\"5dcf887c-b3b1-4f92-988d-7b8a846c278d\" class=\"plotly-graph-div\" style=\"height:525px; width:100%;\"></div>\n",
       "            <script type=\"text/javascript\">\n",
       "                require([\"plotly\"], function(Plotly) {\n",
       "                    window.PLOTLYENV=window.PLOTLYENV || {};\n",
       "                    \n",
       "                if (document.getElementById(\"5dcf887c-b3b1-4f92-988d-7b8a846c278d\")) {\n",
       "                    Plotly.newPlot(\n",
       "                        '5dcf887c-b3b1-4f92-988d-7b8a846c278d',\n",
       "                        [{\"alignmentgroup\": \"True\", \"hoverlabel\": {\"namelength\": 0}, \"hovertemplate\": \"week=%{x}<br>feature_value=%{y}\", \"legendgroup\": \"\", \"marker\": {\"color\": \"#1F77B4\"}, \"name\": \"\", \"notched\": false, \"offsetgroup\": \"\", \"orientation\": \"v\", \"showlegend\": false, \"type\": \"box\", \"x\": [48, 48, 48, 48, 48, 48, 48, 48, 48, 48, 48, 48, 48, 48, 48, 48, 48, 48, 48, 48, 48, 48, 48, 48, 48, 48, 48, 48, 48, 48, 48, 48, 48, 48, 48, 48, 48, 48, 48, 48, 48, 48, 48, 48, 48, 48, 48, 48, 48, 48, 48, 48, 48, 48, 48, 48, 48, 48, 48, 48, 48, 48, 48, 48, 48, 48, 48, 48, 48, 48, 48, 48, 48, 48, 48, 48, 48, 48, 48, 48, 48, 48, 48, 48, 48, 48, 48, 48, 48, 48, 48, 48, 48, 48, 48, 48, 48, 48, 48, 48, 48, 48, 48, 48, 48, 48, 48, 48, 48, 48, 48, 48, 48, 48, 48, 48, 48, 48, 48, 48, 48, 48, 48, 48, 48, 48, 48, 48, 48, 48, 48, 48, 48, 48, 48, 48, 48, 48, 48, 48, 48, 48, 48, 48, 48, 48, 48, 48, 48, 48, 48, 48, 48, 48, 48, 48, 48, 48, 48, 48, 48, 48, 48, 48, 48, 48, 49, 49, 49, 49, 49, 49, 49, 49, 49, 49, 49, 49, 49, 49, 49, 49, 49, 49, 49, 49, 49, 49, 49, 49, 49, 49, 49, 49, 50, 50, 50, 50, 50, 50, 50, 50, 50, 50, 50, 50, 50, 50, 50, 50, 50, 50, 50, 50, 50, 50, 50, 50, 50, 50, 50, 50, 50, 50, 50, 50, 50, 50, 50, 50, 50, 50, 50, 50, 50, 50, 50, 50, 50, 50, 50, 50, 50, 50, 50, 50, 50, 50, 50, 50, 50, 50, 50, 50, 50, 50, 50, 50, 50, 50, 50, 50, 50, 50, 50, 50, 52, 52, 52, 52, 52, 52, 52, 52, 52, 52, 52, 52, 52, 52, 52, 52, 52, 52, 52, 52, 52, 52, 52, 52, 52, 52, 52, 52, 52, 52, 52, 52, 52, 52, 52, 52, 52, 52, 52, 52, 52, 52, 52, 52, 52, 52, 52, 52, 52, 52, 52, 52, 52, 52, 52, 52, 52, 52, 52, 52, 52, 52, 52, 52, 52, 52, 52, 52, 52, 52, 52, 52, 52, 52, 52, 52, 52, 52, 52, 52, 52, 52, 52, 52, 52, 52, 52, 52, 52, 52, 52, 52, 52, 52, 52, 52, 52, 52, 52, 52, 52, 52, 52, 52, 52, 52, 52, 52, 52, 52, 52, 52, 52, 52, 52, 52, 52, 52, 52, 52, 52, 52, 52, 52, 52, 52, 52, 52, 52, 52, 52, 52, 52, 52, 52, 52, 52, 52, 52, 52, 52, 52, 52, 52, 52, 52, 52, 52, 52, 52, 52, 52, 52, 52, 52, 52, 52, 52, 52, 52, 52, 52, 52, 52, 52, 52, 52, 52], \"x0\": \" \", \"xaxis\": \"x\", \"y\": [57.32219169719172, 57.45065120065121, 57.3635276760277, 57.30883699633702, 57.26559320309321, 57.49135124135123, 57.627442002441995, 57.43093711843713, 57.38705738705738, 57.55558099308098, 57.48626373626374, 57.299297924297925, 57.45383089133091, 57.59818884818885, 57.443019943019955, 57.85892348392349, 57.86782661782663, 57.85955942205943, 57.90979853479854, 57.79214997964999, 57.80868437118436, 58.01409238909239, 57.858287545787555, 57.9307844932845, 57.775615588115585, 57.936507936507944, 58.14827533577536, 57.985475172975185, 58.11647842897844, 57.95940170940171, 57.705026455026456, 57.90280321530323, 57.65605921855922, 57.78070309320311, 57.5167887667888, 57.805504680504676, 57.597552910052904, 57.71520146520147, 57.8442969067969, 57.911706349206355, 57.77688746438745, 57.7559015059015, 57.96639702889703, 57.76925620675621, 57.95240638990639, 58.07832214082214, 57.94859076109078, 57.498982498982514, 58.13810032560033, 58.271011396011396, 58.08404558404559, 57.897715710215714, 58.158450345950335, 58.0344424094424, 58.24557387057388, 57.65860297110299, 57.967668905168914, 57.83602971102971, 57.954314204314215, 58.07514245014246, 57.73936711436712, 57.7571733821734, 57.767348392348396, 57.458918396418404, 57.721560846560855, 57.65860297110297, 57.720924908424905, 57.29039479039479, 57.81631562881565, 57.83030626780627, 57.833485958485966, 57.93841575091576, 58.117750305250304, 57.96830484330486, 57.838573463573475, 57.759717134717135, 57.53777472527472, 57.891992266992276, 57.89962352462353, 57.5288715913716, 57.60645604395603, 57.56257631257632, 57.59310134310133, 57.66114672364674, 57.61981074481074, 57.49516687016688, 57.42584961334961, 57.89453601953604, 57.493894993895, 57.555580993081, 57.74000305250306, 57.54922161172163, 57.20136345136347, 57.84238909238909, 57.705026455026456, 57.67831705331705, 57.64397639397642, 57.62871387871388, 57.73491554741556, 57.68976393976394, 57.73745929995931, 57.522512210012216, 57.57338726088725, 57.47736060236062, 57.43793243793245, 57.392780830280834, 57.49135124135123, 57.70184676434676, 57.46591371591373, 57.41567460317461, 57.49707468457467, 57.4023199023199, 57.5256919006919, 57.438568376068396, 57.63634513634514, 57.593101343101345, 57.619810744810756, 57.59182946682949, 57.64079670329671, 57.67132173382174, 57.84620472120472, 57.68340455840456, 57.790878103378105, 57.7673483923484, 57.74636243386243, 57.65287952787952, 57.79342185592187, 57.8856328856329, 57.650335775335776, 57.73364367114365, 58.179436304436315, 58.08086589336589, 57.75653744403746, 57.59882478632479, 58.2144129019129, 57.91297822547824, 57.74445461945462, 58.0573361823362, 57.74699837199839, 57.809320309320306, 57.799145299145316, 58.066875254375255, 57.67170329670332, 57.76035307285309, 58.22140822140824, 57.90661884411887, 57.90916259666261, 57.884996947496965, 57.802324989824996, 57.8608312983313, 58.09104090354092, 58.22013634513633, 58.34350834350835, 58.185795685795675, 58.028083028083024, 58.134920634920654, 58.456069393569386, 57.803596866096875, 58.04334554334554, 57.916793854293836, 57.908526658526654, 57.8989875864876, 57.69930301180303, 58.00328144078146, 57.7272842897843, 57.815679690679694, 58.110754985754994, 57.77434371184372, 58.048433048433054, 58.069419006919, 58.00773300773304, 57.60645604395606, 57.780067155067144, 57.89008445258446, 57.81885938135938, 57.70375457875458, 57.54413410663411, 57.38705738705739, 57.60582010582012, 57.57974664224667, 57.66750610500612, 57.70439051689053, 57.547949735449755, 57.8506562881563, 57.749542124542124, 57.61408730158731, 57.52823565323566, 57.57338726088727, 57.76925620675622, 57.691035816035814, 57.288486975986984, 57.69930301180301, 57.95367826617825, 57.87863756613758, 57.318376068376075, 57.29421041921043, 57.48181216931216, 57.277676027676044, 57.69485144485145, 57.667506105006105, 57.727284289784286, 57.65287952787954, 57.342541717541714, 57.65160765160766, 57.65733109483108, 57.61408730158731, 57.47926841676844, 57.25594814136482, 57.705026455026484, 57.563848188848176, 57.43157305657306, 57.207086894586894, 57.42648555148557, 57.23634004884005, 57.3387260887261, 57.35653235653234, 57.75526556776558, 57.52378408628408, 57.65605921855922, 57.522512210012216, 57.46209808709809, 57.29929792429794, 57.483084045584036, 57.23824786324786, 57.271316646316656, 57.44556369556371, 57.32155575905576, 57.31837606837607, 57.286579161579176, 57.513609076109105, 57.533323158323164, 57.08498677248679, 57.5517653642654, 57.39786833536832, 57.51869658119659, 57.275768213268236, 57.43030118030119, 57.306929181929185, 57.296118233618245, 57.372430809930826, 57.425213675213676, 57.60327635327638, 57.58610602360602, 57.4207621082621, 57.41631054131056, 57.32028388278388, 57.35589641839641, 57.32791514041514, 57.152396214896214, 57.41440272690273, 57.43220899470899, 57.22807285307287, 57.47608872608873, 57.5072496947497, 57.529507529507526, 57.43856837606838, 57.288486975986984, 57.233796296296305, 57.14603683353685, 57.18610093610095, 57.27640415140416, 57.32473544973546, 57.30502136752137, 57.392780830280834, 57.56639194139194, 57.51678876678877, 57.56512006512008, 57.558124745624745, 57.67068579568579, 57.66178266178267, 57.46972934472936, 57.69930301180302, 57.56766381766383, 57.28594322344322, 57.45573870573869, 57.43856837606837, 57.376882376882385, 57.33936202686203, 57.46082621082621, 57.58610602360604, 57.327279202279215, 57.64906389906391, 57.66877798127802, 57.67640923890926, 57.55748880748882, 57.556216931216944, 57.58101851851851, 57.36607142857142, 57.428393365893356, 57.49198717948719, 57.23570411070411, 57.36607142857144, 57.213446275946275, 57.03729141229143, 57.22807285307285, 57.1918243793244, 57.205179080179086, 57.09325396825398, 57.21153846153848, 57.25478225478225, 57.46146214896216, 57.533959096459114, 57.280855718355745, 57.62934981684983, 57.133954008954, 57.29866198616199, 57.41694647944649, 57.63252950752951, 57.70248270248268, 57.59310134310135, 57.51551689051689, 57.23125254375253, 57.350172975172995, 57.25732600732601, 57.19818376068377, 57.425213675213676, 57.17465404965407, 57.38133394383394, 57.28530728530729, 57.11869149369152, 57.217261904761905, 57.210902523402524, 57.14921652421652, 57.03347578347581, 57.498982498982514, 57.59755291005292, 57.49198717948719, 57.31710419210419, 57.33999796499797, 57.48880748880748, 57.359712047212064, 57.50788563288564, 57.478632478632484, 57.33618233618236, 57.42457773707775, 57.54349816849818, 57.44174806674806, 57.36607142857144, 57.317740130240146, 57.2554181929182, 57.2738603988604, 57.26622914122913, 57.05255392755395, 57.430937118437136, 57.13840557590559, 57.301205738705754, 57.26686507936508, 57.29293854293855, 57.455102767602774, 57.4773606023606, 57.240155677655686, 57.62362637362639, 57.49262311762314, 57.47799654049655, 57.52251221001219, 57.49834656084658, 57.49580280830281, 57.51551689051689, 57.37942612942612, 57.58737789987791, 57.42076210826212, 57.49961843711845, 57.4620980870981, 57.53777472527475, 57.420126170126174, 57.081171143671156, 57.343177655677664, 57.45383089133086, 57.57020757020755, 57.41631054131056, 57.31964794464795, 57.45319495319495, 57.55367317867319, 57.467185592185594, 57.43920431420432, 57.415674603174615, 57.67259361009362, 57.564484126984134, 57.499618437118436, 57.5104293854294, 57.59691697191698, 57.502162189662194, 57.36098392348393, 57.49961843711844, 57.39659645909648, 57.37433862433863, 57.293574481074494, 57.66305453805455, 57.46273402523402, 57.42139804639806, 57.404227716727725, 57.55876068376069, 57.42203398453399, 57.476088726088726, 57.685312372812376, 57.59946072446073, 57.43793243793245, 57.64652014652015, 57.64588420838422, 57.39659645909646, 57.25478225478225, 57.70566239316239, 57.66941391941393, 57.589921652421644, 57.60772792022792, 57.51996845746848, 57.42966524216524, 57.57847476597477, 57.61472323972325, 57.58483414733416, 57.564484126984134, 57.56257631257632, 57.647156084656096, 57.783246845746866, 58.005189255189265, 57.60772792022794, 57.558760683760674, 57.52187627187629, 57.62489824989828, 57.753357753357754, 58.0344424094424, 57.801689051689074, 57.749542124542124, 57.70439051689052, 57.8290343915344, 57.61726699226703, 57.92188135938136, 57.75017806267808, 57.822675010175026, 57.90598290598292, 57.73046398046399, 57.904075091575095, 57.753357753357754, 57.89008445258446], \"y0\": \" \", \"yaxis\": \"y\"}],\n",
       "                        {\"boxmode\": \"group\", \"legend\": {\"tracegroupgap\": 0}, \"template\": {\"data\": {\"bar\": [{\"error_x\": {\"color\": \"rgb(36,36,36)\"}, \"error_y\": {\"color\": \"rgb(36,36,36)\"}, \"marker\": {\"line\": {\"color\": \"white\", \"width\": 0.5}}, \"type\": \"bar\"}], \"barpolar\": [{\"marker\": {\"line\": {\"color\": \"white\", \"width\": 0.5}}, \"type\": \"barpolar\"}], \"carpet\": [{\"aaxis\": {\"endlinecolor\": \"rgb(36,36,36)\", \"gridcolor\": \"white\", \"linecolor\": \"white\", \"minorgridcolor\": \"white\", \"startlinecolor\": \"rgb(36,36,36)\"}, \"baxis\": {\"endlinecolor\": \"rgb(36,36,36)\", \"gridcolor\": \"white\", \"linecolor\": \"white\", \"minorgridcolor\": \"white\", \"startlinecolor\": \"rgb(36,36,36)\"}, \"type\": \"carpet\"}], \"choropleth\": [{\"colorbar\": {\"outlinewidth\": 1, \"tickcolor\": \"rgb(36,36,36)\", \"ticks\": \"outside\"}, \"type\": \"choropleth\"}], \"contour\": [{\"colorbar\": {\"outlinewidth\": 1, \"tickcolor\": \"rgb(36,36,36)\", \"ticks\": \"outside\"}, \"colorscale\": [[0.0, \"#440154\"], [0.1111111111111111, \"#482878\"], [0.2222222222222222, \"#3e4989\"], [0.3333333333333333, \"#31688e\"], [0.4444444444444444, \"#26828e\"], [0.5555555555555556, \"#1f9e89\"], [0.6666666666666666, \"#35b779\"], [0.7777777777777778, \"#6ece58\"], [0.8888888888888888, \"#b5de2b\"], [1.0, \"#fde725\"]], \"type\": \"contour\"}], \"contourcarpet\": [{\"colorbar\": {\"outlinewidth\": 1, \"tickcolor\": \"rgb(36,36,36)\", \"ticks\": \"outside\"}, \"type\": \"contourcarpet\"}], \"heatmap\": [{\"colorbar\": {\"outlinewidth\": 1, \"tickcolor\": \"rgb(36,36,36)\", \"ticks\": \"outside\"}, \"colorscale\": [[0.0, \"#440154\"], [0.1111111111111111, \"#482878\"], [0.2222222222222222, \"#3e4989\"], [0.3333333333333333, \"#31688e\"], [0.4444444444444444, \"#26828e\"], [0.5555555555555556, \"#1f9e89\"], [0.6666666666666666, \"#35b779\"], [0.7777777777777778, \"#6ece58\"], [0.8888888888888888, \"#b5de2b\"], [1.0, \"#fde725\"]], \"type\": \"heatmap\"}], \"heatmapgl\": [{\"colorbar\": {\"outlinewidth\": 1, \"tickcolor\": \"rgb(36,36,36)\", \"ticks\": \"outside\"}, \"colorscale\": [[0.0, \"#440154\"], [0.1111111111111111, \"#482878\"], [0.2222222222222222, \"#3e4989\"], [0.3333333333333333, \"#31688e\"], [0.4444444444444444, \"#26828e\"], [0.5555555555555556, \"#1f9e89\"], [0.6666666666666666, \"#35b779\"], [0.7777777777777778, \"#6ece58\"], [0.8888888888888888, \"#b5de2b\"], [1.0, \"#fde725\"]], \"type\": \"heatmapgl\"}], \"histogram\": [{\"marker\": {\"line\": {\"color\": \"white\", \"width\": 0.6}}, \"type\": \"histogram\"}], \"histogram2d\": [{\"colorbar\": {\"outlinewidth\": 1, \"tickcolor\": \"rgb(36,36,36)\", \"ticks\": \"outside\"}, \"colorscale\": [[0.0, \"#440154\"], [0.1111111111111111, \"#482878\"], [0.2222222222222222, \"#3e4989\"], [0.3333333333333333, \"#31688e\"], [0.4444444444444444, \"#26828e\"], [0.5555555555555556, \"#1f9e89\"], [0.6666666666666666, \"#35b779\"], [0.7777777777777778, \"#6ece58\"], [0.8888888888888888, \"#b5de2b\"], [1.0, \"#fde725\"]], \"type\": \"histogram2d\"}], \"histogram2dcontour\": [{\"colorbar\": {\"outlinewidth\": 1, \"tickcolor\": \"rgb(36,36,36)\", \"ticks\": \"outside\"}, \"colorscale\": [[0.0, \"#440154\"], [0.1111111111111111, \"#482878\"], [0.2222222222222222, \"#3e4989\"], [0.3333333333333333, \"#31688e\"], [0.4444444444444444, \"#26828e\"], [0.5555555555555556, \"#1f9e89\"], [0.6666666666666666, \"#35b779\"], [0.7777777777777778, \"#6ece58\"], [0.8888888888888888, \"#b5de2b\"], [1.0, \"#fde725\"]], \"type\": \"histogram2dcontour\"}], \"mesh3d\": [{\"colorbar\": {\"outlinewidth\": 1, \"tickcolor\": \"rgb(36,36,36)\", \"ticks\": \"outside\"}, \"type\": \"mesh3d\"}], \"parcoords\": [{\"line\": {\"colorbar\": {\"outlinewidth\": 1, \"tickcolor\": \"rgb(36,36,36)\", \"ticks\": \"outside\"}}, \"type\": \"parcoords\"}], \"pie\": [{\"automargin\": true, \"type\": \"pie\"}], \"scatter\": [{\"marker\": {\"colorbar\": {\"outlinewidth\": 1, \"tickcolor\": \"rgb(36,36,36)\", \"ticks\": \"outside\"}}, \"type\": \"scatter\"}], \"scatter3d\": [{\"line\": {\"colorbar\": {\"outlinewidth\": 1, \"tickcolor\": \"rgb(36,36,36)\", \"ticks\": \"outside\"}}, \"marker\": {\"colorbar\": {\"outlinewidth\": 1, \"tickcolor\": \"rgb(36,36,36)\", \"ticks\": \"outside\"}}, \"type\": \"scatter3d\"}], \"scattercarpet\": [{\"marker\": {\"colorbar\": {\"outlinewidth\": 1, \"tickcolor\": \"rgb(36,36,36)\", \"ticks\": \"outside\"}}, \"type\": \"scattercarpet\"}], \"scattergeo\": [{\"marker\": {\"colorbar\": {\"outlinewidth\": 1, \"tickcolor\": \"rgb(36,36,36)\", \"ticks\": \"outside\"}}, \"type\": \"scattergeo\"}], \"scattergl\": [{\"marker\": {\"colorbar\": {\"outlinewidth\": 1, \"tickcolor\": \"rgb(36,36,36)\", \"ticks\": \"outside\"}}, \"type\": \"scattergl\"}], \"scattermapbox\": [{\"marker\": {\"colorbar\": {\"outlinewidth\": 1, \"tickcolor\": \"rgb(36,36,36)\", \"ticks\": \"outside\"}}, \"type\": \"scattermapbox\"}], \"scatterpolar\": [{\"marker\": {\"colorbar\": {\"outlinewidth\": 1, \"tickcolor\": \"rgb(36,36,36)\", \"ticks\": \"outside\"}}, \"type\": \"scatterpolar\"}], \"scatterpolargl\": [{\"marker\": {\"colorbar\": {\"outlinewidth\": 1, \"tickcolor\": \"rgb(36,36,36)\", \"ticks\": \"outside\"}}, \"type\": \"scatterpolargl\"}], \"scatterternary\": [{\"marker\": {\"colorbar\": {\"outlinewidth\": 1, \"tickcolor\": \"rgb(36,36,36)\", \"ticks\": \"outside\"}}, \"type\": \"scatterternary\"}], \"surface\": [{\"colorbar\": {\"outlinewidth\": 1, \"tickcolor\": \"rgb(36,36,36)\", \"ticks\": \"outside\"}, \"colorscale\": [[0.0, \"#440154\"], [0.1111111111111111, \"#482878\"], [0.2222222222222222, \"#3e4989\"], [0.3333333333333333, \"#31688e\"], [0.4444444444444444, \"#26828e\"], [0.5555555555555556, \"#1f9e89\"], [0.6666666666666666, \"#35b779\"], [0.7777777777777778, \"#6ece58\"], [0.8888888888888888, \"#b5de2b\"], [1.0, \"#fde725\"]], \"type\": \"surface\"}], \"table\": [{\"cells\": {\"fill\": {\"color\": \"rgb(237,237,237)\"}, \"line\": {\"color\": \"white\"}}, \"header\": {\"fill\": {\"color\": \"rgb(217,217,217)\"}, \"line\": {\"color\": \"white\"}}, \"type\": \"table\"}]}, \"layout\": {\"annotationdefaults\": {\"arrowhead\": 0, \"arrowwidth\": 1}, \"coloraxis\": {\"colorbar\": {\"outlinewidth\": 1, \"tickcolor\": \"rgb(36,36,36)\", \"ticks\": \"outside\"}}, \"colorscale\": {\"diverging\": [[0.0, \"rgb(103,0,31)\"], [0.1, \"rgb(178,24,43)\"], [0.2, \"rgb(214,96,77)\"], [0.3, \"rgb(244,165,130)\"], [0.4, \"rgb(253,219,199)\"], [0.5, \"rgb(247,247,247)\"], [0.6, \"rgb(209,229,240)\"], [0.7, \"rgb(146,197,222)\"], [0.8, \"rgb(67,147,195)\"], [0.9, \"rgb(33,102,172)\"], [1.0, \"rgb(5,48,97)\"]], \"sequential\": [[0.0, \"#440154\"], [0.1111111111111111, \"#482878\"], [0.2222222222222222, \"#3e4989\"], [0.3333333333333333, \"#31688e\"], [0.4444444444444444, \"#26828e\"], [0.5555555555555556, \"#1f9e89\"], [0.6666666666666666, \"#35b779\"], [0.7777777777777778, \"#6ece58\"], [0.8888888888888888, \"#b5de2b\"], [1.0, \"#fde725\"]], \"sequentialminus\": [[0.0, \"#440154\"], [0.1111111111111111, \"#482878\"], [0.2222222222222222, \"#3e4989\"], [0.3333333333333333, \"#31688e\"], [0.4444444444444444, \"#26828e\"], [0.5555555555555556, \"#1f9e89\"], [0.6666666666666666, \"#35b779\"], [0.7777777777777778, \"#6ece58\"], [0.8888888888888888, \"#b5de2b\"], [1.0, \"#fde725\"]]}, \"colorway\": [\"#1F77B4\", \"#FF7F0E\", \"#2CA02C\", \"#D62728\", \"#9467BD\", \"#8C564B\", \"#E377C2\", \"#7F7F7F\", \"#BCBD22\", \"#17BECF\"], \"font\": {\"color\": \"rgb(36,36,36)\"}, \"geo\": {\"bgcolor\": \"white\", \"lakecolor\": \"white\", \"landcolor\": \"white\", \"showlakes\": true, \"showland\": true, \"subunitcolor\": \"white\"}, \"hoverlabel\": {\"align\": \"left\"}, \"hovermode\": \"closest\", \"mapbox\": {\"style\": \"light\"}, \"paper_bgcolor\": \"white\", \"plot_bgcolor\": \"white\", \"polar\": {\"angularaxis\": {\"gridcolor\": \"rgb(232,232,232)\", \"linecolor\": \"rgb(36,36,36)\", \"showgrid\": false, \"showline\": true, \"ticks\": \"outside\"}, \"bgcolor\": \"white\", \"radialaxis\": {\"gridcolor\": \"rgb(232,232,232)\", \"linecolor\": \"rgb(36,36,36)\", \"showgrid\": false, \"showline\": true, \"ticks\": \"outside\"}}, \"scene\": {\"xaxis\": {\"backgroundcolor\": \"white\", \"gridcolor\": \"rgb(232,232,232)\", \"gridwidth\": 2, \"linecolor\": \"rgb(36,36,36)\", \"showbackground\": true, \"showgrid\": false, \"showline\": true, \"ticks\": \"outside\", \"zeroline\": false, \"zerolinecolor\": \"rgb(36,36,36)\"}, \"yaxis\": {\"backgroundcolor\": \"white\", \"gridcolor\": \"rgb(232,232,232)\", \"gridwidth\": 2, \"linecolor\": \"rgb(36,36,36)\", \"showbackground\": true, \"showgrid\": false, \"showline\": true, \"ticks\": \"outside\", \"zeroline\": false, \"zerolinecolor\": \"rgb(36,36,36)\"}, \"zaxis\": {\"backgroundcolor\": \"white\", \"gridcolor\": \"rgb(232,232,232)\", \"gridwidth\": 2, \"linecolor\": \"rgb(36,36,36)\", \"showbackground\": true, \"showgrid\": false, \"showline\": true, \"ticks\": \"outside\", \"zeroline\": false, \"zerolinecolor\": \"rgb(36,36,36)\"}}, \"shapedefaults\": {\"fillcolor\": \"black\", \"line\": {\"width\": 0}, \"opacity\": 0.3}, \"ternary\": {\"aaxis\": {\"gridcolor\": \"rgb(232,232,232)\", \"linecolor\": \"rgb(36,36,36)\", \"showgrid\": false, \"showline\": true, \"ticks\": \"outside\"}, \"baxis\": {\"gridcolor\": \"rgb(232,232,232)\", \"linecolor\": \"rgb(36,36,36)\", \"showgrid\": false, \"showline\": true, \"ticks\": \"outside\"}, \"bgcolor\": \"white\", \"caxis\": {\"gridcolor\": \"rgb(232,232,232)\", \"linecolor\": \"rgb(36,36,36)\", \"showgrid\": false, \"showline\": true, \"ticks\": \"outside\"}}, \"title\": {\"x\": 0.05}, \"xaxis\": {\"automargin\": true, \"gridcolor\": \"rgb(232,232,232)\", \"linecolor\": \"rgb(36,36,36)\", \"showgrid\": false, \"showline\": true, \"ticks\": \"outside\", \"title\": {\"standoff\": 15}, \"zeroline\": false, \"zerolinecolor\": \"rgb(36,36,36)\"}, \"yaxis\": {\"automargin\": true, \"gridcolor\": \"rgb(232,232,232)\", \"linecolor\": \"rgb(36,36,36)\", \"showgrid\": false, \"showline\": true, \"ticks\": \"outside\", \"title\": {\"standoff\": 15}, \"zeroline\": false, \"zerolinecolor\": \"rgb(36,36,36)\"}}}, \"title\": {\"text\": \"OutletPressure g-pump-4 for 48, 49, 50, 52 weeks \"}, \"xaxis\": {\"anchor\": \"y\", \"domain\": [0.0, 1.0], \"title\": {\"text\": \"week\"}, \"type\": \"category\"}, \"yaxis\": {\"anchor\": \"x\", \"domain\": [0.0, 1.0], \"title\": {\"text\": \"feature_value\"}}},\n",
       "                        {\"responsive\": true}\n",
       "                    ).then(function(){\n",
       "                            \n",
       "var gd = document.getElementById('5dcf887c-b3b1-4f92-988d-7b8a846c278d');\n",
       "var x = new MutationObserver(function (mutations, observer) {{\n",
       "        var display = window.getComputedStyle(gd).display;\n",
       "        if (!display || display === 'none') {{\n",
       "            console.log([gd, 'removed!']);\n",
       "            Plotly.purge(gd);\n",
       "            observer.disconnect();\n",
       "        }}\n",
       "}});\n",
       "\n",
       "// Listen for the removal of the full notebook cells\n",
       "var notebookContainer = gd.closest('#notebook-container');\n",
       "if (notebookContainer) {{\n",
       "    x.observe(notebookContainer, {childList: true});\n",
       "}}\n",
       "\n",
       "// Listen for the clearing of the current output cell\n",
       "var outputEl = gd.closest('.output');\n",
       "if (outputEl) {{\n",
       "    x.observe(outputEl, {childList: true});\n",
       "}}\n",
       "\n",
       "                        })\n",
       "                };\n",
       "                });\n",
       "            </script>\n",
       "        </div>"
      ]
     },
     "metadata": {},
     "output_type": "display_data"
    }
   ],
   "source": [
    "%%skip $skip_baseline_save\n",
    "week_numbers =  week_numbers_outletPressure # Week numbers as List \n",
    "\n",
    "mu_outletpressure, sigma_outletpressure = get_baselining_variables_azure(df_data, variable_name = OUTLET_PRESSURE,\n",
    "                                                                         asset_id = asset_id,\n",
    "                                                                         lst_filter_values = week_numbers, \n",
    "                                                                         filter_column_name = \"week\",\n",
    "                                                                         select_column_name= 'feature_value',\n",
    "                                                                         filter_metric = \"AvgValue\")\n",
    "print(mu_outletpressure, sigma_outletpressure)\n",
    "\n",
    "show_baselining_plot_azure(df_data, duration = week_numbers, asset_name= asset_name, variable_name= OUTLET_PRESSURE,\n",
    "                           plot_type = \"box\")"
   ]
  },
  {
   "cell_type": "markdown",
   "metadata": {},
   "source": [
    "## House Pressure"
   ]
  },
  {
   "cell_type": "code",
   "execution_count": 20,
   "metadata": {},
   "outputs": [
    {
     "name": "stdout",
     "output_type": "stream",
     "text": [
      "3.1535827375435805 0.03201969350837688\n"
     ]
    },
    {
     "data": {
      "application/vnd.plotly.v1+json": {
       "config": {
        "plotlyServerURL": "https://plot.ly"
       },
       "data": [
        {
         "alignmentgroup": "True",
         "hoverlabel": {
          "namelength": 0
         },
         "hovertemplate": "week=%{x}<br>feature_value=%{y}",
         "legendgroup": "",
         "marker": {
          "color": "#1F77B4"
         },
         "name": "",
         "notched": false,
         "offsetgroup": "",
         "orientation": "v",
         "showlegend": false,
         "type": "box",
         "x": [
          51,
          51,
          51,
          51,
          51,
          51,
          51,
          51,
          51,
          51,
          51,
          51,
          51,
          51,
          51,
          51,
          51,
          51,
          51,
          51,
          51,
          51,
          51,
          51,
          51,
          51,
          51,
          51,
          51,
          51,
          51,
          51,
          51,
          51,
          51,
          51,
          51,
          51,
          51,
          51,
          51,
          51,
          51,
          51,
          51,
          51,
          51,
          51,
          51,
          51,
          51,
          51,
          51,
          51,
          51,
          51,
          51,
          51,
          51,
          51,
          51,
          51,
          51,
          51,
          51,
          51,
          51,
          51,
          51,
          51,
          51,
          51,
          51,
          51,
          51,
          51,
          51,
          51,
          51,
          51,
          51,
          51,
          51,
          51,
          51,
          51,
          51,
          51,
          51,
          51,
          51,
          51,
          51,
          51,
          51,
          51,
          51,
          51,
          51,
          51,
          51,
          51,
          51,
          51,
          51,
          51,
          51,
          51,
          51,
          51,
          51,
          51,
          51,
          51,
          51,
          51,
          51,
          51,
          51,
          51,
          51,
          51,
          51,
          51,
          51,
          51,
          51,
          51,
          51,
          51,
          51,
          51,
          51,
          51,
          51,
          51,
          51,
          51,
          51,
          51,
          51,
          51,
          51,
          51,
          51,
          51,
          51,
          52,
          52,
          52,
          52,
          52,
          52,
          52,
          52,
          52,
          52,
          52,
          52,
          52,
          52,
          52,
          52,
          52,
          52,
          52,
          52,
          52,
          52,
          52,
          52,
          52,
          52,
          52,
          52,
          52,
          52,
          52,
          52,
          52,
          52,
          52,
          52,
          52,
          52,
          52,
          52,
          52,
          52,
          52,
          52,
          52,
          52,
          52,
          52,
          52,
          52,
          52,
          52,
          52,
          52,
          52,
          52,
          52,
          52,
          52,
          52,
          52,
          52,
          52,
          52,
          52,
          52,
          52,
          52,
          52,
          52,
          52,
          52,
          52,
          52,
          52,
          52,
          52,
          52,
          52,
          52,
          52,
          52,
          52,
          52,
          52,
          52,
          52,
          52,
          52,
          52,
          52,
          52,
          52,
          52,
          52,
          52,
          52,
          52,
          52,
          52,
          52,
          52,
          52,
          52,
          52,
          52,
          52,
          52,
          52,
          52,
          52,
          52,
          52,
          52,
          52,
          52,
          52,
          52,
          52,
          52,
          52,
          52,
          52,
          52,
          52,
          52,
          52,
          52,
          52,
          52,
          52,
          52,
          52,
          52,
          52,
          52,
          52,
          52,
          52,
          52,
          52,
          52,
          52,
          52,
          52,
          52,
          52,
          52,
          52,
          52,
          52,
          52,
          52,
          52,
          52,
          52,
          52,
          52,
          52,
          52,
          52,
          52,
          52,
          52,
          52,
          52,
          1,
          1,
          1,
          1,
          1,
          1,
          1,
          1,
          1,
          1,
          1,
          1,
          1,
          1,
          1,
          1,
          1,
          1,
          1,
          1,
          1,
          1,
          1,
          1,
          1,
          1,
          1,
          1,
          1,
          1,
          1,
          1,
          1,
          1,
          1,
          1,
          1,
          1,
          1,
          1,
          1,
          1,
          1,
          1,
          1,
          1,
          1,
          1,
          1,
          1,
          1,
          1,
          1,
          1,
          1,
          1,
          1,
          1,
          1,
          1,
          1,
          1,
          1,
          1,
          1,
          1,
          1,
          1,
          1,
          1,
          1,
          1,
          1,
          1,
          1,
          1,
          1,
          1,
          1,
          1,
          1,
          1,
          1,
          1,
          1,
          1,
          1,
          1,
          1,
          1,
          1,
          1,
          1,
          1,
          1,
          1,
          1,
          1,
          1,
          1,
          1,
          1,
          1,
          1,
          1,
          1,
          1,
          1,
          1,
          1,
          1,
          1,
          1,
          1,
          1,
          1,
          1,
          1,
          1,
          1,
          1,
          1,
          1,
          1,
          1,
          1,
          1,
          1,
          1,
          1,
          1,
          1,
          1,
          1,
          1,
          1,
          1,
          1,
          1,
          1,
          1,
          1,
          1,
          1,
          1,
          1,
          1,
          1,
          1,
          1,
          1,
          1,
          1,
          1,
          1,
          1,
          1,
          1,
          1,
          1,
          1,
          1,
          1,
          1,
          1,
          1,
          1,
          1,
          2,
          2,
          2,
          2,
          2,
          2,
          2,
          2,
          2,
          2,
          2,
          2,
          2,
          2,
          2,
          2,
          2
         ],
         "x0": " ",
         "xaxis": "x",
         "y": [
          3.210851648351649,
          3.2147308709808695,
          3.213268213268213,
          3.176320207570208,
          3.2308836996336985,
          3.215557590557589,
          3.1425518925518916,
          3.148529711029711,
          3.124554843304843,
          3.135620166870167,
          3.148911273911276,
          3.1705331705331723,
          3.1252543752543747,
          3.1345390720390705,
          3.1445868945868956,
          3.1328220390720394,
          3.117623117623117,
          3.1642373829873836,
          3.201376170126172,
          3.141534391534392,
          3.1684981684981692,
          3.1307234432234434,
          3.1328856328856323,
          3.1281796906796906,
          3.1251907814407818,
          3.1336487586487607,
          3.1071937321937306,
          3.1269078144078155,
          3.1198489010989,
          3.1166692104192113,
          3.1290700040700035,
          3.1517729955229954,
          3.1381639194139197,
          3.120929995929996,
          3.087924806674806,
          3.1153973341473353,
          3.1058582621082604,
          3.1236009361009374,
          3.1400717338217343,
          3.1498651811151817,
          3.1195309320309312,
          3.089578245828246,
          3.168816137566136,
          3.1711691086691087,
          3.1194037444037424,
          3.096255596255595,
          3.2546041921041926,
          3.234826516076517,
          3.1404532967032974,
          3.1805173992674,
          3.2261777574277573,
          3.2213446275946276,
          3.1656364468864466,
          3.2391508954008947,
          3.2201999389499396,
          3.2012489824989827,
          3.210279304029303,
          3.1651276963776973,
          3.2252874440374444,
          3.156860500610502,
          3.221980565730568,
          3.166526760276758,
          3.213967745217745,
          3.141025641025639,
          3.2423305860805876,
          3.241313085063084,
          3.2189916564916565,
          3.236161986161987,
          3.2689763939763936,
          3.2415038665038676,
          3.2147308709808704,
          3.11317155067155,
          3.1524089336589345,
          3.143823768823769,
          3.1511370573870576,
          3.15800518925519,
          3.122265466015465,
          3.0943477818477807,
          3.128688441188442,
          3.1412164224664245,
          3.1559065934065935,
          3.14000814000814,
          3.1244912494912502,
          3.1277981277981275,
          3.110309829059828,
          3.130341880341879,
          3.1335215710215714,
          3.135302197802197,
          3.1400081400081397,
          3.124872812372813,
          3.0862713675213675,
          3.139054232804232,
          3.1337123524623522,
          3.14852971102971,
          3.141534391534393,
          3.0944113756613754,
          3.138927045177045,
          3.117114367114368,
          3.155143467643468,
          3.1452864265364266,
          3.1653184778184777,
          3.165445665445665,
          3.116478428978429,
          3.1403897028897045,
          3.1295787545787537,
          3.1396901709401717,
          3.1281160968660964,
          3.1651912901912893,
          3.11234483109483,
          3.1306598494098505,
          3.1430606430606427,
          3.1578780016280015,
          3.0930759055759065,
          3.1141254578754567,
          3.1387998575498592,
          3.1234101546601547,
          3.1698972323972328,
          3.1185770248270255,
          3.1493564306064297,
          3.124618437118438,
          3.1739672364672367,
          3.149865181115182,
          3.136892043142043,
          3.1127263939763945,
          3.0993716931216935,
          3.118259055759055,
          3.1303418803418808,
          3.110564204314203,
          3.1239189051689045,
          3.1365740740740744,
          3.170151607651608,
          3.0944113756613736,
          3.1477665852665826,
          3.113680301180302,
          3.14515923890924,
          3.113934676434677,
          3.1325040700040723,
          3.155016280016279,
          3.137655168905169,
          3.147003459503461,
          3.142424704924704,
          3.1220110907610916,
          3.1112637362637354,
          3.1204212454212445,
          3.1337123524623536,
          3.1511370573870576,
          3.1321225071225065,
          3.144714082214083,
          3.161121286121285,
          3.1128535816035794,
          3.11565170940171,
          3.1005163817663806,
          3.078894485144485,
          3.110246235246235,
          3.1493564306064292,
          3.110882173382173,
          3.1658272283272297,
          3.1621387871387867,
          3.0815654253154263,
          3.16735347985348,
          3.1403261090761085,
          3.1626475376475374,
          3.1386726699226686,
          3.1712327024827034,
          3.1477665852665857,
          3.1629019129019134,
          3.1567333129833126,
          3.1208028083028085,
          3.1061762311762315,
          3.145222832722833,
          3.0956196581196593,
          3.180580993080994,
          3.1101190476190492,
          3.1204212454212445,
          3.140771265771267,
          3.130596255596256,
          3.1512006512006514,
          3.1592134717134717,
          3.1546983109483127,
          3.116033272283271,
          3.1101826414326417,
          3.125,
          3.141915954415954,
          3.1369556369556375,
          3.1232829670329654,
          3.1414707977207974,
          3.1459223646723653,
          3.144586894586896,
          3.1522817460317465,
          3.1125992063492056,
          3.1276073463573457,
          3.1177503052503046,
          3.1347298534798544,
          3.1395629833129832,
          3.131232193732193,
          3.1644281644281644,
          3.127861721611721,
          3.146685490435491,
          3.174539580789581,
          3.151137057387057,
          3.172758954008954,
          3.1636014448514445,
          3.12550875050875,
          3.1686889499389497,
          3.162011599511601,
          3.1525361212861207,
          3.0945385632885642,
          3.1191493691493686,
          3.141280016280016,
          3.149038461538462,
          3.1502467439967443,
          3.1694520757020754,
          3.1205484330484325,
          3.1674806674806675,
          3.1484025234025235,
          3.148847680097681,
          3.1168599918599913,
          3.076096357346357,
          3.128370472120473,
          3.1587047212047206,
          3.1538715913715905,
          3.1396265771265774,
          3.134984228734229,
          3.1566697191697206,
          3.110691391941392,
          3.1018518518518525,
          3.1178774928774935,
          3.170660358160358,
          3.1684345746845737,
          3.114252645502646,
          3.157051282051281,
          3.1716778591778616,
          3.0925035612535616,
          3.1176867114367113,
          3.12449124949125,
          3.1681801994302004,
          3.159976597476597,
          3.1494836182336186,
          3.1505011192511208,
          3.1712327024827016,
          3.1514550264550265,
          3.190628815628816,
          3.135747354497354,
          3.139944546194545,
          3.1931725681725687,
          3.1679894179894172,
          3.155906593406593,
          3.1541259666259656,
          3.1381003256003264,
          3.120866402116402,
          3.114697802197803,
          3.161566442816444,
          3.139054232804234,
          3.174730362230362,
          3.1894205331705323,
          3.1198489010988992,
          3.137909544159544,
          3.28360297110297,
          3.157432844932846,
          3.1180682743182735,
          3.145222832722832,
          3.1625839438339445,
          3.1257631257631258,
          3.142615486365486,
          3.120802808302809,
          3.1842058404558404,
          3.131613756613756,
          3.172250203500204,
          3.157687220187221,
          3.174412393162394,
          3.1658908221408217,
          3.141343610093609,
          3.1216295278795285,
          3.131422975172976,
          3.1609305046805054,
          3.150310337810337,
          3.1514550264550274,
          3.1842058404558404,
          3.141788766788766,
          3.150246743996744,
          3.163092694342694,
          3.195016788766791,
          3.1497379934879945,
          3.174921143671144,
          3.155779405779406,
          3.2041107041107058,
          3.124872812372814,
          3.1634106634106627,
          3.1333307895807905,
          3.1672898860398857,
          3.1873219373219386,
          3.116732804232805,
          3.14217032967033,
          3.143569393569393,
          3.164300976800975,
          3.1276073463573453,
          3.1484025234025252,
          3.131804538054538,
          3.144332519332517,
          3.1496743996744008,
          3.184968966218966,
          3.1297695360195363,
          3.149610805860807,
          3.195970695970697,
          3.136065323565324,
          3.1851597476597475,
          3.1427426739926747,
          3.121565934065936,
          3.1202304639804628,
          3.1525361212861207,
          3.1408348595848588,
          3.1010887260887263,
          3.1403261090761094,
          3.143760175010174,
          3.1673534798534795,
          3.1817892755392756,
          3.1577508140008153,
          3.1615664428164423,
          3.139880952380953,
          3.1005163817663806,
          3.161057692307691,
          3.1005799755799757,
          3.146812678062678,
          3.1442053317053325,
          3.1555886243386233,
          3.2091346153846154,
          3.202648046398045,
          3.1814713064713067,
          3.2161935286935286,
          3.1794998982498988,
          3.22388838013838,
          3.1964794464794473,
          3.1660816035816044,
          3.1353021978021967,
          3.1339667277167265,
          3.1335851648351665,
          3.141025641025641,
          3.1520273707773705,
          3.127925315425316,
          3.142679080179081,
          3.143823768823769,
          3.1450320512820507,
          3.1414707977207983,
          3.122329059829062,
          3.168307387057387,
          3.1399445461945468,
          3.1392450142450143,
          3.1609305046805045,
          3.1450956450956444,
          3.186685999186,
          3.195779914529913,
          3.140262515262515,
          3.1547619047619033,
          3.1622659747659743,
          3.146621896621898,
          3.1538079975579962,
          3.1920278795278794,
          3.1737128612128616,
          3.165827228327227,
          3.2212174399674414,
          3.1603581603581627,
          3.1942536630036638,
          3.18802146927147,
          3.1759386446886446,
          3.1429334554334556,
          3.1765745828245824,
          3.1772741147741157,
          3.150183150183149,
          3.1269714082214084,
          3.1661451973951973,
          3.122392653642654,
          3.130596255596256,
          3.1616936304436307,
          3.162202380952381,
          3.1077660765160746,
          3.120039682539682,
          3.1615028490028485,
          3.1680530118030124,
          3.1857320919820915,
          3.116796398046399,
          3.1660180097680097,
          3.1665267602767595,
          3.118195461945461,
          3.1470034595034595,
          3.113553113553113,
          3.1362561050061033,
          3.1854141229141213,
          3.1722502035002034,
          3.1255087505087507,
          3.1146978021978016,
          3.1534264346764345,
          3.159658628408629,
          3.149865181115181,
          3.145540801790801,
          3.1276709401709404,
          3.175684269434269,
          3.1745395807895807,
          3.1812805250305263,
          3.153299247049246,
          3.1856049043549066,
          3.147448616198615,
          3.2213446275946285,
          3.185223341473341,
          3.1609940984940987,
          3.152726902726903,
          3.1898656898656896,
          3.1877670940170955,
          3.2137769637769646,
          3.162011599511598,
          3.184778184778184,
          3.1538715913715922,
          3.1683073870573892,
          3.150310337810337,
          3.168625356125356,
          3.199913512413513,
          3.1479573667073653,
          3.19170991045991,
          3.171423483923484,
          3.169388481888481,
          3.1620751933251925,
          3.1324404761904776,
          3.1928545991045993,
          3.169642857142858,
          3.185286935286935,
          3.179372710622712,
          3.1512642450142443,
          3.185096153846155,
          3.161566442816443,
          3.1499923687423688,
          3.2022028897028902,
          3.1328856328856336,
          3.146240333740334,
          3.1653184778184786,
          3.1892297517297528,
          3.161757224257224,
          3.1781008343508343,
          3.157878001628003,
          3.170596764346765,
          3.197051790801791,
          3.1637286324786325,
          3.178100834350833,
          3.182234432234431,
          3.169770044770045,
          3.1713598901098883,
          3.153553622303621,
          3.162965506715507,
          3.177592083842084,
          3.166145197395197,
          3.150691900691902,
          3.119721713471714,
          3.187067562067563,
          3.1833155270655276,
          3.188085063085063,
          3.1204212454212463,
          3.200931013431014,
          3.191455535205535,
          3.1966066341066344,
          3.1882758445258452,
          3.128243284493285,
          3.163219881969883,
          3.2095161782661807,
          3.161566442816443,
          3.1658908221408217,
          3.166908323158322,
          3.220963064713066,
          3.1862408424908417,
          3.12283781033781,
          3.1697700447700456,
          3.161312067562068,
          3.1668447293447297,
          3.179054741554742,
          3.1550798738298718,
          3.1466854904354897,
          3.1643009768009787,
          3.2081807081807088,
          3.166971916971917,
          3.1846509971509973,
          3.169134106634106,
          3.1690069190069203,
          3.171423483923484,
          3.1573692511192504,
          3.219373219373219,
          3.1853505291005297,
          3.166590354090354,
          3.143569393569394,
          3.141852360602362,
          3.1629019129019125,
          3.213649776149776,
          3.1842058404558404,
          3.1824252136752142,
          3.1966066341066353,
          3.2126958689458713,
          3.1953983516483504,
          3.168879731379731,
          3.180771774521776,
          3.198896011396012,
          3.1308506308506305,
          3.0907865282865283
         ],
         "y0": " ",
         "yaxis": "y"
        }
       ],
       "layout": {
        "boxmode": "group",
        "legend": {
         "tracegroupgap": 0
        },
        "template": {
         "data": {
          "bar": [
           {
            "error_x": {
             "color": "rgb(36,36,36)"
            },
            "error_y": {
             "color": "rgb(36,36,36)"
            },
            "marker": {
             "line": {
              "color": "white",
              "width": 0.5
             }
            },
            "type": "bar"
           }
          ],
          "barpolar": [
           {
            "marker": {
             "line": {
              "color": "white",
              "width": 0.5
             }
            },
            "type": "barpolar"
           }
          ],
          "carpet": [
           {
            "aaxis": {
             "endlinecolor": "rgb(36,36,36)",
             "gridcolor": "white",
             "linecolor": "white",
             "minorgridcolor": "white",
             "startlinecolor": "rgb(36,36,36)"
            },
            "baxis": {
             "endlinecolor": "rgb(36,36,36)",
             "gridcolor": "white",
             "linecolor": "white",
             "minorgridcolor": "white",
             "startlinecolor": "rgb(36,36,36)"
            },
            "type": "carpet"
           }
          ],
          "choropleth": [
           {
            "colorbar": {
             "outlinewidth": 1,
             "tickcolor": "rgb(36,36,36)",
             "ticks": "outside"
            },
            "type": "choropleth"
           }
          ],
          "contour": [
           {
            "colorbar": {
             "outlinewidth": 1,
             "tickcolor": "rgb(36,36,36)",
             "ticks": "outside"
            },
            "colorscale": [
             [
              0,
              "#440154"
             ],
             [
              0.1111111111111111,
              "#482878"
             ],
             [
              0.2222222222222222,
              "#3e4989"
             ],
             [
              0.3333333333333333,
              "#31688e"
             ],
             [
              0.4444444444444444,
              "#26828e"
             ],
             [
              0.5555555555555556,
              "#1f9e89"
             ],
             [
              0.6666666666666666,
              "#35b779"
             ],
             [
              0.7777777777777778,
              "#6ece58"
             ],
             [
              0.8888888888888888,
              "#b5de2b"
             ],
             [
              1,
              "#fde725"
             ]
            ],
            "type": "contour"
           }
          ],
          "contourcarpet": [
           {
            "colorbar": {
             "outlinewidth": 1,
             "tickcolor": "rgb(36,36,36)",
             "ticks": "outside"
            },
            "type": "contourcarpet"
           }
          ],
          "heatmap": [
           {
            "colorbar": {
             "outlinewidth": 1,
             "tickcolor": "rgb(36,36,36)",
             "ticks": "outside"
            },
            "colorscale": [
             [
              0,
              "#440154"
             ],
             [
              0.1111111111111111,
              "#482878"
             ],
             [
              0.2222222222222222,
              "#3e4989"
             ],
             [
              0.3333333333333333,
              "#31688e"
             ],
             [
              0.4444444444444444,
              "#26828e"
             ],
             [
              0.5555555555555556,
              "#1f9e89"
             ],
             [
              0.6666666666666666,
              "#35b779"
             ],
             [
              0.7777777777777778,
              "#6ece58"
             ],
             [
              0.8888888888888888,
              "#b5de2b"
             ],
             [
              1,
              "#fde725"
             ]
            ],
            "type": "heatmap"
           }
          ],
          "heatmapgl": [
           {
            "colorbar": {
             "outlinewidth": 1,
             "tickcolor": "rgb(36,36,36)",
             "ticks": "outside"
            },
            "colorscale": [
             [
              0,
              "#440154"
             ],
             [
              0.1111111111111111,
              "#482878"
             ],
             [
              0.2222222222222222,
              "#3e4989"
             ],
             [
              0.3333333333333333,
              "#31688e"
             ],
             [
              0.4444444444444444,
              "#26828e"
             ],
             [
              0.5555555555555556,
              "#1f9e89"
             ],
             [
              0.6666666666666666,
              "#35b779"
             ],
             [
              0.7777777777777778,
              "#6ece58"
             ],
             [
              0.8888888888888888,
              "#b5de2b"
             ],
             [
              1,
              "#fde725"
             ]
            ],
            "type": "heatmapgl"
           }
          ],
          "histogram": [
           {
            "marker": {
             "line": {
              "color": "white",
              "width": 0.6
             }
            },
            "type": "histogram"
           }
          ],
          "histogram2d": [
           {
            "colorbar": {
             "outlinewidth": 1,
             "tickcolor": "rgb(36,36,36)",
             "ticks": "outside"
            },
            "colorscale": [
             [
              0,
              "#440154"
             ],
             [
              0.1111111111111111,
              "#482878"
             ],
             [
              0.2222222222222222,
              "#3e4989"
             ],
             [
              0.3333333333333333,
              "#31688e"
             ],
             [
              0.4444444444444444,
              "#26828e"
             ],
             [
              0.5555555555555556,
              "#1f9e89"
             ],
             [
              0.6666666666666666,
              "#35b779"
             ],
             [
              0.7777777777777778,
              "#6ece58"
             ],
             [
              0.8888888888888888,
              "#b5de2b"
             ],
             [
              1,
              "#fde725"
             ]
            ],
            "type": "histogram2d"
           }
          ],
          "histogram2dcontour": [
           {
            "colorbar": {
             "outlinewidth": 1,
             "tickcolor": "rgb(36,36,36)",
             "ticks": "outside"
            },
            "colorscale": [
             [
              0,
              "#440154"
             ],
             [
              0.1111111111111111,
              "#482878"
             ],
             [
              0.2222222222222222,
              "#3e4989"
             ],
             [
              0.3333333333333333,
              "#31688e"
             ],
             [
              0.4444444444444444,
              "#26828e"
             ],
             [
              0.5555555555555556,
              "#1f9e89"
             ],
             [
              0.6666666666666666,
              "#35b779"
             ],
             [
              0.7777777777777778,
              "#6ece58"
             ],
             [
              0.8888888888888888,
              "#b5de2b"
             ],
             [
              1,
              "#fde725"
             ]
            ],
            "type": "histogram2dcontour"
           }
          ],
          "mesh3d": [
           {
            "colorbar": {
             "outlinewidth": 1,
             "tickcolor": "rgb(36,36,36)",
             "ticks": "outside"
            },
            "type": "mesh3d"
           }
          ],
          "parcoords": [
           {
            "line": {
             "colorbar": {
              "outlinewidth": 1,
              "tickcolor": "rgb(36,36,36)",
              "ticks": "outside"
             }
            },
            "type": "parcoords"
           }
          ],
          "pie": [
           {
            "automargin": true,
            "type": "pie"
           }
          ],
          "scatter": [
           {
            "marker": {
             "colorbar": {
              "outlinewidth": 1,
              "tickcolor": "rgb(36,36,36)",
              "ticks": "outside"
             }
            },
            "type": "scatter"
           }
          ],
          "scatter3d": [
           {
            "line": {
             "colorbar": {
              "outlinewidth": 1,
              "tickcolor": "rgb(36,36,36)",
              "ticks": "outside"
             }
            },
            "marker": {
             "colorbar": {
              "outlinewidth": 1,
              "tickcolor": "rgb(36,36,36)",
              "ticks": "outside"
             }
            },
            "type": "scatter3d"
           }
          ],
          "scattercarpet": [
           {
            "marker": {
             "colorbar": {
              "outlinewidth": 1,
              "tickcolor": "rgb(36,36,36)",
              "ticks": "outside"
             }
            },
            "type": "scattercarpet"
           }
          ],
          "scattergeo": [
           {
            "marker": {
             "colorbar": {
              "outlinewidth": 1,
              "tickcolor": "rgb(36,36,36)",
              "ticks": "outside"
             }
            },
            "type": "scattergeo"
           }
          ],
          "scattergl": [
           {
            "marker": {
             "colorbar": {
              "outlinewidth": 1,
              "tickcolor": "rgb(36,36,36)",
              "ticks": "outside"
             }
            },
            "type": "scattergl"
           }
          ],
          "scattermapbox": [
           {
            "marker": {
             "colorbar": {
              "outlinewidth": 1,
              "tickcolor": "rgb(36,36,36)",
              "ticks": "outside"
             }
            },
            "type": "scattermapbox"
           }
          ],
          "scatterpolar": [
           {
            "marker": {
             "colorbar": {
              "outlinewidth": 1,
              "tickcolor": "rgb(36,36,36)",
              "ticks": "outside"
             }
            },
            "type": "scatterpolar"
           }
          ],
          "scatterpolargl": [
           {
            "marker": {
             "colorbar": {
              "outlinewidth": 1,
              "tickcolor": "rgb(36,36,36)",
              "ticks": "outside"
             }
            },
            "type": "scatterpolargl"
           }
          ],
          "scatterternary": [
           {
            "marker": {
             "colorbar": {
              "outlinewidth": 1,
              "tickcolor": "rgb(36,36,36)",
              "ticks": "outside"
             }
            },
            "type": "scatterternary"
           }
          ],
          "surface": [
           {
            "colorbar": {
             "outlinewidth": 1,
             "tickcolor": "rgb(36,36,36)",
             "ticks": "outside"
            },
            "colorscale": [
             [
              0,
              "#440154"
             ],
             [
              0.1111111111111111,
              "#482878"
             ],
             [
              0.2222222222222222,
              "#3e4989"
             ],
             [
              0.3333333333333333,
              "#31688e"
             ],
             [
              0.4444444444444444,
              "#26828e"
             ],
             [
              0.5555555555555556,
              "#1f9e89"
             ],
             [
              0.6666666666666666,
              "#35b779"
             ],
             [
              0.7777777777777778,
              "#6ece58"
             ],
             [
              0.8888888888888888,
              "#b5de2b"
             ],
             [
              1,
              "#fde725"
             ]
            ],
            "type": "surface"
           }
          ],
          "table": [
           {
            "cells": {
             "fill": {
              "color": "rgb(237,237,237)"
             },
             "line": {
              "color": "white"
             }
            },
            "header": {
             "fill": {
              "color": "rgb(217,217,217)"
             },
             "line": {
              "color": "white"
             }
            },
            "type": "table"
           }
          ]
         },
         "layout": {
          "annotationdefaults": {
           "arrowhead": 0,
           "arrowwidth": 1
          },
          "coloraxis": {
           "colorbar": {
            "outlinewidth": 1,
            "tickcolor": "rgb(36,36,36)",
            "ticks": "outside"
           }
          },
          "colorscale": {
           "diverging": [
            [
             0,
             "rgb(103,0,31)"
            ],
            [
             0.1,
             "rgb(178,24,43)"
            ],
            [
             0.2,
             "rgb(214,96,77)"
            ],
            [
             0.3,
             "rgb(244,165,130)"
            ],
            [
             0.4,
             "rgb(253,219,199)"
            ],
            [
             0.5,
             "rgb(247,247,247)"
            ],
            [
             0.6,
             "rgb(209,229,240)"
            ],
            [
             0.7,
             "rgb(146,197,222)"
            ],
            [
             0.8,
             "rgb(67,147,195)"
            ],
            [
             0.9,
             "rgb(33,102,172)"
            ],
            [
             1,
             "rgb(5,48,97)"
            ]
           ],
           "sequential": [
            [
             0,
             "#440154"
            ],
            [
             0.1111111111111111,
             "#482878"
            ],
            [
             0.2222222222222222,
             "#3e4989"
            ],
            [
             0.3333333333333333,
             "#31688e"
            ],
            [
             0.4444444444444444,
             "#26828e"
            ],
            [
             0.5555555555555556,
             "#1f9e89"
            ],
            [
             0.6666666666666666,
             "#35b779"
            ],
            [
             0.7777777777777778,
             "#6ece58"
            ],
            [
             0.8888888888888888,
             "#b5de2b"
            ],
            [
             1,
             "#fde725"
            ]
           ],
           "sequentialminus": [
            [
             0,
             "#440154"
            ],
            [
             0.1111111111111111,
             "#482878"
            ],
            [
             0.2222222222222222,
             "#3e4989"
            ],
            [
             0.3333333333333333,
             "#31688e"
            ],
            [
             0.4444444444444444,
             "#26828e"
            ],
            [
             0.5555555555555556,
             "#1f9e89"
            ],
            [
             0.6666666666666666,
             "#35b779"
            ],
            [
             0.7777777777777778,
             "#6ece58"
            ],
            [
             0.8888888888888888,
             "#b5de2b"
            ],
            [
             1,
             "#fde725"
            ]
           ]
          },
          "colorway": [
           "#1F77B4",
           "#FF7F0E",
           "#2CA02C",
           "#D62728",
           "#9467BD",
           "#8C564B",
           "#E377C2",
           "#7F7F7F",
           "#BCBD22",
           "#17BECF"
          ],
          "font": {
           "color": "rgb(36,36,36)"
          },
          "geo": {
           "bgcolor": "white",
           "lakecolor": "white",
           "landcolor": "white",
           "showlakes": true,
           "showland": true,
           "subunitcolor": "white"
          },
          "hoverlabel": {
           "align": "left"
          },
          "hovermode": "closest",
          "mapbox": {
           "style": "light"
          },
          "paper_bgcolor": "white",
          "plot_bgcolor": "white",
          "polar": {
           "angularaxis": {
            "gridcolor": "rgb(232,232,232)",
            "linecolor": "rgb(36,36,36)",
            "showgrid": false,
            "showline": true,
            "ticks": "outside"
           },
           "bgcolor": "white",
           "radialaxis": {
            "gridcolor": "rgb(232,232,232)",
            "linecolor": "rgb(36,36,36)",
            "showgrid": false,
            "showline": true,
            "ticks": "outside"
           }
          },
          "scene": {
           "xaxis": {
            "backgroundcolor": "white",
            "gridcolor": "rgb(232,232,232)",
            "gridwidth": 2,
            "linecolor": "rgb(36,36,36)",
            "showbackground": true,
            "showgrid": false,
            "showline": true,
            "ticks": "outside",
            "zeroline": false,
            "zerolinecolor": "rgb(36,36,36)"
           },
           "yaxis": {
            "backgroundcolor": "white",
            "gridcolor": "rgb(232,232,232)",
            "gridwidth": 2,
            "linecolor": "rgb(36,36,36)",
            "showbackground": true,
            "showgrid": false,
            "showline": true,
            "ticks": "outside",
            "zeroline": false,
            "zerolinecolor": "rgb(36,36,36)"
           },
           "zaxis": {
            "backgroundcolor": "white",
            "gridcolor": "rgb(232,232,232)",
            "gridwidth": 2,
            "linecolor": "rgb(36,36,36)",
            "showbackground": true,
            "showgrid": false,
            "showline": true,
            "ticks": "outside",
            "zeroline": false,
            "zerolinecolor": "rgb(36,36,36)"
           }
          },
          "shapedefaults": {
           "fillcolor": "black",
           "line": {
            "width": 0
           },
           "opacity": 0.3
          },
          "ternary": {
           "aaxis": {
            "gridcolor": "rgb(232,232,232)",
            "linecolor": "rgb(36,36,36)",
            "showgrid": false,
            "showline": true,
            "ticks": "outside"
           },
           "baxis": {
            "gridcolor": "rgb(232,232,232)",
            "linecolor": "rgb(36,36,36)",
            "showgrid": false,
            "showline": true,
            "ticks": "outside"
           },
           "bgcolor": "white",
           "caxis": {
            "gridcolor": "rgb(232,232,232)",
            "linecolor": "rgb(36,36,36)",
            "showgrid": false,
            "showline": true,
            "ticks": "outside"
           }
          },
          "title": {
           "x": 0.05
          },
          "xaxis": {
           "automargin": true,
           "gridcolor": "rgb(232,232,232)",
           "linecolor": "rgb(36,36,36)",
           "showgrid": false,
           "showline": true,
           "ticks": "outside",
           "title": {
            "standoff": 15
           },
           "zeroline": false,
           "zerolinecolor": "rgb(36,36,36)"
          },
          "yaxis": {
           "automargin": true,
           "gridcolor": "rgb(232,232,232)",
           "linecolor": "rgb(36,36,36)",
           "showgrid": false,
           "showline": true,
           "ticks": "outside",
           "title": {
            "standoff": 15
           },
           "zeroline": false,
           "zerolinecolor": "rgb(36,36,36)"
          }
         }
        },
        "title": {
         "text": "HousePressure g-pump-4 for 51, 52, 1, 2 weeks "
        },
        "xaxis": {
         "anchor": "y",
         "domain": [
          0,
          1
         ],
         "title": {
          "text": "week"
         },
         "type": "category"
        },
        "yaxis": {
         "anchor": "x",
         "domain": [
          0,
          1
         ],
         "title": {
          "text": "feature_value"
         }
        }
       }
      },
      "text/html": [
       "<div>\n",
       "        \n",
       "        \n",
       "            <div id=\"535c19d6-d5ae-46a9-8342-cf1542fac718\" class=\"plotly-graph-div\" style=\"height:525px; width:100%;\"></div>\n",
       "            <script type=\"text/javascript\">\n",
       "                require([\"plotly\"], function(Plotly) {\n",
       "                    window.PLOTLYENV=window.PLOTLYENV || {};\n",
       "                    \n",
       "                if (document.getElementById(\"535c19d6-d5ae-46a9-8342-cf1542fac718\")) {\n",
       "                    Plotly.newPlot(\n",
       "                        '535c19d6-d5ae-46a9-8342-cf1542fac718',\n",
       "                        [{\"alignmentgroup\": \"True\", \"hoverlabel\": {\"namelength\": 0}, \"hovertemplate\": \"week=%{x}<br>feature_value=%{y}\", \"legendgroup\": \"\", \"marker\": {\"color\": \"#1F77B4\"}, \"name\": \"\", \"notched\": false, \"offsetgroup\": \"\", \"orientation\": \"v\", \"showlegend\": false, \"type\": \"box\", \"x\": [51, 51, 51, 51, 51, 51, 51, 51, 51, 51, 51, 51, 51, 51, 51, 51, 51, 51, 51, 51, 51, 51, 51, 51, 51, 51, 51, 51, 51, 51, 51, 51, 51, 51, 51, 51, 51, 51, 51, 51, 51, 51, 51, 51, 51, 51, 51, 51, 51, 51, 51, 51, 51, 51, 51, 51, 51, 51, 51, 51, 51, 51, 51, 51, 51, 51, 51, 51, 51, 51, 51, 51, 51, 51, 51, 51, 51, 51, 51, 51, 51, 51, 51, 51, 51, 51, 51, 51, 51, 51, 51, 51, 51, 51, 51, 51, 51, 51, 51, 51, 51, 51, 51, 51, 51, 51, 51, 51, 51, 51, 51, 51, 51, 51, 51, 51, 51, 51, 51, 51, 51, 51, 51, 51, 51, 51, 51, 51, 51, 51, 51, 51, 51, 51, 51, 51, 51, 51, 51, 51, 51, 51, 51, 51, 51, 51, 51, 52, 52, 52, 52, 52, 52, 52, 52, 52, 52, 52, 52, 52, 52, 52, 52, 52, 52, 52, 52, 52, 52, 52, 52, 52, 52, 52, 52, 52, 52, 52, 52, 52, 52, 52, 52, 52, 52, 52, 52, 52, 52, 52, 52, 52, 52, 52, 52, 52, 52, 52, 52, 52, 52, 52, 52, 52, 52, 52, 52, 52, 52, 52, 52, 52, 52, 52, 52, 52, 52, 52, 52, 52, 52, 52, 52, 52, 52, 52, 52, 52, 52, 52, 52, 52, 52, 52, 52, 52, 52, 52, 52, 52, 52, 52, 52, 52, 52, 52, 52, 52, 52, 52, 52, 52, 52, 52, 52, 52, 52, 52, 52, 52, 52, 52, 52, 52, 52, 52, 52, 52, 52, 52, 52, 52, 52, 52, 52, 52, 52, 52, 52, 52, 52, 52, 52, 52, 52, 52, 52, 52, 52, 52, 52, 52, 52, 52, 52, 52, 52, 52, 52, 52, 52, 52, 52, 52, 52, 52, 52, 52, 52, 52, 52, 52, 52, 1, 1, 1, 1, 1, 1, 1, 1, 1, 1, 1, 1, 1, 1, 1, 1, 1, 1, 1, 1, 1, 1, 1, 1, 1, 1, 1, 1, 1, 1, 1, 1, 1, 1, 1, 1, 1, 1, 1, 1, 1, 1, 1, 1, 1, 1, 1, 1, 1, 1, 1, 1, 1, 1, 1, 1, 1, 1, 1, 1, 1, 1, 1, 1, 1, 1, 1, 1, 1, 1, 1, 1, 1, 1, 1, 1, 1, 1, 1, 1, 1, 1, 1, 1, 1, 1, 1, 1, 1, 1, 1, 1, 1, 1, 1, 1, 1, 1, 1, 1, 1, 1, 1, 1, 1, 1, 1, 1, 1, 1, 1, 1, 1, 1, 1, 1, 1, 1, 1, 1, 1, 1, 1, 1, 1, 1, 1, 1, 1, 1, 1, 1, 1, 1, 1, 1, 1, 1, 1, 1, 1, 1, 1, 1, 1, 1, 1, 1, 1, 1, 1, 1, 1, 1, 1, 1, 1, 1, 1, 1, 1, 1, 1, 1, 1, 1, 1, 1, 2, 2, 2, 2, 2, 2, 2, 2, 2, 2, 2, 2, 2, 2, 2, 2, 2], \"x0\": \" \", \"xaxis\": \"x\", \"y\": [3.210851648351649, 3.2147308709808695, 3.213268213268213, 3.176320207570208, 3.2308836996336985, 3.215557590557589, 3.1425518925518916, 3.148529711029711, 3.124554843304843, 3.135620166870167, 3.148911273911276, 3.1705331705331723, 3.1252543752543747, 3.1345390720390705, 3.1445868945868956, 3.1328220390720394, 3.117623117623117, 3.1642373829873836, 3.201376170126172, 3.141534391534392, 3.1684981684981692, 3.1307234432234434, 3.1328856328856323, 3.1281796906796906, 3.1251907814407818, 3.1336487586487607, 3.1071937321937306, 3.1269078144078155, 3.1198489010989, 3.1166692104192113, 3.1290700040700035, 3.1517729955229954, 3.1381639194139197, 3.120929995929996, 3.087924806674806, 3.1153973341473353, 3.1058582621082604, 3.1236009361009374, 3.1400717338217343, 3.1498651811151817, 3.1195309320309312, 3.089578245828246, 3.168816137566136, 3.1711691086691087, 3.1194037444037424, 3.096255596255595, 3.2546041921041926, 3.234826516076517, 3.1404532967032974, 3.1805173992674, 3.2261777574277573, 3.2213446275946276, 3.1656364468864466, 3.2391508954008947, 3.2201999389499396, 3.2012489824989827, 3.210279304029303, 3.1651276963776973, 3.2252874440374444, 3.156860500610502, 3.221980565730568, 3.166526760276758, 3.213967745217745, 3.141025641025639, 3.2423305860805876, 3.241313085063084, 3.2189916564916565, 3.236161986161987, 3.2689763939763936, 3.2415038665038676, 3.2147308709808704, 3.11317155067155, 3.1524089336589345, 3.143823768823769, 3.1511370573870576, 3.15800518925519, 3.122265466015465, 3.0943477818477807, 3.128688441188442, 3.1412164224664245, 3.1559065934065935, 3.14000814000814, 3.1244912494912502, 3.1277981277981275, 3.110309829059828, 3.130341880341879, 3.1335215710215714, 3.135302197802197, 3.1400081400081397, 3.124872812372813, 3.0862713675213675, 3.139054232804232, 3.1337123524623522, 3.14852971102971, 3.141534391534393, 3.0944113756613754, 3.138927045177045, 3.117114367114368, 3.155143467643468, 3.1452864265364266, 3.1653184778184777, 3.165445665445665, 3.116478428978429, 3.1403897028897045, 3.1295787545787537, 3.1396901709401717, 3.1281160968660964, 3.1651912901912893, 3.11234483109483, 3.1306598494098505, 3.1430606430606427, 3.1578780016280015, 3.0930759055759065, 3.1141254578754567, 3.1387998575498592, 3.1234101546601547, 3.1698972323972328, 3.1185770248270255, 3.1493564306064297, 3.124618437118438, 3.1739672364672367, 3.149865181115182, 3.136892043142043, 3.1127263939763945, 3.0993716931216935, 3.118259055759055, 3.1303418803418808, 3.110564204314203, 3.1239189051689045, 3.1365740740740744, 3.170151607651608, 3.0944113756613736, 3.1477665852665826, 3.113680301180302, 3.14515923890924, 3.113934676434677, 3.1325040700040723, 3.155016280016279, 3.137655168905169, 3.147003459503461, 3.142424704924704, 3.1220110907610916, 3.1112637362637354, 3.1204212454212445, 3.1337123524623536, 3.1511370573870576, 3.1321225071225065, 3.144714082214083, 3.161121286121285, 3.1128535816035794, 3.11565170940171, 3.1005163817663806, 3.078894485144485, 3.110246235246235, 3.1493564306064292, 3.110882173382173, 3.1658272283272297, 3.1621387871387867, 3.0815654253154263, 3.16735347985348, 3.1403261090761085, 3.1626475376475374, 3.1386726699226686, 3.1712327024827034, 3.1477665852665857, 3.1629019129019134, 3.1567333129833126, 3.1208028083028085, 3.1061762311762315, 3.145222832722833, 3.0956196581196593, 3.180580993080994, 3.1101190476190492, 3.1204212454212445, 3.140771265771267, 3.130596255596256, 3.1512006512006514, 3.1592134717134717, 3.1546983109483127, 3.116033272283271, 3.1101826414326417, 3.125, 3.141915954415954, 3.1369556369556375, 3.1232829670329654, 3.1414707977207974, 3.1459223646723653, 3.144586894586896, 3.1522817460317465, 3.1125992063492056, 3.1276073463573457, 3.1177503052503046, 3.1347298534798544, 3.1395629833129832, 3.131232193732193, 3.1644281644281644, 3.127861721611721, 3.146685490435491, 3.174539580789581, 3.151137057387057, 3.172758954008954, 3.1636014448514445, 3.12550875050875, 3.1686889499389497, 3.162011599511601, 3.1525361212861207, 3.0945385632885642, 3.1191493691493686, 3.141280016280016, 3.149038461538462, 3.1502467439967443, 3.1694520757020754, 3.1205484330484325, 3.1674806674806675, 3.1484025234025235, 3.148847680097681, 3.1168599918599913, 3.076096357346357, 3.128370472120473, 3.1587047212047206, 3.1538715913715905, 3.1396265771265774, 3.134984228734229, 3.1566697191697206, 3.110691391941392, 3.1018518518518525, 3.1178774928774935, 3.170660358160358, 3.1684345746845737, 3.114252645502646, 3.157051282051281, 3.1716778591778616, 3.0925035612535616, 3.1176867114367113, 3.12449124949125, 3.1681801994302004, 3.159976597476597, 3.1494836182336186, 3.1505011192511208, 3.1712327024827016, 3.1514550264550265, 3.190628815628816, 3.135747354497354, 3.139944546194545, 3.1931725681725687, 3.1679894179894172, 3.155906593406593, 3.1541259666259656, 3.1381003256003264, 3.120866402116402, 3.114697802197803, 3.161566442816444, 3.139054232804234, 3.174730362230362, 3.1894205331705323, 3.1198489010988992, 3.137909544159544, 3.28360297110297, 3.157432844932846, 3.1180682743182735, 3.145222832722832, 3.1625839438339445, 3.1257631257631258, 3.142615486365486, 3.120802808302809, 3.1842058404558404, 3.131613756613756, 3.172250203500204, 3.157687220187221, 3.174412393162394, 3.1658908221408217, 3.141343610093609, 3.1216295278795285, 3.131422975172976, 3.1609305046805054, 3.150310337810337, 3.1514550264550274, 3.1842058404558404, 3.141788766788766, 3.150246743996744, 3.163092694342694, 3.195016788766791, 3.1497379934879945, 3.174921143671144, 3.155779405779406, 3.2041107041107058, 3.124872812372814, 3.1634106634106627, 3.1333307895807905, 3.1672898860398857, 3.1873219373219386, 3.116732804232805, 3.14217032967033, 3.143569393569393, 3.164300976800975, 3.1276073463573453, 3.1484025234025252, 3.131804538054538, 3.144332519332517, 3.1496743996744008, 3.184968966218966, 3.1297695360195363, 3.149610805860807, 3.195970695970697, 3.136065323565324, 3.1851597476597475, 3.1427426739926747, 3.121565934065936, 3.1202304639804628, 3.1525361212861207, 3.1408348595848588, 3.1010887260887263, 3.1403261090761094, 3.143760175010174, 3.1673534798534795, 3.1817892755392756, 3.1577508140008153, 3.1615664428164423, 3.139880952380953, 3.1005163817663806, 3.161057692307691, 3.1005799755799757, 3.146812678062678, 3.1442053317053325, 3.1555886243386233, 3.2091346153846154, 3.202648046398045, 3.1814713064713067, 3.2161935286935286, 3.1794998982498988, 3.22388838013838, 3.1964794464794473, 3.1660816035816044, 3.1353021978021967, 3.1339667277167265, 3.1335851648351665, 3.141025641025641, 3.1520273707773705, 3.127925315425316, 3.142679080179081, 3.143823768823769, 3.1450320512820507, 3.1414707977207983, 3.122329059829062, 3.168307387057387, 3.1399445461945468, 3.1392450142450143, 3.1609305046805045, 3.1450956450956444, 3.186685999186, 3.195779914529913, 3.140262515262515, 3.1547619047619033, 3.1622659747659743, 3.146621896621898, 3.1538079975579962, 3.1920278795278794, 3.1737128612128616, 3.165827228327227, 3.2212174399674414, 3.1603581603581627, 3.1942536630036638, 3.18802146927147, 3.1759386446886446, 3.1429334554334556, 3.1765745828245824, 3.1772741147741157, 3.150183150183149, 3.1269714082214084, 3.1661451973951973, 3.122392653642654, 3.130596255596256, 3.1616936304436307, 3.162202380952381, 3.1077660765160746, 3.120039682539682, 3.1615028490028485, 3.1680530118030124, 3.1857320919820915, 3.116796398046399, 3.1660180097680097, 3.1665267602767595, 3.118195461945461, 3.1470034595034595, 3.113553113553113, 3.1362561050061033, 3.1854141229141213, 3.1722502035002034, 3.1255087505087507, 3.1146978021978016, 3.1534264346764345, 3.159658628408629, 3.149865181115181, 3.145540801790801, 3.1276709401709404, 3.175684269434269, 3.1745395807895807, 3.1812805250305263, 3.153299247049246, 3.1856049043549066, 3.147448616198615, 3.2213446275946285, 3.185223341473341, 3.1609940984940987, 3.152726902726903, 3.1898656898656896, 3.1877670940170955, 3.2137769637769646, 3.162011599511598, 3.184778184778184, 3.1538715913715922, 3.1683073870573892, 3.150310337810337, 3.168625356125356, 3.199913512413513, 3.1479573667073653, 3.19170991045991, 3.171423483923484, 3.169388481888481, 3.1620751933251925, 3.1324404761904776, 3.1928545991045993, 3.169642857142858, 3.185286935286935, 3.179372710622712, 3.1512642450142443, 3.185096153846155, 3.161566442816443, 3.1499923687423688, 3.2022028897028902, 3.1328856328856336, 3.146240333740334, 3.1653184778184786, 3.1892297517297528, 3.161757224257224, 3.1781008343508343, 3.157878001628003, 3.170596764346765, 3.197051790801791, 3.1637286324786325, 3.178100834350833, 3.182234432234431, 3.169770044770045, 3.1713598901098883, 3.153553622303621, 3.162965506715507, 3.177592083842084, 3.166145197395197, 3.150691900691902, 3.119721713471714, 3.187067562067563, 3.1833155270655276, 3.188085063085063, 3.1204212454212463, 3.200931013431014, 3.191455535205535, 3.1966066341066344, 3.1882758445258452, 3.128243284493285, 3.163219881969883, 3.2095161782661807, 3.161566442816443, 3.1658908221408217, 3.166908323158322, 3.220963064713066, 3.1862408424908417, 3.12283781033781, 3.1697700447700456, 3.161312067562068, 3.1668447293447297, 3.179054741554742, 3.1550798738298718, 3.1466854904354897, 3.1643009768009787, 3.2081807081807088, 3.166971916971917, 3.1846509971509973, 3.169134106634106, 3.1690069190069203, 3.171423483923484, 3.1573692511192504, 3.219373219373219, 3.1853505291005297, 3.166590354090354, 3.143569393569394, 3.141852360602362, 3.1629019129019125, 3.213649776149776, 3.1842058404558404, 3.1824252136752142, 3.1966066341066353, 3.2126958689458713, 3.1953983516483504, 3.168879731379731, 3.180771774521776, 3.198896011396012, 3.1308506308506305, 3.0907865282865283], \"y0\": \" \", \"yaxis\": \"y\"}],\n",
       "                        {\"boxmode\": \"group\", \"legend\": {\"tracegroupgap\": 0}, \"template\": {\"data\": {\"bar\": [{\"error_x\": {\"color\": \"rgb(36,36,36)\"}, \"error_y\": {\"color\": \"rgb(36,36,36)\"}, \"marker\": {\"line\": {\"color\": \"white\", \"width\": 0.5}}, \"type\": \"bar\"}], \"barpolar\": [{\"marker\": {\"line\": {\"color\": \"white\", \"width\": 0.5}}, \"type\": \"barpolar\"}], \"carpet\": [{\"aaxis\": {\"endlinecolor\": \"rgb(36,36,36)\", \"gridcolor\": \"white\", \"linecolor\": \"white\", \"minorgridcolor\": \"white\", \"startlinecolor\": \"rgb(36,36,36)\"}, \"baxis\": {\"endlinecolor\": \"rgb(36,36,36)\", \"gridcolor\": \"white\", \"linecolor\": \"white\", \"minorgridcolor\": \"white\", \"startlinecolor\": \"rgb(36,36,36)\"}, \"type\": \"carpet\"}], \"choropleth\": [{\"colorbar\": {\"outlinewidth\": 1, \"tickcolor\": \"rgb(36,36,36)\", \"ticks\": \"outside\"}, \"type\": \"choropleth\"}], \"contour\": [{\"colorbar\": {\"outlinewidth\": 1, \"tickcolor\": \"rgb(36,36,36)\", \"ticks\": \"outside\"}, \"colorscale\": [[0.0, \"#440154\"], [0.1111111111111111, \"#482878\"], [0.2222222222222222, \"#3e4989\"], [0.3333333333333333, \"#31688e\"], [0.4444444444444444, \"#26828e\"], [0.5555555555555556, \"#1f9e89\"], [0.6666666666666666, \"#35b779\"], [0.7777777777777778, \"#6ece58\"], [0.8888888888888888, \"#b5de2b\"], [1.0, \"#fde725\"]], \"type\": \"contour\"}], \"contourcarpet\": [{\"colorbar\": {\"outlinewidth\": 1, \"tickcolor\": \"rgb(36,36,36)\", \"ticks\": \"outside\"}, \"type\": \"contourcarpet\"}], \"heatmap\": [{\"colorbar\": {\"outlinewidth\": 1, \"tickcolor\": \"rgb(36,36,36)\", \"ticks\": \"outside\"}, \"colorscale\": [[0.0, \"#440154\"], [0.1111111111111111, \"#482878\"], [0.2222222222222222, \"#3e4989\"], [0.3333333333333333, \"#31688e\"], [0.4444444444444444, \"#26828e\"], [0.5555555555555556, \"#1f9e89\"], [0.6666666666666666, \"#35b779\"], [0.7777777777777778, \"#6ece58\"], [0.8888888888888888, \"#b5de2b\"], [1.0, \"#fde725\"]], \"type\": \"heatmap\"}], \"heatmapgl\": [{\"colorbar\": {\"outlinewidth\": 1, \"tickcolor\": \"rgb(36,36,36)\", \"ticks\": \"outside\"}, \"colorscale\": [[0.0, \"#440154\"], [0.1111111111111111, \"#482878\"], [0.2222222222222222, \"#3e4989\"], [0.3333333333333333, \"#31688e\"], [0.4444444444444444, \"#26828e\"], [0.5555555555555556, \"#1f9e89\"], [0.6666666666666666, \"#35b779\"], [0.7777777777777778, \"#6ece58\"], [0.8888888888888888, \"#b5de2b\"], [1.0, \"#fde725\"]], \"type\": \"heatmapgl\"}], \"histogram\": [{\"marker\": {\"line\": {\"color\": \"white\", \"width\": 0.6}}, \"type\": \"histogram\"}], \"histogram2d\": [{\"colorbar\": {\"outlinewidth\": 1, \"tickcolor\": \"rgb(36,36,36)\", \"ticks\": \"outside\"}, \"colorscale\": [[0.0, \"#440154\"], [0.1111111111111111, \"#482878\"], [0.2222222222222222, \"#3e4989\"], [0.3333333333333333, \"#31688e\"], [0.4444444444444444, \"#26828e\"], [0.5555555555555556, \"#1f9e89\"], [0.6666666666666666, \"#35b779\"], [0.7777777777777778, \"#6ece58\"], [0.8888888888888888, \"#b5de2b\"], [1.0, \"#fde725\"]], \"type\": \"histogram2d\"}], \"histogram2dcontour\": [{\"colorbar\": {\"outlinewidth\": 1, \"tickcolor\": \"rgb(36,36,36)\", \"ticks\": \"outside\"}, \"colorscale\": [[0.0, \"#440154\"], [0.1111111111111111, \"#482878\"], [0.2222222222222222, \"#3e4989\"], [0.3333333333333333, \"#31688e\"], [0.4444444444444444, \"#26828e\"], [0.5555555555555556, \"#1f9e89\"], [0.6666666666666666, \"#35b779\"], [0.7777777777777778, \"#6ece58\"], [0.8888888888888888, \"#b5de2b\"], [1.0, \"#fde725\"]], \"type\": \"histogram2dcontour\"}], \"mesh3d\": [{\"colorbar\": {\"outlinewidth\": 1, \"tickcolor\": \"rgb(36,36,36)\", \"ticks\": \"outside\"}, \"type\": \"mesh3d\"}], \"parcoords\": [{\"line\": {\"colorbar\": {\"outlinewidth\": 1, \"tickcolor\": \"rgb(36,36,36)\", \"ticks\": \"outside\"}}, \"type\": \"parcoords\"}], \"pie\": [{\"automargin\": true, \"type\": \"pie\"}], \"scatter\": [{\"marker\": {\"colorbar\": {\"outlinewidth\": 1, \"tickcolor\": \"rgb(36,36,36)\", \"ticks\": \"outside\"}}, \"type\": \"scatter\"}], \"scatter3d\": [{\"line\": {\"colorbar\": {\"outlinewidth\": 1, \"tickcolor\": \"rgb(36,36,36)\", \"ticks\": \"outside\"}}, \"marker\": {\"colorbar\": {\"outlinewidth\": 1, \"tickcolor\": \"rgb(36,36,36)\", \"ticks\": \"outside\"}}, \"type\": \"scatter3d\"}], \"scattercarpet\": [{\"marker\": {\"colorbar\": {\"outlinewidth\": 1, \"tickcolor\": \"rgb(36,36,36)\", \"ticks\": \"outside\"}}, \"type\": \"scattercarpet\"}], \"scattergeo\": [{\"marker\": {\"colorbar\": {\"outlinewidth\": 1, \"tickcolor\": \"rgb(36,36,36)\", \"ticks\": \"outside\"}}, \"type\": \"scattergeo\"}], \"scattergl\": [{\"marker\": {\"colorbar\": {\"outlinewidth\": 1, \"tickcolor\": \"rgb(36,36,36)\", \"ticks\": \"outside\"}}, \"type\": \"scattergl\"}], \"scattermapbox\": [{\"marker\": {\"colorbar\": {\"outlinewidth\": 1, \"tickcolor\": \"rgb(36,36,36)\", \"ticks\": \"outside\"}}, \"type\": \"scattermapbox\"}], \"scatterpolar\": [{\"marker\": {\"colorbar\": {\"outlinewidth\": 1, \"tickcolor\": \"rgb(36,36,36)\", \"ticks\": \"outside\"}}, \"type\": \"scatterpolar\"}], \"scatterpolargl\": [{\"marker\": {\"colorbar\": {\"outlinewidth\": 1, \"tickcolor\": \"rgb(36,36,36)\", \"ticks\": \"outside\"}}, \"type\": \"scatterpolargl\"}], \"scatterternary\": [{\"marker\": {\"colorbar\": {\"outlinewidth\": 1, \"tickcolor\": \"rgb(36,36,36)\", \"ticks\": \"outside\"}}, \"type\": \"scatterternary\"}], \"surface\": [{\"colorbar\": {\"outlinewidth\": 1, \"tickcolor\": \"rgb(36,36,36)\", \"ticks\": \"outside\"}, \"colorscale\": [[0.0, \"#440154\"], [0.1111111111111111, \"#482878\"], [0.2222222222222222, \"#3e4989\"], [0.3333333333333333, \"#31688e\"], [0.4444444444444444, \"#26828e\"], [0.5555555555555556, \"#1f9e89\"], [0.6666666666666666, \"#35b779\"], [0.7777777777777778, \"#6ece58\"], [0.8888888888888888, \"#b5de2b\"], [1.0, \"#fde725\"]], \"type\": \"surface\"}], \"table\": [{\"cells\": {\"fill\": {\"color\": \"rgb(237,237,237)\"}, \"line\": {\"color\": \"white\"}}, \"header\": {\"fill\": {\"color\": \"rgb(217,217,217)\"}, \"line\": {\"color\": \"white\"}}, \"type\": \"table\"}]}, \"layout\": {\"annotationdefaults\": {\"arrowhead\": 0, \"arrowwidth\": 1}, \"coloraxis\": {\"colorbar\": {\"outlinewidth\": 1, \"tickcolor\": \"rgb(36,36,36)\", \"ticks\": \"outside\"}}, \"colorscale\": {\"diverging\": [[0.0, \"rgb(103,0,31)\"], [0.1, \"rgb(178,24,43)\"], [0.2, \"rgb(214,96,77)\"], [0.3, \"rgb(244,165,130)\"], [0.4, \"rgb(253,219,199)\"], [0.5, \"rgb(247,247,247)\"], [0.6, \"rgb(209,229,240)\"], [0.7, \"rgb(146,197,222)\"], [0.8, \"rgb(67,147,195)\"], [0.9, \"rgb(33,102,172)\"], [1.0, \"rgb(5,48,97)\"]], \"sequential\": [[0.0, \"#440154\"], [0.1111111111111111, \"#482878\"], [0.2222222222222222, \"#3e4989\"], [0.3333333333333333, \"#31688e\"], [0.4444444444444444, \"#26828e\"], [0.5555555555555556, \"#1f9e89\"], [0.6666666666666666, \"#35b779\"], [0.7777777777777778, \"#6ece58\"], [0.8888888888888888, \"#b5de2b\"], [1.0, \"#fde725\"]], \"sequentialminus\": [[0.0, \"#440154\"], [0.1111111111111111, \"#482878\"], [0.2222222222222222, \"#3e4989\"], [0.3333333333333333, \"#31688e\"], [0.4444444444444444, \"#26828e\"], [0.5555555555555556, \"#1f9e89\"], [0.6666666666666666, \"#35b779\"], [0.7777777777777778, \"#6ece58\"], [0.8888888888888888, \"#b5de2b\"], [1.0, \"#fde725\"]]}, \"colorway\": [\"#1F77B4\", \"#FF7F0E\", \"#2CA02C\", \"#D62728\", \"#9467BD\", \"#8C564B\", \"#E377C2\", \"#7F7F7F\", \"#BCBD22\", \"#17BECF\"], \"font\": {\"color\": \"rgb(36,36,36)\"}, \"geo\": {\"bgcolor\": \"white\", \"lakecolor\": \"white\", \"landcolor\": \"white\", \"showlakes\": true, \"showland\": true, \"subunitcolor\": \"white\"}, \"hoverlabel\": {\"align\": \"left\"}, \"hovermode\": \"closest\", \"mapbox\": {\"style\": \"light\"}, \"paper_bgcolor\": \"white\", \"plot_bgcolor\": \"white\", \"polar\": {\"angularaxis\": {\"gridcolor\": \"rgb(232,232,232)\", \"linecolor\": \"rgb(36,36,36)\", \"showgrid\": false, \"showline\": true, \"ticks\": \"outside\"}, \"bgcolor\": \"white\", \"radialaxis\": {\"gridcolor\": \"rgb(232,232,232)\", \"linecolor\": \"rgb(36,36,36)\", \"showgrid\": false, \"showline\": true, \"ticks\": \"outside\"}}, \"scene\": {\"xaxis\": {\"backgroundcolor\": \"white\", \"gridcolor\": \"rgb(232,232,232)\", \"gridwidth\": 2, \"linecolor\": \"rgb(36,36,36)\", \"showbackground\": true, \"showgrid\": false, \"showline\": true, \"ticks\": \"outside\", \"zeroline\": false, \"zerolinecolor\": \"rgb(36,36,36)\"}, \"yaxis\": {\"backgroundcolor\": \"white\", \"gridcolor\": \"rgb(232,232,232)\", \"gridwidth\": 2, \"linecolor\": \"rgb(36,36,36)\", \"showbackground\": true, \"showgrid\": false, \"showline\": true, \"ticks\": \"outside\", \"zeroline\": false, \"zerolinecolor\": \"rgb(36,36,36)\"}, \"zaxis\": {\"backgroundcolor\": \"white\", \"gridcolor\": \"rgb(232,232,232)\", \"gridwidth\": 2, \"linecolor\": \"rgb(36,36,36)\", \"showbackground\": true, \"showgrid\": false, \"showline\": true, \"ticks\": \"outside\", \"zeroline\": false, \"zerolinecolor\": \"rgb(36,36,36)\"}}, \"shapedefaults\": {\"fillcolor\": \"black\", \"line\": {\"width\": 0}, \"opacity\": 0.3}, \"ternary\": {\"aaxis\": {\"gridcolor\": \"rgb(232,232,232)\", \"linecolor\": \"rgb(36,36,36)\", \"showgrid\": false, \"showline\": true, \"ticks\": \"outside\"}, \"baxis\": {\"gridcolor\": \"rgb(232,232,232)\", \"linecolor\": \"rgb(36,36,36)\", \"showgrid\": false, \"showline\": true, \"ticks\": \"outside\"}, \"bgcolor\": \"white\", \"caxis\": {\"gridcolor\": \"rgb(232,232,232)\", \"linecolor\": \"rgb(36,36,36)\", \"showgrid\": false, \"showline\": true, \"ticks\": \"outside\"}}, \"title\": {\"x\": 0.05}, \"xaxis\": {\"automargin\": true, \"gridcolor\": \"rgb(232,232,232)\", \"linecolor\": \"rgb(36,36,36)\", \"showgrid\": false, \"showline\": true, \"ticks\": \"outside\", \"title\": {\"standoff\": 15}, \"zeroline\": false, \"zerolinecolor\": \"rgb(36,36,36)\"}, \"yaxis\": {\"automargin\": true, \"gridcolor\": \"rgb(232,232,232)\", \"linecolor\": \"rgb(36,36,36)\", \"showgrid\": false, \"showline\": true, \"ticks\": \"outside\", \"title\": {\"standoff\": 15}, \"zeroline\": false, \"zerolinecolor\": \"rgb(36,36,36)\"}}}, \"title\": {\"text\": \"HousePressure g-pump-4 for 51, 52, 1, 2 weeks \"}, \"xaxis\": {\"anchor\": \"y\", \"domain\": [0.0, 1.0], \"title\": {\"text\": \"week\"}, \"type\": \"category\"}, \"yaxis\": {\"anchor\": \"x\", \"domain\": [0.0, 1.0], \"title\": {\"text\": \"feature_value\"}}},\n",
       "                        {\"responsive\": true}\n",
       "                    ).then(function(){\n",
       "                            \n",
       "var gd = document.getElementById('535c19d6-d5ae-46a9-8342-cf1542fac718');\n",
       "var x = new MutationObserver(function (mutations, observer) {{\n",
       "        var display = window.getComputedStyle(gd).display;\n",
       "        if (!display || display === 'none') {{\n",
       "            console.log([gd, 'removed!']);\n",
       "            Plotly.purge(gd);\n",
       "            observer.disconnect();\n",
       "        }}\n",
       "}});\n",
       "\n",
       "// Listen for the removal of the full notebook cells\n",
       "var notebookContainer = gd.closest('#notebook-container');\n",
       "if (notebookContainer) {{\n",
       "    x.observe(notebookContainer, {childList: true});\n",
       "}}\n",
       "\n",
       "// Listen for the clearing of the current output cell\n",
       "var outputEl = gd.closest('.output');\n",
       "if (outputEl) {{\n",
       "    x.observe(outputEl, {childList: true});\n",
       "}}\n",
       "\n",
       "                        })\n",
       "                };\n",
       "                });\n",
       "            </script>\n",
       "        </div>"
      ]
     },
     "metadata": {},
     "output_type": "display_data"
    }
   ],
   "source": [
    "%%skip $skip_baseline_save\n",
    "week_numbers = week_numbers_housePressure # Week numbers as List \n",
    "\n",
    "mu_housepressure, sigma_housepressure = get_baselining_variables_azure(df_data, variable_name = HOUSE_PRESSURE,\n",
    "                                                                       asset_id = asset_id,\n",
    "                                                                       lst_filter_values = week_numbers, \n",
    "                                                                       filter_column_name = \"week\",\n",
    "                                                                       select_column_name= 'feature_value',\n",
    "                                                                       filter_metric = \"AvgValue\")\n",
    "print(mu_housepressure, sigma_housepressure)\n",
    "\n",
    "show_baselining_plot_azure(df_data, duration = week_numbers, asset_name= asset_name, variable_name= HOUSE_PRESSURE, \n",
    "                           plot_type = \"box\")"
   ]
  },
  {
   "cell_type": "markdown",
   "metadata": {},
   "source": [
    "***"
   ]
  },
  {
   "cell_type": "code",
   "execution_count": 21,
   "metadata": {},
   "outputs": [
    {
     "data": {
      "text/html": [
       "<div>\n",
       "<style scoped>\n",
       "    .dataframe tbody tr th:only-of-type {\n",
       "        vertical-align: middle;\n",
       "    }\n",
       "\n",
       "    .dataframe tbody tr th {\n",
       "        vertical-align: top;\n",
       "    }\n",
       "\n",
       "    .dataframe thead th {\n",
       "        text-align: right;\n",
       "    }\n",
       "</style>\n",
       "<table border=\"1\" class=\"dataframe\">\n",
       "  <thead>\n",
       "    <tr style=\"text-align: right;\">\n",
       "      <th></th>\n",
       "      <th>asset_id</th>\n",
       "      <th>asset_name</th>\n",
       "      <th>sensor_type</th>\n",
       "      <th>measurement_type</th>\n",
       "      <th>feature_name</th>\n",
       "      <th>feature_value</th>\n",
       "      <th>feature_unit</th>\n",
       "      <th>sensor_info</th>\n",
       "      <th>datetime</th>\n",
       "      <th>d</th>\n",
       "      <th>dayofweek</th>\n",
       "      <th>year</th>\n",
       "      <th>month</th>\n",
       "      <th>hour</th>\n",
       "      <th>minute</th>\n",
       "      <th>second</th>\n",
       "      <th>week</th>\n",
       "    </tr>\n",
       "  </thead>\n",
       "  <tbody>\n",
       "    <tr>\n",
       "      <td>0</td>\n",
       "      <td>aid-g-pump-4</td>\n",
       "      <td>g-pump-4</td>\n",
       "      <td>pressure</td>\n",
       "      <td>housing</td>\n",
       "      <td>MinValue</td>\n",
       "      <td>2.677808</td>\n",
       "      <td>bar</td>\n",
       "      <td>HousePressure</td>\n",
       "      <td>2019-11-19 18:00:00</td>\n",
       "      <td>19</td>\n",
       "      <td>1</td>\n",
       "      <td>2019</td>\n",
       "      <td>11</td>\n",
       "      <td>18</td>\n",
       "      <td>0</td>\n",
       "      <td>0</td>\n",
       "      <td>47</td>\n",
       "    </tr>\n",
       "    <tr>\n",
       "      <td>1</td>\n",
       "      <td>aid-g-pump-4</td>\n",
       "      <td>g-pump-4</td>\n",
       "      <td>pressure</td>\n",
       "      <td>housing</td>\n",
       "      <td>MinValue</td>\n",
       "      <td>3.170024</td>\n",
       "      <td>bar</td>\n",
       "      <td>HousePressure</td>\n",
       "      <td>2019-11-20 08:00:00</td>\n",
       "      <td>20</td>\n",
       "      <td>2</td>\n",
       "      <td>2019</td>\n",
       "      <td>11</td>\n",
       "      <td>8</td>\n",
       "      <td>0</td>\n",
       "      <td>0</td>\n",
       "      <td>47</td>\n",
       "    </tr>\n",
       "    <tr>\n",
       "      <td>2</td>\n",
       "      <td>aid-g-pump-4</td>\n",
       "      <td>g-pump-4</td>\n",
       "      <td>pressure</td>\n",
       "      <td>housing</td>\n",
       "      <td>MinValue</td>\n",
       "      <td>2.551893</td>\n",
       "      <td>bar</td>\n",
       "      <td>HousePressure</td>\n",
       "      <td>2019-11-20 14:00:00</td>\n",
       "      <td>20</td>\n",
       "      <td>2</td>\n",
       "      <td>2019</td>\n",
       "      <td>11</td>\n",
       "      <td>14</td>\n",
       "      <td>0</td>\n",
       "      <td>0</td>\n",
       "      <td>47</td>\n",
       "    </tr>\n",
       "    <tr>\n",
       "      <td>3</td>\n",
       "      <td>aid-g-pump-4</td>\n",
       "      <td>g-pump-4</td>\n",
       "      <td>pressure</td>\n",
       "      <td>housing</td>\n",
       "      <td>MinValue</td>\n",
       "      <td>2.750305</td>\n",
       "      <td>bar</td>\n",
       "      <td>HousePressure</td>\n",
       "      <td>2019-11-20 15:00:00</td>\n",
       "      <td>20</td>\n",
       "      <td>2</td>\n",
       "      <td>2019</td>\n",
       "      <td>11</td>\n",
       "      <td>15</td>\n",
       "      <td>0</td>\n",
       "      <td>0</td>\n",
       "      <td>47</td>\n",
       "    </tr>\n",
       "    <tr>\n",
       "      <td>4</td>\n",
       "      <td>aid-g-pump-4</td>\n",
       "      <td>g-pump-4</td>\n",
       "      <td>pressure</td>\n",
       "      <td>housing</td>\n",
       "      <td>MinValue</td>\n",
       "      <td>2.765568</td>\n",
       "      <td>bar</td>\n",
       "      <td>HousePressure</td>\n",
       "      <td>2019-11-20 16:00:00</td>\n",
       "      <td>20</td>\n",
       "      <td>2</td>\n",
       "      <td>2019</td>\n",
       "      <td>11</td>\n",
       "      <td>16</td>\n",
       "      <td>0</td>\n",
       "      <td>0</td>\n",
       "      <td>47</td>\n",
       "    </tr>\n",
       "  </tbody>\n",
       "</table>\n",
       "</div>"
      ],
      "text/plain": [
       "       asset_id asset_name sensor_type measurement_type feature_name  \\\n",
       "0  aid-g-pump-4   g-pump-4    pressure          housing     MinValue   \n",
       "1  aid-g-pump-4   g-pump-4    pressure          housing     MinValue   \n",
       "2  aid-g-pump-4   g-pump-4    pressure          housing     MinValue   \n",
       "3  aid-g-pump-4   g-pump-4    pressure          housing     MinValue   \n",
       "4  aid-g-pump-4   g-pump-4    pressure          housing     MinValue   \n",
       "\n",
       "   feature_value feature_unit    sensor_info            datetime   d  \\\n",
       "0       2.677808          bar  HousePressure 2019-11-19 18:00:00  19   \n",
       "1       3.170024          bar  HousePressure 2019-11-20 08:00:00  20   \n",
       "2       2.551893          bar  HousePressure 2019-11-20 14:00:00  20   \n",
       "3       2.750305          bar  HousePressure 2019-11-20 15:00:00  20   \n",
       "4       2.765568          bar  HousePressure 2019-11-20 16:00:00  20   \n",
       "\n",
       "   dayofweek  year  month  hour  minute  second  week  \n",
       "0          1  2019     11    18       0       0    47  \n",
       "1          2  2019     11     8       0       0    47  \n",
       "2          2  2019     11    14       0       0    47  \n",
       "3          2  2019     11    15       0       0    47  \n",
       "4          2  2019     11    16       0       0    47  "
      ]
     },
     "execution_count": 21,
     "metadata": {},
     "output_type": "execute_result"
    }
   ],
   "source": [
    "df_data.head()"
   ]
  },
  {
   "cell_type": "code",
   "execution_count": 22,
   "metadata": {},
   "outputs": [],
   "source": [
    "%%skip $skip_baseline_save\n",
    "\n",
    "row_housepressure_mean = get_row_dict_baseline(asset_id = asset_id,\n",
    "                                               asset_name = asset_name,\n",
    "                                               sensor_type = sensor_type,\n",
    "                                               measurement_type = measurement_type_housing,\n",
    "                                               feature_name = 'AvgValue',\n",
    "                                               metric_name = 'mean',\n",
    "                                               metric_value = mu_housepressure,\n",
    "                                               feature_unit = \"bar\",\n",
    "                                               sensor_info = HOUSE_PRESSURE,\n",
    "                                               notes = None)\n",
    "\n",
    "\n",
    "row_outletpressure_mean = get_row_dict_baseline(asset_id = asset_id,\n",
    "                                                asset_name = asset_name,\n",
    "                                                sensor_type = sensor_type,\n",
    "                                                measurement_type = measurement_type_outlet,\n",
    "                                                feature_name = 'AvgValue',\n",
    "                                                metric_name = 'mean',\n",
    "                                                metric_value = mu_outletpressure,\n",
    "                                                feature_unit = \"bar\",\n",
    "                                                sensor_info = OUTLET_PRESSURE,\n",
    "                                                notes = None)\n",
    "\n",
    "row_inletpressure_mean = get_row_dict_baseline(asset_id = asset_id,\n",
    "                                                asset_name = asset_name,\n",
    "                                                sensor_type = sensor_type,\n",
    "                                                measurement_type = measurement_type_outlet,\n",
    "                                                feature_name = 'AvgValue',\n",
    "                                                metric_name = 'mean',\n",
    "                                                metric_value = mu_inletpressure,\n",
    "                                                feature_unit = \"bar\",\n",
    "                                                sensor_info = INLET_PRESSURE,\n",
    "                                                notes = None)"
   ]
  },
  {
   "cell_type": "code",
   "execution_count": 23,
   "metadata": {},
   "outputs": [],
   "source": [
    "%%skip $skip_baseline_save\n",
    "\n",
    "row_housepressure_sigma = get_row_dict_baseline(asset_id = asset_id,\n",
    "                                               asset_name = asset_name,\n",
    "                                               sensor_type = sensor_type,\n",
    "                                               measurement_type = measurement_type_housing,\n",
    "                                               feature_name = 'AvgValue',\n",
    "                                               metric_name = 'sd',\n",
    "                                               metric_value = sigma_housepressure,\n",
    "                                               feature_unit = \"bar\",\n",
    "                                               sensor_info = HOUSE_PRESSURE,\n",
    "                                               notes = None)\n",
    "\n",
    "\n",
    "row_outletpressure_sigma = get_row_dict_baseline(asset_id = asset_id,\n",
    "                                                asset_name = asset_name,\n",
    "                                                sensor_type = sensor_type,\n",
    "                                                measurement_type = measurement_type_outlet,\n",
    "                                                feature_name = 'AvgValue',\n",
    "                                                metric_name = 'sd',\n",
    "                                                metric_value = sigma_outletpressure,\n",
    "                                                feature_unit = \"bar\",\n",
    "                                                sensor_info = OUTLET_PRESSURE,\n",
    "                                                notes = None)\n",
    "\n",
    "row_inletpressure_sigma = get_row_dict_baseline(asset_id = asset_id,\n",
    "                                                asset_name = asset_name,\n",
    "                                                sensor_type = sensor_type,\n",
    "                                                measurement_type = measurement_type_outlet,\n",
    "                                                feature_name = 'AvgValue',\n",
    "                                                metric_name = 'sd',\n",
    "                                                metric_value = sigma_inletpressure,\n",
    "                                                feature_unit = \"bar\",\n",
    "                                                sensor_info = INLET_PRESSURE,\n",
    "                                                notes = None)"
   ]
  },
  {
   "cell_type": "code",
   "execution_count": 24,
   "metadata": {},
   "outputs": [
    {
     "name": "stdout",
     "output_type": "stream",
     "text": [
      "{'asset_id': 'aid-g-pump-4', 'asset_name': 'g-pump-4', 'sensor_type': 'pressure', 'measurement_type': 'outlet', 'feature_name': 'AvgValue', 'metric_name': 'sd', 'metric_value': 0.2560543388428312, 'feature_unit': 'bar', 'sensor_info': 'OutletPressure', 'baseline_datetime': '2020-03-18 16:30:28', 'baseline_validity_month': 3, 'notes': None}\n"
     ]
    }
   ],
   "source": [
    "%%skip $skip_baseline_save\n",
    "print(row_outletpressure_sigma)"
   ]
  },
  {
   "cell_type": "code",
   "execution_count": 25,
   "metadata": {},
   "outputs": [],
   "source": [
    "%%skip $skip_baseline_save\n",
    "df_baseline = pd.DataFrame(columns=['asset_id','asset_name','sensor_type', 'measurement_type', 'feature_name', 'metric_name',\n",
    "                                    'metric_value', 'feature_unit', 'sensor_info', 'baseline_datetime', \n",
    "                                    'baseline_validity_month', 'notes'])\n",
    "df_baseline = df_baseline.append(row_housepressure_mean, ignore_index=True)\n",
    "df_baseline = df_baseline.append(row_housepressure_sigma, ignore_index=True)\n",
    "df_baseline = df_baseline.append(row_outletpressure_mean, ignore_index=True)\n",
    "df_baseline = df_baseline.append(row_outletpressure_sigma, ignore_index=True)\n",
    "df_baseline = df_baseline.append(row_inletpressure_mean, ignore_index=True)\n",
    "df_baseline = df_baseline.append(row_inletpressure_sigma, ignore_index=True)\n",
    "#df_baseline['uuid'] = [uuid.uuid4() for _ in range(len(df_baseline.index))]\n",
    "#df_baseline.drop(['asset_name'], axis=1, inplace=True)\n",
    "df_baseline.to_csv(baseline_data_filename, index = False)"
   ]
  },
  {
   "cell_type": "code",
   "execution_count": 26,
   "metadata": {},
   "outputs": [
    {
     "name": "stdout",
     "output_type": "stream",
     "text": [
      "       asset_id asset_name sensor_type measurement_type feature_name  \\\n",
      "0  aid-g-pump-4   g-pump-4    pressure          housing     AvgValue   \n",
      "1  aid-g-pump-4   g-pump-4    pressure          housing     AvgValue   \n",
      "2  aid-g-pump-4   g-pump-4    pressure           outlet     AvgValue   \n",
      "3  aid-g-pump-4   g-pump-4    pressure           outlet     AvgValue   \n",
      "\n",
      "  metric_name  metric_value feature_unit     sensor_info    baseline_datetime  \\\n",
      "0        mean      3.153583          bar   HousePressure  2020-03-18 16:30:28   \n",
      "1          sd      0.032020          bar   HousePressure  2020-03-18 16:30:28   \n",
      "2        mean     57.592667          bar  OutletPressure  2020-03-18 16:30:28   \n",
      "3          sd      0.256054          bar  OutletPressure  2020-03-18 16:30:28   \n",
      "\n",
      "  baseline_validity_month notes  \n",
      "0                       3  None  \n",
      "1                       3  None  \n",
      "2                       3  None  \n",
      "3                       3  None  \n"
     ]
    }
   ],
   "source": [
    "%%skip $skip_baseline_save\n",
    "df_baseline.dropna(subset=['metric_value'], inplace=True)\n",
    "print(df_baseline.head(10))"
   ]
  },
  {
   "cell_type": "markdown",
   "metadata": {},
   "source": [
    "*** "
   ]
  },
  {
   "cell_type": "markdown",
   "metadata": {},
   "source": [
    "## Convert DataFrame to Json and Push to Azure API"
   ]
  },
  {
   "cell_type": "code",
   "execution_count": 29,
   "metadata": {},
   "outputs": [],
   "source": [
    "# json_object = convert_baseline_data_to_json(df_baseline)\n",
    "# print(len(json_object))\n",
    "# json_object"
   ]
  },
  {
   "cell_type": "code",
   "execution_count": 51,
   "metadata": {},
   "outputs": [
    {
     "name": "stdout",
     "output_type": "stream",
     "text": [
      "201 Created\n"
     ]
    }
   ],
   "source": [
    "%%skip $skip_baseline_save\n",
    "json_object = convert_baseline_data_to_json(df_baseline)\n",
    "status_code, reason = save_to_api(json_object, dict_api['baseline_data_api'])\n",
    "print(status_code, reason)"
   ]
  },
  {
   "cell_type": "markdown",
   "metadata": {},
   "source": [
    "***"
   ]
  },
  {
   "cell_type": "markdown",
   "metadata": {},
   "source": [
    "***"
   ]
  }
 ],
 "metadata": {
  "kernelspec": {
   "display_name": "Python 3",
   "language": "python",
   "name": "python3"
  },
  "language_info": {
   "codemirror_mode": {
    "name": "ipython",
    "version": 3
   },
   "file_extension": ".py",
   "mimetype": "text/x-python",
   "name": "python",
   "nbconvert_exporter": "python",
   "pygments_lexer": "ipython3",
   "version": "3.7.4"
  }
 },
 "nbformat": 4,
 "nbformat_minor": 2
}
