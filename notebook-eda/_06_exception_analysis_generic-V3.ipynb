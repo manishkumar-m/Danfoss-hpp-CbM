{
 "cells": [
  {
   "cell_type": "code",
   "execution_count": 1,
   "metadata": {},
   "outputs": [],
   "source": [
    "#default_exp exception_fns"
   ]
  },
  {
   "cell_type": "code",
   "execution_count": 2,
   "metadata": {},
   "outputs": [],
   "source": [
    "#export\n",
    "import os\n",
    "import numpy as np\n",
    "import pandas as pd\n",
    "import plotly\n",
    "import matplotlib.pyplot as plt\n",
    "import datetime\n",
    "import plotly.express as px\n",
    "from plotly.offline import init_notebook_mode , plot_mpl\n",
    "import psutil\n",
    "import plotly.io as pio\n",
    "from IPython.display import display, HTML\n",
    "import random\n",
    "from vibsource.date_exclusions import *"
   ]
  },
  {
   "cell_type": "code",
   "execution_count": 3,
   "metadata": {},
   "outputs": [
    {
     "data": {
      "text/html": [
       "        <script type=\"text/javascript\">\n",
       "        window.PlotlyConfig = {MathJaxConfig: 'local'};\n",
       "        if (window.MathJax) {MathJax.Hub.Config({SVG: {font: \"STIX-Web\"}});}\n",
       "        if (typeof require !== 'undefined') {\n",
       "        require.undef(\"plotly\");\n",
       "        requirejs.config({\n",
       "            paths: {\n",
       "                'plotly': ['https://cdn.plot.ly/plotly-latest.min']\n",
       "            }\n",
       "        });\n",
       "        require(['plotly'], function(Plotly) {\n",
       "            window._Plotly = Plotly;\n",
       "        });\n",
       "        }\n",
       "        </script>\n",
       "        "
      ]
     },
     "metadata": {},
     "output_type": "display_data"
    }
   ],
   "source": [
    "init_notebook_mode(connected = True)\n",
    "pio.templates.default = \"plotly_white\"\n",
    "#from vibsource.exception_fns import *"
   ]
  },
  {
   "cell_type": "markdown",
   "metadata": {},
   "source": [
    "## INPUT AREA"
   ]
  },
  {
   "cell_type": "code",
   "execution_count": 4,
   "metadata": {},
   "outputs": [],
   "source": [
    "#hide\n",
    "data_folder =  \".\\data-cd\\\\Pump6\\\\\"\n",
    "asset_id = \"aid-g-pump-6\"\n",
    "asset_name = 'g-pump-6'\n",
    "metric_type = \"pressure\"\n",
    "direction = None # Placeholder for the dataset column.\n",
    "lst_exclude_dates = lst_exclude_dates_pump5;"
   ]
  },
  {
   "cell_type": "code",
   "execution_count": 5,
   "metadata": {},
   "outputs": [],
   "source": [
    "#export\n",
    "HOUSE_PRESSURE = \"HousePressure\"\n",
    "INLET_PRESSURE = \"InletPressure\"\n",
    "OUTLET_PRESSURE = \"OutletPressure\"\n",
    "#lst_exclude_dates_dec_19 = [(3,12,2019),(4,12,2019),(5,12,2019),(6,12,2019),(7,12,2019),(8,12,2019),(9,12,2019),\n",
    "#                    (10,12,2019),(11,12,2019),(12,12,2019),(13,12,2019)]\n",
    "#lst_exclude_dates_jan_20 = [(13,1,2020),(14,1,2020),(15,1,2020),(16,1,2020),(17,1,2020),(18,1,2020),(19,1,2020),\n",
    "#                    (20,1,2020),(21,1,2020),(22,1,2020),(23,1,2020)]"
   ]
  },
  {
   "cell_type": "code",
   "execution_count": 6,
   "metadata": {},
   "outputs": [],
   "source": [
    "#export\n",
    "def dmytostr(d,m,y):\n",
    "    return str(d) + \"-\" + str(m) + \"-\" + str(y)\n",
    "\n",
    "def dmytotuple(d,m,y):\n",
    "    return (d,m,y)\n",
    "\n",
    "def get_common_dates_list(df1, df2, df3):\n",
    "    df = pd.merge(df1, df2, how='inner')\n",
    "    df_common_dates_exception_data = pd.merge(df, df3, how='inner')\n",
    "    df_common_dates_exception_data['datestr'] = list(map(dmytostr, df_common_dates_exception_data['d'], \n",
    "                                               df_common_dates_exception_data['month'],\n",
    "                                               df_common_dates_exception_data['year']))\n",
    "    lst_common_dates = list(map(dmytotuple, df_common_dates_exception_data['d'], \n",
    "                                               df_common_dates_exception_data['month'],\n",
    "                                               df_common_dates_exception_data['year']))\n",
    "    return lst_common_dates\n",
    "\n",
    "def add_date_components(df, date_col_name = 'Date_Hour'):\n",
    "    # ensure that the column provided is datetime.\n",
    "    if (df[date_col_name].dtype != 'datetime64[ns]'):\n",
    "        df[date_col_name] = pd.to_datetime(df[date_col_name])\n",
    "    df = df.assign(d=df[date_col_name].dt.day)\n",
    "    df = df.assign(dayofweek=df[date_col_name].dt.dayofweek)\n",
    "    df = df.assign(year=df[date_col_name].dt.year)\n",
    "    df = df.assign(month=df[date_col_name].dt.month)\n",
    "    df = df.assign(hour=df[date_col_name].dt.hour)\n",
    "    df = df.assign(minute=df[date_col_name].dt.minute)\n",
    "    df = df.assign(second=df[date_col_name].dt.second)\n",
    "    df = df.assign(week=df[date_col_name].dt.week)\n",
    "    return(df)\n",
    "\n",
    "\n",
    "def remove_rows_from_df(df, lst_exclude_dates):\n",
    "    #lst_exclude_dates = [(2,3,2019), (2,4,2019)]\n",
    "    for d,m,y in lst_exclude_dates:\n",
    "        df = df[~((df.d == d)&(df.month==m)&(df.year==y))]\n",
    "    return df\n",
    "\n",
    "def get_one_day_data(df , day, month, year):\n",
    "    df_one_day_data = df[(df['d'] == day) & (df['month'] == month) & (df['year'] == year) ]\n",
    "    return df_one_day_data\n",
    "\n",
    "def get_dmy_from_dates(df, i):\n",
    "    assert df.shape[0] > i-1, \"DataAnalysis_DataRangeError: Date range out of bounds, max you can use is:\" + str(df.shape[0])\n",
    "    y = df.iloc[i]['year']\n",
    "    d = df.iloc[i]['d']\n",
    "    m = df.iloc[i]['month']\n",
    "    return d,m, y\n",
    "\n",
    "\n",
    "def get_days_trace(df, d , m, y, x_column_name, y_column_name, trace_name = \"default\"):\n",
    "    cond_match = ((df['d'] == d) & (df['month'] == m)  & (df['year'] == y))\n",
    "    df = df[cond_match].reset_index()\n",
    "    #df = df.query('date == 2009 & id == 35988')\n",
    "    _line = plotly.graph_objs.Scatter(x=list(df[x_column_name]),\n",
    "                                      y =df[y_column_name], name = trace_name,\n",
    "                                    mode='markers')\n",
    "    return _line\n",
    "    #return get_plotly_trace(df, x_column_name, y_column_name, trace_name)"
   ]
  },
  {
   "cell_type": "code",
   "execution_count": 90,
   "metadata": {},
   "outputs": [],
   "source": [
    "#export\n",
    "class AssetInfo:\n",
    "    HOUSE_PRESSURE = \"HousePressure\"\n",
    "    INLET_PRESSURE = \"InletPressure\"\n",
    "    OUTLET_PRESSURE = \"OutletPressure\"\n",
    "    \n",
    "    \n",
    "    def __init__(self, data_folder, asset_id, metric_type\n",
    "                 ,direction = None, asset_name = \"Not provided\"):\n",
    "        print(\"init\")\n",
    "        self.data_folder = data_folder\n",
    "        self.asset_id = asset_id\n",
    "        self.metric_type = metric_type\n",
    "        self.direction = direction\n",
    "        self.asset_name = asset_name\n",
    "        self.image_dir = \"./images/\" + asset_id + \"/\"\n",
    "        print(self.image_dir)\n",
    "        self.A_overall_plot_dir = self.image_dir + \"A-overall-data-plots/\"\n",
    "        self.B_common_exception_days_dir  = self.image_dir + \"B-Common-Exception-Days/\"\n",
    "        self.C_unique_exception_days_dir  = self.image_dir + \"C-Unique-Exception-Days/\"\n",
    "        self.D_normal_days_dir  = self.image_dir + \"D-Normal-Days/\"\n",
    "        self.E_monthly_plots_dir  = self.image_dir + \"E-Monthly-Plots/\"\n",
    "        \n",
    "        self.result_file = \"./\" + \"summary-\" + asset_id + \".txt\"\n",
    "        if not (os.path.exists(self.image_dir)):\n",
    "            print(\"creating\", self.image_dir)\n",
    "            os.mkdir(self.image_dir) \n",
    " \n",
    "        if not (os.path.exists(self.D_normal_days_dir)):\n",
    "            os.mkdir(self.D_normal_days_dir)  \n",
    "            #print(\"creating\", self.D_normal_days_dir)\n",
    "        if not (os.path.exists(self.E_monthly_plots_dir)):\n",
    "            os.mkdir(self.E_monthly_plots_dir)\n",
    "        if not (os.path.exists(self.C_unique_exception_days_dir)):\n",
    "            os.mkdir(self.C_unique_exception_days_dir)  \n",
    "        if not (os.path.exists(self.B_common_exception_days_dir)):\n",
    "            os.mkdir(self.B_common_exception_days_dir)  \n",
    "        if not (os.path.exists(self.A_overall_plot_dir)):\n",
    "            os.mkdir(self.A_overall_plot_dir)     \n",
    "            \n",
    "        \n",
    "        #self.variable_name = variable_name\n",
    "    def write_data(self , strtext):\n",
    "        #filename_debug = dir_name_debug +  \"00debug_sentences.txt\"\n",
    "        with open(self.result_file, 'a') as the_file:\n",
    "            the_file.write( strtext +  \"\\n\")\n",
    "        the_file.close()\n",
    "    def print_line(self):\n",
    "        self.write_data(\"------------------------------------------------------------------------------------------------------\")\n",
    "    def get_file_path(self, variable_name):\n",
    "         return self.data_folder + variable_name + \".csv\"\n",
    "        \n",
    "    def get_raw_data(self, variable_name):\n",
    "        df = pd.read_csv(self.get_file_path(variable_name))\n",
    "        df = add_date_components(df, \"DateString\")\n",
    "        if ( variable_name == HOUSE_PRESSURE):\n",
    "            self.df_housepressure_raw = df\n",
    "        if ( variable_name == INLET_PRESSURE):\n",
    "            self.df_inletpressure_raw = df\n",
    "        if ( variable_name == OUTLET_PRESSURE):\n",
    "            self.df_outletpressure_raw = df\n",
    "        return df\n",
    "    \n",
    "    def get_num_days_for_all_data(self, variable_name = OUTLET_PRESSURE):\n",
    "        \"\"\"\n",
    "        getting dates when negative data is seen.\n",
    "        \"\"\"\n",
    "        df = pd.read_csv(self.get_file_path(variable_name))\n",
    "        df_raw_negative_data = add_date_components(df, \"DateString\")\n",
    "        df_dates_neg_data = df_raw_negative_data[['year', 'month', 'd']].drop_duplicates()\n",
    "        #df_dates_neg_data.shape\n",
    "        return(df_dates_neg_data.shape[0])\n",
    "    \n",
    "    def get_dates_for_negative_data(self, variable_name = OUTLET_PRESSURE, thresh = 0):\n",
    "        \"\"\"\n",
    "        getting dates when negative data is seen.\n",
    "        \"\"\"\n",
    "        df = pd.read_csv(self.get_file_path(variable_name))\n",
    "        df_raw_negative_data = add_date_components(df, \"DateString\")\n",
    "        df_raw_negative_data = df_raw_negative_data[df_raw_negative_data['Value'] < thresh]\n",
    "        #print(df_raw_negative_data.head())\n",
    "        df_dates_neg_data = df_raw_negative_data[['year', 'month', 'd']].drop_duplicates()\n",
    "        #df_dates_neg_data.shape\n",
    "        return(df_dates_neg_data)\n",
    "    def plot_single_variable_uncommon_day(self, day, month, year, variable_name = HOUSE_PRESSURE\n",
    "                        , title = \"<please provide>\", printplot = False):\n",
    "        df_raw_data = pd.read_csv(self.get_file_path(variable_name))\n",
    "        df_raw_data = add_date_components(df_raw_data, \"DateString\")\n",
    "        #title = \" {} on {} {} {} for asset {}-Uncommon Day Ex.\".format(variable_name, day, month, year, self.asset_id)\n",
    "        title = \"{}-{}-{}-variable-{}-asset-{}-c-unique_days\".format(year,f'{month:02}',f'{day:02}', variable_name, self.asset_id)\n",
    "        #print(title)\n",
    "        df = get_one_day_data(df_raw_data, day, month, year)\n",
    "        file_name = self.C_unique_exception_days_dir + title + \".png\"\n",
    "        #file_name = self.C_unique_exception_days_dir + \"C-Uncommon-day-\" \n",
    "        #+ str(day) + \"-\" + str(month) + \"-\" + str(year) + \"-\" + self.asset_name + \"-\" + variable_name + \".png\"\n",
    "        #print(file_name)\n",
    "        if printplot:\n",
    "            fig = px.scatter(df, x=\"DateString\", y=\"AvgValue\", title=title)\n",
    "            #fig.write_image(file_name)\n",
    "            fig.show()\n",
    "        # MATPLOTLIB SAVE: Using matplotlib to save data since plotly takes lot of time\n",
    "        _ = plt.plot( 'DateString', 'AvgValue', data=df, marker='', linewidth=2, color='blue', label = variable_name)\n",
    "        #_ = plt.title(title)\n",
    "        _ = plt.title( title, fontdict = {'fontsize' : 6})\n",
    "        _ = plt.legend()\n",
    "        plt.xticks(fontsize=6, rotation=60)\n",
    "        _ = plt.savefig( file_name, dpi=800)\n",
    "        plt.close()\n",
    "        \n",
    "    def plot_single_variable_normal_day(self, day, month, year, variable_name = HOUSE_PRESSURE\n",
    "                        , title = \"<please provide>\", printplot = False):\n",
    "        df_raw_data = pd.read_csv(self.get_file_path(variable_name))\n",
    "        df_raw_data = add_date_components(df_raw_data, \"DateString\")\n",
    "        #title = \" {} on {} {} {} for asset {} - Normal Day\".format(variable_name, day, month, year, self.asset_id)\n",
    "        title = \"{}-{}-{}-variable-{}-asset-{}-d-normal-days\".format(year,f'{month:02}',f'{day:02}', variable_name, self.asset_id)\n",
    "        #print(title)\n",
    "        df = get_one_day_data(df_raw_data, day, month, year)\n",
    "        #file_name = self.D_normal_days_dir + \"D-Normal-day-\" + str(day) + \"-\" + str(month) + \"-\" + str(year) + self.asset_name + \"-\" + variable_name + \".png\"\n",
    "        file_name = self.D_normal_days_dir + title + \".png\"\n",
    "        \n",
    "        #print(file_name)\n",
    "        if printplot:\n",
    "            fig = px.scatter(df, x=\"DateString\", y=\"AvgValue\", title=title)\n",
    "            #fig.write_image(file_name)\n",
    "            fig.show()\n",
    "        # Using matplotlib to save data since plotly takes lot of time\n",
    "        _ = plt.plot( 'DateString', 'AvgValue', data=df, marker='', linewidth=2, color='blue', label = variable_name)\n",
    "        #_ = plt.title(title)\n",
    "        _ = plt.title( title, fontdict = {'fontsize' : 6})\n",
    "        _ = plt.legend()\n",
    "        plt.xticks(fontsize=6, rotation=60)\n",
    "        _ = plt.savefig( file_name, dpi=800)\n",
    "        plt.close()\n",
    "        #fig.show()\n",
    "    def plot_overall_data(self, df, variable_name):\n",
    "        title = \" Overall data for variable: {}, for asset: {}\".format(variable_name, self.asset_id)\n",
    "        #fig = px.scatter(df, x=\"DateString\", y=\"AvgValue\", title=title)\n",
    "        #_ = plt.plot( 'DateString', 'AvgValue', data=df, marker='', linewidth=2, color='blue', label = variable_name)\n",
    "        _ = plt.scatter(df[\"DateString\"], df[\"AvgValue\"], marker = ',', s = .5)\n",
    "        plt.xticks(fontsize=6, rotation=60)\n",
    "        #_ = plt.title(title)\n",
    "        _ = plt.title( title, fontdict = {'fontsize' : 6})\n",
    "        #_ = plt.legend()\n",
    "        file_name = self.A_overall_plot_dir + \"A-overall-data\" + self.asset_name + \"-\" + variable_name + \".png\"\n",
    "        _ = plt.savefig( file_name, dpi=800)\n",
    "        plt.close()\n",
    "        #fig.write_image(file_name)\n",
    "    def save_plot_for_all_vars_for_day(self, d, m, y, df_ip, df_hp, df_op, show_on_page = False):\n",
    "        #d = 20\n",
    "        #m = 2\n",
    "        #y = 2019\n",
    "        print(d,m,y)\n",
    "        cond_match_hp = ((df_hp['d'] == d) & (df_hp['month'] == m)  & (df_hp['year'] == y))\n",
    "        cond_match_ip = ((df_ip['d'] == d) & (df_ip['month'] == m)  & (df_ip['year'] == y))\n",
    "        cond_match_op = ((df_op['d'] == d) & (df_op['month'] == m)  & (df_op['year'] == y))\n",
    "        df_hpd = df_hp[cond_match_hp].reset_index()\n",
    "        df_ipd = df_ip[cond_match_ip].reset_index()\n",
    "        df_opd = df_op[cond_match_op].reset_index()\n",
    "        #title = \"B-Common-Day-{} on {} {} {} for asset {}\".format('all-variables', d, m, y, self.asset_id)\n",
    "        title = \"{}-{}-{}-asset-{}-b-common-exception-days\".format(y,f'{m:02}',f'{d:02}', self.asset_id)\n",
    "        _ = plt.plot( 'DateString', 'AvgValue', data=df_hpd, marker='', linewidth=2, color='blue', label = \"house\")\n",
    "        _ = plt.plot( 'DateString', 'AvgValue', data=df_opd, marker='', color='olive', linewidth=2, label = \"outlet\")\n",
    "        _ = plt.plot( 'DateString', 'AvgValue', data=df_ipd, marker='', color='red', linewidth=2, label = \"inlet\")\n",
    "        #title = \"Comparison of all vars on {} {} {}\".format(d, m, y)\n",
    "        plt.xticks(fontsize=6, rotation=60)\n",
    "        #_ = plt.title(title)\n",
    "        _ = plt.title( title, fontdict = {'fontsize' : 6})\n",
    "        _ = plt.legend()\n",
    "        _ = plt.savefig( self.B_common_exception_days_dir  + title + \".png\", dpi=800)\n",
    "        plt.close()\n",
    "        if show_on_page:\n",
    "            self.show_plotly_plot_for_all_vars_for_day(d, m, y, df_ip, df_hp, df_op)\n",
    "        #plot_mpl(fig, image='png')\n",
    "        #fig.show()\n",
    "    def show_plotly_plot_for_all_vars_for_day(self, d, m, y, df_ipd, df_hpd, df_opd):\n",
    "        hp_trace = get_days_trace(df_hp, d, m, y, 'DateString', 'AvgValue', self.HOUSE_PRESSURE )\n",
    "        ip_trace = get_days_trace(df_ip, d, m, y, 'DateString', 'AvgValue', self.INLET_PRESSURE )\n",
    "        op_trace = get_days_trace(df_op, d, m, y, 'DateString', 'AvgValue', self.OUTLET_PRESSURE )\n",
    "        #plotly.offline.iplot([hp_trace, ip_trace, op_trace], filename = './test', image='png')\n",
    "        plotly.offline.iplot([hp_trace, ip_trace, op_trace])\n",
    "    def save_plot_for_all_vars_for_a_month( self, m, y, df_ip, df_hp, df_op, show_on_page = False):\n",
    "        #d = 20\n",
    "        #m = 2\n",
    "        #y = 2019\n",
    "        #print(d,m,y)\n",
    "        cond_match_hp = ((df_hp['month'] == m)  & (df_hp['year'] == y))\n",
    "        cond_match_ip = ((df_ip['month'] == m)  & (df_ip['year'] == y))\n",
    "        cond_match_op = ((df_op['month'] == m)  & (df_op['year'] == y))\n",
    "        df_hpd = df_hp[cond_match_hp].reset_index()\n",
    "        df_ipd = df_ip[cond_match_ip].reset_index()\n",
    "        df_opd = df_op[cond_match_op].reset_index()\n",
    "        #title = \"E-monthly-{} for {} {} for asset {}\".format('all-variables', m, y, self.asset_id)\n",
    "        title = \"{}-{}-all-variables-asset-{}-e-monthly-data\".format(y,f'{m:2}', self.asset_id)\n",
    "        _ = plt.plot( 'DateString', 'AvgValue', data=df_hpd, marker='.', linewidth=2, color='blue', label = \"house\")\n",
    "        _ = plt.plot( 'DateString', 'AvgValue', data=df_opd, marker='.', color='olive', linewidth=2, label = \"outlet\")\n",
    "        _ = plt.plot( 'DateString', 'AvgValue', data=df_ipd, marker='.', color='red', linewidth=2, label = \"inlet\")\n",
    "        plt.xticks(fontsize=6, rotation=60)\n",
    "        #_ = plt.title(title)\n",
    "        _ = plt.title( title, fontdict = {'fontsize' : 6})\n",
    "        _ = plt.legend()\n",
    "        _ = plt.savefig( self.E_monthly_plots_dir  + title + \".png\", dpi=800)\n",
    "        plt.close()"
   ]
  },
  {
   "cell_type": "code",
   "execution_count": 91,
   "metadata": {},
   "outputs": [],
   "source": [
    "#plt.scatter?"
   ]
  },
  {
   "cell_type": "code",
   "execution_count": 92,
   "metadata": {},
   "outputs": [
    {
     "name": "stdout",
     "output_type": "stream",
     "text": [
      "init\n",
      "./images/aid-g-pump-6/\n"
     ]
    }
   ],
   "source": [
    "obj_asset_info = AssetInfo(data_folder, asset_id,  metric_type, direction, asset_name)"
   ]
  },
  {
   "cell_type": "code",
   "execution_count": 64,
   "metadata": {},
   "outputs": [],
   "source": [
    "df_op = obj_asset_info.get_raw_data(OUTLET_PRESSURE)\n",
    "df_hp = obj_asset_info.get_raw_data(HOUSE_PRESSURE)\n",
    "df_ip = obj_asset_info.get_raw_data(INLET_PRESSURE)"
   ]
  },
  {
   "cell_type": "code",
   "execution_count": 65,
   "metadata": {},
   "outputs": [
    {
     "data": {
      "text/plain": [
       "16"
      ]
     },
     "execution_count": 65,
     "metadata": {},
     "output_type": "execute_result"
    }
   ],
   "source": [
    "df_op.shape[1]"
   ]
  },
  {
   "cell_type": "code",
   "execution_count": 66,
   "metadata": {},
   "outputs": [],
   "source": [
    "obj_asset_info.write_data(\"Generating summary for asset: {} : {}\\n\".format(asset_id, asset_name))"
   ]
  },
  {
   "cell_type": "code",
   "execution_count": 67,
   "metadata": {},
   "outputs": [],
   "source": [
    "obj_asset_info.write_data(\"Number of observations for Outlet Pressue: {}\".format(df_op.shape[0]))\n",
    "obj_asset_info.write_data(\"Number of observations for Inlet Pressue: {}\".format(df_ip.shape[0]))\n",
    "obj_asset_info.write_data(\"Number of observations for Housing Pressue: {}\".format(df_hp.shape[0]))"
   ]
  },
  {
   "cell_type": "code",
   "execution_count": 68,
   "metadata": {},
   "outputs": [
    {
     "name": "stdout",
     "output_type": "stream",
     "text": [
      "(10669, 16)\n",
      "(9837, 16)\n",
      "(9837, 16)\n"
     ]
    }
   ],
   "source": [
    "df_op = remove_rows_from_df(df_op, lst_exclude_dates); print(df_op.shape)\n",
    "df_ip = remove_rows_from_df(df_ip, lst_exclude_dates); print(df_ip.shape)\n",
    "df_hp = remove_rows_from_df(df_hp, lst_exclude_dates); print(df_hp.shape)"
   ]
  },
  {
   "cell_type": "code",
   "execution_count": 69,
   "metadata": {},
   "outputs": [],
   "source": [
    "obj_asset_info.write_data(\"Number of observations for Outlet Pressue after Exclusion: {}\".format(df_op.shape[0]))\n",
    "obj_asset_info.write_data(\"Number of observations for Inlet Pressue after Exclusion: {}\".format(df_ip.shape[0]))\n",
    "obj_asset_info.write_data(\"Number of observations for Housing Pressue after Exclusion: {}\".format(df_hp.shape[0]))"
   ]
  },
  {
   "cell_type": "code",
   "execution_count": 70,
   "metadata": {},
   "outputs": [
    {
     "name": "stdout",
     "output_type": "stream",
     "text": [
      "(10669, 16)\n",
      "(9837, 16)\n",
      "(9837, 16)\n"
     ]
    }
   ],
   "source": [
    "print(df_op.shape);print(df_hp.shape);print(df_ip.shape);"
   ]
  },
  {
   "cell_type": "markdown",
   "metadata": {},
   "source": [
    "## Plot Overall Data - whole timeframe"
   ]
  },
  {
   "cell_type": "code",
   "execution_count": 93,
   "metadata": {},
   "outputs": [],
   "source": [
    "obj_asset_info.plot_overall_data(df_op, OUTLET_PRESSURE)"
   ]
  },
  {
   "cell_type": "code",
   "execution_count": 88,
   "metadata": {},
   "outputs": [],
   "source": [
    "obj_asset_info.plot_overall_data(df_ip, INLET_PRESSURE)"
   ]
  },
  {
   "cell_type": "code",
   "execution_count": 89,
   "metadata": {},
   "outputs": [],
   "source": [
    "obj_asset_info.plot_overall_data(df_hp, HOUSE_PRESSURE)"
   ]
  },
  {
   "cell_type": "markdown",
   "metadata": {},
   "source": [
    "## Number of Days for Data"
   ]
  },
  {
   "cell_type": "code",
   "execution_count": 19,
   "metadata": {},
   "outputs": [],
   "source": [
    "num_days_op = obj_asset_info.get_num_days_for_all_data(variable_name = OUTLET_PRESSURE)\n",
    "num_days_ip = obj_asset_info.get_num_days_for_all_data(variable_name = INLET_PRESSURE)\n",
    "num_days_hp = obj_asset_info.get_num_days_for_all_data(variable_name = HOUSE_PRESSURE)"
   ]
  },
  {
   "cell_type": "code",
   "execution_count": 20,
   "metadata": {},
   "outputs": [],
   "source": [
    "obj_asset_info.write_data(\"Number of days for Outlet Pressue overall: {}\".format(num_days_op))\n",
    "obj_asset_info.write_data(\"Number of days for Inlet Pressue with overall: {}\".format(num_days_ip))\n",
    "obj_asset_info.write_data(\"Number of days for Housing Pressue with overall: {}\".format(num_days_hp))"
   ]
  },
  {
   "cell_type": "markdown",
   "metadata": {},
   "source": [
    "## Getting exception data and removing them"
   ]
  },
  {
   "cell_type": "code",
   "execution_count": 21,
   "metadata": {},
   "outputs": [],
   "source": [
    "df_negative_data_dates_hp = obj_asset_info.get_dates_for_negative_data(HOUSE_PRESSURE, thresh =1)\n",
    "df_negative_data_dates_ip = obj_asset_info.get_dates_for_negative_data(INLET_PRESSURE, thresh = 1)\n",
    "df_negative_data_dates_op = obj_asset_info.get_dates_for_negative_data(OUTLET_PRESSURE, thresh = 1)\n",
    "\n",
    "df_negative_data_dates_hp = remove_rows_from_df(df_negative_data_dates_hp, lst_exclude_dates)\n",
    "df_negative_data_dates_ip = remove_rows_from_df(df_negative_data_dates_ip, lst_exclude_dates)\n",
    "df_negative_data_dates_op = remove_rows_from_df(df_negative_data_dates_op, lst_exclude_dates)"
   ]
  },
  {
   "cell_type": "code",
   "execution_count": 22,
   "metadata": {},
   "outputs": [],
   "source": [
    "obj_asset_info.write_data(\"Number of days for Outlet Pressue with exceptional data: {}\".format(df_negative_data_dates_op.shape[0]))\n",
    "obj_asset_info.write_data(\"Number of days for Inlet Pressue with exceptional data: {}\".format(df_negative_data_dates_ip.shape[0]))\n",
    "obj_asset_info.write_data(\"Number of days for Housing Pressue with exceptional data: {}\".format(df_negative_data_dates_hp.shape[0]))"
   ]
  },
  {
   "cell_type": "markdown",
   "metadata": {},
   "source": [
    "## Getting dates when exceptional data is found across all variables (Common)"
   ]
  },
  {
   "cell_type": "code",
   "execution_count": 23,
   "metadata": {},
   "outputs": [],
   "source": [
    "#def get_normal_dates(df, df_exception_days):"
   ]
  },
  {
   "cell_type": "code",
   "execution_count": 24,
   "metadata": {},
   "outputs": [],
   "source": [
    "lst_common_dates = get_common_dates_list(df_negative_data_dates_hp,\n",
    "                                        df_negative_data_dates_ip,\n",
    "                                        df_negative_data_dates_op)\n",
    "#len(lst_common_dates)"
   ]
  },
  {
   "cell_type": "code",
   "execution_count": 25,
   "metadata": {},
   "outputs": [],
   "source": [
    "obj_asset_info.write_data(\"Days when exceptional data is found across all variables: {}\".format(len(lst_common_dates)))"
   ]
  },
  {
   "cell_type": "markdown",
   "metadata": {},
   "source": [
    "### Common dates spanning all three variable with exceptional data"
   ]
  },
  {
   "cell_type": "code",
   "execution_count": 26,
   "metadata": {},
   "outputs": [],
   "source": [
    "def get_normal_dates(df, df_exception_days):\n",
    "    #df = df_hp\n",
    "    #df_exception_days = df_negative_data_dates_hp\n",
    "    lst_exception_dates = list(map(dmytotuple, df_exception_days['d'], \n",
    "                                               df_exception_days['month'],\n",
    "                                               df_exception_days['year']))\n",
    "    df = remove_rows_from_df(df, lst_exception_dates)\n",
    "    lst_normal_dates = list(map(dmytotuple, df['d'], \n",
    "                                               df['month'],\n",
    "                                               df['year']))\n",
    "    lst_normal_dates = list(set(lst_normal_dates))\n",
    "    return lst_normal_dates"
   ]
  },
  {
   "cell_type": "code",
   "execution_count": 27,
   "metadata": {},
   "outputs": [],
   "source": [
    "def save_normal_plots(df, variable_name, number_of_instances, df_exception_dates):\n",
    "    listtoprint = get_normal_dates(df, df_exception_dates)\n",
    "    list_index = get_random_list(listtoprint, number_of_instances)\n",
    "    counter = 0\n",
    "    for l in list_index:\n",
    "        #print(listtoprint[l])\n",
    "        counter += 1\n",
    "        print(counter)\n",
    "        obj_asset_info.plot_single_variable_normal_day(*listtoprint[l], variable_name)\n",
    "    # Set the variable to True to print on page , but it slows down the page.\n",
    "        #obj_asset_info.plot_single_variable_normal_day( *l, variable_name = variable_name)"
   ]
  },
  {
   "cell_type": "code",
   "execution_count": 28,
   "metadata": {},
   "outputs": [],
   "source": [
    "def save_exceptional_plots_for_common_days(number_of_instances, lst_common_dates, df_hp, df_ip, df_op):\n",
    "    #listtoprint = get_normal_dates(df, df_exception_days)\n",
    "    list_index = get_random_list(lst_common_dates, number_of_instances)\n",
    "    counter = 0\n",
    "    #print(list_index)\n",
    "    for l in list_index:\n",
    "        counter += 1\n",
    "        print(counter)\n",
    "        obj_asset_info.save_plot_for_all_vars_for_day(*lst_common_dates[l],df_hp=df_hp, df_ip= df_ip, df_op = df_op)\n",
    "        #save_plot_for_all_vars_for_a_month"
   ]
  },
  {
   "cell_type": "code",
   "execution_count": 29,
   "metadata": {},
   "outputs": [],
   "source": [
    "def save_uncommon_exception_plots(df, variable_name, number_of_instances, lst_common_dates):\n",
    "    lst_exception_uncommon_dates = get_uncommon_dates(df, lst_common_dates)\n",
    "    #print(len(lst_exception_uncommon_dates))\n",
    "    list_index = get_random_list(lst_exception_uncommon_dates, number_of_instances)\n",
    "    counter = 0\n",
    "    #print(\"li\", list_index)\n",
    "    for l in list_index:\n",
    "        #print(lst_exception_uncommon_dates[l])\n",
    "        # Set the variable to True to print on page , but it slows down the page.\n",
    "        counter += 1\n",
    "        print(counter)\n",
    "        obj_asset_info.plot_single_variable_uncommon_day( *lst_exception_uncommon_dates[l], variable_name = variable_name)\n",
    "    return lst_exception_uncommon_dates"
   ]
  },
  {
   "cell_type": "code",
   "execution_count": 30,
   "metadata": {},
   "outputs": [],
   "source": [
    "def get_uncommon_dates(df, lst_common_dates):\n",
    "    df_negative_data_uncommon = remove_rows_from_df(df, lst_common_dates)\n",
    "    lst_negative_data_uncommon = list(map(dmytotuple, df_negative_data_uncommon['d'], \n",
    "                                               df_negative_data_uncommon['month'],\n",
    "                                               df_negative_data_uncommon['year']))\n",
    "    #print(lst_negative_data_uncommon)\n",
    "    return lst_negative_data_uncommon"
   ]
  },
  {
   "cell_type": "code",
   "execution_count": 31,
   "metadata": {},
   "outputs": [],
   "source": [
    "def get_random_list(lst_dates, num_to_show=5):\n",
    "    #print(num_to_show,len(lst_dates))\n",
    "    #print(\"rs\", random.sample(range(0, len(lst_dates) - 1), len(lst_dates) - 1))\n",
    "    if ( num_to_show < len(lst_dates)):\n",
    "        randomlist = random.sample(range(0, len(lst_dates) - 1), num_to_show)\n",
    "    if (num_to_show >= len(lst_dates)):\n",
    "        randomlist = list(range(0, len(lst_dates)))\n",
    "    # fixing when it has only one element.\n",
    "    if (len(lst_dates) == 1):\n",
    "        randomlist = [0]\n",
    "    return randomlist"
   ]
  },
  {
   "cell_type": "code",
   "execution_count": 32,
   "metadata": {},
   "outputs": [],
   "source": [
    "#\", \".join([str(x) for x in lst_common_dates])"
   ]
  },
  {
   "cell_type": "markdown",
   "metadata": {},
   "source": [
    "## Comparing all three variables on some of the exceptional dates"
   ]
  },
  {
   "cell_type": "code",
   "execution_count": 33,
   "metadata": {},
   "outputs": [],
   "source": [
    "save_exceptional_plots_for_common_days(999, lst_common_dates, df_hp, df_ip, df_op)"
   ]
  },
  {
   "cell_type": "markdown",
   "metadata": {},
   "source": [
    "## Plotting for Uncommon Dates"
   ]
  },
  {
   "cell_type": "markdown",
   "metadata": {},
   "source": [
    "### Plotting for uncommon dates - Housepressure"
   ]
  },
  {
   "cell_type": "code",
   "execution_count": 34,
   "metadata": {},
   "outputs": [],
   "source": [
    "lst_uncommon_dates_hp = save_uncommon_exception_plots(df_negative_data_dates_hp, HOUSE_PRESSURE, 999, lst_common_dates)\n",
    "obj_asset_info.write_data(\"Days when exceptional data is found for housepressure (not others): {}\".format(len(lst_uncommon_dates_hp)))"
   ]
  },
  {
   "cell_type": "code",
   "execution_count": 35,
   "metadata": {},
   "outputs": [
    {
     "name": "stdout",
     "output_type": "stream",
     "text": [
      "0\n"
     ]
    }
   ],
   "source": [
    "print(len(lst_uncommon_dates_hp))"
   ]
  },
  {
   "cell_type": "markdown",
   "metadata": {},
   "source": [
    "### Plotting for uncommon dates - Outlet pressure"
   ]
  },
  {
   "cell_type": "code",
   "execution_count": 36,
   "metadata": {},
   "outputs": [],
   "source": [
    "lst_uncommon_dates_op = save_uncommon_exception_plots(df_negative_data_dates_op, OUTLET_PRESSURE, 999, lst_common_dates)\n",
    "obj_asset_info.write_data(\"Days when exceptional data is found for outlet pressure (not others): {}\".format(len(lst_uncommon_dates_op)))"
   ]
  },
  {
   "cell_type": "code",
   "execution_count": 37,
   "metadata": {},
   "outputs": [],
   "source": [
    "#lst_uncommon_dates_op"
   ]
  },
  {
   "cell_type": "markdown",
   "metadata": {},
   "source": [
    "### Plotting for uncommon dates - Inlet pressure"
   ]
  },
  {
   "cell_type": "code",
   "execution_count": 38,
   "metadata": {},
   "outputs": [],
   "source": [
    "lst_uncommon_dates_ip = save_uncommon_exception_plots(df_negative_data_dates_ip, INLET_PRESSURE, 999, lst_common_dates)\n",
    "obj_asset_info.write_data(\"Days when exceptional data is found for inletpressure (not others): {}\".format(len(lst_uncommon_dates_ip)))"
   ]
  },
  {
   "cell_type": "markdown",
   "metadata": {},
   "source": [
    "## Plotting Normal Days behaviour"
   ]
  },
  {
   "cell_type": "markdown",
   "metadata": {},
   "source": [
    "### Inlet pressure on Normal Day"
   ]
  },
  {
   "cell_type": "code",
   "execution_count": 39,
   "metadata": {},
   "outputs": [
    {
     "name": "stdout",
     "output_type": "stream",
     "text": [
      "1\n",
      "2\n",
      "3\n",
      "4\n",
      "5\n",
      "6\n",
      "7\n",
      "8\n",
      "9\n",
      "10\n",
      "11\n",
      "12\n",
      "13\n",
      "14\n",
      "15\n",
      "16\n",
      "17\n",
      "18\n",
      "19\n",
      "20\n"
     ]
    }
   ],
   "source": [
    "save_normal_plots(df_ip, INLET_PRESSURE, 20, df_negative_data_dates_ip)"
   ]
  },
  {
   "cell_type": "markdown",
   "metadata": {},
   "source": [
    "### Outlet pressure on Normal Day"
   ]
  },
  {
   "cell_type": "code",
   "execution_count": 40,
   "metadata": {},
   "outputs": [
    {
     "name": "stdout",
     "output_type": "stream",
     "text": [
      "1\n",
      "2\n",
      "3\n",
      "4\n",
      "5\n",
      "6\n",
      "7\n",
      "8\n",
      "9\n",
      "10\n",
      "11\n",
      "12\n",
      "13\n",
      "14\n",
      "15\n",
      "16\n",
      "17\n",
      "18\n",
      "19\n",
      "20\n"
     ]
    }
   ],
   "source": [
    "save_normal_plots(df_op, OUTLET_PRESSURE, 20, df_negative_data_dates_op)"
   ]
  },
  {
   "cell_type": "markdown",
   "metadata": {},
   "source": [
    "### House pressure on Normal Day"
   ]
  },
  {
   "cell_type": "code",
   "execution_count": 41,
   "metadata": {},
   "outputs": [
    {
     "name": "stdout",
     "output_type": "stream",
     "text": [
      "1\n",
      "2\n",
      "3\n",
      "4\n",
      "5\n",
      "6\n",
      "7\n",
      "8\n",
      "9\n",
      "10\n",
      "11\n",
      "12\n",
      "13\n",
      "14\n",
      "15\n",
      "16\n",
      "17\n",
      "18\n",
      "19\n",
      "20\n"
     ]
    }
   ],
   "source": [
    "save_normal_plots(df_hp, HOUSE_PRESSURE, 20, df_negative_data_dates_hp)"
   ]
  },
  {
   "cell_type": "markdown",
   "metadata": {},
   "source": [
    "## Logging"
   ]
  },
  {
   "cell_type": "code",
   "execution_count": null,
   "metadata": {},
   "outputs": [],
   "source": []
  },
  {
   "cell_type": "code",
   "execution_count": 42,
   "metadata": {},
   "outputs": [],
   "source": [
    "### Logging when Uncommon Dates are found\n"
   ]
  },
  {
   "cell_type": "code",
   "execution_count": 43,
   "metadata": {},
   "outputs": [],
   "source": [
    "obj_asset_info.print_line()"
   ]
  },
  {
   "cell_type": "code",
   "execution_count": 44,
   "metadata": {},
   "outputs": [],
   "source": [
    "obj_asset_info.write_data(\"Dates when exceptional data is found for house pressure (not others): {}\".format((lst_uncommon_dates_hp)))"
   ]
  },
  {
   "cell_type": "code",
   "execution_count": 45,
   "metadata": {},
   "outputs": [],
   "source": [
    "obj_asset_info.print_line()"
   ]
  },
  {
   "cell_type": "code",
   "execution_count": 46,
   "metadata": {},
   "outputs": [],
   "source": [
    "obj_asset_info.write_data(\"Dates when exceptional data is found for inlet pressure (not others): {}\".format((lst_uncommon_dates_ip)))"
   ]
  },
  {
   "cell_type": "code",
   "execution_count": 47,
   "metadata": {},
   "outputs": [],
   "source": [
    "obj_asset_info.print_line()"
   ]
  },
  {
   "cell_type": "code",
   "execution_count": 48,
   "metadata": {},
   "outputs": [],
   "source": [
    "obj_asset_info.write_data(\"Dates when exceptional data is found for outlet pressure (not others): {}\".format((lst_uncommon_dates_op)))"
   ]
  },
  {
   "cell_type": "code",
   "execution_count": 49,
   "metadata": {},
   "outputs": [],
   "source": [
    "obj_asset_info.print_line()"
   ]
  },
  {
   "cell_type": "code",
   "execution_count": 50,
   "metadata": {},
   "outputs": [],
   "source": [
    "obj_asset_info.write_data(\"Common Dates for exceptional data: {}\".format((lst_common_dates)))"
   ]
  },
  {
   "cell_type": "code",
   "execution_count": 51,
   "metadata": {},
   "outputs": [],
   "source": [
    "obj_asset_info.print_line()"
   ]
  },
  {
   "cell_type": "code",
   "execution_count": 52,
   "metadata": {},
   "outputs": [],
   "source": [
    "obj_asset_info.write_data(\"Excluded Dates from Analysis: {}\\n\".format(lst_exclude_dates))"
   ]
  },
  {
   "cell_type": "code",
   "execution_count": 53,
   "metadata": {},
   "outputs": [],
   "source": [
    "obj_asset_info.print_line()"
   ]
  },
  {
   "cell_type": "code",
   "execution_count": 54,
   "metadata": {},
   "outputs": [],
   "source": [
    "#hide\n",
    "#from nbdev.export import notebook2script\n",
    "#notebook2script()"
   ]
  },
  {
   "cell_type": "code",
   "execution_count": 55,
   "metadata": {},
   "outputs": [],
   "source": [
    "obj_asset_info.write_data(\"End of Summary\")"
   ]
  },
  {
   "cell_type": "markdown",
   "metadata": {},
   "source": [
    "## Monthly Charts Printing"
   ]
  },
  {
   "cell_type": "code",
   "execution_count": 56,
   "metadata": {},
   "outputs": [],
   "source": [
    "def save_montly_plots_for_all_vars( df_hp, df_ip, df_op):\n",
    "    df_op_monthly = df_op[['year', 'month']].drop_duplicates(); df_op_monthly\n",
    "    lst_months = list(map(lambda m, y: (m,y) , df_op_monthly['month'], df_op_monthly['year']))\n",
    "    for l in lst_months:\n",
    "        obj_asset_info.save_plot_for_all_vars_for_a_month(*l,df_hp=df_hp, df_ip= df_ip, df_op = df_op)"
   ]
  },
  {
   "cell_type": "code",
   "execution_count": 57,
   "metadata": {},
   "outputs": [],
   "source": [
    "save_montly_plots_for_all_vars(df_hp, df_ip, df_op)"
   ]
  },
  {
   "cell_type": "code",
   "execution_count": 58,
   "metadata": {},
   "outputs": [],
   "source": [
    "#plt.plot??"
   ]
  },
  {
   "cell_type": "code",
   "execution_count": 59,
   "metadata": {},
   "outputs": [],
   "source": [
    "plt.scatter?"
   ]
  },
  {
   "cell_type": "code",
   "execution_count": null,
   "metadata": {},
   "outputs": [],
   "source": []
  }
 ],
 "metadata": {
  "kernelspec": {
   "display_name": "Python 3",
   "language": "python",
   "name": "python3"
  },
  "language_info": {
   "codemirror_mode": {
    "name": "ipython",
    "version": 3
   },
   "file_extension": ".py",
   "mimetype": "text/x-python",
   "name": "python",
   "nbconvert_exporter": "python",
   "pygments_lexer": "ipython3",
   "version": "3.7.6"
  },
  "toc": {
   "base_numbering": 1,
   "nav_menu": {},
   "number_sections": true,
   "sideBar": true,
   "skip_h1_title": true,
   "title_cell": "Table of Contents",
   "title_sidebar": "Contents",
   "toc_cell": false,
   "toc_position": {},
   "toc_section_display": true,
   "toc_window_display": false
  }
 },
 "nbformat": 4,
 "nbformat_minor": 2
}
