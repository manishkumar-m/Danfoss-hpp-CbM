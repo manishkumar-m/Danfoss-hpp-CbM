{
 "cells": [
  {
   "cell_type": "markdown",
   "metadata": {},
   "source": [
    "# Velocity Spectrums - Pump5\n",
    "\n",
    "### 1. Explore Spectrums  \n",
    "* Visualize sample spectrums in **axial & radial** directions\n",
    "* **Trend of fundamental frequencies**\n",
    "* Extract spectrum features, e.g. 1X, 2X, 3X & 9X to start with \n",
    "* Trend spectrum features\n",
    "\n",
    "### 2. Aggregate spectrum data (hourly)\n",
    "  \n",
    "* Aggregate spectrum features for hourly grain, to synchronize with other sensor data.  \n",
    "* Consolidate aggregated axial spectrum features for given asset\n",
    "* Consolidate dataset should be as per proposed table structure  \n",
    "* Save dataset to CSV/pickle    \n",
    "    \n",
    "    \n",
    "*** Repeat above aggregation for radial spectrum features**  \n",
    "\n",
    "****\n"
   ]
  },
  {
   "cell_type": "markdown",
   "metadata": {},
   "source": [
    "### Setup & Functions:  "
   ]
  },
  {
   "cell_type": "code",
   "execution_count": null,
   "metadata": {},
   "outputs": [],
   "source": [
    "# Load modules\n",
    "import pandas as pd\n",
    "import pickle\n",
    "import matplotlib.pyplot as plt\n",
    "import plotly.graph_objects as go \n",
    "from plotly.offline import init_notebook_mode\n",
    "\n",
    "init_notebook_mode(connected=True)"
   ]
  },
  {
   "cell_type": "code",
   "execution_count": null,
   "metadata": {},
   "outputs": [],
   "source": [
    "# Function to plot spectrum\n",
    "def fn_plot_spectrum(dataset, x_var, y_var, x_lab, y_lab, plot_title):\n",
    "    spec_plot = go.Figure()\n",
    "    # Add traces\n",
    "    spec_plot.add_trace(go.Scatter(x=dataset[x_var], y=spec1[y_var]\n",
    "                                    ,mode='lines', name=\"Spectrum\"\n",
    "            #                         ,hovertext= dataset['order']\n",
    "            #                         ,hoverinfo=\"text\"\n",
    "                                    ,text=dataset['order']\n",
    "                                    ,hovertemplate= \"<b>\" + dataset['pump_name'].values[0] + \" | \" +\n",
    "                                                    dataset['sensor_name'].values[0] +\n",
    "                                                    \"</b><br><br>\" +\n",
    "                                                    \"Freq: %{x}<br>\" +\n",
    "                                                    \"Amplitude: %{y}<br>\" +\n",
    "                                                    \"Order: %{text}\"                                  ))\n",
    "    \n",
    "    spec_plot.update_layout(template='none', \n",
    "                            title={ 'text': plot_title, 'y':0.95, 'x':0.1, 'xanchor': 'left', 'yanchor': 'top'},\n",
    "                            xaxis_title = x_lab, yaxis_title = y_lab, xaxis = dict( range=[0,1000]))\n",
    "    return(spec_plot)"
   ]
  },
  {
   "cell_type": "code",
   "execution_count": null,
   "metadata": {},
   "outputs": [],
   "source": [
    "# Function to create plot_title based on input features\n",
    "def fn_get_spectrum_plot_title(dataset, prefix, var_list):\n",
    "    dataset = dataset[0:1]\n",
    "    suffix = ''\n",
    "    \n",
    "    for var in var_list:\n",
    "        if(suffix!=''):\n",
    "            suffix = suffix + ' | ' + str(list(dataset[var])[0])\n",
    "        else:\n",
    "            suffix = list(dataset[var])[0]\n",
    "    \n",
    "    plot_title = prefix + ': ' + suffix\n",
    "    return(plot_title)\n",
    "    \n",
    "# fn_get_spectrum_plot_title(dataset=spec1, prefix='Spectrum for', var_list = ['pump_name', 'sensor_name', 'datetime'])"
   ]
  },
  {
   "cell_type": "code",
   "execution_count": null,
   "metadata": {},
   "outputs": [],
   "source": [
    "# Function to plot spectrum with plot title\n",
    "def fn_plot_spectrum_auto(dataset, x_var, y_var, x_lab, y_lab):\n",
    "    plot_title_new = fn_get_spectrum_plot_title(dataset, prefix='Spectrum for', var_list = ['pump_name', 'sensor_name', 'datetime'])\n",
    "    \n",
    "    spec_plot = fn_plot_spectrum(dataset = dataset, x_var = x_var, y_var = y_var, \n",
    "                             x_lab = x_lab, y_lab = y_lab,\n",
    "                             plot_title = plot_title_new)\n",
    "    return(spec_plot)\n"
   ]
  },
  {
   "cell_type": "code",
   "execution_count": null,
   "metadata": {},
   "outputs": [],
   "source": [
    "# spec_plot = fn_plot_spectrum_auto(dataset = spec1, x_var = 'freq', y_var = 'amp_velocity', \n",
    "#                              x_lab = 'Frequency (Hz)', y_lab = 'Amplitude')\n",
    "# spec_plot.show() "
   ]
  },
  {
   "cell_type": "code",
   "execution_count": null,
   "metadata": {},
   "outputs": [],
   "source": [
    "# Function to get filtered order data only\n",
    "# Return dataset\n",
    "def fn_get_order_data(dataset, order_to_trend_list = 1):\n",
    "    return(dataset[dataset['order'].isin(order_to_trend_list)])\n",
    "\n",
    "\n",
    "# Function to get order trend plots for given harmonic\n",
    "# Return dataset & plot both\n",
    "def fn_get_order_trend_plot(dataset, order_to_trend = 1):\n",
    "    spec_df_x = dataset[dataset['order'] == order_to_trend]\n",
    "    \n",
    "    # Visualize trend\n",
    "    plot_title = 'Spectrum ' + str(order_to_trend) + 'X trend ' + '| ' + list(spec_df_x['pump_name'].head(1))[0] + ' | ' + list(spec_df_x['sensor_name'].head(1))[0] \n",
    "\n",
    "    spec_plot = go.Figure()\n",
    "    # Add traces\n",
    "    spec_plot.add_trace(go.Scatter(x=spec_df_x['datetime'], y=spec_df_x['amp_velocity'],\n",
    "                                    mode='lines', name=\"Spectrum\"))\n",
    "    spec_plot.update_layout(template='none', title={ 'text': plot_title, 'y':0.95, 'x':0.1, 'xanchor': 'left', 'yanchor': 'top'},\n",
    "                             xaxis_title = 'Datetime', yaxis_title='Amplitude')\n",
    "    # spec_plot.show()\n",
    "    return(spec_df_x, spec_plot)"
   ]
  },
  {
   "cell_type": "code",
   "execution_count": null,
   "metadata": {},
   "outputs": [],
   "source": [
    "pd.set_option('display.max_rows', 100)\n",
    "pd.set_option('display.max_columns', 100)"
   ]
  },
  {
   "cell_type": "markdown",
   "metadata": {},
   "source": [
    "---  \n",
    "---  \n",
    "\n",
    "# 1. Exploring Spectrums  \n",
    "Explore velocity spectrum data to identify features\n",
    "\n"
   ]
  },
  {
   "cell_type": "code",
   "execution_count": null,
   "metadata": {},
   "outputs": [],
   "source": [
    "# Load spectrum data\n",
    "file_save_path = \"C:\\\\Users\\\\manishkumar-m\\\\OneDrive - HCL Technologies Ltd\\\\Desktop_old\\\\Clients\\\\Danfoss\\\\Data\\\\New Data Dump\\\\Processed data\\\\\"\n",
    "spec_file_name = 'spec_df_pump5_axial_full.pickle'"
   ]
  },
  {
   "cell_type": "code",
   "execution_count": null,
   "metadata": {},
   "outputs": [],
   "source": [
    "%%time\n",
    "spec_file_name_pkl = file_save_path + spec_file_name\n",
    "file_in = open(spec_file_name_pkl,\"rb\")\n",
    "spec_df_axial = pickle.load(file_in)\n",
    "file_in.close()"
   ]
  },
  {
   "cell_type": "code",
   "execution_count": null,
   "metadata": {},
   "outputs": [],
   "source": [
    "spec_df_axial.shape"
   ]
  },
  {
   "cell_type": "code",
   "execution_count": null,
   "metadata": {},
   "outputs": [],
   "source": [
    "unique_spec_dt_axial = spec_df_axial['datetime'].unique()"
   ]
  },
  {
   "cell_type": "code",
   "execution_count": null,
   "metadata": {},
   "outputs": [],
   "source": [
    "print('We have', len(unique_spec_dt_axial), 'unique spectrums.')"
   ]
  },
  {
   "cell_type": "code",
   "execution_count": null,
   "metadata": {},
   "outputs": [],
   "source": [
    "# --File count not being 200 means we have some duplicate files\n",
    "# Duplicate waveforms have been removed during data preprocessing now, so we will not have those here."
   ]
  },
  {
   "cell_type": "code",
   "execution_count": null,
   "metadata": {},
   "outputs": [],
   "source": [
    "spec_df_axial.head(3)"
   ]
  },
  {
   "cell_type": "markdown",
   "metadata": {},
   "source": [
    "---\n",
    "## Pump5 - Axial - Velocity Spectrums  \n",
    "  \n",
    "### Visualize sample spectrums  \n",
    "  "
   ]
  },
  {
   "cell_type": "markdown",
   "metadata": {},
   "source": [
    "#### Sample spectrum - 1"
   ]
  },
  {
   "cell_type": "code",
   "execution_count": null,
   "metadata": {
    "scrolled": false
   },
   "outputs": [],
   "source": [
    "random_datetime = unique_spec_dt_axial[1]\n",
    "spec1 = spec_df_axial[spec_df_axial['datetime'] == random_datetime]\n",
    "\n",
    "spec_plot = fn_plot_spectrum_auto(dataset = spec1, x_var = 'freq', y_var = 'amp_velocity', \n",
    "                             x_lab = 'Frequency (Hz)', y_lab = 'Amplitude (mm/s)')\n",
    "spec_plot.show()  "
   ]
  },
  {
   "cell_type": "markdown",
   "metadata": {},
   "source": [
    "#### Sample spectrum - 2"
   ]
  },
  {
   "cell_type": "code",
   "execution_count": null,
   "metadata": {},
   "outputs": [],
   "source": [
    "random_datetime = unique_spec_dt_axial[118]\n",
    "spec1 = spec_df_axial[spec_df_axial['datetime'] == random_datetime]\n",
    "\n",
    "spec_plot = fn_plot_spectrum_auto(dataset = spec1, x_var = 'freq', y_var = 'amp_velocity', \n",
    "                             x_lab = 'Frequency (Hz)', y_lab = 'Amplitude (mm/s)')\n",
    "spec_plot.show()  "
   ]
  },
  {
   "cell_type": "markdown",
   "metadata": {},
   "source": [
    "#### Sample spectrum - 3"
   ]
  },
  {
   "cell_type": "code",
   "execution_count": null,
   "metadata": {},
   "outputs": [],
   "source": [
    "random_datetime = unique_spec_dt_axial[247]\n",
    "spec1 = spec_df_axial[spec_df_axial['datetime'] == random_datetime]\n",
    "\n",
    "spec_plot = fn_plot_spectrum_auto(dataset = spec1, x_var = 'freq', y_var = 'amp_velocity', \n",
    "                             x_lab = 'Frequency (Hz)', y_lab = 'Amplitude (mm/s)')\n",
    "spec_plot.show()  "
   ]
  },
  {
   "cell_type": "markdown",
   "metadata": {},
   "source": [
    "#### Sample spectrum - 4"
   ]
  },
  {
   "cell_type": "code",
   "execution_count": null,
   "metadata": {},
   "outputs": [],
   "source": [
    "random_datetime = unique_spec_dt_axial[475]\n",
    "spec1 = spec_df_axial[spec_df_axial['datetime'] == random_datetime]\n",
    "\n",
    "spec_plot = fn_plot_spectrum_auto(dataset = spec1, x_var = 'freq', y_var = 'amp_velocity', \n",
    "                             x_lab = 'Frequency (Hz)', y_lab = 'Amplitude (mm/s)')\n",
    "spec_plot.show()  "
   ]
  },
  {
   "cell_type": "markdown",
   "metadata": {},
   "source": [
    "#### Sample spectrum - 5"
   ]
  },
  {
   "cell_type": "code",
   "execution_count": null,
   "metadata": {},
   "outputs": [],
   "source": [
    "random_datetime = unique_spec_dt_axial[773]\n",
    "spec1 = spec_df_axial[spec_df_axial['datetime'] == random_datetime]\n",
    "\n",
    "spec_plot = fn_plot_spectrum_auto(dataset = spec1, x_var = 'freq', y_var = 'amp_velocity', \n",
    "                             x_lab = 'Frequency (Hz)', y_lab = 'Amplitude (mm/s)')\n",
    "spec_plot.show()  "
   ]
  },
  {
   "cell_type": "markdown",
   "metadata": {},
   "source": [
    "---\n",
    "# Pump5 - Radial - Velocity Spectrums  \n",
    "  \n",
    "## Visualize sample spectrums  \n"
   ]
  },
  {
   "cell_type": "code",
   "execution_count": null,
   "metadata": {},
   "outputs": [],
   "source": [
    "spec_file_name = 'spec_df_pump5_radial_full.pickle'"
   ]
  },
  {
   "cell_type": "code",
   "execution_count": null,
   "metadata": {},
   "outputs": [],
   "source": [
    "%%time\n",
    "spec_file_name_pkl = file_save_path + spec_file_name\n",
    "file_in = open(spec_file_name_pkl,\"rb\")\n",
    "spec_df_radial = pickle.load(file_in)\n",
    "file_in.close()"
   ]
  },
  {
   "cell_type": "code",
   "execution_count": null,
   "metadata": {},
   "outputs": [],
   "source": [
    "spec_df_radial.shape"
   ]
  },
  {
   "cell_type": "code",
   "execution_count": null,
   "metadata": {},
   "outputs": [],
   "source": [
    "unique_spec_dt_radial = spec_df_radial['datetime'].unique()"
   ]
  },
  {
   "cell_type": "code",
   "execution_count": null,
   "metadata": {},
   "outputs": [],
   "source": [
    "len(unique_spec_dt_radial)"
   ]
  },
  {
   "cell_type": "markdown",
   "metadata": {},
   "source": [
    "#### Sample spectrum - 1"
   ]
  },
  {
   "cell_type": "code",
   "execution_count": null,
   "metadata": {
    "scrolled": false
   },
   "outputs": [],
   "source": [
    "# random_datetime = unique_spec_dt_radial[1]\n",
    "# print('Spectrum timestamp:', random_datetime)\n",
    "# spec1 = spec_df_radial[spec_df_radial['datetime'] == random_datetime]\n",
    "# plot_title = 'Sample spectrum - pump5 - Radial'\n",
    "\n",
    "# spec_plot = go.Figure()\n",
    "# # Add traces\n",
    "# spec_plot.add_trace(go.Scatter(x=spec1['freq'], y=spec1['amp_velocity'],\n",
    "#                                 mode='lines', name=\"Spectrum\"))\n",
    "# spec_plot.update_layout(template='none', title={ 'text': plot_title, 'y':0.95, 'x':0.1, 'xanchor': 'left', 'yanchor': 'top'},\n",
    "#                          xaxis_title = 'Frequency (Hz)', yaxis_title='Amplitude', xaxis = dict( range=[0,400]))\n",
    "# spec_plot.show()"
   ]
  },
  {
   "cell_type": "code",
   "execution_count": null,
   "metadata": {},
   "outputs": [],
   "source": [
    "random_datetime = unique_spec_dt_radial[1]\n",
    "spec1 = spec_df_radial[spec_df_radial['datetime'] == random_datetime]\n",
    "\n",
    "spec_plot = fn_plot_spectrum_auto(dataset = spec1, x_var = 'freq', y_var = 'amp_velocity', \n",
    "                             x_lab = 'Frequency (Hz)', y_lab = 'Amplitude (mm/s)')\n",
    "spec_plot.show() "
   ]
  },
  {
   "cell_type": "markdown",
   "metadata": {},
   "source": [
    "#### Sample spectrum - 2"
   ]
  },
  {
   "cell_type": "code",
   "execution_count": null,
   "metadata": {},
   "outputs": [],
   "source": [
    "random_datetime = unique_spec_dt_radial[118]\n",
    "spec1 = spec_df_radial[spec_df_radial['datetime'] == random_datetime]\n",
    "\n",
    "spec_plot = fn_plot_spectrum_auto(dataset = spec1, x_var = 'freq', y_var = 'amp_velocity', \n",
    "                             x_lab = 'Frequency (Hz)', y_lab = 'Amplitude (mm/s)')\n",
    "spec_plot.show() "
   ]
  },
  {
   "cell_type": "markdown",
   "metadata": {},
   "source": [
    "#### Sample spectrum - 3"
   ]
  },
  {
   "cell_type": "code",
   "execution_count": null,
   "metadata": {},
   "outputs": [],
   "source": [
    "random_datetime = unique_spec_dt_radial[247]\n",
    "spec1 = spec_df_radial[spec_df_radial['datetime'] == random_datetime]\n",
    "\n",
    "spec_plot = fn_plot_spectrum_auto(dataset = spec1, x_var = 'freq', y_var = 'amp_velocity', \n",
    "                             x_lab = 'Frequency (Hz)', y_lab = 'Amplitude (mm/s)')\n",
    "spec_plot.show() "
   ]
  },
  {
   "cell_type": "markdown",
   "metadata": {},
   "source": [
    "#### Sample spectrum - 4"
   ]
  },
  {
   "cell_type": "code",
   "execution_count": null,
   "metadata": {},
   "outputs": [],
   "source": [
    "random_datetime = unique_spec_dt_radial[475]\n",
    "spec1 = spec_df_radial[spec_df_radial['datetime'] == random_datetime]\n",
    "\n",
    "spec_plot = fn_plot_spectrum_auto(dataset = spec1, x_var = 'freq', y_var = 'amp_velocity', \n",
    "                             x_lab = 'Frequency (Hz)', y_lab = 'Amplitude (mm/s)')\n",
    "spec_plot.show() "
   ]
  },
  {
   "cell_type": "markdown",
   "metadata": {},
   "source": [
    "#### Sample spectrum - 5"
   ]
  },
  {
   "cell_type": "code",
   "execution_count": null,
   "metadata": {},
   "outputs": [],
   "source": [
    "random_datetime = unique_spec_dt_radial[773]\n",
    "spec1 = spec_df_radial[spec_df_radial['datetime'] == random_datetime]\n",
    "\n",
    "spec_plot = fn_plot_spectrum_auto(dataset = spec1, x_var = 'freq', y_var = 'amp_velocity', \n",
    "                             x_lab = 'Frequency (Hz)', y_lab = 'Amplitude (mm/s)')\n",
    "spec_plot.show() "
   ]
  },
  {
   "cell_type": "markdown",
   "metadata": {},
   "source": [
    "---  \n",
    "# Trend of Spectrum Features  \n",
    "\n",
    "## Axial direction"
   ]
  },
  {
   "cell_type": "code",
   "execution_count": null,
   "metadata": {},
   "outputs": [],
   "source": [
    "spec_df_axial.head(3)"
   ]
  },
  {
   "cell_type": "markdown",
   "metadata": {},
   "source": [
    "Remove any duplicate waveforms before proceeding further."
   ]
  },
  {
   "cell_type": "code",
   "execution_count": null,
   "metadata": {},
   "outputs": [],
   "source": [
    "spec_df_axial['datetime'].nunique()"
   ]
  },
  {
   "cell_type": "code",
   "execution_count": null,
   "metadata": {},
   "outputs": [],
   "source": [
    "spec_df_axial.shape"
   ]
  },
  {
   "cell_type": "code",
   "execution_count": null,
   "metadata": {},
   "outputs": [],
   "source": [
    "%%time\n",
    "# spec_df_axial = spec_df_axial.drop_duplicates()"
   ]
  },
  {
   "cell_type": "code",
   "execution_count": null,
   "metadata": {},
   "outputs": [],
   "source": [
    "spec_df_axial.shape"
   ]
  },
  {
   "cell_type": "markdown",
   "metadata": {},
   "source": [
    "## Trend of fundamental frequencies"
   ]
  },
  {
   "cell_type": "code",
   "execution_count": null,
   "metadata": {},
   "outputs": [],
   "source": [
    "spec_df_axial.fundamental_freq.unique()"
   ]
  },
  {
   "cell_type": "code",
   "execution_count": null,
   "metadata": {},
   "outputs": [],
   "source": [
    "axial_ff = spec_df_axial[['sensor_name', 'datetime', 'fundamental_freq']]\n",
    "axial_ff = axial_ff.drop_duplicates()\n",
    "axial_ff.reset_index(drop=True, inplace=True)\n",
    "# axial_ff"
   ]
  },
  {
   "cell_type": "code",
   "execution_count": null,
   "metadata": {},
   "outputs": [],
   "source": [
    "radial_ff = spec_df_radial[['sensor_name', 'datetime', 'fundamental_freq']]\n",
    "radial_ff = radial_ff.drop_duplicates()\n",
    "radial_ff.reset_index(drop=True, inplace=True)"
   ]
  },
  {
   "cell_type": "code",
   "execution_count": null,
   "metadata": {},
   "outputs": [],
   "source": [
    "spec_plot = go.Figure()\n",
    "spec_plot.add_trace(go.Scatter(x=axial_ff['datetime'], y=axial_ff['fundamental_freq']\n",
    "                                ,mode='markers', name=axial_ff['sensor_name'].values[0]))\n",
    "spec_plot.add_trace(go.Scatter(x=radial_ff['datetime'], y=radial_ff['fundamental_freq']\n",
    "                                ,mode='markers', name=radial_ff['sensor_name'].values[0]))\n",
    "\n",
    "spec_plot.update_layout(template='none', \n",
    "                        title={ 'text': 'Trend of Fundamental Frequencies', 'y':0.95, 'x':0.1, 'xanchor': 'left', 'yanchor': 'top'},\n",
    "                        xaxis_title = 'Fundamental Frequency', yaxis_title = 'Datetime')"
   ]
  },
  {
   "cell_type": "markdown",
   "metadata": {},
   "source": [
    "## 1X - Axial"
   ]
  },
  {
   "cell_type": "code",
   "execution_count": null,
   "metadata": {},
   "outputs": [],
   "source": [
    "spec_df_x, order_plot = fn_get_order_trend_plot(spec_df_axial, 1)"
   ]
  },
  {
   "cell_type": "code",
   "execution_count": null,
   "metadata": {},
   "outputs": [],
   "source": [
    "spec_df_x.shape"
   ]
  },
  {
   "cell_type": "code",
   "execution_count": null,
   "metadata": {},
   "outputs": [],
   "source": [
    "spec_df_x.head(3)"
   ]
  },
  {
   "cell_type": "code",
   "execution_count": null,
   "metadata": {
    "scrolled": false
   },
   "outputs": [],
   "source": [
    "# Visualize trend\n",
    "order_plot.show()"
   ]
  },
  {
   "cell_type": "markdown",
   "metadata": {},
   "source": [
    "### 2X - Axial"
   ]
  },
  {
   "cell_type": "code",
   "execution_count": null,
   "metadata": {},
   "outputs": [],
   "source": [
    "spec_df_x, order_plot = fn_get_order_trend_plot(spec_df_axial, 2)"
   ]
  },
  {
   "cell_type": "code",
   "execution_count": null,
   "metadata": {},
   "outputs": [],
   "source": [
    "spec_df_x.shape"
   ]
  },
  {
   "cell_type": "code",
   "execution_count": null,
   "metadata": {},
   "outputs": [],
   "source": [
    "spec_df_x.head(3)"
   ]
  },
  {
   "cell_type": "code",
   "execution_count": null,
   "metadata": {
    "scrolled": false
   },
   "outputs": [],
   "source": [
    "# Visualize trend\n",
    "order_plot.show()"
   ]
  },
  {
   "cell_type": "markdown",
   "metadata": {},
   "source": [
    "### 3X - Axial"
   ]
  },
  {
   "cell_type": "code",
   "execution_count": null,
   "metadata": {},
   "outputs": [],
   "source": [
    "spec_df_x, order_plot = fn_get_order_trend_plot(spec_df_axial, 3)"
   ]
  },
  {
   "cell_type": "code",
   "execution_count": null,
   "metadata": {},
   "outputs": [],
   "source": [
    "spec_df_x.shape"
   ]
  },
  {
   "cell_type": "code",
   "execution_count": null,
   "metadata": {},
   "outputs": [],
   "source": [
    "spec_df_x.head(3)"
   ]
  },
  {
   "cell_type": "code",
   "execution_count": null,
   "metadata": {
    "scrolled": false
   },
   "outputs": [],
   "source": [
    "# Visualize trend\n",
    "order_plot.show()"
   ]
  },
  {
   "cell_type": "markdown",
   "metadata": {},
   "source": [
    "### 9X - Axial"
   ]
  },
  {
   "cell_type": "code",
   "execution_count": null,
   "metadata": {},
   "outputs": [],
   "source": [
    "spec_df_x, order_plot = fn_get_order_trend_plot(spec_df_axial, 9)"
   ]
  },
  {
   "cell_type": "code",
   "execution_count": null,
   "metadata": {},
   "outputs": [],
   "source": [
    "spec_df_x.shape"
   ]
  },
  {
   "cell_type": "code",
   "execution_count": null,
   "metadata": {},
   "outputs": [],
   "source": [
    "spec_df_x.head(3)"
   ]
  },
  {
   "cell_type": "code",
   "execution_count": null,
   "metadata": {
    "scrolled": false
   },
   "outputs": [],
   "source": [
    "# Visualize trend\n",
    "order_plot.show()"
   ]
  },
  {
   "cell_type": "markdown",
   "metadata": {},
   "source": [
    "### 18X - Axial"
   ]
  },
  {
   "cell_type": "code",
   "execution_count": null,
   "metadata": {},
   "outputs": [],
   "source": [
    "spec_df_x, order_plot = fn_get_order_trend_plot(spec_df_axial, 18)"
   ]
  },
  {
   "cell_type": "code",
   "execution_count": null,
   "metadata": {},
   "outputs": [],
   "source": [
    "spec_df_x.shape"
   ]
  },
  {
   "cell_type": "code",
   "execution_count": null,
   "metadata": {},
   "outputs": [],
   "source": [
    "spec_df_x.head(3)"
   ]
  },
  {
   "cell_type": "code",
   "execution_count": null,
   "metadata": {
    "scrolled": false
   },
   "outputs": [],
   "source": [
    "# Visualize trend\n",
    "order_plot.show()"
   ]
  },
  {
   "cell_type": "markdown",
   "metadata": {},
   "source": [
    "### 27X - Axial"
   ]
  },
  {
   "cell_type": "code",
   "execution_count": null,
   "metadata": {},
   "outputs": [],
   "source": [
    "spec_df_x, order_plot = fn_get_order_trend_plot(spec_df_axial, 27)"
   ]
  },
  {
   "cell_type": "code",
   "execution_count": null,
   "metadata": {},
   "outputs": [],
   "source": [
    "spec_df_x.shape"
   ]
  },
  {
   "cell_type": "code",
   "execution_count": null,
   "metadata": {},
   "outputs": [],
   "source": [
    "spec_df_x.head(3)"
   ]
  },
  {
   "cell_type": "code",
   "execution_count": null,
   "metadata": {
    "scrolled": false
   },
   "outputs": [],
   "source": [
    "# Visualize trend\n",
    "order_plot.show()"
   ]
  },
  {
   "cell_type": "markdown",
   "metadata": {},
   "source": [
    "---  \n",
    "## Identify & trend features - Radial"
   ]
  },
  {
   "cell_type": "code",
   "execution_count": null,
   "metadata": {},
   "outputs": [],
   "source": [
    "spec_df_radial.head(3)"
   ]
  },
  {
   "cell_type": "markdown",
   "metadata": {},
   "source": [
    "We had duplicate waveforms, so we need to remove them before proceeding further."
   ]
  },
  {
   "cell_type": "code",
   "execution_count": null,
   "metadata": {},
   "outputs": [],
   "source": [
    "spec_df_radial['datetime'].nunique()"
   ]
  },
  {
   "cell_type": "code",
   "execution_count": null,
   "metadata": {},
   "outputs": [],
   "source": [
    "spec_df_radial.shape"
   ]
  },
  {
   "cell_type": "code",
   "execution_count": null,
   "metadata": {},
   "outputs": [],
   "source": [
    "%%time\n",
    "# spec_df_radial = spec_df_radial.drop_duplicates()"
   ]
  },
  {
   "cell_type": "code",
   "execution_count": null,
   "metadata": {},
   "outputs": [],
   "source": [
    "spec_df_radial.shape"
   ]
  },
  {
   "cell_type": "markdown",
   "metadata": {},
   "source": [
    "### 1X - Radial"
   ]
  },
  {
   "cell_type": "code",
   "execution_count": null,
   "metadata": {},
   "outputs": [],
   "source": [
    "spec_df_x, order_plot = fn_get_order_trend_plot(spec_df_radial, 1)"
   ]
  },
  {
   "cell_type": "code",
   "execution_count": null,
   "metadata": {},
   "outputs": [],
   "source": [
    "spec_df_x.shape"
   ]
  },
  {
   "cell_type": "code",
   "execution_count": null,
   "metadata": {},
   "outputs": [],
   "source": [
    "spec_df_x.head(3)"
   ]
  },
  {
   "cell_type": "code",
   "execution_count": null,
   "metadata": {
    "scrolled": false
   },
   "outputs": [],
   "source": [
    "# Visualize trend\n",
    "order_plot.show()"
   ]
  },
  {
   "cell_type": "markdown",
   "metadata": {},
   "source": [
    "### 2X - Radial"
   ]
  },
  {
   "cell_type": "code",
   "execution_count": null,
   "metadata": {},
   "outputs": [],
   "source": [
    "spec_df_x, order_plot = fn_get_order_trend_plot(spec_df_radial, 2)"
   ]
  },
  {
   "cell_type": "code",
   "execution_count": null,
   "metadata": {},
   "outputs": [],
   "source": [
    "spec_df_x.shape"
   ]
  },
  {
   "cell_type": "code",
   "execution_count": null,
   "metadata": {},
   "outputs": [],
   "source": [
    "spec_df_x.head(3)"
   ]
  },
  {
   "cell_type": "code",
   "execution_count": null,
   "metadata": {
    "scrolled": false
   },
   "outputs": [],
   "source": [
    "# Visualize trend\n",
    "order_plot.show()"
   ]
  },
  {
   "cell_type": "markdown",
   "metadata": {},
   "source": [
    "### 3X - Radial"
   ]
  },
  {
   "cell_type": "code",
   "execution_count": null,
   "metadata": {},
   "outputs": [],
   "source": [
    "spec_df_x, order_plot = fn_get_order_trend_plot(spec_df_radial, 3)"
   ]
  },
  {
   "cell_type": "code",
   "execution_count": null,
   "metadata": {},
   "outputs": [],
   "source": [
    "spec_df_x.shape"
   ]
  },
  {
   "cell_type": "code",
   "execution_count": null,
   "metadata": {},
   "outputs": [],
   "source": [
    "spec_df_x.head(3)"
   ]
  },
  {
   "cell_type": "code",
   "execution_count": null,
   "metadata": {
    "scrolled": false
   },
   "outputs": [],
   "source": [
    "# Visualize trend\n",
    "order_plot.show()"
   ]
  },
  {
   "cell_type": "markdown",
   "metadata": {},
   "source": [
    "### 9X - Radial"
   ]
  },
  {
   "cell_type": "code",
   "execution_count": null,
   "metadata": {},
   "outputs": [],
   "source": [
    "spec_df_x, order_plot = fn_get_order_trend_plot(spec_df_radial, 9)"
   ]
  },
  {
   "cell_type": "code",
   "execution_count": null,
   "metadata": {},
   "outputs": [],
   "source": [
    "spec_df_x.shape"
   ]
  },
  {
   "cell_type": "code",
   "execution_count": null,
   "metadata": {},
   "outputs": [],
   "source": [
    "spec_df_x.head(3)"
   ]
  },
  {
   "cell_type": "code",
   "execution_count": null,
   "metadata": {
    "scrolled": false
   },
   "outputs": [],
   "source": [
    "# Visualize trend\n",
    "order_plot.show()"
   ]
  },
  {
   "cell_type": "markdown",
   "metadata": {},
   "source": [
    "### 18X - Radial"
   ]
  },
  {
   "cell_type": "code",
   "execution_count": null,
   "metadata": {},
   "outputs": [],
   "source": [
    "spec_df_x, order_plot = fn_get_order_trend_plot(spec_df_radial, 18)"
   ]
  },
  {
   "cell_type": "code",
   "execution_count": null,
   "metadata": {},
   "outputs": [],
   "source": [
    "spec_df_x.shape"
   ]
  },
  {
   "cell_type": "code",
   "execution_count": null,
   "metadata": {},
   "outputs": [],
   "source": [
    "spec_df_x.head(3)"
   ]
  },
  {
   "cell_type": "code",
   "execution_count": null,
   "metadata": {
    "scrolled": false
   },
   "outputs": [],
   "source": [
    "# Visualize trend\n",
    "order_plot.show()"
   ]
  },
  {
   "cell_type": "markdown",
   "metadata": {},
   "source": [
    "### 27X - Radial"
   ]
  },
  {
   "cell_type": "code",
   "execution_count": null,
   "metadata": {},
   "outputs": [],
   "source": [
    "spec_df_x, order_plot = fn_get_order_trend_plot(spec_df_radial, 27)"
   ]
  },
  {
   "cell_type": "code",
   "execution_count": null,
   "metadata": {},
   "outputs": [],
   "source": [
    "spec_df_x.shape"
   ]
  },
  {
   "cell_type": "code",
   "execution_count": null,
   "metadata": {},
   "outputs": [],
   "source": [
    "spec_df_x.head(3)"
   ]
  },
  {
   "cell_type": "code",
   "execution_count": null,
   "metadata": {
    "scrolled": false
   },
   "outputs": [],
   "source": [
    "# Visualize trend\n",
    "order_plot.show()"
   ]
  },
  {
   "cell_type": "markdown",
   "metadata": {},
   "source": [
    "---\n",
    "\n",
    "# 2. Aggregate spectrum data (hourly)\n",
    "  \n",
    "* Aggregate spectrum features for hourly grain, to synchronize with other sensor data.  \n",
    "* Consolidate aggregated axial spectrum features for given asset\n",
    "* Consolidate dataset should be as per proposed table structure\n",
    "* Save dataset to CSV/pickle  "
   ]
  },
  {
   "cell_type": "markdown",
   "metadata": {},
   "source": [
    "## Axial direction\n",
    "---\n"
   ]
  },
  {
   "cell_type": "code",
   "execution_count": null,
   "metadata": {},
   "outputs": [],
   "source": [
    "spec_df_axial.head()"
   ]
  },
  {
   "cell_type": "code",
   "execution_count": null,
   "metadata": {},
   "outputs": [],
   "source": [
    "# fn_get_order_data(spec_df_axial, [1]).head()"
   ]
  },
  {
   "cell_type": "markdown",
   "metadata": {},
   "source": [
    "### Function:"
   ]
  },
  {
   "cell_type": "code",
   "execution_count": null,
   "metadata": {},
   "outputs": [],
   "source": [
    "# Create aggregation function to:\n",
    "# - take a dataset\n",
    "# - groupby() by hours: process from datetime\n",
    "# - process only for given orders\n",
    "# - average amplitudes by order, in order to have only one record per hour.\n",
    "\n",
    "# Usually we have one record per hour, but we still need to process the data this way to synchronize it with pressure data. "
   ]
  },
  {
   "cell_type": "markdown",
   "metadata": {},
   "source": [
    "#### Add hourly feature for datetime  "
   ]
  },
  {
   "cell_type": "code",
   "execution_count": null,
   "metadata": {},
   "outputs": [],
   "source": [
    "%%time\n",
    "spec_df_axial['datetime_h'] = spec_df_axial['datetime'].dt.floor('H')"
   ]
  },
  {
   "cell_type": "code",
   "execution_count": null,
   "metadata": {},
   "outputs": [],
   "source": [
    "spec_df_axial.head(3)"
   ]
  },
  {
   "cell_type": "code",
   "execution_count": null,
   "metadata": {},
   "outputs": [],
   "source": [
    "# isinstance([1], list)"
   ]
  },
  {
   "cell_type": "markdown",
   "metadata": {},
   "source": [
    "#### Filter dataset for selected spectrum features/orders"
   ]
  },
  {
   "cell_type": "code",
   "execution_count": null,
   "metadata": {},
   "outputs": [],
   "source": [
    "# groupby using datetime_h and aggregate spectrum features to hourly data\n",
    "# 1. Filter spectrum orders\n",
    "spec_axial_features_hourly = spec_df_axial[spec_df_axial['order'].isin([1,2,3,9,18,27,36,45,54])]"
   ]
  },
  {
   "cell_type": "code",
   "execution_count": null,
   "metadata": {},
   "outputs": [],
   "source": [
    "print(spec_axial_features_hourly.shape)\n",
    "spec_axial_features_hourly.head()"
   ]
  },
  {
   "cell_type": "markdown",
   "metadata": {},
   "source": [
    "#### Aggregate dataset for hourly measurement"
   ]
  },
  {
   "cell_type": "code",
   "execution_count": null,
   "metadata": {},
   "outputs": [],
   "source": [
    "%%time\n",
    "spec_axial_features_hourly = pd.DataFrame(spec_axial_features_hourly.groupby(['pump_name', 'sensor_name', 'datetime_h', 'order']).mean()[['amp_velocity', 'amp_acceleration']]).reset_index()"
   ]
  },
  {
   "cell_type": "code",
   "execution_count": null,
   "metadata": {},
   "outputs": [],
   "source": [
    "spec_axial_features_hourly.shape"
   ]
  },
  {
   "cell_type": "code",
   "execution_count": null,
   "metadata": {},
   "outputs": [],
   "source": [
    "spec_axial_features_hourly.head(2)"
   ]
  },
  {
   "cell_type": "markdown",
   "metadata": {},
   "source": [
    "### Visualized Selected Order Trends"
   ]
  },
  {
   "cell_type": "code",
   "execution_count": null,
   "metadata": {},
   "outputs": [],
   "source": [
    "spec_plot = go.Figure()\n",
    "# Add traces\n",
    "spec_plot.add_trace(go.Scatter(x=spec_axial_features_hourly[spec_axial_features_hourly['order']==1]['datetime_h'], \n",
    "                               y=spec_axial_features_hourly[spec_axial_features_hourly['order']==1]['amp_velocity'],\n",
    "                                mode='lines', name=\"1X\"))\n",
    "spec_plot.add_trace(go.Scatter(x=spec_axial_features_hourly[spec_axial_features_hourly['order']==9]['datetime_h'], \n",
    "                               y=spec_axial_features_hourly[spec_axial_features_hourly['order']==9]['amp_velocity'],\n",
    "                                mode='lines', name=\"9X\"))\n",
    "spec_plot.add_trace(go.Scatter(x=spec_axial_features_hourly[spec_axial_features_hourly['order']==18]['datetime_h'], \n",
    "                               y=spec_axial_features_hourly[spec_axial_features_hourly['order']==18]['amp_velocity'],\n",
    "                                mode='lines', name=\"18X\"))\n",
    "spec_plot.add_trace(go.Scatter(x=spec_axial_features_hourly[spec_axial_features_hourly['order']==27]['datetime_h'], \n",
    "                               y=spec_axial_features_hourly[spec_axial_features_hourly['order']==27]['amp_velocity'],\n",
    "                                mode='lines', name=\"27X\"))\n",
    "spec_plot.add_trace(go.Scatter(x=spec_axial_features_hourly[spec_axial_features_hourly['order']==36]['datetime_h'], \n",
    "                               y=spec_axial_features_hourly[spec_axial_features_hourly['order']==36]['amp_velocity'],\n",
    "                                mode='lines', name=\"36X\"))\n",
    "# spec_plot.add_trace(go.Scatter(x=spec_axial_features_hourly[spec_axial_features_hourly['order']==45]['datetime_h'], \n",
    "#                                y=spec_axial_features_hourly[spec_axial_features_hourly['order']==45]['amp_velocity'],\n",
    "#                                 mode='lines', name=\"45X\"))\n",
    "# spec_plot.add_trace(go.Scatter(x=spec_axial_features_hourly[spec_axial_features_hourly['order']==54]['datetime_h'], \n",
    "#                                y=spec_axial_features_hourly[spec_axial_features_hourly['order']==54]['amp_velocity'],\n",
    "#                                 mode='lines', name=\"54X\"))\n",
    "spec_plot.update_layout(template='none', title={ 'text': 'Spectrum Order Trend', 'y':0.95, 'x':0.1, 'xanchor': 'left', 'yanchor': 'top'},\n",
    "                         xaxis_title = 'Datetime', yaxis_title='Amplitude')\n",
    "# spec_plot.show()"
   ]
  },
  {
   "cell_type": "code",
   "execution_count": null,
   "metadata": {},
   "outputs": [],
   "source": [
    "## Create metric_name for spectrum features\n",
    "spec_axial_features_hourly['metric_name'] = spec_axial_features_hourly['order'].astype(int).astype(str).map('spectrum_{}x'.format)"
   ]
  },
  {
   "cell_type": "code",
   "execution_count": null,
   "metadata": {},
   "outputs": [],
   "source": [
    "spec_axial_features_hourly.head(2)"
   ]
  },
  {
   "cell_type": "markdown",
   "metadata": {},
   "source": [
    "### Hourly Aggregated Velocity Spectrum Data - Axial"
   ]
  },
  {
   "cell_type": "code",
   "execution_count": null,
   "metadata": {},
   "outputs": [],
   "source": [
    "%%time\n",
    "spec_axial_features_hourly_velocity = pd.DataFrame({\"asset_name\": spec_axial_features_hourly['pump_name'],\n",
    "                                                    \"param_name\": spec_axial_features_hourly['sensor_name'],\n",
    "                                                    \"datetime\": spec_axial_features_hourly['datetime_h'],\n",
    "                                                    \"metric_name\": spec_axial_features_hourly['metric_name'],\n",
    "                                                    \"metric_value\": spec_axial_features_hourly['amp_velocity'],\n",
    "                                                    \"metric_unit\": \"mms\",\n",
    "                                                    \"metric_type\": \"velocity\",\n",
    "                                                    \"direction\": \"axial\"\n",
    "                                                   })\n",
    "\n",
    "spec_axial_features_hourly_velocity.head()"
   ]
  },
  {
   "cell_type": "markdown",
   "metadata": {},
   "source": [
    "### Hourly Aggregated Acceleration Spectrum Data - Axial"
   ]
  },
  {
   "cell_type": "code",
   "execution_count": null,
   "metadata": {},
   "outputs": [],
   "source": [
    "%%time\n",
    "spec_axial_features_hourly_acceleration = pd.DataFrame({\"asset_name\": spec_axial_features_hourly['pump_name'],\n",
    "                                                    \"param_name\": spec_axial_features_hourly['sensor_name'],\n",
    "                                                    \"datetime\": spec_axial_features_hourly['datetime_h'],\n",
    "                                                    \"metric_name\": spec_axial_features_hourly['metric_name'],\n",
    "                                                    \"metric_value\": spec_axial_features_hourly['amp_acceleration'],\n",
    "                                                    \"metric_unit\": \"ms2\",\n",
    "                                                    \"metric_type\": \"acceleration\",\n",
    "                                                    \"direction\": \"axial\"\n",
    "                                                   })\n",
    "\n",
    "spec_axial_features_hourly_acceleration.head()"
   ]
  },
  {
   "cell_type": "markdown",
   "metadata": {},
   "source": [
    "---\n",
    "---\n",
    "\n",
    "\n",
    "## Radial direction\n",
    "---\n"
   ]
  },
  {
   "cell_type": "code",
   "execution_count": null,
   "metadata": {},
   "outputs": [],
   "source": [
    "spec_df_radial.head()"
   ]
  },
  {
   "cell_type": "markdown",
   "metadata": {},
   "source": [
    "#### Add hourly feature for datetime  "
   ]
  },
  {
   "cell_type": "code",
   "execution_count": null,
   "metadata": {},
   "outputs": [],
   "source": [
    "%%time\n",
    "spec_df_radial['datetime_h'] = spec_df_radial['datetime'].dt.floor('H')"
   ]
  },
  {
   "cell_type": "code",
   "execution_count": null,
   "metadata": {},
   "outputs": [],
   "source": [
    "spec_df_radial.head(3)"
   ]
  },
  {
   "cell_type": "markdown",
   "metadata": {},
   "source": [
    "#### Filter dataset for selected spectrum features/orders"
   ]
  },
  {
   "cell_type": "code",
   "execution_count": null,
   "metadata": {},
   "outputs": [],
   "source": [
    "# groupby using datetime_h and aggregate spectrum features to hourly data\n",
    "# 1. Filter spectrum orders\n",
    "spec_radial_features_hourly = spec_df_radial[spec_df_radial['order'].isin([1,2,3,9,18,27,36,45,54])]"
   ]
  },
  {
   "cell_type": "code",
   "execution_count": null,
   "metadata": {},
   "outputs": [],
   "source": [
    "print(spec_radial_features_hourly.shape)\n",
    "spec_radial_features_hourly.head()"
   ]
  },
  {
   "cell_type": "markdown",
   "metadata": {},
   "source": [
    "#### Aggregate dataset for hourly measurement"
   ]
  },
  {
   "cell_type": "code",
   "execution_count": null,
   "metadata": {},
   "outputs": [],
   "source": [
    "%%time\n",
    "spec_radial_features_hourly = pd.DataFrame(spec_radial_features_hourly.groupby(['pump_name', 'sensor_name', \n",
    "                                                                                'datetime_h', 'order']).mean()[['amp_velocity', 'amp_acceleration']]).reset_index()"
   ]
  },
  {
   "cell_type": "code",
   "execution_count": null,
   "metadata": {},
   "outputs": [],
   "source": [
    "spec_radial_features_hourly.shape"
   ]
  },
  {
   "cell_type": "code",
   "execution_count": null,
   "metadata": {},
   "outputs": [],
   "source": [
    "spec_radial_features_hourly.head(2)"
   ]
  },
  {
   "cell_type": "markdown",
   "metadata": {},
   "source": [
    "### Visualized Selected Order Trends"
   ]
  },
  {
   "cell_type": "code",
   "execution_count": null,
   "metadata": {},
   "outputs": [],
   "source": [
    "spec_plot = go.Figure()\n",
    "# Add traces\n",
    "spec_plot.add_trace(go.Scatter(x=spec_radial_features_hourly[spec_radial_features_hourly['order']==1]['datetime_h'], \n",
    "                               y=spec_radial_features_hourly[spec_radial_features_hourly['order']==1]['amp_velocity'],\n",
    "                                mode='lines', name=\"1X\"))\n",
    "spec_plot.add_trace(go.Scatter(x=spec_radial_features_hourly[spec_radial_features_hourly['order']==9]['datetime_h'], \n",
    "                               y=spec_radial_features_hourly[spec_radial_features_hourly['order']==9]['amp_velocity'],\n",
    "                                mode='lines', name=\"9X\"))\n",
    "spec_plot.add_trace(go.Scatter(x=spec_radial_features_hourly[spec_radial_features_hourly['order']==18]['datetime_h'], \n",
    "                               y=spec_radial_features_hourly[spec_radial_features_hourly['order']==18]['amp_velocity'],\n",
    "                                mode='lines', name=\"18X\"))\n",
    "spec_plot.add_trace(go.Scatter(x=spec_radial_features_hourly[spec_radial_features_hourly['order']==27]['datetime_h'], \n",
    "                               y=spec_radial_features_hourly[spec_radial_features_hourly['order']==27]['amp_velocity'],\n",
    "                                mode='lines', name=\"27X\"))\n",
    "spec_plot.add_trace(go.Scatter(x=spec_radial_features_hourly[spec_radial_features_hourly['order']==36]['datetime_h'], \n",
    "                               y=spec_radial_features_hourly[spec_radial_features_hourly['order']==36]['amp_velocity'],\n",
    "                                mode='lines', name=\"36X\"))\n",
    "# spec_plot.add_trace(go.Scatter(x=spec_radial_features_hourly[spec_radial_features_hourly['order']==45]['datetime_h'], \n",
    "#                                y=spec_radial_features_hourly[spec_radial_features_hourly['order']==45]['amp_velocity'],\n",
    "#                                 mode='lines', name=\"45X\"))\n",
    "# spec_plot.add_trace(go.Scatter(x=spec_radial_features_hourly[spec_radial_features_hourly['order']==54]['datetime_h'], \n",
    "#                                y=spec_radial_features_hourly[spec_radial_features_hourly['order']==54]['amp_velocity'],\n",
    "#                                 mode='lines', name=\"54X\"))\n",
    "spec_plot.update_layout(template='none', title={ 'text': 'Spectrum Order Trend', 'y':0.95, 'x':0.1, 'xanchor': 'left', 'yanchor': 'top'},\n",
    "                         xaxis_title = 'Datetime', yaxis_title='Amplitude')\n",
    "# spec_plot.show()"
   ]
  },
  {
   "cell_type": "code",
   "execution_count": null,
   "metadata": {},
   "outputs": [],
   "source": [
    "## Create metric_name for spectrum features\n",
    "spec_radial_features_hourly['metric_name'] = spec_radial_features_hourly['order'].astype(int).astype(str).map('spectrum_{}x'.format)"
   ]
  },
  {
   "cell_type": "code",
   "execution_count": null,
   "metadata": {},
   "outputs": [],
   "source": [
    "spec_radial_features_hourly.head(2)"
   ]
  },
  {
   "cell_type": "markdown",
   "metadata": {},
   "source": [
    "### Hourly Aggregated Velocity Spectrum Data - Radial"
   ]
  },
  {
   "cell_type": "code",
   "execution_count": null,
   "metadata": {},
   "outputs": [],
   "source": [
    "%%time\n",
    "spec_radial_features_hourly_velocity = pd.DataFrame({\"asset_name\": spec_radial_features_hourly['pump_name'],\n",
    "                                                    \"param_name\": spec_radial_features_hourly['sensor_name'],\n",
    "                                                    \"datetime\": spec_radial_features_hourly['datetime_h'],\n",
    "                                                    \"metric_name\": spec_radial_features_hourly['metric_name'],\n",
    "                                                    \"metric_value\": spec_radial_features_hourly['amp_velocity'],\n",
    "                                                    \"metric_unit\": \"mms\",\n",
    "                                                    \"metric_type\": \"velocity\",\n",
    "                                                    \"direction\": \"radial\"\n",
    "                                                   })\n",
    "\n",
    "spec_radial_features_hourly_velocity.head()"
   ]
  },
  {
   "cell_type": "markdown",
   "metadata": {},
   "source": [
    "### Hourly Aggregated Acceleration Spectrum Data - Radial"
   ]
  },
  {
   "cell_type": "code",
   "execution_count": null,
   "metadata": {},
   "outputs": [],
   "source": [
    "%%time\n",
    "spec_radial_features_hourly_acceleration = pd.DataFrame({\"asset_name\": spec_radial_features_hourly['pump_name'],\n",
    "                                                    \"param_name\": spec_radial_features_hourly['sensor_name'],\n",
    "                                                    \"datetime\": spec_radial_features_hourly['datetime_h'],\n",
    "                                                    \"metric_name\": spec_radial_features_hourly['metric_name'],\n",
    "                                                    \"metric_value\": spec_radial_features_hourly['amp_acceleration'],\n",
    "                                                    \"metric_unit\": \"ms2\",\n",
    "                                                    \"metric_type\": \"acceleration\",\n",
    "                                                    \"direction\": \"radial\"\n",
    "                                                   })\n",
    "\n",
    "spec_radial_features_hourly_acceleration.head()"
   ]
  },
  {
   "cell_type": "code",
   "execution_count": null,
   "metadata": {},
   "outputs": [],
   "source": []
  },
  {
   "cell_type": "code",
   "execution_count": null,
   "metadata": {},
   "outputs": [],
   "source": []
  }
 ],
 "metadata": {
  "kernelspec": {
   "display_name": "Python 3",
   "language": "python",
   "name": "python3"
  },
  "language_info": {
   "codemirror_mode": {
    "name": "ipython",
    "version": 3
   },
   "file_extension": ".py",
   "mimetype": "text/x-python",
   "name": "python",
   "nbconvert_exporter": "python",
   "pygments_lexer": "ipython3",
   "version": "3.7.4"
  }
 },
 "nbformat": 4,
 "nbformat_minor": 2
}
