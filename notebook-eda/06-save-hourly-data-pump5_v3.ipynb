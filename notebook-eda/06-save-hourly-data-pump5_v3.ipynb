{
 "cells": [
  {
   "cell_type": "markdown",
   "metadata": {},
   "source": [
    "# Hourly Pressure Data: Pump 5"
   ]
  },
  {
   "cell_type": "markdown",
   "metadata": {},
   "source": [
    "## 1. Import required libraries"
   ]
  },
  {
   "cell_type": "code",
   "execution_count": 1,
   "metadata": {},
   "outputs": [
    {
     "data": {
      "text/html": [
       "        <script type=\"text/javascript\">\n",
       "        window.PlotlyConfig = {MathJaxConfig: 'local'};\n",
       "        if (window.MathJax) {MathJax.Hub.Config({SVG: {font: \"STIX-Web\"}});}\n",
       "        if (typeof require !== 'undefined') {\n",
       "        require.undef(\"plotly\");\n",
       "        requirejs.config({\n",
       "            paths: {\n",
       "                'plotly': ['https://cdn.plot.ly/plotly-latest.min']\n",
       "            }\n",
       "        });\n",
       "        require(['plotly'], function(Plotly) {\n",
       "            window._Plotly = Plotly;\n",
       "        });\n",
       "        }\n",
       "        </script>\n",
       "        "
      ]
     },
     "metadata": {},
     "output_type": "display_data"
    },
    {
     "data": {
      "text/html": [
       "        <script type=\"text/javascript\">\n",
       "        window.PlotlyConfig = {MathJaxConfig: 'local'};\n",
       "        if (window.MathJax) {MathJax.Hub.Config({SVG: {font: \"STIX-Web\"}});}\n",
       "        if (typeof require !== 'undefined') {\n",
       "        require.undef(\"plotly\");\n",
       "        requirejs.config({\n",
       "            paths: {\n",
       "                'plotly': ['https://cdn.plot.ly/plotly-latest.min']\n",
       "            }\n",
       "        });\n",
       "        require(['plotly'], function(Plotly) {\n",
       "            window._Plotly = Plotly;\n",
       "        });\n",
       "        }\n",
       "        </script>\n",
       "        "
      ]
     },
     "metadata": {},
     "output_type": "display_data"
    }
   ],
   "source": [
    "import pandas as pd, numpy as np\n",
    "import os, requests, datetime, json, requests\n",
    "import plotly.express as px\n",
    "from plotly.offline import init_notebook_mode\n",
    "import plotly.io as pio\n",
    "init_notebook_mode(connected = True)\n",
    "pio.templates.default = \"simple_white\"\n",
    "\n",
    "from fn_data_ops_v3 import *"
   ]
  },
  {
   "cell_type": "markdown",
   "metadata": {},
   "source": [
    "***"
   ]
  },
  {
   "cell_type": "markdown",
   "metadata": {},
   "source": [
    "## Inputs \n",
    "\n",
    "**Provide required inputs below-**"
   ]
  },
  {
   "cell_type": "code",
   "execution_count": 2,
   "metadata": {},
   "outputs": [],
   "source": [
    "data_folder =  \"..\\Data\\\\Pressure-Data\\\\Pump5\\\\\"                        # Pressure data folder name\n",
    "asset_name = 'g-pump-5'                                                 # Asset Name\n",
    "asset_id = fn_get_asset_id(asset_name)                                  # Asset Id\n",
    "datestring_column_name = \"DateString\"                                   # Date column name in the data\n",
    "\n",
    "sensor_type = 'pressure'\n",
    "HOUSE_PRESSURE = \"HousePressure\"\n",
    "INLET_PRESSURE = \"InletPressure\"\n",
    "OUTLET_PRESSURE = \"OutletPressure\"\n",
    "measurement_type_housing = 'housing'\n",
    "measurement_type_inlet = 'inlet'\n",
    "measurement_type_outlet = 'outlet'"
   ]
  },
  {
   "cell_type": "code",
   "execution_count": 3,
   "metadata": {},
   "outputs": [],
   "source": [
    "# Azure API details \n",
    "dict_api = {'hourly_data_api': 'https://hpp-cm-npd-aps-001.azurewebsites.net/AssetHourlyData/',\n",
    "            'baseline_data_api' : 'https://hpp-cm-npd-aps-001.azurewebsites.net/AssetBaseline/'}"
   ]
  },
  {
   "cell_type": "markdown",
   "metadata": {},
   "source": [
    "***"
   ]
  },
  {
   "cell_type": "code",
   "execution_count": 4,
   "metadata": {},
   "outputs": [
    {
     "name": "stdout",
     "output_type": "stream",
     "text": [
      "Hourly data filename:  aid-g-pump-5-azure-hourly-data.csv\n",
      "\n",
      "Current Working Directory:  C:\\Users\\kumar_mano\\OneDrive - HCL Technologies Ltd\\Projects\\Danfoss\\Dan-WD\\save_to_api\n"
     ]
    }
   ],
   "source": [
    "hourly_data_filename = \"{}-azure-hourly-data.csv\".format(asset_id)      # filename for hourly data\n",
    "print('Hourly data filename: ',hourly_data_filename)                    \n",
    "print('\\nCurrent Working Directory: ', os.getcwd())"
   ]
  },
  {
   "cell_type": "markdown",
   "metadata": {},
   "source": [
    "**Pressure file names:**"
   ]
  },
  {
   "cell_type": "code",
   "execution_count": 5,
   "metadata": {},
   "outputs": [
    {
     "name": "stdout",
     "output_type": "stream",
     "text": [
      "..\\Data\\Pressure-Data\\Pump5\\OutletPressure.csv\n",
      "..\\Data\\Pressure-Data\\Pump5\\InletPressure.csv\n",
      "..\\Data\\Pressure-Data\\Pump5\\HousePressure.csv\n"
     ]
    }
   ],
   "source": [
    "for file_ in [OUTLET_PRESSURE, INLET_PRESSURE, HOUSE_PRESSURE]:\n",
    "    print(get_file_path(data_folder, file_))"
   ]
  },
  {
   "cell_type": "markdown",
   "metadata": {},
   "source": [
    "### Get Hourly processed data \n",
    "* 3 Data Frames for Outlet, Housing and Inlet pressure each."
   ]
  },
  {
   "cell_type": "code",
   "execution_count": 6,
   "metadata": {},
   "outputs": [],
   "source": [
    "df_hourly_outletpressure_azure = get_hourly_data_for_azure(get_file_path(data_folder, OUTLET_PRESSURE), asset_id, asset_name, OUTLET_PRESSURE, measurement_type_outlet, datestring_column_name, sensor_type)\n",
    "df_hourly_inletpressure_azure = get_hourly_data_for_azure(get_file_path(data_folder, INLET_PRESSURE), asset_id, asset_name,  INLET_PRESSURE, measurement_type_inlet, datestring_column_name, sensor_type)\n",
    "df_hourly_housepressure_azure = get_hourly_data_for_azure(get_file_path(data_folder, HOUSE_PRESSURE),asset_id, asset_name,  HOUSE_PRESSURE, measurement_type_housing, datestring_column_name, sensor_type)"
   ]
  },
  {
   "cell_type": "markdown",
   "metadata": {},
   "source": [
    "## These will be saved to Hourly Table on AZURE   \n",
    "* add_date_component needs to set to False when date components like month, date and year not desired. \n",
    "\n",
    "\n",
    "### Dataset Created for saving to Azure Database\n",
    "\n",
    "\n",
    "## AZURE DATA"
   ]
  },
  {
   "cell_type": "code",
   "execution_count": 7,
   "metadata": {},
   "outputs": [
    {
     "data": {
      "text/html": [
       "<div>\n",
       "<style scoped>\n",
       "    .dataframe tbody tr th:only-of-type {\n",
       "        vertical-align: middle;\n",
       "    }\n",
       "\n",
       "    .dataframe tbody tr th {\n",
       "        vertical-align: top;\n",
       "    }\n",
       "\n",
       "    .dataframe thead th {\n",
       "        text-align: right;\n",
       "    }\n",
       "</style>\n",
       "<table border=\"1\" class=\"dataframe\">\n",
       "  <thead>\n",
       "    <tr style=\"text-align: right;\">\n",
       "      <th></th>\n",
       "      <th>asset_id</th>\n",
       "      <th>asset_name</th>\n",
       "      <th>sensor_type</th>\n",
       "      <th>measurement_type</th>\n",
       "      <th>feature_name</th>\n",
       "      <th>feature_value</th>\n",
       "      <th>feature_unit</th>\n",
       "      <th>sensor_info</th>\n",
       "      <th>datetime</th>\n",
       "    </tr>\n",
       "  </thead>\n",
       "  <tbody>\n",
       "    <tr>\n",
       "      <td>0</td>\n",
       "      <td>aid-g-pump-5</td>\n",
       "      <td>g-pump-5</td>\n",
       "      <td>pressure</td>\n",
       "      <td>housing</td>\n",
       "      <td>MinValue</td>\n",
       "      <td>2.517552</td>\n",
       "      <td>bar</td>\n",
       "      <td>HousePressure</td>\n",
       "      <td>2019-11-19 18:00:00</td>\n",
       "    </tr>\n",
       "    <tr>\n",
       "      <td>1</td>\n",
       "      <td>aid-g-pump-5</td>\n",
       "      <td>g-pump-5</td>\n",
       "      <td>pressure</td>\n",
       "      <td>housing</td>\n",
       "      <td>MinValue</td>\n",
       "      <td>3.307387</td>\n",
       "      <td>bar</td>\n",
       "      <td>HousePressure</td>\n",
       "      <td>2019-11-20 08:00:00</td>\n",
       "    </tr>\n",
       "    <tr>\n",
       "      <td>2</td>\n",
       "      <td>aid-g-pump-5</td>\n",
       "      <td>g-pump-5</td>\n",
       "      <td>pressure</td>\n",
       "      <td>housing</td>\n",
       "      <td>MinValue</td>\n",
       "      <td>2.525183</td>\n",
       "      <td>bar</td>\n",
       "      <td>HousePressure</td>\n",
       "      <td>2019-11-20 14:00:00</td>\n",
       "    </tr>\n",
       "    <tr>\n",
       "      <td>3</td>\n",
       "      <td>aid-g-pump-5</td>\n",
       "      <td>g-pump-5</td>\n",
       "      <td>pressure</td>\n",
       "      <td>housing</td>\n",
       "      <td>MinValue</td>\n",
       "      <td>2.612943</td>\n",
       "      <td>bar</td>\n",
       "      <td>HousePressure</td>\n",
       "      <td>2019-11-20 15:00:00</td>\n",
       "    </tr>\n",
       "    <tr>\n",
       "      <td>4</td>\n",
       "      <td>aid-g-pump-5</td>\n",
       "      <td>g-pump-5</td>\n",
       "      <td>pressure</td>\n",
       "      <td>housing</td>\n",
       "      <td>MinValue</td>\n",
       "      <td>2.727411</td>\n",
       "      <td>bar</td>\n",
       "      <td>HousePressure</td>\n",
       "      <td>2019-11-20 16:00:00</td>\n",
       "    </tr>\n",
       "  </tbody>\n",
       "</table>\n",
       "</div>"
      ],
      "text/plain": [
       "       asset_id asset_name sensor_type measurement_type feature_name  \\\n",
       "0  aid-g-pump-5   g-pump-5    pressure          housing     MinValue   \n",
       "1  aid-g-pump-5   g-pump-5    pressure          housing     MinValue   \n",
       "2  aid-g-pump-5   g-pump-5    pressure          housing     MinValue   \n",
       "3  aid-g-pump-5   g-pump-5    pressure          housing     MinValue   \n",
       "4  aid-g-pump-5   g-pump-5    pressure          housing     MinValue   \n",
       "\n",
       "   feature_value feature_unit    sensor_info            datetime  \n",
       "0       2.517552          bar  HousePressure 2019-11-19 18:00:00  \n",
       "1       3.307387          bar  HousePressure 2019-11-20 08:00:00  \n",
       "2       2.525183          bar  HousePressure 2019-11-20 14:00:00  \n",
       "3       2.612943          bar  HousePressure 2019-11-20 15:00:00  \n",
       "4       2.727411          bar  HousePressure 2019-11-20 16:00:00  "
      ]
     },
     "execution_count": 7,
     "metadata": {},
     "output_type": "execute_result"
    }
   ],
   "source": [
    "df_pump_azure_data = df_hourly_housepressure_azure.append(df_hourly_inletpressure_azure).append(df_hourly_outletpressure_azure)\n",
    "df_pump_azure_data.reset_index(drop=True, inplace=True)\n",
    "df_pump_azure_data.to_csv(hourly_data_filename, index = False)\n",
    "df_pump_azure_data.head()\n",
    "#df_pump4_azure_data.dtypes"
   ]
  },
  {
   "cell_type": "code",
   "execution_count": 8,
   "metadata": {},
   "outputs": [
    {
     "data": {
      "text/plain": [
       "(8388, 9)"
      ]
     },
     "execution_count": 8,
     "metadata": {},
     "output_type": "execute_result"
    }
   ],
   "source": [
    "df_pump_azure_data.shape"
   ]
  },
  {
   "cell_type": "markdown",
   "metadata": {},
   "source": [
    "## Convert DataFrame to TO Json and Push to Azure API   "
   ]
  },
  {
   "cell_type": "markdown",
   "metadata": {},
   "source": [
    "##### Sample code to push hourly data through API: \n",
    "***\n",
    "```python\n",
    "#del(df_pump_azure_data) \n",
    "# For testing \n",
    "#df_pump_azure_data = pd.read_csv(hourly_data_filename)\n",
    "#df_pump_azure_data['datetime'] = pd.to_datetime(df_pump_azure_data['datetime']) \n",
    "df_pump_azure_data.head() \n",
    "\n",
    "json_object = convert_hourly_data_to_json(df_pump_azure_data)\n",
    "status_code, reason = save_to_api(json_object, dict_api['hourly_data_api'])\n",
    "print(status_code, reason)\n",
    "```\n",
    "***"
   ]
  },
  {
   "cell_type": "code",
   "execution_count": null,
   "metadata": {},
   "outputs": [],
   "source": [
    "json_object = convert_hourly_data_to_json(df_pump_azure_data)\n",
    "status_code, reason = save_to_api(json_object, dict_api['hourly_data_api'])\n",
    "print(status_code, reason)"
   ]
  },
  {
   "cell_type": "markdown",
   "metadata": {},
   "source": [
    "***"
   ]
  },
  {
   "cell_type": "code",
   "execution_count": null,
   "metadata": {},
   "outputs": [],
   "source": [
    "# json_data = get_data_from_api(api_url = \"https://hpp-cm-npd-aps-001.azurewebsites.net/AssetHourlyData/P4-xyzwab\")"
   ]
  },
  {
   "cell_type": "code",
   "execution_count": null,
   "metadata": {},
   "outputs": [],
   "source": [
    "# json_data"
   ]
  },
  {
   "cell_type": "markdown",
   "metadata": {},
   "source": [
    "***"
   ]
  },
  {
   "cell_type": "markdown",
   "metadata": {},
   "source": [
    "*** \n",
    "## *Thank you!*\n",
    "*** "
   ]
  }
 ],
 "metadata": {
  "kernelspec": {
   "display_name": "Python 3",
   "language": "python",
   "name": "python3"
  },
  "language_info": {
   "codemirror_mode": {
    "name": "ipython",
    "version": 3
   },
   "file_extension": ".py",
   "mimetype": "text/x-python",
   "name": "python",
   "nbconvert_exporter": "python",
   "pygments_lexer": "ipython3",
   "version": "3.7.4"
  }
 },
 "nbformat": 4,
 "nbformat_minor": 2
}
