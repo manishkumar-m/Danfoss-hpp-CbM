{
 "cells": [
  {
   "cell_type": "markdown",
   "metadata": {},
   "source": [
    "# Acceleration to Velocity conversion: Waveform\n",
    "\n",
    "### Acceleration waveform to Velocity waveform conversion using the composite trapezoidal rule\n",
    "\n",
    "> Remark: \n",
    "* With the trapezoidal rule, we approximate the curve by using piecewise linear functions. \n",
    "* With Simpson's rule, we approximate the curve by using piecewise quadratic functions.\n",
    "* `Here we have used trapezoidal rule for obtaining velocity waveform by numerical integration over acceleration.`\n",
    "* `This can be improved further using Simpson's rule in future.`\n"
   ]
  },
  {
   "cell_type": "markdown",
   "metadata": {},
   "source": [
    "***    \n",
    "   \n",
    "<br>     \n",
    "  \n",
    "***Matlab code for acceleration to velocity waveform conversion- numerical integration.***  \n",
    "*`Shared by Vijay`*  \n",
    "***\n",
    "\n",
    "```python\n",
    "fs=48828.125; %Sampling frequency\n",
    "VibAccelerationValues=Tbl.metric_value; %Read raw vibration acceleration signal\n",
    "VibAccelerationValues=VibAccelerationValues-mean(VibAccelerationValues); %Substract mean value\n",
    "Time=0:1/fs:(length(VibAccelerationValues)-1)/fs; %Define time vector\n",
    "Time=Time';\n",
    "                  \n",
    "VibVelocityValues=cumtrapz(VibAccelerationValues,Time); %Integrate acceleration signal to obtain velocity signal\n",
    "VibVelocityValues=VibVelocityValues-mean(VibVelocityValues); %Subtract mean value\n",
    "```   \n",
    "\n",
    "***"
   ]
  },
  {
   "cell_type": "markdown",
   "metadata": {},
   "source": [
    "***  \n",
    "***  "
   ]
  },
  {
   "cell_type": "markdown",
   "metadata": {},
   "source": [
    "**Import requied libraries**"
   ]
  },
  {
   "cell_type": "code",
   "execution_count": null,
   "metadata": {},
   "outputs": [],
   "source": [
    "import pandas as pd\n",
    "import numpy as np\n",
    "import os\n",
    "\n",
    "import plotly.express as px\n",
    "from plotly.offline import init_notebook_mode\n",
    "import plotly.io as pio\n",
    "import plotly.graph_objects as go\n",
    "init_notebook_mode(connected = True)\n",
    "pio.templates.default = \"simple_white\"\n",
    "import matplotlib.pyplot as plt\n",
    "\n",
    "from scipy import integrate\n",
    "\n",
    "pd.set_option('display.max_rows', 5000000)\n",
    "pd.set_option('display.max_columns', 5000000)\n",
    "pd.set_option('display.width', 100000000)\n",
    "\n",
    "def accln_to_velocity_v2(amp, freq, G=1):\n",
    "    \"\"\"\n",
    "    freq = Frequency in Hz.\n",
    "    amp = amplitude in acceleration spectrum.\n",
    "         (If we convert from RMS then the resulting velocity amplitude will be in RMS.)\n",
    "    G = G in these formulas is not the acceleration of gravity. \n",
    "        It is a constant for calculation within different systems. \n",
    "        For metric, G is 9.80665 m/s². For Imperial, G is 386.0885827 in/s² For SI, G is 1 m/s²\n",
    "    \n",
    "    * In below formula, multilying nominator with 1000 to convert acceleration amplitude from m/s2 to mm/s2 \n",
    "    \"\"\"\n",
    "    try:\n",
    "        amp_velocity = (G * amp * 1000)/(2 * np.pi * freq)\n",
    "        return(amp_velocity)\n",
    "    except ZeroDivisionError:\n",
    "        return(0)\n",
    "    \n",
    "    \n",
    "\n",
    "def get_spec_from_waveform(df_wf, y_var_name = \"amp_acceleration\", plot = False):\n",
    "    \"\"\"\n",
    "    get spectrum data from waveform, df_wf should have x(time) and y(amplitude) columns\n",
    "    \"\"\"\n",
    "    N = df_wf.shape[0]; # N # Number of Sample Points\n",
    "    spacing = df_wf['x'][N-1]/N\n",
    "    Y    = np.fft.fft(df_wf['y'])\n",
    "    freq = np.fft.fftfreq(N, spacing)\n",
    "    df_spectrum = pd.DataFrame( freq, Y)\n",
    "    #d = {'col1': [1, 2], 'col2': [3, 4]}\n",
    "    d = {'freq':  freq[:N//2], y_var_name: 2.0/N * np.abs(Y[:N//2])}\n",
    "    #pd.DataFrame( freq[:N//2], 2.0/N * np.abs(Y[:N//2]))\n",
    "    #df_filtered_spectrum = pd.DataFrame( freq[:N//2], 2.0/N * np.abs(Y[:N//2]))\n",
    "    df_filtered_spectrum = pd.DataFrame( data = d)\n",
    "    if plot:\n",
    "        fig, ax = plt.subplots()\n",
    "        ax.plot(freq[:N//2], 2.0/N * np.abs(Y[:N//2]))\n",
    "        plt.show()\n",
    "    return(df_filtered_spectrum, df_spectrum)"
   ]
  },
  {
   "cell_type": "markdown",
   "metadata": {},
   "source": [
    "### Load waveform data - csv files"
   ]
  },
  {
   "cell_type": "code",
   "execution_count": null,
   "metadata": {},
   "outputs": [],
   "source": [
    "# Read waveform data sample\n",
    "wav_df1 = pd.read_csv('../waveform-fft/g-pump-5_pump-axial_raw-data_2020-03-05 09_15_58_1480_td.csv')\n",
    "wav_df2 = pd.read_csv('../waveform-fft/g-pump-5_pump-axial_raw-data_2020-03-05 10_15_59_1480_td.csv')"
   ]
  },
  {
   "cell_type": "code",
   "execution_count": null,
   "metadata": {},
   "outputs": [],
   "source": [
    "wav_df1.head(2)"
   ]
  },
  {
   "cell_type": "code",
   "execution_count": null,
   "metadata": {},
   "outputs": [],
   "source": [
    "print('Data collection duration (in sec): ', max(wav_df1.x))\n",
    "print('Number of Data Points collected: ', wav_df1.shape[0])\n",
    "print('Sampling Frequency of the wavform: ',wav_df1.shape[0]/max(wav_df1.x))"
   ]
  },
  {
   "cell_type": "code",
   "execution_count": null,
   "metadata": {},
   "outputs": [],
   "source": [
    "# print(np.arange(0.0, max(wav_df1.x), 1/(wav_df1.shape[0]/max(wav_df1.x))))\n",
    "# print(wav_df1['x'].values)"
   ]
  },
  {
   "cell_type": "code",
   "execution_count": null,
   "metadata": {},
   "outputs": [],
   "source": [
    "fs=48828.125; #Sampling frequency of the waveform   # wav_df1.shape[0]/max(wav_df1.x)\n",
    "VibAccelerationValues = wav_df1['y'].values; #Read raw vibration acceleration signal\n",
    "Time= wav_df1['x'].values #np.arange(0.0, max(wav_df1.x), 1/(wav_df1.shape[0]/max(wav_df1.x))) #Define time vector\n",
    "\n",
    "## Remove offset of given signals - An approximate. This approach can be improved later on. \n",
    "## mean calculates the given offset\n",
    "## acceleration value has to be zero without offset!\n",
    "VibAccelerationValues = VibAccelerationValues - np.mean(VibAccelerationValues)  #Substract mean value\n",
    "VibVelocityValues = integrate.cumtrapz(x = Time, y = VibAccelerationValues, initial=0) #Integrate acceleration signal to obtain velocity signal\n",
    "VibVelocityValues = VibVelocityValues-np.mean(VibVelocityValues)                #Subtract mean value"
   ]
  },
  {
   "cell_type": "code",
   "execution_count": null,
   "metadata": {},
   "outputs": [],
   "source": [
    "print('Length of obtained velocity waveform: ',len(VibVelocityValues))\n",
    "print('\\nMean of acceleration waveform (m/s2): ', np.mean(VibAccelerationValues))\n",
    "print('Mean of velocity waveform (mm/s): ', 1000*np.mean(VibVelocityValues))\n",
    "print('\\nRMS of acceleration waveform (m/s2): ', np.sqrt(np.mean(VibAccelerationValues**2)))\n",
    "print('RMS of velocity waveform (mm/s): ', 1000*np.sqrt(np.mean(VibVelocityValues**2)))"
   ]
  },
  {
   "cell_type": "markdown",
   "metadata": {},
   "source": [
    "#### Top few rows from Acceleration Waveform"
   ]
  },
  {
   "cell_type": "code",
   "execution_count": null,
   "metadata": {},
   "outputs": [],
   "source": [
    "wav_df1.head(10)"
   ]
  },
  {
   "cell_type": "markdown",
   "metadata": {},
   "source": [
    "#### Top few rows from velocity waveform"
   ]
  },
  {
   "cell_type": "code",
   "execution_count": null,
   "metadata": {},
   "outputs": [],
   "source": [
    "df_1 = pd.DataFrame(data= {'x': list(Time), 'y': list(VibVelocityValues)})\n",
    "df_1.head(10)"
   ]
  },
  {
   "cell_type": "markdown",
   "metadata": {},
   "source": [
    "## Visualize Wavforms:"
   ]
  },
  {
   "cell_type": "markdown",
   "metadata": {},
   "source": [
    "### Acceleration Wavform\n",
    "**Amplitude in m/s2**"
   ]
  },
  {
   "cell_type": "code",
   "execution_count": null,
   "metadata": {},
   "outputs": [],
   "source": [
    "fig = px.line(wav_df1, x='x', y='y', template='plotly_white', width=None, height=None, title = 'Acceleration Wavform')\n",
    "fig.show()"
   ]
  },
  {
   "cell_type": "markdown",
   "metadata": {},
   "source": [
    "### Velocity Wavform\n",
    "**Amplitude in mm/s**"
   ]
  },
  {
   "cell_type": "code",
   "execution_count": null,
   "metadata": {},
   "outputs": [],
   "source": [
    "fig = px.line(df_1, x='x', y=df_1['y']*1000, template='plotly_white', width=None, height=None, title = 'Velocity Wavform')\n",
    "fig.show()"
   ]
  },
  {
   "cell_type": "markdown",
   "metadata": {},
   "source": [
    "## Waveform to Spectrum conversion: FFT\n"
   ]
  },
  {
   "cell_type": "markdown",
   "metadata": {},
   "source": [
    "### Acceleration Waveform to Acceleration Spectrum"
   ]
  },
  {
   "cell_type": "code",
   "execution_count": null,
   "metadata": {},
   "outputs": [],
   "source": [
    "fft1, _ = get_spec_from_waveform(wav_df1, 'y', plot = False)\n",
    "fig = px.line(fft1, x='freq', y='y', template='plotly_white', width=None, height=None)\n",
    "fig.update_xaxes(range=(0,2000))\n",
    "fig.show()"
   ]
  },
  {
   "cell_type": "markdown",
   "metadata": {},
   "source": [
    "### Acceleration Spectrum to Velocity Spectrum\n",
    "#### Formula applied on acceleration spectrum"
   ]
  },
  {
   "cell_type": "code",
   "execution_count": null,
   "metadata": {},
   "outputs": [],
   "source": [
    "fft1['y2'] = list(map(accln_to_velocity_v2, fft1['y'], fft1['freq'])); #df_spec.head()\n",
    "fig = px.line(fft1, x='freq', y='y2', template='plotly_white', width=None, height=None)\n",
    "fig.update_xaxes(range=(0,2000))\n",
    "fig.show()"
   ]
  },
  {
   "cell_type": "markdown",
   "metadata": {},
   "source": [
    "### Velocity Waveform to Velocity Spectrum \n",
    "#### FFT on Velocity wavform"
   ]
  },
  {
   "cell_type": "code",
   "execution_count": null,
   "metadata": {},
   "outputs": [],
   "source": [
    "fft1_1, _ = get_spec_from_waveform(df_1, 'y', plot = False)\n",
    "fig = px.line(fft1_1, x='freq', y=fft1_1['y']*1000, template='plotly_white', width=None, height=None)\n",
    "fig.update_xaxes(range=(0,2000))\n",
    "fig.show()"
   ]
  },
  {
   "cell_type": "markdown",
   "metadata": {},
   "source": [
    "## Compairing both Method of Velocity Spectrum Conversion\n",
    "#### Method-1:\n",
    "**First convert acceleration waveform to velocity waveform and apply FFT on that to get velocity spectrum.**\n",
    "\n",
    "#### Method-2:\n",
    "**First apply FFT on acceleration waveform to get acceleration spectrum and apply formula on that to get velocity spectrum.**"
   ]
  },
  {
   "cell_type": "code",
   "execution_count": null,
   "metadata": {},
   "outputs": [],
   "source": [
    "fft1_1, _ = get_spec_from_waveform(df_1, 'y', plot = False)\n",
    "fft1_2, _ = get_spec_from_waveform(wav_df1, 'y', plot = False)\n",
    "fft1_2['y2'] = list(map(accln_to_velocity_v2, fft1_2['y'], fft1_2['freq'])); #df_spec.head()\n",
    "\n",
    "fig = go.Figure() #Add traces into it\n",
    "fig.add_trace(go.Scatter(x=fft1_1['freq'], y=fft1_1[\"y\"]*1000, mode='lines', name=\"Method-1\"))\n",
    "fig.add_trace(go.Scatter(x=fft1_2['freq'], y=fft1_2[\"y2\"], mode='lines', name=\"Method-2\"))\n",
    "fig.update_xaxes(range=(0,2000))\n",
    "fig.show()"
   ]
  },
  {
   "cell_type": "code",
   "execution_count": null,
   "metadata": {},
   "outputs": [],
   "source": [
    "fft1_1['y']  = fft1_1['y']*1000\n",
    "fft1_1.head()"
   ]
  },
  {
   "cell_type": "code",
   "execution_count": null,
   "metadata": {},
   "outputs": [],
   "source": [
    "fft1_2[['freq', 'y2']].head()"
   ]
  },
  {
   "cell_type": "markdown",
   "metadata": {},
   "source": [
    "***"
   ]
  },
  {
   "cell_type": "markdown",
   "metadata": {},
   "source": [
    "### Conclusion: \n",
    "\n",
    "#### 1. To obtain velocity waveform use integration over acceleration waveform.\n",
    "#### 2. FFT on acceleration waveform to obtain acceleration spectrum.\n",
    "#### 3. Apply unit conversion formula on acceleration spectrum to obtain velocity spectrum.\n"
   ]
  },
  {
   "cell_type": "markdown",
   "metadata": {},
   "source": [
    "***"
   ]
  }
 ],
 "metadata": {
  "kernelspec": {
   "display_name": "Python 3",
   "language": "python",
   "name": "python3"
  },
  "language_info": {
   "codemirror_mode": {
    "name": "ipython",
    "version": 3
   },
   "file_extension": ".py",
   "mimetype": "text/x-python",
   "name": "python",
   "nbconvert_exporter": "python",
   "pygments_lexer": "ipython3",
   "version": "3.7.4"
  }
 },
 "nbformat": 4,
 "nbformat_minor": 4
}
