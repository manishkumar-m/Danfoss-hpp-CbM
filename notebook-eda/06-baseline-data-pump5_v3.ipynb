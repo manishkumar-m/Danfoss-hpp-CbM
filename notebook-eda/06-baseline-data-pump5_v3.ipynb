{
 "cells": [
  {
   "cell_type": "markdown",
   "metadata": {},
   "source": [
    "# Baselining Pressure Data: Pump 5"
   ]
  },
  {
   "cell_type": "markdown",
   "metadata": {},
   "source": [
    "## 1. Import required libraries"
   ]
  },
  {
   "cell_type": "code",
   "execution_count": 1,
   "metadata": {},
   "outputs": [],
   "source": [
    "%load_ext skip_kernel_extension"
   ]
  },
  {
   "cell_type": "code",
   "execution_count": 2,
   "metadata": {},
   "outputs": [
    {
     "data": {
      "text/html": [
       "        <script type=\"text/javascript\">\n",
       "        window.PlotlyConfig = {MathJaxConfig: 'local'};\n",
       "        if (window.MathJax) {MathJax.Hub.Config({SVG: {font: \"STIX-Web\"}});}\n",
       "        if (typeof require !== 'undefined') {\n",
       "        require.undef(\"plotly\");\n",
       "        requirejs.config({\n",
       "            paths: {\n",
       "                'plotly': ['https://cdn.plot.ly/plotly-latest.min']\n",
       "            }\n",
       "        });\n",
       "        require(['plotly'], function(Plotly) {\n",
       "            window._Plotly = Plotly;\n",
       "        });\n",
       "        }\n",
       "        </script>\n",
       "        "
      ]
     },
     "metadata": {},
     "output_type": "display_data"
    },
    {
     "data": {
      "text/html": [
       "        <script type=\"text/javascript\">\n",
       "        window.PlotlyConfig = {MathJaxConfig: 'local'};\n",
       "        if (window.MathJax) {MathJax.Hub.Config({SVG: {font: \"STIX-Web\"}});}\n",
       "        if (typeof require !== 'undefined') {\n",
       "        require.undef(\"plotly\");\n",
       "        requirejs.config({\n",
       "            paths: {\n",
       "                'plotly': ['https://cdn.plot.ly/plotly-latest.min']\n",
       "            }\n",
       "        });\n",
       "        require(['plotly'], function(Plotly) {\n",
       "            window._Plotly = Plotly;\n",
       "        });\n",
       "        }\n",
       "        </script>\n",
       "        "
      ]
     },
     "metadata": {},
     "output_type": "display_data"
    }
   ],
   "source": [
    "import pandas as pd, numpy as np\n",
    "import os, requests, datetime\n",
    "import plotly.express as px\n",
    "from plotly.offline import init_notebook_mode\n",
    "import plotly.io as pio\n",
    "init_notebook_mode(connected = True)\n",
    "pio.templates.default = \"simple_white\"\n",
    "\n",
    "from fn_data_ops_v3 import *"
   ]
  },
  {
   "cell_type": "markdown",
   "metadata": {},
   "source": [
    "## Inputs \n",
    "\n",
    "**Provide required inputs below-**"
   ]
  },
  {
   "cell_type": "markdown",
   "metadata": {},
   "source": [
    "`skip_baseline_save == False` <font color='red'>*>> To save baseline data to DB.</font> <br>\n",
    "`skip_baseline_save == True` <font color='red'>*>> To run the notebook for baseline week selection.</font>"
   ]
  },
  {
   "cell_type": "code",
   "execution_count": 3,
   "metadata": {},
   "outputs": [],
   "source": [
    "skip_baseline_save = False  # To skip baseline save, set it as True"
   ]
  },
  {
   "cell_type": "code",
   "execution_count": 4,
   "metadata": {},
   "outputs": [],
   "source": [
    "data_folder =  \"..\\Data\\\\Pressure-Data\\\\Pump5\\\\\"                        # Pressure data folder name\n",
    "asset_name = 'g-pump-5'                                                 # Asset Name\n",
    "asset_id = fn_get_asset_id(asset_name)                                  # Asset Id\n",
    "datestring_column_name = \"DateString\"                                   # Date column name in the data\n",
    "\n",
    "sensor_type = \"pressure\"                                                \n",
    "HOUSE_PRESSURE = \"HousePressure\"\n",
    "INLET_PRESSURE = \"InletPressure\"\n",
    "OUTLET_PRESSURE = \"OutletPressure\"\n",
    "measurement_type_housing = 'housing'\n",
    "measurement_type_inlet = 'inlet'\n",
    "measurement_type_outlet = 'outlet'"
   ]
  },
  {
   "cell_type": "code",
   "execution_count": 5,
   "metadata": {},
   "outputs": [],
   "source": [
    "# Azure API details \n",
    "dict_api = {'hourly_data_api': 'https://hpp-cm-npd-aps-001.azurewebsites.net/AssetHourlyData/',\n",
    "            'baseline_data_api' : 'https://hpp-cm-npd-aps-001.azurewebsites.net/AssetBaseline/'}"
   ]
  },
  {
   "cell_type": "code",
   "execution_count": 6,
   "metadata": {},
   "outputs": [
    {
     "name": "stdout",
     "output_type": "stream",
     "text": [
      "Hourly data filename:  aid-g-pump-5-azure-hourly-data.csv\n",
      "Baseline data filename:  aid-g-pump-5-azure-baseline-data.csv\n",
      "\n",
      "Current Working Directory:  C:\\Users\\kumar_mano\\OneDrive - HCL Technologies Ltd\\Projects\\Danfoss\\Dan-WD\\save_to_api\n"
     ]
    }
   ],
   "source": [
    "hourly_data_filename = \"{}-azure-hourly-data.csv\".format(asset_id)      # filename for hourly data\n",
    "baseline_data_filename = \"{}-azure-baseline-data.csv\".format(asset_id)  # filename for baselining data\n",
    "print('Hourly data filename: ',hourly_data_filename)                    \n",
    "print('Baseline data filename: ', baseline_data_filename)    \n",
    "print('\\nCurrent Working Directory: ', os.getcwd())"
   ]
  },
  {
   "cell_type": "markdown",
   "metadata": {},
   "source": [
    "**Pressure file names:**"
   ]
  },
  {
   "cell_type": "code",
   "execution_count": 7,
   "metadata": {},
   "outputs": [
    {
     "name": "stdout",
     "output_type": "stream",
     "text": [
      "..\\Data\\Pressure-Data\\Pump5\\OutletPressure.csv\n",
      "..\\Data\\Pressure-Data\\Pump5\\InletPressure.csv\n",
      "..\\Data\\Pressure-Data\\Pump5\\HousePressure.csv\n"
     ]
    }
   ],
   "source": [
    "for file_ in [OUTLET_PRESSURE, INLET_PRESSURE, HOUSE_PRESSURE]:\n",
    "    print(get_file_path(data_folder, file_))"
   ]
  },
  {
   "cell_type": "markdown",
   "metadata": {},
   "source": [
    "# Baselining Activity"
   ]
  },
  {
   "cell_type": "markdown",
   "metadata": {},
   "source": [
    "### Processing Hourly Data for Baselining Activity\n",
    "* Following dataset should be obtained from an API call"
   ]
  },
  {
   "cell_type": "markdown",
   "metadata": {},
   "source": [
    "### Get Hourly processed data \n",
    "* 3 Data Frames for Outlet, Housing and Inlet pressure each."
   ]
  },
  {
   "cell_type": "code",
   "execution_count": 8,
   "metadata": {},
   "outputs": [],
   "source": [
    "df_hourly_outletpressure_azure = get_hourly_data_for_azure(get_file_path(data_folder, OUTLET_PRESSURE), asset_id, asset_name, OUTLET_PRESSURE, measurement_type_outlet, datestring_column_name, sensor_type)\n",
    "df_hourly_inletpressure_azure = get_hourly_data_for_azure(get_file_path(data_folder, INLET_PRESSURE), asset_id, asset_name,  INLET_PRESSURE, measurement_type_inlet, datestring_column_name, sensor_type)\n",
    "df_hourly_housepressure_azure = get_hourly_data_for_azure(get_file_path(data_folder, HOUSE_PRESSURE),asset_id, asset_name,  HOUSE_PRESSURE, measurement_type_housing, datestring_column_name, sensor_type)"
   ]
  },
  {
   "cell_type": "code",
   "execution_count": 9,
   "metadata": {},
   "outputs": [],
   "source": [
    "# df_pump_azure_data = df_hourly_housepressure_azure.append(df_hourly_inletpressure_azure).append(df_hourly_outletpressure_azure)\n",
    "# df_pump_azure_data.reset_index(drop=True, inplace=True)\n",
    "# df_pump_azure_data.to_csv(hourly_data_filename, index = False)\n",
    "# df_pump_azure_data.head()\n",
    "# #df_pump4_azure_data.dtypes"
   ]
  },
  {
   "cell_type": "markdown",
   "metadata": {},
   "source": [
    "### Filter the Outliers in the Data"
   ]
  },
  {
   "cell_type": "markdown",
   "metadata": {},
   "source": [
    "##### Remove negative values from hourly pressure data for baselining"
   ]
  },
  {
   "cell_type": "code",
   "execution_count": 10,
   "metadata": {},
   "outputs": [
    {
     "name": "stdout",
     "output_type": "stream",
     "text": [
      "(2796, 9) (2796, 9) (2796, 9)\n",
      "(2796, 9) (2796, 9) (2796, 9)\n"
     ]
    }
   ],
   "source": [
    "print(df_hourly_outletpressure_azure.shape, df_hourly_inletpressure_azure.shape, df_hourly_housepressure_azure.shape)\n",
    "df_hourly_outletpressure_azure = fn_remove_negative_values(df_= df_hourly_outletpressure_azure)\n",
    "df_hourly_inletpressure_azure = fn_remove_negative_values(df_= df_hourly_inletpressure_azure)\n",
    "df_hourly_housepressure_azure = fn_remove_negative_values(df_= df_hourly_housepressure_azure)\n",
    "print(df_hourly_outletpressure_azure.shape, df_hourly_inletpressure_azure.shape, df_hourly_housepressure_azure.shape)"
   ]
  },
  {
   "cell_type": "markdown",
   "metadata": {},
   "source": [
    "***Filter values less than 5 and greater than 95 percentile from the AvgValue data.***"
   ]
  },
  {
   "cell_type": "code",
   "execution_count": 11,
   "metadata": {},
   "outputs": [
    {
     "name": "stdout",
     "output_type": "stream",
     "text": [
      "(2796, 9) (2796, 9) (2796, 9)\n",
      "(2735, 9) (2703, 9) (2705, 9)\n"
     ]
    }
   ],
   "source": [
    "print(df_hourly_outletpressure_azure.shape, df_hourly_inletpressure_azure.shape, df_hourly_housepressure_azure.shape)\n",
    "\n",
    "df_hourly_outletpressure_azure = fn_drop_outliers(df_hourly = df_hourly_outletpressure_azure)\n",
    "df_hourly_inletpressure_azure = fn_drop_outliers(df_hourly = df_hourly_inletpressure_azure)\n",
    "df_hourly_housepressure_azure = fn_drop_outliers(df_hourly = df_hourly_housepressure_azure)\n",
    "\n",
    "print(df_hourly_outletpressure_azure.shape, df_hourly_inletpressure_azure.shape, df_hourly_housepressure_azure.shape)"
   ]
  },
  {
   "cell_type": "code",
   "execution_count": 12,
   "metadata": {},
   "outputs": [],
   "source": [
    "df_pump_azure_data = df_hourly_housepressure_azure.append(df_hourly_inletpressure_azure).append(df_hourly_outletpressure_azure)\n",
    "df_pump_azure_data.reset_index(drop=True, inplace=True)\n",
    "df_data = add_date_components(df_pump_azure_data, \"datetime\")\n",
    "# df_data.dtypes"
   ]
  },
  {
   "cell_type": "code",
   "execution_count": 13,
   "metadata": {},
   "outputs": [
    {
     "data": {
      "text/html": [
       "<div>\n",
       "<style scoped>\n",
       "    .dataframe tbody tr th:only-of-type {\n",
       "        vertical-align: middle;\n",
       "    }\n",
       "\n",
       "    .dataframe tbody tr th {\n",
       "        vertical-align: top;\n",
       "    }\n",
       "\n",
       "    .dataframe thead th {\n",
       "        text-align: right;\n",
       "    }\n",
       "</style>\n",
       "<table border=\"1\" class=\"dataframe\">\n",
       "  <thead>\n",
       "    <tr style=\"text-align: right;\">\n",
       "      <th></th>\n",
       "      <th>asset_id</th>\n",
       "      <th>asset_name</th>\n",
       "      <th>sensor_type</th>\n",
       "      <th>measurement_type</th>\n",
       "      <th>feature_name</th>\n",
       "      <th>feature_value</th>\n",
       "      <th>feature_unit</th>\n",
       "      <th>sensor_info</th>\n",
       "      <th>datetime</th>\n",
       "      <th>d</th>\n",
       "      <th>dayofweek</th>\n",
       "      <th>year</th>\n",
       "      <th>month</th>\n",
       "      <th>hour</th>\n",
       "      <th>minute</th>\n",
       "      <th>second</th>\n",
       "      <th>week</th>\n",
       "    </tr>\n",
       "  </thead>\n",
       "  <tbody>\n",
       "    <tr>\n",
       "      <td>0</td>\n",
       "      <td>aid-g-pump-5</td>\n",
       "      <td>g-pump-5</td>\n",
       "      <td>pressure</td>\n",
       "      <td>housing</td>\n",
       "      <td>MinValue</td>\n",
       "      <td>2.517552</td>\n",
       "      <td>bar</td>\n",
       "      <td>HousePressure</td>\n",
       "      <td>2019-11-19 18:00:00</td>\n",
       "      <td>19</td>\n",
       "      <td>1</td>\n",
       "      <td>2019</td>\n",
       "      <td>11</td>\n",
       "      <td>18</td>\n",
       "      <td>0</td>\n",
       "      <td>0</td>\n",
       "      <td>47</td>\n",
       "    </tr>\n",
       "    <tr>\n",
       "      <td>1</td>\n",
       "      <td>aid-g-pump-5</td>\n",
       "      <td>g-pump-5</td>\n",
       "      <td>pressure</td>\n",
       "      <td>housing</td>\n",
       "      <td>MinValue</td>\n",
       "      <td>3.307387</td>\n",
       "      <td>bar</td>\n",
       "      <td>HousePressure</td>\n",
       "      <td>2019-11-20 08:00:00</td>\n",
       "      <td>20</td>\n",
       "      <td>2</td>\n",
       "      <td>2019</td>\n",
       "      <td>11</td>\n",
       "      <td>8</td>\n",
       "      <td>0</td>\n",
       "      <td>0</td>\n",
       "      <td>47</td>\n",
       "    </tr>\n",
       "  </tbody>\n",
       "</table>\n",
       "</div>"
      ],
      "text/plain": [
       "       asset_id asset_name sensor_type measurement_type feature_name  \\\n",
       "0  aid-g-pump-5   g-pump-5    pressure          housing     MinValue   \n",
       "1  aid-g-pump-5   g-pump-5    pressure          housing     MinValue   \n",
       "\n",
       "   feature_value feature_unit    sensor_info            datetime   d  \\\n",
       "0       2.517552          bar  HousePressure 2019-11-19 18:00:00  19   \n",
       "1       3.307387          bar  HousePressure 2019-11-20 08:00:00  20   \n",
       "\n",
       "   dayofweek  year  month  hour  minute  second  week  \n",
       "0          1  2019     11    18       0       0    47  \n",
       "1          2  2019     11     8       0       0    47  "
      ]
     },
     "execution_count": 13,
     "metadata": {},
     "output_type": "execute_result"
    }
   ],
   "source": [
    "df_data.head(2)"
   ]
  },
  {
   "cell_type": "code",
   "execution_count": 14,
   "metadata": {},
   "outputs": [
    {
     "name": "stdout",
     "output_type": "stream",
     "text": [
      "Number of weeks for InletPressure found:8\n",
      "Number of weeks for OutletPressure found:8\n",
      "Number of weeks for HousePressure found:8\n"
     ]
    }
   ],
   "source": [
    "get_number_of_weeks(df_data, variable_name = INLET_PRESSURE, asset_id = asset_id)\n",
    "get_number_of_weeks(df_data, variable_name = OUTLET_PRESSURE, asset_id = asset_id)\n",
    "get_number_of_weeks(df_data, variable_name = HOUSE_PRESSURE, asset_id = asset_id)"
   ]
  },
  {
   "cell_type": "markdown",
   "metadata": {},
   "source": [
    "## Take a close look at the probable weeks for baselining"
   ]
  },
  {
   "cell_type": "markdown",
   "metadata": {},
   "source": [
    "**Scatterplot**"
   ]
  },
  {
   "cell_type": "code",
   "execution_count": 15,
   "metadata": {},
   "outputs": [
    {
     "data": {
      "application/vnd.plotly.v1+json": {
       "config": {
        "plotlyServerURL": "https://plot.ly"
       },
       "data": [
        {
         "hoverlabel": {
          "namelength": 0
         },
         "hovertemplate": "week=%{x}<br>feature_value=%{y}",
         "legendgroup": "",
         "marker": {
          "color": "#1F77B4",
          "symbol": "circle"
         },
         "mode": "markers",
         "name": "",
         "showlegend": false,
         "type": "scatter",
         "x": [
          47,
          47,
          47,
          47,
          47,
          47,
          47,
          47,
          47,
          47,
          47,
          47,
          47,
          47,
          47,
          47,
          47,
          47,
          47,
          47,
          47,
          47,
          47,
          47,
          47,
          47,
          47,
          47,
          47,
          47,
          47,
          47,
          47,
          47,
          47,
          47,
          47,
          47,
          47,
          47,
          47,
          47,
          47,
          47,
          47,
          47,
          47,
          47,
          47,
          47,
          47,
          47,
          47,
          47,
          47,
          47,
          47,
          47,
          47,
          47,
          47,
          47,
          47,
          47,
          47,
          47,
          47,
          47,
          47,
          47,
          47,
          47,
          47,
          47,
          47,
          47,
          47,
          47,
          47,
          47,
          47,
          47,
          47,
          47,
          47,
          47,
          47,
          47,
          47,
          47,
          47,
          47,
          47,
          47,
          47,
          47,
          47,
          47,
          47,
          47,
          47,
          47,
          47,
          47,
          47,
          47,
          47,
          48,
          48,
          48,
          48,
          48,
          48,
          48,
          48,
          48,
          48,
          48,
          48,
          48,
          48,
          48,
          48,
          48,
          48,
          48,
          48,
          48,
          48,
          48,
          48,
          48,
          48,
          48,
          48,
          48,
          48,
          48,
          48,
          48,
          48,
          48,
          48,
          48,
          48,
          48,
          48,
          48,
          48,
          48,
          48,
          48,
          48,
          48,
          48,
          48,
          48,
          48,
          48,
          48,
          48,
          48,
          48,
          48,
          48,
          48,
          48,
          48,
          48,
          48,
          48,
          48,
          48,
          48,
          48,
          48,
          48,
          48,
          48,
          48,
          48,
          48,
          48,
          48,
          48,
          48,
          48,
          48,
          48,
          48,
          48,
          48,
          48,
          48,
          48,
          48,
          48,
          48,
          48,
          48,
          48,
          48,
          48,
          48,
          48,
          48,
          48,
          48,
          48,
          48,
          48,
          48,
          48,
          48,
          48,
          48,
          48,
          48,
          48,
          48,
          48,
          48,
          48,
          48,
          48,
          48,
          48,
          48,
          48,
          48,
          48,
          48,
          48,
          48,
          48,
          48,
          48,
          48,
          48,
          48,
          48,
          48,
          48,
          48,
          48,
          48,
          48,
          48,
          48,
          48,
          48,
          48,
          48,
          48,
          48,
          48,
          48,
          48,
          48,
          48,
          48,
          48,
          48,
          48,
          48,
          48,
          48,
          48,
          48,
          48,
          48,
          48,
          48,
          49,
          49,
          49,
          49,
          49,
          49,
          49,
          49,
          49,
          49,
          49,
          49,
          49,
          49,
          49,
          49,
          49,
          49,
          49,
          49,
          49,
          49,
          49,
          49,
          49,
          49,
          49,
          49,
          49,
          50,
          50,
          50,
          50,
          50,
          50,
          50,
          50,
          50,
          50,
          50,
          50,
          50,
          50,
          50,
          50,
          50,
          50,
          50,
          50,
          50,
          50,
          50,
          50,
          50,
          50,
          50,
          50,
          50,
          50,
          50,
          50,
          50,
          50,
          50,
          50,
          50,
          50,
          50,
          50,
          51,
          51,
          51,
          51,
          51,
          51,
          51,
          51,
          51,
          51,
          51,
          51,
          51,
          51,
          51,
          51,
          51,
          51,
          51,
          51,
          51,
          51,
          51,
          51,
          51,
          51,
          51,
          51,
          51,
          51,
          51,
          51,
          51,
          51,
          51,
          51,
          51,
          51,
          51,
          51,
          51,
          51,
          51,
          51,
          51,
          51,
          51,
          51,
          51,
          51,
          51,
          51,
          51,
          51,
          51,
          51,
          51,
          51,
          51,
          51,
          51,
          51,
          51,
          51,
          51,
          51,
          51,
          51,
          51,
          51,
          51,
          51,
          51,
          51,
          51,
          51,
          51,
          51,
          51,
          51,
          51,
          51,
          51,
          51,
          51,
          51,
          51,
          51,
          51,
          51,
          51,
          51,
          51,
          51,
          51,
          51,
          51,
          51,
          51,
          51,
          51,
          51,
          51,
          51,
          51,
          51,
          51,
          51,
          51,
          51,
          51,
          51,
          51,
          51,
          51,
          51,
          51,
          51,
          51,
          51,
          51,
          51,
          51,
          51,
          51,
          51,
          51,
          51,
          51,
          51,
          51,
          51,
          51,
          51,
          51,
          51,
          51,
          51,
          51,
          51,
          51,
          51,
          51,
          51,
          51,
          51,
          51,
          52,
          52,
          52,
          52,
          52,
          52,
          52,
          52,
          52,
          52,
          52,
          52,
          52,
          52,
          52,
          52,
          52,
          52,
          52,
          52,
          52,
          52,
          52,
          52,
          52,
          52,
          52,
          52,
          52,
          52,
          52,
          52,
          52,
          52,
          52,
          52,
          52,
          52,
          52,
          52,
          52,
          52,
          52,
          52,
          52,
          52,
          52,
          52,
          52,
          52,
          52,
          52,
          52,
          52,
          52,
          52,
          52,
          52,
          52,
          52,
          52,
          52,
          52,
          52,
          52,
          52,
          52,
          52,
          52,
          52,
          52,
          52,
          52,
          52,
          52,
          52,
          52,
          52,
          52,
          52,
          52,
          52,
          52,
          52,
          52,
          52,
          52,
          52,
          52,
          52,
          52,
          52,
          52,
          52,
          52,
          52,
          52,
          52,
          52,
          52,
          52,
          52,
          52,
          52,
          52,
          52,
          52,
          52,
          52,
          52,
          52,
          52,
          52,
          52,
          52,
          52,
          52,
          52,
          52,
          52,
          52,
          52,
          52,
          52,
          52,
          52,
          52,
          52,
          52,
          52,
          52,
          52,
          52,
          52,
          52,
          52,
          52,
          52,
          52,
          52,
          52,
          52,
          52,
          52,
          52,
          52,
          52,
          52,
          52,
          52,
          52,
          52,
          52,
          52,
          52,
          52,
          52,
          52,
          52,
          52,
          52,
          52,
          52,
          52,
          52,
          1,
          1,
          1,
          1,
          1,
          1,
          1,
          1,
          1,
          1,
          1,
          1,
          1,
          1,
          1,
          1,
          1,
          1,
          1,
          1,
          1,
          1,
          1,
          1,
          1,
          1,
          1,
          1,
          1,
          1,
          1,
          1,
          1,
          1,
          1,
          1,
          1,
          1,
          1,
          1,
          1,
          1,
          1,
          1,
          1,
          1,
          1,
          1,
          1,
          1,
          1,
          1,
          1,
          1,
          1,
          1,
          1,
          1,
          1,
          1,
          1,
          1,
          1,
          1,
          1,
          1,
          1,
          1,
          1,
          1,
          1,
          1,
          1,
          1,
          1,
          1,
          1,
          1,
          1,
          1,
          1,
          1,
          1,
          1,
          1,
          1,
          1,
          1,
          1,
          1,
          1,
          1,
          1,
          1,
          1,
          1,
          1,
          1,
          1,
          1,
          1,
          1,
          1,
          1,
          1,
          1,
          1,
          1,
          1,
          1,
          1,
          1,
          1,
          1,
          1,
          1,
          1,
          1,
          1,
          1,
          1,
          1,
          1,
          1,
          1,
          1,
          1,
          1,
          1,
          1,
          1,
          1,
          1,
          1,
          1,
          1,
          1,
          1,
          1,
          1,
          1,
          1,
          1,
          1,
          1,
          1,
          1,
          1,
          1,
          1,
          1,
          1,
          1,
          1,
          1,
          1,
          1,
          1,
          1,
          1,
          1,
          1,
          1,
          1,
          1,
          1,
          1,
          1,
          2,
          2,
          2,
          2,
          2,
          2,
          2,
          2,
          2,
          2,
          2,
          2,
          2,
          2,
          2,
          2,
          2
         ],
         "xaxis": "x",
         "y": [
          2.853925564331865,
          2.76556776556777,
          2.866978700312034,
          2.9040114977614984,
          2.911006817256817,
          2.9100529100529102,
          2.920545889295889,
          2.868589743589744,
          2.886777574277575,
          2.906873219373218,
          2.8538822288822296,
          2.823565323565326,
          2.812372812372814,
          2.849702380952381,
          2.82604548229548,
          2.854471916971917,
          2.8327228327228346,
          2.808684371184371,
          2.822929385429383,
          2.838001119251119,
          2.8632478632478615,
          2.8928295855379194,
          2.836209893501559,
          2.8353301790801786,
          2.8369836182336194,
          2.860131766381768,
          2.882516788766789,
          2.880291005291006,
          2.9309116809116795,
          2.8409900284900265,
          2.860894892144892,
          2.857842389092388,
          2.844169719169719,
          2.8668091168091165,
          2.849002849002849,
          2.8108465608465596,
          2.865410052910052,
          2.8620395807895807,
          2.9019764957264953,
          2.904838217338216,
          2.8537087912087915,
          2.854662698412696,
          2.816887973137973,
          2.9175569800569803,
          2.8578423890923887,
          2.861530830280831,
          2.884869759869759,
          2.8596866096866105,
          2.7812754375254376,
          2.888939763939763,
          2.838509869759869,
          2.8476037851037845,
          2.8488120675620685,
          2.879782254782255,
          2.874313186813188,
          2.9074455636955636,
          2.849893162393164,
          2.8215939153439145,
          2.8654100529100535,
          2.950434981684983,
          2.8990511803011807,
          2.858096764346764,
          2.9066824379324374,
          2.8827075702075677,
          2.874249592999591,
          2.87971866096866,
          2.8408628408628416,
          2.876729751729751,
          2.9070004070004085,
          2.846141127391127,
          2.8842974155474153,
          2.8345034595034586,
          2.8314509564509556,
          2.8566341066341057,
          2.883470695970695,
          2.870497557997558,
          2.8706247456247453,
          2.8586691086691083,
          2.887540700040699,
          2.88766788766789,
          2.772626678876677,
          2.8425798738298744,
          2.8629298941798926,
          2.9444571632071628,
          2.8815628815628798,
          2.8528184778184777,
          2.877429283679284,
          2.823946886446885,
          2.8085571835571823,
          2.816124847374848,
          2.9240435490435495,
          2.911324786324784,
          2.926460113960113,
          2.963026556776557,
          2.7746616809116795,
          2.8328500203500204,
          2.8734228734228737,
          2.881117724867725,
          2.8457595645095632,
          2.8577152014652003,
          2.858414733414733,
          2.8722145909645924,
          2.8654736467236464,
          2.860831298331298,
          2.885823667073669,
          2.8615944240944238,
          2.8872227309727307,
          2.8801002238502242,
          2.8589234839234834,
          2.837174399674399,
          2.9046474358974343,
          2.8587962962962963,
          2.861149267399267,
          2.860322547822548,
          2.8107193732193725,
          2.864583333333334,
          2.8890669515669516,
          2.8484305046805023,
          2.8744403744403733,
          2.8392729955229967,
          2.8586055148555136,
          2.8704339641839645,
          2.8454415954415957,
          2.813263125763124,
          2.8186050061050065,
          2.801434676434677,
          2.8676994301994303,
          2.8872227309727294,
          2.8521189458689453,
          2.892501017501017,
          2.914186507936508,
          2.8169515669515666,
          2.836665649165649,
          2.9003230565730562,
          2.8764753764753763,
          2.8510378510378502,
          2.86687271062271,
          2.90591931216931,
          2.8007987382987394,
          2.8839158526658526,
          2.877874440374441,
          2.942104192104194,
          2.876538970288969,
          2.9155219780219763,
          2.9350452787952777,
          2.8815628815628815,
          2.8747583435083417,
          2.892564611314611,
          2.923916361416362,
          2.871896621896622,
          2.9076999389499396,
          2.865728021978022,
          2.9248702686202677,
          2.889257733007733,
          2.830179080179079,
          2.889384920634919,
          2.833231583231582,
          2.838827838827839,
          2.9124058811558817,
          2.914122914122915,
          2.8991147741147736,
          2.820322039072039,
          2.8460139397639406,
          2.926078551078552,
          2.849893162393163,
          2.8420711233211216,
          2.9115791615791617,
          2.8005443630443616,
          2.851228632478634,
          2.8701795889295885,
          2.8743131868131857,
          2.8791463166463167,
          2.8636294261294277,
          2.8963166463166465,
          2.8467134717134708,
          2.836029711029711,
          2.886968355718356,
          2.8808633496133496,
          2.8317053317053316,
          2.875394281644281,
          2.8448692511192513,
          2.8306242368742365,
          2.8846153846153846,
          2.8877950752950743,
          2.9023580586080584,
          2.812309218559219,
          2.914949633699633,
          2.9220085470085455,
          2.8228657916157913,
          2.842961436711437,
          2.8275717338217334,
          2.903757122507122,
          2.8802910052910033,
          2.8755850630850652,
          2.9361263736263754,
          2.9133597883597875,
          2.908971815221816,
          2.907509157509157,
          2.8977157102157096,
          2.906491656491657,
          2.8353301790801804,
          2.818986568986569,
          2.849638787138787,
          2.844996438746439,
          2.8559345746845732,
          2.8525005087505093,
          2.856506919006918,
          2.7950752950752964,
          2.8624847374847366,
          2.8387642450142447,
          2.809065934065933,
          2.855807387057389,
          2.8172695360195363,
          2.8833435083435073,
          2.8434065934065935,
          2.854599104599103,
          2.8563161375661363,
          2.8563161375661377,
          2.8617852055352064,
          2.9248702686202663,
          2.8323412698412693,
          2.8626119251119255,
          2.872278184778185,
          2.7997176434676434,
          2.8544719169719186,
          2.8325320512820493,
          2.7781593406593412,
          2.8994963369963354,
          2.8641381766381753,
          2.8619123931623918,
          2.8966982091982096,
          2.854726292226293,
          2.8593050468050474,
          2.8565705128205114,
          2.802515771265771,
          2.79882733007733,
          2.8921194546194555,
          2.863565832315832,
          2.7747252747252724,
          2.8528184778184786,
          2.8647741147741157,
          2.904456654456654,
          2.832150488400487,
          2.8567612942612954,
          2.8687169312169325,
          2.890783984533984,
          2.8511650386650387,
          2.8603225478225482,
          2.91469525844526,
          2.874618437118436,
          2.8848061660561672,
          2.839082214082215,
          2.866554741554743,
          2.8778744403744416,
          2.8723417785917795,
          2.905664936914938,
          2.814598595848596,
          2.839145807895808,
          2.8418803418803424,
          2.8805453805453816,
          2.877174908424909,
          2.894154456654455,
          2.836665649165649,
          2.9211182336182335,
          2.8415623728123713,
          2.866681929181929,
          2.8746311558811573,
          2.852436914936914,
          2.8240104802604815,
          2.831832519332519,
          2.82833485958486,
          2.8513558201058182,
          2.820957977207977,
          2.8962530525030528,
          2.852500508750509,
          2.855107855107855,
          2.8670634920634925,
          2.868398962148962,
          2.8584783272283283,
          2.785917785917785,
          2.8395273707773705,
          2.86852614977615,
          2.830931606973273,
          2.8203220390720403,
          2.822738603988604,
          2.8816900691900695,
          2.850211131461132,
          2.905919312169312,
          2.885632885632884,
          2.8484305046805054,
          2.8891941391941383,
          2.948463573463572,
          2.8409900284900274,
          2.86820818070818,
          2.81014702889703,
          2.826299857549857,
          2.7784137159137163,
          2.867254273504274,
          2.8773656898656887,
          2.893900081400082,
          2.872532560032559,
          2.9371438746438763,
          2.958638583638585,
          2.9645528083028077,
          3.0318350630850635,
          2.9782254782254802,
          2.953360297110297,
          2.9739010989010985,
          3.0098316035816044,
          2.9997837810337806,
          2.950880138380139,
          2.9573667073667083,
          2.9618818681318686,
          2.9490359177859164,
          2.955268111518112,
          2.971102971102971,
          3.006906288156287,
          2.942485754985755,
          2.937143874643874,
          2.9719932844932853,
          2.9934243996744,
          2.97758954008954,
          2.972565628815629,
          2.9930428367928372,
          2.970594220594219,
          2.898415242165241,
          2.9261421448921454,
          2.992279711029711,
          2.980960012210011,
          2.981532356532357,
          2.986492673992674,
          2.9394332519332522,
          2.9384793447293425,
          2.9483363858363845,
          2.9297033984533982,
          2.9793065730565735,
          2.979242979242979,
          3.0228047415547414,
          2.9882733007733004,
          2.9621998371998384,
          2.961245929995929,
          2.978416259666261,
          2.988527676027676,
          2.976699226699227,
          3.0567002442002456,
          3.027319902319903,
          2.8944088319088306,
          2.9641712454212445,
          2.8807997557997553,
          2.981150793650794,
          2.900259462759463,
          2.905919312169311,
          2.9548865486365496,
          2.9445843508343508,
          2.8191137566137567,
          2.916475885225886,
          2.905028998778999,
          2.918574481074481,
          2.9464921652421654,
          2.9083358770858765,
          2.9069368131868134,
          2.847985347985349,
          2.9354904354904363,
          2.944711538461538,
          2.982231888481888,
          2.894027269027269,
          2.874122405372406,
          2.9112611925111938,
          2.91469525844526,
          2.88321632071632,
          2.9327559015059013,
          2.850020350020351,
          2.9082086894586876,
          2.9340913715913715,
          2.8983516483516483,
          2.9174933862433865,
          2.98477564102564,
          2.916475885225885,
          2.9219449531949535,
          2.9616274928774917,
          2.8835342897842904,
          2.8885582010582014,
          2.9110068172568173,
          2.827062983312983,
          2.9178749491249487,
          2.882008038258039,
          2.890911172161172,
          2.8957443019943025,
          2.9857931420431414,
          2.972629222629223,
          2.9358719983719976,
          2.9438212250712255,
          2.9921525234025244,
          3.018225986975987,
          3.004998473748472,
          2.968368437118438,
          2.9664606227106223,
          2.992152523402522,
          2.95259717134717,
          3.0090684778184786,
          3.014283170533171,
          3.035714285714286,
          3.045825702075702,
          3.0274470899470907,
          3.0540293040293047,
          2.97975172975173,
          2.9655703093203094,
          3.003345034595036,
          2.9754273504273505,
          2.972692816442816,
          3.008050976800977,
          2.9896723646723635,
          3.0269383394383396,
          2.903947903947902,
          2.8804181929181927,
          2.930402930402931,
          2.899623524623525,
          2.9613095238095237,
          2.89854242979243,
          2.9019764957264944,
          2.972820004070004,
          2.9248066748066743,
          2.892310236060236,
          2.9033119658119673,
          2.896253052503051,
          2.8710699023199004,
          2.9058557183557183,
          2.897270553520553,
          2.8764753764753777,
          2.919337606837605,
          2.886141636141636,
          2.8880494505494494,
          2.9482091982091987,
          2.927096052096052,
          2.934409340659339,
          2.8651556776556784,
          2.934409340659341,
          2.930530118030116,
          2.9106252543752547,
          2.921054639804639,
          2.8606405168905162,
          2.964171245421245,
          2.920482295482293,
          2.9113247863247858,
          2.915521978021978,
          2.9199099511599513,
          2.883343508343508,
          2.8919922669922666,
          2.900005087505088,
          2.9142501017501026,
          2.8552350427350426,
          2.915267602767603,
          2.887922262922262,
          2.9221993284493277,
          2.9288766788766787,
          2.8528820716320715,
          2.929703398453397,
          2.875966625966626,
          2.9866198616198623,
          2.918765262515263,
          2.963662494912493,
          2.900768213268213,
          2.8692892755392747,
          2.891165547415546,
          2.9155219780219768,
          2.9366987179487176,
          2.9008318070818064,
          2.924933862433862,
          2.901467745217745,
          2.8835342897842895,
          2.9104980667480667,
          2.8916107041107053,
          2.9361263736263736,
          2.934663715913716,
          2.9121515059015053,
          2.9365079365079367,
          2.9403871591371593,
          2.875394281644281,
          2.856252543752543,
          2.9508801383801377,
          2.987828144078144,
          2.9570487382987385,
          2.8518645706145684,
          2.918192918192918,
          2.9021036833536837,
          2.9086538461538463,
          2.8462683150183152,
          2.907699938949939,
          2.8980336792836785,
          2.9228352665852664,
          2.8790827228327225,
          2.934918091168092,
          2.9383521571021567,
          2.960101241351241,
          2.8517373829873827,
          2.8746947496947493,
          2.892628205128205,
          2.8852513227513215,
          2.86935286935287,
          2.914059320309319,
          2.8966982091982083,
          2.89905118030118,
          2.8803545991045993,
          2.9141865079365075,
          2.9797517297517295,
          2.9907534595034595,
          2.983503764753763,
          2.9356176231176234,
          2.9136777574277577,
          2.9480184167684165,
          2.90121336996337,
          2.8825803825803824,
          2.9199099511599518,
          2.9230260480260477,
          2.8894485144485134,
          2.93841575091575,
          2.918192918192918,
          2.9139957264957275,
          2.91488603988604,
          2.9333282458282466,
          2.8942180504680484,
          2.922199328449329,
          2.937398249898248,
          2.901594932844933,
          2.8951719576719577,
          2.912087912087911,
          2.888558201058201,
          2.922771672771672,
          2.8893849206349214,
          2.8852513227513206,
          2.8902752340252342,
          2.944647944647943,
          2.881944444444445,
          2.9174933862433865,
          2.9440120065120055,
          2.8962530525030528,
          2.901976495726497,
          2.898160866910866,
          2.909289784289784,
          2.893963675213675,
          2.9100529100529093,
          2.8971433658933647,
          2.8829619454619455,
          2.912660256410257,
          2.897842897842894,
          2.9081450956450947,
          2.918892450142449,
          2.9351088726088714,
          2.9492902930402924,
          2.9300213675213675,
          2.896761803011803,
          2.991643772893772,
          2.9230260480260473,
          2.9263965201465196,
          2.905474155474156,
          2.9227716727716735,
          2.974473443223444,
          2.913169006919007,
          2.9160943223443216,
          2.914822446072448,
          2.9111340048840044,
          2.9280499592999587,
          2.9156491656491657,
          2.9306573056573053,
          2.919782763532764,
          2.8930733618233604,
          2.951325295075296,
          2.8896392958892942,
          2.9716117216117213,
          2.975808913308914,
          2.878955535205535,
          2.916984635734634,
          2.886841168091168,
          2.9328194953194946,
          2.8975885225885207,
          3.0232498982498974,
          2.9625814000813997,
          2.9532331094831097,
          2.905219780219779,
          2.9347909035409034,
          2.9003866503866487,
          2.9010225885225895,
          2.925951363451363,
          2.8596230158730154,
          2.9300213675213684,
          2.923089641839642,
          2.858287545787546,
          2.9416590354090357,
          2.9330738705738693,
          2.9433760683760677,
          2.9611823361823366,
          2.942167785917785,
          2.9602920227920233,
          2.873804436304436,
          2.918192918192919,
          2.9029939967439975,
          2.9194647944647927,
          2.8969525844525834,
          2.901022588522588,
          2.918447293447292,
          2.8428342490842486,
          2.94890873015873,
          2.8940908628408635,
          2.9738375050875057,
          2.920800264550264,
          2.9459834147334143,
          2.949989824989825,
          2.911134004884005,
          2.9074455636955636,
          2.8884946072446063,
          2.8873499185999183,
          2.8731049043549035,
          2.9187016687016683,
          2.9472552910052916,
          2.8860780423280414,
          2.9131054131054124,
          2.8570792633292625,
          2.868653337403337,
          2.903439153439154,
          2.8963802401302394,
          2.8965710215710208,
          2.917302604802605,
          2.9730743793243786,
          2.95405982905983,
          2.928177146927149,
          2.9273504273504263,
          2.9085902523402525,
          2.9227080789580793,
          2.9561584249084256,
          2.86305708180708,
          2.832659238909238,
          2.930466524216524,
          2.9276048026048027,
          2.949735449735448,
          2.9070004070004063,
          2.8746947496947493,
          2.938670126170125,
          2.847413003663004,
          2.9038207163207166,
          2.917111823361824,
          2.9223901098901113,
          2.8965074277574274,
          2.8715786528286524,
          2.9173661986162,
          2.9019129019128997,
          2.91138838013838,
          2.9128510378510373,
          2.8855692918192926,
          2.8978428978428963,
          2.933519027269028,
          2.9063008750508756,
          2.897652116402116,
          2.9842668905168903,
          2.969131562881563,
          2.958257020757023,
          2.977080789580791,
          2.9252518315018325,
          2.954123422873423,
          2.9350452787952777,
          2.8839794464794455,
          2.9031211843711837,
          2.9143772893772906,
          2.900513838013838,
          2.939306064306065,
          2.9058557183557183,
          2.9850936100936103,
          2.9638532763532752,
          2.970149063899065,
          2.9400055962555958,
          2.998829873829873,
          2.9796881359381366,
          2.9882733007733013,
          2.887731481481481,
          2.9478276353276356,
          2.891547110297111,
          2.8669998982498988,
          2.919973544973544,
          2.877492877492878,
          2.981659544159543,
          2.892055860805861,
          2.927477614977615,
          2.9058557183557183,
          2.85885989010989,
          2.9001322751322753,
          2.9149496336996346,
          2.9178113553113554,
          2.9258241758241756,
          2.9110704110704106,
          2.9669693732193725,
          2.965061558811559,
          2.9601648351648344,
          2.9015313390313384,
          3.008368945868948,
          2.998384717134716,
          2.974727818477817,
          2.995205026455027,
          2.949481074481074,
          2.998448310948311,
          2.9774623524623536,
          2.912469474969477,
          2.9945054945054945,
          3.0146011396011403,
          2.9602920227920215,
          2.9598468660968673,
          2.976254070004069,
          3.04111975986976,
          2.9460470085470103,
          2.9246794871794872,
          2.945347476597478,
          2.899114774114773,
          2.9562856125356105,
          2.928431522181523,
          2.976190476190476,
          2.969703907203906,
          2.968813593813594,
          2.959210927960928,
          2.9267780830280827,
          2.935172466422466,
          2.9437576312576295,
          3.028718966218966,
          2.9669057794057774,
          2.9758725071225083,
          2.9689407814407827,
          2.9512617012617017,
          2.9567943630443634,
          2.981850325600325,
          2.940705128205129,
          2.991580179080179,
          2.9125966625966626,
          2.933773402523402,
          2.9339641839641843,
          2.925379019129019,
          2.96073717948718,
          2.9536146723646723,
          2.9218177655677664,
          2.9831857956857952,
          2.899496336996337,
          2.9425493487993495,
          3.05345695970696,
          2.9408323158323166,
          2.9181929181929185,
          2.9582570207570202,
          2.924870268620267,
          2.9234076109076104,
          2.932946682946683,
          2.968686406186406,
          2.9339641839641852,
          2.939306064306065,
          2.9714209401709417,
          3.001691595441594,
          2.943757631257632,
          2.9842668905168916,
          2.9497990435490427,
          2.986683455433456,
          2.9920253357753364,
          2.9997201872201864,
          2.9592109279609295,
          2.926587301587302,
          2.9374618437118425,
          2.9475096662596663,
          2.9497990435490453,
          2.9672873422873423,
          2.94859076109076,
          2.9415954415954424,
          2.916539479039479,
          2.931293243793244,
          2.9353632478632474,
          2.8995599308099305,
          2.906428062678063,
          2.903757122507122,
          2.9383521571021576,
          2.9957137769637767,
          2.9330102767602777,
          2.9761268823768816,
          2.967223748473748,
          2.963980463980464,
          2.9436940374440375,
          2.897842897842897,
          2.9174297924297914,
          2.9302121489621484,
          2.8696708384208383,
          2.990117521367521,
          2.938797313797313,
          2.9688135938135933,
          2.903184778184778,
          2.9340913715913715,
          2.9129782254782253,
          2.9111975986975973,
          2.9531059218559217,
          2.958574989824991,
          2.9631537444037437,
          2.959974053724054,
          2.925824175824175,
          2.96824124949125,
          2.9418498168498144,
          2.905664936914937,
          2.928495115995117,
          2.9787978225478233,
          2.947128103378104,
          2.9377162189662176,
          2.89453601953602,
          2.9124694749694737,
          2.9497354497354498,
          2.9373982498982483,
          2.9104344729344724,
          2.971102971102971,
          2.9302757427757418,
          2.9567307692307683,
          2.9751729751729763,
          2.966905779405779,
          2.940768722018722,
          2.926841676841678,
          2.8905932030932036,
          2.914949633699635,
          2.9284951159951156,
          2.941722629222628,
          3.0399750712250717,
          2.926523707773709,
          2.970657814407815,
          2.9242343304843303,
          2.9447115384615388,
          2.9618182743182753,
          2.947382478632477,
          2.9761904761904776,
          2.9252518315018317,
          2.9821047008546997,
          2.9135505698005697,
          2.948463573463574,
          2.9936151811151785,
          2.9556496743996745,
          3.0153642653642643,
          2.956349206349207,
          2.9043930606430592,
          3.007542226292227,
          2.916475885225886,
          2.8455051892551886,
          2.911706349206348,
          2.87386803011803,
          2.8839794464794473
         ],
         "yaxis": "y"
        }
       ],
       "layout": {
        "legend": {
         "tracegroupgap": 0
        },
        "template": {
         "data": {
          "bar": [
           {
            "error_x": {
             "color": "rgb(36,36,36)"
            },
            "error_y": {
             "color": "rgb(36,36,36)"
            },
            "marker": {
             "line": {
              "color": "white",
              "width": 0.5
             }
            },
            "type": "bar"
           }
          ],
          "barpolar": [
           {
            "marker": {
             "line": {
              "color": "white",
              "width": 0.5
             }
            },
            "type": "barpolar"
           }
          ],
          "carpet": [
           {
            "aaxis": {
             "endlinecolor": "rgb(36,36,36)",
             "gridcolor": "white",
             "linecolor": "white",
             "minorgridcolor": "white",
             "startlinecolor": "rgb(36,36,36)"
            },
            "baxis": {
             "endlinecolor": "rgb(36,36,36)",
             "gridcolor": "white",
             "linecolor": "white",
             "minorgridcolor": "white",
             "startlinecolor": "rgb(36,36,36)"
            },
            "type": "carpet"
           }
          ],
          "choropleth": [
           {
            "colorbar": {
             "outlinewidth": 1,
             "tickcolor": "rgb(36,36,36)",
             "ticks": "outside"
            },
            "type": "choropleth"
           }
          ],
          "contour": [
           {
            "colorbar": {
             "outlinewidth": 1,
             "tickcolor": "rgb(36,36,36)",
             "ticks": "outside"
            },
            "colorscale": [
             [
              0,
              "#440154"
             ],
             [
              0.1111111111111111,
              "#482878"
             ],
             [
              0.2222222222222222,
              "#3e4989"
             ],
             [
              0.3333333333333333,
              "#31688e"
             ],
             [
              0.4444444444444444,
              "#26828e"
             ],
             [
              0.5555555555555556,
              "#1f9e89"
             ],
             [
              0.6666666666666666,
              "#35b779"
             ],
             [
              0.7777777777777778,
              "#6ece58"
             ],
             [
              0.8888888888888888,
              "#b5de2b"
             ],
             [
              1,
              "#fde725"
             ]
            ],
            "type": "contour"
           }
          ],
          "contourcarpet": [
           {
            "colorbar": {
             "outlinewidth": 1,
             "tickcolor": "rgb(36,36,36)",
             "ticks": "outside"
            },
            "type": "contourcarpet"
           }
          ],
          "heatmap": [
           {
            "colorbar": {
             "outlinewidth": 1,
             "tickcolor": "rgb(36,36,36)",
             "ticks": "outside"
            },
            "colorscale": [
             [
              0,
              "#440154"
             ],
             [
              0.1111111111111111,
              "#482878"
             ],
             [
              0.2222222222222222,
              "#3e4989"
             ],
             [
              0.3333333333333333,
              "#31688e"
             ],
             [
              0.4444444444444444,
              "#26828e"
             ],
             [
              0.5555555555555556,
              "#1f9e89"
             ],
             [
              0.6666666666666666,
              "#35b779"
             ],
             [
              0.7777777777777778,
              "#6ece58"
             ],
             [
              0.8888888888888888,
              "#b5de2b"
             ],
             [
              1,
              "#fde725"
             ]
            ],
            "type": "heatmap"
           }
          ],
          "heatmapgl": [
           {
            "colorbar": {
             "outlinewidth": 1,
             "tickcolor": "rgb(36,36,36)",
             "ticks": "outside"
            },
            "colorscale": [
             [
              0,
              "#440154"
             ],
             [
              0.1111111111111111,
              "#482878"
             ],
             [
              0.2222222222222222,
              "#3e4989"
             ],
             [
              0.3333333333333333,
              "#31688e"
             ],
             [
              0.4444444444444444,
              "#26828e"
             ],
             [
              0.5555555555555556,
              "#1f9e89"
             ],
             [
              0.6666666666666666,
              "#35b779"
             ],
             [
              0.7777777777777778,
              "#6ece58"
             ],
             [
              0.8888888888888888,
              "#b5de2b"
             ],
             [
              1,
              "#fde725"
             ]
            ],
            "type": "heatmapgl"
           }
          ],
          "histogram": [
           {
            "marker": {
             "line": {
              "color": "white",
              "width": 0.6
             }
            },
            "type": "histogram"
           }
          ],
          "histogram2d": [
           {
            "colorbar": {
             "outlinewidth": 1,
             "tickcolor": "rgb(36,36,36)",
             "ticks": "outside"
            },
            "colorscale": [
             [
              0,
              "#440154"
             ],
             [
              0.1111111111111111,
              "#482878"
             ],
             [
              0.2222222222222222,
              "#3e4989"
             ],
             [
              0.3333333333333333,
              "#31688e"
             ],
             [
              0.4444444444444444,
              "#26828e"
             ],
             [
              0.5555555555555556,
              "#1f9e89"
             ],
             [
              0.6666666666666666,
              "#35b779"
             ],
             [
              0.7777777777777778,
              "#6ece58"
             ],
             [
              0.8888888888888888,
              "#b5de2b"
             ],
             [
              1,
              "#fde725"
             ]
            ],
            "type": "histogram2d"
           }
          ],
          "histogram2dcontour": [
           {
            "colorbar": {
             "outlinewidth": 1,
             "tickcolor": "rgb(36,36,36)",
             "ticks": "outside"
            },
            "colorscale": [
             [
              0,
              "#440154"
             ],
             [
              0.1111111111111111,
              "#482878"
             ],
             [
              0.2222222222222222,
              "#3e4989"
             ],
             [
              0.3333333333333333,
              "#31688e"
             ],
             [
              0.4444444444444444,
              "#26828e"
             ],
             [
              0.5555555555555556,
              "#1f9e89"
             ],
             [
              0.6666666666666666,
              "#35b779"
             ],
             [
              0.7777777777777778,
              "#6ece58"
             ],
             [
              0.8888888888888888,
              "#b5de2b"
             ],
             [
              1,
              "#fde725"
             ]
            ],
            "type": "histogram2dcontour"
           }
          ],
          "mesh3d": [
           {
            "colorbar": {
             "outlinewidth": 1,
             "tickcolor": "rgb(36,36,36)",
             "ticks": "outside"
            },
            "type": "mesh3d"
           }
          ],
          "parcoords": [
           {
            "line": {
             "colorbar": {
              "outlinewidth": 1,
              "tickcolor": "rgb(36,36,36)",
              "ticks": "outside"
             }
            },
            "type": "parcoords"
           }
          ],
          "pie": [
           {
            "automargin": true,
            "type": "pie"
           }
          ],
          "scatter": [
           {
            "marker": {
             "colorbar": {
              "outlinewidth": 1,
              "tickcolor": "rgb(36,36,36)",
              "ticks": "outside"
             }
            },
            "type": "scatter"
           }
          ],
          "scatter3d": [
           {
            "line": {
             "colorbar": {
              "outlinewidth": 1,
              "tickcolor": "rgb(36,36,36)",
              "ticks": "outside"
             }
            },
            "marker": {
             "colorbar": {
              "outlinewidth": 1,
              "tickcolor": "rgb(36,36,36)",
              "ticks": "outside"
             }
            },
            "type": "scatter3d"
           }
          ],
          "scattercarpet": [
           {
            "marker": {
             "colorbar": {
              "outlinewidth": 1,
              "tickcolor": "rgb(36,36,36)",
              "ticks": "outside"
             }
            },
            "type": "scattercarpet"
           }
          ],
          "scattergeo": [
           {
            "marker": {
             "colorbar": {
              "outlinewidth": 1,
              "tickcolor": "rgb(36,36,36)",
              "ticks": "outside"
             }
            },
            "type": "scattergeo"
           }
          ],
          "scattergl": [
           {
            "marker": {
             "colorbar": {
              "outlinewidth": 1,
              "tickcolor": "rgb(36,36,36)",
              "ticks": "outside"
             }
            },
            "type": "scattergl"
           }
          ],
          "scattermapbox": [
           {
            "marker": {
             "colorbar": {
              "outlinewidth": 1,
              "tickcolor": "rgb(36,36,36)",
              "ticks": "outside"
             }
            },
            "type": "scattermapbox"
           }
          ],
          "scatterpolar": [
           {
            "marker": {
             "colorbar": {
              "outlinewidth": 1,
              "tickcolor": "rgb(36,36,36)",
              "ticks": "outside"
             }
            },
            "type": "scatterpolar"
           }
          ],
          "scatterpolargl": [
           {
            "marker": {
             "colorbar": {
              "outlinewidth": 1,
              "tickcolor": "rgb(36,36,36)",
              "ticks": "outside"
             }
            },
            "type": "scatterpolargl"
           }
          ],
          "scatterternary": [
           {
            "marker": {
             "colorbar": {
              "outlinewidth": 1,
              "tickcolor": "rgb(36,36,36)",
              "ticks": "outside"
             }
            },
            "type": "scatterternary"
           }
          ],
          "surface": [
           {
            "colorbar": {
             "outlinewidth": 1,
             "tickcolor": "rgb(36,36,36)",
             "ticks": "outside"
            },
            "colorscale": [
             [
              0,
              "#440154"
             ],
             [
              0.1111111111111111,
              "#482878"
             ],
             [
              0.2222222222222222,
              "#3e4989"
             ],
             [
              0.3333333333333333,
              "#31688e"
             ],
             [
              0.4444444444444444,
              "#26828e"
             ],
             [
              0.5555555555555556,
              "#1f9e89"
             ],
             [
              0.6666666666666666,
              "#35b779"
             ],
             [
              0.7777777777777778,
              "#6ece58"
             ],
             [
              0.8888888888888888,
              "#b5de2b"
             ],
             [
              1,
              "#fde725"
             ]
            ],
            "type": "surface"
           }
          ],
          "table": [
           {
            "cells": {
             "fill": {
              "color": "rgb(237,237,237)"
             },
             "line": {
              "color": "white"
             }
            },
            "header": {
             "fill": {
              "color": "rgb(217,217,217)"
             },
             "line": {
              "color": "white"
             }
            },
            "type": "table"
           }
          ]
         },
         "layout": {
          "annotationdefaults": {
           "arrowhead": 0,
           "arrowwidth": 1
          },
          "coloraxis": {
           "colorbar": {
            "outlinewidth": 1,
            "tickcolor": "rgb(36,36,36)",
            "ticks": "outside"
           }
          },
          "colorscale": {
           "diverging": [
            [
             0,
             "rgb(103,0,31)"
            ],
            [
             0.1,
             "rgb(178,24,43)"
            ],
            [
             0.2,
             "rgb(214,96,77)"
            ],
            [
             0.3,
             "rgb(244,165,130)"
            ],
            [
             0.4,
             "rgb(253,219,199)"
            ],
            [
             0.5,
             "rgb(247,247,247)"
            ],
            [
             0.6,
             "rgb(209,229,240)"
            ],
            [
             0.7,
             "rgb(146,197,222)"
            ],
            [
             0.8,
             "rgb(67,147,195)"
            ],
            [
             0.9,
             "rgb(33,102,172)"
            ],
            [
             1,
             "rgb(5,48,97)"
            ]
           ],
           "sequential": [
            [
             0,
             "#440154"
            ],
            [
             0.1111111111111111,
             "#482878"
            ],
            [
             0.2222222222222222,
             "#3e4989"
            ],
            [
             0.3333333333333333,
             "#31688e"
            ],
            [
             0.4444444444444444,
             "#26828e"
            ],
            [
             0.5555555555555556,
             "#1f9e89"
            ],
            [
             0.6666666666666666,
             "#35b779"
            ],
            [
             0.7777777777777778,
             "#6ece58"
            ],
            [
             0.8888888888888888,
             "#b5de2b"
            ],
            [
             1,
             "#fde725"
            ]
           ],
           "sequentialminus": [
            [
             0,
             "#440154"
            ],
            [
             0.1111111111111111,
             "#482878"
            ],
            [
             0.2222222222222222,
             "#3e4989"
            ],
            [
             0.3333333333333333,
             "#31688e"
            ],
            [
             0.4444444444444444,
             "#26828e"
            ],
            [
             0.5555555555555556,
             "#1f9e89"
            ],
            [
             0.6666666666666666,
             "#35b779"
            ],
            [
             0.7777777777777778,
             "#6ece58"
            ],
            [
             0.8888888888888888,
             "#b5de2b"
            ],
            [
             1,
             "#fde725"
            ]
           ]
          },
          "colorway": [
           "#1F77B4",
           "#FF7F0E",
           "#2CA02C",
           "#D62728",
           "#9467BD",
           "#8C564B",
           "#E377C2",
           "#7F7F7F",
           "#BCBD22",
           "#17BECF"
          ],
          "font": {
           "color": "rgb(36,36,36)"
          },
          "geo": {
           "bgcolor": "white",
           "lakecolor": "white",
           "landcolor": "white",
           "showlakes": true,
           "showland": true,
           "subunitcolor": "white"
          },
          "hoverlabel": {
           "align": "left"
          },
          "hovermode": "closest",
          "mapbox": {
           "style": "light"
          },
          "paper_bgcolor": "white",
          "plot_bgcolor": "white",
          "polar": {
           "angularaxis": {
            "gridcolor": "rgb(232,232,232)",
            "linecolor": "rgb(36,36,36)",
            "showgrid": false,
            "showline": true,
            "ticks": "outside"
           },
           "bgcolor": "white",
           "radialaxis": {
            "gridcolor": "rgb(232,232,232)",
            "linecolor": "rgb(36,36,36)",
            "showgrid": false,
            "showline": true,
            "ticks": "outside"
           }
          },
          "scene": {
           "xaxis": {
            "backgroundcolor": "white",
            "gridcolor": "rgb(232,232,232)",
            "gridwidth": 2,
            "linecolor": "rgb(36,36,36)",
            "showbackground": true,
            "showgrid": false,
            "showline": true,
            "ticks": "outside",
            "zeroline": false,
            "zerolinecolor": "rgb(36,36,36)"
           },
           "yaxis": {
            "backgroundcolor": "white",
            "gridcolor": "rgb(232,232,232)",
            "gridwidth": 2,
            "linecolor": "rgb(36,36,36)",
            "showbackground": true,
            "showgrid": false,
            "showline": true,
            "ticks": "outside",
            "zeroline": false,
            "zerolinecolor": "rgb(36,36,36)"
           },
           "zaxis": {
            "backgroundcolor": "white",
            "gridcolor": "rgb(232,232,232)",
            "gridwidth": 2,
            "linecolor": "rgb(36,36,36)",
            "showbackground": true,
            "showgrid": false,
            "showline": true,
            "ticks": "outside",
            "zeroline": false,
            "zerolinecolor": "rgb(36,36,36)"
           }
          },
          "shapedefaults": {
           "fillcolor": "black",
           "line": {
            "width": 0
           },
           "opacity": 0.3
          },
          "ternary": {
           "aaxis": {
            "gridcolor": "rgb(232,232,232)",
            "linecolor": "rgb(36,36,36)",
            "showgrid": false,
            "showline": true,
            "ticks": "outside"
           },
           "baxis": {
            "gridcolor": "rgb(232,232,232)",
            "linecolor": "rgb(36,36,36)",
            "showgrid": false,
            "showline": true,
            "ticks": "outside"
           },
           "bgcolor": "white",
           "caxis": {
            "gridcolor": "rgb(232,232,232)",
            "linecolor": "rgb(36,36,36)",
            "showgrid": false,
            "showline": true,
            "ticks": "outside"
           }
          },
          "title": {
           "x": 0.05
          },
          "xaxis": {
           "automargin": true,
           "gridcolor": "rgb(232,232,232)",
           "linecolor": "rgb(36,36,36)",
           "showgrid": false,
           "showline": true,
           "ticks": "outside",
           "title": {
            "standoff": 15
           },
           "zeroline": false,
           "zerolinecolor": "rgb(36,36,36)"
          },
          "yaxis": {
           "automargin": true,
           "gridcolor": "rgb(232,232,232)",
           "linecolor": "rgb(36,36,36)",
           "showgrid": false,
           "showline": true,
           "ticks": "outside",
           "title": {
            "standoff": 15
           },
           "zeroline": false,
           "zerolinecolor": "rgb(36,36,36)"
          }
         }
        },
        "title": {
         "text": "InletPressure g-pump-5 for all weeks "
        },
        "xaxis": {
         "anchor": "y",
         "domain": [
          0,
          1
         ],
         "title": {
          "text": "week"
         },
         "type": "category"
        },
        "yaxis": {
         "anchor": "x",
         "domain": [
          0,
          1
         ],
         "title": {
          "text": "feature_value"
         }
        }
       }
      },
      "text/html": [
       "<div>\n",
       "        \n",
       "        \n",
       "            <div id=\"cd84228d-a14d-4322-a9b4-059aa68d90ad\" class=\"plotly-graph-div\" style=\"height:525px; width:100%;\"></div>\n",
       "            <script type=\"text/javascript\">\n",
       "                require([\"plotly\"], function(Plotly) {\n",
       "                    window.PLOTLYENV=window.PLOTLYENV || {};\n",
       "                    \n",
       "                if (document.getElementById(\"cd84228d-a14d-4322-a9b4-059aa68d90ad\")) {\n",
       "                    Plotly.newPlot(\n",
       "                        'cd84228d-a14d-4322-a9b4-059aa68d90ad',\n",
       "                        [{\"hoverlabel\": {\"namelength\": 0}, \"hovertemplate\": \"week=%{x}<br>feature_value=%{y}\", \"legendgroup\": \"\", \"marker\": {\"color\": \"#1F77B4\", \"symbol\": \"circle\"}, \"mode\": \"markers\", \"name\": \"\", \"showlegend\": false, \"type\": \"scatter\", \"x\": [47, 47, 47, 47, 47, 47, 47, 47, 47, 47, 47, 47, 47, 47, 47, 47, 47, 47, 47, 47, 47, 47, 47, 47, 47, 47, 47, 47, 47, 47, 47, 47, 47, 47, 47, 47, 47, 47, 47, 47, 47, 47, 47, 47, 47, 47, 47, 47, 47, 47, 47, 47, 47, 47, 47, 47, 47, 47, 47, 47, 47, 47, 47, 47, 47, 47, 47, 47, 47, 47, 47, 47, 47, 47, 47, 47, 47, 47, 47, 47, 47, 47, 47, 47, 47, 47, 47, 47, 47, 47, 47, 47, 47, 47, 47, 47, 47, 47, 47, 47, 47, 47, 47, 47, 47, 47, 47, 48, 48, 48, 48, 48, 48, 48, 48, 48, 48, 48, 48, 48, 48, 48, 48, 48, 48, 48, 48, 48, 48, 48, 48, 48, 48, 48, 48, 48, 48, 48, 48, 48, 48, 48, 48, 48, 48, 48, 48, 48, 48, 48, 48, 48, 48, 48, 48, 48, 48, 48, 48, 48, 48, 48, 48, 48, 48, 48, 48, 48, 48, 48, 48, 48, 48, 48, 48, 48, 48, 48, 48, 48, 48, 48, 48, 48, 48, 48, 48, 48, 48, 48, 48, 48, 48, 48, 48, 48, 48, 48, 48, 48, 48, 48, 48, 48, 48, 48, 48, 48, 48, 48, 48, 48, 48, 48, 48, 48, 48, 48, 48, 48, 48, 48, 48, 48, 48, 48, 48, 48, 48, 48, 48, 48, 48, 48, 48, 48, 48, 48, 48, 48, 48, 48, 48, 48, 48, 48, 48, 48, 48, 48, 48, 48, 48, 48, 48, 48, 48, 48, 48, 48, 48, 48, 48, 48, 48, 48, 48, 48, 48, 48, 48, 48, 48, 49, 49, 49, 49, 49, 49, 49, 49, 49, 49, 49, 49, 49, 49, 49, 49, 49, 49, 49, 49, 49, 49, 49, 49, 49, 49, 49, 49, 49, 50, 50, 50, 50, 50, 50, 50, 50, 50, 50, 50, 50, 50, 50, 50, 50, 50, 50, 50, 50, 50, 50, 50, 50, 50, 50, 50, 50, 50, 50, 50, 50, 50, 50, 50, 50, 50, 50, 50, 50, 51, 51, 51, 51, 51, 51, 51, 51, 51, 51, 51, 51, 51, 51, 51, 51, 51, 51, 51, 51, 51, 51, 51, 51, 51, 51, 51, 51, 51, 51, 51, 51, 51, 51, 51, 51, 51, 51, 51, 51, 51, 51, 51, 51, 51, 51, 51, 51, 51, 51, 51, 51, 51, 51, 51, 51, 51, 51, 51, 51, 51, 51, 51, 51, 51, 51, 51, 51, 51, 51, 51, 51, 51, 51, 51, 51, 51, 51, 51, 51, 51, 51, 51, 51, 51, 51, 51, 51, 51, 51, 51, 51, 51, 51, 51, 51, 51, 51, 51, 51, 51, 51, 51, 51, 51, 51, 51, 51, 51, 51, 51, 51, 51, 51, 51, 51, 51, 51, 51, 51, 51, 51, 51, 51, 51, 51, 51, 51, 51, 51, 51, 51, 51, 51, 51, 51, 51, 51, 51, 51, 51, 51, 51, 51, 51, 51, 51, 52, 52, 52, 52, 52, 52, 52, 52, 52, 52, 52, 52, 52, 52, 52, 52, 52, 52, 52, 52, 52, 52, 52, 52, 52, 52, 52, 52, 52, 52, 52, 52, 52, 52, 52, 52, 52, 52, 52, 52, 52, 52, 52, 52, 52, 52, 52, 52, 52, 52, 52, 52, 52, 52, 52, 52, 52, 52, 52, 52, 52, 52, 52, 52, 52, 52, 52, 52, 52, 52, 52, 52, 52, 52, 52, 52, 52, 52, 52, 52, 52, 52, 52, 52, 52, 52, 52, 52, 52, 52, 52, 52, 52, 52, 52, 52, 52, 52, 52, 52, 52, 52, 52, 52, 52, 52, 52, 52, 52, 52, 52, 52, 52, 52, 52, 52, 52, 52, 52, 52, 52, 52, 52, 52, 52, 52, 52, 52, 52, 52, 52, 52, 52, 52, 52, 52, 52, 52, 52, 52, 52, 52, 52, 52, 52, 52, 52, 52, 52, 52, 52, 52, 52, 52, 52, 52, 52, 52, 52, 52, 52, 52, 52, 52, 52, 1, 1, 1, 1, 1, 1, 1, 1, 1, 1, 1, 1, 1, 1, 1, 1, 1, 1, 1, 1, 1, 1, 1, 1, 1, 1, 1, 1, 1, 1, 1, 1, 1, 1, 1, 1, 1, 1, 1, 1, 1, 1, 1, 1, 1, 1, 1, 1, 1, 1, 1, 1, 1, 1, 1, 1, 1, 1, 1, 1, 1, 1, 1, 1, 1, 1, 1, 1, 1, 1, 1, 1, 1, 1, 1, 1, 1, 1, 1, 1, 1, 1, 1, 1, 1, 1, 1, 1, 1, 1, 1, 1, 1, 1, 1, 1, 1, 1, 1, 1, 1, 1, 1, 1, 1, 1, 1, 1, 1, 1, 1, 1, 1, 1, 1, 1, 1, 1, 1, 1, 1, 1, 1, 1, 1, 1, 1, 1, 1, 1, 1, 1, 1, 1, 1, 1, 1, 1, 1, 1, 1, 1, 1, 1, 1, 1, 1, 1, 1, 1, 1, 1, 1, 1, 1, 1, 1, 1, 1, 1, 1, 1, 1, 1, 1, 1, 1, 1, 2, 2, 2, 2, 2, 2, 2, 2, 2, 2, 2, 2, 2, 2, 2, 2, 2], \"xaxis\": \"x\", \"y\": [2.853925564331865, 2.76556776556777, 2.866978700312034, 2.9040114977614984, 2.911006817256817, 2.9100529100529102, 2.920545889295889, 2.868589743589744, 2.886777574277575, 2.906873219373218, 2.8538822288822296, 2.823565323565326, 2.812372812372814, 2.849702380952381, 2.82604548229548, 2.854471916971917, 2.8327228327228346, 2.808684371184371, 2.822929385429383, 2.838001119251119, 2.8632478632478615, 2.8928295855379194, 2.836209893501559, 2.8353301790801786, 2.8369836182336194, 2.860131766381768, 2.882516788766789, 2.880291005291006, 2.9309116809116795, 2.8409900284900265, 2.860894892144892, 2.857842389092388, 2.844169719169719, 2.8668091168091165, 2.849002849002849, 2.8108465608465596, 2.865410052910052, 2.8620395807895807, 2.9019764957264953, 2.904838217338216, 2.8537087912087915, 2.854662698412696, 2.816887973137973, 2.9175569800569803, 2.8578423890923887, 2.861530830280831, 2.884869759869759, 2.8596866096866105, 2.7812754375254376, 2.888939763939763, 2.838509869759869, 2.8476037851037845, 2.8488120675620685, 2.879782254782255, 2.874313186813188, 2.9074455636955636, 2.849893162393164, 2.8215939153439145, 2.8654100529100535, 2.950434981684983, 2.8990511803011807, 2.858096764346764, 2.9066824379324374, 2.8827075702075677, 2.874249592999591, 2.87971866096866, 2.8408628408628416, 2.876729751729751, 2.9070004070004085, 2.846141127391127, 2.8842974155474153, 2.8345034595034586, 2.8314509564509556, 2.8566341066341057, 2.883470695970695, 2.870497557997558, 2.8706247456247453, 2.8586691086691083, 2.887540700040699, 2.88766788766789, 2.772626678876677, 2.8425798738298744, 2.8629298941798926, 2.9444571632071628, 2.8815628815628798, 2.8528184778184777, 2.877429283679284, 2.823946886446885, 2.8085571835571823, 2.816124847374848, 2.9240435490435495, 2.911324786324784, 2.926460113960113, 2.963026556776557, 2.7746616809116795, 2.8328500203500204, 2.8734228734228737, 2.881117724867725, 2.8457595645095632, 2.8577152014652003, 2.858414733414733, 2.8722145909645924, 2.8654736467236464, 2.860831298331298, 2.885823667073669, 2.8615944240944238, 2.8872227309727307, 2.8801002238502242, 2.8589234839234834, 2.837174399674399, 2.9046474358974343, 2.8587962962962963, 2.861149267399267, 2.860322547822548, 2.8107193732193725, 2.864583333333334, 2.8890669515669516, 2.8484305046805023, 2.8744403744403733, 2.8392729955229967, 2.8586055148555136, 2.8704339641839645, 2.8454415954415957, 2.813263125763124, 2.8186050061050065, 2.801434676434677, 2.8676994301994303, 2.8872227309727294, 2.8521189458689453, 2.892501017501017, 2.914186507936508, 2.8169515669515666, 2.836665649165649, 2.9003230565730562, 2.8764753764753763, 2.8510378510378502, 2.86687271062271, 2.90591931216931, 2.8007987382987394, 2.8839158526658526, 2.877874440374441, 2.942104192104194, 2.876538970288969, 2.9155219780219763, 2.9350452787952777, 2.8815628815628815, 2.8747583435083417, 2.892564611314611, 2.923916361416362, 2.871896621896622, 2.9076999389499396, 2.865728021978022, 2.9248702686202677, 2.889257733007733, 2.830179080179079, 2.889384920634919, 2.833231583231582, 2.838827838827839, 2.9124058811558817, 2.914122914122915, 2.8991147741147736, 2.820322039072039, 2.8460139397639406, 2.926078551078552, 2.849893162393163, 2.8420711233211216, 2.9115791615791617, 2.8005443630443616, 2.851228632478634, 2.8701795889295885, 2.8743131868131857, 2.8791463166463167, 2.8636294261294277, 2.8963166463166465, 2.8467134717134708, 2.836029711029711, 2.886968355718356, 2.8808633496133496, 2.8317053317053316, 2.875394281644281, 2.8448692511192513, 2.8306242368742365, 2.8846153846153846, 2.8877950752950743, 2.9023580586080584, 2.812309218559219, 2.914949633699633, 2.9220085470085455, 2.8228657916157913, 2.842961436711437, 2.8275717338217334, 2.903757122507122, 2.8802910052910033, 2.8755850630850652, 2.9361263736263754, 2.9133597883597875, 2.908971815221816, 2.907509157509157, 2.8977157102157096, 2.906491656491657, 2.8353301790801804, 2.818986568986569, 2.849638787138787, 2.844996438746439, 2.8559345746845732, 2.8525005087505093, 2.856506919006918, 2.7950752950752964, 2.8624847374847366, 2.8387642450142447, 2.809065934065933, 2.855807387057389, 2.8172695360195363, 2.8833435083435073, 2.8434065934065935, 2.854599104599103, 2.8563161375661363, 2.8563161375661377, 2.8617852055352064, 2.9248702686202663, 2.8323412698412693, 2.8626119251119255, 2.872278184778185, 2.7997176434676434, 2.8544719169719186, 2.8325320512820493, 2.7781593406593412, 2.8994963369963354, 2.8641381766381753, 2.8619123931623918, 2.8966982091982096, 2.854726292226293, 2.8593050468050474, 2.8565705128205114, 2.802515771265771, 2.79882733007733, 2.8921194546194555, 2.863565832315832, 2.7747252747252724, 2.8528184778184786, 2.8647741147741157, 2.904456654456654, 2.832150488400487, 2.8567612942612954, 2.8687169312169325, 2.890783984533984, 2.8511650386650387, 2.8603225478225482, 2.91469525844526, 2.874618437118436, 2.8848061660561672, 2.839082214082215, 2.866554741554743, 2.8778744403744416, 2.8723417785917795, 2.905664936914938, 2.814598595848596, 2.839145807895808, 2.8418803418803424, 2.8805453805453816, 2.877174908424909, 2.894154456654455, 2.836665649165649, 2.9211182336182335, 2.8415623728123713, 2.866681929181929, 2.8746311558811573, 2.852436914936914, 2.8240104802604815, 2.831832519332519, 2.82833485958486, 2.8513558201058182, 2.820957977207977, 2.8962530525030528, 2.852500508750509, 2.855107855107855, 2.8670634920634925, 2.868398962148962, 2.8584783272283283, 2.785917785917785, 2.8395273707773705, 2.86852614977615, 2.830931606973273, 2.8203220390720403, 2.822738603988604, 2.8816900691900695, 2.850211131461132, 2.905919312169312, 2.885632885632884, 2.8484305046805054, 2.8891941391941383, 2.948463573463572, 2.8409900284900274, 2.86820818070818, 2.81014702889703, 2.826299857549857, 2.7784137159137163, 2.867254273504274, 2.8773656898656887, 2.893900081400082, 2.872532560032559, 2.9371438746438763, 2.958638583638585, 2.9645528083028077, 3.0318350630850635, 2.9782254782254802, 2.953360297110297, 2.9739010989010985, 3.0098316035816044, 2.9997837810337806, 2.950880138380139, 2.9573667073667083, 2.9618818681318686, 2.9490359177859164, 2.955268111518112, 2.971102971102971, 3.006906288156287, 2.942485754985755, 2.937143874643874, 2.9719932844932853, 2.9934243996744, 2.97758954008954, 2.972565628815629, 2.9930428367928372, 2.970594220594219, 2.898415242165241, 2.9261421448921454, 2.992279711029711, 2.980960012210011, 2.981532356532357, 2.986492673992674, 2.9394332519332522, 2.9384793447293425, 2.9483363858363845, 2.9297033984533982, 2.9793065730565735, 2.979242979242979, 3.0228047415547414, 2.9882733007733004, 2.9621998371998384, 2.961245929995929, 2.978416259666261, 2.988527676027676, 2.976699226699227, 3.0567002442002456, 3.027319902319903, 2.8944088319088306, 2.9641712454212445, 2.8807997557997553, 2.981150793650794, 2.900259462759463, 2.905919312169311, 2.9548865486365496, 2.9445843508343508, 2.8191137566137567, 2.916475885225886, 2.905028998778999, 2.918574481074481, 2.9464921652421654, 2.9083358770858765, 2.9069368131868134, 2.847985347985349, 2.9354904354904363, 2.944711538461538, 2.982231888481888, 2.894027269027269, 2.874122405372406, 2.9112611925111938, 2.91469525844526, 2.88321632071632, 2.9327559015059013, 2.850020350020351, 2.9082086894586876, 2.9340913715913715, 2.8983516483516483, 2.9174933862433865, 2.98477564102564, 2.916475885225885, 2.9219449531949535, 2.9616274928774917, 2.8835342897842904, 2.8885582010582014, 2.9110068172568173, 2.827062983312983, 2.9178749491249487, 2.882008038258039, 2.890911172161172, 2.8957443019943025, 2.9857931420431414, 2.972629222629223, 2.9358719983719976, 2.9438212250712255, 2.9921525234025244, 3.018225986975987, 3.004998473748472, 2.968368437118438, 2.9664606227106223, 2.992152523402522, 2.95259717134717, 3.0090684778184786, 3.014283170533171, 3.035714285714286, 3.045825702075702, 3.0274470899470907, 3.0540293040293047, 2.97975172975173, 2.9655703093203094, 3.003345034595036, 2.9754273504273505, 2.972692816442816, 3.008050976800977, 2.9896723646723635, 3.0269383394383396, 2.903947903947902, 2.8804181929181927, 2.930402930402931, 2.899623524623525, 2.9613095238095237, 2.89854242979243, 2.9019764957264944, 2.972820004070004, 2.9248066748066743, 2.892310236060236, 2.9033119658119673, 2.896253052503051, 2.8710699023199004, 2.9058557183557183, 2.897270553520553, 2.8764753764753777, 2.919337606837605, 2.886141636141636, 2.8880494505494494, 2.9482091982091987, 2.927096052096052, 2.934409340659339, 2.8651556776556784, 2.934409340659341, 2.930530118030116, 2.9106252543752547, 2.921054639804639, 2.8606405168905162, 2.964171245421245, 2.920482295482293, 2.9113247863247858, 2.915521978021978, 2.9199099511599513, 2.883343508343508, 2.8919922669922666, 2.900005087505088, 2.9142501017501026, 2.8552350427350426, 2.915267602767603, 2.887922262922262, 2.9221993284493277, 2.9288766788766787, 2.8528820716320715, 2.929703398453397, 2.875966625966626, 2.9866198616198623, 2.918765262515263, 2.963662494912493, 2.900768213268213, 2.8692892755392747, 2.891165547415546, 2.9155219780219768, 2.9366987179487176, 2.9008318070818064, 2.924933862433862, 2.901467745217745, 2.8835342897842895, 2.9104980667480667, 2.8916107041107053, 2.9361263736263736, 2.934663715913716, 2.9121515059015053, 2.9365079365079367, 2.9403871591371593, 2.875394281644281, 2.856252543752543, 2.9508801383801377, 2.987828144078144, 2.9570487382987385, 2.8518645706145684, 2.918192918192918, 2.9021036833536837, 2.9086538461538463, 2.8462683150183152, 2.907699938949939, 2.8980336792836785, 2.9228352665852664, 2.8790827228327225, 2.934918091168092, 2.9383521571021567, 2.960101241351241, 2.8517373829873827, 2.8746947496947493, 2.892628205128205, 2.8852513227513215, 2.86935286935287, 2.914059320309319, 2.8966982091982083, 2.89905118030118, 2.8803545991045993, 2.9141865079365075, 2.9797517297517295, 2.9907534595034595, 2.983503764753763, 2.9356176231176234, 2.9136777574277577, 2.9480184167684165, 2.90121336996337, 2.8825803825803824, 2.9199099511599518, 2.9230260480260477, 2.8894485144485134, 2.93841575091575, 2.918192918192918, 2.9139957264957275, 2.91488603988604, 2.9333282458282466, 2.8942180504680484, 2.922199328449329, 2.937398249898248, 2.901594932844933, 2.8951719576719577, 2.912087912087911, 2.888558201058201, 2.922771672771672, 2.8893849206349214, 2.8852513227513206, 2.8902752340252342, 2.944647944647943, 2.881944444444445, 2.9174933862433865, 2.9440120065120055, 2.8962530525030528, 2.901976495726497, 2.898160866910866, 2.909289784289784, 2.893963675213675, 2.9100529100529093, 2.8971433658933647, 2.8829619454619455, 2.912660256410257, 2.897842897842894, 2.9081450956450947, 2.918892450142449, 2.9351088726088714, 2.9492902930402924, 2.9300213675213675, 2.896761803011803, 2.991643772893772, 2.9230260480260473, 2.9263965201465196, 2.905474155474156, 2.9227716727716735, 2.974473443223444, 2.913169006919007, 2.9160943223443216, 2.914822446072448, 2.9111340048840044, 2.9280499592999587, 2.9156491656491657, 2.9306573056573053, 2.919782763532764, 2.8930733618233604, 2.951325295075296, 2.8896392958892942, 2.9716117216117213, 2.975808913308914, 2.878955535205535, 2.916984635734634, 2.886841168091168, 2.9328194953194946, 2.8975885225885207, 3.0232498982498974, 2.9625814000813997, 2.9532331094831097, 2.905219780219779, 2.9347909035409034, 2.9003866503866487, 2.9010225885225895, 2.925951363451363, 2.8596230158730154, 2.9300213675213684, 2.923089641839642, 2.858287545787546, 2.9416590354090357, 2.9330738705738693, 2.9433760683760677, 2.9611823361823366, 2.942167785917785, 2.9602920227920233, 2.873804436304436, 2.918192918192919, 2.9029939967439975, 2.9194647944647927, 2.8969525844525834, 2.901022588522588, 2.918447293447292, 2.8428342490842486, 2.94890873015873, 2.8940908628408635, 2.9738375050875057, 2.920800264550264, 2.9459834147334143, 2.949989824989825, 2.911134004884005, 2.9074455636955636, 2.8884946072446063, 2.8873499185999183, 2.8731049043549035, 2.9187016687016683, 2.9472552910052916, 2.8860780423280414, 2.9131054131054124, 2.8570792633292625, 2.868653337403337, 2.903439153439154, 2.8963802401302394, 2.8965710215710208, 2.917302604802605, 2.9730743793243786, 2.95405982905983, 2.928177146927149, 2.9273504273504263, 2.9085902523402525, 2.9227080789580793, 2.9561584249084256, 2.86305708180708, 2.832659238909238, 2.930466524216524, 2.9276048026048027, 2.949735449735448, 2.9070004070004063, 2.8746947496947493, 2.938670126170125, 2.847413003663004, 2.9038207163207166, 2.917111823361824, 2.9223901098901113, 2.8965074277574274, 2.8715786528286524, 2.9173661986162, 2.9019129019128997, 2.91138838013838, 2.9128510378510373, 2.8855692918192926, 2.8978428978428963, 2.933519027269028, 2.9063008750508756, 2.897652116402116, 2.9842668905168903, 2.969131562881563, 2.958257020757023, 2.977080789580791, 2.9252518315018325, 2.954123422873423, 2.9350452787952777, 2.8839794464794455, 2.9031211843711837, 2.9143772893772906, 2.900513838013838, 2.939306064306065, 2.9058557183557183, 2.9850936100936103, 2.9638532763532752, 2.970149063899065, 2.9400055962555958, 2.998829873829873, 2.9796881359381366, 2.9882733007733013, 2.887731481481481, 2.9478276353276356, 2.891547110297111, 2.8669998982498988, 2.919973544973544, 2.877492877492878, 2.981659544159543, 2.892055860805861, 2.927477614977615, 2.9058557183557183, 2.85885989010989, 2.9001322751322753, 2.9149496336996346, 2.9178113553113554, 2.9258241758241756, 2.9110704110704106, 2.9669693732193725, 2.965061558811559, 2.9601648351648344, 2.9015313390313384, 3.008368945868948, 2.998384717134716, 2.974727818477817, 2.995205026455027, 2.949481074481074, 2.998448310948311, 2.9774623524623536, 2.912469474969477, 2.9945054945054945, 3.0146011396011403, 2.9602920227920215, 2.9598468660968673, 2.976254070004069, 3.04111975986976, 2.9460470085470103, 2.9246794871794872, 2.945347476597478, 2.899114774114773, 2.9562856125356105, 2.928431522181523, 2.976190476190476, 2.969703907203906, 2.968813593813594, 2.959210927960928, 2.9267780830280827, 2.935172466422466, 2.9437576312576295, 3.028718966218966, 2.9669057794057774, 2.9758725071225083, 2.9689407814407827, 2.9512617012617017, 2.9567943630443634, 2.981850325600325, 2.940705128205129, 2.991580179080179, 2.9125966625966626, 2.933773402523402, 2.9339641839641843, 2.925379019129019, 2.96073717948718, 2.9536146723646723, 2.9218177655677664, 2.9831857956857952, 2.899496336996337, 2.9425493487993495, 3.05345695970696, 2.9408323158323166, 2.9181929181929185, 2.9582570207570202, 2.924870268620267, 2.9234076109076104, 2.932946682946683, 2.968686406186406, 2.9339641839641852, 2.939306064306065, 2.9714209401709417, 3.001691595441594, 2.943757631257632, 2.9842668905168916, 2.9497990435490427, 2.986683455433456, 2.9920253357753364, 2.9997201872201864, 2.9592109279609295, 2.926587301587302, 2.9374618437118425, 2.9475096662596663, 2.9497990435490453, 2.9672873422873423, 2.94859076109076, 2.9415954415954424, 2.916539479039479, 2.931293243793244, 2.9353632478632474, 2.8995599308099305, 2.906428062678063, 2.903757122507122, 2.9383521571021576, 2.9957137769637767, 2.9330102767602777, 2.9761268823768816, 2.967223748473748, 2.963980463980464, 2.9436940374440375, 2.897842897842897, 2.9174297924297914, 2.9302121489621484, 2.8696708384208383, 2.990117521367521, 2.938797313797313, 2.9688135938135933, 2.903184778184778, 2.9340913715913715, 2.9129782254782253, 2.9111975986975973, 2.9531059218559217, 2.958574989824991, 2.9631537444037437, 2.959974053724054, 2.925824175824175, 2.96824124949125, 2.9418498168498144, 2.905664936914937, 2.928495115995117, 2.9787978225478233, 2.947128103378104, 2.9377162189662176, 2.89453601953602, 2.9124694749694737, 2.9497354497354498, 2.9373982498982483, 2.9104344729344724, 2.971102971102971, 2.9302757427757418, 2.9567307692307683, 2.9751729751729763, 2.966905779405779, 2.940768722018722, 2.926841676841678, 2.8905932030932036, 2.914949633699635, 2.9284951159951156, 2.941722629222628, 3.0399750712250717, 2.926523707773709, 2.970657814407815, 2.9242343304843303, 2.9447115384615388, 2.9618182743182753, 2.947382478632477, 2.9761904761904776, 2.9252518315018317, 2.9821047008546997, 2.9135505698005697, 2.948463573463574, 2.9936151811151785, 2.9556496743996745, 3.0153642653642643, 2.956349206349207, 2.9043930606430592, 3.007542226292227, 2.916475885225886, 2.8455051892551886, 2.911706349206348, 2.87386803011803, 2.8839794464794473], \"yaxis\": \"y\"}],\n",
       "                        {\"legend\": {\"tracegroupgap\": 0}, \"template\": {\"data\": {\"bar\": [{\"error_x\": {\"color\": \"rgb(36,36,36)\"}, \"error_y\": {\"color\": \"rgb(36,36,36)\"}, \"marker\": {\"line\": {\"color\": \"white\", \"width\": 0.5}}, \"type\": \"bar\"}], \"barpolar\": [{\"marker\": {\"line\": {\"color\": \"white\", \"width\": 0.5}}, \"type\": \"barpolar\"}], \"carpet\": [{\"aaxis\": {\"endlinecolor\": \"rgb(36,36,36)\", \"gridcolor\": \"white\", \"linecolor\": \"white\", \"minorgridcolor\": \"white\", \"startlinecolor\": \"rgb(36,36,36)\"}, \"baxis\": {\"endlinecolor\": \"rgb(36,36,36)\", \"gridcolor\": \"white\", \"linecolor\": \"white\", \"minorgridcolor\": \"white\", \"startlinecolor\": \"rgb(36,36,36)\"}, \"type\": \"carpet\"}], \"choropleth\": [{\"colorbar\": {\"outlinewidth\": 1, \"tickcolor\": \"rgb(36,36,36)\", \"ticks\": \"outside\"}, \"type\": \"choropleth\"}], \"contour\": [{\"colorbar\": {\"outlinewidth\": 1, \"tickcolor\": \"rgb(36,36,36)\", \"ticks\": \"outside\"}, \"colorscale\": [[0.0, \"#440154\"], [0.1111111111111111, \"#482878\"], [0.2222222222222222, \"#3e4989\"], [0.3333333333333333, \"#31688e\"], [0.4444444444444444, \"#26828e\"], [0.5555555555555556, \"#1f9e89\"], [0.6666666666666666, \"#35b779\"], [0.7777777777777778, \"#6ece58\"], [0.8888888888888888, \"#b5de2b\"], [1.0, \"#fde725\"]], \"type\": \"contour\"}], \"contourcarpet\": [{\"colorbar\": {\"outlinewidth\": 1, \"tickcolor\": \"rgb(36,36,36)\", \"ticks\": \"outside\"}, \"type\": \"contourcarpet\"}], \"heatmap\": [{\"colorbar\": {\"outlinewidth\": 1, \"tickcolor\": \"rgb(36,36,36)\", \"ticks\": \"outside\"}, \"colorscale\": [[0.0, \"#440154\"], [0.1111111111111111, \"#482878\"], [0.2222222222222222, \"#3e4989\"], [0.3333333333333333, \"#31688e\"], [0.4444444444444444, \"#26828e\"], [0.5555555555555556, \"#1f9e89\"], [0.6666666666666666, \"#35b779\"], [0.7777777777777778, \"#6ece58\"], [0.8888888888888888, \"#b5de2b\"], [1.0, \"#fde725\"]], \"type\": \"heatmap\"}], \"heatmapgl\": [{\"colorbar\": {\"outlinewidth\": 1, \"tickcolor\": \"rgb(36,36,36)\", \"ticks\": \"outside\"}, \"colorscale\": [[0.0, \"#440154\"], [0.1111111111111111, \"#482878\"], [0.2222222222222222, \"#3e4989\"], [0.3333333333333333, \"#31688e\"], [0.4444444444444444, \"#26828e\"], [0.5555555555555556, \"#1f9e89\"], [0.6666666666666666, \"#35b779\"], [0.7777777777777778, \"#6ece58\"], [0.8888888888888888, \"#b5de2b\"], [1.0, \"#fde725\"]], \"type\": \"heatmapgl\"}], \"histogram\": [{\"marker\": {\"line\": {\"color\": \"white\", \"width\": 0.6}}, \"type\": \"histogram\"}], \"histogram2d\": [{\"colorbar\": {\"outlinewidth\": 1, \"tickcolor\": \"rgb(36,36,36)\", \"ticks\": \"outside\"}, \"colorscale\": [[0.0, \"#440154\"], [0.1111111111111111, \"#482878\"], [0.2222222222222222, \"#3e4989\"], [0.3333333333333333, \"#31688e\"], [0.4444444444444444, \"#26828e\"], [0.5555555555555556, \"#1f9e89\"], [0.6666666666666666, \"#35b779\"], [0.7777777777777778, \"#6ece58\"], [0.8888888888888888, \"#b5de2b\"], [1.0, \"#fde725\"]], \"type\": \"histogram2d\"}], \"histogram2dcontour\": [{\"colorbar\": {\"outlinewidth\": 1, \"tickcolor\": \"rgb(36,36,36)\", \"ticks\": \"outside\"}, \"colorscale\": [[0.0, \"#440154\"], [0.1111111111111111, \"#482878\"], [0.2222222222222222, \"#3e4989\"], [0.3333333333333333, \"#31688e\"], [0.4444444444444444, \"#26828e\"], [0.5555555555555556, \"#1f9e89\"], [0.6666666666666666, \"#35b779\"], [0.7777777777777778, \"#6ece58\"], [0.8888888888888888, \"#b5de2b\"], [1.0, \"#fde725\"]], \"type\": \"histogram2dcontour\"}], \"mesh3d\": [{\"colorbar\": {\"outlinewidth\": 1, \"tickcolor\": \"rgb(36,36,36)\", \"ticks\": \"outside\"}, \"type\": \"mesh3d\"}], \"parcoords\": [{\"line\": {\"colorbar\": {\"outlinewidth\": 1, \"tickcolor\": \"rgb(36,36,36)\", \"ticks\": \"outside\"}}, \"type\": \"parcoords\"}], \"pie\": [{\"automargin\": true, \"type\": \"pie\"}], \"scatter\": [{\"marker\": {\"colorbar\": {\"outlinewidth\": 1, \"tickcolor\": \"rgb(36,36,36)\", \"ticks\": \"outside\"}}, \"type\": \"scatter\"}], \"scatter3d\": [{\"line\": {\"colorbar\": {\"outlinewidth\": 1, \"tickcolor\": \"rgb(36,36,36)\", \"ticks\": \"outside\"}}, \"marker\": {\"colorbar\": {\"outlinewidth\": 1, \"tickcolor\": \"rgb(36,36,36)\", \"ticks\": \"outside\"}}, \"type\": \"scatter3d\"}], \"scattercarpet\": [{\"marker\": {\"colorbar\": {\"outlinewidth\": 1, \"tickcolor\": \"rgb(36,36,36)\", \"ticks\": \"outside\"}}, \"type\": \"scattercarpet\"}], \"scattergeo\": [{\"marker\": {\"colorbar\": {\"outlinewidth\": 1, \"tickcolor\": \"rgb(36,36,36)\", \"ticks\": \"outside\"}}, \"type\": \"scattergeo\"}], \"scattergl\": [{\"marker\": {\"colorbar\": {\"outlinewidth\": 1, \"tickcolor\": \"rgb(36,36,36)\", \"ticks\": \"outside\"}}, \"type\": \"scattergl\"}], \"scattermapbox\": [{\"marker\": {\"colorbar\": {\"outlinewidth\": 1, \"tickcolor\": \"rgb(36,36,36)\", \"ticks\": \"outside\"}}, \"type\": \"scattermapbox\"}], \"scatterpolar\": [{\"marker\": {\"colorbar\": {\"outlinewidth\": 1, \"tickcolor\": \"rgb(36,36,36)\", \"ticks\": \"outside\"}}, \"type\": \"scatterpolar\"}], \"scatterpolargl\": [{\"marker\": {\"colorbar\": {\"outlinewidth\": 1, \"tickcolor\": \"rgb(36,36,36)\", \"ticks\": \"outside\"}}, \"type\": \"scatterpolargl\"}], \"scatterternary\": [{\"marker\": {\"colorbar\": {\"outlinewidth\": 1, \"tickcolor\": \"rgb(36,36,36)\", \"ticks\": \"outside\"}}, \"type\": \"scatterternary\"}], \"surface\": [{\"colorbar\": {\"outlinewidth\": 1, \"tickcolor\": \"rgb(36,36,36)\", \"ticks\": \"outside\"}, \"colorscale\": [[0.0, \"#440154\"], [0.1111111111111111, \"#482878\"], [0.2222222222222222, \"#3e4989\"], [0.3333333333333333, \"#31688e\"], [0.4444444444444444, \"#26828e\"], [0.5555555555555556, \"#1f9e89\"], [0.6666666666666666, \"#35b779\"], [0.7777777777777778, \"#6ece58\"], [0.8888888888888888, \"#b5de2b\"], [1.0, \"#fde725\"]], \"type\": \"surface\"}], \"table\": [{\"cells\": {\"fill\": {\"color\": \"rgb(237,237,237)\"}, \"line\": {\"color\": \"white\"}}, \"header\": {\"fill\": {\"color\": \"rgb(217,217,217)\"}, \"line\": {\"color\": \"white\"}}, \"type\": \"table\"}]}, \"layout\": {\"annotationdefaults\": {\"arrowhead\": 0, \"arrowwidth\": 1}, \"coloraxis\": {\"colorbar\": {\"outlinewidth\": 1, \"tickcolor\": \"rgb(36,36,36)\", \"ticks\": \"outside\"}}, \"colorscale\": {\"diverging\": [[0.0, \"rgb(103,0,31)\"], [0.1, \"rgb(178,24,43)\"], [0.2, \"rgb(214,96,77)\"], [0.3, \"rgb(244,165,130)\"], [0.4, \"rgb(253,219,199)\"], [0.5, \"rgb(247,247,247)\"], [0.6, \"rgb(209,229,240)\"], [0.7, \"rgb(146,197,222)\"], [0.8, \"rgb(67,147,195)\"], [0.9, \"rgb(33,102,172)\"], [1.0, \"rgb(5,48,97)\"]], \"sequential\": [[0.0, \"#440154\"], [0.1111111111111111, \"#482878\"], [0.2222222222222222, \"#3e4989\"], [0.3333333333333333, \"#31688e\"], [0.4444444444444444, \"#26828e\"], [0.5555555555555556, \"#1f9e89\"], [0.6666666666666666, \"#35b779\"], [0.7777777777777778, \"#6ece58\"], [0.8888888888888888, \"#b5de2b\"], [1.0, \"#fde725\"]], \"sequentialminus\": [[0.0, \"#440154\"], [0.1111111111111111, \"#482878\"], [0.2222222222222222, \"#3e4989\"], [0.3333333333333333, \"#31688e\"], [0.4444444444444444, \"#26828e\"], [0.5555555555555556, \"#1f9e89\"], [0.6666666666666666, \"#35b779\"], [0.7777777777777778, \"#6ece58\"], [0.8888888888888888, \"#b5de2b\"], [1.0, \"#fde725\"]]}, \"colorway\": [\"#1F77B4\", \"#FF7F0E\", \"#2CA02C\", \"#D62728\", \"#9467BD\", \"#8C564B\", \"#E377C2\", \"#7F7F7F\", \"#BCBD22\", \"#17BECF\"], \"font\": {\"color\": \"rgb(36,36,36)\"}, \"geo\": {\"bgcolor\": \"white\", \"lakecolor\": \"white\", \"landcolor\": \"white\", \"showlakes\": true, \"showland\": true, \"subunitcolor\": \"white\"}, \"hoverlabel\": {\"align\": \"left\"}, \"hovermode\": \"closest\", \"mapbox\": {\"style\": \"light\"}, \"paper_bgcolor\": \"white\", \"plot_bgcolor\": \"white\", \"polar\": {\"angularaxis\": {\"gridcolor\": \"rgb(232,232,232)\", \"linecolor\": \"rgb(36,36,36)\", \"showgrid\": false, \"showline\": true, \"ticks\": \"outside\"}, \"bgcolor\": \"white\", \"radialaxis\": {\"gridcolor\": \"rgb(232,232,232)\", \"linecolor\": \"rgb(36,36,36)\", \"showgrid\": false, \"showline\": true, \"ticks\": \"outside\"}}, \"scene\": {\"xaxis\": {\"backgroundcolor\": \"white\", \"gridcolor\": \"rgb(232,232,232)\", \"gridwidth\": 2, \"linecolor\": \"rgb(36,36,36)\", \"showbackground\": true, \"showgrid\": false, \"showline\": true, \"ticks\": \"outside\", \"zeroline\": false, \"zerolinecolor\": \"rgb(36,36,36)\"}, \"yaxis\": {\"backgroundcolor\": \"white\", \"gridcolor\": \"rgb(232,232,232)\", \"gridwidth\": 2, \"linecolor\": \"rgb(36,36,36)\", \"showbackground\": true, \"showgrid\": false, \"showline\": true, \"ticks\": \"outside\", \"zeroline\": false, \"zerolinecolor\": \"rgb(36,36,36)\"}, \"zaxis\": {\"backgroundcolor\": \"white\", \"gridcolor\": \"rgb(232,232,232)\", \"gridwidth\": 2, \"linecolor\": \"rgb(36,36,36)\", \"showbackground\": true, \"showgrid\": false, \"showline\": true, \"ticks\": \"outside\", \"zeroline\": false, \"zerolinecolor\": \"rgb(36,36,36)\"}}, \"shapedefaults\": {\"fillcolor\": \"black\", \"line\": {\"width\": 0}, \"opacity\": 0.3}, \"ternary\": {\"aaxis\": {\"gridcolor\": \"rgb(232,232,232)\", \"linecolor\": \"rgb(36,36,36)\", \"showgrid\": false, \"showline\": true, \"ticks\": \"outside\"}, \"baxis\": {\"gridcolor\": \"rgb(232,232,232)\", \"linecolor\": \"rgb(36,36,36)\", \"showgrid\": false, \"showline\": true, \"ticks\": \"outside\"}, \"bgcolor\": \"white\", \"caxis\": {\"gridcolor\": \"rgb(232,232,232)\", \"linecolor\": \"rgb(36,36,36)\", \"showgrid\": false, \"showline\": true, \"ticks\": \"outside\"}}, \"title\": {\"x\": 0.05}, \"xaxis\": {\"automargin\": true, \"gridcolor\": \"rgb(232,232,232)\", \"linecolor\": \"rgb(36,36,36)\", \"showgrid\": false, \"showline\": true, \"ticks\": \"outside\", \"title\": {\"standoff\": 15}, \"zeroline\": false, \"zerolinecolor\": \"rgb(36,36,36)\"}, \"yaxis\": {\"automargin\": true, \"gridcolor\": \"rgb(232,232,232)\", \"linecolor\": \"rgb(36,36,36)\", \"showgrid\": false, \"showline\": true, \"ticks\": \"outside\", \"title\": {\"standoff\": 15}, \"zeroline\": false, \"zerolinecolor\": \"rgb(36,36,36)\"}}}, \"title\": {\"text\": \"InletPressure g-pump-5 for all weeks \"}, \"xaxis\": {\"anchor\": \"y\", \"domain\": [0.0, 1.0], \"title\": {\"text\": \"week\"}, \"type\": \"category\"}, \"yaxis\": {\"anchor\": \"x\", \"domain\": [0.0, 1.0], \"title\": {\"text\": \"feature_value\"}}},\n",
       "                        {\"responsive\": true}\n",
       "                    ).then(function(){\n",
       "                            \n",
       "var gd = document.getElementById('cd84228d-a14d-4322-a9b4-059aa68d90ad');\n",
       "var x = new MutationObserver(function (mutations, observer) {{\n",
       "        var display = window.getComputedStyle(gd).display;\n",
       "        if (!display || display === 'none') {{\n",
       "            console.log([gd, 'removed!']);\n",
       "            Plotly.purge(gd);\n",
       "            observer.disconnect();\n",
       "        }}\n",
       "}});\n",
       "\n",
       "// Listen for the removal of the full notebook cells\n",
       "var notebookContainer = gd.closest('#notebook-container');\n",
       "if (notebookContainer) {{\n",
       "    x.observe(notebookContainer, {childList: true});\n",
       "}}\n",
       "\n",
       "// Listen for the clearing of the current output cell\n",
       "var outputEl = gd.closest('.output');\n",
       "if (outputEl) {{\n",
       "    x.observe(outputEl, {childList: true});\n",
       "}}\n",
       "\n",
       "                        })\n",
       "                };\n",
       "                });\n",
       "            </script>\n",
       "        </div>"
      ]
     },
     "metadata": {},
     "output_type": "display_data"
    },
    {
     "data": {
      "application/vnd.plotly.v1+json": {
       "config": {
        "plotlyServerURL": "https://plot.ly"
       },
       "data": [
        {
         "hoverlabel": {
          "namelength": 0
         },
         "hovertemplate": "week=%{x}<br>feature_value=%{y}",
         "legendgroup": "",
         "marker": {
          "color": "#1F77B4",
          "symbol": "circle"
         },
         "mode": "markers",
         "name": "",
         "showlegend": false,
         "type": "scatter",
         "x": [
          47,
          47,
          47,
          47,
          47,
          47,
          47,
          47,
          47,
          47,
          47,
          47,
          47,
          47,
          47,
          47,
          47,
          47,
          47,
          47,
          47,
          47,
          47,
          47,
          47,
          47,
          47,
          47,
          47,
          47,
          47,
          47,
          47,
          47,
          47,
          47,
          47,
          47,
          47,
          47,
          47,
          47,
          47,
          47,
          47,
          47,
          47,
          47,
          47,
          47,
          47,
          47,
          47,
          47,
          47,
          47,
          47,
          47,
          47,
          47,
          47,
          47,
          47,
          47,
          47,
          47,
          47,
          47,
          47,
          47,
          47,
          47,
          47,
          47,
          47,
          47,
          47,
          47,
          47,
          47,
          47,
          47,
          47,
          47,
          47,
          47,
          47,
          47,
          47,
          47,
          47,
          47,
          47,
          47,
          47,
          47,
          47,
          47,
          47,
          47,
          47,
          47,
          47,
          47,
          47,
          47,
          47,
          48,
          48,
          48,
          48,
          48,
          48,
          48,
          48,
          48,
          48,
          48,
          48,
          48,
          48,
          48,
          48,
          48,
          48,
          48,
          48,
          48,
          48,
          48,
          48,
          48,
          48,
          48,
          48,
          48,
          48,
          48,
          48,
          48,
          48,
          48,
          48,
          48,
          48,
          48,
          48,
          48,
          48,
          48,
          48,
          48,
          48,
          48,
          48,
          48,
          48,
          48,
          48,
          48,
          48,
          48,
          48,
          48,
          48,
          48,
          48,
          48,
          48,
          48,
          48,
          48,
          48,
          48,
          48,
          48,
          48,
          48,
          48,
          48,
          48,
          48,
          48,
          48,
          48,
          48,
          48,
          48,
          48,
          48,
          48,
          48,
          48,
          48,
          48,
          48,
          48,
          48,
          48,
          48,
          48,
          48,
          48,
          48,
          48,
          48,
          48,
          48,
          48,
          48,
          48,
          48,
          48,
          48,
          48,
          48,
          48,
          48,
          48,
          48,
          48,
          48,
          48,
          48,
          48,
          48,
          48,
          48,
          48,
          48,
          48,
          48,
          48,
          48,
          48,
          48,
          48,
          48,
          48,
          48,
          48,
          48,
          48,
          48,
          48,
          48,
          48,
          48,
          48,
          48,
          48,
          48,
          48,
          48,
          48,
          48,
          48,
          48,
          48,
          48,
          48,
          48,
          48,
          48,
          48,
          48,
          48,
          48,
          48,
          48,
          48,
          48,
          48,
          49,
          49,
          49,
          49,
          49,
          49,
          49,
          49,
          49,
          49,
          49,
          49,
          49,
          49,
          49,
          49,
          49,
          49,
          49,
          49,
          49,
          49,
          49,
          49,
          49,
          49,
          49,
          49,
          50,
          50,
          50,
          50,
          50,
          50,
          50,
          50,
          50,
          50,
          50,
          50,
          50,
          50,
          50,
          50,
          50,
          50,
          50,
          50,
          50,
          50,
          50,
          50,
          50,
          50,
          50,
          50,
          50,
          50,
          50,
          50,
          50,
          50,
          50,
          50,
          50,
          50,
          50,
          50,
          50,
          50,
          50,
          50,
          50,
          50,
          50,
          50,
          50,
          50,
          50,
          50,
          50,
          50,
          50,
          50,
          50,
          50,
          50,
          50,
          50,
          50,
          50,
          50,
          50,
          50,
          50,
          50,
          50,
          50,
          50,
          50,
          51,
          51,
          51,
          51,
          51,
          51,
          51,
          51,
          51,
          51,
          51,
          51,
          51,
          51,
          51,
          51,
          51,
          51,
          51,
          51,
          51,
          51,
          51,
          51,
          51,
          51,
          51,
          51,
          51,
          51,
          51,
          51,
          51,
          51,
          51,
          51,
          51,
          51,
          51,
          51,
          51,
          51,
          51,
          51,
          51,
          51,
          51,
          51,
          51,
          51,
          51,
          51,
          51,
          51,
          51,
          51,
          51,
          51,
          51,
          51,
          51,
          51,
          51,
          51,
          51,
          51,
          51,
          51,
          51,
          51,
          51,
          51,
          51,
          51,
          51,
          51,
          51,
          51,
          51,
          51,
          51,
          51,
          51,
          51,
          51,
          51,
          51,
          51,
          51,
          51,
          51,
          51,
          51,
          51,
          51,
          51,
          51,
          51,
          51,
          51,
          51,
          51,
          51,
          51,
          51,
          51,
          51,
          51,
          51,
          51,
          51,
          51,
          51,
          51,
          51,
          51,
          51,
          51,
          51,
          51,
          51,
          51,
          51,
          51,
          51,
          51,
          51,
          51,
          51,
          51,
          51,
          51,
          51,
          51,
          51,
          51,
          51,
          51,
          51,
          51,
          51,
          51,
          51,
          51,
          51,
          51,
          51,
          51,
          51,
          51,
          51,
          51,
          51,
          51,
          51,
          51,
          51,
          51,
          51,
          51,
          51,
          51,
          51,
          51,
          52,
          52,
          52,
          52,
          52,
          52,
          52,
          52,
          52,
          52,
          52,
          52,
          52,
          52,
          52,
          52,
          52,
          52,
          52,
          52,
          52,
          52,
          52,
          52,
          52,
          52,
          52,
          52,
          52,
          52,
          52,
          52,
          52,
          52,
          52,
          52,
          52,
          52,
          52,
          52,
          52,
          52,
          52,
          52,
          52,
          52,
          52,
          52,
          52,
          52,
          52,
          52,
          52,
          52,
          52,
          52,
          52,
          52,
          52,
          52,
          52,
          52,
          52,
          52,
          52,
          52,
          52,
          52,
          52,
          52,
          52,
          52,
          52,
          52,
          52,
          52,
          52,
          52,
          52,
          52,
          52,
          52,
          52,
          52,
          52,
          52,
          52,
          52,
          52,
          52,
          52,
          52,
          52,
          52,
          52,
          52,
          52,
          52,
          52,
          52,
          52,
          52,
          52,
          52,
          52,
          52,
          52,
          52,
          52,
          52,
          52,
          52,
          52,
          52,
          52,
          52,
          52,
          52,
          52,
          52,
          52,
          52,
          52,
          52,
          52,
          52,
          52,
          52,
          52,
          52,
          52,
          52,
          52,
          52,
          52,
          52,
          52,
          52,
          52,
          52,
          52,
          52,
          52,
          52,
          52,
          52,
          52,
          52,
          52,
          52,
          52,
          52,
          52,
          52,
          52,
          52,
          52,
          52,
          52,
          52,
          52,
          52,
          52,
          52,
          52,
          52,
          52,
          52,
          1,
          1,
          1,
          1,
          1,
          1,
          1,
          1,
          1,
          1,
          1,
          1,
          1,
          1,
          1,
          1,
          1,
          1,
          1,
          1,
          1,
          1,
          1,
          1,
          1,
          1,
          1,
          1,
          1,
          1,
          1,
          1,
          1,
          1,
          1,
          1,
          1,
          1,
          1,
          1,
          1,
          1,
          1,
          1,
          1,
          1,
          1,
          1,
          1,
          1,
          1,
          1,
          1,
          1,
          1,
          1,
          1,
          1,
          1,
          1,
          1,
          1,
          1,
          1,
          1,
          1,
          1,
          1,
          1,
          1,
          1,
          1,
          1,
          1,
          1,
          1,
          1,
          1,
          1,
          1,
          1,
          1,
          1,
          1,
          1,
          1,
          1,
          1,
          1,
          1,
          1,
          1,
          1,
          1,
          1,
          1,
          1,
          1,
          1,
          1,
          1,
          1,
          1,
          1,
          1,
          1,
          1,
          1,
          1,
          1,
          1,
          1,
          1,
          1,
          1,
          1,
          1,
          1,
          1,
          1,
          1,
          1,
          1,
          1,
          1,
          1,
          1,
          1,
          1,
          1,
          1,
          1,
          1,
          1,
          1,
          1,
          1,
          1,
          1,
          1,
          1,
          1,
          1,
          1,
          1,
          1,
          1,
          1,
          1,
          1,
          1,
          1,
          1,
          1,
          1,
          1,
          1,
          1,
          2,
          2,
          2,
          2,
          2,
          2,
          2,
          2
         ],
         "xaxis": "x",
         "y": [
          56.76128118306392,
          55.748765678922396,
          57.38864723239723,
          56.37718762718763,
          56.33775946275946,
          56.36701261701263,
          56.8503256003256,
          56.75493487993489,
          56.166056166056165,
          56.68498168498169,
          56.522644022644045,
          57.18737281237282,
          57.18482905982907,
          56.794998982498974,
          57.57338726088727,
          56.95143976393977,
          57.14285714285717,
          57.163207163207176,
          56.832519332519325,
          56.57432844932845,
          56.55842999593,
          57.351656830823494,
          57.02976614434948,
          56.888481888481884,
          56.31868131868132,
          56.882758445258446,
          56.16542022792024,
          56.349206349206355,
          56.69706450956449,
          56.76256613756613,
          56.78863960113961,
          56.73204110704112,
          56.55652218152218,
          56.47130647130646,
          56.63156288156288,
          57.177833740333746,
          56.205484330484325,
          56.91709910459911,
          56.562245624745636,
          56.474486161986164,
          56.38291107041107,
          56.20548433048433,
          56.52599715099716,
          56.08465608465608,
          56.661451973951976,
          56.896113146113144,
          56.39181420431421,
          56.58577533577534,
          56.70660358160359,
          56.63665038665038,
          56.70914733414734,
          56.35683760683761,
          56.47448616198617,
          56.00516381766382,
          56.25,
          56.44141737891738,
          56.646825396825385,
          56.51900183150181,
          56.37019230769229,
          56.51836589336589,
          56.298967236467234,
          56.330764143264155,
          56.29133597883598,
          56.90628815628816,
          56.401353276353284,
          56.13743894993894,
          56.67162698412698,
          56.88530219780221,
          56.25127187627189,
          56.50819088319088,
          56.57496438746441,
          57.141585266585274,
          56.8954772079772,
          56.75747863247863,
          55.88433557183557,
          56.454136141636134,
          56.742216117216124,
          56.268442205942215,
          56.365740740740755,
          56.136803011803,
          56.80072242572243,
          56.88403032153034,
          56.46049552299553,
          56.339031339031344,
          56.27416564916566,
          56.551434676434674,
          56.85795685795685,
          56.76129426129427,
          56.94444444444445,
          56.32313288563288,
          56.47575803825804,
          56.667811355311336,
          56.42869861619861,
          56.45667989417988,
          56.8350630850631,
          57.051917989418,
          56.90819597069599,
          56.67226292226292,
          57.05255392755394,
          56.749847374847356,
          56.26907814407815,
          56.62329568579569,
          56.61630036630038,
          56.886574074074076,
          56.2213827838828,
          57.23761192511193,
          56.8967490842491,
          56.57051282051282,
          56.587683150183146,
          56.93172568172571,
          56.94444444444446,
          57.56066849816849,
          56.85604904354906,
          57.45446682946682,
          57.312016687016694,
          57.03792735042737,
          56.73522079772081,
          57.10215710215709,
          57.2585978835979,
          57.03411172161174,
          57.587377899877914,
          56.88085063085063,
          57.831578144078144,
          57.93841575091576,
          57.87227818477819,
          58.18325193325194,
          57.46273402523403,
          56.99150386650387,
          57.47227309727308,
          57.50534188034189,
          57.42266992266993,
          57.800417175417174,
          58.12792531542531,
          57.3775183150183,
          57.5772028897029,
          58.109483109483115,
          57.4506512006512,
          57.615359177859176,
          57.53077940577942,
          56.988324175824175,
          57.17147435897436,
          57.24651505901505,
          57.53586691086692,
          57.27068070818071,
          57.37879019129019,
          57.08435083435083,
          57.73046398046398,
          57.80677655677656,
          57.71647334147335,
          57.40295584045583,
          57.4786324786325,
          57.345721408221415,
          57.546041921041905,
          57.52124033374033,
          57.31265262515262,
          57.327915140415165,
          57.92506105006106,
          57.83539377289376,
          57.77943121693121,
          57.900895400895415,
          57.16193528693528,
          57.79342185592187,
          57.59564509564509,
          57.57465913715913,
          56.94444444444445,
          57.48117623117624,
          57.385785510785524,
          57.4105870980871,
          57.671957671957664,
          57.529507529507526,
          57.36734330484328,
          57.477996540496555,
          57.685312372812355,
          56.898656898656895,
          56.27798127798129,
          57.54349816849816,
          57.24460724460724,
          57.62044668294669,
          57.66941391941393,
          57.71329365079365,
          58.085317460317476,
          57.54858567358567,
          57.70884208384208,
          57.25287444037445,
          57.079263329263334,
          57.62553418803417,
          57.4856277981278,
          56.817256817256826,
          57.59437321937322,
          57.70693426943428,
          57.23188848188846,
          57.32537138787139,
          57.46273402523405,
          57.24651505901508,
          57.30184167684168,
          57.139677452177466,
          57.163207163207176,
          56.90438034188035,
          56.78736772486772,
          57.16129934879936,
          57.8760938135938,
          57.1320461945462,
          57.43538868538869,
          56.94762413512413,
          57.69993894993897,
          57.22171347171348,
          56.917735042735046,
          57.050646113146115,
          57.1072446072446,
          57.279583842083845,
          56.78418803418805,
          57.263685388685396,
          57.34890109890109,
          56.9088319088319,
          57.54031847781848,
          57.60391229141231,
          57.55558099308099,
          57.217897842897834,
          57.22743691493691,
          57.409315221815234,
          57.050010175010186,
          57.31010887260887,
          57.4970746845747,
          57.683404558404554,
          57.25986975986976,
          57.38832926332925,
          56.927274114774114,
          57.00994607244609,
          57.04301485551486,
          57.36797924297925,
          57.373066748066755,
          57.51678876678878,
          57.3787901912902,
          57.343177655677685,
          57.84556878306878,
          57.411858974358985,
          57.542226292226296,
          57.41631054131057,
          58.10821123321124,
          57.334910459910475,
          57.228708791208796,
          57.28912291412292,
          57.46654965404966,
          57.34317765567764,
          57.074811762311775,
          57.303749491249505,
          57.30120573870573,
          57.388329263329275,
          57.23570411070413,
          57.2542735042735,
          57.21281033781034,
          57.748270248270245,
          57.47481684981684,
          57.4690934065934,
          57.42775742775743,
          57.35335266585269,
          57.75272181522183,
          57.52314814814815,
          57.7272842897843,
          57.96894078144076,
          57.98865486365488,
          58.052248677248684,
          57.61981074481074,
          57.50152625152625,
          57.98865486365485,
          58.017272079772084,
          57.49135124135126,
          57.37179487179487,
          57.27640415140416,
          57.304385429385434,
          57.10724460724462,
          57.121235246235244,
          57.06400081400082,
          57.60391229141229,
          57.45446682946687,
          57.35144485144485,
          57.7291921041921,
          57.635709198209206,
          57.17338217338218,
          57.821403133903154,
          57.32600732600733,
          57.07290394790396,
          57.47757258173926,
          57.0455586080586,
          56.93108974358975,
          57.29866198616198,
          57.17719780219782,
          57.56766381766383,
          56.83951465201465,
          57.56957163207164,
          56.863680301180295,
          57.40677146927146,
          57.28212759462763,
          57.210902523402524,
          56.99404761904761,
          57.43475274725276,
          56.98450854700854,
          57.493894993895005,
          56.599765974765965,
          57.59691697191698,
          57.36352767602767,
          57.577838827838846,
          57.29675417175417,
          56.79309116809117,
          56.992775742775734,
          57.4271214896215,
          57.05255392755392,
          56.83124745624747,
          57.26940883190883,
          56.70215201465201,
          57.49707468457468,
          58.07323463573464,
          57.3037494912495,
          56.914555352055345,
          56.878306878306894,
          57.41949023199023,
          57.61981074481073,
          57.201363451363456,
          57.46336996336996,
          57.11233211233213,
          57.06272893772894,
          56.71995828245827,
          57.00994607244606,
          57.58229039479039,
          57.497710622710635,
          57.283399470899475,
          57.12632275132276,
          57.164479039479055,
          57.081171143671156,
          57.40104802604804,
          57.153032153032164,
          57.152396214896214,
          57.18928062678063,
          56.807081807081794,
          56.578780016280014,
          57.104700854700866,
          56.93744912494913,
          57.00167887667888,
          57.15875559625559,
          57.57465913715914,
          57.44238400488401,
          57.13776963776963,
          56.535536223036225,
          56.98578042328041,
          56.77782865282864,
          57.03093203093206,
          56.58959096459096,
          57.37942612942614,
          57.215354090354104,
          57.0137617012617,
          56.77274114774116,
          57.17274623524625,
          56.40453296703297,
          56.96479446479449,
          57.04746642246642,
          57.47290903540903,
          56.48656898656899,
          57.41694647944647,
          56.80072242572243,
          57.11487586487586,
          56.89865689865689,
          56.48529711029712,
          57.27131664631665,
          56.6633597883598,
          56.80326617826618,
          57.12823056573058,
          56.96352258852257,
          56.884030321530325,
          56.79245522995524,
          57.17274623524623,
          56.769561457061464,
          57.3489010989011,
          57.458918396418404,
          57.335546398046404,
          56.958435083435084,
          57.03538359788359,
          57.16129934879935,
          57.6541514041514,
          57.107880545380546,
          57.186736874236885,
          56.82361619861621,
          57.43220899470899,
          56.516458078958074,
          57.02775234025234,
          57.02966015466017,
          57.208994708994716,
          57.10279304029305,
          57.48181216931217,
          57.37052299552298,
          57.086894586894594,
          57.045558608058606,
          57.82140313390314,
          56.99786324786324,
          56.961614774114786,
          56.11899674399674,
          56.34984228734231,
          56.30469067969069,
          56.499923687423696,
          56.4401455026455,
          56.27988909238909,
          56.41407203907204,
          56.03632478632479,
          55.78703703703706,
          56.36637667887669,
          56.15333740333741,
          56.582595645095644,
          56.42297517297519,
          55.95110907610907,
          55.869073056573065,
          56.030601343101324,
          56.0967389092389,
          56.266534391534385,
          56.14379833129832,
          56.20548433048435,
          56.55779405779407,
          56.03568884818885,
          55.81819800569801,
          56.566697191697195,
          56.58068783068782,
          56.2722578347578,
          56.79245522995524,
          56.87894281644282,
          56.3682844932845,
          56.31105006105006,
          56.77274114774115,
          56.469398656898655,
          56.65890822140823,
          56.007707570207565,
          56.70469576719578,
          57.10660866910869,
          56.29387973137974,
          56.16859991859991,
          56.54316748066747,
          56.23537342287343,
          56.164784289784286,
          56.21883903133902,
          56.033781033781025,
          57.090074277574274,
          55.872252747252766,
          56.5018315018315,
          56.26526251526253,
          56.747939560439555,
          57.04555860805859,
          55.84363553113553,
          56.86431623931625,
          56.442689255189265,
          56.63919413919416,
          56.473850223850235,
          56.477665852665865,
          56.46494708994709,
          56.83569902319903,
          57.05255392755394,
          56.70533170533172,
          56.87449124949126,
          56.93490537240539,
          56.92282254782257,
          56.35238603988606,
          56.05095136345136,
          56.75620675620675,
          56.50755494505494,
          56.88848188848186,
          57.174018111518116,
          57.206450956450965,
          56.88085063085064,
          56.76828958078956,
          56.06303418803419,
          56.87830687830689,
          56.442053317053336,
          56.907560032560035,
          56.75429894179896,
          56.43378612128612,
          56.6449175824176,
          56.40071733821733,
          56.847781847781846,
          56.35747354497354,
          56.5050111925112,
          57.311380748880744,
          56.98514448514448,
          56.06812169312169,
          56.55079873829873,
          56.71550671550671,
          56.93999287749288,
          57.1218711843712,
          57.06590862840863,
          57.13013838013836,
          57.034747659747666,
          57.29548229548228,
          57.34063390313391,
          57.76989214489214,
          56.95525539275541,
          57.12759462759464,
          57.365435490435495,
          57.284035409035404,
          57.256054131054135,
          57.20835877085879,
          57.10152116402117,
          57.70566239316239,
          57.07417582417582,
          56.87385531135531,
          57.07926332926336,
          57.12632275132277,
          57.226165038665044,
          56.84905372405373,
          57.815043752543744,
          57.54159035409035,
          57.19627594627594,
          56.965430402930416,
          57.04619454619453,
          57.06209299959301,
          56.943172568172564,
          56.532992470492474,
          57.016941391941394,
          57.06654456654459,
          57.210266585266574,
          57.27258852258853,
          56.94253663003662,
          57.039835164835175,
          57.16129934879937,
          57.069088319088316,
          57.09706959706958,
          57.154939967439965,
          57.284035409035425,
          56.946988196988194,
          56.91773504273507,
          56.69452075702074,
          57.2420634920635,
          56.77337708587709,
          56.96415852665853,
          57.008038258038255,
          56.79372710622712,
          57.26750101750104,
          56.773377085877094,
          57.4188542938543,
          57.522512210012216,
          57.37306674806675,
          56.86113654863655,
          57.47036528286528,
          56.85986467236467,
          57.02393671143671,
          56.7237739112739,
          57.46782153032154,
          57.16447903947903,
          57.25160256410257,
          57.32155575905577,
          57.26432132682131,
          57.17465404965406,
          57.171474358974365,
          57.05700549450551,
          57.283399470899475,
          57.36352767602768,
          57.63952482702484,
          56.73840048840049,
          56.926002238502214,
          57.05509768009768,
          57.273860398860414,
          57.285307285307304,
          57.3609839234839,
          57.10851648351647,
          57.15048840048842,
          57.247786935286946,
          56.76828958078958,
          56.5266330891331,
          57.086258648758665,
          56.68625356125356,
          56.66145197395198,
          57.22234940984939,
          56.691977004477,
          57.31837606837609,
          56.849053724053725,
          56.7651098901099,
          56.96733821733822,
          56.76129426129426,
          56.78482397232397,
          57.08244301994302,
          57.37942612942613,
          56.831247456247446,
          57.212174399674375,
          57.39723239723239,
          57.120599308099294,
          57.31774013024012,
          57.175925925925924,
          56.759386446886445,
          56.712327024827026,
          57.048102360602364,
          56.74221611721612,
          57.0137617012617,
          57.036655474155474,
          57.023936711436704,
          56.98450854700854,
          56.6837098087098,
          56.60294566544567,
          57.08053520553519,
          57.06972425722426,
          56.75875050875052,
          56.85350529100529,
          56.87767094017094,
          56.7485754985755,
          56.843850593850604,
          56.839514652014635,
          57.369887057387075,
          57.7940577940578,
          56.74539580789582,
          57.08435083435083,
          57.196275946275954,
          56.65954415954416,
          57.62235449735451,
          56.689433251933245,
          56.61184879934879,
          57.43984025234025,
          56.92155067155068,
          57.069724257224244,
          57.098977411477414,
          56.75811457061457,
          56.5450752950753,
          56.87703500203502,
          56.61184879934879,
          56.5800518925519,
          56.89229751729753,
          56.8617724867725,
          56.878306878306894,
          57.388965201465204,
          56.68053011803014,
          57.32028388278388,
          56.89992877492878,
          56.89102564102564,
          56.80517399267401,
          57.08371489621489,
          57.02202889702888,
          57.07099613349613,
          57.18355718355719,
          56.85477716727717,
          56.92918192918193,
          57.29103072853073,
          57.17338217338217,
          57.023936711436725,
          57.31583231583233,
          56.30405474155476,
          56.847781847781825,
          56.87194749694751,
          57.24142755392756,
          56.95716320716323,
          57.39596052096055,
          57.42330586080586,
          57.36925111925114,
          56.87067562067563,
          57.45001526251528,
          57.22998066748067,
          57.16829466829466,
          57.08753052503053,
          57.427757427757435,
          57.435388685388695,
          57.22298534798534,
          56.788639601139614,
          56.81662087912087,
          56.722502035002044,
          57.011217948717956,
          57.10788054538056,
          57.35653235653235,
          57.1384055759056,
          56.97624135124138,
          57.36670736670737,
          57.48371998371999,
          57.59818884818887,
          57.066544566544565,
          56.63919413919413,
          57.15621184371184,
          57.30629324379325,
          57.0302960927961,
          56.99023199023199,
          57.22425722425722,
          56.71677859177861,
          57.31456043956044,
          57.34317765567767,
          57.02966015466016,
          57.30311355311357,
          56.808353683353694,
          57.23761192511193,
          56.882122507122496,
          57.072903947903946,
          57.081171143671156,
          57.45255901505902,
          57.7241045991046,
          57.447471509971486,
          57.14540089540091,
          57.0385632885633,
          57.881181318681335,
          57.311380748880744,
          58.0090048840049,
          57.694215506715516,
          56.979421041921064,
          58.05352055352054,
          57.46336996336998,
          57.50152625152626,
          57.1320461945462,
          57.434116809116794,
          57.354624542124554,
          57.16320716320715,
          57.22298534798534,
          57.92887667887667,
          57.3539886039886,
          57.575931013431024,
          57.284035409035425,
          57.139041514041544,
          57.49834656084656,
          57.36034798534797,
          57.39087301587302,
          57.19309625559626,
          57.311380748880765,
          57.385785510785524,
          57.11296805046805,
          57.247150997151,
          57.292938542938565,
          57.553673178673186,
          57.54286223036223,
          57.29929792429794,
          57.50279812779812,
          57.29802604802605,
          57.07226800976804,
          57.500890313390336,
          58.014092389092404,
          57.15621184371187,
          57.86337505087507,
          58.021087708587714,
          57.85510785510785,
          58.119658119658105,
          57.3469932844933,
          57.90534696784696,
          57.148580586080584,
          57.561940374440375,
          57.53332315832315,
          58.19469881969882,
          57.8055046805047,
          57.6522435897436,
          57.939687627187624,
          57.80168905168907,
          57.62426231176232,
          57.52314814814816,
          57.54286223036223,
          57.97530016280015,
          57.67640923890923,
          57.17592592592595,
          57.74699837199838,
          57.79787342287343,
          57.50597781847782,
          57.67386548636551,
          57.334910459910475,
          57.240155677655686,
          57.36925111925111,
          57.439840252340254,
          56.85350529100529,
          57.36479955229956,
          57.04365079365081,
          57.47736060236059,
          57.385785510785496,
          57.04301485551485,
          57.43856837606837,
          57.7622608872609,
          56.58323158323159,
          57.588649776149786,
          57.26495726495727,
          57.41821835571835,
          58.08849715099714,
          57.32855107855108,
          57.41949023199024,
          57.67513736263738,
          57.29675417175417,
          57.14094932844933,
          57.353988603988604,
          57.75908119658121,
          57.39278083028085,
          57.13141025641027,
          56.977513227513235,
          57.041742979243,
          57.713293650793645,
          57.58674196174198,
          57.764168701668716,
          57.70629833129834,
          57.9104344729345,
          57.97212047212048,
          57.8754578754579,
          57.4506512006512,
          57.65287952787953,
          57.60963573463574,
          57.5256919006919,
          57.77434371184372,
          57.70375457875456,
          58.01409238909238,
          57.41185897435898,
          57.57720288970288,
          57.46146214896216,
          57.733007733007724,
          57.82712657712656,
          58.02999084249084,
          57.633801383801405,
          58.54891636141637,
          57.91043447293447,
          57.35526048026048,
          58.01409238909241,
          57.53713878713881,
          58.11329873829874,
          58.105667480667485,
          57.94668294668296,
          57.603276353276364,
          57.88436100936104,
          58.01790801790801,
          58.16544566544568,
          58.152726902726926,
          58.32951770451771,
          58.332697395197364,
          58.06496743996744,
          58.055428367928364,
          58.180072242572244,
          58.04525335775338,
          58.17625661375663,
          58.0859533984534,
          58.58707264957266,
          58.58389295889295,
          58.53937728937729,
          58.44971001221003,
          58.566086691086674,
          58.08786121286122,
          58.355591168091166,
          58.18961131461131,
          58.01472832722833,
          57.96639702889703,
          58.51902726902727,
          58.153998778998755,
          58.29008954008955,
          58.31997863247864,
          58.24430199430202,
          58.28754578754579,
          58.020451770451764,
          58.195334757834765,
          57.907254782254775,
          58.088497150997135,
          57.95177045177045,
          58.37466931216931,
          57.922517297517295,
          58.181980056980045,
          58.38039275539277,
          58.15654253154255,
          58.50758038258039,
          58.127289377289365,
          58.410917785917796,
          58.247481684981686,
          58.53047415547416,
          58.22840354090355,
          58.55527574277574,
          57.92442511192511,
          58.59279609279611,
          58.02172364672367,
          57.78324684574684,
          58.00709706959707,
          58.38230056980058,
          58.54573667073666,
          58.50503663003662,
          58.48468660968661,
          58.57308201058199,
          58.12220187220188,
          58.2926332926333,
          58.30090048840051,
          57.83666564916567,
          58.510760073260066,
          58.45924908424909,
          58.22013634513636,
          58.53047415547417,
          58.355591168091166,
          58.08022995522996,
          58.531746031746046,
          58.358770858770846,
          58.2322191697192
         ],
         "yaxis": "y"
        }
       ],
       "layout": {
        "legend": {
         "tracegroupgap": 0
        },
        "template": {
         "data": {
          "bar": [
           {
            "error_x": {
             "color": "rgb(36,36,36)"
            },
            "error_y": {
             "color": "rgb(36,36,36)"
            },
            "marker": {
             "line": {
              "color": "white",
              "width": 0.5
             }
            },
            "type": "bar"
           }
          ],
          "barpolar": [
           {
            "marker": {
             "line": {
              "color": "white",
              "width": 0.5
             }
            },
            "type": "barpolar"
           }
          ],
          "carpet": [
           {
            "aaxis": {
             "endlinecolor": "rgb(36,36,36)",
             "gridcolor": "white",
             "linecolor": "white",
             "minorgridcolor": "white",
             "startlinecolor": "rgb(36,36,36)"
            },
            "baxis": {
             "endlinecolor": "rgb(36,36,36)",
             "gridcolor": "white",
             "linecolor": "white",
             "minorgridcolor": "white",
             "startlinecolor": "rgb(36,36,36)"
            },
            "type": "carpet"
           }
          ],
          "choropleth": [
           {
            "colorbar": {
             "outlinewidth": 1,
             "tickcolor": "rgb(36,36,36)",
             "ticks": "outside"
            },
            "type": "choropleth"
           }
          ],
          "contour": [
           {
            "colorbar": {
             "outlinewidth": 1,
             "tickcolor": "rgb(36,36,36)",
             "ticks": "outside"
            },
            "colorscale": [
             [
              0,
              "#440154"
             ],
             [
              0.1111111111111111,
              "#482878"
             ],
             [
              0.2222222222222222,
              "#3e4989"
             ],
             [
              0.3333333333333333,
              "#31688e"
             ],
             [
              0.4444444444444444,
              "#26828e"
             ],
             [
              0.5555555555555556,
              "#1f9e89"
             ],
             [
              0.6666666666666666,
              "#35b779"
             ],
             [
              0.7777777777777778,
              "#6ece58"
             ],
             [
              0.8888888888888888,
              "#b5de2b"
             ],
             [
              1,
              "#fde725"
             ]
            ],
            "type": "contour"
           }
          ],
          "contourcarpet": [
           {
            "colorbar": {
             "outlinewidth": 1,
             "tickcolor": "rgb(36,36,36)",
             "ticks": "outside"
            },
            "type": "contourcarpet"
           }
          ],
          "heatmap": [
           {
            "colorbar": {
             "outlinewidth": 1,
             "tickcolor": "rgb(36,36,36)",
             "ticks": "outside"
            },
            "colorscale": [
             [
              0,
              "#440154"
             ],
             [
              0.1111111111111111,
              "#482878"
             ],
             [
              0.2222222222222222,
              "#3e4989"
             ],
             [
              0.3333333333333333,
              "#31688e"
             ],
             [
              0.4444444444444444,
              "#26828e"
             ],
             [
              0.5555555555555556,
              "#1f9e89"
             ],
             [
              0.6666666666666666,
              "#35b779"
             ],
             [
              0.7777777777777778,
              "#6ece58"
             ],
             [
              0.8888888888888888,
              "#b5de2b"
             ],
             [
              1,
              "#fde725"
             ]
            ],
            "type": "heatmap"
           }
          ],
          "heatmapgl": [
           {
            "colorbar": {
             "outlinewidth": 1,
             "tickcolor": "rgb(36,36,36)",
             "ticks": "outside"
            },
            "colorscale": [
             [
              0,
              "#440154"
             ],
             [
              0.1111111111111111,
              "#482878"
             ],
             [
              0.2222222222222222,
              "#3e4989"
             ],
             [
              0.3333333333333333,
              "#31688e"
             ],
             [
              0.4444444444444444,
              "#26828e"
             ],
             [
              0.5555555555555556,
              "#1f9e89"
             ],
             [
              0.6666666666666666,
              "#35b779"
             ],
             [
              0.7777777777777778,
              "#6ece58"
             ],
             [
              0.8888888888888888,
              "#b5de2b"
             ],
             [
              1,
              "#fde725"
             ]
            ],
            "type": "heatmapgl"
           }
          ],
          "histogram": [
           {
            "marker": {
             "line": {
              "color": "white",
              "width": 0.6
             }
            },
            "type": "histogram"
           }
          ],
          "histogram2d": [
           {
            "colorbar": {
             "outlinewidth": 1,
             "tickcolor": "rgb(36,36,36)",
             "ticks": "outside"
            },
            "colorscale": [
             [
              0,
              "#440154"
             ],
             [
              0.1111111111111111,
              "#482878"
             ],
             [
              0.2222222222222222,
              "#3e4989"
             ],
             [
              0.3333333333333333,
              "#31688e"
             ],
             [
              0.4444444444444444,
              "#26828e"
             ],
             [
              0.5555555555555556,
              "#1f9e89"
             ],
             [
              0.6666666666666666,
              "#35b779"
             ],
             [
              0.7777777777777778,
              "#6ece58"
             ],
             [
              0.8888888888888888,
              "#b5de2b"
             ],
             [
              1,
              "#fde725"
             ]
            ],
            "type": "histogram2d"
           }
          ],
          "histogram2dcontour": [
           {
            "colorbar": {
             "outlinewidth": 1,
             "tickcolor": "rgb(36,36,36)",
             "ticks": "outside"
            },
            "colorscale": [
             [
              0,
              "#440154"
             ],
             [
              0.1111111111111111,
              "#482878"
             ],
             [
              0.2222222222222222,
              "#3e4989"
             ],
             [
              0.3333333333333333,
              "#31688e"
             ],
             [
              0.4444444444444444,
              "#26828e"
             ],
             [
              0.5555555555555556,
              "#1f9e89"
             ],
             [
              0.6666666666666666,
              "#35b779"
             ],
             [
              0.7777777777777778,
              "#6ece58"
             ],
             [
              0.8888888888888888,
              "#b5de2b"
             ],
             [
              1,
              "#fde725"
             ]
            ],
            "type": "histogram2dcontour"
           }
          ],
          "mesh3d": [
           {
            "colorbar": {
             "outlinewidth": 1,
             "tickcolor": "rgb(36,36,36)",
             "ticks": "outside"
            },
            "type": "mesh3d"
           }
          ],
          "parcoords": [
           {
            "line": {
             "colorbar": {
              "outlinewidth": 1,
              "tickcolor": "rgb(36,36,36)",
              "ticks": "outside"
             }
            },
            "type": "parcoords"
           }
          ],
          "pie": [
           {
            "automargin": true,
            "type": "pie"
           }
          ],
          "scatter": [
           {
            "marker": {
             "colorbar": {
              "outlinewidth": 1,
              "tickcolor": "rgb(36,36,36)",
              "ticks": "outside"
             }
            },
            "type": "scatter"
           }
          ],
          "scatter3d": [
           {
            "line": {
             "colorbar": {
              "outlinewidth": 1,
              "tickcolor": "rgb(36,36,36)",
              "ticks": "outside"
             }
            },
            "marker": {
             "colorbar": {
              "outlinewidth": 1,
              "tickcolor": "rgb(36,36,36)",
              "ticks": "outside"
             }
            },
            "type": "scatter3d"
           }
          ],
          "scattercarpet": [
           {
            "marker": {
             "colorbar": {
              "outlinewidth": 1,
              "tickcolor": "rgb(36,36,36)",
              "ticks": "outside"
             }
            },
            "type": "scattercarpet"
           }
          ],
          "scattergeo": [
           {
            "marker": {
             "colorbar": {
              "outlinewidth": 1,
              "tickcolor": "rgb(36,36,36)",
              "ticks": "outside"
             }
            },
            "type": "scattergeo"
           }
          ],
          "scattergl": [
           {
            "marker": {
             "colorbar": {
              "outlinewidth": 1,
              "tickcolor": "rgb(36,36,36)",
              "ticks": "outside"
             }
            },
            "type": "scattergl"
           }
          ],
          "scattermapbox": [
           {
            "marker": {
             "colorbar": {
              "outlinewidth": 1,
              "tickcolor": "rgb(36,36,36)",
              "ticks": "outside"
             }
            },
            "type": "scattermapbox"
           }
          ],
          "scatterpolar": [
           {
            "marker": {
             "colorbar": {
              "outlinewidth": 1,
              "tickcolor": "rgb(36,36,36)",
              "ticks": "outside"
             }
            },
            "type": "scatterpolar"
           }
          ],
          "scatterpolargl": [
           {
            "marker": {
             "colorbar": {
              "outlinewidth": 1,
              "tickcolor": "rgb(36,36,36)",
              "ticks": "outside"
             }
            },
            "type": "scatterpolargl"
           }
          ],
          "scatterternary": [
           {
            "marker": {
             "colorbar": {
              "outlinewidth": 1,
              "tickcolor": "rgb(36,36,36)",
              "ticks": "outside"
             }
            },
            "type": "scatterternary"
           }
          ],
          "surface": [
           {
            "colorbar": {
             "outlinewidth": 1,
             "tickcolor": "rgb(36,36,36)",
             "ticks": "outside"
            },
            "colorscale": [
             [
              0,
              "#440154"
             ],
             [
              0.1111111111111111,
              "#482878"
             ],
             [
              0.2222222222222222,
              "#3e4989"
             ],
             [
              0.3333333333333333,
              "#31688e"
             ],
             [
              0.4444444444444444,
              "#26828e"
             ],
             [
              0.5555555555555556,
              "#1f9e89"
             ],
             [
              0.6666666666666666,
              "#35b779"
             ],
             [
              0.7777777777777778,
              "#6ece58"
             ],
             [
              0.8888888888888888,
              "#b5de2b"
             ],
             [
              1,
              "#fde725"
             ]
            ],
            "type": "surface"
           }
          ],
          "table": [
           {
            "cells": {
             "fill": {
              "color": "rgb(237,237,237)"
             },
             "line": {
              "color": "white"
             }
            },
            "header": {
             "fill": {
              "color": "rgb(217,217,217)"
             },
             "line": {
              "color": "white"
             }
            },
            "type": "table"
           }
          ]
         },
         "layout": {
          "annotationdefaults": {
           "arrowhead": 0,
           "arrowwidth": 1
          },
          "coloraxis": {
           "colorbar": {
            "outlinewidth": 1,
            "tickcolor": "rgb(36,36,36)",
            "ticks": "outside"
           }
          },
          "colorscale": {
           "diverging": [
            [
             0,
             "rgb(103,0,31)"
            ],
            [
             0.1,
             "rgb(178,24,43)"
            ],
            [
             0.2,
             "rgb(214,96,77)"
            ],
            [
             0.3,
             "rgb(244,165,130)"
            ],
            [
             0.4,
             "rgb(253,219,199)"
            ],
            [
             0.5,
             "rgb(247,247,247)"
            ],
            [
             0.6,
             "rgb(209,229,240)"
            ],
            [
             0.7,
             "rgb(146,197,222)"
            ],
            [
             0.8,
             "rgb(67,147,195)"
            ],
            [
             0.9,
             "rgb(33,102,172)"
            ],
            [
             1,
             "rgb(5,48,97)"
            ]
           ],
           "sequential": [
            [
             0,
             "#440154"
            ],
            [
             0.1111111111111111,
             "#482878"
            ],
            [
             0.2222222222222222,
             "#3e4989"
            ],
            [
             0.3333333333333333,
             "#31688e"
            ],
            [
             0.4444444444444444,
             "#26828e"
            ],
            [
             0.5555555555555556,
             "#1f9e89"
            ],
            [
             0.6666666666666666,
             "#35b779"
            ],
            [
             0.7777777777777778,
             "#6ece58"
            ],
            [
             0.8888888888888888,
             "#b5de2b"
            ],
            [
             1,
             "#fde725"
            ]
           ],
           "sequentialminus": [
            [
             0,
             "#440154"
            ],
            [
             0.1111111111111111,
             "#482878"
            ],
            [
             0.2222222222222222,
             "#3e4989"
            ],
            [
             0.3333333333333333,
             "#31688e"
            ],
            [
             0.4444444444444444,
             "#26828e"
            ],
            [
             0.5555555555555556,
             "#1f9e89"
            ],
            [
             0.6666666666666666,
             "#35b779"
            ],
            [
             0.7777777777777778,
             "#6ece58"
            ],
            [
             0.8888888888888888,
             "#b5de2b"
            ],
            [
             1,
             "#fde725"
            ]
           ]
          },
          "colorway": [
           "#1F77B4",
           "#FF7F0E",
           "#2CA02C",
           "#D62728",
           "#9467BD",
           "#8C564B",
           "#E377C2",
           "#7F7F7F",
           "#BCBD22",
           "#17BECF"
          ],
          "font": {
           "color": "rgb(36,36,36)"
          },
          "geo": {
           "bgcolor": "white",
           "lakecolor": "white",
           "landcolor": "white",
           "showlakes": true,
           "showland": true,
           "subunitcolor": "white"
          },
          "hoverlabel": {
           "align": "left"
          },
          "hovermode": "closest",
          "mapbox": {
           "style": "light"
          },
          "paper_bgcolor": "white",
          "plot_bgcolor": "white",
          "polar": {
           "angularaxis": {
            "gridcolor": "rgb(232,232,232)",
            "linecolor": "rgb(36,36,36)",
            "showgrid": false,
            "showline": true,
            "ticks": "outside"
           },
           "bgcolor": "white",
           "radialaxis": {
            "gridcolor": "rgb(232,232,232)",
            "linecolor": "rgb(36,36,36)",
            "showgrid": false,
            "showline": true,
            "ticks": "outside"
           }
          },
          "scene": {
           "xaxis": {
            "backgroundcolor": "white",
            "gridcolor": "rgb(232,232,232)",
            "gridwidth": 2,
            "linecolor": "rgb(36,36,36)",
            "showbackground": true,
            "showgrid": false,
            "showline": true,
            "ticks": "outside",
            "zeroline": false,
            "zerolinecolor": "rgb(36,36,36)"
           },
           "yaxis": {
            "backgroundcolor": "white",
            "gridcolor": "rgb(232,232,232)",
            "gridwidth": 2,
            "linecolor": "rgb(36,36,36)",
            "showbackground": true,
            "showgrid": false,
            "showline": true,
            "ticks": "outside",
            "zeroline": false,
            "zerolinecolor": "rgb(36,36,36)"
           },
           "zaxis": {
            "backgroundcolor": "white",
            "gridcolor": "rgb(232,232,232)",
            "gridwidth": 2,
            "linecolor": "rgb(36,36,36)",
            "showbackground": true,
            "showgrid": false,
            "showline": true,
            "ticks": "outside",
            "zeroline": false,
            "zerolinecolor": "rgb(36,36,36)"
           }
          },
          "shapedefaults": {
           "fillcolor": "black",
           "line": {
            "width": 0
           },
           "opacity": 0.3
          },
          "ternary": {
           "aaxis": {
            "gridcolor": "rgb(232,232,232)",
            "linecolor": "rgb(36,36,36)",
            "showgrid": false,
            "showline": true,
            "ticks": "outside"
           },
           "baxis": {
            "gridcolor": "rgb(232,232,232)",
            "linecolor": "rgb(36,36,36)",
            "showgrid": false,
            "showline": true,
            "ticks": "outside"
           },
           "bgcolor": "white",
           "caxis": {
            "gridcolor": "rgb(232,232,232)",
            "linecolor": "rgb(36,36,36)",
            "showgrid": false,
            "showline": true,
            "ticks": "outside"
           }
          },
          "title": {
           "x": 0.05
          },
          "xaxis": {
           "automargin": true,
           "gridcolor": "rgb(232,232,232)",
           "linecolor": "rgb(36,36,36)",
           "showgrid": false,
           "showline": true,
           "ticks": "outside",
           "title": {
            "standoff": 15
           },
           "zeroline": false,
           "zerolinecolor": "rgb(36,36,36)"
          },
          "yaxis": {
           "automargin": true,
           "gridcolor": "rgb(232,232,232)",
           "linecolor": "rgb(36,36,36)",
           "showgrid": false,
           "showline": true,
           "ticks": "outside",
           "title": {
            "standoff": 15
           },
           "zeroline": false,
           "zerolinecolor": "rgb(36,36,36)"
          }
         }
        },
        "title": {
         "text": "OutletPressure g-pump-5 for all weeks "
        },
        "xaxis": {
         "anchor": "y",
         "domain": [
          0,
          1
         ],
         "title": {
          "text": "week"
         },
         "type": "category"
        },
        "yaxis": {
         "anchor": "x",
         "domain": [
          0,
          1
         ],
         "title": {
          "text": "feature_value"
         }
        }
       }
      },
      "text/html": [
       "<div>\n",
       "        \n",
       "        \n",
       "            <div id=\"1645769c-cf69-4dbb-aefe-f240d5c3b586\" class=\"plotly-graph-div\" style=\"height:525px; width:100%;\"></div>\n",
       "            <script type=\"text/javascript\">\n",
       "                require([\"plotly\"], function(Plotly) {\n",
       "                    window.PLOTLYENV=window.PLOTLYENV || {};\n",
       "                    \n",
       "                if (document.getElementById(\"1645769c-cf69-4dbb-aefe-f240d5c3b586\")) {\n",
       "                    Plotly.newPlot(\n",
       "                        '1645769c-cf69-4dbb-aefe-f240d5c3b586',\n",
       "                        [{\"hoverlabel\": {\"namelength\": 0}, \"hovertemplate\": \"week=%{x}<br>feature_value=%{y}\", \"legendgroup\": \"\", \"marker\": {\"color\": \"#1F77B4\", \"symbol\": \"circle\"}, \"mode\": \"markers\", \"name\": \"\", \"showlegend\": false, \"type\": \"scatter\", \"x\": [47, 47, 47, 47, 47, 47, 47, 47, 47, 47, 47, 47, 47, 47, 47, 47, 47, 47, 47, 47, 47, 47, 47, 47, 47, 47, 47, 47, 47, 47, 47, 47, 47, 47, 47, 47, 47, 47, 47, 47, 47, 47, 47, 47, 47, 47, 47, 47, 47, 47, 47, 47, 47, 47, 47, 47, 47, 47, 47, 47, 47, 47, 47, 47, 47, 47, 47, 47, 47, 47, 47, 47, 47, 47, 47, 47, 47, 47, 47, 47, 47, 47, 47, 47, 47, 47, 47, 47, 47, 47, 47, 47, 47, 47, 47, 47, 47, 47, 47, 47, 47, 47, 47, 47, 47, 47, 47, 48, 48, 48, 48, 48, 48, 48, 48, 48, 48, 48, 48, 48, 48, 48, 48, 48, 48, 48, 48, 48, 48, 48, 48, 48, 48, 48, 48, 48, 48, 48, 48, 48, 48, 48, 48, 48, 48, 48, 48, 48, 48, 48, 48, 48, 48, 48, 48, 48, 48, 48, 48, 48, 48, 48, 48, 48, 48, 48, 48, 48, 48, 48, 48, 48, 48, 48, 48, 48, 48, 48, 48, 48, 48, 48, 48, 48, 48, 48, 48, 48, 48, 48, 48, 48, 48, 48, 48, 48, 48, 48, 48, 48, 48, 48, 48, 48, 48, 48, 48, 48, 48, 48, 48, 48, 48, 48, 48, 48, 48, 48, 48, 48, 48, 48, 48, 48, 48, 48, 48, 48, 48, 48, 48, 48, 48, 48, 48, 48, 48, 48, 48, 48, 48, 48, 48, 48, 48, 48, 48, 48, 48, 48, 48, 48, 48, 48, 48, 48, 48, 48, 48, 48, 48, 48, 48, 48, 48, 48, 48, 48, 48, 48, 48, 48, 48, 49, 49, 49, 49, 49, 49, 49, 49, 49, 49, 49, 49, 49, 49, 49, 49, 49, 49, 49, 49, 49, 49, 49, 49, 49, 49, 49, 49, 50, 50, 50, 50, 50, 50, 50, 50, 50, 50, 50, 50, 50, 50, 50, 50, 50, 50, 50, 50, 50, 50, 50, 50, 50, 50, 50, 50, 50, 50, 50, 50, 50, 50, 50, 50, 50, 50, 50, 50, 50, 50, 50, 50, 50, 50, 50, 50, 50, 50, 50, 50, 50, 50, 50, 50, 50, 50, 50, 50, 50, 50, 50, 50, 50, 50, 50, 50, 50, 50, 50, 50, 51, 51, 51, 51, 51, 51, 51, 51, 51, 51, 51, 51, 51, 51, 51, 51, 51, 51, 51, 51, 51, 51, 51, 51, 51, 51, 51, 51, 51, 51, 51, 51, 51, 51, 51, 51, 51, 51, 51, 51, 51, 51, 51, 51, 51, 51, 51, 51, 51, 51, 51, 51, 51, 51, 51, 51, 51, 51, 51, 51, 51, 51, 51, 51, 51, 51, 51, 51, 51, 51, 51, 51, 51, 51, 51, 51, 51, 51, 51, 51, 51, 51, 51, 51, 51, 51, 51, 51, 51, 51, 51, 51, 51, 51, 51, 51, 51, 51, 51, 51, 51, 51, 51, 51, 51, 51, 51, 51, 51, 51, 51, 51, 51, 51, 51, 51, 51, 51, 51, 51, 51, 51, 51, 51, 51, 51, 51, 51, 51, 51, 51, 51, 51, 51, 51, 51, 51, 51, 51, 51, 51, 51, 51, 51, 51, 51, 51, 51, 51, 51, 51, 51, 51, 51, 51, 51, 51, 51, 51, 51, 51, 51, 51, 51, 52, 52, 52, 52, 52, 52, 52, 52, 52, 52, 52, 52, 52, 52, 52, 52, 52, 52, 52, 52, 52, 52, 52, 52, 52, 52, 52, 52, 52, 52, 52, 52, 52, 52, 52, 52, 52, 52, 52, 52, 52, 52, 52, 52, 52, 52, 52, 52, 52, 52, 52, 52, 52, 52, 52, 52, 52, 52, 52, 52, 52, 52, 52, 52, 52, 52, 52, 52, 52, 52, 52, 52, 52, 52, 52, 52, 52, 52, 52, 52, 52, 52, 52, 52, 52, 52, 52, 52, 52, 52, 52, 52, 52, 52, 52, 52, 52, 52, 52, 52, 52, 52, 52, 52, 52, 52, 52, 52, 52, 52, 52, 52, 52, 52, 52, 52, 52, 52, 52, 52, 52, 52, 52, 52, 52, 52, 52, 52, 52, 52, 52, 52, 52, 52, 52, 52, 52, 52, 52, 52, 52, 52, 52, 52, 52, 52, 52, 52, 52, 52, 52, 52, 52, 52, 52, 52, 52, 52, 52, 52, 52, 52, 52, 52, 52, 52, 52, 52, 1, 1, 1, 1, 1, 1, 1, 1, 1, 1, 1, 1, 1, 1, 1, 1, 1, 1, 1, 1, 1, 1, 1, 1, 1, 1, 1, 1, 1, 1, 1, 1, 1, 1, 1, 1, 1, 1, 1, 1, 1, 1, 1, 1, 1, 1, 1, 1, 1, 1, 1, 1, 1, 1, 1, 1, 1, 1, 1, 1, 1, 1, 1, 1, 1, 1, 1, 1, 1, 1, 1, 1, 1, 1, 1, 1, 1, 1, 1, 1, 1, 1, 1, 1, 1, 1, 1, 1, 1, 1, 1, 1, 1, 1, 1, 1, 1, 1, 1, 1, 1, 1, 1, 1, 1, 1, 1, 1, 1, 1, 1, 1, 1, 1, 1, 1, 1, 1, 1, 1, 1, 1, 1, 1, 1, 1, 1, 1, 1, 1, 1, 1, 1, 1, 1, 1, 1, 1, 1, 1, 1, 1, 1, 1, 1, 1, 1, 1, 1, 1, 1, 1, 1, 1, 1, 1, 1, 1, 2, 2, 2, 2, 2, 2, 2, 2], \"xaxis\": \"x\", \"y\": [56.76128118306392, 55.748765678922396, 57.38864723239723, 56.37718762718763, 56.33775946275946, 56.36701261701263, 56.8503256003256, 56.75493487993489, 56.166056166056165, 56.68498168498169, 56.522644022644045, 57.18737281237282, 57.18482905982907, 56.794998982498974, 57.57338726088727, 56.95143976393977, 57.14285714285717, 57.163207163207176, 56.832519332519325, 56.57432844932845, 56.55842999593, 57.351656830823494, 57.02976614434948, 56.888481888481884, 56.31868131868132, 56.882758445258446, 56.16542022792024, 56.349206349206355, 56.69706450956449, 56.76256613756613, 56.78863960113961, 56.73204110704112, 56.55652218152218, 56.47130647130646, 56.63156288156288, 57.177833740333746, 56.205484330484325, 56.91709910459911, 56.562245624745636, 56.474486161986164, 56.38291107041107, 56.20548433048433, 56.52599715099716, 56.08465608465608, 56.661451973951976, 56.896113146113144, 56.39181420431421, 56.58577533577534, 56.70660358160359, 56.63665038665038, 56.70914733414734, 56.35683760683761, 56.47448616198617, 56.00516381766382, 56.25, 56.44141737891738, 56.646825396825385, 56.51900183150181, 56.37019230769229, 56.51836589336589, 56.298967236467234, 56.330764143264155, 56.29133597883598, 56.90628815628816, 56.401353276353284, 56.13743894993894, 56.67162698412698, 56.88530219780221, 56.25127187627189, 56.50819088319088, 56.57496438746441, 57.141585266585274, 56.8954772079772, 56.75747863247863, 55.88433557183557, 56.454136141636134, 56.742216117216124, 56.268442205942215, 56.365740740740755, 56.136803011803, 56.80072242572243, 56.88403032153034, 56.46049552299553, 56.339031339031344, 56.27416564916566, 56.551434676434674, 56.85795685795685, 56.76129426129427, 56.94444444444445, 56.32313288563288, 56.47575803825804, 56.667811355311336, 56.42869861619861, 56.45667989417988, 56.8350630850631, 57.051917989418, 56.90819597069599, 56.67226292226292, 57.05255392755394, 56.749847374847356, 56.26907814407815, 56.62329568579569, 56.61630036630038, 56.886574074074076, 56.2213827838828, 57.23761192511193, 56.8967490842491, 56.57051282051282, 56.587683150183146, 56.93172568172571, 56.94444444444446, 57.56066849816849, 56.85604904354906, 57.45446682946682, 57.312016687016694, 57.03792735042737, 56.73522079772081, 57.10215710215709, 57.2585978835979, 57.03411172161174, 57.587377899877914, 56.88085063085063, 57.831578144078144, 57.93841575091576, 57.87227818477819, 58.18325193325194, 57.46273402523403, 56.99150386650387, 57.47227309727308, 57.50534188034189, 57.42266992266993, 57.800417175417174, 58.12792531542531, 57.3775183150183, 57.5772028897029, 58.109483109483115, 57.4506512006512, 57.615359177859176, 57.53077940577942, 56.988324175824175, 57.17147435897436, 57.24651505901505, 57.53586691086692, 57.27068070818071, 57.37879019129019, 57.08435083435083, 57.73046398046398, 57.80677655677656, 57.71647334147335, 57.40295584045583, 57.4786324786325, 57.345721408221415, 57.546041921041905, 57.52124033374033, 57.31265262515262, 57.327915140415165, 57.92506105006106, 57.83539377289376, 57.77943121693121, 57.900895400895415, 57.16193528693528, 57.79342185592187, 57.59564509564509, 57.57465913715913, 56.94444444444445, 57.48117623117624, 57.385785510785524, 57.4105870980871, 57.671957671957664, 57.529507529507526, 57.36734330484328, 57.477996540496555, 57.685312372812355, 56.898656898656895, 56.27798127798129, 57.54349816849816, 57.24460724460724, 57.62044668294669, 57.66941391941393, 57.71329365079365, 58.085317460317476, 57.54858567358567, 57.70884208384208, 57.25287444037445, 57.079263329263334, 57.62553418803417, 57.4856277981278, 56.817256817256826, 57.59437321937322, 57.70693426943428, 57.23188848188846, 57.32537138787139, 57.46273402523405, 57.24651505901508, 57.30184167684168, 57.139677452177466, 57.163207163207176, 56.90438034188035, 56.78736772486772, 57.16129934879936, 57.8760938135938, 57.1320461945462, 57.43538868538869, 56.94762413512413, 57.69993894993897, 57.22171347171348, 56.917735042735046, 57.050646113146115, 57.1072446072446, 57.279583842083845, 56.78418803418805, 57.263685388685396, 57.34890109890109, 56.9088319088319, 57.54031847781848, 57.60391229141231, 57.55558099308099, 57.217897842897834, 57.22743691493691, 57.409315221815234, 57.050010175010186, 57.31010887260887, 57.4970746845747, 57.683404558404554, 57.25986975986976, 57.38832926332925, 56.927274114774114, 57.00994607244609, 57.04301485551486, 57.36797924297925, 57.373066748066755, 57.51678876678878, 57.3787901912902, 57.343177655677685, 57.84556878306878, 57.411858974358985, 57.542226292226296, 57.41631054131057, 58.10821123321124, 57.334910459910475, 57.228708791208796, 57.28912291412292, 57.46654965404966, 57.34317765567764, 57.074811762311775, 57.303749491249505, 57.30120573870573, 57.388329263329275, 57.23570411070413, 57.2542735042735, 57.21281033781034, 57.748270248270245, 57.47481684981684, 57.4690934065934, 57.42775742775743, 57.35335266585269, 57.75272181522183, 57.52314814814815, 57.7272842897843, 57.96894078144076, 57.98865486365488, 58.052248677248684, 57.61981074481074, 57.50152625152625, 57.98865486365485, 58.017272079772084, 57.49135124135126, 57.37179487179487, 57.27640415140416, 57.304385429385434, 57.10724460724462, 57.121235246235244, 57.06400081400082, 57.60391229141229, 57.45446682946687, 57.35144485144485, 57.7291921041921, 57.635709198209206, 57.17338217338218, 57.821403133903154, 57.32600732600733, 57.07290394790396, 57.47757258173926, 57.0455586080586, 56.93108974358975, 57.29866198616198, 57.17719780219782, 57.56766381766383, 56.83951465201465, 57.56957163207164, 56.863680301180295, 57.40677146927146, 57.28212759462763, 57.210902523402524, 56.99404761904761, 57.43475274725276, 56.98450854700854, 57.493894993895005, 56.599765974765965, 57.59691697191698, 57.36352767602767, 57.577838827838846, 57.29675417175417, 56.79309116809117, 56.992775742775734, 57.4271214896215, 57.05255392755392, 56.83124745624747, 57.26940883190883, 56.70215201465201, 57.49707468457468, 58.07323463573464, 57.3037494912495, 56.914555352055345, 56.878306878306894, 57.41949023199023, 57.61981074481073, 57.201363451363456, 57.46336996336996, 57.11233211233213, 57.06272893772894, 56.71995828245827, 57.00994607244606, 57.58229039479039, 57.497710622710635, 57.283399470899475, 57.12632275132276, 57.164479039479055, 57.081171143671156, 57.40104802604804, 57.153032153032164, 57.152396214896214, 57.18928062678063, 56.807081807081794, 56.578780016280014, 57.104700854700866, 56.93744912494913, 57.00167887667888, 57.15875559625559, 57.57465913715914, 57.44238400488401, 57.13776963776963, 56.535536223036225, 56.98578042328041, 56.77782865282864, 57.03093203093206, 56.58959096459096, 57.37942612942614, 57.215354090354104, 57.0137617012617, 56.77274114774116, 57.17274623524625, 56.40453296703297, 56.96479446479449, 57.04746642246642, 57.47290903540903, 56.48656898656899, 57.41694647944647, 56.80072242572243, 57.11487586487586, 56.89865689865689, 56.48529711029712, 57.27131664631665, 56.6633597883598, 56.80326617826618, 57.12823056573058, 56.96352258852257, 56.884030321530325, 56.79245522995524, 57.17274623524623, 56.769561457061464, 57.3489010989011, 57.458918396418404, 57.335546398046404, 56.958435083435084, 57.03538359788359, 57.16129934879935, 57.6541514041514, 57.107880545380546, 57.186736874236885, 56.82361619861621, 57.43220899470899, 56.516458078958074, 57.02775234025234, 57.02966015466017, 57.208994708994716, 57.10279304029305, 57.48181216931217, 57.37052299552298, 57.086894586894594, 57.045558608058606, 57.82140313390314, 56.99786324786324, 56.961614774114786, 56.11899674399674, 56.34984228734231, 56.30469067969069, 56.499923687423696, 56.4401455026455, 56.27988909238909, 56.41407203907204, 56.03632478632479, 55.78703703703706, 56.36637667887669, 56.15333740333741, 56.582595645095644, 56.42297517297519, 55.95110907610907, 55.869073056573065, 56.030601343101324, 56.0967389092389, 56.266534391534385, 56.14379833129832, 56.20548433048435, 56.55779405779407, 56.03568884818885, 55.81819800569801, 56.566697191697195, 56.58068783068782, 56.2722578347578, 56.79245522995524, 56.87894281644282, 56.3682844932845, 56.31105006105006, 56.77274114774115, 56.469398656898655, 56.65890822140823, 56.007707570207565, 56.70469576719578, 57.10660866910869, 56.29387973137974, 56.16859991859991, 56.54316748066747, 56.23537342287343, 56.164784289784286, 56.21883903133902, 56.033781033781025, 57.090074277574274, 55.872252747252766, 56.5018315018315, 56.26526251526253, 56.747939560439555, 57.04555860805859, 55.84363553113553, 56.86431623931625, 56.442689255189265, 56.63919413919416, 56.473850223850235, 56.477665852665865, 56.46494708994709, 56.83569902319903, 57.05255392755394, 56.70533170533172, 56.87449124949126, 56.93490537240539, 56.92282254782257, 56.35238603988606, 56.05095136345136, 56.75620675620675, 56.50755494505494, 56.88848188848186, 57.174018111518116, 57.206450956450965, 56.88085063085064, 56.76828958078956, 56.06303418803419, 56.87830687830689, 56.442053317053336, 56.907560032560035, 56.75429894179896, 56.43378612128612, 56.6449175824176, 56.40071733821733, 56.847781847781846, 56.35747354497354, 56.5050111925112, 57.311380748880744, 56.98514448514448, 56.06812169312169, 56.55079873829873, 56.71550671550671, 56.93999287749288, 57.1218711843712, 57.06590862840863, 57.13013838013836, 57.034747659747666, 57.29548229548228, 57.34063390313391, 57.76989214489214, 56.95525539275541, 57.12759462759464, 57.365435490435495, 57.284035409035404, 57.256054131054135, 57.20835877085879, 57.10152116402117, 57.70566239316239, 57.07417582417582, 56.87385531135531, 57.07926332926336, 57.12632275132277, 57.226165038665044, 56.84905372405373, 57.815043752543744, 57.54159035409035, 57.19627594627594, 56.965430402930416, 57.04619454619453, 57.06209299959301, 56.943172568172564, 56.532992470492474, 57.016941391941394, 57.06654456654459, 57.210266585266574, 57.27258852258853, 56.94253663003662, 57.039835164835175, 57.16129934879937, 57.069088319088316, 57.09706959706958, 57.154939967439965, 57.284035409035425, 56.946988196988194, 56.91773504273507, 56.69452075702074, 57.2420634920635, 56.77337708587709, 56.96415852665853, 57.008038258038255, 56.79372710622712, 57.26750101750104, 56.773377085877094, 57.4188542938543, 57.522512210012216, 57.37306674806675, 56.86113654863655, 57.47036528286528, 56.85986467236467, 57.02393671143671, 56.7237739112739, 57.46782153032154, 57.16447903947903, 57.25160256410257, 57.32155575905577, 57.26432132682131, 57.17465404965406, 57.171474358974365, 57.05700549450551, 57.283399470899475, 57.36352767602768, 57.63952482702484, 56.73840048840049, 56.926002238502214, 57.05509768009768, 57.273860398860414, 57.285307285307304, 57.3609839234839, 57.10851648351647, 57.15048840048842, 57.247786935286946, 56.76828958078958, 56.5266330891331, 57.086258648758665, 56.68625356125356, 56.66145197395198, 57.22234940984939, 56.691977004477, 57.31837606837609, 56.849053724053725, 56.7651098901099, 56.96733821733822, 56.76129426129426, 56.78482397232397, 57.08244301994302, 57.37942612942613, 56.831247456247446, 57.212174399674375, 57.39723239723239, 57.120599308099294, 57.31774013024012, 57.175925925925924, 56.759386446886445, 56.712327024827026, 57.048102360602364, 56.74221611721612, 57.0137617012617, 57.036655474155474, 57.023936711436704, 56.98450854700854, 56.6837098087098, 56.60294566544567, 57.08053520553519, 57.06972425722426, 56.75875050875052, 56.85350529100529, 56.87767094017094, 56.7485754985755, 56.843850593850604, 56.839514652014635, 57.369887057387075, 57.7940577940578, 56.74539580789582, 57.08435083435083, 57.196275946275954, 56.65954415954416, 57.62235449735451, 56.689433251933245, 56.61184879934879, 57.43984025234025, 56.92155067155068, 57.069724257224244, 57.098977411477414, 56.75811457061457, 56.5450752950753, 56.87703500203502, 56.61184879934879, 56.5800518925519, 56.89229751729753, 56.8617724867725, 56.878306878306894, 57.388965201465204, 56.68053011803014, 57.32028388278388, 56.89992877492878, 56.89102564102564, 56.80517399267401, 57.08371489621489, 57.02202889702888, 57.07099613349613, 57.18355718355719, 56.85477716727717, 56.92918192918193, 57.29103072853073, 57.17338217338217, 57.023936711436725, 57.31583231583233, 56.30405474155476, 56.847781847781825, 56.87194749694751, 57.24142755392756, 56.95716320716323, 57.39596052096055, 57.42330586080586, 57.36925111925114, 56.87067562067563, 57.45001526251528, 57.22998066748067, 57.16829466829466, 57.08753052503053, 57.427757427757435, 57.435388685388695, 57.22298534798534, 56.788639601139614, 56.81662087912087, 56.722502035002044, 57.011217948717956, 57.10788054538056, 57.35653235653235, 57.1384055759056, 56.97624135124138, 57.36670736670737, 57.48371998371999, 57.59818884818887, 57.066544566544565, 56.63919413919413, 57.15621184371184, 57.30629324379325, 57.0302960927961, 56.99023199023199, 57.22425722425722, 56.71677859177861, 57.31456043956044, 57.34317765567767, 57.02966015466016, 57.30311355311357, 56.808353683353694, 57.23761192511193, 56.882122507122496, 57.072903947903946, 57.081171143671156, 57.45255901505902, 57.7241045991046, 57.447471509971486, 57.14540089540091, 57.0385632885633, 57.881181318681335, 57.311380748880744, 58.0090048840049, 57.694215506715516, 56.979421041921064, 58.05352055352054, 57.46336996336998, 57.50152625152626, 57.1320461945462, 57.434116809116794, 57.354624542124554, 57.16320716320715, 57.22298534798534, 57.92887667887667, 57.3539886039886, 57.575931013431024, 57.284035409035425, 57.139041514041544, 57.49834656084656, 57.36034798534797, 57.39087301587302, 57.19309625559626, 57.311380748880765, 57.385785510785524, 57.11296805046805, 57.247150997151, 57.292938542938565, 57.553673178673186, 57.54286223036223, 57.29929792429794, 57.50279812779812, 57.29802604802605, 57.07226800976804, 57.500890313390336, 58.014092389092404, 57.15621184371187, 57.86337505087507, 58.021087708587714, 57.85510785510785, 58.119658119658105, 57.3469932844933, 57.90534696784696, 57.148580586080584, 57.561940374440375, 57.53332315832315, 58.19469881969882, 57.8055046805047, 57.6522435897436, 57.939687627187624, 57.80168905168907, 57.62426231176232, 57.52314814814816, 57.54286223036223, 57.97530016280015, 57.67640923890923, 57.17592592592595, 57.74699837199838, 57.79787342287343, 57.50597781847782, 57.67386548636551, 57.334910459910475, 57.240155677655686, 57.36925111925111, 57.439840252340254, 56.85350529100529, 57.36479955229956, 57.04365079365081, 57.47736060236059, 57.385785510785496, 57.04301485551485, 57.43856837606837, 57.7622608872609, 56.58323158323159, 57.588649776149786, 57.26495726495727, 57.41821835571835, 58.08849715099714, 57.32855107855108, 57.41949023199024, 57.67513736263738, 57.29675417175417, 57.14094932844933, 57.353988603988604, 57.75908119658121, 57.39278083028085, 57.13141025641027, 56.977513227513235, 57.041742979243, 57.713293650793645, 57.58674196174198, 57.764168701668716, 57.70629833129834, 57.9104344729345, 57.97212047212048, 57.8754578754579, 57.4506512006512, 57.65287952787953, 57.60963573463574, 57.5256919006919, 57.77434371184372, 57.70375457875456, 58.01409238909238, 57.41185897435898, 57.57720288970288, 57.46146214896216, 57.733007733007724, 57.82712657712656, 58.02999084249084, 57.633801383801405, 58.54891636141637, 57.91043447293447, 57.35526048026048, 58.01409238909241, 57.53713878713881, 58.11329873829874, 58.105667480667485, 57.94668294668296, 57.603276353276364, 57.88436100936104, 58.01790801790801, 58.16544566544568, 58.152726902726926, 58.32951770451771, 58.332697395197364, 58.06496743996744, 58.055428367928364, 58.180072242572244, 58.04525335775338, 58.17625661375663, 58.0859533984534, 58.58707264957266, 58.58389295889295, 58.53937728937729, 58.44971001221003, 58.566086691086674, 58.08786121286122, 58.355591168091166, 58.18961131461131, 58.01472832722833, 57.96639702889703, 58.51902726902727, 58.153998778998755, 58.29008954008955, 58.31997863247864, 58.24430199430202, 58.28754578754579, 58.020451770451764, 58.195334757834765, 57.907254782254775, 58.088497150997135, 57.95177045177045, 58.37466931216931, 57.922517297517295, 58.181980056980045, 58.38039275539277, 58.15654253154255, 58.50758038258039, 58.127289377289365, 58.410917785917796, 58.247481684981686, 58.53047415547416, 58.22840354090355, 58.55527574277574, 57.92442511192511, 58.59279609279611, 58.02172364672367, 57.78324684574684, 58.00709706959707, 58.38230056980058, 58.54573667073666, 58.50503663003662, 58.48468660968661, 58.57308201058199, 58.12220187220188, 58.2926332926333, 58.30090048840051, 57.83666564916567, 58.510760073260066, 58.45924908424909, 58.22013634513636, 58.53047415547417, 58.355591168091166, 58.08022995522996, 58.531746031746046, 58.358770858770846, 58.2322191697192], \"yaxis\": \"y\"}],\n",
       "                        {\"legend\": {\"tracegroupgap\": 0}, \"template\": {\"data\": {\"bar\": [{\"error_x\": {\"color\": \"rgb(36,36,36)\"}, \"error_y\": {\"color\": \"rgb(36,36,36)\"}, \"marker\": {\"line\": {\"color\": \"white\", \"width\": 0.5}}, \"type\": \"bar\"}], \"barpolar\": [{\"marker\": {\"line\": {\"color\": \"white\", \"width\": 0.5}}, \"type\": \"barpolar\"}], \"carpet\": [{\"aaxis\": {\"endlinecolor\": \"rgb(36,36,36)\", \"gridcolor\": \"white\", \"linecolor\": \"white\", \"minorgridcolor\": \"white\", \"startlinecolor\": \"rgb(36,36,36)\"}, \"baxis\": {\"endlinecolor\": \"rgb(36,36,36)\", \"gridcolor\": \"white\", \"linecolor\": \"white\", \"minorgridcolor\": \"white\", \"startlinecolor\": \"rgb(36,36,36)\"}, \"type\": \"carpet\"}], \"choropleth\": [{\"colorbar\": {\"outlinewidth\": 1, \"tickcolor\": \"rgb(36,36,36)\", \"ticks\": \"outside\"}, \"type\": \"choropleth\"}], \"contour\": [{\"colorbar\": {\"outlinewidth\": 1, \"tickcolor\": \"rgb(36,36,36)\", \"ticks\": \"outside\"}, \"colorscale\": [[0.0, \"#440154\"], [0.1111111111111111, \"#482878\"], [0.2222222222222222, \"#3e4989\"], [0.3333333333333333, \"#31688e\"], [0.4444444444444444, \"#26828e\"], [0.5555555555555556, \"#1f9e89\"], [0.6666666666666666, \"#35b779\"], [0.7777777777777778, \"#6ece58\"], [0.8888888888888888, \"#b5de2b\"], [1.0, \"#fde725\"]], \"type\": \"contour\"}], \"contourcarpet\": [{\"colorbar\": {\"outlinewidth\": 1, \"tickcolor\": \"rgb(36,36,36)\", \"ticks\": \"outside\"}, \"type\": \"contourcarpet\"}], \"heatmap\": [{\"colorbar\": {\"outlinewidth\": 1, \"tickcolor\": \"rgb(36,36,36)\", \"ticks\": \"outside\"}, \"colorscale\": [[0.0, \"#440154\"], [0.1111111111111111, \"#482878\"], [0.2222222222222222, \"#3e4989\"], [0.3333333333333333, \"#31688e\"], [0.4444444444444444, \"#26828e\"], [0.5555555555555556, \"#1f9e89\"], [0.6666666666666666, \"#35b779\"], [0.7777777777777778, \"#6ece58\"], [0.8888888888888888, \"#b5de2b\"], [1.0, \"#fde725\"]], \"type\": \"heatmap\"}], \"heatmapgl\": [{\"colorbar\": {\"outlinewidth\": 1, \"tickcolor\": \"rgb(36,36,36)\", \"ticks\": \"outside\"}, \"colorscale\": [[0.0, \"#440154\"], [0.1111111111111111, \"#482878\"], [0.2222222222222222, \"#3e4989\"], [0.3333333333333333, \"#31688e\"], [0.4444444444444444, \"#26828e\"], [0.5555555555555556, \"#1f9e89\"], [0.6666666666666666, \"#35b779\"], [0.7777777777777778, \"#6ece58\"], [0.8888888888888888, \"#b5de2b\"], [1.0, \"#fde725\"]], \"type\": \"heatmapgl\"}], \"histogram\": [{\"marker\": {\"line\": {\"color\": \"white\", \"width\": 0.6}}, \"type\": \"histogram\"}], \"histogram2d\": [{\"colorbar\": {\"outlinewidth\": 1, \"tickcolor\": \"rgb(36,36,36)\", \"ticks\": \"outside\"}, \"colorscale\": [[0.0, \"#440154\"], [0.1111111111111111, \"#482878\"], [0.2222222222222222, \"#3e4989\"], [0.3333333333333333, \"#31688e\"], [0.4444444444444444, \"#26828e\"], [0.5555555555555556, \"#1f9e89\"], [0.6666666666666666, \"#35b779\"], [0.7777777777777778, \"#6ece58\"], [0.8888888888888888, \"#b5de2b\"], [1.0, \"#fde725\"]], \"type\": \"histogram2d\"}], \"histogram2dcontour\": [{\"colorbar\": {\"outlinewidth\": 1, \"tickcolor\": \"rgb(36,36,36)\", \"ticks\": \"outside\"}, \"colorscale\": [[0.0, \"#440154\"], [0.1111111111111111, \"#482878\"], [0.2222222222222222, \"#3e4989\"], [0.3333333333333333, \"#31688e\"], [0.4444444444444444, \"#26828e\"], [0.5555555555555556, \"#1f9e89\"], [0.6666666666666666, \"#35b779\"], [0.7777777777777778, \"#6ece58\"], [0.8888888888888888, \"#b5de2b\"], [1.0, \"#fde725\"]], \"type\": \"histogram2dcontour\"}], \"mesh3d\": [{\"colorbar\": {\"outlinewidth\": 1, \"tickcolor\": \"rgb(36,36,36)\", \"ticks\": \"outside\"}, \"type\": \"mesh3d\"}], \"parcoords\": [{\"line\": {\"colorbar\": {\"outlinewidth\": 1, \"tickcolor\": \"rgb(36,36,36)\", \"ticks\": \"outside\"}}, \"type\": \"parcoords\"}], \"pie\": [{\"automargin\": true, \"type\": \"pie\"}], \"scatter\": [{\"marker\": {\"colorbar\": {\"outlinewidth\": 1, \"tickcolor\": \"rgb(36,36,36)\", \"ticks\": \"outside\"}}, \"type\": \"scatter\"}], \"scatter3d\": [{\"line\": {\"colorbar\": {\"outlinewidth\": 1, \"tickcolor\": \"rgb(36,36,36)\", \"ticks\": \"outside\"}}, \"marker\": {\"colorbar\": {\"outlinewidth\": 1, \"tickcolor\": \"rgb(36,36,36)\", \"ticks\": \"outside\"}}, \"type\": \"scatter3d\"}], \"scattercarpet\": [{\"marker\": {\"colorbar\": {\"outlinewidth\": 1, \"tickcolor\": \"rgb(36,36,36)\", \"ticks\": \"outside\"}}, \"type\": \"scattercarpet\"}], \"scattergeo\": [{\"marker\": {\"colorbar\": {\"outlinewidth\": 1, \"tickcolor\": \"rgb(36,36,36)\", \"ticks\": \"outside\"}}, \"type\": \"scattergeo\"}], \"scattergl\": [{\"marker\": {\"colorbar\": {\"outlinewidth\": 1, \"tickcolor\": \"rgb(36,36,36)\", \"ticks\": \"outside\"}}, \"type\": \"scattergl\"}], \"scattermapbox\": [{\"marker\": {\"colorbar\": {\"outlinewidth\": 1, \"tickcolor\": \"rgb(36,36,36)\", \"ticks\": \"outside\"}}, \"type\": \"scattermapbox\"}], \"scatterpolar\": [{\"marker\": {\"colorbar\": {\"outlinewidth\": 1, \"tickcolor\": \"rgb(36,36,36)\", \"ticks\": \"outside\"}}, \"type\": \"scatterpolar\"}], \"scatterpolargl\": [{\"marker\": {\"colorbar\": {\"outlinewidth\": 1, \"tickcolor\": \"rgb(36,36,36)\", \"ticks\": \"outside\"}}, \"type\": \"scatterpolargl\"}], \"scatterternary\": [{\"marker\": {\"colorbar\": {\"outlinewidth\": 1, \"tickcolor\": \"rgb(36,36,36)\", \"ticks\": \"outside\"}}, \"type\": \"scatterternary\"}], \"surface\": [{\"colorbar\": {\"outlinewidth\": 1, \"tickcolor\": \"rgb(36,36,36)\", \"ticks\": \"outside\"}, \"colorscale\": [[0.0, \"#440154\"], [0.1111111111111111, \"#482878\"], [0.2222222222222222, \"#3e4989\"], [0.3333333333333333, \"#31688e\"], [0.4444444444444444, \"#26828e\"], [0.5555555555555556, \"#1f9e89\"], [0.6666666666666666, \"#35b779\"], [0.7777777777777778, \"#6ece58\"], [0.8888888888888888, \"#b5de2b\"], [1.0, \"#fde725\"]], \"type\": \"surface\"}], \"table\": [{\"cells\": {\"fill\": {\"color\": \"rgb(237,237,237)\"}, \"line\": {\"color\": \"white\"}}, \"header\": {\"fill\": {\"color\": \"rgb(217,217,217)\"}, \"line\": {\"color\": \"white\"}}, \"type\": \"table\"}]}, \"layout\": {\"annotationdefaults\": {\"arrowhead\": 0, \"arrowwidth\": 1}, \"coloraxis\": {\"colorbar\": {\"outlinewidth\": 1, \"tickcolor\": \"rgb(36,36,36)\", \"ticks\": \"outside\"}}, \"colorscale\": {\"diverging\": [[0.0, \"rgb(103,0,31)\"], [0.1, \"rgb(178,24,43)\"], [0.2, \"rgb(214,96,77)\"], [0.3, \"rgb(244,165,130)\"], [0.4, \"rgb(253,219,199)\"], [0.5, \"rgb(247,247,247)\"], [0.6, \"rgb(209,229,240)\"], [0.7, \"rgb(146,197,222)\"], [0.8, \"rgb(67,147,195)\"], [0.9, \"rgb(33,102,172)\"], [1.0, \"rgb(5,48,97)\"]], \"sequential\": [[0.0, \"#440154\"], [0.1111111111111111, \"#482878\"], [0.2222222222222222, \"#3e4989\"], [0.3333333333333333, \"#31688e\"], [0.4444444444444444, \"#26828e\"], [0.5555555555555556, \"#1f9e89\"], [0.6666666666666666, \"#35b779\"], [0.7777777777777778, \"#6ece58\"], [0.8888888888888888, \"#b5de2b\"], [1.0, \"#fde725\"]], \"sequentialminus\": [[0.0, \"#440154\"], [0.1111111111111111, \"#482878\"], [0.2222222222222222, \"#3e4989\"], [0.3333333333333333, \"#31688e\"], [0.4444444444444444, \"#26828e\"], [0.5555555555555556, \"#1f9e89\"], [0.6666666666666666, \"#35b779\"], [0.7777777777777778, \"#6ece58\"], [0.8888888888888888, \"#b5de2b\"], [1.0, \"#fde725\"]]}, \"colorway\": [\"#1F77B4\", \"#FF7F0E\", \"#2CA02C\", \"#D62728\", \"#9467BD\", \"#8C564B\", \"#E377C2\", \"#7F7F7F\", \"#BCBD22\", \"#17BECF\"], \"font\": {\"color\": \"rgb(36,36,36)\"}, \"geo\": {\"bgcolor\": \"white\", \"lakecolor\": \"white\", \"landcolor\": \"white\", \"showlakes\": true, \"showland\": true, \"subunitcolor\": \"white\"}, \"hoverlabel\": {\"align\": \"left\"}, \"hovermode\": \"closest\", \"mapbox\": {\"style\": \"light\"}, \"paper_bgcolor\": \"white\", \"plot_bgcolor\": \"white\", \"polar\": {\"angularaxis\": {\"gridcolor\": \"rgb(232,232,232)\", \"linecolor\": \"rgb(36,36,36)\", \"showgrid\": false, \"showline\": true, \"ticks\": \"outside\"}, \"bgcolor\": \"white\", \"radialaxis\": {\"gridcolor\": \"rgb(232,232,232)\", \"linecolor\": \"rgb(36,36,36)\", \"showgrid\": false, \"showline\": true, \"ticks\": \"outside\"}}, \"scene\": {\"xaxis\": {\"backgroundcolor\": \"white\", \"gridcolor\": \"rgb(232,232,232)\", \"gridwidth\": 2, \"linecolor\": \"rgb(36,36,36)\", \"showbackground\": true, \"showgrid\": false, \"showline\": true, \"ticks\": \"outside\", \"zeroline\": false, \"zerolinecolor\": \"rgb(36,36,36)\"}, \"yaxis\": {\"backgroundcolor\": \"white\", \"gridcolor\": \"rgb(232,232,232)\", \"gridwidth\": 2, \"linecolor\": \"rgb(36,36,36)\", \"showbackground\": true, \"showgrid\": false, \"showline\": true, \"ticks\": \"outside\", \"zeroline\": false, \"zerolinecolor\": \"rgb(36,36,36)\"}, \"zaxis\": {\"backgroundcolor\": \"white\", \"gridcolor\": \"rgb(232,232,232)\", \"gridwidth\": 2, \"linecolor\": \"rgb(36,36,36)\", \"showbackground\": true, \"showgrid\": false, \"showline\": true, \"ticks\": \"outside\", \"zeroline\": false, \"zerolinecolor\": \"rgb(36,36,36)\"}}, \"shapedefaults\": {\"fillcolor\": \"black\", \"line\": {\"width\": 0}, \"opacity\": 0.3}, \"ternary\": {\"aaxis\": {\"gridcolor\": \"rgb(232,232,232)\", \"linecolor\": \"rgb(36,36,36)\", \"showgrid\": false, \"showline\": true, \"ticks\": \"outside\"}, \"baxis\": {\"gridcolor\": \"rgb(232,232,232)\", \"linecolor\": \"rgb(36,36,36)\", \"showgrid\": false, \"showline\": true, \"ticks\": \"outside\"}, \"bgcolor\": \"white\", \"caxis\": {\"gridcolor\": \"rgb(232,232,232)\", \"linecolor\": \"rgb(36,36,36)\", \"showgrid\": false, \"showline\": true, \"ticks\": \"outside\"}}, \"title\": {\"x\": 0.05}, \"xaxis\": {\"automargin\": true, \"gridcolor\": \"rgb(232,232,232)\", \"linecolor\": \"rgb(36,36,36)\", \"showgrid\": false, \"showline\": true, \"ticks\": \"outside\", \"title\": {\"standoff\": 15}, \"zeroline\": false, \"zerolinecolor\": \"rgb(36,36,36)\"}, \"yaxis\": {\"automargin\": true, \"gridcolor\": \"rgb(232,232,232)\", \"linecolor\": \"rgb(36,36,36)\", \"showgrid\": false, \"showline\": true, \"ticks\": \"outside\", \"title\": {\"standoff\": 15}, \"zeroline\": false, \"zerolinecolor\": \"rgb(36,36,36)\"}}}, \"title\": {\"text\": \"OutletPressure g-pump-5 for all weeks \"}, \"xaxis\": {\"anchor\": \"y\", \"domain\": [0.0, 1.0], \"title\": {\"text\": \"week\"}, \"type\": \"category\"}, \"yaxis\": {\"anchor\": \"x\", \"domain\": [0.0, 1.0], \"title\": {\"text\": \"feature_value\"}}},\n",
       "                        {\"responsive\": true}\n",
       "                    ).then(function(){\n",
       "                            \n",
       "var gd = document.getElementById('1645769c-cf69-4dbb-aefe-f240d5c3b586');\n",
       "var x = new MutationObserver(function (mutations, observer) {{\n",
       "        var display = window.getComputedStyle(gd).display;\n",
       "        if (!display || display === 'none') {{\n",
       "            console.log([gd, 'removed!']);\n",
       "            Plotly.purge(gd);\n",
       "            observer.disconnect();\n",
       "        }}\n",
       "}});\n",
       "\n",
       "// Listen for the removal of the full notebook cells\n",
       "var notebookContainer = gd.closest('#notebook-container');\n",
       "if (notebookContainer) {{\n",
       "    x.observe(notebookContainer, {childList: true});\n",
       "}}\n",
       "\n",
       "// Listen for the clearing of the current output cell\n",
       "var outputEl = gd.closest('.output');\n",
       "if (outputEl) {{\n",
       "    x.observe(outputEl, {childList: true});\n",
       "}}\n",
       "\n",
       "                        })\n",
       "                };\n",
       "                });\n",
       "            </script>\n",
       "        </div>"
      ]
     },
     "metadata": {},
     "output_type": "display_data"
    },
    {
     "data": {
      "application/vnd.plotly.v1+json": {
       "config": {
        "plotlyServerURL": "https://plot.ly"
       },
       "data": [
        {
         "hoverlabel": {
          "namelength": 0
         },
         "hovertemplate": "week=%{x}<br>feature_value=%{y}",
         "legendgroup": "",
         "marker": {
          "color": "#1F77B4",
          "symbol": "circle"
         },
         "mode": "markers",
         "name": "",
         "showlegend": false,
         "type": "scatter",
         "x": [
          47,
          47,
          47,
          47,
          47,
          47,
          47,
          47,
          47,
          47,
          47,
          47,
          47,
          47,
          47,
          47,
          47,
          47,
          47,
          47,
          47,
          47,
          47,
          47,
          47,
          47,
          47,
          47,
          47,
          47,
          47,
          47,
          47,
          47,
          47,
          47,
          47,
          47,
          47,
          47,
          47,
          47,
          47,
          47,
          47,
          47,
          47,
          47,
          47,
          47,
          47,
          47,
          47,
          47,
          47,
          47,
          47,
          47,
          47,
          47,
          47,
          47,
          47,
          47,
          47,
          47,
          47,
          47,
          47,
          47,
          47,
          47,
          47,
          47,
          47,
          47,
          47,
          47,
          47,
          47,
          47,
          47,
          47,
          47,
          47,
          47,
          47,
          47,
          47,
          47,
          47,
          47,
          47,
          47,
          47,
          47,
          47,
          47,
          47,
          47,
          47,
          47,
          47,
          47,
          47,
          47,
          48,
          48,
          48,
          48,
          48,
          48,
          48,
          48,
          48,
          48,
          48,
          48,
          48,
          48,
          48,
          48,
          48,
          48,
          48,
          48,
          48,
          48,
          48,
          48,
          48,
          48,
          48,
          48,
          48,
          48,
          48,
          48,
          48,
          48,
          48,
          48,
          48,
          48,
          48,
          48,
          48,
          48,
          48,
          48,
          48,
          48,
          48,
          48,
          48,
          48,
          48,
          48,
          48,
          48,
          48,
          48,
          48,
          48,
          48,
          48,
          48,
          48,
          48,
          48,
          48,
          48,
          48,
          48,
          48,
          48,
          48,
          48,
          48,
          48,
          48,
          48,
          48,
          48,
          48,
          48,
          48,
          48,
          48,
          48,
          48,
          48,
          48,
          48,
          48,
          48,
          48,
          48,
          48,
          48,
          48,
          48,
          48,
          48,
          48,
          48,
          48,
          48,
          48,
          48,
          48,
          48,
          48,
          48,
          48,
          48,
          48,
          48,
          48,
          48,
          48,
          48,
          48,
          48,
          48,
          48,
          48,
          48,
          48,
          48,
          48,
          48,
          48,
          48,
          48,
          48,
          48,
          48,
          48,
          48,
          48,
          48,
          48,
          48,
          48,
          48,
          48,
          48,
          48,
          48,
          48,
          48,
          48,
          48,
          48,
          48,
          48,
          48,
          48,
          48,
          48,
          48,
          48,
          48,
          48,
          48,
          48,
          48,
          48,
          48,
          48,
          48,
          49,
          49,
          49,
          49,
          49,
          49,
          49,
          49,
          49,
          49,
          49,
          49,
          49,
          49,
          49,
          49,
          49,
          49,
          49,
          49,
          49,
          49,
          49,
          49,
          49,
          49,
          49,
          49,
          49,
          50,
          50,
          50,
          50,
          50,
          50,
          50,
          50,
          50,
          50,
          50,
          50,
          50,
          50,
          50,
          50,
          50,
          50,
          50,
          50,
          50,
          50,
          50,
          50,
          50,
          50,
          50,
          50,
          50,
          50,
          50,
          50,
          50,
          50,
          50,
          50,
          50,
          50,
          50,
          50,
          51,
          51,
          51,
          51,
          51,
          51,
          51,
          51,
          51,
          51,
          51,
          51,
          51,
          51,
          51,
          51,
          51,
          51,
          51,
          51,
          51,
          51,
          51,
          51,
          51,
          51,
          51,
          51,
          51,
          51,
          51,
          51,
          51,
          51,
          51,
          51,
          51,
          51,
          51,
          51,
          51,
          51,
          51,
          51,
          51,
          51,
          51,
          51,
          51,
          51,
          51,
          51,
          51,
          51,
          51,
          51,
          51,
          51,
          51,
          51,
          51,
          51,
          51,
          51,
          51,
          51,
          51,
          51,
          51,
          51,
          51,
          51,
          51,
          51,
          51,
          51,
          51,
          51,
          51,
          51,
          51,
          51,
          51,
          51,
          51,
          51,
          51,
          51,
          51,
          51,
          51,
          51,
          51,
          51,
          51,
          51,
          51,
          51,
          51,
          51,
          51,
          51,
          51,
          51,
          51,
          51,
          51,
          51,
          51,
          51,
          51,
          51,
          51,
          51,
          51,
          51,
          51,
          51,
          51,
          51,
          51,
          51,
          51,
          51,
          51,
          51,
          51,
          51,
          51,
          51,
          51,
          51,
          51,
          51,
          51,
          51,
          51,
          51,
          51,
          51,
          51,
          51,
          51,
          51,
          51,
          51,
          51,
          51,
          51,
          51,
          52,
          52,
          52,
          52,
          52,
          52,
          52,
          52,
          52,
          52,
          52,
          52,
          52,
          52,
          52,
          52,
          52,
          52,
          52,
          52,
          52,
          52,
          52,
          52,
          52,
          52,
          52,
          52,
          52,
          52,
          52,
          52,
          52,
          52,
          52,
          52,
          52,
          52,
          52,
          52,
          52,
          52,
          52,
          52,
          52,
          52,
          52,
          52,
          52,
          52,
          52,
          52,
          52,
          52,
          52,
          52,
          52,
          52,
          52,
          52,
          52,
          52,
          52,
          52,
          52,
          52,
          52,
          52,
          52,
          52,
          52,
          52,
          52,
          52,
          52,
          52,
          52,
          52,
          52,
          52,
          52,
          52,
          52,
          52,
          52,
          52,
          52,
          52,
          52,
          52,
          52,
          52,
          52,
          52,
          52,
          52,
          52,
          52,
          52,
          52,
          52,
          52,
          52,
          52,
          52,
          52,
          52,
          52,
          52,
          52,
          52,
          52,
          52,
          52,
          52,
          52,
          52,
          52,
          52,
          52,
          52,
          52,
          52,
          52,
          52,
          52,
          52,
          52,
          52,
          52,
          52,
          52,
          52,
          52,
          52,
          52,
          52,
          52,
          52,
          52,
          52,
          52,
          52,
          52,
          52,
          52,
          52,
          52,
          52,
          52,
          52,
          52,
          52,
          52,
          52,
          52,
          52,
          52,
          52,
          52,
          52,
          52,
          52,
          52,
          52,
          1,
          1,
          1,
          1,
          1,
          1,
          1,
          1,
          1,
          1,
          1,
          1,
          1,
          1,
          1,
          1,
          1,
          1,
          1,
          1,
          1,
          1,
          1,
          1,
          1,
          1,
          1,
          1,
          1,
          1,
          1,
          1,
          1,
          1,
          1,
          1,
          1,
          1,
          1,
          1,
          1,
          1,
          1,
          1,
          1,
          1,
          1,
          1,
          1,
          1,
          1,
          1,
          1,
          1,
          1,
          1,
          1,
          1,
          1,
          1,
          1,
          1,
          1,
          1,
          1,
          1,
          1,
          1,
          1,
          1,
          1,
          1,
          1,
          1,
          1,
          1,
          1,
          1,
          1,
          1,
          1,
          1,
          1,
          1,
          1,
          1,
          1,
          1,
          1,
          1,
          1,
          1,
          1,
          1,
          1,
          1,
          1,
          1,
          1,
          1,
          1,
          1,
          1,
          1,
          1,
          1,
          1,
          1,
          1,
          1,
          1,
          1,
          1,
          1,
          1,
          1,
          1,
          1,
          1,
          1,
          1,
          1,
          1,
          1,
          1,
          1,
          1,
          1,
          1,
          1,
          1,
          1,
          1,
          1,
          1,
          1,
          1,
          1,
          1,
          1,
          1,
          1,
          1,
          1,
          1,
          1,
          1,
          1,
          1,
          1,
          1,
          1,
          1,
          1,
          1,
          1,
          1,
          1,
          1,
          1,
          1,
          1,
          1,
          1,
          1,
          1,
          1,
          1,
          2,
          2,
          2,
          2,
          2,
          2,
          2,
          2,
          2,
          2,
          2,
          2,
          2,
          2,
          2,
          2,
          2
         ],
         "xaxis": "x",
         "y": [
          3.1984423347788815,
          3.30738705738706,
          3.1996637950377798,
          3.300391737891738,
          3.281631562881564,
          3.3402650590150595,
          3.3041437728937724,
          3.356481481481483,
          3.2858923483923483,
          3.3017908017908026,
          3.2327915140415158,
          3.2774170274170262,
          3.236161986161985,
          3.281122812372812,
          3.2226165038665027,
          3.34713319088319,
          3.3241758241758235,
          3.2421398046398053,
          3.2226800976800973,
          3.2691035816035825,
          3.236225579975581,
          3.2956539987789992,
          3.3126123490706836,
          3.2514245014245016,
          3.2860195360195372,
          3.3109483109483118,
          3.261281542531543,
          3.290598290598291,
          3.3611874236874235,
          3.3527930402930406,
          3.29892908017908,
          3.279024216524217,
          3.312983312983313,
          3.2759717134717135,
          3.275272181522183,
          3.330725986975987,
          3.232219169719168,
          3.336195054945056,
          3.2983567358567356,
          3.301091269841271,
          3.337848494098496,
          3.2991198616198627,
          3.2590557590557587,
          3.3170533170533165,
          3.2532051282051295,
          3.305542836792837,
          3.3436355311355324,
          3.380519943019944,
          3.3207417582417595,
          3.3143187830687832,
          3.250343406593407,
          3.2543498168498157,
          3.3026175213675217,
          3.291043447293447,
          3.2885632885632883,
          3.3676103988603994,
          3.225923382173382,
          3.252187627187625,
          3.2525691900691895,
          3.374669312169311,
          3.3584528897028902,
          3.3798840048840053,
          3.3270375457875443,
          3.291679385429386,
          3.2363527676027655,
          3.3246845746845746,
          3.2602640415140414,
          3.346815221815221,
          3.2883089133089136,
          3.324875356125356,
          3.2774979649979663,
          3.2650971713471715,
          3.3581985144485134,
          3.2912978225478233,
          3.356926638176637,
          3.38363603988604,
          3.3048433048433066,
          3.3382936507936507,
          3.3312983312983313,
          3.2349537037037046,
          3.369391025641025,
          3.3011548636548618,
          3.4137159137159117,
          3.312220187220186,
          3.245001526251525,
          3.274827024827024,
          3.188530219780219,
          3.255876068376068,
          3.278897028897029,
          3.376131969881969,
          3.327291921041922,
          3.3695818070818073,
          3.4783272283272293,
          3.2332366707366726,
          3.302363146113146,
          3.24074074074074,
          3.294223137973139,
          3.3094220594220594,
          3.201948514448515,
          3.2472909035409017,
          3.369581807081806,
          3.3064331501831483,
          3.3328245828245815,
          3.3305987993488,
          3.349041005291005,
          3.2220441595441582,
          3.318007224257226,
          3.297339234839234,
          3.3291997354497354,
          3.2457010582010573,
          3.282458282458284,
          3.169452075702076,
          3.3397563085063076,
          3.2444927757427755,
          3.3106939356939353,
          3.254731379731378,
          3.2872278184778185,
          3.25689356939357,
          3.3662113349613354,
          3.30509768009768,
          3.2937779812779815,
          3.2840481277981266,
          3.2523148148148144,
          3.2371794871794886,
          3.248117623117622,
          3.339883496133497,
          3.1948896011396006,
          3.328881766381766,
          3.3013456450956458,
          3.3312983312983313,
          3.3106303418803424,
          3.3386116198616214,
          3.3600427350427347,
          3.3253205128205128,
          3.30109126984127,
          3.322331603581604,
          3.3038258038258035,
          3.2647792022792026,
          3.3452253764753768,
          3.340455840455841,
          3.303062678062678,
          3.366020553520554,
          3.3788029100529102,
          3.4355285917785934,
          3.312474562474563,
          3.3276734839234834,
          3.355209605209603,
          3.3121565934065926,
          3.3701541514041504,
          3.2227436914936907,
          3.278897028897028,
          3.384971509971511,
          3.3488502238502247,
          3.2928240740740744,
          3.3652574277574288,
          3.2413766788766796,
          3.252124033374032,
          3.3192791005291,
          3.360042735042736,
          3.3357498982498988,
          3.234508547008548,
          3.3070690883190887,
          3.3323158323158313,
          3.1960978835978846,
          3.235462454212453,
          3.3567994505494503,
          3.2363527676027695,
          3.34096459096459,
          3.292188135938135,
          3.378548534798536,
          3.332061457061457,
          3.21873728123728,
          3.3168625356125343,
          3.3033806471306466,
          3.2822675010175004,
          3.3205509768009764,
          3.3246209808709803,
          3.309167684167686,
          3.268531237281238,
          3.2755265567765584,
          3.2579746642246636,
          3.2877365689865683,
          3.2746362433862437,
          3.280041717541718,
          3.283348595848597,
          3.3061787749287768,
          3.3456705331705336,
          3.3233491045991044,
          3.3335877085877086,
          3.283920940170941,
          3.2582926332926334,
          3.258165445665446,
          3.3171805046805045,
          3.3467516280016274,
          3.432030932030932,
          3.3498677248677247,
          3.3613782051282057,
          3.321250508750508,
          3.223697598697599,
          3.227513227513229,
          3.300900488400488,
          3.302490333740335,
          3.2256054131054146,
          3.269803113553113,
          3.2447471509971506,
          3.298801892551891,
          3.336830993080994,
          3.310566748066748,
          3.2199455636955623,
          3.20754477004477,
          3.3280550468050465,
          3.2507249694749696,
          3.3649394586894594,
          3.2902167277167287,
          3.226241351241353,
          3.3004553317053307,
          3.2851928164428172,
          3.3037622100122106,
          3.303317053317056,
          3.2128230565730562,
          3.2858287545787532,
          3.292824074074074,
          3.3486594424094434,
          3.3176256613756596,
          3.268912800162799,
          3.2255418192918195,
          3.2235704110704106,
          3.3319342694342695,
          3.263507326007326,
          3.2594373219373214,
          3.28856328856329,
          3.2682768620268625,
          3.3307259869759864,
          3.168625356125356,
          3.220517908017909,
          3.3489138176638185,
          3.2500890313390323,
          3.275908119658118,
          3.2996286121286125,
          3.2848112535612537,
          3.2977207977207965,
          3.286401098901099,
          3.3316163003663006,
          3.169642857142858,
          3.3244301994301986,
          3.3593432030932036,
          3.3684371184371176,
          3.3565450752950756,
          3.2667887667887676,
          3.279278591778592,
          3.36430352055352,
          3.28175875050875,
          3.404685592185592,
          3.3253841066341074,
          3.2753993691493695,
          3.2795965608465596,
          3.2230616605616595,
          3.3733974358974343,
          3.2904711029711042,
          3.326465201465202,
          3.289898758648757,
          3.3055428367928372,
          3.3009640822140827,
          3.238642144892143,
          3.3345416157916166,
          3.267004985754985,
          3.291361416361416,
          3.231837606837605,
          3.300836894586894,
          3.313555657305658,
          3.2565756003256006,
          3.2631257631257626,
          3.4308862433862415,
          3.3707900895400904,
          3.2069088319088306,
          3.257338726088728,
          3.300900488400489,
          3.257720288970289,
          3.206845238095239,
          3.3095492470492474,
          3.3486594424094434,
          3.2680224867724887,
          3.2314560439560434,
          3.280168905168905,
          3.3217592592592595,
          3.316798941798942,
          3.319406288156289,
          3.3059879934879923,
          3.258038258038257,
          3.384589947089946,
          3.3606150793650786,
          3.276289682539682,
          3.300836894586895,
          3.236988705738708,
          3.2760353072853072,
          3.26942155067155,
          3.3296448921448913,
          3.338865995115995,
          3.3412189662189675,
          3.3076414326414336,
          3.2848112535612555,
          3.3978174603174596,
          3.4310134310134313,
          3.4584223646723617,
          3.377785409035408,
          3.359533984533984,
          3.4275157712657696,
          3.4448768823768816,
          3.4582951770451764,
          3.3292633292633282,
          3.4876119251119246,
          3.391903235653236,
          3.4095823158323166,
          3.303762210012208,
          3.387388074888074,
          3.3851622914122927,
          3.414733414733414,
          3.3676103988603985,
          3.4356557794057796,
          3.4307590557590566,
          3.3502492877492887,
          3.3808379120879093,
          3.396227614977615,
          3.398834961334961,
          3.394001831501832,
          3.358580077330078,
          3.406211843711844,
          3.3764499389499387,
          3.387070105820106,
          3.4123804436304432,
          3.4068477818477825,
          3.3503764753764753,
          3.399725274725274,
          3.411362942612943,
          3.4088827838827847,
          3.468724562474563,
          3.3791844729344724,
          3.3644307081807074,
          3.45282610907611,
          3.474066442816445,
          3.530474155474156,
          3.5105692918192926,
          3.4888838013838,
          3.4462123524623536,
          3.4055123117623136,
          3.3732066544566544,
          3.4892653642653646,
          3.432603276353277,
          3.372634310134312,
          3.280168905168905,
          3.3826185388685395,
          3.3046525234025217,
          3.4261167073667074,
          3.4135251322751348,
          3.3528566341066366,
          3.26725936100936,
          3.269675925925925,
          3.2995014245014254,
          3.2736823361823375,
          3.372061965811966,
          3.328881766381768,
          3.3842083842083834,
          3.3625864875864875,
          3.332061457061457,
          3.3246845746845755,
          3.431267806267806,
          3.2720288970288958,
          3.3450981888481888,
          3.3333333333333326,
          3.293078449328451,
          3.34662444037444,
          3.3624592999592995,
          3.267704517704517,
          3.338548026048027,
          3.399343711843713,
          3.2891356328856336,
          3.377785409035408,
          3.478835978835978,
          3.2671321733821723,
          3.4014423076923097,
          3.3797568172568178,
          3.3506944444444433,
          3.3926663614163606,
          3.352475071225071,
          3.3636675824175835,
          3.310375966625967,
          3.317562067562067,
          3.3367038054538045,
          3.300010175010176,
          3.4018874643874644,
          3.4022054334554355,
          3.3433175620675613,
          3.350694444444445,
          3.4453220390720394,
          3.3770858770858765,
          3.445385632885634,
          3.428151709401709,
          3.4126348188848183,
          3.3764499389499396,
          3.424463268213269,
          3.4516178266178277,
          3.480107855107855,
          3.442078754578754,
          3.4279609279609295,
          3.372443528693529,
          3.4303774928774917,
          3.4417607855107843,
          3.433302808302809,
          3.4180402930402924,
          3.3648122710622714,
          3.4114901302401317,
          3.530092592592592,
          3.415369352869352,
          3.4565145502645502,
          3.4698056573056575,
          3.282013125763125,
          3.278006715506716,
          3.4535256410256423,
          3.3087225274725274,
          3.345034595034596,
          3.333015364265364,
          3.3236034798534795,
          3.395718864468865,
          3.326783170533169,
          3.286019536019536,
          3.257656695156694,
          3.3026811151811177,
          3.3862433862433856,
          3.310312372812374,
          3.345988502238502,
          3.2617902930402933,
          3.4216015466015466,
          3.313810032560033,
          3.324875356125357,
          3.3851622914122905,
          3.3212505087505093,
          3.361759768009769,
          3.323221916971916,
          3.3494225681725687,
          3.3577533577533583,
          3.3868793243793243,
          3.381982600732602,
          3.337975681725682,
          3.3665928978428963,
          3.275081400081399,
          3.257211538461537,
          3.339756308506308,
          3.405257936507935,
          3.351839133089133,
          3.2979115791615787,
          3.3547008547008565,
          3.384081196581196,
          3.2633801383801373,
          3.3144459706959704,
          3.3868793243793225,
          3.3717439967439975,
          3.327419108669108,
          3.31177503052503,
          3.4104090354090357,
          3.2612179487179476,
          3.34878663003663,
          3.332760989010989,
          3.4012515262515257,
          3.3282458282458283,
          3.316480972730974,
          3.3857982295482287,
          3.339374745624747,
          3.3228403540903546,
          3.2578474765974765,
          3.342999592999592,
          3.30643315018315,
          3.3222680097680093,
          3.3406466218966226,
          3.3485322547822527,
          3.269993894993895,
          3.3326338013838,
          3.360169922669922,
          3.324239417989419,
          3.3910129222629215,
          3.3467516280016274,
          3.320678164428164,
          3.4011879324379333,
          3.423445767195768,
          3.3789300976800987,
          3.3751144688644703,
          3.350885225885227,
          3.426561864061865,
          3.290025946275946,
          3.3576897639397623,
          3.392221204721205,
          3.280868437118438,
          3.4478021978021993,
          3.4516178266178255,
          3.3492953805453802,
          3.4488196988196997,
          3.3353683353683343,
          3.3148911273911286,
          3.304779711029711,
          3.3327609890109904,
          3.287291412291412,
          3.343635531135531,
          3.3386752136752142,
          3.3143187830687832,
          3.30560643060643,
          3.3219500407000404,
          3.2742546805046797,
          3.4251628001627985,
          3.429296398046396,
          3.4382631257631253,
          3.3830636955636972,
          3.403350122100122,
          3.390313390313391,
          3.382872914122915,
          3.3131105006105,
          3.3816010378510364,
          3.3476419413919416,
          3.2689763939763936,
          3.329326923076923,
          3.3928571428571437,
          3.350630850630852,
          3.3716168091168086,
          3.3873244810744816,
          3.3295812983313,
          3.3458613146113145,
          3.3175620675620667,
          3.249262311762313,
          3.344843813593814,
          3.2605820105820094,
          3.452062983312984,
          3.283920940170941,
          3.3278006715506714,
          3.3278642653642656,
          3.2893900081400065,
          3.411998880748879,
          3.3715532153032157,
          3.3488502238502242,
          3.388596357346357,
          3.3814102564102577,
          3.4004248066748057,
          3.28811813186813,
          3.327037545787545,
          3.321059727309727,
          3.3594703907203893,
          3.337721306471306,
          3.3004553317053316,
          3.3411553724053715,
          3.3342236467236464,
          3.421474358974358,
          3.3944469881969876,
          3.28074124949125,
          3.3272283272283256,
          3.4334299959299948,
          3.2427757427757444,
          3.4113629426129415,
          3.347641941391941,
          3.264652014652016,
          3.409200752950753,
          3.293396418396418,
          3.3318706756206757,
          3.366592897842899,
          3.2753993691493695,
          3.326655982905983,
          3.3431267806267795,
          3.4476750101750113,
          3.3183251933251943,
          3.3784849409849413,
          3.371680402930402,
          3.42433608058608,
          3.401124338624339,
          3.3049068986568977,
          3.363603988603989,
          3.321250508750508,
          3.3206781644281658,
          3.3852894790394785,
          3.2608999796499805,
          3.38567104192104,
          3.312538156288157,
          3.4533984533984525,
          3.49085520960521,
          3.3634768009768012,
          3.411998880748879,
          3.3382300569800556,
          3.3138736263736277,
          3.324048636548637,
          3.4058302808302816,
          3.240486365486365,
          3.37079008954009,
          3.3673560236060225,
          3.262553418803419,
          3.3851622914122914,
          3.3785485347985342,
          3.400869963369962,
          3.362014143264144,
          3.314636752136753,
          3.39266636141636,
          3.284366096866096,
          3.357626170126171,
          3.329644892144891,
          3.376640720390722,
          3.410154660154662,
          3.2785154660154663,
          3.4018874643874635,
          3.234190577940579,
          3.361632580382581,
          3.351521164021165,
          3.3192791005291,
          3.4004248066748075,
          3.324557387057387,
          3.3957824582824596,
          3.3927299552299552,
          3.3560999185999187,
          3.3162901912901925,
          3.3674832112332127,
          3.2775615588115596,
          3.311711436711437,
          3.3789936914936916,
          3.3279914529914536,
          3.355082417582418,
          3.2989926739926734,
          3.440043752543751,
          3.4052579365079354,
          3.3019179894179906,
          3.3790572853072844,
          3.3520299145299153,
          3.4409976597476604,
          3.364430708180708,
          3.369327431827432,
          3.4326668701668708,
          3.329772079772079,
          3.2989290801790805,
          3.33174348799349,
          3.358325702075702,
          3.213649776149776,
          3.3393111518111525,
          3.349740537240537,
          3.3921576109076104,
          3.3536833536833535,
          3.3234762922262924,
          3.3562907000407,
          3.3522206959706957,
          3.3090404965404967,
          3.324493793243794,
          3.3178164428164436,
          3.284048127798128,
          3.293078449328449,
          3.3892322954822958,
          3.418739824989823,
          3.223951973951973,
          3.3216956654456644,
          3.330980362230363,
          3.443159849409849,
          3.3533653846153846,
          3.3798204110704115,
          3.3402650590150595,
          3.338039275539277,
          3.3771494708994703,
          3.47266737891738,
          3.4225554538054532,
          3.360233516483515,
          3.3388024013024005,
          3.354637260887262,
          3.418676231176231,
          3.348850223850224,
          3.3401378713878724,
          3.247545278795279,
          3.3656389906389914,
          3.3715532153032153,
          3.3545736670736677,
          3.401633089133089,
          3.3819826007326,
          3.443032661782663,
          3.410345441595441,
          3.33377849002849,
          3.423954517704518,
          3.42217389092389,
          3.4464667277167256,
          3.323094729344731,
          3.347832722832722,
          3.3175620675620685,
          3.37447853072853,
          3.4618564306064292,
          3.316544566544566,
          3.3232219169719177,
          3.3126653439153433,
          3.352411477411478,
          3.329899267399267,
          3.432730463980466,
          3.310821123321123,
          3.3993437118437115,
          3.3816646316646337,
          3.4236365486365474,
          3.334732397232397,
          3.430377492877493,
          3.3167353479853485,
          3.4561329873829876,
          3.347451159951161,
          3.4137159137159134,
          3.4282153032153015,
          3.4662444037444047,
          3.4283424908424904,
          3.2650335775335777,
          3.439852971102973,
          3.421283577533577,
          3.4170227920227916,
          3.419630138380139,
          3.371871184371184,
          3.4422695360195354,
          3.451236263736266,
          3.348595848595851,
          3.3361950549450543,
          3.2984839234839245,
          3.314000814000815,
          3.3427452177452195,
          3.271265771265771,
          3.400361212861212,
          3.471586284086284,
          3.4093915343915335,
          3.3861161986161985,
          3.3389931827431822,
          3.332061457061457,
          3.38045634920635,
          3.450600325600327,
          3.318070818070817,
          3.411744505494506,
          3.375305250305248,
          3.4325396825396823,
          3.427897334147334,
          3.356290700040699,
          3.3207417582417587,
          3.3449710012210017,
          3.3555911680911685,
          3.356926638176638,
          3.37695868945869,
          3.417213573463575,
          3.357753357753357,
          3.3250661375661372,
          3.351330382580382,
          3.3709172771672766,
          3.35330179080179,
          3.3793116605616604,
          3.398199023199023,
          3.336830993080994,
          3.380201973951973,
          3.376640720390719,
          3.3547644485144477,
          3.326020044770044,
          3.316989723239723,
          3.3864341676841683,
          3.3679919617419602,
          3.3496133496133496,
          3.356608669108669,
          3.435464997964997,
          3.276989214489213,
          3.380201973951974,
          3.3854802604802594,
          3.5064992877492878,
          3.442078754578755,
          3.3173712861212876,
          3.324303011803011,
          3.3358134920634934,
          3.4324124949124957,
          3.32144129019129,
          3.363222425722426,
          3.410599816849816,
          3.4151149776149765,
          3.4242724867724874,
          3.410345441595441,
          3.3828729141229146,
          3.3278642653642656,
          3.3267831705331705,
          3.312092999592999,
          3.3791208791208796,
          3.330280830280829,
          3.4286604599104593,
          3.4094551282051277,
          3.308213776963777,
          3.441442816442816,
          3.4067205942205945,
          3.297784391534391,
          3.270184676434676,
          3.2904075091575105,
          3.291107041107041,
          3.4030957468457483,
          3.4103454415954393,
          3.329454110704111,
          3.32843660968661,
          3.421474358974358,
          3.3734610297110303,
          3.403540903540905,
          3.412698412698413,
          3.3692002442002433,
          3.360615079365079,
          3.389105107855108,
          3.427642958892959,
          3.3188975376475383,
          3.3917760480260495,
          3.3622685185185177,
          3.3251933251933252,
          3.3645578958078963,
          3.3782941595441596,
          3.3118386243386255,
          3.400933557183557,
          3.362077737077737,
          3.4008063695563693,
          3.3508216320716326,
          3.334350834350834,
          3.3538105413105406,
          3.4181038868538867,
          3.4333028083028085,
          3.3676103988603994,
          3.4195665445665444,
          3.4280245217745215,
          3.408056064306065,
          3.3872608872608887,
          3.3553367928367934,
          3.428024521774523,
          3.3954008954008965,
          3.3355591168091183,
          3.370980870980871,
          3.4061482498982496,
          3.4083104395604393,
          3.3347323972323952,
          3.3572446072446067,
          3.3588980463980467,
          3.295876577126577,
          3.46885175010175,
          3.357371794871796,
          3.3908857346357357,
          3.437881562881563,
          3.3293269230769234,
          3.3034442409442417,
          3.3756868131868134,
          3.4484381359381366,
          3.3297720797720807,
          3.373333842083843,
          3.401823870573869,
          3.3707900895400886,
          3.3224587912087906,
          3.2583562271062267,
          3.3482142857142865,
          3.39514652014652
         ],
         "yaxis": "y"
        }
       ],
       "layout": {
        "legend": {
         "tracegroupgap": 0
        },
        "template": {
         "data": {
          "bar": [
           {
            "error_x": {
             "color": "rgb(36,36,36)"
            },
            "error_y": {
             "color": "rgb(36,36,36)"
            },
            "marker": {
             "line": {
              "color": "white",
              "width": 0.5
             }
            },
            "type": "bar"
           }
          ],
          "barpolar": [
           {
            "marker": {
             "line": {
              "color": "white",
              "width": 0.5
             }
            },
            "type": "barpolar"
           }
          ],
          "carpet": [
           {
            "aaxis": {
             "endlinecolor": "rgb(36,36,36)",
             "gridcolor": "white",
             "linecolor": "white",
             "minorgridcolor": "white",
             "startlinecolor": "rgb(36,36,36)"
            },
            "baxis": {
             "endlinecolor": "rgb(36,36,36)",
             "gridcolor": "white",
             "linecolor": "white",
             "minorgridcolor": "white",
             "startlinecolor": "rgb(36,36,36)"
            },
            "type": "carpet"
           }
          ],
          "choropleth": [
           {
            "colorbar": {
             "outlinewidth": 1,
             "tickcolor": "rgb(36,36,36)",
             "ticks": "outside"
            },
            "type": "choropleth"
           }
          ],
          "contour": [
           {
            "colorbar": {
             "outlinewidth": 1,
             "tickcolor": "rgb(36,36,36)",
             "ticks": "outside"
            },
            "colorscale": [
             [
              0,
              "#440154"
             ],
             [
              0.1111111111111111,
              "#482878"
             ],
             [
              0.2222222222222222,
              "#3e4989"
             ],
             [
              0.3333333333333333,
              "#31688e"
             ],
             [
              0.4444444444444444,
              "#26828e"
             ],
             [
              0.5555555555555556,
              "#1f9e89"
             ],
             [
              0.6666666666666666,
              "#35b779"
             ],
             [
              0.7777777777777778,
              "#6ece58"
             ],
             [
              0.8888888888888888,
              "#b5de2b"
             ],
             [
              1,
              "#fde725"
             ]
            ],
            "type": "contour"
           }
          ],
          "contourcarpet": [
           {
            "colorbar": {
             "outlinewidth": 1,
             "tickcolor": "rgb(36,36,36)",
             "ticks": "outside"
            },
            "type": "contourcarpet"
           }
          ],
          "heatmap": [
           {
            "colorbar": {
             "outlinewidth": 1,
             "tickcolor": "rgb(36,36,36)",
             "ticks": "outside"
            },
            "colorscale": [
             [
              0,
              "#440154"
             ],
             [
              0.1111111111111111,
              "#482878"
             ],
             [
              0.2222222222222222,
              "#3e4989"
             ],
             [
              0.3333333333333333,
              "#31688e"
             ],
             [
              0.4444444444444444,
              "#26828e"
             ],
             [
              0.5555555555555556,
              "#1f9e89"
             ],
             [
              0.6666666666666666,
              "#35b779"
             ],
             [
              0.7777777777777778,
              "#6ece58"
             ],
             [
              0.8888888888888888,
              "#b5de2b"
             ],
             [
              1,
              "#fde725"
             ]
            ],
            "type": "heatmap"
           }
          ],
          "heatmapgl": [
           {
            "colorbar": {
             "outlinewidth": 1,
             "tickcolor": "rgb(36,36,36)",
             "ticks": "outside"
            },
            "colorscale": [
             [
              0,
              "#440154"
             ],
             [
              0.1111111111111111,
              "#482878"
             ],
             [
              0.2222222222222222,
              "#3e4989"
             ],
             [
              0.3333333333333333,
              "#31688e"
             ],
             [
              0.4444444444444444,
              "#26828e"
             ],
             [
              0.5555555555555556,
              "#1f9e89"
             ],
             [
              0.6666666666666666,
              "#35b779"
             ],
             [
              0.7777777777777778,
              "#6ece58"
             ],
             [
              0.8888888888888888,
              "#b5de2b"
             ],
             [
              1,
              "#fde725"
             ]
            ],
            "type": "heatmapgl"
           }
          ],
          "histogram": [
           {
            "marker": {
             "line": {
              "color": "white",
              "width": 0.6
             }
            },
            "type": "histogram"
           }
          ],
          "histogram2d": [
           {
            "colorbar": {
             "outlinewidth": 1,
             "tickcolor": "rgb(36,36,36)",
             "ticks": "outside"
            },
            "colorscale": [
             [
              0,
              "#440154"
             ],
             [
              0.1111111111111111,
              "#482878"
             ],
             [
              0.2222222222222222,
              "#3e4989"
             ],
             [
              0.3333333333333333,
              "#31688e"
             ],
             [
              0.4444444444444444,
              "#26828e"
             ],
             [
              0.5555555555555556,
              "#1f9e89"
             ],
             [
              0.6666666666666666,
              "#35b779"
             ],
             [
              0.7777777777777778,
              "#6ece58"
             ],
             [
              0.8888888888888888,
              "#b5de2b"
             ],
             [
              1,
              "#fde725"
             ]
            ],
            "type": "histogram2d"
           }
          ],
          "histogram2dcontour": [
           {
            "colorbar": {
             "outlinewidth": 1,
             "tickcolor": "rgb(36,36,36)",
             "ticks": "outside"
            },
            "colorscale": [
             [
              0,
              "#440154"
             ],
             [
              0.1111111111111111,
              "#482878"
             ],
             [
              0.2222222222222222,
              "#3e4989"
             ],
             [
              0.3333333333333333,
              "#31688e"
             ],
             [
              0.4444444444444444,
              "#26828e"
             ],
             [
              0.5555555555555556,
              "#1f9e89"
             ],
             [
              0.6666666666666666,
              "#35b779"
             ],
             [
              0.7777777777777778,
              "#6ece58"
             ],
             [
              0.8888888888888888,
              "#b5de2b"
             ],
             [
              1,
              "#fde725"
             ]
            ],
            "type": "histogram2dcontour"
           }
          ],
          "mesh3d": [
           {
            "colorbar": {
             "outlinewidth": 1,
             "tickcolor": "rgb(36,36,36)",
             "ticks": "outside"
            },
            "type": "mesh3d"
           }
          ],
          "parcoords": [
           {
            "line": {
             "colorbar": {
              "outlinewidth": 1,
              "tickcolor": "rgb(36,36,36)",
              "ticks": "outside"
             }
            },
            "type": "parcoords"
           }
          ],
          "pie": [
           {
            "automargin": true,
            "type": "pie"
           }
          ],
          "scatter": [
           {
            "marker": {
             "colorbar": {
              "outlinewidth": 1,
              "tickcolor": "rgb(36,36,36)",
              "ticks": "outside"
             }
            },
            "type": "scatter"
           }
          ],
          "scatter3d": [
           {
            "line": {
             "colorbar": {
              "outlinewidth": 1,
              "tickcolor": "rgb(36,36,36)",
              "ticks": "outside"
             }
            },
            "marker": {
             "colorbar": {
              "outlinewidth": 1,
              "tickcolor": "rgb(36,36,36)",
              "ticks": "outside"
             }
            },
            "type": "scatter3d"
           }
          ],
          "scattercarpet": [
           {
            "marker": {
             "colorbar": {
              "outlinewidth": 1,
              "tickcolor": "rgb(36,36,36)",
              "ticks": "outside"
             }
            },
            "type": "scattercarpet"
           }
          ],
          "scattergeo": [
           {
            "marker": {
             "colorbar": {
              "outlinewidth": 1,
              "tickcolor": "rgb(36,36,36)",
              "ticks": "outside"
             }
            },
            "type": "scattergeo"
           }
          ],
          "scattergl": [
           {
            "marker": {
             "colorbar": {
              "outlinewidth": 1,
              "tickcolor": "rgb(36,36,36)",
              "ticks": "outside"
             }
            },
            "type": "scattergl"
           }
          ],
          "scattermapbox": [
           {
            "marker": {
             "colorbar": {
              "outlinewidth": 1,
              "tickcolor": "rgb(36,36,36)",
              "ticks": "outside"
             }
            },
            "type": "scattermapbox"
           }
          ],
          "scatterpolar": [
           {
            "marker": {
             "colorbar": {
              "outlinewidth": 1,
              "tickcolor": "rgb(36,36,36)",
              "ticks": "outside"
             }
            },
            "type": "scatterpolar"
           }
          ],
          "scatterpolargl": [
           {
            "marker": {
             "colorbar": {
              "outlinewidth": 1,
              "tickcolor": "rgb(36,36,36)",
              "ticks": "outside"
             }
            },
            "type": "scatterpolargl"
           }
          ],
          "scatterternary": [
           {
            "marker": {
             "colorbar": {
              "outlinewidth": 1,
              "tickcolor": "rgb(36,36,36)",
              "ticks": "outside"
             }
            },
            "type": "scatterternary"
           }
          ],
          "surface": [
           {
            "colorbar": {
             "outlinewidth": 1,
             "tickcolor": "rgb(36,36,36)",
             "ticks": "outside"
            },
            "colorscale": [
             [
              0,
              "#440154"
             ],
             [
              0.1111111111111111,
              "#482878"
             ],
             [
              0.2222222222222222,
              "#3e4989"
             ],
             [
              0.3333333333333333,
              "#31688e"
             ],
             [
              0.4444444444444444,
              "#26828e"
             ],
             [
              0.5555555555555556,
              "#1f9e89"
             ],
             [
              0.6666666666666666,
              "#35b779"
             ],
             [
              0.7777777777777778,
              "#6ece58"
             ],
             [
              0.8888888888888888,
              "#b5de2b"
             ],
             [
              1,
              "#fde725"
             ]
            ],
            "type": "surface"
           }
          ],
          "table": [
           {
            "cells": {
             "fill": {
              "color": "rgb(237,237,237)"
             },
             "line": {
              "color": "white"
             }
            },
            "header": {
             "fill": {
              "color": "rgb(217,217,217)"
             },
             "line": {
              "color": "white"
             }
            },
            "type": "table"
           }
          ]
         },
         "layout": {
          "annotationdefaults": {
           "arrowhead": 0,
           "arrowwidth": 1
          },
          "coloraxis": {
           "colorbar": {
            "outlinewidth": 1,
            "tickcolor": "rgb(36,36,36)",
            "ticks": "outside"
           }
          },
          "colorscale": {
           "diverging": [
            [
             0,
             "rgb(103,0,31)"
            ],
            [
             0.1,
             "rgb(178,24,43)"
            ],
            [
             0.2,
             "rgb(214,96,77)"
            ],
            [
             0.3,
             "rgb(244,165,130)"
            ],
            [
             0.4,
             "rgb(253,219,199)"
            ],
            [
             0.5,
             "rgb(247,247,247)"
            ],
            [
             0.6,
             "rgb(209,229,240)"
            ],
            [
             0.7,
             "rgb(146,197,222)"
            ],
            [
             0.8,
             "rgb(67,147,195)"
            ],
            [
             0.9,
             "rgb(33,102,172)"
            ],
            [
             1,
             "rgb(5,48,97)"
            ]
           ],
           "sequential": [
            [
             0,
             "#440154"
            ],
            [
             0.1111111111111111,
             "#482878"
            ],
            [
             0.2222222222222222,
             "#3e4989"
            ],
            [
             0.3333333333333333,
             "#31688e"
            ],
            [
             0.4444444444444444,
             "#26828e"
            ],
            [
             0.5555555555555556,
             "#1f9e89"
            ],
            [
             0.6666666666666666,
             "#35b779"
            ],
            [
             0.7777777777777778,
             "#6ece58"
            ],
            [
             0.8888888888888888,
             "#b5de2b"
            ],
            [
             1,
             "#fde725"
            ]
           ],
           "sequentialminus": [
            [
             0,
             "#440154"
            ],
            [
             0.1111111111111111,
             "#482878"
            ],
            [
             0.2222222222222222,
             "#3e4989"
            ],
            [
             0.3333333333333333,
             "#31688e"
            ],
            [
             0.4444444444444444,
             "#26828e"
            ],
            [
             0.5555555555555556,
             "#1f9e89"
            ],
            [
             0.6666666666666666,
             "#35b779"
            ],
            [
             0.7777777777777778,
             "#6ece58"
            ],
            [
             0.8888888888888888,
             "#b5de2b"
            ],
            [
             1,
             "#fde725"
            ]
           ]
          },
          "colorway": [
           "#1F77B4",
           "#FF7F0E",
           "#2CA02C",
           "#D62728",
           "#9467BD",
           "#8C564B",
           "#E377C2",
           "#7F7F7F",
           "#BCBD22",
           "#17BECF"
          ],
          "font": {
           "color": "rgb(36,36,36)"
          },
          "geo": {
           "bgcolor": "white",
           "lakecolor": "white",
           "landcolor": "white",
           "showlakes": true,
           "showland": true,
           "subunitcolor": "white"
          },
          "hoverlabel": {
           "align": "left"
          },
          "hovermode": "closest",
          "mapbox": {
           "style": "light"
          },
          "paper_bgcolor": "white",
          "plot_bgcolor": "white",
          "polar": {
           "angularaxis": {
            "gridcolor": "rgb(232,232,232)",
            "linecolor": "rgb(36,36,36)",
            "showgrid": false,
            "showline": true,
            "ticks": "outside"
           },
           "bgcolor": "white",
           "radialaxis": {
            "gridcolor": "rgb(232,232,232)",
            "linecolor": "rgb(36,36,36)",
            "showgrid": false,
            "showline": true,
            "ticks": "outside"
           }
          },
          "scene": {
           "xaxis": {
            "backgroundcolor": "white",
            "gridcolor": "rgb(232,232,232)",
            "gridwidth": 2,
            "linecolor": "rgb(36,36,36)",
            "showbackground": true,
            "showgrid": false,
            "showline": true,
            "ticks": "outside",
            "zeroline": false,
            "zerolinecolor": "rgb(36,36,36)"
           },
           "yaxis": {
            "backgroundcolor": "white",
            "gridcolor": "rgb(232,232,232)",
            "gridwidth": 2,
            "linecolor": "rgb(36,36,36)",
            "showbackground": true,
            "showgrid": false,
            "showline": true,
            "ticks": "outside",
            "zeroline": false,
            "zerolinecolor": "rgb(36,36,36)"
           },
           "zaxis": {
            "backgroundcolor": "white",
            "gridcolor": "rgb(232,232,232)",
            "gridwidth": 2,
            "linecolor": "rgb(36,36,36)",
            "showbackground": true,
            "showgrid": false,
            "showline": true,
            "ticks": "outside",
            "zeroline": false,
            "zerolinecolor": "rgb(36,36,36)"
           }
          },
          "shapedefaults": {
           "fillcolor": "black",
           "line": {
            "width": 0
           },
           "opacity": 0.3
          },
          "ternary": {
           "aaxis": {
            "gridcolor": "rgb(232,232,232)",
            "linecolor": "rgb(36,36,36)",
            "showgrid": false,
            "showline": true,
            "ticks": "outside"
           },
           "baxis": {
            "gridcolor": "rgb(232,232,232)",
            "linecolor": "rgb(36,36,36)",
            "showgrid": false,
            "showline": true,
            "ticks": "outside"
           },
           "bgcolor": "white",
           "caxis": {
            "gridcolor": "rgb(232,232,232)",
            "linecolor": "rgb(36,36,36)",
            "showgrid": false,
            "showline": true,
            "ticks": "outside"
           }
          },
          "title": {
           "x": 0.05
          },
          "xaxis": {
           "automargin": true,
           "gridcolor": "rgb(232,232,232)",
           "linecolor": "rgb(36,36,36)",
           "showgrid": false,
           "showline": true,
           "ticks": "outside",
           "title": {
            "standoff": 15
           },
           "zeroline": false,
           "zerolinecolor": "rgb(36,36,36)"
          },
          "yaxis": {
           "automargin": true,
           "gridcolor": "rgb(232,232,232)",
           "linecolor": "rgb(36,36,36)",
           "showgrid": false,
           "showline": true,
           "ticks": "outside",
           "title": {
            "standoff": 15
           },
           "zeroline": false,
           "zerolinecolor": "rgb(36,36,36)"
          }
         }
        },
        "title": {
         "text": "HousePressure g-pump-5 for all weeks "
        },
        "xaxis": {
         "anchor": "y",
         "domain": [
          0,
          1
         ],
         "title": {
          "text": "week"
         },
         "type": "category"
        },
        "yaxis": {
         "anchor": "x",
         "domain": [
          0,
          1
         ],
         "title": {
          "text": "feature_value"
         }
        }
       }
      },
      "text/html": [
       "<div>\n",
       "        \n",
       "        \n",
       "            <div id=\"cff7e7cb-d97b-4915-b17d-e557c0b3ebde\" class=\"plotly-graph-div\" style=\"height:525px; width:100%;\"></div>\n",
       "            <script type=\"text/javascript\">\n",
       "                require([\"plotly\"], function(Plotly) {\n",
       "                    window.PLOTLYENV=window.PLOTLYENV || {};\n",
       "                    \n",
       "                if (document.getElementById(\"cff7e7cb-d97b-4915-b17d-e557c0b3ebde\")) {\n",
       "                    Plotly.newPlot(\n",
       "                        'cff7e7cb-d97b-4915-b17d-e557c0b3ebde',\n",
       "                        [{\"hoverlabel\": {\"namelength\": 0}, \"hovertemplate\": \"week=%{x}<br>feature_value=%{y}\", \"legendgroup\": \"\", \"marker\": {\"color\": \"#1F77B4\", \"symbol\": \"circle\"}, \"mode\": \"markers\", \"name\": \"\", \"showlegend\": false, \"type\": \"scatter\", \"x\": [47, 47, 47, 47, 47, 47, 47, 47, 47, 47, 47, 47, 47, 47, 47, 47, 47, 47, 47, 47, 47, 47, 47, 47, 47, 47, 47, 47, 47, 47, 47, 47, 47, 47, 47, 47, 47, 47, 47, 47, 47, 47, 47, 47, 47, 47, 47, 47, 47, 47, 47, 47, 47, 47, 47, 47, 47, 47, 47, 47, 47, 47, 47, 47, 47, 47, 47, 47, 47, 47, 47, 47, 47, 47, 47, 47, 47, 47, 47, 47, 47, 47, 47, 47, 47, 47, 47, 47, 47, 47, 47, 47, 47, 47, 47, 47, 47, 47, 47, 47, 47, 47, 47, 47, 47, 47, 48, 48, 48, 48, 48, 48, 48, 48, 48, 48, 48, 48, 48, 48, 48, 48, 48, 48, 48, 48, 48, 48, 48, 48, 48, 48, 48, 48, 48, 48, 48, 48, 48, 48, 48, 48, 48, 48, 48, 48, 48, 48, 48, 48, 48, 48, 48, 48, 48, 48, 48, 48, 48, 48, 48, 48, 48, 48, 48, 48, 48, 48, 48, 48, 48, 48, 48, 48, 48, 48, 48, 48, 48, 48, 48, 48, 48, 48, 48, 48, 48, 48, 48, 48, 48, 48, 48, 48, 48, 48, 48, 48, 48, 48, 48, 48, 48, 48, 48, 48, 48, 48, 48, 48, 48, 48, 48, 48, 48, 48, 48, 48, 48, 48, 48, 48, 48, 48, 48, 48, 48, 48, 48, 48, 48, 48, 48, 48, 48, 48, 48, 48, 48, 48, 48, 48, 48, 48, 48, 48, 48, 48, 48, 48, 48, 48, 48, 48, 48, 48, 48, 48, 48, 48, 48, 48, 48, 48, 48, 48, 48, 48, 48, 48, 48, 48, 49, 49, 49, 49, 49, 49, 49, 49, 49, 49, 49, 49, 49, 49, 49, 49, 49, 49, 49, 49, 49, 49, 49, 49, 49, 49, 49, 49, 49, 50, 50, 50, 50, 50, 50, 50, 50, 50, 50, 50, 50, 50, 50, 50, 50, 50, 50, 50, 50, 50, 50, 50, 50, 50, 50, 50, 50, 50, 50, 50, 50, 50, 50, 50, 50, 50, 50, 50, 50, 51, 51, 51, 51, 51, 51, 51, 51, 51, 51, 51, 51, 51, 51, 51, 51, 51, 51, 51, 51, 51, 51, 51, 51, 51, 51, 51, 51, 51, 51, 51, 51, 51, 51, 51, 51, 51, 51, 51, 51, 51, 51, 51, 51, 51, 51, 51, 51, 51, 51, 51, 51, 51, 51, 51, 51, 51, 51, 51, 51, 51, 51, 51, 51, 51, 51, 51, 51, 51, 51, 51, 51, 51, 51, 51, 51, 51, 51, 51, 51, 51, 51, 51, 51, 51, 51, 51, 51, 51, 51, 51, 51, 51, 51, 51, 51, 51, 51, 51, 51, 51, 51, 51, 51, 51, 51, 51, 51, 51, 51, 51, 51, 51, 51, 51, 51, 51, 51, 51, 51, 51, 51, 51, 51, 51, 51, 51, 51, 51, 51, 51, 51, 51, 51, 51, 51, 51, 51, 51, 51, 51, 51, 51, 51, 51, 51, 51, 51, 51, 51, 52, 52, 52, 52, 52, 52, 52, 52, 52, 52, 52, 52, 52, 52, 52, 52, 52, 52, 52, 52, 52, 52, 52, 52, 52, 52, 52, 52, 52, 52, 52, 52, 52, 52, 52, 52, 52, 52, 52, 52, 52, 52, 52, 52, 52, 52, 52, 52, 52, 52, 52, 52, 52, 52, 52, 52, 52, 52, 52, 52, 52, 52, 52, 52, 52, 52, 52, 52, 52, 52, 52, 52, 52, 52, 52, 52, 52, 52, 52, 52, 52, 52, 52, 52, 52, 52, 52, 52, 52, 52, 52, 52, 52, 52, 52, 52, 52, 52, 52, 52, 52, 52, 52, 52, 52, 52, 52, 52, 52, 52, 52, 52, 52, 52, 52, 52, 52, 52, 52, 52, 52, 52, 52, 52, 52, 52, 52, 52, 52, 52, 52, 52, 52, 52, 52, 52, 52, 52, 52, 52, 52, 52, 52, 52, 52, 52, 52, 52, 52, 52, 52, 52, 52, 52, 52, 52, 52, 52, 52, 52, 52, 52, 52, 52, 52, 1, 1, 1, 1, 1, 1, 1, 1, 1, 1, 1, 1, 1, 1, 1, 1, 1, 1, 1, 1, 1, 1, 1, 1, 1, 1, 1, 1, 1, 1, 1, 1, 1, 1, 1, 1, 1, 1, 1, 1, 1, 1, 1, 1, 1, 1, 1, 1, 1, 1, 1, 1, 1, 1, 1, 1, 1, 1, 1, 1, 1, 1, 1, 1, 1, 1, 1, 1, 1, 1, 1, 1, 1, 1, 1, 1, 1, 1, 1, 1, 1, 1, 1, 1, 1, 1, 1, 1, 1, 1, 1, 1, 1, 1, 1, 1, 1, 1, 1, 1, 1, 1, 1, 1, 1, 1, 1, 1, 1, 1, 1, 1, 1, 1, 1, 1, 1, 1, 1, 1, 1, 1, 1, 1, 1, 1, 1, 1, 1, 1, 1, 1, 1, 1, 1, 1, 1, 1, 1, 1, 1, 1, 1, 1, 1, 1, 1, 1, 1, 1, 1, 1, 1, 1, 1, 1, 1, 1, 1, 1, 1, 1, 1, 1, 1, 1, 1, 1, 2, 2, 2, 2, 2, 2, 2, 2, 2, 2, 2, 2, 2, 2, 2, 2, 2], \"xaxis\": \"x\", \"y\": [3.1984423347788815, 3.30738705738706, 3.1996637950377798, 3.300391737891738, 3.281631562881564, 3.3402650590150595, 3.3041437728937724, 3.356481481481483, 3.2858923483923483, 3.3017908017908026, 3.2327915140415158, 3.2774170274170262, 3.236161986161985, 3.281122812372812, 3.2226165038665027, 3.34713319088319, 3.3241758241758235, 3.2421398046398053, 3.2226800976800973, 3.2691035816035825, 3.236225579975581, 3.2956539987789992, 3.3126123490706836, 3.2514245014245016, 3.2860195360195372, 3.3109483109483118, 3.261281542531543, 3.290598290598291, 3.3611874236874235, 3.3527930402930406, 3.29892908017908, 3.279024216524217, 3.312983312983313, 3.2759717134717135, 3.275272181522183, 3.330725986975987, 3.232219169719168, 3.336195054945056, 3.2983567358567356, 3.301091269841271, 3.337848494098496, 3.2991198616198627, 3.2590557590557587, 3.3170533170533165, 3.2532051282051295, 3.305542836792837, 3.3436355311355324, 3.380519943019944, 3.3207417582417595, 3.3143187830687832, 3.250343406593407, 3.2543498168498157, 3.3026175213675217, 3.291043447293447, 3.2885632885632883, 3.3676103988603994, 3.225923382173382, 3.252187627187625, 3.2525691900691895, 3.374669312169311, 3.3584528897028902, 3.3798840048840053, 3.3270375457875443, 3.291679385429386, 3.2363527676027655, 3.3246845746845746, 3.2602640415140414, 3.346815221815221, 3.2883089133089136, 3.324875356125356, 3.2774979649979663, 3.2650971713471715, 3.3581985144485134, 3.2912978225478233, 3.356926638176637, 3.38363603988604, 3.3048433048433066, 3.3382936507936507, 3.3312983312983313, 3.2349537037037046, 3.369391025641025, 3.3011548636548618, 3.4137159137159117, 3.312220187220186, 3.245001526251525, 3.274827024827024, 3.188530219780219, 3.255876068376068, 3.278897028897029, 3.376131969881969, 3.327291921041922, 3.3695818070818073, 3.4783272283272293, 3.2332366707366726, 3.302363146113146, 3.24074074074074, 3.294223137973139, 3.3094220594220594, 3.201948514448515, 3.2472909035409017, 3.369581807081806, 3.3064331501831483, 3.3328245828245815, 3.3305987993488, 3.349041005291005, 3.2220441595441582, 3.318007224257226, 3.297339234839234, 3.3291997354497354, 3.2457010582010573, 3.282458282458284, 3.169452075702076, 3.3397563085063076, 3.2444927757427755, 3.3106939356939353, 3.254731379731378, 3.2872278184778185, 3.25689356939357, 3.3662113349613354, 3.30509768009768, 3.2937779812779815, 3.2840481277981266, 3.2523148148148144, 3.2371794871794886, 3.248117623117622, 3.339883496133497, 3.1948896011396006, 3.328881766381766, 3.3013456450956458, 3.3312983312983313, 3.3106303418803424, 3.3386116198616214, 3.3600427350427347, 3.3253205128205128, 3.30109126984127, 3.322331603581604, 3.3038258038258035, 3.2647792022792026, 3.3452253764753768, 3.340455840455841, 3.303062678062678, 3.366020553520554, 3.3788029100529102, 3.4355285917785934, 3.312474562474563, 3.3276734839234834, 3.355209605209603, 3.3121565934065926, 3.3701541514041504, 3.2227436914936907, 3.278897028897028, 3.384971509971511, 3.3488502238502247, 3.2928240740740744, 3.3652574277574288, 3.2413766788766796, 3.252124033374032, 3.3192791005291, 3.360042735042736, 3.3357498982498988, 3.234508547008548, 3.3070690883190887, 3.3323158323158313, 3.1960978835978846, 3.235462454212453, 3.3567994505494503, 3.2363527676027695, 3.34096459096459, 3.292188135938135, 3.378548534798536, 3.332061457061457, 3.21873728123728, 3.3168625356125343, 3.3033806471306466, 3.2822675010175004, 3.3205509768009764, 3.3246209808709803, 3.309167684167686, 3.268531237281238, 3.2755265567765584, 3.2579746642246636, 3.2877365689865683, 3.2746362433862437, 3.280041717541718, 3.283348595848597, 3.3061787749287768, 3.3456705331705336, 3.3233491045991044, 3.3335877085877086, 3.283920940170941, 3.2582926332926334, 3.258165445665446, 3.3171805046805045, 3.3467516280016274, 3.432030932030932, 3.3498677248677247, 3.3613782051282057, 3.321250508750508, 3.223697598697599, 3.227513227513229, 3.300900488400488, 3.302490333740335, 3.2256054131054146, 3.269803113553113, 3.2447471509971506, 3.298801892551891, 3.336830993080994, 3.310566748066748, 3.2199455636955623, 3.20754477004477, 3.3280550468050465, 3.2507249694749696, 3.3649394586894594, 3.2902167277167287, 3.226241351241353, 3.3004553317053307, 3.2851928164428172, 3.3037622100122106, 3.303317053317056, 3.2128230565730562, 3.2858287545787532, 3.292824074074074, 3.3486594424094434, 3.3176256613756596, 3.268912800162799, 3.2255418192918195, 3.2235704110704106, 3.3319342694342695, 3.263507326007326, 3.2594373219373214, 3.28856328856329, 3.2682768620268625, 3.3307259869759864, 3.168625356125356, 3.220517908017909, 3.3489138176638185, 3.2500890313390323, 3.275908119658118, 3.2996286121286125, 3.2848112535612537, 3.2977207977207965, 3.286401098901099, 3.3316163003663006, 3.169642857142858, 3.3244301994301986, 3.3593432030932036, 3.3684371184371176, 3.3565450752950756, 3.2667887667887676, 3.279278591778592, 3.36430352055352, 3.28175875050875, 3.404685592185592, 3.3253841066341074, 3.2753993691493695, 3.2795965608465596, 3.2230616605616595, 3.3733974358974343, 3.2904711029711042, 3.326465201465202, 3.289898758648757, 3.3055428367928372, 3.3009640822140827, 3.238642144892143, 3.3345416157916166, 3.267004985754985, 3.291361416361416, 3.231837606837605, 3.300836894586894, 3.313555657305658, 3.2565756003256006, 3.2631257631257626, 3.4308862433862415, 3.3707900895400904, 3.2069088319088306, 3.257338726088728, 3.300900488400489, 3.257720288970289, 3.206845238095239, 3.3095492470492474, 3.3486594424094434, 3.2680224867724887, 3.2314560439560434, 3.280168905168905, 3.3217592592592595, 3.316798941798942, 3.319406288156289, 3.3059879934879923, 3.258038258038257, 3.384589947089946, 3.3606150793650786, 3.276289682539682, 3.300836894586895, 3.236988705738708, 3.2760353072853072, 3.26942155067155, 3.3296448921448913, 3.338865995115995, 3.3412189662189675, 3.3076414326414336, 3.2848112535612555, 3.3978174603174596, 3.4310134310134313, 3.4584223646723617, 3.377785409035408, 3.359533984533984, 3.4275157712657696, 3.4448768823768816, 3.4582951770451764, 3.3292633292633282, 3.4876119251119246, 3.391903235653236, 3.4095823158323166, 3.303762210012208, 3.387388074888074, 3.3851622914122927, 3.414733414733414, 3.3676103988603985, 3.4356557794057796, 3.4307590557590566, 3.3502492877492887, 3.3808379120879093, 3.396227614977615, 3.398834961334961, 3.394001831501832, 3.358580077330078, 3.406211843711844, 3.3764499389499387, 3.387070105820106, 3.4123804436304432, 3.4068477818477825, 3.3503764753764753, 3.399725274725274, 3.411362942612943, 3.4088827838827847, 3.468724562474563, 3.3791844729344724, 3.3644307081807074, 3.45282610907611, 3.474066442816445, 3.530474155474156, 3.5105692918192926, 3.4888838013838, 3.4462123524623536, 3.4055123117623136, 3.3732066544566544, 3.4892653642653646, 3.432603276353277, 3.372634310134312, 3.280168905168905, 3.3826185388685395, 3.3046525234025217, 3.4261167073667074, 3.4135251322751348, 3.3528566341066366, 3.26725936100936, 3.269675925925925, 3.2995014245014254, 3.2736823361823375, 3.372061965811966, 3.328881766381768, 3.3842083842083834, 3.3625864875864875, 3.332061457061457, 3.3246845746845755, 3.431267806267806, 3.2720288970288958, 3.3450981888481888, 3.3333333333333326, 3.293078449328451, 3.34662444037444, 3.3624592999592995, 3.267704517704517, 3.338548026048027, 3.399343711843713, 3.2891356328856336, 3.377785409035408, 3.478835978835978, 3.2671321733821723, 3.4014423076923097, 3.3797568172568178, 3.3506944444444433, 3.3926663614163606, 3.352475071225071, 3.3636675824175835, 3.310375966625967, 3.317562067562067, 3.3367038054538045, 3.300010175010176, 3.4018874643874644, 3.4022054334554355, 3.3433175620675613, 3.350694444444445, 3.4453220390720394, 3.3770858770858765, 3.445385632885634, 3.428151709401709, 3.4126348188848183, 3.3764499389499396, 3.424463268213269, 3.4516178266178277, 3.480107855107855, 3.442078754578754, 3.4279609279609295, 3.372443528693529, 3.4303774928774917, 3.4417607855107843, 3.433302808302809, 3.4180402930402924, 3.3648122710622714, 3.4114901302401317, 3.530092592592592, 3.415369352869352, 3.4565145502645502, 3.4698056573056575, 3.282013125763125, 3.278006715506716, 3.4535256410256423, 3.3087225274725274, 3.345034595034596, 3.333015364265364, 3.3236034798534795, 3.395718864468865, 3.326783170533169, 3.286019536019536, 3.257656695156694, 3.3026811151811177, 3.3862433862433856, 3.310312372812374, 3.345988502238502, 3.2617902930402933, 3.4216015466015466, 3.313810032560033, 3.324875356125357, 3.3851622914122905, 3.3212505087505093, 3.361759768009769, 3.323221916971916, 3.3494225681725687, 3.3577533577533583, 3.3868793243793243, 3.381982600732602, 3.337975681725682, 3.3665928978428963, 3.275081400081399, 3.257211538461537, 3.339756308506308, 3.405257936507935, 3.351839133089133, 3.2979115791615787, 3.3547008547008565, 3.384081196581196, 3.2633801383801373, 3.3144459706959704, 3.3868793243793225, 3.3717439967439975, 3.327419108669108, 3.31177503052503, 3.4104090354090357, 3.2612179487179476, 3.34878663003663, 3.332760989010989, 3.4012515262515257, 3.3282458282458283, 3.316480972730974, 3.3857982295482287, 3.339374745624747, 3.3228403540903546, 3.2578474765974765, 3.342999592999592, 3.30643315018315, 3.3222680097680093, 3.3406466218966226, 3.3485322547822527, 3.269993894993895, 3.3326338013838, 3.360169922669922, 3.324239417989419, 3.3910129222629215, 3.3467516280016274, 3.320678164428164, 3.4011879324379333, 3.423445767195768, 3.3789300976800987, 3.3751144688644703, 3.350885225885227, 3.426561864061865, 3.290025946275946, 3.3576897639397623, 3.392221204721205, 3.280868437118438, 3.4478021978021993, 3.4516178266178255, 3.3492953805453802, 3.4488196988196997, 3.3353683353683343, 3.3148911273911286, 3.304779711029711, 3.3327609890109904, 3.287291412291412, 3.343635531135531, 3.3386752136752142, 3.3143187830687832, 3.30560643060643, 3.3219500407000404, 3.2742546805046797, 3.4251628001627985, 3.429296398046396, 3.4382631257631253, 3.3830636955636972, 3.403350122100122, 3.390313390313391, 3.382872914122915, 3.3131105006105, 3.3816010378510364, 3.3476419413919416, 3.2689763939763936, 3.329326923076923, 3.3928571428571437, 3.350630850630852, 3.3716168091168086, 3.3873244810744816, 3.3295812983313, 3.3458613146113145, 3.3175620675620667, 3.249262311762313, 3.344843813593814, 3.2605820105820094, 3.452062983312984, 3.283920940170941, 3.3278006715506714, 3.3278642653642656, 3.2893900081400065, 3.411998880748879, 3.3715532153032157, 3.3488502238502242, 3.388596357346357, 3.3814102564102577, 3.4004248066748057, 3.28811813186813, 3.327037545787545, 3.321059727309727, 3.3594703907203893, 3.337721306471306, 3.3004553317053316, 3.3411553724053715, 3.3342236467236464, 3.421474358974358, 3.3944469881969876, 3.28074124949125, 3.3272283272283256, 3.4334299959299948, 3.2427757427757444, 3.4113629426129415, 3.347641941391941, 3.264652014652016, 3.409200752950753, 3.293396418396418, 3.3318706756206757, 3.366592897842899, 3.2753993691493695, 3.326655982905983, 3.3431267806267795, 3.4476750101750113, 3.3183251933251943, 3.3784849409849413, 3.371680402930402, 3.42433608058608, 3.401124338624339, 3.3049068986568977, 3.363603988603989, 3.321250508750508, 3.3206781644281658, 3.3852894790394785, 3.2608999796499805, 3.38567104192104, 3.312538156288157, 3.4533984533984525, 3.49085520960521, 3.3634768009768012, 3.411998880748879, 3.3382300569800556, 3.3138736263736277, 3.324048636548637, 3.4058302808302816, 3.240486365486365, 3.37079008954009, 3.3673560236060225, 3.262553418803419, 3.3851622914122914, 3.3785485347985342, 3.400869963369962, 3.362014143264144, 3.314636752136753, 3.39266636141636, 3.284366096866096, 3.357626170126171, 3.329644892144891, 3.376640720390722, 3.410154660154662, 3.2785154660154663, 3.4018874643874635, 3.234190577940579, 3.361632580382581, 3.351521164021165, 3.3192791005291, 3.4004248066748075, 3.324557387057387, 3.3957824582824596, 3.3927299552299552, 3.3560999185999187, 3.3162901912901925, 3.3674832112332127, 3.2775615588115596, 3.311711436711437, 3.3789936914936916, 3.3279914529914536, 3.355082417582418, 3.2989926739926734, 3.440043752543751, 3.4052579365079354, 3.3019179894179906, 3.3790572853072844, 3.3520299145299153, 3.4409976597476604, 3.364430708180708, 3.369327431827432, 3.4326668701668708, 3.329772079772079, 3.2989290801790805, 3.33174348799349, 3.358325702075702, 3.213649776149776, 3.3393111518111525, 3.349740537240537, 3.3921576109076104, 3.3536833536833535, 3.3234762922262924, 3.3562907000407, 3.3522206959706957, 3.3090404965404967, 3.324493793243794, 3.3178164428164436, 3.284048127798128, 3.293078449328449, 3.3892322954822958, 3.418739824989823, 3.223951973951973, 3.3216956654456644, 3.330980362230363, 3.443159849409849, 3.3533653846153846, 3.3798204110704115, 3.3402650590150595, 3.338039275539277, 3.3771494708994703, 3.47266737891738, 3.4225554538054532, 3.360233516483515, 3.3388024013024005, 3.354637260887262, 3.418676231176231, 3.348850223850224, 3.3401378713878724, 3.247545278795279, 3.3656389906389914, 3.3715532153032153, 3.3545736670736677, 3.401633089133089, 3.3819826007326, 3.443032661782663, 3.410345441595441, 3.33377849002849, 3.423954517704518, 3.42217389092389, 3.4464667277167256, 3.323094729344731, 3.347832722832722, 3.3175620675620685, 3.37447853072853, 3.4618564306064292, 3.316544566544566, 3.3232219169719177, 3.3126653439153433, 3.352411477411478, 3.329899267399267, 3.432730463980466, 3.310821123321123, 3.3993437118437115, 3.3816646316646337, 3.4236365486365474, 3.334732397232397, 3.430377492877493, 3.3167353479853485, 3.4561329873829876, 3.347451159951161, 3.4137159137159134, 3.4282153032153015, 3.4662444037444047, 3.4283424908424904, 3.2650335775335777, 3.439852971102973, 3.421283577533577, 3.4170227920227916, 3.419630138380139, 3.371871184371184, 3.4422695360195354, 3.451236263736266, 3.348595848595851, 3.3361950549450543, 3.2984839234839245, 3.314000814000815, 3.3427452177452195, 3.271265771265771, 3.400361212861212, 3.471586284086284, 3.4093915343915335, 3.3861161986161985, 3.3389931827431822, 3.332061457061457, 3.38045634920635, 3.450600325600327, 3.318070818070817, 3.411744505494506, 3.375305250305248, 3.4325396825396823, 3.427897334147334, 3.356290700040699, 3.3207417582417587, 3.3449710012210017, 3.3555911680911685, 3.356926638176638, 3.37695868945869, 3.417213573463575, 3.357753357753357, 3.3250661375661372, 3.351330382580382, 3.3709172771672766, 3.35330179080179, 3.3793116605616604, 3.398199023199023, 3.336830993080994, 3.380201973951973, 3.376640720390719, 3.3547644485144477, 3.326020044770044, 3.316989723239723, 3.3864341676841683, 3.3679919617419602, 3.3496133496133496, 3.356608669108669, 3.435464997964997, 3.276989214489213, 3.380201973951974, 3.3854802604802594, 3.5064992877492878, 3.442078754578755, 3.3173712861212876, 3.324303011803011, 3.3358134920634934, 3.4324124949124957, 3.32144129019129, 3.363222425722426, 3.410599816849816, 3.4151149776149765, 3.4242724867724874, 3.410345441595441, 3.3828729141229146, 3.3278642653642656, 3.3267831705331705, 3.312092999592999, 3.3791208791208796, 3.330280830280829, 3.4286604599104593, 3.4094551282051277, 3.308213776963777, 3.441442816442816, 3.4067205942205945, 3.297784391534391, 3.270184676434676, 3.2904075091575105, 3.291107041107041, 3.4030957468457483, 3.4103454415954393, 3.329454110704111, 3.32843660968661, 3.421474358974358, 3.3734610297110303, 3.403540903540905, 3.412698412698413, 3.3692002442002433, 3.360615079365079, 3.389105107855108, 3.427642958892959, 3.3188975376475383, 3.3917760480260495, 3.3622685185185177, 3.3251933251933252, 3.3645578958078963, 3.3782941595441596, 3.3118386243386255, 3.400933557183557, 3.362077737077737, 3.4008063695563693, 3.3508216320716326, 3.334350834350834, 3.3538105413105406, 3.4181038868538867, 3.4333028083028085, 3.3676103988603994, 3.4195665445665444, 3.4280245217745215, 3.408056064306065, 3.3872608872608887, 3.3553367928367934, 3.428024521774523, 3.3954008954008965, 3.3355591168091183, 3.370980870980871, 3.4061482498982496, 3.4083104395604393, 3.3347323972323952, 3.3572446072446067, 3.3588980463980467, 3.295876577126577, 3.46885175010175, 3.357371794871796, 3.3908857346357357, 3.437881562881563, 3.3293269230769234, 3.3034442409442417, 3.3756868131868134, 3.4484381359381366, 3.3297720797720807, 3.373333842083843, 3.401823870573869, 3.3707900895400886, 3.3224587912087906, 3.2583562271062267, 3.3482142857142865, 3.39514652014652], \"yaxis\": \"y\"}],\n",
       "                        {\"legend\": {\"tracegroupgap\": 0}, \"template\": {\"data\": {\"bar\": [{\"error_x\": {\"color\": \"rgb(36,36,36)\"}, \"error_y\": {\"color\": \"rgb(36,36,36)\"}, \"marker\": {\"line\": {\"color\": \"white\", \"width\": 0.5}}, \"type\": \"bar\"}], \"barpolar\": [{\"marker\": {\"line\": {\"color\": \"white\", \"width\": 0.5}}, \"type\": \"barpolar\"}], \"carpet\": [{\"aaxis\": {\"endlinecolor\": \"rgb(36,36,36)\", \"gridcolor\": \"white\", \"linecolor\": \"white\", \"minorgridcolor\": \"white\", \"startlinecolor\": \"rgb(36,36,36)\"}, \"baxis\": {\"endlinecolor\": \"rgb(36,36,36)\", \"gridcolor\": \"white\", \"linecolor\": \"white\", \"minorgridcolor\": \"white\", \"startlinecolor\": \"rgb(36,36,36)\"}, \"type\": \"carpet\"}], \"choropleth\": [{\"colorbar\": {\"outlinewidth\": 1, \"tickcolor\": \"rgb(36,36,36)\", \"ticks\": \"outside\"}, \"type\": \"choropleth\"}], \"contour\": [{\"colorbar\": {\"outlinewidth\": 1, \"tickcolor\": \"rgb(36,36,36)\", \"ticks\": \"outside\"}, \"colorscale\": [[0.0, \"#440154\"], [0.1111111111111111, \"#482878\"], [0.2222222222222222, \"#3e4989\"], [0.3333333333333333, \"#31688e\"], [0.4444444444444444, \"#26828e\"], [0.5555555555555556, \"#1f9e89\"], [0.6666666666666666, \"#35b779\"], [0.7777777777777778, \"#6ece58\"], [0.8888888888888888, \"#b5de2b\"], [1.0, \"#fde725\"]], \"type\": \"contour\"}], \"contourcarpet\": [{\"colorbar\": {\"outlinewidth\": 1, \"tickcolor\": \"rgb(36,36,36)\", \"ticks\": \"outside\"}, \"type\": \"contourcarpet\"}], \"heatmap\": [{\"colorbar\": {\"outlinewidth\": 1, \"tickcolor\": \"rgb(36,36,36)\", \"ticks\": \"outside\"}, \"colorscale\": [[0.0, \"#440154\"], [0.1111111111111111, \"#482878\"], [0.2222222222222222, \"#3e4989\"], [0.3333333333333333, \"#31688e\"], [0.4444444444444444, \"#26828e\"], [0.5555555555555556, \"#1f9e89\"], [0.6666666666666666, \"#35b779\"], [0.7777777777777778, \"#6ece58\"], [0.8888888888888888, \"#b5de2b\"], [1.0, \"#fde725\"]], \"type\": \"heatmap\"}], \"heatmapgl\": [{\"colorbar\": {\"outlinewidth\": 1, \"tickcolor\": \"rgb(36,36,36)\", \"ticks\": \"outside\"}, \"colorscale\": [[0.0, \"#440154\"], [0.1111111111111111, \"#482878\"], [0.2222222222222222, \"#3e4989\"], [0.3333333333333333, \"#31688e\"], [0.4444444444444444, \"#26828e\"], [0.5555555555555556, \"#1f9e89\"], [0.6666666666666666, \"#35b779\"], [0.7777777777777778, \"#6ece58\"], [0.8888888888888888, \"#b5de2b\"], [1.0, \"#fde725\"]], \"type\": \"heatmapgl\"}], \"histogram\": [{\"marker\": {\"line\": {\"color\": \"white\", \"width\": 0.6}}, \"type\": \"histogram\"}], \"histogram2d\": [{\"colorbar\": {\"outlinewidth\": 1, \"tickcolor\": \"rgb(36,36,36)\", \"ticks\": \"outside\"}, \"colorscale\": [[0.0, \"#440154\"], [0.1111111111111111, \"#482878\"], [0.2222222222222222, \"#3e4989\"], [0.3333333333333333, \"#31688e\"], [0.4444444444444444, \"#26828e\"], [0.5555555555555556, \"#1f9e89\"], [0.6666666666666666, \"#35b779\"], [0.7777777777777778, \"#6ece58\"], [0.8888888888888888, \"#b5de2b\"], [1.0, \"#fde725\"]], \"type\": \"histogram2d\"}], \"histogram2dcontour\": [{\"colorbar\": {\"outlinewidth\": 1, \"tickcolor\": \"rgb(36,36,36)\", \"ticks\": \"outside\"}, \"colorscale\": [[0.0, \"#440154\"], [0.1111111111111111, \"#482878\"], [0.2222222222222222, \"#3e4989\"], [0.3333333333333333, \"#31688e\"], [0.4444444444444444, \"#26828e\"], [0.5555555555555556, \"#1f9e89\"], [0.6666666666666666, \"#35b779\"], [0.7777777777777778, \"#6ece58\"], [0.8888888888888888, \"#b5de2b\"], [1.0, \"#fde725\"]], \"type\": \"histogram2dcontour\"}], \"mesh3d\": [{\"colorbar\": {\"outlinewidth\": 1, \"tickcolor\": \"rgb(36,36,36)\", \"ticks\": \"outside\"}, \"type\": \"mesh3d\"}], \"parcoords\": [{\"line\": {\"colorbar\": {\"outlinewidth\": 1, \"tickcolor\": \"rgb(36,36,36)\", \"ticks\": \"outside\"}}, \"type\": \"parcoords\"}], \"pie\": [{\"automargin\": true, \"type\": \"pie\"}], \"scatter\": [{\"marker\": {\"colorbar\": {\"outlinewidth\": 1, \"tickcolor\": \"rgb(36,36,36)\", \"ticks\": \"outside\"}}, \"type\": \"scatter\"}], \"scatter3d\": [{\"line\": {\"colorbar\": {\"outlinewidth\": 1, \"tickcolor\": \"rgb(36,36,36)\", \"ticks\": \"outside\"}}, \"marker\": {\"colorbar\": {\"outlinewidth\": 1, \"tickcolor\": \"rgb(36,36,36)\", \"ticks\": \"outside\"}}, \"type\": \"scatter3d\"}], \"scattercarpet\": [{\"marker\": {\"colorbar\": {\"outlinewidth\": 1, \"tickcolor\": \"rgb(36,36,36)\", \"ticks\": \"outside\"}}, \"type\": \"scattercarpet\"}], \"scattergeo\": [{\"marker\": {\"colorbar\": {\"outlinewidth\": 1, \"tickcolor\": \"rgb(36,36,36)\", \"ticks\": \"outside\"}}, \"type\": \"scattergeo\"}], \"scattergl\": [{\"marker\": {\"colorbar\": {\"outlinewidth\": 1, \"tickcolor\": \"rgb(36,36,36)\", \"ticks\": \"outside\"}}, \"type\": \"scattergl\"}], \"scattermapbox\": [{\"marker\": {\"colorbar\": {\"outlinewidth\": 1, \"tickcolor\": \"rgb(36,36,36)\", \"ticks\": \"outside\"}}, \"type\": \"scattermapbox\"}], \"scatterpolar\": [{\"marker\": {\"colorbar\": {\"outlinewidth\": 1, \"tickcolor\": \"rgb(36,36,36)\", \"ticks\": \"outside\"}}, \"type\": \"scatterpolar\"}], \"scatterpolargl\": [{\"marker\": {\"colorbar\": {\"outlinewidth\": 1, \"tickcolor\": \"rgb(36,36,36)\", \"ticks\": \"outside\"}}, \"type\": \"scatterpolargl\"}], \"scatterternary\": [{\"marker\": {\"colorbar\": {\"outlinewidth\": 1, \"tickcolor\": \"rgb(36,36,36)\", \"ticks\": \"outside\"}}, \"type\": \"scatterternary\"}], \"surface\": [{\"colorbar\": {\"outlinewidth\": 1, \"tickcolor\": \"rgb(36,36,36)\", \"ticks\": \"outside\"}, \"colorscale\": [[0.0, \"#440154\"], [0.1111111111111111, \"#482878\"], [0.2222222222222222, \"#3e4989\"], [0.3333333333333333, \"#31688e\"], [0.4444444444444444, \"#26828e\"], [0.5555555555555556, \"#1f9e89\"], [0.6666666666666666, \"#35b779\"], [0.7777777777777778, \"#6ece58\"], [0.8888888888888888, \"#b5de2b\"], [1.0, \"#fde725\"]], \"type\": \"surface\"}], \"table\": [{\"cells\": {\"fill\": {\"color\": \"rgb(237,237,237)\"}, \"line\": {\"color\": \"white\"}}, \"header\": {\"fill\": {\"color\": \"rgb(217,217,217)\"}, \"line\": {\"color\": \"white\"}}, \"type\": \"table\"}]}, \"layout\": {\"annotationdefaults\": {\"arrowhead\": 0, \"arrowwidth\": 1}, \"coloraxis\": {\"colorbar\": {\"outlinewidth\": 1, \"tickcolor\": \"rgb(36,36,36)\", \"ticks\": \"outside\"}}, \"colorscale\": {\"diverging\": [[0.0, \"rgb(103,0,31)\"], [0.1, \"rgb(178,24,43)\"], [0.2, \"rgb(214,96,77)\"], [0.3, \"rgb(244,165,130)\"], [0.4, \"rgb(253,219,199)\"], [0.5, \"rgb(247,247,247)\"], [0.6, \"rgb(209,229,240)\"], [0.7, \"rgb(146,197,222)\"], [0.8, \"rgb(67,147,195)\"], [0.9, \"rgb(33,102,172)\"], [1.0, \"rgb(5,48,97)\"]], \"sequential\": [[0.0, \"#440154\"], [0.1111111111111111, \"#482878\"], [0.2222222222222222, \"#3e4989\"], [0.3333333333333333, \"#31688e\"], [0.4444444444444444, \"#26828e\"], [0.5555555555555556, \"#1f9e89\"], [0.6666666666666666, \"#35b779\"], [0.7777777777777778, \"#6ece58\"], [0.8888888888888888, \"#b5de2b\"], [1.0, \"#fde725\"]], \"sequentialminus\": [[0.0, \"#440154\"], [0.1111111111111111, \"#482878\"], [0.2222222222222222, \"#3e4989\"], [0.3333333333333333, \"#31688e\"], [0.4444444444444444, \"#26828e\"], [0.5555555555555556, \"#1f9e89\"], [0.6666666666666666, \"#35b779\"], [0.7777777777777778, \"#6ece58\"], [0.8888888888888888, \"#b5de2b\"], [1.0, \"#fde725\"]]}, \"colorway\": [\"#1F77B4\", \"#FF7F0E\", \"#2CA02C\", \"#D62728\", \"#9467BD\", \"#8C564B\", \"#E377C2\", \"#7F7F7F\", \"#BCBD22\", \"#17BECF\"], \"font\": {\"color\": \"rgb(36,36,36)\"}, \"geo\": {\"bgcolor\": \"white\", \"lakecolor\": \"white\", \"landcolor\": \"white\", \"showlakes\": true, \"showland\": true, \"subunitcolor\": \"white\"}, \"hoverlabel\": {\"align\": \"left\"}, \"hovermode\": \"closest\", \"mapbox\": {\"style\": \"light\"}, \"paper_bgcolor\": \"white\", \"plot_bgcolor\": \"white\", \"polar\": {\"angularaxis\": {\"gridcolor\": \"rgb(232,232,232)\", \"linecolor\": \"rgb(36,36,36)\", \"showgrid\": false, \"showline\": true, \"ticks\": \"outside\"}, \"bgcolor\": \"white\", \"radialaxis\": {\"gridcolor\": \"rgb(232,232,232)\", \"linecolor\": \"rgb(36,36,36)\", \"showgrid\": false, \"showline\": true, \"ticks\": \"outside\"}}, \"scene\": {\"xaxis\": {\"backgroundcolor\": \"white\", \"gridcolor\": \"rgb(232,232,232)\", \"gridwidth\": 2, \"linecolor\": \"rgb(36,36,36)\", \"showbackground\": true, \"showgrid\": false, \"showline\": true, \"ticks\": \"outside\", \"zeroline\": false, \"zerolinecolor\": \"rgb(36,36,36)\"}, \"yaxis\": {\"backgroundcolor\": \"white\", \"gridcolor\": \"rgb(232,232,232)\", \"gridwidth\": 2, \"linecolor\": \"rgb(36,36,36)\", \"showbackground\": true, \"showgrid\": false, \"showline\": true, \"ticks\": \"outside\", \"zeroline\": false, \"zerolinecolor\": \"rgb(36,36,36)\"}, \"zaxis\": {\"backgroundcolor\": \"white\", \"gridcolor\": \"rgb(232,232,232)\", \"gridwidth\": 2, \"linecolor\": \"rgb(36,36,36)\", \"showbackground\": true, \"showgrid\": false, \"showline\": true, \"ticks\": \"outside\", \"zeroline\": false, \"zerolinecolor\": \"rgb(36,36,36)\"}}, \"shapedefaults\": {\"fillcolor\": \"black\", \"line\": {\"width\": 0}, \"opacity\": 0.3}, \"ternary\": {\"aaxis\": {\"gridcolor\": \"rgb(232,232,232)\", \"linecolor\": \"rgb(36,36,36)\", \"showgrid\": false, \"showline\": true, \"ticks\": \"outside\"}, \"baxis\": {\"gridcolor\": \"rgb(232,232,232)\", \"linecolor\": \"rgb(36,36,36)\", \"showgrid\": false, \"showline\": true, \"ticks\": \"outside\"}, \"bgcolor\": \"white\", \"caxis\": {\"gridcolor\": \"rgb(232,232,232)\", \"linecolor\": \"rgb(36,36,36)\", \"showgrid\": false, \"showline\": true, \"ticks\": \"outside\"}}, \"title\": {\"x\": 0.05}, \"xaxis\": {\"automargin\": true, \"gridcolor\": \"rgb(232,232,232)\", \"linecolor\": \"rgb(36,36,36)\", \"showgrid\": false, \"showline\": true, \"ticks\": \"outside\", \"title\": {\"standoff\": 15}, \"zeroline\": false, \"zerolinecolor\": \"rgb(36,36,36)\"}, \"yaxis\": {\"automargin\": true, \"gridcolor\": \"rgb(232,232,232)\", \"linecolor\": \"rgb(36,36,36)\", \"showgrid\": false, \"showline\": true, \"ticks\": \"outside\", \"title\": {\"standoff\": 15}, \"zeroline\": false, \"zerolinecolor\": \"rgb(36,36,36)\"}}}, \"title\": {\"text\": \"HousePressure g-pump-5 for all weeks \"}, \"xaxis\": {\"anchor\": \"y\", \"domain\": [0.0, 1.0], \"title\": {\"text\": \"week\"}, \"type\": \"category\"}, \"yaxis\": {\"anchor\": \"x\", \"domain\": [0.0, 1.0], \"title\": {\"text\": \"feature_value\"}}},\n",
       "                        {\"responsive\": true}\n",
       "                    ).then(function(){\n",
       "                            \n",
       "var gd = document.getElementById('cff7e7cb-d97b-4915-b17d-e557c0b3ebde');\n",
       "var x = new MutationObserver(function (mutations, observer) {{\n",
       "        var display = window.getComputedStyle(gd).display;\n",
       "        if (!display || display === 'none') {{\n",
       "            console.log([gd, 'removed!']);\n",
       "            Plotly.purge(gd);\n",
       "            observer.disconnect();\n",
       "        }}\n",
       "}});\n",
       "\n",
       "// Listen for the removal of the full notebook cells\n",
       "var notebookContainer = gd.closest('#notebook-container');\n",
       "if (notebookContainer) {{\n",
       "    x.observe(notebookContainer, {childList: true});\n",
       "}}\n",
       "\n",
       "// Listen for the clearing of the current output cell\n",
       "var outputEl = gd.closest('.output');\n",
       "if (outputEl) {{\n",
       "    x.observe(outputEl, {childList: true});\n",
       "}}\n",
       "\n",
       "                        })\n",
       "                };\n",
       "                });\n",
       "            </script>\n",
       "        </div>"
      ]
     },
     "metadata": {},
     "output_type": "display_data"
    }
   ],
   "source": [
    "show_baselining_plot_azure(df_data, duration = \"all\", asset_name= asset_name, variable_name= INLET_PRESSURE,\n",
    "                           plot_type = \"scatter\")\n",
    "\n",
    "show_baselining_plot_azure(df_data, duration = \"all\", asset_name= asset_name, variable_name= OUTLET_PRESSURE,\n",
    "                          plot_type = \"scatter\")\n",
    "\n",
    "show_baselining_plot_azure(df_data, duration = \"all\", asset_name= asset_name, variable_name= HOUSE_PRESSURE,\n",
    "                          plot_type = \"scatter\")"
   ]
  },
  {
   "cell_type": "markdown",
   "metadata": {},
   "source": [
    "**Boxplot**"
   ]
  },
  {
   "cell_type": "code",
   "execution_count": 16,
   "metadata": {},
   "outputs": [
    {
     "data": {
      "application/vnd.plotly.v1+json": {
       "config": {
        "plotlyServerURL": "https://plot.ly"
       },
       "data": [
        {
         "alignmentgroup": "True",
         "hoverlabel": {
          "namelength": 0
         },
         "hovertemplate": "week=%{x}<br>feature_value=%{y}",
         "legendgroup": "",
         "marker": {
          "color": "#1F77B4"
         },
         "name": "",
         "notched": false,
         "offsetgroup": "",
         "orientation": "v",
         "showlegend": false,
         "type": "box",
         "x": [
          47,
          47,
          47,
          47,
          47,
          47,
          47,
          47,
          47,
          47,
          47,
          47,
          47,
          47,
          47,
          47,
          47,
          47,
          47,
          47,
          47,
          47,
          47,
          47,
          47,
          47,
          47,
          47,
          47,
          47,
          47,
          47,
          47,
          47,
          47,
          47,
          47,
          47,
          47,
          47,
          47,
          47,
          47,
          47,
          47,
          47,
          47,
          47,
          47,
          47,
          47,
          47,
          47,
          47,
          47,
          47,
          47,
          47,
          47,
          47,
          47,
          47,
          47,
          47,
          47,
          47,
          47,
          47,
          47,
          47,
          47,
          47,
          47,
          47,
          47,
          47,
          47,
          47,
          47,
          47,
          47,
          47,
          47,
          47,
          47,
          47,
          47,
          47,
          47,
          47,
          47,
          47,
          47,
          47,
          47,
          47,
          47,
          47,
          47,
          47,
          47,
          47,
          47,
          47,
          47,
          47,
          47,
          48,
          48,
          48,
          48,
          48,
          48,
          48,
          48,
          48,
          48,
          48,
          48,
          48,
          48,
          48,
          48,
          48,
          48,
          48,
          48,
          48,
          48,
          48,
          48,
          48,
          48,
          48,
          48,
          48,
          48,
          48,
          48,
          48,
          48,
          48,
          48,
          48,
          48,
          48,
          48,
          48,
          48,
          48,
          48,
          48,
          48,
          48,
          48,
          48,
          48,
          48,
          48,
          48,
          48,
          48,
          48,
          48,
          48,
          48,
          48,
          48,
          48,
          48,
          48,
          48,
          48,
          48,
          48,
          48,
          48,
          48,
          48,
          48,
          48,
          48,
          48,
          48,
          48,
          48,
          48,
          48,
          48,
          48,
          48,
          48,
          48,
          48,
          48,
          48,
          48,
          48,
          48,
          48,
          48,
          48,
          48,
          48,
          48,
          48,
          48,
          48,
          48,
          48,
          48,
          48,
          48,
          48,
          48,
          48,
          48,
          48,
          48,
          48,
          48,
          48,
          48,
          48,
          48,
          48,
          48,
          48,
          48,
          48,
          48,
          48,
          48,
          48,
          48,
          48,
          48,
          48,
          48,
          48,
          48,
          48,
          48,
          48,
          48,
          48,
          48,
          48,
          48,
          48,
          48,
          48,
          48,
          48,
          48,
          48,
          48,
          48,
          48,
          48,
          48,
          48,
          48,
          48,
          48,
          48,
          48,
          48,
          48,
          48,
          48,
          48,
          48,
          49,
          49,
          49,
          49,
          49,
          49,
          49,
          49,
          49,
          49,
          49,
          49,
          49,
          49,
          49,
          49,
          49,
          49,
          49,
          49,
          49,
          49,
          49,
          49,
          49,
          49,
          49,
          49,
          49,
          50,
          50,
          50,
          50,
          50,
          50,
          50,
          50,
          50,
          50,
          50,
          50,
          50,
          50,
          50,
          50,
          50,
          50,
          50,
          50,
          50,
          50,
          50,
          50,
          50,
          50,
          50,
          50,
          50,
          50,
          50,
          50,
          50,
          50,
          50,
          50,
          50,
          50,
          50,
          50,
          51,
          51,
          51,
          51,
          51,
          51,
          51,
          51,
          51,
          51,
          51,
          51,
          51,
          51,
          51,
          51,
          51,
          51,
          51,
          51,
          51,
          51,
          51,
          51,
          51,
          51,
          51,
          51,
          51,
          51,
          51,
          51,
          51,
          51,
          51,
          51,
          51,
          51,
          51,
          51,
          51,
          51,
          51,
          51,
          51,
          51,
          51,
          51,
          51,
          51,
          51,
          51,
          51,
          51,
          51,
          51,
          51,
          51,
          51,
          51,
          51,
          51,
          51,
          51,
          51,
          51,
          51,
          51,
          51,
          51,
          51,
          51,
          51,
          51,
          51,
          51,
          51,
          51,
          51,
          51,
          51,
          51,
          51,
          51,
          51,
          51,
          51,
          51,
          51,
          51,
          51,
          51,
          51,
          51,
          51,
          51,
          51,
          51,
          51,
          51,
          51,
          51,
          51,
          51,
          51,
          51,
          51,
          51,
          51,
          51,
          51,
          51,
          51,
          51,
          51,
          51,
          51,
          51,
          51,
          51,
          51,
          51,
          51,
          51,
          51,
          51,
          51,
          51,
          51,
          51,
          51,
          51,
          51,
          51,
          51,
          51,
          51,
          51,
          51,
          51,
          51,
          51,
          51,
          51,
          51,
          51,
          51,
          52,
          52,
          52,
          52,
          52,
          52,
          52,
          52,
          52,
          52,
          52,
          52,
          52,
          52,
          52,
          52,
          52,
          52,
          52,
          52,
          52,
          52,
          52,
          52,
          52,
          52,
          52,
          52,
          52,
          52,
          52,
          52,
          52,
          52,
          52,
          52,
          52,
          52,
          52,
          52,
          52,
          52,
          52,
          52,
          52,
          52,
          52,
          52,
          52,
          52,
          52,
          52,
          52,
          52,
          52,
          52,
          52,
          52,
          52,
          52,
          52,
          52,
          52,
          52,
          52,
          52,
          52,
          52,
          52,
          52,
          52,
          52,
          52,
          52,
          52,
          52,
          52,
          52,
          52,
          52,
          52,
          52,
          52,
          52,
          52,
          52,
          52,
          52,
          52,
          52,
          52,
          52,
          52,
          52,
          52,
          52,
          52,
          52,
          52,
          52,
          52,
          52,
          52,
          52,
          52,
          52,
          52,
          52,
          52,
          52,
          52,
          52,
          52,
          52,
          52,
          52,
          52,
          52,
          52,
          52,
          52,
          52,
          52,
          52,
          52,
          52,
          52,
          52,
          52,
          52,
          52,
          52,
          52,
          52,
          52,
          52,
          52,
          52,
          52,
          52,
          52,
          52,
          52,
          52,
          52,
          52,
          52,
          52,
          52,
          52,
          52,
          52,
          52,
          52,
          52,
          52,
          52,
          52,
          52,
          52,
          52,
          52,
          52,
          52,
          52,
          1,
          1,
          1,
          1,
          1,
          1,
          1,
          1,
          1,
          1,
          1,
          1,
          1,
          1,
          1,
          1,
          1,
          1,
          1,
          1,
          1,
          1,
          1,
          1,
          1,
          1,
          1,
          1,
          1,
          1,
          1,
          1,
          1,
          1,
          1,
          1,
          1,
          1,
          1,
          1,
          1,
          1,
          1,
          1,
          1,
          1,
          1,
          1,
          1,
          1,
          1,
          1,
          1,
          1,
          1,
          1,
          1,
          1,
          1,
          1,
          1,
          1,
          1,
          1,
          1,
          1,
          1,
          1,
          1,
          1,
          1,
          1,
          1,
          1,
          1,
          1,
          1,
          1,
          1,
          1,
          1,
          1,
          1,
          1,
          1,
          1,
          1,
          1,
          1,
          1,
          1,
          1,
          1,
          1,
          1,
          1,
          1,
          1,
          1,
          1,
          1,
          1,
          1,
          1,
          1,
          1,
          1,
          1,
          1,
          1,
          1,
          1,
          1,
          1,
          1,
          1,
          1,
          1,
          1,
          1,
          1,
          1,
          1,
          1,
          1,
          1,
          1,
          1,
          1,
          1,
          1,
          1,
          1,
          1,
          1,
          1,
          1,
          1,
          1,
          1,
          1,
          1,
          1,
          1,
          1,
          1,
          1,
          1,
          1,
          1,
          1,
          1,
          1,
          1,
          1,
          1,
          1,
          1,
          1,
          1,
          1,
          1,
          1,
          1,
          1,
          1,
          1,
          1,
          2,
          2,
          2,
          2,
          2,
          2,
          2,
          2,
          2,
          2,
          2,
          2,
          2,
          2,
          2,
          2,
          2
         ],
         "x0": " ",
         "xaxis": "x",
         "y": [
          2.853925564331865,
          2.76556776556777,
          2.866978700312034,
          2.9040114977614984,
          2.911006817256817,
          2.9100529100529102,
          2.920545889295889,
          2.868589743589744,
          2.886777574277575,
          2.906873219373218,
          2.8538822288822296,
          2.823565323565326,
          2.812372812372814,
          2.849702380952381,
          2.82604548229548,
          2.854471916971917,
          2.8327228327228346,
          2.808684371184371,
          2.822929385429383,
          2.838001119251119,
          2.8632478632478615,
          2.8928295855379194,
          2.836209893501559,
          2.8353301790801786,
          2.8369836182336194,
          2.860131766381768,
          2.882516788766789,
          2.880291005291006,
          2.9309116809116795,
          2.8409900284900265,
          2.860894892144892,
          2.857842389092388,
          2.844169719169719,
          2.8668091168091165,
          2.849002849002849,
          2.8108465608465596,
          2.865410052910052,
          2.8620395807895807,
          2.9019764957264953,
          2.904838217338216,
          2.8537087912087915,
          2.854662698412696,
          2.816887973137973,
          2.9175569800569803,
          2.8578423890923887,
          2.861530830280831,
          2.884869759869759,
          2.8596866096866105,
          2.7812754375254376,
          2.888939763939763,
          2.838509869759869,
          2.8476037851037845,
          2.8488120675620685,
          2.879782254782255,
          2.874313186813188,
          2.9074455636955636,
          2.849893162393164,
          2.8215939153439145,
          2.8654100529100535,
          2.950434981684983,
          2.8990511803011807,
          2.858096764346764,
          2.9066824379324374,
          2.8827075702075677,
          2.874249592999591,
          2.87971866096866,
          2.8408628408628416,
          2.876729751729751,
          2.9070004070004085,
          2.846141127391127,
          2.8842974155474153,
          2.8345034595034586,
          2.8314509564509556,
          2.8566341066341057,
          2.883470695970695,
          2.870497557997558,
          2.8706247456247453,
          2.8586691086691083,
          2.887540700040699,
          2.88766788766789,
          2.772626678876677,
          2.8425798738298744,
          2.8629298941798926,
          2.9444571632071628,
          2.8815628815628798,
          2.8528184778184777,
          2.877429283679284,
          2.823946886446885,
          2.8085571835571823,
          2.816124847374848,
          2.9240435490435495,
          2.911324786324784,
          2.926460113960113,
          2.963026556776557,
          2.7746616809116795,
          2.8328500203500204,
          2.8734228734228737,
          2.881117724867725,
          2.8457595645095632,
          2.8577152014652003,
          2.858414733414733,
          2.8722145909645924,
          2.8654736467236464,
          2.860831298331298,
          2.885823667073669,
          2.8615944240944238,
          2.8872227309727307,
          2.8801002238502242,
          2.8589234839234834,
          2.837174399674399,
          2.9046474358974343,
          2.8587962962962963,
          2.861149267399267,
          2.860322547822548,
          2.8107193732193725,
          2.864583333333334,
          2.8890669515669516,
          2.8484305046805023,
          2.8744403744403733,
          2.8392729955229967,
          2.8586055148555136,
          2.8704339641839645,
          2.8454415954415957,
          2.813263125763124,
          2.8186050061050065,
          2.801434676434677,
          2.8676994301994303,
          2.8872227309727294,
          2.8521189458689453,
          2.892501017501017,
          2.914186507936508,
          2.8169515669515666,
          2.836665649165649,
          2.9003230565730562,
          2.8764753764753763,
          2.8510378510378502,
          2.86687271062271,
          2.90591931216931,
          2.8007987382987394,
          2.8839158526658526,
          2.877874440374441,
          2.942104192104194,
          2.876538970288969,
          2.9155219780219763,
          2.9350452787952777,
          2.8815628815628815,
          2.8747583435083417,
          2.892564611314611,
          2.923916361416362,
          2.871896621896622,
          2.9076999389499396,
          2.865728021978022,
          2.9248702686202677,
          2.889257733007733,
          2.830179080179079,
          2.889384920634919,
          2.833231583231582,
          2.838827838827839,
          2.9124058811558817,
          2.914122914122915,
          2.8991147741147736,
          2.820322039072039,
          2.8460139397639406,
          2.926078551078552,
          2.849893162393163,
          2.8420711233211216,
          2.9115791615791617,
          2.8005443630443616,
          2.851228632478634,
          2.8701795889295885,
          2.8743131868131857,
          2.8791463166463167,
          2.8636294261294277,
          2.8963166463166465,
          2.8467134717134708,
          2.836029711029711,
          2.886968355718356,
          2.8808633496133496,
          2.8317053317053316,
          2.875394281644281,
          2.8448692511192513,
          2.8306242368742365,
          2.8846153846153846,
          2.8877950752950743,
          2.9023580586080584,
          2.812309218559219,
          2.914949633699633,
          2.9220085470085455,
          2.8228657916157913,
          2.842961436711437,
          2.8275717338217334,
          2.903757122507122,
          2.8802910052910033,
          2.8755850630850652,
          2.9361263736263754,
          2.9133597883597875,
          2.908971815221816,
          2.907509157509157,
          2.8977157102157096,
          2.906491656491657,
          2.8353301790801804,
          2.818986568986569,
          2.849638787138787,
          2.844996438746439,
          2.8559345746845732,
          2.8525005087505093,
          2.856506919006918,
          2.7950752950752964,
          2.8624847374847366,
          2.8387642450142447,
          2.809065934065933,
          2.855807387057389,
          2.8172695360195363,
          2.8833435083435073,
          2.8434065934065935,
          2.854599104599103,
          2.8563161375661363,
          2.8563161375661377,
          2.8617852055352064,
          2.9248702686202663,
          2.8323412698412693,
          2.8626119251119255,
          2.872278184778185,
          2.7997176434676434,
          2.8544719169719186,
          2.8325320512820493,
          2.7781593406593412,
          2.8994963369963354,
          2.8641381766381753,
          2.8619123931623918,
          2.8966982091982096,
          2.854726292226293,
          2.8593050468050474,
          2.8565705128205114,
          2.802515771265771,
          2.79882733007733,
          2.8921194546194555,
          2.863565832315832,
          2.7747252747252724,
          2.8528184778184786,
          2.8647741147741157,
          2.904456654456654,
          2.832150488400487,
          2.8567612942612954,
          2.8687169312169325,
          2.890783984533984,
          2.8511650386650387,
          2.8603225478225482,
          2.91469525844526,
          2.874618437118436,
          2.8848061660561672,
          2.839082214082215,
          2.866554741554743,
          2.8778744403744416,
          2.8723417785917795,
          2.905664936914938,
          2.814598595848596,
          2.839145807895808,
          2.8418803418803424,
          2.8805453805453816,
          2.877174908424909,
          2.894154456654455,
          2.836665649165649,
          2.9211182336182335,
          2.8415623728123713,
          2.866681929181929,
          2.8746311558811573,
          2.852436914936914,
          2.8240104802604815,
          2.831832519332519,
          2.82833485958486,
          2.8513558201058182,
          2.820957977207977,
          2.8962530525030528,
          2.852500508750509,
          2.855107855107855,
          2.8670634920634925,
          2.868398962148962,
          2.8584783272283283,
          2.785917785917785,
          2.8395273707773705,
          2.86852614977615,
          2.830931606973273,
          2.8203220390720403,
          2.822738603988604,
          2.8816900691900695,
          2.850211131461132,
          2.905919312169312,
          2.885632885632884,
          2.8484305046805054,
          2.8891941391941383,
          2.948463573463572,
          2.8409900284900274,
          2.86820818070818,
          2.81014702889703,
          2.826299857549857,
          2.7784137159137163,
          2.867254273504274,
          2.8773656898656887,
          2.893900081400082,
          2.872532560032559,
          2.9371438746438763,
          2.958638583638585,
          2.9645528083028077,
          3.0318350630850635,
          2.9782254782254802,
          2.953360297110297,
          2.9739010989010985,
          3.0098316035816044,
          2.9997837810337806,
          2.950880138380139,
          2.9573667073667083,
          2.9618818681318686,
          2.9490359177859164,
          2.955268111518112,
          2.971102971102971,
          3.006906288156287,
          2.942485754985755,
          2.937143874643874,
          2.9719932844932853,
          2.9934243996744,
          2.97758954008954,
          2.972565628815629,
          2.9930428367928372,
          2.970594220594219,
          2.898415242165241,
          2.9261421448921454,
          2.992279711029711,
          2.980960012210011,
          2.981532356532357,
          2.986492673992674,
          2.9394332519332522,
          2.9384793447293425,
          2.9483363858363845,
          2.9297033984533982,
          2.9793065730565735,
          2.979242979242979,
          3.0228047415547414,
          2.9882733007733004,
          2.9621998371998384,
          2.961245929995929,
          2.978416259666261,
          2.988527676027676,
          2.976699226699227,
          3.0567002442002456,
          3.027319902319903,
          2.8944088319088306,
          2.9641712454212445,
          2.8807997557997553,
          2.981150793650794,
          2.900259462759463,
          2.905919312169311,
          2.9548865486365496,
          2.9445843508343508,
          2.8191137566137567,
          2.916475885225886,
          2.905028998778999,
          2.918574481074481,
          2.9464921652421654,
          2.9083358770858765,
          2.9069368131868134,
          2.847985347985349,
          2.9354904354904363,
          2.944711538461538,
          2.982231888481888,
          2.894027269027269,
          2.874122405372406,
          2.9112611925111938,
          2.91469525844526,
          2.88321632071632,
          2.9327559015059013,
          2.850020350020351,
          2.9082086894586876,
          2.9340913715913715,
          2.8983516483516483,
          2.9174933862433865,
          2.98477564102564,
          2.916475885225885,
          2.9219449531949535,
          2.9616274928774917,
          2.8835342897842904,
          2.8885582010582014,
          2.9110068172568173,
          2.827062983312983,
          2.9178749491249487,
          2.882008038258039,
          2.890911172161172,
          2.8957443019943025,
          2.9857931420431414,
          2.972629222629223,
          2.9358719983719976,
          2.9438212250712255,
          2.9921525234025244,
          3.018225986975987,
          3.004998473748472,
          2.968368437118438,
          2.9664606227106223,
          2.992152523402522,
          2.95259717134717,
          3.0090684778184786,
          3.014283170533171,
          3.035714285714286,
          3.045825702075702,
          3.0274470899470907,
          3.0540293040293047,
          2.97975172975173,
          2.9655703093203094,
          3.003345034595036,
          2.9754273504273505,
          2.972692816442816,
          3.008050976800977,
          2.9896723646723635,
          3.0269383394383396,
          2.903947903947902,
          2.8804181929181927,
          2.930402930402931,
          2.899623524623525,
          2.9613095238095237,
          2.89854242979243,
          2.9019764957264944,
          2.972820004070004,
          2.9248066748066743,
          2.892310236060236,
          2.9033119658119673,
          2.896253052503051,
          2.8710699023199004,
          2.9058557183557183,
          2.897270553520553,
          2.8764753764753777,
          2.919337606837605,
          2.886141636141636,
          2.8880494505494494,
          2.9482091982091987,
          2.927096052096052,
          2.934409340659339,
          2.8651556776556784,
          2.934409340659341,
          2.930530118030116,
          2.9106252543752547,
          2.921054639804639,
          2.8606405168905162,
          2.964171245421245,
          2.920482295482293,
          2.9113247863247858,
          2.915521978021978,
          2.9199099511599513,
          2.883343508343508,
          2.8919922669922666,
          2.900005087505088,
          2.9142501017501026,
          2.8552350427350426,
          2.915267602767603,
          2.887922262922262,
          2.9221993284493277,
          2.9288766788766787,
          2.8528820716320715,
          2.929703398453397,
          2.875966625966626,
          2.9866198616198623,
          2.918765262515263,
          2.963662494912493,
          2.900768213268213,
          2.8692892755392747,
          2.891165547415546,
          2.9155219780219768,
          2.9366987179487176,
          2.9008318070818064,
          2.924933862433862,
          2.901467745217745,
          2.8835342897842895,
          2.9104980667480667,
          2.8916107041107053,
          2.9361263736263736,
          2.934663715913716,
          2.9121515059015053,
          2.9365079365079367,
          2.9403871591371593,
          2.875394281644281,
          2.856252543752543,
          2.9508801383801377,
          2.987828144078144,
          2.9570487382987385,
          2.8518645706145684,
          2.918192918192918,
          2.9021036833536837,
          2.9086538461538463,
          2.8462683150183152,
          2.907699938949939,
          2.8980336792836785,
          2.9228352665852664,
          2.8790827228327225,
          2.934918091168092,
          2.9383521571021567,
          2.960101241351241,
          2.8517373829873827,
          2.8746947496947493,
          2.892628205128205,
          2.8852513227513215,
          2.86935286935287,
          2.914059320309319,
          2.8966982091982083,
          2.89905118030118,
          2.8803545991045993,
          2.9141865079365075,
          2.9797517297517295,
          2.9907534595034595,
          2.983503764753763,
          2.9356176231176234,
          2.9136777574277577,
          2.9480184167684165,
          2.90121336996337,
          2.8825803825803824,
          2.9199099511599518,
          2.9230260480260477,
          2.8894485144485134,
          2.93841575091575,
          2.918192918192918,
          2.9139957264957275,
          2.91488603988604,
          2.9333282458282466,
          2.8942180504680484,
          2.922199328449329,
          2.937398249898248,
          2.901594932844933,
          2.8951719576719577,
          2.912087912087911,
          2.888558201058201,
          2.922771672771672,
          2.8893849206349214,
          2.8852513227513206,
          2.8902752340252342,
          2.944647944647943,
          2.881944444444445,
          2.9174933862433865,
          2.9440120065120055,
          2.8962530525030528,
          2.901976495726497,
          2.898160866910866,
          2.909289784289784,
          2.893963675213675,
          2.9100529100529093,
          2.8971433658933647,
          2.8829619454619455,
          2.912660256410257,
          2.897842897842894,
          2.9081450956450947,
          2.918892450142449,
          2.9351088726088714,
          2.9492902930402924,
          2.9300213675213675,
          2.896761803011803,
          2.991643772893772,
          2.9230260480260473,
          2.9263965201465196,
          2.905474155474156,
          2.9227716727716735,
          2.974473443223444,
          2.913169006919007,
          2.9160943223443216,
          2.914822446072448,
          2.9111340048840044,
          2.9280499592999587,
          2.9156491656491657,
          2.9306573056573053,
          2.919782763532764,
          2.8930733618233604,
          2.951325295075296,
          2.8896392958892942,
          2.9716117216117213,
          2.975808913308914,
          2.878955535205535,
          2.916984635734634,
          2.886841168091168,
          2.9328194953194946,
          2.8975885225885207,
          3.0232498982498974,
          2.9625814000813997,
          2.9532331094831097,
          2.905219780219779,
          2.9347909035409034,
          2.9003866503866487,
          2.9010225885225895,
          2.925951363451363,
          2.8596230158730154,
          2.9300213675213684,
          2.923089641839642,
          2.858287545787546,
          2.9416590354090357,
          2.9330738705738693,
          2.9433760683760677,
          2.9611823361823366,
          2.942167785917785,
          2.9602920227920233,
          2.873804436304436,
          2.918192918192919,
          2.9029939967439975,
          2.9194647944647927,
          2.8969525844525834,
          2.901022588522588,
          2.918447293447292,
          2.8428342490842486,
          2.94890873015873,
          2.8940908628408635,
          2.9738375050875057,
          2.920800264550264,
          2.9459834147334143,
          2.949989824989825,
          2.911134004884005,
          2.9074455636955636,
          2.8884946072446063,
          2.8873499185999183,
          2.8731049043549035,
          2.9187016687016683,
          2.9472552910052916,
          2.8860780423280414,
          2.9131054131054124,
          2.8570792633292625,
          2.868653337403337,
          2.903439153439154,
          2.8963802401302394,
          2.8965710215710208,
          2.917302604802605,
          2.9730743793243786,
          2.95405982905983,
          2.928177146927149,
          2.9273504273504263,
          2.9085902523402525,
          2.9227080789580793,
          2.9561584249084256,
          2.86305708180708,
          2.832659238909238,
          2.930466524216524,
          2.9276048026048027,
          2.949735449735448,
          2.9070004070004063,
          2.8746947496947493,
          2.938670126170125,
          2.847413003663004,
          2.9038207163207166,
          2.917111823361824,
          2.9223901098901113,
          2.8965074277574274,
          2.8715786528286524,
          2.9173661986162,
          2.9019129019128997,
          2.91138838013838,
          2.9128510378510373,
          2.8855692918192926,
          2.8978428978428963,
          2.933519027269028,
          2.9063008750508756,
          2.897652116402116,
          2.9842668905168903,
          2.969131562881563,
          2.958257020757023,
          2.977080789580791,
          2.9252518315018325,
          2.954123422873423,
          2.9350452787952777,
          2.8839794464794455,
          2.9031211843711837,
          2.9143772893772906,
          2.900513838013838,
          2.939306064306065,
          2.9058557183557183,
          2.9850936100936103,
          2.9638532763532752,
          2.970149063899065,
          2.9400055962555958,
          2.998829873829873,
          2.9796881359381366,
          2.9882733007733013,
          2.887731481481481,
          2.9478276353276356,
          2.891547110297111,
          2.8669998982498988,
          2.919973544973544,
          2.877492877492878,
          2.981659544159543,
          2.892055860805861,
          2.927477614977615,
          2.9058557183557183,
          2.85885989010989,
          2.9001322751322753,
          2.9149496336996346,
          2.9178113553113554,
          2.9258241758241756,
          2.9110704110704106,
          2.9669693732193725,
          2.965061558811559,
          2.9601648351648344,
          2.9015313390313384,
          3.008368945868948,
          2.998384717134716,
          2.974727818477817,
          2.995205026455027,
          2.949481074481074,
          2.998448310948311,
          2.9774623524623536,
          2.912469474969477,
          2.9945054945054945,
          3.0146011396011403,
          2.9602920227920215,
          2.9598468660968673,
          2.976254070004069,
          3.04111975986976,
          2.9460470085470103,
          2.9246794871794872,
          2.945347476597478,
          2.899114774114773,
          2.9562856125356105,
          2.928431522181523,
          2.976190476190476,
          2.969703907203906,
          2.968813593813594,
          2.959210927960928,
          2.9267780830280827,
          2.935172466422466,
          2.9437576312576295,
          3.028718966218966,
          2.9669057794057774,
          2.9758725071225083,
          2.9689407814407827,
          2.9512617012617017,
          2.9567943630443634,
          2.981850325600325,
          2.940705128205129,
          2.991580179080179,
          2.9125966625966626,
          2.933773402523402,
          2.9339641839641843,
          2.925379019129019,
          2.96073717948718,
          2.9536146723646723,
          2.9218177655677664,
          2.9831857956857952,
          2.899496336996337,
          2.9425493487993495,
          3.05345695970696,
          2.9408323158323166,
          2.9181929181929185,
          2.9582570207570202,
          2.924870268620267,
          2.9234076109076104,
          2.932946682946683,
          2.968686406186406,
          2.9339641839641852,
          2.939306064306065,
          2.9714209401709417,
          3.001691595441594,
          2.943757631257632,
          2.9842668905168916,
          2.9497990435490427,
          2.986683455433456,
          2.9920253357753364,
          2.9997201872201864,
          2.9592109279609295,
          2.926587301587302,
          2.9374618437118425,
          2.9475096662596663,
          2.9497990435490453,
          2.9672873422873423,
          2.94859076109076,
          2.9415954415954424,
          2.916539479039479,
          2.931293243793244,
          2.9353632478632474,
          2.8995599308099305,
          2.906428062678063,
          2.903757122507122,
          2.9383521571021576,
          2.9957137769637767,
          2.9330102767602777,
          2.9761268823768816,
          2.967223748473748,
          2.963980463980464,
          2.9436940374440375,
          2.897842897842897,
          2.9174297924297914,
          2.9302121489621484,
          2.8696708384208383,
          2.990117521367521,
          2.938797313797313,
          2.9688135938135933,
          2.903184778184778,
          2.9340913715913715,
          2.9129782254782253,
          2.9111975986975973,
          2.9531059218559217,
          2.958574989824991,
          2.9631537444037437,
          2.959974053724054,
          2.925824175824175,
          2.96824124949125,
          2.9418498168498144,
          2.905664936914937,
          2.928495115995117,
          2.9787978225478233,
          2.947128103378104,
          2.9377162189662176,
          2.89453601953602,
          2.9124694749694737,
          2.9497354497354498,
          2.9373982498982483,
          2.9104344729344724,
          2.971102971102971,
          2.9302757427757418,
          2.9567307692307683,
          2.9751729751729763,
          2.966905779405779,
          2.940768722018722,
          2.926841676841678,
          2.8905932030932036,
          2.914949633699635,
          2.9284951159951156,
          2.941722629222628,
          3.0399750712250717,
          2.926523707773709,
          2.970657814407815,
          2.9242343304843303,
          2.9447115384615388,
          2.9618182743182753,
          2.947382478632477,
          2.9761904761904776,
          2.9252518315018317,
          2.9821047008546997,
          2.9135505698005697,
          2.948463573463574,
          2.9936151811151785,
          2.9556496743996745,
          3.0153642653642643,
          2.956349206349207,
          2.9043930606430592,
          3.007542226292227,
          2.916475885225886,
          2.8455051892551886,
          2.911706349206348,
          2.87386803011803,
          2.8839794464794473
         ],
         "y0": " ",
         "yaxis": "y"
        }
       ],
       "layout": {
        "boxmode": "group",
        "legend": {
         "tracegroupgap": 0
        },
        "template": {
         "data": {
          "bar": [
           {
            "error_x": {
             "color": "rgb(36,36,36)"
            },
            "error_y": {
             "color": "rgb(36,36,36)"
            },
            "marker": {
             "line": {
              "color": "white",
              "width": 0.5
             }
            },
            "type": "bar"
           }
          ],
          "barpolar": [
           {
            "marker": {
             "line": {
              "color": "white",
              "width": 0.5
             }
            },
            "type": "barpolar"
           }
          ],
          "carpet": [
           {
            "aaxis": {
             "endlinecolor": "rgb(36,36,36)",
             "gridcolor": "white",
             "linecolor": "white",
             "minorgridcolor": "white",
             "startlinecolor": "rgb(36,36,36)"
            },
            "baxis": {
             "endlinecolor": "rgb(36,36,36)",
             "gridcolor": "white",
             "linecolor": "white",
             "minorgridcolor": "white",
             "startlinecolor": "rgb(36,36,36)"
            },
            "type": "carpet"
           }
          ],
          "choropleth": [
           {
            "colorbar": {
             "outlinewidth": 1,
             "tickcolor": "rgb(36,36,36)",
             "ticks": "outside"
            },
            "type": "choropleth"
           }
          ],
          "contour": [
           {
            "colorbar": {
             "outlinewidth": 1,
             "tickcolor": "rgb(36,36,36)",
             "ticks": "outside"
            },
            "colorscale": [
             [
              0,
              "#440154"
             ],
             [
              0.1111111111111111,
              "#482878"
             ],
             [
              0.2222222222222222,
              "#3e4989"
             ],
             [
              0.3333333333333333,
              "#31688e"
             ],
             [
              0.4444444444444444,
              "#26828e"
             ],
             [
              0.5555555555555556,
              "#1f9e89"
             ],
             [
              0.6666666666666666,
              "#35b779"
             ],
             [
              0.7777777777777778,
              "#6ece58"
             ],
             [
              0.8888888888888888,
              "#b5de2b"
             ],
             [
              1,
              "#fde725"
             ]
            ],
            "type": "contour"
           }
          ],
          "contourcarpet": [
           {
            "colorbar": {
             "outlinewidth": 1,
             "tickcolor": "rgb(36,36,36)",
             "ticks": "outside"
            },
            "type": "contourcarpet"
           }
          ],
          "heatmap": [
           {
            "colorbar": {
             "outlinewidth": 1,
             "tickcolor": "rgb(36,36,36)",
             "ticks": "outside"
            },
            "colorscale": [
             [
              0,
              "#440154"
             ],
             [
              0.1111111111111111,
              "#482878"
             ],
             [
              0.2222222222222222,
              "#3e4989"
             ],
             [
              0.3333333333333333,
              "#31688e"
             ],
             [
              0.4444444444444444,
              "#26828e"
             ],
             [
              0.5555555555555556,
              "#1f9e89"
             ],
             [
              0.6666666666666666,
              "#35b779"
             ],
             [
              0.7777777777777778,
              "#6ece58"
             ],
             [
              0.8888888888888888,
              "#b5de2b"
             ],
             [
              1,
              "#fde725"
             ]
            ],
            "type": "heatmap"
           }
          ],
          "heatmapgl": [
           {
            "colorbar": {
             "outlinewidth": 1,
             "tickcolor": "rgb(36,36,36)",
             "ticks": "outside"
            },
            "colorscale": [
             [
              0,
              "#440154"
             ],
             [
              0.1111111111111111,
              "#482878"
             ],
             [
              0.2222222222222222,
              "#3e4989"
             ],
             [
              0.3333333333333333,
              "#31688e"
             ],
             [
              0.4444444444444444,
              "#26828e"
             ],
             [
              0.5555555555555556,
              "#1f9e89"
             ],
             [
              0.6666666666666666,
              "#35b779"
             ],
             [
              0.7777777777777778,
              "#6ece58"
             ],
             [
              0.8888888888888888,
              "#b5de2b"
             ],
             [
              1,
              "#fde725"
             ]
            ],
            "type": "heatmapgl"
           }
          ],
          "histogram": [
           {
            "marker": {
             "line": {
              "color": "white",
              "width": 0.6
             }
            },
            "type": "histogram"
           }
          ],
          "histogram2d": [
           {
            "colorbar": {
             "outlinewidth": 1,
             "tickcolor": "rgb(36,36,36)",
             "ticks": "outside"
            },
            "colorscale": [
             [
              0,
              "#440154"
             ],
             [
              0.1111111111111111,
              "#482878"
             ],
             [
              0.2222222222222222,
              "#3e4989"
             ],
             [
              0.3333333333333333,
              "#31688e"
             ],
             [
              0.4444444444444444,
              "#26828e"
             ],
             [
              0.5555555555555556,
              "#1f9e89"
             ],
             [
              0.6666666666666666,
              "#35b779"
             ],
             [
              0.7777777777777778,
              "#6ece58"
             ],
             [
              0.8888888888888888,
              "#b5de2b"
             ],
             [
              1,
              "#fde725"
             ]
            ],
            "type": "histogram2d"
           }
          ],
          "histogram2dcontour": [
           {
            "colorbar": {
             "outlinewidth": 1,
             "tickcolor": "rgb(36,36,36)",
             "ticks": "outside"
            },
            "colorscale": [
             [
              0,
              "#440154"
             ],
             [
              0.1111111111111111,
              "#482878"
             ],
             [
              0.2222222222222222,
              "#3e4989"
             ],
             [
              0.3333333333333333,
              "#31688e"
             ],
             [
              0.4444444444444444,
              "#26828e"
             ],
             [
              0.5555555555555556,
              "#1f9e89"
             ],
             [
              0.6666666666666666,
              "#35b779"
             ],
             [
              0.7777777777777778,
              "#6ece58"
             ],
             [
              0.8888888888888888,
              "#b5de2b"
             ],
             [
              1,
              "#fde725"
             ]
            ],
            "type": "histogram2dcontour"
           }
          ],
          "mesh3d": [
           {
            "colorbar": {
             "outlinewidth": 1,
             "tickcolor": "rgb(36,36,36)",
             "ticks": "outside"
            },
            "type": "mesh3d"
           }
          ],
          "parcoords": [
           {
            "line": {
             "colorbar": {
              "outlinewidth": 1,
              "tickcolor": "rgb(36,36,36)",
              "ticks": "outside"
             }
            },
            "type": "parcoords"
           }
          ],
          "pie": [
           {
            "automargin": true,
            "type": "pie"
           }
          ],
          "scatter": [
           {
            "marker": {
             "colorbar": {
              "outlinewidth": 1,
              "tickcolor": "rgb(36,36,36)",
              "ticks": "outside"
             }
            },
            "type": "scatter"
           }
          ],
          "scatter3d": [
           {
            "line": {
             "colorbar": {
              "outlinewidth": 1,
              "tickcolor": "rgb(36,36,36)",
              "ticks": "outside"
             }
            },
            "marker": {
             "colorbar": {
              "outlinewidth": 1,
              "tickcolor": "rgb(36,36,36)",
              "ticks": "outside"
             }
            },
            "type": "scatter3d"
           }
          ],
          "scattercarpet": [
           {
            "marker": {
             "colorbar": {
              "outlinewidth": 1,
              "tickcolor": "rgb(36,36,36)",
              "ticks": "outside"
             }
            },
            "type": "scattercarpet"
           }
          ],
          "scattergeo": [
           {
            "marker": {
             "colorbar": {
              "outlinewidth": 1,
              "tickcolor": "rgb(36,36,36)",
              "ticks": "outside"
             }
            },
            "type": "scattergeo"
           }
          ],
          "scattergl": [
           {
            "marker": {
             "colorbar": {
              "outlinewidth": 1,
              "tickcolor": "rgb(36,36,36)",
              "ticks": "outside"
             }
            },
            "type": "scattergl"
           }
          ],
          "scattermapbox": [
           {
            "marker": {
             "colorbar": {
              "outlinewidth": 1,
              "tickcolor": "rgb(36,36,36)",
              "ticks": "outside"
             }
            },
            "type": "scattermapbox"
           }
          ],
          "scatterpolar": [
           {
            "marker": {
             "colorbar": {
              "outlinewidth": 1,
              "tickcolor": "rgb(36,36,36)",
              "ticks": "outside"
             }
            },
            "type": "scatterpolar"
           }
          ],
          "scatterpolargl": [
           {
            "marker": {
             "colorbar": {
              "outlinewidth": 1,
              "tickcolor": "rgb(36,36,36)",
              "ticks": "outside"
             }
            },
            "type": "scatterpolargl"
           }
          ],
          "scatterternary": [
           {
            "marker": {
             "colorbar": {
              "outlinewidth": 1,
              "tickcolor": "rgb(36,36,36)",
              "ticks": "outside"
             }
            },
            "type": "scatterternary"
           }
          ],
          "surface": [
           {
            "colorbar": {
             "outlinewidth": 1,
             "tickcolor": "rgb(36,36,36)",
             "ticks": "outside"
            },
            "colorscale": [
             [
              0,
              "#440154"
             ],
             [
              0.1111111111111111,
              "#482878"
             ],
             [
              0.2222222222222222,
              "#3e4989"
             ],
             [
              0.3333333333333333,
              "#31688e"
             ],
             [
              0.4444444444444444,
              "#26828e"
             ],
             [
              0.5555555555555556,
              "#1f9e89"
             ],
             [
              0.6666666666666666,
              "#35b779"
             ],
             [
              0.7777777777777778,
              "#6ece58"
             ],
             [
              0.8888888888888888,
              "#b5de2b"
             ],
             [
              1,
              "#fde725"
             ]
            ],
            "type": "surface"
           }
          ],
          "table": [
           {
            "cells": {
             "fill": {
              "color": "rgb(237,237,237)"
             },
             "line": {
              "color": "white"
             }
            },
            "header": {
             "fill": {
              "color": "rgb(217,217,217)"
             },
             "line": {
              "color": "white"
             }
            },
            "type": "table"
           }
          ]
         },
         "layout": {
          "annotationdefaults": {
           "arrowhead": 0,
           "arrowwidth": 1
          },
          "coloraxis": {
           "colorbar": {
            "outlinewidth": 1,
            "tickcolor": "rgb(36,36,36)",
            "ticks": "outside"
           }
          },
          "colorscale": {
           "diverging": [
            [
             0,
             "rgb(103,0,31)"
            ],
            [
             0.1,
             "rgb(178,24,43)"
            ],
            [
             0.2,
             "rgb(214,96,77)"
            ],
            [
             0.3,
             "rgb(244,165,130)"
            ],
            [
             0.4,
             "rgb(253,219,199)"
            ],
            [
             0.5,
             "rgb(247,247,247)"
            ],
            [
             0.6,
             "rgb(209,229,240)"
            ],
            [
             0.7,
             "rgb(146,197,222)"
            ],
            [
             0.8,
             "rgb(67,147,195)"
            ],
            [
             0.9,
             "rgb(33,102,172)"
            ],
            [
             1,
             "rgb(5,48,97)"
            ]
           ],
           "sequential": [
            [
             0,
             "#440154"
            ],
            [
             0.1111111111111111,
             "#482878"
            ],
            [
             0.2222222222222222,
             "#3e4989"
            ],
            [
             0.3333333333333333,
             "#31688e"
            ],
            [
             0.4444444444444444,
             "#26828e"
            ],
            [
             0.5555555555555556,
             "#1f9e89"
            ],
            [
             0.6666666666666666,
             "#35b779"
            ],
            [
             0.7777777777777778,
             "#6ece58"
            ],
            [
             0.8888888888888888,
             "#b5de2b"
            ],
            [
             1,
             "#fde725"
            ]
           ],
           "sequentialminus": [
            [
             0,
             "#440154"
            ],
            [
             0.1111111111111111,
             "#482878"
            ],
            [
             0.2222222222222222,
             "#3e4989"
            ],
            [
             0.3333333333333333,
             "#31688e"
            ],
            [
             0.4444444444444444,
             "#26828e"
            ],
            [
             0.5555555555555556,
             "#1f9e89"
            ],
            [
             0.6666666666666666,
             "#35b779"
            ],
            [
             0.7777777777777778,
             "#6ece58"
            ],
            [
             0.8888888888888888,
             "#b5de2b"
            ],
            [
             1,
             "#fde725"
            ]
           ]
          },
          "colorway": [
           "#1F77B4",
           "#FF7F0E",
           "#2CA02C",
           "#D62728",
           "#9467BD",
           "#8C564B",
           "#E377C2",
           "#7F7F7F",
           "#BCBD22",
           "#17BECF"
          ],
          "font": {
           "color": "rgb(36,36,36)"
          },
          "geo": {
           "bgcolor": "white",
           "lakecolor": "white",
           "landcolor": "white",
           "showlakes": true,
           "showland": true,
           "subunitcolor": "white"
          },
          "hoverlabel": {
           "align": "left"
          },
          "hovermode": "closest",
          "mapbox": {
           "style": "light"
          },
          "paper_bgcolor": "white",
          "plot_bgcolor": "white",
          "polar": {
           "angularaxis": {
            "gridcolor": "rgb(232,232,232)",
            "linecolor": "rgb(36,36,36)",
            "showgrid": false,
            "showline": true,
            "ticks": "outside"
           },
           "bgcolor": "white",
           "radialaxis": {
            "gridcolor": "rgb(232,232,232)",
            "linecolor": "rgb(36,36,36)",
            "showgrid": false,
            "showline": true,
            "ticks": "outside"
           }
          },
          "scene": {
           "xaxis": {
            "backgroundcolor": "white",
            "gridcolor": "rgb(232,232,232)",
            "gridwidth": 2,
            "linecolor": "rgb(36,36,36)",
            "showbackground": true,
            "showgrid": false,
            "showline": true,
            "ticks": "outside",
            "zeroline": false,
            "zerolinecolor": "rgb(36,36,36)"
           },
           "yaxis": {
            "backgroundcolor": "white",
            "gridcolor": "rgb(232,232,232)",
            "gridwidth": 2,
            "linecolor": "rgb(36,36,36)",
            "showbackground": true,
            "showgrid": false,
            "showline": true,
            "ticks": "outside",
            "zeroline": false,
            "zerolinecolor": "rgb(36,36,36)"
           },
           "zaxis": {
            "backgroundcolor": "white",
            "gridcolor": "rgb(232,232,232)",
            "gridwidth": 2,
            "linecolor": "rgb(36,36,36)",
            "showbackground": true,
            "showgrid": false,
            "showline": true,
            "ticks": "outside",
            "zeroline": false,
            "zerolinecolor": "rgb(36,36,36)"
           }
          },
          "shapedefaults": {
           "fillcolor": "black",
           "line": {
            "width": 0
           },
           "opacity": 0.3
          },
          "ternary": {
           "aaxis": {
            "gridcolor": "rgb(232,232,232)",
            "linecolor": "rgb(36,36,36)",
            "showgrid": false,
            "showline": true,
            "ticks": "outside"
           },
           "baxis": {
            "gridcolor": "rgb(232,232,232)",
            "linecolor": "rgb(36,36,36)",
            "showgrid": false,
            "showline": true,
            "ticks": "outside"
           },
           "bgcolor": "white",
           "caxis": {
            "gridcolor": "rgb(232,232,232)",
            "linecolor": "rgb(36,36,36)",
            "showgrid": false,
            "showline": true,
            "ticks": "outside"
           }
          },
          "title": {
           "x": 0.05
          },
          "xaxis": {
           "automargin": true,
           "gridcolor": "rgb(232,232,232)",
           "linecolor": "rgb(36,36,36)",
           "showgrid": false,
           "showline": true,
           "ticks": "outside",
           "title": {
            "standoff": 15
           },
           "zeroline": false,
           "zerolinecolor": "rgb(36,36,36)"
          },
          "yaxis": {
           "automargin": true,
           "gridcolor": "rgb(232,232,232)",
           "linecolor": "rgb(36,36,36)",
           "showgrid": false,
           "showline": true,
           "ticks": "outside",
           "title": {
            "standoff": 15
           },
           "zeroline": false,
           "zerolinecolor": "rgb(36,36,36)"
          }
         }
        },
        "title": {
         "text": "InletPressure g-pump-5 for all weeks "
        },
        "xaxis": {
         "anchor": "y",
         "domain": [
          0,
          1
         ],
         "title": {
          "text": "week"
         },
         "type": "category"
        },
        "yaxis": {
         "anchor": "x",
         "domain": [
          0,
          1
         ],
         "title": {
          "text": "feature_value"
         }
        }
       }
      },
      "text/html": [
       "<div>\n",
       "        \n",
       "        \n",
       "            <div id=\"151c7f85-a7ce-4334-ba58-dfde699f9173\" class=\"plotly-graph-div\" style=\"height:525px; width:100%;\"></div>\n",
       "            <script type=\"text/javascript\">\n",
       "                require([\"plotly\"], function(Plotly) {\n",
       "                    window.PLOTLYENV=window.PLOTLYENV || {};\n",
       "                    \n",
       "                if (document.getElementById(\"151c7f85-a7ce-4334-ba58-dfde699f9173\")) {\n",
       "                    Plotly.newPlot(\n",
       "                        '151c7f85-a7ce-4334-ba58-dfde699f9173',\n",
       "                        [{\"alignmentgroup\": \"True\", \"hoverlabel\": {\"namelength\": 0}, \"hovertemplate\": \"week=%{x}<br>feature_value=%{y}\", \"legendgroup\": \"\", \"marker\": {\"color\": \"#1F77B4\"}, \"name\": \"\", \"notched\": false, \"offsetgroup\": \"\", \"orientation\": \"v\", \"showlegend\": false, \"type\": \"box\", \"x\": [47, 47, 47, 47, 47, 47, 47, 47, 47, 47, 47, 47, 47, 47, 47, 47, 47, 47, 47, 47, 47, 47, 47, 47, 47, 47, 47, 47, 47, 47, 47, 47, 47, 47, 47, 47, 47, 47, 47, 47, 47, 47, 47, 47, 47, 47, 47, 47, 47, 47, 47, 47, 47, 47, 47, 47, 47, 47, 47, 47, 47, 47, 47, 47, 47, 47, 47, 47, 47, 47, 47, 47, 47, 47, 47, 47, 47, 47, 47, 47, 47, 47, 47, 47, 47, 47, 47, 47, 47, 47, 47, 47, 47, 47, 47, 47, 47, 47, 47, 47, 47, 47, 47, 47, 47, 47, 47, 48, 48, 48, 48, 48, 48, 48, 48, 48, 48, 48, 48, 48, 48, 48, 48, 48, 48, 48, 48, 48, 48, 48, 48, 48, 48, 48, 48, 48, 48, 48, 48, 48, 48, 48, 48, 48, 48, 48, 48, 48, 48, 48, 48, 48, 48, 48, 48, 48, 48, 48, 48, 48, 48, 48, 48, 48, 48, 48, 48, 48, 48, 48, 48, 48, 48, 48, 48, 48, 48, 48, 48, 48, 48, 48, 48, 48, 48, 48, 48, 48, 48, 48, 48, 48, 48, 48, 48, 48, 48, 48, 48, 48, 48, 48, 48, 48, 48, 48, 48, 48, 48, 48, 48, 48, 48, 48, 48, 48, 48, 48, 48, 48, 48, 48, 48, 48, 48, 48, 48, 48, 48, 48, 48, 48, 48, 48, 48, 48, 48, 48, 48, 48, 48, 48, 48, 48, 48, 48, 48, 48, 48, 48, 48, 48, 48, 48, 48, 48, 48, 48, 48, 48, 48, 48, 48, 48, 48, 48, 48, 48, 48, 48, 48, 48, 48, 49, 49, 49, 49, 49, 49, 49, 49, 49, 49, 49, 49, 49, 49, 49, 49, 49, 49, 49, 49, 49, 49, 49, 49, 49, 49, 49, 49, 49, 50, 50, 50, 50, 50, 50, 50, 50, 50, 50, 50, 50, 50, 50, 50, 50, 50, 50, 50, 50, 50, 50, 50, 50, 50, 50, 50, 50, 50, 50, 50, 50, 50, 50, 50, 50, 50, 50, 50, 50, 51, 51, 51, 51, 51, 51, 51, 51, 51, 51, 51, 51, 51, 51, 51, 51, 51, 51, 51, 51, 51, 51, 51, 51, 51, 51, 51, 51, 51, 51, 51, 51, 51, 51, 51, 51, 51, 51, 51, 51, 51, 51, 51, 51, 51, 51, 51, 51, 51, 51, 51, 51, 51, 51, 51, 51, 51, 51, 51, 51, 51, 51, 51, 51, 51, 51, 51, 51, 51, 51, 51, 51, 51, 51, 51, 51, 51, 51, 51, 51, 51, 51, 51, 51, 51, 51, 51, 51, 51, 51, 51, 51, 51, 51, 51, 51, 51, 51, 51, 51, 51, 51, 51, 51, 51, 51, 51, 51, 51, 51, 51, 51, 51, 51, 51, 51, 51, 51, 51, 51, 51, 51, 51, 51, 51, 51, 51, 51, 51, 51, 51, 51, 51, 51, 51, 51, 51, 51, 51, 51, 51, 51, 51, 51, 51, 51, 51, 52, 52, 52, 52, 52, 52, 52, 52, 52, 52, 52, 52, 52, 52, 52, 52, 52, 52, 52, 52, 52, 52, 52, 52, 52, 52, 52, 52, 52, 52, 52, 52, 52, 52, 52, 52, 52, 52, 52, 52, 52, 52, 52, 52, 52, 52, 52, 52, 52, 52, 52, 52, 52, 52, 52, 52, 52, 52, 52, 52, 52, 52, 52, 52, 52, 52, 52, 52, 52, 52, 52, 52, 52, 52, 52, 52, 52, 52, 52, 52, 52, 52, 52, 52, 52, 52, 52, 52, 52, 52, 52, 52, 52, 52, 52, 52, 52, 52, 52, 52, 52, 52, 52, 52, 52, 52, 52, 52, 52, 52, 52, 52, 52, 52, 52, 52, 52, 52, 52, 52, 52, 52, 52, 52, 52, 52, 52, 52, 52, 52, 52, 52, 52, 52, 52, 52, 52, 52, 52, 52, 52, 52, 52, 52, 52, 52, 52, 52, 52, 52, 52, 52, 52, 52, 52, 52, 52, 52, 52, 52, 52, 52, 52, 52, 52, 1, 1, 1, 1, 1, 1, 1, 1, 1, 1, 1, 1, 1, 1, 1, 1, 1, 1, 1, 1, 1, 1, 1, 1, 1, 1, 1, 1, 1, 1, 1, 1, 1, 1, 1, 1, 1, 1, 1, 1, 1, 1, 1, 1, 1, 1, 1, 1, 1, 1, 1, 1, 1, 1, 1, 1, 1, 1, 1, 1, 1, 1, 1, 1, 1, 1, 1, 1, 1, 1, 1, 1, 1, 1, 1, 1, 1, 1, 1, 1, 1, 1, 1, 1, 1, 1, 1, 1, 1, 1, 1, 1, 1, 1, 1, 1, 1, 1, 1, 1, 1, 1, 1, 1, 1, 1, 1, 1, 1, 1, 1, 1, 1, 1, 1, 1, 1, 1, 1, 1, 1, 1, 1, 1, 1, 1, 1, 1, 1, 1, 1, 1, 1, 1, 1, 1, 1, 1, 1, 1, 1, 1, 1, 1, 1, 1, 1, 1, 1, 1, 1, 1, 1, 1, 1, 1, 1, 1, 1, 1, 1, 1, 1, 1, 1, 1, 1, 1, 2, 2, 2, 2, 2, 2, 2, 2, 2, 2, 2, 2, 2, 2, 2, 2, 2], \"x0\": \" \", \"xaxis\": \"x\", \"y\": [2.853925564331865, 2.76556776556777, 2.866978700312034, 2.9040114977614984, 2.911006817256817, 2.9100529100529102, 2.920545889295889, 2.868589743589744, 2.886777574277575, 2.906873219373218, 2.8538822288822296, 2.823565323565326, 2.812372812372814, 2.849702380952381, 2.82604548229548, 2.854471916971917, 2.8327228327228346, 2.808684371184371, 2.822929385429383, 2.838001119251119, 2.8632478632478615, 2.8928295855379194, 2.836209893501559, 2.8353301790801786, 2.8369836182336194, 2.860131766381768, 2.882516788766789, 2.880291005291006, 2.9309116809116795, 2.8409900284900265, 2.860894892144892, 2.857842389092388, 2.844169719169719, 2.8668091168091165, 2.849002849002849, 2.8108465608465596, 2.865410052910052, 2.8620395807895807, 2.9019764957264953, 2.904838217338216, 2.8537087912087915, 2.854662698412696, 2.816887973137973, 2.9175569800569803, 2.8578423890923887, 2.861530830280831, 2.884869759869759, 2.8596866096866105, 2.7812754375254376, 2.888939763939763, 2.838509869759869, 2.8476037851037845, 2.8488120675620685, 2.879782254782255, 2.874313186813188, 2.9074455636955636, 2.849893162393164, 2.8215939153439145, 2.8654100529100535, 2.950434981684983, 2.8990511803011807, 2.858096764346764, 2.9066824379324374, 2.8827075702075677, 2.874249592999591, 2.87971866096866, 2.8408628408628416, 2.876729751729751, 2.9070004070004085, 2.846141127391127, 2.8842974155474153, 2.8345034595034586, 2.8314509564509556, 2.8566341066341057, 2.883470695970695, 2.870497557997558, 2.8706247456247453, 2.8586691086691083, 2.887540700040699, 2.88766788766789, 2.772626678876677, 2.8425798738298744, 2.8629298941798926, 2.9444571632071628, 2.8815628815628798, 2.8528184778184777, 2.877429283679284, 2.823946886446885, 2.8085571835571823, 2.816124847374848, 2.9240435490435495, 2.911324786324784, 2.926460113960113, 2.963026556776557, 2.7746616809116795, 2.8328500203500204, 2.8734228734228737, 2.881117724867725, 2.8457595645095632, 2.8577152014652003, 2.858414733414733, 2.8722145909645924, 2.8654736467236464, 2.860831298331298, 2.885823667073669, 2.8615944240944238, 2.8872227309727307, 2.8801002238502242, 2.8589234839234834, 2.837174399674399, 2.9046474358974343, 2.8587962962962963, 2.861149267399267, 2.860322547822548, 2.8107193732193725, 2.864583333333334, 2.8890669515669516, 2.8484305046805023, 2.8744403744403733, 2.8392729955229967, 2.8586055148555136, 2.8704339641839645, 2.8454415954415957, 2.813263125763124, 2.8186050061050065, 2.801434676434677, 2.8676994301994303, 2.8872227309727294, 2.8521189458689453, 2.892501017501017, 2.914186507936508, 2.8169515669515666, 2.836665649165649, 2.9003230565730562, 2.8764753764753763, 2.8510378510378502, 2.86687271062271, 2.90591931216931, 2.8007987382987394, 2.8839158526658526, 2.877874440374441, 2.942104192104194, 2.876538970288969, 2.9155219780219763, 2.9350452787952777, 2.8815628815628815, 2.8747583435083417, 2.892564611314611, 2.923916361416362, 2.871896621896622, 2.9076999389499396, 2.865728021978022, 2.9248702686202677, 2.889257733007733, 2.830179080179079, 2.889384920634919, 2.833231583231582, 2.838827838827839, 2.9124058811558817, 2.914122914122915, 2.8991147741147736, 2.820322039072039, 2.8460139397639406, 2.926078551078552, 2.849893162393163, 2.8420711233211216, 2.9115791615791617, 2.8005443630443616, 2.851228632478634, 2.8701795889295885, 2.8743131868131857, 2.8791463166463167, 2.8636294261294277, 2.8963166463166465, 2.8467134717134708, 2.836029711029711, 2.886968355718356, 2.8808633496133496, 2.8317053317053316, 2.875394281644281, 2.8448692511192513, 2.8306242368742365, 2.8846153846153846, 2.8877950752950743, 2.9023580586080584, 2.812309218559219, 2.914949633699633, 2.9220085470085455, 2.8228657916157913, 2.842961436711437, 2.8275717338217334, 2.903757122507122, 2.8802910052910033, 2.8755850630850652, 2.9361263736263754, 2.9133597883597875, 2.908971815221816, 2.907509157509157, 2.8977157102157096, 2.906491656491657, 2.8353301790801804, 2.818986568986569, 2.849638787138787, 2.844996438746439, 2.8559345746845732, 2.8525005087505093, 2.856506919006918, 2.7950752950752964, 2.8624847374847366, 2.8387642450142447, 2.809065934065933, 2.855807387057389, 2.8172695360195363, 2.8833435083435073, 2.8434065934065935, 2.854599104599103, 2.8563161375661363, 2.8563161375661377, 2.8617852055352064, 2.9248702686202663, 2.8323412698412693, 2.8626119251119255, 2.872278184778185, 2.7997176434676434, 2.8544719169719186, 2.8325320512820493, 2.7781593406593412, 2.8994963369963354, 2.8641381766381753, 2.8619123931623918, 2.8966982091982096, 2.854726292226293, 2.8593050468050474, 2.8565705128205114, 2.802515771265771, 2.79882733007733, 2.8921194546194555, 2.863565832315832, 2.7747252747252724, 2.8528184778184786, 2.8647741147741157, 2.904456654456654, 2.832150488400487, 2.8567612942612954, 2.8687169312169325, 2.890783984533984, 2.8511650386650387, 2.8603225478225482, 2.91469525844526, 2.874618437118436, 2.8848061660561672, 2.839082214082215, 2.866554741554743, 2.8778744403744416, 2.8723417785917795, 2.905664936914938, 2.814598595848596, 2.839145807895808, 2.8418803418803424, 2.8805453805453816, 2.877174908424909, 2.894154456654455, 2.836665649165649, 2.9211182336182335, 2.8415623728123713, 2.866681929181929, 2.8746311558811573, 2.852436914936914, 2.8240104802604815, 2.831832519332519, 2.82833485958486, 2.8513558201058182, 2.820957977207977, 2.8962530525030528, 2.852500508750509, 2.855107855107855, 2.8670634920634925, 2.868398962148962, 2.8584783272283283, 2.785917785917785, 2.8395273707773705, 2.86852614977615, 2.830931606973273, 2.8203220390720403, 2.822738603988604, 2.8816900691900695, 2.850211131461132, 2.905919312169312, 2.885632885632884, 2.8484305046805054, 2.8891941391941383, 2.948463573463572, 2.8409900284900274, 2.86820818070818, 2.81014702889703, 2.826299857549857, 2.7784137159137163, 2.867254273504274, 2.8773656898656887, 2.893900081400082, 2.872532560032559, 2.9371438746438763, 2.958638583638585, 2.9645528083028077, 3.0318350630850635, 2.9782254782254802, 2.953360297110297, 2.9739010989010985, 3.0098316035816044, 2.9997837810337806, 2.950880138380139, 2.9573667073667083, 2.9618818681318686, 2.9490359177859164, 2.955268111518112, 2.971102971102971, 3.006906288156287, 2.942485754985755, 2.937143874643874, 2.9719932844932853, 2.9934243996744, 2.97758954008954, 2.972565628815629, 2.9930428367928372, 2.970594220594219, 2.898415242165241, 2.9261421448921454, 2.992279711029711, 2.980960012210011, 2.981532356532357, 2.986492673992674, 2.9394332519332522, 2.9384793447293425, 2.9483363858363845, 2.9297033984533982, 2.9793065730565735, 2.979242979242979, 3.0228047415547414, 2.9882733007733004, 2.9621998371998384, 2.961245929995929, 2.978416259666261, 2.988527676027676, 2.976699226699227, 3.0567002442002456, 3.027319902319903, 2.8944088319088306, 2.9641712454212445, 2.8807997557997553, 2.981150793650794, 2.900259462759463, 2.905919312169311, 2.9548865486365496, 2.9445843508343508, 2.8191137566137567, 2.916475885225886, 2.905028998778999, 2.918574481074481, 2.9464921652421654, 2.9083358770858765, 2.9069368131868134, 2.847985347985349, 2.9354904354904363, 2.944711538461538, 2.982231888481888, 2.894027269027269, 2.874122405372406, 2.9112611925111938, 2.91469525844526, 2.88321632071632, 2.9327559015059013, 2.850020350020351, 2.9082086894586876, 2.9340913715913715, 2.8983516483516483, 2.9174933862433865, 2.98477564102564, 2.916475885225885, 2.9219449531949535, 2.9616274928774917, 2.8835342897842904, 2.8885582010582014, 2.9110068172568173, 2.827062983312983, 2.9178749491249487, 2.882008038258039, 2.890911172161172, 2.8957443019943025, 2.9857931420431414, 2.972629222629223, 2.9358719983719976, 2.9438212250712255, 2.9921525234025244, 3.018225986975987, 3.004998473748472, 2.968368437118438, 2.9664606227106223, 2.992152523402522, 2.95259717134717, 3.0090684778184786, 3.014283170533171, 3.035714285714286, 3.045825702075702, 3.0274470899470907, 3.0540293040293047, 2.97975172975173, 2.9655703093203094, 3.003345034595036, 2.9754273504273505, 2.972692816442816, 3.008050976800977, 2.9896723646723635, 3.0269383394383396, 2.903947903947902, 2.8804181929181927, 2.930402930402931, 2.899623524623525, 2.9613095238095237, 2.89854242979243, 2.9019764957264944, 2.972820004070004, 2.9248066748066743, 2.892310236060236, 2.9033119658119673, 2.896253052503051, 2.8710699023199004, 2.9058557183557183, 2.897270553520553, 2.8764753764753777, 2.919337606837605, 2.886141636141636, 2.8880494505494494, 2.9482091982091987, 2.927096052096052, 2.934409340659339, 2.8651556776556784, 2.934409340659341, 2.930530118030116, 2.9106252543752547, 2.921054639804639, 2.8606405168905162, 2.964171245421245, 2.920482295482293, 2.9113247863247858, 2.915521978021978, 2.9199099511599513, 2.883343508343508, 2.8919922669922666, 2.900005087505088, 2.9142501017501026, 2.8552350427350426, 2.915267602767603, 2.887922262922262, 2.9221993284493277, 2.9288766788766787, 2.8528820716320715, 2.929703398453397, 2.875966625966626, 2.9866198616198623, 2.918765262515263, 2.963662494912493, 2.900768213268213, 2.8692892755392747, 2.891165547415546, 2.9155219780219768, 2.9366987179487176, 2.9008318070818064, 2.924933862433862, 2.901467745217745, 2.8835342897842895, 2.9104980667480667, 2.8916107041107053, 2.9361263736263736, 2.934663715913716, 2.9121515059015053, 2.9365079365079367, 2.9403871591371593, 2.875394281644281, 2.856252543752543, 2.9508801383801377, 2.987828144078144, 2.9570487382987385, 2.8518645706145684, 2.918192918192918, 2.9021036833536837, 2.9086538461538463, 2.8462683150183152, 2.907699938949939, 2.8980336792836785, 2.9228352665852664, 2.8790827228327225, 2.934918091168092, 2.9383521571021567, 2.960101241351241, 2.8517373829873827, 2.8746947496947493, 2.892628205128205, 2.8852513227513215, 2.86935286935287, 2.914059320309319, 2.8966982091982083, 2.89905118030118, 2.8803545991045993, 2.9141865079365075, 2.9797517297517295, 2.9907534595034595, 2.983503764753763, 2.9356176231176234, 2.9136777574277577, 2.9480184167684165, 2.90121336996337, 2.8825803825803824, 2.9199099511599518, 2.9230260480260477, 2.8894485144485134, 2.93841575091575, 2.918192918192918, 2.9139957264957275, 2.91488603988604, 2.9333282458282466, 2.8942180504680484, 2.922199328449329, 2.937398249898248, 2.901594932844933, 2.8951719576719577, 2.912087912087911, 2.888558201058201, 2.922771672771672, 2.8893849206349214, 2.8852513227513206, 2.8902752340252342, 2.944647944647943, 2.881944444444445, 2.9174933862433865, 2.9440120065120055, 2.8962530525030528, 2.901976495726497, 2.898160866910866, 2.909289784289784, 2.893963675213675, 2.9100529100529093, 2.8971433658933647, 2.8829619454619455, 2.912660256410257, 2.897842897842894, 2.9081450956450947, 2.918892450142449, 2.9351088726088714, 2.9492902930402924, 2.9300213675213675, 2.896761803011803, 2.991643772893772, 2.9230260480260473, 2.9263965201465196, 2.905474155474156, 2.9227716727716735, 2.974473443223444, 2.913169006919007, 2.9160943223443216, 2.914822446072448, 2.9111340048840044, 2.9280499592999587, 2.9156491656491657, 2.9306573056573053, 2.919782763532764, 2.8930733618233604, 2.951325295075296, 2.8896392958892942, 2.9716117216117213, 2.975808913308914, 2.878955535205535, 2.916984635734634, 2.886841168091168, 2.9328194953194946, 2.8975885225885207, 3.0232498982498974, 2.9625814000813997, 2.9532331094831097, 2.905219780219779, 2.9347909035409034, 2.9003866503866487, 2.9010225885225895, 2.925951363451363, 2.8596230158730154, 2.9300213675213684, 2.923089641839642, 2.858287545787546, 2.9416590354090357, 2.9330738705738693, 2.9433760683760677, 2.9611823361823366, 2.942167785917785, 2.9602920227920233, 2.873804436304436, 2.918192918192919, 2.9029939967439975, 2.9194647944647927, 2.8969525844525834, 2.901022588522588, 2.918447293447292, 2.8428342490842486, 2.94890873015873, 2.8940908628408635, 2.9738375050875057, 2.920800264550264, 2.9459834147334143, 2.949989824989825, 2.911134004884005, 2.9074455636955636, 2.8884946072446063, 2.8873499185999183, 2.8731049043549035, 2.9187016687016683, 2.9472552910052916, 2.8860780423280414, 2.9131054131054124, 2.8570792633292625, 2.868653337403337, 2.903439153439154, 2.8963802401302394, 2.8965710215710208, 2.917302604802605, 2.9730743793243786, 2.95405982905983, 2.928177146927149, 2.9273504273504263, 2.9085902523402525, 2.9227080789580793, 2.9561584249084256, 2.86305708180708, 2.832659238909238, 2.930466524216524, 2.9276048026048027, 2.949735449735448, 2.9070004070004063, 2.8746947496947493, 2.938670126170125, 2.847413003663004, 2.9038207163207166, 2.917111823361824, 2.9223901098901113, 2.8965074277574274, 2.8715786528286524, 2.9173661986162, 2.9019129019128997, 2.91138838013838, 2.9128510378510373, 2.8855692918192926, 2.8978428978428963, 2.933519027269028, 2.9063008750508756, 2.897652116402116, 2.9842668905168903, 2.969131562881563, 2.958257020757023, 2.977080789580791, 2.9252518315018325, 2.954123422873423, 2.9350452787952777, 2.8839794464794455, 2.9031211843711837, 2.9143772893772906, 2.900513838013838, 2.939306064306065, 2.9058557183557183, 2.9850936100936103, 2.9638532763532752, 2.970149063899065, 2.9400055962555958, 2.998829873829873, 2.9796881359381366, 2.9882733007733013, 2.887731481481481, 2.9478276353276356, 2.891547110297111, 2.8669998982498988, 2.919973544973544, 2.877492877492878, 2.981659544159543, 2.892055860805861, 2.927477614977615, 2.9058557183557183, 2.85885989010989, 2.9001322751322753, 2.9149496336996346, 2.9178113553113554, 2.9258241758241756, 2.9110704110704106, 2.9669693732193725, 2.965061558811559, 2.9601648351648344, 2.9015313390313384, 3.008368945868948, 2.998384717134716, 2.974727818477817, 2.995205026455027, 2.949481074481074, 2.998448310948311, 2.9774623524623536, 2.912469474969477, 2.9945054945054945, 3.0146011396011403, 2.9602920227920215, 2.9598468660968673, 2.976254070004069, 3.04111975986976, 2.9460470085470103, 2.9246794871794872, 2.945347476597478, 2.899114774114773, 2.9562856125356105, 2.928431522181523, 2.976190476190476, 2.969703907203906, 2.968813593813594, 2.959210927960928, 2.9267780830280827, 2.935172466422466, 2.9437576312576295, 3.028718966218966, 2.9669057794057774, 2.9758725071225083, 2.9689407814407827, 2.9512617012617017, 2.9567943630443634, 2.981850325600325, 2.940705128205129, 2.991580179080179, 2.9125966625966626, 2.933773402523402, 2.9339641839641843, 2.925379019129019, 2.96073717948718, 2.9536146723646723, 2.9218177655677664, 2.9831857956857952, 2.899496336996337, 2.9425493487993495, 3.05345695970696, 2.9408323158323166, 2.9181929181929185, 2.9582570207570202, 2.924870268620267, 2.9234076109076104, 2.932946682946683, 2.968686406186406, 2.9339641839641852, 2.939306064306065, 2.9714209401709417, 3.001691595441594, 2.943757631257632, 2.9842668905168916, 2.9497990435490427, 2.986683455433456, 2.9920253357753364, 2.9997201872201864, 2.9592109279609295, 2.926587301587302, 2.9374618437118425, 2.9475096662596663, 2.9497990435490453, 2.9672873422873423, 2.94859076109076, 2.9415954415954424, 2.916539479039479, 2.931293243793244, 2.9353632478632474, 2.8995599308099305, 2.906428062678063, 2.903757122507122, 2.9383521571021576, 2.9957137769637767, 2.9330102767602777, 2.9761268823768816, 2.967223748473748, 2.963980463980464, 2.9436940374440375, 2.897842897842897, 2.9174297924297914, 2.9302121489621484, 2.8696708384208383, 2.990117521367521, 2.938797313797313, 2.9688135938135933, 2.903184778184778, 2.9340913715913715, 2.9129782254782253, 2.9111975986975973, 2.9531059218559217, 2.958574989824991, 2.9631537444037437, 2.959974053724054, 2.925824175824175, 2.96824124949125, 2.9418498168498144, 2.905664936914937, 2.928495115995117, 2.9787978225478233, 2.947128103378104, 2.9377162189662176, 2.89453601953602, 2.9124694749694737, 2.9497354497354498, 2.9373982498982483, 2.9104344729344724, 2.971102971102971, 2.9302757427757418, 2.9567307692307683, 2.9751729751729763, 2.966905779405779, 2.940768722018722, 2.926841676841678, 2.8905932030932036, 2.914949633699635, 2.9284951159951156, 2.941722629222628, 3.0399750712250717, 2.926523707773709, 2.970657814407815, 2.9242343304843303, 2.9447115384615388, 2.9618182743182753, 2.947382478632477, 2.9761904761904776, 2.9252518315018317, 2.9821047008546997, 2.9135505698005697, 2.948463573463574, 2.9936151811151785, 2.9556496743996745, 3.0153642653642643, 2.956349206349207, 2.9043930606430592, 3.007542226292227, 2.916475885225886, 2.8455051892551886, 2.911706349206348, 2.87386803011803, 2.8839794464794473], \"y0\": \" \", \"yaxis\": \"y\"}],\n",
       "                        {\"boxmode\": \"group\", \"legend\": {\"tracegroupgap\": 0}, \"template\": {\"data\": {\"bar\": [{\"error_x\": {\"color\": \"rgb(36,36,36)\"}, \"error_y\": {\"color\": \"rgb(36,36,36)\"}, \"marker\": {\"line\": {\"color\": \"white\", \"width\": 0.5}}, \"type\": \"bar\"}], \"barpolar\": [{\"marker\": {\"line\": {\"color\": \"white\", \"width\": 0.5}}, \"type\": \"barpolar\"}], \"carpet\": [{\"aaxis\": {\"endlinecolor\": \"rgb(36,36,36)\", \"gridcolor\": \"white\", \"linecolor\": \"white\", \"minorgridcolor\": \"white\", \"startlinecolor\": \"rgb(36,36,36)\"}, \"baxis\": {\"endlinecolor\": \"rgb(36,36,36)\", \"gridcolor\": \"white\", \"linecolor\": \"white\", \"minorgridcolor\": \"white\", \"startlinecolor\": \"rgb(36,36,36)\"}, \"type\": \"carpet\"}], \"choropleth\": [{\"colorbar\": {\"outlinewidth\": 1, \"tickcolor\": \"rgb(36,36,36)\", \"ticks\": \"outside\"}, \"type\": \"choropleth\"}], \"contour\": [{\"colorbar\": {\"outlinewidth\": 1, \"tickcolor\": \"rgb(36,36,36)\", \"ticks\": \"outside\"}, \"colorscale\": [[0.0, \"#440154\"], [0.1111111111111111, \"#482878\"], [0.2222222222222222, \"#3e4989\"], [0.3333333333333333, \"#31688e\"], [0.4444444444444444, \"#26828e\"], [0.5555555555555556, \"#1f9e89\"], [0.6666666666666666, \"#35b779\"], [0.7777777777777778, \"#6ece58\"], [0.8888888888888888, \"#b5de2b\"], [1.0, \"#fde725\"]], \"type\": \"contour\"}], \"contourcarpet\": [{\"colorbar\": {\"outlinewidth\": 1, \"tickcolor\": \"rgb(36,36,36)\", \"ticks\": \"outside\"}, \"type\": \"contourcarpet\"}], \"heatmap\": [{\"colorbar\": {\"outlinewidth\": 1, \"tickcolor\": \"rgb(36,36,36)\", \"ticks\": \"outside\"}, \"colorscale\": [[0.0, \"#440154\"], [0.1111111111111111, \"#482878\"], [0.2222222222222222, \"#3e4989\"], [0.3333333333333333, \"#31688e\"], [0.4444444444444444, \"#26828e\"], [0.5555555555555556, \"#1f9e89\"], [0.6666666666666666, \"#35b779\"], [0.7777777777777778, \"#6ece58\"], [0.8888888888888888, \"#b5de2b\"], [1.0, \"#fde725\"]], \"type\": \"heatmap\"}], \"heatmapgl\": [{\"colorbar\": {\"outlinewidth\": 1, \"tickcolor\": \"rgb(36,36,36)\", \"ticks\": \"outside\"}, \"colorscale\": [[0.0, \"#440154\"], [0.1111111111111111, \"#482878\"], [0.2222222222222222, \"#3e4989\"], [0.3333333333333333, \"#31688e\"], [0.4444444444444444, \"#26828e\"], [0.5555555555555556, \"#1f9e89\"], [0.6666666666666666, \"#35b779\"], [0.7777777777777778, \"#6ece58\"], [0.8888888888888888, \"#b5de2b\"], [1.0, \"#fde725\"]], \"type\": \"heatmapgl\"}], \"histogram\": [{\"marker\": {\"line\": {\"color\": \"white\", \"width\": 0.6}}, \"type\": \"histogram\"}], \"histogram2d\": [{\"colorbar\": {\"outlinewidth\": 1, \"tickcolor\": \"rgb(36,36,36)\", \"ticks\": \"outside\"}, \"colorscale\": [[0.0, \"#440154\"], [0.1111111111111111, \"#482878\"], [0.2222222222222222, \"#3e4989\"], [0.3333333333333333, \"#31688e\"], [0.4444444444444444, \"#26828e\"], [0.5555555555555556, \"#1f9e89\"], [0.6666666666666666, \"#35b779\"], [0.7777777777777778, \"#6ece58\"], [0.8888888888888888, \"#b5de2b\"], [1.0, \"#fde725\"]], \"type\": \"histogram2d\"}], \"histogram2dcontour\": [{\"colorbar\": {\"outlinewidth\": 1, \"tickcolor\": \"rgb(36,36,36)\", \"ticks\": \"outside\"}, \"colorscale\": [[0.0, \"#440154\"], [0.1111111111111111, \"#482878\"], [0.2222222222222222, \"#3e4989\"], [0.3333333333333333, \"#31688e\"], [0.4444444444444444, \"#26828e\"], [0.5555555555555556, \"#1f9e89\"], [0.6666666666666666, \"#35b779\"], [0.7777777777777778, \"#6ece58\"], [0.8888888888888888, \"#b5de2b\"], [1.0, \"#fde725\"]], \"type\": \"histogram2dcontour\"}], \"mesh3d\": [{\"colorbar\": {\"outlinewidth\": 1, \"tickcolor\": \"rgb(36,36,36)\", \"ticks\": \"outside\"}, \"type\": \"mesh3d\"}], \"parcoords\": [{\"line\": {\"colorbar\": {\"outlinewidth\": 1, \"tickcolor\": \"rgb(36,36,36)\", \"ticks\": \"outside\"}}, \"type\": \"parcoords\"}], \"pie\": [{\"automargin\": true, \"type\": \"pie\"}], \"scatter\": [{\"marker\": {\"colorbar\": {\"outlinewidth\": 1, \"tickcolor\": \"rgb(36,36,36)\", \"ticks\": \"outside\"}}, \"type\": \"scatter\"}], \"scatter3d\": [{\"line\": {\"colorbar\": {\"outlinewidth\": 1, \"tickcolor\": \"rgb(36,36,36)\", \"ticks\": \"outside\"}}, \"marker\": {\"colorbar\": {\"outlinewidth\": 1, \"tickcolor\": \"rgb(36,36,36)\", \"ticks\": \"outside\"}}, \"type\": \"scatter3d\"}], \"scattercarpet\": [{\"marker\": {\"colorbar\": {\"outlinewidth\": 1, \"tickcolor\": \"rgb(36,36,36)\", \"ticks\": \"outside\"}}, \"type\": \"scattercarpet\"}], \"scattergeo\": [{\"marker\": {\"colorbar\": {\"outlinewidth\": 1, \"tickcolor\": \"rgb(36,36,36)\", \"ticks\": \"outside\"}}, \"type\": \"scattergeo\"}], \"scattergl\": [{\"marker\": {\"colorbar\": {\"outlinewidth\": 1, \"tickcolor\": \"rgb(36,36,36)\", \"ticks\": \"outside\"}}, \"type\": \"scattergl\"}], \"scattermapbox\": [{\"marker\": {\"colorbar\": {\"outlinewidth\": 1, \"tickcolor\": \"rgb(36,36,36)\", \"ticks\": \"outside\"}}, \"type\": \"scattermapbox\"}], \"scatterpolar\": [{\"marker\": {\"colorbar\": {\"outlinewidth\": 1, \"tickcolor\": \"rgb(36,36,36)\", \"ticks\": \"outside\"}}, \"type\": \"scatterpolar\"}], \"scatterpolargl\": [{\"marker\": {\"colorbar\": {\"outlinewidth\": 1, \"tickcolor\": \"rgb(36,36,36)\", \"ticks\": \"outside\"}}, \"type\": \"scatterpolargl\"}], \"scatterternary\": [{\"marker\": {\"colorbar\": {\"outlinewidth\": 1, \"tickcolor\": \"rgb(36,36,36)\", \"ticks\": \"outside\"}}, \"type\": \"scatterternary\"}], \"surface\": [{\"colorbar\": {\"outlinewidth\": 1, \"tickcolor\": \"rgb(36,36,36)\", \"ticks\": \"outside\"}, \"colorscale\": [[0.0, \"#440154\"], [0.1111111111111111, \"#482878\"], [0.2222222222222222, \"#3e4989\"], [0.3333333333333333, \"#31688e\"], [0.4444444444444444, \"#26828e\"], [0.5555555555555556, \"#1f9e89\"], [0.6666666666666666, \"#35b779\"], [0.7777777777777778, \"#6ece58\"], [0.8888888888888888, \"#b5de2b\"], [1.0, \"#fde725\"]], \"type\": \"surface\"}], \"table\": [{\"cells\": {\"fill\": {\"color\": \"rgb(237,237,237)\"}, \"line\": {\"color\": \"white\"}}, \"header\": {\"fill\": {\"color\": \"rgb(217,217,217)\"}, \"line\": {\"color\": \"white\"}}, \"type\": \"table\"}]}, \"layout\": {\"annotationdefaults\": {\"arrowhead\": 0, \"arrowwidth\": 1}, \"coloraxis\": {\"colorbar\": {\"outlinewidth\": 1, \"tickcolor\": \"rgb(36,36,36)\", \"ticks\": \"outside\"}}, \"colorscale\": {\"diverging\": [[0.0, \"rgb(103,0,31)\"], [0.1, \"rgb(178,24,43)\"], [0.2, \"rgb(214,96,77)\"], [0.3, \"rgb(244,165,130)\"], [0.4, \"rgb(253,219,199)\"], [0.5, \"rgb(247,247,247)\"], [0.6, \"rgb(209,229,240)\"], [0.7, \"rgb(146,197,222)\"], [0.8, \"rgb(67,147,195)\"], [0.9, \"rgb(33,102,172)\"], [1.0, \"rgb(5,48,97)\"]], \"sequential\": [[0.0, \"#440154\"], [0.1111111111111111, \"#482878\"], [0.2222222222222222, \"#3e4989\"], [0.3333333333333333, \"#31688e\"], [0.4444444444444444, \"#26828e\"], [0.5555555555555556, \"#1f9e89\"], [0.6666666666666666, \"#35b779\"], [0.7777777777777778, \"#6ece58\"], [0.8888888888888888, \"#b5de2b\"], [1.0, \"#fde725\"]], \"sequentialminus\": [[0.0, \"#440154\"], [0.1111111111111111, \"#482878\"], [0.2222222222222222, \"#3e4989\"], [0.3333333333333333, \"#31688e\"], [0.4444444444444444, \"#26828e\"], [0.5555555555555556, \"#1f9e89\"], [0.6666666666666666, \"#35b779\"], [0.7777777777777778, \"#6ece58\"], [0.8888888888888888, \"#b5de2b\"], [1.0, \"#fde725\"]]}, \"colorway\": [\"#1F77B4\", \"#FF7F0E\", \"#2CA02C\", \"#D62728\", \"#9467BD\", \"#8C564B\", \"#E377C2\", \"#7F7F7F\", \"#BCBD22\", \"#17BECF\"], \"font\": {\"color\": \"rgb(36,36,36)\"}, \"geo\": {\"bgcolor\": \"white\", \"lakecolor\": \"white\", \"landcolor\": \"white\", \"showlakes\": true, \"showland\": true, \"subunitcolor\": \"white\"}, \"hoverlabel\": {\"align\": \"left\"}, \"hovermode\": \"closest\", \"mapbox\": {\"style\": \"light\"}, \"paper_bgcolor\": \"white\", \"plot_bgcolor\": \"white\", \"polar\": {\"angularaxis\": {\"gridcolor\": \"rgb(232,232,232)\", \"linecolor\": \"rgb(36,36,36)\", \"showgrid\": false, \"showline\": true, \"ticks\": \"outside\"}, \"bgcolor\": \"white\", \"radialaxis\": {\"gridcolor\": \"rgb(232,232,232)\", \"linecolor\": \"rgb(36,36,36)\", \"showgrid\": false, \"showline\": true, \"ticks\": \"outside\"}}, \"scene\": {\"xaxis\": {\"backgroundcolor\": \"white\", \"gridcolor\": \"rgb(232,232,232)\", \"gridwidth\": 2, \"linecolor\": \"rgb(36,36,36)\", \"showbackground\": true, \"showgrid\": false, \"showline\": true, \"ticks\": \"outside\", \"zeroline\": false, \"zerolinecolor\": \"rgb(36,36,36)\"}, \"yaxis\": {\"backgroundcolor\": \"white\", \"gridcolor\": \"rgb(232,232,232)\", \"gridwidth\": 2, \"linecolor\": \"rgb(36,36,36)\", \"showbackground\": true, \"showgrid\": false, \"showline\": true, \"ticks\": \"outside\", \"zeroline\": false, \"zerolinecolor\": \"rgb(36,36,36)\"}, \"zaxis\": {\"backgroundcolor\": \"white\", \"gridcolor\": \"rgb(232,232,232)\", \"gridwidth\": 2, \"linecolor\": \"rgb(36,36,36)\", \"showbackground\": true, \"showgrid\": false, \"showline\": true, \"ticks\": \"outside\", \"zeroline\": false, \"zerolinecolor\": \"rgb(36,36,36)\"}}, \"shapedefaults\": {\"fillcolor\": \"black\", \"line\": {\"width\": 0}, \"opacity\": 0.3}, \"ternary\": {\"aaxis\": {\"gridcolor\": \"rgb(232,232,232)\", \"linecolor\": \"rgb(36,36,36)\", \"showgrid\": false, \"showline\": true, \"ticks\": \"outside\"}, \"baxis\": {\"gridcolor\": \"rgb(232,232,232)\", \"linecolor\": \"rgb(36,36,36)\", \"showgrid\": false, \"showline\": true, \"ticks\": \"outside\"}, \"bgcolor\": \"white\", \"caxis\": {\"gridcolor\": \"rgb(232,232,232)\", \"linecolor\": \"rgb(36,36,36)\", \"showgrid\": false, \"showline\": true, \"ticks\": \"outside\"}}, \"title\": {\"x\": 0.05}, \"xaxis\": {\"automargin\": true, \"gridcolor\": \"rgb(232,232,232)\", \"linecolor\": \"rgb(36,36,36)\", \"showgrid\": false, \"showline\": true, \"ticks\": \"outside\", \"title\": {\"standoff\": 15}, \"zeroline\": false, \"zerolinecolor\": \"rgb(36,36,36)\"}, \"yaxis\": {\"automargin\": true, \"gridcolor\": \"rgb(232,232,232)\", \"linecolor\": \"rgb(36,36,36)\", \"showgrid\": false, \"showline\": true, \"ticks\": \"outside\", \"title\": {\"standoff\": 15}, \"zeroline\": false, \"zerolinecolor\": \"rgb(36,36,36)\"}}}, \"title\": {\"text\": \"InletPressure g-pump-5 for all weeks \"}, \"xaxis\": {\"anchor\": \"y\", \"domain\": [0.0, 1.0], \"title\": {\"text\": \"week\"}, \"type\": \"category\"}, \"yaxis\": {\"anchor\": \"x\", \"domain\": [0.0, 1.0], \"title\": {\"text\": \"feature_value\"}}},\n",
       "                        {\"responsive\": true}\n",
       "                    ).then(function(){\n",
       "                            \n",
       "var gd = document.getElementById('151c7f85-a7ce-4334-ba58-dfde699f9173');\n",
       "var x = new MutationObserver(function (mutations, observer) {{\n",
       "        var display = window.getComputedStyle(gd).display;\n",
       "        if (!display || display === 'none') {{\n",
       "            console.log([gd, 'removed!']);\n",
       "            Plotly.purge(gd);\n",
       "            observer.disconnect();\n",
       "        }}\n",
       "}});\n",
       "\n",
       "// Listen for the removal of the full notebook cells\n",
       "var notebookContainer = gd.closest('#notebook-container');\n",
       "if (notebookContainer) {{\n",
       "    x.observe(notebookContainer, {childList: true});\n",
       "}}\n",
       "\n",
       "// Listen for the clearing of the current output cell\n",
       "var outputEl = gd.closest('.output');\n",
       "if (outputEl) {{\n",
       "    x.observe(outputEl, {childList: true});\n",
       "}}\n",
       "\n",
       "                        })\n",
       "                };\n",
       "                });\n",
       "            </script>\n",
       "        </div>"
      ]
     },
     "metadata": {},
     "output_type": "display_data"
    },
    {
     "data": {
      "application/vnd.plotly.v1+json": {
       "config": {
        "plotlyServerURL": "https://plot.ly"
       },
       "data": [
        {
         "alignmentgroup": "True",
         "hoverlabel": {
          "namelength": 0
         },
         "hovertemplate": "week=%{x}<br>feature_value=%{y}",
         "legendgroup": "",
         "marker": {
          "color": "#1F77B4"
         },
         "name": "",
         "notched": false,
         "offsetgroup": "",
         "orientation": "v",
         "showlegend": false,
         "type": "box",
         "x": [
          47,
          47,
          47,
          47,
          47,
          47,
          47,
          47,
          47,
          47,
          47,
          47,
          47,
          47,
          47,
          47,
          47,
          47,
          47,
          47,
          47,
          47,
          47,
          47,
          47,
          47,
          47,
          47,
          47,
          47,
          47,
          47,
          47,
          47,
          47,
          47,
          47,
          47,
          47,
          47,
          47,
          47,
          47,
          47,
          47,
          47,
          47,
          47,
          47,
          47,
          47,
          47,
          47,
          47,
          47,
          47,
          47,
          47,
          47,
          47,
          47,
          47,
          47,
          47,
          47,
          47,
          47,
          47,
          47,
          47,
          47,
          47,
          47,
          47,
          47,
          47,
          47,
          47,
          47,
          47,
          47,
          47,
          47,
          47,
          47,
          47,
          47,
          47,
          47,
          47,
          47,
          47,
          47,
          47,
          47,
          47,
          47,
          47,
          47,
          47,
          47,
          47,
          47,
          47,
          47,
          47,
          47,
          48,
          48,
          48,
          48,
          48,
          48,
          48,
          48,
          48,
          48,
          48,
          48,
          48,
          48,
          48,
          48,
          48,
          48,
          48,
          48,
          48,
          48,
          48,
          48,
          48,
          48,
          48,
          48,
          48,
          48,
          48,
          48,
          48,
          48,
          48,
          48,
          48,
          48,
          48,
          48,
          48,
          48,
          48,
          48,
          48,
          48,
          48,
          48,
          48,
          48,
          48,
          48,
          48,
          48,
          48,
          48,
          48,
          48,
          48,
          48,
          48,
          48,
          48,
          48,
          48,
          48,
          48,
          48,
          48,
          48,
          48,
          48,
          48,
          48,
          48,
          48,
          48,
          48,
          48,
          48,
          48,
          48,
          48,
          48,
          48,
          48,
          48,
          48,
          48,
          48,
          48,
          48,
          48,
          48,
          48,
          48,
          48,
          48,
          48,
          48,
          48,
          48,
          48,
          48,
          48,
          48,
          48,
          48,
          48,
          48,
          48,
          48,
          48,
          48,
          48,
          48,
          48,
          48,
          48,
          48,
          48,
          48,
          48,
          48,
          48,
          48,
          48,
          48,
          48,
          48,
          48,
          48,
          48,
          48,
          48,
          48,
          48,
          48,
          48,
          48,
          48,
          48,
          48,
          48,
          48,
          48,
          48,
          48,
          48,
          48,
          48,
          48,
          48,
          48,
          48,
          48,
          48,
          48,
          48,
          48,
          48,
          48,
          48,
          48,
          48,
          48,
          49,
          49,
          49,
          49,
          49,
          49,
          49,
          49,
          49,
          49,
          49,
          49,
          49,
          49,
          49,
          49,
          49,
          49,
          49,
          49,
          49,
          49,
          49,
          49,
          49,
          49,
          49,
          49,
          50,
          50,
          50,
          50,
          50,
          50,
          50,
          50,
          50,
          50,
          50,
          50,
          50,
          50,
          50,
          50,
          50,
          50,
          50,
          50,
          50,
          50,
          50,
          50,
          50,
          50,
          50,
          50,
          50,
          50,
          50,
          50,
          50,
          50,
          50,
          50,
          50,
          50,
          50,
          50,
          50,
          50,
          50,
          50,
          50,
          50,
          50,
          50,
          50,
          50,
          50,
          50,
          50,
          50,
          50,
          50,
          50,
          50,
          50,
          50,
          50,
          50,
          50,
          50,
          50,
          50,
          50,
          50,
          50,
          50,
          50,
          50,
          51,
          51,
          51,
          51,
          51,
          51,
          51,
          51,
          51,
          51,
          51,
          51,
          51,
          51,
          51,
          51,
          51,
          51,
          51,
          51,
          51,
          51,
          51,
          51,
          51,
          51,
          51,
          51,
          51,
          51,
          51,
          51,
          51,
          51,
          51,
          51,
          51,
          51,
          51,
          51,
          51,
          51,
          51,
          51,
          51,
          51,
          51,
          51,
          51,
          51,
          51,
          51,
          51,
          51,
          51,
          51,
          51,
          51,
          51,
          51,
          51,
          51,
          51,
          51,
          51,
          51,
          51,
          51,
          51,
          51,
          51,
          51,
          51,
          51,
          51,
          51,
          51,
          51,
          51,
          51,
          51,
          51,
          51,
          51,
          51,
          51,
          51,
          51,
          51,
          51,
          51,
          51,
          51,
          51,
          51,
          51,
          51,
          51,
          51,
          51,
          51,
          51,
          51,
          51,
          51,
          51,
          51,
          51,
          51,
          51,
          51,
          51,
          51,
          51,
          51,
          51,
          51,
          51,
          51,
          51,
          51,
          51,
          51,
          51,
          51,
          51,
          51,
          51,
          51,
          51,
          51,
          51,
          51,
          51,
          51,
          51,
          51,
          51,
          51,
          51,
          51,
          51,
          51,
          51,
          51,
          51,
          51,
          51,
          51,
          51,
          51,
          51,
          51,
          51,
          51,
          51,
          51,
          51,
          51,
          51,
          51,
          51,
          51,
          51,
          52,
          52,
          52,
          52,
          52,
          52,
          52,
          52,
          52,
          52,
          52,
          52,
          52,
          52,
          52,
          52,
          52,
          52,
          52,
          52,
          52,
          52,
          52,
          52,
          52,
          52,
          52,
          52,
          52,
          52,
          52,
          52,
          52,
          52,
          52,
          52,
          52,
          52,
          52,
          52,
          52,
          52,
          52,
          52,
          52,
          52,
          52,
          52,
          52,
          52,
          52,
          52,
          52,
          52,
          52,
          52,
          52,
          52,
          52,
          52,
          52,
          52,
          52,
          52,
          52,
          52,
          52,
          52,
          52,
          52,
          52,
          52,
          52,
          52,
          52,
          52,
          52,
          52,
          52,
          52,
          52,
          52,
          52,
          52,
          52,
          52,
          52,
          52,
          52,
          52,
          52,
          52,
          52,
          52,
          52,
          52,
          52,
          52,
          52,
          52,
          52,
          52,
          52,
          52,
          52,
          52,
          52,
          52,
          52,
          52,
          52,
          52,
          52,
          52,
          52,
          52,
          52,
          52,
          52,
          52,
          52,
          52,
          52,
          52,
          52,
          52,
          52,
          52,
          52,
          52,
          52,
          52,
          52,
          52,
          52,
          52,
          52,
          52,
          52,
          52,
          52,
          52,
          52,
          52,
          52,
          52,
          52,
          52,
          52,
          52,
          52,
          52,
          52,
          52,
          52,
          52,
          52,
          52,
          52,
          52,
          52,
          52,
          52,
          52,
          52,
          52,
          52,
          52,
          1,
          1,
          1,
          1,
          1,
          1,
          1,
          1,
          1,
          1,
          1,
          1,
          1,
          1,
          1,
          1,
          1,
          1,
          1,
          1,
          1,
          1,
          1,
          1,
          1,
          1,
          1,
          1,
          1,
          1,
          1,
          1,
          1,
          1,
          1,
          1,
          1,
          1,
          1,
          1,
          1,
          1,
          1,
          1,
          1,
          1,
          1,
          1,
          1,
          1,
          1,
          1,
          1,
          1,
          1,
          1,
          1,
          1,
          1,
          1,
          1,
          1,
          1,
          1,
          1,
          1,
          1,
          1,
          1,
          1,
          1,
          1,
          1,
          1,
          1,
          1,
          1,
          1,
          1,
          1,
          1,
          1,
          1,
          1,
          1,
          1,
          1,
          1,
          1,
          1,
          1,
          1,
          1,
          1,
          1,
          1,
          1,
          1,
          1,
          1,
          1,
          1,
          1,
          1,
          1,
          1,
          1,
          1,
          1,
          1,
          1,
          1,
          1,
          1,
          1,
          1,
          1,
          1,
          1,
          1,
          1,
          1,
          1,
          1,
          1,
          1,
          1,
          1,
          1,
          1,
          1,
          1,
          1,
          1,
          1,
          1,
          1,
          1,
          1,
          1,
          1,
          1,
          1,
          1,
          1,
          1,
          1,
          1,
          1,
          1,
          1,
          1,
          1,
          1,
          1,
          1,
          1,
          1,
          2,
          2,
          2,
          2,
          2,
          2,
          2,
          2
         ],
         "x0": " ",
         "xaxis": "x",
         "y": [
          56.76128118306392,
          55.748765678922396,
          57.38864723239723,
          56.37718762718763,
          56.33775946275946,
          56.36701261701263,
          56.8503256003256,
          56.75493487993489,
          56.166056166056165,
          56.68498168498169,
          56.522644022644045,
          57.18737281237282,
          57.18482905982907,
          56.794998982498974,
          57.57338726088727,
          56.95143976393977,
          57.14285714285717,
          57.163207163207176,
          56.832519332519325,
          56.57432844932845,
          56.55842999593,
          57.351656830823494,
          57.02976614434948,
          56.888481888481884,
          56.31868131868132,
          56.882758445258446,
          56.16542022792024,
          56.349206349206355,
          56.69706450956449,
          56.76256613756613,
          56.78863960113961,
          56.73204110704112,
          56.55652218152218,
          56.47130647130646,
          56.63156288156288,
          57.177833740333746,
          56.205484330484325,
          56.91709910459911,
          56.562245624745636,
          56.474486161986164,
          56.38291107041107,
          56.20548433048433,
          56.52599715099716,
          56.08465608465608,
          56.661451973951976,
          56.896113146113144,
          56.39181420431421,
          56.58577533577534,
          56.70660358160359,
          56.63665038665038,
          56.70914733414734,
          56.35683760683761,
          56.47448616198617,
          56.00516381766382,
          56.25,
          56.44141737891738,
          56.646825396825385,
          56.51900183150181,
          56.37019230769229,
          56.51836589336589,
          56.298967236467234,
          56.330764143264155,
          56.29133597883598,
          56.90628815628816,
          56.401353276353284,
          56.13743894993894,
          56.67162698412698,
          56.88530219780221,
          56.25127187627189,
          56.50819088319088,
          56.57496438746441,
          57.141585266585274,
          56.8954772079772,
          56.75747863247863,
          55.88433557183557,
          56.454136141636134,
          56.742216117216124,
          56.268442205942215,
          56.365740740740755,
          56.136803011803,
          56.80072242572243,
          56.88403032153034,
          56.46049552299553,
          56.339031339031344,
          56.27416564916566,
          56.551434676434674,
          56.85795685795685,
          56.76129426129427,
          56.94444444444445,
          56.32313288563288,
          56.47575803825804,
          56.667811355311336,
          56.42869861619861,
          56.45667989417988,
          56.8350630850631,
          57.051917989418,
          56.90819597069599,
          56.67226292226292,
          57.05255392755394,
          56.749847374847356,
          56.26907814407815,
          56.62329568579569,
          56.61630036630038,
          56.886574074074076,
          56.2213827838828,
          57.23761192511193,
          56.8967490842491,
          56.57051282051282,
          56.587683150183146,
          56.93172568172571,
          56.94444444444446,
          57.56066849816849,
          56.85604904354906,
          57.45446682946682,
          57.312016687016694,
          57.03792735042737,
          56.73522079772081,
          57.10215710215709,
          57.2585978835979,
          57.03411172161174,
          57.587377899877914,
          56.88085063085063,
          57.831578144078144,
          57.93841575091576,
          57.87227818477819,
          58.18325193325194,
          57.46273402523403,
          56.99150386650387,
          57.47227309727308,
          57.50534188034189,
          57.42266992266993,
          57.800417175417174,
          58.12792531542531,
          57.3775183150183,
          57.5772028897029,
          58.109483109483115,
          57.4506512006512,
          57.615359177859176,
          57.53077940577942,
          56.988324175824175,
          57.17147435897436,
          57.24651505901505,
          57.53586691086692,
          57.27068070818071,
          57.37879019129019,
          57.08435083435083,
          57.73046398046398,
          57.80677655677656,
          57.71647334147335,
          57.40295584045583,
          57.4786324786325,
          57.345721408221415,
          57.546041921041905,
          57.52124033374033,
          57.31265262515262,
          57.327915140415165,
          57.92506105006106,
          57.83539377289376,
          57.77943121693121,
          57.900895400895415,
          57.16193528693528,
          57.79342185592187,
          57.59564509564509,
          57.57465913715913,
          56.94444444444445,
          57.48117623117624,
          57.385785510785524,
          57.4105870980871,
          57.671957671957664,
          57.529507529507526,
          57.36734330484328,
          57.477996540496555,
          57.685312372812355,
          56.898656898656895,
          56.27798127798129,
          57.54349816849816,
          57.24460724460724,
          57.62044668294669,
          57.66941391941393,
          57.71329365079365,
          58.085317460317476,
          57.54858567358567,
          57.70884208384208,
          57.25287444037445,
          57.079263329263334,
          57.62553418803417,
          57.4856277981278,
          56.817256817256826,
          57.59437321937322,
          57.70693426943428,
          57.23188848188846,
          57.32537138787139,
          57.46273402523405,
          57.24651505901508,
          57.30184167684168,
          57.139677452177466,
          57.163207163207176,
          56.90438034188035,
          56.78736772486772,
          57.16129934879936,
          57.8760938135938,
          57.1320461945462,
          57.43538868538869,
          56.94762413512413,
          57.69993894993897,
          57.22171347171348,
          56.917735042735046,
          57.050646113146115,
          57.1072446072446,
          57.279583842083845,
          56.78418803418805,
          57.263685388685396,
          57.34890109890109,
          56.9088319088319,
          57.54031847781848,
          57.60391229141231,
          57.55558099308099,
          57.217897842897834,
          57.22743691493691,
          57.409315221815234,
          57.050010175010186,
          57.31010887260887,
          57.4970746845747,
          57.683404558404554,
          57.25986975986976,
          57.38832926332925,
          56.927274114774114,
          57.00994607244609,
          57.04301485551486,
          57.36797924297925,
          57.373066748066755,
          57.51678876678878,
          57.3787901912902,
          57.343177655677685,
          57.84556878306878,
          57.411858974358985,
          57.542226292226296,
          57.41631054131057,
          58.10821123321124,
          57.334910459910475,
          57.228708791208796,
          57.28912291412292,
          57.46654965404966,
          57.34317765567764,
          57.074811762311775,
          57.303749491249505,
          57.30120573870573,
          57.388329263329275,
          57.23570411070413,
          57.2542735042735,
          57.21281033781034,
          57.748270248270245,
          57.47481684981684,
          57.4690934065934,
          57.42775742775743,
          57.35335266585269,
          57.75272181522183,
          57.52314814814815,
          57.7272842897843,
          57.96894078144076,
          57.98865486365488,
          58.052248677248684,
          57.61981074481074,
          57.50152625152625,
          57.98865486365485,
          58.017272079772084,
          57.49135124135126,
          57.37179487179487,
          57.27640415140416,
          57.304385429385434,
          57.10724460724462,
          57.121235246235244,
          57.06400081400082,
          57.60391229141229,
          57.45446682946687,
          57.35144485144485,
          57.7291921041921,
          57.635709198209206,
          57.17338217338218,
          57.821403133903154,
          57.32600732600733,
          57.07290394790396,
          57.47757258173926,
          57.0455586080586,
          56.93108974358975,
          57.29866198616198,
          57.17719780219782,
          57.56766381766383,
          56.83951465201465,
          57.56957163207164,
          56.863680301180295,
          57.40677146927146,
          57.28212759462763,
          57.210902523402524,
          56.99404761904761,
          57.43475274725276,
          56.98450854700854,
          57.493894993895005,
          56.599765974765965,
          57.59691697191698,
          57.36352767602767,
          57.577838827838846,
          57.29675417175417,
          56.79309116809117,
          56.992775742775734,
          57.4271214896215,
          57.05255392755392,
          56.83124745624747,
          57.26940883190883,
          56.70215201465201,
          57.49707468457468,
          58.07323463573464,
          57.3037494912495,
          56.914555352055345,
          56.878306878306894,
          57.41949023199023,
          57.61981074481073,
          57.201363451363456,
          57.46336996336996,
          57.11233211233213,
          57.06272893772894,
          56.71995828245827,
          57.00994607244606,
          57.58229039479039,
          57.497710622710635,
          57.283399470899475,
          57.12632275132276,
          57.164479039479055,
          57.081171143671156,
          57.40104802604804,
          57.153032153032164,
          57.152396214896214,
          57.18928062678063,
          56.807081807081794,
          56.578780016280014,
          57.104700854700866,
          56.93744912494913,
          57.00167887667888,
          57.15875559625559,
          57.57465913715914,
          57.44238400488401,
          57.13776963776963,
          56.535536223036225,
          56.98578042328041,
          56.77782865282864,
          57.03093203093206,
          56.58959096459096,
          57.37942612942614,
          57.215354090354104,
          57.0137617012617,
          56.77274114774116,
          57.17274623524625,
          56.40453296703297,
          56.96479446479449,
          57.04746642246642,
          57.47290903540903,
          56.48656898656899,
          57.41694647944647,
          56.80072242572243,
          57.11487586487586,
          56.89865689865689,
          56.48529711029712,
          57.27131664631665,
          56.6633597883598,
          56.80326617826618,
          57.12823056573058,
          56.96352258852257,
          56.884030321530325,
          56.79245522995524,
          57.17274623524623,
          56.769561457061464,
          57.3489010989011,
          57.458918396418404,
          57.335546398046404,
          56.958435083435084,
          57.03538359788359,
          57.16129934879935,
          57.6541514041514,
          57.107880545380546,
          57.186736874236885,
          56.82361619861621,
          57.43220899470899,
          56.516458078958074,
          57.02775234025234,
          57.02966015466017,
          57.208994708994716,
          57.10279304029305,
          57.48181216931217,
          57.37052299552298,
          57.086894586894594,
          57.045558608058606,
          57.82140313390314,
          56.99786324786324,
          56.961614774114786,
          56.11899674399674,
          56.34984228734231,
          56.30469067969069,
          56.499923687423696,
          56.4401455026455,
          56.27988909238909,
          56.41407203907204,
          56.03632478632479,
          55.78703703703706,
          56.36637667887669,
          56.15333740333741,
          56.582595645095644,
          56.42297517297519,
          55.95110907610907,
          55.869073056573065,
          56.030601343101324,
          56.0967389092389,
          56.266534391534385,
          56.14379833129832,
          56.20548433048435,
          56.55779405779407,
          56.03568884818885,
          55.81819800569801,
          56.566697191697195,
          56.58068783068782,
          56.2722578347578,
          56.79245522995524,
          56.87894281644282,
          56.3682844932845,
          56.31105006105006,
          56.77274114774115,
          56.469398656898655,
          56.65890822140823,
          56.007707570207565,
          56.70469576719578,
          57.10660866910869,
          56.29387973137974,
          56.16859991859991,
          56.54316748066747,
          56.23537342287343,
          56.164784289784286,
          56.21883903133902,
          56.033781033781025,
          57.090074277574274,
          55.872252747252766,
          56.5018315018315,
          56.26526251526253,
          56.747939560439555,
          57.04555860805859,
          55.84363553113553,
          56.86431623931625,
          56.442689255189265,
          56.63919413919416,
          56.473850223850235,
          56.477665852665865,
          56.46494708994709,
          56.83569902319903,
          57.05255392755394,
          56.70533170533172,
          56.87449124949126,
          56.93490537240539,
          56.92282254782257,
          56.35238603988606,
          56.05095136345136,
          56.75620675620675,
          56.50755494505494,
          56.88848188848186,
          57.174018111518116,
          57.206450956450965,
          56.88085063085064,
          56.76828958078956,
          56.06303418803419,
          56.87830687830689,
          56.442053317053336,
          56.907560032560035,
          56.75429894179896,
          56.43378612128612,
          56.6449175824176,
          56.40071733821733,
          56.847781847781846,
          56.35747354497354,
          56.5050111925112,
          57.311380748880744,
          56.98514448514448,
          56.06812169312169,
          56.55079873829873,
          56.71550671550671,
          56.93999287749288,
          57.1218711843712,
          57.06590862840863,
          57.13013838013836,
          57.034747659747666,
          57.29548229548228,
          57.34063390313391,
          57.76989214489214,
          56.95525539275541,
          57.12759462759464,
          57.365435490435495,
          57.284035409035404,
          57.256054131054135,
          57.20835877085879,
          57.10152116402117,
          57.70566239316239,
          57.07417582417582,
          56.87385531135531,
          57.07926332926336,
          57.12632275132277,
          57.226165038665044,
          56.84905372405373,
          57.815043752543744,
          57.54159035409035,
          57.19627594627594,
          56.965430402930416,
          57.04619454619453,
          57.06209299959301,
          56.943172568172564,
          56.532992470492474,
          57.016941391941394,
          57.06654456654459,
          57.210266585266574,
          57.27258852258853,
          56.94253663003662,
          57.039835164835175,
          57.16129934879937,
          57.069088319088316,
          57.09706959706958,
          57.154939967439965,
          57.284035409035425,
          56.946988196988194,
          56.91773504273507,
          56.69452075702074,
          57.2420634920635,
          56.77337708587709,
          56.96415852665853,
          57.008038258038255,
          56.79372710622712,
          57.26750101750104,
          56.773377085877094,
          57.4188542938543,
          57.522512210012216,
          57.37306674806675,
          56.86113654863655,
          57.47036528286528,
          56.85986467236467,
          57.02393671143671,
          56.7237739112739,
          57.46782153032154,
          57.16447903947903,
          57.25160256410257,
          57.32155575905577,
          57.26432132682131,
          57.17465404965406,
          57.171474358974365,
          57.05700549450551,
          57.283399470899475,
          57.36352767602768,
          57.63952482702484,
          56.73840048840049,
          56.926002238502214,
          57.05509768009768,
          57.273860398860414,
          57.285307285307304,
          57.3609839234839,
          57.10851648351647,
          57.15048840048842,
          57.247786935286946,
          56.76828958078958,
          56.5266330891331,
          57.086258648758665,
          56.68625356125356,
          56.66145197395198,
          57.22234940984939,
          56.691977004477,
          57.31837606837609,
          56.849053724053725,
          56.7651098901099,
          56.96733821733822,
          56.76129426129426,
          56.78482397232397,
          57.08244301994302,
          57.37942612942613,
          56.831247456247446,
          57.212174399674375,
          57.39723239723239,
          57.120599308099294,
          57.31774013024012,
          57.175925925925924,
          56.759386446886445,
          56.712327024827026,
          57.048102360602364,
          56.74221611721612,
          57.0137617012617,
          57.036655474155474,
          57.023936711436704,
          56.98450854700854,
          56.6837098087098,
          56.60294566544567,
          57.08053520553519,
          57.06972425722426,
          56.75875050875052,
          56.85350529100529,
          56.87767094017094,
          56.7485754985755,
          56.843850593850604,
          56.839514652014635,
          57.369887057387075,
          57.7940577940578,
          56.74539580789582,
          57.08435083435083,
          57.196275946275954,
          56.65954415954416,
          57.62235449735451,
          56.689433251933245,
          56.61184879934879,
          57.43984025234025,
          56.92155067155068,
          57.069724257224244,
          57.098977411477414,
          56.75811457061457,
          56.5450752950753,
          56.87703500203502,
          56.61184879934879,
          56.5800518925519,
          56.89229751729753,
          56.8617724867725,
          56.878306878306894,
          57.388965201465204,
          56.68053011803014,
          57.32028388278388,
          56.89992877492878,
          56.89102564102564,
          56.80517399267401,
          57.08371489621489,
          57.02202889702888,
          57.07099613349613,
          57.18355718355719,
          56.85477716727717,
          56.92918192918193,
          57.29103072853073,
          57.17338217338217,
          57.023936711436725,
          57.31583231583233,
          56.30405474155476,
          56.847781847781825,
          56.87194749694751,
          57.24142755392756,
          56.95716320716323,
          57.39596052096055,
          57.42330586080586,
          57.36925111925114,
          56.87067562067563,
          57.45001526251528,
          57.22998066748067,
          57.16829466829466,
          57.08753052503053,
          57.427757427757435,
          57.435388685388695,
          57.22298534798534,
          56.788639601139614,
          56.81662087912087,
          56.722502035002044,
          57.011217948717956,
          57.10788054538056,
          57.35653235653235,
          57.1384055759056,
          56.97624135124138,
          57.36670736670737,
          57.48371998371999,
          57.59818884818887,
          57.066544566544565,
          56.63919413919413,
          57.15621184371184,
          57.30629324379325,
          57.0302960927961,
          56.99023199023199,
          57.22425722425722,
          56.71677859177861,
          57.31456043956044,
          57.34317765567767,
          57.02966015466016,
          57.30311355311357,
          56.808353683353694,
          57.23761192511193,
          56.882122507122496,
          57.072903947903946,
          57.081171143671156,
          57.45255901505902,
          57.7241045991046,
          57.447471509971486,
          57.14540089540091,
          57.0385632885633,
          57.881181318681335,
          57.311380748880744,
          58.0090048840049,
          57.694215506715516,
          56.979421041921064,
          58.05352055352054,
          57.46336996336998,
          57.50152625152626,
          57.1320461945462,
          57.434116809116794,
          57.354624542124554,
          57.16320716320715,
          57.22298534798534,
          57.92887667887667,
          57.3539886039886,
          57.575931013431024,
          57.284035409035425,
          57.139041514041544,
          57.49834656084656,
          57.36034798534797,
          57.39087301587302,
          57.19309625559626,
          57.311380748880765,
          57.385785510785524,
          57.11296805046805,
          57.247150997151,
          57.292938542938565,
          57.553673178673186,
          57.54286223036223,
          57.29929792429794,
          57.50279812779812,
          57.29802604802605,
          57.07226800976804,
          57.500890313390336,
          58.014092389092404,
          57.15621184371187,
          57.86337505087507,
          58.021087708587714,
          57.85510785510785,
          58.119658119658105,
          57.3469932844933,
          57.90534696784696,
          57.148580586080584,
          57.561940374440375,
          57.53332315832315,
          58.19469881969882,
          57.8055046805047,
          57.6522435897436,
          57.939687627187624,
          57.80168905168907,
          57.62426231176232,
          57.52314814814816,
          57.54286223036223,
          57.97530016280015,
          57.67640923890923,
          57.17592592592595,
          57.74699837199838,
          57.79787342287343,
          57.50597781847782,
          57.67386548636551,
          57.334910459910475,
          57.240155677655686,
          57.36925111925111,
          57.439840252340254,
          56.85350529100529,
          57.36479955229956,
          57.04365079365081,
          57.47736060236059,
          57.385785510785496,
          57.04301485551485,
          57.43856837606837,
          57.7622608872609,
          56.58323158323159,
          57.588649776149786,
          57.26495726495727,
          57.41821835571835,
          58.08849715099714,
          57.32855107855108,
          57.41949023199024,
          57.67513736263738,
          57.29675417175417,
          57.14094932844933,
          57.353988603988604,
          57.75908119658121,
          57.39278083028085,
          57.13141025641027,
          56.977513227513235,
          57.041742979243,
          57.713293650793645,
          57.58674196174198,
          57.764168701668716,
          57.70629833129834,
          57.9104344729345,
          57.97212047212048,
          57.8754578754579,
          57.4506512006512,
          57.65287952787953,
          57.60963573463574,
          57.5256919006919,
          57.77434371184372,
          57.70375457875456,
          58.01409238909238,
          57.41185897435898,
          57.57720288970288,
          57.46146214896216,
          57.733007733007724,
          57.82712657712656,
          58.02999084249084,
          57.633801383801405,
          58.54891636141637,
          57.91043447293447,
          57.35526048026048,
          58.01409238909241,
          57.53713878713881,
          58.11329873829874,
          58.105667480667485,
          57.94668294668296,
          57.603276353276364,
          57.88436100936104,
          58.01790801790801,
          58.16544566544568,
          58.152726902726926,
          58.32951770451771,
          58.332697395197364,
          58.06496743996744,
          58.055428367928364,
          58.180072242572244,
          58.04525335775338,
          58.17625661375663,
          58.0859533984534,
          58.58707264957266,
          58.58389295889295,
          58.53937728937729,
          58.44971001221003,
          58.566086691086674,
          58.08786121286122,
          58.355591168091166,
          58.18961131461131,
          58.01472832722833,
          57.96639702889703,
          58.51902726902727,
          58.153998778998755,
          58.29008954008955,
          58.31997863247864,
          58.24430199430202,
          58.28754578754579,
          58.020451770451764,
          58.195334757834765,
          57.907254782254775,
          58.088497150997135,
          57.95177045177045,
          58.37466931216931,
          57.922517297517295,
          58.181980056980045,
          58.38039275539277,
          58.15654253154255,
          58.50758038258039,
          58.127289377289365,
          58.410917785917796,
          58.247481684981686,
          58.53047415547416,
          58.22840354090355,
          58.55527574277574,
          57.92442511192511,
          58.59279609279611,
          58.02172364672367,
          57.78324684574684,
          58.00709706959707,
          58.38230056980058,
          58.54573667073666,
          58.50503663003662,
          58.48468660968661,
          58.57308201058199,
          58.12220187220188,
          58.2926332926333,
          58.30090048840051,
          57.83666564916567,
          58.510760073260066,
          58.45924908424909,
          58.22013634513636,
          58.53047415547417,
          58.355591168091166,
          58.08022995522996,
          58.531746031746046,
          58.358770858770846,
          58.2322191697192
         ],
         "y0": " ",
         "yaxis": "y"
        }
       ],
       "layout": {
        "boxmode": "group",
        "legend": {
         "tracegroupgap": 0
        },
        "template": {
         "data": {
          "bar": [
           {
            "error_x": {
             "color": "rgb(36,36,36)"
            },
            "error_y": {
             "color": "rgb(36,36,36)"
            },
            "marker": {
             "line": {
              "color": "white",
              "width": 0.5
             }
            },
            "type": "bar"
           }
          ],
          "barpolar": [
           {
            "marker": {
             "line": {
              "color": "white",
              "width": 0.5
             }
            },
            "type": "barpolar"
           }
          ],
          "carpet": [
           {
            "aaxis": {
             "endlinecolor": "rgb(36,36,36)",
             "gridcolor": "white",
             "linecolor": "white",
             "minorgridcolor": "white",
             "startlinecolor": "rgb(36,36,36)"
            },
            "baxis": {
             "endlinecolor": "rgb(36,36,36)",
             "gridcolor": "white",
             "linecolor": "white",
             "minorgridcolor": "white",
             "startlinecolor": "rgb(36,36,36)"
            },
            "type": "carpet"
           }
          ],
          "choropleth": [
           {
            "colorbar": {
             "outlinewidth": 1,
             "tickcolor": "rgb(36,36,36)",
             "ticks": "outside"
            },
            "type": "choropleth"
           }
          ],
          "contour": [
           {
            "colorbar": {
             "outlinewidth": 1,
             "tickcolor": "rgb(36,36,36)",
             "ticks": "outside"
            },
            "colorscale": [
             [
              0,
              "#440154"
             ],
             [
              0.1111111111111111,
              "#482878"
             ],
             [
              0.2222222222222222,
              "#3e4989"
             ],
             [
              0.3333333333333333,
              "#31688e"
             ],
             [
              0.4444444444444444,
              "#26828e"
             ],
             [
              0.5555555555555556,
              "#1f9e89"
             ],
             [
              0.6666666666666666,
              "#35b779"
             ],
             [
              0.7777777777777778,
              "#6ece58"
             ],
             [
              0.8888888888888888,
              "#b5de2b"
             ],
             [
              1,
              "#fde725"
             ]
            ],
            "type": "contour"
           }
          ],
          "contourcarpet": [
           {
            "colorbar": {
             "outlinewidth": 1,
             "tickcolor": "rgb(36,36,36)",
             "ticks": "outside"
            },
            "type": "contourcarpet"
           }
          ],
          "heatmap": [
           {
            "colorbar": {
             "outlinewidth": 1,
             "tickcolor": "rgb(36,36,36)",
             "ticks": "outside"
            },
            "colorscale": [
             [
              0,
              "#440154"
             ],
             [
              0.1111111111111111,
              "#482878"
             ],
             [
              0.2222222222222222,
              "#3e4989"
             ],
             [
              0.3333333333333333,
              "#31688e"
             ],
             [
              0.4444444444444444,
              "#26828e"
             ],
             [
              0.5555555555555556,
              "#1f9e89"
             ],
             [
              0.6666666666666666,
              "#35b779"
             ],
             [
              0.7777777777777778,
              "#6ece58"
             ],
             [
              0.8888888888888888,
              "#b5de2b"
             ],
             [
              1,
              "#fde725"
             ]
            ],
            "type": "heatmap"
           }
          ],
          "heatmapgl": [
           {
            "colorbar": {
             "outlinewidth": 1,
             "tickcolor": "rgb(36,36,36)",
             "ticks": "outside"
            },
            "colorscale": [
             [
              0,
              "#440154"
             ],
             [
              0.1111111111111111,
              "#482878"
             ],
             [
              0.2222222222222222,
              "#3e4989"
             ],
             [
              0.3333333333333333,
              "#31688e"
             ],
             [
              0.4444444444444444,
              "#26828e"
             ],
             [
              0.5555555555555556,
              "#1f9e89"
             ],
             [
              0.6666666666666666,
              "#35b779"
             ],
             [
              0.7777777777777778,
              "#6ece58"
             ],
             [
              0.8888888888888888,
              "#b5de2b"
             ],
             [
              1,
              "#fde725"
             ]
            ],
            "type": "heatmapgl"
           }
          ],
          "histogram": [
           {
            "marker": {
             "line": {
              "color": "white",
              "width": 0.6
             }
            },
            "type": "histogram"
           }
          ],
          "histogram2d": [
           {
            "colorbar": {
             "outlinewidth": 1,
             "tickcolor": "rgb(36,36,36)",
             "ticks": "outside"
            },
            "colorscale": [
             [
              0,
              "#440154"
             ],
             [
              0.1111111111111111,
              "#482878"
             ],
             [
              0.2222222222222222,
              "#3e4989"
             ],
             [
              0.3333333333333333,
              "#31688e"
             ],
             [
              0.4444444444444444,
              "#26828e"
             ],
             [
              0.5555555555555556,
              "#1f9e89"
             ],
             [
              0.6666666666666666,
              "#35b779"
             ],
             [
              0.7777777777777778,
              "#6ece58"
             ],
             [
              0.8888888888888888,
              "#b5de2b"
             ],
             [
              1,
              "#fde725"
             ]
            ],
            "type": "histogram2d"
           }
          ],
          "histogram2dcontour": [
           {
            "colorbar": {
             "outlinewidth": 1,
             "tickcolor": "rgb(36,36,36)",
             "ticks": "outside"
            },
            "colorscale": [
             [
              0,
              "#440154"
             ],
             [
              0.1111111111111111,
              "#482878"
             ],
             [
              0.2222222222222222,
              "#3e4989"
             ],
             [
              0.3333333333333333,
              "#31688e"
             ],
             [
              0.4444444444444444,
              "#26828e"
             ],
             [
              0.5555555555555556,
              "#1f9e89"
             ],
             [
              0.6666666666666666,
              "#35b779"
             ],
             [
              0.7777777777777778,
              "#6ece58"
             ],
             [
              0.8888888888888888,
              "#b5de2b"
             ],
             [
              1,
              "#fde725"
             ]
            ],
            "type": "histogram2dcontour"
           }
          ],
          "mesh3d": [
           {
            "colorbar": {
             "outlinewidth": 1,
             "tickcolor": "rgb(36,36,36)",
             "ticks": "outside"
            },
            "type": "mesh3d"
           }
          ],
          "parcoords": [
           {
            "line": {
             "colorbar": {
              "outlinewidth": 1,
              "tickcolor": "rgb(36,36,36)",
              "ticks": "outside"
             }
            },
            "type": "parcoords"
           }
          ],
          "pie": [
           {
            "automargin": true,
            "type": "pie"
           }
          ],
          "scatter": [
           {
            "marker": {
             "colorbar": {
              "outlinewidth": 1,
              "tickcolor": "rgb(36,36,36)",
              "ticks": "outside"
             }
            },
            "type": "scatter"
           }
          ],
          "scatter3d": [
           {
            "line": {
             "colorbar": {
              "outlinewidth": 1,
              "tickcolor": "rgb(36,36,36)",
              "ticks": "outside"
             }
            },
            "marker": {
             "colorbar": {
              "outlinewidth": 1,
              "tickcolor": "rgb(36,36,36)",
              "ticks": "outside"
             }
            },
            "type": "scatter3d"
           }
          ],
          "scattercarpet": [
           {
            "marker": {
             "colorbar": {
              "outlinewidth": 1,
              "tickcolor": "rgb(36,36,36)",
              "ticks": "outside"
             }
            },
            "type": "scattercarpet"
           }
          ],
          "scattergeo": [
           {
            "marker": {
             "colorbar": {
              "outlinewidth": 1,
              "tickcolor": "rgb(36,36,36)",
              "ticks": "outside"
             }
            },
            "type": "scattergeo"
           }
          ],
          "scattergl": [
           {
            "marker": {
             "colorbar": {
              "outlinewidth": 1,
              "tickcolor": "rgb(36,36,36)",
              "ticks": "outside"
             }
            },
            "type": "scattergl"
           }
          ],
          "scattermapbox": [
           {
            "marker": {
             "colorbar": {
              "outlinewidth": 1,
              "tickcolor": "rgb(36,36,36)",
              "ticks": "outside"
             }
            },
            "type": "scattermapbox"
           }
          ],
          "scatterpolar": [
           {
            "marker": {
             "colorbar": {
              "outlinewidth": 1,
              "tickcolor": "rgb(36,36,36)",
              "ticks": "outside"
             }
            },
            "type": "scatterpolar"
           }
          ],
          "scatterpolargl": [
           {
            "marker": {
             "colorbar": {
              "outlinewidth": 1,
              "tickcolor": "rgb(36,36,36)",
              "ticks": "outside"
             }
            },
            "type": "scatterpolargl"
           }
          ],
          "scatterternary": [
           {
            "marker": {
             "colorbar": {
              "outlinewidth": 1,
              "tickcolor": "rgb(36,36,36)",
              "ticks": "outside"
             }
            },
            "type": "scatterternary"
           }
          ],
          "surface": [
           {
            "colorbar": {
             "outlinewidth": 1,
             "tickcolor": "rgb(36,36,36)",
             "ticks": "outside"
            },
            "colorscale": [
             [
              0,
              "#440154"
             ],
             [
              0.1111111111111111,
              "#482878"
             ],
             [
              0.2222222222222222,
              "#3e4989"
             ],
             [
              0.3333333333333333,
              "#31688e"
             ],
             [
              0.4444444444444444,
              "#26828e"
             ],
             [
              0.5555555555555556,
              "#1f9e89"
             ],
             [
              0.6666666666666666,
              "#35b779"
             ],
             [
              0.7777777777777778,
              "#6ece58"
             ],
             [
              0.8888888888888888,
              "#b5de2b"
             ],
             [
              1,
              "#fde725"
             ]
            ],
            "type": "surface"
           }
          ],
          "table": [
           {
            "cells": {
             "fill": {
              "color": "rgb(237,237,237)"
             },
             "line": {
              "color": "white"
             }
            },
            "header": {
             "fill": {
              "color": "rgb(217,217,217)"
             },
             "line": {
              "color": "white"
             }
            },
            "type": "table"
           }
          ]
         },
         "layout": {
          "annotationdefaults": {
           "arrowhead": 0,
           "arrowwidth": 1
          },
          "coloraxis": {
           "colorbar": {
            "outlinewidth": 1,
            "tickcolor": "rgb(36,36,36)",
            "ticks": "outside"
           }
          },
          "colorscale": {
           "diverging": [
            [
             0,
             "rgb(103,0,31)"
            ],
            [
             0.1,
             "rgb(178,24,43)"
            ],
            [
             0.2,
             "rgb(214,96,77)"
            ],
            [
             0.3,
             "rgb(244,165,130)"
            ],
            [
             0.4,
             "rgb(253,219,199)"
            ],
            [
             0.5,
             "rgb(247,247,247)"
            ],
            [
             0.6,
             "rgb(209,229,240)"
            ],
            [
             0.7,
             "rgb(146,197,222)"
            ],
            [
             0.8,
             "rgb(67,147,195)"
            ],
            [
             0.9,
             "rgb(33,102,172)"
            ],
            [
             1,
             "rgb(5,48,97)"
            ]
           ],
           "sequential": [
            [
             0,
             "#440154"
            ],
            [
             0.1111111111111111,
             "#482878"
            ],
            [
             0.2222222222222222,
             "#3e4989"
            ],
            [
             0.3333333333333333,
             "#31688e"
            ],
            [
             0.4444444444444444,
             "#26828e"
            ],
            [
             0.5555555555555556,
             "#1f9e89"
            ],
            [
             0.6666666666666666,
             "#35b779"
            ],
            [
             0.7777777777777778,
             "#6ece58"
            ],
            [
             0.8888888888888888,
             "#b5de2b"
            ],
            [
             1,
             "#fde725"
            ]
           ],
           "sequentialminus": [
            [
             0,
             "#440154"
            ],
            [
             0.1111111111111111,
             "#482878"
            ],
            [
             0.2222222222222222,
             "#3e4989"
            ],
            [
             0.3333333333333333,
             "#31688e"
            ],
            [
             0.4444444444444444,
             "#26828e"
            ],
            [
             0.5555555555555556,
             "#1f9e89"
            ],
            [
             0.6666666666666666,
             "#35b779"
            ],
            [
             0.7777777777777778,
             "#6ece58"
            ],
            [
             0.8888888888888888,
             "#b5de2b"
            ],
            [
             1,
             "#fde725"
            ]
           ]
          },
          "colorway": [
           "#1F77B4",
           "#FF7F0E",
           "#2CA02C",
           "#D62728",
           "#9467BD",
           "#8C564B",
           "#E377C2",
           "#7F7F7F",
           "#BCBD22",
           "#17BECF"
          ],
          "font": {
           "color": "rgb(36,36,36)"
          },
          "geo": {
           "bgcolor": "white",
           "lakecolor": "white",
           "landcolor": "white",
           "showlakes": true,
           "showland": true,
           "subunitcolor": "white"
          },
          "hoverlabel": {
           "align": "left"
          },
          "hovermode": "closest",
          "mapbox": {
           "style": "light"
          },
          "paper_bgcolor": "white",
          "plot_bgcolor": "white",
          "polar": {
           "angularaxis": {
            "gridcolor": "rgb(232,232,232)",
            "linecolor": "rgb(36,36,36)",
            "showgrid": false,
            "showline": true,
            "ticks": "outside"
           },
           "bgcolor": "white",
           "radialaxis": {
            "gridcolor": "rgb(232,232,232)",
            "linecolor": "rgb(36,36,36)",
            "showgrid": false,
            "showline": true,
            "ticks": "outside"
           }
          },
          "scene": {
           "xaxis": {
            "backgroundcolor": "white",
            "gridcolor": "rgb(232,232,232)",
            "gridwidth": 2,
            "linecolor": "rgb(36,36,36)",
            "showbackground": true,
            "showgrid": false,
            "showline": true,
            "ticks": "outside",
            "zeroline": false,
            "zerolinecolor": "rgb(36,36,36)"
           },
           "yaxis": {
            "backgroundcolor": "white",
            "gridcolor": "rgb(232,232,232)",
            "gridwidth": 2,
            "linecolor": "rgb(36,36,36)",
            "showbackground": true,
            "showgrid": false,
            "showline": true,
            "ticks": "outside",
            "zeroline": false,
            "zerolinecolor": "rgb(36,36,36)"
           },
           "zaxis": {
            "backgroundcolor": "white",
            "gridcolor": "rgb(232,232,232)",
            "gridwidth": 2,
            "linecolor": "rgb(36,36,36)",
            "showbackground": true,
            "showgrid": false,
            "showline": true,
            "ticks": "outside",
            "zeroline": false,
            "zerolinecolor": "rgb(36,36,36)"
           }
          },
          "shapedefaults": {
           "fillcolor": "black",
           "line": {
            "width": 0
           },
           "opacity": 0.3
          },
          "ternary": {
           "aaxis": {
            "gridcolor": "rgb(232,232,232)",
            "linecolor": "rgb(36,36,36)",
            "showgrid": false,
            "showline": true,
            "ticks": "outside"
           },
           "baxis": {
            "gridcolor": "rgb(232,232,232)",
            "linecolor": "rgb(36,36,36)",
            "showgrid": false,
            "showline": true,
            "ticks": "outside"
           },
           "bgcolor": "white",
           "caxis": {
            "gridcolor": "rgb(232,232,232)",
            "linecolor": "rgb(36,36,36)",
            "showgrid": false,
            "showline": true,
            "ticks": "outside"
           }
          },
          "title": {
           "x": 0.05
          },
          "xaxis": {
           "automargin": true,
           "gridcolor": "rgb(232,232,232)",
           "linecolor": "rgb(36,36,36)",
           "showgrid": false,
           "showline": true,
           "ticks": "outside",
           "title": {
            "standoff": 15
           },
           "zeroline": false,
           "zerolinecolor": "rgb(36,36,36)"
          },
          "yaxis": {
           "automargin": true,
           "gridcolor": "rgb(232,232,232)",
           "linecolor": "rgb(36,36,36)",
           "showgrid": false,
           "showline": true,
           "ticks": "outside",
           "title": {
            "standoff": 15
           },
           "zeroline": false,
           "zerolinecolor": "rgb(36,36,36)"
          }
         }
        },
        "title": {
         "text": "OutletPressure g-pump-5 for all weeks "
        },
        "xaxis": {
         "anchor": "y",
         "domain": [
          0,
          1
         ],
         "title": {
          "text": "week"
         },
         "type": "category"
        },
        "yaxis": {
         "anchor": "x",
         "domain": [
          0,
          1
         ],
         "title": {
          "text": "feature_value"
         }
        }
       }
      },
      "text/html": [
       "<div>\n",
       "        \n",
       "        \n",
       "            <div id=\"becddd07-34c8-4066-ad41-cf511e77fdb4\" class=\"plotly-graph-div\" style=\"height:525px; width:100%;\"></div>\n",
       "            <script type=\"text/javascript\">\n",
       "                require([\"plotly\"], function(Plotly) {\n",
       "                    window.PLOTLYENV=window.PLOTLYENV || {};\n",
       "                    \n",
       "                if (document.getElementById(\"becddd07-34c8-4066-ad41-cf511e77fdb4\")) {\n",
       "                    Plotly.newPlot(\n",
       "                        'becddd07-34c8-4066-ad41-cf511e77fdb4',\n",
       "                        [{\"alignmentgroup\": \"True\", \"hoverlabel\": {\"namelength\": 0}, \"hovertemplate\": \"week=%{x}<br>feature_value=%{y}\", \"legendgroup\": \"\", \"marker\": {\"color\": \"#1F77B4\"}, \"name\": \"\", \"notched\": false, \"offsetgroup\": \"\", \"orientation\": \"v\", \"showlegend\": false, \"type\": \"box\", \"x\": [47, 47, 47, 47, 47, 47, 47, 47, 47, 47, 47, 47, 47, 47, 47, 47, 47, 47, 47, 47, 47, 47, 47, 47, 47, 47, 47, 47, 47, 47, 47, 47, 47, 47, 47, 47, 47, 47, 47, 47, 47, 47, 47, 47, 47, 47, 47, 47, 47, 47, 47, 47, 47, 47, 47, 47, 47, 47, 47, 47, 47, 47, 47, 47, 47, 47, 47, 47, 47, 47, 47, 47, 47, 47, 47, 47, 47, 47, 47, 47, 47, 47, 47, 47, 47, 47, 47, 47, 47, 47, 47, 47, 47, 47, 47, 47, 47, 47, 47, 47, 47, 47, 47, 47, 47, 47, 47, 48, 48, 48, 48, 48, 48, 48, 48, 48, 48, 48, 48, 48, 48, 48, 48, 48, 48, 48, 48, 48, 48, 48, 48, 48, 48, 48, 48, 48, 48, 48, 48, 48, 48, 48, 48, 48, 48, 48, 48, 48, 48, 48, 48, 48, 48, 48, 48, 48, 48, 48, 48, 48, 48, 48, 48, 48, 48, 48, 48, 48, 48, 48, 48, 48, 48, 48, 48, 48, 48, 48, 48, 48, 48, 48, 48, 48, 48, 48, 48, 48, 48, 48, 48, 48, 48, 48, 48, 48, 48, 48, 48, 48, 48, 48, 48, 48, 48, 48, 48, 48, 48, 48, 48, 48, 48, 48, 48, 48, 48, 48, 48, 48, 48, 48, 48, 48, 48, 48, 48, 48, 48, 48, 48, 48, 48, 48, 48, 48, 48, 48, 48, 48, 48, 48, 48, 48, 48, 48, 48, 48, 48, 48, 48, 48, 48, 48, 48, 48, 48, 48, 48, 48, 48, 48, 48, 48, 48, 48, 48, 48, 48, 48, 48, 48, 48, 49, 49, 49, 49, 49, 49, 49, 49, 49, 49, 49, 49, 49, 49, 49, 49, 49, 49, 49, 49, 49, 49, 49, 49, 49, 49, 49, 49, 50, 50, 50, 50, 50, 50, 50, 50, 50, 50, 50, 50, 50, 50, 50, 50, 50, 50, 50, 50, 50, 50, 50, 50, 50, 50, 50, 50, 50, 50, 50, 50, 50, 50, 50, 50, 50, 50, 50, 50, 50, 50, 50, 50, 50, 50, 50, 50, 50, 50, 50, 50, 50, 50, 50, 50, 50, 50, 50, 50, 50, 50, 50, 50, 50, 50, 50, 50, 50, 50, 50, 50, 51, 51, 51, 51, 51, 51, 51, 51, 51, 51, 51, 51, 51, 51, 51, 51, 51, 51, 51, 51, 51, 51, 51, 51, 51, 51, 51, 51, 51, 51, 51, 51, 51, 51, 51, 51, 51, 51, 51, 51, 51, 51, 51, 51, 51, 51, 51, 51, 51, 51, 51, 51, 51, 51, 51, 51, 51, 51, 51, 51, 51, 51, 51, 51, 51, 51, 51, 51, 51, 51, 51, 51, 51, 51, 51, 51, 51, 51, 51, 51, 51, 51, 51, 51, 51, 51, 51, 51, 51, 51, 51, 51, 51, 51, 51, 51, 51, 51, 51, 51, 51, 51, 51, 51, 51, 51, 51, 51, 51, 51, 51, 51, 51, 51, 51, 51, 51, 51, 51, 51, 51, 51, 51, 51, 51, 51, 51, 51, 51, 51, 51, 51, 51, 51, 51, 51, 51, 51, 51, 51, 51, 51, 51, 51, 51, 51, 51, 51, 51, 51, 51, 51, 51, 51, 51, 51, 51, 51, 51, 51, 51, 51, 51, 51, 52, 52, 52, 52, 52, 52, 52, 52, 52, 52, 52, 52, 52, 52, 52, 52, 52, 52, 52, 52, 52, 52, 52, 52, 52, 52, 52, 52, 52, 52, 52, 52, 52, 52, 52, 52, 52, 52, 52, 52, 52, 52, 52, 52, 52, 52, 52, 52, 52, 52, 52, 52, 52, 52, 52, 52, 52, 52, 52, 52, 52, 52, 52, 52, 52, 52, 52, 52, 52, 52, 52, 52, 52, 52, 52, 52, 52, 52, 52, 52, 52, 52, 52, 52, 52, 52, 52, 52, 52, 52, 52, 52, 52, 52, 52, 52, 52, 52, 52, 52, 52, 52, 52, 52, 52, 52, 52, 52, 52, 52, 52, 52, 52, 52, 52, 52, 52, 52, 52, 52, 52, 52, 52, 52, 52, 52, 52, 52, 52, 52, 52, 52, 52, 52, 52, 52, 52, 52, 52, 52, 52, 52, 52, 52, 52, 52, 52, 52, 52, 52, 52, 52, 52, 52, 52, 52, 52, 52, 52, 52, 52, 52, 52, 52, 52, 52, 52, 52, 1, 1, 1, 1, 1, 1, 1, 1, 1, 1, 1, 1, 1, 1, 1, 1, 1, 1, 1, 1, 1, 1, 1, 1, 1, 1, 1, 1, 1, 1, 1, 1, 1, 1, 1, 1, 1, 1, 1, 1, 1, 1, 1, 1, 1, 1, 1, 1, 1, 1, 1, 1, 1, 1, 1, 1, 1, 1, 1, 1, 1, 1, 1, 1, 1, 1, 1, 1, 1, 1, 1, 1, 1, 1, 1, 1, 1, 1, 1, 1, 1, 1, 1, 1, 1, 1, 1, 1, 1, 1, 1, 1, 1, 1, 1, 1, 1, 1, 1, 1, 1, 1, 1, 1, 1, 1, 1, 1, 1, 1, 1, 1, 1, 1, 1, 1, 1, 1, 1, 1, 1, 1, 1, 1, 1, 1, 1, 1, 1, 1, 1, 1, 1, 1, 1, 1, 1, 1, 1, 1, 1, 1, 1, 1, 1, 1, 1, 1, 1, 1, 1, 1, 1, 1, 1, 1, 1, 1, 2, 2, 2, 2, 2, 2, 2, 2], \"x0\": \" \", \"xaxis\": \"x\", \"y\": [56.76128118306392, 55.748765678922396, 57.38864723239723, 56.37718762718763, 56.33775946275946, 56.36701261701263, 56.8503256003256, 56.75493487993489, 56.166056166056165, 56.68498168498169, 56.522644022644045, 57.18737281237282, 57.18482905982907, 56.794998982498974, 57.57338726088727, 56.95143976393977, 57.14285714285717, 57.163207163207176, 56.832519332519325, 56.57432844932845, 56.55842999593, 57.351656830823494, 57.02976614434948, 56.888481888481884, 56.31868131868132, 56.882758445258446, 56.16542022792024, 56.349206349206355, 56.69706450956449, 56.76256613756613, 56.78863960113961, 56.73204110704112, 56.55652218152218, 56.47130647130646, 56.63156288156288, 57.177833740333746, 56.205484330484325, 56.91709910459911, 56.562245624745636, 56.474486161986164, 56.38291107041107, 56.20548433048433, 56.52599715099716, 56.08465608465608, 56.661451973951976, 56.896113146113144, 56.39181420431421, 56.58577533577534, 56.70660358160359, 56.63665038665038, 56.70914733414734, 56.35683760683761, 56.47448616198617, 56.00516381766382, 56.25, 56.44141737891738, 56.646825396825385, 56.51900183150181, 56.37019230769229, 56.51836589336589, 56.298967236467234, 56.330764143264155, 56.29133597883598, 56.90628815628816, 56.401353276353284, 56.13743894993894, 56.67162698412698, 56.88530219780221, 56.25127187627189, 56.50819088319088, 56.57496438746441, 57.141585266585274, 56.8954772079772, 56.75747863247863, 55.88433557183557, 56.454136141636134, 56.742216117216124, 56.268442205942215, 56.365740740740755, 56.136803011803, 56.80072242572243, 56.88403032153034, 56.46049552299553, 56.339031339031344, 56.27416564916566, 56.551434676434674, 56.85795685795685, 56.76129426129427, 56.94444444444445, 56.32313288563288, 56.47575803825804, 56.667811355311336, 56.42869861619861, 56.45667989417988, 56.8350630850631, 57.051917989418, 56.90819597069599, 56.67226292226292, 57.05255392755394, 56.749847374847356, 56.26907814407815, 56.62329568579569, 56.61630036630038, 56.886574074074076, 56.2213827838828, 57.23761192511193, 56.8967490842491, 56.57051282051282, 56.587683150183146, 56.93172568172571, 56.94444444444446, 57.56066849816849, 56.85604904354906, 57.45446682946682, 57.312016687016694, 57.03792735042737, 56.73522079772081, 57.10215710215709, 57.2585978835979, 57.03411172161174, 57.587377899877914, 56.88085063085063, 57.831578144078144, 57.93841575091576, 57.87227818477819, 58.18325193325194, 57.46273402523403, 56.99150386650387, 57.47227309727308, 57.50534188034189, 57.42266992266993, 57.800417175417174, 58.12792531542531, 57.3775183150183, 57.5772028897029, 58.109483109483115, 57.4506512006512, 57.615359177859176, 57.53077940577942, 56.988324175824175, 57.17147435897436, 57.24651505901505, 57.53586691086692, 57.27068070818071, 57.37879019129019, 57.08435083435083, 57.73046398046398, 57.80677655677656, 57.71647334147335, 57.40295584045583, 57.4786324786325, 57.345721408221415, 57.546041921041905, 57.52124033374033, 57.31265262515262, 57.327915140415165, 57.92506105006106, 57.83539377289376, 57.77943121693121, 57.900895400895415, 57.16193528693528, 57.79342185592187, 57.59564509564509, 57.57465913715913, 56.94444444444445, 57.48117623117624, 57.385785510785524, 57.4105870980871, 57.671957671957664, 57.529507529507526, 57.36734330484328, 57.477996540496555, 57.685312372812355, 56.898656898656895, 56.27798127798129, 57.54349816849816, 57.24460724460724, 57.62044668294669, 57.66941391941393, 57.71329365079365, 58.085317460317476, 57.54858567358567, 57.70884208384208, 57.25287444037445, 57.079263329263334, 57.62553418803417, 57.4856277981278, 56.817256817256826, 57.59437321937322, 57.70693426943428, 57.23188848188846, 57.32537138787139, 57.46273402523405, 57.24651505901508, 57.30184167684168, 57.139677452177466, 57.163207163207176, 56.90438034188035, 56.78736772486772, 57.16129934879936, 57.8760938135938, 57.1320461945462, 57.43538868538869, 56.94762413512413, 57.69993894993897, 57.22171347171348, 56.917735042735046, 57.050646113146115, 57.1072446072446, 57.279583842083845, 56.78418803418805, 57.263685388685396, 57.34890109890109, 56.9088319088319, 57.54031847781848, 57.60391229141231, 57.55558099308099, 57.217897842897834, 57.22743691493691, 57.409315221815234, 57.050010175010186, 57.31010887260887, 57.4970746845747, 57.683404558404554, 57.25986975986976, 57.38832926332925, 56.927274114774114, 57.00994607244609, 57.04301485551486, 57.36797924297925, 57.373066748066755, 57.51678876678878, 57.3787901912902, 57.343177655677685, 57.84556878306878, 57.411858974358985, 57.542226292226296, 57.41631054131057, 58.10821123321124, 57.334910459910475, 57.228708791208796, 57.28912291412292, 57.46654965404966, 57.34317765567764, 57.074811762311775, 57.303749491249505, 57.30120573870573, 57.388329263329275, 57.23570411070413, 57.2542735042735, 57.21281033781034, 57.748270248270245, 57.47481684981684, 57.4690934065934, 57.42775742775743, 57.35335266585269, 57.75272181522183, 57.52314814814815, 57.7272842897843, 57.96894078144076, 57.98865486365488, 58.052248677248684, 57.61981074481074, 57.50152625152625, 57.98865486365485, 58.017272079772084, 57.49135124135126, 57.37179487179487, 57.27640415140416, 57.304385429385434, 57.10724460724462, 57.121235246235244, 57.06400081400082, 57.60391229141229, 57.45446682946687, 57.35144485144485, 57.7291921041921, 57.635709198209206, 57.17338217338218, 57.821403133903154, 57.32600732600733, 57.07290394790396, 57.47757258173926, 57.0455586080586, 56.93108974358975, 57.29866198616198, 57.17719780219782, 57.56766381766383, 56.83951465201465, 57.56957163207164, 56.863680301180295, 57.40677146927146, 57.28212759462763, 57.210902523402524, 56.99404761904761, 57.43475274725276, 56.98450854700854, 57.493894993895005, 56.599765974765965, 57.59691697191698, 57.36352767602767, 57.577838827838846, 57.29675417175417, 56.79309116809117, 56.992775742775734, 57.4271214896215, 57.05255392755392, 56.83124745624747, 57.26940883190883, 56.70215201465201, 57.49707468457468, 58.07323463573464, 57.3037494912495, 56.914555352055345, 56.878306878306894, 57.41949023199023, 57.61981074481073, 57.201363451363456, 57.46336996336996, 57.11233211233213, 57.06272893772894, 56.71995828245827, 57.00994607244606, 57.58229039479039, 57.497710622710635, 57.283399470899475, 57.12632275132276, 57.164479039479055, 57.081171143671156, 57.40104802604804, 57.153032153032164, 57.152396214896214, 57.18928062678063, 56.807081807081794, 56.578780016280014, 57.104700854700866, 56.93744912494913, 57.00167887667888, 57.15875559625559, 57.57465913715914, 57.44238400488401, 57.13776963776963, 56.535536223036225, 56.98578042328041, 56.77782865282864, 57.03093203093206, 56.58959096459096, 57.37942612942614, 57.215354090354104, 57.0137617012617, 56.77274114774116, 57.17274623524625, 56.40453296703297, 56.96479446479449, 57.04746642246642, 57.47290903540903, 56.48656898656899, 57.41694647944647, 56.80072242572243, 57.11487586487586, 56.89865689865689, 56.48529711029712, 57.27131664631665, 56.6633597883598, 56.80326617826618, 57.12823056573058, 56.96352258852257, 56.884030321530325, 56.79245522995524, 57.17274623524623, 56.769561457061464, 57.3489010989011, 57.458918396418404, 57.335546398046404, 56.958435083435084, 57.03538359788359, 57.16129934879935, 57.6541514041514, 57.107880545380546, 57.186736874236885, 56.82361619861621, 57.43220899470899, 56.516458078958074, 57.02775234025234, 57.02966015466017, 57.208994708994716, 57.10279304029305, 57.48181216931217, 57.37052299552298, 57.086894586894594, 57.045558608058606, 57.82140313390314, 56.99786324786324, 56.961614774114786, 56.11899674399674, 56.34984228734231, 56.30469067969069, 56.499923687423696, 56.4401455026455, 56.27988909238909, 56.41407203907204, 56.03632478632479, 55.78703703703706, 56.36637667887669, 56.15333740333741, 56.582595645095644, 56.42297517297519, 55.95110907610907, 55.869073056573065, 56.030601343101324, 56.0967389092389, 56.266534391534385, 56.14379833129832, 56.20548433048435, 56.55779405779407, 56.03568884818885, 55.81819800569801, 56.566697191697195, 56.58068783068782, 56.2722578347578, 56.79245522995524, 56.87894281644282, 56.3682844932845, 56.31105006105006, 56.77274114774115, 56.469398656898655, 56.65890822140823, 56.007707570207565, 56.70469576719578, 57.10660866910869, 56.29387973137974, 56.16859991859991, 56.54316748066747, 56.23537342287343, 56.164784289784286, 56.21883903133902, 56.033781033781025, 57.090074277574274, 55.872252747252766, 56.5018315018315, 56.26526251526253, 56.747939560439555, 57.04555860805859, 55.84363553113553, 56.86431623931625, 56.442689255189265, 56.63919413919416, 56.473850223850235, 56.477665852665865, 56.46494708994709, 56.83569902319903, 57.05255392755394, 56.70533170533172, 56.87449124949126, 56.93490537240539, 56.92282254782257, 56.35238603988606, 56.05095136345136, 56.75620675620675, 56.50755494505494, 56.88848188848186, 57.174018111518116, 57.206450956450965, 56.88085063085064, 56.76828958078956, 56.06303418803419, 56.87830687830689, 56.442053317053336, 56.907560032560035, 56.75429894179896, 56.43378612128612, 56.6449175824176, 56.40071733821733, 56.847781847781846, 56.35747354497354, 56.5050111925112, 57.311380748880744, 56.98514448514448, 56.06812169312169, 56.55079873829873, 56.71550671550671, 56.93999287749288, 57.1218711843712, 57.06590862840863, 57.13013838013836, 57.034747659747666, 57.29548229548228, 57.34063390313391, 57.76989214489214, 56.95525539275541, 57.12759462759464, 57.365435490435495, 57.284035409035404, 57.256054131054135, 57.20835877085879, 57.10152116402117, 57.70566239316239, 57.07417582417582, 56.87385531135531, 57.07926332926336, 57.12632275132277, 57.226165038665044, 56.84905372405373, 57.815043752543744, 57.54159035409035, 57.19627594627594, 56.965430402930416, 57.04619454619453, 57.06209299959301, 56.943172568172564, 56.532992470492474, 57.016941391941394, 57.06654456654459, 57.210266585266574, 57.27258852258853, 56.94253663003662, 57.039835164835175, 57.16129934879937, 57.069088319088316, 57.09706959706958, 57.154939967439965, 57.284035409035425, 56.946988196988194, 56.91773504273507, 56.69452075702074, 57.2420634920635, 56.77337708587709, 56.96415852665853, 57.008038258038255, 56.79372710622712, 57.26750101750104, 56.773377085877094, 57.4188542938543, 57.522512210012216, 57.37306674806675, 56.86113654863655, 57.47036528286528, 56.85986467236467, 57.02393671143671, 56.7237739112739, 57.46782153032154, 57.16447903947903, 57.25160256410257, 57.32155575905577, 57.26432132682131, 57.17465404965406, 57.171474358974365, 57.05700549450551, 57.283399470899475, 57.36352767602768, 57.63952482702484, 56.73840048840049, 56.926002238502214, 57.05509768009768, 57.273860398860414, 57.285307285307304, 57.3609839234839, 57.10851648351647, 57.15048840048842, 57.247786935286946, 56.76828958078958, 56.5266330891331, 57.086258648758665, 56.68625356125356, 56.66145197395198, 57.22234940984939, 56.691977004477, 57.31837606837609, 56.849053724053725, 56.7651098901099, 56.96733821733822, 56.76129426129426, 56.78482397232397, 57.08244301994302, 57.37942612942613, 56.831247456247446, 57.212174399674375, 57.39723239723239, 57.120599308099294, 57.31774013024012, 57.175925925925924, 56.759386446886445, 56.712327024827026, 57.048102360602364, 56.74221611721612, 57.0137617012617, 57.036655474155474, 57.023936711436704, 56.98450854700854, 56.6837098087098, 56.60294566544567, 57.08053520553519, 57.06972425722426, 56.75875050875052, 56.85350529100529, 56.87767094017094, 56.7485754985755, 56.843850593850604, 56.839514652014635, 57.369887057387075, 57.7940577940578, 56.74539580789582, 57.08435083435083, 57.196275946275954, 56.65954415954416, 57.62235449735451, 56.689433251933245, 56.61184879934879, 57.43984025234025, 56.92155067155068, 57.069724257224244, 57.098977411477414, 56.75811457061457, 56.5450752950753, 56.87703500203502, 56.61184879934879, 56.5800518925519, 56.89229751729753, 56.8617724867725, 56.878306878306894, 57.388965201465204, 56.68053011803014, 57.32028388278388, 56.89992877492878, 56.89102564102564, 56.80517399267401, 57.08371489621489, 57.02202889702888, 57.07099613349613, 57.18355718355719, 56.85477716727717, 56.92918192918193, 57.29103072853073, 57.17338217338217, 57.023936711436725, 57.31583231583233, 56.30405474155476, 56.847781847781825, 56.87194749694751, 57.24142755392756, 56.95716320716323, 57.39596052096055, 57.42330586080586, 57.36925111925114, 56.87067562067563, 57.45001526251528, 57.22998066748067, 57.16829466829466, 57.08753052503053, 57.427757427757435, 57.435388685388695, 57.22298534798534, 56.788639601139614, 56.81662087912087, 56.722502035002044, 57.011217948717956, 57.10788054538056, 57.35653235653235, 57.1384055759056, 56.97624135124138, 57.36670736670737, 57.48371998371999, 57.59818884818887, 57.066544566544565, 56.63919413919413, 57.15621184371184, 57.30629324379325, 57.0302960927961, 56.99023199023199, 57.22425722425722, 56.71677859177861, 57.31456043956044, 57.34317765567767, 57.02966015466016, 57.30311355311357, 56.808353683353694, 57.23761192511193, 56.882122507122496, 57.072903947903946, 57.081171143671156, 57.45255901505902, 57.7241045991046, 57.447471509971486, 57.14540089540091, 57.0385632885633, 57.881181318681335, 57.311380748880744, 58.0090048840049, 57.694215506715516, 56.979421041921064, 58.05352055352054, 57.46336996336998, 57.50152625152626, 57.1320461945462, 57.434116809116794, 57.354624542124554, 57.16320716320715, 57.22298534798534, 57.92887667887667, 57.3539886039886, 57.575931013431024, 57.284035409035425, 57.139041514041544, 57.49834656084656, 57.36034798534797, 57.39087301587302, 57.19309625559626, 57.311380748880765, 57.385785510785524, 57.11296805046805, 57.247150997151, 57.292938542938565, 57.553673178673186, 57.54286223036223, 57.29929792429794, 57.50279812779812, 57.29802604802605, 57.07226800976804, 57.500890313390336, 58.014092389092404, 57.15621184371187, 57.86337505087507, 58.021087708587714, 57.85510785510785, 58.119658119658105, 57.3469932844933, 57.90534696784696, 57.148580586080584, 57.561940374440375, 57.53332315832315, 58.19469881969882, 57.8055046805047, 57.6522435897436, 57.939687627187624, 57.80168905168907, 57.62426231176232, 57.52314814814816, 57.54286223036223, 57.97530016280015, 57.67640923890923, 57.17592592592595, 57.74699837199838, 57.79787342287343, 57.50597781847782, 57.67386548636551, 57.334910459910475, 57.240155677655686, 57.36925111925111, 57.439840252340254, 56.85350529100529, 57.36479955229956, 57.04365079365081, 57.47736060236059, 57.385785510785496, 57.04301485551485, 57.43856837606837, 57.7622608872609, 56.58323158323159, 57.588649776149786, 57.26495726495727, 57.41821835571835, 58.08849715099714, 57.32855107855108, 57.41949023199024, 57.67513736263738, 57.29675417175417, 57.14094932844933, 57.353988603988604, 57.75908119658121, 57.39278083028085, 57.13141025641027, 56.977513227513235, 57.041742979243, 57.713293650793645, 57.58674196174198, 57.764168701668716, 57.70629833129834, 57.9104344729345, 57.97212047212048, 57.8754578754579, 57.4506512006512, 57.65287952787953, 57.60963573463574, 57.5256919006919, 57.77434371184372, 57.70375457875456, 58.01409238909238, 57.41185897435898, 57.57720288970288, 57.46146214896216, 57.733007733007724, 57.82712657712656, 58.02999084249084, 57.633801383801405, 58.54891636141637, 57.91043447293447, 57.35526048026048, 58.01409238909241, 57.53713878713881, 58.11329873829874, 58.105667480667485, 57.94668294668296, 57.603276353276364, 57.88436100936104, 58.01790801790801, 58.16544566544568, 58.152726902726926, 58.32951770451771, 58.332697395197364, 58.06496743996744, 58.055428367928364, 58.180072242572244, 58.04525335775338, 58.17625661375663, 58.0859533984534, 58.58707264957266, 58.58389295889295, 58.53937728937729, 58.44971001221003, 58.566086691086674, 58.08786121286122, 58.355591168091166, 58.18961131461131, 58.01472832722833, 57.96639702889703, 58.51902726902727, 58.153998778998755, 58.29008954008955, 58.31997863247864, 58.24430199430202, 58.28754578754579, 58.020451770451764, 58.195334757834765, 57.907254782254775, 58.088497150997135, 57.95177045177045, 58.37466931216931, 57.922517297517295, 58.181980056980045, 58.38039275539277, 58.15654253154255, 58.50758038258039, 58.127289377289365, 58.410917785917796, 58.247481684981686, 58.53047415547416, 58.22840354090355, 58.55527574277574, 57.92442511192511, 58.59279609279611, 58.02172364672367, 57.78324684574684, 58.00709706959707, 58.38230056980058, 58.54573667073666, 58.50503663003662, 58.48468660968661, 58.57308201058199, 58.12220187220188, 58.2926332926333, 58.30090048840051, 57.83666564916567, 58.510760073260066, 58.45924908424909, 58.22013634513636, 58.53047415547417, 58.355591168091166, 58.08022995522996, 58.531746031746046, 58.358770858770846, 58.2322191697192], \"y0\": \" \", \"yaxis\": \"y\"}],\n",
       "                        {\"boxmode\": \"group\", \"legend\": {\"tracegroupgap\": 0}, \"template\": {\"data\": {\"bar\": [{\"error_x\": {\"color\": \"rgb(36,36,36)\"}, \"error_y\": {\"color\": \"rgb(36,36,36)\"}, \"marker\": {\"line\": {\"color\": \"white\", \"width\": 0.5}}, \"type\": \"bar\"}], \"barpolar\": [{\"marker\": {\"line\": {\"color\": \"white\", \"width\": 0.5}}, \"type\": \"barpolar\"}], \"carpet\": [{\"aaxis\": {\"endlinecolor\": \"rgb(36,36,36)\", \"gridcolor\": \"white\", \"linecolor\": \"white\", \"minorgridcolor\": \"white\", \"startlinecolor\": \"rgb(36,36,36)\"}, \"baxis\": {\"endlinecolor\": \"rgb(36,36,36)\", \"gridcolor\": \"white\", \"linecolor\": \"white\", \"minorgridcolor\": \"white\", \"startlinecolor\": \"rgb(36,36,36)\"}, \"type\": \"carpet\"}], \"choropleth\": [{\"colorbar\": {\"outlinewidth\": 1, \"tickcolor\": \"rgb(36,36,36)\", \"ticks\": \"outside\"}, \"type\": \"choropleth\"}], \"contour\": [{\"colorbar\": {\"outlinewidth\": 1, \"tickcolor\": \"rgb(36,36,36)\", \"ticks\": \"outside\"}, \"colorscale\": [[0.0, \"#440154\"], [0.1111111111111111, \"#482878\"], [0.2222222222222222, \"#3e4989\"], [0.3333333333333333, \"#31688e\"], [0.4444444444444444, \"#26828e\"], [0.5555555555555556, \"#1f9e89\"], [0.6666666666666666, \"#35b779\"], [0.7777777777777778, \"#6ece58\"], [0.8888888888888888, \"#b5de2b\"], [1.0, \"#fde725\"]], \"type\": \"contour\"}], \"contourcarpet\": [{\"colorbar\": {\"outlinewidth\": 1, \"tickcolor\": \"rgb(36,36,36)\", \"ticks\": \"outside\"}, \"type\": \"contourcarpet\"}], \"heatmap\": [{\"colorbar\": {\"outlinewidth\": 1, \"tickcolor\": \"rgb(36,36,36)\", \"ticks\": \"outside\"}, \"colorscale\": [[0.0, \"#440154\"], [0.1111111111111111, \"#482878\"], [0.2222222222222222, \"#3e4989\"], [0.3333333333333333, \"#31688e\"], [0.4444444444444444, \"#26828e\"], [0.5555555555555556, \"#1f9e89\"], [0.6666666666666666, \"#35b779\"], [0.7777777777777778, \"#6ece58\"], [0.8888888888888888, \"#b5de2b\"], [1.0, \"#fde725\"]], \"type\": \"heatmap\"}], \"heatmapgl\": [{\"colorbar\": {\"outlinewidth\": 1, \"tickcolor\": \"rgb(36,36,36)\", \"ticks\": \"outside\"}, \"colorscale\": [[0.0, \"#440154\"], [0.1111111111111111, \"#482878\"], [0.2222222222222222, \"#3e4989\"], [0.3333333333333333, \"#31688e\"], [0.4444444444444444, \"#26828e\"], [0.5555555555555556, \"#1f9e89\"], [0.6666666666666666, \"#35b779\"], [0.7777777777777778, \"#6ece58\"], [0.8888888888888888, \"#b5de2b\"], [1.0, \"#fde725\"]], \"type\": \"heatmapgl\"}], \"histogram\": [{\"marker\": {\"line\": {\"color\": \"white\", \"width\": 0.6}}, \"type\": \"histogram\"}], \"histogram2d\": [{\"colorbar\": {\"outlinewidth\": 1, \"tickcolor\": \"rgb(36,36,36)\", \"ticks\": \"outside\"}, \"colorscale\": [[0.0, \"#440154\"], [0.1111111111111111, \"#482878\"], [0.2222222222222222, \"#3e4989\"], [0.3333333333333333, \"#31688e\"], [0.4444444444444444, \"#26828e\"], [0.5555555555555556, \"#1f9e89\"], [0.6666666666666666, \"#35b779\"], [0.7777777777777778, \"#6ece58\"], [0.8888888888888888, \"#b5de2b\"], [1.0, \"#fde725\"]], \"type\": \"histogram2d\"}], \"histogram2dcontour\": [{\"colorbar\": {\"outlinewidth\": 1, \"tickcolor\": \"rgb(36,36,36)\", \"ticks\": \"outside\"}, \"colorscale\": [[0.0, \"#440154\"], [0.1111111111111111, \"#482878\"], [0.2222222222222222, \"#3e4989\"], [0.3333333333333333, \"#31688e\"], [0.4444444444444444, \"#26828e\"], [0.5555555555555556, \"#1f9e89\"], [0.6666666666666666, \"#35b779\"], [0.7777777777777778, \"#6ece58\"], [0.8888888888888888, \"#b5de2b\"], [1.0, \"#fde725\"]], \"type\": \"histogram2dcontour\"}], \"mesh3d\": [{\"colorbar\": {\"outlinewidth\": 1, \"tickcolor\": \"rgb(36,36,36)\", \"ticks\": \"outside\"}, \"type\": \"mesh3d\"}], \"parcoords\": [{\"line\": {\"colorbar\": {\"outlinewidth\": 1, \"tickcolor\": \"rgb(36,36,36)\", \"ticks\": \"outside\"}}, \"type\": \"parcoords\"}], \"pie\": [{\"automargin\": true, \"type\": \"pie\"}], \"scatter\": [{\"marker\": {\"colorbar\": {\"outlinewidth\": 1, \"tickcolor\": \"rgb(36,36,36)\", \"ticks\": \"outside\"}}, \"type\": \"scatter\"}], \"scatter3d\": [{\"line\": {\"colorbar\": {\"outlinewidth\": 1, \"tickcolor\": \"rgb(36,36,36)\", \"ticks\": \"outside\"}}, \"marker\": {\"colorbar\": {\"outlinewidth\": 1, \"tickcolor\": \"rgb(36,36,36)\", \"ticks\": \"outside\"}}, \"type\": \"scatter3d\"}], \"scattercarpet\": [{\"marker\": {\"colorbar\": {\"outlinewidth\": 1, \"tickcolor\": \"rgb(36,36,36)\", \"ticks\": \"outside\"}}, \"type\": \"scattercarpet\"}], \"scattergeo\": [{\"marker\": {\"colorbar\": {\"outlinewidth\": 1, \"tickcolor\": \"rgb(36,36,36)\", \"ticks\": \"outside\"}}, \"type\": \"scattergeo\"}], \"scattergl\": [{\"marker\": {\"colorbar\": {\"outlinewidth\": 1, \"tickcolor\": \"rgb(36,36,36)\", \"ticks\": \"outside\"}}, \"type\": \"scattergl\"}], \"scattermapbox\": [{\"marker\": {\"colorbar\": {\"outlinewidth\": 1, \"tickcolor\": \"rgb(36,36,36)\", \"ticks\": \"outside\"}}, \"type\": \"scattermapbox\"}], \"scatterpolar\": [{\"marker\": {\"colorbar\": {\"outlinewidth\": 1, \"tickcolor\": \"rgb(36,36,36)\", \"ticks\": \"outside\"}}, \"type\": \"scatterpolar\"}], \"scatterpolargl\": [{\"marker\": {\"colorbar\": {\"outlinewidth\": 1, \"tickcolor\": \"rgb(36,36,36)\", \"ticks\": \"outside\"}}, \"type\": \"scatterpolargl\"}], \"scatterternary\": [{\"marker\": {\"colorbar\": {\"outlinewidth\": 1, \"tickcolor\": \"rgb(36,36,36)\", \"ticks\": \"outside\"}}, \"type\": \"scatterternary\"}], \"surface\": [{\"colorbar\": {\"outlinewidth\": 1, \"tickcolor\": \"rgb(36,36,36)\", \"ticks\": \"outside\"}, \"colorscale\": [[0.0, \"#440154\"], [0.1111111111111111, \"#482878\"], [0.2222222222222222, \"#3e4989\"], [0.3333333333333333, \"#31688e\"], [0.4444444444444444, \"#26828e\"], [0.5555555555555556, \"#1f9e89\"], [0.6666666666666666, \"#35b779\"], [0.7777777777777778, \"#6ece58\"], [0.8888888888888888, \"#b5de2b\"], [1.0, \"#fde725\"]], \"type\": \"surface\"}], \"table\": [{\"cells\": {\"fill\": {\"color\": \"rgb(237,237,237)\"}, \"line\": {\"color\": \"white\"}}, \"header\": {\"fill\": {\"color\": \"rgb(217,217,217)\"}, \"line\": {\"color\": \"white\"}}, \"type\": \"table\"}]}, \"layout\": {\"annotationdefaults\": {\"arrowhead\": 0, \"arrowwidth\": 1}, \"coloraxis\": {\"colorbar\": {\"outlinewidth\": 1, \"tickcolor\": \"rgb(36,36,36)\", \"ticks\": \"outside\"}}, \"colorscale\": {\"diverging\": [[0.0, \"rgb(103,0,31)\"], [0.1, \"rgb(178,24,43)\"], [0.2, \"rgb(214,96,77)\"], [0.3, \"rgb(244,165,130)\"], [0.4, \"rgb(253,219,199)\"], [0.5, \"rgb(247,247,247)\"], [0.6, \"rgb(209,229,240)\"], [0.7, \"rgb(146,197,222)\"], [0.8, \"rgb(67,147,195)\"], [0.9, \"rgb(33,102,172)\"], [1.0, \"rgb(5,48,97)\"]], \"sequential\": [[0.0, \"#440154\"], [0.1111111111111111, \"#482878\"], [0.2222222222222222, \"#3e4989\"], [0.3333333333333333, \"#31688e\"], [0.4444444444444444, \"#26828e\"], [0.5555555555555556, \"#1f9e89\"], [0.6666666666666666, \"#35b779\"], [0.7777777777777778, \"#6ece58\"], [0.8888888888888888, \"#b5de2b\"], [1.0, \"#fde725\"]], \"sequentialminus\": [[0.0, \"#440154\"], [0.1111111111111111, \"#482878\"], [0.2222222222222222, \"#3e4989\"], [0.3333333333333333, \"#31688e\"], [0.4444444444444444, \"#26828e\"], [0.5555555555555556, \"#1f9e89\"], [0.6666666666666666, \"#35b779\"], [0.7777777777777778, \"#6ece58\"], [0.8888888888888888, \"#b5de2b\"], [1.0, \"#fde725\"]]}, \"colorway\": [\"#1F77B4\", \"#FF7F0E\", \"#2CA02C\", \"#D62728\", \"#9467BD\", \"#8C564B\", \"#E377C2\", \"#7F7F7F\", \"#BCBD22\", \"#17BECF\"], \"font\": {\"color\": \"rgb(36,36,36)\"}, \"geo\": {\"bgcolor\": \"white\", \"lakecolor\": \"white\", \"landcolor\": \"white\", \"showlakes\": true, \"showland\": true, \"subunitcolor\": \"white\"}, \"hoverlabel\": {\"align\": \"left\"}, \"hovermode\": \"closest\", \"mapbox\": {\"style\": \"light\"}, \"paper_bgcolor\": \"white\", \"plot_bgcolor\": \"white\", \"polar\": {\"angularaxis\": {\"gridcolor\": \"rgb(232,232,232)\", \"linecolor\": \"rgb(36,36,36)\", \"showgrid\": false, \"showline\": true, \"ticks\": \"outside\"}, \"bgcolor\": \"white\", \"radialaxis\": {\"gridcolor\": \"rgb(232,232,232)\", \"linecolor\": \"rgb(36,36,36)\", \"showgrid\": false, \"showline\": true, \"ticks\": \"outside\"}}, \"scene\": {\"xaxis\": {\"backgroundcolor\": \"white\", \"gridcolor\": \"rgb(232,232,232)\", \"gridwidth\": 2, \"linecolor\": \"rgb(36,36,36)\", \"showbackground\": true, \"showgrid\": false, \"showline\": true, \"ticks\": \"outside\", \"zeroline\": false, \"zerolinecolor\": \"rgb(36,36,36)\"}, \"yaxis\": {\"backgroundcolor\": \"white\", \"gridcolor\": \"rgb(232,232,232)\", \"gridwidth\": 2, \"linecolor\": \"rgb(36,36,36)\", \"showbackground\": true, \"showgrid\": false, \"showline\": true, \"ticks\": \"outside\", \"zeroline\": false, \"zerolinecolor\": \"rgb(36,36,36)\"}, \"zaxis\": {\"backgroundcolor\": \"white\", \"gridcolor\": \"rgb(232,232,232)\", \"gridwidth\": 2, \"linecolor\": \"rgb(36,36,36)\", \"showbackground\": true, \"showgrid\": false, \"showline\": true, \"ticks\": \"outside\", \"zeroline\": false, \"zerolinecolor\": \"rgb(36,36,36)\"}}, \"shapedefaults\": {\"fillcolor\": \"black\", \"line\": {\"width\": 0}, \"opacity\": 0.3}, \"ternary\": {\"aaxis\": {\"gridcolor\": \"rgb(232,232,232)\", \"linecolor\": \"rgb(36,36,36)\", \"showgrid\": false, \"showline\": true, \"ticks\": \"outside\"}, \"baxis\": {\"gridcolor\": \"rgb(232,232,232)\", \"linecolor\": \"rgb(36,36,36)\", \"showgrid\": false, \"showline\": true, \"ticks\": \"outside\"}, \"bgcolor\": \"white\", \"caxis\": {\"gridcolor\": \"rgb(232,232,232)\", \"linecolor\": \"rgb(36,36,36)\", \"showgrid\": false, \"showline\": true, \"ticks\": \"outside\"}}, \"title\": {\"x\": 0.05}, \"xaxis\": {\"automargin\": true, \"gridcolor\": \"rgb(232,232,232)\", \"linecolor\": \"rgb(36,36,36)\", \"showgrid\": false, \"showline\": true, \"ticks\": \"outside\", \"title\": {\"standoff\": 15}, \"zeroline\": false, \"zerolinecolor\": \"rgb(36,36,36)\"}, \"yaxis\": {\"automargin\": true, \"gridcolor\": \"rgb(232,232,232)\", \"linecolor\": \"rgb(36,36,36)\", \"showgrid\": false, \"showline\": true, \"ticks\": \"outside\", \"title\": {\"standoff\": 15}, \"zeroline\": false, \"zerolinecolor\": \"rgb(36,36,36)\"}}}, \"title\": {\"text\": \"OutletPressure g-pump-5 for all weeks \"}, \"xaxis\": {\"anchor\": \"y\", \"domain\": [0.0, 1.0], \"title\": {\"text\": \"week\"}, \"type\": \"category\"}, \"yaxis\": {\"anchor\": \"x\", \"domain\": [0.0, 1.0], \"title\": {\"text\": \"feature_value\"}}},\n",
       "                        {\"responsive\": true}\n",
       "                    ).then(function(){\n",
       "                            \n",
       "var gd = document.getElementById('becddd07-34c8-4066-ad41-cf511e77fdb4');\n",
       "var x = new MutationObserver(function (mutations, observer) {{\n",
       "        var display = window.getComputedStyle(gd).display;\n",
       "        if (!display || display === 'none') {{\n",
       "            console.log([gd, 'removed!']);\n",
       "            Plotly.purge(gd);\n",
       "            observer.disconnect();\n",
       "        }}\n",
       "}});\n",
       "\n",
       "// Listen for the removal of the full notebook cells\n",
       "var notebookContainer = gd.closest('#notebook-container');\n",
       "if (notebookContainer) {{\n",
       "    x.observe(notebookContainer, {childList: true});\n",
       "}}\n",
       "\n",
       "// Listen for the clearing of the current output cell\n",
       "var outputEl = gd.closest('.output');\n",
       "if (outputEl) {{\n",
       "    x.observe(outputEl, {childList: true});\n",
       "}}\n",
       "\n",
       "                        })\n",
       "                };\n",
       "                });\n",
       "            </script>\n",
       "        </div>"
      ]
     },
     "metadata": {},
     "output_type": "display_data"
    },
    {
     "data": {
      "application/vnd.plotly.v1+json": {
       "config": {
        "plotlyServerURL": "https://plot.ly"
       },
       "data": [
        {
         "alignmentgroup": "True",
         "hoverlabel": {
          "namelength": 0
         },
         "hovertemplate": "week=%{x}<br>feature_value=%{y}",
         "legendgroup": "",
         "marker": {
          "color": "#1F77B4"
         },
         "name": "",
         "notched": false,
         "offsetgroup": "",
         "orientation": "v",
         "showlegend": false,
         "type": "box",
         "x": [
          47,
          47,
          47,
          47,
          47,
          47,
          47,
          47,
          47,
          47,
          47,
          47,
          47,
          47,
          47,
          47,
          47,
          47,
          47,
          47,
          47,
          47,
          47,
          47,
          47,
          47,
          47,
          47,
          47,
          47,
          47,
          47,
          47,
          47,
          47,
          47,
          47,
          47,
          47,
          47,
          47,
          47,
          47,
          47,
          47,
          47,
          47,
          47,
          47,
          47,
          47,
          47,
          47,
          47,
          47,
          47,
          47,
          47,
          47,
          47,
          47,
          47,
          47,
          47,
          47,
          47,
          47,
          47,
          47,
          47,
          47,
          47,
          47,
          47,
          47,
          47,
          47,
          47,
          47,
          47,
          47,
          47,
          47,
          47,
          47,
          47,
          47,
          47,
          47,
          47,
          47,
          47,
          47,
          47,
          47,
          47,
          47,
          47,
          47,
          47,
          47,
          47,
          47,
          47,
          47,
          47,
          48,
          48,
          48,
          48,
          48,
          48,
          48,
          48,
          48,
          48,
          48,
          48,
          48,
          48,
          48,
          48,
          48,
          48,
          48,
          48,
          48,
          48,
          48,
          48,
          48,
          48,
          48,
          48,
          48,
          48,
          48,
          48,
          48,
          48,
          48,
          48,
          48,
          48,
          48,
          48,
          48,
          48,
          48,
          48,
          48,
          48,
          48,
          48,
          48,
          48,
          48,
          48,
          48,
          48,
          48,
          48,
          48,
          48,
          48,
          48,
          48,
          48,
          48,
          48,
          48,
          48,
          48,
          48,
          48,
          48,
          48,
          48,
          48,
          48,
          48,
          48,
          48,
          48,
          48,
          48,
          48,
          48,
          48,
          48,
          48,
          48,
          48,
          48,
          48,
          48,
          48,
          48,
          48,
          48,
          48,
          48,
          48,
          48,
          48,
          48,
          48,
          48,
          48,
          48,
          48,
          48,
          48,
          48,
          48,
          48,
          48,
          48,
          48,
          48,
          48,
          48,
          48,
          48,
          48,
          48,
          48,
          48,
          48,
          48,
          48,
          48,
          48,
          48,
          48,
          48,
          48,
          48,
          48,
          48,
          48,
          48,
          48,
          48,
          48,
          48,
          48,
          48,
          48,
          48,
          48,
          48,
          48,
          48,
          48,
          48,
          48,
          48,
          48,
          48,
          48,
          48,
          48,
          48,
          48,
          48,
          48,
          48,
          48,
          48,
          48,
          48,
          49,
          49,
          49,
          49,
          49,
          49,
          49,
          49,
          49,
          49,
          49,
          49,
          49,
          49,
          49,
          49,
          49,
          49,
          49,
          49,
          49,
          49,
          49,
          49,
          49,
          49,
          49,
          49,
          49,
          50,
          50,
          50,
          50,
          50,
          50,
          50,
          50,
          50,
          50,
          50,
          50,
          50,
          50,
          50,
          50,
          50,
          50,
          50,
          50,
          50,
          50,
          50,
          50,
          50,
          50,
          50,
          50,
          50,
          50,
          50,
          50,
          50,
          50,
          50,
          50,
          50,
          50,
          50,
          50,
          51,
          51,
          51,
          51,
          51,
          51,
          51,
          51,
          51,
          51,
          51,
          51,
          51,
          51,
          51,
          51,
          51,
          51,
          51,
          51,
          51,
          51,
          51,
          51,
          51,
          51,
          51,
          51,
          51,
          51,
          51,
          51,
          51,
          51,
          51,
          51,
          51,
          51,
          51,
          51,
          51,
          51,
          51,
          51,
          51,
          51,
          51,
          51,
          51,
          51,
          51,
          51,
          51,
          51,
          51,
          51,
          51,
          51,
          51,
          51,
          51,
          51,
          51,
          51,
          51,
          51,
          51,
          51,
          51,
          51,
          51,
          51,
          51,
          51,
          51,
          51,
          51,
          51,
          51,
          51,
          51,
          51,
          51,
          51,
          51,
          51,
          51,
          51,
          51,
          51,
          51,
          51,
          51,
          51,
          51,
          51,
          51,
          51,
          51,
          51,
          51,
          51,
          51,
          51,
          51,
          51,
          51,
          51,
          51,
          51,
          51,
          51,
          51,
          51,
          51,
          51,
          51,
          51,
          51,
          51,
          51,
          51,
          51,
          51,
          51,
          51,
          51,
          51,
          51,
          51,
          51,
          51,
          51,
          51,
          51,
          51,
          51,
          51,
          51,
          51,
          51,
          51,
          51,
          51,
          51,
          51,
          51,
          51,
          51,
          51,
          52,
          52,
          52,
          52,
          52,
          52,
          52,
          52,
          52,
          52,
          52,
          52,
          52,
          52,
          52,
          52,
          52,
          52,
          52,
          52,
          52,
          52,
          52,
          52,
          52,
          52,
          52,
          52,
          52,
          52,
          52,
          52,
          52,
          52,
          52,
          52,
          52,
          52,
          52,
          52,
          52,
          52,
          52,
          52,
          52,
          52,
          52,
          52,
          52,
          52,
          52,
          52,
          52,
          52,
          52,
          52,
          52,
          52,
          52,
          52,
          52,
          52,
          52,
          52,
          52,
          52,
          52,
          52,
          52,
          52,
          52,
          52,
          52,
          52,
          52,
          52,
          52,
          52,
          52,
          52,
          52,
          52,
          52,
          52,
          52,
          52,
          52,
          52,
          52,
          52,
          52,
          52,
          52,
          52,
          52,
          52,
          52,
          52,
          52,
          52,
          52,
          52,
          52,
          52,
          52,
          52,
          52,
          52,
          52,
          52,
          52,
          52,
          52,
          52,
          52,
          52,
          52,
          52,
          52,
          52,
          52,
          52,
          52,
          52,
          52,
          52,
          52,
          52,
          52,
          52,
          52,
          52,
          52,
          52,
          52,
          52,
          52,
          52,
          52,
          52,
          52,
          52,
          52,
          52,
          52,
          52,
          52,
          52,
          52,
          52,
          52,
          52,
          52,
          52,
          52,
          52,
          52,
          52,
          52,
          52,
          52,
          52,
          52,
          52,
          52,
          1,
          1,
          1,
          1,
          1,
          1,
          1,
          1,
          1,
          1,
          1,
          1,
          1,
          1,
          1,
          1,
          1,
          1,
          1,
          1,
          1,
          1,
          1,
          1,
          1,
          1,
          1,
          1,
          1,
          1,
          1,
          1,
          1,
          1,
          1,
          1,
          1,
          1,
          1,
          1,
          1,
          1,
          1,
          1,
          1,
          1,
          1,
          1,
          1,
          1,
          1,
          1,
          1,
          1,
          1,
          1,
          1,
          1,
          1,
          1,
          1,
          1,
          1,
          1,
          1,
          1,
          1,
          1,
          1,
          1,
          1,
          1,
          1,
          1,
          1,
          1,
          1,
          1,
          1,
          1,
          1,
          1,
          1,
          1,
          1,
          1,
          1,
          1,
          1,
          1,
          1,
          1,
          1,
          1,
          1,
          1,
          1,
          1,
          1,
          1,
          1,
          1,
          1,
          1,
          1,
          1,
          1,
          1,
          1,
          1,
          1,
          1,
          1,
          1,
          1,
          1,
          1,
          1,
          1,
          1,
          1,
          1,
          1,
          1,
          1,
          1,
          1,
          1,
          1,
          1,
          1,
          1,
          1,
          1,
          1,
          1,
          1,
          1,
          1,
          1,
          1,
          1,
          1,
          1,
          1,
          1,
          1,
          1,
          1,
          1,
          1,
          1,
          1,
          1,
          1,
          1,
          1,
          1,
          1,
          1,
          1,
          1,
          1,
          1,
          1,
          1,
          1,
          1,
          2,
          2,
          2,
          2,
          2,
          2,
          2,
          2,
          2,
          2,
          2,
          2,
          2,
          2,
          2,
          2,
          2
         ],
         "x0": " ",
         "xaxis": "x",
         "y": [
          3.1984423347788815,
          3.30738705738706,
          3.1996637950377798,
          3.300391737891738,
          3.281631562881564,
          3.3402650590150595,
          3.3041437728937724,
          3.356481481481483,
          3.2858923483923483,
          3.3017908017908026,
          3.2327915140415158,
          3.2774170274170262,
          3.236161986161985,
          3.281122812372812,
          3.2226165038665027,
          3.34713319088319,
          3.3241758241758235,
          3.2421398046398053,
          3.2226800976800973,
          3.2691035816035825,
          3.236225579975581,
          3.2956539987789992,
          3.3126123490706836,
          3.2514245014245016,
          3.2860195360195372,
          3.3109483109483118,
          3.261281542531543,
          3.290598290598291,
          3.3611874236874235,
          3.3527930402930406,
          3.29892908017908,
          3.279024216524217,
          3.312983312983313,
          3.2759717134717135,
          3.275272181522183,
          3.330725986975987,
          3.232219169719168,
          3.336195054945056,
          3.2983567358567356,
          3.301091269841271,
          3.337848494098496,
          3.2991198616198627,
          3.2590557590557587,
          3.3170533170533165,
          3.2532051282051295,
          3.305542836792837,
          3.3436355311355324,
          3.380519943019944,
          3.3207417582417595,
          3.3143187830687832,
          3.250343406593407,
          3.2543498168498157,
          3.3026175213675217,
          3.291043447293447,
          3.2885632885632883,
          3.3676103988603994,
          3.225923382173382,
          3.252187627187625,
          3.2525691900691895,
          3.374669312169311,
          3.3584528897028902,
          3.3798840048840053,
          3.3270375457875443,
          3.291679385429386,
          3.2363527676027655,
          3.3246845746845746,
          3.2602640415140414,
          3.346815221815221,
          3.2883089133089136,
          3.324875356125356,
          3.2774979649979663,
          3.2650971713471715,
          3.3581985144485134,
          3.2912978225478233,
          3.356926638176637,
          3.38363603988604,
          3.3048433048433066,
          3.3382936507936507,
          3.3312983312983313,
          3.2349537037037046,
          3.369391025641025,
          3.3011548636548618,
          3.4137159137159117,
          3.312220187220186,
          3.245001526251525,
          3.274827024827024,
          3.188530219780219,
          3.255876068376068,
          3.278897028897029,
          3.376131969881969,
          3.327291921041922,
          3.3695818070818073,
          3.4783272283272293,
          3.2332366707366726,
          3.302363146113146,
          3.24074074074074,
          3.294223137973139,
          3.3094220594220594,
          3.201948514448515,
          3.2472909035409017,
          3.369581807081806,
          3.3064331501831483,
          3.3328245828245815,
          3.3305987993488,
          3.349041005291005,
          3.2220441595441582,
          3.318007224257226,
          3.297339234839234,
          3.3291997354497354,
          3.2457010582010573,
          3.282458282458284,
          3.169452075702076,
          3.3397563085063076,
          3.2444927757427755,
          3.3106939356939353,
          3.254731379731378,
          3.2872278184778185,
          3.25689356939357,
          3.3662113349613354,
          3.30509768009768,
          3.2937779812779815,
          3.2840481277981266,
          3.2523148148148144,
          3.2371794871794886,
          3.248117623117622,
          3.339883496133497,
          3.1948896011396006,
          3.328881766381766,
          3.3013456450956458,
          3.3312983312983313,
          3.3106303418803424,
          3.3386116198616214,
          3.3600427350427347,
          3.3253205128205128,
          3.30109126984127,
          3.322331603581604,
          3.3038258038258035,
          3.2647792022792026,
          3.3452253764753768,
          3.340455840455841,
          3.303062678062678,
          3.366020553520554,
          3.3788029100529102,
          3.4355285917785934,
          3.312474562474563,
          3.3276734839234834,
          3.355209605209603,
          3.3121565934065926,
          3.3701541514041504,
          3.2227436914936907,
          3.278897028897028,
          3.384971509971511,
          3.3488502238502247,
          3.2928240740740744,
          3.3652574277574288,
          3.2413766788766796,
          3.252124033374032,
          3.3192791005291,
          3.360042735042736,
          3.3357498982498988,
          3.234508547008548,
          3.3070690883190887,
          3.3323158323158313,
          3.1960978835978846,
          3.235462454212453,
          3.3567994505494503,
          3.2363527676027695,
          3.34096459096459,
          3.292188135938135,
          3.378548534798536,
          3.332061457061457,
          3.21873728123728,
          3.3168625356125343,
          3.3033806471306466,
          3.2822675010175004,
          3.3205509768009764,
          3.3246209808709803,
          3.309167684167686,
          3.268531237281238,
          3.2755265567765584,
          3.2579746642246636,
          3.2877365689865683,
          3.2746362433862437,
          3.280041717541718,
          3.283348595848597,
          3.3061787749287768,
          3.3456705331705336,
          3.3233491045991044,
          3.3335877085877086,
          3.283920940170941,
          3.2582926332926334,
          3.258165445665446,
          3.3171805046805045,
          3.3467516280016274,
          3.432030932030932,
          3.3498677248677247,
          3.3613782051282057,
          3.321250508750508,
          3.223697598697599,
          3.227513227513229,
          3.300900488400488,
          3.302490333740335,
          3.2256054131054146,
          3.269803113553113,
          3.2447471509971506,
          3.298801892551891,
          3.336830993080994,
          3.310566748066748,
          3.2199455636955623,
          3.20754477004477,
          3.3280550468050465,
          3.2507249694749696,
          3.3649394586894594,
          3.2902167277167287,
          3.226241351241353,
          3.3004553317053307,
          3.2851928164428172,
          3.3037622100122106,
          3.303317053317056,
          3.2128230565730562,
          3.2858287545787532,
          3.292824074074074,
          3.3486594424094434,
          3.3176256613756596,
          3.268912800162799,
          3.2255418192918195,
          3.2235704110704106,
          3.3319342694342695,
          3.263507326007326,
          3.2594373219373214,
          3.28856328856329,
          3.2682768620268625,
          3.3307259869759864,
          3.168625356125356,
          3.220517908017909,
          3.3489138176638185,
          3.2500890313390323,
          3.275908119658118,
          3.2996286121286125,
          3.2848112535612537,
          3.2977207977207965,
          3.286401098901099,
          3.3316163003663006,
          3.169642857142858,
          3.3244301994301986,
          3.3593432030932036,
          3.3684371184371176,
          3.3565450752950756,
          3.2667887667887676,
          3.279278591778592,
          3.36430352055352,
          3.28175875050875,
          3.404685592185592,
          3.3253841066341074,
          3.2753993691493695,
          3.2795965608465596,
          3.2230616605616595,
          3.3733974358974343,
          3.2904711029711042,
          3.326465201465202,
          3.289898758648757,
          3.3055428367928372,
          3.3009640822140827,
          3.238642144892143,
          3.3345416157916166,
          3.267004985754985,
          3.291361416361416,
          3.231837606837605,
          3.300836894586894,
          3.313555657305658,
          3.2565756003256006,
          3.2631257631257626,
          3.4308862433862415,
          3.3707900895400904,
          3.2069088319088306,
          3.257338726088728,
          3.300900488400489,
          3.257720288970289,
          3.206845238095239,
          3.3095492470492474,
          3.3486594424094434,
          3.2680224867724887,
          3.2314560439560434,
          3.280168905168905,
          3.3217592592592595,
          3.316798941798942,
          3.319406288156289,
          3.3059879934879923,
          3.258038258038257,
          3.384589947089946,
          3.3606150793650786,
          3.276289682539682,
          3.300836894586895,
          3.236988705738708,
          3.2760353072853072,
          3.26942155067155,
          3.3296448921448913,
          3.338865995115995,
          3.3412189662189675,
          3.3076414326414336,
          3.2848112535612555,
          3.3978174603174596,
          3.4310134310134313,
          3.4584223646723617,
          3.377785409035408,
          3.359533984533984,
          3.4275157712657696,
          3.4448768823768816,
          3.4582951770451764,
          3.3292633292633282,
          3.4876119251119246,
          3.391903235653236,
          3.4095823158323166,
          3.303762210012208,
          3.387388074888074,
          3.3851622914122927,
          3.414733414733414,
          3.3676103988603985,
          3.4356557794057796,
          3.4307590557590566,
          3.3502492877492887,
          3.3808379120879093,
          3.396227614977615,
          3.398834961334961,
          3.394001831501832,
          3.358580077330078,
          3.406211843711844,
          3.3764499389499387,
          3.387070105820106,
          3.4123804436304432,
          3.4068477818477825,
          3.3503764753764753,
          3.399725274725274,
          3.411362942612943,
          3.4088827838827847,
          3.468724562474563,
          3.3791844729344724,
          3.3644307081807074,
          3.45282610907611,
          3.474066442816445,
          3.530474155474156,
          3.5105692918192926,
          3.4888838013838,
          3.4462123524623536,
          3.4055123117623136,
          3.3732066544566544,
          3.4892653642653646,
          3.432603276353277,
          3.372634310134312,
          3.280168905168905,
          3.3826185388685395,
          3.3046525234025217,
          3.4261167073667074,
          3.4135251322751348,
          3.3528566341066366,
          3.26725936100936,
          3.269675925925925,
          3.2995014245014254,
          3.2736823361823375,
          3.372061965811966,
          3.328881766381768,
          3.3842083842083834,
          3.3625864875864875,
          3.332061457061457,
          3.3246845746845755,
          3.431267806267806,
          3.2720288970288958,
          3.3450981888481888,
          3.3333333333333326,
          3.293078449328451,
          3.34662444037444,
          3.3624592999592995,
          3.267704517704517,
          3.338548026048027,
          3.399343711843713,
          3.2891356328856336,
          3.377785409035408,
          3.478835978835978,
          3.2671321733821723,
          3.4014423076923097,
          3.3797568172568178,
          3.3506944444444433,
          3.3926663614163606,
          3.352475071225071,
          3.3636675824175835,
          3.310375966625967,
          3.317562067562067,
          3.3367038054538045,
          3.300010175010176,
          3.4018874643874644,
          3.4022054334554355,
          3.3433175620675613,
          3.350694444444445,
          3.4453220390720394,
          3.3770858770858765,
          3.445385632885634,
          3.428151709401709,
          3.4126348188848183,
          3.3764499389499396,
          3.424463268213269,
          3.4516178266178277,
          3.480107855107855,
          3.442078754578754,
          3.4279609279609295,
          3.372443528693529,
          3.4303774928774917,
          3.4417607855107843,
          3.433302808302809,
          3.4180402930402924,
          3.3648122710622714,
          3.4114901302401317,
          3.530092592592592,
          3.415369352869352,
          3.4565145502645502,
          3.4698056573056575,
          3.282013125763125,
          3.278006715506716,
          3.4535256410256423,
          3.3087225274725274,
          3.345034595034596,
          3.333015364265364,
          3.3236034798534795,
          3.395718864468865,
          3.326783170533169,
          3.286019536019536,
          3.257656695156694,
          3.3026811151811177,
          3.3862433862433856,
          3.310312372812374,
          3.345988502238502,
          3.2617902930402933,
          3.4216015466015466,
          3.313810032560033,
          3.324875356125357,
          3.3851622914122905,
          3.3212505087505093,
          3.361759768009769,
          3.323221916971916,
          3.3494225681725687,
          3.3577533577533583,
          3.3868793243793243,
          3.381982600732602,
          3.337975681725682,
          3.3665928978428963,
          3.275081400081399,
          3.257211538461537,
          3.339756308506308,
          3.405257936507935,
          3.351839133089133,
          3.2979115791615787,
          3.3547008547008565,
          3.384081196581196,
          3.2633801383801373,
          3.3144459706959704,
          3.3868793243793225,
          3.3717439967439975,
          3.327419108669108,
          3.31177503052503,
          3.4104090354090357,
          3.2612179487179476,
          3.34878663003663,
          3.332760989010989,
          3.4012515262515257,
          3.3282458282458283,
          3.316480972730974,
          3.3857982295482287,
          3.339374745624747,
          3.3228403540903546,
          3.2578474765974765,
          3.342999592999592,
          3.30643315018315,
          3.3222680097680093,
          3.3406466218966226,
          3.3485322547822527,
          3.269993894993895,
          3.3326338013838,
          3.360169922669922,
          3.324239417989419,
          3.3910129222629215,
          3.3467516280016274,
          3.320678164428164,
          3.4011879324379333,
          3.423445767195768,
          3.3789300976800987,
          3.3751144688644703,
          3.350885225885227,
          3.426561864061865,
          3.290025946275946,
          3.3576897639397623,
          3.392221204721205,
          3.280868437118438,
          3.4478021978021993,
          3.4516178266178255,
          3.3492953805453802,
          3.4488196988196997,
          3.3353683353683343,
          3.3148911273911286,
          3.304779711029711,
          3.3327609890109904,
          3.287291412291412,
          3.343635531135531,
          3.3386752136752142,
          3.3143187830687832,
          3.30560643060643,
          3.3219500407000404,
          3.2742546805046797,
          3.4251628001627985,
          3.429296398046396,
          3.4382631257631253,
          3.3830636955636972,
          3.403350122100122,
          3.390313390313391,
          3.382872914122915,
          3.3131105006105,
          3.3816010378510364,
          3.3476419413919416,
          3.2689763939763936,
          3.329326923076923,
          3.3928571428571437,
          3.350630850630852,
          3.3716168091168086,
          3.3873244810744816,
          3.3295812983313,
          3.3458613146113145,
          3.3175620675620667,
          3.249262311762313,
          3.344843813593814,
          3.2605820105820094,
          3.452062983312984,
          3.283920940170941,
          3.3278006715506714,
          3.3278642653642656,
          3.2893900081400065,
          3.411998880748879,
          3.3715532153032157,
          3.3488502238502242,
          3.388596357346357,
          3.3814102564102577,
          3.4004248066748057,
          3.28811813186813,
          3.327037545787545,
          3.321059727309727,
          3.3594703907203893,
          3.337721306471306,
          3.3004553317053316,
          3.3411553724053715,
          3.3342236467236464,
          3.421474358974358,
          3.3944469881969876,
          3.28074124949125,
          3.3272283272283256,
          3.4334299959299948,
          3.2427757427757444,
          3.4113629426129415,
          3.347641941391941,
          3.264652014652016,
          3.409200752950753,
          3.293396418396418,
          3.3318706756206757,
          3.366592897842899,
          3.2753993691493695,
          3.326655982905983,
          3.3431267806267795,
          3.4476750101750113,
          3.3183251933251943,
          3.3784849409849413,
          3.371680402930402,
          3.42433608058608,
          3.401124338624339,
          3.3049068986568977,
          3.363603988603989,
          3.321250508750508,
          3.3206781644281658,
          3.3852894790394785,
          3.2608999796499805,
          3.38567104192104,
          3.312538156288157,
          3.4533984533984525,
          3.49085520960521,
          3.3634768009768012,
          3.411998880748879,
          3.3382300569800556,
          3.3138736263736277,
          3.324048636548637,
          3.4058302808302816,
          3.240486365486365,
          3.37079008954009,
          3.3673560236060225,
          3.262553418803419,
          3.3851622914122914,
          3.3785485347985342,
          3.400869963369962,
          3.362014143264144,
          3.314636752136753,
          3.39266636141636,
          3.284366096866096,
          3.357626170126171,
          3.329644892144891,
          3.376640720390722,
          3.410154660154662,
          3.2785154660154663,
          3.4018874643874635,
          3.234190577940579,
          3.361632580382581,
          3.351521164021165,
          3.3192791005291,
          3.4004248066748075,
          3.324557387057387,
          3.3957824582824596,
          3.3927299552299552,
          3.3560999185999187,
          3.3162901912901925,
          3.3674832112332127,
          3.2775615588115596,
          3.311711436711437,
          3.3789936914936916,
          3.3279914529914536,
          3.355082417582418,
          3.2989926739926734,
          3.440043752543751,
          3.4052579365079354,
          3.3019179894179906,
          3.3790572853072844,
          3.3520299145299153,
          3.4409976597476604,
          3.364430708180708,
          3.369327431827432,
          3.4326668701668708,
          3.329772079772079,
          3.2989290801790805,
          3.33174348799349,
          3.358325702075702,
          3.213649776149776,
          3.3393111518111525,
          3.349740537240537,
          3.3921576109076104,
          3.3536833536833535,
          3.3234762922262924,
          3.3562907000407,
          3.3522206959706957,
          3.3090404965404967,
          3.324493793243794,
          3.3178164428164436,
          3.284048127798128,
          3.293078449328449,
          3.3892322954822958,
          3.418739824989823,
          3.223951973951973,
          3.3216956654456644,
          3.330980362230363,
          3.443159849409849,
          3.3533653846153846,
          3.3798204110704115,
          3.3402650590150595,
          3.338039275539277,
          3.3771494708994703,
          3.47266737891738,
          3.4225554538054532,
          3.360233516483515,
          3.3388024013024005,
          3.354637260887262,
          3.418676231176231,
          3.348850223850224,
          3.3401378713878724,
          3.247545278795279,
          3.3656389906389914,
          3.3715532153032153,
          3.3545736670736677,
          3.401633089133089,
          3.3819826007326,
          3.443032661782663,
          3.410345441595441,
          3.33377849002849,
          3.423954517704518,
          3.42217389092389,
          3.4464667277167256,
          3.323094729344731,
          3.347832722832722,
          3.3175620675620685,
          3.37447853072853,
          3.4618564306064292,
          3.316544566544566,
          3.3232219169719177,
          3.3126653439153433,
          3.352411477411478,
          3.329899267399267,
          3.432730463980466,
          3.310821123321123,
          3.3993437118437115,
          3.3816646316646337,
          3.4236365486365474,
          3.334732397232397,
          3.430377492877493,
          3.3167353479853485,
          3.4561329873829876,
          3.347451159951161,
          3.4137159137159134,
          3.4282153032153015,
          3.4662444037444047,
          3.4283424908424904,
          3.2650335775335777,
          3.439852971102973,
          3.421283577533577,
          3.4170227920227916,
          3.419630138380139,
          3.371871184371184,
          3.4422695360195354,
          3.451236263736266,
          3.348595848595851,
          3.3361950549450543,
          3.2984839234839245,
          3.314000814000815,
          3.3427452177452195,
          3.271265771265771,
          3.400361212861212,
          3.471586284086284,
          3.4093915343915335,
          3.3861161986161985,
          3.3389931827431822,
          3.332061457061457,
          3.38045634920635,
          3.450600325600327,
          3.318070818070817,
          3.411744505494506,
          3.375305250305248,
          3.4325396825396823,
          3.427897334147334,
          3.356290700040699,
          3.3207417582417587,
          3.3449710012210017,
          3.3555911680911685,
          3.356926638176638,
          3.37695868945869,
          3.417213573463575,
          3.357753357753357,
          3.3250661375661372,
          3.351330382580382,
          3.3709172771672766,
          3.35330179080179,
          3.3793116605616604,
          3.398199023199023,
          3.336830993080994,
          3.380201973951973,
          3.376640720390719,
          3.3547644485144477,
          3.326020044770044,
          3.316989723239723,
          3.3864341676841683,
          3.3679919617419602,
          3.3496133496133496,
          3.356608669108669,
          3.435464997964997,
          3.276989214489213,
          3.380201973951974,
          3.3854802604802594,
          3.5064992877492878,
          3.442078754578755,
          3.3173712861212876,
          3.324303011803011,
          3.3358134920634934,
          3.4324124949124957,
          3.32144129019129,
          3.363222425722426,
          3.410599816849816,
          3.4151149776149765,
          3.4242724867724874,
          3.410345441595441,
          3.3828729141229146,
          3.3278642653642656,
          3.3267831705331705,
          3.312092999592999,
          3.3791208791208796,
          3.330280830280829,
          3.4286604599104593,
          3.4094551282051277,
          3.308213776963777,
          3.441442816442816,
          3.4067205942205945,
          3.297784391534391,
          3.270184676434676,
          3.2904075091575105,
          3.291107041107041,
          3.4030957468457483,
          3.4103454415954393,
          3.329454110704111,
          3.32843660968661,
          3.421474358974358,
          3.3734610297110303,
          3.403540903540905,
          3.412698412698413,
          3.3692002442002433,
          3.360615079365079,
          3.389105107855108,
          3.427642958892959,
          3.3188975376475383,
          3.3917760480260495,
          3.3622685185185177,
          3.3251933251933252,
          3.3645578958078963,
          3.3782941595441596,
          3.3118386243386255,
          3.400933557183557,
          3.362077737077737,
          3.4008063695563693,
          3.3508216320716326,
          3.334350834350834,
          3.3538105413105406,
          3.4181038868538867,
          3.4333028083028085,
          3.3676103988603994,
          3.4195665445665444,
          3.4280245217745215,
          3.408056064306065,
          3.3872608872608887,
          3.3553367928367934,
          3.428024521774523,
          3.3954008954008965,
          3.3355591168091183,
          3.370980870980871,
          3.4061482498982496,
          3.4083104395604393,
          3.3347323972323952,
          3.3572446072446067,
          3.3588980463980467,
          3.295876577126577,
          3.46885175010175,
          3.357371794871796,
          3.3908857346357357,
          3.437881562881563,
          3.3293269230769234,
          3.3034442409442417,
          3.3756868131868134,
          3.4484381359381366,
          3.3297720797720807,
          3.373333842083843,
          3.401823870573869,
          3.3707900895400886,
          3.3224587912087906,
          3.2583562271062267,
          3.3482142857142865,
          3.39514652014652
         ],
         "y0": " ",
         "yaxis": "y"
        }
       ],
       "layout": {
        "boxmode": "group",
        "legend": {
         "tracegroupgap": 0
        },
        "template": {
         "data": {
          "bar": [
           {
            "error_x": {
             "color": "rgb(36,36,36)"
            },
            "error_y": {
             "color": "rgb(36,36,36)"
            },
            "marker": {
             "line": {
              "color": "white",
              "width": 0.5
             }
            },
            "type": "bar"
           }
          ],
          "barpolar": [
           {
            "marker": {
             "line": {
              "color": "white",
              "width": 0.5
             }
            },
            "type": "barpolar"
           }
          ],
          "carpet": [
           {
            "aaxis": {
             "endlinecolor": "rgb(36,36,36)",
             "gridcolor": "white",
             "linecolor": "white",
             "minorgridcolor": "white",
             "startlinecolor": "rgb(36,36,36)"
            },
            "baxis": {
             "endlinecolor": "rgb(36,36,36)",
             "gridcolor": "white",
             "linecolor": "white",
             "minorgridcolor": "white",
             "startlinecolor": "rgb(36,36,36)"
            },
            "type": "carpet"
           }
          ],
          "choropleth": [
           {
            "colorbar": {
             "outlinewidth": 1,
             "tickcolor": "rgb(36,36,36)",
             "ticks": "outside"
            },
            "type": "choropleth"
           }
          ],
          "contour": [
           {
            "colorbar": {
             "outlinewidth": 1,
             "tickcolor": "rgb(36,36,36)",
             "ticks": "outside"
            },
            "colorscale": [
             [
              0,
              "#440154"
             ],
             [
              0.1111111111111111,
              "#482878"
             ],
             [
              0.2222222222222222,
              "#3e4989"
             ],
             [
              0.3333333333333333,
              "#31688e"
             ],
             [
              0.4444444444444444,
              "#26828e"
             ],
             [
              0.5555555555555556,
              "#1f9e89"
             ],
             [
              0.6666666666666666,
              "#35b779"
             ],
             [
              0.7777777777777778,
              "#6ece58"
             ],
             [
              0.8888888888888888,
              "#b5de2b"
             ],
             [
              1,
              "#fde725"
             ]
            ],
            "type": "contour"
           }
          ],
          "contourcarpet": [
           {
            "colorbar": {
             "outlinewidth": 1,
             "tickcolor": "rgb(36,36,36)",
             "ticks": "outside"
            },
            "type": "contourcarpet"
           }
          ],
          "heatmap": [
           {
            "colorbar": {
             "outlinewidth": 1,
             "tickcolor": "rgb(36,36,36)",
             "ticks": "outside"
            },
            "colorscale": [
             [
              0,
              "#440154"
             ],
             [
              0.1111111111111111,
              "#482878"
             ],
             [
              0.2222222222222222,
              "#3e4989"
             ],
             [
              0.3333333333333333,
              "#31688e"
             ],
             [
              0.4444444444444444,
              "#26828e"
             ],
             [
              0.5555555555555556,
              "#1f9e89"
             ],
             [
              0.6666666666666666,
              "#35b779"
             ],
             [
              0.7777777777777778,
              "#6ece58"
             ],
             [
              0.8888888888888888,
              "#b5de2b"
             ],
             [
              1,
              "#fde725"
             ]
            ],
            "type": "heatmap"
           }
          ],
          "heatmapgl": [
           {
            "colorbar": {
             "outlinewidth": 1,
             "tickcolor": "rgb(36,36,36)",
             "ticks": "outside"
            },
            "colorscale": [
             [
              0,
              "#440154"
             ],
             [
              0.1111111111111111,
              "#482878"
             ],
             [
              0.2222222222222222,
              "#3e4989"
             ],
             [
              0.3333333333333333,
              "#31688e"
             ],
             [
              0.4444444444444444,
              "#26828e"
             ],
             [
              0.5555555555555556,
              "#1f9e89"
             ],
             [
              0.6666666666666666,
              "#35b779"
             ],
             [
              0.7777777777777778,
              "#6ece58"
             ],
             [
              0.8888888888888888,
              "#b5de2b"
             ],
             [
              1,
              "#fde725"
             ]
            ],
            "type": "heatmapgl"
           }
          ],
          "histogram": [
           {
            "marker": {
             "line": {
              "color": "white",
              "width": 0.6
             }
            },
            "type": "histogram"
           }
          ],
          "histogram2d": [
           {
            "colorbar": {
             "outlinewidth": 1,
             "tickcolor": "rgb(36,36,36)",
             "ticks": "outside"
            },
            "colorscale": [
             [
              0,
              "#440154"
             ],
             [
              0.1111111111111111,
              "#482878"
             ],
             [
              0.2222222222222222,
              "#3e4989"
             ],
             [
              0.3333333333333333,
              "#31688e"
             ],
             [
              0.4444444444444444,
              "#26828e"
             ],
             [
              0.5555555555555556,
              "#1f9e89"
             ],
             [
              0.6666666666666666,
              "#35b779"
             ],
             [
              0.7777777777777778,
              "#6ece58"
             ],
             [
              0.8888888888888888,
              "#b5de2b"
             ],
             [
              1,
              "#fde725"
             ]
            ],
            "type": "histogram2d"
           }
          ],
          "histogram2dcontour": [
           {
            "colorbar": {
             "outlinewidth": 1,
             "tickcolor": "rgb(36,36,36)",
             "ticks": "outside"
            },
            "colorscale": [
             [
              0,
              "#440154"
             ],
             [
              0.1111111111111111,
              "#482878"
             ],
             [
              0.2222222222222222,
              "#3e4989"
             ],
             [
              0.3333333333333333,
              "#31688e"
             ],
             [
              0.4444444444444444,
              "#26828e"
             ],
             [
              0.5555555555555556,
              "#1f9e89"
             ],
             [
              0.6666666666666666,
              "#35b779"
             ],
             [
              0.7777777777777778,
              "#6ece58"
             ],
             [
              0.8888888888888888,
              "#b5de2b"
             ],
             [
              1,
              "#fde725"
             ]
            ],
            "type": "histogram2dcontour"
           }
          ],
          "mesh3d": [
           {
            "colorbar": {
             "outlinewidth": 1,
             "tickcolor": "rgb(36,36,36)",
             "ticks": "outside"
            },
            "type": "mesh3d"
           }
          ],
          "parcoords": [
           {
            "line": {
             "colorbar": {
              "outlinewidth": 1,
              "tickcolor": "rgb(36,36,36)",
              "ticks": "outside"
             }
            },
            "type": "parcoords"
           }
          ],
          "pie": [
           {
            "automargin": true,
            "type": "pie"
           }
          ],
          "scatter": [
           {
            "marker": {
             "colorbar": {
              "outlinewidth": 1,
              "tickcolor": "rgb(36,36,36)",
              "ticks": "outside"
             }
            },
            "type": "scatter"
           }
          ],
          "scatter3d": [
           {
            "line": {
             "colorbar": {
              "outlinewidth": 1,
              "tickcolor": "rgb(36,36,36)",
              "ticks": "outside"
             }
            },
            "marker": {
             "colorbar": {
              "outlinewidth": 1,
              "tickcolor": "rgb(36,36,36)",
              "ticks": "outside"
             }
            },
            "type": "scatter3d"
           }
          ],
          "scattercarpet": [
           {
            "marker": {
             "colorbar": {
              "outlinewidth": 1,
              "tickcolor": "rgb(36,36,36)",
              "ticks": "outside"
             }
            },
            "type": "scattercarpet"
           }
          ],
          "scattergeo": [
           {
            "marker": {
             "colorbar": {
              "outlinewidth": 1,
              "tickcolor": "rgb(36,36,36)",
              "ticks": "outside"
             }
            },
            "type": "scattergeo"
           }
          ],
          "scattergl": [
           {
            "marker": {
             "colorbar": {
              "outlinewidth": 1,
              "tickcolor": "rgb(36,36,36)",
              "ticks": "outside"
             }
            },
            "type": "scattergl"
           }
          ],
          "scattermapbox": [
           {
            "marker": {
             "colorbar": {
              "outlinewidth": 1,
              "tickcolor": "rgb(36,36,36)",
              "ticks": "outside"
             }
            },
            "type": "scattermapbox"
           }
          ],
          "scatterpolar": [
           {
            "marker": {
             "colorbar": {
              "outlinewidth": 1,
              "tickcolor": "rgb(36,36,36)",
              "ticks": "outside"
             }
            },
            "type": "scatterpolar"
           }
          ],
          "scatterpolargl": [
           {
            "marker": {
             "colorbar": {
              "outlinewidth": 1,
              "tickcolor": "rgb(36,36,36)",
              "ticks": "outside"
             }
            },
            "type": "scatterpolargl"
           }
          ],
          "scatterternary": [
           {
            "marker": {
             "colorbar": {
              "outlinewidth": 1,
              "tickcolor": "rgb(36,36,36)",
              "ticks": "outside"
             }
            },
            "type": "scatterternary"
           }
          ],
          "surface": [
           {
            "colorbar": {
             "outlinewidth": 1,
             "tickcolor": "rgb(36,36,36)",
             "ticks": "outside"
            },
            "colorscale": [
             [
              0,
              "#440154"
             ],
             [
              0.1111111111111111,
              "#482878"
             ],
             [
              0.2222222222222222,
              "#3e4989"
             ],
             [
              0.3333333333333333,
              "#31688e"
             ],
             [
              0.4444444444444444,
              "#26828e"
             ],
             [
              0.5555555555555556,
              "#1f9e89"
             ],
             [
              0.6666666666666666,
              "#35b779"
             ],
             [
              0.7777777777777778,
              "#6ece58"
             ],
             [
              0.8888888888888888,
              "#b5de2b"
             ],
             [
              1,
              "#fde725"
             ]
            ],
            "type": "surface"
           }
          ],
          "table": [
           {
            "cells": {
             "fill": {
              "color": "rgb(237,237,237)"
             },
             "line": {
              "color": "white"
             }
            },
            "header": {
             "fill": {
              "color": "rgb(217,217,217)"
             },
             "line": {
              "color": "white"
             }
            },
            "type": "table"
           }
          ]
         },
         "layout": {
          "annotationdefaults": {
           "arrowhead": 0,
           "arrowwidth": 1
          },
          "coloraxis": {
           "colorbar": {
            "outlinewidth": 1,
            "tickcolor": "rgb(36,36,36)",
            "ticks": "outside"
           }
          },
          "colorscale": {
           "diverging": [
            [
             0,
             "rgb(103,0,31)"
            ],
            [
             0.1,
             "rgb(178,24,43)"
            ],
            [
             0.2,
             "rgb(214,96,77)"
            ],
            [
             0.3,
             "rgb(244,165,130)"
            ],
            [
             0.4,
             "rgb(253,219,199)"
            ],
            [
             0.5,
             "rgb(247,247,247)"
            ],
            [
             0.6,
             "rgb(209,229,240)"
            ],
            [
             0.7,
             "rgb(146,197,222)"
            ],
            [
             0.8,
             "rgb(67,147,195)"
            ],
            [
             0.9,
             "rgb(33,102,172)"
            ],
            [
             1,
             "rgb(5,48,97)"
            ]
           ],
           "sequential": [
            [
             0,
             "#440154"
            ],
            [
             0.1111111111111111,
             "#482878"
            ],
            [
             0.2222222222222222,
             "#3e4989"
            ],
            [
             0.3333333333333333,
             "#31688e"
            ],
            [
             0.4444444444444444,
             "#26828e"
            ],
            [
             0.5555555555555556,
             "#1f9e89"
            ],
            [
             0.6666666666666666,
             "#35b779"
            ],
            [
             0.7777777777777778,
             "#6ece58"
            ],
            [
             0.8888888888888888,
             "#b5de2b"
            ],
            [
             1,
             "#fde725"
            ]
           ],
           "sequentialminus": [
            [
             0,
             "#440154"
            ],
            [
             0.1111111111111111,
             "#482878"
            ],
            [
             0.2222222222222222,
             "#3e4989"
            ],
            [
             0.3333333333333333,
             "#31688e"
            ],
            [
             0.4444444444444444,
             "#26828e"
            ],
            [
             0.5555555555555556,
             "#1f9e89"
            ],
            [
             0.6666666666666666,
             "#35b779"
            ],
            [
             0.7777777777777778,
             "#6ece58"
            ],
            [
             0.8888888888888888,
             "#b5de2b"
            ],
            [
             1,
             "#fde725"
            ]
           ]
          },
          "colorway": [
           "#1F77B4",
           "#FF7F0E",
           "#2CA02C",
           "#D62728",
           "#9467BD",
           "#8C564B",
           "#E377C2",
           "#7F7F7F",
           "#BCBD22",
           "#17BECF"
          ],
          "font": {
           "color": "rgb(36,36,36)"
          },
          "geo": {
           "bgcolor": "white",
           "lakecolor": "white",
           "landcolor": "white",
           "showlakes": true,
           "showland": true,
           "subunitcolor": "white"
          },
          "hoverlabel": {
           "align": "left"
          },
          "hovermode": "closest",
          "mapbox": {
           "style": "light"
          },
          "paper_bgcolor": "white",
          "plot_bgcolor": "white",
          "polar": {
           "angularaxis": {
            "gridcolor": "rgb(232,232,232)",
            "linecolor": "rgb(36,36,36)",
            "showgrid": false,
            "showline": true,
            "ticks": "outside"
           },
           "bgcolor": "white",
           "radialaxis": {
            "gridcolor": "rgb(232,232,232)",
            "linecolor": "rgb(36,36,36)",
            "showgrid": false,
            "showline": true,
            "ticks": "outside"
           }
          },
          "scene": {
           "xaxis": {
            "backgroundcolor": "white",
            "gridcolor": "rgb(232,232,232)",
            "gridwidth": 2,
            "linecolor": "rgb(36,36,36)",
            "showbackground": true,
            "showgrid": false,
            "showline": true,
            "ticks": "outside",
            "zeroline": false,
            "zerolinecolor": "rgb(36,36,36)"
           },
           "yaxis": {
            "backgroundcolor": "white",
            "gridcolor": "rgb(232,232,232)",
            "gridwidth": 2,
            "linecolor": "rgb(36,36,36)",
            "showbackground": true,
            "showgrid": false,
            "showline": true,
            "ticks": "outside",
            "zeroline": false,
            "zerolinecolor": "rgb(36,36,36)"
           },
           "zaxis": {
            "backgroundcolor": "white",
            "gridcolor": "rgb(232,232,232)",
            "gridwidth": 2,
            "linecolor": "rgb(36,36,36)",
            "showbackground": true,
            "showgrid": false,
            "showline": true,
            "ticks": "outside",
            "zeroline": false,
            "zerolinecolor": "rgb(36,36,36)"
           }
          },
          "shapedefaults": {
           "fillcolor": "black",
           "line": {
            "width": 0
           },
           "opacity": 0.3
          },
          "ternary": {
           "aaxis": {
            "gridcolor": "rgb(232,232,232)",
            "linecolor": "rgb(36,36,36)",
            "showgrid": false,
            "showline": true,
            "ticks": "outside"
           },
           "baxis": {
            "gridcolor": "rgb(232,232,232)",
            "linecolor": "rgb(36,36,36)",
            "showgrid": false,
            "showline": true,
            "ticks": "outside"
           },
           "bgcolor": "white",
           "caxis": {
            "gridcolor": "rgb(232,232,232)",
            "linecolor": "rgb(36,36,36)",
            "showgrid": false,
            "showline": true,
            "ticks": "outside"
           }
          },
          "title": {
           "x": 0.05
          },
          "xaxis": {
           "automargin": true,
           "gridcolor": "rgb(232,232,232)",
           "linecolor": "rgb(36,36,36)",
           "showgrid": false,
           "showline": true,
           "ticks": "outside",
           "title": {
            "standoff": 15
           },
           "zeroline": false,
           "zerolinecolor": "rgb(36,36,36)"
          },
          "yaxis": {
           "automargin": true,
           "gridcolor": "rgb(232,232,232)",
           "linecolor": "rgb(36,36,36)",
           "showgrid": false,
           "showline": true,
           "ticks": "outside",
           "title": {
            "standoff": 15
           },
           "zeroline": false,
           "zerolinecolor": "rgb(36,36,36)"
          }
         }
        },
        "title": {
         "text": "HousePressure g-pump-5 for all weeks "
        },
        "xaxis": {
         "anchor": "y",
         "domain": [
          0,
          1
         ],
         "title": {
          "text": "week"
         },
         "type": "category"
        },
        "yaxis": {
         "anchor": "x",
         "domain": [
          0,
          1
         ],
         "title": {
          "text": "feature_value"
         }
        }
       }
      },
      "text/html": [
       "<div>\n",
       "        \n",
       "        \n",
       "            <div id=\"02c76bb6-bd17-4286-ade5-05d7878238ce\" class=\"plotly-graph-div\" style=\"height:525px; width:100%;\"></div>\n",
       "            <script type=\"text/javascript\">\n",
       "                require([\"plotly\"], function(Plotly) {\n",
       "                    window.PLOTLYENV=window.PLOTLYENV || {};\n",
       "                    \n",
       "                if (document.getElementById(\"02c76bb6-bd17-4286-ade5-05d7878238ce\")) {\n",
       "                    Plotly.newPlot(\n",
       "                        '02c76bb6-bd17-4286-ade5-05d7878238ce',\n",
       "                        [{\"alignmentgroup\": \"True\", \"hoverlabel\": {\"namelength\": 0}, \"hovertemplate\": \"week=%{x}<br>feature_value=%{y}\", \"legendgroup\": \"\", \"marker\": {\"color\": \"#1F77B4\"}, \"name\": \"\", \"notched\": false, \"offsetgroup\": \"\", \"orientation\": \"v\", \"showlegend\": false, \"type\": \"box\", \"x\": [47, 47, 47, 47, 47, 47, 47, 47, 47, 47, 47, 47, 47, 47, 47, 47, 47, 47, 47, 47, 47, 47, 47, 47, 47, 47, 47, 47, 47, 47, 47, 47, 47, 47, 47, 47, 47, 47, 47, 47, 47, 47, 47, 47, 47, 47, 47, 47, 47, 47, 47, 47, 47, 47, 47, 47, 47, 47, 47, 47, 47, 47, 47, 47, 47, 47, 47, 47, 47, 47, 47, 47, 47, 47, 47, 47, 47, 47, 47, 47, 47, 47, 47, 47, 47, 47, 47, 47, 47, 47, 47, 47, 47, 47, 47, 47, 47, 47, 47, 47, 47, 47, 47, 47, 47, 47, 48, 48, 48, 48, 48, 48, 48, 48, 48, 48, 48, 48, 48, 48, 48, 48, 48, 48, 48, 48, 48, 48, 48, 48, 48, 48, 48, 48, 48, 48, 48, 48, 48, 48, 48, 48, 48, 48, 48, 48, 48, 48, 48, 48, 48, 48, 48, 48, 48, 48, 48, 48, 48, 48, 48, 48, 48, 48, 48, 48, 48, 48, 48, 48, 48, 48, 48, 48, 48, 48, 48, 48, 48, 48, 48, 48, 48, 48, 48, 48, 48, 48, 48, 48, 48, 48, 48, 48, 48, 48, 48, 48, 48, 48, 48, 48, 48, 48, 48, 48, 48, 48, 48, 48, 48, 48, 48, 48, 48, 48, 48, 48, 48, 48, 48, 48, 48, 48, 48, 48, 48, 48, 48, 48, 48, 48, 48, 48, 48, 48, 48, 48, 48, 48, 48, 48, 48, 48, 48, 48, 48, 48, 48, 48, 48, 48, 48, 48, 48, 48, 48, 48, 48, 48, 48, 48, 48, 48, 48, 48, 48, 48, 48, 48, 48, 48, 49, 49, 49, 49, 49, 49, 49, 49, 49, 49, 49, 49, 49, 49, 49, 49, 49, 49, 49, 49, 49, 49, 49, 49, 49, 49, 49, 49, 49, 50, 50, 50, 50, 50, 50, 50, 50, 50, 50, 50, 50, 50, 50, 50, 50, 50, 50, 50, 50, 50, 50, 50, 50, 50, 50, 50, 50, 50, 50, 50, 50, 50, 50, 50, 50, 50, 50, 50, 50, 51, 51, 51, 51, 51, 51, 51, 51, 51, 51, 51, 51, 51, 51, 51, 51, 51, 51, 51, 51, 51, 51, 51, 51, 51, 51, 51, 51, 51, 51, 51, 51, 51, 51, 51, 51, 51, 51, 51, 51, 51, 51, 51, 51, 51, 51, 51, 51, 51, 51, 51, 51, 51, 51, 51, 51, 51, 51, 51, 51, 51, 51, 51, 51, 51, 51, 51, 51, 51, 51, 51, 51, 51, 51, 51, 51, 51, 51, 51, 51, 51, 51, 51, 51, 51, 51, 51, 51, 51, 51, 51, 51, 51, 51, 51, 51, 51, 51, 51, 51, 51, 51, 51, 51, 51, 51, 51, 51, 51, 51, 51, 51, 51, 51, 51, 51, 51, 51, 51, 51, 51, 51, 51, 51, 51, 51, 51, 51, 51, 51, 51, 51, 51, 51, 51, 51, 51, 51, 51, 51, 51, 51, 51, 51, 51, 51, 51, 51, 51, 51, 52, 52, 52, 52, 52, 52, 52, 52, 52, 52, 52, 52, 52, 52, 52, 52, 52, 52, 52, 52, 52, 52, 52, 52, 52, 52, 52, 52, 52, 52, 52, 52, 52, 52, 52, 52, 52, 52, 52, 52, 52, 52, 52, 52, 52, 52, 52, 52, 52, 52, 52, 52, 52, 52, 52, 52, 52, 52, 52, 52, 52, 52, 52, 52, 52, 52, 52, 52, 52, 52, 52, 52, 52, 52, 52, 52, 52, 52, 52, 52, 52, 52, 52, 52, 52, 52, 52, 52, 52, 52, 52, 52, 52, 52, 52, 52, 52, 52, 52, 52, 52, 52, 52, 52, 52, 52, 52, 52, 52, 52, 52, 52, 52, 52, 52, 52, 52, 52, 52, 52, 52, 52, 52, 52, 52, 52, 52, 52, 52, 52, 52, 52, 52, 52, 52, 52, 52, 52, 52, 52, 52, 52, 52, 52, 52, 52, 52, 52, 52, 52, 52, 52, 52, 52, 52, 52, 52, 52, 52, 52, 52, 52, 52, 52, 52, 1, 1, 1, 1, 1, 1, 1, 1, 1, 1, 1, 1, 1, 1, 1, 1, 1, 1, 1, 1, 1, 1, 1, 1, 1, 1, 1, 1, 1, 1, 1, 1, 1, 1, 1, 1, 1, 1, 1, 1, 1, 1, 1, 1, 1, 1, 1, 1, 1, 1, 1, 1, 1, 1, 1, 1, 1, 1, 1, 1, 1, 1, 1, 1, 1, 1, 1, 1, 1, 1, 1, 1, 1, 1, 1, 1, 1, 1, 1, 1, 1, 1, 1, 1, 1, 1, 1, 1, 1, 1, 1, 1, 1, 1, 1, 1, 1, 1, 1, 1, 1, 1, 1, 1, 1, 1, 1, 1, 1, 1, 1, 1, 1, 1, 1, 1, 1, 1, 1, 1, 1, 1, 1, 1, 1, 1, 1, 1, 1, 1, 1, 1, 1, 1, 1, 1, 1, 1, 1, 1, 1, 1, 1, 1, 1, 1, 1, 1, 1, 1, 1, 1, 1, 1, 1, 1, 1, 1, 1, 1, 1, 1, 1, 1, 1, 1, 1, 1, 2, 2, 2, 2, 2, 2, 2, 2, 2, 2, 2, 2, 2, 2, 2, 2, 2], \"x0\": \" \", \"xaxis\": \"x\", \"y\": [3.1984423347788815, 3.30738705738706, 3.1996637950377798, 3.300391737891738, 3.281631562881564, 3.3402650590150595, 3.3041437728937724, 3.356481481481483, 3.2858923483923483, 3.3017908017908026, 3.2327915140415158, 3.2774170274170262, 3.236161986161985, 3.281122812372812, 3.2226165038665027, 3.34713319088319, 3.3241758241758235, 3.2421398046398053, 3.2226800976800973, 3.2691035816035825, 3.236225579975581, 3.2956539987789992, 3.3126123490706836, 3.2514245014245016, 3.2860195360195372, 3.3109483109483118, 3.261281542531543, 3.290598290598291, 3.3611874236874235, 3.3527930402930406, 3.29892908017908, 3.279024216524217, 3.312983312983313, 3.2759717134717135, 3.275272181522183, 3.330725986975987, 3.232219169719168, 3.336195054945056, 3.2983567358567356, 3.301091269841271, 3.337848494098496, 3.2991198616198627, 3.2590557590557587, 3.3170533170533165, 3.2532051282051295, 3.305542836792837, 3.3436355311355324, 3.380519943019944, 3.3207417582417595, 3.3143187830687832, 3.250343406593407, 3.2543498168498157, 3.3026175213675217, 3.291043447293447, 3.2885632885632883, 3.3676103988603994, 3.225923382173382, 3.252187627187625, 3.2525691900691895, 3.374669312169311, 3.3584528897028902, 3.3798840048840053, 3.3270375457875443, 3.291679385429386, 3.2363527676027655, 3.3246845746845746, 3.2602640415140414, 3.346815221815221, 3.2883089133089136, 3.324875356125356, 3.2774979649979663, 3.2650971713471715, 3.3581985144485134, 3.2912978225478233, 3.356926638176637, 3.38363603988604, 3.3048433048433066, 3.3382936507936507, 3.3312983312983313, 3.2349537037037046, 3.369391025641025, 3.3011548636548618, 3.4137159137159117, 3.312220187220186, 3.245001526251525, 3.274827024827024, 3.188530219780219, 3.255876068376068, 3.278897028897029, 3.376131969881969, 3.327291921041922, 3.3695818070818073, 3.4783272283272293, 3.2332366707366726, 3.302363146113146, 3.24074074074074, 3.294223137973139, 3.3094220594220594, 3.201948514448515, 3.2472909035409017, 3.369581807081806, 3.3064331501831483, 3.3328245828245815, 3.3305987993488, 3.349041005291005, 3.2220441595441582, 3.318007224257226, 3.297339234839234, 3.3291997354497354, 3.2457010582010573, 3.282458282458284, 3.169452075702076, 3.3397563085063076, 3.2444927757427755, 3.3106939356939353, 3.254731379731378, 3.2872278184778185, 3.25689356939357, 3.3662113349613354, 3.30509768009768, 3.2937779812779815, 3.2840481277981266, 3.2523148148148144, 3.2371794871794886, 3.248117623117622, 3.339883496133497, 3.1948896011396006, 3.328881766381766, 3.3013456450956458, 3.3312983312983313, 3.3106303418803424, 3.3386116198616214, 3.3600427350427347, 3.3253205128205128, 3.30109126984127, 3.322331603581604, 3.3038258038258035, 3.2647792022792026, 3.3452253764753768, 3.340455840455841, 3.303062678062678, 3.366020553520554, 3.3788029100529102, 3.4355285917785934, 3.312474562474563, 3.3276734839234834, 3.355209605209603, 3.3121565934065926, 3.3701541514041504, 3.2227436914936907, 3.278897028897028, 3.384971509971511, 3.3488502238502247, 3.2928240740740744, 3.3652574277574288, 3.2413766788766796, 3.252124033374032, 3.3192791005291, 3.360042735042736, 3.3357498982498988, 3.234508547008548, 3.3070690883190887, 3.3323158323158313, 3.1960978835978846, 3.235462454212453, 3.3567994505494503, 3.2363527676027695, 3.34096459096459, 3.292188135938135, 3.378548534798536, 3.332061457061457, 3.21873728123728, 3.3168625356125343, 3.3033806471306466, 3.2822675010175004, 3.3205509768009764, 3.3246209808709803, 3.309167684167686, 3.268531237281238, 3.2755265567765584, 3.2579746642246636, 3.2877365689865683, 3.2746362433862437, 3.280041717541718, 3.283348595848597, 3.3061787749287768, 3.3456705331705336, 3.3233491045991044, 3.3335877085877086, 3.283920940170941, 3.2582926332926334, 3.258165445665446, 3.3171805046805045, 3.3467516280016274, 3.432030932030932, 3.3498677248677247, 3.3613782051282057, 3.321250508750508, 3.223697598697599, 3.227513227513229, 3.300900488400488, 3.302490333740335, 3.2256054131054146, 3.269803113553113, 3.2447471509971506, 3.298801892551891, 3.336830993080994, 3.310566748066748, 3.2199455636955623, 3.20754477004477, 3.3280550468050465, 3.2507249694749696, 3.3649394586894594, 3.2902167277167287, 3.226241351241353, 3.3004553317053307, 3.2851928164428172, 3.3037622100122106, 3.303317053317056, 3.2128230565730562, 3.2858287545787532, 3.292824074074074, 3.3486594424094434, 3.3176256613756596, 3.268912800162799, 3.2255418192918195, 3.2235704110704106, 3.3319342694342695, 3.263507326007326, 3.2594373219373214, 3.28856328856329, 3.2682768620268625, 3.3307259869759864, 3.168625356125356, 3.220517908017909, 3.3489138176638185, 3.2500890313390323, 3.275908119658118, 3.2996286121286125, 3.2848112535612537, 3.2977207977207965, 3.286401098901099, 3.3316163003663006, 3.169642857142858, 3.3244301994301986, 3.3593432030932036, 3.3684371184371176, 3.3565450752950756, 3.2667887667887676, 3.279278591778592, 3.36430352055352, 3.28175875050875, 3.404685592185592, 3.3253841066341074, 3.2753993691493695, 3.2795965608465596, 3.2230616605616595, 3.3733974358974343, 3.2904711029711042, 3.326465201465202, 3.289898758648757, 3.3055428367928372, 3.3009640822140827, 3.238642144892143, 3.3345416157916166, 3.267004985754985, 3.291361416361416, 3.231837606837605, 3.300836894586894, 3.313555657305658, 3.2565756003256006, 3.2631257631257626, 3.4308862433862415, 3.3707900895400904, 3.2069088319088306, 3.257338726088728, 3.300900488400489, 3.257720288970289, 3.206845238095239, 3.3095492470492474, 3.3486594424094434, 3.2680224867724887, 3.2314560439560434, 3.280168905168905, 3.3217592592592595, 3.316798941798942, 3.319406288156289, 3.3059879934879923, 3.258038258038257, 3.384589947089946, 3.3606150793650786, 3.276289682539682, 3.300836894586895, 3.236988705738708, 3.2760353072853072, 3.26942155067155, 3.3296448921448913, 3.338865995115995, 3.3412189662189675, 3.3076414326414336, 3.2848112535612555, 3.3978174603174596, 3.4310134310134313, 3.4584223646723617, 3.377785409035408, 3.359533984533984, 3.4275157712657696, 3.4448768823768816, 3.4582951770451764, 3.3292633292633282, 3.4876119251119246, 3.391903235653236, 3.4095823158323166, 3.303762210012208, 3.387388074888074, 3.3851622914122927, 3.414733414733414, 3.3676103988603985, 3.4356557794057796, 3.4307590557590566, 3.3502492877492887, 3.3808379120879093, 3.396227614977615, 3.398834961334961, 3.394001831501832, 3.358580077330078, 3.406211843711844, 3.3764499389499387, 3.387070105820106, 3.4123804436304432, 3.4068477818477825, 3.3503764753764753, 3.399725274725274, 3.411362942612943, 3.4088827838827847, 3.468724562474563, 3.3791844729344724, 3.3644307081807074, 3.45282610907611, 3.474066442816445, 3.530474155474156, 3.5105692918192926, 3.4888838013838, 3.4462123524623536, 3.4055123117623136, 3.3732066544566544, 3.4892653642653646, 3.432603276353277, 3.372634310134312, 3.280168905168905, 3.3826185388685395, 3.3046525234025217, 3.4261167073667074, 3.4135251322751348, 3.3528566341066366, 3.26725936100936, 3.269675925925925, 3.2995014245014254, 3.2736823361823375, 3.372061965811966, 3.328881766381768, 3.3842083842083834, 3.3625864875864875, 3.332061457061457, 3.3246845746845755, 3.431267806267806, 3.2720288970288958, 3.3450981888481888, 3.3333333333333326, 3.293078449328451, 3.34662444037444, 3.3624592999592995, 3.267704517704517, 3.338548026048027, 3.399343711843713, 3.2891356328856336, 3.377785409035408, 3.478835978835978, 3.2671321733821723, 3.4014423076923097, 3.3797568172568178, 3.3506944444444433, 3.3926663614163606, 3.352475071225071, 3.3636675824175835, 3.310375966625967, 3.317562067562067, 3.3367038054538045, 3.300010175010176, 3.4018874643874644, 3.4022054334554355, 3.3433175620675613, 3.350694444444445, 3.4453220390720394, 3.3770858770858765, 3.445385632885634, 3.428151709401709, 3.4126348188848183, 3.3764499389499396, 3.424463268213269, 3.4516178266178277, 3.480107855107855, 3.442078754578754, 3.4279609279609295, 3.372443528693529, 3.4303774928774917, 3.4417607855107843, 3.433302808302809, 3.4180402930402924, 3.3648122710622714, 3.4114901302401317, 3.530092592592592, 3.415369352869352, 3.4565145502645502, 3.4698056573056575, 3.282013125763125, 3.278006715506716, 3.4535256410256423, 3.3087225274725274, 3.345034595034596, 3.333015364265364, 3.3236034798534795, 3.395718864468865, 3.326783170533169, 3.286019536019536, 3.257656695156694, 3.3026811151811177, 3.3862433862433856, 3.310312372812374, 3.345988502238502, 3.2617902930402933, 3.4216015466015466, 3.313810032560033, 3.324875356125357, 3.3851622914122905, 3.3212505087505093, 3.361759768009769, 3.323221916971916, 3.3494225681725687, 3.3577533577533583, 3.3868793243793243, 3.381982600732602, 3.337975681725682, 3.3665928978428963, 3.275081400081399, 3.257211538461537, 3.339756308506308, 3.405257936507935, 3.351839133089133, 3.2979115791615787, 3.3547008547008565, 3.384081196581196, 3.2633801383801373, 3.3144459706959704, 3.3868793243793225, 3.3717439967439975, 3.327419108669108, 3.31177503052503, 3.4104090354090357, 3.2612179487179476, 3.34878663003663, 3.332760989010989, 3.4012515262515257, 3.3282458282458283, 3.316480972730974, 3.3857982295482287, 3.339374745624747, 3.3228403540903546, 3.2578474765974765, 3.342999592999592, 3.30643315018315, 3.3222680097680093, 3.3406466218966226, 3.3485322547822527, 3.269993894993895, 3.3326338013838, 3.360169922669922, 3.324239417989419, 3.3910129222629215, 3.3467516280016274, 3.320678164428164, 3.4011879324379333, 3.423445767195768, 3.3789300976800987, 3.3751144688644703, 3.350885225885227, 3.426561864061865, 3.290025946275946, 3.3576897639397623, 3.392221204721205, 3.280868437118438, 3.4478021978021993, 3.4516178266178255, 3.3492953805453802, 3.4488196988196997, 3.3353683353683343, 3.3148911273911286, 3.304779711029711, 3.3327609890109904, 3.287291412291412, 3.343635531135531, 3.3386752136752142, 3.3143187830687832, 3.30560643060643, 3.3219500407000404, 3.2742546805046797, 3.4251628001627985, 3.429296398046396, 3.4382631257631253, 3.3830636955636972, 3.403350122100122, 3.390313390313391, 3.382872914122915, 3.3131105006105, 3.3816010378510364, 3.3476419413919416, 3.2689763939763936, 3.329326923076923, 3.3928571428571437, 3.350630850630852, 3.3716168091168086, 3.3873244810744816, 3.3295812983313, 3.3458613146113145, 3.3175620675620667, 3.249262311762313, 3.344843813593814, 3.2605820105820094, 3.452062983312984, 3.283920940170941, 3.3278006715506714, 3.3278642653642656, 3.2893900081400065, 3.411998880748879, 3.3715532153032157, 3.3488502238502242, 3.388596357346357, 3.3814102564102577, 3.4004248066748057, 3.28811813186813, 3.327037545787545, 3.321059727309727, 3.3594703907203893, 3.337721306471306, 3.3004553317053316, 3.3411553724053715, 3.3342236467236464, 3.421474358974358, 3.3944469881969876, 3.28074124949125, 3.3272283272283256, 3.4334299959299948, 3.2427757427757444, 3.4113629426129415, 3.347641941391941, 3.264652014652016, 3.409200752950753, 3.293396418396418, 3.3318706756206757, 3.366592897842899, 3.2753993691493695, 3.326655982905983, 3.3431267806267795, 3.4476750101750113, 3.3183251933251943, 3.3784849409849413, 3.371680402930402, 3.42433608058608, 3.401124338624339, 3.3049068986568977, 3.363603988603989, 3.321250508750508, 3.3206781644281658, 3.3852894790394785, 3.2608999796499805, 3.38567104192104, 3.312538156288157, 3.4533984533984525, 3.49085520960521, 3.3634768009768012, 3.411998880748879, 3.3382300569800556, 3.3138736263736277, 3.324048636548637, 3.4058302808302816, 3.240486365486365, 3.37079008954009, 3.3673560236060225, 3.262553418803419, 3.3851622914122914, 3.3785485347985342, 3.400869963369962, 3.362014143264144, 3.314636752136753, 3.39266636141636, 3.284366096866096, 3.357626170126171, 3.329644892144891, 3.376640720390722, 3.410154660154662, 3.2785154660154663, 3.4018874643874635, 3.234190577940579, 3.361632580382581, 3.351521164021165, 3.3192791005291, 3.4004248066748075, 3.324557387057387, 3.3957824582824596, 3.3927299552299552, 3.3560999185999187, 3.3162901912901925, 3.3674832112332127, 3.2775615588115596, 3.311711436711437, 3.3789936914936916, 3.3279914529914536, 3.355082417582418, 3.2989926739926734, 3.440043752543751, 3.4052579365079354, 3.3019179894179906, 3.3790572853072844, 3.3520299145299153, 3.4409976597476604, 3.364430708180708, 3.369327431827432, 3.4326668701668708, 3.329772079772079, 3.2989290801790805, 3.33174348799349, 3.358325702075702, 3.213649776149776, 3.3393111518111525, 3.349740537240537, 3.3921576109076104, 3.3536833536833535, 3.3234762922262924, 3.3562907000407, 3.3522206959706957, 3.3090404965404967, 3.324493793243794, 3.3178164428164436, 3.284048127798128, 3.293078449328449, 3.3892322954822958, 3.418739824989823, 3.223951973951973, 3.3216956654456644, 3.330980362230363, 3.443159849409849, 3.3533653846153846, 3.3798204110704115, 3.3402650590150595, 3.338039275539277, 3.3771494708994703, 3.47266737891738, 3.4225554538054532, 3.360233516483515, 3.3388024013024005, 3.354637260887262, 3.418676231176231, 3.348850223850224, 3.3401378713878724, 3.247545278795279, 3.3656389906389914, 3.3715532153032153, 3.3545736670736677, 3.401633089133089, 3.3819826007326, 3.443032661782663, 3.410345441595441, 3.33377849002849, 3.423954517704518, 3.42217389092389, 3.4464667277167256, 3.323094729344731, 3.347832722832722, 3.3175620675620685, 3.37447853072853, 3.4618564306064292, 3.316544566544566, 3.3232219169719177, 3.3126653439153433, 3.352411477411478, 3.329899267399267, 3.432730463980466, 3.310821123321123, 3.3993437118437115, 3.3816646316646337, 3.4236365486365474, 3.334732397232397, 3.430377492877493, 3.3167353479853485, 3.4561329873829876, 3.347451159951161, 3.4137159137159134, 3.4282153032153015, 3.4662444037444047, 3.4283424908424904, 3.2650335775335777, 3.439852971102973, 3.421283577533577, 3.4170227920227916, 3.419630138380139, 3.371871184371184, 3.4422695360195354, 3.451236263736266, 3.348595848595851, 3.3361950549450543, 3.2984839234839245, 3.314000814000815, 3.3427452177452195, 3.271265771265771, 3.400361212861212, 3.471586284086284, 3.4093915343915335, 3.3861161986161985, 3.3389931827431822, 3.332061457061457, 3.38045634920635, 3.450600325600327, 3.318070818070817, 3.411744505494506, 3.375305250305248, 3.4325396825396823, 3.427897334147334, 3.356290700040699, 3.3207417582417587, 3.3449710012210017, 3.3555911680911685, 3.356926638176638, 3.37695868945869, 3.417213573463575, 3.357753357753357, 3.3250661375661372, 3.351330382580382, 3.3709172771672766, 3.35330179080179, 3.3793116605616604, 3.398199023199023, 3.336830993080994, 3.380201973951973, 3.376640720390719, 3.3547644485144477, 3.326020044770044, 3.316989723239723, 3.3864341676841683, 3.3679919617419602, 3.3496133496133496, 3.356608669108669, 3.435464997964997, 3.276989214489213, 3.380201973951974, 3.3854802604802594, 3.5064992877492878, 3.442078754578755, 3.3173712861212876, 3.324303011803011, 3.3358134920634934, 3.4324124949124957, 3.32144129019129, 3.363222425722426, 3.410599816849816, 3.4151149776149765, 3.4242724867724874, 3.410345441595441, 3.3828729141229146, 3.3278642653642656, 3.3267831705331705, 3.312092999592999, 3.3791208791208796, 3.330280830280829, 3.4286604599104593, 3.4094551282051277, 3.308213776963777, 3.441442816442816, 3.4067205942205945, 3.297784391534391, 3.270184676434676, 3.2904075091575105, 3.291107041107041, 3.4030957468457483, 3.4103454415954393, 3.329454110704111, 3.32843660968661, 3.421474358974358, 3.3734610297110303, 3.403540903540905, 3.412698412698413, 3.3692002442002433, 3.360615079365079, 3.389105107855108, 3.427642958892959, 3.3188975376475383, 3.3917760480260495, 3.3622685185185177, 3.3251933251933252, 3.3645578958078963, 3.3782941595441596, 3.3118386243386255, 3.400933557183557, 3.362077737077737, 3.4008063695563693, 3.3508216320716326, 3.334350834350834, 3.3538105413105406, 3.4181038868538867, 3.4333028083028085, 3.3676103988603994, 3.4195665445665444, 3.4280245217745215, 3.408056064306065, 3.3872608872608887, 3.3553367928367934, 3.428024521774523, 3.3954008954008965, 3.3355591168091183, 3.370980870980871, 3.4061482498982496, 3.4083104395604393, 3.3347323972323952, 3.3572446072446067, 3.3588980463980467, 3.295876577126577, 3.46885175010175, 3.357371794871796, 3.3908857346357357, 3.437881562881563, 3.3293269230769234, 3.3034442409442417, 3.3756868131868134, 3.4484381359381366, 3.3297720797720807, 3.373333842083843, 3.401823870573869, 3.3707900895400886, 3.3224587912087906, 3.2583562271062267, 3.3482142857142865, 3.39514652014652], \"y0\": \" \", \"yaxis\": \"y\"}],\n",
       "                        {\"boxmode\": \"group\", \"legend\": {\"tracegroupgap\": 0}, \"template\": {\"data\": {\"bar\": [{\"error_x\": {\"color\": \"rgb(36,36,36)\"}, \"error_y\": {\"color\": \"rgb(36,36,36)\"}, \"marker\": {\"line\": {\"color\": \"white\", \"width\": 0.5}}, \"type\": \"bar\"}], \"barpolar\": [{\"marker\": {\"line\": {\"color\": \"white\", \"width\": 0.5}}, \"type\": \"barpolar\"}], \"carpet\": [{\"aaxis\": {\"endlinecolor\": \"rgb(36,36,36)\", \"gridcolor\": \"white\", \"linecolor\": \"white\", \"minorgridcolor\": \"white\", \"startlinecolor\": \"rgb(36,36,36)\"}, \"baxis\": {\"endlinecolor\": \"rgb(36,36,36)\", \"gridcolor\": \"white\", \"linecolor\": \"white\", \"minorgridcolor\": \"white\", \"startlinecolor\": \"rgb(36,36,36)\"}, \"type\": \"carpet\"}], \"choropleth\": [{\"colorbar\": {\"outlinewidth\": 1, \"tickcolor\": \"rgb(36,36,36)\", \"ticks\": \"outside\"}, \"type\": \"choropleth\"}], \"contour\": [{\"colorbar\": {\"outlinewidth\": 1, \"tickcolor\": \"rgb(36,36,36)\", \"ticks\": \"outside\"}, \"colorscale\": [[0.0, \"#440154\"], [0.1111111111111111, \"#482878\"], [0.2222222222222222, \"#3e4989\"], [0.3333333333333333, \"#31688e\"], [0.4444444444444444, \"#26828e\"], [0.5555555555555556, \"#1f9e89\"], [0.6666666666666666, \"#35b779\"], [0.7777777777777778, \"#6ece58\"], [0.8888888888888888, \"#b5de2b\"], [1.0, \"#fde725\"]], \"type\": \"contour\"}], \"contourcarpet\": [{\"colorbar\": {\"outlinewidth\": 1, \"tickcolor\": \"rgb(36,36,36)\", \"ticks\": \"outside\"}, \"type\": \"contourcarpet\"}], \"heatmap\": [{\"colorbar\": {\"outlinewidth\": 1, \"tickcolor\": \"rgb(36,36,36)\", \"ticks\": \"outside\"}, \"colorscale\": [[0.0, \"#440154\"], [0.1111111111111111, \"#482878\"], [0.2222222222222222, \"#3e4989\"], [0.3333333333333333, \"#31688e\"], [0.4444444444444444, \"#26828e\"], [0.5555555555555556, \"#1f9e89\"], [0.6666666666666666, \"#35b779\"], [0.7777777777777778, \"#6ece58\"], [0.8888888888888888, \"#b5de2b\"], [1.0, \"#fde725\"]], \"type\": \"heatmap\"}], \"heatmapgl\": [{\"colorbar\": {\"outlinewidth\": 1, \"tickcolor\": \"rgb(36,36,36)\", \"ticks\": \"outside\"}, \"colorscale\": [[0.0, \"#440154\"], [0.1111111111111111, \"#482878\"], [0.2222222222222222, \"#3e4989\"], [0.3333333333333333, \"#31688e\"], [0.4444444444444444, \"#26828e\"], [0.5555555555555556, \"#1f9e89\"], [0.6666666666666666, \"#35b779\"], [0.7777777777777778, \"#6ece58\"], [0.8888888888888888, \"#b5de2b\"], [1.0, \"#fde725\"]], \"type\": \"heatmapgl\"}], \"histogram\": [{\"marker\": {\"line\": {\"color\": \"white\", \"width\": 0.6}}, \"type\": \"histogram\"}], \"histogram2d\": [{\"colorbar\": {\"outlinewidth\": 1, \"tickcolor\": \"rgb(36,36,36)\", \"ticks\": \"outside\"}, \"colorscale\": [[0.0, \"#440154\"], [0.1111111111111111, \"#482878\"], [0.2222222222222222, \"#3e4989\"], [0.3333333333333333, \"#31688e\"], [0.4444444444444444, \"#26828e\"], [0.5555555555555556, \"#1f9e89\"], [0.6666666666666666, \"#35b779\"], [0.7777777777777778, \"#6ece58\"], [0.8888888888888888, \"#b5de2b\"], [1.0, \"#fde725\"]], \"type\": \"histogram2d\"}], \"histogram2dcontour\": [{\"colorbar\": {\"outlinewidth\": 1, \"tickcolor\": \"rgb(36,36,36)\", \"ticks\": \"outside\"}, \"colorscale\": [[0.0, \"#440154\"], [0.1111111111111111, \"#482878\"], [0.2222222222222222, \"#3e4989\"], [0.3333333333333333, \"#31688e\"], [0.4444444444444444, \"#26828e\"], [0.5555555555555556, \"#1f9e89\"], [0.6666666666666666, \"#35b779\"], [0.7777777777777778, \"#6ece58\"], [0.8888888888888888, \"#b5de2b\"], [1.0, \"#fde725\"]], \"type\": \"histogram2dcontour\"}], \"mesh3d\": [{\"colorbar\": {\"outlinewidth\": 1, \"tickcolor\": \"rgb(36,36,36)\", \"ticks\": \"outside\"}, \"type\": \"mesh3d\"}], \"parcoords\": [{\"line\": {\"colorbar\": {\"outlinewidth\": 1, \"tickcolor\": \"rgb(36,36,36)\", \"ticks\": \"outside\"}}, \"type\": \"parcoords\"}], \"pie\": [{\"automargin\": true, \"type\": \"pie\"}], \"scatter\": [{\"marker\": {\"colorbar\": {\"outlinewidth\": 1, \"tickcolor\": \"rgb(36,36,36)\", \"ticks\": \"outside\"}}, \"type\": \"scatter\"}], \"scatter3d\": [{\"line\": {\"colorbar\": {\"outlinewidth\": 1, \"tickcolor\": \"rgb(36,36,36)\", \"ticks\": \"outside\"}}, \"marker\": {\"colorbar\": {\"outlinewidth\": 1, \"tickcolor\": \"rgb(36,36,36)\", \"ticks\": \"outside\"}}, \"type\": \"scatter3d\"}], \"scattercarpet\": [{\"marker\": {\"colorbar\": {\"outlinewidth\": 1, \"tickcolor\": \"rgb(36,36,36)\", \"ticks\": \"outside\"}}, \"type\": \"scattercarpet\"}], \"scattergeo\": [{\"marker\": {\"colorbar\": {\"outlinewidth\": 1, \"tickcolor\": \"rgb(36,36,36)\", \"ticks\": \"outside\"}}, \"type\": \"scattergeo\"}], \"scattergl\": [{\"marker\": {\"colorbar\": {\"outlinewidth\": 1, \"tickcolor\": \"rgb(36,36,36)\", \"ticks\": \"outside\"}}, \"type\": \"scattergl\"}], \"scattermapbox\": [{\"marker\": {\"colorbar\": {\"outlinewidth\": 1, \"tickcolor\": \"rgb(36,36,36)\", \"ticks\": \"outside\"}}, \"type\": \"scattermapbox\"}], \"scatterpolar\": [{\"marker\": {\"colorbar\": {\"outlinewidth\": 1, \"tickcolor\": \"rgb(36,36,36)\", \"ticks\": \"outside\"}}, \"type\": \"scatterpolar\"}], \"scatterpolargl\": [{\"marker\": {\"colorbar\": {\"outlinewidth\": 1, \"tickcolor\": \"rgb(36,36,36)\", \"ticks\": \"outside\"}}, \"type\": \"scatterpolargl\"}], \"scatterternary\": [{\"marker\": {\"colorbar\": {\"outlinewidth\": 1, \"tickcolor\": \"rgb(36,36,36)\", \"ticks\": \"outside\"}}, \"type\": \"scatterternary\"}], \"surface\": [{\"colorbar\": {\"outlinewidth\": 1, \"tickcolor\": \"rgb(36,36,36)\", \"ticks\": \"outside\"}, \"colorscale\": [[0.0, \"#440154\"], [0.1111111111111111, \"#482878\"], [0.2222222222222222, \"#3e4989\"], [0.3333333333333333, \"#31688e\"], [0.4444444444444444, \"#26828e\"], [0.5555555555555556, \"#1f9e89\"], [0.6666666666666666, \"#35b779\"], [0.7777777777777778, \"#6ece58\"], [0.8888888888888888, \"#b5de2b\"], [1.0, \"#fde725\"]], \"type\": \"surface\"}], \"table\": [{\"cells\": {\"fill\": {\"color\": \"rgb(237,237,237)\"}, \"line\": {\"color\": \"white\"}}, \"header\": {\"fill\": {\"color\": \"rgb(217,217,217)\"}, \"line\": {\"color\": \"white\"}}, \"type\": \"table\"}]}, \"layout\": {\"annotationdefaults\": {\"arrowhead\": 0, \"arrowwidth\": 1}, \"coloraxis\": {\"colorbar\": {\"outlinewidth\": 1, \"tickcolor\": \"rgb(36,36,36)\", \"ticks\": \"outside\"}}, \"colorscale\": {\"diverging\": [[0.0, \"rgb(103,0,31)\"], [0.1, \"rgb(178,24,43)\"], [0.2, \"rgb(214,96,77)\"], [0.3, \"rgb(244,165,130)\"], [0.4, \"rgb(253,219,199)\"], [0.5, \"rgb(247,247,247)\"], [0.6, \"rgb(209,229,240)\"], [0.7, \"rgb(146,197,222)\"], [0.8, \"rgb(67,147,195)\"], [0.9, \"rgb(33,102,172)\"], [1.0, \"rgb(5,48,97)\"]], \"sequential\": [[0.0, \"#440154\"], [0.1111111111111111, \"#482878\"], [0.2222222222222222, \"#3e4989\"], [0.3333333333333333, \"#31688e\"], [0.4444444444444444, \"#26828e\"], [0.5555555555555556, \"#1f9e89\"], [0.6666666666666666, \"#35b779\"], [0.7777777777777778, \"#6ece58\"], [0.8888888888888888, \"#b5de2b\"], [1.0, \"#fde725\"]], \"sequentialminus\": [[0.0, \"#440154\"], [0.1111111111111111, \"#482878\"], [0.2222222222222222, \"#3e4989\"], [0.3333333333333333, \"#31688e\"], [0.4444444444444444, \"#26828e\"], [0.5555555555555556, \"#1f9e89\"], [0.6666666666666666, \"#35b779\"], [0.7777777777777778, \"#6ece58\"], [0.8888888888888888, \"#b5de2b\"], [1.0, \"#fde725\"]]}, \"colorway\": [\"#1F77B4\", \"#FF7F0E\", \"#2CA02C\", \"#D62728\", \"#9467BD\", \"#8C564B\", \"#E377C2\", \"#7F7F7F\", \"#BCBD22\", \"#17BECF\"], \"font\": {\"color\": \"rgb(36,36,36)\"}, \"geo\": {\"bgcolor\": \"white\", \"lakecolor\": \"white\", \"landcolor\": \"white\", \"showlakes\": true, \"showland\": true, \"subunitcolor\": \"white\"}, \"hoverlabel\": {\"align\": \"left\"}, \"hovermode\": \"closest\", \"mapbox\": {\"style\": \"light\"}, \"paper_bgcolor\": \"white\", \"plot_bgcolor\": \"white\", \"polar\": {\"angularaxis\": {\"gridcolor\": \"rgb(232,232,232)\", \"linecolor\": \"rgb(36,36,36)\", \"showgrid\": false, \"showline\": true, \"ticks\": \"outside\"}, \"bgcolor\": \"white\", \"radialaxis\": {\"gridcolor\": \"rgb(232,232,232)\", \"linecolor\": \"rgb(36,36,36)\", \"showgrid\": false, \"showline\": true, \"ticks\": \"outside\"}}, \"scene\": {\"xaxis\": {\"backgroundcolor\": \"white\", \"gridcolor\": \"rgb(232,232,232)\", \"gridwidth\": 2, \"linecolor\": \"rgb(36,36,36)\", \"showbackground\": true, \"showgrid\": false, \"showline\": true, \"ticks\": \"outside\", \"zeroline\": false, \"zerolinecolor\": \"rgb(36,36,36)\"}, \"yaxis\": {\"backgroundcolor\": \"white\", \"gridcolor\": \"rgb(232,232,232)\", \"gridwidth\": 2, \"linecolor\": \"rgb(36,36,36)\", \"showbackground\": true, \"showgrid\": false, \"showline\": true, \"ticks\": \"outside\", \"zeroline\": false, \"zerolinecolor\": \"rgb(36,36,36)\"}, \"zaxis\": {\"backgroundcolor\": \"white\", \"gridcolor\": \"rgb(232,232,232)\", \"gridwidth\": 2, \"linecolor\": \"rgb(36,36,36)\", \"showbackground\": true, \"showgrid\": false, \"showline\": true, \"ticks\": \"outside\", \"zeroline\": false, \"zerolinecolor\": \"rgb(36,36,36)\"}}, \"shapedefaults\": {\"fillcolor\": \"black\", \"line\": {\"width\": 0}, \"opacity\": 0.3}, \"ternary\": {\"aaxis\": {\"gridcolor\": \"rgb(232,232,232)\", \"linecolor\": \"rgb(36,36,36)\", \"showgrid\": false, \"showline\": true, \"ticks\": \"outside\"}, \"baxis\": {\"gridcolor\": \"rgb(232,232,232)\", \"linecolor\": \"rgb(36,36,36)\", \"showgrid\": false, \"showline\": true, \"ticks\": \"outside\"}, \"bgcolor\": \"white\", \"caxis\": {\"gridcolor\": \"rgb(232,232,232)\", \"linecolor\": \"rgb(36,36,36)\", \"showgrid\": false, \"showline\": true, \"ticks\": \"outside\"}}, \"title\": {\"x\": 0.05}, \"xaxis\": {\"automargin\": true, \"gridcolor\": \"rgb(232,232,232)\", \"linecolor\": \"rgb(36,36,36)\", \"showgrid\": false, \"showline\": true, \"ticks\": \"outside\", \"title\": {\"standoff\": 15}, \"zeroline\": false, \"zerolinecolor\": \"rgb(36,36,36)\"}, \"yaxis\": {\"automargin\": true, \"gridcolor\": \"rgb(232,232,232)\", \"linecolor\": \"rgb(36,36,36)\", \"showgrid\": false, \"showline\": true, \"ticks\": \"outside\", \"title\": {\"standoff\": 15}, \"zeroline\": false, \"zerolinecolor\": \"rgb(36,36,36)\"}}}, \"title\": {\"text\": \"HousePressure g-pump-5 for all weeks \"}, \"xaxis\": {\"anchor\": \"y\", \"domain\": [0.0, 1.0], \"title\": {\"text\": \"week\"}, \"type\": \"category\"}, \"yaxis\": {\"anchor\": \"x\", \"domain\": [0.0, 1.0], \"title\": {\"text\": \"feature_value\"}}},\n",
       "                        {\"responsive\": true}\n",
       "                    ).then(function(){\n",
       "                            \n",
       "var gd = document.getElementById('02c76bb6-bd17-4286-ade5-05d7878238ce');\n",
       "var x = new MutationObserver(function (mutations, observer) {{\n",
       "        var display = window.getComputedStyle(gd).display;\n",
       "        if (!display || display === 'none') {{\n",
       "            console.log([gd, 'removed!']);\n",
       "            Plotly.purge(gd);\n",
       "            observer.disconnect();\n",
       "        }}\n",
       "}});\n",
       "\n",
       "// Listen for the removal of the full notebook cells\n",
       "var notebookContainer = gd.closest('#notebook-container');\n",
       "if (notebookContainer) {{\n",
       "    x.observe(notebookContainer, {childList: true});\n",
       "}}\n",
       "\n",
       "// Listen for the clearing of the current output cell\n",
       "var outputEl = gd.closest('.output');\n",
       "if (outputEl) {{\n",
       "    x.observe(outputEl, {childList: true});\n",
       "}}\n",
       "\n",
       "                        })\n",
       "                };\n",
       "                });\n",
       "            </script>\n",
       "        </div>"
      ]
     },
     "metadata": {},
     "output_type": "display_data"
    }
   ],
   "source": [
    "show_baselining_plot_azure(df_data, duration = \"all\", asset_name= asset_name, variable_name= INLET_PRESSURE, plot_type = \"box\")\n",
    "\n",
    "show_baselining_plot_azure(df_data, duration = \"all\", asset_name= asset_name, variable_name= OUTLET_PRESSURE, plot_type = \"box\")\n",
    "\n",
    "show_baselining_plot_azure(df_data, duration = \"all\", asset_name= asset_name, variable_name= HOUSE_PRESSURE, plot_type = \"box\")"
   ]
  },
  {
   "cell_type": "markdown",
   "metadata": {},
   "source": [
    "*** \n",
    "*** "
   ]
  },
  {
   "cell_type": "markdown",
   "metadata": {},
   "source": [
    "*** "
   ]
  },
  {
   "cell_type": "markdown",
   "metadata": {},
   "source": [
    "*** \n",
    "*** "
   ]
  },
  {
   "cell_type": "markdown",
   "metadata": {},
   "source": [
    "# Baselining Week Inputs\n",
    "\n"
   ]
  },
  {
   "cell_type": "code",
   "execution_count": 17,
   "metadata": {},
   "outputs": [],
   "source": [
    "week_numbers_inletPressure = [1,2,51,52] \n",
    "week_numbers_outletPressure = [48,49,50,52]\n",
    "week_numbers_housePressure = [1,2,51,52]"
   ]
  },
  {
   "cell_type": "markdown",
   "metadata": {},
   "source": [
    "***"
   ]
  },
  {
   "cell_type": "markdown",
   "metadata": {},
   "source": [
    "## Inlet Pressure"
   ]
  },
  {
   "cell_type": "code",
   "execution_count": 18,
   "metadata": {},
   "outputs": [
    {
     "name": "stdout",
     "output_type": "stream",
     "text": [
      "2.9299781186099083 0.04029619593847434\n"
     ]
    },
    {
     "data": {
      "application/vnd.plotly.v1+json": {
       "config": {
        "plotlyServerURL": "https://plot.ly"
       },
       "data": [
        {
         "alignmentgroup": "True",
         "hoverlabel": {
          "namelength": 0
         },
         "hovertemplate": "week=%{x}<br>feature_value=%{y}",
         "legendgroup": "",
         "marker": {
          "color": "#1F77B4"
         },
         "name": "",
         "notched": false,
         "offsetgroup": "",
         "orientation": "v",
         "showlegend": false,
         "type": "box",
         "x": [
          51,
          51,
          51,
          51,
          51,
          51,
          51,
          51,
          51,
          51,
          51,
          51,
          51,
          51,
          51,
          51,
          51,
          51,
          51,
          51,
          51,
          51,
          51,
          51,
          51,
          51,
          51,
          51,
          51,
          51,
          51,
          51,
          51,
          51,
          51,
          51,
          51,
          51,
          51,
          51,
          51,
          51,
          51,
          51,
          51,
          51,
          51,
          51,
          51,
          51,
          51,
          51,
          51,
          51,
          51,
          51,
          51,
          51,
          51,
          51,
          51,
          51,
          51,
          51,
          51,
          51,
          51,
          51,
          51,
          51,
          51,
          51,
          51,
          51,
          51,
          51,
          51,
          51,
          51,
          51,
          51,
          51,
          51,
          51,
          51,
          51,
          51,
          51,
          51,
          51,
          51,
          51,
          51,
          51,
          51,
          51,
          51,
          51,
          51,
          51,
          51,
          51,
          51,
          51,
          51,
          51,
          51,
          51,
          51,
          51,
          51,
          51,
          51,
          51,
          51,
          51,
          51,
          51,
          51,
          51,
          51,
          51,
          51,
          51,
          51,
          51,
          51,
          51,
          51,
          51,
          51,
          51,
          51,
          51,
          51,
          51,
          51,
          51,
          51,
          51,
          51,
          51,
          51,
          51,
          51,
          51,
          51,
          52,
          52,
          52,
          52,
          52,
          52,
          52,
          52,
          52,
          52,
          52,
          52,
          52,
          52,
          52,
          52,
          52,
          52,
          52,
          52,
          52,
          52,
          52,
          52,
          52,
          52,
          52,
          52,
          52,
          52,
          52,
          52,
          52,
          52,
          52,
          52,
          52,
          52,
          52,
          52,
          52,
          52,
          52,
          52,
          52,
          52,
          52,
          52,
          52,
          52,
          52,
          52,
          52,
          52,
          52,
          52,
          52,
          52,
          52,
          52,
          52,
          52,
          52,
          52,
          52,
          52,
          52,
          52,
          52,
          52,
          52,
          52,
          52,
          52,
          52,
          52,
          52,
          52,
          52,
          52,
          52,
          52,
          52,
          52,
          52,
          52,
          52,
          52,
          52,
          52,
          52,
          52,
          52,
          52,
          52,
          52,
          52,
          52,
          52,
          52,
          52,
          52,
          52,
          52,
          52,
          52,
          52,
          52,
          52,
          52,
          52,
          52,
          52,
          52,
          52,
          52,
          52,
          52,
          52,
          52,
          52,
          52,
          52,
          52,
          52,
          52,
          52,
          52,
          52,
          52,
          52,
          52,
          52,
          52,
          52,
          52,
          52,
          52,
          52,
          52,
          52,
          52,
          52,
          52,
          52,
          52,
          52,
          52,
          52,
          52,
          52,
          52,
          52,
          52,
          52,
          52,
          52,
          52,
          52,
          52,
          52,
          52,
          52,
          52,
          52,
          1,
          1,
          1,
          1,
          1,
          1,
          1,
          1,
          1,
          1,
          1,
          1,
          1,
          1,
          1,
          1,
          1,
          1,
          1,
          1,
          1,
          1,
          1,
          1,
          1,
          1,
          1,
          1,
          1,
          1,
          1,
          1,
          1,
          1,
          1,
          1,
          1,
          1,
          1,
          1,
          1,
          1,
          1,
          1,
          1,
          1,
          1,
          1,
          1,
          1,
          1,
          1,
          1,
          1,
          1,
          1,
          1,
          1,
          1,
          1,
          1,
          1,
          1,
          1,
          1,
          1,
          1,
          1,
          1,
          1,
          1,
          1,
          1,
          1,
          1,
          1,
          1,
          1,
          1,
          1,
          1,
          1,
          1,
          1,
          1,
          1,
          1,
          1,
          1,
          1,
          1,
          1,
          1,
          1,
          1,
          1,
          1,
          1,
          1,
          1,
          1,
          1,
          1,
          1,
          1,
          1,
          1,
          1,
          1,
          1,
          1,
          1,
          1,
          1,
          1,
          1,
          1,
          1,
          1,
          1,
          1,
          1,
          1,
          1,
          1,
          1,
          1,
          1,
          1,
          1,
          1,
          1,
          1,
          1,
          1,
          1,
          1,
          1,
          1,
          1,
          1,
          1,
          1,
          1,
          1,
          1,
          1,
          1,
          1,
          1,
          1,
          1,
          1,
          1,
          1,
          1,
          1,
          1,
          1,
          1,
          1,
          1,
          1,
          1,
          1,
          1,
          1,
          1,
          2,
          2,
          2,
          2,
          2,
          2,
          2,
          2,
          2,
          2,
          2,
          2,
          2,
          2,
          2,
          2,
          2
         ],
         "x0": " ",
         "xaxis": "x",
         "y": [
          2.988527676027676,
          2.976699226699227,
          3.0567002442002456,
          3.027319902319903,
          2.8944088319088306,
          2.9641712454212445,
          2.8807997557997553,
          2.981150793650794,
          2.900259462759463,
          2.905919312169311,
          2.9548865486365496,
          2.9445843508343508,
          2.8191137566137567,
          2.916475885225886,
          2.905028998778999,
          2.918574481074481,
          2.9464921652421654,
          2.9083358770858765,
          2.9069368131868134,
          2.847985347985349,
          2.9354904354904363,
          2.944711538461538,
          2.982231888481888,
          2.894027269027269,
          2.874122405372406,
          2.9112611925111938,
          2.91469525844526,
          2.88321632071632,
          2.9327559015059013,
          2.850020350020351,
          2.9082086894586876,
          2.9340913715913715,
          2.8983516483516483,
          2.9174933862433865,
          2.98477564102564,
          2.916475885225885,
          2.9219449531949535,
          2.9616274928774917,
          2.8835342897842904,
          2.8885582010582014,
          2.9110068172568173,
          2.827062983312983,
          2.9178749491249487,
          2.882008038258039,
          2.890911172161172,
          2.8957443019943025,
          2.9857931420431414,
          2.972629222629223,
          2.9358719983719976,
          2.9438212250712255,
          2.9921525234025244,
          3.018225986975987,
          3.004998473748472,
          2.968368437118438,
          2.9664606227106223,
          2.992152523402522,
          2.95259717134717,
          3.0090684778184786,
          3.014283170533171,
          3.035714285714286,
          3.045825702075702,
          3.0274470899470907,
          3.0540293040293047,
          2.97975172975173,
          2.9655703093203094,
          3.003345034595036,
          2.9754273504273505,
          2.972692816442816,
          3.008050976800977,
          2.9896723646723635,
          3.0269383394383396,
          2.903947903947902,
          2.8804181929181927,
          2.930402930402931,
          2.899623524623525,
          2.9613095238095237,
          2.89854242979243,
          2.9019764957264944,
          2.972820004070004,
          2.9248066748066743,
          2.892310236060236,
          2.9033119658119673,
          2.896253052503051,
          2.8710699023199004,
          2.9058557183557183,
          2.897270553520553,
          2.8764753764753777,
          2.919337606837605,
          2.886141636141636,
          2.8880494505494494,
          2.9482091982091987,
          2.927096052096052,
          2.934409340659339,
          2.8651556776556784,
          2.934409340659341,
          2.930530118030116,
          2.9106252543752547,
          2.921054639804639,
          2.8606405168905162,
          2.964171245421245,
          2.920482295482293,
          2.9113247863247858,
          2.915521978021978,
          2.9199099511599513,
          2.883343508343508,
          2.8919922669922666,
          2.900005087505088,
          2.9142501017501026,
          2.8552350427350426,
          2.915267602767603,
          2.887922262922262,
          2.9221993284493277,
          2.9288766788766787,
          2.8528820716320715,
          2.929703398453397,
          2.875966625966626,
          2.9866198616198623,
          2.918765262515263,
          2.963662494912493,
          2.900768213268213,
          2.8692892755392747,
          2.891165547415546,
          2.9155219780219768,
          2.9366987179487176,
          2.9008318070818064,
          2.924933862433862,
          2.901467745217745,
          2.8835342897842895,
          2.9104980667480667,
          2.8916107041107053,
          2.9361263736263736,
          2.934663715913716,
          2.9121515059015053,
          2.9365079365079367,
          2.9403871591371593,
          2.875394281644281,
          2.856252543752543,
          2.9508801383801377,
          2.987828144078144,
          2.9570487382987385,
          2.8518645706145684,
          2.918192918192918,
          2.9021036833536837,
          2.9086538461538463,
          2.8462683150183152,
          2.907699938949939,
          2.8980336792836785,
          2.9228352665852664,
          2.8790827228327225,
          2.934918091168092,
          2.9383521571021567,
          2.960101241351241,
          2.8517373829873827,
          2.8746947496947493,
          2.892628205128205,
          2.8852513227513215,
          2.86935286935287,
          2.914059320309319,
          2.8966982091982083,
          2.89905118030118,
          2.8803545991045993,
          2.9141865079365075,
          2.9797517297517295,
          2.9907534595034595,
          2.983503764753763,
          2.9356176231176234,
          2.9136777574277577,
          2.9480184167684165,
          2.90121336996337,
          2.8825803825803824,
          2.9199099511599518,
          2.9230260480260477,
          2.8894485144485134,
          2.93841575091575,
          2.918192918192918,
          2.9139957264957275,
          2.91488603988604,
          2.9333282458282466,
          2.8942180504680484,
          2.922199328449329,
          2.937398249898248,
          2.901594932844933,
          2.8951719576719577,
          2.912087912087911,
          2.888558201058201,
          2.922771672771672,
          2.8893849206349214,
          2.8852513227513206,
          2.8902752340252342,
          2.944647944647943,
          2.881944444444445,
          2.9174933862433865,
          2.9440120065120055,
          2.8962530525030528,
          2.901976495726497,
          2.898160866910866,
          2.909289784289784,
          2.893963675213675,
          2.9100529100529093,
          2.8971433658933647,
          2.8829619454619455,
          2.912660256410257,
          2.897842897842894,
          2.9081450956450947,
          2.918892450142449,
          2.9351088726088714,
          2.9492902930402924,
          2.9300213675213675,
          2.896761803011803,
          2.991643772893772,
          2.9230260480260473,
          2.9263965201465196,
          2.905474155474156,
          2.9227716727716735,
          2.974473443223444,
          2.913169006919007,
          2.9160943223443216,
          2.914822446072448,
          2.9111340048840044,
          2.9280499592999587,
          2.9156491656491657,
          2.9306573056573053,
          2.919782763532764,
          2.8930733618233604,
          2.951325295075296,
          2.8896392958892942,
          2.9716117216117213,
          2.975808913308914,
          2.878955535205535,
          2.916984635734634,
          2.886841168091168,
          2.9328194953194946,
          2.8975885225885207,
          3.0232498982498974,
          2.9625814000813997,
          2.9532331094831097,
          2.905219780219779,
          2.9347909035409034,
          2.9003866503866487,
          2.9010225885225895,
          2.925951363451363,
          2.8596230158730154,
          2.9300213675213684,
          2.923089641839642,
          2.858287545787546,
          2.9416590354090357,
          2.9330738705738693,
          2.9433760683760677,
          2.9611823361823366,
          2.942167785917785,
          2.9602920227920233,
          2.873804436304436,
          2.918192918192919,
          2.9029939967439975,
          2.9194647944647927,
          2.8969525844525834,
          2.901022588522588,
          2.918447293447292,
          2.8428342490842486,
          2.94890873015873,
          2.8940908628408635,
          2.9738375050875057,
          2.920800264550264,
          2.9459834147334143,
          2.949989824989825,
          2.911134004884005,
          2.9074455636955636,
          2.8884946072446063,
          2.8873499185999183,
          2.8731049043549035,
          2.9187016687016683,
          2.9472552910052916,
          2.8860780423280414,
          2.9131054131054124,
          2.8570792633292625,
          2.868653337403337,
          2.903439153439154,
          2.8963802401302394,
          2.8965710215710208,
          2.917302604802605,
          2.9730743793243786,
          2.95405982905983,
          2.928177146927149,
          2.9273504273504263,
          2.9085902523402525,
          2.9227080789580793,
          2.9561584249084256,
          2.86305708180708,
          2.832659238909238,
          2.930466524216524,
          2.9276048026048027,
          2.949735449735448,
          2.9070004070004063,
          2.8746947496947493,
          2.938670126170125,
          2.847413003663004,
          2.9038207163207166,
          2.917111823361824,
          2.9223901098901113,
          2.8965074277574274,
          2.8715786528286524,
          2.9173661986162,
          2.9019129019128997,
          2.91138838013838,
          2.9128510378510373,
          2.8855692918192926,
          2.8978428978428963,
          2.933519027269028,
          2.9063008750508756,
          2.897652116402116,
          2.9842668905168903,
          2.969131562881563,
          2.958257020757023,
          2.977080789580791,
          2.9252518315018325,
          2.954123422873423,
          2.9350452787952777,
          2.8839794464794455,
          2.9031211843711837,
          2.9143772893772906,
          2.900513838013838,
          2.939306064306065,
          2.9058557183557183,
          2.9850936100936103,
          2.9638532763532752,
          2.970149063899065,
          2.9400055962555958,
          2.998829873829873,
          2.9796881359381366,
          2.9882733007733013,
          2.887731481481481,
          2.9478276353276356,
          2.891547110297111,
          2.8669998982498988,
          2.919973544973544,
          2.877492877492878,
          2.981659544159543,
          2.892055860805861,
          2.927477614977615,
          2.9058557183557183,
          2.85885989010989,
          2.9001322751322753,
          2.9149496336996346,
          2.9178113553113554,
          2.9258241758241756,
          2.9110704110704106,
          2.9669693732193725,
          2.965061558811559,
          2.9601648351648344,
          2.9015313390313384,
          3.008368945868948,
          2.998384717134716,
          2.974727818477817,
          2.995205026455027,
          2.949481074481074,
          2.998448310948311,
          2.9774623524623536,
          2.912469474969477,
          2.9945054945054945,
          3.0146011396011403,
          2.9602920227920215,
          2.9598468660968673,
          2.976254070004069,
          3.04111975986976,
          2.9460470085470103,
          2.9246794871794872,
          2.945347476597478,
          2.899114774114773,
          2.9562856125356105,
          2.928431522181523,
          2.976190476190476,
          2.969703907203906,
          2.968813593813594,
          2.959210927960928,
          2.9267780830280827,
          2.935172466422466,
          2.9437576312576295,
          3.028718966218966,
          2.9669057794057774,
          2.9758725071225083,
          2.9689407814407827,
          2.9512617012617017,
          2.9567943630443634,
          2.981850325600325,
          2.940705128205129,
          2.991580179080179,
          2.9125966625966626,
          2.933773402523402,
          2.9339641839641843,
          2.925379019129019,
          2.96073717948718,
          2.9536146723646723,
          2.9218177655677664,
          2.9831857956857952,
          2.899496336996337,
          2.9425493487993495,
          3.05345695970696,
          2.9408323158323166,
          2.9181929181929185,
          2.9582570207570202,
          2.924870268620267,
          2.9234076109076104,
          2.932946682946683,
          2.968686406186406,
          2.9339641839641852,
          2.939306064306065,
          2.9714209401709417,
          3.001691595441594,
          2.943757631257632,
          2.9842668905168916,
          2.9497990435490427,
          2.986683455433456,
          2.9920253357753364,
          2.9997201872201864,
          2.9592109279609295,
          2.926587301587302,
          2.9374618437118425,
          2.9475096662596663,
          2.9497990435490453,
          2.9672873422873423,
          2.94859076109076,
          2.9415954415954424,
          2.916539479039479,
          2.931293243793244,
          2.9353632478632474,
          2.8995599308099305,
          2.906428062678063,
          2.903757122507122,
          2.9383521571021576,
          2.9957137769637767,
          2.9330102767602777,
          2.9761268823768816,
          2.967223748473748,
          2.963980463980464,
          2.9436940374440375,
          2.897842897842897,
          2.9174297924297914,
          2.9302121489621484,
          2.8696708384208383,
          2.990117521367521,
          2.938797313797313,
          2.9688135938135933,
          2.903184778184778,
          2.9340913715913715,
          2.9129782254782253,
          2.9111975986975973,
          2.9531059218559217,
          2.958574989824991,
          2.9631537444037437,
          2.959974053724054,
          2.925824175824175,
          2.96824124949125,
          2.9418498168498144,
          2.905664936914937,
          2.928495115995117,
          2.9787978225478233,
          2.947128103378104,
          2.9377162189662176,
          2.89453601953602,
          2.9124694749694737,
          2.9497354497354498,
          2.9373982498982483,
          2.9104344729344724,
          2.971102971102971,
          2.9302757427757418,
          2.9567307692307683,
          2.9751729751729763,
          2.966905779405779,
          2.940768722018722,
          2.926841676841678,
          2.8905932030932036,
          2.914949633699635,
          2.9284951159951156,
          2.941722629222628,
          3.0399750712250717,
          2.926523707773709,
          2.970657814407815,
          2.9242343304843303,
          2.9447115384615388,
          2.9618182743182753,
          2.947382478632477,
          2.9761904761904776,
          2.9252518315018317,
          2.9821047008546997,
          2.9135505698005697,
          2.948463573463574,
          2.9936151811151785,
          2.9556496743996745,
          3.0153642653642643,
          2.956349206349207,
          2.9043930606430592,
          3.007542226292227,
          2.916475885225886,
          2.8455051892551886,
          2.911706349206348,
          2.87386803011803,
          2.8839794464794473
         ],
         "y0": " ",
         "yaxis": "y"
        }
       ],
       "layout": {
        "boxmode": "group",
        "legend": {
         "tracegroupgap": 0
        },
        "template": {
         "data": {
          "bar": [
           {
            "error_x": {
             "color": "rgb(36,36,36)"
            },
            "error_y": {
             "color": "rgb(36,36,36)"
            },
            "marker": {
             "line": {
              "color": "white",
              "width": 0.5
             }
            },
            "type": "bar"
           }
          ],
          "barpolar": [
           {
            "marker": {
             "line": {
              "color": "white",
              "width": 0.5
             }
            },
            "type": "barpolar"
           }
          ],
          "carpet": [
           {
            "aaxis": {
             "endlinecolor": "rgb(36,36,36)",
             "gridcolor": "white",
             "linecolor": "white",
             "minorgridcolor": "white",
             "startlinecolor": "rgb(36,36,36)"
            },
            "baxis": {
             "endlinecolor": "rgb(36,36,36)",
             "gridcolor": "white",
             "linecolor": "white",
             "minorgridcolor": "white",
             "startlinecolor": "rgb(36,36,36)"
            },
            "type": "carpet"
           }
          ],
          "choropleth": [
           {
            "colorbar": {
             "outlinewidth": 1,
             "tickcolor": "rgb(36,36,36)",
             "ticks": "outside"
            },
            "type": "choropleth"
           }
          ],
          "contour": [
           {
            "colorbar": {
             "outlinewidth": 1,
             "tickcolor": "rgb(36,36,36)",
             "ticks": "outside"
            },
            "colorscale": [
             [
              0,
              "#440154"
             ],
             [
              0.1111111111111111,
              "#482878"
             ],
             [
              0.2222222222222222,
              "#3e4989"
             ],
             [
              0.3333333333333333,
              "#31688e"
             ],
             [
              0.4444444444444444,
              "#26828e"
             ],
             [
              0.5555555555555556,
              "#1f9e89"
             ],
             [
              0.6666666666666666,
              "#35b779"
             ],
             [
              0.7777777777777778,
              "#6ece58"
             ],
             [
              0.8888888888888888,
              "#b5de2b"
             ],
             [
              1,
              "#fde725"
             ]
            ],
            "type": "contour"
           }
          ],
          "contourcarpet": [
           {
            "colorbar": {
             "outlinewidth": 1,
             "tickcolor": "rgb(36,36,36)",
             "ticks": "outside"
            },
            "type": "contourcarpet"
           }
          ],
          "heatmap": [
           {
            "colorbar": {
             "outlinewidth": 1,
             "tickcolor": "rgb(36,36,36)",
             "ticks": "outside"
            },
            "colorscale": [
             [
              0,
              "#440154"
             ],
             [
              0.1111111111111111,
              "#482878"
             ],
             [
              0.2222222222222222,
              "#3e4989"
             ],
             [
              0.3333333333333333,
              "#31688e"
             ],
             [
              0.4444444444444444,
              "#26828e"
             ],
             [
              0.5555555555555556,
              "#1f9e89"
             ],
             [
              0.6666666666666666,
              "#35b779"
             ],
             [
              0.7777777777777778,
              "#6ece58"
             ],
             [
              0.8888888888888888,
              "#b5de2b"
             ],
             [
              1,
              "#fde725"
             ]
            ],
            "type": "heatmap"
           }
          ],
          "heatmapgl": [
           {
            "colorbar": {
             "outlinewidth": 1,
             "tickcolor": "rgb(36,36,36)",
             "ticks": "outside"
            },
            "colorscale": [
             [
              0,
              "#440154"
             ],
             [
              0.1111111111111111,
              "#482878"
             ],
             [
              0.2222222222222222,
              "#3e4989"
             ],
             [
              0.3333333333333333,
              "#31688e"
             ],
             [
              0.4444444444444444,
              "#26828e"
             ],
             [
              0.5555555555555556,
              "#1f9e89"
             ],
             [
              0.6666666666666666,
              "#35b779"
             ],
             [
              0.7777777777777778,
              "#6ece58"
             ],
             [
              0.8888888888888888,
              "#b5de2b"
             ],
             [
              1,
              "#fde725"
             ]
            ],
            "type": "heatmapgl"
           }
          ],
          "histogram": [
           {
            "marker": {
             "line": {
              "color": "white",
              "width": 0.6
             }
            },
            "type": "histogram"
           }
          ],
          "histogram2d": [
           {
            "colorbar": {
             "outlinewidth": 1,
             "tickcolor": "rgb(36,36,36)",
             "ticks": "outside"
            },
            "colorscale": [
             [
              0,
              "#440154"
             ],
             [
              0.1111111111111111,
              "#482878"
             ],
             [
              0.2222222222222222,
              "#3e4989"
             ],
             [
              0.3333333333333333,
              "#31688e"
             ],
             [
              0.4444444444444444,
              "#26828e"
             ],
             [
              0.5555555555555556,
              "#1f9e89"
             ],
             [
              0.6666666666666666,
              "#35b779"
             ],
             [
              0.7777777777777778,
              "#6ece58"
             ],
             [
              0.8888888888888888,
              "#b5de2b"
             ],
             [
              1,
              "#fde725"
             ]
            ],
            "type": "histogram2d"
           }
          ],
          "histogram2dcontour": [
           {
            "colorbar": {
             "outlinewidth": 1,
             "tickcolor": "rgb(36,36,36)",
             "ticks": "outside"
            },
            "colorscale": [
             [
              0,
              "#440154"
             ],
             [
              0.1111111111111111,
              "#482878"
             ],
             [
              0.2222222222222222,
              "#3e4989"
             ],
             [
              0.3333333333333333,
              "#31688e"
             ],
             [
              0.4444444444444444,
              "#26828e"
             ],
             [
              0.5555555555555556,
              "#1f9e89"
             ],
             [
              0.6666666666666666,
              "#35b779"
             ],
             [
              0.7777777777777778,
              "#6ece58"
             ],
             [
              0.8888888888888888,
              "#b5de2b"
             ],
             [
              1,
              "#fde725"
             ]
            ],
            "type": "histogram2dcontour"
           }
          ],
          "mesh3d": [
           {
            "colorbar": {
             "outlinewidth": 1,
             "tickcolor": "rgb(36,36,36)",
             "ticks": "outside"
            },
            "type": "mesh3d"
           }
          ],
          "parcoords": [
           {
            "line": {
             "colorbar": {
              "outlinewidth": 1,
              "tickcolor": "rgb(36,36,36)",
              "ticks": "outside"
             }
            },
            "type": "parcoords"
           }
          ],
          "pie": [
           {
            "automargin": true,
            "type": "pie"
           }
          ],
          "scatter": [
           {
            "marker": {
             "colorbar": {
              "outlinewidth": 1,
              "tickcolor": "rgb(36,36,36)",
              "ticks": "outside"
             }
            },
            "type": "scatter"
           }
          ],
          "scatter3d": [
           {
            "line": {
             "colorbar": {
              "outlinewidth": 1,
              "tickcolor": "rgb(36,36,36)",
              "ticks": "outside"
             }
            },
            "marker": {
             "colorbar": {
              "outlinewidth": 1,
              "tickcolor": "rgb(36,36,36)",
              "ticks": "outside"
             }
            },
            "type": "scatter3d"
           }
          ],
          "scattercarpet": [
           {
            "marker": {
             "colorbar": {
              "outlinewidth": 1,
              "tickcolor": "rgb(36,36,36)",
              "ticks": "outside"
             }
            },
            "type": "scattercarpet"
           }
          ],
          "scattergeo": [
           {
            "marker": {
             "colorbar": {
              "outlinewidth": 1,
              "tickcolor": "rgb(36,36,36)",
              "ticks": "outside"
             }
            },
            "type": "scattergeo"
           }
          ],
          "scattergl": [
           {
            "marker": {
             "colorbar": {
              "outlinewidth": 1,
              "tickcolor": "rgb(36,36,36)",
              "ticks": "outside"
             }
            },
            "type": "scattergl"
           }
          ],
          "scattermapbox": [
           {
            "marker": {
             "colorbar": {
              "outlinewidth": 1,
              "tickcolor": "rgb(36,36,36)",
              "ticks": "outside"
             }
            },
            "type": "scattermapbox"
           }
          ],
          "scatterpolar": [
           {
            "marker": {
             "colorbar": {
              "outlinewidth": 1,
              "tickcolor": "rgb(36,36,36)",
              "ticks": "outside"
             }
            },
            "type": "scatterpolar"
           }
          ],
          "scatterpolargl": [
           {
            "marker": {
             "colorbar": {
              "outlinewidth": 1,
              "tickcolor": "rgb(36,36,36)",
              "ticks": "outside"
             }
            },
            "type": "scatterpolargl"
           }
          ],
          "scatterternary": [
           {
            "marker": {
             "colorbar": {
              "outlinewidth": 1,
              "tickcolor": "rgb(36,36,36)",
              "ticks": "outside"
             }
            },
            "type": "scatterternary"
           }
          ],
          "surface": [
           {
            "colorbar": {
             "outlinewidth": 1,
             "tickcolor": "rgb(36,36,36)",
             "ticks": "outside"
            },
            "colorscale": [
             [
              0,
              "#440154"
             ],
             [
              0.1111111111111111,
              "#482878"
             ],
             [
              0.2222222222222222,
              "#3e4989"
             ],
             [
              0.3333333333333333,
              "#31688e"
             ],
             [
              0.4444444444444444,
              "#26828e"
             ],
             [
              0.5555555555555556,
              "#1f9e89"
             ],
             [
              0.6666666666666666,
              "#35b779"
             ],
             [
              0.7777777777777778,
              "#6ece58"
             ],
             [
              0.8888888888888888,
              "#b5de2b"
             ],
             [
              1,
              "#fde725"
             ]
            ],
            "type": "surface"
           }
          ],
          "table": [
           {
            "cells": {
             "fill": {
              "color": "rgb(237,237,237)"
             },
             "line": {
              "color": "white"
             }
            },
            "header": {
             "fill": {
              "color": "rgb(217,217,217)"
             },
             "line": {
              "color": "white"
             }
            },
            "type": "table"
           }
          ]
         },
         "layout": {
          "annotationdefaults": {
           "arrowhead": 0,
           "arrowwidth": 1
          },
          "coloraxis": {
           "colorbar": {
            "outlinewidth": 1,
            "tickcolor": "rgb(36,36,36)",
            "ticks": "outside"
           }
          },
          "colorscale": {
           "diverging": [
            [
             0,
             "rgb(103,0,31)"
            ],
            [
             0.1,
             "rgb(178,24,43)"
            ],
            [
             0.2,
             "rgb(214,96,77)"
            ],
            [
             0.3,
             "rgb(244,165,130)"
            ],
            [
             0.4,
             "rgb(253,219,199)"
            ],
            [
             0.5,
             "rgb(247,247,247)"
            ],
            [
             0.6,
             "rgb(209,229,240)"
            ],
            [
             0.7,
             "rgb(146,197,222)"
            ],
            [
             0.8,
             "rgb(67,147,195)"
            ],
            [
             0.9,
             "rgb(33,102,172)"
            ],
            [
             1,
             "rgb(5,48,97)"
            ]
           ],
           "sequential": [
            [
             0,
             "#440154"
            ],
            [
             0.1111111111111111,
             "#482878"
            ],
            [
             0.2222222222222222,
             "#3e4989"
            ],
            [
             0.3333333333333333,
             "#31688e"
            ],
            [
             0.4444444444444444,
             "#26828e"
            ],
            [
             0.5555555555555556,
             "#1f9e89"
            ],
            [
             0.6666666666666666,
             "#35b779"
            ],
            [
             0.7777777777777778,
             "#6ece58"
            ],
            [
             0.8888888888888888,
             "#b5de2b"
            ],
            [
             1,
             "#fde725"
            ]
           ],
           "sequentialminus": [
            [
             0,
             "#440154"
            ],
            [
             0.1111111111111111,
             "#482878"
            ],
            [
             0.2222222222222222,
             "#3e4989"
            ],
            [
             0.3333333333333333,
             "#31688e"
            ],
            [
             0.4444444444444444,
             "#26828e"
            ],
            [
             0.5555555555555556,
             "#1f9e89"
            ],
            [
             0.6666666666666666,
             "#35b779"
            ],
            [
             0.7777777777777778,
             "#6ece58"
            ],
            [
             0.8888888888888888,
             "#b5de2b"
            ],
            [
             1,
             "#fde725"
            ]
           ]
          },
          "colorway": [
           "#1F77B4",
           "#FF7F0E",
           "#2CA02C",
           "#D62728",
           "#9467BD",
           "#8C564B",
           "#E377C2",
           "#7F7F7F",
           "#BCBD22",
           "#17BECF"
          ],
          "font": {
           "color": "rgb(36,36,36)"
          },
          "geo": {
           "bgcolor": "white",
           "lakecolor": "white",
           "landcolor": "white",
           "showlakes": true,
           "showland": true,
           "subunitcolor": "white"
          },
          "hoverlabel": {
           "align": "left"
          },
          "hovermode": "closest",
          "mapbox": {
           "style": "light"
          },
          "paper_bgcolor": "white",
          "plot_bgcolor": "white",
          "polar": {
           "angularaxis": {
            "gridcolor": "rgb(232,232,232)",
            "linecolor": "rgb(36,36,36)",
            "showgrid": false,
            "showline": true,
            "ticks": "outside"
           },
           "bgcolor": "white",
           "radialaxis": {
            "gridcolor": "rgb(232,232,232)",
            "linecolor": "rgb(36,36,36)",
            "showgrid": false,
            "showline": true,
            "ticks": "outside"
           }
          },
          "scene": {
           "xaxis": {
            "backgroundcolor": "white",
            "gridcolor": "rgb(232,232,232)",
            "gridwidth": 2,
            "linecolor": "rgb(36,36,36)",
            "showbackground": true,
            "showgrid": false,
            "showline": true,
            "ticks": "outside",
            "zeroline": false,
            "zerolinecolor": "rgb(36,36,36)"
           },
           "yaxis": {
            "backgroundcolor": "white",
            "gridcolor": "rgb(232,232,232)",
            "gridwidth": 2,
            "linecolor": "rgb(36,36,36)",
            "showbackground": true,
            "showgrid": false,
            "showline": true,
            "ticks": "outside",
            "zeroline": false,
            "zerolinecolor": "rgb(36,36,36)"
           },
           "zaxis": {
            "backgroundcolor": "white",
            "gridcolor": "rgb(232,232,232)",
            "gridwidth": 2,
            "linecolor": "rgb(36,36,36)",
            "showbackground": true,
            "showgrid": false,
            "showline": true,
            "ticks": "outside",
            "zeroline": false,
            "zerolinecolor": "rgb(36,36,36)"
           }
          },
          "shapedefaults": {
           "fillcolor": "black",
           "line": {
            "width": 0
           },
           "opacity": 0.3
          },
          "ternary": {
           "aaxis": {
            "gridcolor": "rgb(232,232,232)",
            "linecolor": "rgb(36,36,36)",
            "showgrid": false,
            "showline": true,
            "ticks": "outside"
           },
           "baxis": {
            "gridcolor": "rgb(232,232,232)",
            "linecolor": "rgb(36,36,36)",
            "showgrid": false,
            "showline": true,
            "ticks": "outside"
           },
           "bgcolor": "white",
           "caxis": {
            "gridcolor": "rgb(232,232,232)",
            "linecolor": "rgb(36,36,36)",
            "showgrid": false,
            "showline": true,
            "ticks": "outside"
           }
          },
          "title": {
           "x": 0.05
          },
          "xaxis": {
           "automargin": true,
           "gridcolor": "rgb(232,232,232)",
           "linecolor": "rgb(36,36,36)",
           "showgrid": false,
           "showline": true,
           "ticks": "outside",
           "title": {
            "standoff": 15
           },
           "zeroline": false,
           "zerolinecolor": "rgb(36,36,36)"
          },
          "yaxis": {
           "automargin": true,
           "gridcolor": "rgb(232,232,232)",
           "linecolor": "rgb(36,36,36)",
           "showgrid": false,
           "showline": true,
           "ticks": "outside",
           "title": {
            "standoff": 15
           },
           "zeroline": false,
           "zerolinecolor": "rgb(36,36,36)"
          }
         }
        },
        "title": {
         "text": "InletPressure g-pump-5 for 1, 2, 51, 52 weeks "
        },
        "xaxis": {
         "anchor": "y",
         "domain": [
          0,
          1
         ],
         "title": {
          "text": "week"
         },
         "type": "category"
        },
        "yaxis": {
         "anchor": "x",
         "domain": [
          0,
          1
         ],
         "title": {
          "text": "feature_value"
         }
        }
       }
      },
      "text/html": [
       "<div>\n",
       "        \n",
       "        \n",
       "            <div id=\"158b2d2f-8828-4e5c-a4d6-cc02f0009c02\" class=\"plotly-graph-div\" style=\"height:525px; width:100%;\"></div>\n",
       "            <script type=\"text/javascript\">\n",
       "                require([\"plotly\"], function(Plotly) {\n",
       "                    window.PLOTLYENV=window.PLOTLYENV || {};\n",
       "                    \n",
       "                if (document.getElementById(\"158b2d2f-8828-4e5c-a4d6-cc02f0009c02\")) {\n",
       "                    Plotly.newPlot(\n",
       "                        '158b2d2f-8828-4e5c-a4d6-cc02f0009c02',\n",
       "                        [{\"alignmentgroup\": \"True\", \"hoverlabel\": {\"namelength\": 0}, \"hovertemplate\": \"week=%{x}<br>feature_value=%{y}\", \"legendgroup\": \"\", \"marker\": {\"color\": \"#1F77B4\"}, \"name\": \"\", \"notched\": false, \"offsetgroup\": \"\", \"orientation\": \"v\", \"showlegend\": false, \"type\": \"box\", \"x\": [51, 51, 51, 51, 51, 51, 51, 51, 51, 51, 51, 51, 51, 51, 51, 51, 51, 51, 51, 51, 51, 51, 51, 51, 51, 51, 51, 51, 51, 51, 51, 51, 51, 51, 51, 51, 51, 51, 51, 51, 51, 51, 51, 51, 51, 51, 51, 51, 51, 51, 51, 51, 51, 51, 51, 51, 51, 51, 51, 51, 51, 51, 51, 51, 51, 51, 51, 51, 51, 51, 51, 51, 51, 51, 51, 51, 51, 51, 51, 51, 51, 51, 51, 51, 51, 51, 51, 51, 51, 51, 51, 51, 51, 51, 51, 51, 51, 51, 51, 51, 51, 51, 51, 51, 51, 51, 51, 51, 51, 51, 51, 51, 51, 51, 51, 51, 51, 51, 51, 51, 51, 51, 51, 51, 51, 51, 51, 51, 51, 51, 51, 51, 51, 51, 51, 51, 51, 51, 51, 51, 51, 51, 51, 51, 51, 51, 51, 52, 52, 52, 52, 52, 52, 52, 52, 52, 52, 52, 52, 52, 52, 52, 52, 52, 52, 52, 52, 52, 52, 52, 52, 52, 52, 52, 52, 52, 52, 52, 52, 52, 52, 52, 52, 52, 52, 52, 52, 52, 52, 52, 52, 52, 52, 52, 52, 52, 52, 52, 52, 52, 52, 52, 52, 52, 52, 52, 52, 52, 52, 52, 52, 52, 52, 52, 52, 52, 52, 52, 52, 52, 52, 52, 52, 52, 52, 52, 52, 52, 52, 52, 52, 52, 52, 52, 52, 52, 52, 52, 52, 52, 52, 52, 52, 52, 52, 52, 52, 52, 52, 52, 52, 52, 52, 52, 52, 52, 52, 52, 52, 52, 52, 52, 52, 52, 52, 52, 52, 52, 52, 52, 52, 52, 52, 52, 52, 52, 52, 52, 52, 52, 52, 52, 52, 52, 52, 52, 52, 52, 52, 52, 52, 52, 52, 52, 52, 52, 52, 52, 52, 52, 52, 52, 52, 52, 52, 52, 52, 52, 52, 52, 52, 52, 1, 1, 1, 1, 1, 1, 1, 1, 1, 1, 1, 1, 1, 1, 1, 1, 1, 1, 1, 1, 1, 1, 1, 1, 1, 1, 1, 1, 1, 1, 1, 1, 1, 1, 1, 1, 1, 1, 1, 1, 1, 1, 1, 1, 1, 1, 1, 1, 1, 1, 1, 1, 1, 1, 1, 1, 1, 1, 1, 1, 1, 1, 1, 1, 1, 1, 1, 1, 1, 1, 1, 1, 1, 1, 1, 1, 1, 1, 1, 1, 1, 1, 1, 1, 1, 1, 1, 1, 1, 1, 1, 1, 1, 1, 1, 1, 1, 1, 1, 1, 1, 1, 1, 1, 1, 1, 1, 1, 1, 1, 1, 1, 1, 1, 1, 1, 1, 1, 1, 1, 1, 1, 1, 1, 1, 1, 1, 1, 1, 1, 1, 1, 1, 1, 1, 1, 1, 1, 1, 1, 1, 1, 1, 1, 1, 1, 1, 1, 1, 1, 1, 1, 1, 1, 1, 1, 1, 1, 1, 1, 1, 1, 1, 1, 1, 1, 1, 1, 2, 2, 2, 2, 2, 2, 2, 2, 2, 2, 2, 2, 2, 2, 2, 2, 2], \"x0\": \" \", \"xaxis\": \"x\", \"y\": [2.988527676027676, 2.976699226699227, 3.0567002442002456, 3.027319902319903, 2.8944088319088306, 2.9641712454212445, 2.8807997557997553, 2.981150793650794, 2.900259462759463, 2.905919312169311, 2.9548865486365496, 2.9445843508343508, 2.8191137566137567, 2.916475885225886, 2.905028998778999, 2.918574481074481, 2.9464921652421654, 2.9083358770858765, 2.9069368131868134, 2.847985347985349, 2.9354904354904363, 2.944711538461538, 2.982231888481888, 2.894027269027269, 2.874122405372406, 2.9112611925111938, 2.91469525844526, 2.88321632071632, 2.9327559015059013, 2.850020350020351, 2.9082086894586876, 2.9340913715913715, 2.8983516483516483, 2.9174933862433865, 2.98477564102564, 2.916475885225885, 2.9219449531949535, 2.9616274928774917, 2.8835342897842904, 2.8885582010582014, 2.9110068172568173, 2.827062983312983, 2.9178749491249487, 2.882008038258039, 2.890911172161172, 2.8957443019943025, 2.9857931420431414, 2.972629222629223, 2.9358719983719976, 2.9438212250712255, 2.9921525234025244, 3.018225986975987, 3.004998473748472, 2.968368437118438, 2.9664606227106223, 2.992152523402522, 2.95259717134717, 3.0090684778184786, 3.014283170533171, 3.035714285714286, 3.045825702075702, 3.0274470899470907, 3.0540293040293047, 2.97975172975173, 2.9655703093203094, 3.003345034595036, 2.9754273504273505, 2.972692816442816, 3.008050976800977, 2.9896723646723635, 3.0269383394383396, 2.903947903947902, 2.8804181929181927, 2.930402930402931, 2.899623524623525, 2.9613095238095237, 2.89854242979243, 2.9019764957264944, 2.972820004070004, 2.9248066748066743, 2.892310236060236, 2.9033119658119673, 2.896253052503051, 2.8710699023199004, 2.9058557183557183, 2.897270553520553, 2.8764753764753777, 2.919337606837605, 2.886141636141636, 2.8880494505494494, 2.9482091982091987, 2.927096052096052, 2.934409340659339, 2.8651556776556784, 2.934409340659341, 2.930530118030116, 2.9106252543752547, 2.921054639804639, 2.8606405168905162, 2.964171245421245, 2.920482295482293, 2.9113247863247858, 2.915521978021978, 2.9199099511599513, 2.883343508343508, 2.8919922669922666, 2.900005087505088, 2.9142501017501026, 2.8552350427350426, 2.915267602767603, 2.887922262922262, 2.9221993284493277, 2.9288766788766787, 2.8528820716320715, 2.929703398453397, 2.875966625966626, 2.9866198616198623, 2.918765262515263, 2.963662494912493, 2.900768213268213, 2.8692892755392747, 2.891165547415546, 2.9155219780219768, 2.9366987179487176, 2.9008318070818064, 2.924933862433862, 2.901467745217745, 2.8835342897842895, 2.9104980667480667, 2.8916107041107053, 2.9361263736263736, 2.934663715913716, 2.9121515059015053, 2.9365079365079367, 2.9403871591371593, 2.875394281644281, 2.856252543752543, 2.9508801383801377, 2.987828144078144, 2.9570487382987385, 2.8518645706145684, 2.918192918192918, 2.9021036833536837, 2.9086538461538463, 2.8462683150183152, 2.907699938949939, 2.8980336792836785, 2.9228352665852664, 2.8790827228327225, 2.934918091168092, 2.9383521571021567, 2.960101241351241, 2.8517373829873827, 2.8746947496947493, 2.892628205128205, 2.8852513227513215, 2.86935286935287, 2.914059320309319, 2.8966982091982083, 2.89905118030118, 2.8803545991045993, 2.9141865079365075, 2.9797517297517295, 2.9907534595034595, 2.983503764753763, 2.9356176231176234, 2.9136777574277577, 2.9480184167684165, 2.90121336996337, 2.8825803825803824, 2.9199099511599518, 2.9230260480260477, 2.8894485144485134, 2.93841575091575, 2.918192918192918, 2.9139957264957275, 2.91488603988604, 2.9333282458282466, 2.8942180504680484, 2.922199328449329, 2.937398249898248, 2.901594932844933, 2.8951719576719577, 2.912087912087911, 2.888558201058201, 2.922771672771672, 2.8893849206349214, 2.8852513227513206, 2.8902752340252342, 2.944647944647943, 2.881944444444445, 2.9174933862433865, 2.9440120065120055, 2.8962530525030528, 2.901976495726497, 2.898160866910866, 2.909289784289784, 2.893963675213675, 2.9100529100529093, 2.8971433658933647, 2.8829619454619455, 2.912660256410257, 2.897842897842894, 2.9081450956450947, 2.918892450142449, 2.9351088726088714, 2.9492902930402924, 2.9300213675213675, 2.896761803011803, 2.991643772893772, 2.9230260480260473, 2.9263965201465196, 2.905474155474156, 2.9227716727716735, 2.974473443223444, 2.913169006919007, 2.9160943223443216, 2.914822446072448, 2.9111340048840044, 2.9280499592999587, 2.9156491656491657, 2.9306573056573053, 2.919782763532764, 2.8930733618233604, 2.951325295075296, 2.8896392958892942, 2.9716117216117213, 2.975808913308914, 2.878955535205535, 2.916984635734634, 2.886841168091168, 2.9328194953194946, 2.8975885225885207, 3.0232498982498974, 2.9625814000813997, 2.9532331094831097, 2.905219780219779, 2.9347909035409034, 2.9003866503866487, 2.9010225885225895, 2.925951363451363, 2.8596230158730154, 2.9300213675213684, 2.923089641839642, 2.858287545787546, 2.9416590354090357, 2.9330738705738693, 2.9433760683760677, 2.9611823361823366, 2.942167785917785, 2.9602920227920233, 2.873804436304436, 2.918192918192919, 2.9029939967439975, 2.9194647944647927, 2.8969525844525834, 2.901022588522588, 2.918447293447292, 2.8428342490842486, 2.94890873015873, 2.8940908628408635, 2.9738375050875057, 2.920800264550264, 2.9459834147334143, 2.949989824989825, 2.911134004884005, 2.9074455636955636, 2.8884946072446063, 2.8873499185999183, 2.8731049043549035, 2.9187016687016683, 2.9472552910052916, 2.8860780423280414, 2.9131054131054124, 2.8570792633292625, 2.868653337403337, 2.903439153439154, 2.8963802401302394, 2.8965710215710208, 2.917302604802605, 2.9730743793243786, 2.95405982905983, 2.928177146927149, 2.9273504273504263, 2.9085902523402525, 2.9227080789580793, 2.9561584249084256, 2.86305708180708, 2.832659238909238, 2.930466524216524, 2.9276048026048027, 2.949735449735448, 2.9070004070004063, 2.8746947496947493, 2.938670126170125, 2.847413003663004, 2.9038207163207166, 2.917111823361824, 2.9223901098901113, 2.8965074277574274, 2.8715786528286524, 2.9173661986162, 2.9019129019128997, 2.91138838013838, 2.9128510378510373, 2.8855692918192926, 2.8978428978428963, 2.933519027269028, 2.9063008750508756, 2.897652116402116, 2.9842668905168903, 2.969131562881563, 2.958257020757023, 2.977080789580791, 2.9252518315018325, 2.954123422873423, 2.9350452787952777, 2.8839794464794455, 2.9031211843711837, 2.9143772893772906, 2.900513838013838, 2.939306064306065, 2.9058557183557183, 2.9850936100936103, 2.9638532763532752, 2.970149063899065, 2.9400055962555958, 2.998829873829873, 2.9796881359381366, 2.9882733007733013, 2.887731481481481, 2.9478276353276356, 2.891547110297111, 2.8669998982498988, 2.919973544973544, 2.877492877492878, 2.981659544159543, 2.892055860805861, 2.927477614977615, 2.9058557183557183, 2.85885989010989, 2.9001322751322753, 2.9149496336996346, 2.9178113553113554, 2.9258241758241756, 2.9110704110704106, 2.9669693732193725, 2.965061558811559, 2.9601648351648344, 2.9015313390313384, 3.008368945868948, 2.998384717134716, 2.974727818477817, 2.995205026455027, 2.949481074481074, 2.998448310948311, 2.9774623524623536, 2.912469474969477, 2.9945054945054945, 3.0146011396011403, 2.9602920227920215, 2.9598468660968673, 2.976254070004069, 3.04111975986976, 2.9460470085470103, 2.9246794871794872, 2.945347476597478, 2.899114774114773, 2.9562856125356105, 2.928431522181523, 2.976190476190476, 2.969703907203906, 2.968813593813594, 2.959210927960928, 2.9267780830280827, 2.935172466422466, 2.9437576312576295, 3.028718966218966, 2.9669057794057774, 2.9758725071225083, 2.9689407814407827, 2.9512617012617017, 2.9567943630443634, 2.981850325600325, 2.940705128205129, 2.991580179080179, 2.9125966625966626, 2.933773402523402, 2.9339641839641843, 2.925379019129019, 2.96073717948718, 2.9536146723646723, 2.9218177655677664, 2.9831857956857952, 2.899496336996337, 2.9425493487993495, 3.05345695970696, 2.9408323158323166, 2.9181929181929185, 2.9582570207570202, 2.924870268620267, 2.9234076109076104, 2.932946682946683, 2.968686406186406, 2.9339641839641852, 2.939306064306065, 2.9714209401709417, 3.001691595441594, 2.943757631257632, 2.9842668905168916, 2.9497990435490427, 2.986683455433456, 2.9920253357753364, 2.9997201872201864, 2.9592109279609295, 2.926587301587302, 2.9374618437118425, 2.9475096662596663, 2.9497990435490453, 2.9672873422873423, 2.94859076109076, 2.9415954415954424, 2.916539479039479, 2.931293243793244, 2.9353632478632474, 2.8995599308099305, 2.906428062678063, 2.903757122507122, 2.9383521571021576, 2.9957137769637767, 2.9330102767602777, 2.9761268823768816, 2.967223748473748, 2.963980463980464, 2.9436940374440375, 2.897842897842897, 2.9174297924297914, 2.9302121489621484, 2.8696708384208383, 2.990117521367521, 2.938797313797313, 2.9688135938135933, 2.903184778184778, 2.9340913715913715, 2.9129782254782253, 2.9111975986975973, 2.9531059218559217, 2.958574989824991, 2.9631537444037437, 2.959974053724054, 2.925824175824175, 2.96824124949125, 2.9418498168498144, 2.905664936914937, 2.928495115995117, 2.9787978225478233, 2.947128103378104, 2.9377162189662176, 2.89453601953602, 2.9124694749694737, 2.9497354497354498, 2.9373982498982483, 2.9104344729344724, 2.971102971102971, 2.9302757427757418, 2.9567307692307683, 2.9751729751729763, 2.966905779405779, 2.940768722018722, 2.926841676841678, 2.8905932030932036, 2.914949633699635, 2.9284951159951156, 2.941722629222628, 3.0399750712250717, 2.926523707773709, 2.970657814407815, 2.9242343304843303, 2.9447115384615388, 2.9618182743182753, 2.947382478632477, 2.9761904761904776, 2.9252518315018317, 2.9821047008546997, 2.9135505698005697, 2.948463573463574, 2.9936151811151785, 2.9556496743996745, 3.0153642653642643, 2.956349206349207, 2.9043930606430592, 3.007542226292227, 2.916475885225886, 2.8455051892551886, 2.911706349206348, 2.87386803011803, 2.8839794464794473], \"y0\": \" \", \"yaxis\": \"y\"}],\n",
       "                        {\"boxmode\": \"group\", \"legend\": {\"tracegroupgap\": 0}, \"template\": {\"data\": {\"bar\": [{\"error_x\": {\"color\": \"rgb(36,36,36)\"}, \"error_y\": {\"color\": \"rgb(36,36,36)\"}, \"marker\": {\"line\": {\"color\": \"white\", \"width\": 0.5}}, \"type\": \"bar\"}], \"barpolar\": [{\"marker\": {\"line\": {\"color\": \"white\", \"width\": 0.5}}, \"type\": \"barpolar\"}], \"carpet\": [{\"aaxis\": {\"endlinecolor\": \"rgb(36,36,36)\", \"gridcolor\": \"white\", \"linecolor\": \"white\", \"minorgridcolor\": \"white\", \"startlinecolor\": \"rgb(36,36,36)\"}, \"baxis\": {\"endlinecolor\": \"rgb(36,36,36)\", \"gridcolor\": \"white\", \"linecolor\": \"white\", \"minorgridcolor\": \"white\", \"startlinecolor\": \"rgb(36,36,36)\"}, \"type\": \"carpet\"}], \"choropleth\": [{\"colorbar\": {\"outlinewidth\": 1, \"tickcolor\": \"rgb(36,36,36)\", \"ticks\": \"outside\"}, \"type\": \"choropleth\"}], \"contour\": [{\"colorbar\": {\"outlinewidth\": 1, \"tickcolor\": \"rgb(36,36,36)\", \"ticks\": \"outside\"}, \"colorscale\": [[0.0, \"#440154\"], [0.1111111111111111, \"#482878\"], [0.2222222222222222, \"#3e4989\"], [0.3333333333333333, \"#31688e\"], [0.4444444444444444, \"#26828e\"], [0.5555555555555556, \"#1f9e89\"], [0.6666666666666666, \"#35b779\"], [0.7777777777777778, \"#6ece58\"], [0.8888888888888888, \"#b5de2b\"], [1.0, \"#fde725\"]], \"type\": \"contour\"}], \"contourcarpet\": [{\"colorbar\": {\"outlinewidth\": 1, \"tickcolor\": \"rgb(36,36,36)\", \"ticks\": \"outside\"}, \"type\": \"contourcarpet\"}], \"heatmap\": [{\"colorbar\": {\"outlinewidth\": 1, \"tickcolor\": \"rgb(36,36,36)\", \"ticks\": \"outside\"}, \"colorscale\": [[0.0, \"#440154\"], [0.1111111111111111, \"#482878\"], [0.2222222222222222, \"#3e4989\"], [0.3333333333333333, \"#31688e\"], [0.4444444444444444, \"#26828e\"], [0.5555555555555556, \"#1f9e89\"], [0.6666666666666666, \"#35b779\"], [0.7777777777777778, \"#6ece58\"], [0.8888888888888888, \"#b5de2b\"], [1.0, \"#fde725\"]], \"type\": \"heatmap\"}], \"heatmapgl\": [{\"colorbar\": {\"outlinewidth\": 1, \"tickcolor\": \"rgb(36,36,36)\", \"ticks\": \"outside\"}, \"colorscale\": [[0.0, \"#440154\"], [0.1111111111111111, \"#482878\"], [0.2222222222222222, \"#3e4989\"], [0.3333333333333333, \"#31688e\"], [0.4444444444444444, \"#26828e\"], [0.5555555555555556, \"#1f9e89\"], [0.6666666666666666, \"#35b779\"], [0.7777777777777778, \"#6ece58\"], [0.8888888888888888, \"#b5de2b\"], [1.0, \"#fde725\"]], \"type\": \"heatmapgl\"}], \"histogram\": [{\"marker\": {\"line\": {\"color\": \"white\", \"width\": 0.6}}, \"type\": \"histogram\"}], \"histogram2d\": [{\"colorbar\": {\"outlinewidth\": 1, \"tickcolor\": \"rgb(36,36,36)\", \"ticks\": \"outside\"}, \"colorscale\": [[0.0, \"#440154\"], [0.1111111111111111, \"#482878\"], [0.2222222222222222, \"#3e4989\"], [0.3333333333333333, \"#31688e\"], [0.4444444444444444, \"#26828e\"], [0.5555555555555556, \"#1f9e89\"], [0.6666666666666666, \"#35b779\"], [0.7777777777777778, \"#6ece58\"], [0.8888888888888888, \"#b5de2b\"], [1.0, \"#fde725\"]], \"type\": \"histogram2d\"}], \"histogram2dcontour\": [{\"colorbar\": {\"outlinewidth\": 1, \"tickcolor\": \"rgb(36,36,36)\", \"ticks\": \"outside\"}, \"colorscale\": [[0.0, \"#440154\"], [0.1111111111111111, \"#482878\"], [0.2222222222222222, \"#3e4989\"], [0.3333333333333333, \"#31688e\"], [0.4444444444444444, \"#26828e\"], [0.5555555555555556, \"#1f9e89\"], [0.6666666666666666, \"#35b779\"], [0.7777777777777778, \"#6ece58\"], [0.8888888888888888, \"#b5de2b\"], [1.0, \"#fde725\"]], \"type\": \"histogram2dcontour\"}], \"mesh3d\": [{\"colorbar\": {\"outlinewidth\": 1, \"tickcolor\": \"rgb(36,36,36)\", \"ticks\": \"outside\"}, \"type\": \"mesh3d\"}], \"parcoords\": [{\"line\": {\"colorbar\": {\"outlinewidth\": 1, \"tickcolor\": \"rgb(36,36,36)\", \"ticks\": \"outside\"}}, \"type\": \"parcoords\"}], \"pie\": [{\"automargin\": true, \"type\": \"pie\"}], \"scatter\": [{\"marker\": {\"colorbar\": {\"outlinewidth\": 1, \"tickcolor\": \"rgb(36,36,36)\", \"ticks\": \"outside\"}}, \"type\": \"scatter\"}], \"scatter3d\": [{\"line\": {\"colorbar\": {\"outlinewidth\": 1, \"tickcolor\": \"rgb(36,36,36)\", \"ticks\": \"outside\"}}, \"marker\": {\"colorbar\": {\"outlinewidth\": 1, \"tickcolor\": \"rgb(36,36,36)\", \"ticks\": \"outside\"}}, \"type\": \"scatter3d\"}], \"scattercarpet\": [{\"marker\": {\"colorbar\": {\"outlinewidth\": 1, \"tickcolor\": \"rgb(36,36,36)\", \"ticks\": \"outside\"}}, \"type\": \"scattercarpet\"}], \"scattergeo\": [{\"marker\": {\"colorbar\": {\"outlinewidth\": 1, \"tickcolor\": \"rgb(36,36,36)\", \"ticks\": \"outside\"}}, \"type\": \"scattergeo\"}], \"scattergl\": [{\"marker\": {\"colorbar\": {\"outlinewidth\": 1, \"tickcolor\": \"rgb(36,36,36)\", \"ticks\": \"outside\"}}, \"type\": \"scattergl\"}], \"scattermapbox\": [{\"marker\": {\"colorbar\": {\"outlinewidth\": 1, \"tickcolor\": \"rgb(36,36,36)\", \"ticks\": \"outside\"}}, \"type\": \"scattermapbox\"}], \"scatterpolar\": [{\"marker\": {\"colorbar\": {\"outlinewidth\": 1, \"tickcolor\": \"rgb(36,36,36)\", \"ticks\": \"outside\"}}, \"type\": \"scatterpolar\"}], \"scatterpolargl\": [{\"marker\": {\"colorbar\": {\"outlinewidth\": 1, \"tickcolor\": \"rgb(36,36,36)\", \"ticks\": \"outside\"}}, \"type\": \"scatterpolargl\"}], \"scatterternary\": [{\"marker\": {\"colorbar\": {\"outlinewidth\": 1, \"tickcolor\": \"rgb(36,36,36)\", \"ticks\": \"outside\"}}, \"type\": \"scatterternary\"}], \"surface\": [{\"colorbar\": {\"outlinewidth\": 1, \"tickcolor\": \"rgb(36,36,36)\", \"ticks\": \"outside\"}, \"colorscale\": [[0.0, \"#440154\"], [0.1111111111111111, \"#482878\"], [0.2222222222222222, \"#3e4989\"], [0.3333333333333333, \"#31688e\"], [0.4444444444444444, \"#26828e\"], [0.5555555555555556, \"#1f9e89\"], [0.6666666666666666, \"#35b779\"], [0.7777777777777778, \"#6ece58\"], [0.8888888888888888, \"#b5de2b\"], [1.0, \"#fde725\"]], \"type\": \"surface\"}], \"table\": [{\"cells\": {\"fill\": {\"color\": \"rgb(237,237,237)\"}, \"line\": {\"color\": \"white\"}}, \"header\": {\"fill\": {\"color\": \"rgb(217,217,217)\"}, \"line\": {\"color\": \"white\"}}, \"type\": \"table\"}]}, \"layout\": {\"annotationdefaults\": {\"arrowhead\": 0, \"arrowwidth\": 1}, \"coloraxis\": {\"colorbar\": {\"outlinewidth\": 1, \"tickcolor\": \"rgb(36,36,36)\", \"ticks\": \"outside\"}}, \"colorscale\": {\"diverging\": [[0.0, \"rgb(103,0,31)\"], [0.1, \"rgb(178,24,43)\"], [0.2, \"rgb(214,96,77)\"], [0.3, \"rgb(244,165,130)\"], [0.4, \"rgb(253,219,199)\"], [0.5, \"rgb(247,247,247)\"], [0.6, \"rgb(209,229,240)\"], [0.7, \"rgb(146,197,222)\"], [0.8, \"rgb(67,147,195)\"], [0.9, \"rgb(33,102,172)\"], [1.0, \"rgb(5,48,97)\"]], \"sequential\": [[0.0, \"#440154\"], [0.1111111111111111, \"#482878\"], [0.2222222222222222, \"#3e4989\"], [0.3333333333333333, \"#31688e\"], [0.4444444444444444, \"#26828e\"], [0.5555555555555556, \"#1f9e89\"], [0.6666666666666666, \"#35b779\"], [0.7777777777777778, \"#6ece58\"], [0.8888888888888888, \"#b5de2b\"], [1.0, \"#fde725\"]], \"sequentialminus\": [[0.0, \"#440154\"], [0.1111111111111111, \"#482878\"], [0.2222222222222222, \"#3e4989\"], [0.3333333333333333, \"#31688e\"], [0.4444444444444444, \"#26828e\"], [0.5555555555555556, \"#1f9e89\"], [0.6666666666666666, \"#35b779\"], [0.7777777777777778, \"#6ece58\"], [0.8888888888888888, \"#b5de2b\"], [1.0, \"#fde725\"]]}, \"colorway\": [\"#1F77B4\", \"#FF7F0E\", \"#2CA02C\", \"#D62728\", \"#9467BD\", \"#8C564B\", \"#E377C2\", \"#7F7F7F\", \"#BCBD22\", \"#17BECF\"], \"font\": {\"color\": \"rgb(36,36,36)\"}, \"geo\": {\"bgcolor\": \"white\", \"lakecolor\": \"white\", \"landcolor\": \"white\", \"showlakes\": true, \"showland\": true, \"subunitcolor\": \"white\"}, \"hoverlabel\": {\"align\": \"left\"}, \"hovermode\": \"closest\", \"mapbox\": {\"style\": \"light\"}, \"paper_bgcolor\": \"white\", \"plot_bgcolor\": \"white\", \"polar\": {\"angularaxis\": {\"gridcolor\": \"rgb(232,232,232)\", \"linecolor\": \"rgb(36,36,36)\", \"showgrid\": false, \"showline\": true, \"ticks\": \"outside\"}, \"bgcolor\": \"white\", \"radialaxis\": {\"gridcolor\": \"rgb(232,232,232)\", \"linecolor\": \"rgb(36,36,36)\", \"showgrid\": false, \"showline\": true, \"ticks\": \"outside\"}}, \"scene\": {\"xaxis\": {\"backgroundcolor\": \"white\", \"gridcolor\": \"rgb(232,232,232)\", \"gridwidth\": 2, \"linecolor\": \"rgb(36,36,36)\", \"showbackground\": true, \"showgrid\": false, \"showline\": true, \"ticks\": \"outside\", \"zeroline\": false, \"zerolinecolor\": \"rgb(36,36,36)\"}, \"yaxis\": {\"backgroundcolor\": \"white\", \"gridcolor\": \"rgb(232,232,232)\", \"gridwidth\": 2, \"linecolor\": \"rgb(36,36,36)\", \"showbackground\": true, \"showgrid\": false, \"showline\": true, \"ticks\": \"outside\", \"zeroline\": false, \"zerolinecolor\": \"rgb(36,36,36)\"}, \"zaxis\": {\"backgroundcolor\": \"white\", \"gridcolor\": \"rgb(232,232,232)\", \"gridwidth\": 2, \"linecolor\": \"rgb(36,36,36)\", \"showbackground\": true, \"showgrid\": false, \"showline\": true, \"ticks\": \"outside\", \"zeroline\": false, \"zerolinecolor\": \"rgb(36,36,36)\"}}, \"shapedefaults\": {\"fillcolor\": \"black\", \"line\": {\"width\": 0}, \"opacity\": 0.3}, \"ternary\": {\"aaxis\": {\"gridcolor\": \"rgb(232,232,232)\", \"linecolor\": \"rgb(36,36,36)\", \"showgrid\": false, \"showline\": true, \"ticks\": \"outside\"}, \"baxis\": {\"gridcolor\": \"rgb(232,232,232)\", \"linecolor\": \"rgb(36,36,36)\", \"showgrid\": false, \"showline\": true, \"ticks\": \"outside\"}, \"bgcolor\": \"white\", \"caxis\": {\"gridcolor\": \"rgb(232,232,232)\", \"linecolor\": \"rgb(36,36,36)\", \"showgrid\": false, \"showline\": true, \"ticks\": \"outside\"}}, \"title\": {\"x\": 0.05}, \"xaxis\": {\"automargin\": true, \"gridcolor\": \"rgb(232,232,232)\", \"linecolor\": \"rgb(36,36,36)\", \"showgrid\": false, \"showline\": true, \"ticks\": \"outside\", \"title\": {\"standoff\": 15}, \"zeroline\": false, \"zerolinecolor\": \"rgb(36,36,36)\"}, \"yaxis\": {\"automargin\": true, \"gridcolor\": \"rgb(232,232,232)\", \"linecolor\": \"rgb(36,36,36)\", \"showgrid\": false, \"showline\": true, \"ticks\": \"outside\", \"title\": {\"standoff\": 15}, \"zeroline\": false, \"zerolinecolor\": \"rgb(36,36,36)\"}}}, \"title\": {\"text\": \"InletPressure g-pump-5 for 1, 2, 51, 52 weeks \"}, \"xaxis\": {\"anchor\": \"y\", \"domain\": [0.0, 1.0], \"title\": {\"text\": \"week\"}, \"type\": \"category\"}, \"yaxis\": {\"anchor\": \"x\", \"domain\": [0.0, 1.0], \"title\": {\"text\": \"feature_value\"}}},\n",
       "                        {\"responsive\": true}\n",
       "                    ).then(function(){\n",
       "                            \n",
       "var gd = document.getElementById('158b2d2f-8828-4e5c-a4d6-cc02f0009c02');\n",
       "var x = new MutationObserver(function (mutations, observer) {{\n",
       "        var display = window.getComputedStyle(gd).display;\n",
       "        if (!display || display === 'none') {{\n",
       "            console.log([gd, 'removed!']);\n",
       "            Plotly.purge(gd);\n",
       "            observer.disconnect();\n",
       "        }}\n",
       "}});\n",
       "\n",
       "// Listen for the removal of the full notebook cells\n",
       "var notebookContainer = gd.closest('#notebook-container');\n",
       "if (notebookContainer) {{\n",
       "    x.observe(notebookContainer, {childList: true});\n",
       "}}\n",
       "\n",
       "// Listen for the clearing of the current output cell\n",
       "var outputEl = gd.closest('.output');\n",
       "if (outputEl) {{\n",
       "    x.observe(outputEl, {childList: true});\n",
       "}}\n",
       "\n",
       "                        })\n",
       "                };\n",
       "                });\n",
       "            </script>\n",
       "        </div>"
      ]
     },
     "metadata": {},
     "output_type": "display_data"
    }
   ],
   "source": [
    "%%skip $skip_baseline_save\n",
    "week_numbers = week_numbers_inletPressure # Week numbers as List \n",
    "\n",
    "mu_inletpressure, sigma_inletpressure = get_baselining_variables_azure(df_data, variable_name = INLET_PRESSURE,\n",
    "                                                                       asset_id = asset_id,\n",
    "                                                                       lst_filter_values = week_numbers, \n",
    "                                                                       filter_column_name = \"week\",\n",
    "                                                                       select_column_name= 'feature_value',\n",
    "                                                                       filter_metric = \"AvgValue\")\n",
    "print(mu_inletpressure, sigma_inletpressure)\n",
    "\n",
    "show_baselining_plot_azure(df_data, duration = week_numbers, asset_name= asset_name, variable_name= INLET_PRESSURE,\n",
    "                           plot_type = \"box\")"
   ]
  },
  {
   "cell_type": "markdown",
   "metadata": {},
   "source": [
    "## Outlet Pressure"
   ]
  },
  {
   "cell_type": "code",
   "execution_count": 19,
   "metadata": {},
   "outputs": [
    {
     "name": "stdout",
     "output_type": "stream",
     "text": [
      "57.22597946124257 0.34913708239349417\n"
     ]
    },
    {
     "data": {
      "application/vnd.plotly.v1+json": {
       "config": {
        "plotlyServerURL": "https://plot.ly"
       },
       "data": [
        {
         "alignmentgroup": "True",
         "hoverlabel": {
          "namelength": 0
         },
         "hovertemplate": "week=%{x}<br>feature_value=%{y}",
         "legendgroup": "",
         "marker": {
          "color": "#1F77B4"
         },
         "name": "",
         "notched": false,
         "offsetgroup": "",
         "orientation": "v",
         "showlegend": false,
         "type": "box",
         "x": [
          48,
          48,
          48,
          48,
          48,
          48,
          48,
          48,
          48,
          48,
          48,
          48,
          48,
          48,
          48,
          48,
          48,
          48,
          48,
          48,
          48,
          48,
          48,
          48,
          48,
          48,
          48,
          48,
          48,
          48,
          48,
          48,
          48,
          48,
          48,
          48,
          48,
          48,
          48,
          48,
          48,
          48,
          48,
          48,
          48,
          48,
          48,
          48,
          48,
          48,
          48,
          48,
          48,
          48,
          48,
          48,
          48,
          48,
          48,
          48,
          48,
          48,
          48,
          48,
          48,
          48,
          48,
          48,
          48,
          48,
          48,
          48,
          48,
          48,
          48,
          48,
          48,
          48,
          48,
          48,
          48,
          48,
          48,
          48,
          48,
          48,
          48,
          48,
          48,
          48,
          48,
          48,
          48,
          48,
          48,
          48,
          48,
          48,
          48,
          48,
          48,
          48,
          48,
          48,
          48,
          48,
          48,
          48,
          48,
          48,
          48,
          48,
          48,
          48,
          48,
          48,
          48,
          48,
          48,
          48,
          48,
          48,
          48,
          48,
          48,
          48,
          48,
          48,
          48,
          48,
          48,
          48,
          48,
          48,
          48,
          48,
          48,
          48,
          48,
          48,
          48,
          48,
          48,
          48,
          48,
          48,
          48,
          48,
          48,
          48,
          48,
          48,
          48,
          48,
          48,
          48,
          48,
          48,
          48,
          48,
          48,
          48,
          48,
          48,
          48,
          48,
          49,
          49,
          49,
          49,
          49,
          49,
          49,
          49,
          49,
          49,
          49,
          49,
          49,
          49,
          49,
          49,
          49,
          49,
          49,
          49,
          49,
          49,
          49,
          49,
          49,
          49,
          49,
          49,
          50,
          50,
          50,
          50,
          50,
          50,
          50,
          50,
          50,
          50,
          50,
          50,
          50,
          50,
          50,
          50,
          50,
          50,
          50,
          50,
          50,
          50,
          50,
          50,
          50,
          50,
          50,
          50,
          50,
          50,
          50,
          50,
          50,
          50,
          50,
          50,
          50,
          50,
          50,
          50,
          50,
          50,
          50,
          50,
          50,
          50,
          50,
          50,
          50,
          50,
          50,
          50,
          50,
          50,
          50,
          50,
          50,
          50,
          50,
          50,
          50,
          50,
          50,
          50,
          50,
          50,
          50,
          50,
          50,
          50,
          50,
          50,
          52,
          52,
          52,
          52,
          52,
          52,
          52,
          52,
          52,
          52,
          52,
          52,
          52,
          52,
          52,
          52,
          52,
          52,
          52,
          52,
          52,
          52,
          52,
          52,
          52,
          52,
          52,
          52,
          52,
          52,
          52,
          52,
          52,
          52,
          52,
          52,
          52,
          52,
          52,
          52,
          52,
          52,
          52,
          52,
          52,
          52,
          52,
          52,
          52,
          52,
          52,
          52,
          52,
          52,
          52,
          52,
          52,
          52,
          52,
          52,
          52,
          52,
          52,
          52,
          52,
          52,
          52,
          52,
          52,
          52,
          52,
          52,
          52,
          52,
          52,
          52,
          52,
          52,
          52,
          52,
          52,
          52,
          52,
          52,
          52,
          52,
          52,
          52,
          52,
          52,
          52,
          52,
          52,
          52,
          52,
          52,
          52,
          52,
          52,
          52,
          52,
          52,
          52,
          52,
          52,
          52,
          52,
          52,
          52,
          52,
          52,
          52,
          52,
          52,
          52,
          52,
          52,
          52,
          52,
          52,
          52,
          52,
          52,
          52,
          52,
          52,
          52,
          52,
          52,
          52,
          52,
          52,
          52,
          52,
          52,
          52,
          52,
          52,
          52,
          52,
          52,
          52,
          52,
          52,
          52,
          52,
          52,
          52,
          52,
          52,
          52,
          52,
          52,
          52,
          52,
          52,
          52,
          52,
          52,
          52,
          52,
          52,
          52,
          52,
          52,
          52,
          52,
          52
         ],
         "x0": " ",
         "xaxis": "x",
         "y": [
          56.57051282051282,
          56.587683150183146,
          56.93172568172571,
          56.94444444444446,
          57.56066849816849,
          56.85604904354906,
          57.45446682946682,
          57.312016687016694,
          57.03792735042737,
          56.73522079772081,
          57.10215710215709,
          57.2585978835979,
          57.03411172161174,
          57.587377899877914,
          56.88085063085063,
          57.831578144078144,
          57.93841575091576,
          57.87227818477819,
          58.18325193325194,
          57.46273402523403,
          56.99150386650387,
          57.47227309727308,
          57.50534188034189,
          57.42266992266993,
          57.800417175417174,
          58.12792531542531,
          57.3775183150183,
          57.5772028897029,
          58.109483109483115,
          57.4506512006512,
          57.615359177859176,
          57.53077940577942,
          56.988324175824175,
          57.17147435897436,
          57.24651505901505,
          57.53586691086692,
          57.27068070818071,
          57.37879019129019,
          57.08435083435083,
          57.73046398046398,
          57.80677655677656,
          57.71647334147335,
          57.40295584045583,
          57.4786324786325,
          57.345721408221415,
          57.546041921041905,
          57.52124033374033,
          57.31265262515262,
          57.327915140415165,
          57.92506105006106,
          57.83539377289376,
          57.77943121693121,
          57.900895400895415,
          57.16193528693528,
          57.79342185592187,
          57.59564509564509,
          57.57465913715913,
          56.94444444444445,
          57.48117623117624,
          57.385785510785524,
          57.4105870980871,
          57.671957671957664,
          57.529507529507526,
          57.36734330484328,
          57.477996540496555,
          57.685312372812355,
          56.898656898656895,
          56.27798127798129,
          57.54349816849816,
          57.24460724460724,
          57.62044668294669,
          57.66941391941393,
          57.71329365079365,
          58.085317460317476,
          57.54858567358567,
          57.70884208384208,
          57.25287444037445,
          57.079263329263334,
          57.62553418803417,
          57.4856277981278,
          56.817256817256826,
          57.59437321937322,
          57.70693426943428,
          57.23188848188846,
          57.32537138787139,
          57.46273402523405,
          57.24651505901508,
          57.30184167684168,
          57.139677452177466,
          57.163207163207176,
          56.90438034188035,
          56.78736772486772,
          57.16129934879936,
          57.8760938135938,
          57.1320461945462,
          57.43538868538869,
          56.94762413512413,
          57.69993894993897,
          57.22171347171348,
          56.917735042735046,
          57.050646113146115,
          57.1072446072446,
          57.279583842083845,
          56.78418803418805,
          57.263685388685396,
          57.34890109890109,
          56.9088319088319,
          57.54031847781848,
          57.60391229141231,
          57.55558099308099,
          57.217897842897834,
          57.22743691493691,
          57.409315221815234,
          57.050010175010186,
          57.31010887260887,
          57.4970746845747,
          57.683404558404554,
          57.25986975986976,
          57.38832926332925,
          56.927274114774114,
          57.00994607244609,
          57.04301485551486,
          57.36797924297925,
          57.373066748066755,
          57.51678876678878,
          57.3787901912902,
          57.343177655677685,
          57.84556878306878,
          57.411858974358985,
          57.542226292226296,
          57.41631054131057,
          58.10821123321124,
          57.334910459910475,
          57.228708791208796,
          57.28912291412292,
          57.46654965404966,
          57.34317765567764,
          57.074811762311775,
          57.303749491249505,
          57.30120573870573,
          57.388329263329275,
          57.23570411070413,
          57.2542735042735,
          57.21281033781034,
          57.748270248270245,
          57.47481684981684,
          57.4690934065934,
          57.42775742775743,
          57.35335266585269,
          57.75272181522183,
          57.52314814814815,
          57.7272842897843,
          57.96894078144076,
          57.98865486365488,
          58.052248677248684,
          57.61981074481074,
          57.50152625152625,
          57.98865486365485,
          58.017272079772084,
          57.49135124135126,
          57.37179487179487,
          57.27640415140416,
          57.304385429385434,
          57.10724460724462,
          57.121235246235244,
          57.06400081400082,
          57.60391229141229,
          57.45446682946687,
          57.35144485144485,
          57.7291921041921,
          57.635709198209206,
          57.17338217338218,
          57.821403133903154,
          57.32600732600733,
          57.07290394790396,
          57.47757258173926,
          57.0455586080586,
          56.93108974358975,
          57.29866198616198,
          57.17719780219782,
          57.56766381766383,
          56.83951465201465,
          57.56957163207164,
          56.863680301180295,
          57.40677146927146,
          57.28212759462763,
          57.210902523402524,
          56.99404761904761,
          57.43475274725276,
          56.98450854700854,
          57.493894993895005,
          56.599765974765965,
          57.59691697191698,
          57.36352767602767,
          57.577838827838846,
          57.29675417175417,
          56.79309116809117,
          56.992775742775734,
          57.4271214896215,
          57.05255392755392,
          56.83124745624747,
          57.26940883190883,
          56.70215201465201,
          57.49707468457468,
          58.07323463573464,
          57.3037494912495,
          56.914555352055345,
          56.878306878306894,
          57.41949023199023,
          57.61981074481073,
          57.201363451363456,
          57.46336996336996,
          57.11233211233213,
          57.06272893772894,
          56.71995828245827,
          57.00994607244606,
          57.58229039479039,
          57.497710622710635,
          57.283399470899475,
          57.12632275132276,
          57.164479039479055,
          57.081171143671156,
          57.40104802604804,
          57.153032153032164,
          57.152396214896214,
          57.18928062678063,
          56.807081807081794,
          56.578780016280014,
          57.104700854700866,
          56.93744912494913,
          57.00167887667888,
          57.15875559625559,
          57.57465913715914,
          57.44238400488401,
          57.13776963776963,
          56.535536223036225,
          56.98578042328041,
          56.77782865282864,
          57.03093203093206,
          56.58959096459096,
          57.37942612942614,
          57.215354090354104,
          57.0137617012617,
          56.77274114774116,
          57.17274623524625,
          56.40453296703297,
          56.96479446479449,
          57.04746642246642,
          57.47290903540903,
          56.48656898656899,
          57.41694647944647,
          56.80072242572243,
          57.11487586487586,
          56.89865689865689,
          56.48529711029712,
          57.27131664631665,
          56.6633597883598,
          56.80326617826618,
          57.12823056573058,
          56.96352258852257,
          56.884030321530325,
          56.79245522995524,
          57.17274623524623,
          56.769561457061464,
          57.3489010989011,
          57.458918396418404,
          56.85986467236467,
          57.02393671143671,
          56.7237739112739,
          57.46782153032154,
          57.16447903947903,
          57.25160256410257,
          57.32155575905577,
          57.26432132682131,
          57.17465404965406,
          57.171474358974365,
          57.05700549450551,
          57.283399470899475,
          57.36352767602768,
          57.63952482702484,
          56.73840048840049,
          56.926002238502214,
          57.05509768009768,
          57.273860398860414,
          57.285307285307304,
          57.3609839234839,
          57.10851648351647,
          57.15048840048842,
          57.247786935286946,
          56.76828958078958,
          56.5266330891331,
          57.086258648758665,
          56.68625356125356,
          56.66145197395198,
          57.22234940984939,
          56.691977004477,
          57.31837606837609,
          56.849053724053725,
          56.7651098901099,
          56.96733821733822,
          56.76129426129426,
          56.78482397232397,
          57.08244301994302,
          57.37942612942613,
          56.831247456247446,
          57.212174399674375,
          57.39723239723239,
          57.120599308099294,
          57.31774013024012,
          57.175925925925924,
          56.759386446886445,
          56.712327024827026,
          57.048102360602364,
          56.74221611721612,
          57.0137617012617,
          57.036655474155474,
          57.023936711436704,
          56.98450854700854,
          56.6837098087098,
          56.60294566544567,
          57.08053520553519,
          57.06972425722426,
          56.75875050875052,
          56.85350529100529,
          56.87767094017094,
          56.7485754985755,
          56.843850593850604,
          56.839514652014635,
          57.369887057387075,
          57.7940577940578,
          56.74539580789582,
          57.08435083435083,
          57.196275946275954,
          56.65954415954416,
          57.62235449735451,
          56.689433251933245,
          56.61184879934879,
          57.43984025234025,
          56.92155067155068,
          57.069724257224244,
          57.098977411477414,
          56.75811457061457,
          56.5450752950753,
          56.87703500203502,
          56.61184879934879,
          56.5800518925519,
          56.89229751729753,
          56.8617724867725,
          56.878306878306894,
          57.388965201465204,
          56.68053011803014,
          57.32028388278388,
          56.89992877492878,
          56.89102564102564,
          56.80517399267401,
          57.08371489621489,
          57.02202889702888,
          57.07099613349613,
          57.18355718355719,
          56.85477716727717,
          56.92918192918193,
          57.29103072853073,
          57.17338217338217,
          57.023936711436725,
          57.31583231583233,
          56.30405474155476,
          56.847781847781825,
          56.87194749694751,
          57.24142755392756,
          56.95716320716323,
          57.39596052096055,
          57.42330586080586,
          57.36925111925114,
          56.87067562067563,
          57.45001526251528,
          57.22998066748067,
          57.16829466829466,
          57.08753052503053,
          57.427757427757435,
          57.435388685388695,
          57.22298534798534,
          56.788639601139614,
          56.81662087912087,
          56.722502035002044,
          57.011217948717956,
          57.10788054538056,
          57.35653235653235,
          57.1384055759056,
          56.97624135124138,
          57.36670736670737,
          57.48371998371999,
          57.59818884818887,
          57.066544566544565,
          56.63919413919413,
          57.15621184371184,
          57.30629324379325,
          57.0302960927961,
          56.99023199023199,
          57.22425722425722,
          56.71677859177861,
          57.31456043956044,
          57.34317765567767,
          57.02966015466016,
          57.30311355311357,
          56.808353683353694,
          57.23761192511193,
          56.882122507122496,
          57.072903947903946,
          57.081171143671156,
          57.45255901505902,
          57.7241045991046,
          57.447471509971486,
          57.14540089540091,
          57.0385632885633,
          57.881181318681335,
          57.311380748880744,
          58.0090048840049,
          57.694215506715516,
          56.979421041921064,
          58.05352055352054,
          57.46336996336998,
          57.50152625152626,
          57.1320461945462,
          57.434116809116794,
          57.354624542124554,
          57.16320716320715,
          57.22298534798534,
          57.92887667887667,
          57.3539886039886,
          57.575931013431024,
          57.284035409035425,
          57.139041514041544,
          57.49834656084656,
          57.36034798534797
         ],
         "y0": " ",
         "yaxis": "y"
        }
       ],
       "layout": {
        "boxmode": "group",
        "legend": {
         "tracegroupgap": 0
        },
        "template": {
         "data": {
          "bar": [
           {
            "error_x": {
             "color": "rgb(36,36,36)"
            },
            "error_y": {
             "color": "rgb(36,36,36)"
            },
            "marker": {
             "line": {
              "color": "white",
              "width": 0.5
             }
            },
            "type": "bar"
           }
          ],
          "barpolar": [
           {
            "marker": {
             "line": {
              "color": "white",
              "width": 0.5
             }
            },
            "type": "barpolar"
           }
          ],
          "carpet": [
           {
            "aaxis": {
             "endlinecolor": "rgb(36,36,36)",
             "gridcolor": "white",
             "linecolor": "white",
             "minorgridcolor": "white",
             "startlinecolor": "rgb(36,36,36)"
            },
            "baxis": {
             "endlinecolor": "rgb(36,36,36)",
             "gridcolor": "white",
             "linecolor": "white",
             "minorgridcolor": "white",
             "startlinecolor": "rgb(36,36,36)"
            },
            "type": "carpet"
           }
          ],
          "choropleth": [
           {
            "colorbar": {
             "outlinewidth": 1,
             "tickcolor": "rgb(36,36,36)",
             "ticks": "outside"
            },
            "type": "choropleth"
           }
          ],
          "contour": [
           {
            "colorbar": {
             "outlinewidth": 1,
             "tickcolor": "rgb(36,36,36)",
             "ticks": "outside"
            },
            "colorscale": [
             [
              0,
              "#440154"
             ],
             [
              0.1111111111111111,
              "#482878"
             ],
             [
              0.2222222222222222,
              "#3e4989"
             ],
             [
              0.3333333333333333,
              "#31688e"
             ],
             [
              0.4444444444444444,
              "#26828e"
             ],
             [
              0.5555555555555556,
              "#1f9e89"
             ],
             [
              0.6666666666666666,
              "#35b779"
             ],
             [
              0.7777777777777778,
              "#6ece58"
             ],
             [
              0.8888888888888888,
              "#b5de2b"
             ],
             [
              1,
              "#fde725"
             ]
            ],
            "type": "contour"
           }
          ],
          "contourcarpet": [
           {
            "colorbar": {
             "outlinewidth": 1,
             "tickcolor": "rgb(36,36,36)",
             "ticks": "outside"
            },
            "type": "contourcarpet"
           }
          ],
          "heatmap": [
           {
            "colorbar": {
             "outlinewidth": 1,
             "tickcolor": "rgb(36,36,36)",
             "ticks": "outside"
            },
            "colorscale": [
             [
              0,
              "#440154"
             ],
             [
              0.1111111111111111,
              "#482878"
             ],
             [
              0.2222222222222222,
              "#3e4989"
             ],
             [
              0.3333333333333333,
              "#31688e"
             ],
             [
              0.4444444444444444,
              "#26828e"
             ],
             [
              0.5555555555555556,
              "#1f9e89"
             ],
             [
              0.6666666666666666,
              "#35b779"
             ],
             [
              0.7777777777777778,
              "#6ece58"
             ],
             [
              0.8888888888888888,
              "#b5de2b"
             ],
             [
              1,
              "#fde725"
             ]
            ],
            "type": "heatmap"
           }
          ],
          "heatmapgl": [
           {
            "colorbar": {
             "outlinewidth": 1,
             "tickcolor": "rgb(36,36,36)",
             "ticks": "outside"
            },
            "colorscale": [
             [
              0,
              "#440154"
             ],
             [
              0.1111111111111111,
              "#482878"
             ],
             [
              0.2222222222222222,
              "#3e4989"
             ],
             [
              0.3333333333333333,
              "#31688e"
             ],
             [
              0.4444444444444444,
              "#26828e"
             ],
             [
              0.5555555555555556,
              "#1f9e89"
             ],
             [
              0.6666666666666666,
              "#35b779"
             ],
             [
              0.7777777777777778,
              "#6ece58"
             ],
             [
              0.8888888888888888,
              "#b5de2b"
             ],
             [
              1,
              "#fde725"
             ]
            ],
            "type": "heatmapgl"
           }
          ],
          "histogram": [
           {
            "marker": {
             "line": {
              "color": "white",
              "width": 0.6
             }
            },
            "type": "histogram"
           }
          ],
          "histogram2d": [
           {
            "colorbar": {
             "outlinewidth": 1,
             "tickcolor": "rgb(36,36,36)",
             "ticks": "outside"
            },
            "colorscale": [
             [
              0,
              "#440154"
             ],
             [
              0.1111111111111111,
              "#482878"
             ],
             [
              0.2222222222222222,
              "#3e4989"
             ],
             [
              0.3333333333333333,
              "#31688e"
             ],
             [
              0.4444444444444444,
              "#26828e"
             ],
             [
              0.5555555555555556,
              "#1f9e89"
             ],
             [
              0.6666666666666666,
              "#35b779"
             ],
             [
              0.7777777777777778,
              "#6ece58"
             ],
             [
              0.8888888888888888,
              "#b5de2b"
             ],
             [
              1,
              "#fde725"
             ]
            ],
            "type": "histogram2d"
           }
          ],
          "histogram2dcontour": [
           {
            "colorbar": {
             "outlinewidth": 1,
             "tickcolor": "rgb(36,36,36)",
             "ticks": "outside"
            },
            "colorscale": [
             [
              0,
              "#440154"
             ],
             [
              0.1111111111111111,
              "#482878"
             ],
             [
              0.2222222222222222,
              "#3e4989"
             ],
             [
              0.3333333333333333,
              "#31688e"
             ],
             [
              0.4444444444444444,
              "#26828e"
             ],
             [
              0.5555555555555556,
              "#1f9e89"
             ],
             [
              0.6666666666666666,
              "#35b779"
             ],
             [
              0.7777777777777778,
              "#6ece58"
             ],
             [
              0.8888888888888888,
              "#b5de2b"
             ],
             [
              1,
              "#fde725"
             ]
            ],
            "type": "histogram2dcontour"
           }
          ],
          "mesh3d": [
           {
            "colorbar": {
             "outlinewidth": 1,
             "tickcolor": "rgb(36,36,36)",
             "ticks": "outside"
            },
            "type": "mesh3d"
           }
          ],
          "parcoords": [
           {
            "line": {
             "colorbar": {
              "outlinewidth": 1,
              "tickcolor": "rgb(36,36,36)",
              "ticks": "outside"
             }
            },
            "type": "parcoords"
           }
          ],
          "pie": [
           {
            "automargin": true,
            "type": "pie"
           }
          ],
          "scatter": [
           {
            "marker": {
             "colorbar": {
              "outlinewidth": 1,
              "tickcolor": "rgb(36,36,36)",
              "ticks": "outside"
             }
            },
            "type": "scatter"
           }
          ],
          "scatter3d": [
           {
            "line": {
             "colorbar": {
              "outlinewidth": 1,
              "tickcolor": "rgb(36,36,36)",
              "ticks": "outside"
             }
            },
            "marker": {
             "colorbar": {
              "outlinewidth": 1,
              "tickcolor": "rgb(36,36,36)",
              "ticks": "outside"
             }
            },
            "type": "scatter3d"
           }
          ],
          "scattercarpet": [
           {
            "marker": {
             "colorbar": {
              "outlinewidth": 1,
              "tickcolor": "rgb(36,36,36)",
              "ticks": "outside"
             }
            },
            "type": "scattercarpet"
           }
          ],
          "scattergeo": [
           {
            "marker": {
             "colorbar": {
              "outlinewidth": 1,
              "tickcolor": "rgb(36,36,36)",
              "ticks": "outside"
             }
            },
            "type": "scattergeo"
           }
          ],
          "scattergl": [
           {
            "marker": {
             "colorbar": {
              "outlinewidth": 1,
              "tickcolor": "rgb(36,36,36)",
              "ticks": "outside"
             }
            },
            "type": "scattergl"
           }
          ],
          "scattermapbox": [
           {
            "marker": {
             "colorbar": {
              "outlinewidth": 1,
              "tickcolor": "rgb(36,36,36)",
              "ticks": "outside"
             }
            },
            "type": "scattermapbox"
           }
          ],
          "scatterpolar": [
           {
            "marker": {
             "colorbar": {
              "outlinewidth": 1,
              "tickcolor": "rgb(36,36,36)",
              "ticks": "outside"
             }
            },
            "type": "scatterpolar"
           }
          ],
          "scatterpolargl": [
           {
            "marker": {
             "colorbar": {
              "outlinewidth": 1,
              "tickcolor": "rgb(36,36,36)",
              "ticks": "outside"
             }
            },
            "type": "scatterpolargl"
           }
          ],
          "scatterternary": [
           {
            "marker": {
             "colorbar": {
              "outlinewidth": 1,
              "tickcolor": "rgb(36,36,36)",
              "ticks": "outside"
             }
            },
            "type": "scatterternary"
           }
          ],
          "surface": [
           {
            "colorbar": {
             "outlinewidth": 1,
             "tickcolor": "rgb(36,36,36)",
             "ticks": "outside"
            },
            "colorscale": [
             [
              0,
              "#440154"
             ],
             [
              0.1111111111111111,
              "#482878"
             ],
             [
              0.2222222222222222,
              "#3e4989"
             ],
             [
              0.3333333333333333,
              "#31688e"
             ],
             [
              0.4444444444444444,
              "#26828e"
             ],
             [
              0.5555555555555556,
              "#1f9e89"
             ],
             [
              0.6666666666666666,
              "#35b779"
             ],
             [
              0.7777777777777778,
              "#6ece58"
             ],
             [
              0.8888888888888888,
              "#b5de2b"
             ],
             [
              1,
              "#fde725"
             ]
            ],
            "type": "surface"
           }
          ],
          "table": [
           {
            "cells": {
             "fill": {
              "color": "rgb(237,237,237)"
             },
             "line": {
              "color": "white"
             }
            },
            "header": {
             "fill": {
              "color": "rgb(217,217,217)"
             },
             "line": {
              "color": "white"
             }
            },
            "type": "table"
           }
          ]
         },
         "layout": {
          "annotationdefaults": {
           "arrowhead": 0,
           "arrowwidth": 1
          },
          "coloraxis": {
           "colorbar": {
            "outlinewidth": 1,
            "tickcolor": "rgb(36,36,36)",
            "ticks": "outside"
           }
          },
          "colorscale": {
           "diverging": [
            [
             0,
             "rgb(103,0,31)"
            ],
            [
             0.1,
             "rgb(178,24,43)"
            ],
            [
             0.2,
             "rgb(214,96,77)"
            ],
            [
             0.3,
             "rgb(244,165,130)"
            ],
            [
             0.4,
             "rgb(253,219,199)"
            ],
            [
             0.5,
             "rgb(247,247,247)"
            ],
            [
             0.6,
             "rgb(209,229,240)"
            ],
            [
             0.7,
             "rgb(146,197,222)"
            ],
            [
             0.8,
             "rgb(67,147,195)"
            ],
            [
             0.9,
             "rgb(33,102,172)"
            ],
            [
             1,
             "rgb(5,48,97)"
            ]
           ],
           "sequential": [
            [
             0,
             "#440154"
            ],
            [
             0.1111111111111111,
             "#482878"
            ],
            [
             0.2222222222222222,
             "#3e4989"
            ],
            [
             0.3333333333333333,
             "#31688e"
            ],
            [
             0.4444444444444444,
             "#26828e"
            ],
            [
             0.5555555555555556,
             "#1f9e89"
            ],
            [
             0.6666666666666666,
             "#35b779"
            ],
            [
             0.7777777777777778,
             "#6ece58"
            ],
            [
             0.8888888888888888,
             "#b5de2b"
            ],
            [
             1,
             "#fde725"
            ]
           ],
           "sequentialminus": [
            [
             0,
             "#440154"
            ],
            [
             0.1111111111111111,
             "#482878"
            ],
            [
             0.2222222222222222,
             "#3e4989"
            ],
            [
             0.3333333333333333,
             "#31688e"
            ],
            [
             0.4444444444444444,
             "#26828e"
            ],
            [
             0.5555555555555556,
             "#1f9e89"
            ],
            [
             0.6666666666666666,
             "#35b779"
            ],
            [
             0.7777777777777778,
             "#6ece58"
            ],
            [
             0.8888888888888888,
             "#b5de2b"
            ],
            [
             1,
             "#fde725"
            ]
           ]
          },
          "colorway": [
           "#1F77B4",
           "#FF7F0E",
           "#2CA02C",
           "#D62728",
           "#9467BD",
           "#8C564B",
           "#E377C2",
           "#7F7F7F",
           "#BCBD22",
           "#17BECF"
          ],
          "font": {
           "color": "rgb(36,36,36)"
          },
          "geo": {
           "bgcolor": "white",
           "lakecolor": "white",
           "landcolor": "white",
           "showlakes": true,
           "showland": true,
           "subunitcolor": "white"
          },
          "hoverlabel": {
           "align": "left"
          },
          "hovermode": "closest",
          "mapbox": {
           "style": "light"
          },
          "paper_bgcolor": "white",
          "plot_bgcolor": "white",
          "polar": {
           "angularaxis": {
            "gridcolor": "rgb(232,232,232)",
            "linecolor": "rgb(36,36,36)",
            "showgrid": false,
            "showline": true,
            "ticks": "outside"
           },
           "bgcolor": "white",
           "radialaxis": {
            "gridcolor": "rgb(232,232,232)",
            "linecolor": "rgb(36,36,36)",
            "showgrid": false,
            "showline": true,
            "ticks": "outside"
           }
          },
          "scene": {
           "xaxis": {
            "backgroundcolor": "white",
            "gridcolor": "rgb(232,232,232)",
            "gridwidth": 2,
            "linecolor": "rgb(36,36,36)",
            "showbackground": true,
            "showgrid": false,
            "showline": true,
            "ticks": "outside",
            "zeroline": false,
            "zerolinecolor": "rgb(36,36,36)"
           },
           "yaxis": {
            "backgroundcolor": "white",
            "gridcolor": "rgb(232,232,232)",
            "gridwidth": 2,
            "linecolor": "rgb(36,36,36)",
            "showbackground": true,
            "showgrid": false,
            "showline": true,
            "ticks": "outside",
            "zeroline": false,
            "zerolinecolor": "rgb(36,36,36)"
           },
           "zaxis": {
            "backgroundcolor": "white",
            "gridcolor": "rgb(232,232,232)",
            "gridwidth": 2,
            "linecolor": "rgb(36,36,36)",
            "showbackground": true,
            "showgrid": false,
            "showline": true,
            "ticks": "outside",
            "zeroline": false,
            "zerolinecolor": "rgb(36,36,36)"
           }
          },
          "shapedefaults": {
           "fillcolor": "black",
           "line": {
            "width": 0
           },
           "opacity": 0.3
          },
          "ternary": {
           "aaxis": {
            "gridcolor": "rgb(232,232,232)",
            "linecolor": "rgb(36,36,36)",
            "showgrid": false,
            "showline": true,
            "ticks": "outside"
           },
           "baxis": {
            "gridcolor": "rgb(232,232,232)",
            "linecolor": "rgb(36,36,36)",
            "showgrid": false,
            "showline": true,
            "ticks": "outside"
           },
           "bgcolor": "white",
           "caxis": {
            "gridcolor": "rgb(232,232,232)",
            "linecolor": "rgb(36,36,36)",
            "showgrid": false,
            "showline": true,
            "ticks": "outside"
           }
          },
          "title": {
           "x": 0.05
          },
          "xaxis": {
           "automargin": true,
           "gridcolor": "rgb(232,232,232)",
           "linecolor": "rgb(36,36,36)",
           "showgrid": false,
           "showline": true,
           "ticks": "outside",
           "title": {
            "standoff": 15
           },
           "zeroline": false,
           "zerolinecolor": "rgb(36,36,36)"
          },
          "yaxis": {
           "automargin": true,
           "gridcolor": "rgb(232,232,232)",
           "linecolor": "rgb(36,36,36)",
           "showgrid": false,
           "showline": true,
           "ticks": "outside",
           "title": {
            "standoff": 15
           },
           "zeroline": false,
           "zerolinecolor": "rgb(36,36,36)"
          }
         }
        },
        "title": {
         "text": "OutletPressure g-pump-5 for 48, 49, 50, 52 weeks "
        },
        "xaxis": {
         "anchor": "y",
         "domain": [
          0,
          1
         ],
         "title": {
          "text": "week"
         },
         "type": "category"
        },
        "yaxis": {
         "anchor": "x",
         "domain": [
          0,
          1
         ],
         "title": {
          "text": "feature_value"
         }
        }
       }
      },
      "text/html": [
       "<div>\n",
       "        \n",
       "        \n",
       "            <div id=\"19cbb6fc-68cb-4031-a2c5-da9faaa5c339\" class=\"plotly-graph-div\" style=\"height:525px; width:100%;\"></div>\n",
       "            <script type=\"text/javascript\">\n",
       "                require([\"plotly\"], function(Plotly) {\n",
       "                    window.PLOTLYENV=window.PLOTLYENV || {};\n",
       "                    \n",
       "                if (document.getElementById(\"19cbb6fc-68cb-4031-a2c5-da9faaa5c339\")) {\n",
       "                    Plotly.newPlot(\n",
       "                        '19cbb6fc-68cb-4031-a2c5-da9faaa5c339',\n",
       "                        [{\"alignmentgroup\": \"True\", \"hoverlabel\": {\"namelength\": 0}, \"hovertemplate\": \"week=%{x}<br>feature_value=%{y}\", \"legendgroup\": \"\", \"marker\": {\"color\": \"#1F77B4\"}, \"name\": \"\", \"notched\": false, \"offsetgroup\": \"\", \"orientation\": \"v\", \"showlegend\": false, \"type\": \"box\", \"x\": [48, 48, 48, 48, 48, 48, 48, 48, 48, 48, 48, 48, 48, 48, 48, 48, 48, 48, 48, 48, 48, 48, 48, 48, 48, 48, 48, 48, 48, 48, 48, 48, 48, 48, 48, 48, 48, 48, 48, 48, 48, 48, 48, 48, 48, 48, 48, 48, 48, 48, 48, 48, 48, 48, 48, 48, 48, 48, 48, 48, 48, 48, 48, 48, 48, 48, 48, 48, 48, 48, 48, 48, 48, 48, 48, 48, 48, 48, 48, 48, 48, 48, 48, 48, 48, 48, 48, 48, 48, 48, 48, 48, 48, 48, 48, 48, 48, 48, 48, 48, 48, 48, 48, 48, 48, 48, 48, 48, 48, 48, 48, 48, 48, 48, 48, 48, 48, 48, 48, 48, 48, 48, 48, 48, 48, 48, 48, 48, 48, 48, 48, 48, 48, 48, 48, 48, 48, 48, 48, 48, 48, 48, 48, 48, 48, 48, 48, 48, 48, 48, 48, 48, 48, 48, 48, 48, 48, 48, 48, 48, 48, 48, 48, 48, 48, 48, 49, 49, 49, 49, 49, 49, 49, 49, 49, 49, 49, 49, 49, 49, 49, 49, 49, 49, 49, 49, 49, 49, 49, 49, 49, 49, 49, 49, 50, 50, 50, 50, 50, 50, 50, 50, 50, 50, 50, 50, 50, 50, 50, 50, 50, 50, 50, 50, 50, 50, 50, 50, 50, 50, 50, 50, 50, 50, 50, 50, 50, 50, 50, 50, 50, 50, 50, 50, 50, 50, 50, 50, 50, 50, 50, 50, 50, 50, 50, 50, 50, 50, 50, 50, 50, 50, 50, 50, 50, 50, 50, 50, 50, 50, 50, 50, 50, 50, 50, 50, 52, 52, 52, 52, 52, 52, 52, 52, 52, 52, 52, 52, 52, 52, 52, 52, 52, 52, 52, 52, 52, 52, 52, 52, 52, 52, 52, 52, 52, 52, 52, 52, 52, 52, 52, 52, 52, 52, 52, 52, 52, 52, 52, 52, 52, 52, 52, 52, 52, 52, 52, 52, 52, 52, 52, 52, 52, 52, 52, 52, 52, 52, 52, 52, 52, 52, 52, 52, 52, 52, 52, 52, 52, 52, 52, 52, 52, 52, 52, 52, 52, 52, 52, 52, 52, 52, 52, 52, 52, 52, 52, 52, 52, 52, 52, 52, 52, 52, 52, 52, 52, 52, 52, 52, 52, 52, 52, 52, 52, 52, 52, 52, 52, 52, 52, 52, 52, 52, 52, 52, 52, 52, 52, 52, 52, 52, 52, 52, 52, 52, 52, 52, 52, 52, 52, 52, 52, 52, 52, 52, 52, 52, 52, 52, 52, 52, 52, 52, 52, 52, 52, 52, 52, 52, 52, 52, 52, 52, 52, 52, 52, 52, 52, 52, 52, 52, 52, 52], \"x0\": \" \", \"xaxis\": \"x\", \"y\": [56.57051282051282, 56.587683150183146, 56.93172568172571, 56.94444444444446, 57.56066849816849, 56.85604904354906, 57.45446682946682, 57.312016687016694, 57.03792735042737, 56.73522079772081, 57.10215710215709, 57.2585978835979, 57.03411172161174, 57.587377899877914, 56.88085063085063, 57.831578144078144, 57.93841575091576, 57.87227818477819, 58.18325193325194, 57.46273402523403, 56.99150386650387, 57.47227309727308, 57.50534188034189, 57.42266992266993, 57.800417175417174, 58.12792531542531, 57.3775183150183, 57.5772028897029, 58.109483109483115, 57.4506512006512, 57.615359177859176, 57.53077940577942, 56.988324175824175, 57.17147435897436, 57.24651505901505, 57.53586691086692, 57.27068070818071, 57.37879019129019, 57.08435083435083, 57.73046398046398, 57.80677655677656, 57.71647334147335, 57.40295584045583, 57.4786324786325, 57.345721408221415, 57.546041921041905, 57.52124033374033, 57.31265262515262, 57.327915140415165, 57.92506105006106, 57.83539377289376, 57.77943121693121, 57.900895400895415, 57.16193528693528, 57.79342185592187, 57.59564509564509, 57.57465913715913, 56.94444444444445, 57.48117623117624, 57.385785510785524, 57.4105870980871, 57.671957671957664, 57.529507529507526, 57.36734330484328, 57.477996540496555, 57.685312372812355, 56.898656898656895, 56.27798127798129, 57.54349816849816, 57.24460724460724, 57.62044668294669, 57.66941391941393, 57.71329365079365, 58.085317460317476, 57.54858567358567, 57.70884208384208, 57.25287444037445, 57.079263329263334, 57.62553418803417, 57.4856277981278, 56.817256817256826, 57.59437321937322, 57.70693426943428, 57.23188848188846, 57.32537138787139, 57.46273402523405, 57.24651505901508, 57.30184167684168, 57.139677452177466, 57.163207163207176, 56.90438034188035, 56.78736772486772, 57.16129934879936, 57.8760938135938, 57.1320461945462, 57.43538868538869, 56.94762413512413, 57.69993894993897, 57.22171347171348, 56.917735042735046, 57.050646113146115, 57.1072446072446, 57.279583842083845, 56.78418803418805, 57.263685388685396, 57.34890109890109, 56.9088319088319, 57.54031847781848, 57.60391229141231, 57.55558099308099, 57.217897842897834, 57.22743691493691, 57.409315221815234, 57.050010175010186, 57.31010887260887, 57.4970746845747, 57.683404558404554, 57.25986975986976, 57.38832926332925, 56.927274114774114, 57.00994607244609, 57.04301485551486, 57.36797924297925, 57.373066748066755, 57.51678876678878, 57.3787901912902, 57.343177655677685, 57.84556878306878, 57.411858974358985, 57.542226292226296, 57.41631054131057, 58.10821123321124, 57.334910459910475, 57.228708791208796, 57.28912291412292, 57.46654965404966, 57.34317765567764, 57.074811762311775, 57.303749491249505, 57.30120573870573, 57.388329263329275, 57.23570411070413, 57.2542735042735, 57.21281033781034, 57.748270248270245, 57.47481684981684, 57.4690934065934, 57.42775742775743, 57.35335266585269, 57.75272181522183, 57.52314814814815, 57.7272842897843, 57.96894078144076, 57.98865486365488, 58.052248677248684, 57.61981074481074, 57.50152625152625, 57.98865486365485, 58.017272079772084, 57.49135124135126, 57.37179487179487, 57.27640415140416, 57.304385429385434, 57.10724460724462, 57.121235246235244, 57.06400081400082, 57.60391229141229, 57.45446682946687, 57.35144485144485, 57.7291921041921, 57.635709198209206, 57.17338217338218, 57.821403133903154, 57.32600732600733, 57.07290394790396, 57.47757258173926, 57.0455586080586, 56.93108974358975, 57.29866198616198, 57.17719780219782, 57.56766381766383, 56.83951465201465, 57.56957163207164, 56.863680301180295, 57.40677146927146, 57.28212759462763, 57.210902523402524, 56.99404761904761, 57.43475274725276, 56.98450854700854, 57.493894993895005, 56.599765974765965, 57.59691697191698, 57.36352767602767, 57.577838827838846, 57.29675417175417, 56.79309116809117, 56.992775742775734, 57.4271214896215, 57.05255392755392, 56.83124745624747, 57.26940883190883, 56.70215201465201, 57.49707468457468, 58.07323463573464, 57.3037494912495, 56.914555352055345, 56.878306878306894, 57.41949023199023, 57.61981074481073, 57.201363451363456, 57.46336996336996, 57.11233211233213, 57.06272893772894, 56.71995828245827, 57.00994607244606, 57.58229039479039, 57.497710622710635, 57.283399470899475, 57.12632275132276, 57.164479039479055, 57.081171143671156, 57.40104802604804, 57.153032153032164, 57.152396214896214, 57.18928062678063, 56.807081807081794, 56.578780016280014, 57.104700854700866, 56.93744912494913, 57.00167887667888, 57.15875559625559, 57.57465913715914, 57.44238400488401, 57.13776963776963, 56.535536223036225, 56.98578042328041, 56.77782865282864, 57.03093203093206, 56.58959096459096, 57.37942612942614, 57.215354090354104, 57.0137617012617, 56.77274114774116, 57.17274623524625, 56.40453296703297, 56.96479446479449, 57.04746642246642, 57.47290903540903, 56.48656898656899, 57.41694647944647, 56.80072242572243, 57.11487586487586, 56.89865689865689, 56.48529711029712, 57.27131664631665, 56.6633597883598, 56.80326617826618, 57.12823056573058, 56.96352258852257, 56.884030321530325, 56.79245522995524, 57.17274623524623, 56.769561457061464, 57.3489010989011, 57.458918396418404, 56.85986467236467, 57.02393671143671, 56.7237739112739, 57.46782153032154, 57.16447903947903, 57.25160256410257, 57.32155575905577, 57.26432132682131, 57.17465404965406, 57.171474358974365, 57.05700549450551, 57.283399470899475, 57.36352767602768, 57.63952482702484, 56.73840048840049, 56.926002238502214, 57.05509768009768, 57.273860398860414, 57.285307285307304, 57.3609839234839, 57.10851648351647, 57.15048840048842, 57.247786935286946, 56.76828958078958, 56.5266330891331, 57.086258648758665, 56.68625356125356, 56.66145197395198, 57.22234940984939, 56.691977004477, 57.31837606837609, 56.849053724053725, 56.7651098901099, 56.96733821733822, 56.76129426129426, 56.78482397232397, 57.08244301994302, 57.37942612942613, 56.831247456247446, 57.212174399674375, 57.39723239723239, 57.120599308099294, 57.31774013024012, 57.175925925925924, 56.759386446886445, 56.712327024827026, 57.048102360602364, 56.74221611721612, 57.0137617012617, 57.036655474155474, 57.023936711436704, 56.98450854700854, 56.6837098087098, 56.60294566544567, 57.08053520553519, 57.06972425722426, 56.75875050875052, 56.85350529100529, 56.87767094017094, 56.7485754985755, 56.843850593850604, 56.839514652014635, 57.369887057387075, 57.7940577940578, 56.74539580789582, 57.08435083435083, 57.196275946275954, 56.65954415954416, 57.62235449735451, 56.689433251933245, 56.61184879934879, 57.43984025234025, 56.92155067155068, 57.069724257224244, 57.098977411477414, 56.75811457061457, 56.5450752950753, 56.87703500203502, 56.61184879934879, 56.5800518925519, 56.89229751729753, 56.8617724867725, 56.878306878306894, 57.388965201465204, 56.68053011803014, 57.32028388278388, 56.89992877492878, 56.89102564102564, 56.80517399267401, 57.08371489621489, 57.02202889702888, 57.07099613349613, 57.18355718355719, 56.85477716727717, 56.92918192918193, 57.29103072853073, 57.17338217338217, 57.023936711436725, 57.31583231583233, 56.30405474155476, 56.847781847781825, 56.87194749694751, 57.24142755392756, 56.95716320716323, 57.39596052096055, 57.42330586080586, 57.36925111925114, 56.87067562067563, 57.45001526251528, 57.22998066748067, 57.16829466829466, 57.08753052503053, 57.427757427757435, 57.435388685388695, 57.22298534798534, 56.788639601139614, 56.81662087912087, 56.722502035002044, 57.011217948717956, 57.10788054538056, 57.35653235653235, 57.1384055759056, 56.97624135124138, 57.36670736670737, 57.48371998371999, 57.59818884818887, 57.066544566544565, 56.63919413919413, 57.15621184371184, 57.30629324379325, 57.0302960927961, 56.99023199023199, 57.22425722425722, 56.71677859177861, 57.31456043956044, 57.34317765567767, 57.02966015466016, 57.30311355311357, 56.808353683353694, 57.23761192511193, 56.882122507122496, 57.072903947903946, 57.081171143671156, 57.45255901505902, 57.7241045991046, 57.447471509971486, 57.14540089540091, 57.0385632885633, 57.881181318681335, 57.311380748880744, 58.0090048840049, 57.694215506715516, 56.979421041921064, 58.05352055352054, 57.46336996336998, 57.50152625152626, 57.1320461945462, 57.434116809116794, 57.354624542124554, 57.16320716320715, 57.22298534798534, 57.92887667887667, 57.3539886039886, 57.575931013431024, 57.284035409035425, 57.139041514041544, 57.49834656084656, 57.36034798534797], \"y0\": \" \", \"yaxis\": \"y\"}],\n",
       "                        {\"boxmode\": \"group\", \"legend\": {\"tracegroupgap\": 0}, \"template\": {\"data\": {\"bar\": [{\"error_x\": {\"color\": \"rgb(36,36,36)\"}, \"error_y\": {\"color\": \"rgb(36,36,36)\"}, \"marker\": {\"line\": {\"color\": \"white\", \"width\": 0.5}}, \"type\": \"bar\"}], \"barpolar\": [{\"marker\": {\"line\": {\"color\": \"white\", \"width\": 0.5}}, \"type\": \"barpolar\"}], \"carpet\": [{\"aaxis\": {\"endlinecolor\": \"rgb(36,36,36)\", \"gridcolor\": \"white\", \"linecolor\": \"white\", \"minorgridcolor\": \"white\", \"startlinecolor\": \"rgb(36,36,36)\"}, \"baxis\": {\"endlinecolor\": \"rgb(36,36,36)\", \"gridcolor\": \"white\", \"linecolor\": \"white\", \"minorgridcolor\": \"white\", \"startlinecolor\": \"rgb(36,36,36)\"}, \"type\": \"carpet\"}], \"choropleth\": [{\"colorbar\": {\"outlinewidth\": 1, \"tickcolor\": \"rgb(36,36,36)\", \"ticks\": \"outside\"}, \"type\": \"choropleth\"}], \"contour\": [{\"colorbar\": {\"outlinewidth\": 1, \"tickcolor\": \"rgb(36,36,36)\", \"ticks\": \"outside\"}, \"colorscale\": [[0.0, \"#440154\"], [0.1111111111111111, \"#482878\"], [0.2222222222222222, \"#3e4989\"], [0.3333333333333333, \"#31688e\"], [0.4444444444444444, \"#26828e\"], [0.5555555555555556, \"#1f9e89\"], [0.6666666666666666, \"#35b779\"], [0.7777777777777778, \"#6ece58\"], [0.8888888888888888, \"#b5de2b\"], [1.0, \"#fde725\"]], \"type\": \"contour\"}], \"contourcarpet\": [{\"colorbar\": {\"outlinewidth\": 1, \"tickcolor\": \"rgb(36,36,36)\", \"ticks\": \"outside\"}, \"type\": \"contourcarpet\"}], \"heatmap\": [{\"colorbar\": {\"outlinewidth\": 1, \"tickcolor\": \"rgb(36,36,36)\", \"ticks\": \"outside\"}, \"colorscale\": [[0.0, \"#440154\"], [0.1111111111111111, \"#482878\"], [0.2222222222222222, \"#3e4989\"], [0.3333333333333333, \"#31688e\"], [0.4444444444444444, \"#26828e\"], [0.5555555555555556, \"#1f9e89\"], [0.6666666666666666, \"#35b779\"], [0.7777777777777778, \"#6ece58\"], [0.8888888888888888, \"#b5de2b\"], [1.0, \"#fde725\"]], \"type\": \"heatmap\"}], \"heatmapgl\": [{\"colorbar\": {\"outlinewidth\": 1, \"tickcolor\": \"rgb(36,36,36)\", \"ticks\": \"outside\"}, \"colorscale\": [[0.0, \"#440154\"], [0.1111111111111111, \"#482878\"], [0.2222222222222222, \"#3e4989\"], [0.3333333333333333, \"#31688e\"], [0.4444444444444444, \"#26828e\"], [0.5555555555555556, \"#1f9e89\"], [0.6666666666666666, \"#35b779\"], [0.7777777777777778, \"#6ece58\"], [0.8888888888888888, \"#b5de2b\"], [1.0, \"#fde725\"]], \"type\": \"heatmapgl\"}], \"histogram\": [{\"marker\": {\"line\": {\"color\": \"white\", \"width\": 0.6}}, \"type\": \"histogram\"}], \"histogram2d\": [{\"colorbar\": {\"outlinewidth\": 1, \"tickcolor\": \"rgb(36,36,36)\", \"ticks\": \"outside\"}, \"colorscale\": [[0.0, \"#440154\"], [0.1111111111111111, \"#482878\"], [0.2222222222222222, \"#3e4989\"], [0.3333333333333333, \"#31688e\"], [0.4444444444444444, \"#26828e\"], [0.5555555555555556, \"#1f9e89\"], [0.6666666666666666, \"#35b779\"], [0.7777777777777778, \"#6ece58\"], [0.8888888888888888, \"#b5de2b\"], [1.0, \"#fde725\"]], \"type\": \"histogram2d\"}], \"histogram2dcontour\": [{\"colorbar\": {\"outlinewidth\": 1, \"tickcolor\": \"rgb(36,36,36)\", \"ticks\": \"outside\"}, \"colorscale\": [[0.0, \"#440154\"], [0.1111111111111111, \"#482878\"], [0.2222222222222222, \"#3e4989\"], [0.3333333333333333, \"#31688e\"], [0.4444444444444444, \"#26828e\"], [0.5555555555555556, \"#1f9e89\"], [0.6666666666666666, \"#35b779\"], [0.7777777777777778, \"#6ece58\"], [0.8888888888888888, \"#b5de2b\"], [1.0, \"#fde725\"]], \"type\": \"histogram2dcontour\"}], \"mesh3d\": [{\"colorbar\": {\"outlinewidth\": 1, \"tickcolor\": \"rgb(36,36,36)\", \"ticks\": \"outside\"}, \"type\": \"mesh3d\"}], \"parcoords\": [{\"line\": {\"colorbar\": {\"outlinewidth\": 1, \"tickcolor\": \"rgb(36,36,36)\", \"ticks\": \"outside\"}}, \"type\": \"parcoords\"}], \"pie\": [{\"automargin\": true, \"type\": \"pie\"}], \"scatter\": [{\"marker\": {\"colorbar\": {\"outlinewidth\": 1, \"tickcolor\": \"rgb(36,36,36)\", \"ticks\": \"outside\"}}, \"type\": \"scatter\"}], \"scatter3d\": [{\"line\": {\"colorbar\": {\"outlinewidth\": 1, \"tickcolor\": \"rgb(36,36,36)\", \"ticks\": \"outside\"}}, \"marker\": {\"colorbar\": {\"outlinewidth\": 1, \"tickcolor\": \"rgb(36,36,36)\", \"ticks\": \"outside\"}}, \"type\": \"scatter3d\"}], \"scattercarpet\": [{\"marker\": {\"colorbar\": {\"outlinewidth\": 1, \"tickcolor\": \"rgb(36,36,36)\", \"ticks\": \"outside\"}}, \"type\": \"scattercarpet\"}], \"scattergeo\": [{\"marker\": {\"colorbar\": {\"outlinewidth\": 1, \"tickcolor\": \"rgb(36,36,36)\", \"ticks\": \"outside\"}}, \"type\": \"scattergeo\"}], \"scattergl\": [{\"marker\": {\"colorbar\": {\"outlinewidth\": 1, \"tickcolor\": \"rgb(36,36,36)\", \"ticks\": \"outside\"}}, \"type\": \"scattergl\"}], \"scattermapbox\": [{\"marker\": {\"colorbar\": {\"outlinewidth\": 1, \"tickcolor\": \"rgb(36,36,36)\", \"ticks\": \"outside\"}}, \"type\": \"scattermapbox\"}], \"scatterpolar\": [{\"marker\": {\"colorbar\": {\"outlinewidth\": 1, \"tickcolor\": \"rgb(36,36,36)\", \"ticks\": \"outside\"}}, \"type\": \"scatterpolar\"}], \"scatterpolargl\": [{\"marker\": {\"colorbar\": {\"outlinewidth\": 1, \"tickcolor\": \"rgb(36,36,36)\", \"ticks\": \"outside\"}}, \"type\": \"scatterpolargl\"}], \"scatterternary\": [{\"marker\": {\"colorbar\": {\"outlinewidth\": 1, \"tickcolor\": \"rgb(36,36,36)\", \"ticks\": \"outside\"}}, \"type\": \"scatterternary\"}], \"surface\": [{\"colorbar\": {\"outlinewidth\": 1, \"tickcolor\": \"rgb(36,36,36)\", \"ticks\": \"outside\"}, \"colorscale\": [[0.0, \"#440154\"], [0.1111111111111111, \"#482878\"], [0.2222222222222222, \"#3e4989\"], [0.3333333333333333, \"#31688e\"], [0.4444444444444444, \"#26828e\"], [0.5555555555555556, \"#1f9e89\"], [0.6666666666666666, \"#35b779\"], [0.7777777777777778, \"#6ece58\"], [0.8888888888888888, \"#b5de2b\"], [1.0, \"#fde725\"]], \"type\": \"surface\"}], \"table\": [{\"cells\": {\"fill\": {\"color\": \"rgb(237,237,237)\"}, \"line\": {\"color\": \"white\"}}, \"header\": {\"fill\": {\"color\": \"rgb(217,217,217)\"}, \"line\": {\"color\": \"white\"}}, \"type\": \"table\"}]}, \"layout\": {\"annotationdefaults\": {\"arrowhead\": 0, \"arrowwidth\": 1}, \"coloraxis\": {\"colorbar\": {\"outlinewidth\": 1, \"tickcolor\": \"rgb(36,36,36)\", \"ticks\": \"outside\"}}, \"colorscale\": {\"diverging\": [[0.0, \"rgb(103,0,31)\"], [0.1, \"rgb(178,24,43)\"], [0.2, \"rgb(214,96,77)\"], [0.3, \"rgb(244,165,130)\"], [0.4, \"rgb(253,219,199)\"], [0.5, \"rgb(247,247,247)\"], [0.6, \"rgb(209,229,240)\"], [0.7, \"rgb(146,197,222)\"], [0.8, \"rgb(67,147,195)\"], [0.9, \"rgb(33,102,172)\"], [1.0, \"rgb(5,48,97)\"]], \"sequential\": [[0.0, \"#440154\"], [0.1111111111111111, \"#482878\"], [0.2222222222222222, \"#3e4989\"], [0.3333333333333333, \"#31688e\"], [0.4444444444444444, \"#26828e\"], [0.5555555555555556, \"#1f9e89\"], [0.6666666666666666, \"#35b779\"], [0.7777777777777778, \"#6ece58\"], [0.8888888888888888, \"#b5de2b\"], [1.0, \"#fde725\"]], \"sequentialminus\": [[0.0, \"#440154\"], [0.1111111111111111, \"#482878\"], [0.2222222222222222, \"#3e4989\"], [0.3333333333333333, \"#31688e\"], [0.4444444444444444, \"#26828e\"], [0.5555555555555556, \"#1f9e89\"], [0.6666666666666666, \"#35b779\"], [0.7777777777777778, \"#6ece58\"], [0.8888888888888888, \"#b5de2b\"], [1.0, \"#fde725\"]]}, \"colorway\": [\"#1F77B4\", \"#FF7F0E\", \"#2CA02C\", \"#D62728\", \"#9467BD\", \"#8C564B\", \"#E377C2\", \"#7F7F7F\", \"#BCBD22\", \"#17BECF\"], \"font\": {\"color\": \"rgb(36,36,36)\"}, \"geo\": {\"bgcolor\": \"white\", \"lakecolor\": \"white\", \"landcolor\": \"white\", \"showlakes\": true, \"showland\": true, \"subunitcolor\": \"white\"}, \"hoverlabel\": {\"align\": \"left\"}, \"hovermode\": \"closest\", \"mapbox\": {\"style\": \"light\"}, \"paper_bgcolor\": \"white\", \"plot_bgcolor\": \"white\", \"polar\": {\"angularaxis\": {\"gridcolor\": \"rgb(232,232,232)\", \"linecolor\": \"rgb(36,36,36)\", \"showgrid\": false, \"showline\": true, \"ticks\": \"outside\"}, \"bgcolor\": \"white\", \"radialaxis\": {\"gridcolor\": \"rgb(232,232,232)\", \"linecolor\": \"rgb(36,36,36)\", \"showgrid\": false, \"showline\": true, \"ticks\": \"outside\"}}, \"scene\": {\"xaxis\": {\"backgroundcolor\": \"white\", \"gridcolor\": \"rgb(232,232,232)\", \"gridwidth\": 2, \"linecolor\": \"rgb(36,36,36)\", \"showbackground\": true, \"showgrid\": false, \"showline\": true, \"ticks\": \"outside\", \"zeroline\": false, \"zerolinecolor\": \"rgb(36,36,36)\"}, \"yaxis\": {\"backgroundcolor\": \"white\", \"gridcolor\": \"rgb(232,232,232)\", \"gridwidth\": 2, \"linecolor\": \"rgb(36,36,36)\", \"showbackground\": true, \"showgrid\": false, \"showline\": true, \"ticks\": \"outside\", \"zeroline\": false, \"zerolinecolor\": \"rgb(36,36,36)\"}, \"zaxis\": {\"backgroundcolor\": \"white\", \"gridcolor\": \"rgb(232,232,232)\", \"gridwidth\": 2, \"linecolor\": \"rgb(36,36,36)\", \"showbackground\": true, \"showgrid\": false, \"showline\": true, \"ticks\": \"outside\", \"zeroline\": false, \"zerolinecolor\": \"rgb(36,36,36)\"}}, \"shapedefaults\": {\"fillcolor\": \"black\", \"line\": {\"width\": 0}, \"opacity\": 0.3}, \"ternary\": {\"aaxis\": {\"gridcolor\": \"rgb(232,232,232)\", \"linecolor\": \"rgb(36,36,36)\", \"showgrid\": false, \"showline\": true, \"ticks\": \"outside\"}, \"baxis\": {\"gridcolor\": \"rgb(232,232,232)\", \"linecolor\": \"rgb(36,36,36)\", \"showgrid\": false, \"showline\": true, \"ticks\": \"outside\"}, \"bgcolor\": \"white\", \"caxis\": {\"gridcolor\": \"rgb(232,232,232)\", \"linecolor\": \"rgb(36,36,36)\", \"showgrid\": false, \"showline\": true, \"ticks\": \"outside\"}}, \"title\": {\"x\": 0.05}, \"xaxis\": {\"automargin\": true, \"gridcolor\": \"rgb(232,232,232)\", \"linecolor\": \"rgb(36,36,36)\", \"showgrid\": false, \"showline\": true, \"ticks\": \"outside\", \"title\": {\"standoff\": 15}, \"zeroline\": false, \"zerolinecolor\": \"rgb(36,36,36)\"}, \"yaxis\": {\"automargin\": true, \"gridcolor\": \"rgb(232,232,232)\", \"linecolor\": \"rgb(36,36,36)\", \"showgrid\": false, \"showline\": true, \"ticks\": \"outside\", \"title\": {\"standoff\": 15}, \"zeroline\": false, \"zerolinecolor\": \"rgb(36,36,36)\"}}}, \"title\": {\"text\": \"OutletPressure g-pump-5 for 48, 49, 50, 52 weeks \"}, \"xaxis\": {\"anchor\": \"y\", \"domain\": [0.0, 1.0], \"title\": {\"text\": \"week\"}, \"type\": \"category\"}, \"yaxis\": {\"anchor\": \"x\", \"domain\": [0.0, 1.0], \"title\": {\"text\": \"feature_value\"}}},\n",
       "                        {\"responsive\": true}\n",
       "                    ).then(function(){\n",
       "                            \n",
       "var gd = document.getElementById('19cbb6fc-68cb-4031-a2c5-da9faaa5c339');\n",
       "var x = new MutationObserver(function (mutations, observer) {{\n",
       "        var display = window.getComputedStyle(gd).display;\n",
       "        if (!display || display === 'none') {{\n",
       "            console.log([gd, 'removed!']);\n",
       "            Plotly.purge(gd);\n",
       "            observer.disconnect();\n",
       "        }}\n",
       "}});\n",
       "\n",
       "// Listen for the removal of the full notebook cells\n",
       "var notebookContainer = gd.closest('#notebook-container');\n",
       "if (notebookContainer) {{\n",
       "    x.observe(notebookContainer, {childList: true});\n",
       "}}\n",
       "\n",
       "// Listen for the clearing of the current output cell\n",
       "var outputEl = gd.closest('.output');\n",
       "if (outputEl) {{\n",
       "    x.observe(outputEl, {childList: true});\n",
       "}}\n",
       "\n",
       "                        })\n",
       "                };\n",
       "                });\n",
       "            </script>\n",
       "        </div>"
      ]
     },
     "metadata": {},
     "output_type": "display_data"
    }
   ],
   "source": [
    "%%skip $skip_baseline_save\n",
    "week_numbers =  week_numbers_outletPressure # Week numbers as List \n",
    "\n",
    "mu_outletpressure, sigma_outletpressure = get_baselining_variables_azure(df_data, variable_name = OUTLET_PRESSURE,\n",
    "                                                                         asset_id = asset_id,\n",
    "                                                                         lst_filter_values = week_numbers, \n",
    "                                                                         filter_column_name = \"week\",\n",
    "                                                                         select_column_name= 'feature_value',\n",
    "                                                                         filter_metric = \"AvgValue\")\n",
    "print(mu_outletpressure, sigma_outletpressure)\n",
    "\n",
    "show_baselining_plot_azure(df_data, duration = week_numbers, asset_name= asset_name, variable_name= OUTLET_PRESSURE,\n",
    "                           plot_type = \"box\")"
   ]
  },
  {
   "cell_type": "markdown",
   "metadata": {},
   "source": [
    "## House Pressure"
   ]
  },
  {
   "cell_type": "code",
   "execution_count": 20,
   "metadata": {},
   "outputs": [
    {
     "name": "stdout",
     "output_type": "stream",
     "text": [
      "3.3617461589336566 0.053946814471695095\n"
     ]
    },
    {
     "data": {
      "application/vnd.plotly.v1+json": {
       "config": {
        "plotlyServerURL": "https://plot.ly"
       },
       "data": [
        {
         "alignmentgroup": "True",
         "hoverlabel": {
          "namelength": 0
         },
         "hovertemplate": "week=%{x}<br>feature_value=%{y}",
         "legendgroup": "",
         "marker": {
          "color": "#1F77B4"
         },
         "name": "",
         "notched": false,
         "offsetgroup": "",
         "orientation": "v",
         "showlegend": false,
         "type": "box",
         "x": [
          51,
          51,
          51,
          51,
          51,
          51,
          51,
          51,
          51,
          51,
          51,
          51,
          51,
          51,
          51,
          51,
          51,
          51,
          51,
          51,
          51,
          51,
          51,
          51,
          51,
          51,
          51,
          51,
          51,
          51,
          51,
          51,
          51,
          51,
          51,
          51,
          51,
          51,
          51,
          51,
          51,
          51,
          51,
          51,
          51,
          51,
          51,
          51,
          51,
          51,
          51,
          51,
          51,
          51,
          51,
          51,
          51,
          51,
          51,
          51,
          51,
          51,
          51,
          51,
          51,
          51,
          51,
          51,
          51,
          51,
          51,
          51,
          51,
          51,
          51,
          51,
          51,
          51,
          51,
          51,
          51,
          51,
          51,
          51,
          51,
          51,
          51,
          51,
          51,
          51,
          51,
          51,
          51,
          51,
          51,
          51,
          51,
          51,
          51,
          51,
          51,
          51,
          51,
          51,
          51,
          51,
          51,
          51,
          51,
          51,
          51,
          51,
          51,
          51,
          51,
          51,
          51,
          51,
          51,
          51,
          51,
          51,
          51,
          51,
          51,
          51,
          51,
          51,
          51,
          51,
          51,
          51,
          51,
          51,
          51,
          51,
          51,
          51,
          51,
          51,
          51,
          51,
          51,
          51,
          51,
          51,
          51,
          51,
          51,
          51,
          52,
          52,
          52,
          52,
          52,
          52,
          52,
          52,
          52,
          52,
          52,
          52,
          52,
          52,
          52,
          52,
          52,
          52,
          52,
          52,
          52,
          52,
          52,
          52,
          52,
          52,
          52,
          52,
          52,
          52,
          52,
          52,
          52,
          52,
          52,
          52,
          52,
          52,
          52,
          52,
          52,
          52,
          52,
          52,
          52,
          52,
          52,
          52,
          52,
          52,
          52,
          52,
          52,
          52,
          52,
          52,
          52,
          52,
          52,
          52,
          52,
          52,
          52,
          52,
          52,
          52,
          52,
          52,
          52,
          52,
          52,
          52,
          52,
          52,
          52,
          52,
          52,
          52,
          52,
          52,
          52,
          52,
          52,
          52,
          52,
          52,
          52,
          52,
          52,
          52,
          52,
          52,
          52,
          52,
          52,
          52,
          52,
          52,
          52,
          52,
          52,
          52,
          52,
          52,
          52,
          52,
          52,
          52,
          52,
          52,
          52,
          52,
          52,
          52,
          52,
          52,
          52,
          52,
          52,
          52,
          52,
          52,
          52,
          52,
          52,
          52,
          52,
          52,
          52,
          52,
          52,
          52,
          52,
          52,
          52,
          52,
          52,
          52,
          52,
          52,
          52,
          52,
          52,
          52,
          52,
          52,
          52,
          52,
          52,
          52,
          52,
          52,
          52,
          52,
          52,
          52,
          52,
          52,
          52,
          52,
          52,
          52,
          52,
          52,
          52,
          1,
          1,
          1,
          1,
          1,
          1,
          1,
          1,
          1,
          1,
          1,
          1,
          1,
          1,
          1,
          1,
          1,
          1,
          1,
          1,
          1,
          1,
          1,
          1,
          1,
          1,
          1,
          1,
          1,
          1,
          1,
          1,
          1,
          1,
          1,
          1,
          1,
          1,
          1,
          1,
          1,
          1,
          1,
          1,
          1,
          1,
          1,
          1,
          1,
          1,
          1,
          1,
          1,
          1,
          1,
          1,
          1,
          1,
          1,
          1,
          1,
          1,
          1,
          1,
          1,
          1,
          1,
          1,
          1,
          1,
          1,
          1,
          1,
          1,
          1,
          1,
          1,
          1,
          1,
          1,
          1,
          1,
          1,
          1,
          1,
          1,
          1,
          1,
          1,
          1,
          1,
          1,
          1,
          1,
          1,
          1,
          1,
          1,
          1,
          1,
          1,
          1,
          1,
          1,
          1,
          1,
          1,
          1,
          1,
          1,
          1,
          1,
          1,
          1,
          1,
          1,
          1,
          1,
          1,
          1,
          1,
          1,
          1,
          1,
          1,
          1,
          1,
          1,
          1,
          1,
          1,
          1,
          1,
          1,
          1,
          1,
          1,
          1,
          1,
          1,
          1,
          1,
          1,
          1,
          1,
          1,
          1,
          1,
          1,
          1,
          1,
          1,
          1,
          1,
          1,
          1,
          1,
          1,
          1,
          1,
          1,
          1,
          1,
          1,
          1,
          1,
          1,
          1,
          2,
          2,
          2,
          2,
          2,
          2,
          2,
          2,
          2,
          2,
          2,
          2,
          2,
          2,
          2,
          2,
          2
         ],
         "x0": " ",
         "xaxis": "x",
         "y": [
          3.5105692918192926,
          3.4888838013838,
          3.4462123524623536,
          3.4055123117623136,
          3.3732066544566544,
          3.4892653642653646,
          3.432603276353277,
          3.372634310134312,
          3.280168905168905,
          3.3826185388685395,
          3.3046525234025217,
          3.4261167073667074,
          3.4135251322751348,
          3.3528566341066366,
          3.26725936100936,
          3.269675925925925,
          3.2995014245014254,
          3.2736823361823375,
          3.372061965811966,
          3.328881766381768,
          3.3842083842083834,
          3.3625864875864875,
          3.332061457061457,
          3.3246845746845755,
          3.431267806267806,
          3.2720288970288958,
          3.3450981888481888,
          3.3333333333333326,
          3.293078449328451,
          3.34662444037444,
          3.3624592999592995,
          3.267704517704517,
          3.338548026048027,
          3.399343711843713,
          3.2891356328856336,
          3.377785409035408,
          3.478835978835978,
          3.2671321733821723,
          3.4014423076923097,
          3.3797568172568178,
          3.3506944444444433,
          3.3926663614163606,
          3.352475071225071,
          3.3636675824175835,
          3.310375966625967,
          3.317562067562067,
          3.3367038054538045,
          3.300010175010176,
          3.4018874643874644,
          3.4022054334554355,
          3.3433175620675613,
          3.350694444444445,
          3.4453220390720394,
          3.3770858770858765,
          3.445385632885634,
          3.428151709401709,
          3.4126348188848183,
          3.3764499389499396,
          3.424463268213269,
          3.4516178266178277,
          3.480107855107855,
          3.442078754578754,
          3.4279609279609295,
          3.372443528693529,
          3.4303774928774917,
          3.4417607855107843,
          3.433302808302809,
          3.4180402930402924,
          3.3648122710622714,
          3.4114901302401317,
          3.530092592592592,
          3.415369352869352,
          3.4565145502645502,
          3.4698056573056575,
          3.282013125763125,
          3.278006715506716,
          3.4535256410256423,
          3.3087225274725274,
          3.345034595034596,
          3.333015364265364,
          3.3236034798534795,
          3.395718864468865,
          3.326783170533169,
          3.286019536019536,
          3.257656695156694,
          3.3026811151811177,
          3.3862433862433856,
          3.310312372812374,
          3.345988502238502,
          3.2617902930402933,
          3.4216015466015466,
          3.313810032560033,
          3.324875356125357,
          3.3851622914122905,
          3.3212505087505093,
          3.361759768009769,
          3.323221916971916,
          3.3494225681725687,
          3.3577533577533583,
          3.3868793243793243,
          3.381982600732602,
          3.337975681725682,
          3.3665928978428963,
          3.275081400081399,
          3.257211538461537,
          3.339756308506308,
          3.405257936507935,
          3.351839133089133,
          3.2979115791615787,
          3.3547008547008565,
          3.384081196581196,
          3.2633801383801373,
          3.3144459706959704,
          3.3868793243793225,
          3.3717439967439975,
          3.327419108669108,
          3.31177503052503,
          3.4104090354090357,
          3.2612179487179476,
          3.34878663003663,
          3.332760989010989,
          3.4012515262515257,
          3.3282458282458283,
          3.316480972730974,
          3.3857982295482287,
          3.339374745624747,
          3.3228403540903546,
          3.2578474765974765,
          3.342999592999592,
          3.30643315018315,
          3.3222680097680093,
          3.3406466218966226,
          3.3485322547822527,
          3.269993894993895,
          3.3326338013838,
          3.360169922669922,
          3.324239417989419,
          3.3910129222629215,
          3.3467516280016274,
          3.320678164428164,
          3.4011879324379333,
          3.423445767195768,
          3.3789300976800987,
          3.3751144688644703,
          3.350885225885227,
          3.426561864061865,
          3.290025946275946,
          3.3576897639397623,
          3.392221204721205,
          3.280868437118438,
          3.4478021978021993,
          3.4516178266178255,
          3.3492953805453802,
          3.4488196988196997,
          3.3353683353683343,
          3.3148911273911286,
          3.304779711029711,
          3.3327609890109904,
          3.287291412291412,
          3.343635531135531,
          3.3386752136752142,
          3.3143187830687832,
          3.30560643060643,
          3.3219500407000404,
          3.2742546805046797,
          3.4251628001627985,
          3.429296398046396,
          3.4382631257631253,
          3.3830636955636972,
          3.403350122100122,
          3.390313390313391,
          3.382872914122915,
          3.3131105006105,
          3.3816010378510364,
          3.3476419413919416,
          3.2689763939763936,
          3.329326923076923,
          3.3928571428571437,
          3.350630850630852,
          3.3716168091168086,
          3.3873244810744816,
          3.3295812983313,
          3.3458613146113145,
          3.3175620675620667,
          3.249262311762313,
          3.344843813593814,
          3.2605820105820094,
          3.452062983312984,
          3.283920940170941,
          3.3278006715506714,
          3.3278642653642656,
          3.2893900081400065,
          3.411998880748879,
          3.3715532153032157,
          3.3488502238502242,
          3.388596357346357,
          3.3814102564102577,
          3.4004248066748057,
          3.28811813186813,
          3.327037545787545,
          3.321059727309727,
          3.3594703907203893,
          3.337721306471306,
          3.3004553317053316,
          3.3411553724053715,
          3.3342236467236464,
          3.421474358974358,
          3.3944469881969876,
          3.28074124949125,
          3.3272283272283256,
          3.4334299959299948,
          3.2427757427757444,
          3.4113629426129415,
          3.347641941391941,
          3.264652014652016,
          3.409200752950753,
          3.293396418396418,
          3.3318706756206757,
          3.366592897842899,
          3.2753993691493695,
          3.326655982905983,
          3.3431267806267795,
          3.4476750101750113,
          3.3183251933251943,
          3.3784849409849413,
          3.371680402930402,
          3.42433608058608,
          3.401124338624339,
          3.3049068986568977,
          3.363603988603989,
          3.321250508750508,
          3.3206781644281658,
          3.3852894790394785,
          3.2608999796499805,
          3.38567104192104,
          3.312538156288157,
          3.4533984533984525,
          3.49085520960521,
          3.3634768009768012,
          3.411998880748879,
          3.3382300569800556,
          3.3138736263736277,
          3.324048636548637,
          3.4058302808302816,
          3.240486365486365,
          3.37079008954009,
          3.3673560236060225,
          3.262553418803419,
          3.3851622914122914,
          3.3785485347985342,
          3.400869963369962,
          3.362014143264144,
          3.314636752136753,
          3.39266636141636,
          3.284366096866096,
          3.357626170126171,
          3.329644892144891,
          3.376640720390722,
          3.410154660154662,
          3.2785154660154663,
          3.4018874643874635,
          3.234190577940579,
          3.361632580382581,
          3.351521164021165,
          3.3192791005291,
          3.4004248066748075,
          3.324557387057387,
          3.3957824582824596,
          3.3927299552299552,
          3.3560999185999187,
          3.3162901912901925,
          3.3674832112332127,
          3.2775615588115596,
          3.311711436711437,
          3.3789936914936916,
          3.3279914529914536,
          3.355082417582418,
          3.2989926739926734,
          3.440043752543751,
          3.4052579365079354,
          3.3019179894179906,
          3.3790572853072844,
          3.3520299145299153,
          3.4409976597476604,
          3.364430708180708,
          3.369327431827432,
          3.4326668701668708,
          3.329772079772079,
          3.2989290801790805,
          3.33174348799349,
          3.358325702075702,
          3.213649776149776,
          3.3393111518111525,
          3.349740537240537,
          3.3921576109076104,
          3.3536833536833535,
          3.3234762922262924,
          3.3562907000407,
          3.3522206959706957,
          3.3090404965404967,
          3.324493793243794,
          3.3178164428164436,
          3.284048127798128,
          3.293078449328449,
          3.3892322954822958,
          3.418739824989823,
          3.223951973951973,
          3.3216956654456644,
          3.330980362230363,
          3.443159849409849,
          3.3533653846153846,
          3.3798204110704115,
          3.3402650590150595,
          3.338039275539277,
          3.3771494708994703,
          3.47266737891738,
          3.4225554538054532,
          3.360233516483515,
          3.3388024013024005,
          3.354637260887262,
          3.418676231176231,
          3.348850223850224,
          3.3401378713878724,
          3.247545278795279,
          3.3656389906389914,
          3.3715532153032153,
          3.3545736670736677,
          3.401633089133089,
          3.3819826007326,
          3.443032661782663,
          3.410345441595441,
          3.33377849002849,
          3.423954517704518,
          3.42217389092389,
          3.4464667277167256,
          3.323094729344731,
          3.347832722832722,
          3.3175620675620685,
          3.37447853072853,
          3.4618564306064292,
          3.316544566544566,
          3.3232219169719177,
          3.3126653439153433,
          3.352411477411478,
          3.329899267399267,
          3.432730463980466,
          3.310821123321123,
          3.3993437118437115,
          3.3816646316646337,
          3.4236365486365474,
          3.334732397232397,
          3.430377492877493,
          3.3167353479853485,
          3.4561329873829876,
          3.347451159951161,
          3.4137159137159134,
          3.4282153032153015,
          3.4662444037444047,
          3.4283424908424904,
          3.2650335775335777,
          3.439852971102973,
          3.421283577533577,
          3.4170227920227916,
          3.419630138380139,
          3.371871184371184,
          3.4422695360195354,
          3.451236263736266,
          3.348595848595851,
          3.3361950549450543,
          3.2984839234839245,
          3.314000814000815,
          3.3427452177452195,
          3.271265771265771,
          3.400361212861212,
          3.471586284086284,
          3.4093915343915335,
          3.3861161986161985,
          3.3389931827431822,
          3.332061457061457,
          3.38045634920635,
          3.450600325600327,
          3.318070818070817,
          3.411744505494506,
          3.375305250305248,
          3.4325396825396823,
          3.427897334147334,
          3.356290700040699,
          3.3207417582417587,
          3.3449710012210017,
          3.3555911680911685,
          3.356926638176638,
          3.37695868945869,
          3.417213573463575,
          3.357753357753357,
          3.3250661375661372,
          3.351330382580382,
          3.3709172771672766,
          3.35330179080179,
          3.3793116605616604,
          3.398199023199023,
          3.336830993080994,
          3.380201973951973,
          3.376640720390719,
          3.3547644485144477,
          3.326020044770044,
          3.316989723239723,
          3.3864341676841683,
          3.3679919617419602,
          3.3496133496133496,
          3.356608669108669,
          3.435464997964997,
          3.276989214489213,
          3.380201973951974,
          3.3854802604802594,
          3.5064992877492878,
          3.442078754578755,
          3.3173712861212876,
          3.324303011803011,
          3.3358134920634934,
          3.4324124949124957,
          3.32144129019129,
          3.363222425722426,
          3.410599816849816,
          3.4151149776149765,
          3.4242724867724874,
          3.410345441595441,
          3.3828729141229146,
          3.3278642653642656,
          3.3267831705331705,
          3.312092999592999,
          3.3791208791208796,
          3.330280830280829,
          3.4286604599104593,
          3.4094551282051277,
          3.308213776963777,
          3.441442816442816,
          3.4067205942205945,
          3.297784391534391,
          3.270184676434676,
          3.2904075091575105,
          3.291107041107041,
          3.4030957468457483,
          3.4103454415954393,
          3.329454110704111,
          3.32843660968661,
          3.421474358974358,
          3.3734610297110303,
          3.403540903540905,
          3.412698412698413,
          3.3692002442002433,
          3.360615079365079,
          3.389105107855108,
          3.427642958892959,
          3.3188975376475383,
          3.3917760480260495,
          3.3622685185185177,
          3.3251933251933252,
          3.3645578958078963,
          3.3782941595441596,
          3.3118386243386255,
          3.400933557183557,
          3.362077737077737,
          3.4008063695563693,
          3.3508216320716326,
          3.334350834350834,
          3.3538105413105406,
          3.4181038868538867,
          3.4333028083028085,
          3.3676103988603994,
          3.4195665445665444,
          3.4280245217745215,
          3.408056064306065,
          3.3872608872608887,
          3.3553367928367934,
          3.428024521774523,
          3.3954008954008965,
          3.3355591168091183,
          3.370980870980871,
          3.4061482498982496,
          3.4083104395604393,
          3.3347323972323952,
          3.3572446072446067,
          3.3588980463980467,
          3.295876577126577,
          3.46885175010175,
          3.357371794871796,
          3.3908857346357357,
          3.437881562881563,
          3.3293269230769234,
          3.3034442409442417,
          3.3756868131868134,
          3.4484381359381366,
          3.3297720797720807,
          3.373333842083843,
          3.401823870573869,
          3.3707900895400886,
          3.3224587912087906,
          3.2583562271062267,
          3.3482142857142865,
          3.39514652014652
         ],
         "y0": " ",
         "yaxis": "y"
        }
       ],
       "layout": {
        "boxmode": "group",
        "legend": {
         "tracegroupgap": 0
        },
        "template": {
         "data": {
          "bar": [
           {
            "error_x": {
             "color": "rgb(36,36,36)"
            },
            "error_y": {
             "color": "rgb(36,36,36)"
            },
            "marker": {
             "line": {
              "color": "white",
              "width": 0.5
             }
            },
            "type": "bar"
           }
          ],
          "barpolar": [
           {
            "marker": {
             "line": {
              "color": "white",
              "width": 0.5
             }
            },
            "type": "barpolar"
           }
          ],
          "carpet": [
           {
            "aaxis": {
             "endlinecolor": "rgb(36,36,36)",
             "gridcolor": "white",
             "linecolor": "white",
             "minorgridcolor": "white",
             "startlinecolor": "rgb(36,36,36)"
            },
            "baxis": {
             "endlinecolor": "rgb(36,36,36)",
             "gridcolor": "white",
             "linecolor": "white",
             "minorgridcolor": "white",
             "startlinecolor": "rgb(36,36,36)"
            },
            "type": "carpet"
           }
          ],
          "choropleth": [
           {
            "colorbar": {
             "outlinewidth": 1,
             "tickcolor": "rgb(36,36,36)",
             "ticks": "outside"
            },
            "type": "choropleth"
           }
          ],
          "contour": [
           {
            "colorbar": {
             "outlinewidth": 1,
             "tickcolor": "rgb(36,36,36)",
             "ticks": "outside"
            },
            "colorscale": [
             [
              0,
              "#440154"
             ],
             [
              0.1111111111111111,
              "#482878"
             ],
             [
              0.2222222222222222,
              "#3e4989"
             ],
             [
              0.3333333333333333,
              "#31688e"
             ],
             [
              0.4444444444444444,
              "#26828e"
             ],
             [
              0.5555555555555556,
              "#1f9e89"
             ],
             [
              0.6666666666666666,
              "#35b779"
             ],
             [
              0.7777777777777778,
              "#6ece58"
             ],
             [
              0.8888888888888888,
              "#b5de2b"
             ],
             [
              1,
              "#fde725"
             ]
            ],
            "type": "contour"
           }
          ],
          "contourcarpet": [
           {
            "colorbar": {
             "outlinewidth": 1,
             "tickcolor": "rgb(36,36,36)",
             "ticks": "outside"
            },
            "type": "contourcarpet"
           }
          ],
          "heatmap": [
           {
            "colorbar": {
             "outlinewidth": 1,
             "tickcolor": "rgb(36,36,36)",
             "ticks": "outside"
            },
            "colorscale": [
             [
              0,
              "#440154"
             ],
             [
              0.1111111111111111,
              "#482878"
             ],
             [
              0.2222222222222222,
              "#3e4989"
             ],
             [
              0.3333333333333333,
              "#31688e"
             ],
             [
              0.4444444444444444,
              "#26828e"
             ],
             [
              0.5555555555555556,
              "#1f9e89"
             ],
             [
              0.6666666666666666,
              "#35b779"
             ],
             [
              0.7777777777777778,
              "#6ece58"
             ],
             [
              0.8888888888888888,
              "#b5de2b"
             ],
             [
              1,
              "#fde725"
             ]
            ],
            "type": "heatmap"
           }
          ],
          "heatmapgl": [
           {
            "colorbar": {
             "outlinewidth": 1,
             "tickcolor": "rgb(36,36,36)",
             "ticks": "outside"
            },
            "colorscale": [
             [
              0,
              "#440154"
             ],
             [
              0.1111111111111111,
              "#482878"
             ],
             [
              0.2222222222222222,
              "#3e4989"
             ],
             [
              0.3333333333333333,
              "#31688e"
             ],
             [
              0.4444444444444444,
              "#26828e"
             ],
             [
              0.5555555555555556,
              "#1f9e89"
             ],
             [
              0.6666666666666666,
              "#35b779"
             ],
             [
              0.7777777777777778,
              "#6ece58"
             ],
             [
              0.8888888888888888,
              "#b5de2b"
             ],
             [
              1,
              "#fde725"
             ]
            ],
            "type": "heatmapgl"
           }
          ],
          "histogram": [
           {
            "marker": {
             "line": {
              "color": "white",
              "width": 0.6
             }
            },
            "type": "histogram"
           }
          ],
          "histogram2d": [
           {
            "colorbar": {
             "outlinewidth": 1,
             "tickcolor": "rgb(36,36,36)",
             "ticks": "outside"
            },
            "colorscale": [
             [
              0,
              "#440154"
             ],
             [
              0.1111111111111111,
              "#482878"
             ],
             [
              0.2222222222222222,
              "#3e4989"
             ],
             [
              0.3333333333333333,
              "#31688e"
             ],
             [
              0.4444444444444444,
              "#26828e"
             ],
             [
              0.5555555555555556,
              "#1f9e89"
             ],
             [
              0.6666666666666666,
              "#35b779"
             ],
             [
              0.7777777777777778,
              "#6ece58"
             ],
             [
              0.8888888888888888,
              "#b5de2b"
             ],
             [
              1,
              "#fde725"
             ]
            ],
            "type": "histogram2d"
           }
          ],
          "histogram2dcontour": [
           {
            "colorbar": {
             "outlinewidth": 1,
             "tickcolor": "rgb(36,36,36)",
             "ticks": "outside"
            },
            "colorscale": [
             [
              0,
              "#440154"
             ],
             [
              0.1111111111111111,
              "#482878"
             ],
             [
              0.2222222222222222,
              "#3e4989"
             ],
             [
              0.3333333333333333,
              "#31688e"
             ],
             [
              0.4444444444444444,
              "#26828e"
             ],
             [
              0.5555555555555556,
              "#1f9e89"
             ],
             [
              0.6666666666666666,
              "#35b779"
             ],
             [
              0.7777777777777778,
              "#6ece58"
             ],
             [
              0.8888888888888888,
              "#b5de2b"
             ],
             [
              1,
              "#fde725"
             ]
            ],
            "type": "histogram2dcontour"
           }
          ],
          "mesh3d": [
           {
            "colorbar": {
             "outlinewidth": 1,
             "tickcolor": "rgb(36,36,36)",
             "ticks": "outside"
            },
            "type": "mesh3d"
           }
          ],
          "parcoords": [
           {
            "line": {
             "colorbar": {
              "outlinewidth": 1,
              "tickcolor": "rgb(36,36,36)",
              "ticks": "outside"
             }
            },
            "type": "parcoords"
           }
          ],
          "pie": [
           {
            "automargin": true,
            "type": "pie"
           }
          ],
          "scatter": [
           {
            "marker": {
             "colorbar": {
              "outlinewidth": 1,
              "tickcolor": "rgb(36,36,36)",
              "ticks": "outside"
             }
            },
            "type": "scatter"
           }
          ],
          "scatter3d": [
           {
            "line": {
             "colorbar": {
              "outlinewidth": 1,
              "tickcolor": "rgb(36,36,36)",
              "ticks": "outside"
             }
            },
            "marker": {
             "colorbar": {
              "outlinewidth": 1,
              "tickcolor": "rgb(36,36,36)",
              "ticks": "outside"
             }
            },
            "type": "scatter3d"
           }
          ],
          "scattercarpet": [
           {
            "marker": {
             "colorbar": {
              "outlinewidth": 1,
              "tickcolor": "rgb(36,36,36)",
              "ticks": "outside"
             }
            },
            "type": "scattercarpet"
           }
          ],
          "scattergeo": [
           {
            "marker": {
             "colorbar": {
              "outlinewidth": 1,
              "tickcolor": "rgb(36,36,36)",
              "ticks": "outside"
             }
            },
            "type": "scattergeo"
           }
          ],
          "scattergl": [
           {
            "marker": {
             "colorbar": {
              "outlinewidth": 1,
              "tickcolor": "rgb(36,36,36)",
              "ticks": "outside"
             }
            },
            "type": "scattergl"
           }
          ],
          "scattermapbox": [
           {
            "marker": {
             "colorbar": {
              "outlinewidth": 1,
              "tickcolor": "rgb(36,36,36)",
              "ticks": "outside"
             }
            },
            "type": "scattermapbox"
           }
          ],
          "scatterpolar": [
           {
            "marker": {
             "colorbar": {
              "outlinewidth": 1,
              "tickcolor": "rgb(36,36,36)",
              "ticks": "outside"
             }
            },
            "type": "scatterpolar"
           }
          ],
          "scatterpolargl": [
           {
            "marker": {
             "colorbar": {
              "outlinewidth": 1,
              "tickcolor": "rgb(36,36,36)",
              "ticks": "outside"
             }
            },
            "type": "scatterpolargl"
           }
          ],
          "scatterternary": [
           {
            "marker": {
             "colorbar": {
              "outlinewidth": 1,
              "tickcolor": "rgb(36,36,36)",
              "ticks": "outside"
             }
            },
            "type": "scatterternary"
           }
          ],
          "surface": [
           {
            "colorbar": {
             "outlinewidth": 1,
             "tickcolor": "rgb(36,36,36)",
             "ticks": "outside"
            },
            "colorscale": [
             [
              0,
              "#440154"
             ],
             [
              0.1111111111111111,
              "#482878"
             ],
             [
              0.2222222222222222,
              "#3e4989"
             ],
             [
              0.3333333333333333,
              "#31688e"
             ],
             [
              0.4444444444444444,
              "#26828e"
             ],
             [
              0.5555555555555556,
              "#1f9e89"
             ],
             [
              0.6666666666666666,
              "#35b779"
             ],
             [
              0.7777777777777778,
              "#6ece58"
             ],
             [
              0.8888888888888888,
              "#b5de2b"
             ],
             [
              1,
              "#fde725"
             ]
            ],
            "type": "surface"
           }
          ],
          "table": [
           {
            "cells": {
             "fill": {
              "color": "rgb(237,237,237)"
             },
             "line": {
              "color": "white"
             }
            },
            "header": {
             "fill": {
              "color": "rgb(217,217,217)"
             },
             "line": {
              "color": "white"
             }
            },
            "type": "table"
           }
          ]
         },
         "layout": {
          "annotationdefaults": {
           "arrowhead": 0,
           "arrowwidth": 1
          },
          "coloraxis": {
           "colorbar": {
            "outlinewidth": 1,
            "tickcolor": "rgb(36,36,36)",
            "ticks": "outside"
           }
          },
          "colorscale": {
           "diverging": [
            [
             0,
             "rgb(103,0,31)"
            ],
            [
             0.1,
             "rgb(178,24,43)"
            ],
            [
             0.2,
             "rgb(214,96,77)"
            ],
            [
             0.3,
             "rgb(244,165,130)"
            ],
            [
             0.4,
             "rgb(253,219,199)"
            ],
            [
             0.5,
             "rgb(247,247,247)"
            ],
            [
             0.6,
             "rgb(209,229,240)"
            ],
            [
             0.7,
             "rgb(146,197,222)"
            ],
            [
             0.8,
             "rgb(67,147,195)"
            ],
            [
             0.9,
             "rgb(33,102,172)"
            ],
            [
             1,
             "rgb(5,48,97)"
            ]
           ],
           "sequential": [
            [
             0,
             "#440154"
            ],
            [
             0.1111111111111111,
             "#482878"
            ],
            [
             0.2222222222222222,
             "#3e4989"
            ],
            [
             0.3333333333333333,
             "#31688e"
            ],
            [
             0.4444444444444444,
             "#26828e"
            ],
            [
             0.5555555555555556,
             "#1f9e89"
            ],
            [
             0.6666666666666666,
             "#35b779"
            ],
            [
             0.7777777777777778,
             "#6ece58"
            ],
            [
             0.8888888888888888,
             "#b5de2b"
            ],
            [
             1,
             "#fde725"
            ]
           ],
           "sequentialminus": [
            [
             0,
             "#440154"
            ],
            [
             0.1111111111111111,
             "#482878"
            ],
            [
             0.2222222222222222,
             "#3e4989"
            ],
            [
             0.3333333333333333,
             "#31688e"
            ],
            [
             0.4444444444444444,
             "#26828e"
            ],
            [
             0.5555555555555556,
             "#1f9e89"
            ],
            [
             0.6666666666666666,
             "#35b779"
            ],
            [
             0.7777777777777778,
             "#6ece58"
            ],
            [
             0.8888888888888888,
             "#b5de2b"
            ],
            [
             1,
             "#fde725"
            ]
           ]
          },
          "colorway": [
           "#1F77B4",
           "#FF7F0E",
           "#2CA02C",
           "#D62728",
           "#9467BD",
           "#8C564B",
           "#E377C2",
           "#7F7F7F",
           "#BCBD22",
           "#17BECF"
          ],
          "font": {
           "color": "rgb(36,36,36)"
          },
          "geo": {
           "bgcolor": "white",
           "lakecolor": "white",
           "landcolor": "white",
           "showlakes": true,
           "showland": true,
           "subunitcolor": "white"
          },
          "hoverlabel": {
           "align": "left"
          },
          "hovermode": "closest",
          "mapbox": {
           "style": "light"
          },
          "paper_bgcolor": "white",
          "plot_bgcolor": "white",
          "polar": {
           "angularaxis": {
            "gridcolor": "rgb(232,232,232)",
            "linecolor": "rgb(36,36,36)",
            "showgrid": false,
            "showline": true,
            "ticks": "outside"
           },
           "bgcolor": "white",
           "radialaxis": {
            "gridcolor": "rgb(232,232,232)",
            "linecolor": "rgb(36,36,36)",
            "showgrid": false,
            "showline": true,
            "ticks": "outside"
           }
          },
          "scene": {
           "xaxis": {
            "backgroundcolor": "white",
            "gridcolor": "rgb(232,232,232)",
            "gridwidth": 2,
            "linecolor": "rgb(36,36,36)",
            "showbackground": true,
            "showgrid": false,
            "showline": true,
            "ticks": "outside",
            "zeroline": false,
            "zerolinecolor": "rgb(36,36,36)"
           },
           "yaxis": {
            "backgroundcolor": "white",
            "gridcolor": "rgb(232,232,232)",
            "gridwidth": 2,
            "linecolor": "rgb(36,36,36)",
            "showbackground": true,
            "showgrid": false,
            "showline": true,
            "ticks": "outside",
            "zeroline": false,
            "zerolinecolor": "rgb(36,36,36)"
           },
           "zaxis": {
            "backgroundcolor": "white",
            "gridcolor": "rgb(232,232,232)",
            "gridwidth": 2,
            "linecolor": "rgb(36,36,36)",
            "showbackground": true,
            "showgrid": false,
            "showline": true,
            "ticks": "outside",
            "zeroline": false,
            "zerolinecolor": "rgb(36,36,36)"
           }
          },
          "shapedefaults": {
           "fillcolor": "black",
           "line": {
            "width": 0
           },
           "opacity": 0.3
          },
          "ternary": {
           "aaxis": {
            "gridcolor": "rgb(232,232,232)",
            "linecolor": "rgb(36,36,36)",
            "showgrid": false,
            "showline": true,
            "ticks": "outside"
           },
           "baxis": {
            "gridcolor": "rgb(232,232,232)",
            "linecolor": "rgb(36,36,36)",
            "showgrid": false,
            "showline": true,
            "ticks": "outside"
           },
           "bgcolor": "white",
           "caxis": {
            "gridcolor": "rgb(232,232,232)",
            "linecolor": "rgb(36,36,36)",
            "showgrid": false,
            "showline": true,
            "ticks": "outside"
           }
          },
          "title": {
           "x": 0.05
          },
          "xaxis": {
           "automargin": true,
           "gridcolor": "rgb(232,232,232)",
           "linecolor": "rgb(36,36,36)",
           "showgrid": false,
           "showline": true,
           "ticks": "outside",
           "title": {
            "standoff": 15
           },
           "zeroline": false,
           "zerolinecolor": "rgb(36,36,36)"
          },
          "yaxis": {
           "automargin": true,
           "gridcolor": "rgb(232,232,232)",
           "linecolor": "rgb(36,36,36)",
           "showgrid": false,
           "showline": true,
           "ticks": "outside",
           "title": {
            "standoff": 15
           },
           "zeroline": false,
           "zerolinecolor": "rgb(36,36,36)"
          }
         }
        },
        "title": {
         "text": "HousePressure g-pump-5 for 1, 2, 51, 52 weeks "
        },
        "xaxis": {
         "anchor": "y",
         "domain": [
          0,
          1
         ],
         "title": {
          "text": "week"
         },
         "type": "category"
        },
        "yaxis": {
         "anchor": "x",
         "domain": [
          0,
          1
         ],
         "title": {
          "text": "feature_value"
         }
        }
       }
      },
      "text/html": [
       "<div>\n",
       "        \n",
       "        \n",
       "            <div id=\"377f918d-0cac-4040-8f06-489efa9e1a95\" class=\"plotly-graph-div\" style=\"height:525px; width:100%;\"></div>\n",
       "            <script type=\"text/javascript\">\n",
       "                require([\"plotly\"], function(Plotly) {\n",
       "                    window.PLOTLYENV=window.PLOTLYENV || {};\n",
       "                    \n",
       "                if (document.getElementById(\"377f918d-0cac-4040-8f06-489efa9e1a95\")) {\n",
       "                    Plotly.newPlot(\n",
       "                        '377f918d-0cac-4040-8f06-489efa9e1a95',\n",
       "                        [{\"alignmentgroup\": \"True\", \"hoverlabel\": {\"namelength\": 0}, \"hovertemplate\": \"week=%{x}<br>feature_value=%{y}\", \"legendgroup\": \"\", \"marker\": {\"color\": \"#1F77B4\"}, \"name\": \"\", \"notched\": false, \"offsetgroup\": \"\", \"orientation\": \"v\", \"showlegend\": false, \"type\": \"box\", \"x\": [51, 51, 51, 51, 51, 51, 51, 51, 51, 51, 51, 51, 51, 51, 51, 51, 51, 51, 51, 51, 51, 51, 51, 51, 51, 51, 51, 51, 51, 51, 51, 51, 51, 51, 51, 51, 51, 51, 51, 51, 51, 51, 51, 51, 51, 51, 51, 51, 51, 51, 51, 51, 51, 51, 51, 51, 51, 51, 51, 51, 51, 51, 51, 51, 51, 51, 51, 51, 51, 51, 51, 51, 51, 51, 51, 51, 51, 51, 51, 51, 51, 51, 51, 51, 51, 51, 51, 51, 51, 51, 51, 51, 51, 51, 51, 51, 51, 51, 51, 51, 51, 51, 51, 51, 51, 51, 51, 51, 51, 51, 51, 51, 51, 51, 51, 51, 51, 51, 51, 51, 51, 51, 51, 51, 51, 51, 51, 51, 51, 51, 51, 51, 51, 51, 51, 51, 51, 51, 51, 51, 51, 51, 51, 51, 51, 51, 51, 51, 51, 51, 52, 52, 52, 52, 52, 52, 52, 52, 52, 52, 52, 52, 52, 52, 52, 52, 52, 52, 52, 52, 52, 52, 52, 52, 52, 52, 52, 52, 52, 52, 52, 52, 52, 52, 52, 52, 52, 52, 52, 52, 52, 52, 52, 52, 52, 52, 52, 52, 52, 52, 52, 52, 52, 52, 52, 52, 52, 52, 52, 52, 52, 52, 52, 52, 52, 52, 52, 52, 52, 52, 52, 52, 52, 52, 52, 52, 52, 52, 52, 52, 52, 52, 52, 52, 52, 52, 52, 52, 52, 52, 52, 52, 52, 52, 52, 52, 52, 52, 52, 52, 52, 52, 52, 52, 52, 52, 52, 52, 52, 52, 52, 52, 52, 52, 52, 52, 52, 52, 52, 52, 52, 52, 52, 52, 52, 52, 52, 52, 52, 52, 52, 52, 52, 52, 52, 52, 52, 52, 52, 52, 52, 52, 52, 52, 52, 52, 52, 52, 52, 52, 52, 52, 52, 52, 52, 52, 52, 52, 52, 52, 52, 52, 52, 52, 52, 1, 1, 1, 1, 1, 1, 1, 1, 1, 1, 1, 1, 1, 1, 1, 1, 1, 1, 1, 1, 1, 1, 1, 1, 1, 1, 1, 1, 1, 1, 1, 1, 1, 1, 1, 1, 1, 1, 1, 1, 1, 1, 1, 1, 1, 1, 1, 1, 1, 1, 1, 1, 1, 1, 1, 1, 1, 1, 1, 1, 1, 1, 1, 1, 1, 1, 1, 1, 1, 1, 1, 1, 1, 1, 1, 1, 1, 1, 1, 1, 1, 1, 1, 1, 1, 1, 1, 1, 1, 1, 1, 1, 1, 1, 1, 1, 1, 1, 1, 1, 1, 1, 1, 1, 1, 1, 1, 1, 1, 1, 1, 1, 1, 1, 1, 1, 1, 1, 1, 1, 1, 1, 1, 1, 1, 1, 1, 1, 1, 1, 1, 1, 1, 1, 1, 1, 1, 1, 1, 1, 1, 1, 1, 1, 1, 1, 1, 1, 1, 1, 1, 1, 1, 1, 1, 1, 1, 1, 1, 1, 1, 1, 1, 1, 1, 1, 1, 1, 2, 2, 2, 2, 2, 2, 2, 2, 2, 2, 2, 2, 2, 2, 2, 2, 2], \"x0\": \" \", \"xaxis\": \"x\", \"y\": [3.5105692918192926, 3.4888838013838, 3.4462123524623536, 3.4055123117623136, 3.3732066544566544, 3.4892653642653646, 3.432603276353277, 3.372634310134312, 3.280168905168905, 3.3826185388685395, 3.3046525234025217, 3.4261167073667074, 3.4135251322751348, 3.3528566341066366, 3.26725936100936, 3.269675925925925, 3.2995014245014254, 3.2736823361823375, 3.372061965811966, 3.328881766381768, 3.3842083842083834, 3.3625864875864875, 3.332061457061457, 3.3246845746845755, 3.431267806267806, 3.2720288970288958, 3.3450981888481888, 3.3333333333333326, 3.293078449328451, 3.34662444037444, 3.3624592999592995, 3.267704517704517, 3.338548026048027, 3.399343711843713, 3.2891356328856336, 3.377785409035408, 3.478835978835978, 3.2671321733821723, 3.4014423076923097, 3.3797568172568178, 3.3506944444444433, 3.3926663614163606, 3.352475071225071, 3.3636675824175835, 3.310375966625967, 3.317562067562067, 3.3367038054538045, 3.300010175010176, 3.4018874643874644, 3.4022054334554355, 3.3433175620675613, 3.350694444444445, 3.4453220390720394, 3.3770858770858765, 3.445385632885634, 3.428151709401709, 3.4126348188848183, 3.3764499389499396, 3.424463268213269, 3.4516178266178277, 3.480107855107855, 3.442078754578754, 3.4279609279609295, 3.372443528693529, 3.4303774928774917, 3.4417607855107843, 3.433302808302809, 3.4180402930402924, 3.3648122710622714, 3.4114901302401317, 3.530092592592592, 3.415369352869352, 3.4565145502645502, 3.4698056573056575, 3.282013125763125, 3.278006715506716, 3.4535256410256423, 3.3087225274725274, 3.345034595034596, 3.333015364265364, 3.3236034798534795, 3.395718864468865, 3.326783170533169, 3.286019536019536, 3.257656695156694, 3.3026811151811177, 3.3862433862433856, 3.310312372812374, 3.345988502238502, 3.2617902930402933, 3.4216015466015466, 3.313810032560033, 3.324875356125357, 3.3851622914122905, 3.3212505087505093, 3.361759768009769, 3.323221916971916, 3.3494225681725687, 3.3577533577533583, 3.3868793243793243, 3.381982600732602, 3.337975681725682, 3.3665928978428963, 3.275081400081399, 3.257211538461537, 3.339756308506308, 3.405257936507935, 3.351839133089133, 3.2979115791615787, 3.3547008547008565, 3.384081196581196, 3.2633801383801373, 3.3144459706959704, 3.3868793243793225, 3.3717439967439975, 3.327419108669108, 3.31177503052503, 3.4104090354090357, 3.2612179487179476, 3.34878663003663, 3.332760989010989, 3.4012515262515257, 3.3282458282458283, 3.316480972730974, 3.3857982295482287, 3.339374745624747, 3.3228403540903546, 3.2578474765974765, 3.342999592999592, 3.30643315018315, 3.3222680097680093, 3.3406466218966226, 3.3485322547822527, 3.269993894993895, 3.3326338013838, 3.360169922669922, 3.324239417989419, 3.3910129222629215, 3.3467516280016274, 3.320678164428164, 3.4011879324379333, 3.423445767195768, 3.3789300976800987, 3.3751144688644703, 3.350885225885227, 3.426561864061865, 3.290025946275946, 3.3576897639397623, 3.392221204721205, 3.280868437118438, 3.4478021978021993, 3.4516178266178255, 3.3492953805453802, 3.4488196988196997, 3.3353683353683343, 3.3148911273911286, 3.304779711029711, 3.3327609890109904, 3.287291412291412, 3.343635531135531, 3.3386752136752142, 3.3143187830687832, 3.30560643060643, 3.3219500407000404, 3.2742546805046797, 3.4251628001627985, 3.429296398046396, 3.4382631257631253, 3.3830636955636972, 3.403350122100122, 3.390313390313391, 3.382872914122915, 3.3131105006105, 3.3816010378510364, 3.3476419413919416, 3.2689763939763936, 3.329326923076923, 3.3928571428571437, 3.350630850630852, 3.3716168091168086, 3.3873244810744816, 3.3295812983313, 3.3458613146113145, 3.3175620675620667, 3.249262311762313, 3.344843813593814, 3.2605820105820094, 3.452062983312984, 3.283920940170941, 3.3278006715506714, 3.3278642653642656, 3.2893900081400065, 3.411998880748879, 3.3715532153032157, 3.3488502238502242, 3.388596357346357, 3.3814102564102577, 3.4004248066748057, 3.28811813186813, 3.327037545787545, 3.321059727309727, 3.3594703907203893, 3.337721306471306, 3.3004553317053316, 3.3411553724053715, 3.3342236467236464, 3.421474358974358, 3.3944469881969876, 3.28074124949125, 3.3272283272283256, 3.4334299959299948, 3.2427757427757444, 3.4113629426129415, 3.347641941391941, 3.264652014652016, 3.409200752950753, 3.293396418396418, 3.3318706756206757, 3.366592897842899, 3.2753993691493695, 3.326655982905983, 3.3431267806267795, 3.4476750101750113, 3.3183251933251943, 3.3784849409849413, 3.371680402930402, 3.42433608058608, 3.401124338624339, 3.3049068986568977, 3.363603988603989, 3.321250508750508, 3.3206781644281658, 3.3852894790394785, 3.2608999796499805, 3.38567104192104, 3.312538156288157, 3.4533984533984525, 3.49085520960521, 3.3634768009768012, 3.411998880748879, 3.3382300569800556, 3.3138736263736277, 3.324048636548637, 3.4058302808302816, 3.240486365486365, 3.37079008954009, 3.3673560236060225, 3.262553418803419, 3.3851622914122914, 3.3785485347985342, 3.400869963369962, 3.362014143264144, 3.314636752136753, 3.39266636141636, 3.284366096866096, 3.357626170126171, 3.329644892144891, 3.376640720390722, 3.410154660154662, 3.2785154660154663, 3.4018874643874635, 3.234190577940579, 3.361632580382581, 3.351521164021165, 3.3192791005291, 3.4004248066748075, 3.324557387057387, 3.3957824582824596, 3.3927299552299552, 3.3560999185999187, 3.3162901912901925, 3.3674832112332127, 3.2775615588115596, 3.311711436711437, 3.3789936914936916, 3.3279914529914536, 3.355082417582418, 3.2989926739926734, 3.440043752543751, 3.4052579365079354, 3.3019179894179906, 3.3790572853072844, 3.3520299145299153, 3.4409976597476604, 3.364430708180708, 3.369327431827432, 3.4326668701668708, 3.329772079772079, 3.2989290801790805, 3.33174348799349, 3.358325702075702, 3.213649776149776, 3.3393111518111525, 3.349740537240537, 3.3921576109076104, 3.3536833536833535, 3.3234762922262924, 3.3562907000407, 3.3522206959706957, 3.3090404965404967, 3.324493793243794, 3.3178164428164436, 3.284048127798128, 3.293078449328449, 3.3892322954822958, 3.418739824989823, 3.223951973951973, 3.3216956654456644, 3.330980362230363, 3.443159849409849, 3.3533653846153846, 3.3798204110704115, 3.3402650590150595, 3.338039275539277, 3.3771494708994703, 3.47266737891738, 3.4225554538054532, 3.360233516483515, 3.3388024013024005, 3.354637260887262, 3.418676231176231, 3.348850223850224, 3.3401378713878724, 3.247545278795279, 3.3656389906389914, 3.3715532153032153, 3.3545736670736677, 3.401633089133089, 3.3819826007326, 3.443032661782663, 3.410345441595441, 3.33377849002849, 3.423954517704518, 3.42217389092389, 3.4464667277167256, 3.323094729344731, 3.347832722832722, 3.3175620675620685, 3.37447853072853, 3.4618564306064292, 3.316544566544566, 3.3232219169719177, 3.3126653439153433, 3.352411477411478, 3.329899267399267, 3.432730463980466, 3.310821123321123, 3.3993437118437115, 3.3816646316646337, 3.4236365486365474, 3.334732397232397, 3.430377492877493, 3.3167353479853485, 3.4561329873829876, 3.347451159951161, 3.4137159137159134, 3.4282153032153015, 3.4662444037444047, 3.4283424908424904, 3.2650335775335777, 3.439852971102973, 3.421283577533577, 3.4170227920227916, 3.419630138380139, 3.371871184371184, 3.4422695360195354, 3.451236263736266, 3.348595848595851, 3.3361950549450543, 3.2984839234839245, 3.314000814000815, 3.3427452177452195, 3.271265771265771, 3.400361212861212, 3.471586284086284, 3.4093915343915335, 3.3861161986161985, 3.3389931827431822, 3.332061457061457, 3.38045634920635, 3.450600325600327, 3.318070818070817, 3.411744505494506, 3.375305250305248, 3.4325396825396823, 3.427897334147334, 3.356290700040699, 3.3207417582417587, 3.3449710012210017, 3.3555911680911685, 3.356926638176638, 3.37695868945869, 3.417213573463575, 3.357753357753357, 3.3250661375661372, 3.351330382580382, 3.3709172771672766, 3.35330179080179, 3.3793116605616604, 3.398199023199023, 3.336830993080994, 3.380201973951973, 3.376640720390719, 3.3547644485144477, 3.326020044770044, 3.316989723239723, 3.3864341676841683, 3.3679919617419602, 3.3496133496133496, 3.356608669108669, 3.435464997964997, 3.276989214489213, 3.380201973951974, 3.3854802604802594, 3.5064992877492878, 3.442078754578755, 3.3173712861212876, 3.324303011803011, 3.3358134920634934, 3.4324124949124957, 3.32144129019129, 3.363222425722426, 3.410599816849816, 3.4151149776149765, 3.4242724867724874, 3.410345441595441, 3.3828729141229146, 3.3278642653642656, 3.3267831705331705, 3.312092999592999, 3.3791208791208796, 3.330280830280829, 3.4286604599104593, 3.4094551282051277, 3.308213776963777, 3.441442816442816, 3.4067205942205945, 3.297784391534391, 3.270184676434676, 3.2904075091575105, 3.291107041107041, 3.4030957468457483, 3.4103454415954393, 3.329454110704111, 3.32843660968661, 3.421474358974358, 3.3734610297110303, 3.403540903540905, 3.412698412698413, 3.3692002442002433, 3.360615079365079, 3.389105107855108, 3.427642958892959, 3.3188975376475383, 3.3917760480260495, 3.3622685185185177, 3.3251933251933252, 3.3645578958078963, 3.3782941595441596, 3.3118386243386255, 3.400933557183557, 3.362077737077737, 3.4008063695563693, 3.3508216320716326, 3.334350834350834, 3.3538105413105406, 3.4181038868538867, 3.4333028083028085, 3.3676103988603994, 3.4195665445665444, 3.4280245217745215, 3.408056064306065, 3.3872608872608887, 3.3553367928367934, 3.428024521774523, 3.3954008954008965, 3.3355591168091183, 3.370980870980871, 3.4061482498982496, 3.4083104395604393, 3.3347323972323952, 3.3572446072446067, 3.3588980463980467, 3.295876577126577, 3.46885175010175, 3.357371794871796, 3.3908857346357357, 3.437881562881563, 3.3293269230769234, 3.3034442409442417, 3.3756868131868134, 3.4484381359381366, 3.3297720797720807, 3.373333842083843, 3.401823870573869, 3.3707900895400886, 3.3224587912087906, 3.2583562271062267, 3.3482142857142865, 3.39514652014652], \"y0\": \" \", \"yaxis\": \"y\"}],\n",
       "                        {\"boxmode\": \"group\", \"legend\": {\"tracegroupgap\": 0}, \"template\": {\"data\": {\"bar\": [{\"error_x\": {\"color\": \"rgb(36,36,36)\"}, \"error_y\": {\"color\": \"rgb(36,36,36)\"}, \"marker\": {\"line\": {\"color\": \"white\", \"width\": 0.5}}, \"type\": \"bar\"}], \"barpolar\": [{\"marker\": {\"line\": {\"color\": \"white\", \"width\": 0.5}}, \"type\": \"barpolar\"}], \"carpet\": [{\"aaxis\": {\"endlinecolor\": \"rgb(36,36,36)\", \"gridcolor\": \"white\", \"linecolor\": \"white\", \"minorgridcolor\": \"white\", \"startlinecolor\": \"rgb(36,36,36)\"}, \"baxis\": {\"endlinecolor\": \"rgb(36,36,36)\", \"gridcolor\": \"white\", \"linecolor\": \"white\", \"minorgridcolor\": \"white\", \"startlinecolor\": \"rgb(36,36,36)\"}, \"type\": \"carpet\"}], \"choropleth\": [{\"colorbar\": {\"outlinewidth\": 1, \"tickcolor\": \"rgb(36,36,36)\", \"ticks\": \"outside\"}, \"type\": \"choropleth\"}], \"contour\": [{\"colorbar\": {\"outlinewidth\": 1, \"tickcolor\": \"rgb(36,36,36)\", \"ticks\": \"outside\"}, \"colorscale\": [[0.0, \"#440154\"], [0.1111111111111111, \"#482878\"], [0.2222222222222222, \"#3e4989\"], [0.3333333333333333, \"#31688e\"], [0.4444444444444444, \"#26828e\"], [0.5555555555555556, \"#1f9e89\"], [0.6666666666666666, \"#35b779\"], [0.7777777777777778, \"#6ece58\"], [0.8888888888888888, \"#b5de2b\"], [1.0, \"#fde725\"]], \"type\": \"contour\"}], \"contourcarpet\": [{\"colorbar\": {\"outlinewidth\": 1, \"tickcolor\": \"rgb(36,36,36)\", \"ticks\": \"outside\"}, \"type\": \"contourcarpet\"}], \"heatmap\": [{\"colorbar\": {\"outlinewidth\": 1, \"tickcolor\": \"rgb(36,36,36)\", \"ticks\": \"outside\"}, \"colorscale\": [[0.0, \"#440154\"], [0.1111111111111111, \"#482878\"], [0.2222222222222222, \"#3e4989\"], [0.3333333333333333, \"#31688e\"], [0.4444444444444444, \"#26828e\"], [0.5555555555555556, \"#1f9e89\"], [0.6666666666666666, \"#35b779\"], [0.7777777777777778, \"#6ece58\"], [0.8888888888888888, \"#b5de2b\"], [1.0, \"#fde725\"]], \"type\": \"heatmap\"}], \"heatmapgl\": [{\"colorbar\": {\"outlinewidth\": 1, \"tickcolor\": \"rgb(36,36,36)\", \"ticks\": \"outside\"}, \"colorscale\": [[0.0, \"#440154\"], [0.1111111111111111, \"#482878\"], [0.2222222222222222, \"#3e4989\"], [0.3333333333333333, \"#31688e\"], [0.4444444444444444, \"#26828e\"], [0.5555555555555556, \"#1f9e89\"], [0.6666666666666666, \"#35b779\"], [0.7777777777777778, \"#6ece58\"], [0.8888888888888888, \"#b5de2b\"], [1.0, \"#fde725\"]], \"type\": \"heatmapgl\"}], \"histogram\": [{\"marker\": {\"line\": {\"color\": \"white\", \"width\": 0.6}}, \"type\": \"histogram\"}], \"histogram2d\": [{\"colorbar\": {\"outlinewidth\": 1, \"tickcolor\": \"rgb(36,36,36)\", \"ticks\": \"outside\"}, \"colorscale\": [[0.0, \"#440154\"], [0.1111111111111111, \"#482878\"], [0.2222222222222222, \"#3e4989\"], [0.3333333333333333, \"#31688e\"], [0.4444444444444444, \"#26828e\"], [0.5555555555555556, \"#1f9e89\"], [0.6666666666666666, \"#35b779\"], [0.7777777777777778, \"#6ece58\"], [0.8888888888888888, \"#b5de2b\"], [1.0, \"#fde725\"]], \"type\": \"histogram2d\"}], \"histogram2dcontour\": [{\"colorbar\": {\"outlinewidth\": 1, \"tickcolor\": \"rgb(36,36,36)\", \"ticks\": \"outside\"}, \"colorscale\": [[0.0, \"#440154\"], [0.1111111111111111, \"#482878\"], [0.2222222222222222, \"#3e4989\"], [0.3333333333333333, \"#31688e\"], [0.4444444444444444, \"#26828e\"], [0.5555555555555556, \"#1f9e89\"], [0.6666666666666666, \"#35b779\"], [0.7777777777777778, \"#6ece58\"], [0.8888888888888888, \"#b5de2b\"], [1.0, \"#fde725\"]], \"type\": \"histogram2dcontour\"}], \"mesh3d\": [{\"colorbar\": {\"outlinewidth\": 1, \"tickcolor\": \"rgb(36,36,36)\", \"ticks\": \"outside\"}, \"type\": \"mesh3d\"}], \"parcoords\": [{\"line\": {\"colorbar\": {\"outlinewidth\": 1, \"tickcolor\": \"rgb(36,36,36)\", \"ticks\": \"outside\"}}, \"type\": \"parcoords\"}], \"pie\": [{\"automargin\": true, \"type\": \"pie\"}], \"scatter\": [{\"marker\": {\"colorbar\": {\"outlinewidth\": 1, \"tickcolor\": \"rgb(36,36,36)\", \"ticks\": \"outside\"}}, \"type\": \"scatter\"}], \"scatter3d\": [{\"line\": {\"colorbar\": {\"outlinewidth\": 1, \"tickcolor\": \"rgb(36,36,36)\", \"ticks\": \"outside\"}}, \"marker\": {\"colorbar\": {\"outlinewidth\": 1, \"tickcolor\": \"rgb(36,36,36)\", \"ticks\": \"outside\"}}, \"type\": \"scatter3d\"}], \"scattercarpet\": [{\"marker\": {\"colorbar\": {\"outlinewidth\": 1, \"tickcolor\": \"rgb(36,36,36)\", \"ticks\": \"outside\"}}, \"type\": \"scattercarpet\"}], \"scattergeo\": [{\"marker\": {\"colorbar\": {\"outlinewidth\": 1, \"tickcolor\": \"rgb(36,36,36)\", \"ticks\": \"outside\"}}, \"type\": \"scattergeo\"}], \"scattergl\": [{\"marker\": {\"colorbar\": {\"outlinewidth\": 1, \"tickcolor\": \"rgb(36,36,36)\", \"ticks\": \"outside\"}}, \"type\": \"scattergl\"}], \"scattermapbox\": [{\"marker\": {\"colorbar\": {\"outlinewidth\": 1, \"tickcolor\": \"rgb(36,36,36)\", \"ticks\": \"outside\"}}, \"type\": \"scattermapbox\"}], \"scatterpolar\": [{\"marker\": {\"colorbar\": {\"outlinewidth\": 1, \"tickcolor\": \"rgb(36,36,36)\", \"ticks\": \"outside\"}}, \"type\": \"scatterpolar\"}], \"scatterpolargl\": [{\"marker\": {\"colorbar\": {\"outlinewidth\": 1, \"tickcolor\": \"rgb(36,36,36)\", \"ticks\": \"outside\"}}, \"type\": \"scatterpolargl\"}], \"scatterternary\": [{\"marker\": {\"colorbar\": {\"outlinewidth\": 1, \"tickcolor\": \"rgb(36,36,36)\", \"ticks\": \"outside\"}}, \"type\": \"scatterternary\"}], \"surface\": [{\"colorbar\": {\"outlinewidth\": 1, \"tickcolor\": \"rgb(36,36,36)\", \"ticks\": \"outside\"}, \"colorscale\": [[0.0, \"#440154\"], [0.1111111111111111, \"#482878\"], [0.2222222222222222, \"#3e4989\"], [0.3333333333333333, \"#31688e\"], [0.4444444444444444, \"#26828e\"], [0.5555555555555556, \"#1f9e89\"], [0.6666666666666666, \"#35b779\"], [0.7777777777777778, \"#6ece58\"], [0.8888888888888888, \"#b5de2b\"], [1.0, \"#fde725\"]], \"type\": \"surface\"}], \"table\": [{\"cells\": {\"fill\": {\"color\": \"rgb(237,237,237)\"}, \"line\": {\"color\": \"white\"}}, \"header\": {\"fill\": {\"color\": \"rgb(217,217,217)\"}, \"line\": {\"color\": \"white\"}}, \"type\": \"table\"}]}, \"layout\": {\"annotationdefaults\": {\"arrowhead\": 0, \"arrowwidth\": 1}, \"coloraxis\": {\"colorbar\": {\"outlinewidth\": 1, \"tickcolor\": \"rgb(36,36,36)\", \"ticks\": \"outside\"}}, \"colorscale\": {\"diverging\": [[0.0, \"rgb(103,0,31)\"], [0.1, \"rgb(178,24,43)\"], [0.2, \"rgb(214,96,77)\"], [0.3, \"rgb(244,165,130)\"], [0.4, \"rgb(253,219,199)\"], [0.5, \"rgb(247,247,247)\"], [0.6, \"rgb(209,229,240)\"], [0.7, \"rgb(146,197,222)\"], [0.8, \"rgb(67,147,195)\"], [0.9, \"rgb(33,102,172)\"], [1.0, \"rgb(5,48,97)\"]], \"sequential\": [[0.0, \"#440154\"], [0.1111111111111111, \"#482878\"], [0.2222222222222222, \"#3e4989\"], [0.3333333333333333, \"#31688e\"], [0.4444444444444444, \"#26828e\"], [0.5555555555555556, \"#1f9e89\"], [0.6666666666666666, \"#35b779\"], [0.7777777777777778, \"#6ece58\"], [0.8888888888888888, \"#b5de2b\"], [1.0, \"#fde725\"]], \"sequentialminus\": [[0.0, \"#440154\"], [0.1111111111111111, \"#482878\"], [0.2222222222222222, \"#3e4989\"], [0.3333333333333333, \"#31688e\"], [0.4444444444444444, \"#26828e\"], [0.5555555555555556, \"#1f9e89\"], [0.6666666666666666, \"#35b779\"], [0.7777777777777778, \"#6ece58\"], [0.8888888888888888, \"#b5de2b\"], [1.0, \"#fde725\"]]}, \"colorway\": [\"#1F77B4\", \"#FF7F0E\", \"#2CA02C\", \"#D62728\", \"#9467BD\", \"#8C564B\", \"#E377C2\", \"#7F7F7F\", \"#BCBD22\", \"#17BECF\"], \"font\": {\"color\": \"rgb(36,36,36)\"}, \"geo\": {\"bgcolor\": \"white\", \"lakecolor\": \"white\", \"landcolor\": \"white\", \"showlakes\": true, \"showland\": true, \"subunitcolor\": \"white\"}, \"hoverlabel\": {\"align\": \"left\"}, \"hovermode\": \"closest\", \"mapbox\": {\"style\": \"light\"}, \"paper_bgcolor\": \"white\", \"plot_bgcolor\": \"white\", \"polar\": {\"angularaxis\": {\"gridcolor\": \"rgb(232,232,232)\", \"linecolor\": \"rgb(36,36,36)\", \"showgrid\": false, \"showline\": true, \"ticks\": \"outside\"}, \"bgcolor\": \"white\", \"radialaxis\": {\"gridcolor\": \"rgb(232,232,232)\", \"linecolor\": \"rgb(36,36,36)\", \"showgrid\": false, \"showline\": true, \"ticks\": \"outside\"}}, \"scene\": {\"xaxis\": {\"backgroundcolor\": \"white\", \"gridcolor\": \"rgb(232,232,232)\", \"gridwidth\": 2, \"linecolor\": \"rgb(36,36,36)\", \"showbackground\": true, \"showgrid\": false, \"showline\": true, \"ticks\": \"outside\", \"zeroline\": false, \"zerolinecolor\": \"rgb(36,36,36)\"}, \"yaxis\": {\"backgroundcolor\": \"white\", \"gridcolor\": \"rgb(232,232,232)\", \"gridwidth\": 2, \"linecolor\": \"rgb(36,36,36)\", \"showbackground\": true, \"showgrid\": false, \"showline\": true, \"ticks\": \"outside\", \"zeroline\": false, \"zerolinecolor\": \"rgb(36,36,36)\"}, \"zaxis\": {\"backgroundcolor\": \"white\", \"gridcolor\": \"rgb(232,232,232)\", \"gridwidth\": 2, \"linecolor\": \"rgb(36,36,36)\", \"showbackground\": true, \"showgrid\": false, \"showline\": true, \"ticks\": \"outside\", \"zeroline\": false, \"zerolinecolor\": \"rgb(36,36,36)\"}}, \"shapedefaults\": {\"fillcolor\": \"black\", \"line\": {\"width\": 0}, \"opacity\": 0.3}, \"ternary\": {\"aaxis\": {\"gridcolor\": \"rgb(232,232,232)\", \"linecolor\": \"rgb(36,36,36)\", \"showgrid\": false, \"showline\": true, \"ticks\": \"outside\"}, \"baxis\": {\"gridcolor\": \"rgb(232,232,232)\", \"linecolor\": \"rgb(36,36,36)\", \"showgrid\": false, \"showline\": true, \"ticks\": \"outside\"}, \"bgcolor\": \"white\", \"caxis\": {\"gridcolor\": \"rgb(232,232,232)\", \"linecolor\": \"rgb(36,36,36)\", \"showgrid\": false, \"showline\": true, \"ticks\": \"outside\"}}, \"title\": {\"x\": 0.05}, \"xaxis\": {\"automargin\": true, \"gridcolor\": \"rgb(232,232,232)\", \"linecolor\": \"rgb(36,36,36)\", \"showgrid\": false, \"showline\": true, \"ticks\": \"outside\", \"title\": {\"standoff\": 15}, \"zeroline\": false, \"zerolinecolor\": \"rgb(36,36,36)\"}, \"yaxis\": {\"automargin\": true, \"gridcolor\": \"rgb(232,232,232)\", \"linecolor\": \"rgb(36,36,36)\", \"showgrid\": false, \"showline\": true, \"ticks\": \"outside\", \"title\": {\"standoff\": 15}, \"zeroline\": false, \"zerolinecolor\": \"rgb(36,36,36)\"}}}, \"title\": {\"text\": \"HousePressure g-pump-5 for 1, 2, 51, 52 weeks \"}, \"xaxis\": {\"anchor\": \"y\", \"domain\": [0.0, 1.0], \"title\": {\"text\": \"week\"}, \"type\": \"category\"}, \"yaxis\": {\"anchor\": \"x\", \"domain\": [0.0, 1.0], \"title\": {\"text\": \"feature_value\"}}},\n",
       "                        {\"responsive\": true}\n",
       "                    ).then(function(){\n",
       "                            \n",
       "var gd = document.getElementById('377f918d-0cac-4040-8f06-489efa9e1a95');\n",
       "var x = new MutationObserver(function (mutations, observer) {{\n",
       "        var display = window.getComputedStyle(gd).display;\n",
       "        if (!display || display === 'none') {{\n",
       "            console.log([gd, 'removed!']);\n",
       "            Plotly.purge(gd);\n",
       "            observer.disconnect();\n",
       "        }}\n",
       "}});\n",
       "\n",
       "// Listen for the removal of the full notebook cells\n",
       "var notebookContainer = gd.closest('#notebook-container');\n",
       "if (notebookContainer) {{\n",
       "    x.observe(notebookContainer, {childList: true});\n",
       "}}\n",
       "\n",
       "// Listen for the clearing of the current output cell\n",
       "var outputEl = gd.closest('.output');\n",
       "if (outputEl) {{\n",
       "    x.observe(outputEl, {childList: true});\n",
       "}}\n",
       "\n",
       "                        })\n",
       "                };\n",
       "                });\n",
       "            </script>\n",
       "        </div>"
      ]
     },
     "metadata": {},
     "output_type": "display_data"
    }
   ],
   "source": [
    "%%skip $skip_baseline_save\n",
    "week_numbers = week_numbers_housePressure # Week numbers as List \n",
    "\n",
    "mu_housepressure, sigma_housepressure = get_baselining_variables_azure(df_data, variable_name = HOUSE_PRESSURE,\n",
    "                                                                       asset_id = asset_id,\n",
    "                                                                       lst_filter_values = week_numbers, \n",
    "                                                                       filter_column_name = \"week\",\n",
    "                                                                       select_column_name= 'feature_value',\n",
    "                                                                       filter_metric = \"AvgValue\")\n",
    "print(mu_housepressure, sigma_housepressure)\n",
    "\n",
    "show_baselining_plot_azure(df_data, duration = week_numbers, asset_name= asset_name, variable_name= HOUSE_PRESSURE, \n",
    "                           plot_type = \"box\")"
   ]
  },
  {
   "cell_type": "markdown",
   "metadata": {},
   "source": [
    "***"
   ]
  },
  {
   "cell_type": "code",
   "execution_count": 21,
   "metadata": {},
   "outputs": [
    {
     "data": {
      "text/html": [
       "<div>\n",
       "<style scoped>\n",
       "    .dataframe tbody tr th:only-of-type {\n",
       "        vertical-align: middle;\n",
       "    }\n",
       "\n",
       "    .dataframe tbody tr th {\n",
       "        vertical-align: top;\n",
       "    }\n",
       "\n",
       "    .dataframe thead th {\n",
       "        text-align: right;\n",
       "    }\n",
       "</style>\n",
       "<table border=\"1\" class=\"dataframe\">\n",
       "  <thead>\n",
       "    <tr style=\"text-align: right;\">\n",
       "      <th></th>\n",
       "      <th>asset_id</th>\n",
       "      <th>asset_name</th>\n",
       "      <th>sensor_type</th>\n",
       "      <th>measurement_type</th>\n",
       "      <th>feature_name</th>\n",
       "      <th>feature_value</th>\n",
       "      <th>feature_unit</th>\n",
       "      <th>sensor_info</th>\n",
       "      <th>datetime</th>\n",
       "      <th>d</th>\n",
       "      <th>dayofweek</th>\n",
       "      <th>year</th>\n",
       "      <th>month</th>\n",
       "      <th>hour</th>\n",
       "      <th>minute</th>\n",
       "      <th>second</th>\n",
       "      <th>week</th>\n",
       "    </tr>\n",
       "  </thead>\n",
       "  <tbody>\n",
       "    <tr>\n",
       "      <td>0</td>\n",
       "      <td>aid-g-pump-5</td>\n",
       "      <td>g-pump-5</td>\n",
       "      <td>pressure</td>\n",
       "      <td>housing</td>\n",
       "      <td>MinValue</td>\n",
       "      <td>2.517552</td>\n",
       "      <td>bar</td>\n",
       "      <td>HousePressure</td>\n",
       "      <td>2019-11-19 18:00:00</td>\n",
       "      <td>19</td>\n",
       "      <td>1</td>\n",
       "      <td>2019</td>\n",
       "      <td>11</td>\n",
       "      <td>18</td>\n",
       "      <td>0</td>\n",
       "      <td>0</td>\n",
       "      <td>47</td>\n",
       "    </tr>\n",
       "    <tr>\n",
       "      <td>1</td>\n",
       "      <td>aid-g-pump-5</td>\n",
       "      <td>g-pump-5</td>\n",
       "      <td>pressure</td>\n",
       "      <td>housing</td>\n",
       "      <td>MinValue</td>\n",
       "      <td>3.307387</td>\n",
       "      <td>bar</td>\n",
       "      <td>HousePressure</td>\n",
       "      <td>2019-11-20 08:00:00</td>\n",
       "      <td>20</td>\n",
       "      <td>2</td>\n",
       "      <td>2019</td>\n",
       "      <td>11</td>\n",
       "      <td>8</td>\n",
       "      <td>0</td>\n",
       "      <td>0</td>\n",
       "      <td>47</td>\n",
       "    </tr>\n",
       "    <tr>\n",
       "      <td>2</td>\n",
       "      <td>aid-g-pump-5</td>\n",
       "      <td>g-pump-5</td>\n",
       "      <td>pressure</td>\n",
       "      <td>housing</td>\n",
       "      <td>MinValue</td>\n",
       "      <td>2.525183</td>\n",
       "      <td>bar</td>\n",
       "      <td>HousePressure</td>\n",
       "      <td>2019-11-20 14:00:00</td>\n",
       "      <td>20</td>\n",
       "      <td>2</td>\n",
       "      <td>2019</td>\n",
       "      <td>11</td>\n",
       "      <td>14</td>\n",
       "      <td>0</td>\n",
       "      <td>0</td>\n",
       "      <td>47</td>\n",
       "    </tr>\n",
       "    <tr>\n",
       "      <td>3</td>\n",
       "      <td>aid-g-pump-5</td>\n",
       "      <td>g-pump-5</td>\n",
       "      <td>pressure</td>\n",
       "      <td>housing</td>\n",
       "      <td>MinValue</td>\n",
       "      <td>2.612943</td>\n",
       "      <td>bar</td>\n",
       "      <td>HousePressure</td>\n",
       "      <td>2019-11-20 15:00:00</td>\n",
       "      <td>20</td>\n",
       "      <td>2</td>\n",
       "      <td>2019</td>\n",
       "      <td>11</td>\n",
       "      <td>15</td>\n",
       "      <td>0</td>\n",
       "      <td>0</td>\n",
       "      <td>47</td>\n",
       "    </tr>\n",
       "    <tr>\n",
       "      <td>4</td>\n",
       "      <td>aid-g-pump-5</td>\n",
       "      <td>g-pump-5</td>\n",
       "      <td>pressure</td>\n",
       "      <td>housing</td>\n",
       "      <td>MinValue</td>\n",
       "      <td>2.727411</td>\n",
       "      <td>bar</td>\n",
       "      <td>HousePressure</td>\n",
       "      <td>2019-11-20 16:00:00</td>\n",
       "      <td>20</td>\n",
       "      <td>2</td>\n",
       "      <td>2019</td>\n",
       "      <td>11</td>\n",
       "      <td>16</td>\n",
       "      <td>0</td>\n",
       "      <td>0</td>\n",
       "      <td>47</td>\n",
       "    </tr>\n",
       "  </tbody>\n",
       "</table>\n",
       "</div>"
      ],
      "text/plain": [
       "       asset_id asset_name sensor_type measurement_type feature_name  \\\n",
       "0  aid-g-pump-5   g-pump-5    pressure          housing     MinValue   \n",
       "1  aid-g-pump-5   g-pump-5    pressure          housing     MinValue   \n",
       "2  aid-g-pump-5   g-pump-5    pressure          housing     MinValue   \n",
       "3  aid-g-pump-5   g-pump-5    pressure          housing     MinValue   \n",
       "4  aid-g-pump-5   g-pump-5    pressure          housing     MinValue   \n",
       "\n",
       "   feature_value feature_unit    sensor_info            datetime   d  \\\n",
       "0       2.517552          bar  HousePressure 2019-11-19 18:00:00  19   \n",
       "1       3.307387          bar  HousePressure 2019-11-20 08:00:00  20   \n",
       "2       2.525183          bar  HousePressure 2019-11-20 14:00:00  20   \n",
       "3       2.612943          bar  HousePressure 2019-11-20 15:00:00  20   \n",
       "4       2.727411          bar  HousePressure 2019-11-20 16:00:00  20   \n",
       "\n",
       "   dayofweek  year  month  hour  minute  second  week  \n",
       "0          1  2019     11    18       0       0    47  \n",
       "1          2  2019     11     8       0       0    47  \n",
       "2          2  2019     11    14       0       0    47  \n",
       "3          2  2019     11    15       0       0    47  \n",
       "4          2  2019     11    16       0       0    47  "
      ]
     },
     "execution_count": 21,
     "metadata": {},
     "output_type": "execute_result"
    }
   ],
   "source": [
    "df_data.head()"
   ]
  },
  {
   "cell_type": "code",
   "execution_count": 22,
   "metadata": {},
   "outputs": [
    {
     "data": {
      "text/plain": [
       "array(['MinValue', 'AvgValue', 'MaxValue'], dtype=object)"
      ]
     },
     "execution_count": 22,
     "metadata": {},
     "output_type": "execute_result"
    }
   ],
   "source": [
    "df_data.feature_name.unique()"
   ]
  },
  {
   "cell_type": "code",
   "execution_count": 23,
   "metadata": {},
   "outputs": [],
   "source": [
    "%%skip $skip_baseline_save\n",
    "\n",
    "row_housepressure_mean = get_row_dict_baseline(asset_id = asset_id,\n",
    "                                               asset_name = asset_name,\n",
    "                                               sensor_type = sensor_type,\n",
    "                                               measurement_type = measurement_type_housing,\n",
    "                                               feature_name = 'AvgValue',\n",
    "                                               metric_name = 'mean',\n",
    "                                               metric_value = mu_housepressure,\n",
    "                                               feature_unit = \"bar\",\n",
    "                                               sensor_info = HOUSE_PRESSURE,\n",
    "                                               notes = None)\n",
    "\n",
    "\n",
    "row_outletpressure_mean = get_row_dict_baseline(asset_id = asset_id,\n",
    "                                                asset_name = asset_name,\n",
    "                                                sensor_type = sensor_type,\n",
    "                                                measurement_type = measurement_type_outlet,\n",
    "                                                feature_name = 'AvgValue',\n",
    "                                                metric_name = 'mean',\n",
    "                                                metric_value = mu_outletpressure,\n",
    "                                                feature_unit = \"bar\",\n",
    "                                                sensor_info = OUTLET_PRESSURE,\n",
    "                                                notes = None)\n",
    "\n",
    "row_inletpressure_mean = get_row_dict_baseline(asset_id = asset_id,\n",
    "                                                asset_name = asset_name,\n",
    "                                                sensor_type = sensor_type,\n",
    "                                                measurement_type = measurement_type_outlet,\n",
    "                                                feature_name = 'AvgValue',\n",
    "                                                metric_name = 'mean',\n",
    "                                                metric_value = mu_inletpressure,\n",
    "                                                feature_unit = \"bar\",\n",
    "                                                sensor_info = INLET_PRESSURE,\n",
    "                                                notes = None)"
   ]
  },
  {
   "cell_type": "code",
   "execution_count": 24,
   "metadata": {},
   "outputs": [],
   "source": [
    "%%skip $skip_baseline_save\n",
    "\n",
    "row_housepressure_sigma = get_row_dict_baseline(asset_id = asset_id,\n",
    "                                               asset_name = asset_name,\n",
    "                                               sensor_type = sensor_type,\n",
    "                                               measurement_type = measurement_type_housing,\n",
    "                                               feature_name = 'AvgValue',\n",
    "                                               metric_name = 'sd',\n",
    "                                               metric_value = sigma_housepressure,\n",
    "                                               feature_unit = \"bar\",\n",
    "                                               sensor_info = HOUSE_PRESSURE,\n",
    "                                               notes = None)\n",
    "\n",
    "\n",
    "row_outletpressure_sigma = get_row_dict_baseline(asset_id = asset_id,\n",
    "                                                asset_name = asset_name,\n",
    "                                                sensor_type = sensor_type,\n",
    "                                                measurement_type = measurement_type_outlet,\n",
    "                                                feature_name = 'AvgValue',\n",
    "                                                metric_name = 'sd',\n",
    "                                                metric_value = sigma_outletpressure,\n",
    "                                                feature_unit = \"bar\",\n",
    "                                                sensor_info = OUTLET_PRESSURE,\n",
    "                                                notes = None)\n",
    "\n",
    "row_inletpressure_sigma = get_row_dict_baseline(asset_id = asset_id,\n",
    "                                                asset_name = asset_name,\n",
    "                                                sensor_type = sensor_type,\n",
    "                                                measurement_type = measurement_type_outlet,\n",
    "                                                feature_name = 'AvgValue',\n",
    "                                                metric_name = 'sd',\n",
    "                                                metric_value = sigma_inletpressure,\n",
    "                                                feature_unit = \"bar\",\n",
    "                                                sensor_info = INLET_PRESSURE,\n",
    "                                                notes = None)"
   ]
  },
  {
   "cell_type": "code",
   "execution_count": 25,
   "metadata": {},
   "outputs": [
    {
     "name": "stdout",
     "output_type": "stream",
     "text": [
      "{'asset_id': 'aid-g-pump-5', 'asset_name': 'g-pump-5', 'sensor_type': 'pressure', 'measurement_type': 'outlet', 'feature_name': 'AvgValue', 'metric_name': 'sd', 'metric_value': 0.34913708239349417, 'feature_unit': 'bar', 'sensor_info': 'OutletPressure', 'baseline_datetime': '2020-03-18 16:32:45', 'baseline_validity_month': 3, 'notes': None}\n"
     ]
    }
   ],
   "source": [
    "%%skip $skip_baseline_save\n",
    "print(row_outletpressure_sigma)"
   ]
  },
  {
   "cell_type": "code",
   "execution_count": 26,
   "metadata": {},
   "outputs": [],
   "source": [
    "%%skip $skip_baseline_save\n",
    "df_baseline = pd.DataFrame(columns=['asset_id','asset_name','sensor_type', 'measurement_type', 'feature_name', 'metric_name',\n",
    "                                    'metric_value', 'feature_unit', 'sensor_info', 'baseline_datetime', \n",
    "                                    'baseline_validity_month', 'notes'])\n",
    "df_baseline = df_baseline.append(row_housepressure_mean, ignore_index=True)\n",
    "df_baseline = df_baseline.append(row_housepressure_sigma, ignore_index=True)\n",
    "df_baseline = df_baseline.append(row_outletpressure_mean, ignore_index=True)\n",
    "df_baseline = df_baseline.append(row_outletpressure_sigma, ignore_index=True)\n",
    "df_baseline = df_baseline.append(row_inletpressure_mean, ignore_index=True)\n",
    "df_baseline = df_baseline.append(row_inletpressure_sigma, ignore_index=True)\n",
    "#df_baseline['uuid'] = [uuid.uuid4() for _ in range(len(df_baseline.index))]\n",
    "#df_baseline.drop(['asset_name'], axis=1, inplace=True)\n",
    "df_baseline.to_csv(baseline_data_filename, index = False)"
   ]
  },
  {
   "cell_type": "code",
   "execution_count": 27,
   "metadata": {},
   "outputs": [
    {
     "name": "stdout",
     "output_type": "stream",
     "text": [
      "       asset_id asset_name sensor_type measurement_type feature_name  \\\n",
      "0  aid-g-pump-5   g-pump-5    pressure          housing     AvgValue   \n",
      "1  aid-g-pump-5   g-pump-5    pressure          housing     AvgValue   \n",
      "2  aid-g-pump-5   g-pump-5    pressure           outlet     AvgValue   \n",
      "3  aid-g-pump-5   g-pump-5    pressure           outlet     AvgValue   \n",
      "4  aid-g-pump-5   g-pump-5    pressure           outlet     AvgValue   \n",
      "5  aid-g-pump-5   g-pump-5    pressure           outlet     AvgValue   \n",
      "\n",
      "  metric_name  metric_value feature_unit     sensor_info    baseline_datetime  \\\n",
      "0        mean      3.361746          bar   HousePressure  2020-03-18 16:32:45   \n",
      "1          sd      0.053947          bar   HousePressure  2020-03-18 16:32:45   \n",
      "2        mean     57.225979          bar  OutletPressure  2020-03-18 16:32:45   \n",
      "3          sd      0.349137          bar  OutletPressure  2020-03-18 16:32:45   \n",
      "4        mean      2.929978          bar   InletPressure  2020-03-18 16:32:45   \n",
      "5          sd      0.040296          bar   InletPressure  2020-03-18 16:32:45   \n",
      "\n",
      "  baseline_validity_month notes  \n",
      "0                       3  None  \n",
      "1                       3  None  \n",
      "2                       3  None  \n",
      "3                       3  None  \n",
      "4                       3  None  \n",
      "5                       3  None  \n"
     ]
    }
   ],
   "source": [
    "%%skip $skip_baseline_save\n",
    "df_baseline.dropna(subset=['metric_value'], inplace=True)\n",
    "print(df_baseline.head(10))"
   ]
  },
  {
   "cell_type": "markdown",
   "metadata": {},
   "source": [
    "*** "
   ]
  },
  {
   "cell_type": "markdown",
   "metadata": {},
   "source": [
    "## Convert DataFrame to Json and Push to Azure API"
   ]
  },
  {
   "cell_type": "code",
   "execution_count": null,
   "metadata": {},
   "outputs": [],
   "source": [
    "# json_object = convert_baseline_data_to_json(df_baseline)\n",
    "# json_object"
   ]
  },
  {
   "cell_type": "code",
   "execution_count": null,
   "metadata": {},
   "outputs": [],
   "source": [
    "%%skip $skip_baseline_save\n",
    "\n",
    "json_object = convert_baseline_data_to_json(df_baseline)\n",
    "status_code, reason = save_to_api(json_object, dict_api['baseline_data_api'])\n",
    "print(status_code, reason)"
   ]
  },
  {
   "cell_type": "markdown",
   "metadata": {},
   "source": [
    "***"
   ]
  }
 ],
 "metadata": {
  "kernelspec": {
   "display_name": "Python 3",
   "language": "python",
   "name": "python3"
  },
  "language_info": {
   "codemirror_mode": {
    "name": "ipython",
    "version": 3
   },
   "file_extension": ".py",
   "mimetype": "text/x-python",
   "name": "python",
   "nbconvert_exporter": "python",
   "pygments_lexer": "ipython3",
   "version": "3.7.4"
  }
 },
 "nbformat": 4,
 "nbformat_minor": 2
}
